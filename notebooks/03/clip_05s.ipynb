{
 "cells": [
  {
   "outputs": [],
   "cell_type": "markdown",
   "source": [
    "Load Julia packages (libraries) needed"
   ],
   "metadata": {}
  },
  {
   "outputs": [],
   "cell_type": "code",
   "source": [
    "using StatisticalRethinking\n",
    "gr(size=(500,800))"
   ],
   "metadata": {},
   "execution_count": null
  },
  {
   "outputs": [],
   "cell_type": "markdown",
   "source": [
    "CmdStan uses a tmp directory to store the output of cmdstan"
   ],
   "metadata": {}
  },
  {
   "outputs": [],
   "cell_type": "code",
   "source": [
    "ProjDir = @__DIR__\n",
    "cd(ProjDir) do\n",
    "# Define the Stan language model\n",
    "  binomialstanmodel = \"\n",
    "  // Inferring a Rate\n",
    "  data {\n",
    "    int N;\n",
    "    int<lower=0> k[N];\n",
    "    int<lower=1> n[N];\n",
    "  }\n",
    "  parameters {\n",
    "    real<lower=0,upper=1> theta;\n",
    "    real<lower=0,upper=1> thetaprior;\n",
    "  }\n",
    "  model {\n",
    "    // Prior Distribution for Rate Theta\n",
    "    theta ~ beta(1, 1);\n",
    "    thetaprior ~ beta(1, 1);\n",
    "\n",
    "    // Observed Counts\n",
    "    k ~ binomial(n, theta);\n",
    "  }\n",
    "  \"\n",
    "# Make variables visible outisde the do loop\n",
    "  global stanmodel, chn\n",
    "# Define the Stanmodel and set the output format to :mcmcchain.\n",
    "  stanmodel = Stanmodel(name=\"binomial\", monitors = [\"theta\"], model=binomialstanmodel,\n",
    "    output_format=:mcmcchain)\n",
    "# Use 16 observations\n",
    "    N2 = 4^2\n",
    "    d = Binomial(9, 0.66)\n",
    "    n2 = Int.(9 * ones(Int, N2))\n",
    "    k2 = rand(d, N2)\n",
    "# Input data for cmdstan\n",
    "    binomialdata = [\n",
    "      Dict(\"N\" => length(n2), \"n\" => n2, \"k\" => k2)\n",
    "    ]\n",
    "# Sample using cmdstan\n",
    "    rc, chn, cnames = stan(stanmodel, binomialdata, ProjDir, diagnostics=false,\n",
    "      CmdStanDir=CMDSTAN_HOME)\n",
    "# Describe the draws\n",
    "    describe(chn)\n",
    "# Plot the 4 chains\n",
    "    if rc == 0\n",
    "      plot(chn)\n",
    "    end\n",
    "\n",
    "end # cd"
   ],
   "metadata": {},
   "execution_count": null
  },
  {
   "outputs": [],
   "cell_type": "markdown",
   "source": [
    "*This notebook was generated using [Literate.jl](https://github.com/fredrikekre/Literate.jl).*"
   ],
   "metadata": {}
  }
 ],
 "nbformat_minor": 3,
 "metadata": {
  "language_info": {
   "file_extension": ".jl",
   "mimetype": "application/julia",
   "name": "julia",
   "version": "1.0.2"
  },
  "kernelspec": {
   "name": "julia-1.0",
   "display_name": "Julia 1.0.2",
   "language": "julia"
  }
 },
 "nbformat": 4
}
