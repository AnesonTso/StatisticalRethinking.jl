{
 "cells": [
  {
   "outputs": [],
   "cell_type": "markdown",
   "source": [
    "Load Julia packages (libraries) needed  for the snippets in chapter 0"
   ],
   "metadata": {}
  },
  {
   "outputs": [],
   "cell_type": "code",
   "source": [
    "using StatisticalRethinking\n",
    "gr(size=(600,300));"
   ],
   "metadata": {},
   "execution_count": null
  },
  {
   "outputs": [],
   "cell_type": "markdown",
   "source": [
    "### snippet 4.1"
   ],
   "metadata": {}
  },
  {
   "outputs": [],
   "cell_type": "markdown",
   "source": [
    "No attempt has been made to condense this too fewer lines of code"
   ],
   "metadata": {}
  },
  {
   "outputs": [],
   "cell_type": "code",
   "source": [
    "noofsteps = 20;\n",
    "noofwalks = 15;\n",
    "pos = Array{Float64, 2}(rand(Uniform(-1, 1), noofsteps, noofwalks));\n",
    "pos[1, :] = zeros(noofwalks);\n",
    "csum = cumsum(pos, dims=1);\n",
    "\n",
    "f = Plots.font(\"DejaVu Sans\", 6)\n",
    "mx = minimum(csum) * 0.9"
   ],
   "metadata": {},
   "execution_count": null
  },
  {
   "outputs": [],
   "cell_type": "markdown",
   "source": [
    "Plot and annotate the random walks"
   ],
   "metadata": {}
  },
  {
   "outputs": [],
   "cell_type": "code",
   "source": [
    "p1 = plot(csum, leg=false, title=\"Random walks ($(noofwalks))\")\n",
    "plot!(p1, csum[:, Int(floor(noofwalks/2))], leg=false, title=\"Random walks ($(noofwalks))\", color=:black)\n",
    "plot!(p1, [5], seriestype=\"vline\")\n",
    "annotate!(5, mx, text(\"step 4\", f, :left))\n",
    "plot!(p1, [9], seriestype=\"vline\")\n",
    "annotate!(9, mx, text(\"step 8\", f, :left))\n",
    "plot!(p1, [17], seriestype=\"vline\")\n",
    "annotate!(17, mx, text(\"step 16\", f, :left))"
   ],
   "metadata": {},
   "execution_count": null
  },
  {
   "outputs": [],
   "cell_type": "markdown",
   "source": [
    "Generate 3 plots of densities at 3 different step numbers (4, 8 and 16)"
   ],
   "metadata": {}
  },
  {
   "outputs": [],
   "cell_type": "code",
   "source": [
    "p2 = Vector{Plots.Plot{Plots.GRBackend}}(undef, 3);\n",
    "plt = 1\n",
    "for step in [4, 8, 16]\n",
    "  indx = step + 1 # We aadded the first line of zeros\n",
    "  global plt\n",
    "  fit = fit_mle(Normal, csum[indx, :])\n",
    "  x = (fit.μ-4*fit.σ):0.01:(fit.μ+4*fit.σ)\n",
    "  p2[plt] = density(csum[indx, :], legend=false, title=\"$(step) steps\")\n",
    "  plot!( p2[plt], x, pdf.(Normal( fit.μ , fit.σ ) , x ), fill=(0, .5,:orange))\n",
    "  plt += 1\n",
    "end\n",
    "p3 = plot(p2..., layout=(1, 3))\n",
    "\n",
    "plot(p1, p3, layout=(2,1))"
   ],
   "metadata": {},
   "execution_count": null
  },
  {
   "outputs": [],
   "cell_type": "markdown",
   "source": [
    "### snippet 4.2"
   ],
   "metadata": {}
  },
  {
   "outputs": [],
   "cell_type": "code",
   "source": [
    "prod(1 .+ rand(Uniform(0, 0.1), 10))"
   ],
   "metadata": {},
   "execution_count": null
  },
  {
   "outputs": [],
   "cell_type": "markdown",
   "source": [
    "### snippet 4.3"
   ],
   "metadata": {}
  },
  {
   "outputs": [],
   "cell_type": "code",
   "source": [
    "growth = [prod(1 .+ rand(Uniform(0, 0.1), 10)) for i in 1:10000];\n",
    "fit = fit_mle(Normal, growth)\n",
    "plot(Normal(fit.μ , fit.σ ), fill=(0, .5,:orange), lab=\"Normal distribution\")\n",
    "density!(growth, lab=\"'sample' distribution\")"
   ],
   "metadata": {},
   "execution_count": null
  },
  {
   "outputs": [],
   "cell_type": "markdown",
   "source": [
    "### snippet 4.4"
   ],
   "metadata": {}
  },
  {
   "outputs": [],
   "cell_type": "code",
   "source": [
    "big = [prod(1 .+ rand(Uniform(0, 0.5), 12)) for i in 1:10000];\n",
    "small = [prod(1 .+ rand(Uniform(0, 0.01), 12)) for i in 1:10000];\n",
    "fitb = fit_mle(Normal, big)\n",
    "fits = fit_mle(Normal, small)\n",
    "p1 = plot(Normal(fitb.μ , fitb.σ ), lab=\"Big normal distribution\", fill=(0, .5,:orange))\n",
    "p2 = plot(Normal(fits.μ , fits.σ ), lab=\"Small normal distribution\", fill=(0, .5,:orange))\n",
    "density!(p1, big, lab=\"'big' distribution\")\n",
    "density!(p2, small, lab=\"'small' distribution\")\n",
    "plot(p1, p2, layout=(1, 2))"
   ],
   "metadata": {},
   "execution_count": null
  },
  {
   "outputs": [],
   "cell_type": "markdown",
   "source": [
    "### snippet 4.5"
   ],
   "metadata": {}
  },
  {
   "outputs": [],
   "cell_type": "code",
   "source": [
    "log_big = [log(prod(1 .+ rand(Uniform(0, 0.5), 12))) for i in 1:10000];\n",
    "fit = fit_mle(Normal, log_big)\n",
    "plot(Normal(fit.μ , fit.σ ), fill=(0, .5,:orange), lab=\"Normal distribution\")\n",
    "density!(log_big, lab=\"'sample' distribution\")"
   ],
   "metadata": {},
   "execution_count": null
  },
  {
   "outputs": [],
   "cell_type": "markdown",
   "source": [
    "### snippet 4.6"
   ],
   "metadata": {}
  },
  {
   "outputs": [],
   "cell_type": "markdown",
   "source": [
    "Grid of 1001 steps"
   ],
   "metadata": {}
  },
  {
   "outputs": [],
   "cell_type": "code",
   "source": [
    "p_grid = range(0, step=0.001, stop=1);"
   ],
   "metadata": {},
   "execution_count": null
  },
  {
   "outputs": [],
   "cell_type": "markdown",
   "source": [
    "all priors = 1.0"
   ],
   "metadata": {}
  },
  {
   "outputs": [],
   "cell_type": "code",
   "source": [
    "prior = ones(length(p_grid));"
   ],
   "metadata": {},
   "execution_count": null
  },
  {
   "outputs": [],
   "cell_type": "markdown",
   "source": [
    "Binomial pdf"
   ],
   "metadata": {}
  },
  {
   "outputs": [],
   "cell_type": "code",
   "source": [
    "likelihood = [pdf(Binomial(9, p), 6) for p in p_grid];"
   ],
   "metadata": {},
   "execution_count": null
  },
  {
   "outputs": [],
   "cell_type": "markdown",
   "source": [
    "As Uniform priar has been used, unstandardized posterior is equal to likelihood"
   ],
   "metadata": {}
  },
  {
   "outputs": [],
   "cell_type": "code",
   "source": [
    "posterior = likelihood .* prior;"
   ],
   "metadata": {},
   "execution_count": null
  },
  {
   "outputs": [],
   "cell_type": "markdown",
   "source": [
    "Scale posterior such that they become probabilities"
   ],
   "metadata": {}
  },
  {
   "outputs": [],
   "cell_type": "code",
   "source": [
    "posterior = posterior / sum(posterior);"
   ],
   "metadata": {},
   "execution_count": null
  },
  {
   "outputs": [],
   "cell_type": "markdown",
   "source": [
    "Sample using the computed posterior values as weights\n",
    "In this example we keep the number of samples equal to the length of p_grid,\n",
    "but that is not required."
   ],
   "metadata": {}
  },
  {
   "outputs": [],
   "cell_type": "code",
   "source": [
    "samples = sample(p_grid, Weights(posterior), length(p_grid));\n",
    "p = Vector{Plots.Plot{Plots.GRBackend}}(undef, 2)\n",
    "p[1] = scatter(1:length(p_grid), samples, markersize = 2, ylim=(0.0, 1.3), lab=\"Draws\")"
   ],
   "metadata": {},
   "execution_count": null
  },
  {
   "outputs": [],
   "cell_type": "markdown",
   "source": [
    "analytical calculation"
   ],
   "metadata": {}
  },
  {
   "outputs": [],
   "cell_type": "code",
   "source": [
    "w = 6\n",
    "n = 9\n",
    "x = 0:0.01:1\n",
    "p[2] = density(samples, ylim=(0.0, 5.0), lab=\"Sample density\")\n",
    "p[2] = plot!( x, pdf.(Beta( w+1 , n-w+1 ) , x ), lab=\"Conjugate solution\")"
   ],
   "metadata": {},
   "execution_count": null
  },
  {
   "outputs": [],
   "cell_type": "markdown",
   "source": [
    "quadratic approximation"
   ],
   "metadata": {}
  },
  {
   "outputs": [],
   "cell_type": "code",
   "source": [
    "plot!( p[2], x, pdf.(Normal( 0.67 , 0.16 ) , x ), lab=\"Normal approximation\", fill=(0, .5,:orange))\n",
    "plot(p..., layout=(1, 2))"
   ],
   "metadata": {},
   "execution_count": null
  },
  {
   "outputs": [],
   "cell_type": "markdown",
   "source": [
    "End of `clip_01_06.jl`"
   ],
   "metadata": {}
  },
  {
   "outputs": [],
   "cell_type": "markdown",
   "source": [
    "*This notebook was generated using [Literate.jl](https://github.com/fredrikekre/Literate.jl).*"
   ],
   "metadata": {}
  }
 ],
 "nbformat_minor": 3,
 "metadata": {
  "language_info": {
   "file_extension": ".jl",
   "mimetype": "application/julia",
   "name": "julia",
   "version": "1.1.0-DEV.840"
  },
  "kernelspec": {
   "name": "julia-1.1",
   "display_name": "Julia 1.1.0-DEV.840",
   "language": "julia"
  }
 },
 "nbformat": 4
}
