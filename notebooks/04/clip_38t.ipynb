{
 "cells": [
  {
   "outputs": [],
   "cell_type": "code",
   "source": [
    "using StatisticalRethinking\n",
    "gr(size=(300,300))\n",
    "\n",
    "Turing.setadbackend(:reverse_diff)\n",
    "\n",
    "ProjDir = rel_path(\"..\", \"chapters\", \"04\")\n",
    "cd(ProjDir)"
   ],
   "metadata": {},
   "execution_count": null
  },
  {
   "outputs": [],
   "cell_type": "markdown",
   "source": [
    "### snippet 4.38"
   ],
   "metadata": {}
  },
  {
   "outputs": [],
   "cell_type": "code",
   "source": [
    "howell1 = CSV.read(rel_path(\"..\", \"data\", \"Howell1.csv\"), delim=';')\n",
    "df = convert(DataFrame, howell1);"
   ],
   "metadata": {},
   "execution_count": null
  },
  {
   "outputs": [],
   "cell_type": "markdown",
   "source": [
    "Use only adults"
   ],
   "metadata": {}
  },
  {
   "outputs": [],
   "cell_type": "code",
   "source": [
    "df2 = filter(row -> row[:age] >= 18, df);\n",
    "y = df2[:height];\n",
    "x = df2[:weight];"
   ],
   "metadata": {},
   "execution_count": null
  },
  {
   "outputs": [],
   "cell_type": "markdown",
   "source": [
    "Define the regression model"
   ],
   "metadata": {}
  },
  {
   "outputs": [],
   "cell_type": "code",
   "source": [
    "@model line(y, x) = begin\n",
    "    #priors\n",
    "    alpha ~ Normal(178.0, 100.0)\n",
    "    beta ~ Normal(0.0, 10.0)\n",
    "    s ~ Uniform(0, 50)\n",
    "\n",
    "    #model\n",
    "    mu = alpha .+ beta*x\n",
    "    for i in 1:length(y)\n",
    "      y[i] ~ Normal(mu[i], s)\n",
    "    end\n",
    "end;"
   ],
   "metadata": {},
   "execution_count": null
  },
  {
   "outputs": [],
   "cell_type": "markdown",
   "source": [
    "Draw the samples"
   ],
   "metadata": {}
  },
  {
   "outputs": [],
   "cell_type": "code",
   "source": [
    "chn = sample(line(y, x), Turing.NUTS(1000, 0.65));"
   ],
   "metadata": {},
   "execution_count": null
  },
  {
   "outputs": [],
   "cell_type": "markdown",
   "source": [
    "Describe the chain result"
   ],
   "metadata": {}
  },
  {
   "outputs": [],
   "cell_type": "code",
   "source": [
    "describe(chn)"
   ],
   "metadata": {},
   "execution_count": null
  },
  {
   "outputs": [],
   "cell_type": "markdown",
   "source": [
    "Compare with a previous result"
   ],
   "metadata": {}
  },
  {
   "outputs": [],
   "cell_type": "code",
   "source": [
    "clip_38s_example_output = \"\n",
    "\n",
    "Samples were drawn using hmc with nuts.\n",
    "For each parameter, N_Eff is a crude measure of effective sample size,\n",
    "and R_hat is the potential scale reduction factor on split chains (at\n",
    "convergence, R_hat=1).\n",
    "\n",
    "Iterations = 1:1000\n",
    "Thinning interval = 1\n",
    "Chains = 1,2,3,4\n",
    "Samples per chain = 1000\n",
    "\n",
    "Empirical Posterior Estimates:\n",
    "          Mean         SD       Naive SE       MCSE     ESS\n",
    "alpha 113.82267275 1.89871177 0.0300212691 0.053895503 1000\n",
    " beta   0.90629952 0.04155225 0.0006569987 0.001184630 1000\n",
    "sigma   5.10334279 0.19755211 0.0031235731 0.004830464 1000\n",
    "\n",
    "Quantiles:\n",
    "          2.5%       25.0%       50.0%       75.0%       97.5%\n",
    "alpha 110.1927000 112.4910000 113.7905000 115.1322500 117.5689750\n",
    " beta   0.8257932   0.8775302   0.9069425   0.9357115   0.9862574\n",
    "sigma   4.7308260   4.9644050   5.0958800   5.2331875   5.5133417\n",
    "\n",
    "\";"
   ],
   "metadata": {},
   "execution_count": null
  },
  {
   "outputs": [],
   "cell_type": "markdown",
   "source": [
    "Turing is currently returning (incorrect)"
   ],
   "metadata": {}
  },
  {
   "outputs": [],
   "cell_type": "code",
   "source": [
    "clip_38t_example_output = \"\n",
    "\n",
    "Iterations = 1:1000\n",
    "Thinning interval = 1\n",
    "Chains = 1\n",
    "Samples per chain = 1000\n",
    "\n",
    "Empirical Posterior Estimates:\n",
    "               Mean              SD            Naive SE         MCSE          ESS\n",
    "   alpha    74.363569906    3.37453074×10¹   1.06712031742  11.1507976352    9.158301\n",
    "    beta     1.754367972  7.319759414×10⁻¹   0.02314711167   0.2358332318    9.633489\n",
    "  lf_num     0.013000000  4.110960958×10⁻¹   0.01300000000   0.0130000000 1000.000000\n",
    "       s    20.852963164    2.79693784×10²   8.84469404557  13.3848300322  436.656478\n",
    " elapsed     0.362446980  3.809130792×10⁻¹   0.01204552921   0.0373272039  104.135990\n",
    " epsilon     0.016109714 1.7512979575×10⁻²   0.00055380904   0.0023304432   56.473283\n",
    "      lp -1798.287815276    1.09496867×10⁴ 346.25949595383 598.8111824483  334.367133\n",
    "eval_num    71.005000000    7.23590133×10¹   2.28819291184   6.6659811731  117.830333\n",
    "  lf_eps     0.016109714 1.7512979575×10⁻²   0.00055380904   0.0023304432   56.473283\n",
    "\n",
    "\";"
   ],
   "metadata": {},
   "execution_count": null
  },
  {
   "outputs": [],
   "cell_type": "markdown",
   "source": [
    "Plot the regerssion line and observations"
   ],
   "metadata": {}
  },
  {
   "outputs": [],
   "cell_type": "code",
   "source": [
    "xi = 30.0:0.1:70.0\n",
    "yi = mean(chn[:alpha]) .+ mean(chn[:beta])*xi\n",
    "\n",
    "scatter(x, y, lab=\"Observations\")\n",
    "plot!(xi, yi, lab=\"Regression line\")"
   ],
   "metadata": {},
   "execution_count": null
  },
  {
   "outputs": [],
   "cell_type": "markdown",
   "source": [
    "End of `clip_38t.jl`"
   ],
   "metadata": {}
  },
  {
   "outputs": [],
   "cell_type": "markdown",
   "source": [
    "*This notebook was generated using [Literate.jl](https://github.com/fredrikekre/Literate.jl).*"
   ],
   "metadata": {}
  }
 ],
 "nbformat_minor": 3,
 "metadata": {
  "language_info": {
   "file_extension": ".jl",
   "mimetype": "application/julia",
   "name": "julia",
   "version": "1.1.0-DEV.840"
  },
  "kernelspec": {
   "name": "julia-1.1",
   "display_name": "Julia 1.1.0-DEV.840",
   "language": "julia"
  }
 },
 "nbformat": 4
}
