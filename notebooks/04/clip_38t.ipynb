{
 "cells": [
  {
   "outputs": [],
   "cell_type": "code",
   "source": [
    "using StatisticalRethinking\n",
    "gr(size=(300,300))\n",
    "\n",
    "Turing.setadbackend(:reverse_diff)\n",
    "\n",
    "ProjDir = @__DIR__\n",
    "cd(ProjDir)"
   ],
   "metadata": {},
   "execution_count": null
  },
  {
   "outputs": [],
   "cell_type": "markdown",
   "source": [
    "### snippet 4.38"
   ],
   "metadata": {}
  },
  {
   "outputs": [],
   "cell_type": "code",
   "source": [
    "howell1 = CSV.read(joinpath(dirname(Base.pathof(StatisticalRethinking)), \"..\", \"data\", \"Howell1.csv\"), delim=';')\n",
    "df = convert(DataFrame, howell1);"
   ],
   "metadata": {},
   "execution_count": null
  },
  {
   "outputs": [],
   "cell_type": "markdown",
   "source": [
    "Use only adults"
   ],
   "metadata": {}
  },
  {
   "outputs": [],
   "cell_type": "code",
   "source": [
    "df2 = filter(row -> row[:age] >= 18, df);\n",
    "y = df2[:height];\n",
    "x = df2[:weight];"
   ],
   "metadata": {},
   "execution_count": null
  },
  {
   "outputs": [],
   "cell_type": "markdown",
   "source": [
    "Define the regression model"
   ],
   "metadata": {}
  },
  {
   "outputs": [],
   "cell_type": "code",
   "source": [
    "@model line(y, x) = begin\n",
    "    #priors\n",
    "    alpha ~ Normal(178.0, 100.0)\n",
    "    beta ~ Normal(0.0, 10.0)\n",
    "    s ~ Uniform(0, 50)\n",
    "\n",
    "    #model\n",
    "    mu = alpha .+ beta*x\n",
    "    for i in 1:length(y)\n",
    "      y[i] ~ Normal(mu[i], s)\n",
    "    end\n",
    "end;"
   ],
   "metadata": {},
   "execution_count": null
  },
  {
   "outputs": [],
   "cell_type": "markdown",
   "source": [
    "Draw the samples"
   ],
   "metadata": {}
  },
  {
   "outputs": [],
   "cell_type": "code",
   "source": [
    "chn = sample(line(y, x), Turing.NUTS(1000, 0.65));"
   ],
   "metadata": {},
   "execution_count": null
  },
  {
   "outputs": [],
   "cell_type": "markdown",
   "source": [
    "Describe the chain result"
   ],
   "metadata": {}
  },
  {
   "outputs": [],
   "cell_type": "code",
   "source": [
    "println() # src\n",
    "describe(chn)\n",
    "println() # src"
   ],
   "metadata": {},
   "execution_count": null
  },
  {
   "outputs": [],
   "cell_type": "markdown",
   "source": [
    "Plot the regerssion line and observations"
   ],
   "metadata": {}
  },
  {
   "outputs": [],
   "cell_type": "code",
   "source": [
    "xi = 30.0:0.1:70.0\n",
    "yi = mean(chn[:alpha]) .+ mean(chn[:beta])*xi\n",
    "\n",
    "scatter(x, y, lab=\"Observations\")\n",
    "plot!(xi, yi, lab=\"Regression line\")\n",
    "\n",
    "##-"
   ],
   "metadata": {},
   "execution_count": null
  },
  {
   "outputs": [],
   "cell_type": "markdown",
   "source": [
    "*This notebook was generated using [Literate.jl](https://github.com/fredrikekre/Literate.jl).*"
   ],
   "metadata": {}
  }
 ],
 "nbformat_minor": 3,
 "metadata": {
  "language_info": {
   "file_extension": ".jl",
   "mimetype": "application/julia",
   "name": "julia",
   "version": "1.1.0-DEV.839"
  },
  "kernelspec": {
   "name": "julia-1.1",
   "display_name": "Julia 1.1.0-DEV.839",
   "language": "julia"
  }
 },
 "nbformat": 4
}
