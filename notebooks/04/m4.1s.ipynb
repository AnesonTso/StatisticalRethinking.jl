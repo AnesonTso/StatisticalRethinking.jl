{
 "cells": [
  {
   "outputs": [
    {
     "name": "stdout",
     "output_type": "stream",
     "text": [
      "\n",
      "File /Users/rob/.julia/dev/StatisticalRethinking/scripts/04/tmp/heights.stan will be updated.\n",
      "\n",
      "┌ Warning: `getindex(df::DataFrame, col_ind::ColumnIndex)` is deprecated, use `df[!, col_ind]` instead.\n",
      "│   caller = top-level scope at string:36\n",
      "└ @ Core string:36\n",
      "┌ Warning: `getindex(df::DataFrame, col_ind::ColumnIndex)` is deprecated, use `df[!, col_ind]` instead.\n",
      "│   caller = top-level scope at string:36\n",
      "└ @ Core string:36\n",
      "Inference for Stan model: heights_model\n",
      "4 chains: each with iter=(1000,1000,1000,1000); warmup=(0,0,0,0); thin=(1,1,1,1); 4000 iterations saved.\n",
      "\n",
      "Warmup took (0.032, 0.029, 0.032, 0.032) seconds, 0.13 seconds total\n",
      "Sampling took (0.046, 0.050, 0.044, 0.040) seconds, 0.18 seconds total\n",
      "\n",
      "                Mean     MCSE  StdDev    5%   50%   95%    N_Eff  N_Eff/s    R_hat\n",
      "lp__            -892  2.3e-02    0.98  -893  -891  -891  1.9e+03  1.0e+04  1.0e+00\n",
      "accept_stat__   0.91  1.6e-03    0.11  0.68  0.95   1.0  4.7e+03  2.6e+04  1.0e+00\n",
      "stepsize__      0.85  5.3e-02   0.075  0.75  0.89  0.95  2.0e+00  1.1e+01  5.9e+13\n",
      "treedepth__      1.9  1.1e-02    0.58   1.0   2.0   3.0  2.7e+03  1.5e+04  1.0e+00\n",
      "n_leapfrog__     4.1  1.8e-01     4.1   1.0   3.0    11  5.3e+02  2.9e+03  1.0e+00\n",
      "divergent__     0.00      nan    0.00  0.00  0.00  0.00      nan      nan      nan\n",
      "energy__         893  3.3e-02     1.4   891   892   895  1.8e+03  1.0e+04  1.0e+00\n",
      "sigma            7.8  4.9e-03    0.30   7.3   7.8   8.3  3.7e+03  2.0e+04  1.0e+00\n",
      "mu               155  6.3e-03    0.41   154   155   155  4.2e+03  2.3e+04  1.0e+00\n",
      "\n",
      "Samples were drawn using hmc with nuts.\n",
      "For each parameter, N_Eff is a crude measure of effective sample size,\n",
      "and R_hat is the potential scale reduction factor on split chains (at \n",
      "convergence, R_hat=1).\n",
      "\n"
     ]
    },
    {
     "output_type": "execute_result",
     "data": {
      "text/plain": "2-element Array{ChainDataFrame,1}\n\nSummary Statistics\n. Omitted printing of 1 columns\n│ Row │ parameters │ mean    │ std      │ naive_se   │ mcse       │ ess     │\n│     │ \u001b[90mSymbol\u001b[39m     │ \u001b[90mFloat64\u001b[39m │ \u001b[90mFloat64\u001b[39m  │ \u001b[90mFloat64\u001b[39m    │ \u001b[90mFloat64\u001b[39m    │ \u001b[90mAny\u001b[39m     │\n├─────┼────────────┼─────────┼──────────┼────────────┼────────────┼─────────┤\n│ 1   │ mu         │ 154.604 │ 0.409397 │ 0.00647314 │ 0.00719244 │ 4000.0  │\n│ 2   │ sigma      │ 7.76976 │ 0.297899 │ 0.00471019 │ 0.00481578 │ 3602.61 │\n\nQuantiles\n\n│ Row │ parameters │ 2.5%    │ 25.0%   │ 50.0%   │ 75.0%   │ 97.5%   │\n│     │ \u001b[90mSymbol\u001b[39m     │ \u001b[90mFloat64\u001b[39m │ \u001b[90mFloat64\u001b[39m │ \u001b[90mFloat64\u001b[39m │ \u001b[90mFloat64\u001b[39m │ \u001b[90mFloat64\u001b[39m │\n├─────┼────────────┼─────────┼─────────┼─────────┼─────────┼─────────┤\n│ 1   │ mu         │ 153.82  │ 154.32  │ 154.608 │ 154.891 │ 155.401 │\n│ 2   │ sigma      │ 7.22156 │ 7.55716 │ 7.75776 │ 7.95939 │ 8.38785 │\n"
     },
     "metadata": {},
     "execution_count": 1
    }
   ],
   "cell_type": "code",
   "source": [
    "using StatisticalRethinking, CmdStan\n",
    "#gr(size=(600,600));\n",
    "\n",
    "ProjDir = rel_path(\"..\", \"scripts\", \"04\")\n",
    "cd(ProjDir)\n",
    "\n",
    "howell1 = CSV.read(rel_path(\"..\", \"data\", \"Howell1.csv\"), delim=';')\n",
    "df = convert(DataFrame, howell1);\n",
    "\n",
    "df2 = filter(row -> row[:age] >= 18, df)\n",
    "first(df2, 5)\n",
    "\n",
    "heightsmodel = \"\n",
    "// Inferring a Rate\n",
    "data {\n",
    "  int N;\n",
    "  real<lower=0> h[N];\n",
    "}\n",
    "parameters {\n",
    "  real<lower=0> sigma;\n",
    "  real<lower=0,upper=250> mu;\n",
    "}\n",
    "model {\n",
    "  // Priors for mu and sigma\n",
    "  mu ~ normal(178, 20);\n",
    "  sigma ~ uniform( 0 , 50 );\n",
    "\n",
    "  // Observed heights\n",
    "  h ~ normal(mu, sigma);\n",
    "}\n",
    "\";\n",
    "\n",
    "stanmodel = Stanmodel(name=\"heights\", monitors = [\"mu\", \"sigma\"],model=heightsmodel,\n",
    "  output_format=:mcmcchains);\n",
    "\n",
    "heightsdata = Dict(\"N\" => length(df2[:height]), \"h\" => df2[:height]);\n",
    "\n",
    "rc, chn, cnames = stan(stanmodel, heightsdata, ProjDir, diagnostics=false,\n",
    "  CmdStanDir=CMDSTAN_HOME);\n",
    "\n",
    "describe(chn)\n",
    "\n",
    "serialize(\"m4.1s.jls\", chn)\n",
    "chn2 = deserialize(\"m4.1s.jls\")\n",
    "\n",
    "describe(chn2)"
   ],
   "metadata": {},
   "execution_count": 1
  },
  {
   "outputs": [],
   "cell_type": "markdown",
   "source": [
    "end of m4.1s#-\n",
    "*This notebook was generated using [Literate.jl](https://github.com/fredrikekre/Literate.jl).*"
   ],
   "metadata": {}
  }
 ],
 "nbformat_minor": 3,
 "metadata": {
  "language_info": {
   "file_extension": ".jl",
   "mimetype": "application/julia",
   "name": "julia",
   "version": "1.3.0-DEV.565"
  },
  "kernelspec": {
   "name": "julia-1.3",
   "display_name": "Julia 1.3.0-DEV.565",
   "language": "julia"
  }
 },
 "nbformat": 4
}
