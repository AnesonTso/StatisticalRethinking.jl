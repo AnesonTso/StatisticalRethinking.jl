{
 "cells": [
  {
   "outputs": [
    {
     "name": "stdout",
     "output_type": "stream",
     "text": [
      "\n",
      "File /Users/rob/.julia/dev/StatisticalRethinking/scripts/04/tmp/heights.stan will be updated.\n",
      "\n",
      "┌ Warning: `getindex(df::DataFrame, col_ind::ColumnIndex)` is deprecated, use `df[!, col_ind]` instead.\n",
      "│   caller = top-level scope at string:36\n",
      "└ @ Core string:36\n",
      "┌ Warning: `getindex(df::DataFrame, col_ind::ColumnIndex)` is deprecated, use `df[!, col_ind]` instead.\n",
      "│   caller = top-level scope at string:36\n",
      "└ @ Core string:36\n",
      "Inference for Stan model: heights_model\n",
      "4 chains: each with iter=(1000,1000,1000,1000); warmup=(0,0,0,0); thin=(1,1,1,1); 4000 iterations saved.\n",
      "\n",
      "Warmup took (0.031, 0.031, 0.035, 0.029) seconds, 0.13 seconds total\n",
      "Sampling took (0.046, 0.049, 0.044, 0.038) seconds, 0.18 seconds total\n",
      "\n",
      "                Mean     MCSE  StdDev    5%   50%   95%  N_Eff  N_Eff/s    R_hat\n",
      "lp__            -891  2.3e-02    0.96  -893  -891  -891   1686     9484  1.0e+00\n",
      "accept_stat__   0.91  1.5e-03    0.11  0.70  0.95   1.0   4700    26447  1.0e+00\n",
      "stepsize__      0.84  3.1e-02   0.044  0.78  0.84  0.91    2.0       11  3.0e+13\n",
      "treedepth__      1.9  1.8e-02    0.56   1.0   2.0   3.0    952     5356  1.0e+00\n",
      "n_leapfrog__     4.1  3.5e-01     3.6   1.0   3.0    11    107      602  1.0e+00\n",
      "divergent__     0.00  0.0e+00    0.00  0.00  0.00  0.00   2000    11254      nan\n",
      "energy__         892  3.5e-02     1.4   891   892   895   1558     8766  1.0e+00\n",
      "sigma            7.8  4.7e-03    0.30   7.3   7.8   8.3   3896    21922  1.0e+00\n",
      "mu               155  6.3e-03    0.40   154   155   155   4068    22889  1.0e+00\n",
      "\n",
      "Samples were drawn using hmc with nuts.\n",
      "For each parameter, N_Eff is a crude measure of effective sample size,\n",
      "and R_hat is the potential scale reduction factor on split chains (at \n",
      "convergence, R_hat=1).\n",
      "\n"
     ]
    },
    {
     "output_type": "execute_result",
     "data": {
      "text/plain": "2-element Array{ChainDataFrame,1}\n\nSummary Statistics\n. Omitted printing of 1 columns\n│ Row │ parameters │ mean    │ std      │ naive_se   │ mcse       │ ess     │\n│     │ \u001b[90mSymbol\u001b[39m     │ \u001b[90mFloat64\u001b[39m │ \u001b[90mFloat64\u001b[39m  │ \u001b[90mFloat64\u001b[39m    │ \u001b[90mFloat64\u001b[39m    │ \u001b[90mAny\u001b[39m     │\n├─────┼────────────┼─────────┼──────────┼────────────┼────────────┼─────────┤\n│ 1   │ mu         │ 154.611 │ 0.401807 │ 0.00635313 │ 0.00543652 │ 4000.0  │\n│ 2   │ sigma      │ 7.77226 │ 0.295875 │ 0.0046782  │ 0.0042213  │ 3901.14 │\n\nQuantiles\n\n│ Row │ parameters │ 2.5%    │ 25.0%   │ 50.0%   │ 75.0%   │ 97.5%   │\n│     │ \u001b[90mSymbol\u001b[39m     │ \u001b[90mFloat64\u001b[39m │ \u001b[90mFloat64\u001b[39m │ \u001b[90mFloat64\u001b[39m │ \u001b[90mFloat64\u001b[39m │ \u001b[90mFloat64\u001b[39m │\n├─────┼────────────┼─────────┼─────────┼─────────┼─────────┼─────────┤\n│ 1   │ mu         │ 153.827 │ 154.334 │ 154.609 │ 154.881 │ 155.399 │\n│ 2   │ sigma      │ 7.22014 │ 7.56577 │ 7.76818 │ 7.96195 │ 8.36305 │\n"
     },
     "metadata": {},
     "execution_count": 1
    }
   ],
   "cell_type": "code",
   "source": [
    "using StatisticalRethinking, CmdStan\n",
    "#gr(size=(600,600));\n",
    "\n",
    "ProjDir = rel_path(\"..\", \"scripts\", \"04\")\n",
    "cd(ProjDir)\n",
    "\n",
    "howell1 = CSV.read(rel_path(\"..\", \"data\", \"Howell1.csv\"), delim=';')\n",
    "df = convert(DataFrame, howell1);\n",
    "\n",
    "df2 = filter(row -> row[:age] >= 18, df)\n",
    "first(df2, 5)\n",
    "\n",
    "heightsmodel = \"\n",
    "// Inferring a Rate\n",
    "data {\n",
    "  int N;\n",
    "  real<lower=0> h[N];\n",
    "}\n",
    "parameters {\n",
    "  real<lower=0> sigma;\n",
    "  real<lower=0,upper=250> mu;\n",
    "}\n",
    "model {\n",
    "  // Priors for mu and sigma\n",
    "  mu ~ normal(178, 20);\n",
    "  sigma ~ uniform( 0 , 50 );\n",
    "\n",
    "  // Observed heights\n",
    "  h ~ normal(mu, sigma);\n",
    "}\n",
    "\";\n",
    "\n",
    "stanmodel = Stanmodel(name=\"heights\", monitors = [\"mu\", \"sigma\"],model=heightsmodel,\n",
    "  output_format=:mcmcchains);\n",
    "\n",
    "heightsdata = Dict(\"N\" => length(df2[:height]), \"h\" => df2[:height]);\n",
    "\n",
    "rc, chn, cnames = stan(stanmodel, heightsdata, ProjDir, diagnostics=false,\n",
    "  CmdStanDir=CMDSTAN_HOME);\n",
    "\n",
    "describe(chn)\n",
    "\n",
    "serialize(\"m4.1s.jls\", chn)\n",
    "chn2 = deserialize(\"m4.1s.jls\")\n",
    "\n",
    "describe(chn2)"
   ],
   "metadata": {},
   "execution_count": 1
  },
  {
   "outputs": [],
   "cell_type": "markdown",
   "source": [
    "end of m4.1s#-\n",
    "*This notebook was generated using [Literate.jl](https://github.com/fredrikekre/Literate.jl).*"
   ],
   "metadata": {}
  }
 ],
 "nbformat_minor": 3,
 "metadata": {
  "language_info": {
   "file_extension": ".jl",
   "mimetype": "application/julia",
   "name": "julia",
   "version": "1.3.0-DEV.570"
  },
  "kernelspec": {
   "name": "julia-1.3",
   "display_name": "Julia 1.3.0-DEV.570",
   "language": "julia"
  }
 },
 "nbformat": 4
}
