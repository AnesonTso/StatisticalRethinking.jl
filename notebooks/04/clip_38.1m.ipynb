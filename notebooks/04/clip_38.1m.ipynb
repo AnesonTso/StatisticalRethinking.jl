{
 "cells": [
  {
   "outputs": [],
   "cell_type": "code",
   "source": [
    "using StatisticalRethinking, Distributed, JLD, LinearAlgebra\n",
    "using Mamba"
   ],
   "metadata": {},
   "execution_count": 1
  },
  {
   "outputs": [],
   "cell_type": "markdown",
   "source": [
    "Data"
   ],
   "metadata": {}
  },
  {
   "outputs": [],
   "cell_type": "code",
   "source": [
    "howell1 = CSV.read(rel_path(\"..\", \"data\", \"Howell1.csv\"), delim=';')\n",
    "df = convert(DataFrame, howell1);"
   ],
   "metadata": {},
   "execution_count": 2
  },
  {
   "outputs": [],
   "cell_type": "markdown",
   "source": [
    "Use only adults"
   ],
   "metadata": {}
  },
  {
   "outputs": [],
   "cell_type": "code",
   "source": [
    "df2 = filter(row -> row[:age] >= 18, df);"
   ],
   "metadata": {},
   "execution_count": 3
  },
  {
   "outputs": [],
   "cell_type": "markdown",
   "source": [
    "Input data for Mamba"
   ],
   "metadata": {}
  },
  {
   "outputs": [],
   "cell_type": "code",
   "source": [
    "data = Dict(\n",
    "  :x => convert(Array{Float64,1}, df2[:weight]),\n",
    "  :y => convert(Array{Float64,1}, df2[:height])\n",
    ");"
   ],
   "metadata": {},
   "execution_count": 4
  },
  {
   "outputs": [],
   "cell_type": "markdown",
   "source": [
    "Log-transformed Posterior(b0, b1, log(s2)) + Constant and Gradient Vector"
   ],
   "metadata": {}
  },
  {
   "outputs": [],
   "cell_type": "code",
   "source": [
    "logfgrad = function(x::DenseVector)\n",
    "  b0 = x[1]\n",
    "  b1 = x[2]\n",
    "  logs2 = x[3]\n",
    "  r = data[:y] .- b0 .- b1 .* data[:x]\n",
    "  logf = (-0.5 * length(data[:y]) - 0.001) * logs2 -\n",
    "           (0.5 * dot(r, r) + 0.001) / exp(logs2) -\n",
    "           0.5 * b0^2 / 1000 - 0.5 * b1^2 / 1000\n",
    "  grad = [\n",
    "    sum(r) / exp(logs2) - b0 / 1000,\n",
    "    sum(data[:x] .* r) / exp(logs2) - b1 / 1000,\n",
    "    -0.5 * length(data[:y]) - 0.001 + (0.5 * dot(r, r) + 0.001) / exp(logs2)\n",
    "  ]\n",
    "  logf, grad\n",
    "end\n",
    "\n",
    "# MCMC Simulation with No-U-Turn Sampling\n",
    "\n",
    "n = 5000\n",
    "burnin = 1000\n",
    "sim = Mamba.Chains(n, 3, start = (burnin + 1), names = [\"b0\", \"b1\", \"s2\"])\n",
    "theta = NUTSVariate([0.0, 0.0, 0.0], logfgrad)\n",
    "for i in 1:n\n",
    "  sample!(theta, adapt = (i <= burnin))\n",
    "  if i > burnin\n",
    "    sim[i, :, 1] = [theta[1:2]; exp(theta[3])]\n",
    "  end\n",
    "end"
   ],
   "metadata": {},
   "execution_count": 5
  },
  {
   "outputs": [],
   "cell_type": "markdown",
   "source": [
    "Summarize draws"
   ],
   "metadata": {}
  },
  {
   "outputs": [
    {
     "name": "stdout",
     "output_type": "stream",
     "text": [
      "Iterations = 1001:5000\n",
      "Thinning interval = 1\n",
      "Chains = 1\n",
      "Samples per chain = 4000\n",
      "\n",
      "Empirical Posterior Estimates:\n",
      "       Mean        SD        Naive SE       MCSE         ESS   \n",
      "b0 113.4289443 1.94034557 0.03067955721 0.1123284635  298.38606\n",
      "b1   0.9148116 0.04264046 0.00067420486 0.0024304954  307.78976\n",
      "s2  26.0941680 1.95288131 0.03087776463 0.0474376278 1694.75050\n",
      "\n",
      "Quantiles:\n",
      "       2.5%       25.0%        50.0%       75.0%        97.5%   \n",
      "b0 109.6462386 112.1091181 113.51942899 114.7862550 117.07371972\n",
      "b1   0.8359927   0.8844868   0.91409193   0.9440536   0.99758164\n",
      "s2  22.6234003  24.7097104  26.04172102  27.3623292  30.12961770\n",
      "\n"
     ]
    }
   ],
   "cell_type": "code",
   "source": [
    "describe(sim)#-"
   ],
   "metadata": {},
   "execution_count": 6
  },
  {
   "outputs": [],
   "cell_type": "markdown",
   "source": [
    "*This notebook was generated using [Literate.jl](https://github.com/fredrikekre/Literate.jl).*"
   ],
   "metadata": {}
  }
 ],
 "nbformat_minor": 3,
 "metadata": {
  "language_info": {
   "file_extension": ".jl",
   "mimetype": "application/julia",
   "name": "julia",
   "version": "1.1.0-DEV.840"
  },
  "kernelspec": {
   "name": "julia-1.1",
   "display_name": "Julia 1.1.0-DEV.840",
   "language": "julia"
  }
 },
 "nbformat": 4
}
