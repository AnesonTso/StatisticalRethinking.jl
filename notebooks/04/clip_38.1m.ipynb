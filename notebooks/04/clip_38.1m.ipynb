{
 "cells": [
  {
   "outputs": [],
   "cell_type": "code",
   "source": [
    "using StatisticalRethinking, Distributed, JLD, LinearAlgebra\n",
    "using Mamba"
   ],
   "metadata": {},
   "execution_count": 1
  },
  {
   "outputs": [],
   "cell_type": "markdown",
   "source": [
    "Data"
   ],
   "metadata": {}
  },
  {
   "outputs": [],
   "cell_type": "code",
   "source": [
    "howell1 = CSV.read(rel_path(\"..\", \"data\", \"Howell1.csv\"), delim=';')\n",
    "df = convert(DataFrame, howell1);"
   ],
   "metadata": {},
   "execution_count": 2
  },
  {
   "outputs": [],
   "cell_type": "markdown",
   "source": [
    "Use only adults"
   ],
   "metadata": {}
  },
  {
   "outputs": [],
   "cell_type": "code",
   "source": [
    "df2 = filter(row -> row[:age] >= 18, df);"
   ],
   "metadata": {},
   "execution_count": 3
  },
  {
   "outputs": [],
   "cell_type": "markdown",
   "source": [
    "Input data for Mamba"
   ],
   "metadata": {}
  },
  {
   "outputs": [],
   "cell_type": "code",
   "source": [
    "data = Dict(\n",
    "  :x => convert(Array{Float64,1}, df2[:weight]),\n",
    "  :y => convert(Array{Float64,1}, df2[:height])\n",
    ");"
   ],
   "metadata": {},
   "execution_count": 4
  },
  {
   "outputs": [],
   "cell_type": "markdown",
   "source": [
    "Log-transformed Posterior(b0, b1, log(s2)) + Constant and Gradient Vector"
   ],
   "metadata": {}
  },
  {
   "outputs": [],
   "cell_type": "code",
   "source": [
    "logfgrad = function(x::DenseVector)\n",
    "  b0 = x[1]\n",
    "  b1 = x[2]\n",
    "  logs2 = x[3]\n",
    "  r = data[:y] .- b0 .- b1 .* data[:x]\n",
    "  logf = (-0.5 * length(data[:y]) - 0.001) * logs2 -\n",
    "           (0.5 * dot(r, r) + 0.001) / exp(logs2) -\n",
    "           0.5 * b0^2 / 1000 - 0.5 * b1^2 / 1000\n",
    "  grad = [\n",
    "    sum(r) / exp(logs2) - b0 / 1000,\n",
    "    sum(data[:x] .* r) / exp(logs2) - b1 / 1000,\n",
    "    -0.5 * length(data[:y]) - 0.001 + (0.5 * dot(r, r) + 0.001) / exp(logs2)\n",
    "  ]\n",
    "  logf, grad\n",
    "end\n",
    "\n",
    "# MCMC Simulation with No-U-Turn Sampling\n",
    "\n",
    "n = 5000\n",
    "burnin = 1000\n",
    "sim = Mamba.Chains(n, 3, start = (burnin + 1), names = [\"b0\", \"b1\", \"s2\"])\n",
    "theta = NUTSVariate([0.0, 0.0, 0.0], logfgrad)\n",
    "for i in 1:n\n",
    "  sample!(theta, adapt = (i <= burnin))\n",
    "  if i > burnin\n",
    "    sim[i, :, 1] = [theta[1:2]; exp(theta[3])]\n",
    "  end\n",
    "end"
   ],
   "metadata": {},
   "execution_count": 5
  },
  {
   "outputs": [],
   "cell_type": "markdown",
   "source": [
    "Summarize draws"
   ],
   "metadata": {}
  },
  {
   "outputs": [
    {
     "name": "stdout",
     "output_type": "stream",
     "text": [
      "Iterations = 1001:5000\n",
      "Thinning interval = 1\n",
      "Chains = 1\n",
      "Samples per chain = 4000\n",
      "\n",
      "Empirical Posterior Estimates:\n",
      "       Mean          SD       Naive SE       MCSE         ESS   \n",
      "b0 113.64350329 1.875563283 0.0296552594 0.1008006105  346.20802\n",
      "b1   0.91022225 0.041366315 0.0006540589 0.0021923347  356.02456\n",
      "s2  25.97481892 1.977978952 0.0312745933 0.0495375234 1594.31727\n",
      "\n",
      "Quantiles:\n",
      "       2.5%         25.0%        50.0%       75.0%        97.5%   \n",
      "b0 110.01219848 112.32160824 113.71651205 114.9162958 117.51249705\n",
      "b1   0.82694344   0.88240065   0.90890542   0.9401661   0.99001366\n",
      "s2  22.15664552  24.64460687  25.90624284  27.3046840  30.07624198\n",
      "\n"
     ]
    }
   ],
   "cell_type": "code",
   "source": [
    "describe(sim)#-"
   ],
   "metadata": {},
   "execution_count": 6
  },
  {
   "outputs": [],
   "cell_type": "markdown",
   "source": [
    "*This notebook was generated using [Literate.jl](https://github.com/fredrikekre/Literate.jl).*"
   ],
   "metadata": {}
  }
 ],
 "nbformat_minor": 3,
 "metadata": {
  "language_info": {
   "file_extension": ".jl",
   "mimetype": "application/julia",
   "name": "julia",
   "version": "1.1.0-DEV.840"
  },
  "kernelspec": {
   "name": "julia-1.1",
   "display_name": "Julia 1.1.0-DEV.840",
   "language": "julia"
  }
 },
 "nbformat": 4
}
