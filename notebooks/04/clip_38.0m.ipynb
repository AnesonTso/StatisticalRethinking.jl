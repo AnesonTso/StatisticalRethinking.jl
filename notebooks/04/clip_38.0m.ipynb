{
 "cells": [
  {
   "outputs": [],
   "cell_type": "code",
   "source": [
    "using StatisticalRethinking, Distributed, JLD\n",
    "using Mamba\n",
    "\n",
    "# Data\n",
    "line = Dict{Symbol, Any}()\n",
    "\n",
    "howell1 = CSV.read(joinpath(dirname(Base.pathof(StatisticalRethinking)), \"..\", \"data\", \"Howell1.csv\"), delim=';')\n",
    "df = convert(DataFrame, howell1);"
   ],
   "metadata": {},
   "execution_count": 1
  },
  {
   "outputs": [],
   "cell_type": "markdown",
   "source": [
    "Use only adults"
   ],
   "metadata": {}
  },
  {
   "outputs": [
    {
     "name": "stdout",
     "output_type": "stream",
     "text": [
      "MCMC Simulation of 10000 Iterations x 3 Chains...\n",
      "\n",
      "Chain 1:   0% [0:11:53 of 0:11:54 remaining]\n",
      "Chain 1:  10% [0:00:52 of 0:00:57 remaining]\n",
      "Chain 1:  20% [0:00:50 of 0:01:02 remaining]\n",
      "Chain 1:  30% [0:00:44 of 0:01:03 remaining]\n",
      "Chain 1:  40% [0:00:38 of 0:01:03 remaining]\n",
      "Chain 1:  50% [0:00:31 of 0:01:03 remaining]\n",
      "Chain 1:  60% [0:00:25 of 0:01:03 remaining]\n",
      "Chain 1:  70% [0:00:19 of 0:01:03 remaining]\n",
      "Chain 1:  80% [0:00:13 of 0:01:03 remaining]\n",
      "Chain 1:  90% [0:00:06 of 0:01:03 remaining]\n",
      "Chain 1: 100% [0:00:00 of 0:01:02 remaining]\n",
      "\n",
      "Chain 2:   0% [0:00:02 of 0:00:02 remaining]\n",
      "Chain 2:  10% [0:00:33 of 0:00:37 remaining]\n",
      "Chain 2:  20% [0:00:37 of 0:00:46 remaining]\n",
      "Chain 2:  30% [0:00:35 of 0:00:50 remaining]\n",
      "Chain 2:  40% [0:00:31 of 0:00:51 remaining]\n",
      "Chain 2:  50% [0:00:26 of 0:00:52 remaining]\n",
      "Chain 2:  60% [0:00:21 of 0:00:53 remaining]\n",
      "Chain 2:  70% [0:00:16 of 0:00:54 remaining]\n",
      "Chain 2:  80% [0:00:11 of 0:00:55 remaining]\n",
      "Chain 2:  90% [0:00:06 of 0:00:55 remaining]\n",
      "Chain 2: 100% [0:00:00 of 0:00:56 remaining]\n",
      "\n",
      "Chain 3:   0% [0:00:02 of 0:00:02 remaining]\n",
      "Chain 3:  10% [0:00:38 of 0:00:42 remaining]\n",
      "Chain 3:  20% [0:00:42 of 0:00:53 remaining]\n",
      "Chain 3:  30% [0:00:41 of 0:00:58 remaining]\n",
      "Chain 3:  40% [0:00:35 of 0:00:59 remaining]\n",
      "Chain 3:  50% [0:00:30 of 0:00:59 remaining]\n",
      "Chain 3:  60% [0:00:24 of 0:01:00 remaining]\n",
      "Chain 3:  70% [0:00:18 of 0:01:00 remaining]\n",
      "Chain 3:  80% [0:00:12 of 0:01:00 remaining]\n",
      "Chain 3:  90% [0:00:06 of 0:01:01 remaining]\n",
      "Chain 3: 100% [0:00:00 of 0:01:01 remaining]\n",
      "\n"
     ]
    },
    {
     "output_type": "execute_result",
     "data": {
      "text/plain": "Object of type \"Mamba.ModelChains\"\n\nIterations = 1001:10000\nThinning interval = 1\nChains = 1,2,3\nSamples per chain = 9000\n\n[27.0607 112.793 0.921667; 26.7217 113.153 0.931622; … ; 27.2826 111.812 0.950566; 25.5009 111.562 0.959515]\n\n[27.7904 113.67 0.905221; 26.7399 113.427 0.911362; … ; 24.4854 114.588 0.894131; 25.8016 117.542 0.829485]\n\n[28.6413 111.875 0.948985; 28.7924 111.644 0.956488; … ; 25.5808 114.409 0.898168; 25.7584 113.926 0.901789]"
     },
     "metadata": {},
     "execution_count": 2
    }
   ],
   "cell_type": "code",
   "source": [
    "df2 = filter(row -> row[:age] >= 18, df);\n",
    "line[:x] = convert(Array{Float64,1}, df2[:weight]);\n",
    "line[:y] = convert(Array{Float64,1}, df2[:height]);\n",
    "line[:xmat] = convert(Array{Float64,2}, [ones(length(line[:x])) line[:x]])\n",
    "\n",
    "# Model Specification\n",
    "model = Model(\n",
    "  y = Stochastic(1,\n",
    "    (xmat, beta, s2) -> MvNormal(xmat * beta, sqrt(s2)),\n",
    "    false\n",
    "  ),\n",
    "  beta = Stochastic(1, () -> MvNormal([178, 0], [sqrt(10000), sqrt(100)])),\n",
    "  s2 = Stochastic(() -> Uniform(0, 50))\n",
    ")\n",
    "\n",
    "\n",
    "# Initial Values\n",
    "inits = [\n",
    "  Dict{Symbol, Any}(\n",
    "    :y => line[:y],\n",
    "    :beta => [rand(Normal(178, 100)), rand(Normal(0, 10))],\n",
    "    :s2 => rand(Uniform(0, 50))\n",
    "  )\n",
    "  for i in 1:3\n",
    "]\n",
    "\n",
    "# Tuning Parameters\n",
    "scale1 = [0.5, 0.25]\n",
    "summary1 = identity\n",
    "eps1 = 0.5\n",
    "\n",
    "scale2 = 0.5\n",
    "summary2 = x -> [mean(x); sqrt(var(x))]\n",
    "eps2 = 0.1\n",
    "\n",
    "# Define sampling scheme\n",
    "\n",
    "scheme = [\n",
    "  Mamba.NUTS([:beta]),\n",
    "  Mamba.Slice([:s2], 10)\n",
    "]\n",
    "\n",
    "setsamplers!(model, scheme)\n",
    "\n",
    "# MCMC Simulation\n",
    "\n",
    "sim = mcmc(model, line, inits, 10000, burnin=1000, chains=3)"
   ],
   "metadata": {},
   "execution_count": 2
  },
  {
   "outputs": [],
   "cell_type": "markdown",
   "source": [
    "Show draws summary"
   ],
   "metadata": {}
  },
  {
   "outputs": [
    {
     "name": "stdout",
     "output_type": "stream",
     "text": [
      "Iterations = 1001:10000\n",
      "Thinning interval = 1\n",
      "Chains = 1,2,3\n",
      "Samples per chain = 9000\n",
      "\n",
      "Empirical Posterior Estimates:\n",
      "            Mean         SD        Naive SE       MCSE        ESS   \n",
      "     s2  26.1694456 1.998284374 0.01216117142 0.0199750535 9000.0000\n",
      "beta[1] 113.9394486 1.912330881 0.01163807512 0.0354531353 2909.4894\n",
      "beta[2]   0.9037664 0.042053414 0.00025592893 0.0007721172 2966.4434\n",
      "\n",
      "Quantiles:\n",
      "            2.5%        25.0%       50.0%       75.0%       97.5%   \n",
      "     s2  22.56081082  24.7686452  26.0545835  27.4503277  30.3928628\n",
      "beta[1] 110.28063651 112.6166219 113.9132797 115.1894841 117.8218397\n",
      "beta[2]   0.81751585   0.8760952   0.9044646   0.9330347   0.9842561\n",
      "\n"
     ]
    }
   ],
   "cell_type": "code",
   "source": [
    "describe(sim)"
   ],
   "metadata": {},
   "execution_count": 3
  },
  {
   "outputs": [],
   "cell_type": "markdown",
   "source": [
    "*This notebook was generated using [Literate.jl](https://github.com/fredrikekre/Literate.jl).*"
   ],
   "metadata": {}
  }
 ],
 "nbformat_minor": 3,
 "metadata": {
  "language_info": {
   "file_extension": ".jl",
   "mimetype": "application/julia",
   "name": "julia",
   "version": "1.1.0-DEV.840"
  },
  "kernelspec": {
   "name": "julia-1.1",
   "display_name": "Julia 1.1.0-DEV.840",
   "language": "julia"
  }
 },
 "nbformat": 4
}
