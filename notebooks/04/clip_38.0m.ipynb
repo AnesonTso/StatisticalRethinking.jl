{
 "cells": [
  {
   "outputs": [],
   "cell_type": "code",
   "source": [
    "using StatisticalRethinking, Distributed, JLD\n",
    "using Mamba\n",
    "\n",
    "# Data\n",
    "line = Dict{Symbol, Any}()\n",
    "\n",
    "howell1 = CSV.read(rel_path(\"..\", \"data\", \"Howell1.csv\"), delim=';')\n",
    "df = convert(DataFrame, howell1);"
   ],
   "metadata": {},
   "execution_count": 1
  },
  {
   "outputs": [],
   "cell_type": "markdown",
   "source": [
    "Use only adults"
   ],
   "metadata": {}
  },
  {
   "outputs": [
    {
     "name": "stdout",
     "output_type": "stream",
     "text": [
      "MCMC Simulation of 10000 Iterations x 3 Chains...\n",
      "\n",
      "Chain 1:   0% [0:12:02 of 0:12:02 remaining]\n",
      "Chain 1:  10% [0:00:53 of 0:00:58 remaining]\n",
      "Chain 1:  20% [0:00:54 of 0:01:08 remaining]\n",
      "Chain 1:  30% [0:00:50 of 0:01:11 remaining]\n",
      "Chain 1:  40% [0:00:43 of 0:01:11 remaining]\n",
      "Chain 1:  50% [0:00:36 of 0:01:12 remaining]\n",
      "Chain 1:  60% [0:00:30 of 0:01:15 remaining]\n",
      "Chain 1:  70% [0:00:23 of 0:01:16 remaining]\n",
      "Chain 1:  80% [0:00:15 of 0:01:16 remaining]\n",
      "Chain 1:  90% [0:00:08 of 0:01:17 remaining]\n",
      "Chain 1: 100% [0:00:00 of 0:01:17 remaining]\n",
      "\n",
      "Chain 2:   0% [0:00:02 of 0:00:02 remaining]\n",
      "Chain 2:  10% [0:00:49 of 0:00:54 remaining]\n",
      "Chain 2:  20% [0:00:53 of 0:01:07 remaining]\n",
      "Chain 2:  30% [0:00:50 of 0:01:12 remaining]\n",
      "Chain 2:  40% [0:00:44 of 0:01:14 remaining]\n",
      "Chain 2:  50% [0:00:37 of 0:01:15 remaining]\n",
      "Chain 2:  60% [0:00:30 of 0:01:16 remaining]\n",
      "Chain 2:  70% [0:00:23 of 0:01:16 remaining]\n",
      "Chain 2:  80% [0:00:15 of 0:01:16 remaining]\n",
      "Chain 2:  90% [0:00:08 of 0:01:16 remaining]\n",
      "Chain 2: 100% [0:00:00 of 0:01:17 remaining]\n",
      "\n",
      "Chain 3:   0% [0:00:02 of 0:00:02 remaining]\n",
      "Chain 3:  10% [0:00:52 of 0:00:58 remaining]\n",
      "Chain 3:  20% [0:00:53 of 0:01:07 remaining]\n",
      "Chain 3:  30% [0:00:50 of 0:01:12 remaining]\n",
      "Chain 3:  40% [0:00:44 of 0:01:13 remaining]\n",
      "Chain 3:  50% [0:00:37 of 0:01:13 remaining]\n",
      "Chain 3:  60% [0:00:29 of 0:01:13 remaining]\n",
      "Chain 3:  70% [0:00:22 of 0:01:14 remaining]\n",
      "Chain 3:  80% [0:00:15 of 0:01:14 remaining]\n",
      "Chain 3:  90% [0:00:07 of 0:01:14 remaining]\n",
      "Chain 3: 100% [0:00:00 of 0:01:15 remaining]\n",
      "\n"
     ]
    },
    {
     "output_type": "execute_result",
     "data": {
      "text/plain": "Object of type \"Mamba.ModelChains\"\n\nIterations = 1001:10000\nThinning interval = 1\nChains = 1,2,3\nSamples per chain = 9000\n\n[26.2913 115.421 0.865979; 25.7002 115.992 0.853739; … ; 22.1981 111.206 0.952957; 23.9165 111.67 0.965405]\n\n[22.473 112.121 0.948395; 30.124 112.121 0.948395; … ; 24.541 114.937 0.886813; 24.983 115.291 0.885434]\n\n[23.1383 116.011 0.862418; 26.8815 116.167 0.858913; … ; 27.6613 112.489 0.933929; 24.5254 113.621 0.90432]"
     },
     "metadata": {},
     "execution_count": 2
    }
   ],
   "cell_type": "code",
   "source": [
    "df2 = filter(row -> row[:age] >= 18, df);\n",
    "line[:x] = convert(Array{Float64,1}, df2[:weight]);\n",
    "line[:y] = convert(Array{Float64,1}, df2[:height]);\n",
    "line[:xmat] = convert(Array{Float64,2}, [ones(length(line[:x])) line[:x]])\n",
    "\n",
    "# Model Specification\n",
    "model = Model(\n",
    "  y = Stochastic(1,\n",
    "    (xmat, beta, s2) -> MvNormal(xmat * beta, sqrt(s2)),\n",
    "    false\n",
    "  ),\n",
    "  beta = Stochastic(1, () -> MvNormal([178, 0], [sqrt(10000), sqrt(100)])),\n",
    "  s2 = Stochastic(() -> Uniform(0, 50))\n",
    ")\n",
    "\n",
    "# Initial Values\n",
    "inits = [\n",
    "  Dict{Symbol, Any}(\n",
    "    :y => line[:y],\n",
    "    :beta => [rand(Normal(178, 100)), rand(Normal(0, 10))],\n",
    "    :s2 => rand(Uniform(0, 50))\n",
    "  )\n",
    "  for i in 1:3\n",
    "]\n",
    "\n",
    "# Tuning Parameters\n",
    "scale1 = [0.5, 0.25]\n",
    "summary1 = identity\n",
    "eps1 = 0.5\n",
    "\n",
    "scale2 = 0.5\n",
    "summary2 = x -> [mean(x); sqrt(var(x))]\n",
    "eps2 = 0.1\n",
    "\n",
    "# Define sampling scheme\n",
    "\n",
    "scheme = [\n",
    "  Mamba.NUTS([:beta]),\n",
    "  Mamba.Slice([:s2], 10)\n",
    "]\n",
    "\n",
    "setsamplers!(model, scheme)\n",
    "\n",
    "# MCMC Simulation\n",
    "\n",
    "sim = mcmc(model, line, inits, 10000, burnin=1000, chains=3)"
   ],
   "metadata": {},
   "execution_count": 2
  },
  {
   "outputs": [],
   "cell_type": "markdown",
   "source": [
    "Show draws summary"
   ],
   "metadata": {}
  },
  {
   "outputs": [
    {
     "name": "stdout",
     "output_type": "stream",
     "text": [
      "Iterations = 1001:10000\n",
      "Thinning interval = 1\n",
      "Chains = 1,2,3\n",
      "Samples per chain = 9000\n",
      "\n",
      "Empirical Posterior Estimates:\n",
      "            Mean          SD        Naive SE        MCSE        ESS   \n",
      "     s2  26.17179629 1.983973898 0.01207408064 0.02028180127 9000.0000\n",
      "beta[1] 113.88776279 1.902137790 0.01157604195 0.03473867134 2998.1789\n",
      "beta[2]   0.90485865 0.041816994 0.00025449012 0.00075606107 3059.0873\n",
      "\n",
      "Quantiles:\n",
      "            2.5%        25.0%       50.0%      75.0%       97.5%  \n",
      "     s2  22.5672435  24.80098522  26.062655  27.4303685  30.384891\n",
      "beta[1] 110.0676231 112.61000199 113.894258 115.1957898 117.582864\n",
      "beta[2]   0.8233703   0.87612724   0.904887   0.9328758   0.988582\n",
      "\n"
     ]
    }
   ],
   "cell_type": "code",
   "source": [
    "describe(sim)"
   ],
   "metadata": {},
   "execution_count": 3
  },
  {
   "outputs": [],
   "cell_type": "markdown",
   "source": [
    "End of `clip_38.0m.jl`"
   ],
   "metadata": {}
  },
  {
   "outputs": [],
   "cell_type": "markdown",
   "source": [
    "*This notebook was generated using [Literate.jl](https://github.com/fredrikekre/Literate.jl).*"
   ],
   "metadata": {}
  }
 ],
 "nbformat_minor": 3,
 "metadata": {
  "language_info": {
   "file_extension": ".jl",
   "mimetype": "application/julia",
   "name": "julia",
   "version": "1.1.0-DEV.840"
  },
  "kernelspec": {
   "name": "julia-1.1",
   "display_name": "Julia 1.1.0-DEV.840",
   "language": "julia"
  }
 },
 "nbformat": 4
}
