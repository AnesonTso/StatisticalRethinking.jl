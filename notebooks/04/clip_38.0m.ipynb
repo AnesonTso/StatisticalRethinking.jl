{
 "cells": [
  {
   "outputs": [],
   "cell_type": "code",
   "source": [
    "using StatisticalRethinking, Distributed, JLD\n",
    "using Mamba\n",
    "\n",
    "# Data\n",
    "line = Dict{Symbol, Any}()\n",
    "\n",
    "howell1 = CSV.read(joinpath(dirname(Base.pathof(StatisticalRethinking)), \"..\", \"data\", \"Howell1.csv\"), delim=';')\n",
    "df = convert(DataFrame, howell1);"
   ],
   "metadata": {},
   "execution_count": 1
  },
  {
   "outputs": [],
   "cell_type": "markdown",
   "source": [
    "Use only adults"
   ],
   "metadata": {}
  },
  {
   "outputs": [
    {
     "name": "stdout",
     "output_type": "stream",
     "text": [
      "MCMC Simulation of 10000 Iterations x 3 Chains...\n",
      "\n",
      "Chain 1:   0% [0:12:12 of 0:12:12 remaining]\n",
      "Chain 1:  10% [0:00:58 of 0:01:04 remaining]\n",
      "Chain 1:  20% [0:00:53 of 0:01:07 remaining]\n",
      "Chain 1:  30% [0:00:49 of 0:01:10 remaining]\n",
      "Chain 1:  40% [0:00:42 of 0:01:10 remaining]\n",
      "Chain 1:  50% [0:00:35 of 0:01:10 remaining]\n",
      "Chain 1:  60% [0:00:29 of 0:01:11 remaining]\n",
      "Chain 1:  70% [0:00:22 of 0:01:12 remaining]\n",
      "Chain 1:  80% [0:00:15 of 0:01:13 remaining]\n",
      "Chain 1:  90% [0:00:07 of 0:01:13 remaining]\n",
      "Chain 1: 100% [0:00:00 of 0:01:13 remaining]\n",
      "\n",
      "Chain 2:   0% [0:00:02 of 0:00:02 remaining]\n",
      "Chain 2:  10% [0:00:47 of 0:00:52 remaining]\n",
      "Chain 2:  20% [0:00:49 of 0:01:02 remaining]\n",
      "Chain 2:  30% [0:00:46 of 0:01:06 remaining]\n",
      "Chain 2:  40% [0:00:41 of 0:01:09 remaining]\n",
      "Chain 2:  50% [0:00:35 of 0:01:09 remaining]\n",
      "Chain 2:  60% [0:00:28 of 0:01:10 remaining]\n",
      "Chain 2:  70% [0:00:21 of 0:01:11 remaining]\n",
      "Chain 2:  80% [0:00:14 of 0:01:11 remaining]\n",
      "Chain 2:  90% [0:00:07 of 0:01:12 remaining]\n",
      "Chain 2: 100% [0:00:00 of 0:01:11 remaining]\n",
      "\n",
      "Chain 3:   0% [0:00:03 of 0:00:03 remaining]\n",
      "Chain 3:  10% [0:00:27 of 0:00:30 remaining]\n",
      "Chain 3:  20% [0:00:39 of 0:00:49 remaining]\n",
      "Chain 3:  30% [0:00:39 of 0:00:55 remaining]\n",
      "Chain 3:  40% [0:00:35 of 0:00:59 remaining]\n",
      "Chain 3:  50% [0:00:30 of 0:01:01 remaining]\n",
      "Chain 3:  60% [0:00:25 of 0:01:03 remaining]\n",
      "Chain 3:  70% [0:00:19 of 0:01:04 remaining]\n",
      "Chain 3:  80% [0:00:13 of 0:01:04 remaining]\n",
      "Chain 3:  90% [0:00:07 of 0:01:05 remaining]\n",
      "Chain 3: 100% [0:00:00 of 0:01:06 remaining]\n",
      "\n"
     ]
    },
    {
     "output_type": "execute_result",
     "data": {
      "text/plain": "Object of type \"Mamba.ModelChains\"\n\nIterations = 1001:10000\nThinning interval = 1\nChains = 1,2,3\nSamples per chain = 9000\n\n[25.0624 115.042 0.883108; 25.868 115.041 0.885934; … ; 26.133 114.527 0.878285; 28.2363 114.527 0.878285]\n\n[26.4428 113.056 0.927548; 27.75 113.674 0.906779; … ; 29.002 111.252 0.960606; 28.9889 116.447 0.847133]\n\n[27.2074 114.797 0.887829; 26.9059 114.798 0.880363; … ; 25.6592 110.132 0.993172; 25.4869 113.431 0.909508]"
     },
     "metadata": {},
     "execution_count": 2
    }
   ],
   "cell_type": "code",
   "source": [
    "df2 = filter(row -> row[:age] >= 18, df);\n",
    "line[:x] = convert(Array{Float64,1}, df2[:weight]);\n",
    "line[:y] = convert(Array{Float64,1}, df2[:height]);\n",
    "line[:xmat] = convert(Array{Float64,2}, [ones(length(line[:x])) line[:x]])\n",
    "\n",
    "# Model Specification\n",
    "model = Model(\n",
    "  y = Stochastic(1,\n",
    "    (xmat, beta, s2) -> MvNormal(xmat * beta, sqrt(s2)),\n",
    "    false\n",
    "  ),\n",
    "  beta = Stochastic(1, () -> MvNormal([178, 0], [sqrt(10000), sqrt(100)])),\n",
    "  s2 = Stochastic(() -> Uniform(0, 50))\n",
    ")\n",
    "\n",
    "\n",
    "# Initial Values\n",
    "inits = [\n",
    "  Dict{Symbol, Any}(\n",
    "    :y => line[:y],\n",
    "    :beta => [rand(Normal(178, 100)), rand(Normal(0, 10))],\n",
    "    :s2 => rand(Uniform(0, 50))\n",
    "  )\n",
    "  for i in 1:3\n",
    "]\n",
    "\n",
    "# Tuning Parameters\n",
    "scale1 = [0.5, 0.25]\n",
    "summary1 = identity\n",
    "eps1 = 0.5\n",
    "\n",
    "scale2 = 0.5\n",
    "summary2 = x -> [mean(x); sqrt(var(x))]\n",
    "eps2 = 0.1\n",
    "\n",
    "# Define sampling scheme\n",
    "\n",
    "scheme = [\n",
    "  Mamba.NUTS([:beta]),\n",
    "  Mamba.Slice([:s2], 10)\n",
    "]\n",
    "\n",
    "setsamplers!(model, scheme)\n",
    "\n",
    "# MCMC Simulation\n",
    "\n",
    "sim = mcmc(model, line, inits, 10000, burnin=1000, chains=3)"
   ],
   "metadata": {},
   "execution_count": 2
  },
  {
   "outputs": [],
   "cell_type": "markdown",
   "source": [
    "Show draws summary"
   ],
   "metadata": {}
  },
  {
   "outputs": [
    {
     "name": "stdout",
     "output_type": "stream",
     "text": [
      "Iterations = 1001:10000\n",
      "Thinning interval = 1\n",
      "Chains = 1,2,3\n",
      "Samples per chain = 9000\n",
      "\n",
      "Empirical Posterior Estimates:\n",
      "            Mean         SD        Naive SE       MCSE        ESS  \n",
      "     s2  26.1536830 1.994647037 0.01213903529 0.0207063168 9000.000\n",
      "beta[1] 113.8943924 1.866960111 0.01136195741 0.0350911582 2830.575\n",
      "beta[2]   0.9046571 0.041141556 0.00025037954 0.0007672626 2875.235\n",
      "\n",
      "Quantiles:\n",
      "            2.5%        25.0%       50.0%      75.0%       97.5%   \n",
      "     s2  22.4654209  24.76565499  26.084992  27.4430118  30.2780465\n",
      "beta[1] 110.1909996 112.63222709 113.909523 115.1330948 117.6109926\n",
      "beta[2]   0.8232978   0.87725326   0.904442   0.9324733   0.9862088\n",
      "\n"
     ]
    }
   ],
   "cell_type": "code",
   "source": [
    "describe(sim)"
   ],
   "metadata": {},
   "execution_count": 3
  },
  {
   "outputs": [],
   "cell_type": "markdown",
   "source": [
    "*This notebook was generated using [Literate.jl](https://github.com/fredrikekre/Literate.jl).*"
   ],
   "metadata": {}
  }
 ],
 "nbformat_minor": 3,
 "metadata": {
  "language_info": {
   "file_extension": ".jl",
   "mimetype": "application/julia",
   "name": "julia",
   "version": "1.1.0-DEV.840"
  },
  "kernelspec": {
   "name": "julia-1.1",
   "display_name": "Julia 1.1.0-DEV.840",
   "language": "julia"
  }
 },
 "nbformat": 4
}
