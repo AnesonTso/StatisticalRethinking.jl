{
 "cells": [
  {
   "outputs": [],
   "cell_type": "code",
   "source": [
    "using StatisticalRethinking, Distributed, JLD\n",
    "using Mamba\n",
    "\n",
    "# Data\n",
    "line = Dict{Symbol, Any}()\n",
    "\n",
    "howell1 = CSV.read(joinpath(dirname(Base.pathof(StatisticalRethinking)), \"..\", \"data\", \"Howell1.csv\"), delim=';')\n",
    "df = convert(DataFrame, howell1);"
   ],
   "metadata": {},
   "execution_count": 1
  },
  {
   "outputs": [],
   "cell_type": "markdown",
   "source": [
    "Use only adults"
   ],
   "metadata": {}
  },
  {
   "outputs": [
    {
     "name": "stdout",
     "output_type": "stream",
     "text": [
      "MCMC Simulation of 10000 Iterations x 3 Chains...\n",
      "\n",
      "Chain 1:   0% [0:12:04 of 0:12:04 remaining]\n",
      "Chain 1:  10% [0:00:54 of 0:00:60 remaining]\n",
      "Chain 1:  20% [0:00:56 of 0:01:10 remaining]\n",
      "Chain 1:  30% [0:00:52 of 0:01:15 remaining]\n",
      "Chain 1:  40% [0:00:46 of 0:01:17 remaining]\n",
      "Chain 1:  50% [0:00:39 of 0:01:17 remaining]\n",
      "Chain 1:  60% [0:00:31 of 0:01:17 remaining]\n",
      "Chain 1:  70% [0:00:23 of 0:01:18 remaining]\n",
      "Chain 1:  80% [0:00:15 of 0:01:17 remaining]\n",
      "Chain 1:  90% [0:00:08 of 0:01:17 remaining]\n",
      "Chain 1: 100% [0:00:00 of 0:01:17 remaining]\n",
      "\n",
      "Chain 2:   0% [0:00:17 of 0:00:17 remaining]\n",
      "Chain 2:  10% [0:00:48 of 0:00:53 remaining]\n",
      "Chain 2:  20% [0:00:53 of 0:01:06 remaining]\n",
      "Chain 2:  30% [0:00:48 of 0:01:08 remaining]\n",
      "Chain 2:  40% [0:00:42 of 0:01:09 remaining]\n",
      "Chain 2:  50% [0:00:35 of 0:01:10 remaining]\n",
      "Chain 2:  60% [0:00:28 of 0:01:10 remaining]\n",
      "Chain 2:  70% [0:00:21 of 0:01:11 remaining]\n",
      "Chain 2:  80% [0:00:14 of 0:01:11 remaining]\n",
      "Chain 2:  90% [0:00:07 of 0:01:11 remaining]\n",
      "Chain 2: 100% [0:00:00 of 0:01:11 remaining]\n",
      "\n",
      "Chain 3:   0% [0:00:02 of 0:00:02 remaining]\n",
      "Chain 3:  10% [0:00:38 of 0:00:42 remaining]\n",
      "Chain 3:  20% [0:00:47 of 0:00:58 remaining]\n",
      "Chain 3:  30% [0:00:44 of 0:01:03 remaining]\n",
      "Chain 3:  40% [0:00:39 of 0:01:05 remaining]\n",
      "Chain 3:  50% [0:00:35 of 0:01:11 remaining]\n",
      "Chain 3:  60% [0:00:29 of 0:01:14 remaining]\n",
      "Chain 3:  70% [0:00:22 of 0:01:14 remaining]\n",
      "Chain 3:  80% [0:00:15 of 0:01:15 remaining]\n",
      "Chain 3:  90% [0:00:08 of 0:01:16 remaining]\n",
      "Chain 3: 100% [0:00:00 of 0:01:16 remaining]\n",
      "\n"
     ]
    },
    {
     "output_type": "execute_result",
     "data": {
      "text/plain": "Object of type \"Mamba.ModelChains\"\n\nIterations = 1001:10000\nThinning interval = 1\nChains = 1,2,3\nSamples per chain = 9000\n\n[25.5089 114.08 0.906903; 25.0269 114.08 0.906903; … ; 29.9137 111.503 0.95969; 30.9716 113.51 0.918744]\n\n[26.0006 112.149 0.944307; 28.2906 112.19 0.945082; … ; 25.6726 113.855 0.908003; 27.0773 113.855 0.908003]\n\n[27.0828 112.043 0.951091; 27.3751 117.458 0.834313; … ; 25.4881 112.584 0.923903; 25.4056 112.594 0.94008]"
     },
     "metadata": {},
     "execution_count": 2
    }
   ],
   "cell_type": "code",
   "source": [
    "df2 = filter(row -> row[:age] >= 18, df);\n",
    "line[:x] = convert(Array{Float64,1}, df2[:weight]);\n",
    "line[:y] = convert(Array{Float64,1}, df2[:height]);\n",
    "line[:xmat] = convert(Array{Float64,2}, [ones(length(line[:x])) line[:x]])\n",
    "\n",
    "# Model Specification\n",
    "model = Model(\n",
    "  y = Stochastic(1,\n",
    "    (xmat, beta, s2) -> MvNormal(xmat * beta, sqrt(s2)),\n",
    "    false\n",
    "  ),\n",
    "  beta = Stochastic(1, () -> MvNormal([178, 0], [sqrt(10000), sqrt(100)])),\n",
    "  s2 = Stochastic(() -> Uniform(0, 50))\n",
    ")\n",
    "\n",
    "\n",
    "# Initial Values\n",
    "inits = [\n",
    "  Dict{Symbol, Any}(\n",
    "    :y => line[:y],\n",
    "    :beta => [rand(Normal(178, 100)), rand(Normal(0, 10))],\n",
    "    :s2 => rand(Uniform(0, 50))\n",
    "  )\n",
    "  for i in 1:3\n",
    "]\n",
    "\n",
    "# Tuning Parameters\n",
    "scale1 = [0.5, 0.25]\n",
    "summary1 = identity\n",
    "eps1 = 0.5\n",
    "\n",
    "scale2 = 0.5\n",
    "summary2 = x -> [mean(x); sqrt(var(x))]\n",
    "eps2 = 0.1\n",
    "\n",
    "# Define sampling scheme\n",
    "\n",
    "scheme = [\n",
    "  Mamba.NUTS([:beta]),\n",
    "  Mamba.Slice([:s2], 10)\n",
    "]\n",
    "\n",
    "setsamplers!(model, scheme)\n",
    "\n",
    "# MCMC Simulation\n",
    "\n",
    "sim = mcmc(model, line, inits, 10000, burnin=1000, chains=3)"
   ],
   "metadata": {},
   "execution_count": 2
  },
  {
   "outputs": [],
   "cell_type": "markdown",
   "source": [
    "Show draws summary"
   ],
   "metadata": {}
  },
  {
   "outputs": [
    {
     "name": "stdout",
     "output_type": "stream",
     "text": [
      "Iterations = 1001:10000\n",
      "Thinning interval = 1\n",
      "Chains = 1,2,3\n",
      "Samples per chain = 9000\n",
      "\n",
      "Empirical Posterior Estimates:\n",
      "            Mean        SD        Naive SE       MCSE        ESS  \n",
      "     s2  26.1696678 2.01538767 0.01226525876 0.0198827841 9000.000\n",
      "beta[1] 113.8790522 1.95229946 0.01188131614 0.0385508757 2564.628\n",
      "beta[2]   0.9050053 0.04285097 0.00026078271 0.0008399617 2602.570\n",
      "\n",
      "Quantiles:\n",
      "            2.5%       25.0%       50.0%       75.0%        97.5%   \n",
      "     s2  22.4777551  24.7794017  26.0744570  27.4608463  30.39217044\n",
      "beta[1] 110.0974328 112.5725128 113.8730062 115.1498225 117.73627284\n",
      "beta[2]   0.8203202   0.8764732   0.9053482   0.9337954   0.98867997\n",
      "\n"
     ]
    }
   ],
   "cell_type": "code",
   "source": [
    "describe(sim)"
   ],
   "metadata": {},
   "execution_count": 3
  },
  {
   "outputs": [],
   "cell_type": "markdown",
   "source": [
    "*This notebook was generated using [Literate.jl](https://github.com/fredrikekre/Literate.jl).*"
   ],
   "metadata": {}
  }
 ],
 "nbformat_minor": 3,
 "metadata": {
  "language_info": {
   "file_extension": ".jl",
   "mimetype": "application/julia",
   "name": "julia",
   "version": "1.2.0-DEV.31"
  },
  "kernelspec": {
   "name": "julia-1.2",
   "display_name": "Julia 1.2.0-DEV.31",
   "language": "julia"
  }
 },
 "nbformat": 4
}
