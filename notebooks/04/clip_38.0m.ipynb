{
 "cells": [
  {
   "outputs": [],
   "cell_type": "code",
   "source": [
    "using StatisticalRethinking, Distributed, JLD\n",
    "using Mamba\n",
    "\n",
    "# Data\n",
    "line = Dict{Symbol, Any}()\n",
    "\n",
    "howell1 = CSV.read(rel_path(\"..\", \"data\", \"Howell1.csv\"), delim=';')\n",
    "df = convert(DataFrame, howell1);"
   ],
   "metadata": {},
   "execution_count": 1
  },
  {
   "outputs": [],
   "cell_type": "markdown",
   "source": [
    "Use only adults"
   ],
   "metadata": {}
  },
  {
   "outputs": [
    {
     "name": "stdout",
     "output_type": "stream",
     "text": [
      "MCMC Simulation of 10000 Iterations x 3 Chains...\n",
      "\n",
      "Chain 1:   0% [0:12:37 of 0:12:38 remaining]\n",
      "Chain 1:  10% [0:01:03 of 0:01:10 remaining]\n",
      "Chain 1:  20% [0:00:58 of 0:01:13 remaining]\n",
      "Chain 1:  30% [0:00:53 of 0:01:15 remaining]\n",
      "Chain 1:  40% [0:00:47 of 0:01:18 remaining]\n",
      "Chain 1:  50% [0:00:40 of 0:01:19 remaining]\n",
      "Chain 1:  60% [0:00:31 of 0:01:19 remaining]\n",
      "Chain 1:  70% [0:00:23 of 0:01:17 remaining]\n",
      "Chain 1:  80% [0:00:15 of 0:01:16 remaining]\n",
      "Chain 1:  90% [0:00:08 of 0:01:16 remaining]\n",
      "Chain 1: 100% [0:00:00 of 0:01:16 remaining]\n",
      "\n",
      "Chain 2:   0% [0:00:02 of 0:00:02 remaining]\n",
      "Chain 2:  10% [0:00:43 of 0:00:48 remaining]\n",
      "Chain 2:  20% [0:00:46 of 0:00:57 remaining]\n",
      "Chain 2:  30% [0:00:43 of 0:01:01 remaining]\n",
      "Chain 2:  40% [0:00:38 of 0:01:04 remaining]\n",
      "Chain 2:  50% [0:00:33 of 0:01:06 remaining]\n",
      "Chain 2:  60% [0:00:27 of 0:01:06 remaining]\n",
      "Chain 2:  70% [0:00:21 of 0:01:09 remaining]\n",
      "Chain 2:  80% [0:00:14 of 0:01:11 remaining]\n",
      "Chain 2:  90% [0:00:07 of 0:01:12 remaining]\n",
      "Chain 2: 100% [0:00:00 of 0:01:12 remaining]\n",
      "\n",
      "Chain 3:   0% [0:00:03 of 0:00:03 remaining]\n",
      "Chain 3:  10% [0:00:39 of 0:00:43 remaining]\n",
      "Chain 3:  20% [0:00:53 of 0:01:07 remaining]\n",
      "Chain 3:  30% [0:00:53 of 0:01:16 remaining]\n",
      "Chain 3:  40% [0:00:46 of 0:01:17 remaining]\n",
      "Chain 3:  50% [0:00:37 of 0:01:15 remaining]\n",
      "Chain 3:  60% [0:00:30 of 0:01:14 remaining]\n",
      "Chain 3:  70% [0:00:22 of 0:01:14 remaining]\n",
      "Chain 3:  80% [0:00:15 of 0:01:14 remaining]\n",
      "Chain 3:  90% [0:00:07 of 0:01:13 remaining]\n",
      "Chain 3: 100% [0:00:00 of 0:01:13 remaining]\n",
      "\n"
     ]
    },
    {
     "output_type": "execute_result",
     "data": {
      "text/plain": "Object of type \"Mamba.ModelChains\"\n\nIterations = 1001:10000\nThinning interval = 1\nChains = 1,2,3\nSamples per chain = 9000\n\n[29.291 111.11 0.971949; 31.9401 111.111 0.966764; … ; 23.7928 114.23 0.902335; 25.7125 115.853 0.864817]\n\n[26.2135 113.438 0.917663; 26.023 116.192 0.853881; … ; 26.9004 114.421 0.883175; 25.9337 114.42 0.898069]\n\n[27.3121 114.802 0.881749; 27.0825 115.883 0.862978; … ; 23.5384 111.898 0.941677; 25.2053 113.552 0.906353]"
     },
     "metadata": {},
     "execution_count": 2
    }
   ],
   "cell_type": "code",
   "source": [
    "df2 = filter(row -> row[:age] >= 18, df);\n",
    "line[:x] = convert(Array{Float64,1}, df2[:weight]);\n",
    "line[:y] = convert(Array{Float64,1}, df2[:height]);\n",
    "line[:xmat] = convert(Array{Float64,2}, [ones(length(line[:x])) line[:x]])\n",
    "\n",
    "# Model Specification\n",
    "model = Model(\n",
    "  y = Stochastic(1,\n",
    "    (xmat, beta, s2) -> MvNormal(xmat * beta, sqrt(s2)),\n",
    "    false\n",
    "  ),\n",
    "  beta = Stochastic(1, () -> MvNormal([178, 0], [sqrt(10000), sqrt(100)])),\n",
    "  s2 = Stochastic(() -> Uniform(0, 50))\n",
    ")\n",
    "\n",
    "# Initial Values\n",
    "inits = [\n",
    "  Dict{Symbol, Any}(\n",
    "    :y => line[:y],\n",
    "    :beta => [rand(Normal(178, 100)), rand(Normal(0, 10))],\n",
    "    :s2 => rand(Uniform(0, 50))\n",
    "  )\n",
    "  for i in 1:3\n",
    "]\n",
    "\n",
    "# Tuning Parameters\n",
    "scale1 = [0.5, 0.25]\n",
    "summary1 = identity\n",
    "eps1 = 0.5\n",
    "\n",
    "scale2 = 0.5\n",
    "summary2 = x -> [mean(x); sqrt(var(x))]\n",
    "eps2 = 0.1\n",
    "\n",
    "# Define sampling scheme\n",
    "\n",
    "scheme = [\n",
    "  Mamba.NUTS([:beta]),\n",
    "  Mamba.Slice([:s2], 10)\n",
    "]\n",
    "\n",
    "setsamplers!(model, scheme)\n",
    "\n",
    "# MCMC Simulation\n",
    "\n",
    "sim = mcmc(model, line, inits, 10000, burnin=1000, chains=3)"
   ],
   "metadata": {},
   "execution_count": 2
  },
  {
   "outputs": [],
   "cell_type": "markdown",
   "source": [
    "Show draws summary"
   ],
   "metadata": {}
  },
  {
   "outputs": [
    {
     "name": "stdout",
     "output_type": "stream",
     "text": [
      "Iterations = 1001:10000\n",
      "Thinning interval = 1\n",
      "Chains = 1,2,3\n",
      "Samples per chain = 9000\n",
      "\n",
      "Empirical Posterior Estimates:\n",
      "            Mean         SD        Naive SE       MCSE        ESS   \n",
      "     s2  26.15063474 1.98833081 0.01210059597 0.0200282874 9000.0000\n",
      "beta[1] 113.96980409 1.92774609 0.01173188912 0.0377786031 2603.8015\n",
      "beta[2]   0.90303842 0.04245238 0.00025835696 0.0008251609 2646.8349\n",
      "\n",
      "Quantiles:\n",
      "            2.5%        25.0%       50.0%        75.0%        97.5%   \n",
      "     s2  22.5516645  24.77009540  26.0489604  27.44295881  30.25827774\n",
      "beta[1] 110.3251882 112.67293041 113.9333138 115.23613739 117.82433913\n",
      "beta[2]   0.8186605   0.87517508   0.9036455   0.93158346   0.98418933\n",
      "\n"
     ]
    }
   ],
   "cell_type": "code",
   "source": [
    "describe(sim)"
   ],
   "metadata": {},
   "execution_count": 3
  },
  {
   "outputs": [],
   "cell_type": "markdown",
   "source": [
    "End of `clip_38.0m.jl`"
   ],
   "metadata": {}
  },
  {
   "outputs": [],
   "cell_type": "markdown",
   "source": [
    "*This notebook was generated using [Literate.jl](https://github.com/fredrikekre/Literate.jl).*"
   ],
   "metadata": {}
  }
 ],
 "nbformat_minor": 3,
 "metadata": {
  "language_info": {
   "file_extension": ".jl",
   "mimetype": "application/julia",
   "name": "julia",
   "version": "1.1.0-DEV.840"
  },
  "kernelspec": {
   "name": "julia-1.1",
   "display_name": "Julia 1.1.0-DEV.840",
   "language": "julia"
  }
 },
 "nbformat": 4
}
