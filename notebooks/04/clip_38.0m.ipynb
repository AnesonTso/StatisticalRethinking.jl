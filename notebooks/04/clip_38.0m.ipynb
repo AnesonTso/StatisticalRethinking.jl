{
 "cells": [
  {
   "outputs": [],
   "cell_type": "code",
   "source": [
    "using StatisticalRethinking, Distributed, JLD\n",
    "using Mamba\n",
    "\n",
    "# Data\n",
    "line = Dict{Symbol, Any}()\n",
    "\n",
    "howell1 = CSV.read(rel_path(\"..\", \"data\", \"Howell1.csv\"), delim=';')\n",
    "df = convert(DataFrame, howell1);"
   ],
   "metadata": {},
   "execution_count": 1
  },
  {
   "outputs": [],
   "cell_type": "markdown",
   "source": [
    "Use only adults"
   ],
   "metadata": {}
  },
  {
   "outputs": [
    {
     "name": "stdout",
     "output_type": "stream",
     "text": [
      "MCMC Simulation of 10000 Iterations x 3 Chains...\n",
      "\n",
      "Chain 1:   0% [0:12:54 of 0:12:54 remaining]\n",
      "Chain 1:  10% [0:00:55 of 0:01:01 remaining]\n",
      "Chain 1:  20% [0:00:59 of 0:01:14 remaining]\n",
      "Chain 1:  30% [0:00:55 of 0:01:19 remaining]\n",
      "Chain 1:  40% [0:00:47 of 0:01:19 remaining]\n",
      "Chain 1:  50% [0:00:39 of 0:01:18 remaining]\n",
      "Chain 1:  60% [0:00:31 of 0:01:18 remaining]\n",
      "Chain 1:  70% [0:00:23 of 0:01:18 remaining]\n",
      "Chain 1:  80% [0:00:16 of 0:01:18 remaining]\n",
      "Chain 1:  90% [0:00:08 of 0:01:18 remaining]\n",
      "Chain 1: 100% [0:00:00 of 0:01:20 remaining]\n",
      "\n",
      "Chain 2:   0% [0:00:02 of 0:00:02 remaining]\n",
      "Chain 2:  10% [0:00:49 of 0:00:54 remaining]\n",
      "Chain 2:  20% [0:00:52 of 0:01:05 remaining]\n",
      "Chain 2:  30% [0:00:47 of 0:01:07 remaining]\n",
      "Chain 2:  40% [0:00:41 of 0:01:08 remaining]\n",
      "Chain 2:  50% [0:00:34 of 0:01:09 remaining]\n",
      "Chain 2:  60% [0:00:28 of 0:01:10 remaining]\n",
      "Chain 2:  70% [0:00:21 of 0:01:09 remaining]\n",
      "Chain 2:  80% [0:00:14 of 0:01:09 remaining]\n",
      "Chain 2:  90% [0:00:07 of 0:01:10 remaining]\n",
      "Chain 2: 100% [0:00:00 of 0:01:10 remaining]\n",
      "\n",
      "Chain 3:   0% [0:00:02 of 0:00:02 remaining]\n",
      "Chain 3:  10% [0:00:44 of 0:00:49 remaining]\n",
      "Chain 3:  20% [0:00:55 of 0:01:09 remaining]\n",
      "Chain 3:  30% [0:00:54 of 0:01:17 remaining]\n",
      "Chain 3:  40% [0:00:45 of 0:01:16 remaining]\n",
      "Chain 3:  50% [0:00:37 of 0:01:15 remaining]\n",
      "Chain 3:  60% [0:00:30 of 0:01:16 remaining]\n",
      "Chain 3:  70% [0:00:23 of 0:01:16 remaining]\n",
      "Chain 3:  80% [0:00:15 of 0:01:16 remaining]\n",
      "Chain 3:  90% [0:00:08 of 0:01:16 remaining]\n",
      "Chain 3: 100% [0:00:00 of 0:01:15 remaining]\n",
      "\n"
     ]
    },
    {
     "output_type": "execute_result",
     "data": {
      "text/plain": "Object of type \"Mamba.ModelChains\"\n\nIterations = 1001:10000\nThinning interval = 1\nChains = 1,2,3\nSamples per chain = 9000\n\n[24.4493 112.801 0.928952; 24.5019 112.801 0.928952; … ; 29.0218 116.054 0.857501; 29.5912 116.059 0.855871]\n\n[27.2122 113.183 0.914063; 26.8716 113.719 0.914682; … ; 23.0684 113.304 0.913253; 24.2408 113.244 0.918675]\n\n[22.4222 114.852 0.881698; 31.5334 113.989 0.902371; … ; 24.9668 114.18 0.889714; 26.3888 114.18 0.889714]"
     },
     "metadata": {},
     "execution_count": 2
    }
   ],
   "cell_type": "code",
   "source": [
    "df2 = filter(row -> row[:age] >= 18, df);\n",
    "line[:x] = convert(Array{Float64,1}, df2[:weight]);\n",
    "line[:y] = convert(Array{Float64,1}, df2[:height]);\n",
    "line[:xmat] = convert(Array{Float64,2}, [ones(length(line[:x])) line[:x]])\n",
    "\n",
    "# Model Specification\n",
    "model = Model(\n",
    "  y = Stochastic(1,\n",
    "    (xmat, beta, s2) -> MvNormal(xmat * beta, sqrt(s2)),\n",
    "    false\n",
    "  ),\n",
    "  beta = Stochastic(1, () -> MvNormal([178, 0], [sqrt(10000), sqrt(100)])),\n",
    "  s2 = Stochastic(() -> Uniform(0, 50))\n",
    ")\n",
    "\n",
    "# Initial Values\n",
    "inits = [\n",
    "  Dict{Symbol, Any}(\n",
    "    :y => line[:y],\n",
    "    :beta => [rand(Normal(178, 100)), rand(Normal(0, 10))],\n",
    "    :s2 => rand(Uniform(0, 50))\n",
    "  )\n",
    "  for i in 1:3\n",
    "]\n",
    "\n",
    "# Tuning Parameters\n",
    "scale1 = [0.5, 0.25]\n",
    "summary1 = identity\n",
    "eps1 = 0.5\n",
    "\n",
    "scale2 = 0.5\n",
    "summary2 = x -> [mean(x); sqrt(var(x))]\n",
    "eps2 = 0.1\n",
    "\n",
    "# Define sampling scheme\n",
    "\n",
    "scheme = [\n",
    "  Mamba.NUTS([:beta]),\n",
    "  Mamba.Slice([:s2], 10)\n",
    "]\n",
    "\n",
    "setsamplers!(model, scheme)\n",
    "\n",
    "# MCMC Simulation\n",
    "\n",
    "sim = mcmc(model, line, inits, 10000, burnin=1000, chains=3)"
   ],
   "metadata": {},
   "execution_count": 2
  },
  {
   "outputs": [],
   "cell_type": "markdown",
   "source": [
    "Show draws summary"
   ],
   "metadata": {}
  },
  {
   "outputs": [
    {
     "name": "stdout",
     "output_type": "stream",
     "text": [
      "Iterations = 1001:10000\n",
      "Thinning interval = 1\n",
      "Chains = 1,2,3\n",
      "Samples per chain = 9000\n",
      "\n",
      "Empirical Posterior Estimates:\n",
      "            Mean         SD       Naive SE        MCSE        ESS   \n",
      "     s2  26.16629544 1.99460008 0.0121387495 0.02079171933 9000.0000\n",
      "beta[1] 113.86752723 1.88927944 0.0114977885 0.03438235594 3019.4034\n",
      "beta[2]   0.90521411 0.04154291 0.0002528221 0.00075307744 3043.0883\n",
      "\n",
      "Quantiles:\n",
      "            2.5%       25.0%       50.0%       75.0%        97.5%   \n",
      "     s2  22.5524892  24.7718918  26.0682694  27.4511863  30.31838370\n",
      "beta[1] 110.1535102 112.5729497 113.8894639 115.1568906 117.50771585\n",
      "beta[2]   0.8249097   0.8770099   0.9046399   0.9331817   0.98694885\n",
      "\n"
     ]
    }
   ],
   "cell_type": "code",
   "source": [
    "describe(sim)"
   ],
   "metadata": {},
   "execution_count": 3
  },
  {
   "outputs": [],
   "cell_type": "markdown",
   "source": [
    "End of `clip_38.0m.jl`"
   ],
   "metadata": {}
  },
  {
   "outputs": [],
   "cell_type": "markdown",
   "source": [
    "*This notebook was generated using [Literate.jl](https://github.com/fredrikekre/Literate.jl).*"
   ],
   "metadata": {}
  }
 ],
 "nbformat_minor": 3,
 "metadata": {
  "language_info": {
   "file_extension": ".jl",
   "mimetype": "application/julia",
   "name": "julia",
   "version": "1.1.0-DEV.840"
  },
  "kernelspec": {
   "name": "julia-1.1",
   "display_name": "Julia 1.1.0-DEV.840",
   "language": "julia"
  }
 },
 "nbformat": 4
}
