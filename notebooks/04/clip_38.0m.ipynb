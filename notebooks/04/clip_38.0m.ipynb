{
 "cells": [
  {
   "outputs": [],
   "cell_type": "code",
   "source": [
    "using StatisticalRethinking, Distributed, JLD\n",
    "using Mamba\n",
    "\n",
    "# Data\n",
    "line = Dict{Symbol, Any}()\n",
    "\n",
    "howell1 = CSV.read(rel_path(\"..\", \"data\", \"Howell1.csv\"), delim=';')\n",
    "df = convert(DataFrame, howell1);"
   ],
   "metadata": {},
   "execution_count": 1
  },
  {
   "outputs": [],
   "cell_type": "markdown",
   "source": [
    "Use only adults"
   ],
   "metadata": {}
  },
  {
   "outputs": [
    {
     "name": "stdout",
     "output_type": "stream",
     "text": [
      "MCMC Simulation of 10000 Iterations x 3 Chains...\n",
      "\n",
      "Chain 1:   0% [0:11:44 of 0:11:45 remaining]\n",
      "Chain 1:  10% [0:00:56 of 0:01:02 remaining]\n",
      "Chain 1:  20% [0:00:58 of 0:01:12 remaining]\n",
      "Chain 1:  30% [0:00:51 of 0:01:12 remaining]\n",
      "Chain 1:  40% [0:00:44 of 0:01:13 remaining]\n",
      "Chain 1:  50% [0:00:37 of 0:01:13 remaining]\n",
      "Chain 1:  60% [0:00:29 of 0:01:13 remaining]\n",
      "Chain 1:  70% [0:00:22 of 0:01:13 remaining]\n",
      "Chain 1:  80% [0:00:15 of 0:01:13 remaining]\n",
      "Chain 1:  90% [0:00:07 of 0:01:13 remaining]\n",
      "Chain 1: 100% [0:00:00 of 0:01:13 remaining]\n",
      "\n",
      "Chain 2:   0% [0:00:02 of 0:00:02 remaining]\n",
      "Chain 2:  10% [0:00:44 of 0:00:49 remaining]\n",
      "Chain 2:  20% [0:00:47 of 0:00:58 remaining]\n",
      "Chain 2:  30% [0:00:43 of 0:01:02 remaining]\n",
      "Chain 2:  40% [0:00:38 of 0:01:04 remaining]\n",
      "Chain 2:  50% [0:00:33 of 0:01:06 remaining]\n",
      "Chain 2:  60% [0:00:27 of 0:01:06 remaining]\n",
      "Chain 2:  70% [0:00:20 of 0:01:07 remaining]\n",
      "Chain 2:  80% [0:00:13 of 0:01:07 remaining]\n",
      "Chain 2:  90% [0:00:07 of 0:01:08 remaining]\n",
      "Chain 2: 100% [0:00:00 of 0:01:09 remaining]\n",
      "\n",
      "Chain 3:   0% [0:00:03 of 0:00:03 remaining]\n",
      "Chain 3:  10% [0:00:54 of 0:00:60 remaining]\n",
      "Chain 3:  20% [0:00:54 of 0:01:07 remaining]\n",
      "Chain 3:  30% [0:00:48 of 0:01:08 remaining]\n",
      "Chain 3:  40% [0:00:42 of 0:01:09 remaining]\n",
      "Chain 3:  50% [0:00:35 of 0:01:11 remaining]\n",
      "Chain 3:  60% [0:00:29 of 0:01:12 remaining]\n",
      "Chain 3:  70% [0:00:22 of 0:01:13 remaining]\n",
      "Chain 3:  80% [0:00:15 of 0:01:13 remaining]\n",
      "Chain 3:  90% [0:00:07 of 0:01:13 remaining]\n",
      "Chain 3: 100% [0:00:00 of 0:01:14 remaining]\n",
      "\n"
     ]
    },
    {
     "output_type": "execute_result",
     "data": {
      "text/plain": "Object of type \"Mamba.ModelChains\"\n\nIterations = 1001:10000\nThinning interval = 1\nChains = 1,2,3\nSamples per chain = 9000\n\n[25.7439 113.407 0.923656; 23.8119 113.623 0.916686; … ; 25.1869 112.131 0.945099; 30.3224 112.131 0.94574]\n\n[27.7872 116.593 0.859618; 28.5837 116.585 0.851043; … ; 25.8466 114.145 0.906378; 24.1256 114.148 0.89817]\n\n[23.6497 115.235 0.871294; 28.5615 115.23 0.890949; … ; 25.0792 115.853 0.8637; 27.0397 116.459 0.844142]"
     },
     "metadata": {},
     "execution_count": 2
    }
   ],
   "cell_type": "code",
   "source": [
    "df2 = filter(row -> row[:age] >= 18, df);\n",
    "line[:x] = convert(Array{Float64,1}, df2[:weight]);\n",
    "line[:y] = convert(Array{Float64,1}, df2[:height]);\n",
    "line[:xmat] = convert(Array{Float64,2}, [ones(length(line[:x])) line[:x]])\n",
    "\n",
    "# Model Specification\n",
    "model = Model(\n",
    "  y = Stochastic(1,\n",
    "    (xmat, beta, s2) -> MvNormal(xmat * beta, sqrt(s2)),\n",
    "    false\n",
    "  ),\n",
    "  beta = Stochastic(1, () -> MvNormal([178, 0], [sqrt(10000), sqrt(100)])),\n",
    "  s2 = Stochastic(() -> Uniform(0, 50))\n",
    ")\n",
    "\n",
    "# Initial Values\n",
    "inits = [\n",
    "  Dict{Symbol, Any}(\n",
    "    :y => line[:y],\n",
    "    :beta => [rand(Normal(178, 100)), rand(Normal(0, 10))],\n",
    "    :s2 => rand(Uniform(0, 50))\n",
    "  )\n",
    "  for i in 1:3\n",
    "]\n",
    "\n",
    "# Tuning Parameters\n",
    "scale1 = [0.5, 0.25]\n",
    "summary1 = identity\n",
    "eps1 = 0.5\n",
    "\n",
    "scale2 = 0.5\n",
    "summary2 = x -> [mean(x); sqrt(var(x))]\n",
    "eps2 = 0.1\n",
    "\n",
    "# Define sampling scheme\n",
    "\n",
    "scheme = [\n",
    "  Mamba.NUTS([:beta]),\n",
    "  Mamba.Slice([:s2], 10)\n",
    "]\n",
    "\n",
    "setsamplers!(model, scheme)\n",
    "\n",
    "# MCMC Simulation\n",
    "\n",
    "sim = mcmc(model, line, inits, 10000, burnin=1000, chains=3)"
   ],
   "metadata": {},
   "execution_count": 2
  },
  {
   "outputs": [],
   "cell_type": "markdown",
   "source": [
    "Show draws summary"
   ],
   "metadata": {}
  },
  {
   "outputs": [
    {
     "name": "stdout",
     "output_type": "stream",
     "text": [
      "Iterations = 1001:10000\n",
      "Thinning interval = 1\n",
      "Chains = 1,2,3\n",
      "Samples per chain = 9000\n",
      "\n",
      "Empirical Posterior Estimates:\n",
      "            Mean         SD       Naive SE       MCSE        ESS   \n",
      "     s2  26.1405808 1.997937106 0.0121590580 0.0195369117 9000.0000\n",
      "beta[1] 113.8741291 1.902731671 0.0115796562 0.0340887412 3115.5388\n",
      "beta[2]   0.9051224 0.041832127 0.0002545822 0.0007394402 3200.4699\n",
      "\n",
      "Quantiles:\n",
      "           2.5%       25.0%        50.0%       75.0%        97.5%   \n",
      "     s2  22.509725  24.7512131  26.03891495  27.4277883  30.31804739\n",
      "beta[1] 110.168803 112.6046534 113.90578317 115.1437784 117.65732224\n",
      "beta[2]   0.822729   0.8771617   0.90430177   0.9330343   0.98645237\n",
      "\n"
     ]
    }
   ],
   "cell_type": "code",
   "source": [
    "describe(sim)"
   ],
   "metadata": {},
   "execution_count": 3
  },
  {
   "outputs": [],
   "cell_type": "markdown",
   "source": [
    "End of `clip_38.0m.jl`"
   ],
   "metadata": {}
  },
  {
   "outputs": [],
   "cell_type": "markdown",
   "source": [
    "*This notebook was generated using [Literate.jl](https://github.com/fredrikekre/Literate.jl).*"
   ],
   "metadata": {}
  }
 ],
 "nbformat_minor": 3,
 "metadata": {
  "language_info": {
   "file_extension": ".jl",
   "mimetype": "application/julia",
   "name": "julia",
   "version": "1.1.0-DEV.840"
  },
  "kernelspec": {
   "name": "julia-1.1",
   "display_name": "Julia 1.1.0-DEV.840",
   "language": "julia"
  }
 },
 "nbformat": 4
}
