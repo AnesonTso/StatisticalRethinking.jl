{
 "cells": [
  {
   "outputs": [],
   "cell_type": "code",
   "source": [
    "using StatisticalRethinking, Distributed, JLD\n",
    "using Mamba\n",
    "\n",
    "# Data\n",
    "line = Dict{Symbol, Any}()\n",
    "\n",
    "howell1 = CSV.read(rel_path(\"..\", \"data\", \"Howell1.csv\"), delim=';')\n",
    "df = convert(DataFrame, howell1);"
   ],
   "metadata": {},
   "execution_count": 1
  },
  {
   "outputs": [],
   "cell_type": "markdown",
   "source": [
    "Use only adults"
   ],
   "metadata": {}
  },
  {
   "outputs": [
    {
     "name": "stdout",
     "output_type": "stream",
     "text": [
      "MCMC Simulation of 10000 Iterations x 3 Chains...\n",
      "\n",
      "Chain 1:   0% [0:11:24 of 0:11:25 remaining]\n",
      "Chain 1:  10% [0:00:59 of 0:01:06 remaining]\n",
      "Chain 1:  20% [0:01:02 of 0:01:18 remaining]\n",
      "Chain 1:  30% [0:00:55 of 0:01:19 remaining]\n",
      "Chain 1:  40% [0:00:48 of 0:01:20 remaining]\n",
      "Chain 1:  50% [0:00:41 of 0:01:21 remaining]\n",
      "Chain 1:  60% [0:00:33 of 0:01:22 remaining]\n",
      "Chain 1:  70% [0:00:25 of 0:01:24 remaining]\n",
      "Chain 1:  80% [0:00:17 of 0:01:24 remaining]\n",
      "Chain 1:  90% [0:00:08 of 0:01:23 remaining]\n",
      "Chain 1: 100% [0:00:00 of 0:01:22 remaining]\n",
      "\n",
      "Chain 2:   0% [0:00:03 of 0:00:03 remaining]\n",
      "Chain 2:  10% [0:00:37 of 0:00:41 remaining]\n",
      "Chain 2:  20% [0:00:49 of 0:01:01 remaining]\n",
      "Chain 2:  30% [0:00:45 of 0:01:05 remaining]\n",
      "Chain 2:  40% [0:00:40 of 0:01:07 remaining]\n",
      "Chain 2:  50% [0:00:34 of 0:01:08 remaining]\n",
      "Chain 2:  60% [0:00:27 of 0:01:09 remaining]\n",
      "Chain 2:  70% [0:00:21 of 0:01:09 remaining]\n",
      "Chain 2:  80% [0:00:14 of 0:01:09 remaining]\n",
      "Chain 2:  90% [0:00:07 of 0:01:09 remaining]\n",
      "Chain 2: 100% [0:00:00 of 0:01:09 remaining]\n",
      "\n",
      "Chain 3:   0% [0:00:02 of 0:00:02 remaining]\n",
      "Chain 3:  10% [0:00:43 of 0:00:48 remaining]\n",
      "Chain 3:  20% [0:00:48 of 0:01:01 remaining]\n",
      "Chain 3:  30% [0:00:45 of 0:01:04 remaining]\n",
      "Chain 3:  40% [0:00:40 of 0:01:06 remaining]\n",
      "Chain 3:  50% [0:00:34 of 0:01:07 remaining]\n",
      "Chain 3:  60% [0:00:28 of 0:01:09 remaining]\n",
      "Chain 3:  70% [0:00:21 of 0:01:09 remaining]\n",
      "Chain 3:  80% [0:00:14 of 0:01:09 remaining]\n",
      "Chain 3:  90% [0:00:07 of 0:01:08 remaining]\n",
      "Chain 3: 100% [0:00:00 of 0:01:09 remaining]\n",
      "\n"
     ]
    },
    {
     "output_type": "execute_result",
     "data": {
      "text/plain": "Object of type \"Mamba.ModelChains\"\n\nIterations = 1001:10000\nThinning interval = 1\nChains = 1,2,3\nSamples per chain = 9000\n\n[25.2848 112.756 0.922786; 25.7527 111.26 0.9587; … ; 28.008 112.87 0.926036; 27.5518 112.576 0.940194]\n\n[25.2583 115.247 0.870461; 23.0771 109.491 1.00263; … ; 26.8415 113.247 0.926967; 26.5063 116.668 0.843669]\n\n[29.739 113.228 0.924762; 22.604 115.192 0.883504; … ; 23.6612 113.955 0.908885; 26.3371 113.954 0.898383]"
     },
     "metadata": {},
     "execution_count": 2
    }
   ],
   "cell_type": "code",
   "source": [
    "df2 = filter(row -> row[:age] >= 18, df);\n",
    "line[:x] = convert(Array{Float64,1}, df2[:weight]);\n",
    "line[:y] = convert(Array{Float64,1}, df2[:height]);\n",
    "line[:xmat] = convert(Array{Float64,2}, [ones(length(line[:x])) line[:x]])\n",
    "\n",
    "# Model Specification\n",
    "model = Model(\n",
    "  y = Stochastic(1,\n",
    "    (xmat, beta, s2) -> MvNormal(xmat * beta, sqrt(s2)),\n",
    "    false\n",
    "  ),\n",
    "  beta = Stochastic(1, () -> MvNormal([178, 0], [sqrt(10000), sqrt(100)])),\n",
    "  s2 = Stochastic(() -> Uniform(0, 50))\n",
    ")\n",
    "\n",
    "# Initial Values\n",
    "inits = [\n",
    "  Dict{Symbol, Any}(\n",
    "    :y => line[:y],\n",
    "    :beta => [rand(Normal(178, 100)), rand(Normal(0, 10))],\n",
    "    :s2 => rand(Uniform(0, 50))\n",
    "  )\n",
    "  for i in 1:3\n",
    "]\n",
    "\n",
    "# Tuning Parameters\n",
    "scale1 = [0.5, 0.25]\n",
    "summary1 = identity\n",
    "eps1 = 0.5\n",
    "\n",
    "scale2 = 0.5\n",
    "summary2 = x -> [mean(x); sqrt(var(x))]\n",
    "eps2 = 0.1\n",
    "\n",
    "# Define sampling scheme\n",
    "\n",
    "scheme = [\n",
    "  Mamba.NUTS([:beta]),\n",
    "  Mamba.Slice([:s2], 10)\n",
    "]\n",
    "\n",
    "setsamplers!(model, scheme)\n",
    "\n",
    "# MCMC Simulation\n",
    "\n",
    "sim = mcmc(model, line, inits, 10000, burnin=1000, chains=3)"
   ],
   "metadata": {},
   "execution_count": 2
  },
  {
   "outputs": [],
   "cell_type": "markdown",
   "source": [
    "Show draws summary"
   ],
   "metadata": {}
  },
  {
   "outputs": [
    {
     "name": "stdout",
     "output_type": "stream",
     "text": [
      "Iterations = 1001:10000\n",
      "Thinning interval = 1\n",
      "Chains = 1,2,3\n",
      "Samples per chain = 9000\n",
      "\n",
      "Empirical Posterior Estimates:\n",
      "            Mean          SD        Naive SE       MCSE        ESS   \n",
      "     s2  26.15802727 1.989259687 0.01210624893 0.0191562542 9000.0000\n",
      "beta[1] 113.89805476 1.974686810 0.01201756122 0.0370529913 2840.2064\n",
      "beta[2]   0.90465857 0.043477684 0.00026459676 0.0008074527 2899.3365\n",
      "\n",
      "Quantiles:\n",
      "            2.5%        25.0%        50.0%       75.0%       97.5%   \n",
      "     s2  22.5281217  24.77764752  26.07315568  27.4422523  30.3044994\n",
      "beta[1] 110.0554543 112.55972965 113.90215901 115.2449892 117.7815786\n",
      "beta[2]   0.8190722   0.87522166   0.90451113   0.9341674   0.9900263\n",
      "\n"
     ]
    }
   ],
   "cell_type": "code",
   "source": [
    "describe(sim)"
   ],
   "metadata": {},
   "execution_count": 3
  },
  {
   "outputs": [],
   "cell_type": "markdown",
   "source": [
    "End of `clip_38.0m.jl`"
   ],
   "metadata": {}
  },
  {
   "outputs": [],
   "cell_type": "markdown",
   "source": [
    "*This notebook was generated using [Literate.jl](https://github.com/fredrikekre/Literate.jl).*"
   ],
   "metadata": {}
  }
 ],
 "nbformat_minor": 3,
 "metadata": {
  "language_info": {
   "file_extension": ".jl",
   "mimetype": "application/julia",
   "name": "julia",
   "version": "1.1.0-DEV.840"
  },
  "kernelspec": {
   "name": "julia-1.1",
   "display_name": "Julia 1.1.0-DEV.840",
   "language": "julia"
  }
 },
 "nbformat": 4
}
