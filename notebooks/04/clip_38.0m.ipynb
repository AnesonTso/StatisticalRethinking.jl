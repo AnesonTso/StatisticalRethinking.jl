{
 "cells": [
  {
   "outputs": [],
   "cell_type": "code",
   "source": [
    "using StatisticalRethinking, Distributed, JLD\n",
    "using Mamba\n",
    "\n",
    "# Data\n",
    "line = Dict{Symbol, Any}()\n",
    "\n",
    "howell1 = CSV.read(rel_path(\"..\", \"data\", \"Howell1.csv\"), delim=';')\n",
    "df = convert(DataFrame, howell1);"
   ],
   "metadata": {},
   "execution_count": 1
  },
  {
   "outputs": [],
   "cell_type": "markdown",
   "source": [
    "Use only adults"
   ],
   "metadata": {}
  },
  {
   "outputs": [
    {
     "name": "stdout",
     "output_type": "stream",
     "text": [
      "MCMC Simulation of 10000 Iterations x 3 Chains...\n",
      "\n",
      "Chain 1:   0% [0:12:34 of 0:12:35 remaining]\n",
      "Chain 1:  10% [0:00:58 of 0:01:05 remaining]\n",
      "Chain 1:  20% [0:00:55 of 0:01:09 remaining]\n",
      "Chain 1:  30% [0:00:51 of 0:01:12 remaining]\n",
      "Chain 1:  40% [0:00:44 of 0:01:13 remaining]\n",
      "Chain 1:  50% [0:00:36 of 0:01:12 remaining]\n",
      "Chain 1:  60% [0:00:29 of 0:01:13 remaining]\n",
      "Chain 1:  70% [0:00:22 of 0:01:14 remaining]\n",
      "Chain 1:  80% [0:00:15 of 0:01:15 remaining]\n",
      "Chain 1:  90% [0:00:08 of 0:01:15 remaining]\n",
      "Chain 1: 100% [0:00:00 of 0:01:16 remaining]\n",
      "\n",
      "Chain 2:   0% [0:00:02 of 0:00:02 remaining]\n",
      "Chain 2:  10% [0:00:55 of 0:01:01 remaining]\n",
      "Chain 2:  20% [0:00:52 of 0:01:06 remaining]\n",
      "Chain 2:  30% [0:00:47 of 0:01:07 remaining]\n",
      "Chain 2:  40% [0:00:44 of 0:01:14 remaining]\n",
      "Chain 2:  50% [0:00:39 of 0:01:18 remaining]\n",
      "Chain 2:  60% [0:00:31 of 0:01:19 remaining]\n",
      "Chain 2:  70% [0:00:24 of 0:01:19 remaining]\n",
      "Chain 2:  80% [0:00:16 of 0:01:19 remaining]\n",
      "Chain 2:  90% [0:00:08 of 0:01:22 remaining]\n",
      "Chain 2: 100% [0:00:00 of 0:01:21 remaining]\n",
      "\n",
      "Chain 3:   0% [0:00:36 of 0:00:36 remaining]\n",
      "Chain 3:  10% [0:00:53 of 0:00:59 remaining]\n",
      "Chain 3:  20% [0:00:51 of 0:01:04 remaining]\n",
      "Chain 3:  30% [0:00:45 of 0:01:04 remaining]\n",
      "Chain 3:  40% [0:00:40 of 0:01:06 remaining]\n",
      "Chain 3:  50% [0:00:34 of 0:01:08 remaining]\n",
      "Chain 3:  60% [0:00:28 of 0:01:10 remaining]\n",
      "Chain 3:  70% [0:00:21 of 0:01:10 remaining]\n",
      "Chain 3:  80% [0:00:14 of 0:01:10 remaining]\n",
      "Chain 3:  90% [0:00:07 of 0:01:12 remaining]\n",
      "Chain 3: 100% [0:00:00 of 0:01:12 remaining]\n",
      "\n"
     ]
    },
    {
     "output_type": "execute_result",
     "data": {
      "text/plain": "Object of type \"Mamba.ModelChains\"\n\nIterations = 1001:10000\nThinning interval = 1\nChains = 1,2,3\nSamples per chain = 9000\n\n[25.22 114.084 0.896618; 25.7528 113.547 0.916072; … ; 28.5014 113.65 0.911957; 24.1392 113.65 0.911957]\n\n[27.831 113.482 0.919646; 23.6281 113.482 0.919646; … ; 31.4312 111.99 0.943154; 31.6522 111.99 0.943154]\n\n[26.6984 115.87 0.865789; 24.1344 115.219 0.881692; … ; 26.9715 116.124 0.851844; 25.8078 116.124 0.851844]"
     },
     "metadata": {},
     "execution_count": 2
    }
   ],
   "cell_type": "code",
   "source": [
    "df2 = filter(row -> row[:age] >= 18, df);\n",
    "line[:x] = convert(Array{Float64,1}, df2[:weight]);\n",
    "line[:y] = convert(Array{Float64,1}, df2[:height]);\n",
    "line[:xmat] = convert(Array{Float64,2}, [ones(length(line[:x])) line[:x]])\n",
    "\n",
    "# Model Specification\n",
    "model = Model(\n",
    "  y = Stochastic(1,\n",
    "    (xmat, beta, s2) -> MvNormal(xmat * beta, sqrt(s2)),\n",
    "    false\n",
    "  ),\n",
    "  beta = Stochastic(1, () -> MvNormal([178, 0], [sqrt(10000), sqrt(100)])),\n",
    "  s2 = Stochastic(() -> Uniform(0, 50))\n",
    ")\n",
    "\n",
    "# Initial Values\n",
    "inits = [\n",
    "  Dict{Symbol, Any}(\n",
    "    :y => line[:y],\n",
    "    :beta => [rand(Normal(178, 100)), rand(Normal(0, 10))],\n",
    "    :s2 => rand(Uniform(0, 50))\n",
    "  )\n",
    "  for i in 1:3\n",
    "]\n",
    "\n",
    "# Tuning Parameters\n",
    "scale1 = [0.5, 0.25]\n",
    "summary1 = identity\n",
    "eps1 = 0.5\n",
    "\n",
    "scale2 = 0.5\n",
    "summary2 = x -> [mean(x); sqrt(var(x))]\n",
    "eps2 = 0.1\n",
    "\n",
    "# Define sampling scheme\n",
    "\n",
    "scheme = [\n",
    "  Mamba.NUTS([:beta]),\n",
    "  Mamba.Slice([:s2], 10)\n",
    "]\n",
    "\n",
    "setsamplers!(model, scheme)\n",
    "\n",
    "# MCMC Simulation\n",
    "\n",
    "sim = mcmc(model, line, inits, 10000, burnin=1000, chains=3)"
   ],
   "metadata": {},
   "execution_count": 2
  },
  {
   "outputs": [],
   "cell_type": "markdown",
   "source": [
    "Show draws summary"
   ],
   "metadata": {}
  },
  {
   "outputs": [
    {
     "name": "stdout",
     "output_type": "stream",
     "text": [
      "Iterations = 1001:10000\n",
      "Thinning interval = 1\n",
      "Chains = 1,2,3\n",
      "Samples per chain = 9000\n",
      "\n",
      "Empirical Posterior Estimates:\n",
      "            Mean        SD       Naive SE       MCSE       ESS  \n",
      "     s2  26.1672521 2.00886054 0.0122255359 0.020344292 9000.000\n",
      "beta[1] 113.9595610 1.90357562 0.0115847923 0.036677465 2693.653\n",
      "beta[2]   0.9033249 0.04193686 0.0002552196 0.000802284 2732.345\n",
      "\n",
      "Quantiles:\n",
      "            2.5%         25.0%        50.0%        75.0%       97.5%   \n",
      "     s2  22.52116028  24.77478698  26.07721770  27.45327143  30.3712559\n",
      "beta[1] 110.16783220 112.70105922 113.99169460 115.23797033 117.7366705\n",
      "beta[2]   0.82052889   0.87549115   0.90261393   0.93096772   0.9871789\n",
      "\n"
     ]
    }
   ],
   "cell_type": "code",
   "source": [
    "describe(sim)"
   ],
   "metadata": {},
   "execution_count": 3
  },
  {
   "outputs": [],
   "cell_type": "markdown",
   "source": [
    "End of `clip_38.0m.jl`"
   ],
   "metadata": {}
  },
  {
   "outputs": [],
   "cell_type": "markdown",
   "source": [
    "*This notebook was generated using [Literate.jl](https://github.com/fredrikekre/Literate.jl).*"
   ],
   "metadata": {}
  }
 ],
 "nbformat_minor": 3,
 "metadata": {
  "language_info": {
   "file_extension": ".jl",
   "mimetype": "application/julia",
   "name": "julia",
   "version": "1.1.0-DEV.840"
  },
  "kernelspec": {
   "name": "julia-1.1",
   "display_name": "Julia 1.1.0-DEV.840",
   "language": "julia"
  }
 },
 "nbformat": 4
}
