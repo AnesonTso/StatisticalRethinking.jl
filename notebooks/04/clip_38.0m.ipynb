{
 "cells": [
  {
   "outputs": [],
   "cell_type": "code",
   "source": [
    "using StatisticalRethinking, Distributed, JLD\n",
    "using Mamba\n",
    "\n",
    "# Data\n",
    "line = Dict{Symbol, Any}()\n",
    "\n",
    "howell1 = CSV.read(joinpath(dirname(Base.pathof(StatisticalRethinking)), \"..\", \"data\", \"Howell1.csv\"), delim=';')\n",
    "df = convert(DataFrame, howell1);"
   ],
   "metadata": {},
   "execution_count": 1
  },
  {
   "outputs": [],
   "cell_type": "markdown",
   "source": [
    "Use only adults"
   ],
   "metadata": {}
  },
  {
   "outputs": [
    {
     "name": "stdout",
     "output_type": "stream",
     "text": [
      "MCMC Simulation of 10000 Iterations x 3 Chains...\n",
      "\n",
      "Chain 1:   0% [0:12:13 of 0:12:14 remaining]\n",
      "Chain 1:  10% [0:01:04 of 0:01:11 remaining]\n",
      "Chain 1:  20% [0:01:00 of 0:01:15 remaining]\n",
      "Chain 1:  30% [0:00:53 of 0:01:16 remaining]\n",
      "Chain 1:  40% [0:00:45 of 0:01:16 remaining]\n",
      "Chain 1:  50% [0:00:37 of 0:01:15 remaining]\n",
      "Chain 1:  60% [0:00:30 of 0:01:15 remaining]\n",
      "Chain 1:  70% [0:00:23 of 0:01:15 remaining]\n",
      "Chain 1:  80% [0:00:15 of 0:01:15 remaining]\n",
      "Chain 1:  90% [0:00:07 of 0:01:14 remaining]\n",
      "Chain 1: 100% [0:00:00 of 0:01:14 remaining]\n",
      "\n",
      "Chain 2:   0% [0:00:02 of 0:00:02 remaining]\n",
      "Chain 2:  10% [0:00:43 of 0:00:48 remaining]\n",
      "Chain 2:  20% [0:00:50 of 0:01:02 remaining]\n",
      "Chain 2:  30% [0:00:48 of 0:01:08 remaining]\n",
      "Chain 2:  40% [0:00:42 of 0:01:10 remaining]\n",
      "Chain 2:  50% [0:00:35 of 0:01:11 remaining]\n",
      "Chain 2:  60% [0:00:28 of 0:01:11 remaining]\n",
      "Chain 2:  70% [0:00:22 of 0:01:12 remaining]\n",
      "Chain 2:  80% [0:00:14 of 0:01:12 remaining]\n",
      "Chain 2:  90% [0:00:07 of 0:01:12 remaining]\n",
      "Chain 2: 100% [0:00:00 of 0:01:13 remaining]\n",
      "\n",
      "Chain 3:   0% [0:00:03 of 0:00:03 remaining]\n",
      "Chain 3:  10% [0:00:51 of 0:00:57 remaining]\n",
      "Chain 3:  20% [0:00:52 of 0:01:06 remaining]\n",
      "Chain 3:  30% [0:00:47 of 0:01:08 remaining]\n",
      "Chain 3:  40% [0:00:42 of 0:01:11 remaining]\n",
      "Chain 3:  50% [0:00:35 of 0:01:11 remaining]\n",
      "Chain 3:  60% [0:00:28 of 0:01:11 remaining]\n",
      "Chain 3:  70% [0:00:21 of 0:01:12 remaining]\n",
      "Chain 3:  80% [0:00:14 of 0:01:11 remaining]\n",
      "Chain 3:  90% [0:00:07 of 0:01:12 remaining]\n",
      "Chain 3: 100% [0:00:00 of 0:01:12 remaining]\n",
      "\n"
     ]
    },
    {
     "output_type": "execute_result",
     "data": {
      "text/plain": "Object of type \"Mamba.ModelChains\"\n\nIterations = 1001:10000\nThinning interval = 1\nChains = 1,2,3\nSamples per chain = 9000\n\n[24.7635 113.324 0.923724; 28.4582 113.326 0.908273; … ; 25.9695 113.538 0.91149; 26.7477 112.384 0.93256]\n\n[30.494 117.833 0.816861; 30.95 116.717 0.832155; … ; 24.7071 113.187 0.923344; 24.7167 113.18 0.908643]\n\n[25.4349 113.423 0.913134; 26.2802 113.886 0.889451; … ; 24.8781 112.593 0.925211; 25.9084 112.593 0.925211]"
     },
     "metadata": {},
     "execution_count": 2
    }
   ],
   "cell_type": "code",
   "source": [
    "df2 = filter(row -> row[:age] >= 18, df);\n",
    "line[:x] = convert(Array{Float64,1}, df2[:weight]);\n",
    "line[:y] = convert(Array{Float64,1}, df2[:height]);\n",
    "line[:xmat] = convert(Array{Float64,2}, [ones(length(line[:x])) line[:x]])\n",
    "\n",
    "# Model Specification\n",
    "model = Model(\n",
    "  y = Stochastic(1,\n",
    "    (xmat, beta, s2) -> MvNormal(xmat * beta, sqrt(s2)),\n",
    "    false\n",
    "  ),\n",
    "  beta = Stochastic(1, () -> MvNormal([178, 0], [sqrt(10000), sqrt(100)])),\n",
    "  s2 = Stochastic(() -> Uniform(0, 50))\n",
    ")\n",
    "\n",
    "\n",
    "# Initial Values\n",
    "inits = [\n",
    "  Dict{Symbol, Any}(\n",
    "    :y => line[:y],\n",
    "    :beta => [rand(Normal(178, 100)), rand(Normal(0, 10))],\n",
    "    :s2 => rand(Uniform(0, 50))\n",
    "  )\n",
    "  for i in 1:3\n",
    "]\n",
    "\n",
    "# Tuning Parameters\n",
    "scale1 = [0.5, 0.25]\n",
    "summary1 = identity\n",
    "eps1 = 0.5\n",
    "\n",
    "scale2 = 0.5\n",
    "summary2 = x -> [mean(x); sqrt(var(x))]\n",
    "eps2 = 0.1\n",
    "\n",
    "# Define sampling scheme\n",
    "\n",
    "scheme = [\n",
    "  Mamba.NUTS([:beta]),\n",
    "  Mamba.Slice([:s2], 10)\n",
    "]\n",
    "\n",
    "setsamplers!(model, scheme)\n",
    "\n",
    "# MCMC Simulation\n",
    "\n",
    "sim = mcmc(model, line, inits, 10000, burnin=1000, chains=3)"
   ],
   "metadata": {},
   "execution_count": 2
  },
  {
   "outputs": [],
   "cell_type": "markdown",
   "source": [
    "Show draws summary"
   ],
   "metadata": {}
  },
  {
   "outputs": [
    {
     "name": "stdout",
     "output_type": "stream",
     "text": [
      "Iterations = 1001:10000\n",
      "Thinning interval = 1\n",
      "Chains = 1,2,3\n",
      "Samples per chain = 9000\n",
      "\n",
      "Empirical Posterior Estimates:\n",
      "            Mean        SD        Naive SE       MCSE        ESS   \n",
      "     s2  26.1733350 1.99427199 0.01213675283 0.0195193085 9000.0000\n",
      "beta[1] 113.8805165 1.89983567 0.01156203168 0.0338775178 3144.9150\n",
      "beta[2]   0.9050092 0.04185932 0.00025474771 0.0007407521 3193.2917\n",
      "\n",
      "Quantiles:\n",
      "           2.5%        25.0%       50.0%       75.0%        97.5%   \n",
      "     s2  22.561815  24.78285800  26.0736587  27.4423801  30.42276217\n",
      "beta[1] 110.129354 112.58086585 113.8893282 115.1676026 117.59213259\n",
      "beta[2]   0.823327   0.87660118   0.9049346   0.9336288   0.98694646\n",
      "\n"
     ]
    }
   ],
   "cell_type": "code",
   "source": [
    "describe(sim)\n",
    "\n",
    "##-"
   ],
   "metadata": {},
   "execution_count": 3
  },
  {
   "outputs": [],
   "cell_type": "markdown",
   "source": [
    "*This notebook was generated using [Literate.jl](https://github.com/fredrikekre/Literate.jl).*"
   ],
   "metadata": {}
  }
 ],
 "nbformat_minor": 3,
 "metadata": {
  "language_info": {
   "file_extension": ".jl",
   "mimetype": "application/julia",
   "name": "julia",
   "version": "1.1.0-DEV.839"
  },
  "kernelspec": {
   "name": "julia-1.1",
   "display_name": "Julia 1.1.0-DEV.839",
   "language": "julia"
  }
 },
 "nbformat": 4
}
