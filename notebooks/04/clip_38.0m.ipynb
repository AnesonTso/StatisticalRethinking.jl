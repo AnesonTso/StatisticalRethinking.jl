{
 "cells": [
  {
   "outputs": [],
   "cell_type": "code",
   "source": [
    "using StatisticalRethinking, Distributed, JLD\n",
    "using Mamba\n",
    "\n",
    "# Data\n",
    "line = Dict{Symbol, Any}()\n",
    "\n",
    "howell1 = CSV.read(joinpath(dirname(Base.pathof(StatisticalRethinking)), \"..\", \"data\", \"Howell1.csv\"), delim=';')\n",
    "df = convert(DataFrame, howell1);"
   ],
   "metadata": {},
   "execution_count": 1
  },
  {
   "outputs": [],
   "cell_type": "markdown",
   "source": [
    "Use only adults"
   ],
   "metadata": {}
  },
  {
   "outputs": [
    {
     "name": "stdout",
     "output_type": "stream",
     "text": [
      "MCMC Simulation of 10000 Iterations x 3 Chains...\n",
      "\n",
      "Chain 1:   0% [0:11:08 of 0:11:08 remaining]\n",
      "Chain 1:  10% [0:00:40 of 0:00:44 remaining]\n",
      "Chain 1:  20% [0:00:49 of 0:01:01 remaining]\n",
      "Chain 1:  30% [0:00:47 of 0:01:07 remaining]\n",
      "Chain 1:  40% [0:00:41 of 0:01:08 remaining]\n",
      "Chain 1:  50% [0:00:35 of 0:01:10 remaining]\n",
      "Chain 1:  60% [0:00:29 of 0:01:12 remaining]\n",
      "Chain 1:  70% [0:00:22 of 0:01:14 remaining]\n",
      "Chain 1:  80% [0:00:15 of 0:01:15 remaining]\n",
      "Chain 1:  90% [0:00:08 of 0:01:16 remaining]\n",
      "Chain 1: 100% [0:00:00 of 0:01:17 remaining]\n",
      "\n",
      "Chain 2:   0% [0:00:06 of 0:00:06 remaining]\n",
      "Chain 2:  10% [0:00:58 of 0:01:04 remaining]\n",
      "Chain 2:  20% [0:01:01 of 0:01:17 remaining]\n",
      "Chain 2:  30% [0:00:53 of 0:01:16 remaining]\n",
      "Chain 2:  40% [0:00:46 of 0:01:16 remaining]\n",
      "Chain 2:  50% [0:00:37 of 0:01:14 remaining]\n",
      "Chain 2:  60% [0:00:29 of 0:01:13 remaining]\n",
      "Chain 2:  70% [0:00:22 of 0:01:13 remaining]\n",
      "Chain 2:  80% [0:00:15 of 0:01:13 remaining]\n",
      "Chain 2:  90% [0:00:07 of 0:01:12 remaining]\n",
      "Chain 2: 100% [0:00:00 of 0:01:13 remaining]\n",
      "\n",
      "Chain 3:   0% [0:01:07 of 0:01:07 remaining]\n",
      "Chain 3:  10% [0:00:51 of 0:00:56 remaining]\n",
      "Chain 3:  20% [0:00:50 of 0:01:03 remaining]\n",
      "Chain 3:  30% [0:00:46 of 0:01:06 remaining]\n",
      "Chain 3:  40% [0:00:40 of 0:01:06 remaining]\n",
      "Chain 3:  50% [0:00:33 of 0:01:06 remaining]\n",
      "Chain 3:  60% [0:00:27 of 0:01:07 remaining]\n",
      "Chain 3:  70% [0:00:20 of 0:01:07 remaining]\n",
      "Chain 3:  80% [0:00:13 of 0:01:07 remaining]\n",
      "Chain 3:  90% [0:00:07 of 0:01:08 remaining]\n",
      "Chain 3: 100% [0:00:00 of 0:01:08 remaining]\n",
      "\n"
     ]
    },
    {
     "output_type": "execute_result",
     "data": {
      "text/plain": "Object of type \"Mamba.ModelChains\"\n\nIterations = 1001:10000\nThinning interval = 1\nChains = 1,2,3\nSamples per chain = 9000\n\n[26.5255 114.908 0.885622; 26.7598 115.962 0.856221; … ; 26.5527 112.791 0.92793; 25.1085 112.714 0.925671]\n\n[32.1223 115.012 0.87638; 32.1687 113.69 0.904673; … ; 25.9912 116.215 0.858033; 28.9578 116.215 0.858033]\n\n[24.6686 115.34 0.878248; 24.7454 115.269 0.872129; … ; 25.398 115.943 0.856483; 23.9178 115.943 0.856483]"
     },
     "metadata": {},
     "execution_count": 2
    }
   ],
   "cell_type": "code",
   "source": [
    "df2 = filter(row -> row[:age] >= 18, df);\n",
    "line[:x] = convert(Array{Float64,1}, df2[:weight]);\n",
    "line[:y] = convert(Array{Float64,1}, df2[:height]);\n",
    "line[:xmat] = convert(Array{Float64,2}, [ones(length(line[:x])) line[:x]])\n",
    "\n",
    "# Model Specification\n",
    "model = Model(\n",
    "  y = Stochastic(1,\n",
    "    (xmat, beta, s2) -> MvNormal(xmat * beta, sqrt(s2)),\n",
    "    false\n",
    "  ),\n",
    "  beta = Stochastic(1, () -> MvNormal([178, 0], [sqrt(10000), sqrt(100)])),\n",
    "  s2 = Stochastic(() -> Uniform(0, 50))\n",
    ")\n",
    "\n",
    "\n",
    "# Initial Values\n",
    "inits = [\n",
    "  Dict{Symbol, Any}(\n",
    "    :y => line[:y],\n",
    "    :beta => [rand(Normal(178, 100)), rand(Normal(0, 10))],\n",
    "    :s2 => rand(Uniform(0, 50))\n",
    "  )\n",
    "  for i in 1:3\n",
    "]\n",
    "\n",
    "# Tuning Parameters\n",
    "scale1 = [0.5, 0.25]\n",
    "summary1 = identity\n",
    "eps1 = 0.5\n",
    "\n",
    "scale2 = 0.5\n",
    "summary2 = x -> [mean(x); sqrt(var(x))]\n",
    "eps2 = 0.1\n",
    "\n",
    "# Define sampling scheme\n",
    "\n",
    "scheme = [\n",
    "  Mamba.NUTS([:beta]),\n",
    "  Mamba.Slice([:s2], 10)\n",
    "]\n",
    "\n",
    "setsamplers!(model, scheme)\n",
    "\n",
    "# MCMC Simulation\n",
    "\n",
    "sim = mcmc(model, line, inits, 10000, burnin=1000, chains=3)"
   ],
   "metadata": {},
   "execution_count": 2
  },
  {
   "outputs": [],
   "cell_type": "markdown",
   "source": [
    "Show draws summary"
   ],
   "metadata": {}
  },
  {
   "outputs": [
    {
     "name": "stdout",
     "output_type": "stream",
     "text": [
      "Iterations = 1001:10000\n",
      "Thinning interval = 1\n",
      "Chains = 1,2,3\n",
      "Samples per chain = 9000\n",
      "\n",
      "Empirical Posterior Estimates:\n",
      "            Mean        SD        Naive SE       MCSE        ESS   \n",
      "     s2  26.1816100 2.00624984 0.01220964772 0.0212801009 8888.3811\n",
      "beta[1] 113.9434298 1.94977710 0.01186596558 0.0387190128 2535.8373\n",
      "beta[2]   0.9036523 0.04294051 0.00026132762 0.0008485271 2560.9608\n",
      "\n",
      "Quantiles:\n",
      "            2.5%         25.0%       50.0%      75.0%        97.5%   \n",
      "     s2  22.56733705  24.79554725  26.069384  27.4499623  30.47020517\n",
      "beta[1] 110.09170490 112.62812666 113.952305 115.2498748 117.76741684\n",
      "beta[2]   0.81981035   0.87482183   0.903560   0.9326979   0.98782055\n",
      "\n"
     ]
    }
   ],
   "cell_type": "code",
   "source": [
    "describe(sim)"
   ],
   "metadata": {},
   "execution_count": 3
  },
  {
   "outputs": [],
   "cell_type": "markdown",
   "source": [
    "End of `clip_38.0m.jl`"
   ],
   "metadata": {}
  },
  {
   "outputs": [],
   "cell_type": "markdown",
   "source": [
    "*This notebook was generated using [Literate.jl](https://github.com/fredrikekre/Literate.jl).*"
   ],
   "metadata": {}
  }
 ],
 "nbformat_minor": 3,
 "metadata": {
  "language_info": {
   "file_extension": ".jl",
   "mimetype": "application/julia",
   "name": "julia",
   "version": "1.1.0-DEV.840"
  },
  "kernelspec": {
   "name": "julia-1.1",
   "display_name": "Julia 1.1.0-DEV.840",
   "language": "julia"
  }
 },
 "nbformat": 4
}
