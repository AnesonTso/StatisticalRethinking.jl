{
 "cells": [
  {
   "outputs": [],
   "cell_type": "code",
   "source": [
    "using StatisticalRethinking, Distributed, JLD\n",
    "using Mamba\n",
    "\n",
    "# Data\n",
    "line = Dict{Symbol, Any}()\n",
    "\n",
    "howell1 = CSV.read(rel_path(\"..\", \"data\", \"Howell1.csv\"), delim=';')\n",
    "df = convert(DataFrame, howell1);"
   ],
   "metadata": {},
   "execution_count": 1
  },
  {
   "outputs": [],
   "cell_type": "markdown",
   "source": [
    "Use only adults"
   ],
   "metadata": {}
  },
  {
   "outputs": [
    {
     "name": "stdout",
     "output_type": "stream",
     "text": [
      "MCMC Simulation of 10000 Iterations x 3 Chains...\n",
      "\n",
      "Chain 1:   0% [0:12:05 of 0:12:06 remaining]\n",
      "Chain 1:  10% [0:01:03 of 0:01:10 remaining]\n",
      "Chain 1:  20% [0:00:58 of 0:01:12 remaining]\n",
      "Chain 1:  30% [0:00:52 of 0:01:14 remaining]\n",
      "Chain 1:  40% [0:00:44 of 0:01:13 remaining]\n",
      "Chain 1:  50% [0:00:37 of 0:01:14 remaining]\n",
      "Chain 1:  60% [0:00:30 of 0:01:14 remaining]\n",
      "Chain 1:  70% [0:00:22 of 0:01:15 remaining]\n",
      "Chain 1:  80% [0:00:15 of 0:01:15 remaining]\n",
      "Chain 1:  90% [0:00:08 of 0:01:16 remaining]\n",
      "Chain 1: 100% [0:00:00 of 0:01:16 remaining]\n",
      "\n",
      "Chain 2:   0% [0:00:02 of 0:00:02 remaining]\n",
      "Chain 2:  10% [0:00:43 of 0:00:48 remaining]\n",
      "Chain 2:  20% [0:00:51 of 0:01:04 remaining]\n",
      "Chain 2:  30% [0:00:48 of 0:01:09 remaining]\n",
      "Chain 2:  40% [0:00:44 of 0:01:13 remaining]\n",
      "Chain 2:  50% [0:00:38 of 0:01:16 remaining]\n",
      "Chain 2:  60% [0:00:31 of 0:01:17 remaining]\n",
      "Chain 2:  70% [0:00:23 of 0:01:18 remaining]\n",
      "Chain 2:  80% [0:00:16 of 0:01:18 remaining]\n",
      "Chain 2:  90% [0:00:08 of 0:01:19 remaining]\n",
      "Chain 2: 100% [0:00:00 of 0:01:20 remaining]\n",
      "\n",
      "Chain 3:   0% [0:00:03 of 0:00:03 remaining]\n",
      "Chain 3:  10% [0:00:35 of 0:00:39 remaining]\n",
      "Chain 3:  20% [0:00:48 of 0:00:60 remaining]\n",
      "Chain 3:  30% [0:00:44 of 0:01:03 remaining]\n",
      "Chain 3:  40% [0:00:38 of 0:01:04 remaining]\n",
      "Chain 3:  50% [0:00:34 of 0:01:08 remaining]\n",
      "Chain 3:  60% [0:00:28 of 0:01:11 remaining]\n",
      "Chain 3:  70% [0:00:21 of 0:01:11 remaining]\n",
      "Chain 3:  80% [0:00:14 of 0:01:12 remaining]\n",
      "Chain 3:  90% [0:00:07 of 0:01:11 remaining]\n",
      "Chain 3: 100% [0:00:00 of 0:01:12 remaining]\n",
      "\n"
     ]
    },
    {
     "output_type": "execute_result",
     "data": {
      "text/plain": "Object of type \"Mamba.ModelChains\"\n\nIterations = 1001:10000\nThinning interval = 1\nChains = 1,2,3\nSamples per chain = 9000\n\n[29.8865 113.71 0.905738; 26.6634 113.995 0.900735; … ; 23.9113 115.238 0.87488; 25.9669 115.649 0.868332]\n\n[26.2989 113.783 0.902103; 26.515 114.601 0.895489; … ; 24.4435 113.943 0.911527; 25.4821 113.941 0.905677]\n\n[23.2469 113.789 0.904543; 21.3024 114.927 0.884294; … ; 26.6104 113.885 0.91133; 25.2642 115.094 0.882973]"
     },
     "metadata": {},
     "execution_count": 2
    }
   ],
   "cell_type": "code",
   "source": [
    "df2 = filter(row -> row[:age] >= 18, df);\n",
    "line[:x] = convert(Array{Float64,1}, df2[:weight]);\n",
    "line[:y] = convert(Array{Float64,1}, df2[:height]);\n",
    "line[:xmat] = convert(Array{Float64,2}, [ones(length(line[:x])) line[:x]])\n",
    "\n",
    "# Model Specification\n",
    "model = Model(\n",
    "  y = Stochastic(1,\n",
    "    (xmat, beta, s2) -> MvNormal(xmat * beta, sqrt(s2)),\n",
    "    false\n",
    "  ),\n",
    "  beta = Stochastic(1, () -> MvNormal([178, 0], [sqrt(10000), sqrt(100)])),\n",
    "  s2 = Stochastic(() -> Uniform(0, 50))\n",
    ")\n",
    "\n",
    "# Initial Values\n",
    "inits = [\n",
    "  Dict{Symbol, Any}(\n",
    "    :y => line[:y],\n",
    "    :beta => [rand(Normal(178, 100)), rand(Normal(0, 10))],\n",
    "    :s2 => rand(Uniform(0, 50))\n",
    "  )\n",
    "  for i in 1:3\n",
    "]\n",
    "\n",
    "# Tuning Parameters\n",
    "scale1 = [0.5, 0.25]\n",
    "summary1 = identity\n",
    "eps1 = 0.5\n",
    "\n",
    "scale2 = 0.5\n",
    "summary2 = x -> [mean(x); sqrt(var(x))]\n",
    "eps2 = 0.1\n",
    "\n",
    "# Define sampling scheme\n",
    "\n",
    "scheme = [\n",
    "  Mamba.NUTS([:beta]),\n",
    "  Mamba.Slice([:s2], 10)\n",
    "]\n",
    "\n",
    "setsamplers!(model, scheme)\n",
    "\n",
    "# MCMC Simulation\n",
    "\n",
    "sim = mcmc(model, line, inits, 10000, burnin=1000, chains=3)"
   ],
   "metadata": {},
   "execution_count": 2
  },
  {
   "outputs": [],
   "cell_type": "markdown",
   "source": [
    "Show draws summary"
   ],
   "metadata": {}
  },
  {
   "outputs": [
    {
     "name": "stdout",
     "output_type": "stream",
     "text": [
      "Iterations = 1001:10000\n",
      "Thinning interval = 1\n",
      "Chains = 1,2,3\n",
      "Samples per chain = 9000\n",
      "\n",
      "Empirical Posterior Estimates:\n",
      "            Mean          SD       Naive SE       MCSE        ESS   \n",
      "     s2  26.14968609 1.987091681 0.0120930549 0.0197241434 9000.0000\n",
      "beta[1] 113.91139777 1.913163198 0.0116431404 0.0378133006 2559.8520\n",
      "beta[2]   0.90435757 0.042043533 0.0002558688 0.0008229053 2610.3499\n",
      "\n",
      "Quantiles:\n",
      "            2.5%       25.0%       50.0%        75.0%       97.5%   \n",
      "     s2  22.5461433  24.7761233  26.0584019  27.40497062  30.3374232\n",
      "beta[1] 110.2483969 112.5938568 113.8774339 115.17813382 117.7088036\n",
      "beta[2]   0.8208175   0.8764367   0.9051815   0.93292284   0.9835131\n",
      "\n"
     ]
    }
   ],
   "cell_type": "code",
   "source": [
    "describe(sim)"
   ],
   "metadata": {},
   "execution_count": 3
  },
  {
   "outputs": [],
   "cell_type": "markdown",
   "source": [
    "End of `clip_38.0m.jl`"
   ],
   "metadata": {}
  },
  {
   "outputs": [],
   "cell_type": "markdown",
   "source": [
    "*This notebook was generated using [Literate.jl](https://github.com/fredrikekre/Literate.jl).*"
   ],
   "metadata": {}
  }
 ],
 "nbformat_minor": 3,
 "metadata": {
  "language_info": {
   "file_extension": ".jl",
   "mimetype": "application/julia",
   "name": "julia",
   "version": "1.1.0-DEV.888"
  },
  "kernelspec": {
   "name": "julia-1.1",
   "display_name": "Julia 1.1.0-DEV.888",
   "language": "julia"
  }
 },
 "nbformat": 4
}
