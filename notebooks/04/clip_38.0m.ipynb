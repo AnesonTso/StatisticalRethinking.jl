{
 "cells": [
  {
   "outputs": [],
   "cell_type": "code",
   "source": [
    "using StatisticalRethinking, Distributed, JLD\n",
    "using Mamba\n",
    "\n",
    "# Data\n",
    "line = Dict{Symbol, Any}()\n",
    "\n",
    "howell1 = CSV.read(rel_path(\"..\", \"data\", \"Howell1.csv\"), delim=';')\n",
    "df = convert(DataFrame, howell1);"
   ],
   "metadata": {},
   "execution_count": 1
  },
  {
   "outputs": [],
   "cell_type": "markdown",
   "source": [
    "Use only adults"
   ],
   "metadata": {}
  },
  {
   "outputs": [
    {
     "name": "stdout",
     "output_type": "stream",
     "text": [
      "MCMC Simulation of 10000 Iterations x 3 Chains...\n",
      "\n",
      "Chain 1:   0% [0:10:24 of 0:10:24 remaining]\n",
      "Chain 1:  10% [0:00:52 of 0:00:58 remaining]\n",
      "Chain 1:  20% [0:00:54 of 0:01:08 remaining]\n",
      "Chain 1:  30% [0:00:49 of 0:01:10 remaining]\n",
      "Chain 1:  40% [0:00:43 of 0:01:11 remaining]\n",
      "Chain 1:  50% [0:00:35 of 0:01:11 remaining]\n",
      "Chain 1:  60% [0:00:28 of 0:01:11 remaining]\n",
      "Chain 1:  70% [0:00:21 of 0:01:10 remaining]\n",
      "Chain 1:  80% [0:00:14 of 0:01:10 remaining]\n",
      "Chain 1:  90% [0:00:07 of 0:01:09 remaining]\n",
      "Chain 1: 100% [0:00:00 of 0:01:10 remaining]\n",
      "\n",
      "Chain 2:   0% [0:00:02 of 0:00:02 remaining]\n",
      "Chain 2:  10% [0:00:44 of 0:00:49 remaining]\n",
      "Chain 2:  20% [0:00:43 of 0:00:53 remaining]\n",
      "Chain 2:  30% [0:00:41 of 0:00:58 remaining]\n",
      "Chain 2:  40% [0:00:37 of 0:01:02 remaining]\n",
      "Chain 2:  50% [0:00:32 of 0:01:03 remaining]\n",
      "Chain 2:  60% [0:00:26 of 0:01:05 remaining]\n",
      "Chain 2:  70% [0:00:20 of 0:01:07 remaining]\n",
      "Chain 2:  80% [0:00:13 of 0:01:06 remaining]\n",
      "Chain 2:  90% [0:00:07 of 0:01:07 remaining]\n",
      "Chain 2: 100% [0:00:00 of 0:01:07 remaining]\n",
      "\n",
      "Chain 3:   0% [0:00:02 of 0:00:02 remaining]\n",
      "Chain 3:  10% [0:00:48 of 0:00:53 remaining]\n",
      "Chain 3:  20% [0:00:49 of 0:01:01 remaining]\n",
      "Chain 3:  30% [0:00:47 of 0:01:07 remaining]\n",
      "Chain 3:  40% [0:00:42 of 0:01:10 remaining]\n",
      "Chain 3:  50% [0:00:35 of 0:01:09 remaining]\n",
      "Chain 3:  60% [0:00:28 of 0:01:10 remaining]\n",
      "Chain 3:  70% [0:00:21 of 0:01:10 remaining]\n",
      "Chain 3:  80% [0:00:14 of 0:01:10 remaining]\n",
      "Chain 3:  90% [0:00:07 of 0:01:11 remaining]\n",
      "Chain 3: 100% [0:00:00 of 0:01:11 remaining]\n",
      "\n"
     ]
    },
    {
     "output_type": "execute_result",
     "data": {
      "text/plain": "Object of type \"Mamba.ModelChains\"\n\nIterations = 1001:10000\nThinning interval = 1\nChains = 1,2,3\nSamples per chain = 9000\n\n[24.6536 113.703 0.899879; 24.3091 113.703 0.899879; … ; 21.8518 114.476 0.894568; 21.8626 113.312 0.918355]\n\n[28.313 112.372 0.943347; 26.91 112.372 0.943347; … ; 26.244 111.65 0.936684; 25.9793 114.459 0.875192]\n\n[26.761 113.619 0.906142; 25.805 113.619 0.906142; … ; 24.5815 114.773 0.898055; 25.0471 114.779 0.87437]"
     },
     "metadata": {},
     "execution_count": 2
    }
   ],
   "cell_type": "code",
   "source": [
    "df2 = filter(row -> row[:age] >= 18, df);\n",
    "line[:x] = convert(Array{Float64,1}, df2[:weight]);\n",
    "line[:y] = convert(Array{Float64,1}, df2[:height]);\n",
    "line[:xmat] = convert(Array{Float64,2}, [ones(length(line[:x])) line[:x]])\n",
    "\n",
    "# Model Specification\n",
    "model = Model(\n",
    "  y = Stochastic(1,\n",
    "    (xmat, beta, s2) -> MvNormal(xmat * beta, sqrt(s2)),\n",
    "    false\n",
    "  ),\n",
    "  beta = Stochastic(1, () -> MvNormal([178, 0], [sqrt(10000), sqrt(100)])),\n",
    "  s2 = Stochastic(() -> Uniform(0, 50))\n",
    ")\n",
    "\n",
    "# Initial Values\n",
    "inits = [\n",
    "  Dict{Symbol, Any}(\n",
    "    :y => line[:y],\n",
    "    :beta => [rand(Normal(178, 100)), rand(Normal(0, 10))],\n",
    "    :s2 => rand(Uniform(0, 50))\n",
    "  )\n",
    "  for i in 1:3\n",
    "]\n",
    "\n",
    "# Tuning Parameters\n",
    "scale1 = [0.5, 0.25]\n",
    "summary1 = identity\n",
    "eps1 = 0.5\n",
    "\n",
    "scale2 = 0.5\n",
    "summary2 = x -> [mean(x); sqrt(var(x))]\n",
    "eps2 = 0.1\n",
    "\n",
    "# Define sampling scheme\n",
    "\n",
    "scheme = [\n",
    "  Mamba.NUTS([:beta]),\n",
    "  Mamba.Slice([:s2], 10)\n",
    "]\n",
    "\n",
    "setsamplers!(model, scheme)\n",
    "\n",
    "# MCMC Simulation\n",
    "\n",
    "sim = mcmc(model, line, inits, 10000, burnin=1000, chains=3)"
   ],
   "metadata": {},
   "execution_count": 2
  },
  {
   "outputs": [],
   "cell_type": "markdown",
   "source": [
    "Show draws summary"
   ],
   "metadata": {}
  },
  {
   "outputs": [
    {
     "name": "stdout",
     "output_type": "stream",
     "text": [
      "Iterations = 1001:10000\n",
      "Thinning interval = 1\n",
      "Chains = 1,2,3\n",
      "Samples per chain = 9000\n",
      "\n",
      "Empirical Posterior Estimates:\n",
      "            Mean         SD        Naive SE        MCSE        ESS   \n",
      "     s2  26.1426029 1.996271324 0.01214892039 0.01988938055 9000.0000\n",
      "beta[1] 113.8530276 1.851207034 0.01126608724 0.03378534650 3002.2941\n",
      "beta[2]   0.9056516 0.040723852 0.00024783747 0.00073274534 3088.8126\n",
      "\n",
      "Quantiles:\n",
      "            2.5%        25.0%       50.0%       75.0%        97.5%   \n",
      "     s2  22.4962645  24.75143153  26.0483633  27.4393635  30.27563774\n",
      "beta[1] 110.2752460 112.56913061 113.8550417 115.0660785 117.53802151\n",
      "beta[2]   0.8242732   0.87889445   0.9055597   0.9334813   0.98368612\n",
      "\n"
     ]
    }
   ],
   "cell_type": "code",
   "source": [
    "describe(sim)"
   ],
   "metadata": {},
   "execution_count": 3
  },
  {
   "outputs": [],
   "cell_type": "markdown",
   "source": [
    "End of `clip_38.0m.jl`"
   ],
   "metadata": {}
  },
  {
   "outputs": [],
   "cell_type": "markdown",
   "source": [
    "*This notebook was generated using [Literate.jl](https://github.com/fredrikekre/Literate.jl).*"
   ],
   "metadata": {}
  }
 ],
 "nbformat_minor": 3,
 "metadata": {
  "language_info": {
   "file_extension": ".jl",
   "mimetype": "application/julia",
   "name": "julia",
   "version": "1.1.0-DEV.840"
  },
  "kernelspec": {
   "name": "julia-1.1",
   "display_name": "Julia 1.1.0-DEV.840",
   "language": "julia"
  }
 },
 "nbformat": 4
}
