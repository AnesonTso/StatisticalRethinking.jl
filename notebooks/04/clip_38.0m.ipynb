{
 "cells": [
  {
   "outputs": [],
   "cell_type": "code",
   "source": [
    "using StatisticalRethinking, Distributed, JLD\n",
    "using Mamba\n",
    "\n",
    "# Data\n",
    "line = Dict{Symbol, Any}()\n",
    "\n",
    "howell1 = CSV.read(joinpath(dirname(Base.pathof(StatisticalRethinking)), \"..\", \"data\", \"Howell1.csv\"), delim=';')\n",
    "df = convert(DataFrame, howell1);"
   ],
   "metadata": {},
   "execution_count": 1
  },
  {
   "outputs": [],
   "cell_type": "markdown",
   "source": [
    "Use only adults"
   ],
   "metadata": {}
  },
  {
   "outputs": [
    {
     "name": "stdout",
     "output_type": "stream",
     "text": [
      "MCMC Simulation of 10000 Iterations x 3 Chains...\n",
      "\n",
      "Chain 1:   0% [0:12:13 of 0:12:14 remaining]\n",
      "Chain 1:  10% [0:00:56 of 0:01:02 remaining]\n",
      "Chain 1:  20% [0:00:55 of 0:01:09 remaining]\n",
      "Chain 1:  30% [0:00:49 of 0:01:10 remaining]\n",
      "Chain 1:  40% [0:00:41 of 0:01:09 remaining]\n",
      "Chain 1:  50% [0:00:34 of 0:01:08 remaining]\n",
      "Chain 1:  60% [0:00:27 of 0:01:08 remaining]\n",
      "Chain 1:  70% [0:00:21 of 0:01:10 remaining]\n",
      "Chain 1:  80% [0:00:14 of 0:01:10 remaining]\n",
      "Chain 1:  90% [0:00:07 of 0:01:10 remaining]\n",
      "Chain 1: 100% [0:00:00 of 0:01:10 remaining]\n",
      "\n",
      "Chain 2:   0% [0:00:04 of 0:00:04 remaining]\n",
      "Chain 2:  10% [0:00:45 of 0:00:51 remaining]\n",
      "Chain 2:  20% [0:00:50 of 0:01:03 remaining]\n",
      "Chain 2:  30% [0:00:48 of 0:01:09 remaining]\n",
      "Chain 2:  40% [0:00:42 of 0:01:10 remaining]\n",
      "Chain 2:  50% [0:00:36 of 0:01:13 remaining]\n",
      "Chain 2:  60% [0:00:29 of 0:01:13 remaining]\n",
      "Chain 2:  70% [0:00:22 of 0:01:14 remaining]\n",
      "Chain 2:  80% [0:00:15 of 0:01:15 remaining]\n",
      "Chain 2:  90% [0:00:08 of 0:01:16 remaining]\n",
      "Chain 2: 100% [0:00:00 of 0:01:16 remaining]\n",
      "\n",
      "Chain 3:   0% [0:00:02 of 0:00:02 remaining]\n",
      "Chain 3:  10% [0:00:45 of 0:00:51 remaining]\n",
      "Chain 3:  20% [0:00:51 of 0:01:04 remaining]\n",
      "Chain 3:  30% [0:00:48 of 0:01:08 remaining]\n",
      "Chain 3:  40% [0:00:41 of 0:01:08 remaining]\n",
      "Chain 3:  50% [0:00:35 of 0:01:11 remaining]\n",
      "Chain 3:  60% [0:00:29 of 0:01:12 remaining]\n",
      "Chain 3:  70% [0:00:22 of 0:01:13 remaining]\n",
      "Chain 3:  80% [0:00:15 of 0:01:14 remaining]\n",
      "Chain 3:  90% [0:00:07 of 0:01:14 remaining]\n",
      "Chain 3: 100% [0:00:00 of 0:01:15 remaining]\n",
      "\n"
     ]
    },
    {
     "output_type": "execute_result",
     "data": {
      "text/plain": "Object of type \"Mamba.ModelChains\"\n\nIterations = 1001:10000\nThinning interval = 1\nChains = 1,2,3\nSamples per chain = 9000\n\n[23.6039 113.089 0.925014; 27.2215 114.778 0.890756; … ; 25.5551 113.612 0.90938; 25.5023 114.239 0.895432]\n\n[27.3824 117.272 0.832217; 23.6836 117.175 0.83062; … ; 27.7842 116.973 0.824652; 24.5912 115.55 0.855789]\n\n[25.7432 112.332 0.933039; 25.4741 113.642 0.915453; … ; 26.4728 111.841 0.952798; 26.1371 116.775 0.837422]"
     },
     "metadata": {},
     "execution_count": 2
    }
   ],
   "cell_type": "code",
   "source": [
    "df2 = filter(row -> row[:age] >= 18, df);\n",
    "line[:x] = convert(Array{Float64,1}, df2[:weight]);\n",
    "line[:y] = convert(Array{Float64,1}, df2[:height]);\n",
    "line[:xmat] = convert(Array{Float64,2}, [ones(length(line[:x])) line[:x]])\n",
    "\n",
    "# Model Specification\n",
    "model = Model(\n",
    "  y = Stochastic(1,\n",
    "    (xmat, beta, s2) -> MvNormal(xmat * beta, sqrt(s2)),\n",
    "    false\n",
    "  ),\n",
    "  beta = Stochastic(1, () -> MvNormal([178, 0], [sqrt(10000), sqrt(100)])),\n",
    "  s2 = Stochastic(() -> Uniform(0, 50))\n",
    ")\n",
    "\n",
    "\n",
    "# Initial Values\n",
    "inits = [\n",
    "  Dict{Symbol, Any}(\n",
    "    :y => line[:y],\n",
    "    :beta => [rand(Normal(178, 100)), rand(Normal(0, 10))],\n",
    "    :s2 => rand(Uniform(0, 50))\n",
    "  )\n",
    "  for i in 1:3\n",
    "]\n",
    "\n",
    "# Tuning Parameters\n",
    "scale1 = [0.5, 0.25]\n",
    "summary1 = identity\n",
    "eps1 = 0.5\n",
    "\n",
    "scale2 = 0.5\n",
    "summary2 = x -> [mean(x); sqrt(var(x))]\n",
    "eps2 = 0.1\n",
    "\n",
    "# Define sampling scheme\n",
    "\n",
    "scheme = [\n",
    "  Mamba.NUTS([:beta]),\n",
    "  Mamba.Slice([:s2], 10)\n",
    "]\n",
    "\n",
    "setsamplers!(model, scheme)\n",
    "\n",
    "# MCMC Simulation\n",
    "\n",
    "sim = mcmc(model, line, inits, 10000, burnin=1000, chains=3)"
   ],
   "metadata": {},
   "execution_count": 2
  },
  {
   "outputs": [],
   "cell_type": "markdown",
   "source": [
    "Show draws summary"
   ],
   "metadata": {}
  },
  {
   "outputs": [
    {
     "name": "stdout",
     "output_type": "stream",
     "text": [
      "Iterations = 1001:10000\n",
      "Thinning interval = 1\n",
      "Chains = 1,2,3\n",
      "Samples per chain = 9000\n",
      "\n",
      "Empirical Posterior Estimates:\n",
      "            Mean         SD        Naive SE       MCSE        ESS   \n",
      "     s2  26.1584135 2.001203952 0.01217893941 0.0204036238 9000.0000\n",
      "beta[1] 113.8669706 1.903653490 0.01158526620 0.0344287740 3057.2622\n",
      "beta[2]   0.9053412 0.041929642 0.00025517567 0.0007528169 3102.1558\n",
      "\n",
      "Quantiles:\n",
      "            2.5%       25.0%        50.0%       75.0%        97.5%   \n",
      "     s2  22.5643361  24.7672865  26.05200926  27.4498802  30.35740229\n",
      "beta[1] 110.1938281 112.5601530 113.84147314 115.1686319 117.63770252\n",
      "beta[2]   0.8231997   0.8769393   0.90557532   0.9339819   0.98608715\n",
      "\n"
     ]
    }
   ],
   "cell_type": "code",
   "source": [
    "describe(sim)"
   ],
   "metadata": {},
   "execution_count": 3
  },
  {
   "outputs": [],
   "cell_type": "markdown",
   "source": [
    "*This notebook was generated using [Literate.jl](https://github.com/fredrikekre/Literate.jl).*"
   ],
   "metadata": {}
  }
 ],
 "nbformat_minor": 3,
 "metadata": {
  "language_info": {
   "file_extension": ".jl",
   "mimetype": "application/julia",
   "name": "julia",
   "version": "1.1.0-DEV.839"
  },
  "kernelspec": {
   "name": "julia-1.1",
   "display_name": "Julia 1.1.0-DEV.839",
   "language": "julia"
  }
 },
 "nbformat": 4
}
