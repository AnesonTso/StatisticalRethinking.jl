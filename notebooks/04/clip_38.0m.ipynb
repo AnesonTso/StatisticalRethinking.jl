{
 "cells": [
  {
   "outputs": [],
   "cell_type": "code",
   "source": [
    "using StatisticalRethinking, Distributed, JLD\n",
    "using Mamba\n",
    "\n",
    "# Data\n",
    "line = Dict{Symbol, Any}()\n",
    "\n",
    "howell1 = CSV.read(rel_path(\"..\", \"data\", \"Howell1.csv\"), delim=';')\n",
    "df = convert(DataFrame, howell1);"
   ],
   "metadata": {},
   "execution_count": 1
  },
  {
   "outputs": [],
   "cell_type": "markdown",
   "source": [
    "Use only adults"
   ],
   "metadata": {}
  },
  {
   "outputs": [
    {
     "name": "stdout",
     "output_type": "stream",
     "text": [
      "MCMC Simulation of 10000 Iterations x 3 Chains...\n",
      "\n",
      "Chain 1:   0% [0:12:07 of 0:12:07 remaining]\n",
      "Chain 1:  10% [0:00:47 of 0:00:52 remaining]\n",
      "Chain 1:  20% [0:00:49 of 0:01:02 remaining]\n",
      "Chain 1:  30% [0:00:46 of 0:01:06 remaining]\n",
      "Chain 1:  40% [0:00:41 of 0:01:08 remaining]\n",
      "Chain 1:  50% [0:00:35 of 0:01:10 remaining]\n",
      "Chain 1:  60% [0:00:29 of 0:01:12 remaining]\n",
      "Chain 1:  70% [0:00:21 of 0:01:11 remaining]\n",
      "Chain 1:  80% [0:00:14 of 0:01:12 remaining]\n",
      "Chain 1:  90% [0:00:07 of 0:01:13 remaining]\n",
      "Chain 1: 100% [0:00:00 of 0:01:13 remaining]\n",
      "\n",
      "Chain 2:   0% [0:00:03 of 0:00:03 remaining]\n",
      "Chain 2:  10% [0:00:50 of 0:00:56 remaining]\n",
      "Chain 2:  20% [0:00:53 of 0:01:06 remaining]\n",
      "Chain 2:  30% [0:00:49 of 0:01:10 remaining]\n",
      "Chain 2:  40% [0:00:44 of 0:01:14 remaining]\n",
      "Chain 2:  50% [0:00:38 of 0:01:16 remaining]\n",
      "Chain 2:  60% [0:00:31 of 0:01:16 remaining]\n",
      "Chain 2:  70% [0:00:23 of 0:01:17 remaining]\n",
      "Chain 2:  80% [0:00:15 of 0:01:17 remaining]\n",
      "Chain 2:  90% [0:00:08 of 0:01:17 remaining]\n",
      "Chain 2: 100% [0:00:00 of 0:01:17 remaining]\n",
      "\n",
      "Chain 3:   0% [0:00:11 of 0:00:11 remaining]\n",
      "Chain 3:  10% [0:00:46 of 0:00:51 remaining]\n",
      "Chain 3:  20% [0:00:50 of 0:01:03 remaining]\n",
      "Chain 3:  30% [0:00:48 of 0:01:08 remaining]\n",
      "Chain 3:  40% [0:00:41 of 0:01:08 remaining]\n",
      "Chain 3:  50% [0:00:35 of 0:01:09 remaining]\n",
      "Chain 3:  60% [0:00:28 of 0:01:10 remaining]\n",
      "Chain 3:  70% [0:00:21 of 0:01:11 remaining]\n",
      "Chain 3:  80% [0:00:14 of 0:01:11 remaining]\n",
      "Chain 3:  90% [0:00:07 of 0:01:12 remaining]\n",
      "Chain 3: 100% [0:00:00 of 0:01:12 remaining]\n",
      "\n"
     ]
    },
    {
     "output_type": "execute_result",
     "data": {
      "text/plain": "Object of type \"Mamba.ModelChains\"\n\nIterations = 1001:10000\nThinning interval = 1\nChains = 1,2,3\nSamples per chain = 9000\n\n[26.2849 115.148 0.87924; 29.4123 115.147 0.881363; … ; 27.246 110.527 0.978253; 24.484 110.529 0.982095]\n\n[26.9095 110.19 0.989041; 27.1874 110.188 0.985401; … ; 25.1208 114.624 0.879535; 25.4718 114.626 0.883767]\n\n[26.9325 114.764 0.886367; 27.4431 114.752 0.886708; … ; 23.8403 112.947 0.925217; 24.1728 113.247 0.918727]"
     },
     "metadata": {},
     "execution_count": 2
    }
   ],
   "cell_type": "code",
   "source": [
    "df2 = filter(row -> row[:age] >= 18, df);\n",
    "line[:x] = convert(Array{Float64,1}, df2[:weight]);\n",
    "line[:y] = convert(Array{Float64,1}, df2[:height]);\n",
    "line[:xmat] = convert(Array{Float64,2}, [ones(length(line[:x])) line[:x]])\n",
    "\n",
    "# Model Specification\n",
    "model = Model(\n",
    "  y = Stochastic(1,\n",
    "    (xmat, beta, s2) -> MvNormal(xmat * beta, sqrt(s2)),\n",
    "    false\n",
    "  ),\n",
    "  beta = Stochastic(1, () -> MvNormal([178, 0], [sqrt(10000), sqrt(100)])),\n",
    "  s2 = Stochastic(() -> Uniform(0, 50))\n",
    ")\n",
    "\n",
    "# Initial Values\n",
    "inits = [\n",
    "  Dict{Symbol, Any}(\n",
    "    :y => line[:y],\n",
    "    :beta => [rand(Normal(178, 100)), rand(Normal(0, 10))],\n",
    "    :s2 => rand(Uniform(0, 50))\n",
    "  )\n",
    "  for i in 1:3\n",
    "]\n",
    "\n",
    "# Tuning Parameters\n",
    "scale1 = [0.5, 0.25]\n",
    "summary1 = identity\n",
    "eps1 = 0.5\n",
    "\n",
    "scale2 = 0.5\n",
    "summary2 = x -> [mean(x); sqrt(var(x))]\n",
    "eps2 = 0.1\n",
    "\n",
    "# Define sampling scheme\n",
    "\n",
    "scheme = [\n",
    "  Mamba.NUTS([:beta]),\n",
    "  Mamba.Slice([:s2], 10)\n",
    "]\n",
    "\n",
    "setsamplers!(model, scheme)\n",
    "\n",
    "# MCMC Simulation\n",
    "\n",
    "sim = mcmc(model, line, inits, 10000, burnin=1000, chains=3)"
   ],
   "metadata": {},
   "execution_count": 2
  },
  {
   "outputs": [],
   "cell_type": "markdown",
   "source": [
    "Show draws summary"
   ],
   "metadata": {}
  },
  {
   "outputs": [
    {
     "name": "stdout",
     "output_type": "stream",
     "text": [
      "Iterations = 1001:10000\n",
      "Thinning interval = 1\n",
      "Chains = 1,2,3\n",
      "Samples per chain = 9000\n",
      "\n",
      "Empirical Posterior Estimates:\n",
      "            Mean         SD        Naive SE       MCSE        ESS   \n",
      "     s2  26.1714703 1.986569905 0.01208987943 0.0198626212 9000.0000\n",
      "beta[1] 113.8286394 1.904442259 0.01159006650 0.0357291909 2841.1179\n",
      "beta[2]   0.9060929 0.041909992 0.00025505609 0.0007804733 2883.4942\n",
      "\n",
      "Quantiles:\n",
      "            2.5%         25.0%       50.0%        75.0%        97.5%   \n",
      "     s2  22.58358300  24.78445274  26.0682816  27.44376123  30.30911426\n",
      "beta[1] 110.13329090 112.53649822 113.8453639 115.11493739 117.55914961\n",
      "beta[2]   0.82445606   0.87770506   0.9057476   0.93463918   0.98768827\n",
      "\n"
     ]
    }
   ],
   "cell_type": "code",
   "source": [
    "describe(sim)"
   ],
   "metadata": {},
   "execution_count": 3
  },
  {
   "outputs": [],
   "cell_type": "markdown",
   "source": [
    "End of `clip_38.0m.jl`"
   ],
   "metadata": {}
  },
  {
   "outputs": [],
   "cell_type": "markdown",
   "source": [
    "*This notebook was generated using [Literate.jl](https://github.com/fredrikekre/Literate.jl).*"
   ],
   "metadata": {}
  }
 ],
 "nbformat_minor": 3,
 "metadata": {
  "language_info": {
   "file_extension": ".jl",
   "mimetype": "application/julia",
   "name": "julia",
   "version": "1.1.0-DEV.888"
  },
  "kernelspec": {
   "name": "julia-1.1",
   "display_name": "Julia 1.1.0-DEV.888",
   "language": "julia"
  }
 },
 "nbformat": 4
}
