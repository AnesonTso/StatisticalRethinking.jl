{
 "cells": [
  {
   "outputs": [],
   "cell_type": "code",
   "source": [
    "using StatisticalRethinking, Distributed, JLD\n",
    "using Mamba\n",
    "\n",
    "# Data\n",
    "line = Dict{Symbol, Any}()\n",
    "\n",
    "howell1 = CSV.read(rel_path(\"..\", \"data\", \"Howell1.csv\"), delim=';')\n",
    "df = convert(DataFrame, howell1);"
   ],
   "metadata": {},
   "execution_count": 1
  },
  {
   "outputs": [],
   "cell_type": "markdown",
   "source": [
    "Use only adults"
   ],
   "metadata": {}
  },
  {
   "outputs": [
    {
     "name": "stdout",
     "output_type": "stream",
     "text": [
      "MCMC Simulation of 10000 Iterations x 3 Chains...\n",
      "\n",
      "Chain 1:   0% [0:14:16 of 0:14:17 remaining]\n",
      "Chain 1:  10% [0:00:57 of 0:01:03 remaining]\n",
      "Chain 1:  20% [0:01:01 of 0:01:16 remaining]\n",
      "Chain 1:  30% [0:00:55 of 0:01:18 remaining]\n",
      "Chain 1:  40% [0:00:48 of 0:01:21 remaining]\n",
      "Chain 1:  50% [0:00:42 of 0:01:24 remaining]\n",
      "Chain 1:  60% [0:00:35 of 0:01:27 remaining]\n",
      "Chain 1:  70% [0:00:27 of 0:01:28 remaining]\n",
      "Chain 1:  80% [0:00:18 of 0:01:28 remaining]\n",
      "Chain 1:  90% [0:00:09 of 0:01:28 remaining]\n",
      "Chain 1: 100% [0:00:00 of 0:01:28 remaining]\n",
      "\n",
      "Chain 2:   0% [0:00:03 of 0:00:03 remaining]\n",
      "Chain 2:  10% [0:00:49 of 0:00:54 remaining]\n",
      "Chain 2:  20% [0:00:52 of 0:01:05 remaining]\n",
      "Chain 2:  30% [0:00:51 of 0:01:12 remaining]\n",
      "Chain 2:  40% [0:00:45 of 0:01:14 remaining]\n",
      "Chain 2:  50% [0:00:38 of 0:01:16 remaining]\n",
      "Chain 2:  60% [0:00:30 of 0:01:16 remaining]\n",
      "Chain 2:  70% [0:00:23 of 0:01:17 remaining]\n",
      "Chain 2:  80% [0:00:16 of 0:01:18 remaining]\n",
      "Chain 2:  90% [0:00:08 of 0:01:20 remaining]\n",
      "Chain 2: 100% [0:00:00 of 0:01:20 remaining]\n",
      "\n",
      "Chain 3:   0% [0:00:02 of 0:00:02 remaining]\n",
      "Chain 3:  10% [0:00:60 of 0:01:06 remaining]\n",
      "Chain 3:  20% [0:01:01 of 0:01:16 remaining]\n",
      "Chain 3:  30% [0:00:53 of 0:01:16 remaining]\n",
      "Chain 3:  40% [0:00:46 of 0:01:16 remaining]\n",
      "Chain 3:  50% [0:00:38 of 0:01:16 remaining]\n",
      "Chain 3:  60% [0:00:31 of 0:01:18 remaining]\n",
      "Chain 3:  70% [0:00:24 of 0:01:20 remaining]\n",
      "Chain 3:  80% [0:00:16 of 0:01:20 remaining]\n",
      "Chain 3:  90% [0:00:08 of 0:01:19 remaining]\n",
      "Chain 3: 100% [0:00:00 of 0:01:19 remaining]\n",
      "\n"
     ]
    },
    {
     "output_type": "execute_result",
     "data": {
      "text/plain": "Object of type \"Mamba.ModelChains\"\n\nIterations = 1001:10000\nThinning interval = 1\nChains = 1,2,3\nSamples per chain = 9000\n\n[28.2885 112.147 0.939126; 28.2313 112.144 0.943934; … ; 25.5487 113.837 0.905787; 25.4677 113.837 0.905787]\n\n[25.5991 114.281 0.889505; 25.1 112.989 0.926058; … ; 29.0954 114.777 0.89114; 24.1398 115.141 0.869977]\n\n[26.0611 113.961 0.902615; 26.4364 111.332 0.961805; … ; 28.0174 114.563 0.878424; 27.3669 114.572 0.881622]"
     },
     "metadata": {},
     "execution_count": 2
    }
   ],
   "cell_type": "code",
   "source": [
    "df2 = filter(row -> row[:age] >= 18, df);\n",
    "line[:x] = convert(Array{Float64,1}, df2[:weight]);\n",
    "line[:y] = convert(Array{Float64,1}, df2[:height]);\n",
    "line[:xmat] = convert(Array{Float64,2}, [ones(length(line[:x])) line[:x]])\n",
    "\n",
    "# Model Specification\n",
    "model = Model(\n",
    "  y = Stochastic(1,\n",
    "    (xmat, beta, s2) -> MvNormal(xmat * beta, sqrt(s2)),\n",
    "    false\n",
    "  ),\n",
    "  beta = Stochastic(1, () -> MvNormal([178, 0], [sqrt(10000), sqrt(100)])),\n",
    "  s2 = Stochastic(() -> Uniform(0, 50))\n",
    ")\n",
    "\n",
    "# Initial Values\n",
    "inits = [\n",
    "  Dict{Symbol, Any}(\n",
    "    :y => line[:y],\n",
    "    :beta => [rand(Normal(178, 100)), rand(Normal(0, 10))],\n",
    "    :s2 => rand(Uniform(0, 50))\n",
    "  )\n",
    "  for i in 1:3\n",
    "]\n",
    "\n",
    "# Tuning Parameters\n",
    "scale1 = [0.5, 0.25]\n",
    "summary1 = identity\n",
    "eps1 = 0.5\n",
    "\n",
    "scale2 = 0.5\n",
    "summary2 = x -> [mean(x); sqrt(var(x))]\n",
    "eps2 = 0.1\n",
    "\n",
    "# Define sampling scheme\n",
    "\n",
    "scheme = [\n",
    "  Mamba.NUTS([:beta]),\n",
    "  Mamba.Slice([:s2], 10)\n",
    "]\n",
    "\n",
    "setsamplers!(model, scheme)\n",
    "\n",
    "# MCMC Simulation\n",
    "\n",
    "sim = mcmc(model, line, inits, 10000, burnin=1000, chains=3)"
   ],
   "metadata": {},
   "execution_count": 2
  },
  {
   "outputs": [],
   "cell_type": "markdown",
   "source": [
    "Show draws summary"
   ],
   "metadata": {}
  },
  {
   "outputs": [
    {
     "name": "stdout",
     "output_type": "stream",
     "text": [
      "Iterations = 1001:10000\n",
      "Thinning interval = 1\n",
      "Chains = 1,2,3\n",
      "Samples per chain = 9000\n",
      "\n",
      "Empirical Posterior Estimates:\n",
      "            Mean        SD        Naive SE       MCSE        ESS   \n",
      "     s2  26.1698159 1.98891981 0.01210418050 0.0195158916 9000.0000\n",
      "beta[1] 113.8483342 1.92055835 0.01168814592 0.0355130042 2924.6923\n",
      "beta[2]   0.9056834 0.04220359 0.00025684286 0.0007767686 2951.9939\n",
      "\n",
      "Quantiles:\n",
      "            2.5%        25.0%        50.0%        75.0%        97.5%   \n",
      "     s2  22.5579926  24.79325256  26.08026024  27.42794139  30.39652842\n",
      "beta[1] 109.9344211 112.55394472 113.87843406 115.16375247 117.51249546\n",
      "beta[2]   0.8245353   0.87690603   0.90517924   0.93418898   0.99163024\n",
      "\n"
     ]
    }
   ],
   "cell_type": "code",
   "source": [
    "describe(sim)"
   ],
   "metadata": {},
   "execution_count": 3
  },
  {
   "outputs": [],
   "cell_type": "markdown",
   "source": [
    "End of `clip_38.0m.jl`"
   ],
   "metadata": {}
  },
  {
   "outputs": [],
   "cell_type": "markdown",
   "source": [
    "*This notebook was generated using [Literate.jl](https://github.com/fredrikekre/Literate.jl).*"
   ],
   "metadata": {}
  }
 ],
 "nbformat_minor": 3,
 "metadata": {
  "language_info": {
   "file_extension": ".jl",
   "mimetype": "application/julia",
   "name": "julia",
   "version": "1.0.3"
  },
  "kernelspec": {
   "name": "julia-1.0",
   "display_name": "Julia 1.0.3",
   "language": "julia"
  }
 },
 "nbformat": 4
}
