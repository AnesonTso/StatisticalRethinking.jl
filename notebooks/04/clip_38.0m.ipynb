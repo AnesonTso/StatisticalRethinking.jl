{
 "cells": [
  {
   "outputs": [],
   "cell_type": "code",
   "source": [
    "using StatisticalRethinking, Distributed, JLD\n",
    "using Mamba\n",
    "\n",
    "# Data\n",
    "line = Dict{Symbol, Any}()\n",
    "\n",
    "howell1 = CSV.read(joinpath(dirname(Base.pathof(StatisticalRethinking)), \"..\", \"data\", \"Howell1.csv\"), delim=';')\n",
    "df = convert(DataFrame, howell1);"
   ],
   "metadata": {},
   "execution_count": 1
  },
  {
   "outputs": [],
   "cell_type": "markdown",
   "source": [
    "Use only adults"
   ],
   "metadata": {}
  },
  {
   "outputs": [
    {
     "name": "stdout",
     "output_type": "stream",
     "text": [
      "MCMC Simulation of 10000 Iterations x 3 Chains...\n",
      "\n",
      "Chain 1:   0% [0:11:29 of 0:11:30 remaining]\n",
      "Chain 1:  10% [0:00:36 of 0:00:40 remaining]\n",
      "Chain 1:  20% [0:00:42 of 0:00:52 remaining]\n",
      "Chain 1:  30% [0:00:41 of 0:00:58 remaining]\n",
      "Chain 1:  40% [0:00:36 of 0:01:01 remaining]\n",
      "Chain 1:  50% [0:00:31 of 0:01:01 remaining]\n",
      "Chain 1:  60% [0:00:25 of 0:01:02 remaining]\n",
      "Chain 1:  70% [0:00:19 of 0:01:03 remaining]\n",
      "Chain 1:  80% [0:00:13 of 0:01:04 remaining]\n",
      "Chain 1:  90% [0:00:06 of 0:01:04 remaining]\n",
      "Chain 1: 100% [0:00:00 of 0:01:05 remaining]\n",
      "\n",
      "Chain 2:   0% [0:00:02 of 0:00:02 remaining]\n",
      "Chain 2:  10% [0:00:45 of 0:00:50 remaining]\n",
      "Chain 2:  20% [0:00:45 of 0:00:56 remaining]\n",
      "Chain 2:  30% [0:00:41 of 0:00:59 remaining]\n",
      "Chain 2:  40% [0:00:36 of 0:00:59 remaining]\n",
      "Chain 2:  50% [0:00:30 of 0:01:01 remaining]\n",
      "Chain 2:  60% [0:00:25 of 0:01:02 remaining]\n",
      "Chain 2:  70% [0:00:19 of 0:01:03 remaining]\n",
      "Chain 2:  80% [0:00:13 of 0:01:03 remaining]\n",
      "Chain 2:  90% [0:00:06 of 0:01:03 remaining]\n",
      "Chain 2: 100% [0:00:00 of 0:01:03 remaining]\n",
      "\n",
      "Chain 3:   0% [0:00:02 of 0:00:02 remaining]\n",
      "Chain 3:  10% [0:00:54 of 0:00:60 remaining]\n",
      "Chain 3:  20% [0:00:52 of 0:01:05 remaining]\n",
      "Chain 3:  30% [0:00:46 of 0:01:06 remaining]\n",
      "Chain 3:  40% [0:00:41 of 0:01:08 remaining]\n",
      "Chain 3:  50% [0:00:34 of 0:01:08 remaining]\n",
      "Chain 3:  60% [0:00:28 of 0:01:10 remaining]\n",
      "Chain 3:  70% [0:00:21 of 0:01:10 remaining]\n",
      "Chain 3:  80% [0:00:14 of 0:01:09 remaining]\n",
      "Chain 3:  90% [0:00:07 of 0:01:09 remaining]\n",
      "Chain 3: 100% [0:00:00 of 0:01:09 remaining]\n",
      "\n"
     ]
    },
    {
     "output_type": "execute_result",
     "data": {
      "text/plain": "Object of type \"Mamba.ModelChains\"\n\nIterations = 1001:10000\nThinning interval = 1\nChains = 1,2,3\nSamples per chain = 9000\n\n[24.8016 113.721 0.905323; 27.7189 113.714 0.916506; … ; 27.4063 114.829 0.879132; 27.373 114.829 0.879132]\n\n[29.1617 115.022 0.888203; 29.3254 115.016 0.864627; … ; 32.0125 114.65 0.881944; 31.9451 114.516 0.884708]\n\n[26.4146 113.063 0.921563; 25.9122 111.579 0.945858; … ; 24.4041 116.852 0.837413; 28.2536 113.904 0.900264]"
     },
     "metadata": {},
     "execution_count": 2
    }
   ],
   "cell_type": "code",
   "source": [
    "df2 = filter(row -> row[:age] >= 18, df);\n",
    "line[:x] = convert(Array{Float64,1}, df2[:weight]);\n",
    "line[:y] = convert(Array{Float64,1}, df2[:height]);\n",
    "line[:xmat] = convert(Array{Float64,2}, [ones(length(line[:x])) line[:x]])\n",
    "\n",
    "# Model Specification\n",
    "model = Model(\n",
    "  y = Stochastic(1,\n",
    "    (xmat, beta, s2) -> MvNormal(xmat * beta, sqrt(s2)),\n",
    "    false\n",
    "  ),\n",
    "  beta = Stochastic(1, () -> MvNormal([178, 0], [sqrt(10000), sqrt(100)])),\n",
    "  s2 = Stochastic(() -> Uniform(0, 50))\n",
    ")\n",
    "\n",
    "\n",
    "# Initial Values\n",
    "inits = [\n",
    "  Dict{Symbol, Any}(\n",
    "    :y => line[:y],\n",
    "    :beta => [rand(Normal(178, 100)), rand(Normal(0, 10))],\n",
    "    :s2 => rand(Uniform(0, 50))\n",
    "  )\n",
    "  for i in 1:3\n",
    "]\n",
    "\n",
    "# Tuning Parameters\n",
    "scale1 = [0.5, 0.25]\n",
    "summary1 = identity\n",
    "eps1 = 0.5\n",
    "\n",
    "scale2 = 0.5\n",
    "summary2 = x -> [mean(x); sqrt(var(x))]\n",
    "eps2 = 0.1\n",
    "\n",
    "# Define sampling scheme\n",
    "\n",
    "scheme = [\n",
    "  Mamba.NUTS([:beta]),\n",
    "  Mamba.Slice([:s2], 10)\n",
    "]\n",
    "\n",
    "setsamplers!(model, scheme)\n",
    "\n",
    "# MCMC Simulation\n",
    "\n",
    "sim = mcmc(model, line, inits, 10000, burnin=1000, chains=3)"
   ],
   "metadata": {},
   "execution_count": 2
  },
  {
   "outputs": [],
   "cell_type": "markdown",
   "source": [
    "Show draws summary"
   ],
   "metadata": {}
  },
  {
   "outputs": [
    {
     "name": "stdout",
     "output_type": "stream",
     "text": [
      "Iterations = 1001:10000\n",
      "Thinning interval = 1\n",
      "Chains = 1,2,3\n",
      "Samples per chain = 9000\n",
      "\n",
      "Empirical Posterior Estimates:\n",
      "            Mean          SD        Naive SE       MCSE        ESS   \n",
      "     s2  26.16044225 2.002665267 0.01218783269 0.0193921196 9000.0000\n",
      "beta[1] 113.85056121 1.902110038 0.01157587305 0.0358494066 2815.1875\n",
      "beta[2]   0.90572963 0.041852046 0.00025470344 0.0007828625 2858.0012\n",
      "\n",
      "Quantiles:\n",
      "            2.5%       25.0%       50.0%       75.0%       97.5%   \n",
      "     s2  22.5326098  24.7618047  26.0511718  27.4357015  30.4144890\n",
      "beta[1] 110.0707718 112.5658912 113.8999698 115.1519273 117.5280554\n",
      "beta[2]   0.8244975   0.8770842   0.9049083   0.9344114   0.9889133\n",
      "\n"
     ]
    }
   ],
   "cell_type": "code",
   "source": [
    "describe(sim)"
   ],
   "metadata": {},
   "execution_count": 3
  },
  {
   "outputs": [],
   "cell_type": "markdown",
   "source": [
    "End of `clip_38.0m.jl`"
   ],
   "metadata": {}
  },
  {
   "outputs": [],
   "cell_type": "markdown",
   "source": [
    "*This notebook was generated using [Literate.jl](https://github.com/fredrikekre/Literate.jl).*"
   ],
   "metadata": {}
  }
 ],
 "nbformat_minor": 3,
 "metadata": {
  "language_info": {
   "file_extension": ".jl",
   "mimetype": "application/julia",
   "name": "julia",
   "version": "1.1.0-DEV.840"
  },
  "kernelspec": {
   "name": "julia-1.1",
   "display_name": "Julia 1.1.0-DEV.840",
   "language": "julia"
  }
 },
 "nbformat": 4
}
