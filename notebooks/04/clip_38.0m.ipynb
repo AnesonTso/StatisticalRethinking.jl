{
 "cells": [
  {
   "outputs": [],
   "cell_type": "code",
   "source": [
    "using StatisticalRethinking, Distributed, JLD\n",
    "using Mamba\n",
    "\n",
    "# Data\n",
    "line = Dict{Symbol, Any}()\n",
    "\n",
    "howell1 = CSV.read(rel_path(\"..\", \"data\", \"Howell1.csv\"), delim=';')\n",
    "df = convert(DataFrame, howell1);"
   ],
   "metadata": {},
   "execution_count": 1
  },
  {
   "outputs": [],
   "cell_type": "markdown",
   "source": [
    "Use only adults"
   ],
   "metadata": {}
  },
  {
   "outputs": [
    {
     "name": "stdout",
     "output_type": "stream",
     "text": [
      "MCMC Simulation of 10000 Iterations x 3 Chains...\n",
      "\n",
      "Chain 1:   0% [0:12:34 of 0:12:35 remaining]\n",
      "Chain 1:  10% [0:00:48 of 0:00:53 remaining]\n",
      "Chain 1:  20% [0:00:50 of 0:01:03 remaining]\n",
      "Chain 1:  30% [0:00:47 of 0:01:07 remaining]\n",
      "Chain 1:  40% [0:00:41 of 0:01:09 remaining]\n",
      "Chain 1:  50% [0:00:35 of 0:01:10 remaining]\n",
      "Chain 1:  60% [0:00:28 of 0:01:11 remaining]\n",
      "Chain 1:  70% [0:00:21 of 0:01:11 remaining]\n",
      "Chain 1:  80% [0:00:14 of 0:01:11 remaining]\n",
      "Chain 1:  90% [0:00:07 of 0:01:11 remaining]\n",
      "Chain 1: 100% [0:00:00 of 0:01:12 remaining]\n",
      "\n",
      "Chain 2:   0% [0:00:03 of 0:00:03 remaining]\n",
      "Chain 2:  10% [0:00:55 of 0:01:01 remaining]\n",
      "Chain 2:  20% [0:00:52 of 0:01:05 remaining]\n",
      "Chain 2:  30% [0:00:47 of 0:01:07 remaining]\n",
      "Chain 2:  40% [0:00:41 of 0:01:09 remaining]\n",
      "Chain 2:  50% [0:00:34 of 0:01:07 remaining]\n",
      "Chain 2:  60% [0:00:27 of 0:01:08 remaining]\n",
      "Chain 2:  70% [0:00:21 of 0:01:09 remaining]\n",
      "Chain 2:  80% [0:00:14 of 0:01:09 remaining]\n",
      "Chain 2:  90% [0:00:07 of 0:01:10 remaining]\n",
      "Chain 2: 100% [0:00:00 of 0:01:10 remaining]\n",
      "\n",
      "Chain 3:   0% [0:00:03 of 0:00:03 remaining]\n",
      "Chain 3:  10% [0:00:51 of 0:00:57 remaining]\n",
      "Chain 3:  20% [0:00:57 of 0:01:11 remaining]\n",
      "Chain 3:  30% [0:00:53 of 0:01:16 remaining]\n",
      "Chain 3:  40% [0:00:45 of 0:01:15 remaining]\n",
      "Chain 3:  50% [0:00:39 of 0:01:18 remaining]\n",
      "Chain 3:  60% [0:00:31 of 0:01:18 remaining]\n",
      "Chain 3:  70% [0:00:23 of 0:01:18 remaining]\n",
      "Chain 3:  80% [0:00:15 of 0:01:17 remaining]\n",
      "Chain 3:  90% [0:00:08 of 0:01:16 remaining]\n",
      "Chain 3: 100% [0:00:00 of 0:01:16 remaining]\n",
      "\n"
     ]
    },
    {
     "output_type": "execute_result",
     "data": {
      "text/plain": "Object of type \"Mamba.ModelChains\"\n\nIterations = 1001:10000\nThinning interval = 1\nChains = 1,2,3\nSamples per chain = 9000\n\n[28.4273 112.564 0.930925; 27.5248 112.564 0.930925; … ; 27.3239 116.748 0.845701; 30.7513 117.583 0.828856]\n\n[27.4302 116.41 0.847305; 27.642 114.969 0.878734; … ; 26.7839 112.404 0.943431; 24.2814 112.404 0.943431]\n\n[24.3522 113.104 0.912927; 25.687 111.484 0.959265; … ; 27.6138 116.368 0.857248; 27.3044 116.545 0.846114]"
     },
     "metadata": {},
     "execution_count": 2
    }
   ],
   "cell_type": "code",
   "source": [
    "df2 = filter(row -> row[:age] >= 18, df);\n",
    "line[:x] = convert(Array{Float64,1}, df2[:weight]);\n",
    "line[:y] = convert(Array{Float64,1}, df2[:height]);\n",
    "line[:xmat] = convert(Array{Float64,2}, [ones(length(line[:x])) line[:x]])\n",
    "\n",
    "# Model Specification\n",
    "model = Model(\n",
    "  y = Stochastic(1,\n",
    "    (xmat, beta, s2) -> MvNormal(xmat * beta, sqrt(s2)),\n",
    "    false\n",
    "  ),\n",
    "  beta = Stochastic(1, () -> MvNormal([178, 0], [sqrt(10000), sqrt(100)])),\n",
    "  s2 = Stochastic(() -> Uniform(0, 50))\n",
    ")\n",
    "\n",
    "# Initial Values\n",
    "inits = [\n",
    "  Dict{Symbol, Any}(\n",
    "    :y => line[:y],\n",
    "    :beta => [rand(Normal(178, 100)), rand(Normal(0, 10))],\n",
    "    :s2 => rand(Uniform(0, 50))\n",
    "  )\n",
    "  for i in 1:3\n",
    "]\n",
    "\n",
    "# Tuning Parameters\n",
    "scale1 = [0.5, 0.25]\n",
    "summary1 = identity\n",
    "eps1 = 0.5\n",
    "\n",
    "scale2 = 0.5\n",
    "summary2 = x -> [mean(x); sqrt(var(x))]\n",
    "eps2 = 0.1\n",
    "\n",
    "# Define sampling scheme\n",
    "\n",
    "scheme = [\n",
    "  Mamba.NUTS([:beta]),\n",
    "  Mamba.Slice([:s2], 10)\n",
    "]\n",
    "\n",
    "setsamplers!(model, scheme)\n",
    "\n",
    "# MCMC Simulation\n",
    "\n",
    "sim = mcmc(model, line, inits, 10000, burnin=1000, chains=3)"
   ],
   "metadata": {},
   "execution_count": 2
  },
  {
   "outputs": [],
   "cell_type": "markdown",
   "source": [
    "Show draws summary"
   ],
   "metadata": {}
  },
  {
   "outputs": [
    {
     "name": "stdout",
     "output_type": "stream",
     "text": [
      "Iterations = 1001:10000\n",
      "Thinning interval = 1\n",
      "Chains = 1,2,3\n",
      "Samples per chain = 9000\n",
      "\n",
      "Empirical Posterior Estimates:\n",
      "            Mean         SD        Naive SE        MCSE        ESS   \n",
      "     s2  26.1808028 2.000867124 0.01217688954 0.01993324931 9000.0000\n",
      "beta[1] 113.8239535 1.897484771 0.01154772457 0.03487090407 2960.9439\n",
      "beta[2]   0.9061479 0.041741608 0.00025403133 0.00075708687 3039.8133\n",
      "\n",
      "Quantiles:\n",
      "            2.5%         25.0%       50.0%       75.0%        97.5%   \n",
      "     s2  22.55114241  24.77092147  26.0849397  27.4690796  30.36704903\n",
      "beta[1] 110.01767323 112.55486623 113.8382832 115.0984947 117.49059197\n",
      "beta[2]   0.82547148   0.87786495   0.9060332   0.9339591   0.98996128\n",
      "\n"
     ]
    }
   ],
   "cell_type": "code",
   "source": [
    "describe(sim)"
   ],
   "metadata": {},
   "execution_count": 3
  },
  {
   "outputs": [],
   "cell_type": "markdown",
   "source": [
    "End of `clip_38.0m.jl`"
   ],
   "metadata": {}
  },
  {
   "outputs": [],
   "cell_type": "markdown",
   "source": [
    "*This notebook was generated using [Literate.jl](https://github.com/fredrikekre/Literate.jl).*"
   ],
   "metadata": {}
  }
 ],
 "nbformat_minor": 3,
 "metadata": {
  "language_info": {
   "file_extension": ".jl",
   "mimetype": "application/julia",
   "name": "julia",
   "version": "1.1.0-DEV.840"
  },
  "kernelspec": {
   "name": "julia-1.1",
   "display_name": "Julia 1.1.0-DEV.840",
   "language": "julia"
  }
 },
 "nbformat": 4
}
