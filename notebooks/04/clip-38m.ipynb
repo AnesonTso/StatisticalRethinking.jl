{
 "cells": [
  {
   "outputs": [],
   "cell_type": "code",
   "source": [
    "using StatisticalRethinking, Mamba\n",
    "\n",
    "# Data\n",
    "line = Dict{Symbol, Any}()\n",
    "\n",
    "howell1 = CSV.read(rel_path(\"..\", \"data\", \"Howell1.csv\"), delim=';')\n",
    "df = convert(DataFrame, howell1);"
   ],
   "metadata": {},
   "execution_count": 1
  },
  {
   "outputs": [],
   "cell_type": "markdown",
   "source": [
    "Use only adults"
   ],
   "metadata": {}
  },
  {
   "outputs": [
    {
     "output_type": "execute_result",
     "data": {
      "text/plain": "352×2 Array{Float64,2}:\n 1.0  47.8256\n 1.0  36.4858\n 1.0  31.8648\n 1.0  53.0419\n 1.0  41.2769\n 1.0  62.9926\n 1.0  38.2435\n 1.0  55.48  \n 1.0  34.8699\n 1.0  54.4877\n ⋮           \n 1.0  47.8823\n 1.0  39.4058\n 1.0  41.0501\n 1.0  40.8233\n 1.0  47.0318\n 1.0  34.2462\n 1.0  52.1631\n 1.0  54.0625\n 1.0  52.5316"
     },
     "metadata": {},
     "execution_count": 2
    }
   ],
   "cell_type": "code",
   "source": [
    "df2 = filter(row -> row[:age] >= 18, df);\n",
    "line[:x] = convert(Array{Float64,1}, df2[:weight]);\n",
    "line[:y] = convert(Array{Float64,1}, df2[:height]);\n",
    "line[:xmat] = convert(Array{Float64,2}, [ones(length(line[:x])) line[:x]])"
   ],
   "metadata": {},
   "execution_count": 2
  },
  {
   "outputs": [],
   "cell_type": "markdown",
   "source": [
    "Model Specification"
   ],
   "metadata": {}
  },
  {
   "outputs": [
    {
     "output_type": "execute_result",
     "data": {
      "text/plain": "Object of type \"Mamba.Model\"\n-------------------------------------------------------------------------------\nbeta:\nA monitored node of type \"0-element Mamba.ArrayStochastic{1}\"\nFloat64[]\n-------------------------------------------------------------------------------\ny:\nAn unmonitored node of type \"0-element Mamba.ArrayStochastic{1}\"\nFloat64[]\n-------------------------------------------------------------------------------\ns2:\nA monitored node of type \"Mamba.ScalarStochastic\"\nNaN\n"
     },
     "metadata": {},
     "execution_count": 3
    }
   ],
   "cell_type": "code",
   "source": [
    "model = Model(\n",
    "  y = Stochastic(1,\n",
    "    (xmat, beta, s2) -> MvNormal(xmat * beta, sqrt(s2)),\n",
    "    false\n",
    "  ),\n",
    "  beta = Stochastic(1, () -> MvNormal([178, 0], [sqrt(10000), sqrt(100)])),\n",
    "  s2 = Stochastic(() -> Uniform(0, 50))\n",
    ")"
   ],
   "metadata": {},
   "execution_count": 3
  },
  {
   "outputs": [],
   "cell_type": "markdown",
   "source": [
    "Initial Values"
   ],
   "metadata": {}
  },
  {
   "outputs": [
    {
     "output_type": "execute_result",
     "data": {
      "text/plain": "3-element Array{Dict{Symbol,Any},1}:\n Dict(:beta=>[290.944, 7.32004],:y=>[151.765, 139.7, 136.525, 156.845, 145.415, 163.83, 149.225, 168.91, 147.955, 165.1  …  156.21, 160.655, 146.05, 156.21, 152.4, 162.56, 142.875, 162.56, 156.21, 158.75],:s2=>18.4792) \n Dict(:beta=>[89.5338, 11.8022],:y=>[151.765, 139.7, 136.525, 156.845, 145.415, 163.83, 149.225, 168.91, 147.955, 165.1  …  156.21, 160.655, 146.05, 156.21, 152.4, 162.56, 142.875, 162.56, 156.21, 158.75],:s2=>20.9178) \n Dict(:beta=>[114.129, -19.4873],:y=>[151.765, 139.7, 136.525, 156.845, 145.415, 163.83, 149.225, 168.91, 147.955, 165.1  …  156.21, 160.655, 146.05, 156.21, 152.4, 162.56, 142.875, 162.56, 156.21, 158.75],:s2=>23.1864)"
     },
     "metadata": {},
     "execution_count": 4
    }
   ],
   "cell_type": "code",
   "source": [
    "inits = [\n",
    "  Dict{Symbol, Any}(\n",
    "    :y => line[:y],\n",
    "    :beta => [rand(Normal(178, 100)), rand(Normal(0, 10))],\n",
    "    :s2 => rand(Uniform(0, 50))\n",
    "  )\n",
    "  for i in 1:3\n",
    "]"
   ],
   "metadata": {},
   "execution_count": 4
  },
  {
   "outputs": [],
   "cell_type": "markdown",
   "source": [
    "Tuning Parameters"
   ],
   "metadata": {}
  },
  {
   "outputs": [
    {
     "output_type": "execute_result",
     "data": {
      "text/plain": "0.1"
     },
     "metadata": {},
     "execution_count": 5
    }
   ],
   "cell_type": "code",
   "source": [
    "scale1 = [0.5, 0.25]\n",
    "summary1 = identity\n",
    "eps1 = 0.5\n",
    "\n",
    "scale2 = 0.5\n",
    "summary2 = x -> [mean(x); sqrt(var(x))]\n",
    "eps2 = 0.1"
   ],
   "metadata": {},
   "execution_count": 5
  },
  {
   "outputs": [],
   "cell_type": "markdown",
   "source": [
    "Define sampling scheme"
   ],
   "metadata": {}
  },
  {
   "outputs": [
    {
     "output_type": "execute_result",
     "data": {
      "text/plain": "Object of type \"Mamba.Model\"\n-------------------------------------------------------------------------------\nbeta:\nA monitored node of type \"0-element Mamba.ArrayStochastic{1}\"\nFloat64[]\n-------------------------------------------------------------------------------\ny:\nAn unmonitored node of type \"0-element Mamba.ArrayStochastic{1}\"\nFloat64[]\n-------------------------------------------------------------------------------\ns2:\nA monitored node of type \"Mamba.ScalarStochastic\"\nNaN\n"
     },
     "metadata": {},
     "execution_count": 6
    }
   ],
   "cell_type": "code",
   "source": [
    "scheme = [\n",
    "  Mamba.NUTS([:beta]),\n",
    "  Mamba.Slice([:s2], 10)\n",
    "]\n",
    "\n",
    "setsamplers!(model, scheme)"
   ],
   "metadata": {},
   "execution_count": 6
  },
  {
   "outputs": [],
   "cell_type": "markdown",
   "source": [
    "MCMC Simulation"
   ],
   "metadata": {}
  },
  {
   "outputs": [
    {
     "name": "stdout",
     "output_type": "stream",
     "text": [
      "MCMC Simulation of 10000 Iterations x 3 Chains...\n",
      "\n",
      "Chain 1:   0% [0:14:60 of 0:15:00 remaining]\n",
      "Chain 1:  10% [0:00:60 of 0:01:06 remaining]\n",
      "Chain 1:  20% [0:00:58 of 0:01:12 remaining]\n",
      "Chain 1:  30% [0:00:52 of 0:01:14 remaining]\n",
      "Chain 1:  40% [0:00:45 of 0:01:16 remaining]\n",
      "Chain 1:  50% [0:00:37 of 0:01:14 remaining]\n",
      "Chain 1:  60% [0:00:30 of 0:01:14 remaining]\n",
      "Chain 1:  70% [0:00:22 of 0:01:15 remaining]\n",
      "Chain 1:  80% [0:00:15 of 0:01:14 remaining]\n",
      "Chain 1:  90% [0:00:07 of 0:01:14 remaining]\n",
      "Chain 1: 100% [0:00:00 of 0:01:14 remaining]\n",
      "\n",
      "Chain 2:   0% [0:00:07 of 0:00:07 remaining]\n",
      "Chain 2:  10% [0:00:53 of 0:00:59 remaining]\n",
      "Chain 2:  20% [0:00:56 of 0:01:09 remaining]\n",
      "Chain 2:  30% [0:00:50 of 0:01:12 remaining]\n",
      "Chain 2:  40% [0:00:44 of 0:01:14 remaining]\n",
      "Chain 2:  50% [0:00:38 of 0:01:15 remaining]\n",
      "Chain 2:  60% [0:00:30 of 0:01:14 remaining]\n",
      "Chain 2:  70% [0:00:22 of 0:01:14 remaining]\n",
      "Chain 2:  80% [0:00:15 of 0:01:15 remaining]\n",
      "Chain 2:  90% [0:00:08 of 0:01:16 remaining]\n",
      "Chain 2: 100% [0:00:00 of 0:01:16 remaining]\n",
      "\n",
      "Chain 3:   0% [0:00:02 of 0:00:02 remaining]\n",
      "Chain 3:  10% [0:00:50 of 0:00:56 remaining]\n",
      "Chain 3:  20% [0:00:53 of 0:01:06 remaining]\n",
      "Chain 3:  30% [0:00:48 of 0:01:08 remaining]\n",
      "Chain 3:  40% [0:00:42 of 0:01:10 remaining]\n",
      "Chain 3:  50% [0:00:36 of 0:01:13 remaining]\n",
      "Chain 3:  60% [0:00:29 of 0:01:13 remaining]\n",
      "Chain 3:  70% [0:00:22 of 0:01:14 remaining]\n",
      "Chain 3:  80% [0:00:15 of 0:01:14 remaining]\n",
      "Chain 3:  90% [0:00:07 of 0:01:15 remaining]\n",
      "Chain 3: 100% [0:00:00 of 0:01:15 remaining]\n",
      "\n"
     ]
    },
    {
     "output_type": "execute_result",
     "data": {
      "text/plain": "Object of type \"Mamba.ModelChains\"\n\nIterations = 1001:10000\nThinning interval = 1\nChains = 1,2,3\nSamples per chain = 9000\n\n[30.5645 112.241 0.939701; 23.9761 113.009 0.925999; … ; 26.4892 114.124 0.886743; 25.644 113.782 0.895372]\n\n[26.9448 114.583 0.899226; 27.3186 114.584 0.885683; … ; 28.8019 110.663 0.975316; 26.7791 111.214 0.966822]\n\n[25.038 110.215 0.976471; 26.1712 110.215 0.976471; … ; 25.1718 115.275 0.874487; 26.5515 115.275 0.874487]"
     },
     "metadata": {},
     "execution_count": 7
    }
   ],
   "cell_type": "code",
   "source": [
    "sim = mcmc(model, line, inits, 10000, burnin=1000, chains=3)"
   ],
   "metadata": {},
   "execution_count": 7
  },
  {
   "outputs": [],
   "cell_type": "markdown",
   "source": [
    "Show draws summary"
   ],
   "metadata": {}
  },
  {
   "outputs": [
    {
     "name": "stdout",
     "output_type": "stream",
     "text": [
      "Iterations = 1001:10000\n",
      "Thinning interval = 1\n",
      "Chains = 1,2,3\n",
      "Samples per chain = 9000\n",
      "\n",
      "Empirical Posterior Estimates:\n",
      "            Mean        SD       Naive SE       MCSE        ESS   \n",
      "     s2  26.1749563 1.98754677 0.0120958245 0.0189454250 9000.0000\n",
      "beta[1] 113.9435719 1.90700923 0.0116056886 0.0357703011 2842.2377\n",
      "beta[2]   0.9036673 0.04195967 0.0002553584 0.0007788297 2902.5462\n",
      "\n",
      "Quantiles:\n",
      "            2.5%         25.0%        50.0%       75.0%        97.5%   \n",
      "     s2  22.57283163  24.79721389  26.06923887  27.4445829  30.31433738\n",
      "beta[1] 110.23166347 112.64725299 113.94424085 115.2323768 117.67645899\n",
      "beta[2]   0.82150273   0.87550054   0.90363053   0.9322818   0.98556096\n",
      "\n"
     ]
    }
   ],
   "cell_type": "code",
   "source": [
    "describe(sim)"
   ],
   "metadata": {},
   "execution_count": 8
  },
  {
   "outputs": [],
   "cell_type": "markdown",
   "source": [
    "End of `clip_38.0m.jl`"
   ],
   "metadata": {}
  },
  {
   "outputs": [],
   "cell_type": "markdown",
   "source": [
    "*This notebook was generated using [Literate.jl](https://github.com/fredrikekre/Literate.jl).*"
   ],
   "metadata": {}
  }
 ],
 "nbformat_minor": 3,
 "metadata": {
  "language_info": {
   "file_extension": ".jl",
   "mimetype": "application/julia",
   "name": "julia",
   "version": "1.2.0-DEV.93"
  },
  "kernelspec": {
   "name": "julia-1.2",
   "display_name": "Julia 1.2.0-DEV.93",
   "language": "julia"
  }
 },
 "nbformat": 4
}
