{
 "cells": [
  {
   "outputs": [],
   "cell_type": "code",
   "source": [
    "using StatisticalRethinking, Mamba\n",
    "\n",
    "# Data\n",
    "line = Dict{Symbol, Any}()\n",
    "\n",
    "howell1 = CSV.read(rel_path(\"..\", \"data\", \"Howell1.csv\"), delim=';')\n",
    "df = convert(DataFrame, howell1);"
   ],
   "metadata": {},
   "execution_count": 1
  },
  {
   "outputs": [],
   "cell_type": "markdown",
   "source": [
    "Use only adults"
   ],
   "metadata": {}
  },
  {
   "outputs": [
    {
     "output_type": "execute_result",
     "data": {
      "text/plain": "352×2 Array{Float64,2}:\n 1.0  47.8256\n 1.0  36.4858\n 1.0  31.8648\n 1.0  53.0419\n 1.0  41.2769\n 1.0  62.9926\n 1.0  38.2435\n 1.0  55.48  \n 1.0  34.8699\n 1.0  54.4877\n ⋮           \n 1.0  47.8823\n 1.0  39.4058\n 1.0  41.0501\n 1.0  40.8233\n 1.0  47.0318\n 1.0  34.2462\n 1.0  52.1631\n 1.0  54.0625\n 1.0  52.5316"
     },
     "metadata": {},
     "execution_count": 2
    }
   ],
   "cell_type": "code",
   "source": [
    "df2 = filter(row -> row[:age] >= 18, df);\n",
    "line[:x] = convert(Array{Float64,1}, df2[:weight]);\n",
    "line[:y] = convert(Array{Float64,1}, df2[:height]);\n",
    "line[:xmat] = convert(Array{Float64,2}, [ones(length(line[:x])) line[:x]])"
   ],
   "metadata": {},
   "execution_count": 2
  },
  {
   "outputs": [],
   "cell_type": "markdown",
   "source": [
    "Model Specification"
   ],
   "metadata": {}
  },
  {
   "outputs": [
    {
     "output_type": "execute_result",
     "data": {
      "text/plain": "Object of type \"Mamba.Model\"\n-------------------------------------------------------------------------------\nbeta:\nA monitored node of type \"0-element Mamba.ArrayStochastic{1}\"\nFloat64[]\n-------------------------------------------------------------------------------\ny:\nAn unmonitored node of type \"0-element Mamba.ArrayStochastic{1}\"\nFloat64[]\n-------------------------------------------------------------------------------\ns2:\nA monitored node of type \"Mamba.ScalarStochastic\"\nNaN\n"
     },
     "metadata": {},
     "execution_count": 3
    }
   ],
   "cell_type": "code",
   "source": [
    "model = Model(\n",
    "  y = Stochastic(1,\n",
    "    (xmat, beta, s2) -> MvNormal(xmat * beta, sqrt(s2)),\n",
    "    false\n",
    "  ),\n",
    "  beta = Stochastic(1, () -> MvNormal([178, 0], [sqrt(10000), sqrt(100)])),\n",
    "  s2 = Stochastic(() -> Uniform(0, 50))\n",
    ")"
   ],
   "metadata": {},
   "execution_count": 3
  },
  {
   "outputs": [],
   "cell_type": "markdown",
   "source": [
    "Initial Values"
   ],
   "metadata": {}
  },
  {
   "outputs": [
    {
     "output_type": "execute_result",
     "data": {
      "text/plain": "3-element Array{Dict{Symbol,Any},1}:\n Dict(:beta=>[200.628, -12.8201],:y=>[151.765, 139.7, 136.525, 156.845, 145.415, 163.83, 149.225, 168.91, 147.955, 165.1  …  156.21, 160.655, 146.05, 156.21, 152.4, 162.56, 142.875, 162.56, 156.21, 158.75],:s2=>33.7)  \n Dict(:beta=>[234.191, 4.20307],:y=>[151.765, 139.7, 136.525, 156.845, 145.415, 163.83, 149.225, 168.91, 147.955, 165.1  …  156.21, 160.655, 146.05, 156.21, 152.4, 162.56, 142.875, 162.56, 156.21, 158.75],:s2=>6.73949)\n Dict(:beta=>[75.538, -13.75],:y=>[151.765, 139.7, 136.525, 156.845, 145.415, 163.83, 149.225, 168.91, 147.955, 165.1  …  156.21, 160.655, 146.05, 156.21, 152.4, 162.56, 142.875, 162.56, 156.21, 158.75],:s2=>43.283)   "
     },
     "metadata": {},
     "execution_count": 4
    }
   ],
   "cell_type": "code",
   "source": [
    "inits = [\n",
    "  Dict{Symbol, Any}(\n",
    "    :y => line[:y],\n",
    "    :beta => [rand(Normal(178, 100)), rand(Normal(0, 10))],\n",
    "    :s2 => rand(Uniform(0, 50))\n",
    "  )\n",
    "  for i in 1:3\n",
    "]"
   ],
   "metadata": {},
   "execution_count": 4
  },
  {
   "outputs": [],
   "cell_type": "markdown",
   "source": [
    "Tuning Parameters"
   ],
   "metadata": {}
  },
  {
   "outputs": [
    {
     "output_type": "execute_result",
     "data": {
      "text/plain": "0.1"
     },
     "metadata": {},
     "execution_count": 5
    }
   ],
   "cell_type": "code",
   "source": [
    "scale1 = [0.5, 0.25]\n",
    "summary1 = identity\n",
    "eps1 = 0.5\n",
    "\n",
    "scale2 = 0.5\n",
    "summary2 = x -> [mean(x); sqrt(var(x))]\n",
    "eps2 = 0.1"
   ],
   "metadata": {},
   "execution_count": 5
  },
  {
   "outputs": [],
   "cell_type": "markdown",
   "source": [
    "Define sampling scheme"
   ],
   "metadata": {}
  },
  {
   "outputs": [
    {
     "output_type": "execute_result",
     "data": {
      "text/plain": "Object of type \"Mamba.Model\"\n-------------------------------------------------------------------------------\nbeta:\nA monitored node of type \"0-element Mamba.ArrayStochastic{1}\"\nFloat64[]\n-------------------------------------------------------------------------------\ny:\nAn unmonitored node of type \"0-element Mamba.ArrayStochastic{1}\"\nFloat64[]\n-------------------------------------------------------------------------------\ns2:\nA monitored node of type \"Mamba.ScalarStochastic\"\nNaN\n"
     },
     "metadata": {},
     "execution_count": 6
    }
   ],
   "cell_type": "code",
   "source": [
    "scheme = [\n",
    "  Mamba.NUTS([:beta]),\n",
    "  Mamba.Slice([:s2], 10)\n",
    "]\n",
    "\n",
    "setsamplers!(model, scheme)"
   ],
   "metadata": {},
   "execution_count": 6
  },
  {
   "outputs": [],
   "cell_type": "markdown",
   "source": [
    "MCMC Simulation"
   ],
   "metadata": {}
  },
  {
   "outputs": [
    {
     "name": "stdout",
     "output_type": "stream",
     "text": [
      "MCMC Simulation of 10000 Iterations x 3 Chains...\n",
      "\n",
      "Chain 1:   0% [0:14:13 of 0:14:14 remaining]\n",
      "Chain 1:  10% [0:01:08 of 0:01:16 remaining]\n",
      "Chain 1:  20% [0:00:59 of 0:01:14 remaining]\n",
      "Chain 1:  30% [0:00:52 of 0:01:15 remaining]\n",
      "Chain 1:  40% [0:00:45 of 0:01:15 remaining]\n",
      "Chain 1:  50% [0:00:37 of 0:01:14 remaining]\n",
      "Chain 1:  60% [0:00:30 of 0:01:14 remaining]\n",
      "Chain 1:  70% [0:00:23 of 0:01:15 remaining]\n",
      "Chain 1:  80% [0:00:15 of 0:01:15 remaining]\n",
      "Chain 1:  90% [0:00:07 of 0:01:15 remaining]\n",
      "Chain 1: 100% [0:00:00 of 0:01:14 remaining]\n",
      "\n",
      "Chain 2:   0% [0:00:02 of 0:00:02 remaining]\n",
      "Chain 2:  10% [0:00:52 of 0:00:58 remaining]\n",
      "Chain 2:  20% [0:00:57 of 0:01:12 remaining]\n",
      "Chain 2:  30% [0:00:53 of 0:01:16 remaining]\n",
      "Chain 2:  40% [0:00:47 of 0:01:18 remaining]\n",
      "Chain 2:  50% [0:00:39 of 0:01:18 remaining]\n",
      "Chain 2:  60% [0:00:32 of 0:01:19 remaining]\n",
      "Chain 2:  70% [0:00:24 of 0:01:19 remaining]\n",
      "Chain 2:  80% [0:00:16 of 0:01:20 remaining]\n",
      "Chain 2:  90% [0:00:08 of 0:01:20 remaining]\n",
      "Chain 2: 100% [0:00:00 of 0:01:20 remaining]\n",
      "\n",
      "Chain 3:   0% [0:00:02 of 0:00:02 remaining]\n",
      "Chain 3:  10% [0:00:49 of 0:00:54 remaining]\n",
      "Chain 3:  20% [0:00:51 of 0:01:04 remaining]\n",
      "Chain 3:  30% [0:00:48 of 0:01:09 remaining]\n",
      "Chain 3:  40% [0:00:43 of 0:01:11 remaining]\n",
      "Chain 3:  50% [0:00:37 of 0:01:13 remaining]\n",
      "Chain 3:  60% [0:00:30 of 0:01:15 remaining]\n",
      "Chain 3:  70% [0:00:22 of 0:01:15 remaining]\n",
      "Chain 3:  80% [0:00:15 of 0:01:15 remaining]\n",
      "Chain 3:  90% [0:00:07 of 0:01:15 remaining]\n",
      "Chain 3: 100% [0:00:00 of 0:01:15 remaining]\n",
      "\n"
     ]
    },
    {
     "output_type": "execute_result",
     "data": {
      "text/plain": "Object of type \"Mamba.ModelChains\"\n\nIterations = 1001:10000\nThinning interval = 1\nChains = 1,2,3\nSamples per chain = 9000\n\n[26.8672 113.969 0.905587; 31.8816 113.969 0.907221; … ; 27.9261 113.77 0.90902; 26.72 115.47 0.86967]\n\n[24.0536 115.894 0.858569; 29.1813 115.882 0.882856; … ; 26.5788 112.602 0.945593; 25.2993 111.151 0.965024]\n\n[27.7913 114.361 0.888448; 24.2817 114.358 0.906613; … ; 23.3248 114.962 0.889329; 29.6725 114.962 0.889329]"
     },
     "metadata": {},
     "execution_count": 7
    }
   ],
   "cell_type": "code",
   "source": [
    "sim = mcmc(model, line, inits, 10000, burnin=1000, chains=3)"
   ],
   "metadata": {},
   "execution_count": 7
  },
  {
   "outputs": [],
   "cell_type": "markdown",
   "source": [
    "Show draws summary"
   ],
   "metadata": {}
  },
  {
   "outputs": [
    {
     "name": "stdout",
     "output_type": "stream",
     "text": [
      "Iterations = 1001:10000\n",
      "Thinning interval = 1\n",
      "Chains = 1,2,3\n",
      "Samples per chain = 9000\n",
      "\n",
      "Empirical Posterior Estimates:\n",
      "            Mean         SD        Naive SE        MCSE        ESS   \n",
      "     s2  26.1843337 1.998286509 0.01216118441 0.01993462054 9000.0000\n",
      "beta[1] 113.9548798 1.889631383 0.01149993038 0.03566968604 2806.4390\n",
      "beta[2]   0.9034166 0.041528897 0.00025273682 0.00077784588 2850.4517\n",
      "\n",
      "Quantiles:\n",
      "            2.5%       25.0%      50.0%       75.0%       97.5%  \n",
      "     s2  22.5578322  24.803400  26.0794476  27.4340493  30.448849\n",
      "beta[1] 110.3128920 112.700494 113.9347864 115.1774804 117.778357\n",
      "beta[2]   0.8193789   0.876644   0.9037803   0.9310755   0.984011\n",
      "\n"
     ]
    }
   ],
   "cell_type": "code",
   "source": [
    "describe(sim)"
   ],
   "metadata": {},
   "execution_count": 8
  },
  {
   "outputs": [],
   "cell_type": "markdown",
   "source": [
    "End of `clip_38.0m.jl`"
   ],
   "metadata": {}
  },
  {
   "outputs": [],
   "cell_type": "markdown",
   "source": [
    "*This notebook was generated using [Literate.jl](https://github.com/fredrikekre/Literate.jl).*"
   ],
   "metadata": {}
  }
 ],
 "nbformat_minor": 3,
 "metadata": {
  "language_info": {
   "file_extension": ".jl",
   "mimetype": "application/julia",
   "name": "julia",
   "version": "1.2.0-DEV.134"
  },
  "kernelspec": {
   "name": "julia-1.2",
   "display_name": "Julia 1.2.0-DEV.134",
   "language": "julia"
  }
 },
 "nbformat": 4
}
