{
 "cells": [
  {
   "outputs": [],
   "cell_type": "code",
   "source": [
    "using StatisticalRethinking, Distributed, JLD\n",
    "using Mamba\n",
    "\n",
    "# Data\n",
    "line = Dict{Symbol, Any}()\n",
    "\n",
    "howell1 = CSV.read(rel_path(\"..\", \"data\", \"Howell1.csv\"), delim=';')\n",
    "df = convert(DataFrame, howell1);"
   ],
   "metadata": {},
   "execution_count": 1
  },
  {
   "outputs": [],
   "cell_type": "markdown",
   "source": [
    "Use only adults"
   ],
   "metadata": {}
  },
  {
   "outputs": [
    {
     "name": "stdout",
     "output_type": "stream",
     "text": [
      "MCMC Simulation of 10000 Iterations x 3 Chains...\n",
      "\n",
      "Chain 1:   0% [0:12:41 of 0:12:42 remaining]\n",
      "Chain 1:  10% [0:00:58 of 0:01:05 remaining]\n",
      "Chain 1:  20% [0:00:55 of 0:01:09 remaining]\n",
      "Chain 1:  30% [0:00:49 of 0:01:10 remaining]\n",
      "Chain 1:  40% [0:00:41 of 0:01:08 remaining]\n",
      "Chain 1:  50% [0:00:35 of 0:01:10 remaining]\n",
      "Chain 1:  60% [0:00:29 of 0:01:14 remaining]\n",
      "Chain 1:  70% [0:00:22 of 0:01:13 remaining]\n",
      "Chain 1:  80% [0:00:15 of 0:01:13 remaining]\n",
      "Chain 1:  90% [0:00:07 of 0:01:12 remaining]\n",
      "Chain 1: 100% [0:00:00 of 0:01:13 remaining]\n",
      "\n",
      "Chain 2:   0% [0:00:02 of 0:00:02 remaining]\n",
      "Chain 2:  10% [0:00:48 of 0:00:53 remaining]\n",
      "Chain 2:  20% [0:00:54 of 0:01:08 remaining]\n",
      "Chain 2:  30% [0:00:48 of 0:01:09 remaining]\n",
      "Chain 2:  40% [0:00:42 of 0:01:10 remaining]\n",
      "Chain 2:  50% [0:00:35 of 0:01:10 remaining]\n",
      "Chain 2:  60% [0:00:28 of 0:01:10 remaining]\n",
      "Chain 2:  70% [0:00:21 of 0:01:10 remaining]\n",
      "Chain 2:  80% [0:00:14 of 0:01:10 remaining]\n",
      "Chain 2:  90% [0:00:07 of 0:01:10 remaining]\n",
      "Chain 2: 100% [0:00:00 of 0:01:11 remaining]\n",
      "\n",
      "Chain 3:   0% [0:00:02 of 0:00:02 remaining]\n",
      "Chain 3:  10% [0:00:38 of 0:00:43 remaining]\n",
      "Chain 3:  20% [0:00:46 of 0:00:58 remaining]\n",
      "Chain 3:  30% [0:00:45 of 0:01:04 remaining]\n",
      "Chain 3:  40% [0:00:40 of 0:01:06 remaining]\n",
      "Chain 3:  50% [0:00:34 of 0:01:08 remaining]\n",
      "Chain 3:  60% [0:00:27 of 0:01:09 remaining]\n",
      "Chain 3:  70% [0:00:21 of 0:01:10 remaining]\n",
      "Chain 3:  80% [0:00:14 of 0:01:10 remaining]\n",
      "Chain 3:  90% [0:00:07 of 0:01:11 remaining]\n",
      "Chain 3: 100% [0:00:00 of 0:01:11 remaining]\n",
      "\n"
     ]
    },
    {
     "output_type": "execute_result",
     "data": {
      "text/plain": "Object of type \"Mamba.ModelChains\"\n\nIterations = 1001:10000\nThinning interval = 1\nChains = 1,2,3\nSamples per chain = 9000\n\n[21.489 116.607 0.846279; 28.8521 116.607 0.846279; … ; 25.7151 112.194 0.939912; 30.532 113.487 0.909322]\n\n[25.7584 115.856 0.868934; 23.9949 115.253 0.884889; … ; 26.0662 114.037 0.899618; 25.9261 111.586 0.954614]\n\n[26.4942 110.947 0.972804; 25.1066 110.947 0.963033; … ; 24.735 110.452 0.969289; 28.0403 114.933 0.877591]"
     },
     "metadata": {},
     "execution_count": 2
    }
   ],
   "cell_type": "code",
   "source": [
    "df2 = filter(row -> row[:age] >= 18, df);\n",
    "line[:x] = convert(Array{Float64,1}, df2[:weight]);\n",
    "line[:y] = convert(Array{Float64,1}, df2[:height]);\n",
    "line[:xmat] = convert(Array{Float64,2}, [ones(length(line[:x])) line[:x]])\n",
    "\n",
    "# Model Specification\n",
    "model = Model(\n",
    "  y = Stochastic(1,\n",
    "    (xmat, beta, s2) -> MvNormal(xmat * beta, sqrt(s2)),\n",
    "    false\n",
    "  ),\n",
    "  beta = Stochastic(1, () -> MvNormal([178, 0], [sqrt(10000), sqrt(100)])),\n",
    "  s2 = Stochastic(() -> Uniform(0, 50))\n",
    ")\n",
    "\n",
    "# Initial Values\n",
    "inits = [\n",
    "  Dict{Symbol, Any}(\n",
    "    :y => line[:y],\n",
    "    :beta => [rand(Normal(178, 100)), rand(Normal(0, 10))],\n",
    "    :s2 => rand(Uniform(0, 50))\n",
    "  )\n",
    "  for i in 1:3\n",
    "]\n",
    "\n",
    "# Tuning Parameters\n",
    "scale1 = [0.5, 0.25]\n",
    "summary1 = identity\n",
    "eps1 = 0.5\n",
    "\n",
    "scale2 = 0.5\n",
    "summary2 = x -> [mean(x); sqrt(var(x))]\n",
    "eps2 = 0.1\n",
    "\n",
    "# Define sampling scheme\n",
    "\n",
    "scheme = [\n",
    "  Mamba.NUTS([:beta]),\n",
    "  Mamba.Slice([:s2], 10)\n",
    "]\n",
    "\n",
    "setsamplers!(model, scheme)\n",
    "\n",
    "# MCMC Simulation\n",
    "\n",
    "sim = mcmc(model, line, inits, 10000, burnin=1000, chains=3)"
   ],
   "metadata": {},
   "execution_count": 2
  },
  {
   "outputs": [],
   "cell_type": "markdown",
   "source": [
    "Show draws summary"
   ],
   "metadata": {}
  },
  {
   "outputs": [
    {
     "name": "stdout",
     "output_type": "stream",
     "text": [
      "Iterations = 1001:10000\n",
      "Thinning interval = 1\n",
      "Chains = 1,2,3\n",
      "Samples per chain = 9000\n",
      "\n",
      "Empirical Posterior Estimates:\n",
      "            Mean         SD        Naive SE       MCSE        ESS   \n",
      "     s2  26.1670729 1.995706131 0.01214548074 0.0197657876 9000.0000\n",
      "beta[1] 113.9317509 1.902244407 0.01157669080 0.0351756191 2924.4832\n",
      "beta[2]   0.9038741 0.041865556 0.00025478566 0.0007675938 2974.7525\n",
      "\n",
      "Quantiles:\n",
      "            2.5%       25.0%       50.0%        75.0%        97.5%   \n",
      "     s2  22.5651124  24.7723696  26.0486741  27.45604979  30.34173672\n",
      "beta[1] 110.2276855 112.6434445 113.9159590 115.21148729 117.73867915\n",
      "beta[2]   0.8205039   0.8754851   0.9039817   0.93273913   0.98498503\n",
      "\n"
     ]
    }
   ],
   "cell_type": "code",
   "source": [
    "describe(sim)"
   ],
   "metadata": {},
   "execution_count": 3
  },
  {
   "outputs": [],
   "cell_type": "markdown",
   "source": [
    "End of `clip_38.0m.jl`"
   ],
   "metadata": {}
  },
  {
   "outputs": [],
   "cell_type": "markdown",
   "source": [
    "*This notebook was generated using [Literate.jl](https://github.com/fredrikekre/Literate.jl).*"
   ],
   "metadata": {}
  }
 ],
 "nbformat_minor": 3,
 "metadata": {
  "language_info": {
   "file_extension": ".jl",
   "mimetype": "application/julia",
   "name": "julia",
   "version": "1.2.0-DEV.93"
  },
  "kernelspec": {
   "name": "julia-1.2",
   "display_name": "Julia 1.2.0-DEV.93",
   "language": "julia"
  }
 },
 "nbformat": 4
}
