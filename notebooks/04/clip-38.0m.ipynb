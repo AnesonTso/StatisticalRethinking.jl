{
 "cells": [
  {
   "outputs": [
    {
     "name": "stdout",
     "output_type": "stream",
     "text": [
      "┌ Info: Loading DataFrames support into Gadfly.jl\n",
      "└ @ Gadfly /Users/rob/.julia/packages/Gadfly/09PWZ/src/mapping.jl:228\n"
     ]
    }
   ],
   "cell_type": "code",
   "source": [
    "using StatisticalRethinking, Distributed, JLD\n",
    "using Mamba\n",
    "\n",
    "# Data\n",
    "line = Dict{Symbol, Any}()\n",
    "\n",
    "howell1 = CSV.read(rel_path(\"..\", \"data\", \"Howell1.csv\"), delim=';')\n",
    "df = convert(DataFrame, howell1);"
   ],
   "metadata": {},
   "execution_count": 1
  },
  {
   "outputs": [],
   "cell_type": "markdown",
   "source": [
    "Use only adults"
   ],
   "metadata": {}
  },
  {
   "outputs": [
    {
     "name": "stdout",
     "output_type": "stream",
     "text": [
      "MCMC Simulation of 10000 Iterations x 3 Chains...\n",
      "\n",
      "Chain 1:   0% [0:31:01 of 0:31:03 remaining]\n",
      "Chain 1:  10% [0:01:04 of 0:01:11 remaining]\n",
      "Chain 1:  20% [0:00:55 of 0:01:09 remaining]\n",
      "Chain 1:  30% [0:00:48 of 0:01:08 remaining]\n",
      "Chain 1:  40% [0:00:41 of 0:01:08 remaining]\n",
      "Chain 1:  50% [0:00:36 of 0:01:11 remaining]\n",
      "Chain 1:  60% [0:00:29 of 0:01:12 remaining]\n",
      "Chain 1:  70% [0:00:22 of 0:01:12 remaining]\n",
      "Chain 1:  80% [0:00:14 of 0:01:12 remaining]\n",
      "Chain 1:  90% [0:00:07 of 0:01:12 remaining]\n",
      "Chain 1: 100% [0:00:00 of 0:01:12 remaining]\n",
      "\n",
      "Chain 2:   0% [0:00:02 of 0:00:02 remaining]\n",
      "Chain 2:  10% [0:00:45 of 0:00:50 remaining]\n",
      "Chain 2:  20% [0:00:45 of 0:00:56 remaining]\n",
      "Chain 2:  30% [0:00:42 of 0:01:00 remaining]\n",
      "Chain 2:  40% [0:00:38 of 0:01:03 remaining]\n",
      "Chain 2:  50% [0:00:32 of 0:01:04 remaining]\n",
      "Chain 2:  60% [0:00:26 of 0:01:05 remaining]\n",
      "Chain 2:  70% [0:00:20 of 0:01:05 remaining]\n",
      "Chain 2:  80% [0:00:13 of 0:01:05 remaining]\n",
      "Chain 2:  90% [0:00:07 of 0:01:05 remaining]\n",
      "Chain 2: 100% [0:00:00 of 0:01:05 remaining]\n",
      "\n",
      "Chain 3:   0% [0:00:03 of 0:00:03 remaining]\n",
      "Chain 3:  10% [0:00:55 of 0:01:01 remaining]\n",
      "Chain 3:  20% [0:00:50 of 0:01:03 remaining]\n",
      "Chain 3:  30% [0:00:46 of 0:01:05 remaining]\n",
      "Chain 3:  40% [0:00:40 of 0:01:06 remaining]\n",
      "Chain 3:  50% [0:00:33 of 0:01:07 remaining]\n",
      "Chain 3:  60% [0:00:27 of 0:01:07 remaining]\n",
      "Chain 3:  70% [0:00:20 of 0:01:07 remaining]\n",
      "Chain 3:  80% [0:00:13 of 0:01:07 remaining]\n",
      "Chain 3:  90% [0:00:07 of 0:01:07 remaining]\n",
      "Chain 3: 100% [0:00:00 of 0:01:07 remaining]\n",
      "\n"
     ]
    },
    {
     "output_type": "execute_result",
     "data": {
      "text/plain": "Object of type \"Mamba.ModelChains\"\n\nIterations = 1001:10000\nThinning interval = 1\nChains = 1,2,3\nSamples per chain = 9000\n\n[25.1961 113.071 0.919993; 24.8087 113.071 0.926044; … ; 29.8158 114.485 0.890426; 26.0051 113.899 0.901715]\n\n[25.7523 117.717 0.834315; 25.6858 117.717 0.834315; … ; 26.0071 111.551 0.94341; 27.0324 111.544 0.967398]\n\n[27.0487 114.382 0.899885; 27.4818 115.444 0.876222; … ; 26.6821 116.132 0.858241; 27.3363 116.132 0.858241]"
     },
     "metadata": {},
     "execution_count": 2
    }
   ],
   "cell_type": "code",
   "source": [
    "df2 = filter(row -> row[:age] >= 18, df);\n",
    "line[:x] = convert(Array{Float64,1}, df2[:weight]);\n",
    "line[:y] = convert(Array{Float64,1}, df2[:height]);\n",
    "line[:xmat] = convert(Array{Float64,2}, [ones(length(line[:x])) line[:x]])\n",
    "\n",
    "# Model Specification\n",
    "model = Model(\n",
    "  y = Stochastic(1,\n",
    "    (xmat, beta, s2) -> MvNormal(xmat * beta, sqrt(s2)),\n",
    "    false\n",
    "  ),\n",
    "  beta = Stochastic(1, () -> MvNormal([178, 0], [sqrt(10000), sqrt(100)])),\n",
    "  s2 = Stochastic(() -> Uniform(0, 50))\n",
    ")\n",
    "\n",
    "# Initial Values\n",
    "inits = [\n",
    "  Dict{Symbol, Any}(\n",
    "    :y => line[:y],\n",
    "    :beta => [rand(Normal(178, 100)), rand(Normal(0, 10))],\n",
    "    :s2 => rand(Uniform(0, 50))\n",
    "  )\n",
    "  for i in 1:3\n",
    "]\n",
    "\n",
    "# Tuning Parameters\n",
    "scale1 = [0.5, 0.25]\n",
    "summary1 = identity\n",
    "eps1 = 0.5\n",
    "\n",
    "scale2 = 0.5\n",
    "summary2 = x -> [mean(x); sqrt(var(x))]\n",
    "eps2 = 0.1\n",
    "\n",
    "# Define sampling scheme\n",
    "\n",
    "scheme = [\n",
    "  Mamba.NUTS([:beta]),\n",
    "  Mamba.Slice([:s2], 10)\n",
    "]\n",
    "\n",
    "setsamplers!(model, scheme)\n",
    "\n",
    "# MCMC Simulation\n",
    "\n",
    "sim = mcmc(model, line, inits, 10000, burnin=1000, chains=3)"
   ],
   "metadata": {},
   "execution_count": 2
  },
  {
   "outputs": [],
   "cell_type": "markdown",
   "source": [
    "Show draws summary"
   ],
   "metadata": {}
  },
  {
   "outputs": [
    {
     "name": "stdout",
     "output_type": "stream",
     "text": [
      "Iterations = 1001:10000\n",
      "Thinning interval = 1\n",
      "Chains = 1,2,3\n",
      "Samples per chain = 9000\n",
      "\n",
      "Empirical Posterior Estimates:\n",
      "            Mean         SD        Naive SE       MCSE        ESS   \n",
      "     s2  26.1441091 1.980847505 0.01205505402 0.0182478740 9000.0000\n",
      "beta[1] 113.9459360 1.939962118 0.01180623348 0.0366034012 2808.9474\n",
      "beta[2]   0.9035289 0.042701954 0.00025987582 0.0007981684 2862.2423\n",
      "\n",
      "Quantiles:\n",
      "            2.5%        25.0%       50.0%       75.0%        97.5%   \n",
      "     s2  22.51738946  24.7712309  26.0546627  27.4227062  30.27164315\n",
      "beta[1] 110.12664291 112.6598691 113.9078436 115.2530528 117.79406309\n",
      "beta[2]   0.81877964   0.8752713   0.9042416   0.9319756   0.98766346\n",
      "\n"
     ]
    }
   ],
   "cell_type": "code",
   "source": [
    "describe(sim)"
   ],
   "metadata": {},
   "execution_count": 3
  },
  {
   "outputs": [],
   "cell_type": "markdown",
   "source": [
    "End of `clip_38.0m.jl`"
   ],
   "metadata": {}
  },
  {
   "outputs": [],
   "cell_type": "markdown",
   "source": [
    "*This notebook was generated using [Literate.jl](https://github.com/fredrikekre/Literate.jl).*"
   ],
   "metadata": {}
  }
 ],
 "nbformat_minor": 3,
 "metadata": {
  "language_info": {
   "file_extension": ".jl",
   "mimetype": "application/julia",
   "name": "julia",
   "version": "1.1.0-rc1.0"
  },
  "kernelspec": {
   "name": "julia-1.1",
   "display_name": "Julia 1.1.0-rc1.0",
   "language": "julia"
  }
 },
 "nbformat": 4
}
