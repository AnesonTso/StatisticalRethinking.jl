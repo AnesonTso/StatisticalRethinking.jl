{
 "cells": [
  {
   "outputs": [
    {
     "name": "stdout",
     "output_type": "stream",
     "text": [
      "┌ Info: Loading DataFrames support into Gadfly.jl\n",
      "└ @ Gadfly /Users/rob/.julia/packages/Gadfly/09PWZ/src/mapping.jl:228\n"
     ]
    }
   ],
   "cell_type": "code",
   "source": [
    "using StatisticalRethinking, Distributed, JLD\n",
    "using Mamba\n",
    "\n",
    "# Data\n",
    "line = Dict{Symbol, Any}()\n",
    "\n",
    "howell1 = CSV.read(rel_path(\"..\", \"data\", \"Howell1.csv\"), delim=';')\n",
    "df = convert(DataFrame, howell1);"
   ],
   "metadata": {},
   "execution_count": 1
  },
  {
   "outputs": [],
   "cell_type": "markdown",
   "source": [
    "Use only adults"
   ],
   "metadata": {}
  },
  {
   "outputs": [
    {
     "name": "stdout",
     "output_type": "stream",
     "text": [
      "MCMC Simulation of 10000 Iterations x 3 Chains...\n",
      "\n",
      "Chain 1:   0% [0:32:01 of 0:32:03 remaining]\n",
      "Chain 1:  10% [0:01:05 of 0:01:12 remaining]\n",
      "Chain 1:  20% [0:01:02 of 0:01:18 remaining]\n",
      "Chain 1:  30% [0:00:53 of 0:01:16 remaining]\n",
      "Chain 1:  40% [0:00:44 of 0:01:13 remaining]\n",
      "Chain 1:  50% [0:00:36 of 0:01:12 remaining]\n",
      "Chain 1:  60% [0:00:29 of 0:01:11 remaining]\n",
      "Chain 1:  70% [0:00:22 of 0:01:12 remaining]\n",
      "Chain 1:  80% [0:00:14 of 0:01:12 remaining]\n",
      "Chain 1:  90% [0:00:07 of 0:01:13 remaining]\n",
      "Chain 1: 100% [0:00:00 of 0:01:13 remaining]\n",
      "\n",
      "Chain 2:   0% [0:00:02 of 0:00:02 remaining]\n",
      "Chain 2:  10% [0:00:54 of 0:00:60 remaining]\n",
      "Chain 2:  20% [0:00:53 of 0:01:06 remaining]\n",
      "Chain 2:  30% [0:00:50 of 0:01:11 remaining]\n",
      "Chain 2:  40% [0:00:43 of 0:01:12 remaining]\n",
      "Chain 2:  50% [0:00:36 of 0:01:12 remaining]\n",
      "Chain 2:  60% [0:00:29 of 0:01:13 remaining]\n",
      "Chain 2:  70% [0:00:22 of 0:01:12 remaining]\n",
      "Chain 2:  80% [0:00:15 of 0:01:13 remaining]\n",
      "Chain 2:  90% [0:00:07 of 0:01:13 remaining]\n",
      "Chain 2: 100% [0:00:00 of 0:01:13 remaining]\n",
      "\n",
      "Chain 3:   0% [0:00:03 of 0:00:03 remaining]\n",
      "Chain 3:  10% [0:00:47 of 0:00:52 remaining]\n",
      "Chain 3:  20% [0:00:50 of 0:01:02 remaining]\n",
      "Chain 3:  30% [0:00:47 of 0:01:07 remaining]\n",
      "Chain 3:  40% [0:00:41 of 0:01:08 remaining]\n",
      "Chain 3:  50% [0:00:35 of 0:01:09 remaining]\n",
      "Chain 3:  60% [0:00:29 of 0:01:13 remaining]\n",
      "Chain 3:  70% [0:00:22 of 0:01:13 remaining]\n",
      "Chain 3:  80% [0:00:15 of 0:01:14 remaining]\n",
      "Chain 3:  90% [0:00:07 of 0:01:14 remaining]\n",
      "Chain 3: 100% [0:00:00 of 0:01:14 remaining]\n",
      "\n"
     ]
    },
    {
     "output_type": "execute_result",
     "data": {
      "text/plain": "Object of type \"Mamba.ModelChains\"\n\nIterations = 1001:10000\nThinning interval = 1\nChains = 1,2,3\nSamples per chain = 9000\n\n[29.9472 111.394 0.959827; 27.9366 115.383 0.871622; … ; 28.8011 114.475 0.898107; 27.6132 114.111 0.891489]\n\n[26.629 116.476 0.847421; 28.5389 115.651 0.862257; … ; 28.8117 115.445 0.867982; 27.4584 113.715 0.911122]\n\n[27.4771 113.923 0.904856; 27.4052 115.326 0.85804; … ; 26.1092 112.901 0.922518; 26.4789 116.154 0.844083]"
     },
     "metadata": {},
     "execution_count": 2
    }
   ],
   "cell_type": "code",
   "source": [
    "df2 = filter(row -> row[:age] >= 18, df);\n",
    "line[:x] = convert(Array{Float64,1}, df2[:weight]);\n",
    "line[:y] = convert(Array{Float64,1}, df2[:height]);\n",
    "line[:xmat] = convert(Array{Float64,2}, [ones(length(line[:x])) line[:x]])\n",
    "\n",
    "# Model Specification\n",
    "model = Model(\n",
    "  y = Stochastic(1,\n",
    "    (xmat, beta, s2) -> MvNormal(xmat * beta, sqrt(s2)),\n",
    "    false\n",
    "  ),\n",
    "  beta = Stochastic(1, () -> MvNormal([178, 0], [sqrt(10000), sqrt(100)])),\n",
    "  s2 = Stochastic(() -> Uniform(0, 50))\n",
    ")\n",
    "\n",
    "# Initial Values\n",
    "inits = [\n",
    "  Dict{Symbol, Any}(\n",
    "    :y => line[:y],\n",
    "    :beta => [rand(Normal(178, 100)), rand(Normal(0, 10))],\n",
    "    :s2 => rand(Uniform(0, 50))\n",
    "  )\n",
    "  for i in 1:3\n",
    "]\n",
    "\n",
    "# Tuning Parameters\n",
    "scale1 = [0.5, 0.25]\n",
    "summary1 = identity\n",
    "eps1 = 0.5\n",
    "\n",
    "scale2 = 0.5\n",
    "summary2 = x -> [mean(x); sqrt(var(x))]\n",
    "eps2 = 0.1\n",
    "\n",
    "# Define sampling scheme\n",
    "\n",
    "scheme = [\n",
    "  Mamba.NUTS([:beta]),\n",
    "  Mamba.Slice([:s2], 10)\n",
    "]\n",
    "\n",
    "setsamplers!(model, scheme)\n",
    "\n",
    "# MCMC Simulation\n",
    "\n",
    "sim = mcmc(model, line, inits, 10000, burnin=1000, chains=3)"
   ],
   "metadata": {},
   "execution_count": 2
  },
  {
   "outputs": [],
   "cell_type": "markdown",
   "source": [
    "Show draws summary"
   ],
   "metadata": {}
  },
  {
   "outputs": [
    {
     "name": "stdout",
     "output_type": "stream",
     "text": [
      "Iterations = 1001:10000\n",
      "Thinning interval = 1\n",
      "Chains = 1,2,3\n",
      "Samples per chain = 9000\n",
      "\n",
      "Empirical Posterior Estimates:\n",
      "            Mean        SD        Naive SE       MCSE        ESS   \n",
      "     s2  26.1748755 1.97409708 0.01201397225 0.0200520060 9000.0000\n",
      "beta[1] 113.8700836 1.91107851 0.01163045342 0.0386657520 2442.8913\n",
      "beta[2]   0.9052138 0.04202744 0.00025577086 0.0008422385 2489.9794\n",
      "\n",
      "Quantiles:\n",
      "            2.5%       25.0%       50.0%       75.0%      97.5%   \n",
      "     s2  22.5566795  24.8085586  26.0955340  27.442354  30.3310424\n",
      "beta[1] 110.0973973 112.5830749 113.8544751 115.148416 117.7649489\n",
      "beta[2]   0.8209895   0.8771868   0.9053131   0.933213   0.9877224\n",
      "\n"
     ]
    }
   ],
   "cell_type": "code",
   "source": [
    "describe(sim)"
   ],
   "metadata": {},
   "execution_count": 3
  },
  {
   "outputs": [],
   "cell_type": "markdown",
   "source": [
    "End of `clip_38.0m.jl`"
   ],
   "metadata": {}
  },
  {
   "outputs": [],
   "cell_type": "markdown",
   "source": [
    "*This notebook was generated using [Literate.jl](https://github.com/fredrikekre/Literate.jl).*"
   ],
   "metadata": {}
  }
 ],
 "nbformat_minor": 3,
 "metadata": {
  "language_info": {
   "file_extension": ".jl",
   "mimetype": "application/julia",
   "name": "julia",
   "version": "1.2.0-DEV.75"
  },
  "kernelspec": {
   "name": "julia-1.2",
   "display_name": "Julia 1.2.0-DEV.75",
   "language": "julia"
  }
 },
 "nbformat": 4
}
