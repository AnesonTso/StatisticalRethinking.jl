{
 "cells": [
  {
   "outputs": [],
   "cell_type": "code",
   "source": [
    "using StatisticalRethinking, Distributed, JLD\n",
    "using Mamba\n",
    "\n",
    "# Data\n",
    "line = Dict{Symbol, Any}()\n",
    "\n",
    "howell1 = CSV.read(rel_path(\"..\", \"data\", \"Howell1.csv\"), delim=';')\n",
    "df = convert(DataFrame, howell1);"
   ],
   "metadata": {},
   "execution_count": 1
  },
  {
   "outputs": [],
   "cell_type": "markdown",
   "source": [
    "Use only adults"
   ],
   "metadata": {}
  },
  {
   "outputs": [
    {
     "name": "stdout",
     "output_type": "stream",
     "text": [
      "MCMC Simulation of 10000 Iterations x 3 Chains...\n",
      "\n",
      "Chain 1:   0% [0:14:17 of 0:14:18 remaining]\n",
      "Chain 1:  10% [0:01:11 of 0:01:19 remaining]\n",
      "Chain 1:  20% [0:01:06 of 0:01:23 remaining]\n",
      "Chain 1:  30% [0:00:57 of 0:01:22 remaining]\n",
      "Chain 1:  40% [0:00:49 of 0:01:22 remaining]\n",
      "Chain 1:  50% [0:00:41 of 0:01:22 remaining]\n",
      "Chain 1:  60% [0:00:33 of 0:01:21 remaining]\n",
      "Chain 1:  70% [0:00:24 of 0:01:21 remaining]\n",
      "Chain 1:  80% [0:00:16 of 0:01:21 remaining]\n",
      "Chain 1:  90% [0:00:08 of 0:01:21 remaining]\n",
      "Chain 1: 100% [0:00:00 of 0:01:21 remaining]\n",
      "\n",
      "Chain 2:   0% [0:00:02 of 0:00:02 remaining]\n",
      "Chain 2:  10% [0:00:49 of 0:00:55 remaining]\n",
      "Chain 2:  20% [0:00:50 of 0:01:02 remaining]\n",
      "Chain 2:  30% [0:00:47 of 0:01:08 remaining]\n",
      "Chain 2:  40% [0:00:41 of 0:01:09 remaining]\n",
      "Chain 2:  50% [0:00:34 of 0:01:08 remaining]\n",
      "Chain 2:  60% [0:00:28 of 0:01:09 remaining]\n",
      "Chain 2:  70% [0:00:21 of 0:01:10 remaining]\n",
      "Chain 2:  80% [0:00:14 of 0:01:10 remaining]\n",
      "Chain 2:  90% [0:00:07 of 0:01:11 remaining]\n",
      "Chain 2: 100% [0:00:00 of 0:01:11 remaining]\n",
      "\n",
      "Chain 3:   0% [0:00:02 of 0:00:02 remaining]\n",
      "Chain 3:  10% [0:00:49 of 0:00:54 remaining]\n",
      "Chain 3:  20% [0:00:53 of 0:01:07 remaining]\n",
      "Chain 3:  30% [0:00:47 of 0:01:07 remaining]\n",
      "Chain 3:  40% [0:00:41 of 0:01:09 remaining]\n",
      "Chain 3:  50% [0:00:35 of 0:01:09 remaining]\n",
      "Chain 3:  60% [0:00:28 of 0:01:09 remaining]\n",
      "Chain 3:  70% [0:00:21 of 0:01:08 remaining]\n",
      "Chain 3:  80% [0:00:13 of 0:01:07 remaining]\n",
      "Chain 3:  90% [0:00:07 of 0:01:08 remaining]\n",
      "Chain 3: 100% [0:00:00 of 0:01:09 remaining]\n",
      "\n"
     ]
    },
    {
     "output_type": "execute_result",
     "data": {
      "text/plain": "Object of type \"Mamba.ModelChains\"\n\nIterations = 1001:10000\nThinning interval = 1\nChains = 1,2,3\nSamples per chain = 9000\n\n[31.7773 114.764 0.88724; 30.7371 115.723 0.860626; … ; 25.4733 113.216 0.913256; 24.1622 113.214 0.914923]\n\n[27.7282 114.518 0.894792; 24.3605 114.705 0.897272; … ; 24.5453 113.955 0.906288; 25.1436 114.96 0.88401]\n\n[25.9549 115.275 0.861863; 27.1983 115.276 0.871713; … ; 24.6864 115.761 0.876158; 29.129 115.773 0.870622]"
     },
     "metadata": {},
     "execution_count": 2
    }
   ],
   "cell_type": "code",
   "source": [
    "df2 = filter(row -> row[:age] >= 18, df);\n",
    "line[:x] = convert(Array{Float64,1}, df2[:weight]);\n",
    "line[:y] = convert(Array{Float64,1}, df2[:height]);\n",
    "line[:xmat] = convert(Array{Float64,2}, [ones(length(line[:x])) line[:x]])\n",
    "\n",
    "# Model Specification\n",
    "model = Model(\n",
    "  y = Stochastic(1,\n",
    "    (xmat, beta, s2) -> MvNormal(xmat * beta, sqrt(s2)),\n",
    "    false\n",
    "  ),\n",
    "  beta = Stochastic(1, () -> MvNormal([178, 0], [sqrt(10000), sqrt(100)])),\n",
    "  s2 = Stochastic(() -> Uniform(0, 50))\n",
    ")\n",
    "\n",
    "# Initial Values\n",
    "inits = [\n",
    "  Dict{Symbol, Any}(\n",
    "    :y => line[:y],\n",
    "    :beta => [rand(Normal(178, 100)), rand(Normal(0, 10))],\n",
    "    :s2 => rand(Uniform(0, 50))\n",
    "  )\n",
    "  for i in 1:3\n",
    "]\n",
    "\n",
    "# Tuning Parameters\n",
    "scale1 = [0.5, 0.25]\n",
    "summary1 = identity\n",
    "eps1 = 0.5\n",
    "\n",
    "scale2 = 0.5\n",
    "summary2 = x -> [mean(x); sqrt(var(x))]\n",
    "eps2 = 0.1\n",
    "\n",
    "# Define sampling scheme\n",
    "\n",
    "scheme = [\n",
    "  Mamba.NUTS([:beta]),\n",
    "  Mamba.Slice([:s2], 10)\n",
    "]\n",
    "\n",
    "setsamplers!(model, scheme)\n",
    "\n",
    "# MCMC Simulation\n",
    "\n",
    "sim = mcmc(model, line, inits, 10000, burnin=1000, chains=3)"
   ],
   "metadata": {},
   "execution_count": 2
  },
  {
   "outputs": [],
   "cell_type": "markdown",
   "source": [
    "Show draws summary"
   ],
   "metadata": {}
  },
  {
   "outputs": [
    {
     "name": "stdout",
     "output_type": "stream",
     "text": [
      "Iterations = 1001:10000\n",
      "Thinning interval = 1\n",
      "Chains = 1,2,3\n",
      "Samples per chain = 9000\n",
      "\n",
      "Empirical Posterior Estimates:\n",
      "            Mean         SD       Naive SE        MCSE        ESS   \n",
      "     s2  26.1828720 1.997823782 0.0121583683 0.02084308379 9000.0000\n",
      "beta[1] 113.9248155 1.892977987 0.0115202972 0.03568411866 2814.1107\n",
      "beta[2]   0.9040897 0.041607665 0.0002532162 0.00077483595 2883.5478\n",
      "\n",
      "Quantiles:\n",
      "            2.5%        25.0%        50.0%       75.0%        97.5%   \n",
      "     s2  22.5727091  24.78118942  26.08121669  27.4799122  30.34983118\n",
      "beta[1] 110.2481198 112.62558110 113.93681061 115.2106722 117.56593597\n",
      "beta[2]   0.8239225   0.87539109   0.90385915   0.9326315   0.98448512\n",
      "\n"
     ]
    }
   ],
   "cell_type": "code",
   "source": [
    "describe(sim)"
   ],
   "metadata": {},
   "execution_count": 3
  },
  {
   "outputs": [],
   "cell_type": "markdown",
   "source": [
    "End of `clip_38.0m.jl`"
   ],
   "metadata": {}
  },
  {
   "outputs": [],
   "cell_type": "markdown",
   "source": [
    "*This notebook was generated using [Literate.jl](https://github.com/fredrikekre/Literate.jl).*"
   ],
   "metadata": {}
  }
 ],
 "nbformat_minor": 3,
 "metadata": {
  "language_info": {
   "file_extension": ".jl",
   "mimetype": "application/julia",
   "name": "julia",
   "version": "1.2.0-DEV.75"
  },
  "kernelspec": {
   "name": "julia-1.2",
   "display_name": "Julia 1.2.0-DEV.75",
   "language": "julia"
  }
 },
 "nbformat": 4
}
