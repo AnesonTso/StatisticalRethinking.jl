{
 "cells": [
  {
   "outputs": [],
   "cell_type": "code",
   "source": [
    "using StatisticalRethinking, Distributed, JLD\n",
    "using Mamba\n",
    "\n",
    "# Data\n",
    "line = Dict{Symbol, Any}()\n",
    "\n",
    "howell1 = CSV.read(rel_path(\"..\", \"data\", \"Howell1.csv\"), delim=';')\n",
    "df = convert(DataFrame, howell1);"
   ],
   "metadata": {},
   "execution_count": 1
  },
  {
   "outputs": [],
   "cell_type": "markdown",
   "source": [
    "Use only adults"
   ],
   "metadata": {}
  },
  {
   "outputs": [
    {
     "name": "stdout",
     "output_type": "stream",
     "text": [
      "MCMC Simulation of 10000 Iterations x 3 Chains...\n",
      "\n",
      "Chain 1:   0% [0:23:08 of 0:23:09 remaining]\n",
      "Chain 1:  10% [0:01:17 of 0:01:25 remaining]\n",
      "Chain 1:  20% [0:01:05 of 0:01:21 remaining]\n",
      "Chain 1:  30% [0:00:58 of 0:01:23 remaining]\n",
      "Chain 1:  40% [0:00:49 of 0:01:21 remaining]\n",
      "Chain 1:  50% [0:00:41 of 0:01:22 remaining]\n",
      "Chain 1:  60% [0:00:33 of 0:01:22 remaining]\n",
      "Chain 1:  70% [0:00:25 of 0:01:23 remaining]\n",
      "Chain 1:  80% [0:00:17 of 0:01:24 remaining]\n",
      "Chain 1:  90% [0:00:09 of 0:01:26 remaining]\n",
      "Chain 1: 100% [0:00:00 of 0:01:25 remaining]\n",
      "\n",
      "Chain 2:   0% [0:00:03 of 0:00:03 remaining]\n",
      "Chain 2:  10% [0:00:54 of 0:01:00 remaining]\n",
      "Chain 2:  20% [0:00:52 of 0:01:05 remaining]\n",
      "Chain 2:  30% [0:00:47 of 0:01:07 remaining]\n",
      "Chain 2:  40% [0:00:41 of 0:01:09 remaining]\n",
      "Chain 2:  50% [0:00:35 of 0:01:10 remaining]\n",
      "Chain 2:  60% [0:00:28 of 0:01:11 remaining]\n",
      "Chain 2:  70% [0:00:22 of 0:01:15 remaining]\n",
      "Chain 2:  80% [0:00:15 of 0:01:17 remaining]\n",
      "Chain 2:  90% [0:00:08 of 0:01:19 remaining]\n",
      "Chain 2: 100% [0:00:00 of 0:01:19 remaining]\n",
      "\n",
      "Chain 3:   0% [0:00:03 of 0:00:03 remaining]\n",
      "Chain 3:  10% [0:00:47 of 0:00:52 remaining]\n",
      "Chain 3:  20% [0:00:52 of 0:01:05 remaining]\n",
      "Chain 3:  30% [0:00:49 of 0:01:10 remaining]\n",
      "Chain 3:  40% [0:00:42 of 0:01:10 remaining]\n",
      "Chain 3:  50% [0:00:36 of 0:01:13 remaining]\n",
      "Chain 3:  60% [0:00:29 of 0:01:13 remaining]\n",
      "Chain 3:  70% [0:00:22 of 0:01:13 remaining]\n",
      "Chain 3:  80% [0:00:15 of 0:01:13 remaining]\n",
      "Chain 3:  90% [0:00:07 of 0:01:14 remaining]\n",
      "Chain 3: 100% [0:00:00 of 0:01:14 remaining]\n",
      "\n"
     ]
    },
    {
     "output_type": "execute_result",
     "data": {
      "text/plain": "Object of type \"Mamba.ModelChains\"\n\nIterations = 1001:10000\nThinning interval = 1\nChains = 1,2,3\nSamples per chain = 9000\n\n[24.4225 112.563 0.939842; 26.2636 114.695 0.881133; … ; 25.1682 111.967 0.950843; 25.9559 111.967 0.950843]\n\n[27.196 119.023 0.789815; 27.3217 119.238 0.788734; … ; 28.2215 112.126 0.945856; 30.6483 112.317 0.94303]\n\n[28.0833 113.451 0.914718; 21.7313 113.45 0.907421; … ; 26.0943 113.691 0.913527; 28.7337 113.692 0.902021]"
     },
     "metadata": {},
     "execution_count": 2
    }
   ],
   "cell_type": "code",
   "source": [
    "df2 = filter(row -> row[:age] >= 18, df);\n",
    "line[:x] = convert(Array{Float64,1}, df2[:weight]);\n",
    "line[:y] = convert(Array{Float64,1}, df2[:height]);\n",
    "line[:xmat] = convert(Array{Float64,2}, [ones(length(line[:x])) line[:x]])\n",
    "\n",
    "# Model Specification\n",
    "model = Model(\n",
    "  y = Stochastic(1,\n",
    "    (xmat, beta, s2) -> MvNormal(xmat * beta, sqrt(s2)),\n",
    "    false\n",
    "  ),\n",
    "  beta = Stochastic(1, () -> MvNormal([178, 0], [sqrt(10000), sqrt(100)])),\n",
    "  s2 = Stochastic(() -> Uniform(0, 50))\n",
    ")\n",
    "\n",
    "# Initial Values\n",
    "inits = [\n",
    "  Dict{Symbol, Any}(\n",
    "    :y => line[:y],\n",
    "    :beta => [rand(Normal(178, 100)), rand(Normal(0, 10))],\n",
    "    :s2 => rand(Uniform(0, 50))\n",
    "  )\n",
    "  for i in 1:3\n",
    "]\n",
    "\n",
    "# Tuning Parameters\n",
    "scale1 = [0.5, 0.25]\n",
    "summary1 = identity\n",
    "eps1 = 0.5\n",
    "\n",
    "scale2 = 0.5\n",
    "summary2 = x -> [mean(x); sqrt(var(x))]\n",
    "eps2 = 0.1\n",
    "\n",
    "# Define sampling scheme\n",
    "\n",
    "scheme = [\n",
    "  Mamba.NUTS([:beta]),\n",
    "  Mamba.Slice([:s2], 10)\n",
    "]\n",
    "\n",
    "setsamplers!(model, scheme)\n",
    "\n",
    "# MCMC Simulation\n",
    "\n",
    "sim = mcmc(model, line, inits, 10000, burnin=1000, chains=3)"
   ],
   "metadata": {},
   "execution_count": 2
  },
  {
   "outputs": [],
   "cell_type": "markdown",
   "source": [
    "Show draws summary"
   ],
   "metadata": {}
  },
  {
   "outputs": [
    {
     "name": "stdout",
     "output_type": "stream",
     "text": [
      "Iterations = 1001:10000\n",
      "Thinning interval = 1\n",
      "Chains = 1,2,3\n",
      "Samples per chain = 9000\n",
      "\n",
      "Empirical Posterior Estimates:\n",
      "            Mean        SD       Naive SE        MCSE        ESS   \n",
      "     s2  26.1708747 2.0048111 0.01220089156 0.02083985639 9000.0000\n",
      "beta[1] 113.8712713 1.9376044 0.01179188475 0.03781875600 2624.9180\n",
      "beta[2]   0.9052598 0.0425850 0.00025916406 0.00082326172 2675.7002\n",
      "\n",
      "Quantiles:\n",
      "            2.5%        25.0%       50.0%       75.0%        97.5%   \n",
      "     s2  22.53556428  24.7805631  26.0650831  27.4602841  30.36419663\n",
      "beta[1] 109.94981054 112.5565543 113.8695398 115.1949629 117.59127045\n",
      "beta[2]   0.82376649   0.8760951   0.9055728   0.9340105   0.99114626\n",
      "\n"
     ]
    }
   ],
   "cell_type": "code",
   "source": [
    "describe(sim)"
   ],
   "metadata": {},
   "execution_count": 3
  },
  {
   "outputs": [],
   "cell_type": "markdown",
   "source": [
    "End of `clip_38.0m.jl`"
   ],
   "metadata": {}
  },
  {
   "outputs": [],
   "cell_type": "markdown",
   "source": [
    "*This notebook was generated using [Literate.jl](https://github.com/fredrikekre/Literate.jl).*"
   ],
   "metadata": {}
  }
 ],
 "nbformat_minor": 3,
 "metadata": {
  "language_info": {
   "file_extension": ".jl",
   "mimetype": "application/julia",
   "name": "julia",
   "version": "1.2.0-DEV.75"
  },
  "kernelspec": {
   "name": "julia-1.2",
   "display_name": "Julia 1.2.0-DEV.75",
   "language": "julia"
  }
 },
 "nbformat": 4
}
