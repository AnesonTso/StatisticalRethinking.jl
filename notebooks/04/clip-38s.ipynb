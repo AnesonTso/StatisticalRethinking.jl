{
 "cells": [
  {
   "outputs": [],
   "cell_type": "markdown",
   "source": [
    "## Linear Regression"
   ],
   "metadata": {}
  },
  {
   "outputs": [],
   "cell_type": "markdown",
   "source": [
    "### Added snippet used as a reference for all models"
   ],
   "metadata": {}
  },
  {
   "outputs": [],
   "cell_type": "markdown",
   "source": [
    "This model is based on the TuringTutorial example [LinearRegression](https://github.com/TuringLang/TuringTutorials/blob/csp/linear/LinearRegression.ipynb) by Cameron Pfiffer."
   ],
   "metadata": {}
  },
  {
   "outputs": [],
   "cell_type": "markdown",
   "source": [
    "Turing is powerful when applied to complex hierarchical models, but it can also be put to task at common statistical procedures, like linear regression. This tutorial covers how to implement a linear regression model in Turing."
   ],
   "metadata": {}
  },
  {
   "outputs": [],
   "cell_type": "markdown",
   "source": [
    "We begin by importing all the necessary libraries."
   ],
   "metadata": {}
  },
  {
   "outputs": [],
   "cell_type": "code",
   "source": [
    "using StatisticalRethinking, CmdStan, StanMCMCChains, GLM\n",
    "gr(size=(500,500))\n",
    "\n",
    "ProjDir = rel_path(\"..\", \"scripts\", \"00\")\n",
    "cd(ProjDir)"
   ],
   "metadata": {},
   "execution_count": 1
  },
  {
   "outputs": [],
   "cell_type": "markdown",
   "source": [
    "Import the dataset."
   ],
   "metadata": {}
  },
  {
   "outputs": [],
   "cell_type": "code",
   "source": [
    "howell1 = CSV.read(rel_path(\"..\", \"data\", \"Howell1.csv\"), delim=';')\n",
    "df = convert(DataFrame, howell1);"
   ],
   "metadata": {},
   "execution_count": 2
  },
  {
   "outputs": [],
   "cell_type": "markdown",
   "source": [
    "Use only adults"
   ],
   "metadata": {}
  },
  {
   "outputs": [
    {
     "output_type": "execute_result",
     "data": {
      "text/plain": "352×4 DataFrame\n│ Row │ height   │ weight   │ age      │ male   │\n│     │ \u001b[90mFloat64⍰\u001b[39m │ \u001b[90mFloat64⍰\u001b[39m │ \u001b[90mFloat64⍰\u001b[39m │ \u001b[90mInt64⍰\u001b[39m │\n├─────┼──────────┼──────────┼──────────┼────────┤\n│ 1   │ 151.765  │ 47.8256  │ 63.0     │ 1      │\n│ 2   │ 139.7    │ 36.4858  │ 63.0     │ 0      │\n│ 3   │ 136.525  │ 31.8648  │ 65.0     │ 0      │\n│ 4   │ 156.845  │ 53.0419  │ 41.0     │ 1      │\n│ 5   │ 145.415  │ 41.2769  │ 51.0     │ 0      │\n│ 6   │ 163.83   │ 62.9926  │ 35.0     │ 1      │\n│ 7   │ 149.225  │ 38.2435  │ 32.0     │ 0      │\n⋮\n│ 345 │ 146.05   │ 39.4058  │ 37.4     │ 0      │\n│ 346 │ 156.21   │ 41.0501  │ 53.0     │ 1      │\n│ 347 │ 152.4    │ 40.8233  │ 49.0     │ 0      │\n│ 348 │ 162.56   │ 47.0318  │ 27.0     │ 0      │\n│ 349 │ 142.875  │ 34.2462  │ 31.0     │ 0      │\n│ 350 │ 162.56   │ 52.1631  │ 31.0     │ 1      │\n│ 351 │ 156.21   │ 54.0625  │ 21.0     │ 0      │\n│ 352 │ 158.75   │ 52.5316  │ 68.0     │ 1      │",
      "text/html": [
       "<table class=\"data-frame\"><thead><tr><th></th><th>height</th><th>weight</th><th>age</th><th>male</th></tr><tr><th></th><th>Float64⍰</th><th>Float64⍰</th><th>Float64⍰</th><th>Int64⍰</th></tr></thead><tbody><p>352 rows × 4 columns</p><tr><th>1</th><td>151.765</td><td>47.8256</td><td>63.0</td><td>1</td></tr><tr><th>2</th><td>139.7</td><td>36.4858</td><td>63.0</td><td>0</td></tr><tr><th>3</th><td>136.525</td><td>31.8648</td><td>65.0</td><td>0</td></tr><tr><th>4</th><td>156.845</td><td>53.0419</td><td>41.0</td><td>1</td></tr><tr><th>5</th><td>145.415</td><td>41.2769</td><td>51.0</td><td>0</td></tr><tr><th>6</th><td>163.83</td><td>62.9926</td><td>35.0</td><td>1</td></tr><tr><th>7</th><td>149.225</td><td>38.2435</td><td>32.0</td><td>0</td></tr><tr><th>8</th><td>168.91</td><td>55.48</td><td>27.0</td><td>1</td></tr><tr><th>9</th><td>147.955</td><td>34.8699</td><td>19.0</td><td>0</td></tr><tr><th>10</th><td>165.1</td><td>54.4877</td><td>54.0</td><td>1</td></tr><tr><th>11</th><td>154.305</td><td>49.8951</td><td>47.0</td><td>0</td></tr><tr><th>12</th><td>151.13</td><td>41.2202</td><td>66.0</td><td>1</td></tr><tr><th>13</th><td>144.78</td><td>36.0322</td><td>73.0</td><td>0</td></tr><tr><th>14</th><td>149.9</td><td>47.7</td><td>20.0</td><td>0</td></tr><tr><th>15</th><td>150.495</td><td>33.8493</td><td>65.3</td><td>0</td></tr><tr><th>16</th><td>163.195</td><td>48.5627</td><td>36.0</td><td>1</td></tr><tr><th>17</th><td>157.48</td><td>42.3258</td><td>44.0</td><td>1</td></tr><tr><th>18</th><td>143.942</td><td>38.3569</td><td>31.0</td><td>0</td></tr><tr><th>19</th><td>161.29</td><td>48.9879</td><td>39.0</td><td>1</td></tr><tr><th>20</th><td>156.21</td><td>42.7227</td><td>29.0</td><td>0</td></tr><tr><th>21</th><td>146.4</td><td>35.4936</td><td>56.0</td><td>1</td></tr><tr><th>22</th><td>148.59</td><td>37.9033</td><td>45.0</td><td>0</td></tr><tr><th>23</th><td>147.32</td><td>35.4652</td><td>19.0</td><td>0</td></tr><tr><th>24</th><td>147.955</td><td>40.313</td><td>29.0</td><td>1</td></tr><tr><th>&vellip;</th><td>&vellip;</td><td>&vellip;</td><td>&vellip;</td><td>&vellip;</td></tr></tbody></table>"
      ]
     },
     "metadata": {},
     "execution_count": 3
    }
   ],
   "cell_type": "code",
   "source": [
    "data = filter(row -> row[:age] >= 18, df)"
   ],
   "metadata": {},
   "execution_count": 3
  },
  {
   "outputs": [],
   "cell_type": "markdown",
   "source": [
    "Show the first six rows of the dataset."
   ],
   "metadata": {}
  },
  {
   "outputs": [
    {
     "output_type": "execute_result",
     "data": {
      "text/plain": "6×4 DataFrame\n│ Row │ height   │ weight   │ age      │ male   │\n│     │ \u001b[90mFloat64⍰\u001b[39m │ \u001b[90mFloat64⍰\u001b[39m │ \u001b[90mFloat64⍰\u001b[39m │ \u001b[90mInt64⍰\u001b[39m │\n├─────┼──────────┼──────────┼──────────┼────────┤\n│ 1   │ 151.765  │ 47.8256  │ 63.0     │ 1      │\n│ 2   │ 139.7    │ 36.4858  │ 63.0     │ 0      │\n│ 3   │ 136.525  │ 31.8648  │ 65.0     │ 0      │\n│ 4   │ 156.845  │ 53.0419  │ 41.0     │ 1      │\n│ 5   │ 145.415  │ 41.2769  │ 51.0     │ 0      │\n│ 6   │ 163.83   │ 62.9926  │ 35.0     │ 1      │",
      "text/html": [
       "<table class=\"data-frame\"><thead><tr><th></th><th>height</th><th>weight</th><th>age</th><th>male</th></tr><tr><th></th><th>Float64⍰</th><th>Float64⍰</th><th>Float64⍰</th><th>Int64⍰</th></tr></thead><tbody><p>6 rows × 4 columns</p><tr><th>1</th><td>151.765</td><td>47.8256</td><td>63.0</td><td>1</td></tr><tr><th>2</th><td>139.7</td><td>36.4858</td><td>63.0</td><td>0</td></tr><tr><th>3</th><td>136.525</td><td>31.8648</td><td>65.0</td><td>0</td></tr><tr><th>4</th><td>156.845</td><td>53.0419</td><td>41.0</td><td>1</td></tr><tr><th>5</th><td>145.415</td><td>41.2769</td><td>51.0</td><td>0</td></tr><tr><th>6</th><td>163.83</td><td>62.9926</td><td>35.0</td><td>1</td></tr></tbody></table>"
      ]
     },
     "metadata": {},
     "execution_count": 4
    }
   ],
   "cell_type": "code",
   "source": [
    "first(data, 6)"
   ],
   "metadata": {},
   "execution_count": 4
  },
  {
   "outputs": [],
   "cell_type": "markdown",
   "source": [
    "The next step is to get our data ready for testing. We'll split the mtcars dataset into two subsets, one for training our model and one for evaluating our model. Then, we separate the labels we want to learn (MPG, in this case) and standardize the datasets by subtracting each column's means and dividing by the standard deviation of that column."
   ],
   "metadata": {}
  },
  {
   "outputs": [],
   "cell_type": "markdown",
   "source": [
    "The resulting data is not very familiar looking, but this standardization process helps the sampler converge far easier. We also create a function called unstandardize, which returns the standardized values to their original form. We will use this function later on when we make predictions."
   ],
   "metadata": {}
  },
  {
   "outputs": [],
   "cell_type": "markdown",
   "source": [
    "Split our dataset 70%/30% into training/test sets."
   ],
   "metadata": {}
  },
  {
   "outputs": [],
   "cell_type": "code",
   "source": [
    "n = size(data, 1)\n",
    "test_ind = sample(1:n, Int(floor(0.3*n)), replace=false);\n",
    "train_ind = [(i) for i=1:n if !(i in test_ind)];\n",
    "test = data[test_ind, :];\n",
    "train = data[train_ind, :];"
   ],
   "metadata": {},
   "execution_count": 5
  },
  {
   "outputs": [],
   "cell_type": "markdown",
   "source": [
    "Save dataframe versions of our dataset."
   ],
   "metadata": {}
  },
  {
   "outputs": [
    {
     "output_type": "execute_result",
     "data": {
      "text/plain": "105×4 DataFrame\n│ Row │ height   │ weight   │ age      │ male   │\n│     │ \u001b[90mFloat64⍰\u001b[39m │ \u001b[90mFloat64⍰\u001b[39m │ \u001b[90mFloat64⍰\u001b[39m │ \u001b[90mInt64⍰\u001b[39m │\n├─────┼──────────┼──────────┼──────────┼────────┤\n│ 1   │ 149.86   │ 40.9367  │ 43.0     │ 0      │\n│ 2   │ 158.75   │ 48.6761  │ 28.0     │ 1      │\n│ 3   │ 148.59   │ 39.5192  │ 62.0     │ 1      │\n│ 4   │ 167.005  │ 52.9002  │ 32.0     │ 1      │\n│ 5   │ 147.955  │ 34.8699  │ 19.0     │ 0      │\n│ 6   │ 154.94   │ 39.9444  │ 33.0     │ 0      │\n│ 7   │ 147.32   │ 51.2559  │ 38.0     │ 0      │\n⋮\n│ 98  │ 156.845  │ 45.6427  │ 41.0     │ 1      │\n│ 99  │ 161.29   │ 48.9879  │ 39.0     │ 1      │\n│ 100 │ 146.05   │ 42.8077  │ 23.0     │ 0      │\n│ 101 │ 163.195  │ 49.1013  │ 43.0     │ 1      │\n│ 102 │ 158.115  │ 47.4854  │ 45.0     │ 1      │\n│ 103 │ 144.78   │ 42.2691  │ 54.0     │ 0      │\n│ 104 │ 140.335  │ 36.5992  │ 62.0     │ 0      │\n│ 105 │ 157.48   │ 40.6248  │ 19.0     │ 1      │",
      "text/html": [
       "<table class=\"data-frame\"><thead><tr><th></th><th>height</th><th>weight</th><th>age</th><th>male</th></tr><tr><th></th><th>Float64⍰</th><th>Float64⍰</th><th>Float64⍰</th><th>Int64⍰</th></tr></thead><tbody><p>105 rows × 4 columns</p><tr><th>1</th><td>149.86</td><td>40.9367</td><td>43.0</td><td>0</td></tr><tr><th>2</th><td>158.75</td><td>48.6761</td><td>28.0</td><td>1</td></tr><tr><th>3</th><td>148.59</td><td>39.5192</td><td>62.0</td><td>1</td></tr><tr><th>4</th><td>167.005</td><td>52.9002</td><td>32.0</td><td>1</td></tr><tr><th>5</th><td>147.955</td><td>34.8699</td><td>19.0</td><td>0</td></tr><tr><th>6</th><td>154.94</td><td>39.9444</td><td>33.0</td><td>0</td></tr><tr><th>7</th><td>147.32</td><td>51.2559</td><td>38.0</td><td>0</td></tr><tr><th>8</th><td>145.415</td><td>42.4109</td><td>52.0</td><td>0</td></tr><tr><th>9</th><td>166.37</td><td>48.9879</td><td>41.0</td><td>1</td></tr><tr><th>10</th><td>154.94</td><td>46.2097</td><td>31.0</td><td>0</td></tr><tr><th>11</th><td>151.13</td><td>36.7126</td><td>70.0</td><td>0</td></tr><tr><th>12</th><td>154.305</td><td>45.7561</td><td>44.0</td><td>0</td></tr><tr><th>13</th><td>150.495</td><td>33.8493</td><td>65.3</td><td>0</td></tr><tr><th>14</th><td>160.02</td><td>44.6221</td><td>68.0</td><td>1</td></tr><tr><th>15</th><td>161.011</td><td>48.4209</td><td>31.0</td><td>1</td></tr><tr><th>16</th><td>150.495</td><td>35.9472</td><td>69.0</td><td>0</td></tr><tr><th>17</th><td>161.925</td><td>55.1114</td><td>30.0</td><td>1</td></tr><tr><th>18</th><td>148.59</td><td>35.8905</td><td>70.0</td><td>0</td></tr><tr><th>19</th><td>165.1</td><td>54.4877</td><td>54.0</td><td>1</td></tr><tr><th>20</th><td>158.42</td><td>47.287</td><td>24.0</td><td>0</td></tr><tr><th>21</th><td>160.985</td><td>50.9724</td><td>48.0</td><td>1</td></tr><tr><th>22</th><td>146.05</td><td>38.4986</td><td>35.0</td><td>0</td></tr><tr><th>23</th><td>168.91</td><td>56.4439</td><td>38.0</td><td>1</td></tr><tr><th>24</th><td>163.83</td><td>54.2893</td><td>44.0</td><td>1</td></tr><tr><th>&vellip;</th><td>&vellip;</td><td>&vellip;</td><td>&vellip;</td><td>&vellip;</td></tr></tbody></table>"
      ]
     },
     "metadata": {},
     "execution_count": 6
    }
   ],
   "cell_type": "code",
   "source": [
    "train_cut = DataFrame(train)\n",
    "test_cut = DataFrame(test)"
   ],
   "metadata": {},
   "execution_count": 6
  },
  {
   "outputs": [],
   "cell_type": "markdown",
   "source": [
    "Create our labels. These are the values we are trying to predict."
   ],
   "metadata": {}
  },
  {
   "outputs": [
    {
     "output_type": "execute_result",
     "data": {
      "text/plain": "105-element Array{Union{Missing, Float64},1}:\n 149.86 \n 158.75 \n 148.59 \n 167.005\n 147.955\n 154.94 \n 147.32 \n 145.415\n 166.37 \n 154.94 \n   ⋮    \n 144.145\n 156.845\n 161.29 \n 146.05 \n 163.195\n 158.115\n 144.78 \n 140.335\n 157.48 "
     },
     "metadata": {},
     "execution_count": 7
    }
   ],
   "cell_type": "code",
   "source": [
    "train_label = train[:, :height]\n",
    "test_label = test[:, :height]"
   ],
   "metadata": {},
   "execution_count": 7
  },
  {
   "outputs": [],
   "cell_type": "markdown",
   "source": [
    "Get the list of columns to keep."
   ],
   "metadata": {}
  },
  {
   "outputs": [
    {
     "output_type": "execute_result",
     "data": {
      "text/plain": "1-element Array{Symbol,1}:\n :weight"
     },
     "metadata": {},
     "execution_count": 8
    }
   ],
   "cell_type": "code",
   "source": [
    "remove_names = filter(x->!in(x, [:height, :age, :male]), names(data))"
   ],
   "metadata": {},
   "execution_count": 8
  },
  {
   "outputs": [],
   "cell_type": "markdown",
   "source": [
    "Filter the test and train sets."
   ],
   "metadata": {}
  },
  {
   "outputs": [],
   "cell_type": "code",
   "source": [
    "train = Matrix(train[:, remove_names]);\n",
    "test = Matrix(test[:, remove_names]);"
   ],
   "metadata": {},
   "execution_count": 9
  },
  {
   "outputs": [],
   "cell_type": "markdown",
   "source": [
    "A handy helper function to rescale our dataset."
   ],
   "metadata": {}
  },
  {
   "outputs": [
    {
     "output_type": "execute_result",
     "data": {
      "text/plain": "standardize (generic function with 1 method)"
     },
     "metadata": {},
     "execution_count": 10
    }
   ],
   "cell_type": "code",
   "source": [
    "function standardize(x)\n",
    "    return (x .- mean(x, dims=1)) ./ std(x, dims=1), x\n",
    "end"
   ],
   "metadata": {},
   "execution_count": 10
  },
  {
   "outputs": [],
   "cell_type": "markdown",
   "source": [
    "Another helper function to unstandardize our datasets."
   ],
   "metadata": {}
  },
  {
   "outputs": [
    {
     "output_type": "execute_result",
     "data": {
      "text/plain": "unstandardize (generic function with 1 method)"
     },
     "metadata": {},
     "execution_count": 11
    }
   ],
   "cell_type": "code",
   "source": [
    "function unstandardize(x, orig)\n",
    "    return x .* std(orig, dims=1) .+ mean(orig, dims=1)\n",
    "end"
   ],
   "metadata": {},
   "execution_count": 11
  },
  {
   "outputs": [],
   "cell_type": "markdown",
   "source": [
    "Standardize our dataset."
   ],
   "metadata": {}
  },
  {
   "outputs": [],
   "cell_type": "code",
   "source": [
    "(train, train_orig) = standardize(train)\n",
    "(test, test_orig) = standardize(test)\n",
    "(train_label, train_l_orig) = standardize(train_label)\n",
    "(test_label, test_l_orig) = standardize(test_label);"
   ],
   "metadata": {},
   "execution_count": 12
  },
  {
   "outputs": [],
   "cell_type": "markdown",
   "source": [
    "Design matrix"
   ],
   "metadata": {}
  },
  {
   "outputs": [
    {
     "output_type": "execute_result",
     "data": {
      "text/plain": "247×2 Array{Float64,2}:\n 1.0  -1.28256  \n 1.0  -2.00961  \n 1.0   1.3223   \n 1.0  -0.52876  \n 1.0   2.88789  \n 1.0  -1.00602  \n 1.0   1.70589  \n 1.0   0.827195 \n 1.0  -0.53768  \n 1.0  -1.35393  \n ⋮              \n 1.0  -1.03278  \n 1.0  -0.0961029\n 1.0  -0.823144 \n 1.0  -0.564443 \n 1.0  -0.600126 \n 1.0  -1.63493  \n 1.0   1.18403  \n 1.0   1.48287  \n 1.0   1.24201  "
     },
     "metadata": {},
     "execution_count": 13
    }
   ],
   "cell_type": "code",
   "source": [
    "dmat = [ones(size(train, 1)) train]"
   ],
   "metadata": {},
   "execution_count": 13
  },
  {
   "outputs": [],
   "cell_type": "markdown",
   "source": [
    "Bayesian linear regression."
   ],
   "metadata": {}
  },
  {
   "outputs": [],
   "cell_type": "code",
   "source": [
    "lrmodel = \"\n",
    "data {\n",
    "  int N; //the number of observations\n",
    "  int K; //the number of columns in the model matrix\n",
    "  real y[N]; //the response\n",
    "  matrix[N,K] X; //the model matrix\n",
    "}\n",
    "parameters {\n",
    "  vector[K] beta; //the regression parameters\n",
    "  real sigma; //the standard deviation\n",
    "}\n",
    "transformed parameters {\n",
    "  vector[N] linpred;\n",
    "  linpred <- X*beta;\n",
    "}\n",
    "model {\n",
    "  beta[1] ~ cauchy(0,10); //prior for the intercept following Gelman 2008\n",
    "\n",
    "  for(i in 2:K)\n",
    "   beta[i] ~ cauchy(0,2.5);//prior for the slopes following Gelman 2008\n",
    "\n",
    "  y ~ normal(linpred,sigma);\n",
    "}\n",
    "\";"
   ],
   "metadata": {},
   "execution_count": 14
  },
  {
   "outputs": [],
   "cell_type": "markdown",
   "source": [
    "Define the Stanmodel and set the output format to :mcmcchains."
   ],
   "metadata": {}
  },
  {
   "outputs": [
    {
     "name": "stdout",
     "output_type": "stream",
     "text": [
      "\n",
      "File /Users/rob/.julia/dev/StatisticalRethinking/scripts/00/tmp/linear_regression.stan will be updated.\n",
      "\n"
     ]
    }
   ],
   "cell_type": "code",
   "source": [
    "stanmodel = Stanmodel(name=\"linear_regression\",\n",
    "  monitors = [\"beta.1\", \"beta.2\", \"sigma\"],\n",
    "  model=lrmodel);\n",
    "# Input data for cmdstan\n",
    "lrdata = Dict(\"N\" => size(train, 1), \"K\" => size(dmat, 2), \"y\" => train_label, \"X\" => dmat);"
   ],
   "metadata": {},
   "execution_count": 15
  },
  {
   "outputs": [],
   "cell_type": "markdown",
   "source": [
    "Sample using cmdstan"
   ],
   "metadata": {}
  },
  {
   "outputs": [
    {
     "name": "stdout",
     "output_type": "stream",
     "text": [
      "Informational Message: The current Metropolis proposal is about to be rejected because of the following issue:\n",
      "Exception: normal_lpdf: Scale parameter is -10.6545, but must be > 0!  (in '/Users/rob/.julia/dev/StatisticalRethinking/scripts/00/tmp/linear_regression.stan' at line 21)\n",
      "\n",
      "If this warning occurs sporadically, such as for highly constrained variable types like covariance matrices, then the sampler is fine,\n",
      "but if this warning occurs often then your model may be either severely ill-conditioned or misspecified.\n",
      "\n",
      "Informational Message: The current Metropolis proposal is about to be rejected because of the following issue:\n",
      "Exception: normal_lpdf: Scale parameter is -13.1631, but must be > 0!  (in '/Users/rob/.julia/dev/StatisticalRethinking/scripts/00/tmp/linear_regression.stan' at line 21)\n",
      "\n",
      "If this warning occurs sporadically, such as for highly constrained variable types like covariance matrices, then the sampler is fine,\n",
      "but if this warning occurs often then your model may be either severely ill-conditioned or misspecified.\n",
      "\n",
      "Informational Message: The current Metropolis proposal is about to be rejected because of the following issue:\n",
      "Exception: normal_lpdf: Scale parameter is -2.34222, but must be > 0!  (in '/Users/rob/.julia/dev/StatisticalRethinking/scripts/00/tmp/linear_regression.stan' at line 21)\n",
      "\n",
      "If this warning occurs sporadically, such as for highly constrained variable types like covariance matrices, then the sampler is fine,\n",
      "but if this warning occurs often then your model may be either severely ill-conditioned or misspecified.\n",
      "\n",
      "Informational Message: The current Metropolis proposal is about to be rejected because of the following issue:\n",
      "Exception: normal_lpdf: Scale parameter is -14794.6, but must be > 0!  (in '/Users/rob/.julia/dev/StatisticalRethinking/scripts/00/tmp/linear_regression.stan' at line 21)\n",
      "\n",
      "If this warning occurs sporadically, such as for highly constrained variable types like covariance matrices, then the sampler is fine,\n",
      "but if this warning occurs often then your model may be either severely ill-conditioned or misspecified.\n",
      "\n",
      "Informational Message: The current Metropolis proposal is about to be rejected because of the following issue:\n",
      "Exception: normal_lpdf: Scale parameter is -421.887, but must be > 0!  (in '/Users/rob/.julia/dev/StatisticalRethinking/scripts/00/tmp/linear_regression.stan' at line 21)\n",
      "\n",
      "If this warning occurs sporadically, such as for highly constrained variable types like covariance matrices, then the sampler is fine,\n",
      "but if this warning occurs often then your model may be either severely ill-conditioned or misspecified.\n",
      "\n",
      "Informational Message: The current Metropolis proposal is about to be rejected because of the following issue:\n",
      "Exception: normal_lpdf: Scale parameter is -2.97167, but must be > 0!  (in '/Users/rob/.julia/dev/StatisticalRethinking/scripts/00/tmp/linear_regression.stan' at line 21)\n",
      "\n",
      "If this warning occurs sporadically, such as for highly constrained variable types like covariance matrices, then the sampler is fine,\n",
      "but if this warning occurs often then your model may be either severely ill-conditioned or misspecified.\n",
      "\n",
      "Informational Message: The current Metropolis proposal is about to be rejected because of the following issue:\n",
      "Exception: normal_lpdf: Scale parameter is -0.0249882, but must be > 0!  (in '/Users/rob/.julia/dev/StatisticalRethinking/scripts/00/tmp/linear_regression.stan' at line 21)\n",
      "\n",
      "If this warning occurs sporadically, such as for highly constrained variable types like covariance matrices, then the sampler is fine,\n",
      "but if this warning occurs often then your model may be either severely ill-conditioned or misspecified.\n",
      "\n",
      "Informational Message: The current Metropolis proposal is about to be rejected because of the following issue:\n",
      "Exception: normal_lpdf: Scale parameter is -0.359642, but must be > 0!  (in '/Users/rob/.julia/dev/StatisticalRethinking/scripts/00/tmp/linear_regression.stan' at line 21)\n",
      "\n",
      "If this warning occurs sporadically, such as for highly constrained variable types like covariance matrices, then the sampler is fine,\n",
      "but if this warning occurs often then your model may be either severely ill-conditioned or misspecified.\n",
      "\n"
     ]
    },
    {
     "output_type": "execute_result",
     "data": {
      "text/plain": "Object of type Chains, with data of type 1000×3×4 Array{Float64,3}\n\nLog evidence      = 0.0\nIterations        = 1:1000\nThinning interval = 1\nChains            = 1, 2, 3, 4\nSamples per chain = 1000\ninternals         = \nparameters        = alpha, beta[1], sigma\n\nparameters\n          Mean    SD   Naive SE  MCSE   ESS\n  alpha -0.0010 0.0403   0.0006 0.0006 1000\nbeta[1]  0.7650 0.0408   0.0006 0.0007 1000\n  sigma  0.6469 0.0299   0.0005 0.0004 1000\n\n"
     },
     "metadata": {},
     "execution_count": 16
    }
   ],
   "cell_type": "code",
   "source": [
    "rc, sim, cnames = stan(stanmodel, lrdata, ProjDir, diagnostics=false,\n",
    "  summary=false, CmdStanDir=CMDSTAN_HOME);\n",
    "# Convert to a  Chain object\n",
    "cnames = [\"alpha\", \"beta[1]\", \"sigma\"]\n",
    "chain = convert_a3d(sim, cnames, Val(:mcmcchains))"
   ],
   "metadata": {},
   "execution_count": 16
  },
  {
   "outputs": [],
   "cell_type": "markdown",
   "source": [
    "Describe the chains."
   ],
   "metadata": {}
  },
  {
   "outputs": [
    {
     "name": "stdout",
     "output_type": "stream",
     "text": [
      "Log evidence      = 0.0\n",
      "Iterations        = 1:1000\n",
      "Thinning interval = 1\n",
      "Chains            = 1, 2, 3, 4\n",
      "Samples per chain = 1000\n",
      "parameters        = alpha, beta[1], sigma\n",
      "\n",
      "Empirical Posterior Estimates\n",
      "─────────────────────────────────────────────\n",
      "parameters\n",
      "          Mean    SD   Naive SE  MCSE   ESS\n",
      "  alpha -0.0010 0.0403   0.0006 0.0006 1000\n",
      "beta[1]  0.7650 0.0408   0.0006 0.0007 1000\n",
      "  sigma  0.6469 0.0299   0.0005 0.0004 1000\n",
      "\n",
      "Quantiles\n",
      "─────────────────────────────────────────────\n",
      "parameters\n",
      "          2.5%   25.0%   50.0%   75.0%  97.5%\n",
      "  alpha -0.1358 -0.0270 -0.0014 0.0258 0.1393\n",
      "beta[1]  0.6129  0.7367  0.7651 0.7928 0.9048\n",
      "  sigma  0.5508  0.6266  0.6455 0.6664 0.7669\n",
      "\n"
     ]
    }
   ],
   "cell_type": "code",
   "source": [
    "describe(chain)"
   ],
   "metadata": {},
   "execution_count": 17
  },
  {
   "outputs": [],
   "cell_type": "markdown",
   "source": [
    "Perform multivariate OLS."
   ],
   "metadata": {}
  },
  {
   "outputs": [
    {
     "output_type": "execute_result",
     "data": {
      "text/plain": "StatsModels.DataFrameRegressionModel{GLM.LinearModel{GLM.LmResp{Array{Float64,1}},GLM.DensePredChol{Float64,LinearAlgebra.Cholesky{Float64,Array{Float64,2}}}},Array{Float64,2}}\n\nFormula: height ~ 1 + weight\n\nCoefficients:\n             Estimate Std.Error t value Pr(>|t|)\n(Intercept)   112.787   2.24713 50.1918   <1e-99\nweight       0.930892 0.0498409 18.6773   <1e-48\n"
     },
     "metadata": {},
     "execution_count": 18
    }
   ],
   "cell_type": "code",
   "source": [
    "ols = lm(@formula(height ~ weight), train_cut)"
   ],
   "metadata": {},
   "execution_count": 18
  },
  {
   "outputs": [],
   "cell_type": "markdown",
   "source": [
    "Store our predictions in the original dataframe."
   ],
   "metadata": {}
  },
  {
   "outputs": [],
   "cell_type": "code",
   "source": [
    "train_cut.OLSPrediction = predict(ols);\n",
    "test_cut.OLSPrediction = predict(ols, test_cut);"
   ],
   "metadata": {},
   "execution_count": 19
  },
  {
   "outputs": [],
   "cell_type": "markdown",
   "source": [
    "Make a prediction given an input vector."
   ],
   "metadata": {}
  },
  {
   "outputs": [
    {
     "output_type": "execute_result",
     "data": {
      "text/plain": "prediction (generic function with 1 method)"
     },
     "metadata": {},
     "execution_count": 20
    }
   ],
   "cell_type": "code",
   "source": [
    "function prediction(chain, x)\n",
    "    α = chain.value[:, 1, :];\n",
    "    β = [chain.value[:, i, :] for i in 2:2];\n",
    "    return  mean(α) .+ x * mean.(β)\n",
    "end"
   ],
   "metadata": {},
   "execution_count": 20
  },
  {
   "outputs": [],
   "cell_type": "markdown",
   "source": [
    "Calculate the predictions for the training and testing sets."
   ],
   "metadata": {}
  },
  {
   "outputs": [],
   "cell_type": "code",
   "source": [
    "train_cut.BayesPredictions = unstandardize(prediction(chain, train), train_l_orig);\n",
    "test_cut.BayesPredictions = unstandardize(prediction(chain, test), test_l_orig);"
   ],
   "metadata": {},
   "execution_count": 21
  },
  {
   "outputs": [],
   "cell_type": "markdown",
   "source": [
    "Show the first side rows of the modified dataframe."
   ],
   "metadata": {}
  },
  {
   "outputs": [
    {
     "name": "stdout",
     "output_type": "stream",
     "text": [
      "\n",
      "Training set:\n",
      "  Bayes loss: 6048.158363752059\n",
      "  OLS loss: 6048.1134279433\n",
      "Test set:\n",
      "  Bayes loss: 2993.6121053380084\n",
      "  OLS loss: 3018.264277451659\n"
     ]
    }
   ],
   "cell_type": "code",
   "source": [
    "remove_names = filter(x->!in(x, [:age, :male]), names(test_cut));\n",
    "test_cut = test_cut[remove_names];\n",
    "first(test_cut, 6)\n",
    "\n",
    "bayes_loss1 = sum((train_cut.BayesPredictions - train_cut.height).^2);\n",
    "ols_loss1 = sum((train_cut.OLSPrediction - train_cut.height).^2);\n",
    "\n",
    "bayes_loss2 = sum((test_cut.BayesPredictions - test_cut.height).^2);\n",
    "ols_loss2 = sum((test_cut.OLSPrediction - test_cut.height).^2);\n",
    "\n",
    "println(\"\\nTraining set:\")\n",
    "println(\"  Bayes loss: $bayes_loss1\")\n",
    "println(\"  OLS loss: $ols_loss1\")\n",
    "\n",
    "println(\"Test set:\")\n",
    "println(\"  Bayes loss: $bayes_loss2\")\n",
    "println(\"  OLS loss: $ols_loss2\")"
   ],
   "metadata": {},
   "execution_count": 22
  },
  {
   "outputs": [],
   "cell_type": "markdown",
   "source": [
    "Plot the chains."
   ],
   "metadata": {}
  },
  {
   "outputs": [],
   "cell_type": "code",
   "source": [
    "#plot(chain)"
   ],
   "metadata": {},
   "execution_count": 23
  },
  {
   "outputs": [],
   "cell_type": "markdown",
   "source": [
    "*This notebook was generated using [Literate.jl](https://github.com/fredrikekre/Literate.jl).*"
   ],
   "metadata": {}
  }
 ],
 "nbformat_minor": 3,
 "metadata": {
  "language_info": {
   "file_extension": ".jl",
   "mimetype": "application/julia",
   "name": "julia",
   "version": "1.2.0-DEV.487"
  },
  "kernelspec": {
   "name": "julia-1.2",
   "display_name": "Julia 1.2.0-DEV.487",
   "language": "julia"
  }
 },
 "nbformat": 4
}
