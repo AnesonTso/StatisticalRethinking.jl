{
 "cells": [
  {
   "outputs": [],
   "cell_type": "code",
   "source": [
    "using StatisticalRethinking, Distributed, JLD, LinearAlgebra\n",
    "using Mamba"
   ],
   "metadata": {},
   "execution_count": null
  },
  {
   "outputs": [],
   "cell_type": "markdown",
   "source": [
    "Data"
   ],
   "metadata": {}
  },
  {
   "outputs": [],
   "cell_type": "code",
   "source": [
    "howell1 = CSV.read(rel_path(\"..\", \"data\", \"Howell1.csv\"), delim=';')\n",
    "df = convert(DataFrame, howell1);"
   ],
   "metadata": {},
   "execution_count": null
  },
  {
   "outputs": [],
   "cell_type": "markdown",
   "source": [
    "Use only adults"
   ],
   "metadata": {}
  },
  {
   "outputs": [],
   "cell_type": "code",
   "source": [
    "df2 = filter(row -> row[:age] >= 18, df);"
   ],
   "metadata": {},
   "execution_count": null
  },
  {
   "outputs": [],
   "cell_type": "markdown",
   "source": [
    "Input data for Mamba"
   ],
   "metadata": {}
  },
  {
   "outputs": [],
   "cell_type": "code",
   "source": [
    "data = Dict(\n",
    "  :x => convert(Array{Float64,1}, df2[:weight]),\n",
    "  :y => convert(Array{Float64,1}, df2[:height])\n",
    ");"
   ],
   "metadata": {},
   "execution_count": null
  },
  {
   "outputs": [],
   "cell_type": "markdown",
   "source": [
    "Log-transformed Posterior(b0, b1, log(s2)) + Constant and Gradient Vector"
   ],
   "metadata": {}
  },
  {
   "outputs": [],
   "cell_type": "code",
   "source": [
    "logfgrad = function(x::DenseVector)\n",
    "  b0 = x[1]\n",
    "  b1 = x[2]\n",
    "  logs2 = x[3]\n",
    "  r = data[:y] .- b0 .- b1 .* data[:x]\n",
    "  logf = (-0.5 * length(data[:y]) - 0.001) * logs2 -\n",
    "           (0.5 * dot(r, r) + 0.001) / exp(logs2) -\n",
    "           0.5 * b0^2 / 1000 - 0.5 * b1^2 / 1000\n",
    "  grad = [\n",
    "    sum(r) / exp(logs2) - b0 / 1000,\n",
    "    sum(data[:x] .* r) / exp(logs2) - b1 / 1000,\n",
    "    -0.5 * length(data[:y]) - 0.001 + (0.5 * dot(r, r) + 0.001) / exp(logs2)\n",
    "  ]\n",
    "  logf, grad\n",
    "end\n",
    "\n",
    "# MCMC Simulation with No-U-Turn Sampling\n",
    "\n",
    "n = 5000\n",
    "burnin = 1000\n",
    "sim = Mamba.Chains(n, 3, start = (burnin + 1), names = [\"b0\", \"b1\", \"s2\"])\n",
    "theta = NUTSVariate([0.0, 0.0, 0.0], logfgrad)\n",
    "for i in 1:n\n",
    "  sample!(theta, adapt = (i <= burnin))\n",
    "  if i > burnin\n",
    "    sim[i, :, 1] = [theta[1:2]; exp(theta[3])]\n",
    "  end\n",
    "end"
   ],
   "metadata": {},
   "execution_count": null
  },
  {
   "outputs": [],
   "cell_type": "markdown",
   "source": [
    "Summarize draws"
   ],
   "metadata": {}
  },
  {
   "outputs": [],
   "cell_type": "code",
   "source": [
    "describe(sim)#-"
   ],
   "metadata": {},
   "execution_count": null
  },
  {
   "outputs": [],
   "cell_type": "markdown",
   "source": [
    "*This notebook was generated using [Literate.jl](https://github.com/fredrikekre/Literate.jl).*"
   ],
   "metadata": {}
  }
 ],
 "nbformat_minor": 3,
 "metadata": {
  "language_info": {
   "file_extension": ".jl",
   "mimetype": "application/julia",
   "name": "julia",
   "version": "1.1.0-rc1.0"
  },
  "kernelspec": {
   "name": "julia-1.1",
   "display_name": "Julia 1.1.0-rc1.0",
   "language": "julia"
  }
 },
 "nbformat": 4
}
