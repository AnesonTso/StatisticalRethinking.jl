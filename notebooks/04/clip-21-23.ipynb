{
 "cells": [
  {
   "outputs": [],
   "cell_type": "markdown",
   "source": [
    "Load Julia packages (libraries) needed  for the snippets in chapter 0"
   ],
   "metadata": {}
  },
  {
   "outputs": [],
   "cell_type": "code",
   "source": [
    "using StatisticalRethinking, CmdStan, StanMCMCChain\n",
    "gr(size=(500,500));"
   ],
   "metadata": {},
   "execution_count": 1
  },
  {
   "outputs": [],
   "cell_type": "markdown",
   "source": [
    "CmdStan uses a tmp directory to store the output of cmdstan"
   ],
   "metadata": {}
  },
  {
   "outputs": [],
   "cell_type": "code",
   "source": [
    "ProjDir = rel_path(\"..\", \"scripts\", \"04\")\n",
    "cd(ProjDir)"
   ],
   "metadata": {},
   "execution_count": 2
  },
  {
   "outputs": [],
   "cell_type": "markdown",
   "source": [
    "CmdStan uses a tmp directory to store the output of cmdstan"
   ],
   "metadata": {}
  },
  {
   "outputs": [],
   "cell_type": "code",
   "source": [
    "ProjDir = rel_path(\"..\", \"scripts\", \"04\")\n",
    "cd(ProjDir)"
   ],
   "metadata": {},
   "execution_count": 3
  },
  {
   "outputs": [
    {
     "output_type": "execute_result",
     "data": {
      "text/plain": "5×4 DataFrame\n│ Row │ height   │ weight   │ age      │ male   │\n│     │ \u001b[90mFloat64⍰\u001b[39m │ \u001b[90mFloat64⍰\u001b[39m │ \u001b[90mFloat64⍰\u001b[39m │ \u001b[90mInt64⍰\u001b[39m │\n├─────┼──────────┼──────────┼──────────┼────────┤\n│ 1   │ 151.765  │ 47.8256  │ 63.0     │ 1      │\n│ 2   │ 139.7    │ 36.4858  │ 63.0     │ 0      │\n│ 3   │ 136.525  │ 31.8648  │ 65.0     │ 0      │\n│ 4   │ 156.845  │ 53.0419  │ 41.0     │ 1      │\n│ 5   │ 145.415  │ 41.2769  │ 51.0     │ 0      │",
      "text/html": [
       "<table class=\"data-frame\"><thead><tr><th></th><th>height</th><th>weight</th><th>age</th><th>male</th></tr><tr><th></th><th>Float64⍰</th><th>Float64⍰</th><th>Float64⍰</th><th>Int64⍰</th></tr></thead><tbody><p>5 rows × 4 columns</p><tr><th>1</th><td>151.765</td><td>47.8256</td><td>63.0</td><td>1</td></tr><tr><th>2</th><td>139.7</td><td>36.4858</td><td>63.0</td><td>0</td></tr><tr><th>3</th><td>136.525</td><td>31.8648</td><td>65.0</td><td>0</td></tr><tr><th>4</th><td>156.845</td><td>53.0419</td><td>41.0</td><td>1</td></tr><tr><th>5</th><td>145.415</td><td>41.2769</td><td>51.0</td><td>0</td></tr></tbody></table>"
      ]
     },
     "metadata": {},
     "execution_count": 4
    }
   ],
   "cell_type": "code",
   "source": [
    "howell1 = CSV.read(rel_path(\"..\", \"data\", \"Howell1.csv\"), delim=';')\n",
    "df = convert(DataFrame, howell1);\n",
    "df2 = filter(row -> row[:age] >= 18, df);\n",
    "first(df2, 5)"
   ],
   "metadata": {},
   "execution_count": 4
  },
  {
   "outputs": [],
   "cell_type": "markdown",
   "source": [
    "### Snippet 4.21"
   ],
   "metadata": {}
  },
  {
   "outputs": [],
   "cell_type": "markdown",
   "source": [
    "Sample 20 random heights"
   ],
   "metadata": {}
  },
  {
   "outputs": [],
   "cell_type": "code",
   "source": [
    "n = size(df2, 1)\n",
    "selected_ind = sample(1:n, 20, replace=false);\n",
    "df3 = df2[selected_ind, :];"
   ],
   "metadata": {},
   "execution_count": 5
  },
  {
   "outputs": [],
   "cell_type": "markdown",
   "source": [
    "### Snippet 4.22"
   ],
   "metadata": {}
  },
  {
   "outputs": [],
   "cell_type": "markdown",
   "source": [
    "Generate approximate probabilities"
   ],
   "metadata": {}
  },
  {
   "outputs": [
    {
     "output_type": "execute_result",
     "data": {
      "text/plain": "10×5 DataFrame\n│ Row │ mu      │ sigma   │ ll       │ prod     │ prob        │\n│     │ \u001b[90mFloat64\u001b[39m │ \u001b[90mFloat64\u001b[39m │ \u001b[90mFloat64\u001b[39m  │ \u001b[90mFloat64\u001b[39m  │ \u001b[90mFloat64\u001b[39m     │\n├─────┼─────────┼─────────┼──────────┼──────────┼─────────────┤\n│ 1   │ 140.0   │ 4.0     │ -245.415 │ -255.047 │ 2.02666e-77 │\n│ 2   │ 140.151 │ 4.0     │ -242.423 │ -252.04  │ 4.09719e-76 │\n│ 3   │ 140.302 │ 4.0     │ -239.459 │ -249.062 │ 8.0506e-75  │\n│ 4   │ 140.452 │ 4.0     │ -236.524 │ -246.113 │ 1.53748e-73 │\n│ 5   │ 140.603 │ 4.0     │ -233.617 │ -243.192 │ 2.85382e-72 │\n│ 6   │ 140.754 │ 4.0     │ -230.738 │ -240.299 │ 5.14851e-71 │\n│ 7   │ 140.905 │ 4.0     │ -227.888 │ -237.435 │ 9.02765e-70 │\n│ 8   │ 141.055 │ 4.0     │ -225.066 │ -234.599 │ 1.53853e-68 │\n│ 9   │ 141.206 │ 4.0     │ -222.273 │ -231.792 │ 2.54844e-67 │\n│ 10  │ 141.357 │ 4.0     │ -219.508 │ -229.013 │ 4.10281e-66 │",
      "text/html": [
       "<table class=\"data-frame\"><thead><tr><th></th><th>mu</th><th>sigma</th><th>ll</th><th>prod</th><th>prob</th></tr><tr><th></th><th>Float64</th><th>Float64</th><th>Float64</th><th>Float64</th><th>Float64</th></tr></thead><tbody><p>10 rows × 5 columns</p><tr><th>1</th><td>140.0</td><td>4.0</td><td>-245.415</td><td>-255.047</td><td>2.02666e-77</td></tr><tr><th>2</th><td>140.151</td><td>4.0</td><td>-242.423</td><td>-252.04</td><td>4.09719e-76</td></tr><tr><th>3</th><td>140.302</td><td>4.0</td><td>-239.459</td><td>-249.062</td><td>8.0506e-75</td></tr><tr><th>4</th><td>140.452</td><td>4.0</td><td>-236.524</td><td>-246.113</td><td>1.53748e-73</td></tr><tr><th>5</th><td>140.603</td><td>4.0</td><td>-233.617</td><td>-243.192</td><td>2.85382e-72</td></tr><tr><th>6</th><td>140.754</td><td>4.0</td><td>-230.738</td><td>-240.299</td><td>5.14851e-71</td></tr><tr><th>7</th><td>140.905</td><td>4.0</td><td>-227.888</td><td>-237.435</td><td>9.02765e-70</td></tr><tr><th>8</th><td>141.055</td><td>4.0</td><td>-225.066</td><td>-234.599</td><td>1.53853e-68</td></tr><tr><th>9</th><td>141.206</td><td>4.0</td><td>-222.273</td><td>-231.792</td><td>2.54844e-67</td></tr><tr><th>10</th><td>141.357</td><td>4.0</td><td>-219.508</td><td>-229.013</td><td>4.10281e-66</td></tr></tbody></table>"
      ]
     },
     "metadata": {},
     "execution_count": 6
    }
   ],
   "cell_type": "code",
   "source": [
    "struct Post\n",
    "  mu::Float64\n",
    "  sigma::Float64\n",
    "  ll:: Float64\n",
    "  prod::Float64\n",
    "  prob::Float64\n",
    "end\n",
    "\n",
    "mu_list = repeat(range(140, 170, length=200), 200);\n",
    "sigma_list = repeat(range(4, 20, length=200), inner=200);\n",
    "\n",
    "ll = zeros(40000);\n",
    "for i in 1:40000\n",
    "    d1 = Normal(mu_list[i], sigma_list[i])\n",
    "    ll[i] = sum(log.(pdf.(d1, df3[:height])))\n",
    "end\n",
    "\n",
    "d2 = Normal(178.0, 20.0)\n",
    "d3 = Uniform(0, 50)\n",
    "prod = ll + log.(pdf.(d2, mu_list)) + log.(pdf.(d3, sigma_list))\n",
    "prob = exp.(prod .- maximum(prod))\n",
    "post = DataFrame(mu=mu_list, sigma=sigma_list, ll=ll, prod=prod, prob=prob)\n",
    "first(post, 10)"
   ],
   "metadata": {},
   "execution_count": 6
  },
  {
   "outputs": [],
   "cell_type": "markdown",
   "source": [
    "Sample post"
   ],
   "metadata": {}
  },
  {
   "outputs": [
    {
     "output_type": "execute_result",
     "data": {
      "text/plain": "10000×5 DataFrame\n│ Row   │ mu      │ sigma   │ ll       │ prod     │ prob     │\n│       │ \u001b[90mFloat64\u001b[39m │ \u001b[90mFloat64\u001b[39m │ \u001b[90mFloat64\u001b[39m  │ \u001b[90mFloat64\u001b[39m  │ \u001b[90mFloat64\u001b[39m  │\n├───────┼─────────┼─────────┼──────────┼──────────┼──────────┤\n│ 1     │ 158.844 │ 7.77889 │ -71.4246 │ -79.71   │ 0.28481  │\n│ 2     │ 159.296 │ 7.45729 │ -72.146  │ -80.41   │ 0.141442 │\n│ 3     │ 157.638 │ 8.82412 │ -70.5592 │ -78.9042 │ 0.637561 │\n│ 4     │ 155.075 │ 9.70854 │ -70.7497 │ -79.2333 │ 0.458754 │\n│ 5     │ 155.528 │ 8.0201  │ -70.053  │ -78.5109 │ 0.944751 │\n│ 6     │ 155.377 │ 9.22613 │ -70.4204 │ -78.8869 │ 0.648705 │\n│ 7     │ 157.638 │ 11.4774 │ -72.2879 │ -80.6329 │ 0.113182 │\n⋮\n│ 9993  │ 157.337 │ 9.30653 │ -70.6455 │ -79.0059 │ 0.575919 │\n│ 9994  │ 154.925 │ 7.69849 │ -70.2385 │ -78.7308 │ 0.758271 │\n│ 9995  │ 157.487 │ 8.34171 │ -70.3922 │ -78.7449 │ 0.747669 │\n│ 9996  │ 157.94  │ 10.9146 │ -71.9149 │ -80.2446 │ 0.166876 │\n│ 9997  │ 156.432 │ 8.90452 │ -70.2566 │ -78.6648 │ 0.810043 │\n│ 9998  │ 157.186 │ 9.14573 │ -70.5212 │ -78.8894 │ 0.647039 │\n│ 9999  │ 159.447 │ 7.53769 │ -72.2536 │ -80.5106 │ 0.127905 │\n│ 10000 │ 158.995 │ 9.38693 │ -71.5195 │ -79.7977 │ 0.260905 │",
      "text/html": [
       "<table class=\"data-frame\"><thead><tr><th></th><th>mu</th><th>sigma</th><th>ll</th><th>prod</th><th>prob</th></tr><tr><th></th><th>Float64</th><th>Float64</th><th>Float64</th><th>Float64</th><th>Float64</th></tr></thead><tbody><p>10,000 rows × 5 columns</p><tr><th>1</th><td>158.844</td><td>7.77889</td><td>-71.4246</td><td>-79.71</td><td>0.28481</td></tr><tr><th>2</th><td>159.296</td><td>7.45729</td><td>-72.146</td><td>-80.41</td><td>0.141442</td></tr><tr><th>3</th><td>157.638</td><td>8.82412</td><td>-70.5592</td><td>-78.9042</td><td>0.637561</td></tr><tr><th>4</th><td>155.075</td><td>9.70854</td><td>-70.7497</td><td>-79.2333</td><td>0.458754</td></tr><tr><th>5</th><td>155.528</td><td>8.0201</td><td>-70.053</td><td>-78.5109</td><td>0.944751</td></tr><tr><th>6</th><td>155.377</td><td>9.22613</td><td>-70.4204</td><td>-78.8869</td><td>0.648705</td></tr><tr><th>7</th><td>157.638</td><td>11.4774</td><td>-72.2879</td><td>-80.6329</td><td>0.113182</td></tr><tr><th>8</th><td>155.075</td><td>6.49246</td><td>-71.2448</td><td>-79.7284</td><td>0.279612</td></tr><tr><th>9</th><td>155.678</td><td>8.34171</td><td>-70.0652</td><td>-78.5147</td><td>0.941157</td></tr><tr><th>10</th><td>156.432</td><td>7.77889</td><td>-70.082</td><td>-78.4901</td><td>0.964608</td></tr><tr><th>11</th><td>159.146</td><td>9.54774</td><td>-71.6832</td><td>-79.9543</td><td>0.223084</td></tr><tr><th>12</th><td>158.241</td><td>10.8342</td><td>-71.9622</td><td>-80.2769</td><td>0.161573</td></tr><tr><th>13</th><td>154.322</td><td>10.191</td><td>-71.2631</td><td>-79.7906</td><td>0.262766</td></tr><tr><th>14</th><td>160.05</td><td>8.50251</td><td>-72.4106</td><td>-80.6401</td><td>0.112369</td></tr><tr><th>15</th><td>157.638</td><td>6.81407</td><td>-71.2321</td><td>-79.5771</td><td>0.325306</td></tr><tr><th>16</th><td>158.392</td><td>9.78894</td><td>-71.3413</td><td>-79.6486</td><td>0.302852</td></tr><tr><th>17</th><td>160.201</td><td>13.1658</td><td>-74.6852</td><td>-82.9079</td><td>0.0116346</td></tr><tr><th>18</th><td>155.226</td><td>7.61809</td><td>-70.1715</td><td>-78.6465</td><td>0.824965</td></tr><tr><th>19</th><td>155.377</td><td>10.995</td><td>-71.6795</td><td>-80.146</td><td>0.184177</td></tr><tr><th>20</th><td>152.663</td><td>9.30653</td><td>-71.675</td><td>-80.3041</td><td>0.157234</td></tr><tr><th>21</th><td>154.322</td><td>9.22613</td><td>-70.6943</td><td>-79.2219</td><td>0.464045</td></tr><tr><th>22</th><td>153.568</td><td>7.77889</td><td>-70.9851</td><td>-79.558</td><td>0.331578</td></tr><tr><th>23</th><td>156.281</td><td>8.58291</td><td>-70.1264</td><td>-78.5427</td><td>0.915226</td></tr><tr><th>24</th><td>161.558</td><td>8.90452</td><td>-74.1882</td><td>-82.3528</td><td>0.0202676</td></tr><tr><th>&vellip;</th><td>&vellip;</td><td>&vellip;</td><td>&vellip;</td><td>&vellip;</td><td>&vellip;</td></tr></tbody></table>"
      ]
     },
     "metadata": {},
     "execution_count": 7
    }
   ],
   "cell_type": "code",
   "source": [
    "samples = post[sample(1:size(post, 1), Weights(post[:prob]), 10000, replace=true), :]"
   ],
   "metadata": {},
   "execution_count": 7
  },
  {
   "outputs": [],
   "cell_type": "markdown",
   "source": [
    "### Snippet 4.23"
   ],
   "metadata": {}
  },
  {
   "outputs": [],
   "cell_type": "markdown",
   "source": [
    "Density of sigma"
   ],
   "metadata": {}
  },
  {
   "outputs": [
    {
     "output_type": "execute_result",
     "data": {
      "text/plain": "Plot{Plots.GRBackend() n=1}",
      "image/png": "[encoded data removed]",
      "text/html": [
       "<?xml version=\"1.0\" encoding=\"utf-8\"?>\n",
       "<svg xmlns=\"http://www.w3.org/2000/svg\" xmlns:xlink=\"http://www.w3.org/1999/xlink\" width=\"500\" height=\"500\" viewBox=\"0 0 2000 2000\">\n",
       "<defs>\n",
       "  <clipPath id=\"clip0900\">\n",
       "    <rect x=\"0\" y=\"0\" width=\"2000\" height=\"2000\"/>\n",
       "  </clipPath>\n",
       "</defs>\n",
       "<polygon clip-path=\"url(#clip0900)\" points=\"\n",
       "0,2000 2000,2000 2000,0 0,0 \n",
       "  \" fill=\"#ffffff\" fill-rule=\"evenodd\" fill-opacity=\"1\"/>\n",
       "<defs>\n",
       "  <clipPath id=\"clip0901\">\n",
       "    <rect x=\"400\" y=\"200\" width=\"1401\" height=\"1401\"/>\n",
       "  </clipPath>\n",
       "</defs>\n",
       "<polygon clip-path=\"url(#clip0900)\" points=\"\n",
       "188.156,1886.71 1921.26,1886.71 1921.26,47.2441 188.156,47.2441 \n",
       "  \" fill=\"#ffffff\" fill-rule=\"evenodd\" fill-opacity=\"1\"/>\n",
       "<defs>\n",
       "  <clipPath id=\"clip0902\">\n",
       "    <rect x=\"188\" y=\"47\" width=\"1734\" height=\"1840\"/>\n",
       "  </clipPath>\n",
       "</defs>\n",
       "<polyline clip-path=\"url(#clip0902)\" style=\"stroke:#000000; stroke-width:2; stroke-opacity:0.1; fill:none\" points=\"\n",
       "  455.342,1886.71 455.342,47.2441 \n",
       "  \"/>\n",
       "<polyline clip-path=\"url(#clip0902)\" style=\"stroke:#000000; stroke-width:2; stroke-opacity:0.1; fill:none\" points=\"\n",
       "  801.398,1886.71 801.398,47.2441 \n",
       "  \"/>\n",
       "<polyline clip-path=\"url(#clip0902)\" style=\"stroke:#000000; stroke-width:2; stroke-opacity:0.1; fill:none\" points=\"\n",
       "  1147.45,1886.71 1147.45,47.2441 \n",
       "  \"/>\n",
       "<polyline clip-path=\"url(#clip0902)\" style=\"stroke:#000000; stroke-width:2; stroke-opacity:0.1; fill:none\" points=\"\n",
       "  1493.51,1886.71 1493.51,47.2441 \n",
       "  \"/>\n",
       "<polyline clip-path=\"url(#clip0902)\" style=\"stroke:#000000; stroke-width:2; stroke-opacity:0.1; fill:none\" points=\"\n",
       "  1839.57,1886.71 1839.57,47.2441 \n",
       "  \"/>\n",
       "<polyline clip-path=\"url(#clip0902)\" style=\"stroke:#000000; stroke-width:2; stroke-opacity:0.1; fill:none\" points=\"\n",
       "  188.156,1834.65 1921.26,1834.65 \n",
       "  \"/>\n",
       "<polyline clip-path=\"url(#clip0902)\" style=\"stroke:#000000; stroke-width:2; stroke-opacity:0.1; fill:none\" points=\"\n",
       "  188.156,1533.2 1921.26,1533.2 \n",
       "  \"/>\n",
       "<polyline clip-path=\"url(#clip0902)\" style=\"stroke:#000000; stroke-width:2; stroke-opacity:0.1; fill:none\" points=\"\n",
       "  188.156,1231.75 1921.26,1231.75 \n",
       "  \"/>\n",
       "<polyline clip-path=\"url(#clip0902)\" style=\"stroke:#000000; stroke-width:2; stroke-opacity:0.1; fill:none\" points=\"\n",
       "  188.156,930.307 1921.26,930.307 \n",
       "  \"/>\n",
       "<polyline clip-path=\"url(#clip0902)\" style=\"stroke:#000000; stroke-width:2; stroke-opacity:0.1; fill:none\" points=\"\n",
       "  188.156,628.86 1921.26,628.86 \n",
       "  \"/>\n",
       "<polyline clip-path=\"url(#clip0902)\" style=\"stroke:#000000; stroke-width:2; stroke-opacity:0.1; fill:none\" points=\"\n",
       "  188.156,327.413 1921.26,327.413 \n",
       "  \"/>\n",
       "<polyline clip-path=\"url(#clip0900)\" style=\"stroke:#000000; stroke-width:4; stroke-opacity:1; fill:none\" points=\"\n",
       "  188.156,1886.71 1921.26,1886.71 \n",
       "  \"/>\n",
       "<polyline clip-path=\"url(#clip0900)\" style=\"stroke:#000000; stroke-width:4; stroke-opacity:1; fill:none\" points=\"\n",
       "  188.156,1886.71 188.156,47.2441 \n",
       "  \"/>\n",
       "<polyline clip-path=\"url(#clip0900)\" style=\"stroke:#000000; stroke-width:4; stroke-opacity:1; fill:none\" points=\"\n",
       "  455.342,1886.71 455.342,1859.12 \n",
       "  \"/>\n",
       "<polyline clip-path=\"url(#clip0900)\" style=\"stroke:#000000; stroke-width:4; stroke-opacity:1; fill:none\" points=\"\n",
       "  801.398,1886.71 801.398,1859.12 \n",
       "  \"/>\n",
       "<polyline clip-path=\"url(#clip0900)\" style=\"stroke:#000000; stroke-width:4; stroke-opacity:1; fill:none\" points=\"\n",
       "  1147.45,1886.71 1147.45,1859.12 \n",
       "  \"/>\n",
       "<polyline clip-path=\"url(#clip0900)\" style=\"stroke:#000000; stroke-width:4; stroke-opacity:1; fill:none\" points=\"\n",
       "  1493.51,1886.71 1493.51,1859.12 \n",
       "  \"/>\n",
       "<polyline clip-path=\"url(#clip0900)\" style=\"stroke:#000000; stroke-width:4; stroke-opacity:1; fill:none\" points=\"\n",
       "  1839.57,1886.71 1839.57,1859.12 \n",
       "  \"/>\n",
       "<polyline clip-path=\"url(#clip0900)\" style=\"stroke:#000000; stroke-width:4; stroke-opacity:1; fill:none\" points=\"\n",
       "  188.156,1834.65 214.153,1834.65 \n",
       "  \"/>\n",
       "<polyline clip-path=\"url(#clip0900)\" style=\"stroke:#000000; stroke-width:4; stroke-opacity:1; fill:none\" points=\"\n",
       "  188.156,1533.2 214.153,1533.2 \n",
       "  \"/>\n",
       "<polyline clip-path=\"url(#clip0900)\" style=\"stroke:#000000; stroke-width:4; stroke-opacity:1; fill:none\" points=\"\n",
       "  188.156,1231.75 214.153,1231.75 \n",
       "  \"/>\n",
       "<polyline clip-path=\"url(#clip0900)\" style=\"stroke:#000000; stroke-width:4; stroke-opacity:1; fill:none\" points=\"\n",
       "  188.156,930.307 214.153,930.307 \n",
       "  \"/>\n",
       "<polyline clip-path=\"url(#clip0900)\" style=\"stroke:#000000; stroke-width:4; stroke-opacity:1; fill:none\" points=\"\n",
       "  188.156,628.86 214.153,628.86 \n",
       "  \"/>\n",
       "<polyline clip-path=\"url(#clip0900)\" style=\"stroke:#000000; stroke-width:4; stroke-opacity:1; fill:none\" points=\"\n",
       "  188.156,327.413 214.153,327.413 \n",
       "  \"/>\n",
       "<g clip-path=\"url(#clip0900)\">\n",
       "<text style=\"fill:#000000; fill-opacity:1; font-family:Arial,Helvetica Neue,Helvetica,sans-serif; font-size:48px; text-anchor:middle;\" transform=\"rotate(0, 455.342, 1938.71)\" x=\"455.342\" y=\"1938.71\">6</text>\n",
       "</g>\n",
       "<g clip-path=\"url(#clip0900)\">\n",
       "<text style=\"fill:#000000; fill-opacity:1; font-family:Arial,Helvetica Neue,Helvetica,sans-serif; font-size:48px; text-anchor:middle;\" transform=\"rotate(0, 801.398, 1938.71)\" x=\"801.398\" y=\"1938.71\">9</text>\n",
       "</g>\n",
       "<g clip-path=\"url(#clip0900)\">\n",
       "<text style=\"fill:#000000; fill-opacity:1; font-family:Arial,Helvetica Neue,Helvetica,sans-serif; font-size:48px; text-anchor:middle;\" transform=\"rotate(0, 1147.45, 1938.71)\" x=\"1147.45\" y=\"1938.71\">12</text>\n",
       "</g>\n",
       "<g clip-path=\"url(#clip0900)\">\n",
       "<text style=\"fill:#000000; fill-opacity:1; font-family:Arial,Helvetica Neue,Helvetica,sans-serif; font-size:48px; text-anchor:middle;\" transform=\"rotate(0, 1493.51, 1938.71)\" x=\"1493.51\" y=\"1938.71\">15</text>\n",
       "</g>\n",
       "<g clip-path=\"url(#clip0900)\">\n",
       "<text style=\"fill:#000000; fill-opacity:1; font-family:Arial,Helvetica Neue,Helvetica,sans-serif; font-size:48px; text-anchor:middle;\" transform=\"rotate(0, 1839.57, 1938.71)\" x=\"1839.57\" y=\"1938.71\">18</text>\n",
       "</g>\n",
       "<g clip-path=\"url(#clip0900)\">\n",
       "<text style=\"fill:#000000; fill-opacity:1; font-family:Arial,Helvetica Neue,Helvetica,sans-serif; font-size:48px; text-anchor:end;\" transform=\"rotate(0, 168.156, 1852.15)\" x=\"168.156\" y=\"1852.15\">0.00</text>\n",
       "</g>\n",
       "<g clip-path=\"url(#clip0900)\">\n",
       "<text style=\"fill:#000000; fill-opacity:1; font-family:Arial,Helvetica Neue,Helvetica,sans-serif; font-size:48px; text-anchor:end;\" transform=\"rotate(0, 168.156, 1550.7)\" x=\"168.156\" y=\"1550.7\">0.05</text>\n",
       "</g>\n",
       "<g clip-path=\"url(#clip0900)\">\n",
       "<text style=\"fill:#000000; fill-opacity:1; font-family:Arial,Helvetica Neue,Helvetica,sans-serif; font-size:48px; text-anchor:end;\" transform=\"rotate(0, 168.156, 1249.25)\" x=\"168.156\" y=\"1249.25\">0.10</text>\n",
       "</g>\n",
       "<g clip-path=\"url(#clip0900)\">\n",
       "<text style=\"fill:#000000; fill-opacity:1; font-family:Arial,Helvetica Neue,Helvetica,sans-serif; font-size:48px; text-anchor:end;\" transform=\"rotate(0, 168.156, 947.807)\" x=\"168.156\" y=\"947.807\">0.15</text>\n",
       "</g>\n",
       "<g clip-path=\"url(#clip0900)\">\n",
       "<text style=\"fill:#000000; fill-opacity:1; font-family:Arial,Helvetica Neue,Helvetica,sans-serif; font-size:48px; text-anchor:end;\" transform=\"rotate(0, 168.156, 646.36)\" x=\"168.156\" y=\"646.36\">0.20</text>\n",
       "</g>\n",
       "<g clip-path=\"url(#clip0900)\">\n",
       "<text style=\"fill:#000000; fill-opacity:1; font-family:Arial,Helvetica Neue,Helvetica,sans-serif; font-size:48px; text-anchor:end;\" transform=\"rotate(0, 168.156, 344.913)\" x=\"168.156\" y=\"344.913\">0.25</text>\n",
       "</g>\n",
       "<polyline clip-path=\"url(#clip0902)\" style=\"stroke:#009af9; stroke-width:4; stroke-opacity:1; fill:none\" points=\"\n",
       "  237.206,1834.65 245.423,1834.65 253.639,1834.64 261.855,1834.64 270.071,1834.61 278.287,1834.57 286.503,1834.48 294.719,1834.31 302.935,1834.02 311.151,1833.57 \n",
       "  319.367,1832.87 327.584,1831.81 335.8,1830.23 344.016,1827.94 352.232,1824.78 360.448,1820.67 368.664,1815.66 376.88,1809.94 385.096,1803.67 393.312,1796.93 \n",
       "  401.528,1789.47 409.745,1780.74 417.961,1769.8 426.177,1755.46 434.393,1736.41 442.609,1711.46 450.825,1679.93 459.041,1642.05 467.257,1599.06 475.473,1552.88 \n",
       "  483.689,1505.23 491.905,1456.69 500.122,1406.27 508.338,1351.88 516.554,1291.58 524.77,1224.93 532.986,1153.57 541.202,1080.83 549.418,1010.35 557.634,944.607 \n",
       "  565.85,883.964 574.066,826.64 582.283,769.712 590.499,710.64 598.715,648.612 606.931,585.024 615.147,522.765 623.363,464.684 631.579,412.117 639.795,364.355 \n",
       "  648.011,319.313 656.227,274.971 664.444,230.769 672.66,188.251 680.876,150.706 689.092,121.927 697.308,104.639 705.524,99.3044 713.74,103.923 721.956,114.935 \n",
       "  730.172,128.821 738.388,143.635 746.604,159.773 754.821,179.596 763.037,205.985 771.253,240.407 779.469,281.473 787.685,324.933 795.901,365.375 804.117,398.9 \n",
       "  812.333,425.305 820.549,448.406 828.765,474.158 836.982,507.569 845.198,550.169 853.414,599.459 861.63,650.551 869.846,698.874 878.062,742.327 886.278,781.747 \n",
       "  894.494,819.701 902.71,858.555 910.926,899.059 919.143,940.168 927.359,979.991 935.575,1017.12 943.791,1051.44 952.007,1084.17 960.223,1117.08 968.439,1151.69 \n",
       "  976.655,1188.57 984.871,1227.07 993.087,1265.4 1001.3,1301.1 1009.52,1331.89 1017.74,1356.5 1025.95,1375.21 1034.17,1389.75 1042.38,1402.67 1050.6,1416.51 \n",
       "  1058.82,1432.99 1067.03,1452.65 1075.25,1474.82 1083.46,1498.01 1091.68,1520.52 1099.9,1541.07 1108.11,1559.25 1116.33,1575.5 1124.54,1590.68 1132.76,1605.56 \n",
       "  1140.98,1620.45 1149.19,1635.09 1157.41,1648.92 1165.63,1661.37 1173.84,1672.21 1182.06,1681.59 1190.27,1689.94 1198.49,1697.68 1206.71,1705.06 1214.92,1712.08 \n",
       "  1223.14,1718.67 1231.35,1724.86 1239.57,1730.88 1247.79,1737.01 1256,1743.47 1264.22,1750.18 1272.43,1756.86 1280.65,1763.14 1288.87,1768.81 1297.08,1773.86 \n",
       "  1305.3,1778.32 1313.52,1782.12 1321.73,1785.05 1329.95,1786.96 1338.16,1788.02 1346.38,1788.81 1354.6,1790.09 1362.81,1792.47 1371.03,1796.09 1379.24,1800.59 \n",
       "  1387.46,1805.26 1395.68,1809.38 1403.89,1812.45 1412.11,1814.31 1420.32,1815.13 1428.54,1815.24 1436.76,1815.05 1444.97,1814.87 1453.19,1814.87 1461.4,1815.07 \n",
       "  1469.62,1815.35 1477.84,1815.63 1486.05,1815.9 1494.27,1816.25 1502.49,1816.8 1510.7,1817.61 1518.92,1818.67 1527.13,1819.91 1535.35,1821.26 1543.57,1822.68 \n",
       "  1551.78,1824.16 1560,1825.7 1568.21,1827.25 1576.43,1828.73 1584.65,1830.07 1592.86,1831.19 1601.08,1832.04 1609.29,1832.61 1617.51,1832.94 1625.73,1833.12 \n",
       "  1633.94,1833.2 1642.16,1833.25 1650.38,1833.24 1658.59,1833.12 1666.81,1832.84 1675.02,1832.4 1683.24,1831.83 1691.46,1831.24 1699.67,1830.76 1707.89,1830.49 \n",
       "  1716.1,1830.45 1724.32,1830.61 1732.54,1830.88 1740.75,1831.18 1748.97,1831.47 1757.18,1831.74 1765.4,1832.05 1773.62,1832.41 1781.83,1832.83 1790.05,1833.28 \n",
       "  1798.26,1833.7 1806.48,1834.05 1814.7,1834.3 1822.91,1834.47 1831.13,1834.56 1839.35,1834.61 1847.56,1834.63 1855.78,1834.64 1863.99,1834.65 1872.21,1834.65 \n",
       "  \n",
       "  \"/>\n",
       "<polygon clip-path=\"url(#clip0900)\" points=\"\n",
       "1610.43,227.724 1861.26,227.724 1861.26,106.764 1610.43,106.764 \n",
       "  \" fill=\"#ffffff\" fill-rule=\"evenodd\" fill-opacity=\"1\"/>\n",
       "<polyline clip-path=\"url(#clip0900)\" style=\"stroke:#000000; stroke-width:4; stroke-opacity:1; fill:none\" points=\"\n",
       "  1610.43,227.724 1861.26,227.724 1861.26,106.764 1610.43,106.764 1610.43,227.724 \n",
       "  \"/>\n",
       "<polyline clip-path=\"url(#clip0900)\" style=\"stroke:#009af9; stroke-width:4; stroke-opacity:1; fill:none\" points=\"\n",
       "  1630.43,167.244 1750.43,167.244 \n",
       "  \"/>\n",
       "<g clip-path=\"url(#clip0900)\">\n",
       "<text style=\"fill:#000000; fill-opacity:1; font-family:Arial,Helvetica Neue,Helvetica,sans-serif; font-size:48px; text-anchor:start;\" transform=\"rotate(0, 1770.43, 184.744)\" x=\"1770.43\" y=\"184.744\">y1</text>\n",
       "</g>\n",
       "</svg>\n"
      ],
      "image/svg+xml": [
       "<?xml version=\"1.0\" encoding=\"utf-8\"?>\n",
       "<svg xmlns=\"http://www.w3.org/2000/svg\" xmlns:xlink=\"http://www.w3.org/1999/xlink\" width=\"500\" height=\"500\" viewBox=\"0 0 2000 2000\">\n",
       "<defs>\n",
       "  <clipPath id=\"clip0800\">\n",
       "    <rect x=\"0\" y=\"0\" width=\"2000\" height=\"2000\"/>\n",
       "  </clipPath>\n",
       "</defs>\n",
       "<polygon clip-path=\"url(#clip0800)\" points=\"\n",
       "0,2000 2000,2000 2000,0 0,0 \n",
       "  \" fill=\"#ffffff\" fill-rule=\"evenodd\" fill-opacity=\"1\"/>\n",
       "<defs>\n",
       "  <clipPath id=\"clip0801\">\n",
       "    <rect x=\"400\" y=\"200\" width=\"1401\" height=\"1401\"/>\n",
       "  </clipPath>\n",
       "</defs>\n",
       "<polygon clip-path=\"url(#clip0800)\" points=\"\n",
       "188.156,1886.71 1921.26,1886.71 1921.26,47.2441 188.156,47.2441 \n",
       "  \" fill=\"#ffffff\" fill-rule=\"evenodd\" fill-opacity=\"1\"/>\n",
       "<defs>\n",
       "  <clipPath id=\"clip0802\">\n",
       "    <rect x=\"188\" y=\"47\" width=\"1734\" height=\"1840\"/>\n",
       "  </clipPath>\n",
       "</defs>\n",
       "<polyline clip-path=\"url(#clip0802)\" style=\"stroke:#000000; stroke-width:2; stroke-opacity:0.1; fill:none\" points=\"\n",
       "  455.342,1886.71 455.342,47.2441 \n",
       "  \"/>\n",
       "<polyline clip-path=\"url(#clip0802)\" style=\"stroke:#000000; stroke-width:2; stroke-opacity:0.1; fill:none\" points=\"\n",
       "  801.398,1886.71 801.398,47.2441 \n",
       "  \"/>\n",
       "<polyline clip-path=\"url(#clip0802)\" style=\"stroke:#000000; stroke-width:2; stroke-opacity:0.1; fill:none\" points=\"\n",
       "  1147.45,1886.71 1147.45,47.2441 \n",
       "  \"/>\n",
       "<polyline clip-path=\"url(#clip0802)\" style=\"stroke:#000000; stroke-width:2; stroke-opacity:0.1; fill:none\" points=\"\n",
       "  1493.51,1886.71 1493.51,47.2441 \n",
       "  \"/>\n",
       "<polyline clip-path=\"url(#clip0802)\" style=\"stroke:#000000; stroke-width:2; stroke-opacity:0.1; fill:none\" points=\"\n",
       "  1839.57,1886.71 1839.57,47.2441 \n",
       "  \"/>\n",
       "<polyline clip-path=\"url(#clip0802)\" style=\"stroke:#000000; stroke-width:2; stroke-opacity:0.1; fill:none\" points=\"\n",
       "  188.156,1834.65 1921.26,1834.65 \n",
       "  \"/>\n",
       "<polyline clip-path=\"url(#clip0802)\" style=\"stroke:#000000; stroke-width:2; stroke-opacity:0.1; fill:none\" points=\"\n",
       "  188.156,1533.2 1921.26,1533.2 \n",
       "  \"/>\n",
       "<polyline clip-path=\"url(#clip0802)\" style=\"stroke:#000000; stroke-width:2; stroke-opacity:0.1; fill:none\" points=\"\n",
       "  188.156,1231.75 1921.26,1231.75 \n",
       "  \"/>\n",
       "<polyline clip-path=\"url(#clip0802)\" style=\"stroke:#000000; stroke-width:2; stroke-opacity:0.1; fill:none\" points=\"\n",
       "  188.156,930.307 1921.26,930.307 \n",
       "  \"/>\n",
       "<polyline clip-path=\"url(#clip0802)\" style=\"stroke:#000000; stroke-width:2; stroke-opacity:0.1; fill:none\" points=\"\n",
       "  188.156,628.86 1921.26,628.86 \n",
       "  \"/>\n",
       "<polyline clip-path=\"url(#clip0802)\" style=\"stroke:#000000; stroke-width:2; stroke-opacity:0.1; fill:none\" points=\"\n",
       "  188.156,327.413 1921.26,327.413 \n",
       "  \"/>\n",
       "<polyline clip-path=\"url(#clip0800)\" style=\"stroke:#000000; stroke-width:4; stroke-opacity:1; fill:none\" points=\"\n",
       "  188.156,1886.71 1921.26,1886.71 \n",
       "  \"/>\n",
       "<polyline clip-path=\"url(#clip0800)\" style=\"stroke:#000000; stroke-width:4; stroke-opacity:1; fill:none\" points=\"\n",
       "  188.156,1886.71 188.156,47.2441 \n",
       "  \"/>\n",
       "<polyline clip-path=\"url(#clip0800)\" style=\"stroke:#000000; stroke-width:4; stroke-opacity:1; fill:none\" points=\"\n",
       "  455.342,1886.71 455.342,1859.12 \n",
       "  \"/>\n",
       "<polyline clip-path=\"url(#clip0800)\" style=\"stroke:#000000; stroke-width:4; stroke-opacity:1; fill:none\" points=\"\n",
       "  801.398,1886.71 801.398,1859.12 \n",
       "  \"/>\n",
       "<polyline clip-path=\"url(#clip0800)\" style=\"stroke:#000000; stroke-width:4; stroke-opacity:1; fill:none\" points=\"\n",
       "  1147.45,1886.71 1147.45,1859.12 \n",
       "  \"/>\n",
       "<polyline clip-path=\"url(#clip0800)\" style=\"stroke:#000000; stroke-width:4; stroke-opacity:1; fill:none\" points=\"\n",
       "  1493.51,1886.71 1493.51,1859.12 \n",
       "  \"/>\n",
       "<polyline clip-path=\"url(#clip0800)\" style=\"stroke:#000000; stroke-width:4; stroke-opacity:1; fill:none\" points=\"\n",
       "  1839.57,1886.71 1839.57,1859.12 \n",
       "  \"/>\n",
       "<polyline clip-path=\"url(#clip0800)\" style=\"stroke:#000000; stroke-width:4; stroke-opacity:1; fill:none\" points=\"\n",
       "  188.156,1834.65 214.153,1834.65 \n",
       "  \"/>\n",
       "<polyline clip-path=\"url(#clip0800)\" style=\"stroke:#000000; stroke-width:4; stroke-opacity:1; fill:none\" points=\"\n",
       "  188.156,1533.2 214.153,1533.2 \n",
       "  \"/>\n",
       "<polyline clip-path=\"url(#clip0800)\" style=\"stroke:#000000; stroke-width:4; stroke-opacity:1; fill:none\" points=\"\n",
       "  188.156,1231.75 214.153,1231.75 \n",
       "  \"/>\n",
       "<polyline clip-path=\"url(#clip0800)\" style=\"stroke:#000000; stroke-width:4; stroke-opacity:1; fill:none\" points=\"\n",
       "  188.156,930.307 214.153,930.307 \n",
       "  \"/>\n",
       "<polyline clip-path=\"url(#clip0800)\" style=\"stroke:#000000; stroke-width:4; stroke-opacity:1; fill:none\" points=\"\n",
       "  188.156,628.86 214.153,628.86 \n",
       "  \"/>\n",
       "<polyline clip-path=\"url(#clip0800)\" style=\"stroke:#000000; stroke-width:4; stroke-opacity:1; fill:none\" points=\"\n",
       "  188.156,327.413 214.153,327.413 \n",
       "  \"/>\n",
       "<g clip-path=\"url(#clip0800)\">\n",
       "<text style=\"fill:#000000; fill-opacity:1; font-family:Arial,Helvetica Neue,Helvetica,sans-serif; font-size:48px; text-anchor:middle;\" transform=\"rotate(0, 455.342, 1938.71)\" x=\"455.342\" y=\"1938.71\">6</text>\n",
       "</g>\n",
       "<g clip-path=\"url(#clip0800)\">\n",
       "<text style=\"fill:#000000; fill-opacity:1; font-family:Arial,Helvetica Neue,Helvetica,sans-serif; font-size:48px; text-anchor:middle;\" transform=\"rotate(0, 801.398, 1938.71)\" x=\"801.398\" y=\"1938.71\">9</text>\n",
       "</g>\n",
       "<g clip-path=\"url(#clip0800)\">\n",
       "<text style=\"fill:#000000; fill-opacity:1; font-family:Arial,Helvetica Neue,Helvetica,sans-serif; font-size:48px; text-anchor:middle;\" transform=\"rotate(0, 1147.45, 1938.71)\" x=\"1147.45\" y=\"1938.71\">12</text>\n",
       "</g>\n",
       "<g clip-path=\"url(#clip0800)\">\n",
       "<text style=\"fill:#000000; fill-opacity:1; font-family:Arial,Helvetica Neue,Helvetica,sans-serif; font-size:48px; text-anchor:middle;\" transform=\"rotate(0, 1493.51, 1938.71)\" x=\"1493.51\" y=\"1938.71\">15</text>\n",
       "</g>\n",
       "<g clip-path=\"url(#clip0800)\">\n",
       "<text style=\"fill:#000000; fill-opacity:1; font-family:Arial,Helvetica Neue,Helvetica,sans-serif; font-size:48px; text-anchor:middle;\" transform=\"rotate(0, 1839.57, 1938.71)\" x=\"1839.57\" y=\"1938.71\">18</text>\n",
       "</g>\n",
       "<g clip-path=\"url(#clip0800)\">\n",
       "<text style=\"fill:#000000; fill-opacity:1; font-family:Arial,Helvetica Neue,Helvetica,sans-serif; font-size:48px; text-anchor:end;\" transform=\"rotate(0, 168.156, 1852.15)\" x=\"168.156\" y=\"1852.15\">0.00</text>\n",
       "</g>\n",
       "<g clip-path=\"url(#clip0800)\">\n",
       "<text style=\"fill:#000000; fill-opacity:1; font-family:Arial,Helvetica Neue,Helvetica,sans-serif; font-size:48px; text-anchor:end;\" transform=\"rotate(0, 168.156, 1550.7)\" x=\"168.156\" y=\"1550.7\">0.05</text>\n",
       "</g>\n",
       "<g clip-path=\"url(#clip0800)\">\n",
       "<text style=\"fill:#000000; fill-opacity:1; font-family:Arial,Helvetica Neue,Helvetica,sans-serif; font-size:48px; text-anchor:end;\" transform=\"rotate(0, 168.156, 1249.25)\" x=\"168.156\" y=\"1249.25\">0.10</text>\n",
       "</g>\n",
       "<g clip-path=\"url(#clip0800)\">\n",
       "<text style=\"fill:#000000; fill-opacity:1; font-family:Arial,Helvetica Neue,Helvetica,sans-serif; font-size:48px; text-anchor:end;\" transform=\"rotate(0, 168.156, 947.807)\" x=\"168.156\" y=\"947.807\">0.15</text>\n",
       "</g>\n",
       "<g clip-path=\"url(#clip0800)\">\n",
       "<text style=\"fill:#000000; fill-opacity:1; font-family:Arial,Helvetica Neue,Helvetica,sans-serif; font-size:48px; text-anchor:end;\" transform=\"rotate(0, 168.156, 646.36)\" x=\"168.156\" y=\"646.36\">0.20</text>\n",
       "</g>\n",
       "<g clip-path=\"url(#clip0800)\">\n",
       "<text style=\"fill:#000000; fill-opacity:1; font-family:Arial,Helvetica Neue,Helvetica,sans-serif; font-size:48px; text-anchor:end;\" transform=\"rotate(0, 168.156, 344.913)\" x=\"168.156\" y=\"344.913\">0.25</text>\n",
       "</g>\n",
       "<polyline clip-path=\"url(#clip0802)\" style=\"stroke:#009af9; stroke-width:4; stroke-opacity:1; fill:none\" points=\"\n",
       "  237.206,1834.65 245.423,1834.65 253.639,1834.64 261.855,1834.64 270.071,1834.61 278.287,1834.57 286.503,1834.48 294.719,1834.31 302.935,1834.02 311.151,1833.57 \n",
       "  319.367,1832.87 327.584,1831.81 335.8,1830.23 344.016,1827.94 352.232,1824.78 360.448,1820.67 368.664,1815.66 376.88,1809.94 385.096,1803.67 393.312,1796.93 \n",
       "  401.528,1789.47 409.745,1780.74 417.961,1769.8 426.177,1755.46 434.393,1736.41 442.609,1711.46 450.825,1679.93 459.041,1642.05 467.257,1599.06 475.473,1552.88 \n",
       "  483.689,1505.23 491.905,1456.69 500.122,1406.27 508.338,1351.88 516.554,1291.58 524.77,1224.93 532.986,1153.57 541.202,1080.83 549.418,1010.35 557.634,944.607 \n",
       "  565.85,883.964 574.066,826.64 582.283,769.712 590.499,710.64 598.715,648.612 606.931,585.024 615.147,522.765 623.363,464.684 631.579,412.117 639.795,364.355 \n",
       "  648.011,319.313 656.227,274.971 664.444,230.769 672.66,188.251 680.876,150.706 689.092,121.927 697.308,104.639 705.524,99.3044 713.74,103.923 721.956,114.935 \n",
       "  730.172,128.821 738.388,143.635 746.604,159.773 754.821,179.596 763.037,205.985 771.253,240.407 779.469,281.473 787.685,324.933 795.901,365.375 804.117,398.9 \n",
       "  812.333,425.305 820.549,448.406 828.765,474.158 836.982,507.569 845.198,550.169 853.414,599.459 861.63,650.551 869.846,698.874 878.062,742.327 886.278,781.747 \n",
       "  894.494,819.701 902.71,858.555 910.926,899.059 919.143,940.168 927.359,979.991 935.575,1017.12 943.791,1051.44 952.007,1084.17 960.223,1117.08 968.439,1151.69 \n",
       "  976.655,1188.57 984.871,1227.07 993.087,1265.4 1001.3,1301.1 1009.52,1331.89 1017.74,1356.5 1025.95,1375.21 1034.17,1389.75 1042.38,1402.67 1050.6,1416.51 \n",
       "  1058.82,1432.99 1067.03,1452.65 1075.25,1474.82 1083.46,1498.01 1091.68,1520.52 1099.9,1541.07 1108.11,1559.25 1116.33,1575.5 1124.54,1590.68 1132.76,1605.56 \n",
       "  1140.98,1620.45 1149.19,1635.09 1157.41,1648.92 1165.63,1661.37 1173.84,1672.21 1182.06,1681.59 1190.27,1689.94 1198.49,1697.68 1206.71,1705.06 1214.92,1712.08 \n",
       "  1223.14,1718.67 1231.35,1724.86 1239.57,1730.88 1247.79,1737.01 1256,1743.47 1264.22,1750.18 1272.43,1756.86 1280.65,1763.14 1288.87,1768.81 1297.08,1773.86 \n",
       "  1305.3,1778.32 1313.52,1782.12 1321.73,1785.05 1329.95,1786.96 1338.16,1788.02 1346.38,1788.81 1354.6,1790.09 1362.81,1792.47 1371.03,1796.09 1379.24,1800.59 \n",
       "  1387.46,1805.26 1395.68,1809.38 1403.89,1812.45 1412.11,1814.31 1420.32,1815.13 1428.54,1815.24 1436.76,1815.05 1444.97,1814.87 1453.19,1814.87 1461.4,1815.07 \n",
       "  1469.62,1815.35 1477.84,1815.63 1486.05,1815.9 1494.27,1816.25 1502.49,1816.8 1510.7,1817.61 1518.92,1818.67 1527.13,1819.91 1535.35,1821.26 1543.57,1822.68 \n",
       "  1551.78,1824.16 1560,1825.7 1568.21,1827.25 1576.43,1828.73 1584.65,1830.07 1592.86,1831.19 1601.08,1832.04 1609.29,1832.61 1617.51,1832.94 1625.73,1833.12 \n",
       "  1633.94,1833.2 1642.16,1833.25 1650.38,1833.24 1658.59,1833.12 1666.81,1832.84 1675.02,1832.4 1683.24,1831.83 1691.46,1831.24 1699.67,1830.76 1707.89,1830.49 \n",
       "  1716.1,1830.45 1724.32,1830.61 1732.54,1830.88 1740.75,1831.18 1748.97,1831.47 1757.18,1831.74 1765.4,1832.05 1773.62,1832.41 1781.83,1832.83 1790.05,1833.28 \n",
       "  1798.26,1833.7 1806.48,1834.05 1814.7,1834.3 1822.91,1834.47 1831.13,1834.56 1839.35,1834.61 1847.56,1834.63 1855.78,1834.64 1863.99,1834.65 1872.21,1834.65 \n",
       "  \n",
       "  \"/>\n",
       "<polygon clip-path=\"url(#clip0800)\" points=\"\n",
       "1610.43,227.724 1861.26,227.724 1861.26,106.764 1610.43,106.764 \n",
       "  \" fill=\"#ffffff\" fill-rule=\"evenodd\" fill-opacity=\"1\"/>\n",
       "<polyline clip-path=\"url(#clip0800)\" style=\"stroke:#000000; stroke-width:4; stroke-opacity:1; fill:none\" points=\"\n",
       "  1610.43,227.724 1861.26,227.724 1861.26,106.764 1610.43,106.764 1610.43,227.724 \n",
       "  \"/>\n",
       "<polyline clip-path=\"url(#clip0800)\" style=\"stroke:#009af9; stroke-width:4; stroke-opacity:1; fill:none\" points=\"\n",
       "  1630.43,167.244 1750.43,167.244 \n",
       "  \"/>\n",
       "<g clip-path=\"url(#clip0800)\">\n",
       "<text style=\"fill:#000000; fill-opacity:1; font-family:Arial,Helvetica Neue,Helvetica,sans-serif; font-size:48px; text-anchor:start;\" transform=\"rotate(0, 1770.43, 184.744)\" x=\"1770.43\" y=\"184.744\">y1</text>\n",
       "</g>\n",
       "</svg>\n"
      ]
     },
     "metadata": {},
     "execution_count": 8
    }
   ],
   "cell_type": "code",
   "source": [
    "density(samples[:sigma])"
   ],
   "metadata": {},
   "execution_count": 8
  },
  {
   "outputs": [],
   "cell_type": "markdown",
   "source": [
    "End of `clip-21-23.jl`"
   ],
   "metadata": {}
  },
  {
   "outputs": [],
   "cell_type": "markdown",
   "source": [
    "*This notebook was generated using [Literate.jl](https://github.com/fredrikekre/Literate.jl).*"
   ],
   "metadata": {}
  }
 ],
 "nbformat_minor": 3,
 "metadata": {
  "language_info": {
   "file_extension": ".jl",
   "mimetype": "application/julia",
   "name": "julia",
   "version": "1.2.0-DEV.245"
  },
  "kernelspec": {
   "name": "julia-1.2",
   "display_name": "Julia 1.2.0-DEV.245",
   "language": "julia"
  }
 },
 "nbformat": 4
}
