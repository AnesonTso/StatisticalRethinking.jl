{
 "cells": [
  {
   "outputs": [],
   "cell_type": "markdown",
   "source": [
    "Load Julia packages (libraries) needed  for the snippets in chapter 0"
   ],
   "metadata": {}
  },
  {
   "outputs": [],
   "cell_type": "code",
   "source": [
    "using StatisticalRethinking, CmdStan\n",
    "#gr(size=(600,600));"
   ],
   "metadata": {},
   "execution_count": 1
  },
  {
   "outputs": [],
   "cell_type": "markdown",
   "source": [
    "CmdStan uses a tmp directory to store the output of cmdstan"
   ],
   "metadata": {}
  },
  {
   "outputs": [],
   "cell_type": "code",
   "source": [
    "ProjDir = rel_path(\"..\", \"scripts\", \"04\")\n",
    "cd(ProjDir)"
   ],
   "metadata": {},
   "execution_count": 2
  },
  {
   "outputs": [],
   "cell_type": "markdown",
   "source": [
    "CmdStan uses a tmp directory to store the output of cmdstan"
   ],
   "metadata": {}
  },
  {
   "outputs": [],
   "cell_type": "code",
   "source": [
    "ProjDir = rel_path(\"..\", \"scripts\", \"04\")\n",
    "cd(ProjDir)"
   ],
   "metadata": {},
   "execution_count": 3
  },
  {
   "outputs": [
    {
     "output_type": "execute_result",
     "data": {
      "text/plain": "5×4 DataFrame\n│ Row │ height  │ weight  │ age     │ male  │\n│     │ \u001b[90mFloat64\u001b[39m │ \u001b[90mFloat64\u001b[39m │ \u001b[90mFloat64\u001b[39m │ \u001b[90mInt64\u001b[39m │\n├─────┼─────────┼─────────┼─────────┼───────┤\n│ 1   │ 151.765 │ 47.8256 │ 63.0    │ 1     │\n│ 2   │ 139.7   │ 36.4858 │ 63.0    │ 0     │\n│ 3   │ 136.525 │ 31.8648 │ 65.0    │ 0     │\n│ 4   │ 156.845 │ 53.0419 │ 41.0    │ 1     │\n│ 5   │ 145.415 │ 41.2769 │ 51.0    │ 0     │",
      "text/html": [
       "<table class=\"data-frame\"><thead><tr><th></th><th>height</th><th>weight</th><th>age</th><th>male</th></tr><tr><th></th><th>Float64</th><th>Float64</th><th>Float64</th><th>Int64</th></tr></thead><tbody><p>5 rows × 4 columns</p><tr><th>1</th><td>151.765</td><td>47.8256</td><td>63.0</td><td>1</td></tr><tr><th>2</th><td>139.7</td><td>36.4858</td><td>63.0</td><td>0</td></tr><tr><th>3</th><td>136.525</td><td>31.8648</td><td>65.0</td><td>0</td></tr><tr><th>4</th><td>156.845</td><td>53.0419</td><td>41.0</td><td>1</td></tr><tr><th>5</th><td>145.415</td><td>41.2769</td><td>51.0</td><td>0</td></tr></tbody></table>"
      ]
     },
     "metadata": {},
     "execution_count": 4
    }
   ],
   "cell_type": "code",
   "source": [
    "howell1 = CSV.read(rel_path(\"..\", \"data\", \"Howell1.csv\"), delim=';')\n",
    "df = convert(DataFrame, howell1);\n",
    "df2 = filter(row -> row[:age] >= 18, df);\n",
    "first(df2, 5)"
   ],
   "metadata": {},
   "execution_count": 4
  },
  {
   "outputs": [],
   "cell_type": "markdown",
   "source": [
    "### Snippet 4.21"
   ],
   "metadata": {}
  },
  {
   "outputs": [],
   "cell_type": "markdown",
   "source": [
    "Sample 20 random heights"
   ],
   "metadata": {}
  },
  {
   "outputs": [],
   "cell_type": "code",
   "source": [
    "n = size(df2, 1)\n",
    "selected_ind = sample(1:n, 20, replace=false);\n",
    "df3 = df2[selected_ind, :];"
   ],
   "metadata": {},
   "execution_count": 5
  },
  {
   "outputs": [],
   "cell_type": "markdown",
   "source": [
    "### Snippet 4.22"
   ],
   "metadata": {}
  },
  {
   "outputs": [],
   "cell_type": "markdown",
   "source": [
    "Generate approximate probabilities"
   ],
   "metadata": {}
  },
  {
   "outputs": [
    {
     "name": "stdout",
     "output_type": "stream",
     "text": [
      "┌ Warning: `getindex(df::DataFrame, col_ind::ColumnIndex)` is deprecated, use `df[!, col_ind]` instead.\n",
      "│   caller = top-level scope at string:15\n",
      "└ @ Core ./string:15\n"
     ]
    },
    {
     "output_type": "execute_result",
     "data": {
      "text/plain": "10×5 DataFrame\n│ Row │ mu      │ sigma   │ ll       │ prod     │ prob        │\n│     │ \u001b[90mFloat64\u001b[39m │ \u001b[90mFloat64\u001b[39m │ \u001b[90mFloat64\u001b[39m  │ \u001b[90mFloat64\u001b[39m  │ \u001b[90mFloat64\u001b[39m     │\n├─────┼─────────┼─────────┼──────────┼──────────┼─────────────┤\n│ 1   │ 140.0   │ 4.0     │ -231.816 │ -241.448 │ 2.65718e-72 │\n│ 2   │ 140.151 │ 4.0     │ -228.889 │ -238.507 │ 5.03162e-71 │\n│ 3   │ 140.302 │ 4.0     │ -225.991 │ -235.594 │ 9.26043e-70 │\n│ 4   │ 140.452 │ 4.0     │ -223.121 │ -232.71  │ 1.6565e-68  │\n│ 5   │ 140.603 │ 4.0     │ -220.279 │ -229.854 │ 2.87999e-67 │\n│ 6   │ 140.754 │ 4.0     │ -217.466 │ -227.027 │ 4.86663e-66 │\n│ 7   │ 140.905 │ 4.0     │ -214.681 │ -224.228 │ 7.99287e-65 │\n│ 8   │ 141.055 │ 4.0     │ -211.925 │ -221.458 │ 1.2759e-63  │\n│ 9   │ 141.206 │ 4.0     │ -209.197 │ -218.716 │ 1.97954e-62 │\n│ 10  │ 141.357 │ 4.0     │ -206.498 │ -216.003 │ 2.98506e-61 │",
      "text/html": [
       "<table class=\"data-frame\"><thead><tr><th></th><th>mu</th><th>sigma</th><th>ll</th><th>prod</th><th>prob</th></tr><tr><th></th><th>Float64</th><th>Float64</th><th>Float64</th><th>Float64</th><th>Float64</th></tr></thead><tbody><p>10 rows × 5 columns</p><tr><th>1</th><td>140.0</td><td>4.0</td><td>-231.816</td><td>-241.448</td><td>2.65718e-72</td></tr><tr><th>2</th><td>140.151</td><td>4.0</td><td>-228.889</td><td>-238.507</td><td>5.03162e-71</td></tr><tr><th>3</th><td>140.302</td><td>4.0</td><td>-225.991</td><td>-235.594</td><td>9.26043e-70</td></tr><tr><th>4</th><td>140.452</td><td>4.0</td><td>-223.121</td><td>-232.71</td><td>1.6565e-68</td></tr><tr><th>5</th><td>140.603</td><td>4.0</td><td>-220.279</td><td>-229.854</td><td>2.87999e-67</td></tr><tr><th>6</th><td>140.754</td><td>4.0</td><td>-217.466</td><td>-227.027</td><td>4.86663e-66</td></tr><tr><th>7</th><td>140.905</td><td>4.0</td><td>-214.681</td><td>-224.228</td><td>7.99287e-65</td></tr><tr><th>8</th><td>141.055</td><td>4.0</td><td>-211.925</td><td>-221.458</td><td>1.2759e-63</td></tr><tr><th>9</th><td>141.206</td><td>4.0</td><td>-209.197</td><td>-218.716</td><td>1.97954e-62</td></tr><tr><th>10</th><td>141.357</td><td>4.0</td><td>-206.498</td><td>-216.003</td><td>2.98506e-61</td></tr></tbody></table>"
      ]
     },
     "metadata": {},
     "execution_count": 6
    }
   ],
   "cell_type": "code",
   "source": [
    "struct Post\n",
    "  mu::Float64\n",
    "  sigma::Float64\n",
    "  ll:: Float64\n",
    "  prod::Float64\n",
    "  prob::Float64\n",
    "end\n",
    "\n",
    "mu_list = repeat(range(140, 170, length=200), 200);\n",
    "sigma_list = repeat(range(4, 20, length=200), inner=200);\n",
    "\n",
    "ll = zeros(40000);\n",
    "for i in 1:40000\n",
    "    d1 = Normal(mu_list[i], sigma_list[i])\n",
    "    ll[i] = sum(log.(pdf.(d1, df3[:height])))\n",
    "end\n",
    "\n",
    "d2 = Normal(178.0, 20.0)\n",
    "d3 = Uniform(0, 50)\n",
    "prod = ll + log.(pdf.(d2, mu_list)) + log.(pdf.(d3, sigma_list))\n",
    "prob = exp.(prod .- maximum(prod))\n",
    "post = DataFrame(mu=mu_list, sigma=sigma_list, ll=ll, prod=prod, prob=prob)\n",
    "first(post, 10)"
   ],
   "metadata": {},
   "execution_count": 6
  },
  {
   "outputs": [],
   "cell_type": "markdown",
   "source": [
    "Sample post"
   ],
   "metadata": {}
  },
  {
   "outputs": [
    {
     "name": "stdout",
     "output_type": "stream",
     "text": [
      "┌ Warning: `getindex(df::DataFrame, col_ind::ColumnIndex)` is deprecated, use `df[!, col_ind]` instead.\n",
      "│   caller = top-level scope at string:1\n",
      "└ @ Core string:1\n"
     ]
    },
    {
     "output_type": "execute_result",
     "data": {
      "text/plain": "10000×5 DataFrame\n│ Row   │ mu      │ sigma   │ ll       │ prod     │ prob     │\n│       │ \u001b[90mFloat64\u001b[39m │ \u001b[90mFloat64\u001b[39m │ \u001b[90mFloat64\u001b[39m  │ \u001b[90mFloat64\u001b[39m  │ \u001b[90mFloat64\u001b[39m  │\n├───────┼─────────┼─────────┼──────────┼──────────┼──────────┤\n│ 1     │ 157.035 │ 7.53769 │ -68.5643 │ -76.9404 │ 0.739622 │\n│ 2     │ 155.829 │ 10.4322 │ -70.2033 │ -78.6444 │ 0.134574 │\n│ 3     │ 154.322 │ 7.29648 │ -68.4986 │ -77.0261 │ 0.678865 │\n│ 4     │ 157.94  │ 10.0302 │ -70.3563 │ -78.686  │ 0.129097 │\n│ 5     │ 156.131 │ 7.13568 │ -68.2552 │ -76.6797 │ 0.959912 │\n│ 6     │ 155.377 │ 8.34171 │ -68.51   │ -76.9764 │ 0.713471 │\n│ 7     │ 155.075 │ 6.25126 │ -68.8144 │ -77.298  │ 0.517238 │\n⋮\n│ 9993  │ 153.568 │ 7.37688 │ -68.9533 │ -77.5262 │ 0.411721 │\n│ 9994  │ 158.241 │ 7.69849 │ -69.4087 │ -77.7234 │ 0.338047 │\n│ 9995  │ 155.377 │ 7.45729 │ -68.2046 │ -76.6711 │ 0.968248 │\n│ 9996  │ 153.869 │ 6.01005 │ -69.9132 │ -78.4678 │ 0.160573 │\n│ 9997  │ 157.337 │ 6.81407 │ -68.94   │ -77.3004 │ 0.516038 │\n│ 9998  │ 155.226 │ 8.1809  │ -68.4403 │ -76.9153 │ 0.758417 │\n│ 9999  │ 156.734 │ 9.94975 │ -69.869  │ -78.261  │ 0.197462 │\n│ 10000 │ 156.583 │ 7.37688 │ -68.3645 │ -76.7646 │ 0.881798 │",
      "text/html": [
       "<table class=\"data-frame\"><thead><tr><th></th><th>mu</th><th>sigma</th><th>ll</th><th>prod</th><th>prob</th></tr><tr><th></th><th>Float64</th><th>Float64</th><th>Float64</th><th>Float64</th><th>Float64</th></tr></thead><tbody><p>10,000 rows × 5 columns</p><tr><th>1</th><td>157.035</td><td>7.53769</td><td>-68.5643</td><td>-76.9404</td><td>0.739622</td></tr><tr><th>2</th><td>155.829</td><td>10.4322</td><td>-70.2033</td><td>-78.6444</td><td>0.134574</td></tr><tr><th>3</th><td>154.322</td><td>7.29648</td><td>-68.4986</td><td>-77.0261</td><td>0.678865</td></tr><tr><th>4</th><td>157.94</td><td>10.0302</td><td>-70.3563</td><td>-78.686</td><td>0.129097</td></tr><tr><th>5</th><td>156.131</td><td>7.13568</td><td>-68.2552</td><td>-76.6797</td><td>0.959912</td></tr><tr><th>6</th><td>155.377</td><td>8.34171</td><td>-68.51</td><td>-76.9764</td><td>0.713471</td></tr><tr><th>7</th><td>155.075</td><td>6.25126</td><td>-68.8144</td><td>-77.298</td><td>0.517238</td></tr><tr><th>8</th><td>157.487</td><td>8.82412</td><td>-69.2623</td><td>-77.615</td><td>0.376751</td></tr><tr><th>9</th><td>154.774</td><td>7.21608</td><td>-68.3254</td><td>-76.8265</td><td>0.82889</td></tr><tr><th>10</th><td>158.995</td><td>10.3518</td><td>-71.1921</td><td>-79.4703</td><td>0.0589255</td></tr><tr><th>11</th><td>156.281</td><td>7.77889</td><td>-68.3348</td><td>-76.7511</td><td>0.893792</td></tr><tr><th>12</th><td>152.362</td><td>7.77889</td><td>-69.9997</td><td>-78.648</td><td>0.134096</td></tr><tr><th>13</th><td>156.884</td><td>8.74372</td><td>-68.9656</td><td>-77.3497</td><td>0.491221</td></tr><tr><th>14</th><td>152.663</td><td>7.8593</td><td>-69.6876</td><td>-78.3167</td><td>0.186755</td></tr><tr><th>15</th><td>156.583</td><td>7.37688</td><td>-68.3645</td><td>-76.7646</td><td>0.881798</td></tr><tr><th>16</th><td>155.678</td><td>6.81407</td><td>-68.2965</td><td>-76.746</td><td>0.898302</td></tr><tr><th>17</th><td>153.869</td><td>7.8593</td><td>-68.7737</td><td>-77.3282</td><td>0.501852</td></tr><tr><th>18</th><td>155.829</td><td>10.593</td><td>-70.3608</td><td>-78.8019</td><td>0.114964</td></tr><tr><th>19</th><td>153.719</td><td>7.53769</td><td>-68.8327</td><td>-77.3963</td><td>0.468812</td></tr><tr><th>20</th><td>154.774</td><td>6.81407</td><td>-68.4448</td><td>-76.9458</td><td>0.735619</td></tr><tr><th>21</th><td>155.678</td><td>7.29648</td><td>-68.1893</td><td>-76.6388</td><td>0.999942</td></tr><tr><th>22</th><td>157.638</td><td>6.01005</td><td>-70.22</td><td>-78.565</td><td>0.145701</td></tr><tr><th>23</th><td>154.774</td><td>9.22613</td><td>-69.1941</td><td>-77.6951</td><td>0.347728</td></tr><tr><th>24</th><td>155.528</td><td>6.57286</td><td>-68.4384</td><td>-76.8963</td><td>0.772971</td></tr><tr><th>&vellip;</th><td>&vellip;</td><td>&vellip;</td><td>&vellip;</td><td>&vellip;</td><td>&vellip;</td></tr></tbody></table>"
      ]
     },
     "metadata": {},
     "execution_count": 7
    }
   ],
   "cell_type": "code",
   "source": [
    "samples = post[sample(1:size(post, 1), Weights(post[:prob]), 10000, replace=true), :]"
   ],
   "metadata": {},
   "execution_count": 7
  },
  {
   "outputs": [],
   "cell_type": "markdown",
   "source": [
    "### Snippet 4.23"
   ],
   "metadata": {}
  },
  {
   "outputs": [],
   "cell_type": "markdown",
   "source": [
    "Density of sigma"
   ],
   "metadata": {}
  },
  {
   "outputs": [
    {
     "name": "stdout",
     "output_type": "stream",
     "text": [
      "┌ Warning: `getindex(df::DataFrame, col_ind::ColumnIndex)` is deprecated, use `df[!, col_ind]` instead.\n",
      "│   caller = top-level scope at string:1\n",
      "└ @ Core string:1\n"
     ]
    },
    {
     "output_type": "execute_result",
     "data": {
      "text/plain": "Plot{Plots.GRBackend() n=1}",
      "image/png": "[encoded data removed]",
      "text/html": [
       "<?xml version=\"1.0\" encoding=\"utf-8\"?>\n",
       "<svg xmlns=\"http://www.w3.org/2000/svg\" xmlns:xlink=\"http://www.w3.org/1999/xlink\" width=\"600\" height=\"400\" viewBox=\"0 0 2400 1600\">\n",
       "<defs>\n",
       "  <clipPath id=\"clip4600\">\n",
       "    <rect x=\"0\" y=\"0\" width=\"2400\" height=\"1600\"/>\n",
       "  </clipPath>\n",
       "</defs>\n",
       "<polygon clip-path=\"url(#clip4600)\" points=\"\n",
       "0,1600 2400,1600 2400,0 0,0 \n",
       "  \" fill=\"#ffffff\" fill-rule=\"evenodd\" fill-opacity=\"1\"/>\n",
       "<defs>\n",
       "  <clipPath id=\"clip4601\">\n",
       "    <rect x=\"480\" y=\"0\" width=\"1681\" height=\"1600\"/>\n",
       "  </clipPath>\n",
       "</defs>\n",
       "<polygon clip-path=\"url(#clip4600)\" points=\"\n",
       "153.898,1487.47 2352.76,1487.47 2352.76,47.2441 153.898,47.2441 \n",
       "  \" fill=\"#ffffff\" fill-rule=\"evenodd\" fill-opacity=\"1\"/>\n",
       "<defs>\n",
       "  <clipPath id=\"clip4602\">\n",
       "    <rect x=\"153\" y=\"47\" width=\"2200\" height=\"1441\"/>\n",
       "  </clipPath>\n",
       "</defs>\n",
       "<polyline clip-path=\"url(#clip4602)\" style=\"stroke:#000000; stroke-width:2; stroke-opacity:0.1; fill:none\" points=\"\n",
       "  557.272,1487.47 557.272,47.2441 \n",
       "  \"/>\n",
       "<polyline clip-path=\"url(#clip4602)\" style=\"stroke:#000000; stroke-width:2; stroke-opacity:0.1; fill:none\" points=\"\n",
       "  1007.97,1487.47 1007.97,47.2441 \n",
       "  \"/>\n",
       "<polyline clip-path=\"url(#clip4602)\" style=\"stroke:#000000; stroke-width:2; stroke-opacity:0.1; fill:none\" points=\"\n",
       "  1458.67,1487.47 1458.67,47.2441 \n",
       "  \"/>\n",
       "<polyline clip-path=\"url(#clip4602)\" style=\"stroke:#000000; stroke-width:2; stroke-opacity:0.1; fill:none\" points=\"\n",
       "  1909.37,1487.47 1909.37,47.2441 \n",
       "  \"/>\n",
       "<polyline clip-path=\"url(#clip4602)\" style=\"stroke:#000000; stroke-width:2; stroke-opacity:0.1; fill:none\" points=\"\n",
       "  153.898,1446.71 2352.76,1446.71 \n",
       "  \"/>\n",
       "<polyline clip-path=\"url(#clip4602)\" style=\"stroke:#000000; stroke-width:2; stroke-opacity:0.1; fill:none\" points=\"\n",
       "  153.898,1010.71 2352.76,1010.71 \n",
       "  \"/>\n",
       "<polyline clip-path=\"url(#clip4602)\" style=\"stroke:#000000; stroke-width:2; stroke-opacity:0.1; fill:none\" points=\"\n",
       "  153.898,574.711 2352.76,574.711 \n",
       "  \"/>\n",
       "<polyline clip-path=\"url(#clip4602)\" style=\"stroke:#000000; stroke-width:2; stroke-opacity:0.1; fill:none\" points=\"\n",
       "  153.898,138.709 2352.76,138.709 \n",
       "  \"/>\n",
       "<polyline clip-path=\"url(#clip4600)\" style=\"stroke:#000000; stroke-width:4; stroke-opacity:1; fill:none\" points=\"\n",
       "  153.898,1487.47 2352.76,1487.47 \n",
       "  \"/>\n",
       "<polyline clip-path=\"url(#clip4600)\" style=\"stroke:#000000; stroke-width:4; stroke-opacity:1; fill:none\" points=\"\n",
       "  153.898,1487.47 153.898,47.2441 \n",
       "  \"/>\n",
       "<polyline clip-path=\"url(#clip4600)\" style=\"stroke:#000000; stroke-width:4; stroke-opacity:1; fill:none\" points=\"\n",
       "  557.272,1487.47 557.272,1465.87 \n",
       "  \"/>\n",
       "<polyline clip-path=\"url(#clip4600)\" style=\"stroke:#000000; stroke-width:4; stroke-opacity:1; fill:none\" points=\"\n",
       "  1007.97,1487.47 1007.97,1465.87 \n",
       "  \"/>\n",
       "<polyline clip-path=\"url(#clip4600)\" style=\"stroke:#000000; stroke-width:4; stroke-opacity:1; fill:none\" points=\"\n",
       "  1458.67,1487.47 1458.67,1465.87 \n",
       "  \"/>\n",
       "<polyline clip-path=\"url(#clip4600)\" style=\"stroke:#000000; stroke-width:4; stroke-opacity:1; fill:none\" points=\"\n",
       "  1909.37,1487.47 1909.37,1465.87 \n",
       "  \"/>\n",
       "<polyline clip-path=\"url(#clip4600)\" style=\"stroke:#000000; stroke-width:4; stroke-opacity:1; fill:none\" points=\"\n",
       "  153.898,1446.71 186.881,1446.71 \n",
       "  \"/>\n",
       "<polyline clip-path=\"url(#clip4600)\" style=\"stroke:#000000; stroke-width:4; stroke-opacity:1; fill:none\" points=\"\n",
       "  153.898,1010.71 186.881,1010.71 \n",
       "  \"/>\n",
       "<polyline clip-path=\"url(#clip4600)\" style=\"stroke:#000000; stroke-width:4; stroke-opacity:1; fill:none\" points=\"\n",
       "  153.898,574.711 186.881,574.711 \n",
       "  \"/>\n",
       "<polyline clip-path=\"url(#clip4600)\" style=\"stroke:#000000; stroke-width:4; stroke-opacity:1; fill:none\" points=\"\n",
       "  153.898,138.709 186.881,138.709 \n",
       "  \"/>\n",
       "<g clip-path=\"url(#clip4600)\">\n",
       "<text style=\"fill:#000000; fill-opacity:1; font-family:Arial,Helvetica Neue,Helvetica,sans-serif; font-size:48px; text-anchor:middle;\" transform=\"rotate(0, 557.272, 1541.47)\" x=\"557.272\" y=\"1541.47\">6</text>\n",
       "</g>\n",
       "<g clip-path=\"url(#clip4600)\">\n",
       "<text style=\"fill:#000000; fill-opacity:1; font-family:Arial,Helvetica Neue,Helvetica,sans-serif; font-size:48px; text-anchor:middle;\" transform=\"rotate(0, 1007.97, 1541.47)\" x=\"1007.97\" y=\"1541.47\">9</text>\n",
       "</g>\n",
       "<g clip-path=\"url(#clip4600)\">\n",
       "<text style=\"fill:#000000; fill-opacity:1; font-family:Arial,Helvetica Neue,Helvetica,sans-serif; font-size:48px; text-anchor:middle;\" transform=\"rotate(0, 1458.67, 1541.47)\" x=\"1458.67\" y=\"1541.47\">12</text>\n",
       "</g>\n",
       "<g clip-path=\"url(#clip4600)\">\n",
       "<text style=\"fill:#000000; fill-opacity:1; font-family:Arial,Helvetica Neue,Helvetica,sans-serif; font-size:48px; text-anchor:middle;\" transform=\"rotate(0, 1909.37, 1541.47)\" x=\"1909.37\" y=\"1541.47\">15</text>\n",
       "</g>\n",
       "<g clip-path=\"url(#clip4600)\">\n",
       "<text style=\"fill:#000000; fill-opacity:1; font-family:Arial,Helvetica Neue,Helvetica,sans-serif; font-size:48px; text-anchor:end;\" transform=\"rotate(0, 129.898, 1464.21)\" x=\"129.898\" y=\"1464.21\">0.0</text>\n",
       "</g>\n",
       "<g clip-path=\"url(#clip4600)\">\n",
       "<text style=\"fill:#000000; fill-opacity:1; font-family:Arial,Helvetica Neue,Helvetica,sans-serif; font-size:48px; text-anchor:end;\" transform=\"rotate(0, 129.898, 1028.21)\" x=\"129.898\" y=\"1028.21\">0.1</text>\n",
       "</g>\n",
       "<g clip-path=\"url(#clip4600)\">\n",
       "<text style=\"fill:#000000; fill-opacity:1; font-family:Arial,Helvetica Neue,Helvetica,sans-serif; font-size:48px; text-anchor:end;\" transform=\"rotate(0, 129.898, 592.211)\" x=\"129.898\" y=\"592.211\">0.2</text>\n",
       "</g>\n",
       "<g clip-path=\"url(#clip4600)\">\n",
       "<text style=\"fill:#000000; fill-opacity:1; font-family:Arial,Helvetica Neue,Helvetica,sans-serif; font-size:48px; text-anchor:end;\" transform=\"rotate(0, 129.898, 156.209)\" x=\"129.898\" y=\"156.209\">0.3</text>\n",
       "</g>\n",
       "<polyline clip-path=\"url(#clip4602)\" style=\"stroke:#009af9; stroke-width:4; stroke-opacity:1; fill:none\" points=\"\n",
       "  216.13,1446.71 226.554,1446.71 236.978,1446.71 247.402,1446.7 257.826,1446.67 268.25,1446.61 278.674,1446.49 289.098,1446.3 299.523,1446.02 309.947,1445.67 \n",
       "  320.371,1445.3 330.795,1444.93 341.219,1444.56 351.643,1444.06 362.067,1443.15 372.491,1441.42 382.915,1438.37 393.339,1433.58 403.763,1426.79 414.188,1417.96 \n",
       "  424.612,1407.22 435.036,1394.56 445.46,1379.71 455.884,1362.13 466.308,1341.2 476.732,1316.61 487.156,1288.49 497.58,1257.29 508.004,1223.32 518.428,1186.42 \n",
       "  528.853,1145.9 539.277,1101.09 549.701,1052.01 560.125,999.611 570.549,945.173 580.973,889.381 591.397,831.726 601.821,770.9 612.245,705.946 622.669,637.332 \n",
       "  633.093,567.226 643.518,498.794 653.942,435.013 664.366,377.689 674.79,327.212 685.214,283.11 695.638,245.031 706.062,213.344 716.486,188.727 726.91,170.937 \n",
       "  737.334,157.88 747.758,146.145 758.183,132.851 768.607,117.471 779.031,102.287 789.455,91.2384 799.879,88.0053 810.303,94.2995 820.727,109.058 831.151,128.875 \n",
       "  841.575,149.658 851.999,168.776 862.423,186.395 872.848,204.958 883.272,227.176 893.696,254.124 904.12,284.871 914.544,317.68 924.968,351.546 935.392,386.832 \n",
       "  945.816,424.656 956.24,465.662 966.664,509.079 977.089,552.717 987.513,593.948 997.937,631.126 1008.36,664.537 1018.78,696.193 1029.21,728.493 1039.63,762.638 \n",
       "  1050.06,797.887 1060.48,832.115 1070.91,863.215 1081.33,890.425 1091.75,914.789 1102.18,938.506 1112.6,963.579 1123.03,990.631 1133.45,1018.67 1143.87,1045.91 \n",
       "  1154.3,1070.94 1164.72,1093.4 1175.15,1113.74 1185.57,1132.45 1195.99,1149.62 1206.42,1165.09 1216.84,1179.11 1227.27,1192.65 1237.69,1207.01 1248.11,1223 \n",
       "  1258.54,1240.39 1268.96,1258.04 1279.39,1274.52 1289.81,1288.78 1300.24,1300.5 1310.66,1310.03 1321.08,1318.05 1331.51,1325.36 1341.93,1332.52 1352.36,1339.81 \n",
       "  1362.78,1347.13 1373.2,1354.17 1383.63,1360.58 1394.05,1366.16 1404.48,1370.95 1414.9,1375.27 1425.32,1379.57 1435.75,1384.19 1446.17,1389.18 1456.6,1394.2 \n",
       "  1467.02,1398.71 1477.44,1402.15 1487.87,1404.29 1498.29,1405.25 1508.72,1405.56 1519.14,1405.88 1529.57,1406.8 1539.99,1408.58 1550.41,1411.09 1560.84,1413.99 \n",
       "  1571.26,1416.98 1581.69,1419.93 1592.11,1422.85 1602.53,1425.75 1612.96,1428.52 1623.38,1430.97 1633.81,1432.96 1644.23,1434.43 1654.65,1435.48 1665.08,1436.25 \n",
       "  1675.5,1436.81 1685.93,1437.16 1696.35,1437.2 1706.77,1436.85 1717.2,1436.13 1727.62,1435.28 1738.05,1434.62 1748.47,1434.43 1758.9,1434.81 1769.32,1435.61 \n",
       "  1779.74,1436.58 1790.17,1437.45 1800.59,1438.1 1811.02,1438.54 1821.44,1438.88 1831.86,1439.2 1842.29,1439.48 1852.71,1439.67 1863.14,1439.76 1873.56,1439.86 \n",
       "  1883.98,1440.13 1894.41,1440.69 1904.83,1441.51 1915.26,1442.41 1925.68,1443.2 1936.1,1443.74 1946.53,1444.03 1956.95,1444.17 1967.38,1444.24 1977.8,1444.31 \n",
       "  1988.23,1444.36 1998.65,1444.41 2009.07,1444.52 2019.5,1444.72 2029.92,1445.03 2040.35,1445.4 2050.77,1445.73 2061.19,1445.94 2071.62,1445.99 2082.04,1445.93 \n",
       "  2092.47,1445.82 2102.89,1445.75 2113.31,1445.76 2123.74,1445.82 2134.16,1445.88 2144.59,1445.89 2155.01,1445.84 2165.43,1445.78 2175.86,1445.76 2186.28,1445.83 \n",
       "  2196.71,1445.98 2207.13,1446.18 2217.56,1446.37 2227.98,1446.52 2238.4,1446.62 2248.83,1446.67 2259.25,1446.7 2269.68,1446.71 2280.1,1446.71 2290.52,1446.71 \n",
       "  \n",
       "  \"/>\n",
       "<polygon clip-path=\"url(#clip4600)\" points=\"\n",
       "1989.93,251.724 2280.76,251.724 2280.76,130.764 1989.93,130.764 \n",
       "  \" fill=\"#ffffff\" fill-rule=\"evenodd\" fill-opacity=\"1\"/>\n",
       "<polyline clip-path=\"url(#clip4600)\" style=\"stroke:#000000; stroke-width:4; stroke-opacity:1; fill:none\" points=\"\n",
       "  1989.93,251.724 2280.76,251.724 2280.76,130.764 1989.93,130.764 1989.93,251.724 \n",
       "  \"/>\n",
       "<polyline clip-path=\"url(#clip4600)\" style=\"stroke:#009af9; stroke-width:4; stroke-opacity:1; fill:none\" points=\"\n",
       "  2013.93,191.244 2157.93,191.244 \n",
       "  \"/>\n",
       "<g clip-path=\"url(#clip4600)\">\n",
       "<text style=\"fill:#000000; fill-opacity:1; font-family:Arial,Helvetica Neue,Helvetica,sans-serif; font-size:48px; text-anchor:start;\" transform=\"rotate(0, 2181.93, 208.744)\" x=\"2181.93\" y=\"208.744\">y1</text>\n",
       "</g>\n",
       "</svg>\n"
      ],
      "image/svg+xml": [
       "<?xml version=\"1.0\" encoding=\"utf-8\"?>\n",
       "<svg xmlns=\"http://www.w3.org/2000/svg\" xmlns:xlink=\"http://www.w3.org/1999/xlink\" width=\"600\" height=\"400\" viewBox=\"0 0 2400 1600\">\n",
       "<defs>\n",
       "  <clipPath id=\"clip4300\">\n",
       "    <rect x=\"0\" y=\"0\" width=\"2400\" height=\"1600\"/>\n",
       "  </clipPath>\n",
       "</defs>\n",
       "<polygon clip-path=\"url(#clip4300)\" points=\"\n",
       "0,1600 2400,1600 2400,0 0,0 \n",
       "  \" fill=\"#ffffff\" fill-rule=\"evenodd\" fill-opacity=\"1\"/>\n",
       "<defs>\n",
       "  <clipPath id=\"clip4301\">\n",
       "    <rect x=\"480\" y=\"0\" width=\"1681\" height=\"1600\"/>\n",
       "  </clipPath>\n",
       "</defs>\n",
       "<polygon clip-path=\"url(#clip4300)\" points=\"\n",
       "153.898,1487.47 2352.76,1487.47 2352.76,47.2441 153.898,47.2441 \n",
       "  \" fill=\"#ffffff\" fill-rule=\"evenodd\" fill-opacity=\"1\"/>\n",
       "<defs>\n",
       "  <clipPath id=\"clip4302\">\n",
       "    <rect x=\"153\" y=\"47\" width=\"2200\" height=\"1441\"/>\n",
       "  </clipPath>\n",
       "</defs>\n",
       "<polyline clip-path=\"url(#clip4302)\" style=\"stroke:#000000; stroke-width:2; stroke-opacity:0.1; fill:none\" points=\"\n",
       "  557.272,1487.47 557.272,47.2441 \n",
       "  \"/>\n",
       "<polyline clip-path=\"url(#clip4302)\" style=\"stroke:#000000; stroke-width:2; stroke-opacity:0.1; fill:none\" points=\"\n",
       "  1007.97,1487.47 1007.97,47.2441 \n",
       "  \"/>\n",
       "<polyline clip-path=\"url(#clip4302)\" style=\"stroke:#000000; stroke-width:2; stroke-opacity:0.1; fill:none\" points=\"\n",
       "  1458.67,1487.47 1458.67,47.2441 \n",
       "  \"/>\n",
       "<polyline clip-path=\"url(#clip4302)\" style=\"stroke:#000000; stroke-width:2; stroke-opacity:0.1; fill:none\" points=\"\n",
       "  1909.37,1487.47 1909.37,47.2441 \n",
       "  \"/>\n",
       "<polyline clip-path=\"url(#clip4302)\" style=\"stroke:#000000; stroke-width:2; stroke-opacity:0.1; fill:none\" points=\"\n",
       "  153.898,1446.71 2352.76,1446.71 \n",
       "  \"/>\n",
       "<polyline clip-path=\"url(#clip4302)\" style=\"stroke:#000000; stroke-width:2; stroke-opacity:0.1; fill:none\" points=\"\n",
       "  153.898,1010.71 2352.76,1010.71 \n",
       "  \"/>\n",
       "<polyline clip-path=\"url(#clip4302)\" style=\"stroke:#000000; stroke-width:2; stroke-opacity:0.1; fill:none\" points=\"\n",
       "  153.898,574.711 2352.76,574.711 \n",
       "  \"/>\n",
       "<polyline clip-path=\"url(#clip4302)\" style=\"stroke:#000000; stroke-width:2; stroke-opacity:0.1; fill:none\" points=\"\n",
       "  153.898,138.709 2352.76,138.709 \n",
       "  \"/>\n",
       "<polyline clip-path=\"url(#clip4300)\" style=\"stroke:#000000; stroke-width:4; stroke-opacity:1; fill:none\" points=\"\n",
       "  153.898,1487.47 2352.76,1487.47 \n",
       "  \"/>\n",
       "<polyline clip-path=\"url(#clip4300)\" style=\"stroke:#000000; stroke-width:4; stroke-opacity:1; fill:none\" points=\"\n",
       "  153.898,1487.47 153.898,47.2441 \n",
       "  \"/>\n",
       "<polyline clip-path=\"url(#clip4300)\" style=\"stroke:#000000; stroke-width:4; stroke-opacity:1; fill:none\" points=\"\n",
       "  557.272,1487.47 557.272,1465.87 \n",
       "  \"/>\n",
       "<polyline clip-path=\"url(#clip4300)\" style=\"stroke:#000000; stroke-width:4; stroke-opacity:1; fill:none\" points=\"\n",
       "  1007.97,1487.47 1007.97,1465.87 \n",
       "  \"/>\n",
       "<polyline clip-path=\"url(#clip4300)\" style=\"stroke:#000000; stroke-width:4; stroke-opacity:1; fill:none\" points=\"\n",
       "  1458.67,1487.47 1458.67,1465.87 \n",
       "  \"/>\n",
       "<polyline clip-path=\"url(#clip4300)\" style=\"stroke:#000000; stroke-width:4; stroke-opacity:1; fill:none\" points=\"\n",
       "  1909.37,1487.47 1909.37,1465.87 \n",
       "  \"/>\n",
       "<polyline clip-path=\"url(#clip4300)\" style=\"stroke:#000000; stroke-width:4; stroke-opacity:1; fill:none\" points=\"\n",
       "  153.898,1446.71 186.881,1446.71 \n",
       "  \"/>\n",
       "<polyline clip-path=\"url(#clip4300)\" style=\"stroke:#000000; stroke-width:4; stroke-opacity:1; fill:none\" points=\"\n",
       "  153.898,1010.71 186.881,1010.71 \n",
       "  \"/>\n",
       "<polyline clip-path=\"url(#clip4300)\" style=\"stroke:#000000; stroke-width:4; stroke-opacity:1; fill:none\" points=\"\n",
       "  153.898,574.711 186.881,574.711 \n",
       "  \"/>\n",
       "<polyline clip-path=\"url(#clip4300)\" style=\"stroke:#000000; stroke-width:4; stroke-opacity:1; fill:none\" points=\"\n",
       "  153.898,138.709 186.881,138.709 \n",
       "  \"/>\n",
       "<g clip-path=\"url(#clip4300)\">\n",
       "<text style=\"fill:#000000; fill-opacity:1; font-family:Arial,Helvetica Neue,Helvetica,sans-serif; font-size:48px; text-anchor:middle;\" transform=\"rotate(0, 557.272, 1541.47)\" x=\"557.272\" y=\"1541.47\">6</text>\n",
       "</g>\n",
       "<g clip-path=\"url(#clip4300)\">\n",
       "<text style=\"fill:#000000; fill-opacity:1; font-family:Arial,Helvetica Neue,Helvetica,sans-serif; font-size:48px; text-anchor:middle;\" transform=\"rotate(0, 1007.97, 1541.47)\" x=\"1007.97\" y=\"1541.47\">9</text>\n",
       "</g>\n",
       "<g clip-path=\"url(#clip4300)\">\n",
       "<text style=\"fill:#000000; fill-opacity:1; font-family:Arial,Helvetica Neue,Helvetica,sans-serif; font-size:48px; text-anchor:middle;\" transform=\"rotate(0, 1458.67, 1541.47)\" x=\"1458.67\" y=\"1541.47\">12</text>\n",
       "</g>\n",
       "<g clip-path=\"url(#clip4300)\">\n",
       "<text style=\"fill:#000000; fill-opacity:1; font-family:Arial,Helvetica Neue,Helvetica,sans-serif; font-size:48px; text-anchor:middle;\" transform=\"rotate(0, 1909.37, 1541.47)\" x=\"1909.37\" y=\"1541.47\">15</text>\n",
       "</g>\n",
       "<g clip-path=\"url(#clip4300)\">\n",
       "<text style=\"fill:#000000; fill-opacity:1; font-family:Arial,Helvetica Neue,Helvetica,sans-serif; font-size:48px; text-anchor:end;\" transform=\"rotate(0, 129.898, 1464.21)\" x=\"129.898\" y=\"1464.21\">0.0</text>\n",
       "</g>\n",
       "<g clip-path=\"url(#clip4300)\">\n",
       "<text style=\"fill:#000000; fill-opacity:1; font-family:Arial,Helvetica Neue,Helvetica,sans-serif; font-size:48px; text-anchor:end;\" transform=\"rotate(0, 129.898, 1028.21)\" x=\"129.898\" y=\"1028.21\">0.1</text>\n",
       "</g>\n",
       "<g clip-path=\"url(#clip4300)\">\n",
       "<text style=\"fill:#000000; fill-opacity:1; font-family:Arial,Helvetica Neue,Helvetica,sans-serif; font-size:48px; text-anchor:end;\" transform=\"rotate(0, 129.898, 592.211)\" x=\"129.898\" y=\"592.211\">0.2</text>\n",
       "</g>\n",
       "<g clip-path=\"url(#clip4300)\">\n",
       "<text style=\"fill:#000000; fill-opacity:1; font-family:Arial,Helvetica Neue,Helvetica,sans-serif; font-size:48px; text-anchor:end;\" transform=\"rotate(0, 129.898, 156.209)\" x=\"129.898\" y=\"156.209\">0.3</text>\n",
       "</g>\n",
       "<polyline clip-path=\"url(#clip4302)\" style=\"stroke:#009af9; stroke-width:4; stroke-opacity:1; fill:none\" points=\"\n",
       "  216.13,1446.71 226.554,1446.71 236.978,1446.71 247.402,1446.7 257.826,1446.67 268.25,1446.61 278.674,1446.49 289.098,1446.3 299.523,1446.02 309.947,1445.67 \n",
       "  320.371,1445.3 330.795,1444.93 341.219,1444.56 351.643,1444.06 362.067,1443.15 372.491,1441.42 382.915,1438.37 393.339,1433.58 403.763,1426.79 414.188,1417.96 \n",
       "  424.612,1407.22 435.036,1394.56 445.46,1379.71 455.884,1362.13 466.308,1341.2 476.732,1316.61 487.156,1288.49 497.58,1257.29 508.004,1223.32 518.428,1186.42 \n",
       "  528.853,1145.9 539.277,1101.09 549.701,1052.01 560.125,999.611 570.549,945.173 580.973,889.381 591.397,831.726 601.821,770.9 612.245,705.946 622.669,637.332 \n",
       "  633.093,567.226 643.518,498.794 653.942,435.013 664.366,377.689 674.79,327.212 685.214,283.11 695.638,245.031 706.062,213.344 716.486,188.727 726.91,170.937 \n",
       "  737.334,157.88 747.758,146.145 758.183,132.851 768.607,117.471 779.031,102.287 789.455,91.2384 799.879,88.0053 810.303,94.2995 820.727,109.058 831.151,128.875 \n",
       "  841.575,149.658 851.999,168.776 862.423,186.395 872.848,204.958 883.272,227.176 893.696,254.124 904.12,284.871 914.544,317.68 924.968,351.546 935.392,386.832 \n",
       "  945.816,424.656 956.24,465.662 966.664,509.079 977.089,552.717 987.513,593.948 997.937,631.126 1008.36,664.537 1018.78,696.193 1029.21,728.493 1039.63,762.638 \n",
       "  1050.06,797.887 1060.48,832.115 1070.91,863.215 1081.33,890.425 1091.75,914.789 1102.18,938.506 1112.6,963.579 1123.03,990.631 1133.45,1018.67 1143.87,1045.91 \n",
       "  1154.3,1070.94 1164.72,1093.4 1175.15,1113.74 1185.57,1132.45 1195.99,1149.62 1206.42,1165.09 1216.84,1179.11 1227.27,1192.65 1237.69,1207.01 1248.11,1223 \n",
       "  1258.54,1240.39 1268.96,1258.04 1279.39,1274.52 1289.81,1288.78 1300.24,1300.5 1310.66,1310.03 1321.08,1318.05 1331.51,1325.36 1341.93,1332.52 1352.36,1339.81 \n",
       "  1362.78,1347.13 1373.2,1354.17 1383.63,1360.58 1394.05,1366.16 1404.48,1370.95 1414.9,1375.27 1425.32,1379.57 1435.75,1384.19 1446.17,1389.18 1456.6,1394.2 \n",
       "  1467.02,1398.71 1477.44,1402.15 1487.87,1404.29 1498.29,1405.25 1508.72,1405.56 1519.14,1405.88 1529.57,1406.8 1539.99,1408.58 1550.41,1411.09 1560.84,1413.99 \n",
       "  1571.26,1416.98 1581.69,1419.93 1592.11,1422.85 1602.53,1425.75 1612.96,1428.52 1623.38,1430.97 1633.81,1432.96 1644.23,1434.43 1654.65,1435.48 1665.08,1436.25 \n",
       "  1675.5,1436.81 1685.93,1437.16 1696.35,1437.2 1706.77,1436.85 1717.2,1436.13 1727.62,1435.28 1738.05,1434.62 1748.47,1434.43 1758.9,1434.81 1769.32,1435.61 \n",
       "  1779.74,1436.58 1790.17,1437.45 1800.59,1438.1 1811.02,1438.54 1821.44,1438.88 1831.86,1439.2 1842.29,1439.48 1852.71,1439.67 1863.14,1439.76 1873.56,1439.86 \n",
       "  1883.98,1440.13 1894.41,1440.69 1904.83,1441.51 1915.26,1442.41 1925.68,1443.2 1936.1,1443.74 1946.53,1444.03 1956.95,1444.17 1967.38,1444.24 1977.8,1444.31 \n",
       "  1988.23,1444.36 1998.65,1444.41 2009.07,1444.52 2019.5,1444.72 2029.92,1445.03 2040.35,1445.4 2050.77,1445.73 2061.19,1445.94 2071.62,1445.99 2082.04,1445.93 \n",
       "  2092.47,1445.82 2102.89,1445.75 2113.31,1445.76 2123.74,1445.82 2134.16,1445.88 2144.59,1445.89 2155.01,1445.84 2165.43,1445.78 2175.86,1445.76 2186.28,1445.83 \n",
       "  2196.71,1445.98 2207.13,1446.18 2217.56,1446.37 2227.98,1446.52 2238.4,1446.62 2248.83,1446.67 2259.25,1446.7 2269.68,1446.71 2280.1,1446.71 2290.52,1446.71 \n",
       "  \n",
       "  \"/>\n",
       "<polygon clip-path=\"url(#clip4300)\" points=\"\n",
       "1989.93,251.724 2280.76,251.724 2280.76,130.764 1989.93,130.764 \n",
       "  \" fill=\"#ffffff\" fill-rule=\"evenodd\" fill-opacity=\"1\"/>\n",
       "<polyline clip-path=\"url(#clip4300)\" style=\"stroke:#000000; stroke-width:4; stroke-opacity:1; fill:none\" points=\"\n",
       "  1989.93,251.724 2280.76,251.724 2280.76,130.764 1989.93,130.764 1989.93,251.724 \n",
       "  \"/>\n",
       "<polyline clip-path=\"url(#clip4300)\" style=\"stroke:#009af9; stroke-width:4; stroke-opacity:1; fill:none\" points=\"\n",
       "  2013.93,191.244 2157.93,191.244 \n",
       "  \"/>\n",
       "<g clip-path=\"url(#clip4300)\">\n",
       "<text style=\"fill:#000000; fill-opacity:1; font-family:Arial,Helvetica Neue,Helvetica,sans-serif; font-size:48px; text-anchor:start;\" transform=\"rotate(0, 2181.93, 208.744)\" x=\"2181.93\" y=\"208.744\">y1</text>\n",
       "</g>\n",
       "</svg>\n"
      ]
     },
     "metadata": {},
     "execution_count": 8
    }
   ],
   "cell_type": "code",
   "source": [
    "density(samples[:sigma])"
   ],
   "metadata": {},
   "execution_count": 8
  },
  {
   "outputs": [],
   "cell_type": "markdown",
   "source": [
    "End of `clip-21-23.jl`"
   ],
   "metadata": {}
  },
  {
   "outputs": [],
   "cell_type": "markdown",
   "source": [
    "*This notebook was generated using [Literate.jl](https://github.com/fredrikekre/Literate.jl).*"
   ],
   "metadata": {}
  }
 ],
 "nbformat_minor": 3,
 "metadata": {
  "language_info": {
   "file_extension": ".jl",
   "mimetype": "application/julia",
   "name": "julia",
   "version": "1.3.0-DEV.568"
  },
  "kernelspec": {
   "name": "julia-1.3",
   "display_name": "Julia 1.3.0-DEV.568",
   "language": "julia"
  }
 },
 "nbformat": 4
}
