{
 "cells": [
  {
   "outputs": [],
   "cell_type": "markdown",
   "source": [
    "Load Julia packages (libraries) needed  for the snippets in chapter 0"
   ],
   "metadata": {}
  },
  {
   "outputs": [],
   "cell_type": "code",
   "source": [
    "using StatisticalRethinking, CmdStan, StanMCMCChain\n",
    "gr(size=(500,500));"
   ],
   "metadata": {},
   "execution_count": 1
  },
  {
   "outputs": [],
   "cell_type": "markdown",
   "source": [
    "CmdStan uses a tmp directory to store the output of cmdstan"
   ],
   "metadata": {}
  },
  {
   "outputs": [],
   "cell_type": "code",
   "source": [
    "ProjDir = rel_path(\"..\", \"scripts\", \"04\")\n",
    "cd(ProjDir)"
   ],
   "metadata": {},
   "execution_count": 2
  },
  {
   "outputs": [],
   "cell_type": "markdown",
   "source": [
    "CmdStan uses a tmp directory to store the output of cmdstan"
   ],
   "metadata": {}
  },
  {
   "outputs": [],
   "cell_type": "code",
   "source": [
    "ProjDir = rel_path(\"..\", \"scripts\", \"04\")\n",
    "cd(ProjDir)"
   ],
   "metadata": {},
   "execution_count": 3
  },
  {
   "outputs": [
    {
     "output_type": "execute_result",
     "data": {
      "text/plain": "5×4 DataFrame\n│ Row │ height   │ weight   │ age      │ male   │\n│     │ \u001b[90mFloat64⍰\u001b[39m │ \u001b[90mFloat64⍰\u001b[39m │ \u001b[90mFloat64⍰\u001b[39m │ \u001b[90mInt64⍰\u001b[39m │\n├─────┼──────────┼──────────┼──────────┼────────┤\n│ 1   │ 151.765  │ 47.8256  │ 63.0     │ 1      │\n│ 2   │ 139.7    │ 36.4858  │ 63.0     │ 0      │\n│ 3   │ 136.525  │ 31.8648  │ 65.0     │ 0      │\n│ 4   │ 156.845  │ 53.0419  │ 41.0     │ 1      │\n│ 5   │ 145.415  │ 41.2769  │ 51.0     │ 0      │",
      "text/html": [
       "<table class=\"data-frame\"><thead><tr><th></th><th>height</th><th>weight</th><th>age</th><th>male</th></tr><tr><th></th><th>Float64⍰</th><th>Float64⍰</th><th>Float64⍰</th><th>Int64⍰</th></tr></thead><tbody><p>5 rows × 4 columns</p><tr><th>1</th><td>151.765</td><td>47.8256</td><td>63.0</td><td>1</td></tr><tr><th>2</th><td>139.7</td><td>36.4858</td><td>63.0</td><td>0</td></tr><tr><th>3</th><td>136.525</td><td>31.8648</td><td>65.0</td><td>0</td></tr><tr><th>4</th><td>156.845</td><td>53.0419</td><td>41.0</td><td>1</td></tr><tr><th>5</th><td>145.415</td><td>41.2769</td><td>51.0</td><td>0</td></tr></tbody></table>"
      ]
     },
     "metadata": {},
     "execution_count": 4
    }
   ],
   "cell_type": "code",
   "source": [
    "howell1 = CSV.read(rel_path(\"..\", \"data\", \"Howell1.csv\"), delim=';')\n",
    "df = convert(DataFrame, howell1);\n",
    "df2 = filter(row -> row[:age] >= 18, df);\n",
    "first(df2, 5)"
   ],
   "metadata": {},
   "execution_count": 4
  },
  {
   "outputs": [],
   "cell_type": "markdown",
   "source": [
    "### Snippet 4.21"
   ],
   "metadata": {}
  },
  {
   "outputs": [],
   "cell_type": "markdown",
   "source": [
    "Sample 20 random heights"
   ],
   "metadata": {}
  },
  {
   "outputs": [],
   "cell_type": "code",
   "source": [
    "n = size(df2, 1)\n",
    "selected_ind = sample(1:n, 20, replace=false);\n",
    "df3 = df2[selected_ind, :];"
   ],
   "metadata": {},
   "execution_count": 5
  },
  {
   "outputs": [],
   "cell_type": "markdown",
   "source": [
    "### Snippet 4.22"
   ],
   "metadata": {}
  },
  {
   "outputs": [],
   "cell_type": "markdown",
   "source": [
    "Generate approximate probabilities"
   ],
   "metadata": {}
  },
  {
   "outputs": [
    {
     "output_type": "execute_result",
     "data": {
      "text/plain": "10×5 DataFrame\n│ Row │ mu      │ sigma   │ ll       │ prod     │ prob        │\n│     │ \u001b[90mFloat64\u001b[39m │ \u001b[90mFloat64\u001b[39m │ \u001b[90mFloat64\u001b[39m  │ \u001b[90mFloat64\u001b[39m  │ \u001b[90mFloat64\u001b[39m     │\n├─────┼─────────┼─────────┼──────────┼──────────┼─────────────┤\n│ 1   │ 140.0   │ 4.0     │ -248.306 │ -257.938 │ 2.39506e-78 │\n│ 2   │ 140.151 │ 4.0     │ -245.316 │ -254.934 │ 4.82989e-77 │\n│ 3   │ 140.302 │ 4.0     │ -242.355 │ -251.958 │ 9.46665e-76 │\n│ 4   │ 140.452 │ 4.0     │ -239.422 │ -249.011 │ 1.8034e-74  │\n│ 5   │ 140.603 │ 4.0     │ -236.518 │ -246.092 │ 3.33908e-73 │\n│ 6   │ 140.754 │ 4.0     │ -233.642 │ -243.202 │ 6.00896e-72 │\n│ 7   │ 140.905 │ 4.0     │ -230.794 │ -240.341 │ 1.05101e-70 │\n│ 8   │ 141.055 │ 4.0     │ -227.975 │ -237.507 │ 1.78672e-69 │\n│ 9   │ 141.206 │ 4.0     │ -225.184 │ -234.703 │ 2.95217e-68 │\n│ 10  │ 141.357 │ 4.0     │ -222.421 │ -231.926 │ 4.74094e-67 │",
      "text/html": [
       "<table class=\"data-frame\"><thead><tr><th></th><th>mu</th><th>sigma</th><th>ll</th><th>prod</th><th>prob</th></tr><tr><th></th><th>Float64</th><th>Float64</th><th>Float64</th><th>Float64</th><th>Float64</th></tr></thead><tbody><p>10 rows × 5 columns</p><tr><th>1</th><td>140.0</td><td>4.0</td><td>-248.306</td><td>-257.938</td><td>2.39506e-78</td></tr><tr><th>2</th><td>140.151</td><td>4.0</td><td>-245.316</td><td>-254.934</td><td>4.82989e-77</td></tr><tr><th>3</th><td>140.302</td><td>4.0</td><td>-242.355</td><td>-251.958</td><td>9.46665e-76</td></tr><tr><th>4</th><td>140.452</td><td>4.0</td><td>-239.422</td><td>-249.011</td><td>1.8034e-74</td></tr><tr><th>5</th><td>140.603</td><td>4.0</td><td>-236.518</td><td>-246.092</td><td>3.33908e-73</td></tr><tr><th>6</th><td>140.754</td><td>4.0</td><td>-233.642</td><td>-243.202</td><td>6.00896e-72</td></tr><tr><th>7</th><td>140.905</td><td>4.0</td><td>-230.794</td><td>-240.341</td><td>1.05101e-70</td></tr><tr><th>8</th><td>141.055</td><td>4.0</td><td>-227.975</td><td>-237.507</td><td>1.78672e-69</td></tr><tr><th>9</th><td>141.206</td><td>4.0</td><td>-225.184</td><td>-234.703</td><td>2.95217e-68</td></tr><tr><th>10</th><td>141.357</td><td>4.0</td><td>-222.421</td><td>-231.926</td><td>4.74094e-67</td></tr></tbody></table>"
      ]
     },
     "metadata": {},
     "execution_count": 6
    }
   ],
   "cell_type": "code",
   "source": [
    "struct Post\n",
    "  mu::Float64\n",
    "  sigma::Float64\n",
    "  ll:: Float64\n",
    "  prod::Float64\n",
    "  prob::Float64\n",
    "end\n",
    "\n",
    "mu_list = repeat(range(140, 170, length=200), 200);\n",
    "sigma_list = repeat(range(4, 20, length=200), inner=200);\n",
    "\n",
    "ll = zeros(40000);\n",
    "for i in 1:40000\n",
    "    d1 = Normal(mu_list[i], sigma_list[i])\n",
    "    ll[i] = sum(log.(pdf.(d1, df3[:height])))\n",
    "end\n",
    "\n",
    "d2 = Normal(178.0, 20.0)\n",
    "d3 = Uniform(0, 50)\n",
    "prod = ll + log.(pdf.(d2, mu_list)) + log.(pdf.(d3, sigma_list))\n",
    "prob = exp.(prod .- maximum(prod))\n",
    "post = DataFrame(mu=mu_list, sigma=sigma_list, ll=ll, prod=prod, prob=prob)\n",
    "first(post, 10)"
   ],
   "metadata": {},
   "execution_count": 6
  },
  {
   "outputs": [],
   "cell_type": "markdown",
   "source": [
    "Sample post"
   ],
   "metadata": {}
  },
  {
   "outputs": [
    {
     "output_type": "execute_result",
     "data": {
      "text/plain": "10000×5 DataFrame\n│ Row   │ mu      │ sigma   │ ll       │ prod     │ prob     │\n│       │ \u001b[90mFloat64\u001b[39m │ \u001b[90mFloat64\u001b[39m │ \u001b[90mFloat64\u001b[39m  │ \u001b[90mFloat64\u001b[39m  │ \u001b[90mFloat64\u001b[39m  │\n├───────┼─────────┼─────────┼──────────┼──────────┼──────────┤\n│ 1     │ 158.09  │ 8.66332 │ -71.4251 │ -79.7473 │ 0.583983 │\n│ 2     │ 156.281 │ 8.26131 │ -70.7981 │ -79.2145 │ 0.994995 │\n│ 3     │ 155.377 │ 8.74372 │ -70.8665 │ -79.3329 │ 0.883849 │\n│ 4     │ 154.925 │ 8.26131 │ -70.9324 │ -79.4247 │ 0.806321 │\n│ 5     │ 152.965 │ 7.9397  │ -72.2325 │ -80.8427 │ 0.1953   │\n│ 6     │ 159.296 │ 9.86935 │ -72.45   │ -80.7139 │ 0.222127 │\n│ 7     │ 158.844 │ 10.1106 │ -72.2655 │ -80.5509 │ 0.261471 │\n⋮\n│ 9993  │ 155.377 │ 8.34171 │ -70.8254 │ -79.2919 │ 0.920873 │\n│ 9994  │ 156.281 │ 10.7538 │ -71.8964 │ -80.3127 │ 0.331793 │\n│ 9995  │ 159.749 │ 9.70854 │ -72.7418 │ -80.9849 │ 0.169409 │\n│ 9996  │ 154.925 │ 8.26131 │ -70.9324 │ -79.4247 │ 0.806321 │\n│ 9997  │ 155.98  │ 8.58291 │ -70.7972 │ -79.23   │ 0.979615 │\n│ 9998  │ 155.226 │ 9.70854 │ -71.2575 │ -79.7325 │ 0.59268  │\n│ 9999  │ 157.94  │ 8.1005  │ -71.4048 │ -79.7345 │ 0.591539 │\n│ 10000 │ 157.638 │ 7.9397  │ -71.2847 │ -79.6296 │ 0.656912 │",
      "text/html": [
       "<table class=\"data-frame\"><thead><tr><th></th><th>mu</th><th>sigma</th><th>ll</th><th>prod</th><th>prob</th></tr><tr><th></th><th>Float64</th><th>Float64</th><th>Float64</th><th>Float64</th><th>Float64</th></tr></thead><tbody><p>10,000 rows × 5 columns</p><tr><th>1</th><td>158.09</td><td>8.66332</td><td>-71.4251</td><td>-79.7473</td><td>0.583983</td></tr><tr><th>2</th><td>156.281</td><td>8.26131</td><td>-70.7981</td><td>-79.2145</td><td>0.994995</td></tr><tr><th>3</th><td>155.377</td><td>8.74372</td><td>-70.8665</td><td>-79.3329</td><td>0.883849</td></tr><tr><th>4</th><td>154.925</td><td>8.26131</td><td>-70.9324</td><td>-79.4247</td><td>0.806321</td></tr><tr><th>5</th><td>152.965</td><td>7.9397</td><td>-72.2325</td><td>-80.8427</td><td>0.1953</td></tr><tr><th>6</th><td>159.296</td><td>9.86935</td><td>-72.45</td><td>-80.7139</td><td>0.222127</td></tr><tr><th>7</th><td>158.844</td><td>10.1106</td><td>-72.2655</td><td>-80.5509</td><td>0.261471</td></tr><tr><th>8</th><td>157.186</td><td>7.29648</td><td>-71.4562</td><td>-79.8244</td><td>0.540665</td></tr><tr><th>9</th><td>157.186</td><td>7.45729</td><td>-71.3235</td><td>-79.6917</td><td>0.617375</td></tr><tr><th>10</th><td>158.543</td><td>8.50251</td><td>-71.7243</td><td>-80.0243</td><td>0.442718</td></tr><tr><th>11</th><td>155.678</td><td>9.06533</td><td>-70.9229</td><td>-79.3724</td><td>0.849627</td></tr><tr><th>12</th><td>155.98</td><td>8.34171</td><td>-70.7799</td><td>-79.2127</td><td>0.996697</td></tr><tr><th>13</th><td>155.075</td><td>8.26131</td><td>-70.8909</td><td>-79.3745</td><td>0.847856</td></tr><tr><th>14</th><td>159.146</td><td>12.1206</td><td>-73.7011</td><td>-81.9721</td><td>0.0631213</td></tr><tr><th>15</th><td>158.693</td><td>10.2714</td><td>-72.2637</td><td>-80.5563</td><td>0.260052</td></tr><tr><th>16</th><td>156.583</td><td>9.30653</td><td>-71.0551</td><td>-79.4552</td><td>0.782102</td></tr><tr><th>17</th><td>156.734</td><td>7.53769</td><td>-71.105</td><td>-79.497</td><td>0.75011</td></tr><tr><th>18</th><td>154.925</td><td>9.14573</td><td>-71.0667</td><td>-79.559</td><td>0.705011</td></tr><tr><th>19</th><td>154.623</td><td>8.42211</td><td>-71.0268</td><td>-79.5366</td><td>0.720982</td></tr><tr><th>20</th><td>158.693</td><td>6.89447</td><td>-73.1904</td><td>-81.4831</td><td>0.102939</td></tr><tr><th>21</th><td>155.528</td><td>9.46734</td><td>-71.0993</td><td>-79.5572</td><td>0.706257</td></tr><tr><th>22</th><td>154.925</td><td>9.70854</td><td>-71.3129</td><td>-79.8052</td><td>0.551152</td></tr><tr><th>23</th><td>160.05</td><td>7.05528</td><td>-74.7921</td><td>-83.0215</td><td>0.0221023</td></tr><tr><th>24</th><td>154.925</td><td>9.14573</td><td>-71.0667</td><td>-79.559</td><td>0.705011</td></tr><tr><th>&vellip;</th><td>&vellip;</td><td>&vellip;</td><td>&vellip;</td><td>&vellip;</td><td>&vellip;</td></tr></tbody></table>"
      ]
     },
     "metadata": {},
     "execution_count": 7
    }
   ],
   "cell_type": "code",
   "source": [
    "samples = post[sample(1:size(post, 1), Weights(post[:prob]), 10000, replace=true), :]"
   ],
   "metadata": {},
   "execution_count": 7
  },
  {
   "outputs": [],
   "cell_type": "markdown",
   "source": [
    "### Snippet 4.23"
   ],
   "metadata": {}
  },
  {
   "outputs": [],
   "cell_type": "markdown",
   "source": [
    "Density of sigma"
   ],
   "metadata": {}
  },
  {
   "outputs": [
    {
     "output_type": "execute_result",
     "data": {
      "text/plain": "Plot{Plots.GRBackend() n=1}",
      "image/png": "[encoded data removed]",
      "text/html": [
       "<?xml version=\"1.0\" encoding=\"utf-8\"?>\n",
       "<svg xmlns=\"http://www.w3.org/2000/svg\" xmlns:xlink=\"http://www.w3.org/1999/xlink\" width=\"500\" height=\"500\" viewBox=\"0 0 2000 2000\">\n",
       "<defs>\n",
       "  <clipPath id=\"clip9200\">\n",
       "    <rect x=\"0\" y=\"0\" width=\"2000\" height=\"2000\"/>\n",
       "  </clipPath>\n",
       "</defs>\n",
       "<polygon clip-path=\"url(#clip9200)\" points=\"\n",
       "0,2000 2000,2000 2000,0 0,0 \n",
       "  \" fill=\"#ffffff\" fill-rule=\"evenodd\" fill-opacity=\"1\"/>\n",
       "<defs>\n",
       "  <clipPath id=\"clip9201\">\n",
       "    <rect x=\"400\" y=\"200\" width=\"1401\" height=\"1401\"/>\n",
       "  </clipPath>\n",
       "</defs>\n",
       "<polygon clip-path=\"url(#clip9200)\" points=\"\n",
       "188.156,1886.71 1921.26,1886.71 1921.26,47.2441 188.156,47.2441 \n",
       "  \" fill=\"#ffffff\" fill-rule=\"evenodd\" fill-opacity=\"1\"/>\n",
       "<defs>\n",
       "  <clipPath id=\"clip9202\">\n",
       "    <rect x=\"188\" y=\"47\" width=\"1734\" height=\"1840\"/>\n",
       "  </clipPath>\n",
       "</defs>\n",
       "<polyline clip-path=\"url(#clip9202)\" style=\"stroke:#000000; stroke-width:2; stroke-opacity:0.1; fill:none\" points=\"\n",
       "  414.649,1886.71 414.649,47.2441 \n",
       "  \"/>\n",
       "<polyline clip-path=\"url(#clip9202)\" style=\"stroke:#000000; stroke-width:2; stroke-opacity:0.1; fill:none\" points=\"\n",
       "  722.31,1886.71 722.31,47.2441 \n",
       "  \"/>\n",
       "<polyline clip-path=\"url(#clip9202)\" style=\"stroke:#000000; stroke-width:2; stroke-opacity:0.1; fill:none\" points=\"\n",
       "  1029.97,1886.71 1029.97,47.2441 \n",
       "  \"/>\n",
       "<polyline clip-path=\"url(#clip9202)\" style=\"stroke:#000000; stroke-width:2; stroke-opacity:0.1; fill:none\" points=\"\n",
       "  1337.63,1886.71 1337.63,47.2441 \n",
       "  \"/>\n",
       "<polyline clip-path=\"url(#clip9202)\" style=\"stroke:#000000; stroke-width:2; stroke-opacity:0.1; fill:none\" points=\"\n",
       "  1645.29,1886.71 1645.29,47.2441 \n",
       "  \"/>\n",
       "<polyline clip-path=\"url(#clip9202)\" style=\"stroke:#000000; stroke-width:2; stroke-opacity:0.1; fill:none\" points=\"\n",
       "  188.156,1834.65 1921.26,1834.65 \n",
       "  \"/>\n",
       "<polyline clip-path=\"url(#clip9202)\" style=\"stroke:#000000; stroke-width:2; stroke-opacity:0.1; fill:none\" points=\"\n",
       "  188.156,1503.41 1921.26,1503.41 \n",
       "  \"/>\n",
       "<polyline clip-path=\"url(#clip9202)\" style=\"stroke:#000000; stroke-width:2; stroke-opacity:0.1; fill:none\" points=\"\n",
       "  188.156,1172.16 1921.26,1172.16 \n",
       "  \"/>\n",
       "<polyline clip-path=\"url(#clip9202)\" style=\"stroke:#000000; stroke-width:2; stroke-opacity:0.1; fill:none\" points=\"\n",
       "  188.156,840.922 1921.26,840.922 \n",
       "  \"/>\n",
       "<polyline clip-path=\"url(#clip9202)\" style=\"stroke:#000000; stroke-width:2; stroke-opacity:0.1; fill:none\" points=\"\n",
       "  188.156,509.68 1921.26,509.68 \n",
       "  \"/>\n",
       "<polyline clip-path=\"url(#clip9202)\" style=\"stroke:#000000; stroke-width:2; stroke-opacity:0.1; fill:none\" points=\"\n",
       "  188.156,178.438 1921.26,178.438 \n",
       "  \"/>\n",
       "<polyline clip-path=\"url(#clip9200)\" style=\"stroke:#000000; stroke-width:4; stroke-opacity:1; fill:none\" points=\"\n",
       "  188.156,1886.71 1921.26,1886.71 \n",
       "  \"/>\n",
       "<polyline clip-path=\"url(#clip9200)\" style=\"stroke:#000000; stroke-width:4; stroke-opacity:1; fill:none\" points=\"\n",
       "  188.156,1886.71 188.156,47.2441 \n",
       "  \"/>\n",
       "<polyline clip-path=\"url(#clip9200)\" style=\"stroke:#000000; stroke-width:4; stroke-opacity:1; fill:none\" points=\"\n",
       "  414.649,1886.71 414.649,1859.12 \n",
       "  \"/>\n",
       "<polyline clip-path=\"url(#clip9200)\" style=\"stroke:#000000; stroke-width:4; stroke-opacity:1; fill:none\" points=\"\n",
       "  722.31,1886.71 722.31,1859.12 \n",
       "  \"/>\n",
       "<polyline clip-path=\"url(#clip9200)\" style=\"stroke:#000000; stroke-width:4; stroke-opacity:1; fill:none\" points=\"\n",
       "  1029.97,1886.71 1029.97,1859.12 \n",
       "  \"/>\n",
       "<polyline clip-path=\"url(#clip9200)\" style=\"stroke:#000000; stroke-width:4; stroke-opacity:1; fill:none\" points=\"\n",
       "  1337.63,1886.71 1337.63,1859.12 \n",
       "  \"/>\n",
       "<polyline clip-path=\"url(#clip9200)\" style=\"stroke:#000000; stroke-width:4; stroke-opacity:1; fill:none\" points=\"\n",
       "  1645.29,1886.71 1645.29,1859.12 \n",
       "  \"/>\n",
       "<polyline clip-path=\"url(#clip9200)\" style=\"stroke:#000000; stroke-width:4; stroke-opacity:1; fill:none\" points=\"\n",
       "  188.156,1834.65 214.153,1834.65 \n",
       "  \"/>\n",
       "<polyline clip-path=\"url(#clip9200)\" style=\"stroke:#000000; stroke-width:4; stroke-opacity:1; fill:none\" points=\"\n",
       "  188.156,1503.41 214.153,1503.41 \n",
       "  \"/>\n",
       "<polyline clip-path=\"url(#clip9200)\" style=\"stroke:#000000; stroke-width:4; stroke-opacity:1; fill:none\" points=\"\n",
       "  188.156,1172.16 214.153,1172.16 \n",
       "  \"/>\n",
       "<polyline clip-path=\"url(#clip9200)\" style=\"stroke:#000000; stroke-width:4; stroke-opacity:1; fill:none\" points=\"\n",
       "  188.156,840.922 214.153,840.922 \n",
       "  \"/>\n",
       "<polyline clip-path=\"url(#clip9200)\" style=\"stroke:#000000; stroke-width:4; stroke-opacity:1; fill:none\" points=\"\n",
       "  188.156,509.68 214.153,509.68 \n",
       "  \"/>\n",
       "<polyline clip-path=\"url(#clip9200)\" style=\"stroke:#000000; stroke-width:4; stroke-opacity:1; fill:none\" points=\"\n",
       "  188.156,178.438 214.153,178.438 \n",
       "  \"/>\n",
       "<g clip-path=\"url(#clip9200)\">\n",
       "<text style=\"fill:#000000; fill-opacity:1; font-family:Arial,Helvetica Neue,Helvetica,sans-serif; font-size:48px; text-anchor:middle;\" transform=\"rotate(0, 414.649, 1938.71)\" x=\"414.649\" y=\"1938.71\">6</text>\n",
       "</g>\n",
       "<g clip-path=\"url(#clip9200)\">\n",
       "<text style=\"fill:#000000; fill-opacity:1; font-family:Arial,Helvetica Neue,Helvetica,sans-serif; font-size:48px; text-anchor:middle;\" transform=\"rotate(0, 722.31, 1938.71)\" x=\"722.31\" y=\"1938.71\">9</text>\n",
       "</g>\n",
       "<g clip-path=\"url(#clip9200)\">\n",
       "<text style=\"fill:#000000; fill-opacity:1; font-family:Arial,Helvetica Neue,Helvetica,sans-serif; font-size:48px; text-anchor:middle;\" transform=\"rotate(0, 1029.97, 1938.71)\" x=\"1029.97\" y=\"1938.71\">12</text>\n",
       "</g>\n",
       "<g clip-path=\"url(#clip9200)\">\n",
       "<text style=\"fill:#000000; fill-opacity:1; font-family:Arial,Helvetica Neue,Helvetica,sans-serif; font-size:48px; text-anchor:middle;\" transform=\"rotate(0, 1337.63, 1938.71)\" x=\"1337.63\" y=\"1938.71\">15</text>\n",
       "</g>\n",
       "<g clip-path=\"url(#clip9200)\">\n",
       "<text style=\"fill:#000000; fill-opacity:1; font-family:Arial,Helvetica Neue,Helvetica,sans-serif; font-size:48px; text-anchor:middle;\" transform=\"rotate(0, 1645.29, 1938.71)\" x=\"1645.29\" y=\"1938.71\">18</text>\n",
       "</g>\n",
       "<g clip-path=\"url(#clip9200)\">\n",
       "<text style=\"fill:#000000; fill-opacity:1; font-family:Arial,Helvetica Neue,Helvetica,sans-serif; font-size:48px; text-anchor:end;\" transform=\"rotate(0, 168.156, 1852.15)\" x=\"168.156\" y=\"1852.15\">0.00</text>\n",
       "</g>\n",
       "<g clip-path=\"url(#clip9200)\">\n",
       "<text style=\"fill:#000000; fill-opacity:1; font-family:Arial,Helvetica Neue,Helvetica,sans-serif; font-size:48px; text-anchor:end;\" transform=\"rotate(0, 168.156, 1520.91)\" x=\"168.156\" y=\"1520.91\">0.05</text>\n",
       "</g>\n",
       "<g clip-path=\"url(#clip9200)\">\n",
       "<text style=\"fill:#000000; fill-opacity:1; font-family:Arial,Helvetica Neue,Helvetica,sans-serif; font-size:48px; text-anchor:end;\" transform=\"rotate(0, 168.156, 1189.66)\" x=\"168.156\" y=\"1189.66\">0.10</text>\n",
       "</g>\n",
       "<g clip-path=\"url(#clip9200)\">\n",
       "<text style=\"fill:#000000; fill-opacity:1; font-family:Arial,Helvetica Neue,Helvetica,sans-serif; font-size:48px; text-anchor:end;\" transform=\"rotate(0, 168.156, 858.422)\" x=\"168.156\" y=\"858.422\">0.15</text>\n",
       "</g>\n",
       "<g clip-path=\"url(#clip9200)\">\n",
       "<text style=\"fill:#000000; fill-opacity:1; font-family:Arial,Helvetica Neue,Helvetica,sans-serif; font-size:48px; text-anchor:end;\" transform=\"rotate(0, 168.156, 527.18)\" x=\"168.156\" y=\"527.18\">0.20</text>\n",
       "</g>\n",
       "<g clip-path=\"url(#clip9200)\">\n",
       "<text style=\"fill:#000000; fill-opacity:1; font-family:Arial,Helvetica Neue,Helvetica,sans-serif; font-size:48px; text-anchor:end;\" transform=\"rotate(0, 168.156, 195.938)\" x=\"168.156\" y=\"195.938\">0.25</text>\n",
       "</g>\n",
       "<polyline clip-path=\"url(#clip9202)\" style=\"stroke:#009af9; stroke-width:4; stroke-opacity:1; fill:none\" points=\"\n",
       "  237.206,1834.65 245.423,1834.65 253.639,1834.64 261.855,1834.63 270.071,1834.59 278.287,1834.51 286.503,1834.37 294.719,1834.15 302.935,1833.84 311.151,1833.46 \n",
       "  319.367,1833 327.584,1832.35 335.8,1831.3 344.016,1829.47 352.232,1826.41 360.448,1821.65 368.664,1814.77 376.88,1805.51 385.096,1793.82 393.312,1779.84 \n",
       "  401.528,1763.65 409.745,1744.87 417.961,1722.37 426.177,1694.21 434.393,1658.23 442.609,1612.87 450.825,1557.97 459.041,1495.13 467.257,1427.34 475.473,1357.96 \n",
       "  483.689,1289.57 491.905,1223.23 500.122,1158.47 508.338,1094.12 516.554,1029.23 524.77,963.393 532.986,896.587 541.202,828.705 549.418,759.468 557.634,688.769 \n",
       "  565.85,617.077 574.066,545.556 582.283,475.847 590.499,409.753 598.715,348.871 606.931,294.17 615.147,245.759 623.363,203.226 631.579,166.501 639.795,136.512 \n",
       "  648.011,114.838 656.227,102.552 664.444,99.3044 672.66,103.405 680.876,112.603 689.092,124.648 697.308,137.302 705.524,148.382 713.74,156.477 721.956,162.059 \n",
       "  730.172,167.861 738.388,177.736 746.604,194.589 754.821,218.973 763.037,249.525 771.253,284.783 779.469,324.761 787.685,370.944 795.901,424.841 804.117,486.463 \n",
       "  812.333,553.864 820.549,623.809 828.765,692.76 836.982,757.574 845.198,815.918 853.414,866.623 861.63,909.969 869.846,947.653 878.062,982.262 886.278,1016.42 \n",
       "  894.494,1051.94 902.71,1089.45 910.926,1128.45 919.143,1167.82 927.359,1206.3 935.575,1242.76 943.791,1276.35 952.007,1306.58 960.223,1333.39 968.439,1357.17 \n",
       "  976.655,1378.58 984.871,1398.34 993.087,1416.9 1001.3,1434.34 1009.52,1450.65 1017.74,1466.19 1025.95,1481.91 1034.17,1498.99 1042.38,1518.05 1050.6,1538.56 \n",
       "  1058.82,1559.1 1067.03,1578.2 1075.25,1595.29 1083.46,1610.81 1091.68,1625.5 1099.9,1639.63 1108.11,1652.77 1116.33,1664.41 1124.54,1674.6 1132.76,1684.05 \n",
       "  1140.98,1693.57 1149.19,1703.5 1157.41,1713.67 1165.63,1723.73 1173.84,1733.45 1182.06,1742.71 1190.27,1751.25 1198.49,1758.58 1206.71,1764.23 1214.92,1768.15 \n",
       "  1223.14,1770.83 1231.35,1773.07 1239.57,1775.52 1247.79,1778.35 1256,1781.33 1264.22,1784.12 1272.43,1786.56 1280.65,1788.69 1288.87,1790.58 1297.08,1792.34 \n",
       "  1305.3,1794.1 1313.52,1796.01 1321.73,1798.18 1329.95,1800.55 1338.16,1802.89 1346.38,1804.96 1354.6,1806.69 1362.81,1808.17 1371.03,1809.46 1379.24,1810.5 \n",
       "  1387.46,1811.22 1395.68,1811.65 1403.89,1811.98 1412.11,1812.54 1420.32,1813.5 1428.54,1814.83 1436.76,1816.31 1444.97,1817.75 1453.19,1819.1 1461.4,1820.55 \n",
       "  1469.62,1822.26 1477.84,1824.28 1486.05,1826.44 1494.27,1828.41 1502.49,1829.87 1510.7,1830.65 1518.92,1830.8 1527.13,1830.55 1535.35,1830.2 1543.57,1830.01 \n",
       "  1551.78,1830.09 1560,1830.43 1568.21,1830.88 1576.43,1831.26 1584.65,1831.48 1592.86,1831.49 1601.08,1831.34 1609.29,1831.14 1617.51,1831.01 1625.73,1831.08 \n",
       "  1633.94,1831.41 1642.16,1831.97 1650.38,1832.65 1658.59,1833.32 1666.81,1833.85 1675.02,1834.21 1683.24,1834.38 1691.46,1834.39 1699.67,1834.27 1707.89,1834.05 \n",
       "  1716.1,1833.78 1724.32,1833.53 1732.54,1833.36 1740.75,1833.29 1748.97,1833.31 1757.18,1833.33 1765.4,1833.33 1773.62,1833.3 1781.83,1833.31 1790.05,1833.41 \n",
       "  1798.26,1833.62 1806.48,1833.9 1814.7,1834.16 1822.91,1834.37 1831.13,1834.51 1839.35,1834.59 1847.56,1834.63 1855.78,1834.64 1863.99,1834.65 1872.21,1834.65 \n",
       "  \n",
       "  \"/>\n",
       "<polygon clip-path=\"url(#clip9200)\" points=\"\n",
       "1610.43,227.724 1861.26,227.724 1861.26,106.764 1610.43,106.764 \n",
       "  \" fill=\"#ffffff\" fill-rule=\"evenodd\" fill-opacity=\"1\"/>\n",
       "<polyline clip-path=\"url(#clip9200)\" style=\"stroke:#000000; stroke-width:4; stroke-opacity:1; fill:none\" points=\"\n",
       "  1610.43,227.724 1861.26,227.724 1861.26,106.764 1610.43,106.764 1610.43,227.724 \n",
       "  \"/>\n",
       "<polyline clip-path=\"url(#clip9200)\" style=\"stroke:#009af9; stroke-width:4; stroke-opacity:1; fill:none\" points=\"\n",
       "  1630.43,167.244 1750.43,167.244 \n",
       "  \"/>\n",
       "<g clip-path=\"url(#clip9200)\">\n",
       "<text style=\"fill:#000000; fill-opacity:1; font-family:Arial,Helvetica Neue,Helvetica,sans-serif; font-size:48px; text-anchor:start;\" transform=\"rotate(0, 1770.43, 184.744)\" x=\"1770.43\" y=\"184.744\">y1</text>\n",
       "</g>\n",
       "</svg>\n"
      ],
      "image/svg+xml": [
       "<?xml version=\"1.0\" encoding=\"utf-8\"?>\n",
       "<svg xmlns=\"http://www.w3.org/2000/svg\" xmlns:xlink=\"http://www.w3.org/1999/xlink\" width=\"500\" height=\"500\" viewBox=\"0 0 2000 2000\">\n",
       "<defs>\n",
       "  <clipPath id=\"clip9100\">\n",
       "    <rect x=\"0\" y=\"0\" width=\"2000\" height=\"2000\"/>\n",
       "  </clipPath>\n",
       "</defs>\n",
       "<polygon clip-path=\"url(#clip9100)\" points=\"\n",
       "0,2000 2000,2000 2000,0 0,0 \n",
       "  \" fill=\"#ffffff\" fill-rule=\"evenodd\" fill-opacity=\"1\"/>\n",
       "<defs>\n",
       "  <clipPath id=\"clip9101\">\n",
       "    <rect x=\"400\" y=\"200\" width=\"1401\" height=\"1401\"/>\n",
       "  </clipPath>\n",
       "</defs>\n",
       "<polygon clip-path=\"url(#clip9100)\" points=\"\n",
       "188.156,1886.71 1921.26,1886.71 1921.26,47.2441 188.156,47.2441 \n",
       "  \" fill=\"#ffffff\" fill-rule=\"evenodd\" fill-opacity=\"1\"/>\n",
       "<defs>\n",
       "  <clipPath id=\"clip9102\">\n",
       "    <rect x=\"188\" y=\"47\" width=\"1734\" height=\"1840\"/>\n",
       "  </clipPath>\n",
       "</defs>\n",
       "<polyline clip-path=\"url(#clip9102)\" style=\"stroke:#000000; stroke-width:2; stroke-opacity:0.1; fill:none\" points=\"\n",
       "  414.649,1886.71 414.649,47.2441 \n",
       "  \"/>\n",
       "<polyline clip-path=\"url(#clip9102)\" style=\"stroke:#000000; stroke-width:2; stroke-opacity:0.1; fill:none\" points=\"\n",
       "  722.31,1886.71 722.31,47.2441 \n",
       "  \"/>\n",
       "<polyline clip-path=\"url(#clip9102)\" style=\"stroke:#000000; stroke-width:2; stroke-opacity:0.1; fill:none\" points=\"\n",
       "  1029.97,1886.71 1029.97,47.2441 \n",
       "  \"/>\n",
       "<polyline clip-path=\"url(#clip9102)\" style=\"stroke:#000000; stroke-width:2; stroke-opacity:0.1; fill:none\" points=\"\n",
       "  1337.63,1886.71 1337.63,47.2441 \n",
       "  \"/>\n",
       "<polyline clip-path=\"url(#clip9102)\" style=\"stroke:#000000; stroke-width:2; stroke-opacity:0.1; fill:none\" points=\"\n",
       "  1645.29,1886.71 1645.29,47.2441 \n",
       "  \"/>\n",
       "<polyline clip-path=\"url(#clip9102)\" style=\"stroke:#000000; stroke-width:2; stroke-opacity:0.1; fill:none\" points=\"\n",
       "  188.156,1834.65 1921.26,1834.65 \n",
       "  \"/>\n",
       "<polyline clip-path=\"url(#clip9102)\" style=\"stroke:#000000; stroke-width:2; stroke-opacity:0.1; fill:none\" points=\"\n",
       "  188.156,1503.41 1921.26,1503.41 \n",
       "  \"/>\n",
       "<polyline clip-path=\"url(#clip9102)\" style=\"stroke:#000000; stroke-width:2; stroke-opacity:0.1; fill:none\" points=\"\n",
       "  188.156,1172.16 1921.26,1172.16 \n",
       "  \"/>\n",
       "<polyline clip-path=\"url(#clip9102)\" style=\"stroke:#000000; stroke-width:2; stroke-opacity:0.1; fill:none\" points=\"\n",
       "  188.156,840.922 1921.26,840.922 \n",
       "  \"/>\n",
       "<polyline clip-path=\"url(#clip9102)\" style=\"stroke:#000000; stroke-width:2; stroke-opacity:0.1; fill:none\" points=\"\n",
       "  188.156,509.68 1921.26,509.68 \n",
       "  \"/>\n",
       "<polyline clip-path=\"url(#clip9102)\" style=\"stroke:#000000; stroke-width:2; stroke-opacity:0.1; fill:none\" points=\"\n",
       "  188.156,178.438 1921.26,178.438 \n",
       "  \"/>\n",
       "<polyline clip-path=\"url(#clip9100)\" style=\"stroke:#000000; stroke-width:4; stroke-opacity:1; fill:none\" points=\"\n",
       "  188.156,1886.71 1921.26,1886.71 \n",
       "  \"/>\n",
       "<polyline clip-path=\"url(#clip9100)\" style=\"stroke:#000000; stroke-width:4; stroke-opacity:1; fill:none\" points=\"\n",
       "  188.156,1886.71 188.156,47.2441 \n",
       "  \"/>\n",
       "<polyline clip-path=\"url(#clip9100)\" style=\"stroke:#000000; stroke-width:4; stroke-opacity:1; fill:none\" points=\"\n",
       "  414.649,1886.71 414.649,1859.12 \n",
       "  \"/>\n",
       "<polyline clip-path=\"url(#clip9100)\" style=\"stroke:#000000; stroke-width:4; stroke-opacity:1; fill:none\" points=\"\n",
       "  722.31,1886.71 722.31,1859.12 \n",
       "  \"/>\n",
       "<polyline clip-path=\"url(#clip9100)\" style=\"stroke:#000000; stroke-width:4; stroke-opacity:1; fill:none\" points=\"\n",
       "  1029.97,1886.71 1029.97,1859.12 \n",
       "  \"/>\n",
       "<polyline clip-path=\"url(#clip9100)\" style=\"stroke:#000000; stroke-width:4; stroke-opacity:1; fill:none\" points=\"\n",
       "  1337.63,1886.71 1337.63,1859.12 \n",
       "  \"/>\n",
       "<polyline clip-path=\"url(#clip9100)\" style=\"stroke:#000000; stroke-width:4; stroke-opacity:1; fill:none\" points=\"\n",
       "  1645.29,1886.71 1645.29,1859.12 \n",
       "  \"/>\n",
       "<polyline clip-path=\"url(#clip9100)\" style=\"stroke:#000000; stroke-width:4; stroke-opacity:1; fill:none\" points=\"\n",
       "  188.156,1834.65 214.153,1834.65 \n",
       "  \"/>\n",
       "<polyline clip-path=\"url(#clip9100)\" style=\"stroke:#000000; stroke-width:4; stroke-opacity:1; fill:none\" points=\"\n",
       "  188.156,1503.41 214.153,1503.41 \n",
       "  \"/>\n",
       "<polyline clip-path=\"url(#clip9100)\" style=\"stroke:#000000; stroke-width:4; stroke-opacity:1; fill:none\" points=\"\n",
       "  188.156,1172.16 214.153,1172.16 \n",
       "  \"/>\n",
       "<polyline clip-path=\"url(#clip9100)\" style=\"stroke:#000000; stroke-width:4; stroke-opacity:1; fill:none\" points=\"\n",
       "  188.156,840.922 214.153,840.922 \n",
       "  \"/>\n",
       "<polyline clip-path=\"url(#clip9100)\" style=\"stroke:#000000; stroke-width:4; stroke-opacity:1; fill:none\" points=\"\n",
       "  188.156,509.68 214.153,509.68 \n",
       "  \"/>\n",
       "<polyline clip-path=\"url(#clip9100)\" style=\"stroke:#000000; stroke-width:4; stroke-opacity:1; fill:none\" points=\"\n",
       "  188.156,178.438 214.153,178.438 \n",
       "  \"/>\n",
       "<g clip-path=\"url(#clip9100)\">\n",
       "<text style=\"fill:#000000; fill-opacity:1; font-family:Arial,Helvetica Neue,Helvetica,sans-serif; font-size:48px; text-anchor:middle;\" transform=\"rotate(0, 414.649, 1938.71)\" x=\"414.649\" y=\"1938.71\">6</text>\n",
       "</g>\n",
       "<g clip-path=\"url(#clip9100)\">\n",
       "<text style=\"fill:#000000; fill-opacity:1; font-family:Arial,Helvetica Neue,Helvetica,sans-serif; font-size:48px; text-anchor:middle;\" transform=\"rotate(0, 722.31, 1938.71)\" x=\"722.31\" y=\"1938.71\">9</text>\n",
       "</g>\n",
       "<g clip-path=\"url(#clip9100)\">\n",
       "<text style=\"fill:#000000; fill-opacity:1; font-family:Arial,Helvetica Neue,Helvetica,sans-serif; font-size:48px; text-anchor:middle;\" transform=\"rotate(0, 1029.97, 1938.71)\" x=\"1029.97\" y=\"1938.71\">12</text>\n",
       "</g>\n",
       "<g clip-path=\"url(#clip9100)\">\n",
       "<text style=\"fill:#000000; fill-opacity:1; font-family:Arial,Helvetica Neue,Helvetica,sans-serif; font-size:48px; text-anchor:middle;\" transform=\"rotate(0, 1337.63, 1938.71)\" x=\"1337.63\" y=\"1938.71\">15</text>\n",
       "</g>\n",
       "<g clip-path=\"url(#clip9100)\">\n",
       "<text style=\"fill:#000000; fill-opacity:1; font-family:Arial,Helvetica Neue,Helvetica,sans-serif; font-size:48px; text-anchor:middle;\" transform=\"rotate(0, 1645.29, 1938.71)\" x=\"1645.29\" y=\"1938.71\">18</text>\n",
       "</g>\n",
       "<g clip-path=\"url(#clip9100)\">\n",
       "<text style=\"fill:#000000; fill-opacity:1; font-family:Arial,Helvetica Neue,Helvetica,sans-serif; font-size:48px; text-anchor:end;\" transform=\"rotate(0, 168.156, 1852.15)\" x=\"168.156\" y=\"1852.15\">0.00</text>\n",
       "</g>\n",
       "<g clip-path=\"url(#clip9100)\">\n",
       "<text style=\"fill:#000000; fill-opacity:1; font-family:Arial,Helvetica Neue,Helvetica,sans-serif; font-size:48px; text-anchor:end;\" transform=\"rotate(0, 168.156, 1520.91)\" x=\"168.156\" y=\"1520.91\">0.05</text>\n",
       "</g>\n",
       "<g clip-path=\"url(#clip9100)\">\n",
       "<text style=\"fill:#000000; fill-opacity:1; font-family:Arial,Helvetica Neue,Helvetica,sans-serif; font-size:48px; text-anchor:end;\" transform=\"rotate(0, 168.156, 1189.66)\" x=\"168.156\" y=\"1189.66\">0.10</text>\n",
       "</g>\n",
       "<g clip-path=\"url(#clip9100)\">\n",
       "<text style=\"fill:#000000; fill-opacity:1; font-family:Arial,Helvetica Neue,Helvetica,sans-serif; font-size:48px; text-anchor:end;\" transform=\"rotate(0, 168.156, 858.422)\" x=\"168.156\" y=\"858.422\">0.15</text>\n",
       "</g>\n",
       "<g clip-path=\"url(#clip9100)\">\n",
       "<text style=\"fill:#000000; fill-opacity:1; font-family:Arial,Helvetica Neue,Helvetica,sans-serif; font-size:48px; text-anchor:end;\" transform=\"rotate(0, 168.156, 527.18)\" x=\"168.156\" y=\"527.18\">0.20</text>\n",
       "</g>\n",
       "<g clip-path=\"url(#clip9100)\">\n",
       "<text style=\"fill:#000000; fill-opacity:1; font-family:Arial,Helvetica Neue,Helvetica,sans-serif; font-size:48px; text-anchor:end;\" transform=\"rotate(0, 168.156, 195.938)\" x=\"168.156\" y=\"195.938\">0.25</text>\n",
       "</g>\n",
       "<polyline clip-path=\"url(#clip9102)\" style=\"stroke:#009af9; stroke-width:4; stroke-opacity:1; fill:none\" points=\"\n",
       "  237.206,1834.65 245.423,1834.65 253.639,1834.64 261.855,1834.63 270.071,1834.59 278.287,1834.51 286.503,1834.37 294.719,1834.15 302.935,1833.84 311.151,1833.46 \n",
       "  319.367,1833 327.584,1832.35 335.8,1831.3 344.016,1829.47 352.232,1826.41 360.448,1821.65 368.664,1814.77 376.88,1805.51 385.096,1793.82 393.312,1779.84 \n",
       "  401.528,1763.65 409.745,1744.87 417.961,1722.37 426.177,1694.21 434.393,1658.23 442.609,1612.87 450.825,1557.97 459.041,1495.13 467.257,1427.34 475.473,1357.96 \n",
       "  483.689,1289.57 491.905,1223.23 500.122,1158.47 508.338,1094.12 516.554,1029.23 524.77,963.393 532.986,896.587 541.202,828.705 549.418,759.468 557.634,688.769 \n",
       "  565.85,617.077 574.066,545.556 582.283,475.847 590.499,409.753 598.715,348.871 606.931,294.17 615.147,245.759 623.363,203.226 631.579,166.501 639.795,136.512 \n",
       "  648.011,114.838 656.227,102.552 664.444,99.3044 672.66,103.405 680.876,112.603 689.092,124.648 697.308,137.302 705.524,148.382 713.74,156.477 721.956,162.059 \n",
       "  730.172,167.861 738.388,177.736 746.604,194.589 754.821,218.973 763.037,249.525 771.253,284.783 779.469,324.761 787.685,370.944 795.901,424.841 804.117,486.463 \n",
       "  812.333,553.864 820.549,623.809 828.765,692.76 836.982,757.574 845.198,815.918 853.414,866.623 861.63,909.969 869.846,947.653 878.062,982.262 886.278,1016.42 \n",
       "  894.494,1051.94 902.71,1089.45 910.926,1128.45 919.143,1167.82 927.359,1206.3 935.575,1242.76 943.791,1276.35 952.007,1306.58 960.223,1333.39 968.439,1357.17 \n",
       "  976.655,1378.58 984.871,1398.34 993.087,1416.9 1001.3,1434.34 1009.52,1450.65 1017.74,1466.19 1025.95,1481.91 1034.17,1498.99 1042.38,1518.05 1050.6,1538.56 \n",
       "  1058.82,1559.1 1067.03,1578.2 1075.25,1595.29 1083.46,1610.81 1091.68,1625.5 1099.9,1639.63 1108.11,1652.77 1116.33,1664.41 1124.54,1674.6 1132.76,1684.05 \n",
       "  1140.98,1693.57 1149.19,1703.5 1157.41,1713.67 1165.63,1723.73 1173.84,1733.45 1182.06,1742.71 1190.27,1751.25 1198.49,1758.58 1206.71,1764.23 1214.92,1768.15 \n",
       "  1223.14,1770.83 1231.35,1773.07 1239.57,1775.52 1247.79,1778.35 1256,1781.33 1264.22,1784.12 1272.43,1786.56 1280.65,1788.69 1288.87,1790.58 1297.08,1792.34 \n",
       "  1305.3,1794.1 1313.52,1796.01 1321.73,1798.18 1329.95,1800.55 1338.16,1802.89 1346.38,1804.96 1354.6,1806.69 1362.81,1808.17 1371.03,1809.46 1379.24,1810.5 \n",
       "  1387.46,1811.22 1395.68,1811.65 1403.89,1811.98 1412.11,1812.54 1420.32,1813.5 1428.54,1814.83 1436.76,1816.31 1444.97,1817.75 1453.19,1819.1 1461.4,1820.55 \n",
       "  1469.62,1822.26 1477.84,1824.28 1486.05,1826.44 1494.27,1828.41 1502.49,1829.87 1510.7,1830.65 1518.92,1830.8 1527.13,1830.55 1535.35,1830.2 1543.57,1830.01 \n",
       "  1551.78,1830.09 1560,1830.43 1568.21,1830.88 1576.43,1831.26 1584.65,1831.48 1592.86,1831.49 1601.08,1831.34 1609.29,1831.14 1617.51,1831.01 1625.73,1831.08 \n",
       "  1633.94,1831.41 1642.16,1831.97 1650.38,1832.65 1658.59,1833.32 1666.81,1833.85 1675.02,1834.21 1683.24,1834.38 1691.46,1834.39 1699.67,1834.27 1707.89,1834.05 \n",
       "  1716.1,1833.78 1724.32,1833.53 1732.54,1833.36 1740.75,1833.29 1748.97,1833.31 1757.18,1833.33 1765.4,1833.33 1773.62,1833.3 1781.83,1833.31 1790.05,1833.41 \n",
       "  1798.26,1833.62 1806.48,1833.9 1814.7,1834.16 1822.91,1834.37 1831.13,1834.51 1839.35,1834.59 1847.56,1834.63 1855.78,1834.64 1863.99,1834.65 1872.21,1834.65 \n",
       "  \n",
       "  \"/>\n",
       "<polygon clip-path=\"url(#clip9100)\" points=\"\n",
       "1610.43,227.724 1861.26,227.724 1861.26,106.764 1610.43,106.764 \n",
       "  \" fill=\"#ffffff\" fill-rule=\"evenodd\" fill-opacity=\"1\"/>\n",
       "<polyline clip-path=\"url(#clip9100)\" style=\"stroke:#000000; stroke-width:4; stroke-opacity:1; fill:none\" points=\"\n",
       "  1610.43,227.724 1861.26,227.724 1861.26,106.764 1610.43,106.764 1610.43,227.724 \n",
       "  \"/>\n",
       "<polyline clip-path=\"url(#clip9100)\" style=\"stroke:#009af9; stroke-width:4; stroke-opacity:1; fill:none\" points=\"\n",
       "  1630.43,167.244 1750.43,167.244 \n",
       "  \"/>\n",
       "<g clip-path=\"url(#clip9100)\">\n",
       "<text style=\"fill:#000000; fill-opacity:1; font-family:Arial,Helvetica Neue,Helvetica,sans-serif; font-size:48px; text-anchor:start;\" transform=\"rotate(0, 1770.43, 184.744)\" x=\"1770.43\" y=\"184.744\">y1</text>\n",
       "</g>\n",
       "</svg>\n"
      ]
     },
     "metadata": {},
     "execution_count": 8
    }
   ],
   "cell_type": "code",
   "source": [
    "density(samples[:sigma])"
   ],
   "metadata": {},
   "execution_count": 8
  },
  {
   "outputs": [],
   "cell_type": "markdown",
   "source": [
    "End of `clip-21-23.jl`"
   ],
   "metadata": {}
  },
  {
   "outputs": [],
   "cell_type": "markdown",
   "source": [
    "*This notebook was generated using [Literate.jl](https://github.com/fredrikekre/Literate.jl).*"
   ],
   "metadata": {}
  }
 ],
 "nbformat_minor": 3,
 "metadata": {
  "language_info": {
   "file_extension": ".jl",
   "mimetype": "application/julia",
   "name": "julia",
   "version": "1.2.0-DEV.226"
  },
  "kernelspec": {
   "name": "julia-1.2",
   "display_name": "Julia 1.2.0-DEV.226",
   "language": "julia"
  }
 },
 "nbformat": 4
}
