{
 "cells": [
  {
   "outputs": [],
   "cell_type": "markdown",
   "source": [
    "Load Julia packages (libraries) needed  for the snippets in chapter 0"
   ],
   "metadata": {}
  },
  {
   "outputs": [],
   "cell_type": "code",
   "source": [
    "using StatisticalRethinking, CmdStan, StanMCMCChain\n",
    "gr(size=(500,500));"
   ],
   "metadata": {},
   "execution_count": 1
  },
  {
   "outputs": [],
   "cell_type": "markdown",
   "source": [
    "CmdStan uses a tmp directory to store the output of cmdstan"
   ],
   "metadata": {}
  },
  {
   "outputs": [],
   "cell_type": "code",
   "source": [
    "ProjDir = rel_path(\"..\", \"scripts\", \"04\")\n",
    "cd(ProjDir)"
   ],
   "metadata": {},
   "execution_count": 2
  },
  {
   "outputs": [],
   "cell_type": "markdown",
   "source": [
    "CmdStan uses a tmp directory to store the output of cmdstan"
   ],
   "metadata": {}
  },
  {
   "outputs": [],
   "cell_type": "code",
   "source": [
    "ProjDir = rel_path(\"..\", \"scripts\", \"04\")\n",
    "cd(ProjDir)"
   ],
   "metadata": {},
   "execution_count": 3
  },
  {
   "outputs": [
    {
     "output_type": "execute_result",
     "data": {
      "text/plain": "5×4 DataFrame\n│ Row │ height   │ weight   │ age      │ male   │\n│     │ \u001b[90mFloat64⍰\u001b[39m │ \u001b[90mFloat64⍰\u001b[39m │ \u001b[90mFloat64⍰\u001b[39m │ \u001b[90mInt64⍰\u001b[39m │\n├─────┼──────────┼──────────┼──────────┼────────┤\n│ 1   │ 151.765  │ 47.8256  │ 63.0     │ 1      │\n│ 2   │ 139.7    │ 36.4858  │ 63.0     │ 0      │\n│ 3   │ 136.525  │ 31.8648  │ 65.0     │ 0      │\n│ 4   │ 156.845  │ 53.0419  │ 41.0     │ 1      │\n│ 5   │ 145.415  │ 41.2769  │ 51.0     │ 0      │",
      "text/html": [
       "<table class=\"data-frame\"><thead><tr><th></th><th>height</th><th>weight</th><th>age</th><th>male</th></tr><tr><th></th><th>Float64⍰</th><th>Float64⍰</th><th>Float64⍰</th><th>Int64⍰</th></tr></thead><tbody><p>5 rows × 4 columns</p><tr><th>1</th><td>151.765</td><td>47.8256</td><td>63.0</td><td>1</td></tr><tr><th>2</th><td>139.7</td><td>36.4858</td><td>63.0</td><td>0</td></tr><tr><th>3</th><td>136.525</td><td>31.8648</td><td>65.0</td><td>0</td></tr><tr><th>4</th><td>156.845</td><td>53.0419</td><td>41.0</td><td>1</td></tr><tr><th>5</th><td>145.415</td><td>41.2769</td><td>51.0</td><td>0</td></tr></tbody></table>"
      ]
     },
     "metadata": {},
     "execution_count": 4
    }
   ],
   "cell_type": "code",
   "source": [
    "howell1 = CSV.read(rel_path(\"..\", \"data\", \"Howell1.csv\"), delim=';')\n",
    "df = convert(DataFrame, howell1);\n",
    "df2 = filter(row -> row[:age] >= 18, df);\n",
    "first(df2, 5)"
   ],
   "metadata": {},
   "execution_count": 4
  },
  {
   "outputs": [],
   "cell_type": "markdown",
   "source": [
    "### Snippet 4.21"
   ],
   "metadata": {}
  },
  {
   "outputs": [],
   "cell_type": "markdown",
   "source": [
    "Sample 20 random heights"
   ],
   "metadata": {}
  },
  {
   "outputs": [],
   "cell_type": "code",
   "source": [
    "n = size(df2, 1)\n",
    "selected_ind = sample(1:n, 20, replace=false);\n",
    "df3 = df2[selected_ind, :];"
   ],
   "metadata": {},
   "execution_count": 5
  },
  {
   "outputs": [],
   "cell_type": "markdown",
   "source": [
    "### Snippet 4.22"
   ],
   "metadata": {}
  },
  {
   "outputs": [],
   "cell_type": "markdown",
   "source": [
    "Generate approximate probabilities"
   ],
   "metadata": {}
  },
  {
   "outputs": [
    {
     "output_type": "execute_result",
     "data": {
      "text/plain": "10×5 DataFrame\n│ Row │ mu      │ sigma   │ ll       │ prod     │ prob        │\n│     │ \u001b[90mFloat64\u001b[39m │ \u001b[90mFloat64\u001b[39m │ \u001b[90mFloat64\u001b[39m  │ \u001b[90mFloat64\u001b[39m  │ \u001b[90mFloat64\u001b[39m     │\n├─────┼─────────┼─────────┼──────────┼──────────┼─────────────┤\n│ 1   │ 140.0   │ 4.0     │ -200.076 │ -209.708 │ 5.13405e-58 │\n│ 2   │ 140.151 │ 4.0     │ -197.514 │ -207.132 │ 6.75001e-57 │\n│ 3   │ 140.302 │ 4.0     │ -194.981 │ -204.584 │ 8.62556e-56 │\n│ 4   │ 140.452 │ 4.0     │ -192.476 │ -202.065 │ 1.07129e-54 │\n│ 5   │ 140.603 │ 4.0     │ -189.999 │ -199.574 │ 1.2932e-53  │\n│ 6   │ 140.754 │ 4.0     │ -187.551 │ -197.111 │ 1.51726e-52 │\n│ 7   │ 140.905 │ 4.0     │ -185.131 │ -194.678 │ 1.73019e-51 │\n│ 8   │ 141.055 │ 4.0     │ -182.739 │ -192.272 │ 1.91763e-50 │\n│ 9   │ 141.206 │ 4.0     │ -180.376 │ -189.895 │ 2.06573e-49 │\n│ 10  │ 141.357 │ 4.0     │ -178.042 │ -187.547 │ 2.16282e-48 │",
      "text/html": [
       "<table class=\"data-frame\"><thead><tr><th></th><th>mu</th><th>sigma</th><th>ll</th><th>prod</th><th>prob</th></tr><tr><th></th><th>Float64</th><th>Float64</th><th>Float64</th><th>Float64</th><th>Float64</th></tr></thead><tbody><p>10 rows × 5 columns</p><tr><th>1</th><td>140.0</td><td>4.0</td><td>-200.076</td><td>-209.708</td><td>5.13405e-58</td></tr><tr><th>2</th><td>140.151</td><td>4.0</td><td>-197.514</td><td>-207.132</td><td>6.75001e-57</td></tr><tr><th>3</th><td>140.302</td><td>4.0</td><td>-194.981</td><td>-204.584</td><td>8.62556e-56</td></tr><tr><th>4</th><td>140.452</td><td>4.0</td><td>-192.476</td><td>-202.065</td><td>1.07129e-54</td></tr><tr><th>5</th><td>140.603</td><td>4.0</td><td>-189.999</td><td>-199.574</td><td>1.2932e-53</td></tr><tr><th>6</th><td>140.754</td><td>4.0</td><td>-187.551</td><td>-197.111</td><td>1.51726e-52</td></tr><tr><th>7</th><td>140.905</td><td>4.0</td><td>-185.131</td><td>-194.678</td><td>1.73019e-51</td></tr><tr><th>8</th><td>141.055</td><td>4.0</td><td>-182.739</td><td>-192.272</td><td>1.91763e-50</td></tr><tr><th>9</th><td>141.206</td><td>4.0</td><td>-180.376</td><td>-189.895</td><td>2.06573e-49</td></tr><tr><th>10</th><td>141.357</td><td>4.0</td><td>-178.042</td><td>-187.547</td><td>2.16282e-48</td></tr></tbody></table>"
      ]
     },
     "metadata": {},
     "execution_count": 6
    }
   ],
   "cell_type": "code",
   "source": [
    "struct Post\n",
    "  mu::Float64\n",
    "  sigma::Float64\n",
    "  ll:: Float64\n",
    "  prod::Float64\n",
    "  prob::Float64\n",
    "end\n",
    "\n",
    "mu_list = repeat(range(140, 170, length=200), 200);\n",
    "sigma_list = repeat(range(4, 20, length=200), inner=200);\n",
    "\n",
    "ll = zeros(40000);\n",
    "for i in 1:40000\n",
    "    d1 = Normal(mu_list[i], sigma_list[i])\n",
    "    ll[i] = sum(log.(pdf.(d1, df3[:height])))\n",
    "end\n",
    "\n",
    "d2 = Normal(178.0, 20.0)\n",
    "d3 = Uniform(0, 50)\n",
    "prod = ll + log.(pdf.(d2, mu_list)) + log.(pdf.(d3, sigma_list))\n",
    "prob = exp.(prod .- maximum(prod))\n",
    "post = DataFrame(mu=mu_list, sigma=sigma_list, ll=ll, prod=prod, prob=prob)\n",
    "first(post, 10)"
   ],
   "metadata": {},
   "execution_count": 6
  },
  {
   "outputs": [],
   "cell_type": "markdown",
   "source": [
    "Sample post"
   ],
   "metadata": {}
  },
  {
   "outputs": [
    {
     "output_type": "execute_result",
     "data": {
      "text/plain": "10000×5 DataFrame\n│ Row   │ mu      │ sigma   │ ll       │ prod     │ prob       │\n│       │ \u001b[90mFloat64\u001b[39m │ \u001b[90mFloat64\u001b[39m │ \u001b[90mFloat64\u001b[39m  │ \u001b[90mFloat64\u001b[39m  │ \u001b[90mFloat64\u001b[39m    │\n├───────┼─────────┼─────────┼──────────┼──────────┼────────────┤\n│ 1     │ 154.472 │ 8.34171 │ -69.4423 │ -77.9609 │ 0.846231   │\n│ 2     │ 147.99  │ 8.50251 │ -73.8756 │ -82.8281 │ 0.00651192 │\n│ 3     │ 153.266 │ 11.5578 │ -71.7898 │ -80.3812 │ 0.0752293  │\n│ 4     │ 156.583 │ 7.69849 │ -70.6637 │ -79.0637 │ 0.280892   │\n│ 5     │ 155.226 │ 8.1809  │ -69.6614 │ -78.1364 │ 0.710059   │\n│ 6     │ 154.171 │ 7.69849 │ -69.2749 │ -77.8114 │ 0.982682   │\n│ 7     │ 154.02  │ 9.22613 │ -69.8198 │ -78.3653 │ 0.564755   │\n⋮\n│ 9993  │ 153.719 │ 6.25126 │ -70.252  │ -78.8157 │ 0.359979   │\n│ 9994  │ 152.814 │ 8.34171 │ -69.4554 │ -78.075  │ 0.754981   │\n│ 9995  │ 153.568 │ 8.1005  │ -69.2812 │ -77.8541 │ 0.941646   │\n│ 9996  │ 152.06  │ 6.49246 │ -70.5142 │ -79.182  │ 0.249567   │\n│ 9997  │ 155.377 │ 7.29648 │ -69.8429 │ -78.3094 │ 0.597239   │\n│ 9998  │ 156.432 │ 6.57286 │ -71.5671 │ -79.9752 │ 0.112896   │\n│ 9999  │ 155.075 │ 8.42211 │ -69.6575 │ -78.1412 │ 0.706654   │\n│ 10000 │ 154.623 │ 9.54774 │ -70.1276 │ -78.6374 │ 0.430239   │",
      "text/html": [
       "<table class=\"data-frame\"><thead><tr><th></th><th>mu</th><th>sigma</th><th>ll</th><th>prod</th><th>prob</th></tr><tr><th></th><th>Float64</th><th>Float64</th><th>Float64</th><th>Float64</th><th>Float64</th></tr></thead><tbody><p>10,000 rows × 5 columns</p><tr><th>1</th><td>154.472</td><td>8.34171</td><td>-69.4423</td><td>-77.9609</td><td>0.846231</td></tr><tr><th>2</th><td>147.99</td><td>8.50251</td><td>-73.8756</td><td>-82.8281</td><td>0.00651192</td></tr><tr><th>3</th><td>153.266</td><td>11.5578</td><td>-71.7898</td><td>-80.3812</td><td>0.0752293</td></tr><tr><th>4</th><td>156.583</td><td>7.69849</td><td>-70.6637</td><td>-79.0637</td><td>0.280892</td></tr><tr><th>5</th><td>155.226</td><td>8.1809</td><td>-69.6614</td><td>-78.1364</td><td>0.710059</td></tr><tr><th>6</th><td>154.171</td><td>7.69849</td><td>-69.2749</td><td>-77.8114</td><td>0.982682</td></tr><tr><th>7</th><td>154.02</td><td>9.22613</td><td>-69.8198</td><td>-78.3653</td><td>0.564755</td></tr><tr><th>8</th><td>150.704</td><td>8.74372</td><td>-70.6752</td><td>-79.4332</td><td>0.194122</td></tr><tr><th>9</th><td>154.322</td><td>7.05528</td><td>-69.4857</td><td>-78.0133</td><td>0.803076</td></tr><tr><th>10</th><td>153.417</td><td>6.49246</td><td>-69.9142</td><td>-78.4963</td><td>0.495433</td></tr><tr><th>11</th><td>150.704</td><td>8.0201</td><td>-70.6315</td><td>-79.3896</td><td>0.202779</td></tr><tr><th>12</th><td>151.307</td><td>8.1005</td><td>-70.1314</td><td>-78.8488</td><td>0.348244</td></tr><tr><th>13</th><td>153.719</td><td>9.54774</td><td>-70.0283</td><td>-78.592</td><td>0.450205</td></tr><tr><th>14</th><td>152.362</td><td>11.0754</td><td>-71.4607</td><td>-80.1091</td><td>0.0987527</td></tr><tr><th>15</th><td>154.322</td><td>7.05528</td><td>-69.4857</td><td>-78.0133</td><td>0.803076</td></tr><tr><th>16</th><td>150.854</td><td>9.30653</td><td>-70.7747</td><td>-79.5225</td><td>0.177538</td></tr><tr><th>17</th><td>153.719</td><td>7.29648</td><td>-69.2966</td><td>-77.8603</td><td>0.935821</td></tr><tr><th>18</th><td>153.568</td><td>11.0754</td><td>-71.3219</td><td>-79.8948</td><td>0.122354</td></tr><tr><th>19</th><td>153.116</td><td>10.5126</td><td>-70.8389</td><td>-79.4396</td><td>0.192887</td></tr><tr><th>20</th><td>150.854</td><td>8.58291</td><td>-70.5233</td><td>-79.2711</td><td>0.228288</td></tr><tr><th>21</th><td>152.362</td><td>9.30653</td><td>-70.0567</td><td>-78.705</td><td>0.402104</td></tr><tr><th>22</th><td>153.869</td><td>7.05528</td><td>-69.4086</td><td>-77.9631</td><td>0.844378</td></tr><tr><th>23</th><td>152.211</td><td>6.73367</td><td>-70.1058</td><td>-78.7639</td><td>0.379119</td></tr><tr><th>24</th><td>155.528</td><td>7.69849</td><td>-69.8145</td><td>-78.2725</td><td>0.619697</td></tr><tr><th>&vellip;</th><td>&vellip;</td><td>&vellip;</td><td>&vellip;</td><td>&vellip;</td><td>&vellip;</td></tr></tbody></table>"
      ]
     },
     "metadata": {},
     "execution_count": 7
    }
   ],
   "cell_type": "code",
   "source": [
    "samples = post[sample(1:size(post, 1), Weights(post[:prob]), 10000, replace=true), :]"
   ],
   "metadata": {},
   "execution_count": 7
  },
  {
   "outputs": [],
   "cell_type": "markdown",
   "source": [
    "### Snippet 4.23"
   ],
   "metadata": {}
  },
  {
   "outputs": [],
   "cell_type": "markdown",
   "source": [
    "Density of sigma"
   ],
   "metadata": {}
  },
  {
   "outputs": [
    {
     "output_type": "execute_result",
     "data": {
      "text/plain": "Plot{Plots.GRBackend() n=1}",
      "image/png": "[encoded data removed]",
      "text/html": [
       "<?xml version=\"1.0\" encoding=\"utf-8\"?>\n",
       "<svg xmlns=\"http://www.w3.org/2000/svg\" xmlns:xlink=\"http://www.w3.org/1999/xlink\" width=\"500\" height=\"500\" viewBox=\"0 0 2000 2000\">\n",
       "<defs>\n",
       "  <clipPath id=\"clip2700\">\n",
       "    <rect x=\"0\" y=\"0\" width=\"2000\" height=\"2000\"/>\n",
       "  </clipPath>\n",
       "</defs>\n",
       "<polygon clip-path=\"url(#clip2700)\" points=\"\n",
       "0,2000 2000,2000 2000,0 0,0 \n",
       "  \" fill=\"#ffffff\" fill-rule=\"evenodd\" fill-opacity=\"1\"/>\n",
       "<defs>\n",
       "  <clipPath id=\"clip2701\">\n",
       "    <rect x=\"400\" y=\"200\" width=\"1401\" height=\"1401\"/>\n",
       "  </clipPath>\n",
       "</defs>\n",
       "<polygon clip-path=\"url(#clip2700)\" points=\"\n",
       "161.394,1886.71 1921.26,1886.71 1921.26,47.2441 161.394,47.2441 \n",
       "  \" fill=\"#ffffff\" fill-rule=\"evenodd\" fill-opacity=\"1\"/>\n",
       "<defs>\n",
       "  <clipPath id=\"clip2702\">\n",
       "    <rect x=\"161\" y=\"47\" width=\"1761\" height=\"1840\"/>\n",
       "  </clipPath>\n",
       "</defs>\n",
       "<polyline clip-path=\"url(#clip2702)\" style=\"stroke:#000000; stroke-width:2; stroke-opacity:0.1; fill:none\" points=\"\n",
       "  419.086,1886.71 419.086,47.2441 \n",
       "  \"/>\n",
       "<polyline clip-path=\"url(#clip2702)\" style=\"stroke:#000000; stroke-width:2; stroke-opacity:0.1; fill:none\" points=\"\n",
       "  754.961,1886.71 754.961,47.2441 \n",
       "  \"/>\n",
       "<polyline clip-path=\"url(#clip2702)\" style=\"stroke:#000000; stroke-width:2; stroke-opacity:0.1; fill:none\" points=\"\n",
       "  1090.84,1886.71 1090.84,47.2441 \n",
       "  \"/>\n",
       "<polyline clip-path=\"url(#clip2702)\" style=\"stroke:#000000; stroke-width:2; stroke-opacity:0.1; fill:none\" points=\"\n",
       "  1426.71,1886.71 1426.71,47.2441 \n",
       "  \"/>\n",
       "<polyline clip-path=\"url(#clip2702)\" style=\"stroke:#000000; stroke-width:2; stroke-opacity:0.1; fill:none\" points=\"\n",
       "  1762.59,1886.71 1762.59,47.2441 \n",
       "  \"/>\n",
       "<polyline clip-path=\"url(#clip2702)\" style=\"stroke:#000000; stroke-width:2; stroke-opacity:0.1; fill:none\" points=\"\n",
       "  161.394,1834.65 1921.26,1834.65 \n",
       "  \"/>\n",
       "<polyline clip-path=\"url(#clip2702)\" style=\"stroke:#000000; stroke-width:2; stroke-opacity:0.1; fill:none\" points=\"\n",
       "  161.394,1242.2 1921.26,1242.2 \n",
       "  \"/>\n",
       "<polyline clip-path=\"url(#clip2702)\" style=\"stroke:#000000; stroke-width:2; stroke-opacity:0.1; fill:none\" points=\"\n",
       "  161.394,649.751 1921.26,649.751 \n",
       "  \"/>\n",
       "<polyline clip-path=\"url(#clip2702)\" style=\"stroke:#000000; stroke-width:2; stroke-opacity:0.1; fill:none\" points=\"\n",
       "  161.394,57.3024 1921.26,57.3024 \n",
       "  \"/>\n",
       "<polyline clip-path=\"url(#clip2700)\" style=\"stroke:#000000; stroke-width:4; stroke-opacity:1; fill:none\" points=\"\n",
       "  161.394,1886.71 1921.26,1886.71 \n",
       "  \"/>\n",
       "<polyline clip-path=\"url(#clip2700)\" style=\"stroke:#000000; stroke-width:4; stroke-opacity:1; fill:none\" points=\"\n",
       "  161.394,1886.71 161.394,47.2441 \n",
       "  \"/>\n",
       "<polyline clip-path=\"url(#clip2700)\" style=\"stroke:#000000; stroke-width:4; stroke-opacity:1; fill:none\" points=\"\n",
       "  419.086,1886.71 419.086,1859.12 \n",
       "  \"/>\n",
       "<polyline clip-path=\"url(#clip2700)\" style=\"stroke:#000000; stroke-width:4; stroke-opacity:1; fill:none\" points=\"\n",
       "  754.961,1886.71 754.961,1859.12 \n",
       "  \"/>\n",
       "<polyline clip-path=\"url(#clip2700)\" style=\"stroke:#000000; stroke-width:4; stroke-opacity:1; fill:none\" points=\"\n",
       "  1090.84,1886.71 1090.84,1859.12 \n",
       "  \"/>\n",
       "<polyline clip-path=\"url(#clip2700)\" style=\"stroke:#000000; stroke-width:4; stroke-opacity:1; fill:none\" points=\"\n",
       "  1426.71,1886.71 1426.71,1859.12 \n",
       "  \"/>\n",
       "<polyline clip-path=\"url(#clip2700)\" style=\"stroke:#000000; stroke-width:4; stroke-opacity:1; fill:none\" points=\"\n",
       "  1762.59,1886.71 1762.59,1859.12 \n",
       "  \"/>\n",
       "<polyline clip-path=\"url(#clip2700)\" style=\"stroke:#000000; stroke-width:4; stroke-opacity:1; fill:none\" points=\"\n",
       "  161.394,1834.65 187.792,1834.65 \n",
       "  \"/>\n",
       "<polyline clip-path=\"url(#clip2700)\" style=\"stroke:#000000; stroke-width:4; stroke-opacity:1; fill:none\" points=\"\n",
       "  161.394,1242.2 187.792,1242.2 \n",
       "  \"/>\n",
       "<polyline clip-path=\"url(#clip2700)\" style=\"stroke:#000000; stroke-width:4; stroke-opacity:1; fill:none\" points=\"\n",
       "  161.394,649.751 187.792,649.751 \n",
       "  \"/>\n",
       "<polyline clip-path=\"url(#clip2700)\" style=\"stroke:#000000; stroke-width:4; stroke-opacity:1; fill:none\" points=\"\n",
       "  161.394,57.3024 187.792,57.3024 \n",
       "  \"/>\n",
       "<g clip-path=\"url(#clip2700)\">\n",
       "<text style=\"fill:#000000; fill-opacity:1; font-family:Arial,Helvetica Neue,Helvetica,sans-serif; font-size:48px; text-anchor:middle;\" transform=\"rotate(0, 419.086, 1938.71)\" x=\"419.086\" y=\"1938.71\">6</text>\n",
       "</g>\n",
       "<g clip-path=\"url(#clip2700)\">\n",
       "<text style=\"fill:#000000; fill-opacity:1; font-family:Arial,Helvetica Neue,Helvetica,sans-serif; font-size:48px; text-anchor:middle;\" transform=\"rotate(0, 754.961, 1938.71)\" x=\"754.961\" y=\"1938.71\">9</text>\n",
       "</g>\n",
       "<g clip-path=\"url(#clip2700)\">\n",
       "<text style=\"fill:#000000; fill-opacity:1; font-family:Arial,Helvetica Neue,Helvetica,sans-serif; font-size:48px; text-anchor:middle;\" transform=\"rotate(0, 1090.84, 1938.71)\" x=\"1090.84\" y=\"1938.71\">12</text>\n",
       "</g>\n",
       "<g clip-path=\"url(#clip2700)\">\n",
       "<text style=\"fill:#000000; fill-opacity:1; font-family:Arial,Helvetica Neue,Helvetica,sans-serif; font-size:48px; text-anchor:middle;\" transform=\"rotate(0, 1426.71, 1938.71)\" x=\"1426.71\" y=\"1938.71\">15</text>\n",
       "</g>\n",
       "<g clip-path=\"url(#clip2700)\">\n",
       "<text style=\"fill:#000000; fill-opacity:1; font-family:Arial,Helvetica Neue,Helvetica,sans-serif; font-size:48px; text-anchor:middle;\" transform=\"rotate(0, 1762.59, 1938.71)\" x=\"1762.59\" y=\"1938.71\">18</text>\n",
       "</g>\n",
       "<g clip-path=\"url(#clip2700)\">\n",
       "<text style=\"fill:#000000; fill-opacity:1; font-family:Arial,Helvetica Neue,Helvetica,sans-serif; font-size:48px; text-anchor:end;\" transform=\"rotate(0, 141.394, 1852.15)\" x=\"141.394\" y=\"1852.15\">0.0</text>\n",
       "</g>\n",
       "<g clip-path=\"url(#clip2700)\">\n",
       "<text style=\"fill:#000000; fill-opacity:1; font-family:Arial,Helvetica Neue,Helvetica,sans-serif; font-size:48px; text-anchor:end;\" transform=\"rotate(0, 141.394, 1259.7)\" x=\"141.394\" y=\"1259.7\">0.1</text>\n",
       "</g>\n",
       "<g clip-path=\"url(#clip2700)\">\n",
       "<text style=\"fill:#000000; fill-opacity:1; font-family:Arial,Helvetica Neue,Helvetica,sans-serif; font-size:48px; text-anchor:end;\" transform=\"rotate(0, 141.394, 667.251)\" x=\"141.394\" y=\"667.251\">0.2</text>\n",
       "</g>\n",
       "<g clip-path=\"url(#clip2700)\">\n",
       "<text style=\"fill:#000000; fill-opacity:1; font-family:Arial,Helvetica Neue,Helvetica,sans-serif; font-size:48px; text-anchor:end;\" transform=\"rotate(0, 141.394, 74.8024)\" x=\"141.394\" y=\"74.8024\">0.3</text>\n",
       "</g>\n",
       "<polyline clip-path=\"url(#clip2702)\" style=\"stroke:#009af9; stroke-width:4; stroke-opacity:1; fill:none\" points=\"\n",
       "  211.202,1834.65 219.545,1834.65 227.887,1834.64 236.23,1834.62 244.573,1834.58 252.916,1834.47 261.259,1834.23 269.602,1833.76 277.945,1832.95 286.288,1831.63 \n",
       "  294.631,1829.63 302.974,1826.67 311.317,1822.43 319.66,1816.47 328.003,1808.26 336.346,1797.28 344.689,1783.02 353.032,1765.04 361.375,1742.95 369.718,1716.47 \n",
       "  378.061,1685.53 386.404,1650.41 394.747,1611.74 403.09,1570.34 411.433,1526.9 419.776,1481.53 428.119,1433.63 436.462,1382.09 444.805,1325.98 453.148,1265.09 \n",
       "  461.491,1200.03 469.834,1131.69 478.177,1060.65 486.52,987.03 494.862,911.004 503.205,833.397 511.548,755.706 519.891,679.414 528.234,605.402 536.577,534.226 \n",
       "  544.92,467.019 553.263,405.881 561.606,352.987 569.949,309.004 578.292,272.255 586.635,239.507 594.978,207.836 603.321,176.318 611.664,146.529 620.007,121.752 \n",
       "  628.35,105.373 636.693,99.3044 645.036,103.224 653.379,115.002 661.722,131.984 670.065,152.231 678.408,174.998 686.751,200.392 695.094,228.765 703.437,260.384 \n",
       "  711.78,295.483 720.123,334.354 728.466,377.183 736.809,423.653 745.152,472.74 753.495,522.995 761.837,573.16 770.18,622.6 778.523,671.23 786.866,719.026 \n",
       "  795.209,765.583 803.552,810.107 811.895,851.919 820.238,891.12 828.581,928.835 836.924,966.71 845.267,1005.97 853.61,1046.74 861.953,1088.21 870.296,1129.2 \n",
       "  878.639,1168.78 886.982,1206.21 895.325,1240.79 903.668,1271.76 912.011,1298.75 920.354,1322.24 928.697,1343.67 937.04,1365.11 945.383,1388.35 953.726,1414.11 \n",
       "  962.069,1441.65 970.412,1469.21 978.755,1494.87 987.098,1517.48 995.441,1537.07 1003.78,1554.57 1012.13,1571.15 1020.47,1587.56 1028.81,1603.76 1037.16,1619.07 \n",
       "  1045.5,1632.77 1053.84,1644.63 1062.18,1655.05 1070.53,1664.81 1078.87,1674.55 1087.21,1684.66 1095.56,1695.24 1103.9,1706.3 1112.24,1717.77 1120.59,1729.41 \n",
       "  1128.93,1740.71 1137.27,1750.97 1145.61,1759.5 1153.96,1765.82 1162.3,1769.78 1170.64,1771.67 1178.99,1772.14 1187.33,1772.12 1195.67,1772.55 1204.01,1774.07 \n",
       "  1212.36,1776.9 1220.7,1780.82 1229.04,1785.32 1237.39,1789.83 1245.73,1793.83 1254.07,1797.04 1262.42,1799.41 1270.76,1801.14 1279.1,1802.54 1287.44,1803.84 \n",
       "  1295.79,1805.1 1304.13,1806.27 1312.47,1807.26 1320.82,1808.14 1329.16,1809.04 1337.5,1810.1 1345.85,1811.39 1354.19,1812.94 1362.53,1814.74 1370.87,1816.78 \n",
       "  1379.22,1819 1387.56,1821.25 1395.9,1823.33 1404.25,1825.07 1412.59,1826.42 1420.93,1827.42 1429.27,1828.15 1437.62,1828.68 1445.96,1829.05 1454.3,1829.3 \n",
       "  1462.65,1829.47 1470.99,1829.65 1479.33,1829.9 1487.68,1830.27 1496.02,1830.76 1504.36,1831.31 1512.7,1831.85 1521.05,1832.3 1529.39,1832.61 1537.73,1832.7 \n",
       "  1546.08,1832.54 1554.42,1832.13 1562.76,1831.53 1571.11,1830.87 1579.45,1830.29 1587.79,1829.93 1596.13,1829.84 1604.48,1830 1612.82,1830.28 1621.16,1830.57 \n",
       "  1629.51,1830.81 1637.85,1831 1646.19,1831.18 1654.54,1831.41 1662.88,1831.73 1671.22,1832.13 1679.56,1832.57 1687.91,1832.97 1696.25,1833.24 1704.59,1833.36 \n",
       "  1712.94,1833.38 1721.28,1833.36 1729.62,1833.37 1737.96,1833.42 1746.31,1833.47 1754.65,1833.48 1762.99,1833.45 1771.34,1833.4 1779.68,1833.42 1788.02,1833.54 \n",
       "  1796.37,1833.76 1804.71,1834.01 1813.05,1834.25 1821.39,1834.43 1829.74,1834.54 1838.08,1834.6 1846.42,1834.63 1854.77,1834.64 1863.11,1834.65 1871.45,1834.65 \n",
       "  \n",
       "  \"/>\n",
       "<polygon clip-path=\"url(#clip2700)\" points=\"\n",
       "1610.43,227.724 1861.26,227.724 1861.26,106.764 1610.43,106.764 \n",
       "  \" fill=\"#ffffff\" fill-rule=\"evenodd\" fill-opacity=\"1\"/>\n",
       "<polyline clip-path=\"url(#clip2700)\" style=\"stroke:#000000; stroke-width:4; stroke-opacity:1; fill:none\" points=\"\n",
       "  1610.43,227.724 1861.26,227.724 1861.26,106.764 1610.43,106.764 1610.43,227.724 \n",
       "  \"/>\n",
       "<polyline clip-path=\"url(#clip2700)\" style=\"stroke:#009af9; stroke-width:4; stroke-opacity:1; fill:none\" points=\"\n",
       "  1630.43,167.244 1750.43,167.244 \n",
       "  \"/>\n",
       "<g clip-path=\"url(#clip2700)\">\n",
       "<text style=\"fill:#000000; fill-opacity:1; font-family:Arial,Helvetica Neue,Helvetica,sans-serif; font-size:48px; text-anchor:start;\" transform=\"rotate(0, 1770.43, 184.744)\" x=\"1770.43\" y=\"184.744\">y1</text>\n",
       "</g>\n",
       "</svg>\n"
      ],
      "image/svg+xml": [
       "<?xml version=\"1.0\" encoding=\"utf-8\"?>\n",
       "<svg xmlns=\"http://www.w3.org/2000/svg\" xmlns:xlink=\"http://www.w3.org/1999/xlink\" width=\"500\" height=\"500\" viewBox=\"0 0 2000 2000\">\n",
       "<defs>\n",
       "  <clipPath id=\"clip2600\">\n",
       "    <rect x=\"0\" y=\"0\" width=\"2000\" height=\"2000\"/>\n",
       "  </clipPath>\n",
       "</defs>\n",
       "<polygon clip-path=\"url(#clip2600)\" points=\"\n",
       "0,2000 2000,2000 2000,0 0,0 \n",
       "  \" fill=\"#ffffff\" fill-rule=\"evenodd\" fill-opacity=\"1\"/>\n",
       "<defs>\n",
       "  <clipPath id=\"clip2601\">\n",
       "    <rect x=\"400\" y=\"200\" width=\"1401\" height=\"1401\"/>\n",
       "  </clipPath>\n",
       "</defs>\n",
       "<polygon clip-path=\"url(#clip2600)\" points=\"\n",
       "161.394,1886.71 1921.26,1886.71 1921.26,47.2441 161.394,47.2441 \n",
       "  \" fill=\"#ffffff\" fill-rule=\"evenodd\" fill-opacity=\"1\"/>\n",
       "<defs>\n",
       "  <clipPath id=\"clip2602\">\n",
       "    <rect x=\"161\" y=\"47\" width=\"1761\" height=\"1840\"/>\n",
       "  </clipPath>\n",
       "</defs>\n",
       "<polyline clip-path=\"url(#clip2602)\" style=\"stroke:#000000; stroke-width:2; stroke-opacity:0.1; fill:none\" points=\"\n",
       "  419.086,1886.71 419.086,47.2441 \n",
       "  \"/>\n",
       "<polyline clip-path=\"url(#clip2602)\" style=\"stroke:#000000; stroke-width:2; stroke-opacity:0.1; fill:none\" points=\"\n",
       "  754.961,1886.71 754.961,47.2441 \n",
       "  \"/>\n",
       "<polyline clip-path=\"url(#clip2602)\" style=\"stroke:#000000; stroke-width:2; stroke-opacity:0.1; fill:none\" points=\"\n",
       "  1090.84,1886.71 1090.84,47.2441 \n",
       "  \"/>\n",
       "<polyline clip-path=\"url(#clip2602)\" style=\"stroke:#000000; stroke-width:2; stroke-opacity:0.1; fill:none\" points=\"\n",
       "  1426.71,1886.71 1426.71,47.2441 \n",
       "  \"/>\n",
       "<polyline clip-path=\"url(#clip2602)\" style=\"stroke:#000000; stroke-width:2; stroke-opacity:0.1; fill:none\" points=\"\n",
       "  1762.59,1886.71 1762.59,47.2441 \n",
       "  \"/>\n",
       "<polyline clip-path=\"url(#clip2602)\" style=\"stroke:#000000; stroke-width:2; stroke-opacity:0.1; fill:none\" points=\"\n",
       "  161.394,1834.65 1921.26,1834.65 \n",
       "  \"/>\n",
       "<polyline clip-path=\"url(#clip2602)\" style=\"stroke:#000000; stroke-width:2; stroke-opacity:0.1; fill:none\" points=\"\n",
       "  161.394,1242.2 1921.26,1242.2 \n",
       "  \"/>\n",
       "<polyline clip-path=\"url(#clip2602)\" style=\"stroke:#000000; stroke-width:2; stroke-opacity:0.1; fill:none\" points=\"\n",
       "  161.394,649.751 1921.26,649.751 \n",
       "  \"/>\n",
       "<polyline clip-path=\"url(#clip2602)\" style=\"stroke:#000000; stroke-width:2; stroke-opacity:0.1; fill:none\" points=\"\n",
       "  161.394,57.3024 1921.26,57.3024 \n",
       "  \"/>\n",
       "<polyline clip-path=\"url(#clip2600)\" style=\"stroke:#000000; stroke-width:4; stroke-opacity:1; fill:none\" points=\"\n",
       "  161.394,1886.71 1921.26,1886.71 \n",
       "  \"/>\n",
       "<polyline clip-path=\"url(#clip2600)\" style=\"stroke:#000000; stroke-width:4; stroke-opacity:1; fill:none\" points=\"\n",
       "  161.394,1886.71 161.394,47.2441 \n",
       "  \"/>\n",
       "<polyline clip-path=\"url(#clip2600)\" style=\"stroke:#000000; stroke-width:4; stroke-opacity:1; fill:none\" points=\"\n",
       "  419.086,1886.71 419.086,1859.12 \n",
       "  \"/>\n",
       "<polyline clip-path=\"url(#clip2600)\" style=\"stroke:#000000; stroke-width:4; stroke-opacity:1; fill:none\" points=\"\n",
       "  754.961,1886.71 754.961,1859.12 \n",
       "  \"/>\n",
       "<polyline clip-path=\"url(#clip2600)\" style=\"stroke:#000000; stroke-width:4; stroke-opacity:1; fill:none\" points=\"\n",
       "  1090.84,1886.71 1090.84,1859.12 \n",
       "  \"/>\n",
       "<polyline clip-path=\"url(#clip2600)\" style=\"stroke:#000000; stroke-width:4; stroke-opacity:1; fill:none\" points=\"\n",
       "  1426.71,1886.71 1426.71,1859.12 \n",
       "  \"/>\n",
       "<polyline clip-path=\"url(#clip2600)\" style=\"stroke:#000000; stroke-width:4; stroke-opacity:1; fill:none\" points=\"\n",
       "  1762.59,1886.71 1762.59,1859.12 \n",
       "  \"/>\n",
       "<polyline clip-path=\"url(#clip2600)\" style=\"stroke:#000000; stroke-width:4; stroke-opacity:1; fill:none\" points=\"\n",
       "  161.394,1834.65 187.792,1834.65 \n",
       "  \"/>\n",
       "<polyline clip-path=\"url(#clip2600)\" style=\"stroke:#000000; stroke-width:4; stroke-opacity:1; fill:none\" points=\"\n",
       "  161.394,1242.2 187.792,1242.2 \n",
       "  \"/>\n",
       "<polyline clip-path=\"url(#clip2600)\" style=\"stroke:#000000; stroke-width:4; stroke-opacity:1; fill:none\" points=\"\n",
       "  161.394,649.751 187.792,649.751 \n",
       "  \"/>\n",
       "<polyline clip-path=\"url(#clip2600)\" style=\"stroke:#000000; stroke-width:4; stroke-opacity:1; fill:none\" points=\"\n",
       "  161.394,57.3024 187.792,57.3024 \n",
       "  \"/>\n",
       "<g clip-path=\"url(#clip2600)\">\n",
       "<text style=\"fill:#000000; fill-opacity:1; font-family:Arial,Helvetica Neue,Helvetica,sans-serif; font-size:48px; text-anchor:middle;\" transform=\"rotate(0, 419.086, 1938.71)\" x=\"419.086\" y=\"1938.71\">6</text>\n",
       "</g>\n",
       "<g clip-path=\"url(#clip2600)\">\n",
       "<text style=\"fill:#000000; fill-opacity:1; font-family:Arial,Helvetica Neue,Helvetica,sans-serif; font-size:48px; text-anchor:middle;\" transform=\"rotate(0, 754.961, 1938.71)\" x=\"754.961\" y=\"1938.71\">9</text>\n",
       "</g>\n",
       "<g clip-path=\"url(#clip2600)\">\n",
       "<text style=\"fill:#000000; fill-opacity:1; font-family:Arial,Helvetica Neue,Helvetica,sans-serif; font-size:48px; text-anchor:middle;\" transform=\"rotate(0, 1090.84, 1938.71)\" x=\"1090.84\" y=\"1938.71\">12</text>\n",
       "</g>\n",
       "<g clip-path=\"url(#clip2600)\">\n",
       "<text style=\"fill:#000000; fill-opacity:1; font-family:Arial,Helvetica Neue,Helvetica,sans-serif; font-size:48px; text-anchor:middle;\" transform=\"rotate(0, 1426.71, 1938.71)\" x=\"1426.71\" y=\"1938.71\">15</text>\n",
       "</g>\n",
       "<g clip-path=\"url(#clip2600)\">\n",
       "<text style=\"fill:#000000; fill-opacity:1; font-family:Arial,Helvetica Neue,Helvetica,sans-serif; font-size:48px; text-anchor:middle;\" transform=\"rotate(0, 1762.59, 1938.71)\" x=\"1762.59\" y=\"1938.71\">18</text>\n",
       "</g>\n",
       "<g clip-path=\"url(#clip2600)\">\n",
       "<text style=\"fill:#000000; fill-opacity:1; font-family:Arial,Helvetica Neue,Helvetica,sans-serif; font-size:48px; text-anchor:end;\" transform=\"rotate(0, 141.394, 1852.15)\" x=\"141.394\" y=\"1852.15\">0.0</text>\n",
       "</g>\n",
       "<g clip-path=\"url(#clip2600)\">\n",
       "<text style=\"fill:#000000; fill-opacity:1; font-family:Arial,Helvetica Neue,Helvetica,sans-serif; font-size:48px; text-anchor:end;\" transform=\"rotate(0, 141.394, 1259.7)\" x=\"141.394\" y=\"1259.7\">0.1</text>\n",
       "</g>\n",
       "<g clip-path=\"url(#clip2600)\">\n",
       "<text style=\"fill:#000000; fill-opacity:1; font-family:Arial,Helvetica Neue,Helvetica,sans-serif; font-size:48px; text-anchor:end;\" transform=\"rotate(0, 141.394, 667.251)\" x=\"141.394\" y=\"667.251\">0.2</text>\n",
       "</g>\n",
       "<g clip-path=\"url(#clip2600)\">\n",
       "<text style=\"fill:#000000; fill-opacity:1; font-family:Arial,Helvetica Neue,Helvetica,sans-serif; font-size:48px; text-anchor:end;\" transform=\"rotate(0, 141.394, 74.8024)\" x=\"141.394\" y=\"74.8024\">0.3</text>\n",
       "</g>\n",
       "<polyline clip-path=\"url(#clip2602)\" style=\"stroke:#009af9; stroke-width:4; stroke-opacity:1; fill:none\" points=\"\n",
       "  211.202,1834.65 219.545,1834.65 227.887,1834.64 236.23,1834.62 244.573,1834.58 252.916,1834.47 261.259,1834.23 269.602,1833.76 277.945,1832.95 286.288,1831.63 \n",
       "  294.631,1829.63 302.974,1826.67 311.317,1822.43 319.66,1816.47 328.003,1808.26 336.346,1797.28 344.689,1783.02 353.032,1765.04 361.375,1742.95 369.718,1716.47 \n",
       "  378.061,1685.53 386.404,1650.41 394.747,1611.74 403.09,1570.34 411.433,1526.9 419.776,1481.53 428.119,1433.63 436.462,1382.09 444.805,1325.98 453.148,1265.09 \n",
       "  461.491,1200.03 469.834,1131.69 478.177,1060.65 486.52,987.03 494.862,911.004 503.205,833.397 511.548,755.706 519.891,679.414 528.234,605.402 536.577,534.226 \n",
       "  544.92,467.019 553.263,405.881 561.606,352.987 569.949,309.004 578.292,272.255 586.635,239.507 594.978,207.836 603.321,176.318 611.664,146.529 620.007,121.752 \n",
       "  628.35,105.373 636.693,99.3044 645.036,103.224 653.379,115.002 661.722,131.984 670.065,152.231 678.408,174.998 686.751,200.392 695.094,228.765 703.437,260.384 \n",
       "  711.78,295.483 720.123,334.354 728.466,377.183 736.809,423.653 745.152,472.74 753.495,522.995 761.837,573.16 770.18,622.6 778.523,671.23 786.866,719.026 \n",
       "  795.209,765.583 803.552,810.107 811.895,851.919 820.238,891.12 828.581,928.835 836.924,966.71 845.267,1005.97 853.61,1046.74 861.953,1088.21 870.296,1129.2 \n",
       "  878.639,1168.78 886.982,1206.21 895.325,1240.79 903.668,1271.76 912.011,1298.75 920.354,1322.24 928.697,1343.67 937.04,1365.11 945.383,1388.35 953.726,1414.11 \n",
       "  962.069,1441.65 970.412,1469.21 978.755,1494.87 987.098,1517.48 995.441,1537.07 1003.78,1554.57 1012.13,1571.15 1020.47,1587.56 1028.81,1603.76 1037.16,1619.07 \n",
       "  1045.5,1632.77 1053.84,1644.63 1062.18,1655.05 1070.53,1664.81 1078.87,1674.55 1087.21,1684.66 1095.56,1695.24 1103.9,1706.3 1112.24,1717.77 1120.59,1729.41 \n",
       "  1128.93,1740.71 1137.27,1750.97 1145.61,1759.5 1153.96,1765.82 1162.3,1769.78 1170.64,1771.67 1178.99,1772.14 1187.33,1772.12 1195.67,1772.55 1204.01,1774.07 \n",
       "  1212.36,1776.9 1220.7,1780.82 1229.04,1785.32 1237.39,1789.83 1245.73,1793.83 1254.07,1797.04 1262.42,1799.41 1270.76,1801.14 1279.1,1802.54 1287.44,1803.84 \n",
       "  1295.79,1805.1 1304.13,1806.27 1312.47,1807.26 1320.82,1808.14 1329.16,1809.04 1337.5,1810.1 1345.85,1811.39 1354.19,1812.94 1362.53,1814.74 1370.87,1816.78 \n",
       "  1379.22,1819 1387.56,1821.25 1395.9,1823.33 1404.25,1825.07 1412.59,1826.42 1420.93,1827.42 1429.27,1828.15 1437.62,1828.68 1445.96,1829.05 1454.3,1829.3 \n",
       "  1462.65,1829.47 1470.99,1829.65 1479.33,1829.9 1487.68,1830.27 1496.02,1830.76 1504.36,1831.31 1512.7,1831.85 1521.05,1832.3 1529.39,1832.61 1537.73,1832.7 \n",
       "  1546.08,1832.54 1554.42,1832.13 1562.76,1831.53 1571.11,1830.87 1579.45,1830.29 1587.79,1829.93 1596.13,1829.84 1604.48,1830 1612.82,1830.28 1621.16,1830.57 \n",
       "  1629.51,1830.81 1637.85,1831 1646.19,1831.18 1654.54,1831.41 1662.88,1831.73 1671.22,1832.13 1679.56,1832.57 1687.91,1832.97 1696.25,1833.24 1704.59,1833.36 \n",
       "  1712.94,1833.38 1721.28,1833.36 1729.62,1833.37 1737.96,1833.42 1746.31,1833.47 1754.65,1833.48 1762.99,1833.45 1771.34,1833.4 1779.68,1833.42 1788.02,1833.54 \n",
       "  1796.37,1833.76 1804.71,1834.01 1813.05,1834.25 1821.39,1834.43 1829.74,1834.54 1838.08,1834.6 1846.42,1834.63 1854.77,1834.64 1863.11,1834.65 1871.45,1834.65 \n",
       "  \n",
       "  \"/>\n",
       "<polygon clip-path=\"url(#clip2600)\" points=\"\n",
       "1610.43,227.724 1861.26,227.724 1861.26,106.764 1610.43,106.764 \n",
       "  \" fill=\"#ffffff\" fill-rule=\"evenodd\" fill-opacity=\"1\"/>\n",
       "<polyline clip-path=\"url(#clip2600)\" style=\"stroke:#000000; stroke-width:4; stroke-opacity:1; fill:none\" points=\"\n",
       "  1610.43,227.724 1861.26,227.724 1861.26,106.764 1610.43,106.764 1610.43,227.724 \n",
       "  \"/>\n",
       "<polyline clip-path=\"url(#clip2600)\" style=\"stroke:#009af9; stroke-width:4; stroke-opacity:1; fill:none\" points=\"\n",
       "  1630.43,167.244 1750.43,167.244 \n",
       "  \"/>\n",
       "<g clip-path=\"url(#clip2600)\">\n",
       "<text style=\"fill:#000000; fill-opacity:1; font-family:Arial,Helvetica Neue,Helvetica,sans-serif; font-size:48px; text-anchor:start;\" transform=\"rotate(0, 1770.43, 184.744)\" x=\"1770.43\" y=\"184.744\">y1</text>\n",
       "</g>\n",
       "</svg>\n"
      ]
     },
     "metadata": {},
     "execution_count": 8
    }
   ],
   "cell_type": "code",
   "source": [
    "density(samples[:sigma])"
   ],
   "metadata": {},
   "execution_count": 8
  },
  {
   "outputs": [],
   "cell_type": "markdown",
   "source": [
    "End of `clip-21-23.jl`"
   ],
   "metadata": {}
  },
  {
   "outputs": [],
   "cell_type": "markdown",
   "source": [
    "*This notebook was generated using [Literate.jl](https://github.com/fredrikekre/Literate.jl).*"
   ],
   "metadata": {}
  }
 ],
 "nbformat_minor": 3,
 "metadata": {
  "language_info": {
   "file_extension": ".jl",
   "mimetype": "application/julia",
   "name": "julia",
   "version": "1.2.0-DEV.216"
  },
  "kernelspec": {
   "name": "julia-1.2",
   "display_name": "Julia 1.2.0-DEV.216",
   "language": "julia"
  }
 },
 "nbformat": 4
}
