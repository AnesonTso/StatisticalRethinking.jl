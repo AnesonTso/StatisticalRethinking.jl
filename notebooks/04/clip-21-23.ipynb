{
 "cells": [
  {
   "outputs": [],
   "cell_type": "markdown",
   "source": [
    "Load Julia packages (libraries) needed  for the snippets in chapter 0"
   ],
   "metadata": {}
  },
  {
   "outputs": [],
   "cell_type": "code",
   "source": [
    "using StatisticalRethinking, CmdStan\n",
    "#gr(size=(600,600));"
   ],
   "metadata": {},
   "execution_count": 1
  },
  {
   "outputs": [],
   "cell_type": "markdown",
   "source": [
    "CmdStan uses a tmp directory to store the output of cmdstan"
   ],
   "metadata": {}
  },
  {
   "outputs": [],
   "cell_type": "code",
   "source": [
    "ProjDir = rel_path(\"..\", \"scripts\", \"04\")\n",
    "cd(ProjDir)"
   ],
   "metadata": {},
   "execution_count": 2
  },
  {
   "outputs": [],
   "cell_type": "markdown",
   "source": [
    "CmdStan uses a tmp directory to store the output of cmdstan"
   ],
   "metadata": {}
  },
  {
   "outputs": [],
   "cell_type": "code",
   "source": [
    "ProjDir = rel_path(\"..\", \"scripts\", \"04\")\n",
    "cd(ProjDir)"
   ],
   "metadata": {},
   "execution_count": 3
  },
  {
   "outputs": [
    {
     "output_type": "execute_result",
     "data": {
      "text/plain": "5×4 DataFrame\n│ Row │ height  │ weight  │ age     │ male  │\n│     │ \u001b[90mFloat64\u001b[39m │ \u001b[90mFloat64\u001b[39m │ \u001b[90mFloat64\u001b[39m │ \u001b[90mInt64\u001b[39m │\n├─────┼─────────┼─────────┼─────────┼───────┤\n│ 1   │ 151.765 │ 47.8256 │ 63.0    │ 1     │\n│ 2   │ 139.7   │ 36.4858 │ 63.0    │ 0     │\n│ 3   │ 136.525 │ 31.8648 │ 65.0    │ 0     │\n│ 4   │ 156.845 │ 53.0419 │ 41.0    │ 1     │\n│ 5   │ 145.415 │ 41.2769 │ 51.0    │ 0     │",
      "text/html": [
       "<table class=\"data-frame\"><thead><tr><th></th><th>height</th><th>weight</th><th>age</th><th>male</th></tr><tr><th></th><th>Float64</th><th>Float64</th><th>Float64</th><th>Int64</th></tr></thead><tbody><p>5 rows × 4 columns</p><tr><th>1</th><td>151.765</td><td>47.8256</td><td>63.0</td><td>1</td></tr><tr><th>2</th><td>139.7</td><td>36.4858</td><td>63.0</td><td>0</td></tr><tr><th>3</th><td>136.525</td><td>31.8648</td><td>65.0</td><td>0</td></tr><tr><th>4</th><td>156.845</td><td>53.0419</td><td>41.0</td><td>1</td></tr><tr><th>5</th><td>145.415</td><td>41.2769</td><td>51.0</td><td>0</td></tr></tbody></table>"
      ]
     },
     "metadata": {},
     "execution_count": 4
    }
   ],
   "cell_type": "code",
   "source": [
    "howell1 = CSV.read(rel_path(\"..\", \"data\", \"Howell1.csv\"), delim=';')\n",
    "df = convert(DataFrame, howell1);\n",
    "df2 = filter(row -> row[:age] >= 18, df);\n",
    "first(df2, 5)"
   ],
   "metadata": {},
   "execution_count": 4
  },
  {
   "outputs": [],
   "cell_type": "markdown",
   "source": [
    "### Snippet 4.21"
   ],
   "metadata": {}
  },
  {
   "outputs": [],
   "cell_type": "markdown",
   "source": [
    "Sample 20 random heights"
   ],
   "metadata": {}
  },
  {
   "outputs": [],
   "cell_type": "code",
   "source": [
    "n = size(df2, 1)\n",
    "selected_ind = sample(1:n, 20, replace=false);\n",
    "df3 = df2[selected_ind, :];"
   ],
   "metadata": {},
   "execution_count": 5
  },
  {
   "outputs": [],
   "cell_type": "markdown",
   "source": [
    "### Snippet 4.22"
   ],
   "metadata": {}
  },
  {
   "outputs": [],
   "cell_type": "markdown",
   "source": [
    "Generate approximate probabilities"
   ],
   "metadata": {}
  },
  {
   "outputs": [
    {
     "name": "stdout",
     "output_type": "stream",
     "text": [
      "┌ Warning: `getindex(df::DataFrame, col_ind::ColumnIndex)` is deprecated, use `df[!, col_ind]` instead.\n",
      "│   caller = top-level scope at string:15\n",
      "└ @ Core ./string:15\n"
     ]
    },
    {
     "output_type": "execute_result",
     "data": {
      "text/plain": "10×5 DataFrame\n│ Row │ mu      │ sigma   │ ll       │ prod     │ prob        │\n│     │ \u001b[90mFloat64\u001b[39m │ \u001b[90mFloat64\u001b[39m │ \u001b[90mFloat64\u001b[39m  │ \u001b[90mFloat64\u001b[39m  │ \u001b[90mFloat64\u001b[39m     │\n├─────┼─────────┼─────────┼──────────┼──────────┼─────────────┤\n│ 1   │ 140.0   │ 4.0     │ -234.081 │ -243.713 │ 7.61978e-74 │\n│ 2   │ 140.151 │ 4.0     │ -231.094 │ -240.712 │ 1.53184e-72 │\n│ 3   │ 140.302 │ 4.0     │ -228.136 │ -237.739 │ 2.99311e-71 │\n│ 4   │ 140.452 │ 4.0     │ -225.206 │ -234.795 │ 5.68421e-70 │\n│ 5   │ 140.603 │ 4.0     │ -222.305 │ -231.88  │ 1.04919e-68 │\n│ 6   │ 140.754 │ 4.0     │ -219.432 │ -228.993 │ 1.88225e-67 │\n│ 7   │ 140.905 │ 4.0     │ -216.588 │ -226.134 │ 3.28199e-66 │\n│ 8   │ 141.055 │ 4.0     │ -213.771 │ -223.304 │ 5.56206e-65 │\n│ 9   │ 141.206 │ 4.0     │ -210.984 │ -220.503 │ 9.1616e-64  │\n│ 10  │ 141.357 │ 4.0     │ -208.224 │ -217.729 │ 1.46671e-62 │",
      "text/html": [
       "<table class=\"data-frame\"><thead><tr><th></th><th>mu</th><th>sigma</th><th>ll</th><th>prod</th><th>prob</th></tr><tr><th></th><th>Float64</th><th>Float64</th><th>Float64</th><th>Float64</th><th>Float64</th></tr></thead><tbody><p>10 rows × 5 columns</p><tr><th>1</th><td>140.0</td><td>4.0</td><td>-234.081</td><td>-243.713</td><td>7.61978e-74</td></tr><tr><th>2</th><td>140.151</td><td>4.0</td><td>-231.094</td><td>-240.712</td><td>1.53184e-72</td></tr><tr><th>3</th><td>140.302</td><td>4.0</td><td>-228.136</td><td>-237.739</td><td>2.99311e-71</td></tr><tr><th>4</th><td>140.452</td><td>4.0</td><td>-225.206</td><td>-234.795</td><td>5.68421e-70</td></tr><tr><th>5</th><td>140.603</td><td>4.0</td><td>-222.305</td><td>-231.88</td><td>1.04919e-68</td></tr><tr><th>6</th><td>140.754</td><td>4.0</td><td>-219.432</td><td>-228.993</td><td>1.88225e-67</td></tr><tr><th>7</th><td>140.905</td><td>4.0</td><td>-216.588</td><td>-226.134</td><td>3.28199e-66</td></tr><tr><th>8</th><td>141.055</td><td>4.0</td><td>-213.771</td><td>-223.304</td><td>5.56206e-65</td></tr><tr><th>9</th><td>141.206</td><td>4.0</td><td>-210.984</td><td>-220.503</td><td>9.1616e-64</td></tr><tr><th>10</th><td>141.357</td><td>4.0</td><td>-208.224</td><td>-217.729</td><td>1.46671e-62</td></tr></tbody></table>"
      ]
     },
     "metadata": {},
     "execution_count": 6
    }
   ],
   "cell_type": "code",
   "source": [
    "struct Post\n",
    "  mu::Float64\n",
    "  sigma::Float64\n",
    "  ll:: Float64\n",
    "  prod::Float64\n",
    "  prob::Float64\n",
    "end\n",
    "\n",
    "mu_list = repeat(range(140, 170, length=200), 200);\n",
    "sigma_list = repeat(range(4, 20, length=200), inner=200);\n",
    "\n",
    "ll = zeros(40000);\n",
    "for i in 1:40000\n",
    "    d1 = Normal(mu_list[i], sigma_list[i])\n",
    "    ll[i] = sum(log.(pdf.(d1, df3[:height])))\n",
    "end\n",
    "\n",
    "d2 = Normal(178.0, 20.0)\n",
    "d3 = Uniform(0, 50)\n",
    "prod = ll + log.(pdf.(d2, mu_list)) + log.(pdf.(d3, sigma_list))\n",
    "prob = exp.(prod .- maximum(prod))\n",
    "post = DataFrame(mu=mu_list, sigma=sigma_list, ll=ll, prod=prod, prob=prob)\n",
    "first(post, 10)"
   ],
   "metadata": {},
   "execution_count": 6
  },
  {
   "outputs": [],
   "cell_type": "markdown",
   "source": [
    "Sample post"
   ],
   "metadata": {}
  },
  {
   "outputs": [
    {
     "name": "stdout",
     "output_type": "stream",
     "text": [
      "┌ Warning: `getindex(df::DataFrame, col_ind::ColumnIndex)` is deprecated, use `df[!, col_ind]` instead.\n",
      "│   caller = top-level scope at string:1\n",
      "└ @ Core string:1\n"
     ]
    },
    {
     "output_type": "execute_result",
     "data": {
      "text/plain": "10000×5 DataFrame\n│ Row   │ mu      │ sigma   │ ll       │ prod     │ prob       │\n│       │ \u001b[90mFloat64\u001b[39m │ \u001b[90mFloat64\u001b[39m │ \u001b[90mFloat64\u001b[39m  │ \u001b[90mFloat64\u001b[39m  │ \u001b[90mFloat64\u001b[39m    │\n├───────┼─────────┼─────────┼──────────┼──────────┼────────────┤\n│ 1     │ 155.377 │ 7.05528 │ -66.9927 │ -75.4592 │ 0.898508   │\n│ 2     │ 157.638 │ 6.89447 │ -67.5367 │ -75.8816 │ 0.588909   │\n│ 3     │ 155.377 │ 6.57286 │ -67.0277 │ -75.4942 │ 0.867606   │\n│ 4     │ 156.583 │ 6.89447 │ -67.01   │ -75.41   │ 0.943771   │\n│ 5     │ 153.568 │ 6.81407 │ -68.1156 │ -76.6885 │ 0.262812   │\n│ 6     │ 159.447 │ 6.89447 │ -69.5298 │ -77.7867 │ 0.0876374  │\n│ 7     │ 154.623 │ 8.50251 │ -67.9464 │ -76.4562 │ 0.331528   │\n⋮\n│ 9993  │ 155.075 │ 8.82412 │ -68.0803 │ -76.5639 │ 0.297683   │\n│ 9994  │ 157.487 │ 7.29648 │ -67.4475 │ -75.8002 │ 0.638889   │\n│ 9995  │ 156.884 │ 6.57286 │ -67.1718 │ -75.5558 │ 0.815765   │\n│ 9996  │ 155.528 │ 6.49246 │ -67.0217 │ -75.4796 │ 0.880308   │\n│ 9997  │ 154.02  │ 4.80402 │ -71.782  │ -80.3275 │ 0.00690618 │\n│ 9998  │ 152.663 │ 6.49246 │ -69.5071 │ -78.1362 │ 0.0617868  │\n│ 9999  │ 157.487 │ 7.53769 │ -67.511  │ -75.8637 │ 0.599599   │\n│ 10000 │ 158.09  │ 6.73367 │ -67.9613 │ -76.2835 │ 0.394033   │",
      "text/html": [
       "<table class=\"data-frame\"><thead><tr><th></th><th>mu</th><th>sigma</th><th>ll</th><th>prod</th><th>prob</th></tr><tr><th></th><th>Float64</th><th>Float64</th><th>Float64</th><th>Float64</th><th>Float64</th></tr></thead><tbody><p>10,000 rows × 5 columns</p><tr><th>1</th><td>155.377</td><td>7.05528</td><td>-66.9927</td><td>-75.4592</td><td>0.898508</td></tr><tr><th>2</th><td>157.638</td><td>6.89447</td><td>-67.5367</td><td>-75.8816</td><td>0.588909</td></tr><tr><th>3</th><td>155.377</td><td>6.57286</td><td>-67.0277</td><td>-75.4942</td><td>0.867606</td></tr><tr><th>4</th><td>156.583</td><td>6.89447</td><td>-67.01</td><td>-75.41</td><td>0.943771</td></tr><tr><th>5</th><td>153.568</td><td>6.81407</td><td>-68.1156</td><td>-76.6885</td><td>0.262812</td></tr><tr><th>6</th><td>159.447</td><td>6.89447</td><td>-69.5298</td><td>-77.7867</td><td>0.0876374</td></tr><tr><th>7</th><td>154.623</td><td>8.50251</td><td>-67.9464</td><td>-76.4562</td><td>0.331528</td></tr><tr><th>8</th><td>152.06</td><td>8.1005</td><td>-69.6827</td><td>-78.3504</td><td>0.0498722</td></tr><tr><th>9</th><td>154.774</td><td>5.28643</td><td>-69.0375</td><td>-77.5385</td><td>0.11233</td></tr><tr><th>10</th><td>154.02</td><td>7.13568</td><td>-67.6589</td><td>-76.2044</td><td>0.426474</td></tr><tr><th>11</th><td>154.472</td><td>7.05528</td><td>-67.356</td><td>-75.8747</td><td>0.593035</td></tr><tr><th>12</th><td>160.05</td><td>7.45729</td><td>-70.1077</td><td>-78.3371</td><td>0.0505412</td></tr><tr><th>13</th><td>156.734</td><td>7.69849</td><td>-67.2704</td><td>-75.6624</td><td>0.733274</td></tr><tr><th>14</th><td>155.678</td><td>8.0201</td><td>-67.3621</td><td>-75.8116</td><td>0.631612</td></tr><tr><th>15</th><td>155.829</td><td>7.69849</td><td>-67.1614</td><td>-75.6025</td><td>0.778538</td></tr><tr><th>16</th><td>157.337</td><td>6.81407</td><td>-67.3494</td><td>-75.7098</td><td>0.699345</td></tr><tr><th>17</th><td>154.02</td><td>9.46734</td><td>-69.0041</td><td>-77.5496</td><td>0.111091</td></tr><tr><th>18</th><td>155.98</td><td>6.73367</td><td>-66.9271</td><td>-75.3599</td><td>0.992281</td></tr><tr><th>19</th><td>156.131</td><td>8.1809</td><td>-67.4706</td><td>-75.8951</td><td>0.581013</td></tr><tr><th>20</th><td>157.94</td><td>7.21608</td><td>-67.7456</td><td>-76.0753</td><td>0.485218</td></tr><tr><th>21</th><td>155.075</td><td>6.73367</td><td>-67.0854</td><td>-75.569</td><td>0.805081</td></tr><tr><th>22</th><td>155.528</td><td>6.73367</td><td>-66.9611</td><td>-75.4191</td><td>0.935275</td></tr><tr><th>23</th><td>157.337</td><td>8.82412</td><td>-68.2439</td><td>-76.6043</td><td>0.285883</td></tr><tr><th>24</th><td>156.884</td><td>8.58291</td><td>-67.9039</td><td>-76.2879</td><td>0.392282</td></tr><tr><th>&vellip;</th><td>&vellip;</td><td>&vellip;</td><td>&vellip;</td><td>&vellip;</td><td>&vellip;</td></tr></tbody></table>"
      ]
     },
     "metadata": {},
     "execution_count": 7
    }
   ],
   "cell_type": "code",
   "source": [
    "samples = post[sample(1:size(post, 1), Weights(post[:prob]), 10000, replace=true), :]"
   ],
   "metadata": {},
   "execution_count": 7
  },
  {
   "outputs": [],
   "cell_type": "markdown",
   "source": [
    "### Snippet 4.23"
   ],
   "metadata": {}
  },
  {
   "outputs": [],
   "cell_type": "markdown",
   "source": [
    "Density of sigma"
   ],
   "metadata": {}
  },
  {
   "outputs": [
    {
     "name": "stdout",
     "output_type": "stream",
     "text": [
      "┌ Warning: `getindex(df::DataFrame, col_ind::ColumnIndex)` is deprecated, use `df[!, col_ind]` instead.\n",
      "│   caller = top-level scope at string:1\n",
      "└ @ Core string:1\n"
     ]
    },
    {
     "output_type": "execute_result",
     "data": {
      "text/plain": "Plot{Plots.GRBackend() n=1}",
      "image/png": "[encoded data removed]",
      "text/html": [
       "<?xml version=\"1.0\" encoding=\"utf-8\"?>\n",
       "<svg xmlns=\"http://www.w3.org/2000/svg\" xmlns:xlink=\"http://www.w3.org/1999/xlink\" width=\"600\" height=\"400\" viewBox=\"0 0 2400 1600\">\n",
       "<defs>\n",
       "  <clipPath id=\"clip6500\">\n",
       "    <rect x=\"0\" y=\"0\" width=\"2400\" height=\"1600\"/>\n",
       "  </clipPath>\n",
       "</defs>\n",
       "<polygon clip-path=\"url(#clip6500)\" points=\"\n",
       "0,1600 2400,1600 2400,0 0,0 \n",
       "  \" fill=\"#ffffff\" fill-rule=\"evenodd\" fill-opacity=\"1\"/>\n",
       "<defs>\n",
       "  <clipPath id=\"clip6501\">\n",
       "    <rect x=\"480\" y=\"0\" width=\"1681\" height=\"1600\"/>\n",
       "  </clipPath>\n",
       "</defs>\n",
       "<polygon clip-path=\"url(#clip6500)\" points=\"\n",
       "153.898,1487.47 2352.76,1487.47 2352.76,47.2441 153.898,47.2441 \n",
       "  \" fill=\"#ffffff\" fill-rule=\"evenodd\" fill-opacity=\"1\"/>\n",
       "<defs>\n",
       "  <clipPath id=\"clip6502\">\n",
       "    <rect x=\"153\" y=\"47\" width=\"2200\" height=\"1441\"/>\n",
       "  </clipPath>\n",
       "</defs>\n",
       "<polyline clip-path=\"url(#clip6502)\" style=\"stroke:#000000; stroke-width:2; stroke-opacity:0.1; fill:none\" points=\"\n",
       "  458.173,1487.47 458.173,47.2441 \n",
       "  \"/>\n",
       "<polyline clip-path=\"url(#clip6502)\" style=\"stroke:#000000; stroke-width:2; stroke-opacity:0.1; fill:none\" points=\"\n",
       "  838.182,1487.47 838.182,47.2441 \n",
       "  \"/>\n",
       "<polyline clip-path=\"url(#clip6502)\" style=\"stroke:#000000; stroke-width:2; stroke-opacity:0.1; fill:none\" points=\"\n",
       "  1218.19,1487.47 1218.19,47.2441 \n",
       "  \"/>\n",
       "<polyline clip-path=\"url(#clip6502)\" style=\"stroke:#000000; stroke-width:2; stroke-opacity:0.1; fill:none\" points=\"\n",
       "  1598.2,1487.47 1598.2,47.2441 \n",
       "  \"/>\n",
       "<polyline clip-path=\"url(#clip6502)\" style=\"stroke:#000000; stroke-width:2; stroke-opacity:0.1; fill:none\" points=\"\n",
       "  1978.21,1487.47 1978.21,47.2441 \n",
       "  \"/>\n",
       "<polyline clip-path=\"url(#clip6502)\" style=\"stroke:#000000; stroke-width:2; stroke-opacity:0.1; fill:none\" points=\"\n",
       "  153.898,1446.71 2352.76,1446.71 \n",
       "  \"/>\n",
       "<polyline clip-path=\"url(#clip6502)\" style=\"stroke:#000000; stroke-width:2; stroke-opacity:0.1; fill:none\" points=\"\n",
       "  153.898,1027.33 2352.76,1027.33 \n",
       "  \"/>\n",
       "<polyline clip-path=\"url(#clip6502)\" style=\"stroke:#000000; stroke-width:2; stroke-opacity:0.1; fill:none\" points=\"\n",
       "  153.898,607.945 2352.76,607.945 \n",
       "  \"/>\n",
       "<polyline clip-path=\"url(#clip6502)\" style=\"stroke:#000000; stroke-width:2; stroke-opacity:0.1; fill:none\" points=\"\n",
       "  153.898,188.561 2352.76,188.561 \n",
       "  \"/>\n",
       "<polyline clip-path=\"url(#clip6500)\" style=\"stroke:#000000; stroke-width:4; stroke-opacity:1; fill:none\" points=\"\n",
       "  153.898,1487.47 2352.76,1487.47 \n",
       "  \"/>\n",
       "<polyline clip-path=\"url(#clip6500)\" style=\"stroke:#000000; stroke-width:4; stroke-opacity:1; fill:none\" points=\"\n",
       "  153.898,1487.47 153.898,47.2441 \n",
       "  \"/>\n",
       "<polyline clip-path=\"url(#clip6500)\" style=\"stroke:#000000; stroke-width:4; stroke-opacity:1; fill:none\" points=\"\n",
       "  458.173,1487.47 458.173,1465.87 \n",
       "  \"/>\n",
       "<polyline clip-path=\"url(#clip6500)\" style=\"stroke:#000000; stroke-width:4; stroke-opacity:1; fill:none\" points=\"\n",
       "  838.182,1487.47 838.182,1465.87 \n",
       "  \"/>\n",
       "<polyline clip-path=\"url(#clip6500)\" style=\"stroke:#000000; stroke-width:4; stroke-opacity:1; fill:none\" points=\"\n",
       "  1218.19,1487.47 1218.19,1465.87 \n",
       "  \"/>\n",
       "<polyline clip-path=\"url(#clip6500)\" style=\"stroke:#000000; stroke-width:4; stroke-opacity:1; fill:none\" points=\"\n",
       "  1598.2,1487.47 1598.2,1465.87 \n",
       "  \"/>\n",
       "<polyline clip-path=\"url(#clip6500)\" style=\"stroke:#000000; stroke-width:4; stroke-opacity:1; fill:none\" points=\"\n",
       "  1978.21,1487.47 1978.21,1465.87 \n",
       "  \"/>\n",
       "<polyline clip-path=\"url(#clip6500)\" style=\"stroke:#000000; stroke-width:4; stroke-opacity:1; fill:none\" points=\"\n",
       "  153.898,1446.71 186.881,1446.71 \n",
       "  \"/>\n",
       "<polyline clip-path=\"url(#clip6500)\" style=\"stroke:#000000; stroke-width:4; stroke-opacity:1; fill:none\" points=\"\n",
       "  153.898,1027.33 186.881,1027.33 \n",
       "  \"/>\n",
       "<polyline clip-path=\"url(#clip6500)\" style=\"stroke:#000000; stroke-width:4; stroke-opacity:1; fill:none\" points=\"\n",
       "  153.898,607.945 186.881,607.945 \n",
       "  \"/>\n",
       "<polyline clip-path=\"url(#clip6500)\" style=\"stroke:#000000; stroke-width:4; stroke-opacity:1; fill:none\" points=\"\n",
       "  153.898,188.561 186.881,188.561 \n",
       "  \"/>\n",
       "<g clip-path=\"url(#clip6500)\">\n",
       "<text style=\"fill:#000000; fill-opacity:1; font-family:Arial,Helvetica Neue,Helvetica,sans-serif; font-size:48px; text-anchor:middle;\" transform=\"rotate(0, 458.173, 1541.47)\" x=\"458.173\" y=\"1541.47\">5.0</text>\n",
       "</g>\n",
       "<g clip-path=\"url(#clip6500)\">\n",
       "<text style=\"fill:#000000; fill-opacity:1; font-family:Arial,Helvetica Neue,Helvetica,sans-serif; font-size:48px; text-anchor:middle;\" transform=\"rotate(0, 838.182, 1541.47)\" x=\"838.182\" y=\"1541.47\">7.5</text>\n",
       "</g>\n",
       "<g clip-path=\"url(#clip6500)\">\n",
       "<text style=\"fill:#000000; fill-opacity:1; font-family:Arial,Helvetica Neue,Helvetica,sans-serif; font-size:48px; text-anchor:middle;\" transform=\"rotate(0, 1218.19, 1541.47)\" x=\"1218.19\" y=\"1541.47\">10.0</text>\n",
       "</g>\n",
       "<g clip-path=\"url(#clip6500)\">\n",
       "<text style=\"fill:#000000; fill-opacity:1; font-family:Arial,Helvetica Neue,Helvetica,sans-serif; font-size:48px; text-anchor:middle;\" transform=\"rotate(0, 1598.2, 1541.47)\" x=\"1598.2\" y=\"1541.47\">12.5</text>\n",
       "</g>\n",
       "<g clip-path=\"url(#clip6500)\">\n",
       "<text style=\"fill:#000000; fill-opacity:1; font-family:Arial,Helvetica Neue,Helvetica,sans-serif; font-size:48px; text-anchor:middle;\" transform=\"rotate(0, 1978.21, 1541.47)\" x=\"1978.21\" y=\"1541.47\">15.0</text>\n",
       "</g>\n",
       "<g clip-path=\"url(#clip6500)\">\n",
       "<text style=\"fill:#000000; fill-opacity:1; font-family:Arial,Helvetica Neue,Helvetica,sans-serif; font-size:48px; text-anchor:end;\" transform=\"rotate(0, 129.898, 1464.21)\" x=\"129.898\" y=\"1464.21\">0.0</text>\n",
       "</g>\n",
       "<g clip-path=\"url(#clip6500)\">\n",
       "<text style=\"fill:#000000; fill-opacity:1; font-family:Arial,Helvetica Neue,Helvetica,sans-serif; font-size:48px; text-anchor:end;\" transform=\"rotate(0, 129.898, 1044.83)\" x=\"129.898\" y=\"1044.83\">0.1</text>\n",
       "</g>\n",
       "<g clip-path=\"url(#clip6500)\">\n",
       "<text style=\"fill:#000000; fill-opacity:1; font-family:Arial,Helvetica Neue,Helvetica,sans-serif; font-size:48px; text-anchor:end;\" transform=\"rotate(0, 129.898, 625.445)\" x=\"129.898\" y=\"625.445\">0.2</text>\n",
       "</g>\n",
       "<g clip-path=\"url(#clip6500)\">\n",
       "<text style=\"fill:#000000; fill-opacity:1; font-family:Arial,Helvetica Neue,Helvetica,sans-serif; font-size:48px; text-anchor:end;\" transform=\"rotate(0, 129.898, 206.061)\" x=\"129.898\" y=\"206.061\">0.3</text>\n",
       "</g>\n",
       "<polyline clip-path=\"url(#clip6502)\" style=\"stroke:#009af9; stroke-width:4; stroke-opacity:1; fill:none\" points=\"\n",
       "  216.13,1446.71 226.554,1446.71 236.978,1446.71 247.402,1446.7 257.826,1446.68 268.25,1446.62 278.674,1446.51 289.098,1446.33 299.523,1446.05 309.947,1445.69 \n",
       "  320.371,1445.26 330.795,1444.75 341.219,1444.08 351.643,1443.06 362.067,1441.36 372.491,1438.55 382.915,1434.28 393.339,1428.37 403.763,1420.87 414.188,1411.91 \n",
       "  424.612,1401.45 435.036,1389.12 445.46,1374.26 455.884,1356.22 466.308,1334.69 476.732,1309.82 487.156,1281.92 497.58,1251.05 508.004,1216.71 518.428,1177.95 \n",
       "  528.853,1133.64 539.277,1082.85 549.701,1025.01 560.125,960.135 570.549,889.2 580.973,814.545 591.397,739.84 601.821,669.127 612.245,605.189 622.669,548.139 \n",
       "  633.093,495.285 643.518,442.658 653.942,387.503 664.366,330.262 674.79,274.689 685.214,225.873 695.638,187.355 706.062,159.286 716.486,138.825 726.91,122.389 \n",
       "  737.334,108.035 747.758,96.307 758.183,89.1533 768.607,88.0053 779.031,92.6507 789.455,101.666 799.879,113.739 810.303,128.534 820.727,146.39 831.151,167.3 \n",
       "  841.575,190.247 851.999,213.565 862.423,236.165 872.848,258.71 883.272,283.757 893.696,314.432 904.12,352.284 914.544,395.739 924.968,440.426 935.392,481.397 \n",
       "  945.816,515.857 956.24,544.61 966.664,571.356 977.089,600.414 987.513,634.365 997.937,672.93 1008.36,713.513 1018.78,752.86 1029.21,788.783 1039.63,821.046 \n",
       "  1050.06,851.12 1060.48,881.139 1070.91,912.684 1081.33,946.031 1091.75,980.171 1102.18,1013.49 1112.6,1044.57 1123.03,1072.58 1133.45,1097.22 1143.87,1118.47 \n",
       "  1154.3,1136.55 1164.72,1152 1175.15,1165.71 1185.57,1178.89 1195.99,1192.66 1206.42,1207.7 1216.84,1223.97 1227.27,1240.72 1237.69,1256.93 1248.11,1271.87 \n",
       "  1258.54,1285.33 1268.96,1297.45 1279.39,1308.43 1289.81,1318.36 1300.24,1327.3 1310.66,1335.41 1321.08,1342.86 1331.51,1349.8 1341.93,1356.25 1352.36,1362.17 \n",
       "  1362.78,1367.59 1373.2,1372.63 1383.63,1377.42 1394.05,1381.99 1404.48,1386.1 1414.9,1389.32 1425.32,1391.27 1435.75,1391.95 1446.17,1391.92 1456.6,1392.19 \n",
       "  1467.02,1393.71 1477.44,1396.95 1487.87,1401.66 1498.29,1406.99 1508.72,1411.92 1519.14,1415.71 1529.57,1418.2 1539.99,1419.79 1550.41,1421.11 1560.84,1422.61 \n",
       "  1571.26,1424.34 1581.69,1426.01 1592.11,1427.29 1602.53,1428.09 1612.96,1428.6 1623.38,1429.21 1633.81,1430.21 1644.23,1431.64 1654.65,1433.3 1665.08,1434.85 \n",
       "  1675.5,1436.08 1685.93,1436.97 1696.35,1437.65 1706.77,1438.31 1717.2,1439.06 1727.62,1439.85 1738.05,1440.54 1748.47,1441 1758.9,1441.19 1769.32,1441.2 \n",
       "  1779.74,1441.17 1790.17,1441.26 1800.59,1441.59 1811.02,1442.2 1821.44,1443.03 1831.86,1443.97 1842.29,1444.85 1852.71,1445.57 1863.14,1446.08 1873.56,1446.4 \n",
       "  1883.98,1446.56 1894.41,1446.63 1904.83,1446.62 1915.26,1446.55 1925.68,1446.41 1936.1,1446.23 1946.53,1446.02 1956.95,1445.82 1967.38,1445.66 1977.8,1445.52 \n",
       "  1988.23,1445.38 1998.65,1445.19 2009.07,1444.96 2019.5,1444.75 2029.92,1444.62 2040.35,1444.62 2050.77,1444.72 2061.19,1444.86 2071.62,1444.97 2082.04,1445.05 \n",
       "  2092.47,1445.11 2102.89,1445.19 2113.31,1445.31 2123.74,1445.44 2134.16,1445.56 2144.59,1445.64 2155.01,1445.67 2165.43,1445.68 2175.86,1445.73 2186.28,1445.84 \n",
       "  2196.71,1446.01 2207.13,1446.22 2217.56,1446.4 2227.98,1446.54 2238.4,1446.63 2248.83,1446.68 2259.25,1446.7 2269.68,1446.71 2280.1,1446.71 2290.52,1446.71 \n",
       "  \n",
       "  \"/>\n",
       "<polygon clip-path=\"url(#clip6500)\" points=\"\n",
       "1989.93,251.724 2280.76,251.724 2280.76,130.764 1989.93,130.764 \n",
       "  \" fill=\"#ffffff\" fill-rule=\"evenodd\" fill-opacity=\"1\"/>\n",
       "<polyline clip-path=\"url(#clip6500)\" style=\"stroke:#000000; stroke-width:4; stroke-opacity:1; fill:none\" points=\"\n",
       "  1989.93,251.724 2280.76,251.724 2280.76,130.764 1989.93,130.764 1989.93,251.724 \n",
       "  \"/>\n",
       "<polyline clip-path=\"url(#clip6500)\" style=\"stroke:#009af9; stroke-width:4; stroke-opacity:1; fill:none\" points=\"\n",
       "  2013.93,191.244 2157.93,191.244 \n",
       "  \"/>\n",
       "<g clip-path=\"url(#clip6500)\">\n",
       "<text style=\"fill:#000000; fill-opacity:1; font-family:Arial,Helvetica Neue,Helvetica,sans-serif; font-size:48px; text-anchor:start;\" transform=\"rotate(0, 2181.93, 208.744)\" x=\"2181.93\" y=\"208.744\">y1</text>\n",
       "</g>\n",
       "</svg>\n"
      ],
      "image/svg+xml": [
       "<?xml version=\"1.0\" encoding=\"utf-8\"?>\n",
       "<svg xmlns=\"http://www.w3.org/2000/svg\" xmlns:xlink=\"http://www.w3.org/1999/xlink\" width=\"600\" height=\"400\" viewBox=\"0 0 2400 1600\">\n",
       "<defs>\n",
       "  <clipPath id=\"clip6200\">\n",
       "    <rect x=\"0\" y=\"0\" width=\"2400\" height=\"1600\"/>\n",
       "  </clipPath>\n",
       "</defs>\n",
       "<polygon clip-path=\"url(#clip6200)\" points=\"\n",
       "0,1600 2400,1600 2400,0 0,0 \n",
       "  \" fill=\"#ffffff\" fill-rule=\"evenodd\" fill-opacity=\"1\"/>\n",
       "<defs>\n",
       "  <clipPath id=\"clip6201\">\n",
       "    <rect x=\"480\" y=\"0\" width=\"1681\" height=\"1600\"/>\n",
       "  </clipPath>\n",
       "</defs>\n",
       "<polygon clip-path=\"url(#clip6200)\" points=\"\n",
       "153.898,1487.47 2352.76,1487.47 2352.76,47.2441 153.898,47.2441 \n",
       "  \" fill=\"#ffffff\" fill-rule=\"evenodd\" fill-opacity=\"1\"/>\n",
       "<defs>\n",
       "  <clipPath id=\"clip6202\">\n",
       "    <rect x=\"153\" y=\"47\" width=\"2200\" height=\"1441\"/>\n",
       "  </clipPath>\n",
       "</defs>\n",
       "<polyline clip-path=\"url(#clip6202)\" style=\"stroke:#000000; stroke-width:2; stroke-opacity:0.1; fill:none\" points=\"\n",
       "  458.173,1487.47 458.173,47.2441 \n",
       "  \"/>\n",
       "<polyline clip-path=\"url(#clip6202)\" style=\"stroke:#000000; stroke-width:2; stroke-opacity:0.1; fill:none\" points=\"\n",
       "  838.182,1487.47 838.182,47.2441 \n",
       "  \"/>\n",
       "<polyline clip-path=\"url(#clip6202)\" style=\"stroke:#000000; stroke-width:2; stroke-opacity:0.1; fill:none\" points=\"\n",
       "  1218.19,1487.47 1218.19,47.2441 \n",
       "  \"/>\n",
       "<polyline clip-path=\"url(#clip6202)\" style=\"stroke:#000000; stroke-width:2; stroke-opacity:0.1; fill:none\" points=\"\n",
       "  1598.2,1487.47 1598.2,47.2441 \n",
       "  \"/>\n",
       "<polyline clip-path=\"url(#clip6202)\" style=\"stroke:#000000; stroke-width:2; stroke-opacity:0.1; fill:none\" points=\"\n",
       "  1978.21,1487.47 1978.21,47.2441 \n",
       "  \"/>\n",
       "<polyline clip-path=\"url(#clip6202)\" style=\"stroke:#000000; stroke-width:2; stroke-opacity:0.1; fill:none\" points=\"\n",
       "  153.898,1446.71 2352.76,1446.71 \n",
       "  \"/>\n",
       "<polyline clip-path=\"url(#clip6202)\" style=\"stroke:#000000; stroke-width:2; stroke-opacity:0.1; fill:none\" points=\"\n",
       "  153.898,1027.33 2352.76,1027.33 \n",
       "  \"/>\n",
       "<polyline clip-path=\"url(#clip6202)\" style=\"stroke:#000000; stroke-width:2; stroke-opacity:0.1; fill:none\" points=\"\n",
       "  153.898,607.945 2352.76,607.945 \n",
       "  \"/>\n",
       "<polyline clip-path=\"url(#clip6202)\" style=\"stroke:#000000; stroke-width:2; stroke-opacity:0.1; fill:none\" points=\"\n",
       "  153.898,188.561 2352.76,188.561 \n",
       "  \"/>\n",
       "<polyline clip-path=\"url(#clip6200)\" style=\"stroke:#000000; stroke-width:4; stroke-opacity:1; fill:none\" points=\"\n",
       "  153.898,1487.47 2352.76,1487.47 \n",
       "  \"/>\n",
       "<polyline clip-path=\"url(#clip6200)\" style=\"stroke:#000000; stroke-width:4; stroke-opacity:1; fill:none\" points=\"\n",
       "  153.898,1487.47 153.898,47.2441 \n",
       "  \"/>\n",
       "<polyline clip-path=\"url(#clip6200)\" style=\"stroke:#000000; stroke-width:4; stroke-opacity:1; fill:none\" points=\"\n",
       "  458.173,1487.47 458.173,1465.87 \n",
       "  \"/>\n",
       "<polyline clip-path=\"url(#clip6200)\" style=\"stroke:#000000; stroke-width:4; stroke-opacity:1; fill:none\" points=\"\n",
       "  838.182,1487.47 838.182,1465.87 \n",
       "  \"/>\n",
       "<polyline clip-path=\"url(#clip6200)\" style=\"stroke:#000000; stroke-width:4; stroke-opacity:1; fill:none\" points=\"\n",
       "  1218.19,1487.47 1218.19,1465.87 \n",
       "  \"/>\n",
       "<polyline clip-path=\"url(#clip6200)\" style=\"stroke:#000000; stroke-width:4; stroke-opacity:1; fill:none\" points=\"\n",
       "  1598.2,1487.47 1598.2,1465.87 \n",
       "  \"/>\n",
       "<polyline clip-path=\"url(#clip6200)\" style=\"stroke:#000000; stroke-width:4; stroke-opacity:1; fill:none\" points=\"\n",
       "  1978.21,1487.47 1978.21,1465.87 \n",
       "  \"/>\n",
       "<polyline clip-path=\"url(#clip6200)\" style=\"stroke:#000000; stroke-width:4; stroke-opacity:1; fill:none\" points=\"\n",
       "  153.898,1446.71 186.881,1446.71 \n",
       "  \"/>\n",
       "<polyline clip-path=\"url(#clip6200)\" style=\"stroke:#000000; stroke-width:4; stroke-opacity:1; fill:none\" points=\"\n",
       "  153.898,1027.33 186.881,1027.33 \n",
       "  \"/>\n",
       "<polyline clip-path=\"url(#clip6200)\" style=\"stroke:#000000; stroke-width:4; stroke-opacity:1; fill:none\" points=\"\n",
       "  153.898,607.945 186.881,607.945 \n",
       "  \"/>\n",
       "<polyline clip-path=\"url(#clip6200)\" style=\"stroke:#000000; stroke-width:4; stroke-opacity:1; fill:none\" points=\"\n",
       "  153.898,188.561 186.881,188.561 \n",
       "  \"/>\n",
       "<g clip-path=\"url(#clip6200)\">\n",
       "<text style=\"fill:#000000; fill-opacity:1; font-family:Arial,Helvetica Neue,Helvetica,sans-serif; font-size:48px; text-anchor:middle;\" transform=\"rotate(0, 458.173, 1541.47)\" x=\"458.173\" y=\"1541.47\">5.0</text>\n",
       "</g>\n",
       "<g clip-path=\"url(#clip6200)\">\n",
       "<text style=\"fill:#000000; fill-opacity:1; font-family:Arial,Helvetica Neue,Helvetica,sans-serif; font-size:48px; text-anchor:middle;\" transform=\"rotate(0, 838.182, 1541.47)\" x=\"838.182\" y=\"1541.47\">7.5</text>\n",
       "</g>\n",
       "<g clip-path=\"url(#clip6200)\">\n",
       "<text style=\"fill:#000000; fill-opacity:1; font-family:Arial,Helvetica Neue,Helvetica,sans-serif; font-size:48px; text-anchor:middle;\" transform=\"rotate(0, 1218.19, 1541.47)\" x=\"1218.19\" y=\"1541.47\">10.0</text>\n",
       "</g>\n",
       "<g clip-path=\"url(#clip6200)\">\n",
       "<text style=\"fill:#000000; fill-opacity:1; font-family:Arial,Helvetica Neue,Helvetica,sans-serif; font-size:48px; text-anchor:middle;\" transform=\"rotate(0, 1598.2, 1541.47)\" x=\"1598.2\" y=\"1541.47\">12.5</text>\n",
       "</g>\n",
       "<g clip-path=\"url(#clip6200)\">\n",
       "<text style=\"fill:#000000; fill-opacity:1; font-family:Arial,Helvetica Neue,Helvetica,sans-serif; font-size:48px; text-anchor:middle;\" transform=\"rotate(0, 1978.21, 1541.47)\" x=\"1978.21\" y=\"1541.47\">15.0</text>\n",
       "</g>\n",
       "<g clip-path=\"url(#clip6200)\">\n",
       "<text style=\"fill:#000000; fill-opacity:1; font-family:Arial,Helvetica Neue,Helvetica,sans-serif; font-size:48px; text-anchor:end;\" transform=\"rotate(0, 129.898, 1464.21)\" x=\"129.898\" y=\"1464.21\">0.0</text>\n",
       "</g>\n",
       "<g clip-path=\"url(#clip6200)\">\n",
       "<text style=\"fill:#000000; fill-opacity:1; font-family:Arial,Helvetica Neue,Helvetica,sans-serif; font-size:48px; text-anchor:end;\" transform=\"rotate(0, 129.898, 1044.83)\" x=\"129.898\" y=\"1044.83\">0.1</text>\n",
       "</g>\n",
       "<g clip-path=\"url(#clip6200)\">\n",
       "<text style=\"fill:#000000; fill-opacity:1; font-family:Arial,Helvetica Neue,Helvetica,sans-serif; font-size:48px; text-anchor:end;\" transform=\"rotate(0, 129.898, 625.445)\" x=\"129.898\" y=\"625.445\">0.2</text>\n",
       "</g>\n",
       "<g clip-path=\"url(#clip6200)\">\n",
       "<text style=\"fill:#000000; fill-opacity:1; font-family:Arial,Helvetica Neue,Helvetica,sans-serif; font-size:48px; text-anchor:end;\" transform=\"rotate(0, 129.898, 206.061)\" x=\"129.898\" y=\"206.061\">0.3</text>\n",
       "</g>\n",
       "<polyline clip-path=\"url(#clip6202)\" style=\"stroke:#009af9; stroke-width:4; stroke-opacity:1; fill:none\" points=\"\n",
       "  216.13,1446.71 226.554,1446.71 236.978,1446.71 247.402,1446.7 257.826,1446.68 268.25,1446.62 278.674,1446.51 289.098,1446.33 299.523,1446.05 309.947,1445.69 \n",
       "  320.371,1445.26 330.795,1444.75 341.219,1444.08 351.643,1443.06 362.067,1441.36 372.491,1438.55 382.915,1434.28 393.339,1428.37 403.763,1420.87 414.188,1411.91 \n",
       "  424.612,1401.45 435.036,1389.12 445.46,1374.26 455.884,1356.22 466.308,1334.69 476.732,1309.82 487.156,1281.92 497.58,1251.05 508.004,1216.71 518.428,1177.95 \n",
       "  528.853,1133.64 539.277,1082.85 549.701,1025.01 560.125,960.135 570.549,889.2 580.973,814.545 591.397,739.84 601.821,669.127 612.245,605.189 622.669,548.139 \n",
       "  633.093,495.285 643.518,442.658 653.942,387.503 664.366,330.262 674.79,274.689 685.214,225.873 695.638,187.355 706.062,159.286 716.486,138.825 726.91,122.389 \n",
       "  737.334,108.035 747.758,96.307 758.183,89.1533 768.607,88.0053 779.031,92.6507 789.455,101.666 799.879,113.739 810.303,128.534 820.727,146.39 831.151,167.3 \n",
       "  841.575,190.247 851.999,213.565 862.423,236.165 872.848,258.71 883.272,283.757 893.696,314.432 904.12,352.284 914.544,395.739 924.968,440.426 935.392,481.397 \n",
       "  945.816,515.857 956.24,544.61 966.664,571.356 977.089,600.414 987.513,634.365 997.937,672.93 1008.36,713.513 1018.78,752.86 1029.21,788.783 1039.63,821.046 \n",
       "  1050.06,851.12 1060.48,881.139 1070.91,912.684 1081.33,946.031 1091.75,980.171 1102.18,1013.49 1112.6,1044.57 1123.03,1072.58 1133.45,1097.22 1143.87,1118.47 \n",
       "  1154.3,1136.55 1164.72,1152 1175.15,1165.71 1185.57,1178.89 1195.99,1192.66 1206.42,1207.7 1216.84,1223.97 1227.27,1240.72 1237.69,1256.93 1248.11,1271.87 \n",
       "  1258.54,1285.33 1268.96,1297.45 1279.39,1308.43 1289.81,1318.36 1300.24,1327.3 1310.66,1335.41 1321.08,1342.86 1331.51,1349.8 1341.93,1356.25 1352.36,1362.17 \n",
       "  1362.78,1367.59 1373.2,1372.63 1383.63,1377.42 1394.05,1381.99 1404.48,1386.1 1414.9,1389.32 1425.32,1391.27 1435.75,1391.95 1446.17,1391.92 1456.6,1392.19 \n",
       "  1467.02,1393.71 1477.44,1396.95 1487.87,1401.66 1498.29,1406.99 1508.72,1411.92 1519.14,1415.71 1529.57,1418.2 1539.99,1419.79 1550.41,1421.11 1560.84,1422.61 \n",
       "  1571.26,1424.34 1581.69,1426.01 1592.11,1427.29 1602.53,1428.09 1612.96,1428.6 1623.38,1429.21 1633.81,1430.21 1644.23,1431.64 1654.65,1433.3 1665.08,1434.85 \n",
       "  1675.5,1436.08 1685.93,1436.97 1696.35,1437.65 1706.77,1438.31 1717.2,1439.06 1727.62,1439.85 1738.05,1440.54 1748.47,1441 1758.9,1441.19 1769.32,1441.2 \n",
       "  1779.74,1441.17 1790.17,1441.26 1800.59,1441.59 1811.02,1442.2 1821.44,1443.03 1831.86,1443.97 1842.29,1444.85 1852.71,1445.57 1863.14,1446.08 1873.56,1446.4 \n",
       "  1883.98,1446.56 1894.41,1446.63 1904.83,1446.62 1915.26,1446.55 1925.68,1446.41 1936.1,1446.23 1946.53,1446.02 1956.95,1445.82 1967.38,1445.66 1977.8,1445.52 \n",
       "  1988.23,1445.38 1998.65,1445.19 2009.07,1444.96 2019.5,1444.75 2029.92,1444.62 2040.35,1444.62 2050.77,1444.72 2061.19,1444.86 2071.62,1444.97 2082.04,1445.05 \n",
       "  2092.47,1445.11 2102.89,1445.19 2113.31,1445.31 2123.74,1445.44 2134.16,1445.56 2144.59,1445.64 2155.01,1445.67 2165.43,1445.68 2175.86,1445.73 2186.28,1445.84 \n",
       "  2196.71,1446.01 2207.13,1446.22 2217.56,1446.4 2227.98,1446.54 2238.4,1446.63 2248.83,1446.68 2259.25,1446.7 2269.68,1446.71 2280.1,1446.71 2290.52,1446.71 \n",
       "  \n",
       "  \"/>\n",
       "<polygon clip-path=\"url(#clip6200)\" points=\"\n",
       "1989.93,251.724 2280.76,251.724 2280.76,130.764 1989.93,130.764 \n",
       "  \" fill=\"#ffffff\" fill-rule=\"evenodd\" fill-opacity=\"1\"/>\n",
       "<polyline clip-path=\"url(#clip6200)\" style=\"stroke:#000000; stroke-width:4; stroke-opacity:1; fill:none\" points=\"\n",
       "  1989.93,251.724 2280.76,251.724 2280.76,130.764 1989.93,130.764 1989.93,251.724 \n",
       "  \"/>\n",
       "<polyline clip-path=\"url(#clip6200)\" style=\"stroke:#009af9; stroke-width:4; stroke-opacity:1; fill:none\" points=\"\n",
       "  2013.93,191.244 2157.93,191.244 \n",
       "  \"/>\n",
       "<g clip-path=\"url(#clip6200)\">\n",
       "<text style=\"fill:#000000; fill-opacity:1; font-family:Arial,Helvetica Neue,Helvetica,sans-serif; font-size:48px; text-anchor:start;\" transform=\"rotate(0, 2181.93, 208.744)\" x=\"2181.93\" y=\"208.744\">y1</text>\n",
       "</g>\n",
       "</svg>\n"
      ]
     },
     "metadata": {},
     "execution_count": 8
    }
   ],
   "cell_type": "code",
   "source": [
    "density(samples[:sigma])"
   ],
   "metadata": {},
   "execution_count": 8
  },
  {
   "outputs": [],
   "cell_type": "markdown",
   "source": [
    "End of `clip-21-23.jl`"
   ],
   "metadata": {}
  },
  {
   "outputs": [],
   "cell_type": "markdown",
   "source": [
    "*This notebook was generated using [Literate.jl](https://github.com/fredrikekre/Literate.jl).*"
   ],
   "metadata": {}
  }
 ],
 "nbformat_minor": 3,
 "metadata": {
  "language_info": {
   "file_extension": ".jl",
   "mimetype": "application/julia",
   "name": "julia",
   "version": "1.3.0-DEV.558"
  },
  "kernelspec": {
   "name": "julia-1.3",
   "display_name": "Julia 1.3.0-DEV.558",
   "language": "julia"
  }
 },
 "nbformat": 4
}
