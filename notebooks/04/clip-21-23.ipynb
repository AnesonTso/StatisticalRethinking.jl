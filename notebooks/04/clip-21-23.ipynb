{
 "cells": [
  {
   "outputs": [],
   "cell_type": "markdown",
   "source": [
    "Load Julia packages (libraries) needed  for the snippets in chapter 0"
   ],
   "metadata": {}
  },
  {
   "outputs": [],
   "cell_type": "code",
   "source": [
    "using StatisticalRethinking, CmdStan\n",
    "gr(size=(500,500));"
   ],
   "metadata": {},
   "execution_count": 1
  },
  {
   "outputs": [],
   "cell_type": "markdown",
   "source": [
    "CmdStan uses a tmp directory to store the output of cmdstan"
   ],
   "metadata": {}
  },
  {
   "outputs": [],
   "cell_type": "code",
   "source": [
    "ProjDir = rel_path(\"..\", \"scripts\", \"04\")\n",
    "cd(ProjDir)"
   ],
   "metadata": {},
   "execution_count": 2
  },
  {
   "outputs": [],
   "cell_type": "markdown",
   "source": [
    "CmdStan uses a tmp directory to store the output of cmdstan"
   ],
   "metadata": {}
  },
  {
   "outputs": [],
   "cell_type": "code",
   "source": [
    "ProjDir = rel_path(\"..\", \"scripts\", \"04\")\n",
    "cd(ProjDir)"
   ],
   "metadata": {},
   "execution_count": 3
  },
  {
   "outputs": [
    {
     "output_type": "execute_result",
     "data": {
      "text/plain": "5×4 DataFrame\n│ Row │ height  │ weight  │ age     │ male  │\n│     │ \u001b[90mFloat64\u001b[39m │ \u001b[90mFloat64\u001b[39m │ \u001b[90mFloat64\u001b[39m │ \u001b[90mInt64\u001b[39m │\n├─────┼─────────┼─────────┼─────────┼───────┤\n│ 1   │ 151.765 │ 47.8256 │ 63.0    │ 1     │\n│ 2   │ 139.7   │ 36.4858 │ 63.0    │ 0     │\n│ 3   │ 136.525 │ 31.8648 │ 65.0    │ 0     │\n│ 4   │ 156.845 │ 53.0419 │ 41.0    │ 1     │\n│ 5   │ 145.415 │ 41.2769 │ 51.0    │ 0     │",
      "text/html": [
       "<table class=\"data-frame\"><thead><tr><th></th><th>height</th><th>weight</th><th>age</th><th>male</th></tr><tr><th></th><th>Float64</th><th>Float64</th><th>Float64</th><th>Int64</th></tr></thead><tbody><p>5 rows × 4 columns</p><tr><th>1</th><td>151.765</td><td>47.8256</td><td>63.0</td><td>1</td></tr><tr><th>2</th><td>139.7</td><td>36.4858</td><td>63.0</td><td>0</td></tr><tr><th>3</th><td>136.525</td><td>31.8648</td><td>65.0</td><td>0</td></tr><tr><th>4</th><td>156.845</td><td>53.0419</td><td>41.0</td><td>1</td></tr><tr><th>5</th><td>145.415</td><td>41.2769</td><td>51.0</td><td>0</td></tr></tbody></table>"
      ]
     },
     "metadata": {},
     "execution_count": 4
    }
   ],
   "cell_type": "code",
   "source": [
    "howell1 = CSV.read(rel_path(\"..\", \"data\", \"Howell1.csv\"), delim=';')\n",
    "df = convert(DataFrame, howell1);\n",
    "df2 = filter(row -> row[:age] >= 18, df);\n",
    "first(df2, 5)"
   ],
   "metadata": {},
   "execution_count": 4
  },
  {
   "outputs": [],
   "cell_type": "markdown",
   "source": [
    "### Snippet 4.21"
   ],
   "metadata": {}
  },
  {
   "outputs": [],
   "cell_type": "markdown",
   "source": [
    "Sample 20 random heights"
   ],
   "metadata": {}
  },
  {
   "outputs": [],
   "cell_type": "code",
   "source": [
    "n = size(df2, 1)\n",
    "selected_ind = sample(1:n, 20, replace=false);\n",
    "df3 = df2[selected_ind, :];"
   ],
   "metadata": {},
   "execution_count": 5
  },
  {
   "outputs": [],
   "cell_type": "markdown",
   "source": [
    "### Snippet 4.22"
   ],
   "metadata": {}
  },
  {
   "outputs": [],
   "cell_type": "markdown",
   "source": [
    "Generate approximate probabilities"
   ],
   "metadata": {}
  },
  {
   "outputs": [
    {
     "name": "stdout",
     "output_type": "stream",
     "text": [
      "┌ Warning: `getindex(df::DataFrame, col_ind::ColumnIndex)` is deprecated, use `df[!, col_ind]` instead.\n",
      "│   caller = top-level scope at string:15\n",
      "└ @ Core ./string:15\n"
     ]
    },
    {
     "output_type": "execute_result",
     "data": {
      "text/plain": "10×5 DataFrame\n│ Row │ mu      │ sigma   │ ll       │ prod     │ prob        │\n│     │ \u001b[90mFloat64\u001b[39m │ \u001b[90mFloat64\u001b[39m │ \u001b[90mFloat64\u001b[39m  │ \u001b[90mFloat64\u001b[39m  │ \u001b[90mFloat64\u001b[39m     │\n├─────┼─────────┼─────────┼──────────┼──────────┼─────────────┤\n│ 1   │ 140.0   │ 4.0     │ -186.958 │ -196.59  │ 4.67294e-53 │\n│ 2   │ 140.151 │ 4.0     │ -184.477 │ -194.094 │ 5.6661e-52  │\n│ 3   │ 140.302 │ 4.0     │ -182.024 │ -191.627 │ 6.67753e-51 │\n│ 4   │ 140.452 │ 4.0     │ -179.6   │ -189.189 │ 7.64866e-50 │\n│ 5   │ 140.603 │ 4.0     │ -177.204 │ -186.779 │ 8.51515e-49 │\n│ 6   │ 140.754 │ 4.0     │ -174.837 │ -184.398 │ 9.21377e-48 │\n│ 7   │ 140.905 │ 4.0     │ -172.498 │ -182.045 │ 9.68991e-47 │\n│ 8   │ 141.055 │ 4.0     │ -170.187 │ -179.72  │ 9.90467e-46 │\n│ 9   │ 141.206 │ 4.0     │ -167.905 │ -177.424 │ 9.84007e-45 │\n│ 10  │ 141.357 │ 4.0     │ -165.652 │ -175.157 │ 9.50154e-44 │",
      "text/html": [
       "<table class=\"data-frame\"><thead><tr><th></th><th>mu</th><th>sigma</th><th>ll</th><th>prod</th><th>prob</th></tr><tr><th></th><th>Float64</th><th>Float64</th><th>Float64</th><th>Float64</th><th>Float64</th></tr></thead><tbody><p>10 rows × 5 columns</p><tr><th>1</th><td>140.0</td><td>4.0</td><td>-186.958</td><td>-196.59</td><td>4.67294e-53</td></tr><tr><th>2</th><td>140.151</td><td>4.0</td><td>-184.477</td><td>-194.094</td><td>5.6661e-52</td></tr><tr><th>3</th><td>140.302</td><td>4.0</td><td>-182.024</td><td>-191.627</td><td>6.67753e-51</td></tr><tr><th>4</th><td>140.452</td><td>4.0</td><td>-179.6</td><td>-189.189</td><td>7.64866e-50</td></tr><tr><th>5</th><td>140.603</td><td>4.0</td><td>-177.204</td><td>-186.779</td><td>8.51515e-49</td></tr><tr><th>6</th><td>140.754</td><td>4.0</td><td>-174.837</td><td>-184.398</td><td>9.21377e-48</td></tr><tr><th>7</th><td>140.905</td><td>4.0</td><td>-172.498</td><td>-182.045</td><td>9.68991e-47</td></tr><tr><th>8</th><td>141.055</td><td>4.0</td><td>-170.187</td><td>-179.72</td><td>9.90467e-46</td></tr><tr><th>9</th><td>141.206</td><td>4.0</td><td>-167.905</td><td>-177.424</td><td>9.84007e-45</td></tr><tr><th>10</th><td>141.357</td><td>4.0</td><td>-165.652</td><td>-175.157</td><td>9.50154e-44</td></tr></tbody></table>"
      ]
     },
     "metadata": {},
     "execution_count": 6
    }
   ],
   "cell_type": "code",
   "source": [
    "struct Post\n",
    "  mu::Float64\n",
    "  sigma::Float64\n",
    "  ll:: Float64\n",
    "  prod::Float64\n",
    "  prob::Float64\n",
    "end\n",
    "\n",
    "mu_list = repeat(range(140, 170, length=200), 200);\n",
    "sigma_list = repeat(range(4, 20, length=200), inner=200);\n",
    "\n",
    "ll = zeros(40000);\n",
    "for i in 1:40000\n",
    "    d1 = Normal(mu_list[i], sigma_list[i])\n",
    "    ll[i] = sum(log.(pdf.(d1, df3[:height])))\n",
    "end\n",
    "\n",
    "d2 = Normal(178.0, 20.0)\n",
    "d3 = Uniform(0, 50)\n",
    "prod = ll + log.(pdf.(d2, mu_list)) + log.(pdf.(d3, sigma_list))\n",
    "prob = exp.(prod .- maximum(prod))\n",
    "post = DataFrame(mu=mu_list, sigma=sigma_list, ll=ll, prod=prod, prob=prob)\n",
    "first(post, 10)"
   ],
   "metadata": {},
   "execution_count": 6
  },
  {
   "outputs": [],
   "cell_type": "markdown",
   "source": [
    "Sample post"
   ],
   "metadata": {}
  },
  {
   "outputs": [
    {
     "name": "stdout",
     "output_type": "stream",
     "text": [
      "┌ Warning: `getindex(df::DataFrame, col_ind::ColumnIndex)` is deprecated, use `df[!, col_ind]` instead.\n",
      "│   caller = top-level scope at string:1\n",
      "└ @ Core string:1\n"
     ]
    },
    {
     "output_type": "execute_result",
     "data": {
      "text/plain": "10000×5 DataFrame\n│ Row   │ mu      │ sigma   │ ll       │ prod     │ prob      │\n│       │ \u001b[90mFloat64\u001b[39m │ \u001b[90mFloat64\u001b[39m │ \u001b[90mFloat64\u001b[39m  │ \u001b[90mFloat64\u001b[39m  │ \u001b[90mFloat64\u001b[39m   │\n├───────┼─────────┼─────────┼──────────┼──────────┼───────────┤\n│ 1     │ 153.568 │ 7.61809 │ -67.6291 │ -76.202  │ 0.898016  │\n│ 2     │ 149.196 │ 8.1005  │ -70.3363 │ -79.2001 │ 0.0447946 │\n│ 3     │ 152.965 │ 6.97487 │ -67.5256 │ -76.1358 │ 0.959452  │\n│ 4     │ 153.719 │ 6.33166 │ -67.8275 │ -76.3912 │ 0.743205  │\n│ 5     │ 151.91  │ 7.05528 │ -67.8624 │ -76.5399 │ 0.640473  │\n│ 6     │ 154.02  │ 8.0201  │ -67.8909 │ -76.4364 │ 0.710355  │\n│ 7     │ 153.719 │ 6.33166 │ -67.8275 │ -76.3912 │ 0.743205  │\n⋮\n│ 9993  │ 152.211 │ 7.69849 │ -67.8206 │ -76.4787 │ 0.680952  │\n│ 9994  │ 155.678 │ 8.1809  │ -68.7783 │ -77.2278 │ 0.321927  │\n│ 9995  │ 154.774 │ 8.42211 │ -68.381  │ -76.8821 │ 0.454906  │\n│ 9996  │ 152.362 │ 7.05528 │ -67.6615 │ -76.3098 │ 0.806213  │\n│ 9997  │ 154.322 │ 8.98492 │ -68.6322 │ -77.1597 │ 0.344615  │\n│ 9998  │ 151.457 │ 6.25126 │ -68.6526 │ -77.3599 │ 0.282095  │\n│ 9999  │ 157.186 │ 9.22613 │ -70.5257 │ -78.8939 │ 0.0608414 │\n│ 10000 │ 153.116 │ 6.97487 │ -67.5132 │ -76.1139 │ 0.980663  │",
      "text/html": [
       "<table class=\"data-frame\"><thead><tr><th></th><th>mu</th><th>sigma</th><th>ll</th><th>prod</th><th>prob</th></tr><tr><th></th><th>Float64</th><th>Float64</th><th>Float64</th><th>Float64</th><th>Float64</th></tr></thead><tbody><p>10,000 rows × 5 columns</p><tr><th>1</th><td>153.568</td><td>7.61809</td><td>-67.6291</td><td>-76.202</td><td>0.898016</td></tr><tr><th>2</th><td>149.196</td><td>8.1005</td><td>-70.3363</td><td>-79.2001</td><td>0.0447946</td></tr><tr><th>3</th><td>152.965</td><td>6.97487</td><td>-67.5256</td><td>-76.1358</td><td>0.959452</td></tr><tr><th>4</th><td>153.719</td><td>6.33166</td><td>-67.8275</td><td>-76.3912</td><td>0.743205</td></tr><tr><th>5</th><td>151.91</td><td>7.05528</td><td>-67.8624</td><td>-76.5399</td><td>0.640473</td></tr><tr><th>6</th><td>154.02</td><td>8.0201</td><td>-67.8909</td><td>-76.4364</td><td>0.710355</td></tr><tr><th>7</th><td>153.719</td><td>6.33166</td><td>-67.8275</td><td>-76.3912</td><td>0.743205</td></tr><tr><th>8</th><td>153.568</td><td>6.41206</td><td>-67.7379</td><td>-76.3108</td><td>0.805409</td></tr><tr><th>9</th><td>155.075</td><td>9.54774</td><td>-69.3626</td><td>-77.8462</td><td>0.173456</td></tr><tr><th>10</th><td>153.568</td><td>8.58291</td><td>-68.1808</td><td>-76.7537</td><td>0.517235</td></tr><tr><th>11</th><td>155.678</td><td>9.06533</td><td>-69.2791</td><td>-77.7286</td><td>0.195105</td></tr><tr><th>12</th><td>154.925</td><td>11.5578</td><td>-71.2837</td><td>-79.776</td><td>0.0251827</td></tr><tr><th>13</th><td>153.266</td><td>6.01005</td><td>-68.0997</td><td>-76.6911</td><td>0.550622</td></tr><tr><th>14</th><td>156.884</td><td>9.94975</td><td>-70.7246</td><td>-79.1086</td><td>0.0490844</td></tr><tr><th>15</th><td>153.869</td><td>6.97487</td><td>-67.591</td><td>-76.1456</td><td>0.950096</td></tr><tr><th>16</th><td>151.307</td><td>6.49246</td><td>-68.5497</td><td>-77.267</td><td>0.309546</td></tr><tr><th>17</th><td>151.457</td><td>6.81407</td><td>-68.22</td><td>-76.9273</td><td>0.434763</td></tr><tr><th>18</th><td>153.266</td><td>6.09045</td><td>-68.0022</td><td>-76.5936</td><td>0.607035</td></tr><tr><th>19</th><td>154.472</td><td>10.593</td><td>-70.1766</td><td>-78.6953</td><td>0.0742085</td></tr><tr><th>20</th><td>152.513</td><td>5.76884</td><td>-68.6224</td><td>-77.2611</td><td>0.311376</td></tr><tr><th>21</th><td>154.774</td><td>8.1005</td><td>-68.2004</td><td>-76.7014</td><td>0.544969</td></tr><tr><th>22</th><td>155.98</td><td>9.14573</td><td>-69.523</td><td>-77.9558</td><td>0.155447</td></tr><tr><th>23</th><td>151.759</td><td>9.46734</td><td>-69.1633</td><td>-77.8507</td><td>0.172682</td></tr><tr><th>24</th><td>152.513</td><td>6.65327</td><td>-67.7041</td><td>-76.3428</td><td>0.780039</td></tr><tr><th>&vellip;</th><td>&vellip;</td><td>&vellip;</td><td>&vellip;</td><td>&vellip;</td><td>&vellip;</td></tr></tbody></table>"
      ]
     },
     "metadata": {},
     "execution_count": 7
    }
   ],
   "cell_type": "code",
   "source": [
    "samples = post[sample(1:size(post, 1), Weights(post[:prob]), 10000, replace=true), :]"
   ],
   "metadata": {},
   "execution_count": 7
  },
  {
   "outputs": [],
   "cell_type": "markdown",
   "source": [
    "### Snippet 4.23"
   ],
   "metadata": {}
  },
  {
   "outputs": [],
   "cell_type": "markdown",
   "source": [
    "Density of sigma"
   ],
   "metadata": {}
  },
  {
   "outputs": [
    {
     "name": "stdout",
     "output_type": "stream",
     "text": [
      "┌ Warning: `getindex(df::DataFrame, col_ind::ColumnIndex)` is deprecated, use `df[!, col_ind]` instead.\n",
      "│   caller = top-level scope at string:1\n",
      "└ @ Core string:1\n"
     ]
    },
    {
     "output_type": "execute_result",
     "data": {
      "text/plain": "Plot{Plots.GRBackend() n=1}",
      "image/png": "[encoded data removed]",
      "text/html": [
       "<?xml version=\"1.0\" encoding=\"utf-8\"?>\n",
       "<svg xmlns=\"http://www.w3.org/2000/svg\" xmlns:xlink=\"http://www.w3.org/1999/xlink\" width=\"500\" height=\"500\" viewBox=\"0 0 2000 2000\">\n",
       "<defs>\n",
       "  <clipPath id=\"clip9500\">\n",
       "    <rect x=\"0\" y=\"0\" width=\"2000\" height=\"2000\"/>\n",
       "  </clipPath>\n",
       "</defs>\n",
       "<polygon clip-path=\"url(#clip9500)\" points=\"\n",
       "0,2000 2000,2000 2000,0 0,0 \n",
       "  \" fill=\"#ffffff\" fill-rule=\"evenodd\" fill-opacity=\"1\"/>\n",
       "<defs>\n",
       "  <clipPath id=\"clip9501\">\n",
       "    <rect x=\"400\" y=\"200\" width=\"1401\" height=\"1401\"/>\n",
       "  </clipPath>\n",
       "</defs>\n",
       "<polygon clip-path=\"url(#clip9500)\" points=\"\n",
       "149.898,1866.71 1952.76,1866.71 1952.76,47.2441 149.898,47.2441 \n",
       "  \" fill=\"#ffffff\" fill-rule=\"evenodd\" fill-opacity=\"1\"/>\n",
       "<defs>\n",
       "  <clipPath id=\"clip9502\">\n",
       "    <rect x=\"149\" y=\"47\" width=\"1804\" height=\"1820\"/>\n",
       "  </clipPath>\n",
       "</defs>\n",
       "<polyline clip-path=\"url(#clip9502)\" style=\"stroke:#000000; stroke-width:2; stroke-opacity:0.1; fill:none\" points=\"\n",
       "  353.887,1866.71 353.887,47.2441 \n",
       "  \"/>\n",
       "<polyline clip-path=\"url(#clip9502)\" style=\"stroke:#000000; stroke-width:2; stroke-opacity:0.1; fill:none\" points=\"\n",
       "  654.82,1866.71 654.82,47.2441 \n",
       "  \"/>\n",
       "<polyline clip-path=\"url(#clip9502)\" style=\"stroke:#000000; stroke-width:2; stroke-opacity:0.1; fill:none\" points=\"\n",
       "  955.754,1866.71 955.754,47.2441 \n",
       "  \"/>\n",
       "<polyline clip-path=\"url(#clip9502)\" style=\"stroke:#000000; stroke-width:2; stroke-opacity:0.1; fill:none\" points=\"\n",
       "  1256.69,1866.71 1256.69,47.2441 \n",
       "  \"/>\n",
       "<polyline clip-path=\"url(#clip9502)\" style=\"stroke:#000000; stroke-width:2; stroke-opacity:0.1; fill:none\" points=\"\n",
       "  1557.62,1866.71 1557.62,47.2441 \n",
       "  \"/>\n",
       "<polyline clip-path=\"url(#clip9502)\" style=\"stroke:#000000; stroke-width:2; stroke-opacity:0.1; fill:none\" points=\"\n",
       "  1858.56,1866.71 1858.56,47.2441 \n",
       "  \"/>\n",
       "<polyline clip-path=\"url(#clip9502)\" style=\"stroke:#000000; stroke-width:2; stroke-opacity:0.1; fill:none\" points=\"\n",
       "  149.898,1815.21 1952.76,1815.21 \n",
       "  \"/>\n",
       "<polyline clip-path=\"url(#clip9502)\" style=\"stroke:#000000; stroke-width:2; stroke-opacity:0.1; fill:none\" points=\"\n",
       "  149.898,1271.77 1952.76,1271.77 \n",
       "  \"/>\n",
       "<polyline clip-path=\"url(#clip9502)\" style=\"stroke:#000000; stroke-width:2; stroke-opacity:0.1; fill:none\" points=\"\n",
       "  149.898,728.319 1952.76,728.319 \n",
       "  \"/>\n",
       "<polyline clip-path=\"url(#clip9502)\" style=\"stroke:#000000; stroke-width:2; stroke-opacity:0.1; fill:none\" points=\"\n",
       "  149.898,184.872 1952.76,184.872 \n",
       "  \"/>\n",
       "<polyline clip-path=\"url(#clip9500)\" style=\"stroke:#000000; stroke-width:4; stroke-opacity:1; fill:none\" points=\"\n",
       "  149.898,1866.71 1952.76,1866.71 \n",
       "  \"/>\n",
       "<polyline clip-path=\"url(#clip9500)\" style=\"stroke:#000000; stroke-width:4; stroke-opacity:1; fill:none\" points=\"\n",
       "  149.898,1866.71 149.898,47.2441 \n",
       "  \"/>\n",
       "<polyline clip-path=\"url(#clip9500)\" style=\"stroke:#000000; stroke-width:4; stroke-opacity:1; fill:none\" points=\"\n",
       "  353.887,1866.71 353.887,1839.42 \n",
       "  \"/>\n",
       "<polyline clip-path=\"url(#clip9500)\" style=\"stroke:#000000; stroke-width:4; stroke-opacity:1; fill:none\" points=\"\n",
       "  654.82,1866.71 654.82,1839.42 \n",
       "  \"/>\n",
       "<polyline clip-path=\"url(#clip9500)\" style=\"stroke:#000000; stroke-width:4; stroke-opacity:1; fill:none\" points=\"\n",
       "  955.754,1866.71 955.754,1839.42 \n",
       "  \"/>\n",
       "<polyline clip-path=\"url(#clip9500)\" style=\"stroke:#000000; stroke-width:4; stroke-opacity:1; fill:none\" points=\"\n",
       "  1256.69,1866.71 1256.69,1839.42 \n",
       "  \"/>\n",
       "<polyline clip-path=\"url(#clip9500)\" style=\"stroke:#000000; stroke-width:4; stroke-opacity:1; fill:none\" points=\"\n",
       "  1557.62,1866.71 1557.62,1839.42 \n",
       "  \"/>\n",
       "<polyline clip-path=\"url(#clip9500)\" style=\"stroke:#000000; stroke-width:4; stroke-opacity:1; fill:none\" points=\"\n",
       "  1858.56,1866.71 1858.56,1839.42 \n",
       "  \"/>\n",
       "<polyline clip-path=\"url(#clip9500)\" style=\"stroke:#000000; stroke-width:4; stroke-opacity:1; fill:none\" points=\"\n",
       "  149.898,1815.21 176.941,1815.21 \n",
       "  \"/>\n",
       "<polyline clip-path=\"url(#clip9500)\" style=\"stroke:#000000; stroke-width:4; stroke-opacity:1; fill:none\" points=\"\n",
       "  149.898,1271.77 176.941,1271.77 \n",
       "  \"/>\n",
       "<polyline clip-path=\"url(#clip9500)\" style=\"stroke:#000000; stroke-width:4; stroke-opacity:1; fill:none\" points=\"\n",
       "  149.898,728.319 176.941,728.319 \n",
       "  \"/>\n",
       "<polyline clip-path=\"url(#clip9500)\" style=\"stroke:#000000; stroke-width:4; stroke-opacity:1; fill:none\" points=\"\n",
       "  149.898,184.872 176.941,184.872 \n",
       "  \"/>\n",
       "<g clip-path=\"url(#clip9500)\">\n",
       "<text style=\"fill:#000000; fill-opacity:1; font-family:Arial,Helvetica Neue,Helvetica,sans-serif; font-size:48px; text-anchor:middle;\" transform=\"rotate(0, 353.887, 1918.71)\" x=\"353.887\" y=\"1918.71\">5.0</text>\n",
       "</g>\n",
       "<g clip-path=\"url(#clip9500)\">\n",
       "<text style=\"fill:#000000; fill-opacity:1; font-family:Arial,Helvetica Neue,Helvetica,sans-serif; font-size:48px; text-anchor:middle;\" transform=\"rotate(0, 654.82, 1918.71)\" x=\"654.82\" y=\"1918.71\">7.5</text>\n",
       "</g>\n",
       "<g clip-path=\"url(#clip9500)\">\n",
       "<text style=\"fill:#000000; fill-opacity:1; font-family:Arial,Helvetica Neue,Helvetica,sans-serif; font-size:48px; text-anchor:middle;\" transform=\"rotate(0, 955.754, 1918.71)\" x=\"955.754\" y=\"1918.71\">10.0</text>\n",
       "</g>\n",
       "<g clip-path=\"url(#clip9500)\">\n",
       "<text style=\"fill:#000000; fill-opacity:1; font-family:Arial,Helvetica Neue,Helvetica,sans-serif; font-size:48px; text-anchor:middle;\" transform=\"rotate(0, 1256.69, 1918.71)\" x=\"1256.69\" y=\"1918.71\">12.5</text>\n",
       "</g>\n",
       "<g clip-path=\"url(#clip9500)\">\n",
       "<text style=\"fill:#000000; fill-opacity:1; font-family:Arial,Helvetica Neue,Helvetica,sans-serif; font-size:48px; text-anchor:middle;\" transform=\"rotate(0, 1557.62, 1918.71)\" x=\"1557.62\" y=\"1918.71\">15.0</text>\n",
       "</g>\n",
       "<g clip-path=\"url(#clip9500)\">\n",
       "<text style=\"fill:#000000; fill-opacity:1; font-family:Arial,Helvetica Neue,Helvetica,sans-serif; font-size:48px; text-anchor:middle;\" transform=\"rotate(0, 1858.56, 1918.71)\" x=\"1858.56\" y=\"1918.71\">17.5</text>\n",
       "</g>\n",
       "<g clip-path=\"url(#clip9500)\">\n",
       "<text style=\"fill:#000000; fill-opacity:1; font-family:Arial,Helvetica Neue,Helvetica,sans-serif; font-size:48px; text-anchor:end;\" transform=\"rotate(0, 129.898, 1832.71)\" x=\"129.898\" y=\"1832.71\">0.0</text>\n",
       "</g>\n",
       "<g clip-path=\"url(#clip9500)\">\n",
       "<text style=\"fill:#000000; fill-opacity:1; font-family:Arial,Helvetica Neue,Helvetica,sans-serif; font-size:48px; text-anchor:end;\" transform=\"rotate(0, 129.898, 1289.27)\" x=\"129.898\" y=\"1289.27\">0.1</text>\n",
       "</g>\n",
       "<g clip-path=\"url(#clip9500)\">\n",
       "<text style=\"fill:#000000; fill-opacity:1; font-family:Arial,Helvetica Neue,Helvetica,sans-serif; font-size:48px; text-anchor:end;\" transform=\"rotate(0, 129.898, 745.819)\" x=\"129.898\" y=\"745.819\">0.2</text>\n",
       "</g>\n",
       "<g clip-path=\"url(#clip9500)\">\n",
       "<text style=\"fill:#000000; fill-opacity:1; font-family:Arial,Helvetica Neue,Helvetica,sans-serif; font-size:48px; text-anchor:end;\" transform=\"rotate(0, 129.898, 202.372)\" x=\"129.898\" y=\"202.372\">0.3</text>\n",
       "</g>\n",
       "<polyline clip-path=\"url(#clip9502)\" style=\"stroke:#009af9; stroke-width:4; stroke-opacity:1; fill:none\" points=\"\n",
       "  200.922,1815.21 209.469,1815.21 218.016,1815.2 226.563,1815.18 235.109,1815.12 243.656,1814.96 252.203,1814.66 260.75,1814.1 269.297,1813.24 277.843,1812.02 \n",
       "  286.39,1810.44 294.937,1808.45 303.484,1805.84 312.03,1802.17 320.577,1796.91 329.124,1789.58 337.671,1779.88 346.218,1767.51 354.764,1751.86 363.311,1731.83 \n",
       "  371.858,1706.13 380.405,1673.92 388.951,1635.33 397.498,1591.27 406.045,1542.79 414.592,1490.46 423.139,1434.46 431.685,1374.96 440.232,1312.44 448.779,1247.33 \n",
       "  457.326,1179.42 465.872,1107.72 474.419,1031.05 482.966,948.999 491.513,862.484 500.06,773.701 508.606,685.52 517.153,600.849 525.7,522.125 534.247,450.909 \n",
       "  542.793,387.637 551.34,331.709 559.887,281.908 568.434,236.963 576.981,196.109 585.527,159.669 594.074,129.455 602.621,108.354 611.168,98.7384 619.715,100.56 \n",
       "  628.261,110.833 636.808,125.186 645.355,140.233 653.902,154.915 662.448,170.243 670.995,188.293 679.542,211.247 688.089,240.491 696.636,275.733 705.182,314.666 \n",
       "  713.729,353.763 722.276,390.012 730.823,422.613 739.369,453.565 747.916,486.765 756.463,526.11 765.01,573.692 773.557,628.994 782.103,689.25 790.65,750.475 \n",
       "  799.197,808.649 807.744,860.858 816.29,906.168 824.837,945.765 833.384,982.079 841.931,1017.37 850.478,1052.71 859.024,1087.94 867.571,1122.39 876.118,1155.77 \n",
       "  884.665,1188.69 893.211,1222.47 901.758,1258.51 910.305,1297.22 918.852,1337.4 927.399,1376.42 935.945,1411.26 944.492,1439.94 953.039,1462.42 961.586,1480.51 \n",
       "  970.133,1496.8 978.679,1513.2 987.226,1530.19 995.773,1546.9 1004.32,1562.11 1012.87,1575.19 1021.41,1586.55 1029.96,1597.36 1038.51,1608.86 1047.05,1621.84 \n",
       "  1055.6,1636.23 1064.15,1651.15 1072.69,1665.24 1081.24,1677.32 1089.79,1686.99 1098.33,1694.74 1106.88,1701.56 1115.43,1708.28 1123.97,1715.3 1132.52,1722.61 \n",
       "  1141.07,1730.02 1149.61,1737.24 1158.16,1743.92 1166.71,1749.67 1175.26,1754.25 1183.8,1757.82 1192.35,1760.89 1200.9,1764.12 1209.44,1767.94 1217.99,1772.29 \n",
       "  1226.54,1776.76 1235.08,1780.81 1243.63,1784.06 1252.18,1786.4 1260.72,1787.98 1269.27,1789.12 1277.82,1790.18 1286.36,1791.38 1294.91,1792.73 1303.46,1794.07 \n",
       "  1312,1795.27 1320.55,1796.35 1329.1,1797.49 1337.64,1798.8 1346.19,1800.19 1354.74,1801.42 1363.28,1802.33 1371.83,1802.96 1380.38,1803.52 1388.92,1804.24 \n",
       "  1397.47,1805.22 1406.02,1806.4 1414.57,1807.6 1423.11,1808.67 1431.66,1809.52 1440.21,1810.14 1448.75,1810.56 1457.3,1810.91 1465.85,1811.28 1474.39,1811.77 \n",
       "  1482.94,1812.35 1491.49,1812.91 1500.03,1813.28 1508.58,1813.31 1517.13,1812.96 1525.67,1812.26 1534.22,1811.36 1542.77,1810.43 1551.31,1809.71 1559.86,1809.39 \n",
       "  1568.41,1809.54 1576.95,1810.11 1585.5,1810.91 1594.05,1811.73 1602.59,1812.41 1611.14,1812.91 1619.69,1813.24 1628.23,1813.44 1636.78,1813.59 1645.33,1813.75 \n",
       "  1653.87,1813.97 1662.42,1814.25 1670.97,1814.54 1679.52,1814.8 1688.06,1814.99 1696.61,1815.11 1705.16,1815.17 1713.7,1815.2 1722.25,1815.21 1730.8,1815.21 \n",
       "  1739.34,1815.21 1747.89,1815.19 1756.44,1815.15 1764.98,1815.06 1773.53,1814.91 1782.08,1814.7 1790.62,1814.45 1799.17,1814.22 1807.72,1814.09 1816.26,1814.11 \n",
       "  1824.81,1814.27 1833.36,1814.51 1841.9,1814.75 1850.45,1814.95 1859,1815.08 1867.54,1815.16 1876.09,1815.19 1884.64,1815.21 1893.18,1815.21 1901.73,1815.21 \n",
       "  \n",
       "  \"/>\n",
       "<polygon clip-path=\"url(#clip9500)\" points=\"\n",
       "1641.93,227.724 1892.76,227.724 1892.76,106.764 1641.93,106.764 \n",
       "  \" fill=\"#ffffff\" fill-rule=\"evenodd\" fill-opacity=\"1\"/>\n",
       "<polyline clip-path=\"url(#clip9500)\" style=\"stroke:#000000; stroke-width:4; stroke-opacity:1; fill:none\" points=\"\n",
       "  1641.93,227.724 1892.76,227.724 1892.76,106.764 1641.93,106.764 1641.93,227.724 \n",
       "  \"/>\n",
       "<polyline clip-path=\"url(#clip9500)\" style=\"stroke:#009af9; stroke-width:4; stroke-opacity:1; fill:none\" points=\"\n",
       "  1661.93,167.244 1781.93,167.244 \n",
       "  \"/>\n",
       "<g clip-path=\"url(#clip9500)\">\n",
       "<text style=\"fill:#000000; fill-opacity:1; font-family:Arial,Helvetica Neue,Helvetica,sans-serif; font-size:48px; text-anchor:start;\" transform=\"rotate(0, 1801.93, 184.744)\" x=\"1801.93\" y=\"184.744\">y1</text>\n",
       "</g>\n",
       "</svg>\n"
      ],
      "image/svg+xml": [
       "<?xml version=\"1.0\" encoding=\"utf-8\"?>\n",
       "<svg xmlns=\"http://www.w3.org/2000/svg\" xmlns:xlink=\"http://www.w3.org/1999/xlink\" width=\"500\" height=\"500\" viewBox=\"0 0 2000 2000\">\n",
       "<defs>\n",
       "  <clipPath id=\"clip9200\">\n",
       "    <rect x=\"0\" y=\"0\" width=\"2000\" height=\"2000\"/>\n",
       "  </clipPath>\n",
       "</defs>\n",
       "<polygon clip-path=\"url(#clip9200)\" points=\"\n",
       "0,2000 2000,2000 2000,0 0,0 \n",
       "  \" fill=\"#ffffff\" fill-rule=\"evenodd\" fill-opacity=\"1\"/>\n",
       "<defs>\n",
       "  <clipPath id=\"clip9201\">\n",
       "    <rect x=\"400\" y=\"200\" width=\"1401\" height=\"1401\"/>\n",
       "  </clipPath>\n",
       "</defs>\n",
       "<polygon clip-path=\"url(#clip9200)\" points=\"\n",
       "149.898,1866.71 1952.76,1866.71 1952.76,47.2441 149.898,47.2441 \n",
       "  \" fill=\"#ffffff\" fill-rule=\"evenodd\" fill-opacity=\"1\"/>\n",
       "<defs>\n",
       "  <clipPath id=\"clip9202\">\n",
       "    <rect x=\"149\" y=\"47\" width=\"1804\" height=\"1820\"/>\n",
       "  </clipPath>\n",
       "</defs>\n",
       "<polyline clip-path=\"url(#clip9202)\" style=\"stroke:#000000; stroke-width:2; stroke-opacity:0.1; fill:none\" points=\"\n",
       "  353.887,1866.71 353.887,47.2441 \n",
       "  \"/>\n",
       "<polyline clip-path=\"url(#clip9202)\" style=\"stroke:#000000; stroke-width:2; stroke-opacity:0.1; fill:none\" points=\"\n",
       "  654.82,1866.71 654.82,47.2441 \n",
       "  \"/>\n",
       "<polyline clip-path=\"url(#clip9202)\" style=\"stroke:#000000; stroke-width:2; stroke-opacity:0.1; fill:none\" points=\"\n",
       "  955.754,1866.71 955.754,47.2441 \n",
       "  \"/>\n",
       "<polyline clip-path=\"url(#clip9202)\" style=\"stroke:#000000; stroke-width:2; stroke-opacity:0.1; fill:none\" points=\"\n",
       "  1256.69,1866.71 1256.69,47.2441 \n",
       "  \"/>\n",
       "<polyline clip-path=\"url(#clip9202)\" style=\"stroke:#000000; stroke-width:2; stroke-opacity:0.1; fill:none\" points=\"\n",
       "  1557.62,1866.71 1557.62,47.2441 \n",
       "  \"/>\n",
       "<polyline clip-path=\"url(#clip9202)\" style=\"stroke:#000000; stroke-width:2; stroke-opacity:0.1; fill:none\" points=\"\n",
       "  1858.56,1866.71 1858.56,47.2441 \n",
       "  \"/>\n",
       "<polyline clip-path=\"url(#clip9202)\" style=\"stroke:#000000; stroke-width:2; stroke-opacity:0.1; fill:none\" points=\"\n",
       "  149.898,1815.21 1952.76,1815.21 \n",
       "  \"/>\n",
       "<polyline clip-path=\"url(#clip9202)\" style=\"stroke:#000000; stroke-width:2; stroke-opacity:0.1; fill:none\" points=\"\n",
       "  149.898,1271.77 1952.76,1271.77 \n",
       "  \"/>\n",
       "<polyline clip-path=\"url(#clip9202)\" style=\"stroke:#000000; stroke-width:2; stroke-opacity:0.1; fill:none\" points=\"\n",
       "  149.898,728.319 1952.76,728.319 \n",
       "  \"/>\n",
       "<polyline clip-path=\"url(#clip9202)\" style=\"stroke:#000000; stroke-width:2; stroke-opacity:0.1; fill:none\" points=\"\n",
       "  149.898,184.872 1952.76,184.872 \n",
       "  \"/>\n",
       "<polyline clip-path=\"url(#clip9200)\" style=\"stroke:#000000; stroke-width:4; stroke-opacity:1; fill:none\" points=\"\n",
       "  149.898,1866.71 1952.76,1866.71 \n",
       "  \"/>\n",
       "<polyline clip-path=\"url(#clip9200)\" style=\"stroke:#000000; stroke-width:4; stroke-opacity:1; fill:none\" points=\"\n",
       "  149.898,1866.71 149.898,47.2441 \n",
       "  \"/>\n",
       "<polyline clip-path=\"url(#clip9200)\" style=\"stroke:#000000; stroke-width:4; stroke-opacity:1; fill:none\" points=\"\n",
       "  353.887,1866.71 353.887,1839.42 \n",
       "  \"/>\n",
       "<polyline clip-path=\"url(#clip9200)\" style=\"stroke:#000000; stroke-width:4; stroke-opacity:1; fill:none\" points=\"\n",
       "  654.82,1866.71 654.82,1839.42 \n",
       "  \"/>\n",
       "<polyline clip-path=\"url(#clip9200)\" style=\"stroke:#000000; stroke-width:4; stroke-opacity:1; fill:none\" points=\"\n",
       "  955.754,1866.71 955.754,1839.42 \n",
       "  \"/>\n",
       "<polyline clip-path=\"url(#clip9200)\" style=\"stroke:#000000; stroke-width:4; stroke-opacity:1; fill:none\" points=\"\n",
       "  1256.69,1866.71 1256.69,1839.42 \n",
       "  \"/>\n",
       "<polyline clip-path=\"url(#clip9200)\" style=\"stroke:#000000; stroke-width:4; stroke-opacity:1; fill:none\" points=\"\n",
       "  1557.62,1866.71 1557.62,1839.42 \n",
       "  \"/>\n",
       "<polyline clip-path=\"url(#clip9200)\" style=\"stroke:#000000; stroke-width:4; stroke-opacity:1; fill:none\" points=\"\n",
       "  1858.56,1866.71 1858.56,1839.42 \n",
       "  \"/>\n",
       "<polyline clip-path=\"url(#clip9200)\" style=\"stroke:#000000; stroke-width:4; stroke-opacity:1; fill:none\" points=\"\n",
       "  149.898,1815.21 176.941,1815.21 \n",
       "  \"/>\n",
       "<polyline clip-path=\"url(#clip9200)\" style=\"stroke:#000000; stroke-width:4; stroke-opacity:1; fill:none\" points=\"\n",
       "  149.898,1271.77 176.941,1271.77 \n",
       "  \"/>\n",
       "<polyline clip-path=\"url(#clip9200)\" style=\"stroke:#000000; stroke-width:4; stroke-opacity:1; fill:none\" points=\"\n",
       "  149.898,728.319 176.941,728.319 \n",
       "  \"/>\n",
       "<polyline clip-path=\"url(#clip9200)\" style=\"stroke:#000000; stroke-width:4; stroke-opacity:1; fill:none\" points=\"\n",
       "  149.898,184.872 176.941,184.872 \n",
       "  \"/>\n",
       "<g clip-path=\"url(#clip9200)\">\n",
       "<text style=\"fill:#000000; fill-opacity:1; font-family:Arial,Helvetica Neue,Helvetica,sans-serif; font-size:48px; text-anchor:middle;\" transform=\"rotate(0, 353.887, 1918.71)\" x=\"353.887\" y=\"1918.71\">5.0</text>\n",
       "</g>\n",
       "<g clip-path=\"url(#clip9200)\">\n",
       "<text style=\"fill:#000000; fill-opacity:1; font-family:Arial,Helvetica Neue,Helvetica,sans-serif; font-size:48px; text-anchor:middle;\" transform=\"rotate(0, 654.82, 1918.71)\" x=\"654.82\" y=\"1918.71\">7.5</text>\n",
       "</g>\n",
       "<g clip-path=\"url(#clip9200)\">\n",
       "<text style=\"fill:#000000; fill-opacity:1; font-family:Arial,Helvetica Neue,Helvetica,sans-serif; font-size:48px; text-anchor:middle;\" transform=\"rotate(0, 955.754, 1918.71)\" x=\"955.754\" y=\"1918.71\">10.0</text>\n",
       "</g>\n",
       "<g clip-path=\"url(#clip9200)\">\n",
       "<text style=\"fill:#000000; fill-opacity:1; font-family:Arial,Helvetica Neue,Helvetica,sans-serif; font-size:48px; text-anchor:middle;\" transform=\"rotate(0, 1256.69, 1918.71)\" x=\"1256.69\" y=\"1918.71\">12.5</text>\n",
       "</g>\n",
       "<g clip-path=\"url(#clip9200)\">\n",
       "<text style=\"fill:#000000; fill-opacity:1; font-family:Arial,Helvetica Neue,Helvetica,sans-serif; font-size:48px; text-anchor:middle;\" transform=\"rotate(0, 1557.62, 1918.71)\" x=\"1557.62\" y=\"1918.71\">15.0</text>\n",
       "</g>\n",
       "<g clip-path=\"url(#clip9200)\">\n",
       "<text style=\"fill:#000000; fill-opacity:1; font-family:Arial,Helvetica Neue,Helvetica,sans-serif; font-size:48px; text-anchor:middle;\" transform=\"rotate(0, 1858.56, 1918.71)\" x=\"1858.56\" y=\"1918.71\">17.5</text>\n",
       "</g>\n",
       "<g clip-path=\"url(#clip9200)\">\n",
       "<text style=\"fill:#000000; fill-opacity:1; font-family:Arial,Helvetica Neue,Helvetica,sans-serif; font-size:48px; text-anchor:end;\" transform=\"rotate(0, 129.898, 1832.71)\" x=\"129.898\" y=\"1832.71\">0.0</text>\n",
       "</g>\n",
       "<g clip-path=\"url(#clip9200)\">\n",
       "<text style=\"fill:#000000; fill-opacity:1; font-family:Arial,Helvetica Neue,Helvetica,sans-serif; font-size:48px; text-anchor:end;\" transform=\"rotate(0, 129.898, 1289.27)\" x=\"129.898\" y=\"1289.27\">0.1</text>\n",
       "</g>\n",
       "<g clip-path=\"url(#clip9200)\">\n",
       "<text style=\"fill:#000000; fill-opacity:1; font-family:Arial,Helvetica Neue,Helvetica,sans-serif; font-size:48px; text-anchor:end;\" transform=\"rotate(0, 129.898, 745.819)\" x=\"129.898\" y=\"745.819\">0.2</text>\n",
       "</g>\n",
       "<g clip-path=\"url(#clip9200)\">\n",
       "<text style=\"fill:#000000; fill-opacity:1; font-family:Arial,Helvetica Neue,Helvetica,sans-serif; font-size:48px; text-anchor:end;\" transform=\"rotate(0, 129.898, 202.372)\" x=\"129.898\" y=\"202.372\">0.3</text>\n",
       "</g>\n",
       "<polyline clip-path=\"url(#clip9202)\" style=\"stroke:#009af9; stroke-width:4; stroke-opacity:1; fill:none\" points=\"\n",
       "  200.922,1815.21 209.469,1815.21 218.016,1815.2 226.563,1815.18 235.109,1815.12 243.656,1814.96 252.203,1814.66 260.75,1814.1 269.297,1813.24 277.843,1812.02 \n",
       "  286.39,1810.44 294.937,1808.45 303.484,1805.84 312.03,1802.17 320.577,1796.91 329.124,1789.58 337.671,1779.88 346.218,1767.51 354.764,1751.86 363.311,1731.83 \n",
       "  371.858,1706.13 380.405,1673.92 388.951,1635.33 397.498,1591.27 406.045,1542.79 414.592,1490.46 423.139,1434.46 431.685,1374.96 440.232,1312.44 448.779,1247.33 \n",
       "  457.326,1179.42 465.872,1107.72 474.419,1031.05 482.966,948.999 491.513,862.484 500.06,773.701 508.606,685.52 517.153,600.849 525.7,522.125 534.247,450.909 \n",
       "  542.793,387.637 551.34,331.709 559.887,281.908 568.434,236.963 576.981,196.109 585.527,159.669 594.074,129.455 602.621,108.354 611.168,98.7384 619.715,100.56 \n",
       "  628.261,110.833 636.808,125.186 645.355,140.233 653.902,154.915 662.448,170.243 670.995,188.293 679.542,211.247 688.089,240.491 696.636,275.733 705.182,314.666 \n",
       "  713.729,353.763 722.276,390.012 730.823,422.613 739.369,453.565 747.916,486.765 756.463,526.11 765.01,573.692 773.557,628.994 782.103,689.25 790.65,750.475 \n",
       "  799.197,808.649 807.744,860.858 816.29,906.168 824.837,945.765 833.384,982.079 841.931,1017.37 850.478,1052.71 859.024,1087.94 867.571,1122.39 876.118,1155.77 \n",
       "  884.665,1188.69 893.211,1222.47 901.758,1258.51 910.305,1297.22 918.852,1337.4 927.399,1376.42 935.945,1411.26 944.492,1439.94 953.039,1462.42 961.586,1480.51 \n",
       "  970.133,1496.8 978.679,1513.2 987.226,1530.19 995.773,1546.9 1004.32,1562.11 1012.87,1575.19 1021.41,1586.55 1029.96,1597.36 1038.51,1608.86 1047.05,1621.84 \n",
       "  1055.6,1636.23 1064.15,1651.15 1072.69,1665.24 1081.24,1677.32 1089.79,1686.99 1098.33,1694.74 1106.88,1701.56 1115.43,1708.28 1123.97,1715.3 1132.52,1722.61 \n",
       "  1141.07,1730.02 1149.61,1737.24 1158.16,1743.92 1166.71,1749.67 1175.26,1754.25 1183.8,1757.82 1192.35,1760.89 1200.9,1764.12 1209.44,1767.94 1217.99,1772.29 \n",
       "  1226.54,1776.76 1235.08,1780.81 1243.63,1784.06 1252.18,1786.4 1260.72,1787.98 1269.27,1789.12 1277.82,1790.18 1286.36,1791.38 1294.91,1792.73 1303.46,1794.07 \n",
       "  1312,1795.27 1320.55,1796.35 1329.1,1797.49 1337.64,1798.8 1346.19,1800.19 1354.74,1801.42 1363.28,1802.33 1371.83,1802.96 1380.38,1803.52 1388.92,1804.24 \n",
       "  1397.47,1805.22 1406.02,1806.4 1414.57,1807.6 1423.11,1808.67 1431.66,1809.52 1440.21,1810.14 1448.75,1810.56 1457.3,1810.91 1465.85,1811.28 1474.39,1811.77 \n",
       "  1482.94,1812.35 1491.49,1812.91 1500.03,1813.28 1508.58,1813.31 1517.13,1812.96 1525.67,1812.26 1534.22,1811.36 1542.77,1810.43 1551.31,1809.71 1559.86,1809.39 \n",
       "  1568.41,1809.54 1576.95,1810.11 1585.5,1810.91 1594.05,1811.73 1602.59,1812.41 1611.14,1812.91 1619.69,1813.24 1628.23,1813.44 1636.78,1813.59 1645.33,1813.75 \n",
       "  1653.87,1813.97 1662.42,1814.25 1670.97,1814.54 1679.52,1814.8 1688.06,1814.99 1696.61,1815.11 1705.16,1815.17 1713.7,1815.2 1722.25,1815.21 1730.8,1815.21 \n",
       "  1739.34,1815.21 1747.89,1815.19 1756.44,1815.15 1764.98,1815.06 1773.53,1814.91 1782.08,1814.7 1790.62,1814.45 1799.17,1814.22 1807.72,1814.09 1816.26,1814.11 \n",
       "  1824.81,1814.27 1833.36,1814.51 1841.9,1814.75 1850.45,1814.95 1859,1815.08 1867.54,1815.16 1876.09,1815.19 1884.64,1815.21 1893.18,1815.21 1901.73,1815.21 \n",
       "  \n",
       "  \"/>\n",
       "<polygon clip-path=\"url(#clip9200)\" points=\"\n",
       "1641.93,227.724 1892.76,227.724 1892.76,106.764 1641.93,106.764 \n",
       "  \" fill=\"#ffffff\" fill-rule=\"evenodd\" fill-opacity=\"1\"/>\n",
       "<polyline clip-path=\"url(#clip9200)\" style=\"stroke:#000000; stroke-width:4; stroke-opacity:1; fill:none\" points=\"\n",
       "  1641.93,227.724 1892.76,227.724 1892.76,106.764 1641.93,106.764 1641.93,227.724 \n",
       "  \"/>\n",
       "<polyline clip-path=\"url(#clip9200)\" style=\"stroke:#009af9; stroke-width:4; stroke-opacity:1; fill:none\" points=\"\n",
       "  1661.93,167.244 1781.93,167.244 \n",
       "  \"/>\n",
       "<g clip-path=\"url(#clip9200)\">\n",
       "<text style=\"fill:#000000; fill-opacity:1; font-family:Arial,Helvetica Neue,Helvetica,sans-serif; font-size:48px; text-anchor:start;\" transform=\"rotate(0, 1801.93, 184.744)\" x=\"1801.93\" y=\"184.744\">y1</text>\n",
       "</g>\n",
       "</svg>\n"
      ]
     },
     "metadata": {},
     "execution_count": 8
    }
   ],
   "cell_type": "code",
   "source": [
    "density(samples[:sigma])"
   ],
   "metadata": {},
   "execution_count": 8
  },
  {
   "outputs": [],
   "cell_type": "markdown",
   "source": [
    "End of `clip-21-23.jl`"
   ],
   "metadata": {}
  },
  {
   "outputs": [],
   "cell_type": "markdown",
   "source": [
    "*This notebook was generated using [Literate.jl](https://github.com/fredrikekre/Literate.jl).*"
   ],
   "metadata": {}
  }
 ],
 "nbformat_minor": 3,
 "metadata": {
  "language_info": {
   "file_extension": ".jl",
   "mimetype": "application/julia",
   "name": "julia",
   "version": "1.3.0-DEV.549"
  },
  "kernelspec": {
   "name": "julia-1.3",
   "display_name": "Julia 1.3.0-DEV.549",
   "language": "julia"
  }
 },
 "nbformat": 4
}
