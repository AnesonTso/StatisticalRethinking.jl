{
 "cells": [
  {
   "outputs": [],
   "cell_type": "markdown",
   "source": [
    "Load Julia packages (libraries) needed  for the snippets in chapter 0"
   ],
   "metadata": {}
  },
  {
   "outputs": [],
   "cell_type": "code",
   "source": [
    "using StatisticalRethinking, CmdStan, StanMCMCChain\n",
    "gr(size=(500,500));"
   ],
   "metadata": {},
   "execution_count": 1
  },
  {
   "outputs": [],
   "cell_type": "markdown",
   "source": [
    "CmdStan uses a tmp directory to store the output of cmdstan"
   ],
   "metadata": {}
  },
  {
   "outputs": [],
   "cell_type": "code",
   "source": [
    "ProjDir = rel_path(\"..\", \"scripts\", \"04\")\n",
    "cd(ProjDir)"
   ],
   "metadata": {},
   "execution_count": 2
  },
  {
   "outputs": [],
   "cell_type": "markdown",
   "source": [
    "CmdStan uses a tmp directory to store the output of cmdstan"
   ],
   "metadata": {}
  },
  {
   "outputs": [],
   "cell_type": "code",
   "source": [
    "ProjDir = rel_path(\"..\", \"scripts\", \"04\")\n",
    "cd(ProjDir)"
   ],
   "metadata": {},
   "execution_count": 3
  },
  {
   "outputs": [
    {
     "output_type": "execute_result",
     "data": {
      "text/plain": "5×4 DataFrame\n│ Row │ height   │ weight   │ age      │ male   │\n│     │ \u001b[90mFloat64⍰\u001b[39m │ \u001b[90mFloat64⍰\u001b[39m │ \u001b[90mFloat64⍰\u001b[39m │ \u001b[90mInt64⍰\u001b[39m │\n├─────┼──────────┼──────────┼──────────┼────────┤\n│ 1   │ 151.765  │ 47.8256  │ 63.0     │ 1      │\n│ 2   │ 139.7    │ 36.4858  │ 63.0     │ 0      │\n│ 3   │ 136.525  │ 31.8648  │ 65.0     │ 0      │\n│ 4   │ 156.845  │ 53.0419  │ 41.0     │ 1      │\n│ 5   │ 145.415  │ 41.2769  │ 51.0     │ 0      │",
      "text/html": [
       "<table class=\"data-frame\"><thead><tr><th></th><th>height</th><th>weight</th><th>age</th><th>male</th></tr><tr><th></th><th>Float64⍰</th><th>Float64⍰</th><th>Float64⍰</th><th>Int64⍰</th></tr></thead><tbody><p>5 rows × 4 columns</p><tr><th>1</th><td>151.765</td><td>47.8256</td><td>63.0</td><td>1</td></tr><tr><th>2</th><td>139.7</td><td>36.4858</td><td>63.0</td><td>0</td></tr><tr><th>3</th><td>136.525</td><td>31.8648</td><td>65.0</td><td>0</td></tr><tr><th>4</th><td>156.845</td><td>53.0419</td><td>41.0</td><td>1</td></tr><tr><th>5</th><td>145.415</td><td>41.2769</td><td>51.0</td><td>0</td></tr></tbody></table>"
      ]
     },
     "metadata": {},
     "execution_count": 4
    }
   ],
   "cell_type": "code",
   "source": [
    "howell1 = CSV.read(rel_path(\"..\", \"data\", \"Howell1.csv\"), delim=';')\n",
    "df = convert(DataFrame, howell1);\n",
    "df2 = filter(row -> row[:age] >= 18, df);\n",
    "first(df2, 5)"
   ],
   "metadata": {},
   "execution_count": 4
  },
  {
   "outputs": [],
   "cell_type": "markdown",
   "source": [
    "### Snippet 4.21"
   ],
   "metadata": {}
  },
  {
   "outputs": [],
   "cell_type": "markdown",
   "source": [
    "Sample 20 random heights"
   ],
   "metadata": {}
  },
  {
   "outputs": [],
   "cell_type": "code",
   "source": [
    "n = size(df2, 1)\n",
    "selected_ind = sample(1:n, 20, replace=false);\n",
    "df3 = df2[selected_ind, :];"
   ],
   "metadata": {},
   "execution_count": 5
  },
  {
   "outputs": [],
   "cell_type": "markdown",
   "source": [
    "### Snippet 4.22"
   ],
   "metadata": {}
  },
  {
   "outputs": [],
   "cell_type": "markdown",
   "source": [
    "Generate approximate probabilities"
   ],
   "metadata": {}
  },
  {
   "outputs": [
    {
     "output_type": "execute_result",
     "data": {
      "text/plain": "10×5 DataFrame\n│ Row │ mu      │ sigma   │ ll       │ prod     │ prob        │\n│     │ \u001b[90mFloat64\u001b[39m │ \u001b[90mFloat64\u001b[39m │ \u001b[90mFloat64\u001b[39m  │ \u001b[90mFloat64\u001b[39m  │ \u001b[90mFloat64\u001b[39m     │\n├─────┼─────────┼─────────┼──────────┼──────────┼─────────────┤\n│ 1   │ 140.0   │ 4.0     │ -218.421 │ -228.052 │ 4.87409e-66 │\n│ 2   │ 140.151 │ 4.0     │ -215.661 │ -225.279 │ 7.80703e-65 │\n│ 3   │ 140.302 │ 4.0     │ -212.93  │ -222.534 │ 1.21539e-63 │\n│ 4   │ 140.452 │ 4.0     │ -210.228 │ -219.817 │ 1.83901e-62 │\n│ 5   │ 140.603 │ 4.0     │ -207.554 │ -217.129 │ 2.70451e-61 │\n│ 6   │ 140.754 │ 4.0     │ -204.908 │ -214.469 │ 3.86573e-60 │\n│ 7   │ 140.905 │ 4.0     │ -202.291 │ -211.837 │ 5.37047e-59 │\n│ 8   │ 141.055 │ 4.0     │ -199.702 │ -209.234 │ 7.25154e-58 │\n│ 9   │ 141.206 │ 4.0     │ -197.141 │ -206.66  │ 9.51671e-57 │\n│ 10  │ 141.357 │ 4.0     │ -194.609 │ -204.114 │ 1.21389e-55 │",
      "text/html": [
       "<table class=\"data-frame\"><thead><tr><th></th><th>mu</th><th>sigma</th><th>ll</th><th>prod</th><th>prob</th></tr><tr><th></th><th>Float64</th><th>Float64</th><th>Float64</th><th>Float64</th><th>Float64</th></tr></thead><tbody><p>10 rows × 5 columns</p><tr><th>1</th><td>140.0</td><td>4.0</td><td>-218.421</td><td>-228.052</td><td>4.87409e-66</td></tr><tr><th>2</th><td>140.151</td><td>4.0</td><td>-215.661</td><td>-225.279</td><td>7.80703e-65</td></tr><tr><th>3</th><td>140.302</td><td>4.0</td><td>-212.93</td><td>-222.534</td><td>1.21539e-63</td></tr><tr><th>4</th><td>140.452</td><td>4.0</td><td>-210.228</td><td>-219.817</td><td>1.83901e-62</td></tr><tr><th>5</th><td>140.603</td><td>4.0</td><td>-207.554</td><td>-217.129</td><td>2.70451e-61</td></tr><tr><th>6</th><td>140.754</td><td>4.0</td><td>-204.908</td><td>-214.469</td><td>3.86573e-60</td></tr><tr><th>7</th><td>140.905</td><td>4.0</td><td>-202.291</td><td>-211.837</td><td>5.37047e-59</td></tr><tr><th>8</th><td>141.055</td><td>4.0</td><td>-199.702</td><td>-209.234</td><td>7.25154e-58</td></tr><tr><th>9</th><td>141.206</td><td>4.0</td><td>-197.141</td><td>-206.66</td><td>9.51671e-57</td></tr><tr><th>10</th><td>141.357</td><td>4.0</td><td>-194.609</td><td>-204.114</td><td>1.21389e-55</td></tr></tbody></table>"
      ]
     },
     "metadata": {},
     "execution_count": 6
    }
   ],
   "cell_type": "code",
   "source": [
    "struct Post\n",
    "  mu::Float64\n",
    "  sigma::Float64\n",
    "  ll:: Float64\n",
    "  prod::Float64\n",
    "  prob::Float64\n",
    "end\n",
    "\n",
    "mu_list = repeat(range(140, 170, length=200), 200);\n",
    "sigma_list = repeat(range(4, 20, length=200), inner=200);\n",
    "\n",
    "ll = zeros(40000);\n",
    "for i in 1:40000\n",
    "    d1 = Normal(mu_list[i], sigma_list[i])\n",
    "    ll[i] = sum(log.(pdf.(d1, df3[:height])))\n",
    "end\n",
    "\n",
    "d2 = Normal(178.0, 20.0)\n",
    "d3 = Uniform(0, 50)\n",
    "prod = ll + log.(pdf.(d2, mu_list)) + log.(pdf.(d3, sigma_list))\n",
    "prob = exp.(prod .- maximum(prod))\n",
    "post = DataFrame(mu=mu_list, sigma=sigma_list, ll=ll, prod=prod, prob=prob)\n",
    "first(post, 10)"
   ],
   "metadata": {},
   "execution_count": 6
  },
  {
   "outputs": [],
   "cell_type": "markdown",
   "source": [
    "Sample post"
   ],
   "metadata": {}
  },
  {
   "outputs": [
    {
     "output_type": "execute_result",
     "data": {
      "text/plain": "10000×5 DataFrame\n│ Row   │ mu      │ sigma   │ ll       │ prod     │ prob      │\n│       │ \u001b[90mFloat64\u001b[39m │ \u001b[90mFloat64\u001b[39m │ \u001b[90mFloat64\u001b[39m  │ \u001b[90mFloat64\u001b[39m  │ \u001b[90mFloat64\u001b[39m   │\n├───────┼─────────┼─────────┼──────────┼──────────┼───────────┤\n│ 1     │ 153.266 │ 8.42211 │ -69.6212 │ -78.2126 │ 0.578792  │\n│ 2     │ 156.884 │ 9.38693 │ -70.4015 │ -78.7855 │ 0.32636   │\n│ 3     │ 158.995 │ 7.45729 │ -72.4734 │ -80.7516 │ 0.0456907 │\n│ 4     │ 156.583 │ 5.92965 │ -71.7671 │ -80.1672 │ 0.0819703 │\n│ 5     │ 155.226 │ 8.98492 │ -69.6389 │ -78.1139 │ 0.6388    │\n│ 6     │ 155.377 │ 9.86935 │ -70.2765 │ -78.743  │ 0.340542  │\n│ 7     │ 153.116 │ 9.62814 │ -70.322  │ -78.9227 │ 0.284516  │\n⋮\n│ 9993  │ 154.171 │ 6.89447 │ -69.4835 │ -78.02   │ 0.701695  │\n│ 9994  │ 154.925 │ 8.26131 │ -69.2719 │ -77.7642 │ 0.906251  │\n│ 9995  │ 155.226 │ 8.34171 │ -69.3304 │ -77.8054 │ 0.869681  │\n│ 9996  │ 152.814 │ 9.30653 │ -70.2321 │ -78.8517 │ 0.305449  │\n│ 9997  │ 155.829 │ 8.1809  │ -69.4254 │ -77.8665 │ 0.818134  │\n│ 9998  │ 153.417 │ 9.22613 │ -69.9582 │ -78.5403 │ 0.417056  │\n│ 9999  │ 153.266 │ 7.8593  │ -69.5175 │ -78.1089 │ 0.642043  │\n│ 10000 │ 156.734 │ 8.1809  │ -69.8478 │ -78.2398 │ 0.563227  │",
      "text/html": [
       "<table class=\"data-frame\"><thead><tr><th></th><th>mu</th><th>sigma</th><th>ll</th><th>prod</th><th>prob</th></tr><tr><th></th><th>Float64</th><th>Float64</th><th>Float64</th><th>Float64</th><th>Float64</th></tr></thead><tbody><p>10,000 rows × 5 columns</p><tr><th>1</th><td>153.266</td><td>8.42211</td><td>-69.6212</td><td>-78.2126</td><td>0.578792</td></tr><tr><th>2</th><td>156.884</td><td>9.38693</td><td>-70.4015</td><td>-78.7855</td><td>0.32636</td></tr><tr><th>3</th><td>158.995</td><td>7.45729</td><td>-72.4734</td><td>-80.7516</td><td>0.0456907</td></tr><tr><th>4</th><td>156.583</td><td>5.92965</td><td>-71.7671</td><td>-80.1672</td><td>0.0819703</td></tr><tr><th>5</th><td>155.226</td><td>8.98492</td><td>-69.6389</td><td>-78.1139</td><td>0.6388</td></tr><tr><th>6</th><td>155.377</td><td>9.86935</td><td>-70.2765</td><td>-78.743</td><td>0.340542</td></tr><tr><th>7</th><td>153.116</td><td>9.62814</td><td>-70.322</td><td>-78.9227</td><td>0.284516</td></tr><tr><th>8</th><td>157.337</td><td>7.29648</td><td>-70.5098</td><td>-78.8702</td><td>0.299859</td></tr><tr><th>9</th><td>153.869</td><td>6.17085</td><td>-70.4776</td><td>-79.0321</td><td>0.255032</td></tr><tr><th>10</th><td>156.131</td><td>7.45729</td><td>-69.5434</td><td>-77.968</td><td>0.739185</td></tr><tr><th>11</th><td>155.678</td><td>8.26131</td><td>-69.4007</td><td>-77.8502</td><td>0.831566</td></tr><tr><th>12</th><td>152.362</td><td>9.70854</td><td>-70.6953</td><td>-79.3436</td><td>0.186773</td></tr><tr><th>13</th><td>156.131</td><td>10.0302</td><td>-70.5606</td><td>-78.9851</td><td>0.267307</td></tr><tr><th>14</th><td>154.623</td><td>6.65327</td><td>-69.6277</td><td>-78.1375</td><td>0.623945</td></tr><tr><th>15</th><td>154.925</td><td>10.9146</td><td>-71.143</td><td>-79.6353</td><td>0.139527</td></tr><tr><th>16</th><td>156.131</td><td>9.38693</td><td>-70.0954</td><td>-78.5199</td><td>0.425636</td></tr><tr><th>17</th><td>155.377</td><td>7.21608</td><td>-69.3325</td><td>-77.7989</td><td>0.875311</td></tr><tr><th>18</th><td>155.678</td><td>7.45729</td><td>-69.3505</td><td>-77.8</td><td>0.874345</td></tr><tr><th>19</th><td>159.146</td><td>13.9698</td><td>-75.148</td><td>-83.4191</td><td>0.00317231</td></tr><tr><th>20</th><td>154.925</td><td>7.9397</td><td>-69.1937</td><td>-77.686</td><td>0.98001</td></tr><tr><th>21</th><td>151.91</td><td>6.49246</td><td>-71.6774</td><td>-80.3549</td><td>0.0679369</td></tr><tr><th>22</th><td>156.131</td><td>8.82412</td><td>-69.771</td><td>-78.1956</td><td>0.588717</td></tr><tr><th>23</th><td>157.035</td><td>7.61809</td><td>-70.0926</td><td>-78.4687</td><td>0.448007</td></tr><tr><th>24</th><td>154.171</td><td>6.89447</td><td>-69.4835</td><td>-78.02</td><td>0.701695</td></tr><tr><th>&vellip;</th><td>&vellip;</td><td>&vellip;</td><td>&vellip;</td><td>&vellip;</td><td>&vellip;</td></tr></tbody></table>"
      ]
     },
     "metadata": {},
     "execution_count": 7
    }
   ],
   "cell_type": "code",
   "source": [
    "samples = post[sample(1:size(post, 1), Weights(post[:prob]), 10000, replace=true), :]"
   ],
   "metadata": {},
   "execution_count": 7
  },
  {
   "outputs": [],
   "cell_type": "markdown",
   "source": [
    "### Snippet 4.23"
   ],
   "metadata": {}
  },
  {
   "outputs": [],
   "cell_type": "markdown",
   "source": [
    "Density of sigma"
   ],
   "metadata": {}
  },
  {
   "outputs": [
    {
     "output_type": "execute_result",
     "data": {
      "text/plain": "Plot{Plots.GRBackend() n=1}",
      "image/png": "[encoded data removed]",
      "text/html": [
       "<?xml version=\"1.0\" encoding=\"utf-8\"?>\n",
       "<svg xmlns=\"http://www.w3.org/2000/svg\" xmlns:xlink=\"http://www.w3.org/1999/xlink\" width=\"500\" height=\"500\" viewBox=\"0 0 2000 2000\">\n",
       "<defs>\n",
       "  <clipPath id=\"clip5700\">\n",
       "    <rect x=\"0\" y=\"0\" width=\"2000\" height=\"2000\"/>\n",
       "  </clipPath>\n",
       "</defs>\n",
       "<polygon clip-path=\"url(#clip5700)\" points=\"\n",
       "0,2000 2000,2000 2000,0 0,0 \n",
       "  \" fill=\"#ffffff\" fill-rule=\"evenodd\" fill-opacity=\"1\"/>\n",
       "<defs>\n",
       "  <clipPath id=\"clip5701\">\n",
       "    <rect x=\"400\" y=\"200\" width=\"1401\" height=\"1401\"/>\n",
       "  </clipPath>\n",
       "</defs>\n",
       "<polygon clip-path=\"url(#clip5700)\" points=\"\n",
       "188.156,1886.71 1921.26,1886.71 1921.26,47.2441 188.156,47.2441 \n",
       "  \" fill=\"#ffffff\" fill-rule=\"evenodd\" fill-opacity=\"1\"/>\n",
       "<defs>\n",
       "  <clipPath id=\"clip5702\">\n",
       "    <rect x=\"188\" y=\"47\" width=\"1734\" height=\"1840\"/>\n",
       "  </clipPath>\n",
       "</defs>\n",
       "<polyline clip-path=\"url(#clip5702)\" style=\"stroke:#000000; stroke-width:2; stroke-opacity:0.1; fill:none\" points=\"\n",
       "  451.127,1886.71 451.127,47.2441 \n",
       "  \"/>\n",
       "<polyline clip-path=\"url(#clip5702)\" style=\"stroke:#000000; stroke-width:2; stroke-opacity:0.1; fill:none\" points=\"\n",
       "  757.016,1886.71 757.016,47.2441 \n",
       "  \"/>\n",
       "<polyline clip-path=\"url(#clip5702)\" style=\"stroke:#000000; stroke-width:2; stroke-opacity:0.1; fill:none\" points=\"\n",
       "  1062.91,1886.71 1062.91,47.2441 \n",
       "  \"/>\n",
       "<polyline clip-path=\"url(#clip5702)\" style=\"stroke:#000000; stroke-width:2; stroke-opacity:0.1; fill:none\" points=\"\n",
       "  1368.8,1886.71 1368.8,47.2441 \n",
       "  \"/>\n",
       "<polyline clip-path=\"url(#clip5702)\" style=\"stroke:#000000; stroke-width:2; stroke-opacity:0.1; fill:none\" points=\"\n",
       "  1674.69,1886.71 1674.69,47.2441 \n",
       "  \"/>\n",
       "<polyline clip-path=\"url(#clip5702)\" style=\"stroke:#000000; stroke-width:2; stroke-opacity:0.1; fill:none\" points=\"\n",
       "  188.156,1834.65 1921.26,1834.65 \n",
       "  \"/>\n",
       "<polyline clip-path=\"url(#clip5702)\" style=\"stroke:#000000; stroke-width:2; stroke-opacity:0.1; fill:none\" points=\"\n",
       "  188.156,1534.7 1921.26,1534.7 \n",
       "  \"/>\n",
       "<polyline clip-path=\"url(#clip5702)\" style=\"stroke:#000000; stroke-width:2; stroke-opacity:0.1; fill:none\" points=\"\n",
       "  188.156,1234.75 1921.26,1234.75 \n",
       "  \"/>\n",
       "<polyline clip-path=\"url(#clip5702)\" style=\"stroke:#000000; stroke-width:2; stroke-opacity:0.1; fill:none\" points=\"\n",
       "  188.156,934.808 1921.26,934.808 \n",
       "  \"/>\n",
       "<polyline clip-path=\"url(#clip5702)\" style=\"stroke:#000000; stroke-width:2; stroke-opacity:0.1; fill:none\" points=\"\n",
       "  188.156,634.861 1921.26,634.861 \n",
       "  \"/>\n",
       "<polyline clip-path=\"url(#clip5702)\" style=\"stroke:#000000; stroke-width:2; stroke-opacity:0.1; fill:none\" points=\"\n",
       "  188.156,334.914 1921.26,334.914 \n",
       "  \"/>\n",
       "<polyline clip-path=\"url(#clip5700)\" style=\"stroke:#000000; stroke-width:4; stroke-opacity:1; fill:none\" points=\"\n",
       "  188.156,1886.71 1921.26,1886.71 \n",
       "  \"/>\n",
       "<polyline clip-path=\"url(#clip5700)\" style=\"stroke:#000000; stroke-width:4; stroke-opacity:1; fill:none\" points=\"\n",
       "  188.156,1886.71 188.156,47.2441 \n",
       "  \"/>\n",
       "<polyline clip-path=\"url(#clip5700)\" style=\"stroke:#000000; stroke-width:4; stroke-opacity:1; fill:none\" points=\"\n",
       "  451.127,1886.71 451.127,1859.12 \n",
       "  \"/>\n",
       "<polyline clip-path=\"url(#clip5700)\" style=\"stroke:#000000; stroke-width:4; stroke-opacity:1; fill:none\" points=\"\n",
       "  757.016,1886.71 757.016,1859.12 \n",
       "  \"/>\n",
       "<polyline clip-path=\"url(#clip5700)\" style=\"stroke:#000000; stroke-width:4; stroke-opacity:1; fill:none\" points=\"\n",
       "  1062.91,1886.71 1062.91,1859.12 \n",
       "  \"/>\n",
       "<polyline clip-path=\"url(#clip5700)\" style=\"stroke:#000000; stroke-width:4; stroke-opacity:1; fill:none\" points=\"\n",
       "  1368.8,1886.71 1368.8,1859.12 \n",
       "  \"/>\n",
       "<polyline clip-path=\"url(#clip5700)\" style=\"stroke:#000000; stroke-width:4; stroke-opacity:1; fill:none\" points=\"\n",
       "  1674.69,1886.71 1674.69,1859.12 \n",
       "  \"/>\n",
       "<polyline clip-path=\"url(#clip5700)\" style=\"stroke:#000000; stroke-width:4; stroke-opacity:1; fill:none\" points=\"\n",
       "  188.156,1834.65 214.153,1834.65 \n",
       "  \"/>\n",
       "<polyline clip-path=\"url(#clip5700)\" style=\"stroke:#000000; stroke-width:4; stroke-opacity:1; fill:none\" points=\"\n",
       "  188.156,1534.7 214.153,1534.7 \n",
       "  \"/>\n",
       "<polyline clip-path=\"url(#clip5700)\" style=\"stroke:#000000; stroke-width:4; stroke-opacity:1; fill:none\" points=\"\n",
       "  188.156,1234.75 214.153,1234.75 \n",
       "  \"/>\n",
       "<polyline clip-path=\"url(#clip5700)\" style=\"stroke:#000000; stroke-width:4; stroke-opacity:1; fill:none\" points=\"\n",
       "  188.156,934.808 214.153,934.808 \n",
       "  \"/>\n",
       "<polyline clip-path=\"url(#clip5700)\" style=\"stroke:#000000; stroke-width:4; stroke-opacity:1; fill:none\" points=\"\n",
       "  188.156,634.861 214.153,634.861 \n",
       "  \"/>\n",
       "<polyline clip-path=\"url(#clip5700)\" style=\"stroke:#000000; stroke-width:4; stroke-opacity:1; fill:none\" points=\"\n",
       "  188.156,334.914 214.153,334.914 \n",
       "  \"/>\n",
       "<g clip-path=\"url(#clip5700)\">\n",
       "<text style=\"fill:#000000; fill-opacity:1; font-family:Arial,Helvetica Neue,Helvetica,sans-serif; font-size:48px; text-anchor:middle;\" transform=\"rotate(0, 451.127, 1938.71)\" x=\"451.127\" y=\"1938.71\">6</text>\n",
       "</g>\n",
       "<g clip-path=\"url(#clip5700)\">\n",
       "<text style=\"fill:#000000; fill-opacity:1; font-family:Arial,Helvetica Neue,Helvetica,sans-serif; font-size:48px; text-anchor:middle;\" transform=\"rotate(0, 757.016, 1938.71)\" x=\"757.016\" y=\"1938.71\">9</text>\n",
       "</g>\n",
       "<g clip-path=\"url(#clip5700)\">\n",
       "<text style=\"fill:#000000; fill-opacity:1; font-family:Arial,Helvetica Neue,Helvetica,sans-serif; font-size:48px; text-anchor:middle;\" transform=\"rotate(0, 1062.91, 1938.71)\" x=\"1062.91\" y=\"1938.71\">12</text>\n",
       "</g>\n",
       "<g clip-path=\"url(#clip5700)\">\n",
       "<text style=\"fill:#000000; fill-opacity:1; font-family:Arial,Helvetica Neue,Helvetica,sans-serif; font-size:48px; text-anchor:middle;\" transform=\"rotate(0, 1368.8, 1938.71)\" x=\"1368.8\" y=\"1938.71\">15</text>\n",
       "</g>\n",
       "<g clip-path=\"url(#clip5700)\">\n",
       "<text style=\"fill:#000000; fill-opacity:1; font-family:Arial,Helvetica Neue,Helvetica,sans-serif; font-size:48px; text-anchor:middle;\" transform=\"rotate(0, 1674.69, 1938.71)\" x=\"1674.69\" y=\"1938.71\">18</text>\n",
       "</g>\n",
       "<g clip-path=\"url(#clip5700)\">\n",
       "<text style=\"fill:#000000; fill-opacity:1; font-family:Arial,Helvetica Neue,Helvetica,sans-serif; font-size:48px; text-anchor:end;\" transform=\"rotate(0, 168.156, 1852.15)\" x=\"168.156\" y=\"1852.15\">0.00</text>\n",
       "</g>\n",
       "<g clip-path=\"url(#clip5700)\">\n",
       "<text style=\"fill:#000000; fill-opacity:1; font-family:Arial,Helvetica Neue,Helvetica,sans-serif; font-size:48px; text-anchor:end;\" transform=\"rotate(0, 168.156, 1552.2)\" x=\"168.156\" y=\"1552.2\">0.05</text>\n",
       "</g>\n",
       "<g clip-path=\"url(#clip5700)\">\n",
       "<text style=\"fill:#000000; fill-opacity:1; font-family:Arial,Helvetica Neue,Helvetica,sans-serif; font-size:48px; text-anchor:end;\" transform=\"rotate(0, 168.156, 1252.25)\" x=\"168.156\" y=\"1252.25\">0.10</text>\n",
       "</g>\n",
       "<g clip-path=\"url(#clip5700)\">\n",
       "<text style=\"fill:#000000; fill-opacity:1; font-family:Arial,Helvetica Neue,Helvetica,sans-serif; font-size:48px; text-anchor:end;\" transform=\"rotate(0, 168.156, 952.308)\" x=\"168.156\" y=\"952.308\">0.15</text>\n",
       "</g>\n",
       "<g clip-path=\"url(#clip5700)\">\n",
       "<text style=\"fill:#000000; fill-opacity:1; font-family:Arial,Helvetica Neue,Helvetica,sans-serif; font-size:48px; text-anchor:end;\" transform=\"rotate(0, 168.156, 652.361)\" x=\"168.156\" y=\"652.361\">0.20</text>\n",
       "</g>\n",
       "<g clip-path=\"url(#clip5700)\">\n",
       "<text style=\"fill:#000000; fill-opacity:1; font-family:Arial,Helvetica Neue,Helvetica,sans-serif; font-size:48px; text-anchor:end;\" transform=\"rotate(0, 168.156, 352.414)\" x=\"168.156\" y=\"352.414\">0.25</text>\n",
       "</g>\n",
       "<polyline clip-path=\"url(#clip5702)\" style=\"stroke:#009af9; stroke-width:4; stroke-opacity:1; fill:none\" points=\"\n",
       "  237.206,1834.65 245.423,1834.64 253.639,1834.63 261.855,1834.6 270.071,1834.52 278.287,1834.34 286.503,1834.03 294.719,1833.55 302.935,1832.96 311.151,1832.31 \n",
       "  319.367,1831.63 327.584,1830.74 335.8,1829.24 344.016,1826.57 352.232,1822.21 360.448,1815.77 368.664,1806.88 376.88,1794.95 385.096,1779.05 393.312,1758.14 \n",
       "  401.528,1731.62 409.745,1699.69 417.961,1663.34 426.177,1623.73 434.393,1581.55 442.609,1536.66 450.825,1488.04 459.041,1433.91 467.257,1372.04 475.473,1300.45 \n",
       "  483.689,1218.65 491.905,1128.52 500.122,1034.32 508.338,941.502 516.554,854.964 524.77,777.674 532.986,709.907 541.202,649.03 549.418,589.965 557.634,526.912 \n",
       "  565.85,456.216 574.066,378.917 582.283,300.999 590.499,230.788 598.715,175.117 606.931,136.694 615.147,113.993 623.363,103.009 631.579,99.3044 639.795,99.3054 \n",
       "  648.011,100.953 656.227,104.015 664.444,109.878 672.66,120.637 680.876,137.928 689.092,162.264 697.308,193.088 705.524,229.305 713.74,270.014 721.956,315.118 \n",
       "  730.172,365.204 738.388,420.418 746.604,479.114 754.821,537.591 763.037,591.541 771.253,638.416 779.469,679.125 787.685,717.756 795.901,759.275 804.117,806.589 \n",
       "  812.333,858.928 820.549,912.568 828.765,963.167 836.982,1008.08 845.198,1047.41 853.414,1083.45 861.63,1119.19 869.846,1156.58 878.062,1195.56 886.278,1234.28 \n",
       "  894.494,1270.16 902.71,1301.23 910.926,1327.01 919.143,1348.79 927.359,1369.09 935.575,1390.7 943.791,1415.73 952.007,1444.99 960.223,1477.77 968.439,1512.04 \n",
       "  976.655,1545.05 984.871,1574.24 993.087,1598.26 1001.3,1617.25 1009.52,1632.43 1017.74,1645.26 1025.95,1656.88 1034.17,1668.02 1042.38,1679.03 1050.6,1689.87 \n",
       "  1058.82,1700.09 1067.03,1709.05 1075.25,1716.3 1083.46,1722 1091.68,1726.91 1099.9,1732.22 1108.11,1738.99 1116.33,1747.66 1124.54,1757.62 1132.76,1767.46 \n",
       "  1140.98,1775.62 1149.19,1781.25 1157.41,1784.6 1165.63,1786.64 1173.84,1788.4 1182.06,1790.47 1190.27,1792.89 1198.49,1795.45 1206.71,1797.93 1214.92,1800.27 \n",
       "  1223.14,1802.58 1231.35,1805.02 1239.57,1807.63 1247.79,1810.32 1256,1812.85 1264.22,1815.05 1272.43,1816.91 1280.65,1818.54 1288.87,1820.01 1297.08,1821.21 \n",
       "  1305.3,1821.93 1313.52,1822.03 1321.73,1821.67 1329.95,1821.28 1338.16,1821.27 1346.38,1821.91 1354.6,1823.15 1362.81,1824.85 1371.03,1826.79 1379.24,1828.78 \n",
       "  1387.46,1830.61 1395.68,1832.08 1403.89,1833.08 1412.11,1833.6 1420.32,1833.74 1428.54,1833.65 1436.76,1833.51 1444.97,1833.45 1453.19,1833.51 1461.4,1833.63 \n",
       "  1469.62,1833.72 1477.84,1833.71 1486.05,1833.61 1494.27,1833.49 1502.49,1833.47 1510.7,1833.58 1518.92,1833.79 1527.13,1834.01 1535.35,1834.13 1543.57,1834.12 \n",
       "  1551.78,1833.96 1560,1833.74 1568.21,1833.55 1576.43,1833.49 1584.65,1833.6 1592.86,1833.82 1601.08,1834.07 1609.29,1834.24 1617.51,1834.29 1625.73,1834.2 \n",
       "  1633.94,1834 1642.16,1833.75 1650.38,1833.55 1658.59,1833.5 1666.81,1833.61 1675.02,1833.84 1683.24,1834.1 1691.46,1834.34 1699.67,1834.49 1707.89,1834.58 \n",
       "  1716.1,1834.62 1724.32,1834.63 1732.54,1834.61 1740.75,1834.56 1748.97,1834.44 1757.18,1834.26 1765.4,1834.01 1773.62,1833.75 1781.83,1833.55 1790.05,1833.5 \n",
       "  1798.26,1833.61 1806.48,1833.85 1814.7,1834.11 1822.91,1834.34 1831.13,1834.5 1839.35,1834.58 1847.56,1834.63 1855.78,1834.64 1863.99,1834.65 1872.21,1834.65 \n",
       "  \n",
       "  \"/>\n",
       "<polygon clip-path=\"url(#clip5700)\" points=\"\n",
       "1610.43,227.724 1861.26,227.724 1861.26,106.764 1610.43,106.764 \n",
       "  \" fill=\"#ffffff\" fill-rule=\"evenodd\" fill-opacity=\"1\"/>\n",
       "<polyline clip-path=\"url(#clip5700)\" style=\"stroke:#000000; stroke-width:4; stroke-opacity:1; fill:none\" points=\"\n",
       "  1610.43,227.724 1861.26,227.724 1861.26,106.764 1610.43,106.764 1610.43,227.724 \n",
       "  \"/>\n",
       "<polyline clip-path=\"url(#clip5700)\" style=\"stroke:#009af9; stroke-width:4; stroke-opacity:1; fill:none\" points=\"\n",
       "  1630.43,167.244 1750.43,167.244 \n",
       "  \"/>\n",
       "<g clip-path=\"url(#clip5700)\">\n",
       "<text style=\"fill:#000000; fill-opacity:1; font-family:Arial,Helvetica Neue,Helvetica,sans-serif; font-size:48px; text-anchor:start;\" transform=\"rotate(0, 1770.43, 184.744)\" x=\"1770.43\" y=\"184.744\">y1</text>\n",
       "</g>\n",
       "</svg>\n"
      ],
      "image/svg+xml": [
       "<?xml version=\"1.0\" encoding=\"utf-8\"?>\n",
       "<svg xmlns=\"http://www.w3.org/2000/svg\" xmlns:xlink=\"http://www.w3.org/1999/xlink\" width=\"500\" height=\"500\" viewBox=\"0 0 2000 2000\">\n",
       "<defs>\n",
       "  <clipPath id=\"clip5600\">\n",
       "    <rect x=\"0\" y=\"0\" width=\"2000\" height=\"2000\"/>\n",
       "  </clipPath>\n",
       "</defs>\n",
       "<polygon clip-path=\"url(#clip5600)\" points=\"\n",
       "0,2000 2000,2000 2000,0 0,0 \n",
       "  \" fill=\"#ffffff\" fill-rule=\"evenodd\" fill-opacity=\"1\"/>\n",
       "<defs>\n",
       "  <clipPath id=\"clip5601\">\n",
       "    <rect x=\"400\" y=\"200\" width=\"1401\" height=\"1401\"/>\n",
       "  </clipPath>\n",
       "</defs>\n",
       "<polygon clip-path=\"url(#clip5600)\" points=\"\n",
       "188.156,1886.71 1921.26,1886.71 1921.26,47.2441 188.156,47.2441 \n",
       "  \" fill=\"#ffffff\" fill-rule=\"evenodd\" fill-opacity=\"1\"/>\n",
       "<defs>\n",
       "  <clipPath id=\"clip5602\">\n",
       "    <rect x=\"188\" y=\"47\" width=\"1734\" height=\"1840\"/>\n",
       "  </clipPath>\n",
       "</defs>\n",
       "<polyline clip-path=\"url(#clip5602)\" style=\"stroke:#000000; stroke-width:2; stroke-opacity:0.1; fill:none\" points=\"\n",
       "  451.127,1886.71 451.127,47.2441 \n",
       "  \"/>\n",
       "<polyline clip-path=\"url(#clip5602)\" style=\"stroke:#000000; stroke-width:2; stroke-opacity:0.1; fill:none\" points=\"\n",
       "  757.016,1886.71 757.016,47.2441 \n",
       "  \"/>\n",
       "<polyline clip-path=\"url(#clip5602)\" style=\"stroke:#000000; stroke-width:2; stroke-opacity:0.1; fill:none\" points=\"\n",
       "  1062.91,1886.71 1062.91,47.2441 \n",
       "  \"/>\n",
       "<polyline clip-path=\"url(#clip5602)\" style=\"stroke:#000000; stroke-width:2; stroke-opacity:0.1; fill:none\" points=\"\n",
       "  1368.8,1886.71 1368.8,47.2441 \n",
       "  \"/>\n",
       "<polyline clip-path=\"url(#clip5602)\" style=\"stroke:#000000; stroke-width:2; stroke-opacity:0.1; fill:none\" points=\"\n",
       "  1674.69,1886.71 1674.69,47.2441 \n",
       "  \"/>\n",
       "<polyline clip-path=\"url(#clip5602)\" style=\"stroke:#000000; stroke-width:2; stroke-opacity:0.1; fill:none\" points=\"\n",
       "  188.156,1834.65 1921.26,1834.65 \n",
       "  \"/>\n",
       "<polyline clip-path=\"url(#clip5602)\" style=\"stroke:#000000; stroke-width:2; stroke-opacity:0.1; fill:none\" points=\"\n",
       "  188.156,1534.7 1921.26,1534.7 \n",
       "  \"/>\n",
       "<polyline clip-path=\"url(#clip5602)\" style=\"stroke:#000000; stroke-width:2; stroke-opacity:0.1; fill:none\" points=\"\n",
       "  188.156,1234.75 1921.26,1234.75 \n",
       "  \"/>\n",
       "<polyline clip-path=\"url(#clip5602)\" style=\"stroke:#000000; stroke-width:2; stroke-opacity:0.1; fill:none\" points=\"\n",
       "  188.156,934.808 1921.26,934.808 \n",
       "  \"/>\n",
       "<polyline clip-path=\"url(#clip5602)\" style=\"stroke:#000000; stroke-width:2; stroke-opacity:0.1; fill:none\" points=\"\n",
       "  188.156,634.861 1921.26,634.861 \n",
       "  \"/>\n",
       "<polyline clip-path=\"url(#clip5602)\" style=\"stroke:#000000; stroke-width:2; stroke-opacity:0.1; fill:none\" points=\"\n",
       "  188.156,334.914 1921.26,334.914 \n",
       "  \"/>\n",
       "<polyline clip-path=\"url(#clip5600)\" style=\"stroke:#000000; stroke-width:4; stroke-opacity:1; fill:none\" points=\"\n",
       "  188.156,1886.71 1921.26,1886.71 \n",
       "  \"/>\n",
       "<polyline clip-path=\"url(#clip5600)\" style=\"stroke:#000000; stroke-width:4; stroke-opacity:1; fill:none\" points=\"\n",
       "  188.156,1886.71 188.156,47.2441 \n",
       "  \"/>\n",
       "<polyline clip-path=\"url(#clip5600)\" style=\"stroke:#000000; stroke-width:4; stroke-opacity:1; fill:none\" points=\"\n",
       "  451.127,1886.71 451.127,1859.12 \n",
       "  \"/>\n",
       "<polyline clip-path=\"url(#clip5600)\" style=\"stroke:#000000; stroke-width:4; stroke-opacity:1; fill:none\" points=\"\n",
       "  757.016,1886.71 757.016,1859.12 \n",
       "  \"/>\n",
       "<polyline clip-path=\"url(#clip5600)\" style=\"stroke:#000000; stroke-width:4; stroke-opacity:1; fill:none\" points=\"\n",
       "  1062.91,1886.71 1062.91,1859.12 \n",
       "  \"/>\n",
       "<polyline clip-path=\"url(#clip5600)\" style=\"stroke:#000000; stroke-width:4; stroke-opacity:1; fill:none\" points=\"\n",
       "  1368.8,1886.71 1368.8,1859.12 \n",
       "  \"/>\n",
       "<polyline clip-path=\"url(#clip5600)\" style=\"stroke:#000000; stroke-width:4; stroke-opacity:1; fill:none\" points=\"\n",
       "  1674.69,1886.71 1674.69,1859.12 \n",
       "  \"/>\n",
       "<polyline clip-path=\"url(#clip5600)\" style=\"stroke:#000000; stroke-width:4; stroke-opacity:1; fill:none\" points=\"\n",
       "  188.156,1834.65 214.153,1834.65 \n",
       "  \"/>\n",
       "<polyline clip-path=\"url(#clip5600)\" style=\"stroke:#000000; stroke-width:4; stroke-opacity:1; fill:none\" points=\"\n",
       "  188.156,1534.7 214.153,1534.7 \n",
       "  \"/>\n",
       "<polyline clip-path=\"url(#clip5600)\" style=\"stroke:#000000; stroke-width:4; stroke-opacity:1; fill:none\" points=\"\n",
       "  188.156,1234.75 214.153,1234.75 \n",
       "  \"/>\n",
       "<polyline clip-path=\"url(#clip5600)\" style=\"stroke:#000000; stroke-width:4; stroke-opacity:1; fill:none\" points=\"\n",
       "  188.156,934.808 214.153,934.808 \n",
       "  \"/>\n",
       "<polyline clip-path=\"url(#clip5600)\" style=\"stroke:#000000; stroke-width:4; stroke-opacity:1; fill:none\" points=\"\n",
       "  188.156,634.861 214.153,634.861 \n",
       "  \"/>\n",
       "<polyline clip-path=\"url(#clip5600)\" style=\"stroke:#000000; stroke-width:4; stroke-opacity:1; fill:none\" points=\"\n",
       "  188.156,334.914 214.153,334.914 \n",
       "  \"/>\n",
       "<g clip-path=\"url(#clip5600)\">\n",
       "<text style=\"fill:#000000; fill-opacity:1; font-family:Arial,Helvetica Neue,Helvetica,sans-serif; font-size:48px; text-anchor:middle;\" transform=\"rotate(0, 451.127, 1938.71)\" x=\"451.127\" y=\"1938.71\">6</text>\n",
       "</g>\n",
       "<g clip-path=\"url(#clip5600)\">\n",
       "<text style=\"fill:#000000; fill-opacity:1; font-family:Arial,Helvetica Neue,Helvetica,sans-serif; font-size:48px; text-anchor:middle;\" transform=\"rotate(0, 757.016, 1938.71)\" x=\"757.016\" y=\"1938.71\">9</text>\n",
       "</g>\n",
       "<g clip-path=\"url(#clip5600)\">\n",
       "<text style=\"fill:#000000; fill-opacity:1; font-family:Arial,Helvetica Neue,Helvetica,sans-serif; font-size:48px; text-anchor:middle;\" transform=\"rotate(0, 1062.91, 1938.71)\" x=\"1062.91\" y=\"1938.71\">12</text>\n",
       "</g>\n",
       "<g clip-path=\"url(#clip5600)\">\n",
       "<text style=\"fill:#000000; fill-opacity:1; font-family:Arial,Helvetica Neue,Helvetica,sans-serif; font-size:48px; text-anchor:middle;\" transform=\"rotate(0, 1368.8, 1938.71)\" x=\"1368.8\" y=\"1938.71\">15</text>\n",
       "</g>\n",
       "<g clip-path=\"url(#clip5600)\">\n",
       "<text style=\"fill:#000000; fill-opacity:1; font-family:Arial,Helvetica Neue,Helvetica,sans-serif; font-size:48px; text-anchor:middle;\" transform=\"rotate(0, 1674.69, 1938.71)\" x=\"1674.69\" y=\"1938.71\">18</text>\n",
       "</g>\n",
       "<g clip-path=\"url(#clip5600)\">\n",
       "<text style=\"fill:#000000; fill-opacity:1; font-family:Arial,Helvetica Neue,Helvetica,sans-serif; font-size:48px; text-anchor:end;\" transform=\"rotate(0, 168.156, 1852.15)\" x=\"168.156\" y=\"1852.15\">0.00</text>\n",
       "</g>\n",
       "<g clip-path=\"url(#clip5600)\">\n",
       "<text style=\"fill:#000000; fill-opacity:1; font-family:Arial,Helvetica Neue,Helvetica,sans-serif; font-size:48px; text-anchor:end;\" transform=\"rotate(0, 168.156, 1552.2)\" x=\"168.156\" y=\"1552.2\">0.05</text>\n",
       "</g>\n",
       "<g clip-path=\"url(#clip5600)\">\n",
       "<text style=\"fill:#000000; fill-opacity:1; font-family:Arial,Helvetica Neue,Helvetica,sans-serif; font-size:48px; text-anchor:end;\" transform=\"rotate(0, 168.156, 1252.25)\" x=\"168.156\" y=\"1252.25\">0.10</text>\n",
       "</g>\n",
       "<g clip-path=\"url(#clip5600)\">\n",
       "<text style=\"fill:#000000; fill-opacity:1; font-family:Arial,Helvetica Neue,Helvetica,sans-serif; font-size:48px; text-anchor:end;\" transform=\"rotate(0, 168.156, 952.308)\" x=\"168.156\" y=\"952.308\">0.15</text>\n",
       "</g>\n",
       "<g clip-path=\"url(#clip5600)\">\n",
       "<text style=\"fill:#000000; fill-opacity:1; font-family:Arial,Helvetica Neue,Helvetica,sans-serif; font-size:48px; text-anchor:end;\" transform=\"rotate(0, 168.156, 652.361)\" x=\"168.156\" y=\"652.361\">0.20</text>\n",
       "</g>\n",
       "<g clip-path=\"url(#clip5600)\">\n",
       "<text style=\"fill:#000000; fill-opacity:1; font-family:Arial,Helvetica Neue,Helvetica,sans-serif; font-size:48px; text-anchor:end;\" transform=\"rotate(0, 168.156, 352.414)\" x=\"168.156\" y=\"352.414\">0.25</text>\n",
       "</g>\n",
       "<polyline clip-path=\"url(#clip5602)\" style=\"stroke:#009af9; stroke-width:4; stroke-opacity:1; fill:none\" points=\"\n",
       "  237.206,1834.65 245.423,1834.64 253.639,1834.63 261.855,1834.6 270.071,1834.52 278.287,1834.34 286.503,1834.03 294.719,1833.55 302.935,1832.96 311.151,1832.31 \n",
       "  319.367,1831.63 327.584,1830.74 335.8,1829.24 344.016,1826.57 352.232,1822.21 360.448,1815.77 368.664,1806.88 376.88,1794.95 385.096,1779.05 393.312,1758.14 \n",
       "  401.528,1731.62 409.745,1699.69 417.961,1663.34 426.177,1623.73 434.393,1581.55 442.609,1536.66 450.825,1488.04 459.041,1433.91 467.257,1372.04 475.473,1300.45 \n",
       "  483.689,1218.65 491.905,1128.52 500.122,1034.32 508.338,941.502 516.554,854.964 524.77,777.674 532.986,709.907 541.202,649.03 549.418,589.965 557.634,526.912 \n",
       "  565.85,456.216 574.066,378.917 582.283,300.999 590.499,230.788 598.715,175.117 606.931,136.694 615.147,113.993 623.363,103.009 631.579,99.3044 639.795,99.3054 \n",
       "  648.011,100.953 656.227,104.015 664.444,109.878 672.66,120.637 680.876,137.928 689.092,162.264 697.308,193.088 705.524,229.305 713.74,270.014 721.956,315.118 \n",
       "  730.172,365.204 738.388,420.418 746.604,479.114 754.821,537.591 763.037,591.541 771.253,638.416 779.469,679.125 787.685,717.756 795.901,759.275 804.117,806.589 \n",
       "  812.333,858.928 820.549,912.568 828.765,963.167 836.982,1008.08 845.198,1047.41 853.414,1083.45 861.63,1119.19 869.846,1156.58 878.062,1195.56 886.278,1234.28 \n",
       "  894.494,1270.16 902.71,1301.23 910.926,1327.01 919.143,1348.79 927.359,1369.09 935.575,1390.7 943.791,1415.73 952.007,1444.99 960.223,1477.77 968.439,1512.04 \n",
       "  976.655,1545.05 984.871,1574.24 993.087,1598.26 1001.3,1617.25 1009.52,1632.43 1017.74,1645.26 1025.95,1656.88 1034.17,1668.02 1042.38,1679.03 1050.6,1689.87 \n",
       "  1058.82,1700.09 1067.03,1709.05 1075.25,1716.3 1083.46,1722 1091.68,1726.91 1099.9,1732.22 1108.11,1738.99 1116.33,1747.66 1124.54,1757.62 1132.76,1767.46 \n",
       "  1140.98,1775.62 1149.19,1781.25 1157.41,1784.6 1165.63,1786.64 1173.84,1788.4 1182.06,1790.47 1190.27,1792.89 1198.49,1795.45 1206.71,1797.93 1214.92,1800.27 \n",
       "  1223.14,1802.58 1231.35,1805.02 1239.57,1807.63 1247.79,1810.32 1256,1812.85 1264.22,1815.05 1272.43,1816.91 1280.65,1818.54 1288.87,1820.01 1297.08,1821.21 \n",
       "  1305.3,1821.93 1313.52,1822.03 1321.73,1821.67 1329.95,1821.28 1338.16,1821.27 1346.38,1821.91 1354.6,1823.15 1362.81,1824.85 1371.03,1826.79 1379.24,1828.78 \n",
       "  1387.46,1830.61 1395.68,1832.08 1403.89,1833.08 1412.11,1833.6 1420.32,1833.74 1428.54,1833.65 1436.76,1833.51 1444.97,1833.45 1453.19,1833.51 1461.4,1833.63 \n",
       "  1469.62,1833.72 1477.84,1833.71 1486.05,1833.61 1494.27,1833.49 1502.49,1833.47 1510.7,1833.58 1518.92,1833.79 1527.13,1834.01 1535.35,1834.13 1543.57,1834.12 \n",
       "  1551.78,1833.96 1560,1833.74 1568.21,1833.55 1576.43,1833.49 1584.65,1833.6 1592.86,1833.82 1601.08,1834.07 1609.29,1834.24 1617.51,1834.29 1625.73,1834.2 \n",
       "  1633.94,1834 1642.16,1833.75 1650.38,1833.55 1658.59,1833.5 1666.81,1833.61 1675.02,1833.84 1683.24,1834.1 1691.46,1834.34 1699.67,1834.49 1707.89,1834.58 \n",
       "  1716.1,1834.62 1724.32,1834.63 1732.54,1834.61 1740.75,1834.56 1748.97,1834.44 1757.18,1834.26 1765.4,1834.01 1773.62,1833.75 1781.83,1833.55 1790.05,1833.5 \n",
       "  1798.26,1833.61 1806.48,1833.85 1814.7,1834.11 1822.91,1834.34 1831.13,1834.5 1839.35,1834.58 1847.56,1834.63 1855.78,1834.64 1863.99,1834.65 1872.21,1834.65 \n",
       "  \n",
       "  \"/>\n",
       "<polygon clip-path=\"url(#clip5600)\" points=\"\n",
       "1610.43,227.724 1861.26,227.724 1861.26,106.764 1610.43,106.764 \n",
       "  \" fill=\"#ffffff\" fill-rule=\"evenodd\" fill-opacity=\"1\"/>\n",
       "<polyline clip-path=\"url(#clip5600)\" style=\"stroke:#000000; stroke-width:4; stroke-opacity:1; fill:none\" points=\"\n",
       "  1610.43,227.724 1861.26,227.724 1861.26,106.764 1610.43,106.764 1610.43,227.724 \n",
       "  \"/>\n",
       "<polyline clip-path=\"url(#clip5600)\" style=\"stroke:#009af9; stroke-width:4; stroke-opacity:1; fill:none\" points=\"\n",
       "  1630.43,167.244 1750.43,167.244 \n",
       "  \"/>\n",
       "<g clip-path=\"url(#clip5600)\">\n",
       "<text style=\"fill:#000000; fill-opacity:1; font-family:Arial,Helvetica Neue,Helvetica,sans-serif; font-size:48px; text-anchor:start;\" transform=\"rotate(0, 1770.43, 184.744)\" x=\"1770.43\" y=\"184.744\">y1</text>\n",
       "</g>\n",
       "</svg>\n"
      ]
     },
     "metadata": {},
     "execution_count": 8
    }
   ],
   "cell_type": "code",
   "source": [
    "density(samples[:sigma])"
   ],
   "metadata": {},
   "execution_count": 8
  },
  {
   "outputs": [],
   "cell_type": "markdown",
   "source": [
    "End of `clip-21-23.jl`"
   ],
   "metadata": {}
  },
  {
   "outputs": [],
   "cell_type": "markdown",
   "source": [
    "*This notebook was generated using [Literate.jl](https://github.com/fredrikekre/Literate.jl).*"
   ],
   "metadata": {}
  }
 ],
 "nbformat_minor": 3,
 "metadata": {
  "language_info": {
   "file_extension": ".jl",
   "mimetype": "application/julia",
   "name": "julia",
   "version": "1.2.0-DEV.216"
  },
  "kernelspec": {
   "name": "julia-1.2",
   "display_name": "Julia 1.2.0-DEV.216",
   "language": "julia"
  }
 },
 "nbformat": 4
}
