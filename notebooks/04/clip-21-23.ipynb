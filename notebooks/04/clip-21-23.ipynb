{
 "cells": [
  {
   "outputs": [],
   "cell_type": "markdown",
   "source": [
    "Load Julia packages (libraries) needed  for the snippets in chapter 0"
   ],
   "metadata": {}
  },
  {
   "outputs": [],
   "cell_type": "code",
   "source": [
    "using StatisticalRethinking, CmdStan, StanMCMCChains\n",
    "gr(size=(500,500));"
   ],
   "metadata": {},
   "execution_count": 1
  },
  {
   "outputs": [],
   "cell_type": "markdown",
   "source": [
    "CmdStan uses a tmp directory to store the output of cmdstan"
   ],
   "metadata": {}
  },
  {
   "outputs": [],
   "cell_type": "code",
   "source": [
    "ProjDir = rel_path(\"..\", \"scripts\", \"04\")\n",
    "cd(ProjDir)"
   ],
   "metadata": {},
   "execution_count": 2
  },
  {
   "outputs": [],
   "cell_type": "markdown",
   "source": [
    "CmdStan uses a tmp directory to store the output of cmdstan"
   ],
   "metadata": {}
  },
  {
   "outputs": [],
   "cell_type": "code",
   "source": [
    "ProjDir = rel_path(\"..\", \"scripts\", \"04\")\n",
    "cd(ProjDir)"
   ],
   "metadata": {},
   "execution_count": 3
  },
  {
   "outputs": [
    {
     "output_type": "execute_result",
     "data": {
      "text/plain": "5×4 DataFrame\n│ Row │ height   │ weight   │ age      │ male   │\n│     │ \u001b[90mFloat64⍰\u001b[39m │ \u001b[90mFloat64⍰\u001b[39m │ \u001b[90mFloat64⍰\u001b[39m │ \u001b[90mInt64⍰\u001b[39m │\n├─────┼──────────┼──────────┼──────────┼────────┤\n│ 1   │ 151.765  │ 47.8256  │ 63.0     │ 1      │\n│ 2   │ 139.7    │ 36.4858  │ 63.0     │ 0      │\n│ 3   │ 136.525  │ 31.8648  │ 65.0     │ 0      │\n│ 4   │ 156.845  │ 53.0419  │ 41.0     │ 1      │\n│ 5   │ 145.415  │ 41.2769  │ 51.0     │ 0      │",
      "text/html": [
       "<table class=\"data-frame\"><thead><tr><th></th><th>height</th><th>weight</th><th>age</th><th>male</th></tr><tr><th></th><th>Float64⍰</th><th>Float64⍰</th><th>Float64⍰</th><th>Int64⍰</th></tr></thead><tbody><p>5 rows × 4 columns</p><tr><th>1</th><td>151.765</td><td>47.8256</td><td>63.0</td><td>1</td></tr><tr><th>2</th><td>139.7</td><td>36.4858</td><td>63.0</td><td>0</td></tr><tr><th>3</th><td>136.525</td><td>31.8648</td><td>65.0</td><td>0</td></tr><tr><th>4</th><td>156.845</td><td>53.0419</td><td>41.0</td><td>1</td></tr><tr><th>5</th><td>145.415</td><td>41.2769</td><td>51.0</td><td>0</td></tr></tbody></table>"
      ]
     },
     "metadata": {},
     "execution_count": 4
    }
   ],
   "cell_type": "code",
   "source": [
    "howell1 = CSV.read(rel_path(\"..\", \"data\", \"Howell1.csv\"), delim=';')\n",
    "df = convert(DataFrame, howell1);\n",
    "df2 = filter(row -> row[:age] >= 18, df);\n",
    "first(df2, 5)"
   ],
   "metadata": {},
   "execution_count": 4
  },
  {
   "outputs": [],
   "cell_type": "markdown",
   "source": [
    "### Snippet 4.21"
   ],
   "metadata": {}
  },
  {
   "outputs": [],
   "cell_type": "markdown",
   "source": [
    "Sample 20 random heights"
   ],
   "metadata": {}
  },
  {
   "outputs": [],
   "cell_type": "code",
   "source": [
    "n = size(df2, 1)\n",
    "selected_ind = sample(1:n, 20, replace=false);\n",
    "df3 = df2[selected_ind, :];"
   ],
   "metadata": {},
   "execution_count": 5
  },
  {
   "outputs": [],
   "cell_type": "markdown",
   "source": [
    "### Snippet 4.22"
   ],
   "metadata": {}
  },
  {
   "outputs": [],
   "cell_type": "markdown",
   "source": [
    "Generate approximate probabilities"
   ],
   "metadata": {}
  },
  {
   "outputs": [
    {
     "output_type": "execute_result",
     "data": {
      "text/plain": "10×5 DataFrame\n│ Row │ mu      │ sigma   │ ll       │ prod     │ prob        │\n│     │ \u001b[90mFloat64\u001b[39m │ \u001b[90mFloat64\u001b[39m │ \u001b[90mFloat64\u001b[39m  │ \u001b[90mFloat64\u001b[39m  │ \u001b[90mFloat64\u001b[39m     │\n├─────┼─────────┼─────────┼──────────┼──────────┼─────────────┤\n│ 1   │ 140.0   │ 4.0     │ -202.325 │ -211.956 │ 6.21808e-60 │\n│ 2   │ 140.151 │ 4.0     │ -199.661 │ -209.279 │ 9.04924e-59 │\n│ 3   │ 140.302 │ 4.0     │ -197.026 │ -206.629 │ 1.27999e-57 │\n│ 4   │ 140.452 │ 4.0     │ -194.419 │ -204.008 │ 1.7597e-56  │\n│ 5   │ 140.603 │ 4.0     │ -191.841 │ -201.416 │ 2.3513e-55  │\n│ 6   │ 140.754 │ 4.0     │ -189.291 │ -198.852 │ 3.05362e-54 │\n│ 7   │ 140.905 │ 4.0     │ -186.77  │ -196.317 │ 3.85442e-53 │\n│ 8   │ 141.055 │ 4.0     │ -184.277 │ -193.81  │ 4.7287e-52  │\n│ 9   │ 141.206 │ 4.0     │ -181.812 │ -191.331 │ 5.63848e-51 │\n│ 10  │ 141.357 │ 4.0     │ -179.376 │ -188.881 │ 6.53462e-50 │",
      "text/html": [
       "<table class=\"data-frame\"><thead><tr><th></th><th>mu</th><th>sigma</th><th>ll</th><th>prod</th><th>prob</th></tr><tr><th></th><th>Float64</th><th>Float64</th><th>Float64</th><th>Float64</th><th>Float64</th></tr></thead><tbody><p>10 rows × 5 columns</p><tr><th>1</th><td>140.0</td><td>4.0</td><td>-202.325</td><td>-211.956</td><td>6.21808e-60</td></tr><tr><th>2</th><td>140.151</td><td>4.0</td><td>-199.661</td><td>-209.279</td><td>9.04924e-59</td></tr><tr><th>3</th><td>140.302</td><td>4.0</td><td>-197.026</td><td>-206.629</td><td>1.27999e-57</td></tr><tr><th>4</th><td>140.452</td><td>4.0</td><td>-194.419</td><td>-204.008</td><td>1.7597e-56</td></tr><tr><th>5</th><td>140.603</td><td>4.0</td><td>-191.841</td><td>-201.416</td><td>2.3513e-55</td></tr><tr><th>6</th><td>140.754</td><td>4.0</td><td>-189.291</td><td>-198.852</td><td>3.05362e-54</td></tr><tr><th>7</th><td>140.905</td><td>4.0</td><td>-186.77</td><td>-196.317</td><td>3.85442e-53</td></tr><tr><th>8</th><td>141.055</td><td>4.0</td><td>-184.277</td><td>-193.81</td><td>4.7287e-52</td></tr><tr><th>9</th><td>141.206</td><td>4.0</td><td>-181.812</td><td>-191.331</td><td>5.63848e-51</td></tr><tr><th>10</th><td>141.357</td><td>4.0</td><td>-179.376</td><td>-188.881</td><td>6.53462e-50</td></tr></tbody></table>"
      ]
     },
     "metadata": {},
     "execution_count": 6
    }
   ],
   "cell_type": "code",
   "source": [
    "struct Post\n",
    "  mu::Float64\n",
    "  sigma::Float64\n",
    "  ll:: Float64\n",
    "  prod::Float64\n",
    "  prob::Float64\n",
    "end\n",
    "\n",
    "mu_list = repeat(range(140, 170, length=200), 200);\n",
    "sigma_list = repeat(range(4, 20, length=200), inner=200);\n",
    "\n",
    "ll = zeros(40000);\n",
    "for i in 1:40000\n",
    "    d1 = Normal(mu_list[i], sigma_list[i])\n",
    "    ll[i] = sum(log.(pdf.(d1, df3[:height])))\n",
    "end\n",
    "\n",
    "d2 = Normal(178.0, 20.0)\n",
    "d3 = Uniform(0, 50)\n",
    "prod = ll + log.(pdf.(d2, mu_list)) + log.(pdf.(d3, sigma_list))\n",
    "prob = exp.(prod .- maximum(prod))\n",
    "post = DataFrame(mu=mu_list, sigma=sigma_list, ll=ll, prod=prod, prob=prob)\n",
    "first(post, 10)"
   ],
   "metadata": {},
   "execution_count": 6
  },
  {
   "outputs": [],
   "cell_type": "markdown",
   "source": [
    "Sample post"
   ],
   "metadata": {}
  },
  {
   "outputs": [
    {
     "output_type": "execute_result",
     "data": {
      "text/plain": "10000×5 DataFrame\n│ Row   │ mu      │ sigma   │ ll       │ prod     │ prob      │\n│       │ \u001b[90mFloat64\u001b[39m │ \u001b[90mFloat64\u001b[39m │ \u001b[90mFloat64\u001b[39m  │ \u001b[90mFloat64\u001b[39m  │ \u001b[90mFloat64\u001b[39m   │\n├───────┼─────────┼─────────┼──────────┼──────────┼───────────┤\n│ 1     │ 155.678 │ 6.65327 │ -67.6197 │ -76.0692 │ 0.643792  │\n│ 2     │ 153.116 │ 9.78894 │ -69.1417 │ -77.7424 │ 0.120804  │\n│ 3     │ 153.116 │ 6.89447 │ -67.3505 │ -75.9513 │ 0.724377  │\n│ 4     │ 155.528 │ 6.89447 │ -67.464  │ -75.922  │ 0.745886  │\n│ 5     │ 156.131 │ 6.65327 │ -67.966  │ -76.3905 │ 0.46687   │\n│ 6     │ 153.266 │ 7.8593  │ -67.5334 │ -76.1248 │ 0.608953  │\n│ 7     │ 151.307 │ 8.34171 │ -68.9186 │ -77.636  │ 0.13437   │\n⋮\n│ 9993  │ 153.417 │ 6.57286 │ -67.3018 │ -75.8839 │ 0.774859  │\n│ 9994  │ 154.623 │ 7.53769 │ -67.2616 │ -75.7714 │ 0.867158  │\n│ 9995  │ 157.337 │ 6.17085 │ -69.9577 │ -78.3181 │ 0.0679294 │\n│ 9996  │ 154.925 │ 6.65327 │ -67.2479 │ -75.7402 │ 0.894635  │\n│ 9997  │ 152.06  │ 8.1005  │ -68.2418 │ -76.9096 │ 0.277827  │\n│ 9998  │ 155.075 │ 9.22613 │ -68.5507 │ -77.0343 │ 0.245239  │\n│ 9999  │ 155.98  │ 7.45729 │ -67.7638 │ -76.1966 │ 0.56681   │\n│ 10000 │ 153.266 │ 7.13568 │ -67.2896 │ -75.881  │ 0.777142  │",
      "text/html": [
       "<table class=\"data-frame\"><thead><tr><th></th><th>mu</th><th>sigma</th><th>ll</th><th>prod</th><th>prob</th></tr><tr><th></th><th>Float64</th><th>Float64</th><th>Float64</th><th>Float64</th><th>Float64</th></tr></thead><tbody><p>10,000 rows × 5 columns</p><tr><th>1</th><td>155.678</td><td>6.65327</td><td>-67.6197</td><td>-76.0692</td><td>0.643792</td></tr><tr><th>2</th><td>153.116</td><td>9.78894</td><td>-69.1417</td><td>-77.7424</td><td>0.120804</td></tr><tr><th>3</th><td>153.116</td><td>6.89447</td><td>-67.3505</td><td>-75.9513</td><td>0.724377</td></tr><tr><th>4</th><td>155.528</td><td>6.89447</td><td>-67.464</td><td>-75.922</td><td>0.745886</td></tr><tr><th>5</th><td>156.131</td><td>6.65327</td><td>-67.966</td><td>-76.3905</td><td>0.46687</td></tr><tr><th>6</th><td>153.266</td><td>7.8593</td><td>-67.5334</td><td>-76.1248</td><td>0.608953</td></tr><tr><th>7</th><td>151.307</td><td>8.34171</td><td>-68.9186</td><td>-77.636</td><td>0.13437</td></tr><tr><th>8</th><td>150.101</td><td>8.58291</td><td>-70.1871</td><td>-78.9868</td><td>0.0348068</td></tr><tr><th>9</th><td>156.432</td><td>7.69849</td><td>-68.1375</td><td>-76.5457</td><td>0.399766</td></tr><tr><th>10</th><td>154.925</td><td>7.21608</td><td>-67.2279</td><td>-75.7202</td><td>0.912642</td></tr><tr><th>11</th><td>153.719</td><td>6.89447</td><td>-67.1494</td><td>-75.7131</td><td>0.919184</td></tr><tr><th>12</th><td>157.789</td><td>8.26131</td><td>-69.5257</td><td>-77.863</td><td>0.107083</td></tr><tr><th>13</th><td>155.678</td><td>7.53769</td><td>-67.6111</td><td>-76.0606</td><td>0.649336</td></tr><tr><th>14</th><td>151.91</td><td>6.41206</td><td>-68.5125</td><td>-77.1901</td><td>0.209865</td></tr><tr><th>15</th><td>155.075</td><td>7.9397</td><td>-67.5551</td><td>-76.0387</td><td>0.663732</td></tr><tr><th>16</th><td>156.281</td><td>6.25126</td><td>-68.4247</td><td>-76.8411</td><td>0.297533</td></tr><tr><th>17</th><td>156.131</td><td>7.69849</td><td>-67.9268</td><td>-76.3513</td><td>0.485554</td></tr><tr><th>18</th><td>154.322</td><td>9.06533</td><td>-68.3145</td><td>-76.8421</td><td>0.297231</td></tr><tr><th>19</th><td>155.377</td><td>6.09045</td><td>-67.8302</td><td>-76.2966</td><td>0.512834</td></tr><tr><th>20</th><td>155.377</td><td>8.1005</td><td>-67.7453</td><td>-76.2118</td><td>0.55826</td></tr><tr><th>21</th><td>153.719</td><td>8.1809</td><td>-67.6281</td><td>-76.1918</td><td>0.569523</td></tr><tr><th>22</th><td>153.417</td><td>6.81407</td><td>-67.2393</td><td>-75.8214</td><td>0.824867</td></tr><tr><th>23</th><td>156.583</td><td>7.9397</td><td>-68.3296</td><td>-76.7297</td><td>0.332586</td></tr><tr><th>24</th><td>151.608</td><td>7.61809</td><td>-68.4325</td><td>-77.1299</td><td>0.222894</td></tr><tr><th>&vellip;</th><td>&vellip;</td><td>&vellip;</td><td>&vellip;</td><td>&vellip;</td><td>&vellip;</td></tr></tbody></table>"
      ]
     },
     "metadata": {},
     "execution_count": 7
    }
   ],
   "cell_type": "code",
   "source": [
    "samples = post[sample(1:size(post, 1), Weights(post[:prob]), 10000, replace=true), :]"
   ],
   "metadata": {},
   "execution_count": 7
  },
  {
   "outputs": [],
   "cell_type": "markdown",
   "source": [
    "### Snippet 4.23"
   ],
   "metadata": {}
  },
  {
   "outputs": [],
   "cell_type": "markdown",
   "source": [
    "Density of sigma"
   ],
   "metadata": {}
  },
  {
   "outputs": [
    {
     "output_type": "execute_result",
     "data": {
      "text/plain": "Plot{Plots.GRBackend() n=1}",
      "image/png": "[encoded data removed]",
      "text/html": [
       "<?xml version=\"1.0\" encoding=\"utf-8\"?>\n",
       "<svg xmlns=\"http://www.w3.org/2000/svg\" xmlns:xlink=\"http://www.w3.org/1999/xlink\" width=\"500\" height=\"500\" viewBox=\"0 0 2000 2000\">\n",
       "<defs>\n",
       "  <clipPath id=\"clip3800\">\n",
       "    <rect x=\"0\" y=\"0\" width=\"2000\" height=\"2000\"/>\n",
       "  </clipPath>\n",
       "</defs>\n",
       "<polygon clip-path=\"url(#clip3800)\" points=\"\n",
       "0,2000 2000,2000 2000,0 0,0 \n",
       "  \" fill=\"#ffffff\" fill-rule=\"evenodd\" fill-opacity=\"1\"/>\n",
       "<defs>\n",
       "  <clipPath id=\"clip3801\">\n",
       "    <rect x=\"400\" y=\"200\" width=\"1401\" height=\"1401\"/>\n",
       "  </clipPath>\n",
       "</defs>\n",
       "<polygon clip-path=\"url(#clip3800)\" points=\"\n",
       "161.394,1886.71 1921.26,1886.71 1921.26,47.2441 161.394,47.2441 \n",
       "  \" fill=\"#ffffff\" fill-rule=\"evenodd\" fill-opacity=\"1\"/>\n",
       "<defs>\n",
       "  <clipPath id=\"clip3802\">\n",
       "    <rect x=\"161\" y=\"47\" width=\"1761\" height=\"1840\"/>\n",
       "  </clipPath>\n",
       "</defs>\n",
       "<polyline clip-path=\"url(#clip3802)\" style=\"stroke:#000000; stroke-width:2; stroke-opacity:0.1; fill:none\" points=\"\n",
       "  441.551,1886.71 441.551,47.2441 \n",
       "  \"/>\n",
       "<polyline clip-path=\"url(#clip3802)\" style=\"stroke:#000000; stroke-width:2; stroke-opacity:0.1; fill:none\" points=\"\n",
       "  793.01,1886.71 793.01,47.2441 \n",
       "  \"/>\n",
       "<polyline clip-path=\"url(#clip3802)\" style=\"stroke:#000000; stroke-width:2; stroke-opacity:0.1; fill:none\" points=\"\n",
       "  1144.47,1886.71 1144.47,47.2441 \n",
       "  \"/>\n",
       "<polyline clip-path=\"url(#clip3802)\" style=\"stroke:#000000; stroke-width:2; stroke-opacity:0.1; fill:none\" points=\"\n",
       "  1495.93,1886.71 1495.93,47.2441 \n",
       "  \"/>\n",
       "<polyline clip-path=\"url(#clip3802)\" style=\"stroke:#000000; stroke-width:2; stroke-opacity:0.1; fill:none\" points=\"\n",
       "  1847.39,1886.71 1847.39,47.2441 \n",
       "  \"/>\n",
       "<polyline clip-path=\"url(#clip3802)\" style=\"stroke:#000000; stroke-width:2; stroke-opacity:0.1; fill:none\" points=\"\n",
       "  161.394,1834.65 1921.26,1834.65 \n",
       "  \"/>\n",
       "<polyline clip-path=\"url(#clip3802)\" style=\"stroke:#000000; stroke-width:2; stroke-opacity:0.1; fill:none\" points=\"\n",
       "  161.394,1309.12 1921.26,1309.12 \n",
       "  \"/>\n",
       "<polyline clip-path=\"url(#clip3802)\" style=\"stroke:#000000; stroke-width:2; stroke-opacity:0.1; fill:none\" points=\"\n",
       "  161.394,783.596 1921.26,783.596 \n",
       "  \"/>\n",
       "<polyline clip-path=\"url(#clip3802)\" style=\"stroke:#000000; stroke-width:2; stroke-opacity:0.1; fill:none\" points=\"\n",
       "  161.394,258.069 1921.26,258.069 \n",
       "  \"/>\n",
       "<polyline clip-path=\"url(#clip3800)\" style=\"stroke:#000000; stroke-width:4; stroke-opacity:1; fill:none\" points=\"\n",
       "  161.394,1886.71 1921.26,1886.71 \n",
       "  \"/>\n",
       "<polyline clip-path=\"url(#clip3800)\" style=\"stroke:#000000; stroke-width:4; stroke-opacity:1; fill:none\" points=\"\n",
       "  161.394,1886.71 161.394,47.2441 \n",
       "  \"/>\n",
       "<polyline clip-path=\"url(#clip3800)\" style=\"stroke:#000000; stroke-width:4; stroke-opacity:1; fill:none\" points=\"\n",
       "  441.551,1886.71 441.551,1859.12 \n",
       "  \"/>\n",
       "<polyline clip-path=\"url(#clip3800)\" style=\"stroke:#000000; stroke-width:4; stroke-opacity:1; fill:none\" points=\"\n",
       "  793.01,1886.71 793.01,1859.12 \n",
       "  \"/>\n",
       "<polyline clip-path=\"url(#clip3800)\" style=\"stroke:#000000; stroke-width:4; stroke-opacity:1; fill:none\" points=\"\n",
       "  1144.47,1886.71 1144.47,1859.12 \n",
       "  \"/>\n",
       "<polyline clip-path=\"url(#clip3800)\" style=\"stroke:#000000; stroke-width:4; stroke-opacity:1; fill:none\" points=\"\n",
       "  1495.93,1886.71 1495.93,1859.12 \n",
       "  \"/>\n",
       "<polyline clip-path=\"url(#clip3800)\" style=\"stroke:#000000; stroke-width:4; stroke-opacity:1; fill:none\" points=\"\n",
       "  1847.39,1886.71 1847.39,1859.12 \n",
       "  \"/>\n",
       "<polyline clip-path=\"url(#clip3800)\" style=\"stroke:#000000; stroke-width:4; stroke-opacity:1; fill:none\" points=\"\n",
       "  161.394,1834.65 187.792,1834.65 \n",
       "  \"/>\n",
       "<polyline clip-path=\"url(#clip3800)\" style=\"stroke:#000000; stroke-width:4; stroke-opacity:1; fill:none\" points=\"\n",
       "  161.394,1309.12 187.792,1309.12 \n",
       "  \"/>\n",
       "<polyline clip-path=\"url(#clip3800)\" style=\"stroke:#000000; stroke-width:4; stroke-opacity:1; fill:none\" points=\"\n",
       "  161.394,783.596 187.792,783.596 \n",
       "  \"/>\n",
       "<polyline clip-path=\"url(#clip3800)\" style=\"stroke:#000000; stroke-width:4; stroke-opacity:1; fill:none\" points=\"\n",
       "  161.394,258.069 187.792,258.069 \n",
       "  \"/>\n",
       "<g clip-path=\"url(#clip3800)\">\n",
       "<text style=\"fill:#000000; fill-opacity:1; font-family:Arial,Helvetica Neue,Helvetica,sans-serif; font-size:48px; text-anchor:middle;\" transform=\"rotate(0, 441.551, 1938.71)\" x=\"441.551\" y=\"1938.71\">5.0</text>\n",
       "</g>\n",
       "<g clip-path=\"url(#clip3800)\">\n",
       "<text style=\"fill:#000000; fill-opacity:1; font-family:Arial,Helvetica Neue,Helvetica,sans-serif; font-size:48px; text-anchor:middle;\" transform=\"rotate(0, 793.01, 1938.71)\" x=\"793.01\" y=\"1938.71\">7.5</text>\n",
       "</g>\n",
       "<g clip-path=\"url(#clip3800)\">\n",
       "<text style=\"fill:#000000; fill-opacity:1; font-family:Arial,Helvetica Neue,Helvetica,sans-serif; font-size:48px; text-anchor:middle;\" transform=\"rotate(0, 1144.47, 1938.71)\" x=\"1144.47\" y=\"1938.71\">10.0</text>\n",
       "</g>\n",
       "<g clip-path=\"url(#clip3800)\">\n",
       "<text style=\"fill:#000000; fill-opacity:1; font-family:Arial,Helvetica Neue,Helvetica,sans-serif; font-size:48px; text-anchor:middle;\" transform=\"rotate(0, 1495.93, 1938.71)\" x=\"1495.93\" y=\"1938.71\">12.5</text>\n",
       "</g>\n",
       "<g clip-path=\"url(#clip3800)\">\n",
       "<text style=\"fill:#000000; fill-opacity:1; font-family:Arial,Helvetica Neue,Helvetica,sans-serif; font-size:48px; text-anchor:middle;\" transform=\"rotate(0, 1847.39, 1938.71)\" x=\"1847.39\" y=\"1938.71\">15.0</text>\n",
       "</g>\n",
       "<g clip-path=\"url(#clip3800)\">\n",
       "<text style=\"fill:#000000; fill-opacity:1; font-family:Arial,Helvetica Neue,Helvetica,sans-serif; font-size:48px; text-anchor:end;\" transform=\"rotate(0, 141.394, 1852.15)\" x=\"141.394\" y=\"1852.15\">0.0</text>\n",
       "</g>\n",
       "<g clip-path=\"url(#clip3800)\">\n",
       "<text style=\"fill:#000000; fill-opacity:1; font-family:Arial,Helvetica Neue,Helvetica,sans-serif; font-size:48px; text-anchor:end;\" transform=\"rotate(0, 141.394, 1326.62)\" x=\"141.394\" y=\"1326.62\">0.1</text>\n",
       "</g>\n",
       "<g clip-path=\"url(#clip3800)\">\n",
       "<text style=\"fill:#000000; fill-opacity:1; font-family:Arial,Helvetica Neue,Helvetica,sans-serif; font-size:48px; text-anchor:end;\" transform=\"rotate(0, 141.394, 801.096)\" x=\"141.394\" y=\"801.096\">0.2</text>\n",
       "</g>\n",
       "<g clip-path=\"url(#clip3800)\">\n",
       "<text style=\"fill:#000000; fill-opacity:1; font-family:Arial,Helvetica Neue,Helvetica,sans-serif; font-size:48px; text-anchor:end;\" transform=\"rotate(0, 141.394, 275.569)\" x=\"141.394\" y=\"275.569\">0.3</text>\n",
       "</g>\n",
       "<polyline clip-path=\"url(#clip3802)\" style=\"stroke:#009af9; stroke-width:4; stroke-opacity:1; fill:none\" points=\"\n",
       "  211.202,1834.65 219.545,1834.65 227.887,1834.64 236.23,1834.64 244.573,1834.62 252.916,1834.57 261.259,1834.49 269.602,1834.36 277.945,1834.18 286.288,1833.95 \n",
       "  294.631,1833.71 302.974,1833.49 311.317,1833.32 319.66,1833.17 328.003,1832.96 336.346,1832.55 344.689,1831.79 353.032,1830.53 361.375,1828.61 369.718,1825.84 \n",
       "  378.061,1822.01 386.404,1816.85 394.747,1810.08 403.09,1801.51 411.433,1791.02 419.776,1778.61 428.119,1764.28 436.462,1747.94 444.805,1729.36 453.148,1708.15 \n",
       "  461.491,1683.83 469.834,1655.88 478.177,1623.89 486.52,1587.54 494.862,1546.59 503.205,1500.89 511.548,1450.34 519.891,1394.99 528.234,1335.04 536.577,1270.99 \n",
       "  544.92,1203.72 553.263,1134.54 561.606,1065.15 569.949,997.35 578.292,932.702 586.635,872.043 594.978,815.186 603.321,760.924 611.664,707.435 620.007,652.975 \n",
       "  628.35,596.572 636.693,538.391 645.036,479.612 653.379,421.93 661.722,366.928 670.065,315.68 678.408,268.765 686.751,226.564 695.094,189.543 703.437,158.304 \n",
       "  711.78,133.429 720.123,115.298 728.466,103.999 736.809,99.3044 745.152,100.634 753.495,107.024 761.837,117.25 770.18,130.194 778.523,145.286 786.866,162.675 \n",
       "  795.209,182.954 803.552,206.648 811.895,233.849 820.238,264.161 828.581,296.857 836.924,331.112 845.267,366.239 853.61,401.917 861.953,438.346 870.296,476.237 \n",
       "  878.639,516.568 886.982,560.143 895.325,607.09 903.668,656.548 912.011,706.757 920.354,755.546 928.697,801.046 937.04,842.311 945.383,879.562 953.726,913.996 \n",
       "  962.069,947.26 970.412,980.827 978.755,1015.49 987.098,1051.19 995.441,1087.36 1003.78,1123.47 1012.13,1159.54 1020.47,1196.02 1028.81,1233.24 1037.16,1270.78 \n",
       "  1045.5,1307.38 1053.84,1341.31 1062.18,1371.16 1070.53,1396.33 1078.87,1417.22 1087.21,1434.98 1095.56,1451.06 1103.9,1466.67 1112.24,1482.48 1120.59,1498.5 \n",
       "  1128.93,1514.27 1137.27,1529.29 1145.61,1543.28 1153.96,1556.31 1162.3,1568.76 1170.64,1581.07 1178.99,1593.51 1187.33,1606.09 1195.67,1618.62 1204.01,1630.85 \n",
       "  1212.36,1642.65 1220.7,1654.05 1229.04,1665.19 1237.39,1676.21 1245.73,1687.14 1254.07,1697.88 1262.42,1708.22 1270.76,1717.93 1279.1,1726.75 1287.44,1734.56 \n",
       "  1295.79,1741.29 1304.13,1747.01 1312.47,1751.85 1320.82,1755.92 1329.16,1759.31 1337.5,1762.07 1345.85,1764.24 1354.19,1765.95 1362.53,1767.45 1370.87,1769.06 \n",
       "  1379.22,1771.1 1387.56,1773.82 1395.9,1777.26 1404.25,1781.31 1412.59,1785.67 1420.93,1789.92 1429.27,1793.68 1437.62,1796.68 1445.96,1798.88 1454.3,1800.48 \n",
       "  1462.65,1801.82 1470.99,1803.25 1479.33,1805 1487.68,1807.14 1496.02,1809.58 1504.36,1812.08 1512.7,1814.34 1521.05,1816.12 1529.39,1817.28 1537.73,1817.87 \n",
       "  1546.08,1818.08 1554.42,1818.21 1562.76,1818.53 1571.11,1819.18 1579.45,1820.2 1587.79,1821.45 1596.13,1822.75 1604.48,1823.92 1612.82,1824.82 1621.16,1825.4 \n",
       "  1629.51,1825.66 1637.85,1825.66 1646.19,1825.49 1654.54,1825.23 1662.88,1824.91 1671.22,1824.58 1679.56,1824.25 1687.91,1823.98 1696.25,1823.88 1704.59,1824.08 \n",
       "  1712.94,1824.64 1721.28,1825.56 1729.62,1826.72 1737.96,1827.93 1746.31,1829.05 1754.65,1830.01 1762.99,1830.84 1771.34,1831.58 1779.68,1832.27 1788.02,1832.9 \n",
       "  1796.37,1833.46 1804.71,1833.91 1813.05,1834.23 1821.39,1834.43 1829.74,1834.55 1838.08,1834.6 1846.42,1834.63 1854.77,1834.64 1863.11,1834.65 1871.45,1834.65 \n",
       "  \n",
       "  \"/>\n",
       "<polygon clip-path=\"url(#clip3800)\" points=\"\n",
       "1610.43,227.724 1861.26,227.724 1861.26,106.764 1610.43,106.764 \n",
       "  \" fill=\"#ffffff\" fill-rule=\"evenodd\" fill-opacity=\"1\"/>\n",
       "<polyline clip-path=\"url(#clip3800)\" style=\"stroke:#000000; stroke-width:4; stroke-opacity:1; fill:none\" points=\"\n",
       "  1610.43,227.724 1861.26,227.724 1861.26,106.764 1610.43,106.764 1610.43,227.724 \n",
       "  \"/>\n",
       "<polyline clip-path=\"url(#clip3800)\" style=\"stroke:#009af9; stroke-width:4; stroke-opacity:1; fill:none\" points=\"\n",
       "  1630.43,167.244 1750.43,167.244 \n",
       "  \"/>\n",
       "<g clip-path=\"url(#clip3800)\">\n",
       "<text style=\"fill:#000000; fill-opacity:1; font-family:Arial,Helvetica Neue,Helvetica,sans-serif; font-size:48px; text-anchor:start;\" transform=\"rotate(0, 1770.43, 184.744)\" x=\"1770.43\" y=\"184.744\">y1</text>\n",
       "</g>\n",
       "</svg>\n"
      ],
      "image/svg+xml": [
       "<?xml version=\"1.0\" encoding=\"utf-8\"?>\n",
       "<svg xmlns=\"http://www.w3.org/2000/svg\" xmlns:xlink=\"http://www.w3.org/1999/xlink\" width=\"500\" height=\"500\" viewBox=\"0 0 2000 2000\">\n",
       "<defs>\n",
       "  <clipPath id=\"clip3700\">\n",
       "    <rect x=\"0\" y=\"0\" width=\"2000\" height=\"2000\"/>\n",
       "  </clipPath>\n",
       "</defs>\n",
       "<polygon clip-path=\"url(#clip3700)\" points=\"\n",
       "0,2000 2000,2000 2000,0 0,0 \n",
       "  \" fill=\"#ffffff\" fill-rule=\"evenodd\" fill-opacity=\"1\"/>\n",
       "<defs>\n",
       "  <clipPath id=\"clip3701\">\n",
       "    <rect x=\"400\" y=\"200\" width=\"1401\" height=\"1401\"/>\n",
       "  </clipPath>\n",
       "</defs>\n",
       "<polygon clip-path=\"url(#clip3700)\" points=\"\n",
       "161.394,1886.71 1921.26,1886.71 1921.26,47.2441 161.394,47.2441 \n",
       "  \" fill=\"#ffffff\" fill-rule=\"evenodd\" fill-opacity=\"1\"/>\n",
       "<defs>\n",
       "  <clipPath id=\"clip3702\">\n",
       "    <rect x=\"161\" y=\"47\" width=\"1761\" height=\"1840\"/>\n",
       "  </clipPath>\n",
       "</defs>\n",
       "<polyline clip-path=\"url(#clip3702)\" style=\"stroke:#000000; stroke-width:2; stroke-opacity:0.1; fill:none\" points=\"\n",
       "  441.551,1886.71 441.551,47.2441 \n",
       "  \"/>\n",
       "<polyline clip-path=\"url(#clip3702)\" style=\"stroke:#000000; stroke-width:2; stroke-opacity:0.1; fill:none\" points=\"\n",
       "  793.01,1886.71 793.01,47.2441 \n",
       "  \"/>\n",
       "<polyline clip-path=\"url(#clip3702)\" style=\"stroke:#000000; stroke-width:2; stroke-opacity:0.1; fill:none\" points=\"\n",
       "  1144.47,1886.71 1144.47,47.2441 \n",
       "  \"/>\n",
       "<polyline clip-path=\"url(#clip3702)\" style=\"stroke:#000000; stroke-width:2; stroke-opacity:0.1; fill:none\" points=\"\n",
       "  1495.93,1886.71 1495.93,47.2441 \n",
       "  \"/>\n",
       "<polyline clip-path=\"url(#clip3702)\" style=\"stroke:#000000; stroke-width:2; stroke-opacity:0.1; fill:none\" points=\"\n",
       "  1847.39,1886.71 1847.39,47.2441 \n",
       "  \"/>\n",
       "<polyline clip-path=\"url(#clip3702)\" style=\"stroke:#000000; stroke-width:2; stroke-opacity:0.1; fill:none\" points=\"\n",
       "  161.394,1834.65 1921.26,1834.65 \n",
       "  \"/>\n",
       "<polyline clip-path=\"url(#clip3702)\" style=\"stroke:#000000; stroke-width:2; stroke-opacity:0.1; fill:none\" points=\"\n",
       "  161.394,1309.12 1921.26,1309.12 \n",
       "  \"/>\n",
       "<polyline clip-path=\"url(#clip3702)\" style=\"stroke:#000000; stroke-width:2; stroke-opacity:0.1; fill:none\" points=\"\n",
       "  161.394,783.596 1921.26,783.596 \n",
       "  \"/>\n",
       "<polyline clip-path=\"url(#clip3702)\" style=\"stroke:#000000; stroke-width:2; stroke-opacity:0.1; fill:none\" points=\"\n",
       "  161.394,258.069 1921.26,258.069 \n",
       "  \"/>\n",
       "<polyline clip-path=\"url(#clip3700)\" style=\"stroke:#000000; stroke-width:4; stroke-opacity:1; fill:none\" points=\"\n",
       "  161.394,1886.71 1921.26,1886.71 \n",
       "  \"/>\n",
       "<polyline clip-path=\"url(#clip3700)\" style=\"stroke:#000000; stroke-width:4; stroke-opacity:1; fill:none\" points=\"\n",
       "  161.394,1886.71 161.394,47.2441 \n",
       "  \"/>\n",
       "<polyline clip-path=\"url(#clip3700)\" style=\"stroke:#000000; stroke-width:4; stroke-opacity:1; fill:none\" points=\"\n",
       "  441.551,1886.71 441.551,1859.12 \n",
       "  \"/>\n",
       "<polyline clip-path=\"url(#clip3700)\" style=\"stroke:#000000; stroke-width:4; stroke-opacity:1; fill:none\" points=\"\n",
       "  793.01,1886.71 793.01,1859.12 \n",
       "  \"/>\n",
       "<polyline clip-path=\"url(#clip3700)\" style=\"stroke:#000000; stroke-width:4; stroke-opacity:1; fill:none\" points=\"\n",
       "  1144.47,1886.71 1144.47,1859.12 \n",
       "  \"/>\n",
       "<polyline clip-path=\"url(#clip3700)\" style=\"stroke:#000000; stroke-width:4; stroke-opacity:1; fill:none\" points=\"\n",
       "  1495.93,1886.71 1495.93,1859.12 \n",
       "  \"/>\n",
       "<polyline clip-path=\"url(#clip3700)\" style=\"stroke:#000000; stroke-width:4; stroke-opacity:1; fill:none\" points=\"\n",
       "  1847.39,1886.71 1847.39,1859.12 \n",
       "  \"/>\n",
       "<polyline clip-path=\"url(#clip3700)\" style=\"stroke:#000000; stroke-width:4; stroke-opacity:1; fill:none\" points=\"\n",
       "  161.394,1834.65 187.792,1834.65 \n",
       "  \"/>\n",
       "<polyline clip-path=\"url(#clip3700)\" style=\"stroke:#000000; stroke-width:4; stroke-opacity:1; fill:none\" points=\"\n",
       "  161.394,1309.12 187.792,1309.12 \n",
       "  \"/>\n",
       "<polyline clip-path=\"url(#clip3700)\" style=\"stroke:#000000; stroke-width:4; stroke-opacity:1; fill:none\" points=\"\n",
       "  161.394,783.596 187.792,783.596 \n",
       "  \"/>\n",
       "<polyline clip-path=\"url(#clip3700)\" style=\"stroke:#000000; stroke-width:4; stroke-opacity:1; fill:none\" points=\"\n",
       "  161.394,258.069 187.792,258.069 \n",
       "  \"/>\n",
       "<g clip-path=\"url(#clip3700)\">\n",
       "<text style=\"fill:#000000; fill-opacity:1; font-family:Arial,Helvetica Neue,Helvetica,sans-serif; font-size:48px; text-anchor:middle;\" transform=\"rotate(0, 441.551, 1938.71)\" x=\"441.551\" y=\"1938.71\">5.0</text>\n",
       "</g>\n",
       "<g clip-path=\"url(#clip3700)\">\n",
       "<text style=\"fill:#000000; fill-opacity:1; font-family:Arial,Helvetica Neue,Helvetica,sans-serif; font-size:48px; text-anchor:middle;\" transform=\"rotate(0, 793.01, 1938.71)\" x=\"793.01\" y=\"1938.71\">7.5</text>\n",
       "</g>\n",
       "<g clip-path=\"url(#clip3700)\">\n",
       "<text style=\"fill:#000000; fill-opacity:1; font-family:Arial,Helvetica Neue,Helvetica,sans-serif; font-size:48px; text-anchor:middle;\" transform=\"rotate(0, 1144.47, 1938.71)\" x=\"1144.47\" y=\"1938.71\">10.0</text>\n",
       "</g>\n",
       "<g clip-path=\"url(#clip3700)\">\n",
       "<text style=\"fill:#000000; fill-opacity:1; font-family:Arial,Helvetica Neue,Helvetica,sans-serif; font-size:48px; text-anchor:middle;\" transform=\"rotate(0, 1495.93, 1938.71)\" x=\"1495.93\" y=\"1938.71\">12.5</text>\n",
       "</g>\n",
       "<g clip-path=\"url(#clip3700)\">\n",
       "<text style=\"fill:#000000; fill-opacity:1; font-family:Arial,Helvetica Neue,Helvetica,sans-serif; font-size:48px; text-anchor:middle;\" transform=\"rotate(0, 1847.39, 1938.71)\" x=\"1847.39\" y=\"1938.71\">15.0</text>\n",
       "</g>\n",
       "<g clip-path=\"url(#clip3700)\">\n",
       "<text style=\"fill:#000000; fill-opacity:1; font-family:Arial,Helvetica Neue,Helvetica,sans-serif; font-size:48px; text-anchor:end;\" transform=\"rotate(0, 141.394, 1852.15)\" x=\"141.394\" y=\"1852.15\">0.0</text>\n",
       "</g>\n",
       "<g clip-path=\"url(#clip3700)\">\n",
       "<text style=\"fill:#000000; fill-opacity:1; font-family:Arial,Helvetica Neue,Helvetica,sans-serif; font-size:48px; text-anchor:end;\" transform=\"rotate(0, 141.394, 1326.62)\" x=\"141.394\" y=\"1326.62\">0.1</text>\n",
       "</g>\n",
       "<g clip-path=\"url(#clip3700)\">\n",
       "<text style=\"fill:#000000; fill-opacity:1; font-family:Arial,Helvetica Neue,Helvetica,sans-serif; font-size:48px; text-anchor:end;\" transform=\"rotate(0, 141.394, 801.096)\" x=\"141.394\" y=\"801.096\">0.2</text>\n",
       "</g>\n",
       "<g clip-path=\"url(#clip3700)\">\n",
       "<text style=\"fill:#000000; fill-opacity:1; font-family:Arial,Helvetica Neue,Helvetica,sans-serif; font-size:48px; text-anchor:end;\" transform=\"rotate(0, 141.394, 275.569)\" x=\"141.394\" y=\"275.569\">0.3</text>\n",
       "</g>\n",
       "<polyline clip-path=\"url(#clip3702)\" style=\"stroke:#009af9; stroke-width:4; stroke-opacity:1; fill:none\" points=\"\n",
       "  211.202,1834.65 219.545,1834.65 227.887,1834.64 236.23,1834.64 244.573,1834.62 252.916,1834.57 261.259,1834.49 269.602,1834.36 277.945,1834.18 286.288,1833.95 \n",
       "  294.631,1833.71 302.974,1833.49 311.317,1833.32 319.66,1833.17 328.003,1832.96 336.346,1832.55 344.689,1831.79 353.032,1830.53 361.375,1828.61 369.718,1825.84 \n",
       "  378.061,1822.01 386.404,1816.85 394.747,1810.08 403.09,1801.51 411.433,1791.02 419.776,1778.61 428.119,1764.28 436.462,1747.94 444.805,1729.36 453.148,1708.15 \n",
       "  461.491,1683.83 469.834,1655.88 478.177,1623.89 486.52,1587.54 494.862,1546.59 503.205,1500.89 511.548,1450.34 519.891,1394.99 528.234,1335.04 536.577,1270.99 \n",
       "  544.92,1203.72 553.263,1134.54 561.606,1065.15 569.949,997.35 578.292,932.702 586.635,872.043 594.978,815.186 603.321,760.924 611.664,707.435 620.007,652.975 \n",
       "  628.35,596.572 636.693,538.391 645.036,479.612 653.379,421.93 661.722,366.928 670.065,315.68 678.408,268.765 686.751,226.564 695.094,189.543 703.437,158.304 \n",
       "  711.78,133.429 720.123,115.298 728.466,103.999 736.809,99.3044 745.152,100.634 753.495,107.024 761.837,117.25 770.18,130.194 778.523,145.286 786.866,162.675 \n",
       "  795.209,182.954 803.552,206.648 811.895,233.849 820.238,264.161 828.581,296.857 836.924,331.112 845.267,366.239 853.61,401.917 861.953,438.346 870.296,476.237 \n",
       "  878.639,516.568 886.982,560.143 895.325,607.09 903.668,656.548 912.011,706.757 920.354,755.546 928.697,801.046 937.04,842.311 945.383,879.562 953.726,913.996 \n",
       "  962.069,947.26 970.412,980.827 978.755,1015.49 987.098,1051.19 995.441,1087.36 1003.78,1123.47 1012.13,1159.54 1020.47,1196.02 1028.81,1233.24 1037.16,1270.78 \n",
       "  1045.5,1307.38 1053.84,1341.31 1062.18,1371.16 1070.53,1396.33 1078.87,1417.22 1087.21,1434.98 1095.56,1451.06 1103.9,1466.67 1112.24,1482.48 1120.59,1498.5 \n",
       "  1128.93,1514.27 1137.27,1529.29 1145.61,1543.28 1153.96,1556.31 1162.3,1568.76 1170.64,1581.07 1178.99,1593.51 1187.33,1606.09 1195.67,1618.62 1204.01,1630.85 \n",
       "  1212.36,1642.65 1220.7,1654.05 1229.04,1665.19 1237.39,1676.21 1245.73,1687.14 1254.07,1697.88 1262.42,1708.22 1270.76,1717.93 1279.1,1726.75 1287.44,1734.56 \n",
       "  1295.79,1741.29 1304.13,1747.01 1312.47,1751.85 1320.82,1755.92 1329.16,1759.31 1337.5,1762.07 1345.85,1764.24 1354.19,1765.95 1362.53,1767.45 1370.87,1769.06 \n",
       "  1379.22,1771.1 1387.56,1773.82 1395.9,1777.26 1404.25,1781.31 1412.59,1785.67 1420.93,1789.92 1429.27,1793.68 1437.62,1796.68 1445.96,1798.88 1454.3,1800.48 \n",
       "  1462.65,1801.82 1470.99,1803.25 1479.33,1805 1487.68,1807.14 1496.02,1809.58 1504.36,1812.08 1512.7,1814.34 1521.05,1816.12 1529.39,1817.28 1537.73,1817.87 \n",
       "  1546.08,1818.08 1554.42,1818.21 1562.76,1818.53 1571.11,1819.18 1579.45,1820.2 1587.79,1821.45 1596.13,1822.75 1604.48,1823.92 1612.82,1824.82 1621.16,1825.4 \n",
       "  1629.51,1825.66 1637.85,1825.66 1646.19,1825.49 1654.54,1825.23 1662.88,1824.91 1671.22,1824.58 1679.56,1824.25 1687.91,1823.98 1696.25,1823.88 1704.59,1824.08 \n",
       "  1712.94,1824.64 1721.28,1825.56 1729.62,1826.72 1737.96,1827.93 1746.31,1829.05 1754.65,1830.01 1762.99,1830.84 1771.34,1831.58 1779.68,1832.27 1788.02,1832.9 \n",
       "  1796.37,1833.46 1804.71,1833.91 1813.05,1834.23 1821.39,1834.43 1829.74,1834.55 1838.08,1834.6 1846.42,1834.63 1854.77,1834.64 1863.11,1834.65 1871.45,1834.65 \n",
       "  \n",
       "  \"/>\n",
       "<polygon clip-path=\"url(#clip3700)\" points=\"\n",
       "1610.43,227.724 1861.26,227.724 1861.26,106.764 1610.43,106.764 \n",
       "  \" fill=\"#ffffff\" fill-rule=\"evenodd\" fill-opacity=\"1\"/>\n",
       "<polyline clip-path=\"url(#clip3700)\" style=\"stroke:#000000; stroke-width:4; stroke-opacity:1; fill:none\" points=\"\n",
       "  1610.43,227.724 1861.26,227.724 1861.26,106.764 1610.43,106.764 1610.43,227.724 \n",
       "  \"/>\n",
       "<polyline clip-path=\"url(#clip3700)\" style=\"stroke:#009af9; stroke-width:4; stroke-opacity:1; fill:none\" points=\"\n",
       "  1630.43,167.244 1750.43,167.244 \n",
       "  \"/>\n",
       "<g clip-path=\"url(#clip3700)\">\n",
       "<text style=\"fill:#000000; fill-opacity:1; font-family:Arial,Helvetica Neue,Helvetica,sans-serif; font-size:48px; text-anchor:start;\" transform=\"rotate(0, 1770.43, 184.744)\" x=\"1770.43\" y=\"184.744\">y1</text>\n",
       "</g>\n",
       "</svg>\n"
      ]
     },
     "metadata": {},
     "execution_count": 8
    }
   ],
   "cell_type": "code",
   "source": [
    "density(samples[:sigma])"
   ],
   "metadata": {},
   "execution_count": 8
  },
  {
   "outputs": [],
   "cell_type": "markdown",
   "source": [
    "End of `clip-21-23.jl`"
   ],
   "metadata": {}
  },
  {
   "outputs": [],
   "cell_type": "markdown",
   "source": [
    "*This notebook was generated using [Literate.jl](https://github.com/fredrikekre/Literate.jl).*"
   ],
   "metadata": {}
  }
 ],
 "nbformat_minor": 3,
 "metadata": {
  "language_info": {
   "file_extension": ".jl",
   "mimetype": "application/julia",
   "name": "julia",
   "version": "1.2.0-DEV.462"
  },
  "kernelspec": {
   "name": "julia-1.2",
   "display_name": "Julia 1.2.0-DEV.462",
   "language": "julia"
  }
 },
 "nbformat": 4
}
