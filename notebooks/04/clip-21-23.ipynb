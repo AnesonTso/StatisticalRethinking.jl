{
 "cells": [
  {
   "outputs": [],
   "cell_type": "markdown",
   "source": [
    "Load Julia packages (libraries) needed  for the snippets in chapter 0"
   ],
   "metadata": {}
  },
  {
   "outputs": [],
   "cell_type": "code",
   "source": [
    "using StatisticalRethinking, CmdStan, StanMCMCChain\n",
    "gr(size=(500,500));"
   ],
   "metadata": {},
   "execution_count": 1
  },
  {
   "outputs": [],
   "cell_type": "markdown",
   "source": [
    "CmdStan uses a tmp directory to store the output of cmdstan"
   ],
   "metadata": {}
  },
  {
   "outputs": [],
   "cell_type": "code",
   "source": [
    "ProjDir = rel_path(\"..\", \"scripts\", \"04\")\n",
    "cd(ProjDir)"
   ],
   "metadata": {},
   "execution_count": 2
  },
  {
   "outputs": [],
   "cell_type": "markdown",
   "source": [
    "CmdStan uses a tmp directory to store the output of cmdstan"
   ],
   "metadata": {}
  },
  {
   "outputs": [],
   "cell_type": "code",
   "source": [
    "ProjDir = rel_path(\"..\", \"scripts\", \"04\")\n",
    "cd(ProjDir)"
   ],
   "metadata": {},
   "execution_count": 3
  },
  {
   "outputs": [
    {
     "output_type": "execute_result",
     "data": {
      "text/plain": "5×4 DataFrame\n│ Row │ height   │ weight   │ age      │ male   │\n│     │ \u001b[90mFloat64⍰\u001b[39m │ \u001b[90mFloat64⍰\u001b[39m │ \u001b[90mFloat64⍰\u001b[39m │ \u001b[90mInt64⍰\u001b[39m │\n├─────┼──────────┼──────────┼──────────┼────────┤\n│ 1   │ 151.765  │ 47.8256  │ 63.0     │ 1      │\n│ 2   │ 139.7    │ 36.4858  │ 63.0     │ 0      │\n│ 3   │ 136.525  │ 31.8648  │ 65.0     │ 0      │\n│ 4   │ 156.845  │ 53.0419  │ 41.0     │ 1      │\n│ 5   │ 145.415  │ 41.2769  │ 51.0     │ 0      │",
      "text/html": [
       "<table class=\"data-frame\"><thead><tr><th></th><th>height</th><th>weight</th><th>age</th><th>male</th></tr><tr><th></th><th>Float64⍰</th><th>Float64⍰</th><th>Float64⍰</th><th>Int64⍰</th></tr></thead><tbody><p>5 rows × 4 columns</p><tr><th>1</th><td>151.765</td><td>47.8256</td><td>63.0</td><td>1</td></tr><tr><th>2</th><td>139.7</td><td>36.4858</td><td>63.0</td><td>0</td></tr><tr><th>3</th><td>136.525</td><td>31.8648</td><td>65.0</td><td>0</td></tr><tr><th>4</th><td>156.845</td><td>53.0419</td><td>41.0</td><td>1</td></tr><tr><th>5</th><td>145.415</td><td>41.2769</td><td>51.0</td><td>0</td></tr></tbody></table>"
      ]
     },
     "metadata": {},
     "execution_count": 4
    }
   ],
   "cell_type": "code",
   "source": [
    "howell1 = CSV.read(rel_path(\"..\", \"data\", \"Howell1.csv\"), delim=';')\n",
    "df = convert(DataFrame, howell1);\n",
    "df2 = filter(row -> row[:age] >= 18, df);\n",
    "first(df2, 5)"
   ],
   "metadata": {},
   "execution_count": 4
  },
  {
   "outputs": [],
   "cell_type": "markdown",
   "source": [
    "### Snippet 4.21"
   ],
   "metadata": {}
  },
  {
   "outputs": [],
   "cell_type": "markdown",
   "source": [
    "Sample 20 random heights"
   ],
   "metadata": {}
  },
  {
   "outputs": [],
   "cell_type": "code",
   "source": [
    "n = size(df2, 1)\n",
    "selected_ind = sample(1:n, 20, replace=false);\n",
    "df3 = df2[selected_ind, :];"
   ],
   "metadata": {},
   "execution_count": 5
  },
  {
   "outputs": [],
   "cell_type": "markdown",
   "source": [
    "### Snippet 4.22"
   ],
   "metadata": {}
  },
  {
   "outputs": [],
   "cell_type": "markdown",
   "source": [
    "Generate approximate probabilities"
   ],
   "metadata": {}
  },
  {
   "outputs": [
    {
     "output_type": "execute_result",
     "data": {
      "text/plain": "10×5 DataFrame\n│ Row │ mu      │ sigma   │ ll       │ prod     │ prob        │\n│     │ \u001b[90mFloat64\u001b[39m │ \u001b[90mFloat64\u001b[39m │ \u001b[90mFloat64\u001b[39m  │ \u001b[90mFloat64\u001b[39m  │ \u001b[90mFloat64\u001b[39m     │\n├─────┼─────────┼─────────┼──────────┼──────────┼─────────────┤\n│ 1   │ 140.0   │ 4.0     │ -247.837 │ -257.468 │ 5.3208e-77  │\n│ 2   │ 140.151 │ 4.0     │ -244.976 │ -254.593 │ 9.43367e-76 │\n│ 3   │ 140.302 │ 4.0     │ -242.143 │ -251.746 │ 1.62563e-74 │\n│ 4   │ 140.452 │ 4.0     │ -239.339 │ -248.928 │ 2.72271e-73 │\n│ 5   │ 140.603 │ 4.0     │ -236.563 │ -246.138 │ 4.43218e-72 │\n│ 6   │ 140.754 │ 4.0     │ -233.816 │ -243.377 │ 7.01248e-71 │\n│ 7   │ 140.905 │ 4.0     │ -231.097 │ -240.644 │ 1.07836e-69 │\n│ 8   │ 141.055 │ 4.0     │ -228.406 │ -237.939 │ 1.61174e-68 │\n│ 9   │ 141.206 │ 4.0     │ -225.744 │ -235.263 │ 2.34132e-67 │\n│ 10  │ 141.357 │ 4.0     │ -223.111 │ -232.616 │ 3.30573e-66 │",
      "text/html": [
       "<table class=\"data-frame\"><thead><tr><th></th><th>mu</th><th>sigma</th><th>ll</th><th>prod</th><th>prob</th></tr><tr><th></th><th>Float64</th><th>Float64</th><th>Float64</th><th>Float64</th><th>Float64</th></tr></thead><tbody><p>10 rows × 5 columns</p><tr><th>1</th><td>140.0</td><td>4.0</td><td>-247.837</td><td>-257.468</td><td>5.3208e-77</td></tr><tr><th>2</th><td>140.151</td><td>4.0</td><td>-244.976</td><td>-254.593</td><td>9.43367e-76</td></tr><tr><th>3</th><td>140.302</td><td>4.0</td><td>-242.143</td><td>-251.746</td><td>1.62563e-74</td></tr><tr><th>4</th><td>140.452</td><td>4.0</td><td>-239.339</td><td>-248.928</td><td>2.72271e-73</td></tr><tr><th>5</th><td>140.603</td><td>4.0</td><td>-236.563</td><td>-246.138</td><td>4.43218e-72</td></tr><tr><th>6</th><td>140.754</td><td>4.0</td><td>-233.816</td><td>-243.377</td><td>7.01248e-71</td></tr><tr><th>7</th><td>140.905</td><td>4.0</td><td>-231.097</td><td>-240.644</td><td>1.07836e-69</td></tr><tr><th>8</th><td>141.055</td><td>4.0</td><td>-228.406</td><td>-237.939</td><td>1.61174e-68</td></tr><tr><th>9</th><td>141.206</td><td>4.0</td><td>-225.744</td><td>-235.263</td><td>2.34132e-67</td></tr><tr><th>10</th><td>141.357</td><td>4.0</td><td>-223.111</td><td>-232.616</td><td>3.30573e-66</td></tr></tbody></table>"
      ]
     },
     "metadata": {},
     "execution_count": 6
    }
   ],
   "cell_type": "code",
   "source": [
    "struct Post\n",
    "  mu::Float64\n",
    "  sigma::Float64\n",
    "  ll:: Float64\n",
    "  prod::Float64\n",
    "  prob::Float64\n",
    "end\n",
    "\n",
    "mu_list = repeat(range(140, 170, length=200), 200);\n",
    "sigma_list = repeat(range(4, 20, length=200), inner=200);\n",
    "\n",
    "ll = zeros(40000);\n",
    "for i in 1:40000\n",
    "    d1 = Normal(mu_list[i], sigma_list[i])\n",
    "    ll[i] = sum(log.(pdf.(d1, df3[:height])))\n",
    "end\n",
    "\n",
    "d2 = Normal(178.0, 20.0)\n",
    "d3 = Uniform(0, 50)\n",
    "prod = ll + log.(pdf.(d2, mu_list)) + log.(pdf.(d3, sigma_list))\n",
    "prob = exp.(prod .- maximum(prod))\n",
    "post = DataFrame(mu=mu_list, sigma=sigma_list, ll=ll, prod=prod, prob=prob)\n",
    "first(post, 10)"
   ],
   "metadata": {},
   "execution_count": 6
  },
  {
   "outputs": [],
   "cell_type": "markdown",
   "source": [
    "Sample post"
   ],
   "metadata": {}
  },
  {
   "outputs": [
    {
     "output_type": "execute_result",
     "data": {
      "text/plain": "10000×5 DataFrame\n│ Row   │ mu      │ sigma   │ ll       │ prod     │ prob     │\n│       │ \u001b[90mFloat64\u001b[39m │ \u001b[90mFloat64\u001b[39m │ \u001b[90mFloat64\u001b[39m  │ \u001b[90mFloat64\u001b[39m  │ \u001b[90mFloat64\u001b[39m  │\n├───────┼─────────┼─────────┼──────────┼──────────┼──────────┤\n│ 1     │ 155.075 │ 10.995  │ -73.7734 │ -82.257  │ 0.659512 │\n│ 2     │ 157.789 │ 10.191  │ -74.0897 │ -82.427  │ 0.556404 │\n│ 3     │ 155.98  │ 7.69849 │ -74.4695 │ -82.9023 │ 0.345945 │\n│ 4     │ 154.322 │ 9.70854 │ -73.4781 │ -82.0057 │ 0.847981 │\n│ 5     │ 155.226 │ 10.191  │ -73.4728 │ -81.9478 │ 0.898501 │\n│ 6     │ 153.266 │ 9.54774 │ -73.8104 │ -82.4018 │ 0.570646 │\n│ 7     │ 155.226 │ 13.7286 │ -75.5426 │ -84.0176 │ 0.113402 │\n⋮\n│ 9993  │ 153.116 │ 9.94975 │ -73.8822 │ -82.483  │ 0.526139 │\n│ 9994  │ 152.965 │ 10.5126 │ -74.0477 │ -82.6579 │ 0.441705 │\n│ 9995  │ 153.869 │ 11.799  │ -74.3408 │ -82.8953 │ 0.348349 │\n│ 9996  │ 154.322 │ 10.8342 │ -73.7732 │ -82.3007 │ 0.631307 │\n│ 9997  │ 154.623 │ 9.22613 │ -73.4376 │ -81.9474 │ 0.898891 │\n│ 9998  │ 157.186 │ 9.46734 │ -73.7896 │ -82.1578 │ 0.728302 │\n│ 9999  │ 156.131 │ 11.7186 │ -74.2101 │ -82.6346 │ 0.452092 │\n│ 10000 │ 155.678 │ 10.1106 │ -73.47   │ -81.9195 │ 0.924321 │",
      "text/html": [
       "<table class=\"data-frame\"><thead><tr><th></th><th>mu</th><th>sigma</th><th>ll</th><th>prod</th><th>prob</th></tr><tr><th></th><th>Float64</th><th>Float64</th><th>Float64</th><th>Float64</th><th>Float64</th></tr></thead><tbody><p>10,000 rows × 5 columns</p><tr><th>1</th><td>155.075</td><td>10.995</td><td>-73.7734</td><td>-82.257</td><td>0.659512</td></tr><tr><th>2</th><td>157.789</td><td>10.191</td><td>-74.0897</td><td>-82.427</td><td>0.556404</td></tr><tr><th>3</th><td>155.98</td><td>7.69849</td><td>-74.4695</td><td>-82.9023</td><td>0.345945</td></tr><tr><th>4</th><td>154.322</td><td>9.70854</td><td>-73.4781</td><td>-82.0057</td><td>0.847981</td></tr><tr><th>5</th><td>155.226</td><td>10.191</td><td>-73.4728</td><td>-81.9478</td><td>0.898501</td></tr><tr><th>6</th><td>153.266</td><td>9.54774</td><td>-73.8104</td><td>-82.4018</td><td>0.570646</td></tr><tr><th>7</th><td>155.226</td><td>13.7286</td><td>-75.5426</td><td>-84.0176</td><td>0.113402</td></tr><tr><th>8</th><td>156.131</td><td>10.3518</td><td>-73.5899</td><td>-82.0144</td><td>0.840598</td></tr><tr><th>9</th><td>155.075</td><td>11.397</td><td>-73.9756</td><td>-82.4592</td><td>0.53878</td></tr><tr><th>10</th><td>156.583</td><td>8.58291</td><td>-73.8272</td><td>-82.2272</td><td>0.679453</td></tr><tr><th>11</th><td>156.432</td><td>10.8342</td><td>-73.8161</td><td>-82.2243</td><td>0.681453</td></tr><tr><th>12</th><td>154.472</td><td>8.82412</td><td>-73.5636</td><td>-82.0822</td><td>0.785519</td></tr><tr><th>13</th><td>155.528</td><td>10.0302</td><td>-73.4419</td><td>-81.8998</td><td>0.942647</td></tr><tr><th>14</th><td>159.146</td><td>10.191</td><td>-74.9284</td><td>-83.1995</td><td>0.256999</td></tr><tr><th>15</th><td>157.487</td><td>13.4874</td><td>-75.6337</td><td>-83.9863</td><td>0.117006</td></tr><tr><th>16</th><td>153.719</td><td>10.7538</td><td>-73.8695</td><td>-82.4331</td><td>0.55302</td></tr><tr><th>17</th><td>152.814</td><td>8.98492</td><td>-74.1752</td><td>-82.7948</td><td>0.385186</td></tr><tr><th>18</th><td>153.568</td><td>8.74372</td><td>-73.8882</td><td>-82.4611</td><td>0.537769</td></tr><tr><th>19</th><td>156.432</td><td>13.1658</td><td>-75.2018</td><td>-83.61</td><td>0.170467</td></tr><tr><th>20</th><td>152.362</td><td>11.4774</td><td>-74.6535</td><td>-83.3018</td><td>0.231997</td></tr><tr><th>21</th><td>156.281</td><td>8.98492</td><td>-73.5655</td><td>-81.9818</td><td>0.86845</td></tr><tr><th>22</th><td>155.829</td><td>8.90452</td><td>-73.4993</td><td>-81.9404</td><td>0.905184</td></tr><tr><th>23</th><td>151.457</td><td>11.3166</td><td>-75.0579</td><td>-83.7653</td><td>0.145951</td></tr><tr><th>24</th><td>150.251</td><td>9.70854</td><td>-76.0442</td><td>-84.8334</td><td>0.0501562</td></tr><tr><th>&vellip;</th><td>&vellip;</td><td>&vellip;</td><td>&vellip;</td><td>&vellip;</td><td>&vellip;</td></tr></tbody></table>"
      ]
     },
     "metadata": {},
     "execution_count": 7
    }
   ],
   "cell_type": "code",
   "source": [
    "samples = post[sample(1:size(post, 1), Weights(post[:prob]), 10000, replace=true), :]"
   ],
   "metadata": {},
   "execution_count": 7
  },
  {
   "outputs": [],
   "cell_type": "markdown",
   "source": [
    "### Snippet 4.23"
   ],
   "metadata": {}
  },
  {
   "outputs": [],
   "cell_type": "markdown",
   "source": [
    "Density of sigma"
   ],
   "metadata": {}
  },
  {
   "outputs": [
    {
     "output_type": "execute_result",
     "data": {
      "text/plain": "Plot{Plots.GRBackend() n=1}",
      "image/png": "[encoded data removed]",
      "text/html": [
       "<?xml version=\"1.0\" encoding=\"utf-8\"?>\n",
       "<svg xmlns=\"http://www.w3.org/2000/svg\" xmlns:xlink=\"http://www.w3.org/1999/xlink\" width=\"500\" height=\"500\" viewBox=\"0 0 2000 2000\">\n",
       "<defs>\n",
       "  <clipPath id=\"clip0200\">\n",
       "    <rect x=\"0\" y=\"0\" width=\"2000\" height=\"2000\"/>\n",
       "  </clipPath>\n",
       "</defs>\n",
       "<polygon clip-path=\"url(#clip0200)\" points=\"\n",
       "0,2000 2000,2000 2000,0 0,0 \n",
       "  \" fill=\"#ffffff\" fill-rule=\"evenodd\" fill-opacity=\"1\"/>\n",
       "<defs>\n",
       "  <clipPath id=\"clip0201\">\n",
       "    <rect x=\"400\" y=\"200\" width=\"1401\" height=\"1401\"/>\n",
       "  </clipPath>\n",
       "</defs>\n",
       "<polygon clip-path=\"url(#clip0200)\" points=\"\n",
       "188.156,1886.71 1921.26,1886.71 1921.26,47.2441 188.156,47.2441 \n",
       "  \" fill=\"#ffffff\" fill-rule=\"evenodd\" fill-opacity=\"1\"/>\n",
       "<defs>\n",
       "  <clipPath id=\"clip0202\">\n",
       "    <rect x=\"188\" y=\"47\" width=\"1734\" height=\"1840\"/>\n",
       "  </clipPath>\n",
       "</defs>\n",
       "<polyline clip-path=\"url(#clip0202)\" style=\"stroke:#000000; stroke-width:2; stroke-opacity:0.1; fill:none\" points=\"\n",
       "  227.162,1886.71 227.162,47.2441 \n",
       "  \"/>\n",
       "<polyline clip-path=\"url(#clip0202)\" style=\"stroke:#000000; stroke-width:2; stroke-opacity:0.1; fill:none\" points=\"\n",
       "  741.471,1886.71 741.471,47.2441 \n",
       "  \"/>\n",
       "<polyline clip-path=\"url(#clip0202)\" style=\"stroke:#000000; stroke-width:2; stroke-opacity:0.1; fill:none\" points=\"\n",
       "  1255.78,1886.71 1255.78,47.2441 \n",
       "  \"/>\n",
       "<polyline clip-path=\"url(#clip0202)\" style=\"stroke:#000000; stroke-width:2; stroke-opacity:0.1; fill:none\" points=\"\n",
       "  1770.09,1886.71 1770.09,47.2441 \n",
       "  \"/>\n",
       "<polyline clip-path=\"url(#clip0202)\" style=\"stroke:#000000; stroke-width:2; stroke-opacity:0.1; fill:none\" points=\"\n",
       "  188.156,1834.65 1921.26,1834.65 \n",
       "  \"/>\n",
       "<polyline clip-path=\"url(#clip0202)\" style=\"stroke:#000000; stroke-width:2; stroke-opacity:0.1; fill:none\" points=\"\n",
       "  188.156,1473.84 1921.26,1473.84 \n",
       "  \"/>\n",
       "<polyline clip-path=\"url(#clip0202)\" style=\"stroke:#000000; stroke-width:2; stroke-opacity:0.1; fill:none\" points=\"\n",
       "  188.156,1113.04 1921.26,1113.04 \n",
       "  \"/>\n",
       "<polyline clip-path=\"url(#clip0202)\" style=\"stroke:#000000; stroke-width:2; stroke-opacity:0.1; fill:none\" points=\"\n",
       "  188.156,752.231 1921.26,752.231 \n",
       "  \"/>\n",
       "<polyline clip-path=\"url(#clip0202)\" style=\"stroke:#000000; stroke-width:2; stroke-opacity:0.1; fill:none\" points=\"\n",
       "  188.156,391.425 1921.26,391.425 \n",
       "  \"/>\n",
       "<polyline clip-path=\"url(#clip0200)\" style=\"stroke:#000000; stroke-width:4; stroke-opacity:1; fill:none\" points=\"\n",
       "  188.156,1886.71 1921.26,1886.71 \n",
       "  \"/>\n",
       "<polyline clip-path=\"url(#clip0200)\" style=\"stroke:#000000; stroke-width:4; stroke-opacity:1; fill:none\" points=\"\n",
       "  188.156,1886.71 188.156,47.2441 \n",
       "  \"/>\n",
       "<polyline clip-path=\"url(#clip0200)\" style=\"stroke:#000000; stroke-width:4; stroke-opacity:1; fill:none\" points=\"\n",
       "  227.162,1886.71 227.162,1859.12 \n",
       "  \"/>\n",
       "<polyline clip-path=\"url(#clip0200)\" style=\"stroke:#000000; stroke-width:4; stroke-opacity:1; fill:none\" points=\"\n",
       "  741.471,1886.71 741.471,1859.12 \n",
       "  \"/>\n",
       "<polyline clip-path=\"url(#clip0200)\" style=\"stroke:#000000; stroke-width:4; stroke-opacity:1; fill:none\" points=\"\n",
       "  1255.78,1886.71 1255.78,1859.12 \n",
       "  \"/>\n",
       "<polyline clip-path=\"url(#clip0200)\" style=\"stroke:#000000; stroke-width:4; stroke-opacity:1; fill:none\" points=\"\n",
       "  1770.09,1886.71 1770.09,1859.12 \n",
       "  \"/>\n",
       "<polyline clip-path=\"url(#clip0200)\" style=\"stroke:#000000; stroke-width:4; stroke-opacity:1; fill:none\" points=\"\n",
       "  188.156,1834.65 214.153,1834.65 \n",
       "  \"/>\n",
       "<polyline clip-path=\"url(#clip0200)\" style=\"stroke:#000000; stroke-width:4; stroke-opacity:1; fill:none\" points=\"\n",
       "  188.156,1473.84 214.153,1473.84 \n",
       "  \"/>\n",
       "<polyline clip-path=\"url(#clip0200)\" style=\"stroke:#000000; stroke-width:4; stroke-opacity:1; fill:none\" points=\"\n",
       "  188.156,1113.04 214.153,1113.04 \n",
       "  \"/>\n",
       "<polyline clip-path=\"url(#clip0200)\" style=\"stroke:#000000; stroke-width:4; stroke-opacity:1; fill:none\" points=\"\n",
       "  188.156,752.231 214.153,752.231 \n",
       "  \"/>\n",
       "<polyline clip-path=\"url(#clip0200)\" style=\"stroke:#000000; stroke-width:4; stroke-opacity:1; fill:none\" points=\"\n",
       "  188.156,391.425 214.153,391.425 \n",
       "  \"/>\n",
       "<g clip-path=\"url(#clip0200)\">\n",
       "<text style=\"fill:#000000; fill-opacity:1; font-family:Arial,Helvetica Neue,Helvetica,sans-serif; font-size:48px; text-anchor:middle;\" transform=\"rotate(0, 227.162, 1938.71)\" x=\"227.162\" y=\"1938.71\">5</text>\n",
       "</g>\n",
       "<g clip-path=\"url(#clip0200)\">\n",
       "<text style=\"fill:#000000; fill-opacity:1; font-family:Arial,Helvetica Neue,Helvetica,sans-serif; font-size:48px; text-anchor:middle;\" transform=\"rotate(0, 741.471, 1938.71)\" x=\"741.471\" y=\"1938.71\">10</text>\n",
       "</g>\n",
       "<g clip-path=\"url(#clip0200)\">\n",
       "<text style=\"fill:#000000; fill-opacity:1; font-family:Arial,Helvetica Neue,Helvetica,sans-serif; font-size:48px; text-anchor:middle;\" transform=\"rotate(0, 1255.78, 1938.71)\" x=\"1255.78\" y=\"1938.71\">15</text>\n",
       "</g>\n",
       "<g clip-path=\"url(#clip0200)\">\n",
       "<text style=\"fill:#000000; fill-opacity:1; font-family:Arial,Helvetica Neue,Helvetica,sans-serif; font-size:48px; text-anchor:middle;\" transform=\"rotate(0, 1770.09, 1938.71)\" x=\"1770.09\" y=\"1938.71\">20</text>\n",
       "</g>\n",
       "<g clip-path=\"url(#clip0200)\">\n",
       "<text style=\"fill:#000000; fill-opacity:1; font-family:Arial,Helvetica Neue,Helvetica,sans-serif; font-size:48px; text-anchor:end;\" transform=\"rotate(0, 168.156, 1852.15)\" x=\"168.156\" y=\"1852.15\">0.00</text>\n",
       "</g>\n",
       "<g clip-path=\"url(#clip0200)\">\n",
       "<text style=\"fill:#000000; fill-opacity:1; font-family:Arial,Helvetica Neue,Helvetica,sans-serif; font-size:48px; text-anchor:end;\" transform=\"rotate(0, 168.156, 1491.34)\" x=\"168.156\" y=\"1491.34\">0.05</text>\n",
       "</g>\n",
       "<g clip-path=\"url(#clip0200)\">\n",
       "<text style=\"fill:#000000; fill-opacity:1; font-family:Arial,Helvetica Neue,Helvetica,sans-serif; font-size:48px; text-anchor:end;\" transform=\"rotate(0, 168.156, 1130.54)\" x=\"168.156\" y=\"1130.54\">0.10</text>\n",
       "</g>\n",
       "<g clip-path=\"url(#clip0200)\">\n",
       "<text style=\"fill:#000000; fill-opacity:1; font-family:Arial,Helvetica Neue,Helvetica,sans-serif; font-size:48px; text-anchor:end;\" transform=\"rotate(0, 168.156, 769.731)\" x=\"168.156\" y=\"769.731\">0.15</text>\n",
       "</g>\n",
       "<g clip-path=\"url(#clip0200)\">\n",
       "<text style=\"fill:#000000; fill-opacity:1; font-family:Arial,Helvetica Neue,Helvetica,sans-serif; font-size:48px; text-anchor:end;\" transform=\"rotate(0, 168.156, 408.925)\" x=\"168.156\" y=\"408.925\">0.20</text>\n",
       "</g>\n",
       "<polyline clip-path=\"url(#clip0202)\" style=\"stroke:#009af9; stroke-width:4; stroke-opacity:1; fill:none\" points=\"\n",
       "  237.206,1834.65 245.423,1834.65 253.639,1834.64 261.855,1834.63 270.071,1834.6 278.287,1834.53 286.503,1834.4 294.719,1834.15 302.935,1833.71 311.151,1833.02 \n",
       "  319.367,1831.95 327.584,1830.36 335.8,1828.07 344.016,1824.82 352.232,1820.33 360.448,1814.3 368.664,1806.55 376.88,1797.01 385.096,1785.69 393.312,1772.65 \n",
       "  401.528,1757.84 409.745,1741.04 417.961,1721.87 426.177,1699.91 434.393,1674.9 442.609,1646.89 450.825,1616.18 459.041,1583.14 467.257,1547.91 475.473,1510.13 \n",
       "  483.689,1468.94 491.905,1423.22 500.122,1372.01 508.338,1314.96 516.554,1252.57 524.77,1186.02 532.986,1116.91 541.202,1046.79 549.418,976.768 557.634,907.312 \n",
       "  565.85,838.246 574.066,769.106 582.283,699.742 590.499,630.842 598.715,563.962 606.931,500.929 615.147,442.983 623.363,390.291 631.579,342.189 639.795,297.951 \n",
       "  648.011,257.509 656.227,221.633 664.444,191.509 672.66,168.007 680.876,151.04 689.092,139.316 697.308,130.65 705.524,122.795 713.74,114.479 721.956,106.173 \n",
       "  730.172,100.09 738.388,99.3044 746.604,106.385 754.821,122.278 763.037,146.048 771.253,175.566 779.469,208.645 787.685,243.902 795.901,280.857 804.117,319.388 \n",
       "  812.333,359.081 820.549,398.994 828.765,437.972 836.982,475.213 845.198,510.654 853.414,544.942 861.63,579.073 869.846,613.939 878.062,650.016 886.278,687.32 \n",
       "  894.494,725.592 902.71,764.564 910.926,804.133 919.143,844.346 927.359,885.215 935.575,926.545 943.791,967.884 952.007,1008.61 960.223,1048.08 968.439,1085.69 \n",
       "  976.655,1121.02 984.871,1153.96 993.087,1184.78 1001.3,1214.15 1009.52,1242.93 1017.74,1271.81 1025.95,1301.02 1034.17,1330.22 1042.38,1358.77 1050.6,1386.13 \n",
       "  1058.82,1412.33 1067.03,1437.92 1075.25,1463.5 1083.46,1489.1 1091.68,1513.84 1099.9,1536.2 1108.11,1554.68 1116.33,1568.55 1124.54,1578.22 1132.76,1585.04 \n",
       "  1140.98,1590.84 1149.19,1597.32 1157.41,1605.55 1165.63,1615.71 1173.84,1627.16 1182.06,1638.76 1190.27,1649.43 1198.49,1658.59 1206.71,1666.35 1214.92,1673.38 \n",
       "  1223.14,1680.47 1231.35,1688.19 1239.57,1696.63 1247.79,1705.54 1256,1714.45 1264.22,1722.92 1272.43,1730.71 1280.65,1737.79 1288.87,1744.32 1297.08,1750.56 \n",
       "  1305.3,1756.71 1313.52,1762.83 1321.73,1768.81 1329.95,1774.43 1338.16,1779.43 1346.38,1783.61 1354.6,1786.92 1362.81,1789.45 1371.03,1791.47 1379.24,1793.3 \n",
       "  1387.46,1795.18 1395.68,1797.24 1403.89,1799.44 1412.11,1801.65 1420.32,1803.79 1428.54,1805.79 1436.76,1807.64 1444.97,1809.39 1453.19,1811.01 1461.4,1812.42 \n",
       "  1469.62,1813.45 1477.84,1813.96 1486.05,1813.92 1494.27,1813.45 1502.49,1812.89 1510.7,1812.58 1518.92,1812.82 1527.13,1813.74 1535.35,1815.27 1543.57,1817.25 \n",
       "  1551.78,1819.41 1560,1821.51 1568.21,1823.33 1576.43,1824.74 1584.65,1825.74 1592.86,1826.43 1601.08,1826.99 1609.29,1827.57 1617.51,1828.29 1625.73,1829.12 \n",
       "  1633.94,1830 1642.16,1830.78 1650.38,1831.33 1658.59,1831.61 1666.81,1831.61 1675.02,1831.4 1683.24,1831.08 1691.46,1830.7 1699.67,1830.33 1707.89,1830 \n",
       "  1716.1,1829.71 1724.32,1829.47 1732.54,1829.28 1740.75,1829.11 1748.97,1828.99 1757.18,1828.99 1765.4,1829.19 1773.62,1829.68 1781.83,1830.42 1790.05,1831.34 \n",
       "  1798.26,1832.27 1806.48,1833.09 1814.7,1833.72 1822.91,1834.15 1831.13,1834.41 1839.35,1834.54 1847.56,1834.61 1855.78,1834.63 1863.99,1834.64 1872.21,1834.65 \n",
       "  \n",
       "  \"/>\n",
       "<polygon clip-path=\"url(#clip0200)\" points=\"\n",
       "1610.43,227.724 1861.26,227.724 1861.26,106.764 1610.43,106.764 \n",
       "  \" fill=\"#ffffff\" fill-rule=\"evenodd\" fill-opacity=\"1\"/>\n",
       "<polyline clip-path=\"url(#clip0200)\" style=\"stroke:#000000; stroke-width:4; stroke-opacity:1; fill:none\" points=\"\n",
       "  1610.43,227.724 1861.26,227.724 1861.26,106.764 1610.43,106.764 1610.43,227.724 \n",
       "  \"/>\n",
       "<polyline clip-path=\"url(#clip0200)\" style=\"stroke:#009af9; stroke-width:4; stroke-opacity:1; fill:none\" points=\"\n",
       "  1630.43,167.244 1750.43,167.244 \n",
       "  \"/>\n",
       "<g clip-path=\"url(#clip0200)\">\n",
       "<text style=\"fill:#000000; fill-opacity:1; font-family:Arial,Helvetica Neue,Helvetica,sans-serif; font-size:48px; text-anchor:start;\" transform=\"rotate(0, 1770.43, 184.744)\" x=\"1770.43\" y=\"184.744\">y1</text>\n",
       "</g>\n",
       "</svg>\n"
      ],
      "image/svg+xml": [
       "<?xml version=\"1.0\" encoding=\"utf-8\"?>\n",
       "<svg xmlns=\"http://www.w3.org/2000/svg\" xmlns:xlink=\"http://www.w3.org/1999/xlink\" width=\"500\" height=\"500\" viewBox=\"0 0 2000 2000\">\n",
       "<defs>\n",
       "  <clipPath id=\"clip0100\">\n",
       "    <rect x=\"0\" y=\"0\" width=\"2000\" height=\"2000\"/>\n",
       "  </clipPath>\n",
       "</defs>\n",
       "<polygon clip-path=\"url(#clip0100)\" points=\"\n",
       "0,2000 2000,2000 2000,0 0,0 \n",
       "  \" fill=\"#ffffff\" fill-rule=\"evenodd\" fill-opacity=\"1\"/>\n",
       "<defs>\n",
       "  <clipPath id=\"clip0101\">\n",
       "    <rect x=\"400\" y=\"200\" width=\"1401\" height=\"1401\"/>\n",
       "  </clipPath>\n",
       "</defs>\n",
       "<polygon clip-path=\"url(#clip0100)\" points=\"\n",
       "188.156,1886.71 1921.26,1886.71 1921.26,47.2441 188.156,47.2441 \n",
       "  \" fill=\"#ffffff\" fill-rule=\"evenodd\" fill-opacity=\"1\"/>\n",
       "<defs>\n",
       "  <clipPath id=\"clip0102\">\n",
       "    <rect x=\"188\" y=\"47\" width=\"1734\" height=\"1840\"/>\n",
       "  </clipPath>\n",
       "</defs>\n",
       "<polyline clip-path=\"url(#clip0102)\" style=\"stroke:#000000; stroke-width:2; stroke-opacity:0.1; fill:none\" points=\"\n",
       "  227.162,1886.71 227.162,47.2441 \n",
       "  \"/>\n",
       "<polyline clip-path=\"url(#clip0102)\" style=\"stroke:#000000; stroke-width:2; stroke-opacity:0.1; fill:none\" points=\"\n",
       "  741.471,1886.71 741.471,47.2441 \n",
       "  \"/>\n",
       "<polyline clip-path=\"url(#clip0102)\" style=\"stroke:#000000; stroke-width:2; stroke-opacity:0.1; fill:none\" points=\"\n",
       "  1255.78,1886.71 1255.78,47.2441 \n",
       "  \"/>\n",
       "<polyline clip-path=\"url(#clip0102)\" style=\"stroke:#000000; stroke-width:2; stroke-opacity:0.1; fill:none\" points=\"\n",
       "  1770.09,1886.71 1770.09,47.2441 \n",
       "  \"/>\n",
       "<polyline clip-path=\"url(#clip0102)\" style=\"stroke:#000000; stroke-width:2; stroke-opacity:0.1; fill:none\" points=\"\n",
       "  188.156,1834.65 1921.26,1834.65 \n",
       "  \"/>\n",
       "<polyline clip-path=\"url(#clip0102)\" style=\"stroke:#000000; stroke-width:2; stroke-opacity:0.1; fill:none\" points=\"\n",
       "  188.156,1473.84 1921.26,1473.84 \n",
       "  \"/>\n",
       "<polyline clip-path=\"url(#clip0102)\" style=\"stroke:#000000; stroke-width:2; stroke-opacity:0.1; fill:none\" points=\"\n",
       "  188.156,1113.04 1921.26,1113.04 \n",
       "  \"/>\n",
       "<polyline clip-path=\"url(#clip0102)\" style=\"stroke:#000000; stroke-width:2; stroke-opacity:0.1; fill:none\" points=\"\n",
       "  188.156,752.231 1921.26,752.231 \n",
       "  \"/>\n",
       "<polyline clip-path=\"url(#clip0102)\" style=\"stroke:#000000; stroke-width:2; stroke-opacity:0.1; fill:none\" points=\"\n",
       "  188.156,391.425 1921.26,391.425 \n",
       "  \"/>\n",
       "<polyline clip-path=\"url(#clip0100)\" style=\"stroke:#000000; stroke-width:4; stroke-opacity:1; fill:none\" points=\"\n",
       "  188.156,1886.71 1921.26,1886.71 \n",
       "  \"/>\n",
       "<polyline clip-path=\"url(#clip0100)\" style=\"stroke:#000000; stroke-width:4; stroke-opacity:1; fill:none\" points=\"\n",
       "  188.156,1886.71 188.156,47.2441 \n",
       "  \"/>\n",
       "<polyline clip-path=\"url(#clip0100)\" style=\"stroke:#000000; stroke-width:4; stroke-opacity:1; fill:none\" points=\"\n",
       "  227.162,1886.71 227.162,1859.12 \n",
       "  \"/>\n",
       "<polyline clip-path=\"url(#clip0100)\" style=\"stroke:#000000; stroke-width:4; stroke-opacity:1; fill:none\" points=\"\n",
       "  741.471,1886.71 741.471,1859.12 \n",
       "  \"/>\n",
       "<polyline clip-path=\"url(#clip0100)\" style=\"stroke:#000000; stroke-width:4; stroke-opacity:1; fill:none\" points=\"\n",
       "  1255.78,1886.71 1255.78,1859.12 \n",
       "  \"/>\n",
       "<polyline clip-path=\"url(#clip0100)\" style=\"stroke:#000000; stroke-width:4; stroke-opacity:1; fill:none\" points=\"\n",
       "  1770.09,1886.71 1770.09,1859.12 \n",
       "  \"/>\n",
       "<polyline clip-path=\"url(#clip0100)\" style=\"stroke:#000000; stroke-width:4; stroke-opacity:1; fill:none\" points=\"\n",
       "  188.156,1834.65 214.153,1834.65 \n",
       "  \"/>\n",
       "<polyline clip-path=\"url(#clip0100)\" style=\"stroke:#000000; stroke-width:4; stroke-opacity:1; fill:none\" points=\"\n",
       "  188.156,1473.84 214.153,1473.84 \n",
       "  \"/>\n",
       "<polyline clip-path=\"url(#clip0100)\" style=\"stroke:#000000; stroke-width:4; stroke-opacity:1; fill:none\" points=\"\n",
       "  188.156,1113.04 214.153,1113.04 \n",
       "  \"/>\n",
       "<polyline clip-path=\"url(#clip0100)\" style=\"stroke:#000000; stroke-width:4; stroke-opacity:1; fill:none\" points=\"\n",
       "  188.156,752.231 214.153,752.231 \n",
       "  \"/>\n",
       "<polyline clip-path=\"url(#clip0100)\" style=\"stroke:#000000; stroke-width:4; stroke-opacity:1; fill:none\" points=\"\n",
       "  188.156,391.425 214.153,391.425 \n",
       "  \"/>\n",
       "<g clip-path=\"url(#clip0100)\">\n",
       "<text style=\"fill:#000000; fill-opacity:1; font-family:Arial,Helvetica Neue,Helvetica,sans-serif; font-size:48px; text-anchor:middle;\" transform=\"rotate(0, 227.162, 1938.71)\" x=\"227.162\" y=\"1938.71\">5</text>\n",
       "</g>\n",
       "<g clip-path=\"url(#clip0100)\">\n",
       "<text style=\"fill:#000000; fill-opacity:1; font-family:Arial,Helvetica Neue,Helvetica,sans-serif; font-size:48px; text-anchor:middle;\" transform=\"rotate(0, 741.471, 1938.71)\" x=\"741.471\" y=\"1938.71\">10</text>\n",
       "</g>\n",
       "<g clip-path=\"url(#clip0100)\">\n",
       "<text style=\"fill:#000000; fill-opacity:1; font-family:Arial,Helvetica Neue,Helvetica,sans-serif; font-size:48px; text-anchor:middle;\" transform=\"rotate(0, 1255.78, 1938.71)\" x=\"1255.78\" y=\"1938.71\">15</text>\n",
       "</g>\n",
       "<g clip-path=\"url(#clip0100)\">\n",
       "<text style=\"fill:#000000; fill-opacity:1; font-family:Arial,Helvetica Neue,Helvetica,sans-serif; font-size:48px; text-anchor:middle;\" transform=\"rotate(0, 1770.09, 1938.71)\" x=\"1770.09\" y=\"1938.71\">20</text>\n",
       "</g>\n",
       "<g clip-path=\"url(#clip0100)\">\n",
       "<text style=\"fill:#000000; fill-opacity:1; font-family:Arial,Helvetica Neue,Helvetica,sans-serif; font-size:48px; text-anchor:end;\" transform=\"rotate(0, 168.156, 1852.15)\" x=\"168.156\" y=\"1852.15\">0.00</text>\n",
       "</g>\n",
       "<g clip-path=\"url(#clip0100)\">\n",
       "<text style=\"fill:#000000; fill-opacity:1; font-family:Arial,Helvetica Neue,Helvetica,sans-serif; font-size:48px; text-anchor:end;\" transform=\"rotate(0, 168.156, 1491.34)\" x=\"168.156\" y=\"1491.34\">0.05</text>\n",
       "</g>\n",
       "<g clip-path=\"url(#clip0100)\">\n",
       "<text style=\"fill:#000000; fill-opacity:1; font-family:Arial,Helvetica Neue,Helvetica,sans-serif; font-size:48px; text-anchor:end;\" transform=\"rotate(0, 168.156, 1130.54)\" x=\"168.156\" y=\"1130.54\">0.10</text>\n",
       "</g>\n",
       "<g clip-path=\"url(#clip0100)\">\n",
       "<text style=\"fill:#000000; fill-opacity:1; font-family:Arial,Helvetica Neue,Helvetica,sans-serif; font-size:48px; text-anchor:end;\" transform=\"rotate(0, 168.156, 769.731)\" x=\"168.156\" y=\"769.731\">0.15</text>\n",
       "</g>\n",
       "<g clip-path=\"url(#clip0100)\">\n",
       "<text style=\"fill:#000000; fill-opacity:1; font-family:Arial,Helvetica Neue,Helvetica,sans-serif; font-size:48px; text-anchor:end;\" transform=\"rotate(0, 168.156, 408.925)\" x=\"168.156\" y=\"408.925\">0.20</text>\n",
       "</g>\n",
       "<polyline clip-path=\"url(#clip0102)\" style=\"stroke:#009af9; stroke-width:4; stroke-opacity:1; fill:none\" points=\"\n",
       "  237.206,1834.65 245.423,1834.65 253.639,1834.64 261.855,1834.63 270.071,1834.6 278.287,1834.53 286.503,1834.4 294.719,1834.15 302.935,1833.71 311.151,1833.02 \n",
       "  319.367,1831.95 327.584,1830.36 335.8,1828.07 344.016,1824.82 352.232,1820.33 360.448,1814.3 368.664,1806.55 376.88,1797.01 385.096,1785.69 393.312,1772.65 \n",
       "  401.528,1757.84 409.745,1741.04 417.961,1721.87 426.177,1699.91 434.393,1674.9 442.609,1646.89 450.825,1616.18 459.041,1583.14 467.257,1547.91 475.473,1510.13 \n",
       "  483.689,1468.94 491.905,1423.22 500.122,1372.01 508.338,1314.96 516.554,1252.57 524.77,1186.02 532.986,1116.91 541.202,1046.79 549.418,976.768 557.634,907.312 \n",
       "  565.85,838.246 574.066,769.106 582.283,699.742 590.499,630.842 598.715,563.962 606.931,500.929 615.147,442.983 623.363,390.291 631.579,342.189 639.795,297.951 \n",
       "  648.011,257.509 656.227,221.633 664.444,191.509 672.66,168.007 680.876,151.04 689.092,139.316 697.308,130.65 705.524,122.795 713.74,114.479 721.956,106.173 \n",
       "  730.172,100.09 738.388,99.3044 746.604,106.385 754.821,122.278 763.037,146.048 771.253,175.566 779.469,208.645 787.685,243.902 795.901,280.857 804.117,319.388 \n",
       "  812.333,359.081 820.549,398.994 828.765,437.972 836.982,475.213 845.198,510.654 853.414,544.942 861.63,579.073 869.846,613.939 878.062,650.016 886.278,687.32 \n",
       "  894.494,725.592 902.71,764.564 910.926,804.133 919.143,844.346 927.359,885.215 935.575,926.545 943.791,967.884 952.007,1008.61 960.223,1048.08 968.439,1085.69 \n",
       "  976.655,1121.02 984.871,1153.96 993.087,1184.78 1001.3,1214.15 1009.52,1242.93 1017.74,1271.81 1025.95,1301.02 1034.17,1330.22 1042.38,1358.77 1050.6,1386.13 \n",
       "  1058.82,1412.33 1067.03,1437.92 1075.25,1463.5 1083.46,1489.1 1091.68,1513.84 1099.9,1536.2 1108.11,1554.68 1116.33,1568.55 1124.54,1578.22 1132.76,1585.04 \n",
       "  1140.98,1590.84 1149.19,1597.32 1157.41,1605.55 1165.63,1615.71 1173.84,1627.16 1182.06,1638.76 1190.27,1649.43 1198.49,1658.59 1206.71,1666.35 1214.92,1673.38 \n",
       "  1223.14,1680.47 1231.35,1688.19 1239.57,1696.63 1247.79,1705.54 1256,1714.45 1264.22,1722.92 1272.43,1730.71 1280.65,1737.79 1288.87,1744.32 1297.08,1750.56 \n",
       "  1305.3,1756.71 1313.52,1762.83 1321.73,1768.81 1329.95,1774.43 1338.16,1779.43 1346.38,1783.61 1354.6,1786.92 1362.81,1789.45 1371.03,1791.47 1379.24,1793.3 \n",
       "  1387.46,1795.18 1395.68,1797.24 1403.89,1799.44 1412.11,1801.65 1420.32,1803.79 1428.54,1805.79 1436.76,1807.64 1444.97,1809.39 1453.19,1811.01 1461.4,1812.42 \n",
       "  1469.62,1813.45 1477.84,1813.96 1486.05,1813.92 1494.27,1813.45 1502.49,1812.89 1510.7,1812.58 1518.92,1812.82 1527.13,1813.74 1535.35,1815.27 1543.57,1817.25 \n",
       "  1551.78,1819.41 1560,1821.51 1568.21,1823.33 1576.43,1824.74 1584.65,1825.74 1592.86,1826.43 1601.08,1826.99 1609.29,1827.57 1617.51,1828.29 1625.73,1829.12 \n",
       "  1633.94,1830 1642.16,1830.78 1650.38,1831.33 1658.59,1831.61 1666.81,1831.61 1675.02,1831.4 1683.24,1831.08 1691.46,1830.7 1699.67,1830.33 1707.89,1830 \n",
       "  1716.1,1829.71 1724.32,1829.47 1732.54,1829.28 1740.75,1829.11 1748.97,1828.99 1757.18,1828.99 1765.4,1829.19 1773.62,1829.68 1781.83,1830.42 1790.05,1831.34 \n",
       "  1798.26,1832.27 1806.48,1833.09 1814.7,1833.72 1822.91,1834.15 1831.13,1834.41 1839.35,1834.54 1847.56,1834.61 1855.78,1834.63 1863.99,1834.64 1872.21,1834.65 \n",
       "  \n",
       "  \"/>\n",
       "<polygon clip-path=\"url(#clip0100)\" points=\"\n",
       "1610.43,227.724 1861.26,227.724 1861.26,106.764 1610.43,106.764 \n",
       "  \" fill=\"#ffffff\" fill-rule=\"evenodd\" fill-opacity=\"1\"/>\n",
       "<polyline clip-path=\"url(#clip0100)\" style=\"stroke:#000000; stroke-width:4; stroke-opacity:1; fill:none\" points=\"\n",
       "  1610.43,227.724 1861.26,227.724 1861.26,106.764 1610.43,106.764 1610.43,227.724 \n",
       "  \"/>\n",
       "<polyline clip-path=\"url(#clip0100)\" style=\"stroke:#009af9; stroke-width:4; stroke-opacity:1; fill:none\" points=\"\n",
       "  1630.43,167.244 1750.43,167.244 \n",
       "  \"/>\n",
       "<g clip-path=\"url(#clip0100)\">\n",
       "<text style=\"fill:#000000; fill-opacity:1; font-family:Arial,Helvetica Neue,Helvetica,sans-serif; font-size:48px; text-anchor:start;\" transform=\"rotate(0, 1770.43, 184.744)\" x=\"1770.43\" y=\"184.744\">y1</text>\n",
       "</g>\n",
       "</svg>\n"
      ]
     },
     "metadata": {},
     "execution_count": 8
    }
   ],
   "cell_type": "code",
   "source": [
    "density(samples[:sigma])"
   ],
   "metadata": {},
   "execution_count": 8
  },
  {
   "outputs": [],
   "cell_type": "markdown",
   "source": [
    "End of `clip-21-23.jl`"
   ],
   "metadata": {}
  },
  {
   "outputs": [],
   "cell_type": "markdown",
   "source": [
    "*This notebook was generated using [Literate.jl](https://github.com/fredrikekre/Literate.jl).*"
   ],
   "metadata": {}
  }
 ],
 "nbformat_minor": 3,
 "metadata": {
  "language_info": {
   "file_extension": ".jl",
   "mimetype": "application/julia",
   "name": "julia",
   "version": "1.1.0"
  },
  "kernelspec": {
   "name": "julia-1.1",
   "display_name": "Julia 1.1.0",
   "language": "julia"
  }
 },
 "nbformat": 4
}
