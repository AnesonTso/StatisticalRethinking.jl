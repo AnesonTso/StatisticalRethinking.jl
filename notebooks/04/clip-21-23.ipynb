{
 "cells": [
  {
   "outputs": [],
   "cell_type": "markdown",
   "source": [
    "Load Julia packages (libraries) needed  for the snippets in chapter 0"
   ],
   "metadata": {}
  },
  {
   "outputs": [],
   "cell_type": "code",
   "source": [
    "using StatisticalRethinking, CmdStan\n",
    "#gr(size=(600,600));"
   ],
   "metadata": {},
   "execution_count": 1
  },
  {
   "outputs": [],
   "cell_type": "markdown",
   "source": [
    "CmdStan uses a tmp directory to store the output of cmdstan"
   ],
   "metadata": {}
  },
  {
   "outputs": [],
   "cell_type": "code",
   "source": [
    "ProjDir = rel_path(\"..\", \"scripts\", \"04\")\n",
    "cd(ProjDir)"
   ],
   "metadata": {},
   "execution_count": 2
  },
  {
   "outputs": [],
   "cell_type": "markdown",
   "source": [
    "CmdStan uses a tmp directory to store the output of cmdstan"
   ],
   "metadata": {}
  },
  {
   "outputs": [],
   "cell_type": "code",
   "source": [
    "ProjDir = rel_path(\"..\", \"scripts\", \"04\")\n",
    "cd(ProjDir)"
   ],
   "metadata": {},
   "execution_count": 3
  },
  {
   "outputs": [
    {
     "output_type": "execute_result",
     "data": {
      "text/plain": "5×4 DataFrame\n│ Row │ height  │ weight  │ age     │ male  │\n│     │ \u001b[90mFloat64\u001b[39m │ \u001b[90mFloat64\u001b[39m │ \u001b[90mFloat64\u001b[39m │ \u001b[90mInt64\u001b[39m │\n├─────┼─────────┼─────────┼─────────┼───────┤\n│ 1   │ 151.765 │ 47.8256 │ 63.0    │ 1     │\n│ 2   │ 139.7   │ 36.4858 │ 63.0    │ 0     │\n│ 3   │ 136.525 │ 31.8648 │ 65.0    │ 0     │\n│ 4   │ 156.845 │ 53.0419 │ 41.0    │ 1     │\n│ 5   │ 145.415 │ 41.2769 │ 51.0    │ 0     │",
      "text/html": [
       "<table class=\"data-frame\"><thead><tr><th></th><th>height</th><th>weight</th><th>age</th><th>male</th></tr><tr><th></th><th>Float64</th><th>Float64</th><th>Float64</th><th>Int64</th></tr></thead><tbody><p>5 rows × 4 columns</p><tr><th>1</th><td>151.765</td><td>47.8256</td><td>63.0</td><td>1</td></tr><tr><th>2</th><td>139.7</td><td>36.4858</td><td>63.0</td><td>0</td></tr><tr><th>3</th><td>136.525</td><td>31.8648</td><td>65.0</td><td>0</td></tr><tr><th>4</th><td>156.845</td><td>53.0419</td><td>41.0</td><td>1</td></tr><tr><th>5</th><td>145.415</td><td>41.2769</td><td>51.0</td><td>0</td></tr></tbody></table>"
      ]
     },
     "metadata": {},
     "execution_count": 4
    }
   ],
   "cell_type": "code",
   "source": [
    "howell1 = CSV.read(rel_path(\"..\", \"data\", \"Howell1.csv\"), delim=';')\n",
    "df = convert(DataFrame, howell1);\n",
    "df2 = filter(row -> row[:age] >= 18, df);\n",
    "first(df2, 5)"
   ],
   "metadata": {},
   "execution_count": 4
  },
  {
   "outputs": [],
   "cell_type": "markdown",
   "source": [
    "### Snippet 4.21"
   ],
   "metadata": {}
  },
  {
   "outputs": [],
   "cell_type": "markdown",
   "source": [
    "Sample 20 random heights"
   ],
   "metadata": {}
  },
  {
   "outputs": [],
   "cell_type": "code",
   "source": [
    "n = size(df2, 1)\n",
    "selected_ind = sample(1:n, 20, replace=false);\n",
    "df3 = df2[selected_ind, :];"
   ],
   "metadata": {},
   "execution_count": 5
  },
  {
   "outputs": [],
   "cell_type": "markdown",
   "source": [
    "### Snippet 4.22"
   ],
   "metadata": {}
  },
  {
   "outputs": [],
   "cell_type": "markdown",
   "source": [
    "Generate approximate probabilities"
   ],
   "metadata": {}
  },
  {
   "outputs": [
    {
     "name": "stdout",
     "output_type": "stream",
     "text": [
      "┌ Warning: `getindex(df::DataFrame, col_ind::ColumnIndex)` is deprecated, use `df[!, col_ind]` instead.\n",
      "│   caller = top-level scope at string:15\n",
      "└ @ Core ./string:15\n"
     ]
    },
    {
     "output_type": "execute_result",
     "data": {
      "text/plain": "10×5 DataFrame\n│ Row │ mu      │ sigma   │ ll       │ prod     │ prob        │\n│     │ \u001b[90mFloat64\u001b[39m │ \u001b[90mFloat64\u001b[39m │ \u001b[90mFloat64\u001b[39m  │ \u001b[90mFloat64\u001b[39m  │ \u001b[90mFloat64\u001b[39m     │\n├─────┼─────────┼─────────┼──────────┼──────────┼─────────────┤\n│ 1   │ 140.0   │ 4.0     │ -145.479 │ -155.111 │ 9.47013e-37 │\n│ 2   │ 140.151 │ 4.0     │ -143.381 │ -152.998 │ 7.8313e-36  │\n│ 3   │ 140.302 │ 4.0     │ -141.311 │ -150.914 │ 6.29433e-35 │\n│ 4   │ 140.452 │ 4.0     │ -139.27  │ -148.859 │ 4.91704e-34 │\n│ 5   │ 140.603 │ 4.0     │ -137.257 │ -146.832 │ 3.73331e-33 │\n│ 6   │ 140.754 │ 4.0     │ -135.272 │ -144.833 │ 2.75501e-32 │\n│ 7   │ 140.905 │ 4.0     │ -133.316 │ -142.863 │ 1.97602e-31 │\n│ 8   │ 141.055 │ 4.0     │ -131.388 │ -140.921 │ 1.37751e-30 │\n│ 9   │ 141.206 │ 4.0     │ -129.489 │ -139.007 │ 9.33334e-30 │\n│ 10  │ 141.357 │ 4.0     │ -127.618 │ -137.123 │ 6.14635e-29 │",
      "text/html": [
       "<table class=\"data-frame\"><thead><tr><th></th><th>mu</th><th>sigma</th><th>ll</th><th>prod</th><th>prob</th></tr><tr><th></th><th>Float64</th><th>Float64</th><th>Float64</th><th>Float64</th><th>Float64</th></tr></thead><tbody><p>10 rows × 5 columns</p><tr><th>1</th><td>140.0</td><td>4.0</td><td>-145.479</td><td>-155.111</td><td>9.47013e-37</td></tr><tr><th>2</th><td>140.151</td><td>4.0</td><td>-143.381</td><td>-152.998</td><td>7.8313e-36</td></tr><tr><th>3</th><td>140.302</td><td>4.0</td><td>-141.311</td><td>-150.914</td><td>6.29433e-35</td></tr><tr><th>4</th><td>140.452</td><td>4.0</td><td>-139.27</td><td>-148.859</td><td>4.91704e-34</td></tr><tr><th>5</th><td>140.603</td><td>4.0</td><td>-137.257</td><td>-146.832</td><td>3.73331e-33</td></tr><tr><th>6</th><td>140.754</td><td>4.0</td><td>-135.272</td><td>-144.833</td><td>2.75501e-32</td></tr><tr><th>7</th><td>140.905</td><td>4.0</td><td>-133.316</td><td>-142.863</td><td>1.97602e-31</td></tr><tr><th>8</th><td>141.055</td><td>4.0</td><td>-131.388</td><td>-140.921</td><td>1.37751e-30</td></tr><tr><th>9</th><td>141.206</td><td>4.0</td><td>-129.489</td><td>-139.007</td><td>9.33334e-30</td></tr><tr><th>10</th><td>141.357</td><td>4.0</td><td>-127.618</td><td>-137.123</td><td>6.14635e-29</td></tr></tbody></table>"
      ]
     },
     "metadata": {},
     "execution_count": 6
    }
   ],
   "cell_type": "code",
   "source": [
    "struct Post\n",
    "  mu::Float64\n",
    "  sigma::Float64\n",
    "  ll:: Float64\n",
    "  prod::Float64\n",
    "  prob::Float64\n",
    "end\n",
    "\n",
    "mu_list = repeat(range(140, 170, length=200), 200);\n",
    "sigma_list = repeat(range(4, 20, length=200), inner=200);\n",
    "\n",
    "ll = zeros(40000);\n",
    "for i in 1:40000\n",
    "    d1 = Normal(mu_list[i], sigma_list[i])\n",
    "    ll[i] = sum(log.(pdf.(d1, df3[:height])))\n",
    "end\n",
    "\n",
    "d2 = Normal(178.0, 20.0)\n",
    "d3 = Uniform(0, 50)\n",
    "prod = ll + log.(pdf.(d2, mu_list)) + log.(pdf.(d3, sigma_list))\n",
    "prob = exp.(prod .- maximum(prod))\n",
    "post = DataFrame(mu=mu_list, sigma=sigma_list, ll=ll, prod=prod, prob=prob)\n",
    "first(post, 10)"
   ],
   "metadata": {},
   "execution_count": 6
  },
  {
   "outputs": [],
   "cell_type": "markdown",
   "source": [
    "Sample post"
   ],
   "metadata": {}
  },
  {
   "outputs": [
    {
     "name": "stdout",
     "output_type": "stream",
     "text": [
      "┌ Warning: `getindex(df::DataFrame, col_ind::ColumnIndex)` is deprecated, use `df[!, col_ind]` instead.\n",
      "│   caller = top-level scope at string:1\n",
      "└ @ Core string:1\n"
     ]
    },
    {
     "output_type": "execute_result",
     "data": {
      "text/plain": "10000×5 DataFrame\n│ Row   │ mu      │ sigma   │ ll       │ prod     │ prob     │\n│       │ \u001b[90mFloat64\u001b[39m │ \u001b[90mFloat64\u001b[39m │ \u001b[90mFloat64\u001b[39m  │ \u001b[90mFloat64\u001b[39m  │ \u001b[90mFloat64\u001b[39m  │\n├───────┼─────────┼─────────┼──────────┼──────────┼──────────┤\n│ 1     │ 150.854 │ 5.92965 │ -63.4934 │ -72.2412 │ 0.925221 │\n│ 2     │ 151.91  │ 5.60804 │ -63.616  │ -72.2936 │ 0.878014 │\n│ 3     │ 150.704 │ 6.97487 │ -64.129  │ -72.887  │ 0.485041 │\n│ 4     │ 150.402 │ 5.12563 │ -63.999  │ -72.7777 │ 0.541078 │\n│ 5     │ 151.005 │ 6.49246 │ -63.7087 │ -72.4463 │ 0.753692 │\n│ 6     │ 151.608 │ 5.12563 │ -63.8105 │ -72.5079 │ 0.708653 │\n│ 7     │ 149.648 │ 6.17085 │ -64.169  │ -73.0005 │ 0.43303  │\n⋮\n│ 9993  │ 151.759 │ 6.89447 │ -64.0683 │ -72.7558 │ 0.553074 │\n│ 9994  │ 150.854 │ 5.36683 │ -63.5993 │ -72.3471 │ 0.832298 │\n│ 9995  │ 152.211 │ 5.36683 │ -63.903  │ -72.5611 │ 0.671965 │\n│ 9996  │ 150.553 │ 7.61809 │ -64.8068 │ -73.5752 │ 0.24373  │\n│ 9997  │ 150.402 │ 5.12563 │ -63.999  │ -72.7777 │ 0.541078 │\n│ 9998  │ 149.196 │ 5.68844 │ -64.7016 │ -73.5654 │ 0.246133 │\n│ 9999  │ 152.362 │ 6.97487 │ -64.3488 │ -72.9971 │ 0.434481 │\n│ 10000 │ 150.854 │ 7.21608 │ -64.3301 │ -73.0779 │ 0.400753 │",
      "text/html": [
       "<table class=\"data-frame\"><thead><tr><th></th><th>mu</th><th>sigma</th><th>ll</th><th>prod</th><th>prob</th></tr><tr><th></th><th>Float64</th><th>Float64</th><th>Float64</th><th>Float64</th><th>Float64</th></tr></thead><tbody><p>10,000 rows × 5 columns</p><tr><th>1</th><td>150.854</td><td>5.92965</td><td>-63.4934</td><td>-72.2412</td><td>0.925221</td></tr><tr><th>2</th><td>151.91</td><td>5.60804</td><td>-63.616</td><td>-72.2936</td><td>0.878014</td></tr><tr><th>3</th><td>150.704</td><td>6.97487</td><td>-64.129</td><td>-72.887</td><td>0.485041</td></tr><tr><th>4</th><td>150.402</td><td>5.12563</td><td>-63.999</td><td>-72.7777</td><td>0.541078</td></tr><tr><th>5</th><td>151.005</td><td>6.49246</td><td>-63.7087</td><td>-72.4463</td><td>0.753692</td></tr><tr><th>6</th><td>151.608</td><td>5.12563</td><td>-63.8105</td><td>-72.5079</td><td>0.708653</td></tr><tr><th>7</th><td>149.648</td><td>6.17085</td><td>-64.169</td><td>-73.0005</td><td>0.43303</td></tr><tr><th>8</th><td>153.417</td><td>6.41206</td><td>-64.8335</td><td>-73.4156</td><td>0.285897</td></tr><tr><th>9</th><td>150.854</td><td>5.60804</td><td>-63.5008</td><td>-72.2486</td><td>0.918409</td></tr><tr><th>10</th><td>152.06</td><td>5.84925</td><td>-63.6579</td><td>-72.3257</td><td>0.850264</td></tr><tr><th>11</th><td>153.417</td><td>5.12563</td><td>-65.6041</td><td>-74.1861</td><td>0.132307</td></tr><tr><th>12</th><td>151.005</td><td>5.36683</td><td>-63.5699</td><td>-72.3075</td><td>0.865896</td></tr><tr><th>13</th><td>149.497</td><td>5.52764</td><td>-64.4423</td><td>-73.2845</td><td>0.32595</td></tr><tr><th>14</th><td>152.513</td><td>6.57286</td><td>-64.1452</td><td>-72.7839</td><td>0.537753</td></tr><tr><th>15</th><td>152.362</td><td>5.68844</td><td>-63.8576</td><td>-72.5059</td><td>0.710056</td></tr><tr><th>16</th><td>152.211</td><td>6.25126</td><td>-63.8198</td><td>-72.4778</td><td>0.730301</td></tr><tr><th>17</th><td>151.608</td><td>7.69849</td><td>-64.8497</td><td>-73.547</td><td>0.250692</td></tr><tr><th>18</th><td>147.387</td><td>8.50251</td><td>-67.8184</td><td>-76.8166</td><td>0.00953233</td></tr><tr><th>19</th><td>152.06</td><td>5.52764</td><td>-63.7187</td><td>-72.3865</td><td>0.800103</td></tr><tr><th>20</th><td>150.251</td><td>5.44724</td><td>-63.8235</td><td>-72.6127</td><td>0.638134</td></tr><tr><th>21</th><td>152.211</td><td>7.29648</td><td>-64.5752</td><td>-73.2333</td><td>0.34309</td></tr><tr><th>22</th><td>152.211</td><td>8.66332</td><td>-66.135</td><td>-74.7931</td><td>0.0721107</td></tr><tr><th>23</th><td>150.704</td><td>6.17085</td><td>-63.5957</td><td>-72.3538</td><td>0.826753</td></tr><tr><th>24</th><td>151.156</td><td>5.12563</td><td>-63.7514</td><td>-72.4789</td><td>0.729511</td></tr><tr><th>&vellip;</th><td>&vellip;</td><td>&vellip;</td><td>&vellip;</td><td>&vellip;</td><td>&vellip;</td></tr></tbody></table>"
      ]
     },
     "metadata": {},
     "execution_count": 7
    }
   ],
   "cell_type": "code",
   "source": [
    "samples = post[sample(1:size(post, 1), Weights(post[:prob]), 10000, replace=true), :]"
   ],
   "metadata": {},
   "execution_count": 7
  },
  {
   "outputs": [],
   "cell_type": "markdown",
   "source": [
    "### Snippet 4.23"
   ],
   "metadata": {}
  },
  {
   "outputs": [],
   "cell_type": "markdown",
   "source": [
    "Density of sigma"
   ],
   "metadata": {}
  },
  {
   "outputs": [
    {
     "name": "stdout",
     "output_type": "stream",
     "text": [
      "┌ Warning: `getindex(df::DataFrame, col_ind::ColumnIndex)` is deprecated, use `df[!, col_ind]` instead.\n",
      "│   caller = top-level scope at string:1\n",
      "└ @ Core string:1\n"
     ]
    },
    {
     "output_type": "execute_result",
     "data": {
      "text/plain": "Plot{Plots.GRBackend() n=1}",
      "image/png": "[encoded data removed]",
      "text/html": [
       "<?xml version=\"1.0\" encoding=\"utf-8\"?>\n",
       "<svg xmlns=\"http://www.w3.org/2000/svg\" xmlns:xlink=\"http://www.w3.org/1999/xlink\" width=\"600\" height=\"400\" viewBox=\"0 0 2400 1600\">\n",
       "<defs>\n",
       "  <clipPath id=\"clip0100\">\n",
       "    <rect x=\"0\" y=\"0\" width=\"2400\" height=\"1600\"/>\n",
       "  </clipPath>\n",
       "</defs>\n",
       "<polygon clip-path=\"url(#clip0100)\" points=\"\n",
       "0,1600 2400,1600 2400,0 0,0 \n",
       "  \" fill=\"#ffffff\" fill-rule=\"evenodd\" fill-opacity=\"1\"/>\n",
       "<defs>\n",
       "  <clipPath id=\"clip0101\">\n",
       "    <rect x=\"480\" y=\"0\" width=\"1681\" height=\"1600\"/>\n",
       "  </clipPath>\n",
       "</defs>\n",
       "<polygon clip-path=\"url(#clip0100)\" points=\"\n",
       "153.898,1487.47 2352.76,1487.47 2352.76,47.2441 153.898,47.2441 \n",
       "  \" fill=\"#ffffff\" fill-rule=\"evenodd\" fill-opacity=\"1\"/>\n",
       "<defs>\n",
       "  <clipPath id=\"clip0102\">\n",
       "    <rect x=\"153\" y=\"47\" width=\"2200\" height=\"1441\"/>\n",
       "  </clipPath>\n",
       "</defs>\n",
       "<polyline clip-path=\"url(#clip0102)\" style=\"stroke:#000000; stroke-width:2; stroke-opacity:0.1; fill:none\" points=\"\n",
       "  517.579,1487.47 517.579,47.2441 \n",
       "  \"/>\n",
       "<polyline clip-path=\"url(#clip0102)\" style=\"stroke:#000000; stroke-width:2; stroke-opacity:0.1; fill:none\" points=\"\n",
       "  983.865,1487.47 983.865,47.2441 \n",
       "  \"/>\n",
       "<polyline clip-path=\"url(#clip0102)\" style=\"stroke:#000000; stroke-width:2; stroke-opacity:0.1; fill:none\" points=\"\n",
       "  1450.15,1487.47 1450.15,47.2441 \n",
       "  \"/>\n",
       "<polyline clip-path=\"url(#clip0102)\" style=\"stroke:#000000; stroke-width:2; stroke-opacity:0.1; fill:none\" points=\"\n",
       "  1916.44,1487.47 1916.44,47.2441 \n",
       "  \"/>\n",
       "<polyline clip-path=\"url(#clip0102)\" style=\"stroke:#000000; stroke-width:2; stroke-opacity:0.1; fill:none\" points=\"\n",
       "  153.898,1446.71 2352.76,1446.71 \n",
       "  \"/>\n",
       "<polyline clip-path=\"url(#clip0102)\" style=\"stroke:#000000; stroke-width:2; stroke-opacity:0.1; fill:none\" points=\"\n",
       "  153.898,1101.75 2352.76,1101.75 \n",
       "  \"/>\n",
       "<polyline clip-path=\"url(#clip0102)\" style=\"stroke:#000000; stroke-width:2; stroke-opacity:0.1; fill:none\" points=\"\n",
       "  153.898,756.785 2352.76,756.785 \n",
       "  \"/>\n",
       "<polyline clip-path=\"url(#clip0102)\" style=\"stroke:#000000; stroke-width:2; stroke-opacity:0.1; fill:none\" points=\"\n",
       "  153.898,411.821 2352.76,411.821 \n",
       "  \"/>\n",
       "<polyline clip-path=\"url(#clip0102)\" style=\"stroke:#000000; stroke-width:2; stroke-opacity:0.1; fill:none\" points=\"\n",
       "  153.898,66.8565 2352.76,66.8565 \n",
       "  \"/>\n",
       "<polyline clip-path=\"url(#clip0100)\" style=\"stroke:#000000; stroke-width:4; stroke-opacity:1; fill:none\" points=\"\n",
       "  153.898,1487.47 2352.76,1487.47 \n",
       "  \"/>\n",
       "<polyline clip-path=\"url(#clip0100)\" style=\"stroke:#000000; stroke-width:4; stroke-opacity:1; fill:none\" points=\"\n",
       "  153.898,1487.47 153.898,47.2441 \n",
       "  \"/>\n",
       "<polyline clip-path=\"url(#clip0100)\" style=\"stroke:#000000; stroke-width:4; stroke-opacity:1; fill:none\" points=\"\n",
       "  517.579,1487.47 517.579,1465.87 \n",
       "  \"/>\n",
       "<polyline clip-path=\"url(#clip0100)\" style=\"stroke:#000000; stroke-width:4; stroke-opacity:1; fill:none\" points=\"\n",
       "  983.865,1487.47 983.865,1465.87 \n",
       "  \"/>\n",
       "<polyline clip-path=\"url(#clip0100)\" style=\"stroke:#000000; stroke-width:4; stroke-opacity:1; fill:none\" points=\"\n",
       "  1450.15,1487.47 1450.15,1465.87 \n",
       "  \"/>\n",
       "<polyline clip-path=\"url(#clip0100)\" style=\"stroke:#000000; stroke-width:4; stroke-opacity:1; fill:none\" points=\"\n",
       "  1916.44,1487.47 1916.44,1465.87 \n",
       "  \"/>\n",
       "<polyline clip-path=\"url(#clip0100)\" style=\"stroke:#000000; stroke-width:4; stroke-opacity:1; fill:none\" points=\"\n",
       "  153.898,1446.71 186.881,1446.71 \n",
       "  \"/>\n",
       "<polyline clip-path=\"url(#clip0100)\" style=\"stroke:#000000; stroke-width:4; stroke-opacity:1; fill:none\" points=\"\n",
       "  153.898,1101.75 186.881,1101.75 \n",
       "  \"/>\n",
       "<polyline clip-path=\"url(#clip0100)\" style=\"stroke:#000000; stroke-width:4; stroke-opacity:1; fill:none\" points=\"\n",
       "  153.898,756.785 186.881,756.785 \n",
       "  \"/>\n",
       "<polyline clip-path=\"url(#clip0100)\" style=\"stroke:#000000; stroke-width:4; stroke-opacity:1; fill:none\" points=\"\n",
       "  153.898,411.821 186.881,411.821 \n",
       "  \"/>\n",
       "<polyline clip-path=\"url(#clip0100)\" style=\"stroke:#000000; stroke-width:4; stroke-opacity:1; fill:none\" points=\"\n",
       "  153.898,66.8565 186.881,66.8565 \n",
       "  \"/>\n",
       "<g clip-path=\"url(#clip0100)\">\n",
       "<text style=\"fill:#000000; fill-opacity:1; font-family:Arial,Helvetica Neue,Helvetica,sans-serif; font-size:48px; text-anchor:middle;\" transform=\"rotate(0, 517.579, 1541.47)\" x=\"517.579\" y=\"1541.47\">5.0</text>\n",
       "</g>\n",
       "<g clip-path=\"url(#clip0100)\">\n",
       "<text style=\"fill:#000000; fill-opacity:1; font-family:Arial,Helvetica Neue,Helvetica,sans-serif; font-size:48px; text-anchor:middle;\" transform=\"rotate(0, 983.865, 1541.47)\" x=\"983.865\" y=\"1541.47\">7.5</text>\n",
       "</g>\n",
       "<g clip-path=\"url(#clip0100)\">\n",
       "<text style=\"fill:#000000; fill-opacity:1; font-family:Arial,Helvetica Neue,Helvetica,sans-serif; font-size:48px; text-anchor:middle;\" transform=\"rotate(0, 1450.15, 1541.47)\" x=\"1450.15\" y=\"1541.47\">10.0</text>\n",
       "</g>\n",
       "<g clip-path=\"url(#clip0100)\">\n",
       "<text style=\"fill:#000000; fill-opacity:1; font-family:Arial,Helvetica Neue,Helvetica,sans-serif; font-size:48px; text-anchor:middle;\" transform=\"rotate(0, 1916.44, 1541.47)\" x=\"1916.44\" y=\"1541.47\">12.5</text>\n",
       "</g>\n",
       "<g clip-path=\"url(#clip0100)\">\n",
       "<text style=\"fill:#000000; fill-opacity:1; font-family:Arial,Helvetica Neue,Helvetica,sans-serif; font-size:48px; text-anchor:end;\" transform=\"rotate(0, 129.898, 1464.21)\" x=\"129.898\" y=\"1464.21\">0.0</text>\n",
       "</g>\n",
       "<g clip-path=\"url(#clip0100)\">\n",
       "<text style=\"fill:#000000; fill-opacity:1; font-family:Arial,Helvetica Neue,Helvetica,sans-serif; font-size:48px; text-anchor:end;\" transform=\"rotate(0, 129.898, 1119.25)\" x=\"129.898\" y=\"1119.25\">0.1</text>\n",
       "</g>\n",
       "<g clip-path=\"url(#clip0100)\">\n",
       "<text style=\"fill:#000000; fill-opacity:1; font-family:Arial,Helvetica Neue,Helvetica,sans-serif; font-size:48px; text-anchor:end;\" transform=\"rotate(0, 129.898, 774.285)\" x=\"129.898\" y=\"774.285\">0.2</text>\n",
       "</g>\n",
       "<g clip-path=\"url(#clip0100)\">\n",
       "<text style=\"fill:#000000; fill-opacity:1; font-family:Arial,Helvetica Neue,Helvetica,sans-serif; font-size:48px; text-anchor:end;\" transform=\"rotate(0, 129.898, 429.321)\" x=\"129.898\" y=\"429.321\">0.3</text>\n",
       "</g>\n",
       "<g clip-path=\"url(#clip0100)\">\n",
       "<text style=\"fill:#000000; fill-opacity:1; font-family:Arial,Helvetica Neue,Helvetica,sans-serif; font-size:48px; text-anchor:end;\" transform=\"rotate(0, 129.898, 84.3565)\" x=\"129.898\" y=\"84.3565\">0.4</text>\n",
       "</g>\n",
       "<polyline clip-path=\"url(#clip0102)\" style=\"stroke:#009af9; stroke-width:4; stroke-opacity:1; fill:none\" points=\"\n",
       "  216.13,1446.71 226.554,1446.71 236.978,1446.69 247.402,1446.65 257.826,1446.5 268.25,1446.13 278.674,1445.26 289.098,1443.44 299.523,1440.03 309.947,1434.26 \n",
       "  320.371,1425.42 330.795,1413.05 341.219,1397.08 351.643,1377.83 362.067,1355.81 372.491,1331.58 382.915,1305.58 393.339,1278.04 403.763,1248.75 414.188,1217.05 \n",
       "  424.612,1181.99 435.036,1142.85 445.46,1099.62 455.884,1052.96 466.308,1003.62 476.732,951.802 487.156,897.034 497.58,838.755 508.004,777.165 518.428,713.679 \n",
       "  528.853,650.684 539.277,590.675 549.701,535.228 560.125,484.373 570.549,436.766 580.973,390.607 591.397,344.781 601.821,299.551 612.245,256.415 622.669,217.263 \n",
       "  633.093,183.385 643.518,154.934 653.942,131.216 664.366,111.668 674.79,96.8262 685.214,88.3701 695.638,88.0053 706.062,95.9579 716.486,110.36 726.91,128.165 \n",
       "  737.334,146.962 747.758,166.282 758.183,187.409 768.607,211.894 779.031,239.979 789.455,270.153 799.879,300.198 810.303,328.83 820.727,356.548 831.151,385.013 \n",
       "  841.575,415.641 851.999,448.699 862.423,483.537 872.848,519.434 883.272,556.084 893.696,593.371 904.12,630.902 914.544,667.945 924.968,703.919 935.392,738.952 \n",
       "  945.816,773.898 956.24,809.632 966.664,846.146 977.089,882.228 987.513,916.076 997.937,946.392 1008.36,973.071 1018.78,996.997 1029.21,1019.19 1039.63,1040.08 \n",
       "  1050.06,1059.46 1060.48,1076.97 1070.91,1092.76 1081.33,1107.55 1091.75,1122.27 1102.18,1137.52 1112.6,1153.41 1123.03,1169.69 1133.45,1186.13 1143.87,1202.59 \n",
       "  1154.3,1219.03 1164.72,1235.32 1175.15,1251.26 1185.57,1266.52 1195.99,1280.64 1206.42,1293.2 1216.84,1303.9 1227.27,1312.84 1237.69,1320.46 1248.11,1327.4 \n",
       "  1258.54,1334.25 1268.96,1341.33 1279.39,1348.61 1289.81,1355.79 1300.24,1362.52 1310.66,1368.57 1321.08,1373.94 1331.51,1378.87 1341.93,1383.65 1352.36,1388.42 \n",
       "  1362.78,1393.13 1373.2,1397.58 1383.63,1401.59 1394.05,1405.16 1404.48,1408.46 1414.9,1411.7 1425.32,1414.97 1435.75,1418.18 1446.17,1421.08 1456.6,1423.47 \n",
       "  1467.02,1425.3 1477.44,1426.66 1487.87,1427.71 1498.29,1428.59 1508.72,1429.42 1519.14,1430.29 1529.57,1431.23 1539.99,1432.21 1550.41,1433.17 1560.84,1434.05 \n",
       "  1571.26,1434.91 1581.69,1435.83 1592.11,1436.87 1602.53,1437.99 1612.96,1439.02 1623.38,1439.74 1633.81,1440.02 1644.23,1439.88 1654.65,1439.52 1665.08,1439.2 \n",
       "  1675.5,1439.13 1685.93,1439.4 1696.35,1439.97 1706.77,1440.67 1717.2,1441.33 1727.62,1441.79 1738.05,1442.04 1748.47,1442.17 1758.9,1442.33 1769.32,1442.63 \n",
       "  1779.74,1443.07 1790.17,1443.57 1800.59,1444 1811.02,1444.25 1821.44,1444.28 1831.86,1444.13 1842.29,1443.92 1852.71,1443.78 1863.14,1443.79 1873.56,1443.95 \n",
       "  1883.98,1444.19 1894.41,1444.43 1904.83,1444.62 1915.26,1444.75 1925.68,1444.85 1936.1,1444.94 1946.53,1445.01 1956.95,1445.05 1967.38,1445.05 1977.8,1445.02 \n",
       "  1988.23,1445.02 1998.65,1445.09 2009.07,1445.25 2019.5,1445.49 2029.92,1445.79 2040.35,1446.08 2050.77,1446.33 2061.19,1446.5 2071.62,1446.61 2082.04,1446.66 \n",
       "  2092.47,1446.68 2102.89,1446.67 2113.31,1446.63 2123.74,1446.54 2134.16,1446.4 2144.59,1446.21 2155.01,1446.02 2165.43,1445.88 2175.86,1445.82 2186.28,1445.88 \n",
       "  2196.71,1446.03 2207.13,1446.22 2217.56,1446.41 2227.98,1446.54 2238.4,1446.63 2248.83,1446.68 2259.25,1446.7 2269.68,1446.71 2280.1,1446.71 2290.52,1446.71 \n",
       "  \n",
       "  \"/>\n",
       "<polygon clip-path=\"url(#clip0100)\" points=\"\n",
       "1989.93,251.724 2280.76,251.724 2280.76,130.764 1989.93,130.764 \n",
       "  \" fill=\"#ffffff\" fill-rule=\"evenodd\" fill-opacity=\"1\"/>\n",
       "<polyline clip-path=\"url(#clip0100)\" style=\"stroke:#000000; stroke-width:4; stroke-opacity:1; fill:none\" points=\"\n",
       "  1989.93,251.724 2280.76,251.724 2280.76,130.764 1989.93,130.764 1989.93,251.724 \n",
       "  \"/>\n",
       "<polyline clip-path=\"url(#clip0100)\" style=\"stroke:#009af9; stroke-width:4; stroke-opacity:1; fill:none\" points=\"\n",
       "  2013.93,191.244 2157.93,191.244 \n",
       "  \"/>\n",
       "<g clip-path=\"url(#clip0100)\">\n",
       "<text style=\"fill:#000000; fill-opacity:1; font-family:Arial,Helvetica Neue,Helvetica,sans-serif; font-size:48px; text-anchor:start;\" transform=\"rotate(0, 2181.93, 208.744)\" x=\"2181.93\" y=\"208.744\">y1</text>\n",
       "</g>\n",
       "</svg>\n"
      ],
      "image/svg+xml": [
       "<?xml version=\"1.0\" encoding=\"utf-8\"?>\n",
       "<svg xmlns=\"http://www.w3.org/2000/svg\" xmlns:xlink=\"http://www.w3.org/1999/xlink\" width=\"600\" height=\"400\" viewBox=\"0 0 2400 1600\">\n",
       "<defs>\n",
       "  <clipPath id=\"clip9800\">\n",
       "    <rect x=\"0\" y=\"0\" width=\"2400\" height=\"1600\"/>\n",
       "  </clipPath>\n",
       "</defs>\n",
       "<polygon clip-path=\"url(#clip9800)\" points=\"\n",
       "0,1600 2400,1600 2400,0 0,0 \n",
       "  \" fill=\"#ffffff\" fill-rule=\"evenodd\" fill-opacity=\"1\"/>\n",
       "<defs>\n",
       "  <clipPath id=\"clip9801\">\n",
       "    <rect x=\"480\" y=\"0\" width=\"1681\" height=\"1600\"/>\n",
       "  </clipPath>\n",
       "</defs>\n",
       "<polygon clip-path=\"url(#clip9800)\" points=\"\n",
       "153.898,1487.47 2352.76,1487.47 2352.76,47.2441 153.898,47.2441 \n",
       "  \" fill=\"#ffffff\" fill-rule=\"evenodd\" fill-opacity=\"1\"/>\n",
       "<defs>\n",
       "  <clipPath id=\"clip9802\">\n",
       "    <rect x=\"153\" y=\"47\" width=\"2200\" height=\"1441\"/>\n",
       "  </clipPath>\n",
       "</defs>\n",
       "<polyline clip-path=\"url(#clip9802)\" style=\"stroke:#000000; stroke-width:2; stroke-opacity:0.1; fill:none\" points=\"\n",
       "  517.579,1487.47 517.579,47.2441 \n",
       "  \"/>\n",
       "<polyline clip-path=\"url(#clip9802)\" style=\"stroke:#000000; stroke-width:2; stroke-opacity:0.1; fill:none\" points=\"\n",
       "  983.865,1487.47 983.865,47.2441 \n",
       "  \"/>\n",
       "<polyline clip-path=\"url(#clip9802)\" style=\"stroke:#000000; stroke-width:2; stroke-opacity:0.1; fill:none\" points=\"\n",
       "  1450.15,1487.47 1450.15,47.2441 \n",
       "  \"/>\n",
       "<polyline clip-path=\"url(#clip9802)\" style=\"stroke:#000000; stroke-width:2; stroke-opacity:0.1; fill:none\" points=\"\n",
       "  1916.44,1487.47 1916.44,47.2441 \n",
       "  \"/>\n",
       "<polyline clip-path=\"url(#clip9802)\" style=\"stroke:#000000; stroke-width:2; stroke-opacity:0.1; fill:none\" points=\"\n",
       "  153.898,1446.71 2352.76,1446.71 \n",
       "  \"/>\n",
       "<polyline clip-path=\"url(#clip9802)\" style=\"stroke:#000000; stroke-width:2; stroke-opacity:0.1; fill:none\" points=\"\n",
       "  153.898,1101.75 2352.76,1101.75 \n",
       "  \"/>\n",
       "<polyline clip-path=\"url(#clip9802)\" style=\"stroke:#000000; stroke-width:2; stroke-opacity:0.1; fill:none\" points=\"\n",
       "  153.898,756.785 2352.76,756.785 \n",
       "  \"/>\n",
       "<polyline clip-path=\"url(#clip9802)\" style=\"stroke:#000000; stroke-width:2; stroke-opacity:0.1; fill:none\" points=\"\n",
       "  153.898,411.821 2352.76,411.821 \n",
       "  \"/>\n",
       "<polyline clip-path=\"url(#clip9802)\" style=\"stroke:#000000; stroke-width:2; stroke-opacity:0.1; fill:none\" points=\"\n",
       "  153.898,66.8565 2352.76,66.8565 \n",
       "  \"/>\n",
       "<polyline clip-path=\"url(#clip9800)\" style=\"stroke:#000000; stroke-width:4; stroke-opacity:1; fill:none\" points=\"\n",
       "  153.898,1487.47 2352.76,1487.47 \n",
       "  \"/>\n",
       "<polyline clip-path=\"url(#clip9800)\" style=\"stroke:#000000; stroke-width:4; stroke-opacity:1; fill:none\" points=\"\n",
       "  153.898,1487.47 153.898,47.2441 \n",
       "  \"/>\n",
       "<polyline clip-path=\"url(#clip9800)\" style=\"stroke:#000000; stroke-width:4; stroke-opacity:1; fill:none\" points=\"\n",
       "  517.579,1487.47 517.579,1465.87 \n",
       "  \"/>\n",
       "<polyline clip-path=\"url(#clip9800)\" style=\"stroke:#000000; stroke-width:4; stroke-opacity:1; fill:none\" points=\"\n",
       "  983.865,1487.47 983.865,1465.87 \n",
       "  \"/>\n",
       "<polyline clip-path=\"url(#clip9800)\" style=\"stroke:#000000; stroke-width:4; stroke-opacity:1; fill:none\" points=\"\n",
       "  1450.15,1487.47 1450.15,1465.87 \n",
       "  \"/>\n",
       "<polyline clip-path=\"url(#clip9800)\" style=\"stroke:#000000; stroke-width:4; stroke-opacity:1; fill:none\" points=\"\n",
       "  1916.44,1487.47 1916.44,1465.87 \n",
       "  \"/>\n",
       "<polyline clip-path=\"url(#clip9800)\" style=\"stroke:#000000; stroke-width:4; stroke-opacity:1; fill:none\" points=\"\n",
       "  153.898,1446.71 186.881,1446.71 \n",
       "  \"/>\n",
       "<polyline clip-path=\"url(#clip9800)\" style=\"stroke:#000000; stroke-width:4; stroke-opacity:1; fill:none\" points=\"\n",
       "  153.898,1101.75 186.881,1101.75 \n",
       "  \"/>\n",
       "<polyline clip-path=\"url(#clip9800)\" style=\"stroke:#000000; stroke-width:4; stroke-opacity:1; fill:none\" points=\"\n",
       "  153.898,756.785 186.881,756.785 \n",
       "  \"/>\n",
       "<polyline clip-path=\"url(#clip9800)\" style=\"stroke:#000000; stroke-width:4; stroke-opacity:1; fill:none\" points=\"\n",
       "  153.898,411.821 186.881,411.821 \n",
       "  \"/>\n",
       "<polyline clip-path=\"url(#clip9800)\" style=\"stroke:#000000; stroke-width:4; stroke-opacity:1; fill:none\" points=\"\n",
       "  153.898,66.8565 186.881,66.8565 \n",
       "  \"/>\n",
       "<g clip-path=\"url(#clip9800)\">\n",
       "<text style=\"fill:#000000; fill-opacity:1; font-family:Arial,Helvetica Neue,Helvetica,sans-serif; font-size:48px; text-anchor:middle;\" transform=\"rotate(0, 517.579, 1541.47)\" x=\"517.579\" y=\"1541.47\">5.0</text>\n",
       "</g>\n",
       "<g clip-path=\"url(#clip9800)\">\n",
       "<text style=\"fill:#000000; fill-opacity:1; font-family:Arial,Helvetica Neue,Helvetica,sans-serif; font-size:48px; text-anchor:middle;\" transform=\"rotate(0, 983.865, 1541.47)\" x=\"983.865\" y=\"1541.47\">7.5</text>\n",
       "</g>\n",
       "<g clip-path=\"url(#clip9800)\">\n",
       "<text style=\"fill:#000000; fill-opacity:1; font-family:Arial,Helvetica Neue,Helvetica,sans-serif; font-size:48px; text-anchor:middle;\" transform=\"rotate(0, 1450.15, 1541.47)\" x=\"1450.15\" y=\"1541.47\">10.0</text>\n",
       "</g>\n",
       "<g clip-path=\"url(#clip9800)\">\n",
       "<text style=\"fill:#000000; fill-opacity:1; font-family:Arial,Helvetica Neue,Helvetica,sans-serif; font-size:48px; text-anchor:middle;\" transform=\"rotate(0, 1916.44, 1541.47)\" x=\"1916.44\" y=\"1541.47\">12.5</text>\n",
       "</g>\n",
       "<g clip-path=\"url(#clip9800)\">\n",
       "<text style=\"fill:#000000; fill-opacity:1; font-family:Arial,Helvetica Neue,Helvetica,sans-serif; font-size:48px; text-anchor:end;\" transform=\"rotate(0, 129.898, 1464.21)\" x=\"129.898\" y=\"1464.21\">0.0</text>\n",
       "</g>\n",
       "<g clip-path=\"url(#clip9800)\">\n",
       "<text style=\"fill:#000000; fill-opacity:1; font-family:Arial,Helvetica Neue,Helvetica,sans-serif; font-size:48px; text-anchor:end;\" transform=\"rotate(0, 129.898, 1119.25)\" x=\"129.898\" y=\"1119.25\">0.1</text>\n",
       "</g>\n",
       "<g clip-path=\"url(#clip9800)\">\n",
       "<text style=\"fill:#000000; fill-opacity:1; font-family:Arial,Helvetica Neue,Helvetica,sans-serif; font-size:48px; text-anchor:end;\" transform=\"rotate(0, 129.898, 774.285)\" x=\"129.898\" y=\"774.285\">0.2</text>\n",
       "</g>\n",
       "<g clip-path=\"url(#clip9800)\">\n",
       "<text style=\"fill:#000000; fill-opacity:1; font-family:Arial,Helvetica Neue,Helvetica,sans-serif; font-size:48px; text-anchor:end;\" transform=\"rotate(0, 129.898, 429.321)\" x=\"129.898\" y=\"429.321\">0.3</text>\n",
       "</g>\n",
       "<g clip-path=\"url(#clip9800)\">\n",
       "<text style=\"fill:#000000; fill-opacity:1; font-family:Arial,Helvetica Neue,Helvetica,sans-serif; font-size:48px; text-anchor:end;\" transform=\"rotate(0, 129.898, 84.3565)\" x=\"129.898\" y=\"84.3565\">0.4</text>\n",
       "</g>\n",
       "<polyline clip-path=\"url(#clip9802)\" style=\"stroke:#009af9; stroke-width:4; stroke-opacity:1; fill:none\" points=\"\n",
       "  216.13,1446.71 226.554,1446.71 236.978,1446.69 247.402,1446.65 257.826,1446.5 268.25,1446.13 278.674,1445.26 289.098,1443.44 299.523,1440.03 309.947,1434.26 \n",
       "  320.371,1425.42 330.795,1413.05 341.219,1397.08 351.643,1377.83 362.067,1355.81 372.491,1331.58 382.915,1305.58 393.339,1278.04 403.763,1248.75 414.188,1217.05 \n",
       "  424.612,1181.99 435.036,1142.85 445.46,1099.62 455.884,1052.96 466.308,1003.62 476.732,951.802 487.156,897.034 497.58,838.755 508.004,777.165 518.428,713.679 \n",
       "  528.853,650.684 539.277,590.675 549.701,535.228 560.125,484.373 570.549,436.766 580.973,390.607 591.397,344.781 601.821,299.551 612.245,256.415 622.669,217.263 \n",
       "  633.093,183.385 643.518,154.934 653.942,131.216 664.366,111.668 674.79,96.8262 685.214,88.3701 695.638,88.0053 706.062,95.9579 716.486,110.36 726.91,128.165 \n",
       "  737.334,146.962 747.758,166.282 758.183,187.409 768.607,211.894 779.031,239.979 789.455,270.153 799.879,300.198 810.303,328.83 820.727,356.548 831.151,385.013 \n",
       "  841.575,415.641 851.999,448.699 862.423,483.537 872.848,519.434 883.272,556.084 893.696,593.371 904.12,630.902 914.544,667.945 924.968,703.919 935.392,738.952 \n",
       "  945.816,773.898 956.24,809.632 966.664,846.146 977.089,882.228 987.513,916.076 997.937,946.392 1008.36,973.071 1018.78,996.997 1029.21,1019.19 1039.63,1040.08 \n",
       "  1050.06,1059.46 1060.48,1076.97 1070.91,1092.76 1081.33,1107.55 1091.75,1122.27 1102.18,1137.52 1112.6,1153.41 1123.03,1169.69 1133.45,1186.13 1143.87,1202.59 \n",
       "  1154.3,1219.03 1164.72,1235.32 1175.15,1251.26 1185.57,1266.52 1195.99,1280.64 1206.42,1293.2 1216.84,1303.9 1227.27,1312.84 1237.69,1320.46 1248.11,1327.4 \n",
       "  1258.54,1334.25 1268.96,1341.33 1279.39,1348.61 1289.81,1355.79 1300.24,1362.52 1310.66,1368.57 1321.08,1373.94 1331.51,1378.87 1341.93,1383.65 1352.36,1388.42 \n",
       "  1362.78,1393.13 1373.2,1397.58 1383.63,1401.59 1394.05,1405.16 1404.48,1408.46 1414.9,1411.7 1425.32,1414.97 1435.75,1418.18 1446.17,1421.08 1456.6,1423.47 \n",
       "  1467.02,1425.3 1477.44,1426.66 1487.87,1427.71 1498.29,1428.59 1508.72,1429.42 1519.14,1430.29 1529.57,1431.23 1539.99,1432.21 1550.41,1433.17 1560.84,1434.05 \n",
       "  1571.26,1434.91 1581.69,1435.83 1592.11,1436.87 1602.53,1437.99 1612.96,1439.02 1623.38,1439.74 1633.81,1440.02 1644.23,1439.88 1654.65,1439.52 1665.08,1439.2 \n",
       "  1675.5,1439.13 1685.93,1439.4 1696.35,1439.97 1706.77,1440.67 1717.2,1441.33 1727.62,1441.79 1738.05,1442.04 1748.47,1442.17 1758.9,1442.33 1769.32,1442.63 \n",
       "  1779.74,1443.07 1790.17,1443.57 1800.59,1444 1811.02,1444.25 1821.44,1444.28 1831.86,1444.13 1842.29,1443.92 1852.71,1443.78 1863.14,1443.79 1873.56,1443.95 \n",
       "  1883.98,1444.19 1894.41,1444.43 1904.83,1444.62 1915.26,1444.75 1925.68,1444.85 1936.1,1444.94 1946.53,1445.01 1956.95,1445.05 1967.38,1445.05 1977.8,1445.02 \n",
       "  1988.23,1445.02 1998.65,1445.09 2009.07,1445.25 2019.5,1445.49 2029.92,1445.79 2040.35,1446.08 2050.77,1446.33 2061.19,1446.5 2071.62,1446.61 2082.04,1446.66 \n",
       "  2092.47,1446.68 2102.89,1446.67 2113.31,1446.63 2123.74,1446.54 2134.16,1446.4 2144.59,1446.21 2155.01,1446.02 2165.43,1445.88 2175.86,1445.82 2186.28,1445.88 \n",
       "  2196.71,1446.03 2207.13,1446.22 2217.56,1446.41 2227.98,1446.54 2238.4,1446.63 2248.83,1446.68 2259.25,1446.7 2269.68,1446.71 2280.1,1446.71 2290.52,1446.71 \n",
       "  \n",
       "  \"/>\n",
       "<polygon clip-path=\"url(#clip9800)\" points=\"\n",
       "1989.93,251.724 2280.76,251.724 2280.76,130.764 1989.93,130.764 \n",
       "  \" fill=\"#ffffff\" fill-rule=\"evenodd\" fill-opacity=\"1\"/>\n",
       "<polyline clip-path=\"url(#clip9800)\" style=\"stroke:#000000; stroke-width:4; stroke-opacity:1; fill:none\" points=\"\n",
       "  1989.93,251.724 2280.76,251.724 2280.76,130.764 1989.93,130.764 1989.93,251.724 \n",
       "  \"/>\n",
       "<polyline clip-path=\"url(#clip9800)\" style=\"stroke:#009af9; stroke-width:4; stroke-opacity:1; fill:none\" points=\"\n",
       "  2013.93,191.244 2157.93,191.244 \n",
       "  \"/>\n",
       "<g clip-path=\"url(#clip9800)\">\n",
       "<text style=\"fill:#000000; fill-opacity:1; font-family:Arial,Helvetica Neue,Helvetica,sans-serif; font-size:48px; text-anchor:start;\" transform=\"rotate(0, 2181.93, 208.744)\" x=\"2181.93\" y=\"208.744\">y1</text>\n",
       "</g>\n",
       "</svg>\n"
      ]
     },
     "metadata": {},
     "execution_count": 8
    }
   ],
   "cell_type": "code",
   "source": [
    "density(samples[:sigma])"
   ],
   "metadata": {},
   "execution_count": 8
  },
  {
   "outputs": [],
   "cell_type": "markdown",
   "source": [
    "End of `clip-21-23.jl`"
   ],
   "metadata": {}
  },
  {
   "outputs": [],
   "cell_type": "markdown",
   "source": [
    "*This notebook was generated using [Literate.jl](https://github.com/fredrikekre/Literate.jl).*"
   ],
   "metadata": {}
  }
 ],
 "nbformat_minor": 3,
 "metadata": {
  "language_info": {
   "file_extension": ".jl",
   "mimetype": "application/julia",
   "name": "julia",
   "version": "1.3.0-DEV.565"
  },
  "kernelspec": {
   "name": "julia-1.3",
   "display_name": "Julia 1.3.0-DEV.565",
   "language": "julia"
  }
 },
 "nbformat": 4
}
