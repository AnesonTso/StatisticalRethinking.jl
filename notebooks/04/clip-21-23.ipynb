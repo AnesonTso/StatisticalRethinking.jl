{
 "cells": [
  {
   "outputs": [],
   "cell_type": "markdown",
   "source": [
    "Load Julia packages (libraries) needed  for the snippets in chapter 0"
   ],
   "metadata": {}
  },
  {
   "outputs": [],
   "cell_type": "code",
   "source": [
    "using StatisticalRethinking, CmdStan, StanMCMCChains\n",
    "gr(size=(500,500));"
   ],
   "metadata": {},
   "execution_count": 1
  },
  {
   "outputs": [],
   "cell_type": "markdown",
   "source": [
    "CmdStan uses a tmp directory to store the output of cmdstan"
   ],
   "metadata": {}
  },
  {
   "outputs": [],
   "cell_type": "code",
   "source": [
    "ProjDir = rel_path(\"..\", \"scripts\", \"04\")\n",
    "cd(ProjDir)"
   ],
   "metadata": {},
   "execution_count": 2
  },
  {
   "outputs": [],
   "cell_type": "markdown",
   "source": [
    "CmdStan uses a tmp directory to store the output of cmdstan"
   ],
   "metadata": {}
  },
  {
   "outputs": [],
   "cell_type": "code",
   "source": [
    "ProjDir = rel_path(\"..\", \"scripts\", \"04\")\n",
    "cd(ProjDir)"
   ],
   "metadata": {},
   "execution_count": 3
  },
  {
   "outputs": [
    {
     "output_type": "execute_result",
     "data": {
      "text/plain": "5×4 DataFrame\n│ Row │ height   │ weight   │ age      │ male   │\n│     │ \u001b[90mFloat64⍰\u001b[39m │ \u001b[90mFloat64⍰\u001b[39m │ \u001b[90mFloat64⍰\u001b[39m │ \u001b[90mInt64⍰\u001b[39m │\n├─────┼──────────┼──────────┼──────────┼────────┤\n│ 1   │ 151.765  │ 47.8256  │ 63.0     │ 1      │\n│ 2   │ 139.7    │ 36.4858  │ 63.0     │ 0      │\n│ 3   │ 136.525  │ 31.8648  │ 65.0     │ 0      │\n│ 4   │ 156.845  │ 53.0419  │ 41.0     │ 1      │\n│ 5   │ 145.415  │ 41.2769  │ 51.0     │ 0      │",
      "text/html": [
       "<table class=\"data-frame\"><thead><tr><th></th><th>height</th><th>weight</th><th>age</th><th>male</th></tr><tr><th></th><th>Float64⍰</th><th>Float64⍰</th><th>Float64⍰</th><th>Int64⍰</th></tr></thead><tbody><p>5 rows × 4 columns</p><tr><th>1</th><td>151.765</td><td>47.8256</td><td>63.0</td><td>1</td></tr><tr><th>2</th><td>139.7</td><td>36.4858</td><td>63.0</td><td>0</td></tr><tr><th>3</th><td>136.525</td><td>31.8648</td><td>65.0</td><td>0</td></tr><tr><th>4</th><td>156.845</td><td>53.0419</td><td>41.0</td><td>1</td></tr><tr><th>5</th><td>145.415</td><td>41.2769</td><td>51.0</td><td>0</td></tr></tbody></table>"
      ]
     },
     "metadata": {},
     "execution_count": 4
    }
   ],
   "cell_type": "code",
   "source": [
    "howell1 = CSV.read(rel_path(\"..\", \"data\", \"Howell1.csv\"), delim=';')\n",
    "df = convert(DataFrame, howell1);\n",
    "df2 = filter(row -> row[:age] >= 18, df);\n",
    "first(df2, 5)"
   ],
   "metadata": {},
   "execution_count": 4
  },
  {
   "outputs": [],
   "cell_type": "markdown",
   "source": [
    "### Snippet 4.21"
   ],
   "metadata": {}
  },
  {
   "outputs": [],
   "cell_type": "markdown",
   "source": [
    "Sample 20 random heights"
   ],
   "metadata": {}
  },
  {
   "outputs": [],
   "cell_type": "code",
   "source": [
    "n = size(df2, 1)\n",
    "selected_ind = sample(1:n, 20, replace=false);\n",
    "df3 = df2[selected_ind, :];"
   ],
   "metadata": {},
   "execution_count": 5
  },
  {
   "outputs": [],
   "cell_type": "markdown",
   "source": [
    "### Snippet 4.22"
   ],
   "metadata": {}
  },
  {
   "outputs": [],
   "cell_type": "markdown",
   "source": [
    "Generate approximate probabilities"
   ],
   "metadata": {}
  },
  {
   "outputs": [
    {
     "output_type": "execute_result",
     "data": {
      "text/plain": "10×5 DataFrame\n│ Row │ mu      │ sigma   │ ll       │ prod     │ prob        │\n│     │ \u001b[90mFloat64\u001b[39m │ \u001b[90mFloat64\u001b[39m │ \u001b[90mFloat64\u001b[39m  │ \u001b[90mFloat64\u001b[39m  │ \u001b[90mFloat64\u001b[39m     │\n├─────┼─────────┼─────────┼──────────┼──────────┼─────────────┤\n│ 1   │ 140.0   │ 4.0     │ -223.12  │ -232.752 │ 1.73314e-66 │\n│ 2   │ 140.151 │ 4.0     │ -220.481 │ -230.098 │ 2.46213e-65 │\n│ 3   │ 140.302 │ 4.0     │ -217.87  │ -227.473 │ 3.39959e-64 │\n│ 4   │ 140.452 │ 4.0     │ -215.287 │ -224.876 │ 4.56226e-63 │\n│ 5   │ 140.603 │ 4.0     │ -212.733 │ -222.308 │ 5.95073e-62 │\n│ 6   │ 140.754 │ 4.0     │ -210.208 │ -219.768 │ 7.54395e-61 │\n│ 7   │ 140.905 │ 4.0     │ -207.71  │ -217.257 │ 9.29533e-60 │\n│ 8   │ 141.055 │ 4.0     │ -205.241 │ -214.774 │ 1.11319e-58 │\n│ 9   │ 141.206 │ 4.0     │ -202.801 │ -212.32  │ 1.29572e-57 │\n│ 10  │ 141.357 │ 4.0     │ -200.389 │ -209.894 │ 1.46585e-56 │",
      "text/html": [
       "<table class=\"data-frame\"><thead><tr><th></th><th>mu</th><th>sigma</th><th>ll</th><th>prod</th><th>prob</th></tr><tr><th></th><th>Float64</th><th>Float64</th><th>Float64</th><th>Float64</th><th>Float64</th></tr></thead><tbody><p>10 rows × 5 columns</p><tr><th>1</th><td>140.0</td><td>4.0</td><td>-223.12</td><td>-232.752</td><td>1.73314e-66</td></tr><tr><th>2</th><td>140.151</td><td>4.0</td><td>-220.481</td><td>-230.098</td><td>2.46213e-65</td></tr><tr><th>3</th><td>140.302</td><td>4.0</td><td>-217.87</td><td>-227.473</td><td>3.39959e-64</td></tr><tr><th>4</th><td>140.452</td><td>4.0</td><td>-215.287</td><td>-224.876</td><td>4.56226e-63</td></tr><tr><th>5</th><td>140.603</td><td>4.0</td><td>-212.733</td><td>-222.308</td><td>5.95073e-62</td></tr><tr><th>6</th><td>140.754</td><td>4.0</td><td>-210.208</td><td>-219.768</td><td>7.54395e-61</td></tr><tr><th>7</th><td>140.905</td><td>4.0</td><td>-207.71</td><td>-217.257</td><td>9.29533e-60</td></tr><tr><th>8</th><td>141.055</td><td>4.0</td><td>-205.241</td><td>-214.774</td><td>1.11319e-58</td></tr><tr><th>9</th><td>141.206</td><td>4.0</td><td>-202.801</td><td>-212.32</td><td>1.29572e-57</td></tr><tr><th>10</th><td>141.357</td><td>4.0</td><td>-200.389</td><td>-209.894</td><td>1.46585e-56</td></tr></tbody></table>"
      ]
     },
     "metadata": {},
     "execution_count": 6
    }
   ],
   "cell_type": "code",
   "source": [
    "struct Post\n",
    "  mu::Float64\n",
    "  sigma::Float64\n",
    "  ll:: Float64\n",
    "  prod::Float64\n",
    "  prob::Float64\n",
    "end\n",
    "\n",
    "mu_list = repeat(range(140, 170, length=200), 200);\n",
    "sigma_list = repeat(range(4, 20, length=200), inner=200);\n",
    "\n",
    "ll = zeros(40000);\n",
    "for i in 1:40000\n",
    "    d1 = Normal(mu_list[i], sigma_list[i])\n",
    "    ll[i] = sum(log.(pdf.(d1, df3[:height])))\n",
    "end\n",
    "\n",
    "d2 = Normal(178.0, 20.0)\n",
    "d3 = Uniform(0, 50)\n",
    "prod = ll + log.(pdf.(d2, mu_list)) + log.(pdf.(d3, sigma_list))\n",
    "prob = exp.(prod .- maximum(prod))\n",
    "post = DataFrame(mu=mu_list, sigma=sigma_list, ll=ll, prod=prod, prob=prob)\n",
    "first(post, 10)"
   ],
   "metadata": {},
   "execution_count": 6
  },
  {
   "outputs": [],
   "cell_type": "markdown",
   "source": [
    "Sample post"
   ],
   "metadata": {}
  },
  {
   "outputs": [
    {
     "output_type": "execute_result",
     "data": {
      "text/plain": "10000×5 DataFrame\n│ Row   │ mu      │ sigma   │ ll       │ prod     │ prob      │\n│       │ \u001b[90mFloat64\u001b[39m │ \u001b[90mFloat64\u001b[39m │ \u001b[90mFloat64\u001b[39m  │ \u001b[90mFloat64\u001b[39m  │ \u001b[90mFloat64\u001b[39m   │\n├───────┼─────────┼─────────┼──────────┼──────────┼───────────┤\n│ 1     │ 150.553 │ 10.6734 │ -74.2822 │ -83.0506 │ 0.179217  │\n│ 2     │ 152.211 │ 7.45729 │ -74.4641 │ -83.1221 │ 0.166844  │\n│ 3     │ 152.211 │ 9.70854 │ -73.2208 │ -81.8788 │ 0.578448  │\n│ 4     │ 151.457 │ 10.4322 │ -73.7135 │ -82.4208 │ 0.33642   │\n│ 5     │ 148.894 │ 10.593  │ -75.5493 │ -84.435  │ 0.0448908 │\n│ 6     │ 154.02  │ 7.53769 │ -73.7259 │ -82.2714 │ 0.390637  │\n│ 7     │ 154.925 │ 9.46734 │ -72.8906 │ -81.3829 │ 0.949813  │\n⋮\n│ 9993  │ 153.719 │ 11.0754 │ -73.4079 │ -81.9715 │ 0.527242  │\n│ 9994  │ 152.965 │ 11.799  │ -73.9293 │ -82.5394 │ 0.298795  │\n│ 9995  │ 152.814 │ 10.4322 │ -73.2283 │ -81.8479 │ 0.59664   │\n│ 9996  │ 154.925 │ 7.61809 │ -73.746  │ -82.2383 │ 0.403785  │\n│ 9997  │ 154.171 │ 12.201  │ -74.1149 │ -82.6514 │ 0.26715   │\n│ 9998  │ 154.322 │ 10.191  │ -72.9921 │ -81.5196 │ 0.828464  │\n│ 9999  │ 156.432 │ 10.1106 │ -73.4992 │ -81.9073 │ 0.562208  │\n│ 10000 │ 154.774 │ 9.06533 │ -72.8609 │ -81.3619 │ 0.969986  │",
      "text/html": [
       "<table class=\"data-frame\"><thead><tr><th></th><th>mu</th><th>sigma</th><th>ll</th><th>prod</th><th>prob</th></tr><tr><th></th><th>Float64</th><th>Float64</th><th>Float64</th><th>Float64</th><th>Float64</th></tr></thead><tbody><p>10,000 rows × 5 columns</p><tr><th>1</th><td>150.553</td><td>10.6734</td><td>-74.2822</td><td>-83.0506</td><td>0.179217</td></tr><tr><th>2</th><td>152.211</td><td>7.45729</td><td>-74.4641</td><td>-83.1221</td><td>0.166844</td></tr><tr><th>3</th><td>152.211</td><td>9.70854</td><td>-73.2208</td><td>-81.8788</td><td>0.578448</td></tr><tr><th>4</th><td>151.457</td><td>10.4322</td><td>-73.7135</td><td>-82.4208</td><td>0.33642</td></tr><tr><th>5</th><td>148.894</td><td>10.593</td><td>-75.5493</td><td>-84.435</td><td>0.0448908</td></tr><tr><th>6</th><td>154.02</td><td>7.53769</td><td>-73.7259</td><td>-82.2714</td><td>0.390637</td></tr><tr><th>7</th><td>154.925</td><td>9.46734</td><td>-72.8906</td><td>-81.3829</td><td>0.949813</td></tr><tr><th>8</th><td>155.98</td><td>10.6734</td><td>-73.5053</td><td>-81.9381</td><td>0.545153</td></tr><tr><th>9</th><td>155.075</td><td>11.3166</td><td>-73.6131</td><td>-82.0967</td><td>0.465207</td></tr><tr><th>10</th><td>159.749</td><td>9.70854</td><td>-76.2568</td><td>-84.4999</td><td>0.0420691</td></tr><tr><th>11</th><td>157.94</td><td>10.6734</td><td>-74.4956</td><td>-82.8253</td><td>0.224507</td></tr><tr><th>12</th><td>157.789</td><td>11.0754</td><td>-74.5175</td><td>-82.8548</td><td>0.21797</td></tr><tr><th>13</th><td>157.035</td><td>12.603</td><td>-74.9537</td><td>-83.3298</td><td>0.135552</td></tr><tr><th>14</th><td>156.432</td><td>8.98492</td><td>-73.4946</td><td>-81.9027</td><td>0.564802</td></tr><tr><th>15</th><td>154.171</td><td>12.2814</td><td>-74.1718</td><td>-82.7083</td><td>0.252373</td></tr><tr><th>16</th><td>154.472</td><td>10.2714</td><td>-73.0307</td><td>-81.5493</td><td>0.804242</td></tr><tr><th>17</th><td>155.829</td><td>10.9146</td><td>-73.5664</td><td>-82.0076</td><td>0.508581</td></tr><tr><th>18</th><td>152.211</td><td>11.4774</td><td>-73.8993</td><td>-82.5573</td><td>0.293495</td></tr><tr><th>19</th><td>157.487</td><td>11.3166</td><td>-74.4417</td><td>-82.7944</td><td>0.23156</td></tr><tr><th>20</th><td>154.472</td><td>10.191</td><td>-73.0012</td><td>-81.5199</td><td>0.828251</td></tr><tr><th>21</th><td>155.829</td><td>8.50251</td><td>-73.3566</td><td>-81.7977</td><td>0.627354</td></tr><tr><th>22</th><td>155.829</td><td>9.14573</td><td>-73.1634</td><td>-81.6045</td><td>0.761058</td></tr><tr><th>23</th><td>148.894</td><td>11.9598</td><td>-75.8286</td><td>-84.7142</td><td>0.0339524</td></tr><tr><th>24</th><td>154.774</td><td>10.593</td><td>-73.1941</td><td>-81.6951</td><td>0.695111</td></tr><tr><th>&vellip;</th><td>&vellip;</td><td>&vellip;</td><td>&vellip;</td><td>&vellip;</td><td>&vellip;</td></tr></tbody></table>"
      ]
     },
     "metadata": {},
     "execution_count": 7
    }
   ],
   "cell_type": "code",
   "source": [
    "samples = post[sample(1:size(post, 1), Weights(post[:prob]), 10000, replace=true), :]"
   ],
   "metadata": {},
   "execution_count": 7
  },
  {
   "outputs": [],
   "cell_type": "markdown",
   "source": [
    "### Snippet 4.23"
   ],
   "metadata": {}
  },
  {
   "outputs": [],
   "cell_type": "markdown",
   "source": [
    "Density of sigma"
   ],
   "metadata": {}
  },
  {
   "outputs": [
    {
     "output_type": "execute_result",
     "data": {
      "text/plain": "Plot{Plots.GRBackend() n=1}",
      "image/png": "[encoded data removed]",
      "text/html": [
       "<?xml version=\"1.0\" encoding=\"utf-8\"?>\n",
       "<svg xmlns=\"http://www.w3.org/2000/svg\" xmlns:xlink=\"http://www.w3.org/1999/xlink\" width=\"500\" height=\"500\" viewBox=\"0 0 2000 2000\">\n",
       "<defs>\n",
       "  <clipPath id=\"clip8400\">\n",
       "    <rect x=\"0\" y=\"0\" width=\"2000\" height=\"2000\"/>\n",
       "  </clipPath>\n",
       "</defs>\n",
       "<polygon clip-path=\"url(#clip8400)\" points=\"\n",
       "0,2000 2000,2000 2000,0 0,0 \n",
       "  \" fill=\"#ffffff\" fill-rule=\"evenodd\" fill-opacity=\"1\"/>\n",
       "<defs>\n",
       "  <clipPath id=\"clip8401\">\n",
       "    <rect x=\"400\" y=\"200\" width=\"1401\" height=\"1401\"/>\n",
       "  </clipPath>\n",
       "</defs>\n",
       "<polygon clip-path=\"url(#clip8400)\" points=\"\n",
       "188.156,1886.71 1921.26,1886.71 1921.26,47.2441 188.156,47.2441 \n",
       "  \" fill=\"#ffffff\" fill-rule=\"evenodd\" fill-opacity=\"1\"/>\n",
       "<defs>\n",
       "  <clipPath id=\"clip8402\">\n",
       "    <rect x=\"188\" y=\"47\" width=\"1734\" height=\"1840\"/>\n",
       "  </clipPath>\n",
       "</defs>\n",
       "<polyline clip-path=\"url(#clip8402)\" style=\"stroke:#000000; stroke-width:2; stroke-opacity:0.1; fill:none\" points=\"\n",
       "  291.405,1886.71 291.405,47.2441 \n",
       "  \"/>\n",
       "<polyline clip-path=\"url(#clip8402)\" style=\"stroke:#000000; stroke-width:2; stroke-opacity:0.1; fill:none\" points=\"\n",
       "  788.126,1886.71 788.126,47.2441 \n",
       "  \"/>\n",
       "<polyline clip-path=\"url(#clip8402)\" style=\"stroke:#000000; stroke-width:2; stroke-opacity:0.1; fill:none\" points=\"\n",
       "  1284.85,1886.71 1284.85,47.2441 \n",
       "  \"/>\n",
       "<polyline clip-path=\"url(#clip8402)\" style=\"stroke:#000000; stroke-width:2; stroke-opacity:0.1; fill:none\" points=\"\n",
       "  1781.57,1886.71 1781.57,47.2441 \n",
       "  \"/>\n",
       "<polyline clip-path=\"url(#clip8402)\" style=\"stroke:#000000; stroke-width:2; stroke-opacity:0.1; fill:none\" points=\"\n",
       "  188.156,1834.65 1921.26,1834.65 \n",
       "  \"/>\n",
       "<polyline clip-path=\"url(#clip8402)\" style=\"stroke:#000000; stroke-width:2; stroke-opacity:0.1; fill:none\" points=\"\n",
       "  188.156,1481.88 1921.26,1481.88 \n",
       "  \"/>\n",
       "<polyline clip-path=\"url(#clip8402)\" style=\"stroke:#000000; stroke-width:2; stroke-opacity:0.1; fill:none\" points=\"\n",
       "  188.156,1129.12 1921.26,1129.12 \n",
       "  \"/>\n",
       "<polyline clip-path=\"url(#clip8402)\" style=\"stroke:#000000; stroke-width:2; stroke-opacity:0.1; fill:none\" points=\"\n",
       "  188.156,776.357 1921.26,776.357 \n",
       "  \"/>\n",
       "<polyline clip-path=\"url(#clip8402)\" style=\"stroke:#000000; stroke-width:2; stroke-opacity:0.1; fill:none\" points=\"\n",
       "  188.156,423.593 1921.26,423.593 \n",
       "  \"/>\n",
       "<polyline clip-path=\"url(#clip8402)\" style=\"stroke:#000000; stroke-width:2; stroke-opacity:0.1; fill:none\" points=\"\n",
       "  188.156,70.8292 1921.26,70.8292 \n",
       "  \"/>\n",
       "<polyline clip-path=\"url(#clip8400)\" style=\"stroke:#000000; stroke-width:4; stroke-opacity:1; fill:none\" points=\"\n",
       "  188.156,1886.71 1921.26,1886.71 \n",
       "  \"/>\n",
       "<polyline clip-path=\"url(#clip8400)\" style=\"stroke:#000000; stroke-width:4; stroke-opacity:1; fill:none\" points=\"\n",
       "  188.156,1886.71 188.156,47.2441 \n",
       "  \"/>\n",
       "<polyline clip-path=\"url(#clip8400)\" style=\"stroke:#000000; stroke-width:4; stroke-opacity:1; fill:none\" points=\"\n",
       "  291.405,1886.71 291.405,1859.12 \n",
       "  \"/>\n",
       "<polyline clip-path=\"url(#clip8400)\" style=\"stroke:#000000; stroke-width:4; stroke-opacity:1; fill:none\" points=\"\n",
       "  788.126,1886.71 788.126,1859.12 \n",
       "  \"/>\n",
       "<polyline clip-path=\"url(#clip8400)\" style=\"stroke:#000000; stroke-width:4; stroke-opacity:1; fill:none\" points=\"\n",
       "  1284.85,1886.71 1284.85,1859.12 \n",
       "  \"/>\n",
       "<polyline clip-path=\"url(#clip8400)\" style=\"stroke:#000000; stroke-width:4; stroke-opacity:1; fill:none\" points=\"\n",
       "  1781.57,1886.71 1781.57,1859.12 \n",
       "  \"/>\n",
       "<polyline clip-path=\"url(#clip8400)\" style=\"stroke:#000000; stroke-width:4; stroke-opacity:1; fill:none\" points=\"\n",
       "  188.156,1834.65 214.153,1834.65 \n",
       "  \"/>\n",
       "<polyline clip-path=\"url(#clip8400)\" style=\"stroke:#000000; stroke-width:4; stroke-opacity:1; fill:none\" points=\"\n",
       "  188.156,1481.88 214.153,1481.88 \n",
       "  \"/>\n",
       "<polyline clip-path=\"url(#clip8400)\" style=\"stroke:#000000; stroke-width:4; stroke-opacity:1; fill:none\" points=\"\n",
       "  188.156,1129.12 214.153,1129.12 \n",
       "  \"/>\n",
       "<polyline clip-path=\"url(#clip8400)\" style=\"stroke:#000000; stroke-width:4; stroke-opacity:1; fill:none\" points=\"\n",
       "  188.156,776.357 214.153,776.357 \n",
       "  \"/>\n",
       "<polyline clip-path=\"url(#clip8400)\" style=\"stroke:#000000; stroke-width:4; stroke-opacity:1; fill:none\" points=\"\n",
       "  188.156,423.593 214.153,423.593 \n",
       "  \"/>\n",
       "<polyline clip-path=\"url(#clip8400)\" style=\"stroke:#000000; stroke-width:4; stroke-opacity:1; fill:none\" points=\"\n",
       "  188.156,70.8292 214.153,70.8292 \n",
       "  \"/>\n",
       "<g clip-path=\"url(#clip8400)\">\n",
       "<text style=\"fill:#000000; fill-opacity:1; font-family:Arial,Helvetica Neue,Helvetica,sans-serif; font-size:48px; text-anchor:middle;\" transform=\"rotate(0, 291.405, 1938.71)\" x=\"291.405\" y=\"1938.71\">5</text>\n",
       "</g>\n",
       "<g clip-path=\"url(#clip8400)\">\n",
       "<text style=\"fill:#000000; fill-opacity:1; font-family:Arial,Helvetica Neue,Helvetica,sans-serif; font-size:48px; text-anchor:middle;\" transform=\"rotate(0, 788.126, 1938.71)\" x=\"788.126\" y=\"1938.71\">10</text>\n",
       "</g>\n",
       "<g clip-path=\"url(#clip8400)\">\n",
       "<text style=\"fill:#000000; fill-opacity:1; font-family:Arial,Helvetica Neue,Helvetica,sans-serif; font-size:48px; text-anchor:middle;\" transform=\"rotate(0, 1284.85, 1938.71)\" x=\"1284.85\" y=\"1938.71\">15</text>\n",
       "</g>\n",
       "<g clip-path=\"url(#clip8400)\">\n",
       "<text style=\"fill:#000000; fill-opacity:1; font-family:Arial,Helvetica Neue,Helvetica,sans-serif; font-size:48px; text-anchor:middle;\" transform=\"rotate(0, 1781.57, 1938.71)\" x=\"1781.57\" y=\"1938.71\">20</text>\n",
       "</g>\n",
       "<g clip-path=\"url(#clip8400)\">\n",
       "<text style=\"fill:#000000; fill-opacity:1; font-family:Arial,Helvetica Neue,Helvetica,sans-serif; font-size:48px; text-anchor:end;\" transform=\"rotate(0, 168.156, 1852.15)\" x=\"168.156\" y=\"1852.15\">0.00</text>\n",
       "</g>\n",
       "<g clip-path=\"url(#clip8400)\">\n",
       "<text style=\"fill:#000000; fill-opacity:1; font-family:Arial,Helvetica Neue,Helvetica,sans-serif; font-size:48px; text-anchor:end;\" transform=\"rotate(0, 168.156, 1499.38)\" x=\"168.156\" y=\"1499.38\">0.05</text>\n",
       "</g>\n",
       "<g clip-path=\"url(#clip8400)\">\n",
       "<text style=\"fill:#000000; fill-opacity:1; font-family:Arial,Helvetica Neue,Helvetica,sans-serif; font-size:48px; text-anchor:end;\" transform=\"rotate(0, 168.156, 1146.62)\" x=\"168.156\" y=\"1146.62\">0.10</text>\n",
       "</g>\n",
       "<g clip-path=\"url(#clip8400)\">\n",
       "<text style=\"fill:#000000; fill-opacity:1; font-family:Arial,Helvetica Neue,Helvetica,sans-serif; font-size:48px; text-anchor:end;\" transform=\"rotate(0, 168.156, 793.857)\" x=\"168.156\" y=\"793.857\">0.15</text>\n",
       "</g>\n",
       "<g clip-path=\"url(#clip8400)\">\n",
       "<text style=\"fill:#000000; fill-opacity:1; font-family:Arial,Helvetica Neue,Helvetica,sans-serif; font-size:48px; text-anchor:end;\" transform=\"rotate(0, 168.156, 441.093)\" x=\"168.156\" y=\"441.093\">0.20</text>\n",
       "</g>\n",
       "<g clip-path=\"url(#clip8400)\">\n",
       "<text style=\"fill:#000000; fill-opacity:1; font-family:Arial,Helvetica Neue,Helvetica,sans-serif; font-size:48px; text-anchor:end;\" transform=\"rotate(0, 168.156, 88.3292)\" x=\"168.156\" y=\"88.3292\">0.25</text>\n",
       "</g>\n",
       "<polyline clip-path=\"url(#clip8402)\" style=\"stroke:#009af9; stroke-width:4; stroke-opacity:1; fill:none\" points=\"\n",
       "  237.206,1834.65 245.423,1834.65 253.639,1834.64 261.855,1834.64 270.071,1834.62 278.287,1834.57 286.503,1834.49 294.719,1834.36 302.935,1834.16 311.151,1833.9 \n",
       "  319.367,1833.6 327.584,1833.28 335.8,1832.92 344.016,1832.5 352.232,1831.9 360.448,1830.99 368.664,1829.62 376.88,1827.59 385.096,1824.72 393.312,1820.77 \n",
       "  401.528,1815.55 409.745,1808.87 417.961,1800.56 426.177,1790.55 434.393,1778.74 442.609,1764.99 450.825,1748.9 459.041,1729.66 467.257,1706.03 475.473,1676.69 \n",
       "  483.689,1640.63 491.905,1597.64 500.122,1548.46 508.338,1494.5 516.554,1437.37 524.77,1378.43 532.986,1318.66 541.202,1258.74 549.418,1199.13 557.634,1140.04 \n",
       "  565.85,1081.38 574.066,1022.77 582.283,963.781 590.499,904.104 598.715,843.664 606.931,782.49 615.147,720.612 623.363,658.156 631.579,595.606 639.795,534.034 \n",
       "  648.011,475.09 656.227,420.691 664.444,372.51 672.66,331.454 680.876,297.321 689.092,268.804 697.308,243.891 705.524,220.528 713.74,197.296 721.956,173.819 \n",
       "  730.172,150.819 738.388,129.873 746.604,113.028 754.821,102.328 763.037,99.3044 771.253,104.565 779.469,117.703 787.685,137.659 795.901,163.401 804.117,194.512 \n",
       "  812.333,231.286 820.549,274.208 828.765,323.17 836.982,376.915 845.198,433.122 853.414,489.005 861.63,542.01 869.846,590.236 878.062,632.59 886.278,668.986 \n",
       "  894.494,700.66 902.71,730.291 910.926,761.447 919.143,797.302 927.359,839.214 935.575,886.015 943.791,934.508 952.007,980.88 960.223,1022.26 968.439,1057.6 \n",
       "  976.655,1087.75 984.871,1114.74 993.087,1140.97 1001.3,1168.36 1009.52,1197.85 1017.74,1229.16 1025.95,1261.12 1034.17,1292.19 1042.38,1321.17 1050.6,1347.67 \n",
       "  1058.82,1372.09 1067.03,1395.36 1075.25,1418.42 1083.46,1441.76 1091.68,1465.31 1099.9,1488.52 1108.11,1510.68 1116.33,1531.17 1124.54,1549.65 1132.76,1566.06 \n",
       "  1140.98,1580.64 1149.19,1593.8 1157.41,1605.92 1165.63,1617.32 1173.84,1628.22 1182.06,1638.83 1190.27,1649.31 1198.49,1659.76 1206.71,1670.09 1214.92,1680.09 \n",
       "  1223.14,1689.62 1231.35,1698.72 1239.57,1707.52 1247.79,1716.08 1256,1724.2 1264.22,1731.52 1272.43,1737.78 1280.65,1743.04 1288.87,1747.79 1297.08,1752.64 \n",
       "  1305.3,1758.02 1313.52,1763.93 1321.73,1769.85 1329.95,1775.1 1338.16,1779.12 1346.38,1781.73 1354.6,1783.18 1362.81,1784.01 1371.03,1784.77 1379.24,1785.91 \n",
       "  1387.46,1787.65 1395.68,1790.04 1403.89,1792.99 1412.11,1796.32 1420.32,1799.75 1428.54,1802.95 1436.76,1805.63 1444.97,1807.68 1453.19,1809.25 1461.4,1810.65 \n",
       "  1469.62,1812.22 1477.84,1814.11 1486.05,1816.22 1494.27,1818.26 1502.49,1819.91 1510.7,1820.99 1518.92,1821.53 1527.13,1821.73 1535.35,1821.87 1543.57,1822.2 \n",
       "  1551.78,1822.83 1560,1823.73 1568.21,1824.76 1576.43,1825.68 1584.65,1826.3 1592.86,1826.52 1601.08,1826.41 1609.29,1826.14 1617.51,1825.99 1625.73,1826.16 \n",
       "  1633.94,1826.77 1642.16,1827.76 1650.38,1828.96 1658.59,1830.14 1666.81,1831.09 1675.02,1831.7 1683.24,1831.98 1691.46,1832.04 1699.67,1831.99 1707.89,1831.9 \n",
       "  1716.1,1831.8 1724.32,1831.67 1732.54,1831.51 1740.75,1831.36 1748.97,1831.28 1757.18,1831.36 1765.4,1831.62 1773.62,1832.06 1781.83,1832.59 1790.05,1833.14 \n",
       "  1798.26,1833.63 1806.48,1834.02 1814.7,1834.29 1822.91,1834.47 1831.13,1834.56 1839.35,1834.61 1847.56,1834.63 1855.78,1834.64 1863.99,1834.65 1872.21,1834.65 \n",
       "  \n",
       "  \"/>\n",
       "<polygon clip-path=\"url(#clip8400)\" points=\"\n",
       "1610.43,227.724 1861.26,227.724 1861.26,106.764 1610.43,106.764 \n",
       "  \" fill=\"#ffffff\" fill-rule=\"evenodd\" fill-opacity=\"1\"/>\n",
       "<polyline clip-path=\"url(#clip8400)\" style=\"stroke:#000000; stroke-width:4; stroke-opacity:1; fill:none\" points=\"\n",
       "  1610.43,227.724 1861.26,227.724 1861.26,106.764 1610.43,106.764 1610.43,227.724 \n",
       "  \"/>\n",
       "<polyline clip-path=\"url(#clip8400)\" style=\"stroke:#009af9; stroke-width:4; stroke-opacity:1; fill:none\" points=\"\n",
       "  1630.43,167.244 1750.43,167.244 \n",
       "  \"/>\n",
       "<g clip-path=\"url(#clip8400)\">\n",
       "<text style=\"fill:#000000; fill-opacity:1; font-family:Arial,Helvetica Neue,Helvetica,sans-serif; font-size:48px; text-anchor:start;\" transform=\"rotate(0, 1770.43, 184.744)\" x=\"1770.43\" y=\"184.744\">y1</text>\n",
       "</g>\n",
       "</svg>\n"
      ],
      "image/svg+xml": [
       "<?xml version=\"1.0\" encoding=\"utf-8\"?>\n",
       "<svg xmlns=\"http://www.w3.org/2000/svg\" xmlns:xlink=\"http://www.w3.org/1999/xlink\" width=\"500\" height=\"500\" viewBox=\"0 0 2000 2000\">\n",
       "<defs>\n",
       "  <clipPath id=\"clip8300\">\n",
       "    <rect x=\"0\" y=\"0\" width=\"2000\" height=\"2000\"/>\n",
       "  </clipPath>\n",
       "</defs>\n",
       "<polygon clip-path=\"url(#clip8300)\" points=\"\n",
       "0,2000 2000,2000 2000,0 0,0 \n",
       "  \" fill=\"#ffffff\" fill-rule=\"evenodd\" fill-opacity=\"1\"/>\n",
       "<defs>\n",
       "  <clipPath id=\"clip8301\">\n",
       "    <rect x=\"400\" y=\"200\" width=\"1401\" height=\"1401\"/>\n",
       "  </clipPath>\n",
       "</defs>\n",
       "<polygon clip-path=\"url(#clip8300)\" points=\"\n",
       "188.156,1886.71 1921.26,1886.71 1921.26,47.2441 188.156,47.2441 \n",
       "  \" fill=\"#ffffff\" fill-rule=\"evenodd\" fill-opacity=\"1\"/>\n",
       "<defs>\n",
       "  <clipPath id=\"clip8302\">\n",
       "    <rect x=\"188\" y=\"47\" width=\"1734\" height=\"1840\"/>\n",
       "  </clipPath>\n",
       "</defs>\n",
       "<polyline clip-path=\"url(#clip8302)\" style=\"stroke:#000000; stroke-width:2; stroke-opacity:0.1; fill:none\" points=\"\n",
       "  291.405,1886.71 291.405,47.2441 \n",
       "  \"/>\n",
       "<polyline clip-path=\"url(#clip8302)\" style=\"stroke:#000000; stroke-width:2; stroke-opacity:0.1; fill:none\" points=\"\n",
       "  788.126,1886.71 788.126,47.2441 \n",
       "  \"/>\n",
       "<polyline clip-path=\"url(#clip8302)\" style=\"stroke:#000000; stroke-width:2; stroke-opacity:0.1; fill:none\" points=\"\n",
       "  1284.85,1886.71 1284.85,47.2441 \n",
       "  \"/>\n",
       "<polyline clip-path=\"url(#clip8302)\" style=\"stroke:#000000; stroke-width:2; stroke-opacity:0.1; fill:none\" points=\"\n",
       "  1781.57,1886.71 1781.57,47.2441 \n",
       "  \"/>\n",
       "<polyline clip-path=\"url(#clip8302)\" style=\"stroke:#000000; stroke-width:2; stroke-opacity:0.1; fill:none\" points=\"\n",
       "  188.156,1834.65 1921.26,1834.65 \n",
       "  \"/>\n",
       "<polyline clip-path=\"url(#clip8302)\" style=\"stroke:#000000; stroke-width:2; stroke-opacity:0.1; fill:none\" points=\"\n",
       "  188.156,1481.88 1921.26,1481.88 \n",
       "  \"/>\n",
       "<polyline clip-path=\"url(#clip8302)\" style=\"stroke:#000000; stroke-width:2; stroke-opacity:0.1; fill:none\" points=\"\n",
       "  188.156,1129.12 1921.26,1129.12 \n",
       "  \"/>\n",
       "<polyline clip-path=\"url(#clip8302)\" style=\"stroke:#000000; stroke-width:2; stroke-opacity:0.1; fill:none\" points=\"\n",
       "  188.156,776.357 1921.26,776.357 \n",
       "  \"/>\n",
       "<polyline clip-path=\"url(#clip8302)\" style=\"stroke:#000000; stroke-width:2; stroke-opacity:0.1; fill:none\" points=\"\n",
       "  188.156,423.593 1921.26,423.593 \n",
       "  \"/>\n",
       "<polyline clip-path=\"url(#clip8302)\" style=\"stroke:#000000; stroke-width:2; stroke-opacity:0.1; fill:none\" points=\"\n",
       "  188.156,70.8292 1921.26,70.8292 \n",
       "  \"/>\n",
       "<polyline clip-path=\"url(#clip8300)\" style=\"stroke:#000000; stroke-width:4; stroke-opacity:1; fill:none\" points=\"\n",
       "  188.156,1886.71 1921.26,1886.71 \n",
       "  \"/>\n",
       "<polyline clip-path=\"url(#clip8300)\" style=\"stroke:#000000; stroke-width:4; stroke-opacity:1; fill:none\" points=\"\n",
       "  188.156,1886.71 188.156,47.2441 \n",
       "  \"/>\n",
       "<polyline clip-path=\"url(#clip8300)\" style=\"stroke:#000000; stroke-width:4; stroke-opacity:1; fill:none\" points=\"\n",
       "  291.405,1886.71 291.405,1859.12 \n",
       "  \"/>\n",
       "<polyline clip-path=\"url(#clip8300)\" style=\"stroke:#000000; stroke-width:4; stroke-opacity:1; fill:none\" points=\"\n",
       "  788.126,1886.71 788.126,1859.12 \n",
       "  \"/>\n",
       "<polyline clip-path=\"url(#clip8300)\" style=\"stroke:#000000; stroke-width:4; stroke-opacity:1; fill:none\" points=\"\n",
       "  1284.85,1886.71 1284.85,1859.12 \n",
       "  \"/>\n",
       "<polyline clip-path=\"url(#clip8300)\" style=\"stroke:#000000; stroke-width:4; stroke-opacity:1; fill:none\" points=\"\n",
       "  1781.57,1886.71 1781.57,1859.12 \n",
       "  \"/>\n",
       "<polyline clip-path=\"url(#clip8300)\" style=\"stroke:#000000; stroke-width:4; stroke-opacity:1; fill:none\" points=\"\n",
       "  188.156,1834.65 214.153,1834.65 \n",
       "  \"/>\n",
       "<polyline clip-path=\"url(#clip8300)\" style=\"stroke:#000000; stroke-width:4; stroke-opacity:1; fill:none\" points=\"\n",
       "  188.156,1481.88 214.153,1481.88 \n",
       "  \"/>\n",
       "<polyline clip-path=\"url(#clip8300)\" style=\"stroke:#000000; stroke-width:4; stroke-opacity:1; fill:none\" points=\"\n",
       "  188.156,1129.12 214.153,1129.12 \n",
       "  \"/>\n",
       "<polyline clip-path=\"url(#clip8300)\" style=\"stroke:#000000; stroke-width:4; stroke-opacity:1; fill:none\" points=\"\n",
       "  188.156,776.357 214.153,776.357 \n",
       "  \"/>\n",
       "<polyline clip-path=\"url(#clip8300)\" style=\"stroke:#000000; stroke-width:4; stroke-opacity:1; fill:none\" points=\"\n",
       "  188.156,423.593 214.153,423.593 \n",
       "  \"/>\n",
       "<polyline clip-path=\"url(#clip8300)\" style=\"stroke:#000000; stroke-width:4; stroke-opacity:1; fill:none\" points=\"\n",
       "  188.156,70.8292 214.153,70.8292 \n",
       "  \"/>\n",
       "<g clip-path=\"url(#clip8300)\">\n",
       "<text style=\"fill:#000000; fill-opacity:1; font-family:Arial,Helvetica Neue,Helvetica,sans-serif; font-size:48px; text-anchor:middle;\" transform=\"rotate(0, 291.405, 1938.71)\" x=\"291.405\" y=\"1938.71\">5</text>\n",
       "</g>\n",
       "<g clip-path=\"url(#clip8300)\">\n",
       "<text style=\"fill:#000000; fill-opacity:1; font-family:Arial,Helvetica Neue,Helvetica,sans-serif; font-size:48px; text-anchor:middle;\" transform=\"rotate(0, 788.126, 1938.71)\" x=\"788.126\" y=\"1938.71\">10</text>\n",
       "</g>\n",
       "<g clip-path=\"url(#clip8300)\">\n",
       "<text style=\"fill:#000000; fill-opacity:1; font-family:Arial,Helvetica Neue,Helvetica,sans-serif; font-size:48px; text-anchor:middle;\" transform=\"rotate(0, 1284.85, 1938.71)\" x=\"1284.85\" y=\"1938.71\">15</text>\n",
       "</g>\n",
       "<g clip-path=\"url(#clip8300)\">\n",
       "<text style=\"fill:#000000; fill-opacity:1; font-family:Arial,Helvetica Neue,Helvetica,sans-serif; font-size:48px; text-anchor:middle;\" transform=\"rotate(0, 1781.57, 1938.71)\" x=\"1781.57\" y=\"1938.71\">20</text>\n",
       "</g>\n",
       "<g clip-path=\"url(#clip8300)\">\n",
       "<text style=\"fill:#000000; fill-opacity:1; font-family:Arial,Helvetica Neue,Helvetica,sans-serif; font-size:48px; text-anchor:end;\" transform=\"rotate(0, 168.156, 1852.15)\" x=\"168.156\" y=\"1852.15\">0.00</text>\n",
       "</g>\n",
       "<g clip-path=\"url(#clip8300)\">\n",
       "<text style=\"fill:#000000; fill-opacity:1; font-family:Arial,Helvetica Neue,Helvetica,sans-serif; font-size:48px; text-anchor:end;\" transform=\"rotate(0, 168.156, 1499.38)\" x=\"168.156\" y=\"1499.38\">0.05</text>\n",
       "</g>\n",
       "<g clip-path=\"url(#clip8300)\">\n",
       "<text style=\"fill:#000000; fill-opacity:1; font-family:Arial,Helvetica Neue,Helvetica,sans-serif; font-size:48px; text-anchor:end;\" transform=\"rotate(0, 168.156, 1146.62)\" x=\"168.156\" y=\"1146.62\">0.10</text>\n",
       "</g>\n",
       "<g clip-path=\"url(#clip8300)\">\n",
       "<text style=\"fill:#000000; fill-opacity:1; font-family:Arial,Helvetica Neue,Helvetica,sans-serif; font-size:48px; text-anchor:end;\" transform=\"rotate(0, 168.156, 793.857)\" x=\"168.156\" y=\"793.857\">0.15</text>\n",
       "</g>\n",
       "<g clip-path=\"url(#clip8300)\">\n",
       "<text style=\"fill:#000000; fill-opacity:1; font-family:Arial,Helvetica Neue,Helvetica,sans-serif; font-size:48px; text-anchor:end;\" transform=\"rotate(0, 168.156, 441.093)\" x=\"168.156\" y=\"441.093\">0.20</text>\n",
       "</g>\n",
       "<g clip-path=\"url(#clip8300)\">\n",
       "<text style=\"fill:#000000; fill-opacity:1; font-family:Arial,Helvetica Neue,Helvetica,sans-serif; font-size:48px; text-anchor:end;\" transform=\"rotate(0, 168.156, 88.3292)\" x=\"168.156\" y=\"88.3292\">0.25</text>\n",
       "</g>\n",
       "<polyline clip-path=\"url(#clip8302)\" style=\"stroke:#009af9; stroke-width:4; stroke-opacity:1; fill:none\" points=\"\n",
       "  237.206,1834.65 245.423,1834.65 253.639,1834.64 261.855,1834.64 270.071,1834.62 278.287,1834.57 286.503,1834.49 294.719,1834.36 302.935,1834.16 311.151,1833.9 \n",
       "  319.367,1833.6 327.584,1833.28 335.8,1832.92 344.016,1832.5 352.232,1831.9 360.448,1830.99 368.664,1829.62 376.88,1827.59 385.096,1824.72 393.312,1820.77 \n",
       "  401.528,1815.55 409.745,1808.87 417.961,1800.56 426.177,1790.55 434.393,1778.74 442.609,1764.99 450.825,1748.9 459.041,1729.66 467.257,1706.03 475.473,1676.69 \n",
       "  483.689,1640.63 491.905,1597.64 500.122,1548.46 508.338,1494.5 516.554,1437.37 524.77,1378.43 532.986,1318.66 541.202,1258.74 549.418,1199.13 557.634,1140.04 \n",
       "  565.85,1081.38 574.066,1022.77 582.283,963.781 590.499,904.104 598.715,843.664 606.931,782.49 615.147,720.612 623.363,658.156 631.579,595.606 639.795,534.034 \n",
       "  648.011,475.09 656.227,420.691 664.444,372.51 672.66,331.454 680.876,297.321 689.092,268.804 697.308,243.891 705.524,220.528 713.74,197.296 721.956,173.819 \n",
       "  730.172,150.819 738.388,129.873 746.604,113.028 754.821,102.328 763.037,99.3044 771.253,104.565 779.469,117.703 787.685,137.659 795.901,163.401 804.117,194.512 \n",
       "  812.333,231.286 820.549,274.208 828.765,323.17 836.982,376.915 845.198,433.122 853.414,489.005 861.63,542.01 869.846,590.236 878.062,632.59 886.278,668.986 \n",
       "  894.494,700.66 902.71,730.291 910.926,761.447 919.143,797.302 927.359,839.214 935.575,886.015 943.791,934.508 952.007,980.88 960.223,1022.26 968.439,1057.6 \n",
       "  976.655,1087.75 984.871,1114.74 993.087,1140.97 1001.3,1168.36 1009.52,1197.85 1017.74,1229.16 1025.95,1261.12 1034.17,1292.19 1042.38,1321.17 1050.6,1347.67 \n",
       "  1058.82,1372.09 1067.03,1395.36 1075.25,1418.42 1083.46,1441.76 1091.68,1465.31 1099.9,1488.52 1108.11,1510.68 1116.33,1531.17 1124.54,1549.65 1132.76,1566.06 \n",
       "  1140.98,1580.64 1149.19,1593.8 1157.41,1605.92 1165.63,1617.32 1173.84,1628.22 1182.06,1638.83 1190.27,1649.31 1198.49,1659.76 1206.71,1670.09 1214.92,1680.09 \n",
       "  1223.14,1689.62 1231.35,1698.72 1239.57,1707.52 1247.79,1716.08 1256,1724.2 1264.22,1731.52 1272.43,1737.78 1280.65,1743.04 1288.87,1747.79 1297.08,1752.64 \n",
       "  1305.3,1758.02 1313.52,1763.93 1321.73,1769.85 1329.95,1775.1 1338.16,1779.12 1346.38,1781.73 1354.6,1783.18 1362.81,1784.01 1371.03,1784.77 1379.24,1785.91 \n",
       "  1387.46,1787.65 1395.68,1790.04 1403.89,1792.99 1412.11,1796.32 1420.32,1799.75 1428.54,1802.95 1436.76,1805.63 1444.97,1807.68 1453.19,1809.25 1461.4,1810.65 \n",
       "  1469.62,1812.22 1477.84,1814.11 1486.05,1816.22 1494.27,1818.26 1502.49,1819.91 1510.7,1820.99 1518.92,1821.53 1527.13,1821.73 1535.35,1821.87 1543.57,1822.2 \n",
       "  1551.78,1822.83 1560,1823.73 1568.21,1824.76 1576.43,1825.68 1584.65,1826.3 1592.86,1826.52 1601.08,1826.41 1609.29,1826.14 1617.51,1825.99 1625.73,1826.16 \n",
       "  1633.94,1826.77 1642.16,1827.76 1650.38,1828.96 1658.59,1830.14 1666.81,1831.09 1675.02,1831.7 1683.24,1831.98 1691.46,1832.04 1699.67,1831.99 1707.89,1831.9 \n",
       "  1716.1,1831.8 1724.32,1831.67 1732.54,1831.51 1740.75,1831.36 1748.97,1831.28 1757.18,1831.36 1765.4,1831.62 1773.62,1832.06 1781.83,1832.59 1790.05,1833.14 \n",
       "  1798.26,1833.63 1806.48,1834.02 1814.7,1834.29 1822.91,1834.47 1831.13,1834.56 1839.35,1834.61 1847.56,1834.63 1855.78,1834.64 1863.99,1834.65 1872.21,1834.65 \n",
       "  \n",
       "  \"/>\n",
       "<polygon clip-path=\"url(#clip8300)\" points=\"\n",
       "1610.43,227.724 1861.26,227.724 1861.26,106.764 1610.43,106.764 \n",
       "  \" fill=\"#ffffff\" fill-rule=\"evenodd\" fill-opacity=\"1\"/>\n",
       "<polyline clip-path=\"url(#clip8300)\" style=\"stroke:#000000; stroke-width:4; stroke-opacity:1; fill:none\" points=\"\n",
       "  1610.43,227.724 1861.26,227.724 1861.26,106.764 1610.43,106.764 1610.43,227.724 \n",
       "  \"/>\n",
       "<polyline clip-path=\"url(#clip8300)\" style=\"stroke:#009af9; stroke-width:4; stroke-opacity:1; fill:none\" points=\"\n",
       "  1630.43,167.244 1750.43,167.244 \n",
       "  \"/>\n",
       "<g clip-path=\"url(#clip8300)\">\n",
       "<text style=\"fill:#000000; fill-opacity:1; font-family:Arial,Helvetica Neue,Helvetica,sans-serif; font-size:48px; text-anchor:start;\" transform=\"rotate(0, 1770.43, 184.744)\" x=\"1770.43\" y=\"184.744\">y1</text>\n",
       "</g>\n",
       "</svg>\n"
      ]
     },
     "metadata": {},
     "execution_count": 8
    }
   ],
   "cell_type": "code",
   "source": [
    "density(samples[:sigma])"
   ],
   "metadata": {},
   "execution_count": 8
  },
  {
   "outputs": [],
   "cell_type": "markdown",
   "source": [
    "End of `clip-21-23.jl`"
   ],
   "metadata": {}
  },
  {
   "outputs": [],
   "cell_type": "markdown",
   "source": [
    "*This notebook was generated using [Literate.jl](https://github.com/fredrikekre/Literate.jl).*"
   ],
   "metadata": {}
  }
 ],
 "nbformat_minor": 3,
 "metadata": {
  "language_info": {
   "file_extension": ".jl",
   "mimetype": "application/julia",
   "name": "julia",
   "version": "1.2.0-DEV.406"
  },
  "kernelspec": {
   "name": "julia-1.2",
   "display_name": "Julia 1.2.0-DEV.406",
   "language": "julia"
  }
 },
 "nbformat": 4
}
