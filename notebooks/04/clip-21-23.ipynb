{
 "cells": [
  {
   "outputs": [],
   "cell_type": "markdown",
   "source": [
    "Load Julia packages (libraries) needed  for the snippets in chapter 0"
   ],
   "metadata": {}
  },
  {
   "outputs": [],
   "cell_type": "code",
   "source": [
    "using StatisticalRethinking, CmdStan, StanMCMCChains\n",
    "gr(size=(500,500));"
   ],
   "metadata": {},
   "execution_count": 1
  },
  {
   "outputs": [],
   "cell_type": "markdown",
   "source": [
    "CmdStan uses a tmp directory to store the output of cmdstan"
   ],
   "metadata": {}
  },
  {
   "outputs": [],
   "cell_type": "code",
   "source": [
    "ProjDir = rel_path(\"..\", \"scripts\", \"04\")\n",
    "cd(ProjDir)"
   ],
   "metadata": {},
   "execution_count": 2
  },
  {
   "outputs": [],
   "cell_type": "markdown",
   "source": [
    "CmdStan uses a tmp directory to store the output of cmdstan"
   ],
   "metadata": {}
  },
  {
   "outputs": [],
   "cell_type": "code",
   "source": [
    "ProjDir = rel_path(\"..\", \"scripts\", \"04\")\n",
    "cd(ProjDir)"
   ],
   "metadata": {},
   "execution_count": 3
  },
  {
   "outputs": [
    {
     "output_type": "execute_result",
     "data": {
      "text/plain": "5×4 DataFrame\n│ Row │ height   │ weight   │ age      │ male   │\n│     │ \u001b[90mFloat64⍰\u001b[39m │ \u001b[90mFloat64⍰\u001b[39m │ \u001b[90mFloat64⍰\u001b[39m │ \u001b[90mInt64⍰\u001b[39m │\n├─────┼──────────┼──────────┼──────────┼────────┤\n│ 1   │ 151.765  │ 47.8256  │ 63.0     │ 1      │\n│ 2   │ 139.7    │ 36.4858  │ 63.0     │ 0      │\n│ 3   │ 136.525  │ 31.8648  │ 65.0     │ 0      │\n│ 4   │ 156.845  │ 53.0419  │ 41.0     │ 1      │\n│ 5   │ 145.415  │ 41.2769  │ 51.0     │ 0      │",
      "text/html": [
       "<table class=\"data-frame\"><thead><tr><th></th><th>height</th><th>weight</th><th>age</th><th>male</th></tr><tr><th></th><th>Float64⍰</th><th>Float64⍰</th><th>Float64⍰</th><th>Int64⍰</th></tr></thead><tbody><p>5 rows × 4 columns</p><tr><th>1</th><td>151.765</td><td>47.8256</td><td>63.0</td><td>1</td></tr><tr><th>2</th><td>139.7</td><td>36.4858</td><td>63.0</td><td>0</td></tr><tr><th>3</th><td>136.525</td><td>31.8648</td><td>65.0</td><td>0</td></tr><tr><th>4</th><td>156.845</td><td>53.0419</td><td>41.0</td><td>1</td></tr><tr><th>5</th><td>145.415</td><td>41.2769</td><td>51.0</td><td>0</td></tr></tbody></table>"
      ]
     },
     "metadata": {},
     "execution_count": 4
    }
   ],
   "cell_type": "code",
   "source": [
    "howell1 = CSV.read(rel_path(\"..\", \"data\", \"Howell1.csv\"), delim=';')\n",
    "df = convert(DataFrame, howell1);\n",
    "df2 = filter(row -> row[:age] >= 18, df);\n",
    "first(df2, 5)"
   ],
   "metadata": {},
   "execution_count": 4
  },
  {
   "outputs": [],
   "cell_type": "markdown",
   "source": [
    "### Snippet 4.21"
   ],
   "metadata": {}
  },
  {
   "outputs": [],
   "cell_type": "markdown",
   "source": [
    "Sample 20 random heights"
   ],
   "metadata": {}
  },
  {
   "outputs": [],
   "cell_type": "code",
   "source": [
    "n = size(df2, 1)\n",
    "selected_ind = sample(1:n, 20, replace=false);\n",
    "df3 = df2[selected_ind, :];"
   ],
   "metadata": {},
   "execution_count": 5
  },
  {
   "outputs": [],
   "cell_type": "markdown",
   "source": [
    "### Snippet 4.22"
   ],
   "metadata": {}
  },
  {
   "outputs": [],
   "cell_type": "markdown",
   "source": [
    "Generate approximate probabilities"
   ],
   "metadata": {}
  },
  {
   "outputs": [
    {
     "output_type": "execute_result",
     "data": {
      "text/plain": "10×5 DataFrame\n│ Row │ mu      │ sigma   │ ll       │ prod     │ prob        │\n│     │ \u001b[90mFloat64\u001b[39m │ \u001b[90mFloat64\u001b[39m │ \u001b[90mFloat64\u001b[39m  │ \u001b[90mFloat64\u001b[39m  │ \u001b[90mFloat64\u001b[39m     │\n├─────┼─────────┼─────────┼──────────┼──────────┼─────────────┤\n│ 1   │ 140.0   │ 4.0     │ -203.719 │ -213.35  │ 2.61436e-58 │\n│ 2   │ 140.151 │ 4.0     │ -201.258 │ -210.876 │ 3.10483e-57 │\n│ 3   │ 140.302 │ 4.0     │ -198.827 │ -208.43  │ 3.58383e-56 │\n│ 4   │ 140.452 │ 4.0     │ -196.423 │ -206.012 │ 4.02064e-55 │\n│ 5   │ 140.603 │ 4.0     │ -194.048 │ -203.623 │ 4.3841e-54  │\n│ 6   │ 140.754 │ 4.0     │ -191.702 │ -201.262 │ 4.64626e-53 │\n│ 7   │ 140.905 │ 4.0     │ -189.383 │ -198.93  │ 4.7859e-52  │\n│ 8   │ 141.055 │ 4.0     │ -187.094 │ -196.627 │ 4.7914e-51  │\n│ 9   │ 141.206 │ 4.0     │ -184.832 │ -194.351 │ 4.66228e-50 │\n│ 10  │ 141.357 │ 4.0     │ -182.599 │ -192.104 │ 4.40933e-49 │",
      "text/html": [
       "<table class=\"data-frame\"><thead><tr><th></th><th>mu</th><th>sigma</th><th>ll</th><th>prod</th><th>prob</th></tr><tr><th></th><th>Float64</th><th>Float64</th><th>Float64</th><th>Float64</th><th>Float64</th></tr></thead><tbody><p>10 rows × 5 columns</p><tr><th>1</th><td>140.0</td><td>4.0</td><td>-203.719</td><td>-213.35</td><td>2.61436e-58</td></tr><tr><th>2</th><td>140.151</td><td>4.0</td><td>-201.258</td><td>-210.876</td><td>3.10483e-57</td></tr><tr><th>3</th><td>140.302</td><td>4.0</td><td>-198.827</td><td>-208.43</td><td>3.58383e-56</td></tr><tr><th>4</th><td>140.452</td><td>4.0</td><td>-196.423</td><td>-206.012</td><td>4.02064e-55</td></tr><tr><th>5</th><td>140.603</td><td>4.0</td><td>-194.048</td><td>-203.623</td><td>4.3841e-54</td></tr><tr><th>6</th><td>140.754</td><td>4.0</td><td>-191.702</td><td>-201.262</td><td>4.64626e-53</td></tr><tr><th>7</th><td>140.905</td><td>4.0</td><td>-189.383</td><td>-198.93</td><td>4.7859e-52</td></tr><tr><th>8</th><td>141.055</td><td>4.0</td><td>-187.094</td><td>-196.627</td><td>4.7914e-51</td></tr><tr><th>9</th><td>141.206</td><td>4.0</td><td>-184.832</td><td>-194.351</td><td>4.66228e-50</td></tr><tr><th>10</th><td>141.357</td><td>4.0</td><td>-182.599</td><td>-192.104</td><td>4.40933e-49</td></tr></tbody></table>"
      ]
     },
     "metadata": {},
     "execution_count": 6
    }
   ],
   "cell_type": "code",
   "source": [
    "struct Post\n",
    "  mu::Float64\n",
    "  sigma::Float64\n",
    "  ll:: Float64\n",
    "  prod::Float64\n",
    "  prob::Float64\n",
    "end\n",
    "\n",
    "mu_list = repeat(range(140, 170, length=200), 200);\n",
    "sigma_list = repeat(range(4, 20, length=200), inner=200);\n",
    "\n",
    "ll = zeros(40000);\n",
    "for i in 1:40000\n",
    "    d1 = Normal(mu_list[i], sigma_list[i])\n",
    "    ll[i] = sum(log.(pdf.(d1, df3[:height])))\n",
    "end\n",
    "\n",
    "d2 = Normal(178.0, 20.0)\n",
    "d3 = Uniform(0, 50)\n",
    "prod = ll + log.(pdf.(d2, mu_list)) + log.(pdf.(d3, sigma_list))\n",
    "prob = exp.(prod .- maximum(prod))\n",
    "post = DataFrame(mu=mu_list, sigma=sigma_list, ll=ll, prod=prod, prob=prob)\n",
    "first(post, 10)"
   ],
   "metadata": {},
   "execution_count": 6
  },
  {
   "outputs": [],
   "cell_type": "markdown",
   "source": [
    "Sample post"
   ],
   "metadata": {}
  },
  {
   "outputs": [
    {
     "output_type": "execute_result",
     "data": {
      "text/plain": "10000×5 DataFrame\n│ Row   │ mu      │ sigma   │ ll       │ prod     │ prob      │\n│       │ \u001b[90mFloat64\u001b[39m │ \u001b[90mFloat64\u001b[39m │ \u001b[90mFloat64\u001b[39m  │ \u001b[90mFloat64\u001b[39m  │ \u001b[90mFloat64\u001b[39m   │\n├───────┼─────────┼─────────┼──────────┼──────────┼───────────┤\n│ 1     │ 150.553 │ 12.2814 │ -74.2691 │ -83.0375 │ 0.102693  │\n│ 2     │ 150.251 │ 8.90452 │ -73.215  │ -82.0042 │ 0.288615  │\n│ 3     │ 156.583 │ 8.58291 │ -73.8189 │ -82.2189 │ 0.232836  │\n│ 4     │ 151.307 │ 10.191  │ -72.8091 │ -81.5265 │ 0.465335  │\n│ 5     │ 150.251 │ 11.0754 │ -73.6516 │ -82.4408 │ 0.186509  │\n│ 6     │ 151.759 │ 8.26131 │ -72.5728 │ -81.2603 │ 0.607286  │\n│ 7     │ 155.528 │ 11.2362 │ -73.534  │ -81.9919 │ 0.292163  │\n⋮\n│ 9993  │ 152.211 │ 13.3266 │ -74.7127 │ -83.3707 │ 0.0735919 │\n│ 9994  │ 155.528 │ 9.46734 │ -72.8752 │ -81.3332 │ 0.564563  │\n│ 9995  │ 152.362 │ 10.1106 │ -72.5107 │ -81.159  │ 0.671966  │\n│ 9996  │ 153.417 │ 10.8342 │ -72.8349 │ -81.417  │ 0.519208  │\n│ 9997  │ 149.648 │ 9.86935 │ -73.6012 │ -82.4327 │ 0.188019  │\n│ 9998  │ 150.251 │ 9.06533 │ -73.1824 │ -81.9716 │ 0.298157  │\n│ 9999  │ 152.814 │ 8.26131 │ -72.3116 │ -80.9312 │ 0.843883  │\n│ 10000 │ 149.648 │ 8.74372 │ -73.7646 │ -82.596  │ 0.159689  │",
      "text/html": [
       "<table class=\"data-frame\"><thead><tr><th></th><th>mu</th><th>sigma</th><th>ll</th><th>prod</th><th>prob</th></tr><tr><th></th><th>Float64</th><th>Float64</th><th>Float64</th><th>Float64</th><th>Float64</th></tr></thead><tbody><p>10,000 rows × 5 columns</p><tr><th>1</th><td>150.553</td><td>12.2814</td><td>-74.2691</td><td>-83.0375</td><td>0.102693</td></tr><tr><th>2</th><td>150.251</td><td>8.90452</td><td>-73.215</td><td>-82.0042</td><td>0.288615</td></tr><tr><th>3</th><td>156.583</td><td>8.58291</td><td>-73.8189</td><td>-82.2189</td><td>0.232836</td></tr><tr><th>4</th><td>151.307</td><td>10.191</td><td>-72.8091</td><td>-81.5265</td><td>0.465335</td></tr><tr><th>5</th><td>150.251</td><td>11.0754</td><td>-73.6516</td><td>-82.4408</td><td>0.186509</td></tr><tr><th>6</th><td>151.759</td><td>8.26131</td><td>-72.5728</td><td>-81.2603</td><td>0.607286</td></tr><tr><th>7</th><td>155.528</td><td>11.2362</td><td>-73.534</td><td>-81.9919</td><td>0.292163</td></tr><tr><th>8</th><td>154.02</td><td>11.8794</td><td>-73.5828</td><td>-82.1283</td><td>0.25493</td></tr><tr><th>9</th><td>153.568</td><td>8.50251</td><td>-72.2452</td><td>-80.8181</td><td>0.94498</td></tr><tr><th>10</th><td>152.814</td><td>8.98492</td><td>-72.1821</td><td>-80.8017</td><td>0.96061</td></tr><tr><th>11</th><td>151.307</td><td>10.3518</td><td>-72.8756</td><td>-81.593</td><td>0.4354</td></tr><tr><th>12</th><td>154.02</td><td>12.6834</td><td>-74.1918</td><td>-82.7373</td><td>0.138645</td></tr><tr><th>13</th><td>153.869</td><td>8.58291</td><td>-72.2753</td><td>-80.8299</td><td>0.933891</td></tr><tr><th>14</th><td>154.171</td><td>10.6734</td><td>-72.83</td><td>-81.3665</td><td>0.546075</td></tr><tr><th>15</th><td>153.417</td><td>11.1558</td><td>-73.0334</td><td>-81.6155</td><td>0.425722</td></tr><tr><th>16</th><td>149.799</td><td>9.70854</td><td>-73.4788</td><td>-82.2996</td><td>0.214788</td></tr><tr><th>17</th><td>157.94</td><td>8.50251</td><td>-75.4174</td><td>-83.7472</td><td>0.0505064</td></tr><tr><th>18</th><td>151.91</td><td>8.90452</td><td>-72.3572</td><td>-81.0348</td><td>0.760842</td></tr><tr><th>19</th><td>151.005</td><td>7.9397</td><td>-73.1857</td><td>-81.9233</td><td>0.312928</td></tr><tr><th>20</th><td>153.719</td><td>8.82412</td><td>-72.2162</td><td>-80.7798</td><td>0.981826</td></tr><tr><th>21</th><td>149.045</td><td>9.06533</td><td>-74.2047</td><td>-83.0793</td><td>0.0984861</td></tr><tr><th>22</th><td>152.965</td><td>13.1658</td><td>-74.5342</td><td>-83.1444</td><td>0.0922869</td></tr><tr><th>23</th><td>150.402</td><td>12.201</td><td>-74.2673</td><td>-83.046</td><td>0.101823</td></tr><tr><th>24</th><td>149.95</td><td>14.5327</td><td>-76.1624</td><td>-84.9727</td><td>0.0148291</td></tr><tr><th>&vellip;</th><td>&vellip;</td><td>&vellip;</td><td>&vellip;</td><td>&vellip;</td><td>&vellip;</td></tr></tbody></table>"
      ]
     },
     "metadata": {},
     "execution_count": 7
    }
   ],
   "cell_type": "code",
   "source": [
    "samples = post[sample(1:size(post, 1), Weights(post[:prob]), 10000, replace=true), :]"
   ],
   "metadata": {},
   "execution_count": 7
  },
  {
   "outputs": [],
   "cell_type": "markdown",
   "source": [
    "### Snippet 4.23"
   ],
   "metadata": {}
  },
  {
   "outputs": [],
   "cell_type": "markdown",
   "source": [
    "Density of sigma"
   ],
   "metadata": {}
  },
  {
   "outputs": [
    {
     "output_type": "execute_result",
     "data": {
      "text/plain": "Plot{Plots.GRBackend() n=1}",
      "image/png": "[encoded data removed]",
      "text/html": [
       "<?xml version=\"1.0\" encoding=\"utf-8\"?>\n",
       "<svg xmlns=\"http://www.w3.org/2000/svg\" xmlns:xlink=\"http://www.w3.org/1999/xlink\" width=\"500\" height=\"500\" viewBox=\"0 0 2000 2000\">\n",
       "<defs>\n",
       "  <clipPath id=\"clip1600\">\n",
       "    <rect x=\"0\" y=\"0\" width=\"2000\" height=\"2000\"/>\n",
       "  </clipPath>\n",
       "</defs>\n",
       "<polygon clip-path=\"url(#clip1600)\" points=\"\n",
       "0,2000 2000,2000 2000,0 0,0 \n",
       "  \" fill=\"#ffffff\" fill-rule=\"evenodd\" fill-opacity=\"1\"/>\n",
       "<defs>\n",
       "  <clipPath id=\"clip1601\">\n",
       "    <rect x=\"400\" y=\"200\" width=\"1401\" height=\"1401\"/>\n",
       "  </clipPath>\n",
       "</defs>\n",
       "<polygon clip-path=\"url(#clip1600)\" points=\"\n",
       "188.156,1886.71 1921.26,1886.71 1921.26,47.2441 188.156,47.2441 \n",
       "  \" fill=\"#ffffff\" fill-rule=\"evenodd\" fill-opacity=\"1\"/>\n",
       "<defs>\n",
       "  <clipPath id=\"clip1602\">\n",
       "    <rect x=\"188\" y=\"47\" width=\"1734\" height=\"1840\"/>\n",
       "  </clipPath>\n",
       "</defs>\n",
       "<polyline clip-path=\"url(#clip1602)\" style=\"stroke:#000000; stroke-width:2; stroke-opacity:0.1; fill:none\" points=\"\n",
       "  277.745,1886.71 277.745,47.2441 \n",
       "  \"/>\n",
       "<polyline clip-path=\"url(#clip1602)\" style=\"stroke:#000000; stroke-width:2; stroke-opacity:0.1; fill:none\" points=\"\n",
       "  788.702,1886.71 788.702,47.2441 \n",
       "  \"/>\n",
       "<polyline clip-path=\"url(#clip1602)\" style=\"stroke:#000000; stroke-width:2; stroke-opacity:0.1; fill:none\" points=\"\n",
       "  1299.66,1886.71 1299.66,47.2441 \n",
       "  \"/>\n",
       "<polyline clip-path=\"url(#clip1602)\" style=\"stroke:#000000; stroke-width:2; stroke-opacity:0.1; fill:none\" points=\"\n",
       "  1810.62,1886.71 1810.62,47.2441 \n",
       "  \"/>\n",
       "<polyline clip-path=\"url(#clip1602)\" style=\"stroke:#000000; stroke-width:2; stroke-opacity:0.1; fill:none\" points=\"\n",
       "  188.156,1834.65 1921.26,1834.65 \n",
       "  \"/>\n",
       "<polyline clip-path=\"url(#clip1602)\" style=\"stroke:#000000; stroke-width:2; stroke-opacity:0.1; fill:none\" points=\"\n",
       "  188.156,1490.41 1921.26,1490.41 \n",
       "  \"/>\n",
       "<polyline clip-path=\"url(#clip1602)\" style=\"stroke:#000000; stroke-width:2; stroke-opacity:0.1; fill:none\" points=\"\n",
       "  188.156,1146.17 1921.26,1146.17 \n",
       "  \"/>\n",
       "<polyline clip-path=\"url(#clip1602)\" style=\"stroke:#000000; stroke-width:2; stroke-opacity:0.1; fill:none\" points=\"\n",
       "  188.156,801.927 1921.26,801.927 \n",
       "  \"/>\n",
       "<polyline clip-path=\"url(#clip1602)\" style=\"stroke:#000000; stroke-width:2; stroke-opacity:0.1; fill:none\" points=\"\n",
       "  188.156,457.687 1921.26,457.687 \n",
       "  \"/>\n",
       "<polyline clip-path=\"url(#clip1602)\" style=\"stroke:#000000; stroke-width:2; stroke-opacity:0.1; fill:none\" points=\"\n",
       "  188.156,113.446 1921.26,113.446 \n",
       "  \"/>\n",
       "<polyline clip-path=\"url(#clip1600)\" style=\"stroke:#000000; stroke-width:4; stroke-opacity:1; fill:none\" points=\"\n",
       "  188.156,1886.71 1921.26,1886.71 \n",
       "  \"/>\n",
       "<polyline clip-path=\"url(#clip1600)\" style=\"stroke:#000000; stroke-width:4; stroke-opacity:1; fill:none\" points=\"\n",
       "  188.156,1886.71 188.156,47.2441 \n",
       "  \"/>\n",
       "<polyline clip-path=\"url(#clip1600)\" style=\"stroke:#000000; stroke-width:4; stroke-opacity:1; fill:none\" points=\"\n",
       "  277.745,1886.71 277.745,1859.12 \n",
       "  \"/>\n",
       "<polyline clip-path=\"url(#clip1600)\" style=\"stroke:#000000; stroke-width:4; stroke-opacity:1; fill:none\" points=\"\n",
       "  788.702,1886.71 788.702,1859.12 \n",
       "  \"/>\n",
       "<polyline clip-path=\"url(#clip1600)\" style=\"stroke:#000000; stroke-width:4; stroke-opacity:1; fill:none\" points=\"\n",
       "  1299.66,1886.71 1299.66,1859.12 \n",
       "  \"/>\n",
       "<polyline clip-path=\"url(#clip1600)\" style=\"stroke:#000000; stroke-width:4; stroke-opacity:1; fill:none\" points=\"\n",
       "  1810.62,1886.71 1810.62,1859.12 \n",
       "  \"/>\n",
       "<polyline clip-path=\"url(#clip1600)\" style=\"stroke:#000000; stroke-width:4; stroke-opacity:1; fill:none\" points=\"\n",
       "  188.156,1834.65 214.153,1834.65 \n",
       "  \"/>\n",
       "<polyline clip-path=\"url(#clip1600)\" style=\"stroke:#000000; stroke-width:4; stroke-opacity:1; fill:none\" points=\"\n",
       "  188.156,1490.41 214.153,1490.41 \n",
       "  \"/>\n",
       "<polyline clip-path=\"url(#clip1600)\" style=\"stroke:#000000; stroke-width:4; stroke-opacity:1; fill:none\" points=\"\n",
       "  188.156,1146.17 214.153,1146.17 \n",
       "  \"/>\n",
       "<polyline clip-path=\"url(#clip1600)\" style=\"stroke:#000000; stroke-width:4; stroke-opacity:1; fill:none\" points=\"\n",
       "  188.156,801.927 214.153,801.927 \n",
       "  \"/>\n",
       "<polyline clip-path=\"url(#clip1600)\" style=\"stroke:#000000; stroke-width:4; stroke-opacity:1; fill:none\" points=\"\n",
       "  188.156,457.687 214.153,457.687 \n",
       "  \"/>\n",
       "<polyline clip-path=\"url(#clip1600)\" style=\"stroke:#000000; stroke-width:4; stroke-opacity:1; fill:none\" points=\"\n",
       "  188.156,113.446 214.153,113.446 \n",
       "  \"/>\n",
       "<g clip-path=\"url(#clip1600)\">\n",
       "<text style=\"fill:#000000; fill-opacity:1; font-family:Arial,Helvetica Neue,Helvetica,sans-serif; font-size:48px; text-anchor:middle;\" transform=\"rotate(0, 277.745, 1938.71)\" x=\"277.745\" y=\"1938.71\">5</text>\n",
       "</g>\n",
       "<g clip-path=\"url(#clip1600)\">\n",
       "<text style=\"fill:#000000; fill-opacity:1; font-family:Arial,Helvetica Neue,Helvetica,sans-serif; font-size:48px; text-anchor:middle;\" transform=\"rotate(0, 788.702, 1938.71)\" x=\"788.702\" y=\"1938.71\">10</text>\n",
       "</g>\n",
       "<g clip-path=\"url(#clip1600)\">\n",
       "<text style=\"fill:#000000; fill-opacity:1; font-family:Arial,Helvetica Neue,Helvetica,sans-serif; font-size:48px; text-anchor:middle;\" transform=\"rotate(0, 1299.66, 1938.71)\" x=\"1299.66\" y=\"1938.71\">15</text>\n",
       "</g>\n",
       "<g clip-path=\"url(#clip1600)\">\n",
       "<text style=\"fill:#000000; fill-opacity:1; font-family:Arial,Helvetica Neue,Helvetica,sans-serif; font-size:48px; text-anchor:middle;\" transform=\"rotate(0, 1810.62, 1938.71)\" x=\"1810.62\" y=\"1938.71\">20</text>\n",
       "</g>\n",
       "<g clip-path=\"url(#clip1600)\">\n",
       "<text style=\"fill:#000000; fill-opacity:1; font-family:Arial,Helvetica Neue,Helvetica,sans-serif; font-size:48px; text-anchor:end;\" transform=\"rotate(0, 168.156, 1852.15)\" x=\"168.156\" y=\"1852.15\">0.00</text>\n",
       "</g>\n",
       "<g clip-path=\"url(#clip1600)\">\n",
       "<text style=\"fill:#000000; fill-opacity:1; font-family:Arial,Helvetica Neue,Helvetica,sans-serif; font-size:48px; text-anchor:end;\" transform=\"rotate(0, 168.156, 1507.91)\" x=\"168.156\" y=\"1507.91\">0.05</text>\n",
       "</g>\n",
       "<g clip-path=\"url(#clip1600)\">\n",
       "<text style=\"fill:#000000; fill-opacity:1; font-family:Arial,Helvetica Neue,Helvetica,sans-serif; font-size:48px; text-anchor:end;\" transform=\"rotate(0, 168.156, 1163.67)\" x=\"168.156\" y=\"1163.67\">0.10</text>\n",
       "</g>\n",
       "<g clip-path=\"url(#clip1600)\">\n",
       "<text style=\"fill:#000000; fill-opacity:1; font-family:Arial,Helvetica Neue,Helvetica,sans-serif; font-size:48px; text-anchor:end;\" transform=\"rotate(0, 168.156, 819.427)\" x=\"168.156\" y=\"819.427\">0.15</text>\n",
       "</g>\n",
       "<g clip-path=\"url(#clip1600)\">\n",
       "<text style=\"fill:#000000; fill-opacity:1; font-family:Arial,Helvetica Neue,Helvetica,sans-serif; font-size:48px; text-anchor:end;\" transform=\"rotate(0, 168.156, 475.187)\" x=\"168.156\" y=\"475.187\">0.20</text>\n",
       "</g>\n",
       "<g clip-path=\"url(#clip1600)\">\n",
       "<text style=\"fill:#000000; fill-opacity:1; font-family:Arial,Helvetica Neue,Helvetica,sans-serif; font-size:48px; text-anchor:end;\" transform=\"rotate(0, 168.156, 130.946)\" x=\"168.156\" y=\"130.946\">0.25</text>\n",
       "</g>\n",
       "<polyline clip-path=\"url(#clip1602)\" style=\"stroke:#009af9; stroke-width:4; stroke-opacity:1; fill:none\" points=\"\n",
       "  237.206,1834.65 245.423,1834.65 253.639,1834.64 261.855,1834.63 270.071,1834.6 278.287,1834.55 286.503,1834.44 294.719,1834.26 302.935,1833.99 311.151,1833.62 \n",
       "  319.367,1833.14 327.584,1832.49 335.8,1831.58 344.016,1830.21 352.232,1828.11 360.448,1824.94 368.664,1820.31 376.88,1813.86 385.096,1805.25 393.312,1794.3 \n",
       "  401.528,1780.89 409.745,1765.01 417.961,1746.62 426.177,1725.66 434.393,1702.03 442.609,1675.51 450.825,1645.75 459.041,1612.17 467.257,1573.99 475.473,1530.38 \n",
       "  483.689,1480.68 491.905,1424.72 500.122,1363.09 508.338,1297.2 516.554,1229.07 524.77,1160.74 532.986,1093.42 541.202,1026.93 549.418,959.889 557.634,890.541 \n",
       "  565.85,817.911 574.066,742.489 582.283,666.077 590.499,590.979 598.715,519.122 606.931,451.696 615.147,389.4 623.363,332.914 631.579,283.044 639.795,240.392 \n",
       "  648.011,204.896 656.227,175.75 664.444,151.865 672.66,132.499 680.876,117.515 689.092,107.088 697.308,101.18 705.524,99.3044 713.74,100.812 721.956,105.413 \n",
       "  730.172,113.41 738.388,125.354 746.604,141.438 754.821,161.268 763.037,184.384 771.253,211.123 779.469,242.902 787.685,281.398 795.901,327.077 804.117,378.2 \n",
       "  812.333,431.131 820.549,481.787 828.765,527.294 836.982,566.948 845.198,602.101 853.414,635.205 861.63,668.586 869.846,703.603 878.062,740.577 886.278,779.392 \n",
       "  894.494,820.194 902.71,863.577 910.926,910.031 919.143,959.094 927.359,1008.95 935.575,1056.95 943.791,1100.87 952.007,1139.94 960.223,1174.99 968.439,1207.54 \n",
       "  976.655,1238.75 984.871,1268.84 993.087,1297.42 1001.3,1324.12 1009.52,1348.97 1017.74,1372.25 1025.95,1394.25 1034.17,1415.25 1042.38,1435.59 1050.6,1455.81 \n",
       "  1058.82,1476.42 1067.03,1497.53 1075.25,1518.71 1083.46,1539.18 1091.68,1558.25 1099.9,1575.68 1108.11,1591.78 1116.33,1607.1 1124.54,1622.05 1132.76,1636.64 \n",
       "  1140.98,1650.54 1149.19,1663.33 1157.41,1674.79 1165.63,1684.99 1173.84,1694.18 1182.06,1702.57 1190.27,1710.29 1198.49,1717.49 1206.71,1724.27 1214.92,1730.74 \n",
       "  1223.14,1736.83 1231.35,1742.33 1239.57,1747.04 1247.79,1750.96 1256,1754.33 1264.22,1757.57 1272.43,1761.03 1280.65,1764.86 1288.87,1768.97 1297.08,1773.09 \n",
       "  1305.3,1776.84 1313.52,1779.85 1321.73,1781.83 1329.95,1782.78 1338.16,1783.06 1346.38,1783.3 1354.6,1784.07 1362.81,1785.73 1371.03,1788.26 1379.24,1791.49 \n",
       "  1387.46,1795.2 1395.68,1799.28 1403.89,1803.59 1412.11,1807.95 1420.32,1812.13 1428.54,1815.84 1436.76,1818.9 1444.97,1821.21 1453.19,1822.78 1461.4,1823.65 \n",
       "  1469.62,1823.97 1477.84,1823.92 1486.05,1823.71 1494.27,1823.56 1502.49,1823.62 1510.7,1823.95 1518.92,1824.51 1527.13,1825.28 1535.35,1826.21 1543.57,1827.28 \n",
       "  1551.78,1828.46 1560,1829.62 1568.21,1830.66 1576.43,1831.44 1584.65,1831.89 1592.86,1831.99 1601.08,1831.76 1609.29,1831.22 1617.51,1830.45 1625.73,1829.57 \n",
       "  1633.94,1828.76 1642.16,1828.25 1650.38,1828.22 1658.59,1828.73 1666.81,1829.68 1675.02,1830.85 1683.24,1832 1691.46,1832.92 1699.67,1833.53 1707.89,1833.82 \n",
       "  1716.1,1833.83 1724.32,1833.66 1732.54,1833.39 1740.75,1833.13 1748.97,1832.92 1757.18,1832.81 1765.4,1832.81 1773.62,1832.92 1781.83,1833.14 1790.05,1833.42 \n",
       "  1798.26,1833.74 1806.48,1834.03 1814.7,1834.27 1822.91,1834.44 1831.13,1834.55 1839.35,1834.6 1847.56,1834.63 1855.78,1834.64 1863.99,1834.65 1872.21,1834.65 \n",
       "  \n",
       "  \"/>\n",
       "<polygon clip-path=\"url(#clip1600)\" points=\"\n",
       "1610.43,227.724 1861.26,227.724 1861.26,106.764 1610.43,106.764 \n",
       "  \" fill=\"#ffffff\" fill-rule=\"evenodd\" fill-opacity=\"1\"/>\n",
       "<polyline clip-path=\"url(#clip1600)\" style=\"stroke:#000000; stroke-width:4; stroke-opacity:1; fill:none\" points=\"\n",
       "  1610.43,227.724 1861.26,227.724 1861.26,106.764 1610.43,106.764 1610.43,227.724 \n",
       "  \"/>\n",
       "<polyline clip-path=\"url(#clip1600)\" style=\"stroke:#009af9; stroke-width:4; stroke-opacity:1; fill:none\" points=\"\n",
       "  1630.43,167.244 1750.43,167.244 \n",
       "  \"/>\n",
       "<g clip-path=\"url(#clip1600)\">\n",
       "<text style=\"fill:#000000; fill-opacity:1; font-family:Arial,Helvetica Neue,Helvetica,sans-serif; font-size:48px; text-anchor:start;\" transform=\"rotate(0, 1770.43, 184.744)\" x=\"1770.43\" y=\"184.744\">y1</text>\n",
       "</g>\n",
       "</svg>\n"
      ],
      "image/svg+xml": [
       "<?xml version=\"1.0\" encoding=\"utf-8\"?>\n",
       "<svg xmlns=\"http://www.w3.org/2000/svg\" xmlns:xlink=\"http://www.w3.org/1999/xlink\" width=\"500\" height=\"500\" viewBox=\"0 0 2000 2000\">\n",
       "<defs>\n",
       "  <clipPath id=\"clip1500\">\n",
       "    <rect x=\"0\" y=\"0\" width=\"2000\" height=\"2000\"/>\n",
       "  </clipPath>\n",
       "</defs>\n",
       "<polygon clip-path=\"url(#clip1500)\" points=\"\n",
       "0,2000 2000,2000 2000,0 0,0 \n",
       "  \" fill=\"#ffffff\" fill-rule=\"evenodd\" fill-opacity=\"1\"/>\n",
       "<defs>\n",
       "  <clipPath id=\"clip1501\">\n",
       "    <rect x=\"400\" y=\"200\" width=\"1401\" height=\"1401\"/>\n",
       "  </clipPath>\n",
       "</defs>\n",
       "<polygon clip-path=\"url(#clip1500)\" points=\"\n",
       "188.156,1886.71 1921.26,1886.71 1921.26,47.2441 188.156,47.2441 \n",
       "  \" fill=\"#ffffff\" fill-rule=\"evenodd\" fill-opacity=\"1\"/>\n",
       "<defs>\n",
       "  <clipPath id=\"clip1502\">\n",
       "    <rect x=\"188\" y=\"47\" width=\"1734\" height=\"1840\"/>\n",
       "  </clipPath>\n",
       "</defs>\n",
       "<polyline clip-path=\"url(#clip1502)\" style=\"stroke:#000000; stroke-width:2; stroke-opacity:0.1; fill:none\" points=\"\n",
       "  277.745,1886.71 277.745,47.2441 \n",
       "  \"/>\n",
       "<polyline clip-path=\"url(#clip1502)\" style=\"stroke:#000000; stroke-width:2; stroke-opacity:0.1; fill:none\" points=\"\n",
       "  788.702,1886.71 788.702,47.2441 \n",
       "  \"/>\n",
       "<polyline clip-path=\"url(#clip1502)\" style=\"stroke:#000000; stroke-width:2; stroke-opacity:0.1; fill:none\" points=\"\n",
       "  1299.66,1886.71 1299.66,47.2441 \n",
       "  \"/>\n",
       "<polyline clip-path=\"url(#clip1502)\" style=\"stroke:#000000; stroke-width:2; stroke-opacity:0.1; fill:none\" points=\"\n",
       "  1810.62,1886.71 1810.62,47.2441 \n",
       "  \"/>\n",
       "<polyline clip-path=\"url(#clip1502)\" style=\"stroke:#000000; stroke-width:2; stroke-opacity:0.1; fill:none\" points=\"\n",
       "  188.156,1834.65 1921.26,1834.65 \n",
       "  \"/>\n",
       "<polyline clip-path=\"url(#clip1502)\" style=\"stroke:#000000; stroke-width:2; stroke-opacity:0.1; fill:none\" points=\"\n",
       "  188.156,1490.41 1921.26,1490.41 \n",
       "  \"/>\n",
       "<polyline clip-path=\"url(#clip1502)\" style=\"stroke:#000000; stroke-width:2; stroke-opacity:0.1; fill:none\" points=\"\n",
       "  188.156,1146.17 1921.26,1146.17 \n",
       "  \"/>\n",
       "<polyline clip-path=\"url(#clip1502)\" style=\"stroke:#000000; stroke-width:2; stroke-opacity:0.1; fill:none\" points=\"\n",
       "  188.156,801.927 1921.26,801.927 \n",
       "  \"/>\n",
       "<polyline clip-path=\"url(#clip1502)\" style=\"stroke:#000000; stroke-width:2; stroke-opacity:0.1; fill:none\" points=\"\n",
       "  188.156,457.687 1921.26,457.687 \n",
       "  \"/>\n",
       "<polyline clip-path=\"url(#clip1502)\" style=\"stroke:#000000; stroke-width:2; stroke-opacity:0.1; fill:none\" points=\"\n",
       "  188.156,113.446 1921.26,113.446 \n",
       "  \"/>\n",
       "<polyline clip-path=\"url(#clip1500)\" style=\"stroke:#000000; stroke-width:4; stroke-opacity:1; fill:none\" points=\"\n",
       "  188.156,1886.71 1921.26,1886.71 \n",
       "  \"/>\n",
       "<polyline clip-path=\"url(#clip1500)\" style=\"stroke:#000000; stroke-width:4; stroke-opacity:1; fill:none\" points=\"\n",
       "  188.156,1886.71 188.156,47.2441 \n",
       "  \"/>\n",
       "<polyline clip-path=\"url(#clip1500)\" style=\"stroke:#000000; stroke-width:4; stroke-opacity:1; fill:none\" points=\"\n",
       "  277.745,1886.71 277.745,1859.12 \n",
       "  \"/>\n",
       "<polyline clip-path=\"url(#clip1500)\" style=\"stroke:#000000; stroke-width:4; stroke-opacity:1; fill:none\" points=\"\n",
       "  788.702,1886.71 788.702,1859.12 \n",
       "  \"/>\n",
       "<polyline clip-path=\"url(#clip1500)\" style=\"stroke:#000000; stroke-width:4; stroke-opacity:1; fill:none\" points=\"\n",
       "  1299.66,1886.71 1299.66,1859.12 \n",
       "  \"/>\n",
       "<polyline clip-path=\"url(#clip1500)\" style=\"stroke:#000000; stroke-width:4; stroke-opacity:1; fill:none\" points=\"\n",
       "  1810.62,1886.71 1810.62,1859.12 \n",
       "  \"/>\n",
       "<polyline clip-path=\"url(#clip1500)\" style=\"stroke:#000000; stroke-width:4; stroke-opacity:1; fill:none\" points=\"\n",
       "  188.156,1834.65 214.153,1834.65 \n",
       "  \"/>\n",
       "<polyline clip-path=\"url(#clip1500)\" style=\"stroke:#000000; stroke-width:4; stroke-opacity:1; fill:none\" points=\"\n",
       "  188.156,1490.41 214.153,1490.41 \n",
       "  \"/>\n",
       "<polyline clip-path=\"url(#clip1500)\" style=\"stroke:#000000; stroke-width:4; stroke-opacity:1; fill:none\" points=\"\n",
       "  188.156,1146.17 214.153,1146.17 \n",
       "  \"/>\n",
       "<polyline clip-path=\"url(#clip1500)\" style=\"stroke:#000000; stroke-width:4; stroke-opacity:1; fill:none\" points=\"\n",
       "  188.156,801.927 214.153,801.927 \n",
       "  \"/>\n",
       "<polyline clip-path=\"url(#clip1500)\" style=\"stroke:#000000; stroke-width:4; stroke-opacity:1; fill:none\" points=\"\n",
       "  188.156,457.687 214.153,457.687 \n",
       "  \"/>\n",
       "<polyline clip-path=\"url(#clip1500)\" style=\"stroke:#000000; stroke-width:4; stroke-opacity:1; fill:none\" points=\"\n",
       "  188.156,113.446 214.153,113.446 \n",
       "  \"/>\n",
       "<g clip-path=\"url(#clip1500)\">\n",
       "<text style=\"fill:#000000; fill-opacity:1; font-family:Arial,Helvetica Neue,Helvetica,sans-serif; font-size:48px; text-anchor:middle;\" transform=\"rotate(0, 277.745, 1938.71)\" x=\"277.745\" y=\"1938.71\">5</text>\n",
       "</g>\n",
       "<g clip-path=\"url(#clip1500)\">\n",
       "<text style=\"fill:#000000; fill-opacity:1; font-family:Arial,Helvetica Neue,Helvetica,sans-serif; font-size:48px; text-anchor:middle;\" transform=\"rotate(0, 788.702, 1938.71)\" x=\"788.702\" y=\"1938.71\">10</text>\n",
       "</g>\n",
       "<g clip-path=\"url(#clip1500)\">\n",
       "<text style=\"fill:#000000; fill-opacity:1; font-family:Arial,Helvetica Neue,Helvetica,sans-serif; font-size:48px; text-anchor:middle;\" transform=\"rotate(0, 1299.66, 1938.71)\" x=\"1299.66\" y=\"1938.71\">15</text>\n",
       "</g>\n",
       "<g clip-path=\"url(#clip1500)\">\n",
       "<text style=\"fill:#000000; fill-opacity:1; font-family:Arial,Helvetica Neue,Helvetica,sans-serif; font-size:48px; text-anchor:middle;\" transform=\"rotate(0, 1810.62, 1938.71)\" x=\"1810.62\" y=\"1938.71\">20</text>\n",
       "</g>\n",
       "<g clip-path=\"url(#clip1500)\">\n",
       "<text style=\"fill:#000000; fill-opacity:1; font-family:Arial,Helvetica Neue,Helvetica,sans-serif; font-size:48px; text-anchor:end;\" transform=\"rotate(0, 168.156, 1852.15)\" x=\"168.156\" y=\"1852.15\">0.00</text>\n",
       "</g>\n",
       "<g clip-path=\"url(#clip1500)\">\n",
       "<text style=\"fill:#000000; fill-opacity:1; font-family:Arial,Helvetica Neue,Helvetica,sans-serif; font-size:48px; text-anchor:end;\" transform=\"rotate(0, 168.156, 1507.91)\" x=\"168.156\" y=\"1507.91\">0.05</text>\n",
       "</g>\n",
       "<g clip-path=\"url(#clip1500)\">\n",
       "<text style=\"fill:#000000; fill-opacity:1; font-family:Arial,Helvetica Neue,Helvetica,sans-serif; font-size:48px; text-anchor:end;\" transform=\"rotate(0, 168.156, 1163.67)\" x=\"168.156\" y=\"1163.67\">0.10</text>\n",
       "</g>\n",
       "<g clip-path=\"url(#clip1500)\">\n",
       "<text style=\"fill:#000000; fill-opacity:1; font-family:Arial,Helvetica Neue,Helvetica,sans-serif; font-size:48px; text-anchor:end;\" transform=\"rotate(0, 168.156, 819.427)\" x=\"168.156\" y=\"819.427\">0.15</text>\n",
       "</g>\n",
       "<g clip-path=\"url(#clip1500)\">\n",
       "<text style=\"fill:#000000; fill-opacity:1; font-family:Arial,Helvetica Neue,Helvetica,sans-serif; font-size:48px; text-anchor:end;\" transform=\"rotate(0, 168.156, 475.187)\" x=\"168.156\" y=\"475.187\">0.20</text>\n",
       "</g>\n",
       "<g clip-path=\"url(#clip1500)\">\n",
       "<text style=\"fill:#000000; fill-opacity:1; font-family:Arial,Helvetica Neue,Helvetica,sans-serif; font-size:48px; text-anchor:end;\" transform=\"rotate(0, 168.156, 130.946)\" x=\"168.156\" y=\"130.946\">0.25</text>\n",
       "</g>\n",
       "<polyline clip-path=\"url(#clip1502)\" style=\"stroke:#009af9; stroke-width:4; stroke-opacity:1; fill:none\" points=\"\n",
       "  237.206,1834.65 245.423,1834.65 253.639,1834.64 261.855,1834.63 270.071,1834.6 278.287,1834.55 286.503,1834.44 294.719,1834.26 302.935,1833.99 311.151,1833.62 \n",
       "  319.367,1833.14 327.584,1832.49 335.8,1831.58 344.016,1830.21 352.232,1828.11 360.448,1824.94 368.664,1820.31 376.88,1813.86 385.096,1805.25 393.312,1794.3 \n",
       "  401.528,1780.89 409.745,1765.01 417.961,1746.62 426.177,1725.66 434.393,1702.03 442.609,1675.51 450.825,1645.75 459.041,1612.17 467.257,1573.99 475.473,1530.38 \n",
       "  483.689,1480.68 491.905,1424.72 500.122,1363.09 508.338,1297.2 516.554,1229.07 524.77,1160.74 532.986,1093.42 541.202,1026.93 549.418,959.889 557.634,890.541 \n",
       "  565.85,817.911 574.066,742.489 582.283,666.077 590.499,590.979 598.715,519.122 606.931,451.696 615.147,389.4 623.363,332.914 631.579,283.044 639.795,240.392 \n",
       "  648.011,204.896 656.227,175.75 664.444,151.865 672.66,132.499 680.876,117.515 689.092,107.088 697.308,101.18 705.524,99.3044 713.74,100.812 721.956,105.413 \n",
       "  730.172,113.41 738.388,125.354 746.604,141.438 754.821,161.268 763.037,184.384 771.253,211.123 779.469,242.902 787.685,281.398 795.901,327.077 804.117,378.2 \n",
       "  812.333,431.131 820.549,481.787 828.765,527.294 836.982,566.948 845.198,602.101 853.414,635.205 861.63,668.586 869.846,703.603 878.062,740.577 886.278,779.392 \n",
       "  894.494,820.194 902.71,863.577 910.926,910.031 919.143,959.094 927.359,1008.95 935.575,1056.95 943.791,1100.87 952.007,1139.94 960.223,1174.99 968.439,1207.54 \n",
       "  976.655,1238.75 984.871,1268.84 993.087,1297.42 1001.3,1324.12 1009.52,1348.97 1017.74,1372.25 1025.95,1394.25 1034.17,1415.25 1042.38,1435.59 1050.6,1455.81 \n",
       "  1058.82,1476.42 1067.03,1497.53 1075.25,1518.71 1083.46,1539.18 1091.68,1558.25 1099.9,1575.68 1108.11,1591.78 1116.33,1607.1 1124.54,1622.05 1132.76,1636.64 \n",
       "  1140.98,1650.54 1149.19,1663.33 1157.41,1674.79 1165.63,1684.99 1173.84,1694.18 1182.06,1702.57 1190.27,1710.29 1198.49,1717.49 1206.71,1724.27 1214.92,1730.74 \n",
       "  1223.14,1736.83 1231.35,1742.33 1239.57,1747.04 1247.79,1750.96 1256,1754.33 1264.22,1757.57 1272.43,1761.03 1280.65,1764.86 1288.87,1768.97 1297.08,1773.09 \n",
       "  1305.3,1776.84 1313.52,1779.85 1321.73,1781.83 1329.95,1782.78 1338.16,1783.06 1346.38,1783.3 1354.6,1784.07 1362.81,1785.73 1371.03,1788.26 1379.24,1791.49 \n",
       "  1387.46,1795.2 1395.68,1799.28 1403.89,1803.59 1412.11,1807.95 1420.32,1812.13 1428.54,1815.84 1436.76,1818.9 1444.97,1821.21 1453.19,1822.78 1461.4,1823.65 \n",
       "  1469.62,1823.97 1477.84,1823.92 1486.05,1823.71 1494.27,1823.56 1502.49,1823.62 1510.7,1823.95 1518.92,1824.51 1527.13,1825.28 1535.35,1826.21 1543.57,1827.28 \n",
       "  1551.78,1828.46 1560,1829.62 1568.21,1830.66 1576.43,1831.44 1584.65,1831.89 1592.86,1831.99 1601.08,1831.76 1609.29,1831.22 1617.51,1830.45 1625.73,1829.57 \n",
       "  1633.94,1828.76 1642.16,1828.25 1650.38,1828.22 1658.59,1828.73 1666.81,1829.68 1675.02,1830.85 1683.24,1832 1691.46,1832.92 1699.67,1833.53 1707.89,1833.82 \n",
       "  1716.1,1833.83 1724.32,1833.66 1732.54,1833.39 1740.75,1833.13 1748.97,1832.92 1757.18,1832.81 1765.4,1832.81 1773.62,1832.92 1781.83,1833.14 1790.05,1833.42 \n",
       "  1798.26,1833.74 1806.48,1834.03 1814.7,1834.27 1822.91,1834.44 1831.13,1834.55 1839.35,1834.6 1847.56,1834.63 1855.78,1834.64 1863.99,1834.65 1872.21,1834.65 \n",
       "  \n",
       "  \"/>\n",
       "<polygon clip-path=\"url(#clip1500)\" points=\"\n",
       "1610.43,227.724 1861.26,227.724 1861.26,106.764 1610.43,106.764 \n",
       "  \" fill=\"#ffffff\" fill-rule=\"evenodd\" fill-opacity=\"1\"/>\n",
       "<polyline clip-path=\"url(#clip1500)\" style=\"stroke:#000000; stroke-width:4; stroke-opacity:1; fill:none\" points=\"\n",
       "  1610.43,227.724 1861.26,227.724 1861.26,106.764 1610.43,106.764 1610.43,227.724 \n",
       "  \"/>\n",
       "<polyline clip-path=\"url(#clip1500)\" style=\"stroke:#009af9; stroke-width:4; stroke-opacity:1; fill:none\" points=\"\n",
       "  1630.43,167.244 1750.43,167.244 \n",
       "  \"/>\n",
       "<g clip-path=\"url(#clip1500)\">\n",
       "<text style=\"fill:#000000; fill-opacity:1; font-family:Arial,Helvetica Neue,Helvetica,sans-serif; font-size:48px; text-anchor:start;\" transform=\"rotate(0, 1770.43, 184.744)\" x=\"1770.43\" y=\"184.744\">y1</text>\n",
       "</g>\n",
       "</svg>\n"
      ]
     },
     "metadata": {},
     "execution_count": 8
    }
   ],
   "cell_type": "code",
   "source": [
    "density(samples[:sigma])"
   ],
   "metadata": {},
   "execution_count": 8
  },
  {
   "outputs": [],
   "cell_type": "markdown",
   "source": [
    "End of `clip-21-23.jl`"
   ],
   "metadata": {}
  },
  {
   "outputs": [],
   "cell_type": "markdown",
   "source": [
    "*This notebook was generated using [Literate.jl](https://github.com/fredrikekre/Literate.jl).*"
   ],
   "metadata": {}
  }
 ],
 "nbformat_minor": 3,
 "metadata": {
  "language_info": {
   "file_extension": ".jl",
   "mimetype": "application/julia",
   "name": "julia",
   "version": "1.2.0-DEV.404"
  },
  "kernelspec": {
   "name": "julia-1.2",
   "display_name": "Julia 1.2.0-DEV.404",
   "language": "julia"
  }
 },
 "nbformat": 4
}
