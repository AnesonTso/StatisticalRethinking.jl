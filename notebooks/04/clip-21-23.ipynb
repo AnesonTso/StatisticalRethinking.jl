{
 "cells": [
  {
   "outputs": [],
   "cell_type": "markdown",
   "source": [
    "Load Julia packages (libraries) needed  for the snippets in chapter 0"
   ],
   "metadata": {}
  },
  {
   "outputs": [],
   "cell_type": "code",
   "source": [
    "using StatisticalRethinking, CmdStan, StanMCMCChains\n",
    "gr(size=(500,500));"
   ],
   "metadata": {},
   "execution_count": 1
  },
  {
   "outputs": [],
   "cell_type": "markdown",
   "source": [
    "CmdStan uses a tmp directory to store the output of cmdstan"
   ],
   "metadata": {}
  },
  {
   "outputs": [],
   "cell_type": "code",
   "source": [
    "ProjDir = rel_path(\"..\", \"scripts\", \"04\")\n",
    "cd(ProjDir)"
   ],
   "metadata": {},
   "execution_count": 2
  },
  {
   "outputs": [],
   "cell_type": "markdown",
   "source": [
    "CmdStan uses a tmp directory to store the output of cmdstan"
   ],
   "metadata": {}
  },
  {
   "outputs": [],
   "cell_type": "code",
   "source": [
    "ProjDir = rel_path(\"..\", \"scripts\", \"04\")\n",
    "cd(ProjDir)"
   ],
   "metadata": {},
   "execution_count": 3
  },
  {
   "outputs": [
    {
     "output_type": "execute_result",
     "data": {
      "text/plain": "5×4 DataFrame\n│ Row │ height   │ weight   │ age      │ male   │\n│     │ \u001b[90mFloat64⍰\u001b[39m │ \u001b[90mFloat64⍰\u001b[39m │ \u001b[90mFloat64⍰\u001b[39m │ \u001b[90mInt64⍰\u001b[39m │\n├─────┼──────────┼──────────┼──────────┼────────┤\n│ 1   │ 151.765  │ 47.8256  │ 63.0     │ 1      │\n│ 2   │ 139.7    │ 36.4858  │ 63.0     │ 0      │\n│ 3   │ 136.525  │ 31.8648  │ 65.0     │ 0      │\n│ 4   │ 156.845  │ 53.0419  │ 41.0     │ 1      │\n│ 5   │ 145.415  │ 41.2769  │ 51.0     │ 0      │",
      "text/html": [
       "<table class=\"data-frame\"><thead><tr><th></th><th>height</th><th>weight</th><th>age</th><th>male</th></tr><tr><th></th><th>Float64⍰</th><th>Float64⍰</th><th>Float64⍰</th><th>Int64⍰</th></tr></thead><tbody><p>5 rows × 4 columns</p><tr><th>1</th><td>151.765</td><td>47.8256</td><td>63.0</td><td>1</td></tr><tr><th>2</th><td>139.7</td><td>36.4858</td><td>63.0</td><td>0</td></tr><tr><th>3</th><td>136.525</td><td>31.8648</td><td>65.0</td><td>0</td></tr><tr><th>4</th><td>156.845</td><td>53.0419</td><td>41.0</td><td>1</td></tr><tr><th>5</th><td>145.415</td><td>41.2769</td><td>51.0</td><td>0</td></tr></tbody></table>"
      ]
     },
     "metadata": {},
     "execution_count": 4
    }
   ],
   "cell_type": "code",
   "source": [
    "howell1 = CSV.read(rel_path(\"..\", \"data\", \"Howell1.csv\"), delim=';')\n",
    "df = convert(DataFrame, howell1);\n",
    "df2 = filter(row -> row[:age] >= 18, df);\n",
    "first(df2, 5)"
   ],
   "metadata": {},
   "execution_count": 4
  },
  {
   "outputs": [],
   "cell_type": "markdown",
   "source": [
    "### Snippet 4.21"
   ],
   "metadata": {}
  },
  {
   "outputs": [],
   "cell_type": "markdown",
   "source": [
    "Sample 20 random heights"
   ],
   "metadata": {}
  },
  {
   "outputs": [],
   "cell_type": "code",
   "source": [
    "n = size(df2, 1)\n",
    "selected_ind = sample(1:n, 20, replace=false);\n",
    "df3 = df2[selected_ind, :];"
   ],
   "metadata": {},
   "execution_count": 5
  },
  {
   "outputs": [],
   "cell_type": "markdown",
   "source": [
    "### Snippet 4.22"
   ],
   "metadata": {}
  },
  {
   "outputs": [],
   "cell_type": "markdown",
   "source": [
    "Generate approximate probabilities"
   ],
   "metadata": {}
  },
  {
   "outputs": [
    {
     "output_type": "execute_result",
     "data": {
      "text/plain": "10×5 DataFrame\n│ Row │ mu      │ sigma   │ ll       │ prod     │ prob        │\n│     │ \u001b[90mFloat64\u001b[39m │ \u001b[90mFloat64\u001b[39m │ \u001b[90mFloat64\u001b[39m  │ \u001b[90mFloat64\u001b[39m  │ \u001b[90mFloat64\u001b[39m     │\n├─────┼─────────┼─────────┼──────────┼──────────┼─────────────┤\n│ 1   │ 140.0   │ 4.0     │ -206.92  │ -216.552 │ 3.31356e-61 │\n│ 2   │ 140.151 │ 4.0     │ -204.266 │ -213.883 │ 4.77975e-60 │\n│ 3   │ 140.302 │ 4.0     │ -201.639 │ -211.242 │ 6.70121e-59 │\n│ 4   │ 140.452 │ 4.0     │ -199.041 │ -208.63  │ 9.13144e-58 │\n│ 5   │ 140.603 │ 4.0     │ -196.472 │ -206.047 │ 1.20938e-56 │\n│ 6   │ 140.754 │ 4.0     │ -193.931 │ -203.492 │ 1.55677e-55 │\n│ 7   │ 140.905 │ 4.0     │ -191.418 │ -200.965 │ 1.94771e-54 │\n│ 8   │ 141.055 │ 4.0     │ -188.934 │ -198.467 │ 2.36843e-53 │\n│ 9   │ 141.206 │ 4.0     │ -186.478 │ -195.997 │ 2.79921e-52 │\n│ 10  │ 141.357 │ 4.0     │ -184.051 │ -193.556 │ 3.2155e-51  │",
      "text/html": [
       "<table class=\"data-frame\"><thead><tr><th></th><th>mu</th><th>sigma</th><th>ll</th><th>prod</th><th>prob</th></tr><tr><th></th><th>Float64</th><th>Float64</th><th>Float64</th><th>Float64</th><th>Float64</th></tr></thead><tbody><p>10 rows × 5 columns</p><tr><th>1</th><td>140.0</td><td>4.0</td><td>-206.92</td><td>-216.552</td><td>3.31356e-61</td></tr><tr><th>2</th><td>140.151</td><td>4.0</td><td>-204.266</td><td>-213.883</td><td>4.77975e-60</td></tr><tr><th>3</th><td>140.302</td><td>4.0</td><td>-201.639</td><td>-211.242</td><td>6.70121e-59</td></tr><tr><th>4</th><td>140.452</td><td>4.0</td><td>-199.041</td><td>-208.63</td><td>9.13144e-58</td></tr><tr><th>5</th><td>140.603</td><td>4.0</td><td>-196.472</td><td>-206.047</td><td>1.20938e-56</td></tr><tr><th>6</th><td>140.754</td><td>4.0</td><td>-193.931</td><td>-203.492</td><td>1.55677e-55</td></tr><tr><th>7</th><td>140.905</td><td>4.0</td><td>-191.418</td><td>-200.965</td><td>1.94771e-54</td></tr><tr><th>8</th><td>141.055</td><td>4.0</td><td>-188.934</td><td>-198.467</td><td>2.36843e-53</td></tr><tr><th>9</th><td>141.206</td><td>4.0</td><td>-186.478</td><td>-195.997</td><td>2.79921e-52</td></tr><tr><th>10</th><td>141.357</td><td>4.0</td><td>-184.051</td><td>-193.556</td><td>3.2155e-51</td></tr></tbody></table>"
      ]
     },
     "metadata": {},
     "execution_count": 6
    }
   ],
   "cell_type": "code",
   "source": [
    "struct Post\n",
    "  mu::Float64\n",
    "  sigma::Float64\n",
    "  ll:: Float64\n",
    "  prod::Float64\n",
    "  prob::Float64\n",
    "end\n",
    "\n",
    "mu_list = repeat(range(140, 170, length=200), 200);\n",
    "sigma_list = repeat(range(4, 20, length=200), inner=200);\n",
    "\n",
    "ll = zeros(40000);\n",
    "for i in 1:40000\n",
    "    d1 = Normal(mu_list[i], sigma_list[i])\n",
    "    ll[i] = sum(log.(pdf.(d1, df3[:height])))\n",
    "end\n",
    "\n",
    "d2 = Normal(178.0, 20.0)\n",
    "d3 = Uniform(0, 50)\n",
    "prod = ll + log.(pdf.(d2, mu_list)) + log.(pdf.(d3, sigma_list))\n",
    "prob = exp.(prod .- maximum(prod))\n",
    "post = DataFrame(mu=mu_list, sigma=sigma_list, ll=ll, prod=prod, prob=prob)\n",
    "first(post, 10)"
   ],
   "metadata": {},
   "execution_count": 6
  },
  {
   "outputs": [],
   "cell_type": "markdown",
   "source": [
    "Sample post"
   ],
   "metadata": {}
  },
  {
   "outputs": [
    {
     "output_type": "execute_result",
     "data": {
      "text/plain": "10000×5 DataFrame\n│ Row   │ mu      │ sigma   │ ll       │ prod     │ prob      │\n│       │ \u001b[90mFloat64\u001b[39m │ \u001b[90mFloat64\u001b[39m │ \u001b[90mFloat64\u001b[39m  │ \u001b[90mFloat64\u001b[39m  │ \u001b[90mFloat64\u001b[39m   │\n├───────┼─────────┼─────────┼──────────┼──────────┼───────────┤\n│ 1     │ 152.965 │ 6.65327 │ -69.4188 │ -78.029  │ 0.478666  │\n│ 2     │ 156.131 │ 10.7538 │ -71.1236 │ -79.5481 │ 0.104778  │\n│ 3     │ 155.678 │ 9.38693 │ -69.863  │ -78.3126 │ 0.360471  │\n│ 4     │ 153.116 │ 6.65327 │ -69.3424 │ -77.9431 │ 0.521584  │\n│ 5     │ 152.814 │ 7.9397  │ -69.1026 │ -77.7222 │ 0.650495  │\n│ 6     │ 151.457 │ 10.1106 │ -70.9151 │ -79.6225 │ 0.097269  │\n│ 7     │ 155.678 │ 8.82412 │ -69.5081 │ -77.9576 │ 0.51407   │\n⋮\n│ 9993  │ 156.131 │ 6.97487 │ -69.6804 │ -78.1049 │ 0.443665  │\n│ 9994  │ 154.623 │ 8.0201  │ -68.869  │ -77.3788 │ 0.917027  │\n│ 9995  │ 153.869 │ 7.21608 │ -68.8144 │ -77.369  │ 0.92613   │\n│ 9996  │ 152.06  │ 12.0402 │ -72.3614 │ -81.0292 │ 0.0238258 │\n│ 9997  │ 151.156 │ 8.1809  │ -70.2409 │ -78.9683 │ 0.187098  │\n│ 9998  │ 153.417 │ 7.9397  │ -68.9023 │ -77.4844 │ 0.82517   │\n│ 9999  │ 156.131 │ 7.9397  │ -69.4284 │ -77.8529 │ 0.570799  │\n│ 10000 │ 154.623 │ 6.97487 │ -68.9279 │ -77.4377 │ 0.864608  │",
      "text/html": [
       "<table class=\"data-frame\"><thead><tr><th></th><th>mu</th><th>sigma</th><th>ll</th><th>prod</th><th>prob</th></tr><tr><th></th><th>Float64</th><th>Float64</th><th>Float64</th><th>Float64</th><th>Float64</th></tr></thead><tbody><p>10,000 rows × 5 columns</p><tr><th>1</th><td>152.965</td><td>6.65327</td><td>-69.4188</td><td>-78.029</td><td>0.478666</td></tr><tr><th>2</th><td>156.131</td><td>10.7538</td><td>-71.1236</td><td>-79.5481</td><td>0.104778</td></tr><tr><th>3</th><td>155.678</td><td>9.38693</td><td>-69.863</td><td>-78.3126</td><td>0.360471</td></tr><tr><th>4</th><td>153.116</td><td>6.65327</td><td>-69.3424</td><td>-77.9431</td><td>0.521584</td></tr><tr><th>5</th><td>152.814</td><td>7.9397</td><td>-69.1026</td><td>-77.7222</td><td>0.650495</td></tr><tr><th>6</th><td>151.457</td><td>10.1106</td><td>-70.9151</td><td>-79.6225</td><td>0.097269</td></tr><tr><th>7</th><td>155.678</td><td>8.82412</td><td>-69.5081</td><td>-77.9576</td><td>0.51407</td></tr><tr><th>8</th><td>156.432</td><td>10.0302</td><td>-70.6407</td><td>-79.0488</td><td>0.172628</td></tr><tr><th>9</th><td>155.528</td><td>7.9397</td><td>-69.1096</td><td>-77.5675</td><td>0.759317</td></tr><tr><th>10</th><td>151.457</td><td>10.5126</td><td>-71.225</td><td>-79.9323</td><td>0.0713527</td></tr><tr><th>11</th><td>154.171</td><td>6.01005</td><td>-69.9507</td><td>-78.4871</td><td>0.302728</td></tr><tr><th>12</th><td>153.417</td><td>7.77889</td><td>-68.8726</td><td>-77.4547</td><td>0.850037</td></tr><tr><th>13</th><td>155.075</td><td>7.05528</td><td>-69.0167</td><td>-77.5003</td><td>0.812153</td></tr><tr><th>14</th><td>155.377</td><td>9.30653</td><td>-69.7122</td><td>-78.1787</td><td>0.412119</td></tr><tr><th>15</th><td>154.774</td><td>9.30653</td><td>-69.5851</td><td>-78.0861</td><td>0.452067</td></tr><tr><th>16</th><td>154.171</td><td>6.09045</td><td>-69.8046</td><td>-78.341</td><td>0.350345</td></tr><tr><th>17</th><td>154.623</td><td>7.21608</td><td>-68.8386</td><td>-77.3484</td><td>0.945402</td></tr><tr><th>18</th><td>153.116</td><td>9.54774</td><td>-69.8473</td><td>-78.4481</td><td>0.314784</td></tr><tr><th>19</th><td>154.02</td><td>7.9397</td><td>-68.8173</td><td>-77.3628</td><td>0.931849</td></tr><tr><th>20</th><td>154.322</td><td>9.14573</td><td>-69.4287</td><td>-77.9563</td><td>0.514756</td></tr><tr><th>21</th><td>155.98</td><td>9.30653</td><td>-69.9232</td><td>-78.356</td><td>0.345129</td></tr><tr><th>22</th><td>153.869</td><td>7.77889</td><td>-68.7949</td><td>-77.3495</td><td>0.944334</td></tr><tr><th>23</th><td>154.774</td><td>9.06533</td><td>-69.4154</td><td>-77.9164</td><td>0.535694</td></tr><tr><th>24</th><td>153.719</td><td>7.53769</td><td>-68.795</td><td>-77.3586</td><td>0.935726</td></tr><tr><th>&vellip;</th><td>&vellip;</td><td>&vellip;</td><td>&vellip;</td><td>&vellip;</td><td>&vellip;</td></tr></tbody></table>"
      ]
     },
     "metadata": {},
     "execution_count": 7
    }
   ],
   "cell_type": "code",
   "source": [
    "samples = post[sample(1:size(post, 1), Weights(post[:prob]), 10000, replace=true), :]"
   ],
   "metadata": {},
   "execution_count": 7
  },
  {
   "outputs": [],
   "cell_type": "markdown",
   "source": [
    "### Snippet 4.23"
   ],
   "metadata": {}
  },
  {
   "outputs": [],
   "cell_type": "markdown",
   "source": [
    "Density of sigma"
   ],
   "metadata": {}
  },
  {
   "outputs": [
    {
     "output_type": "execute_result",
     "data": {
      "text/plain": "Plot{Plots.GRBackend() n=1}",
      "image/png": "[encoded data removed]",
      "text/html": [
       "<?xml version=\"1.0\" encoding=\"utf-8\"?>\n",
       "<svg xmlns=\"http://www.w3.org/2000/svg\" xmlns:xlink=\"http://www.w3.org/1999/xlink\" width=\"500\" height=\"500\" viewBox=\"0 0 2000 2000\">\n",
       "<defs>\n",
       "  <clipPath id=\"clip2700\">\n",
       "    <rect x=\"0\" y=\"0\" width=\"2000\" height=\"2000\"/>\n",
       "  </clipPath>\n",
       "</defs>\n",
       "<polygon clip-path=\"url(#clip2700)\" points=\"\n",
       "0,2000 2000,2000 2000,0 0,0 \n",
       "  \" fill=\"#ffffff\" fill-rule=\"evenodd\" fill-opacity=\"1\"/>\n",
       "<defs>\n",
       "  <clipPath id=\"clip2701\">\n",
       "    <rect x=\"400\" y=\"200\" width=\"1401\" height=\"1401\"/>\n",
       "  </clipPath>\n",
       "</defs>\n",
       "<polygon clip-path=\"url(#clip2700)\" points=\"\n",
       "161.394,1886.71 1921.26,1886.71 1921.26,47.2441 161.394,47.2441 \n",
       "  \" fill=\"#ffffff\" fill-rule=\"evenodd\" fill-opacity=\"1\"/>\n",
       "<defs>\n",
       "  <clipPath id=\"clip2702\">\n",
       "    <rect x=\"161\" y=\"47\" width=\"1761\" height=\"1840\"/>\n",
       "  </clipPath>\n",
       "</defs>\n",
       "<polyline clip-path=\"url(#clip2702)\" style=\"stroke:#000000; stroke-width:2; stroke-opacity:0.1; fill:none\" points=\"\n",
       "  418.469,1886.71 418.469,47.2441 \n",
       "  \"/>\n",
       "<polyline clip-path=\"url(#clip2702)\" style=\"stroke:#000000; stroke-width:2; stroke-opacity:0.1; fill:none\" points=\"\n",
       "  745.223,1886.71 745.223,47.2441 \n",
       "  \"/>\n",
       "<polyline clip-path=\"url(#clip2702)\" style=\"stroke:#000000; stroke-width:2; stroke-opacity:0.1; fill:none\" points=\"\n",
       "  1071.98,1886.71 1071.98,47.2441 \n",
       "  \"/>\n",
       "<polyline clip-path=\"url(#clip2702)\" style=\"stroke:#000000; stroke-width:2; stroke-opacity:0.1; fill:none\" points=\"\n",
       "  1398.73,1886.71 1398.73,47.2441 \n",
       "  \"/>\n",
       "<polyline clip-path=\"url(#clip2702)\" style=\"stroke:#000000; stroke-width:2; stroke-opacity:0.1; fill:none\" points=\"\n",
       "  1725.48,1886.71 1725.48,47.2441 \n",
       "  \"/>\n",
       "<polyline clip-path=\"url(#clip2702)\" style=\"stroke:#000000; stroke-width:2; stroke-opacity:0.1; fill:none\" points=\"\n",
       "  161.394,1834.65 1921.26,1834.65 \n",
       "  \"/>\n",
       "<polyline clip-path=\"url(#clip2702)\" style=\"stroke:#000000; stroke-width:2; stroke-opacity:0.1; fill:none\" points=\"\n",
       "  161.394,1267.23 1921.26,1267.23 \n",
       "  \"/>\n",
       "<polyline clip-path=\"url(#clip2702)\" style=\"stroke:#000000; stroke-width:2; stroke-opacity:0.1; fill:none\" points=\"\n",
       "  161.394,699.804 1921.26,699.804 \n",
       "  \"/>\n",
       "<polyline clip-path=\"url(#clip2702)\" style=\"stroke:#000000; stroke-width:2; stroke-opacity:0.1; fill:none\" points=\"\n",
       "  161.394,132.382 1921.26,132.382 \n",
       "  \"/>\n",
       "<polyline clip-path=\"url(#clip2700)\" style=\"stroke:#000000; stroke-width:4; stroke-opacity:1; fill:none\" points=\"\n",
       "  161.394,1886.71 1921.26,1886.71 \n",
       "  \"/>\n",
       "<polyline clip-path=\"url(#clip2700)\" style=\"stroke:#000000; stroke-width:4; stroke-opacity:1; fill:none\" points=\"\n",
       "  161.394,1886.71 161.394,47.2441 \n",
       "  \"/>\n",
       "<polyline clip-path=\"url(#clip2700)\" style=\"stroke:#000000; stroke-width:4; stroke-opacity:1; fill:none\" points=\"\n",
       "  418.469,1886.71 418.469,1859.12 \n",
       "  \"/>\n",
       "<polyline clip-path=\"url(#clip2700)\" style=\"stroke:#000000; stroke-width:4; stroke-opacity:1; fill:none\" points=\"\n",
       "  745.223,1886.71 745.223,1859.12 \n",
       "  \"/>\n",
       "<polyline clip-path=\"url(#clip2700)\" style=\"stroke:#000000; stroke-width:4; stroke-opacity:1; fill:none\" points=\"\n",
       "  1071.98,1886.71 1071.98,1859.12 \n",
       "  \"/>\n",
       "<polyline clip-path=\"url(#clip2700)\" style=\"stroke:#000000; stroke-width:4; stroke-opacity:1; fill:none\" points=\"\n",
       "  1398.73,1886.71 1398.73,1859.12 \n",
       "  \"/>\n",
       "<polyline clip-path=\"url(#clip2700)\" style=\"stroke:#000000; stroke-width:4; stroke-opacity:1; fill:none\" points=\"\n",
       "  1725.48,1886.71 1725.48,1859.12 \n",
       "  \"/>\n",
       "<polyline clip-path=\"url(#clip2700)\" style=\"stroke:#000000; stroke-width:4; stroke-opacity:1; fill:none\" points=\"\n",
       "  161.394,1834.65 187.792,1834.65 \n",
       "  \"/>\n",
       "<polyline clip-path=\"url(#clip2700)\" style=\"stroke:#000000; stroke-width:4; stroke-opacity:1; fill:none\" points=\"\n",
       "  161.394,1267.23 187.792,1267.23 \n",
       "  \"/>\n",
       "<polyline clip-path=\"url(#clip2700)\" style=\"stroke:#000000; stroke-width:4; stroke-opacity:1; fill:none\" points=\"\n",
       "  161.394,699.804 187.792,699.804 \n",
       "  \"/>\n",
       "<polyline clip-path=\"url(#clip2700)\" style=\"stroke:#000000; stroke-width:4; stroke-opacity:1; fill:none\" points=\"\n",
       "  161.394,132.382 187.792,132.382 \n",
       "  \"/>\n",
       "<g clip-path=\"url(#clip2700)\">\n",
       "<text style=\"fill:#000000; fill-opacity:1; font-family:Arial,Helvetica Neue,Helvetica,sans-serif; font-size:48px; text-anchor:middle;\" transform=\"rotate(0, 418.469, 1938.71)\" x=\"418.469\" y=\"1938.71\">6</text>\n",
       "</g>\n",
       "<g clip-path=\"url(#clip2700)\">\n",
       "<text style=\"fill:#000000; fill-opacity:1; font-family:Arial,Helvetica Neue,Helvetica,sans-serif; font-size:48px; text-anchor:middle;\" transform=\"rotate(0, 745.223, 1938.71)\" x=\"745.223\" y=\"1938.71\">9</text>\n",
       "</g>\n",
       "<g clip-path=\"url(#clip2700)\">\n",
       "<text style=\"fill:#000000; fill-opacity:1; font-family:Arial,Helvetica Neue,Helvetica,sans-serif; font-size:48px; text-anchor:middle;\" transform=\"rotate(0, 1071.98, 1938.71)\" x=\"1071.98\" y=\"1938.71\">12</text>\n",
       "</g>\n",
       "<g clip-path=\"url(#clip2700)\">\n",
       "<text style=\"fill:#000000; fill-opacity:1; font-family:Arial,Helvetica Neue,Helvetica,sans-serif; font-size:48px; text-anchor:middle;\" transform=\"rotate(0, 1398.73, 1938.71)\" x=\"1398.73\" y=\"1938.71\">15</text>\n",
       "</g>\n",
       "<g clip-path=\"url(#clip2700)\">\n",
       "<text style=\"fill:#000000; fill-opacity:1; font-family:Arial,Helvetica Neue,Helvetica,sans-serif; font-size:48px; text-anchor:middle;\" transform=\"rotate(0, 1725.48, 1938.71)\" x=\"1725.48\" y=\"1938.71\">18</text>\n",
       "</g>\n",
       "<g clip-path=\"url(#clip2700)\">\n",
       "<text style=\"fill:#000000; fill-opacity:1; font-family:Arial,Helvetica Neue,Helvetica,sans-serif; font-size:48px; text-anchor:end;\" transform=\"rotate(0, 141.394, 1852.15)\" x=\"141.394\" y=\"1852.15\">0.0</text>\n",
       "</g>\n",
       "<g clip-path=\"url(#clip2700)\">\n",
       "<text style=\"fill:#000000; fill-opacity:1; font-family:Arial,Helvetica Neue,Helvetica,sans-serif; font-size:48px; text-anchor:end;\" transform=\"rotate(0, 141.394, 1284.73)\" x=\"141.394\" y=\"1284.73\">0.1</text>\n",
       "</g>\n",
       "<g clip-path=\"url(#clip2700)\">\n",
       "<text style=\"fill:#000000; fill-opacity:1; font-family:Arial,Helvetica Neue,Helvetica,sans-serif; font-size:48px; text-anchor:end;\" transform=\"rotate(0, 141.394, 717.304)\" x=\"141.394\" y=\"717.304\">0.2</text>\n",
       "</g>\n",
       "<g clip-path=\"url(#clip2700)\">\n",
       "<text style=\"fill:#000000; fill-opacity:1; font-family:Arial,Helvetica Neue,Helvetica,sans-serif; font-size:48px; text-anchor:end;\" transform=\"rotate(0, 141.394, 149.882)\" x=\"141.394\" y=\"149.882\">0.3</text>\n",
       "</g>\n",
       "<polyline clip-path=\"url(#clip2702)\" style=\"stroke:#009af9; stroke-width:4; stroke-opacity:1; fill:none\" points=\"\n",
       "  211.202,1834.65 219.545,1834.64 227.887,1834.64 236.23,1834.61 244.573,1834.52 252.916,1834.3 261.259,1833.82 269.602,1832.86 277.945,1831.2 286.288,1828.57 \n",
       "  294.631,1824.78 302.974,1819.74 311.317,1813.41 319.66,1805.68 328.003,1796.12 336.346,1783.89 344.689,1767.78 353.032,1746.64 361.375,1719.69 369.718,1686.59 \n",
       "  378.061,1647.33 386.404,1602.19 394.747,1551.83 403.09,1497.17 411.433,1438.99 419.776,1377.47 428.119,1312.22 436.462,1242.98 444.805,1170.33 453.148,1095.86 \n",
       "  461.491,1021.39 469.834,947.932 478.177,875.321 486.52,802.664 494.862,729.196 503.205,654.76 511.548,579.85 519.891,505.497 528.234,433.086 536.577,364.054 \n",
       "  544.92,299.659 553.263,241.029 561.606,189.494 569.949,146.981 578.292,116.127 586.635,99.7071 594.978,99.3044 603.321,114.052 611.664,140.525 620.007,173.857 \n",
       "  628.35,209.079 636.693,241.929 645.036,269.379 653.379,290.312 661.722,306.083 670.065,320.297 678.408,337.616 686.751,362.038 695.094,395.436 703.437,437.048 \n",
       "  711.78,484.191 720.123,533.833 728.466,584.002 736.809,634.004 745.152,683.464 753.495,731.324 761.837,775.972 770.18,816.423 778.523,853.357 786.866,889.063 \n",
       "  795.209,926.395 803.552,967.503 811.895,1013 820.238,1061.85 828.581,1111.95 836.924,1161.07 845.267,1207.62 853.61,1250.68 861.953,1289.4 870.296,1322.69 \n",
       "  878.639,1349.81 886.982,1371.4 895.325,1390.01 903.668,1409.15 912.011,1431.56 920.354,1457.88 928.697,1486.74 937.04,1515.75 945.383,1542.85 953.726,1566.99 \n",
       "  962.069,1588.08 970.412,1606.64 978.755,1623.29 987.098,1638.48 995.441,1652.31 1003.78,1664.59 1012.13,1675.11 1020.47,1683.99 1028.81,1691.81 1037.16,1699.41 \n",
       "  1045.5,1707.47 1053.84,1716.21 1062.18,1725.4 1070.53,1734.66 1078.87,1743.72 1087.21,1752.42 1095.56,1760.55 1103.9,1767.83 1112.24,1773.86 1120.59,1778.31 \n",
       "  1128.93,1781.17 1137.27,1782.93 1145.61,1784.52 1153.96,1786.94 1162.3,1790.64 1170.64,1795.27 1178.99,1799.85 1187.33,1803.43 1195.67,1805.65 1204.01,1806.85 \n",
       "  1212.36,1807.76 1220.7,1809.01 1229.04,1810.76 1237.39,1812.69 1245.73,1814.34 1254.07,1815.44 1262.42,1816.06 1270.76,1816.53 1279.1,1817.17 1287.44,1818.19 \n",
       "  1295.79,1819.63 1304.13,1821.42 1312.47,1823.46 1320.82,1825.58 1329.16,1827.56 1337.5,1829.21 1345.85,1830.35 1354.19,1830.91 1362.53,1830.9 1370.87,1830.41 \n",
       "  1379.22,1829.62 1387.56,1828.72 1395.9,1827.93 1404.25,1827.39 1412.59,1827.17 1420.93,1827.31 1429.27,1827.79 1437.62,1828.59 1445.96,1829.59 1454.3,1830.63 \n",
       "  1462.65,1831.51 1470.99,1832.07 1479.33,1832.18 1487.68,1831.82 1496.02,1831.08 1504.36,1830.21 1512.7,1829.55 1521.05,1829.39 1529.39,1829.84 1537.73,1830.75 \n",
       "  1546.08,1831.87 1554.42,1832.9 1562.76,1833.69 1571.11,1834.18 1579.45,1834.45 1587.79,1834.58 1596.13,1834.62 1604.48,1834.64 1612.82,1834.65 1621.16,1834.65 \n",
       "  1629.51,1834.65 1637.85,1834.65 1646.19,1834.65 1654.54,1834.65 1662.88,1834.65 1671.22,1834.65 1679.56,1834.65 1687.91,1834.65 1696.25,1834.65 1704.59,1834.65 \n",
       "  1712.94,1834.64 1721.28,1834.63 1729.62,1834.61 1737.96,1834.55 1746.31,1834.43 1754.65,1834.24 1762.99,1833.99 1771.34,1833.74 1779.68,1833.56 1788.02,1833.52 \n",
       "  1796.37,1833.64 1804.71,1833.87 1813.05,1834.13 1821.39,1834.35 1829.74,1834.5 1838.08,1834.59 1846.42,1834.63 1854.77,1834.64 1863.11,1834.65 1871.45,1834.65 \n",
       "  \n",
       "  \"/>\n",
       "<polygon clip-path=\"url(#clip2700)\" points=\"\n",
       "1610.43,227.724 1861.26,227.724 1861.26,106.764 1610.43,106.764 \n",
       "  \" fill=\"#ffffff\" fill-rule=\"evenodd\" fill-opacity=\"1\"/>\n",
       "<polyline clip-path=\"url(#clip2700)\" style=\"stroke:#000000; stroke-width:4; stroke-opacity:1; fill:none\" points=\"\n",
       "  1610.43,227.724 1861.26,227.724 1861.26,106.764 1610.43,106.764 1610.43,227.724 \n",
       "  \"/>\n",
       "<polyline clip-path=\"url(#clip2700)\" style=\"stroke:#009af9; stroke-width:4; stroke-opacity:1; fill:none\" points=\"\n",
       "  1630.43,167.244 1750.43,167.244 \n",
       "  \"/>\n",
       "<g clip-path=\"url(#clip2700)\">\n",
       "<text style=\"fill:#000000; fill-opacity:1; font-family:Arial,Helvetica Neue,Helvetica,sans-serif; font-size:48px; text-anchor:start;\" transform=\"rotate(0, 1770.43, 184.744)\" x=\"1770.43\" y=\"184.744\">y1</text>\n",
       "</g>\n",
       "</svg>\n"
      ],
      "image/svg+xml": [
       "<?xml version=\"1.0\" encoding=\"utf-8\"?>\n",
       "<svg xmlns=\"http://www.w3.org/2000/svg\" xmlns:xlink=\"http://www.w3.org/1999/xlink\" width=\"500\" height=\"500\" viewBox=\"0 0 2000 2000\">\n",
       "<defs>\n",
       "  <clipPath id=\"clip2600\">\n",
       "    <rect x=\"0\" y=\"0\" width=\"2000\" height=\"2000\"/>\n",
       "  </clipPath>\n",
       "</defs>\n",
       "<polygon clip-path=\"url(#clip2600)\" points=\"\n",
       "0,2000 2000,2000 2000,0 0,0 \n",
       "  \" fill=\"#ffffff\" fill-rule=\"evenodd\" fill-opacity=\"1\"/>\n",
       "<defs>\n",
       "  <clipPath id=\"clip2601\">\n",
       "    <rect x=\"400\" y=\"200\" width=\"1401\" height=\"1401\"/>\n",
       "  </clipPath>\n",
       "</defs>\n",
       "<polygon clip-path=\"url(#clip2600)\" points=\"\n",
       "161.394,1886.71 1921.26,1886.71 1921.26,47.2441 161.394,47.2441 \n",
       "  \" fill=\"#ffffff\" fill-rule=\"evenodd\" fill-opacity=\"1\"/>\n",
       "<defs>\n",
       "  <clipPath id=\"clip2602\">\n",
       "    <rect x=\"161\" y=\"47\" width=\"1761\" height=\"1840\"/>\n",
       "  </clipPath>\n",
       "</defs>\n",
       "<polyline clip-path=\"url(#clip2602)\" style=\"stroke:#000000; stroke-width:2; stroke-opacity:0.1; fill:none\" points=\"\n",
       "  418.469,1886.71 418.469,47.2441 \n",
       "  \"/>\n",
       "<polyline clip-path=\"url(#clip2602)\" style=\"stroke:#000000; stroke-width:2; stroke-opacity:0.1; fill:none\" points=\"\n",
       "  745.223,1886.71 745.223,47.2441 \n",
       "  \"/>\n",
       "<polyline clip-path=\"url(#clip2602)\" style=\"stroke:#000000; stroke-width:2; stroke-opacity:0.1; fill:none\" points=\"\n",
       "  1071.98,1886.71 1071.98,47.2441 \n",
       "  \"/>\n",
       "<polyline clip-path=\"url(#clip2602)\" style=\"stroke:#000000; stroke-width:2; stroke-opacity:0.1; fill:none\" points=\"\n",
       "  1398.73,1886.71 1398.73,47.2441 \n",
       "  \"/>\n",
       "<polyline clip-path=\"url(#clip2602)\" style=\"stroke:#000000; stroke-width:2; stroke-opacity:0.1; fill:none\" points=\"\n",
       "  1725.48,1886.71 1725.48,47.2441 \n",
       "  \"/>\n",
       "<polyline clip-path=\"url(#clip2602)\" style=\"stroke:#000000; stroke-width:2; stroke-opacity:0.1; fill:none\" points=\"\n",
       "  161.394,1834.65 1921.26,1834.65 \n",
       "  \"/>\n",
       "<polyline clip-path=\"url(#clip2602)\" style=\"stroke:#000000; stroke-width:2; stroke-opacity:0.1; fill:none\" points=\"\n",
       "  161.394,1267.23 1921.26,1267.23 \n",
       "  \"/>\n",
       "<polyline clip-path=\"url(#clip2602)\" style=\"stroke:#000000; stroke-width:2; stroke-opacity:0.1; fill:none\" points=\"\n",
       "  161.394,699.804 1921.26,699.804 \n",
       "  \"/>\n",
       "<polyline clip-path=\"url(#clip2602)\" style=\"stroke:#000000; stroke-width:2; stroke-opacity:0.1; fill:none\" points=\"\n",
       "  161.394,132.382 1921.26,132.382 \n",
       "  \"/>\n",
       "<polyline clip-path=\"url(#clip2600)\" style=\"stroke:#000000; stroke-width:4; stroke-opacity:1; fill:none\" points=\"\n",
       "  161.394,1886.71 1921.26,1886.71 \n",
       "  \"/>\n",
       "<polyline clip-path=\"url(#clip2600)\" style=\"stroke:#000000; stroke-width:4; stroke-opacity:1; fill:none\" points=\"\n",
       "  161.394,1886.71 161.394,47.2441 \n",
       "  \"/>\n",
       "<polyline clip-path=\"url(#clip2600)\" style=\"stroke:#000000; stroke-width:4; stroke-opacity:1; fill:none\" points=\"\n",
       "  418.469,1886.71 418.469,1859.12 \n",
       "  \"/>\n",
       "<polyline clip-path=\"url(#clip2600)\" style=\"stroke:#000000; stroke-width:4; stroke-opacity:1; fill:none\" points=\"\n",
       "  745.223,1886.71 745.223,1859.12 \n",
       "  \"/>\n",
       "<polyline clip-path=\"url(#clip2600)\" style=\"stroke:#000000; stroke-width:4; stroke-opacity:1; fill:none\" points=\"\n",
       "  1071.98,1886.71 1071.98,1859.12 \n",
       "  \"/>\n",
       "<polyline clip-path=\"url(#clip2600)\" style=\"stroke:#000000; stroke-width:4; stroke-opacity:1; fill:none\" points=\"\n",
       "  1398.73,1886.71 1398.73,1859.12 \n",
       "  \"/>\n",
       "<polyline clip-path=\"url(#clip2600)\" style=\"stroke:#000000; stroke-width:4; stroke-opacity:1; fill:none\" points=\"\n",
       "  1725.48,1886.71 1725.48,1859.12 \n",
       "  \"/>\n",
       "<polyline clip-path=\"url(#clip2600)\" style=\"stroke:#000000; stroke-width:4; stroke-opacity:1; fill:none\" points=\"\n",
       "  161.394,1834.65 187.792,1834.65 \n",
       "  \"/>\n",
       "<polyline clip-path=\"url(#clip2600)\" style=\"stroke:#000000; stroke-width:4; stroke-opacity:1; fill:none\" points=\"\n",
       "  161.394,1267.23 187.792,1267.23 \n",
       "  \"/>\n",
       "<polyline clip-path=\"url(#clip2600)\" style=\"stroke:#000000; stroke-width:4; stroke-opacity:1; fill:none\" points=\"\n",
       "  161.394,699.804 187.792,699.804 \n",
       "  \"/>\n",
       "<polyline clip-path=\"url(#clip2600)\" style=\"stroke:#000000; stroke-width:4; stroke-opacity:1; fill:none\" points=\"\n",
       "  161.394,132.382 187.792,132.382 \n",
       "  \"/>\n",
       "<g clip-path=\"url(#clip2600)\">\n",
       "<text style=\"fill:#000000; fill-opacity:1; font-family:Arial,Helvetica Neue,Helvetica,sans-serif; font-size:48px; text-anchor:middle;\" transform=\"rotate(0, 418.469, 1938.71)\" x=\"418.469\" y=\"1938.71\">6</text>\n",
       "</g>\n",
       "<g clip-path=\"url(#clip2600)\">\n",
       "<text style=\"fill:#000000; fill-opacity:1; font-family:Arial,Helvetica Neue,Helvetica,sans-serif; font-size:48px; text-anchor:middle;\" transform=\"rotate(0, 745.223, 1938.71)\" x=\"745.223\" y=\"1938.71\">9</text>\n",
       "</g>\n",
       "<g clip-path=\"url(#clip2600)\">\n",
       "<text style=\"fill:#000000; fill-opacity:1; font-family:Arial,Helvetica Neue,Helvetica,sans-serif; font-size:48px; text-anchor:middle;\" transform=\"rotate(0, 1071.98, 1938.71)\" x=\"1071.98\" y=\"1938.71\">12</text>\n",
       "</g>\n",
       "<g clip-path=\"url(#clip2600)\">\n",
       "<text style=\"fill:#000000; fill-opacity:1; font-family:Arial,Helvetica Neue,Helvetica,sans-serif; font-size:48px; text-anchor:middle;\" transform=\"rotate(0, 1398.73, 1938.71)\" x=\"1398.73\" y=\"1938.71\">15</text>\n",
       "</g>\n",
       "<g clip-path=\"url(#clip2600)\">\n",
       "<text style=\"fill:#000000; fill-opacity:1; font-family:Arial,Helvetica Neue,Helvetica,sans-serif; font-size:48px; text-anchor:middle;\" transform=\"rotate(0, 1725.48, 1938.71)\" x=\"1725.48\" y=\"1938.71\">18</text>\n",
       "</g>\n",
       "<g clip-path=\"url(#clip2600)\">\n",
       "<text style=\"fill:#000000; fill-opacity:1; font-family:Arial,Helvetica Neue,Helvetica,sans-serif; font-size:48px; text-anchor:end;\" transform=\"rotate(0, 141.394, 1852.15)\" x=\"141.394\" y=\"1852.15\">0.0</text>\n",
       "</g>\n",
       "<g clip-path=\"url(#clip2600)\">\n",
       "<text style=\"fill:#000000; fill-opacity:1; font-family:Arial,Helvetica Neue,Helvetica,sans-serif; font-size:48px; text-anchor:end;\" transform=\"rotate(0, 141.394, 1284.73)\" x=\"141.394\" y=\"1284.73\">0.1</text>\n",
       "</g>\n",
       "<g clip-path=\"url(#clip2600)\">\n",
       "<text style=\"fill:#000000; fill-opacity:1; font-family:Arial,Helvetica Neue,Helvetica,sans-serif; font-size:48px; text-anchor:end;\" transform=\"rotate(0, 141.394, 717.304)\" x=\"141.394\" y=\"717.304\">0.2</text>\n",
       "</g>\n",
       "<g clip-path=\"url(#clip2600)\">\n",
       "<text style=\"fill:#000000; fill-opacity:1; font-family:Arial,Helvetica Neue,Helvetica,sans-serif; font-size:48px; text-anchor:end;\" transform=\"rotate(0, 141.394, 149.882)\" x=\"141.394\" y=\"149.882\">0.3</text>\n",
       "</g>\n",
       "<polyline clip-path=\"url(#clip2602)\" style=\"stroke:#009af9; stroke-width:4; stroke-opacity:1; fill:none\" points=\"\n",
       "  211.202,1834.65 219.545,1834.64 227.887,1834.64 236.23,1834.61 244.573,1834.52 252.916,1834.3 261.259,1833.82 269.602,1832.86 277.945,1831.2 286.288,1828.57 \n",
       "  294.631,1824.78 302.974,1819.74 311.317,1813.41 319.66,1805.68 328.003,1796.12 336.346,1783.89 344.689,1767.78 353.032,1746.64 361.375,1719.69 369.718,1686.59 \n",
       "  378.061,1647.33 386.404,1602.19 394.747,1551.83 403.09,1497.17 411.433,1438.99 419.776,1377.47 428.119,1312.22 436.462,1242.98 444.805,1170.33 453.148,1095.86 \n",
       "  461.491,1021.39 469.834,947.932 478.177,875.321 486.52,802.664 494.862,729.196 503.205,654.76 511.548,579.85 519.891,505.497 528.234,433.086 536.577,364.054 \n",
       "  544.92,299.659 553.263,241.029 561.606,189.494 569.949,146.981 578.292,116.127 586.635,99.7071 594.978,99.3044 603.321,114.052 611.664,140.525 620.007,173.857 \n",
       "  628.35,209.079 636.693,241.929 645.036,269.379 653.379,290.312 661.722,306.083 670.065,320.297 678.408,337.616 686.751,362.038 695.094,395.436 703.437,437.048 \n",
       "  711.78,484.191 720.123,533.833 728.466,584.002 736.809,634.004 745.152,683.464 753.495,731.324 761.837,775.972 770.18,816.423 778.523,853.357 786.866,889.063 \n",
       "  795.209,926.395 803.552,967.503 811.895,1013 820.238,1061.85 828.581,1111.95 836.924,1161.07 845.267,1207.62 853.61,1250.68 861.953,1289.4 870.296,1322.69 \n",
       "  878.639,1349.81 886.982,1371.4 895.325,1390.01 903.668,1409.15 912.011,1431.56 920.354,1457.88 928.697,1486.74 937.04,1515.75 945.383,1542.85 953.726,1566.99 \n",
       "  962.069,1588.08 970.412,1606.64 978.755,1623.29 987.098,1638.48 995.441,1652.31 1003.78,1664.59 1012.13,1675.11 1020.47,1683.99 1028.81,1691.81 1037.16,1699.41 \n",
       "  1045.5,1707.47 1053.84,1716.21 1062.18,1725.4 1070.53,1734.66 1078.87,1743.72 1087.21,1752.42 1095.56,1760.55 1103.9,1767.83 1112.24,1773.86 1120.59,1778.31 \n",
       "  1128.93,1781.17 1137.27,1782.93 1145.61,1784.52 1153.96,1786.94 1162.3,1790.64 1170.64,1795.27 1178.99,1799.85 1187.33,1803.43 1195.67,1805.65 1204.01,1806.85 \n",
       "  1212.36,1807.76 1220.7,1809.01 1229.04,1810.76 1237.39,1812.69 1245.73,1814.34 1254.07,1815.44 1262.42,1816.06 1270.76,1816.53 1279.1,1817.17 1287.44,1818.19 \n",
       "  1295.79,1819.63 1304.13,1821.42 1312.47,1823.46 1320.82,1825.58 1329.16,1827.56 1337.5,1829.21 1345.85,1830.35 1354.19,1830.91 1362.53,1830.9 1370.87,1830.41 \n",
       "  1379.22,1829.62 1387.56,1828.72 1395.9,1827.93 1404.25,1827.39 1412.59,1827.17 1420.93,1827.31 1429.27,1827.79 1437.62,1828.59 1445.96,1829.59 1454.3,1830.63 \n",
       "  1462.65,1831.51 1470.99,1832.07 1479.33,1832.18 1487.68,1831.82 1496.02,1831.08 1504.36,1830.21 1512.7,1829.55 1521.05,1829.39 1529.39,1829.84 1537.73,1830.75 \n",
       "  1546.08,1831.87 1554.42,1832.9 1562.76,1833.69 1571.11,1834.18 1579.45,1834.45 1587.79,1834.58 1596.13,1834.62 1604.48,1834.64 1612.82,1834.65 1621.16,1834.65 \n",
       "  1629.51,1834.65 1637.85,1834.65 1646.19,1834.65 1654.54,1834.65 1662.88,1834.65 1671.22,1834.65 1679.56,1834.65 1687.91,1834.65 1696.25,1834.65 1704.59,1834.65 \n",
       "  1712.94,1834.64 1721.28,1834.63 1729.62,1834.61 1737.96,1834.55 1746.31,1834.43 1754.65,1834.24 1762.99,1833.99 1771.34,1833.74 1779.68,1833.56 1788.02,1833.52 \n",
       "  1796.37,1833.64 1804.71,1833.87 1813.05,1834.13 1821.39,1834.35 1829.74,1834.5 1838.08,1834.59 1846.42,1834.63 1854.77,1834.64 1863.11,1834.65 1871.45,1834.65 \n",
       "  \n",
       "  \"/>\n",
       "<polygon clip-path=\"url(#clip2600)\" points=\"\n",
       "1610.43,227.724 1861.26,227.724 1861.26,106.764 1610.43,106.764 \n",
       "  \" fill=\"#ffffff\" fill-rule=\"evenodd\" fill-opacity=\"1\"/>\n",
       "<polyline clip-path=\"url(#clip2600)\" style=\"stroke:#000000; stroke-width:4; stroke-opacity:1; fill:none\" points=\"\n",
       "  1610.43,227.724 1861.26,227.724 1861.26,106.764 1610.43,106.764 1610.43,227.724 \n",
       "  \"/>\n",
       "<polyline clip-path=\"url(#clip2600)\" style=\"stroke:#009af9; stroke-width:4; stroke-opacity:1; fill:none\" points=\"\n",
       "  1630.43,167.244 1750.43,167.244 \n",
       "  \"/>\n",
       "<g clip-path=\"url(#clip2600)\">\n",
       "<text style=\"fill:#000000; fill-opacity:1; font-family:Arial,Helvetica Neue,Helvetica,sans-serif; font-size:48px; text-anchor:start;\" transform=\"rotate(0, 1770.43, 184.744)\" x=\"1770.43\" y=\"184.744\">y1</text>\n",
       "</g>\n",
       "</svg>\n"
      ]
     },
     "metadata": {},
     "execution_count": 8
    }
   ],
   "cell_type": "code",
   "source": [
    "density(samples[:sigma])"
   ],
   "metadata": {},
   "execution_count": 8
  },
  {
   "outputs": [],
   "cell_type": "markdown",
   "source": [
    "End of `clip-21-23.jl`"
   ],
   "metadata": {}
  },
  {
   "outputs": [],
   "cell_type": "markdown",
   "source": [
    "*This notebook was generated using [Literate.jl](https://github.com/fredrikekre/Literate.jl).*"
   ],
   "metadata": {}
  }
 ],
 "nbformat_minor": 3,
 "metadata": {
  "language_info": {
   "file_extension": ".jl",
   "mimetype": "application/julia",
   "name": "julia",
   "version": "1.2.0-DEV.487"
  },
  "kernelspec": {
   "name": "julia-1.2",
   "display_name": "Julia 1.2.0-DEV.487",
   "language": "julia"
  }
 },
 "nbformat": 4
}
