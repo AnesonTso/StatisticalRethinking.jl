{
 "cells": [
  {
   "outputs": [],
   "cell_type": "markdown",
   "source": [
    "Load Julia packages (libraries) needed  for the snippets in chapter 0"
   ],
   "metadata": {}
  },
  {
   "outputs": [],
   "cell_type": "code",
   "source": [
    "using StatisticalRethinking, CmdStan, StanMCMCChain\n",
    "gr(size=(500,500));"
   ],
   "metadata": {},
   "execution_count": 1
  },
  {
   "outputs": [],
   "cell_type": "markdown",
   "source": [
    "CmdStan uses a tmp directory to store the output of cmdstan"
   ],
   "metadata": {}
  },
  {
   "outputs": [],
   "cell_type": "code",
   "source": [
    "ProjDir = rel_path(\"..\", \"scripts\", \"04\")\n",
    "cd(ProjDir)"
   ],
   "metadata": {},
   "execution_count": 2
  },
  {
   "outputs": [],
   "cell_type": "markdown",
   "source": [
    "CmdStan uses a tmp directory to store the output of cmdstan"
   ],
   "metadata": {}
  },
  {
   "outputs": [],
   "cell_type": "code",
   "source": [
    "ProjDir = rel_path(\"..\", \"scripts\", \"04\")\n",
    "cd(ProjDir)"
   ],
   "metadata": {},
   "execution_count": 3
  },
  {
   "outputs": [
    {
     "output_type": "execute_result",
     "data": {
      "text/plain": "5×4 DataFrame\n│ Row │ height   │ weight   │ age      │ male   │\n│     │ \u001b[90mFloat64⍰\u001b[39m │ \u001b[90mFloat64⍰\u001b[39m │ \u001b[90mFloat64⍰\u001b[39m │ \u001b[90mInt64⍰\u001b[39m │\n├─────┼──────────┼──────────┼──────────┼────────┤\n│ 1   │ 151.765  │ 47.8256  │ 63.0     │ 1      │\n│ 2   │ 139.7    │ 36.4858  │ 63.0     │ 0      │\n│ 3   │ 136.525  │ 31.8648  │ 65.0     │ 0      │\n│ 4   │ 156.845  │ 53.0419  │ 41.0     │ 1      │\n│ 5   │ 145.415  │ 41.2769  │ 51.0     │ 0      │",
      "text/html": [
       "<table class=\"data-frame\"><thead><tr><th></th><th>height</th><th>weight</th><th>age</th><th>male</th></tr><tr><th></th><th>Float64⍰</th><th>Float64⍰</th><th>Float64⍰</th><th>Int64⍰</th></tr></thead><tbody><p>5 rows × 4 columns</p><tr><th>1</th><td>151.765</td><td>47.8256</td><td>63.0</td><td>1</td></tr><tr><th>2</th><td>139.7</td><td>36.4858</td><td>63.0</td><td>0</td></tr><tr><th>3</th><td>136.525</td><td>31.8648</td><td>65.0</td><td>0</td></tr><tr><th>4</th><td>156.845</td><td>53.0419</td><td>41.0</td><td>1</td></tr><tr><th>5</th><td>145.415</td><td>41.2769</td><td>51.0</td><td>0</td></tr></tbody></table>"
      ]
     },
     "metadata": {},
     "execution_count": 4
    }
   ],
   "cell_type": "code",
   "source": [
    "howell1 = CSV.read(rel_path(\"..\", \"data\", \"Howell1.csv\"), delim=';')\n",
    "df = convert(DataFrame, howell1);\n",
    "df2 = filter(row -> row[:age] >= 18, df);\n",
    "first(df2, 5)"
   ],
   "metadata": {},
   "execution_count": 4
  },
  {
   "outputs": [],
   "cell_type": "markdown",
   "source": [
    "### Snippet 4.21"
   ],
   "metadata": {}
  },
  {
   "outputs": [],
   "cell_type": "markdown",
   "source": [
    "Sample 20 random heights"
   ],
   "metadata": {}
  },
  {
   "outputs": [],
   "cell_type": "code",
   "source": [
    "n = size(df2, 1)\n",
    "selected_ind = sample(1:n, 20, replace=false);\n",
    "df3 = df2[selected_ind, :];"
   ],
   "metadata": {},
   "execution_count": 5
  },
  {
   "outputs": [],
   "cell_type": "markdown",
   "source": [
    "### Snippet 4.22"
   ],
   "metadata": {}
  },
  {
   "outputs": [],
   "cell_type": "markdown",
   "source": [
    "Generate approximate probabilities"
   ],
   "metadata": {}
  },
  {
   "outputs": [
    {
     "output_type": "execute_result",
     "data": {
      "text/plain": "10×5 DataFrame\n│ Row │ mu      │ sigma   │ ll       │ prod     │ prob        │\n│     │ \u001b[90mFloat64\u001b[39m │ \u001b[90mFloat64\u001b[39m │ \u001b[90mFloat64\u001b[39m  │ \u001b[90mFloat64\u001b[39m  │ \u001b[90mFloat64\u001b[39m     │\n├─────┼─────────┼─────────┼──────────┼──────────┼─────────────┤\n│ 1   │ 140.0   │ 4.0     │ -211.756 │ -221.388 │ 1.87033e-63 │\n│ 2   │ 140.151 │ 4.0     │ -209.039 │ -218.656 │ 2.87251e-62 │\n│ 3   │ 140.302 │ 4.0     │ -206.35  │ -215.953 │ 4.28786e-61 │\n│ 4   │ 140.452 │ 4.0     │ -203.69  │ -213.279 │ 6.22096e-60 │\n│ 5   │ 140.603 │ 4.0     │ -201.057 │ -210.632 │ 8.77229e-59 │\n│ 6   │ 140.754 │ 4.0     │ -198.454 │ -208.014 │ 1.20228e-57 │\n│ 7   │ 140.905 │ 4.0     │ -195.878 │ -205.425 │ 1.60153e-56 │\n│ 8   │ 141.055 │ 4.0     │ -193.331 │ -202.864 │ 2.0735e-55  │\n│ 9   │ 141.206 │ 4.0     │ -190.813 │ -200.332 │ 2.60922e-54 │\n│ 10  │ 141.357 │ 4.0     │ -188.323 │ -197.828 │ 3.1912e-53  │",
      "text/html": [
       "<table class=\"data-frame\"><thead><tr><th></th><th>mu</th><th>sigma</th><th>ll</th><th>prod</th><th>prob</th></tr><tr><th></th><th>Float64</th><th>Float64</th><th>Float64</th><th>Float64</th><th>Float64</th></tr></thead><tbody><p>10 rows × 5 columns</p><tr><th>1</th><td>140.0</td><td>4.0</td><td>-211.756</td><td>-221.388</td><td>1.87033e-63</td></tr><tr><th>2</th><td>140.151</td><td>4.0</td><td>-209.039</td><td>-218.656</td><td>2.87251e-62</td></tr><tr><th>3</th><td>140.302</td><td>4.0</td><td>-206.35</td><td>-215.953</td><td>4.28786e-61</td></tr><tr><th>4</th><td>140.452</td><td>4.0</td><td>-203.69</td><td>-213.279</td><td>6.22096e-60</td></tr><tr><th>5</th><td>140.603</td><td>4.0</td><td>-201.057</td><td>-210.632</td><td>8.77229e-59</td></tr><tr><th>6</th><td>140.754</td><td>4.0</td><td>-198.454</td><td>-208.014</td><td>1.20228e-57</td></tr><tr><th>7</th><td>140.905</td><td>4.0</td><td>-195.878</td><td>-205.425</td><td>1.60153e-56</td></tr><tr><th>8</th><td>141.055</td><td>4.0</td><td>-193.331</td><td>-202.864</td><td>2.0735e-55</td></tr><tr><th>9</th><td>141.206</td><td>4.0</td><td>-190.813</td><td>-200.332</td><td>2.60922e-54</td></tr><tr><th>10</th><td>141.357</td><td>4.0</td><td>-188.323</td><td>-197.828</td><td>3.1912e-53</td></tr></tbody></table>"
      ]
     },
     "metadata": {},
     "execution_count": 6
    }
   ],
   "cell_type": "code",
   "source": [
    "struct Post\n",
    "  mu::Float64\n",
    "  sigma::Float64\n",
    "  ll:: Float64\n",
    "  prod::Float64\n",
    "  prob::Float64\n",
    "end\n",
    "\n",
    "mu_list = repeat(range(140, 170, length=200), 200);\n",
    "sigma_list = repeat(range(4, 20, length=200), inner=200);\n",
    "\n",
    "ll = zeros(40000);\n",
    "for i in 1:40000\n",
    "    d1 = Normal(mu_list[i], sigma_list[i])\n",
    "    ll[i] = sum(log.(pdf.(d1, df3[:height])))\n",
    "end\n",
    "\n",
    "d2 = Normal(178.0, 20.0)\n",
    "d3 = Uniform(0, 50)\n",
    "prod = ll + log.(pdf.(d2, mu_list)) + log.(pdf.(d3, sigma_list))\n",
    "prob = exp.(prod .- maximum(prod))\n",
    "post = DataFrame(mu=mu_list, sigma=sigma_list, ll=ll, prod=prod, prob=prob)\n",
    "first(post, 10)"
   ],
   "metadata": {},
   "execution_count": 6
  },
  {
   "outputs": [],
   "cell_type": "markdown",
   "source": [
    "Sample post"
   ],
   "metadata": {}
  },
  {
   "outputs": [
    {
     "output_type": "execute_result",
     "data": {
      "text/plain": "10000×5 DataFrame\n│ Row   │ mu      │ sigma   │ ll       │ prod     │ prob      │\n│       │ \u001b[90mFloat64\u001b[39m │ \u001b[90mFloat64\u001b[39m │ \u001b[90mFloat64\u001b[39m  │ \u001b[90mFloat64\u001b[39m  │ \u001b[90mFloat64\u001b[39m   │\n├───────┼─────────┼─────────┼──────────┼──────────┼───────────┤\n│ 1     │ 156.281 │ 9.06533 │ -69.5393 │ -77.9556 │ 0.366318  │\n│ 2     │ 154.171 │ 7.61809 │ -68.4712 │ -77.0077 │ 0.945218  │\n│ 3     │ 154.623 │ 7.77889 │ -68.4863 │ -76.9961 │ 0.956255  │\n│ 4     │ 156.734 │ 8.58291 │ -69.5099 │ -77.9019 │ 0.386515  │\n│ 5     │ 154.774 │ 7.77889 │ -68.4964 │ -76.9974 │ 0.954982  │\n│ 6     │ 153.116 │ 8.98492 │ -69.329  │ -77.9298 │ 0.375907  │\n│ 7     │ 155.98  │ 7.21608 │ -68.8758 │ -77.3086 │ 0.699626  │\n⋮\n│ 9993  │ 153.266 │ 7.69849 │ -68.7213 │ -77.3127 │ 0.69674   │\n│ 9994  │ 153.568 │ 6.41206 │ -69.1103 │ -77.6832 │ 0.481042  │\n│ 9995  │ 151.457 │ 8.26131 │ -70.0104 │ -78.7177 │ 0.170951  │\n│ 9996  │ 152.965 │ 7.21608 │ -68.9026 │ -77.5127 │ 0.570439  │\n│ 9997  │ 154.774 │ 9.06533 │ -69.1606 │ -77.6616 │ 0.491512  │\n│ 9998  │ 156.583 │ 7.61809 │ -69.2039 │ -77.6039 │ 0.520711  │\n│ 9999  │ 155.226 │ 8.58291 │ -68.9024 │ -77.3774 │ 0.653097  │\n│ 10000 │ 152.362 │ 5.92965 │ -70.8935 │ -79.5418 │ 0.0749832 │",
      "text/html": [
       "<table class=\"data-frame\"><thead><tr><th></th><th>mu</th><th>sigma</th><th>ll</th><th>prod</th><th>prob</th></tr><tr><th></th><th>Float64</th><th>Float64</th><th>Float64</th><th>Float64</th><th>Float64</th></tr></thead><tbody><p>10,000 rows × 5 columns</p><tr><th>1</th><td>156.281</td><td>9.06533</td><td>-69.5393</td><td>-77.9556</td><td>0.366318</td></tr><tr><th>2</th><td>154.171</td><td>7.61809</td><td>-68.4712</td><td>-77.0077</td><td>0.945218</td></tr><tr><th>3</th><td>154.623</td><td>7.77889</td><td>-68.4863</td><td>-76.9961</td><td>0.956255</td></tr><tr><th>4</th><td>156.734</td><td>8.58291</td><td>-69.5099</td><td>-77.9019</td><td>0.386515</td></tr><tr><th>5</th><td>154.774</td><td>7.77889</td><td>-68.4964</td><td>-76.9974</td><td>0.954982</td></tr><tr><th>6</th><td>153.116</td><td>8.98492</td><td>-69.329</td><td>-77.9298</td><td>0.375907</td></tr><tr><th>7</th><td>155.98</td><td>7.21608</td><td>-68.8758</td><td>-77.3086</td><td>0.699626</td></tr><tr><th>8</th><td>153.417</td><td>7.53769</td><td>-68.6485</td><td>-77.2306</td><td>0.756351</td></tr><tr><th>9</th><td>158.844</td><td>9.94975</td><td>-71.788</td><td>-80.0733</td><td>0.0440703</td></tr><tr><th>10</th><td>156.583</td><td>8.74372</td><td>-69.4994</td><td>-77.8994</td><td>0.387483</td></tr><tr><th>11</th><td>152.513</td><td>7.9397</td><td>-69.1526</td><td>-77.7913</td><td>0.431715</td></tr><tr><th>12</th><td>160.352</td><td>10.6734</td><td>-73.5655</td><td>-81.7815</td><td>0.00798539</td></tr><tr><th>13</th><td>154.774</td><td>8.34171</td><td>-68.7083</td><td>-77.2094</td><td>0.772595</td></tr><tr><th>14</th><td>157.035</td><td>9.86935</td><td>-70.4683</td><td>-78.8444</td><td>0.150607</td></tr><tr><th>15</th><td>152.362</td><td>7.69849</td><td>-69.2345</td><td>-77.8829</td><td>0.39395</td></tr><tr><th>16</th><td>151.307</td><td>7.61809</td><td>-70.2054</td><td>-78.9227</td><td>0.139266</td></tr><tr><th>17</th><td>155.678</td><td>6.97487</td><td>-68.8024</td><td>-77.2519</td><td>0.7404</td></tr><tr><th>18</th><td>155.98</td><td>7.8593</td><td>-68.8612</td><td>-77.294</td><td>0.709872</td></tr><tr><th>19</th><td>156.583</td><td>7.21608</td><td>-69.2894</td><td>-77.6895</td><td>0.478021</td></tr><tr><th>20</th><td>152.965</td><td>9.06533</td><td>-69.4363</td><td>-78.0464</td><td>0.334514</td></tr><tr><th>21</th><td>152.362</td><td>8.34171</td><td>-69.3515</td><td>-77.9998</td><td>0.350478</td></tr><tr><th>22</th><td>153.266</td><td>6.41206</td><td>-69.2685</td><td>-77.8599</td><td>0.403129</td></tr><tr><th>23</th><td>155.075</td><td>8.58291</td><td>-68.8756</td><td>-77.3592</td><td>0.665097</td></tr><tr><th>24</th><td>157.035</td><td>6.41206</td><td>-70.4698</td><td>-78.8459</td><td>0.150392</td></tr><tr><th>&vellip;</th><td>&vellip;</td><td>&vellip;</td><td>&vellip;</td><td>&vellip;</td><td>&vellip;</td></tr></tbody></table>"
      ]
     },
     "metadata": {},
     "execution_count": 7
    }
   ],
   "cell_type": "code",
   "source": [
    "samples = post[sample(1:size(post, 1), Weights(post[:prob]), 10000, replace=true), :]"
   ],
   "metadata": {},
   "execution_count": 7
  },
  {
   "outputs": [],
   "cell_type": "markdown",
   "source": [
    "### Snippet 4.23"
   ],
   "metadata": {}
  },
  {
   "outputs": [],
   "cell_type": "markdown",
   "source": [
    "Density of sigma"
   ],
   "metadata": {}
  },
  {
   "outputs": [
    {
     "output_type": "execute_result",
     "data": {
      "text/plain": "Plot{Plots.GRBackend() n=1}",
      "image/png": "[encoded data removed]",
      "text/html": [
       "<?xml version=\"1.0\" encoding=\"utf-8\"?>\n",
       "<svg xmlns=\"http://www.w3.org/2000/svg\" xmlns:xlink=\"http://www.w3.org/1999/xlink\" width=\"500\" height=\"500\" viewBox=\"0 0 2000 2000\">\n",
       "<defs>\n",
       "  <clipPath id=\"clip6600\">\n",
       "    <rect x=\"0\" y=\"0\" width=\"2000\" height=\"2000\"/>\n",
       "  </clipPath>\n",
       "</defs>\n",
       "<polygon clip-path=\"url(#clip6600)\" points=\"\n",
       "0,2000 2000,2000 2000,0 0,0 \n",
       "  \" fill=\"#ffffff\" fill-rule=\"evenodd\" fill-opacity=\"1\"/>\n",
       "<defs>\n",
       "  <clipPath id=\"clip6601\">\n",
       "    <rect x=\"400\" y=\"200\" width=\"1401\" height=\"1401\"/>\n",
       "  </clipPath>\n",
       "</defs>\n",
       "<polygon clip-path=\"url(#clip6600)\" points=\"\n",
       "161.394,1886.71 1921.26,1886.71 1921.26,47.2441 161.394,47.2441 \n",
       "  \" fill=\"#ffffff\" fill-rule=\"evenodd\" fill-opacity=\"1\"/>\n",
       "<defs>\n",
       "  <clipPath id=\"clip6602\">\n",
       "    <rect x=\"161\" y=\"47\" width=\"1761\" height=\"1840\"/>\n",
       "  </clipPath>\n",
       "</defs>\n",
       "<polyline clip-path=\"url(#clip6602)\" style=\"stroke:#000000; stroke-width:2; stroke-opacity:0.1; fill:none\" points=\"\n",
       "  492.267,1886.71 492.267,47.2441 \n",
       "  \"/>\n",
       "<polyline clip-path=\"url(#clip6602)\" style=\"stroke:#000000; stroke-width:2; stroke-opacity:0.1; fill:none\" points=\"\n",
       "  850.898,1886.71 850.898,47.2441 \n",
       "  \"/>\n",
       "<polyline clip-path=\"url(#clip6602)\" style=\"stroke:#000000; stroke-width:2; stroke-opacity:0.1; fill:none\" points=\"\n",
       "  1209.53,1886.71 1209.53,47.2441 \n",
       "  \"/>\n",
       "<polyline clip-path=\"url(#clip6602)\" style=\"stroke:#000000; stroke-width:2; stroke-opacity:0.1; fill:none\" points=\"\n",
       "  1568.16,1886.71 1568.16,47.2441 \n",
       "  \"/>\n",
       "<polyline clip-path=\"url(#clip6602)\" style=\"stroke:#000000; stroke-width:2; stroke-opacity:0.1; fill:none\" points=\"\n",
       "  161.394,1834.65 1921.26,1834.65 \n",
       "  \"/>\n",
       "<polyline clip-path=\"url(#clip6602)\" style=\"stroke:#000000; stroke-width:2; stroke-opacity:0.1; fill:none\" points=\"\n",
       "  161.394,1264.76 1921.26,1264.76 \n",
       "  \"/>\n",
       "<polyline clip-path=\"url(#clip6602)\" style=\"stroke:#000000; stroke-width:2; stroke-opacity:0.1; fill:none\" points=\"\n",
       "  161.394,694.872 1921.26,694.872 \n",
       "  \"/>\n",
       "<polyline clip-path=\"url(#clip6602)\" style=\"stroke:#000000; stroke-width:2; stroke-opacity:0.1; fill:none\" points=\"\n",
       "  161.394,124.984 1921.26,124.984 \n",
       "  \"/>\n",
       "<polyline clip-path=\"url(#clip6600)\" style=\"stroke:#000000; stroke-width:4; stroke-opacity:1; fill:none\" points=\"\n",
       "  161.394,1886.71 1921.26,1886.71 \n",
       "  \"/>\n",
       "<polyline clip-path=\"url(#clip6600)\" style=\"stroke:#000000; stroke-width:4; stroke-opacity:1; fill:none\" points=\"\n",
       "  161.394,1886.71 161.394,47.2441 \n",
       "  \"/>\n",
       "<polyline clip-path=\"url(#clip6600)\" style=\"stroke:#000000; stroke-width:4; stroke-opacity:1; fill:none\" points=\"\n",
       "  492.267,1886.71 492.267,1859.12 \n",
       "  \"/>\n",
       "<polyline clip-path=\"url(#clip6600)\" style=\"stroke:#000000; stroke-width:4; stroke-opacity:1; fill:none\" points=\"\n",
       "  850.898,1886.71 850.898,1859.12 \n",
       "  \"/>\n",
       "<polyline clip-path=\"url(#clip6600)\" style=\"stroke:#000000; stroke-width:4; stroke-opacity:1; fill:none\" points=\"\n",
       "  1209.53,1886.71 1209.53,1859.12 \n",
       "  \"/>\n",
       "<polyline clip-path=\"url(#clip6600)\" style=\"stroke:#000000; stroke-width:4; stroke-opacity:1; fill:none\" points=\"\n",
       "  1568.16,1886.71 1568.16,1859.12 \n",
       "  \"/>\n",
       "<polyline clip-path=\"url(#clip6600)\" style=\"stroke:#000000; stroke-width:4; stroke-opacity:1; fill:none\" points=\"\n",
       "  161.394,1834.65 187.792,1834.65 \n",
       "  \"/>\n",
       "<polyline clip-path=\"url(#clip6600)\" style=\"stroke:#000000; stroke-width:4; stroke-opacity:1; fill:none\" points=\"\n",
       "  161.394,1264.76 187.792,1264.76 \n",
       "  \"/>\n",
       "<polyline clip-path=\"url(#clip6600)\" style=\"stroke:#000000; stroke-width:4; stroke-opacity:1; fill:none\" points=\"\n",
       "  161.394,694.872 187.792,694.872 \n",
       "  \"/>\n",
       "<polyline clip-path=\"url(#clip6600)\" style=\"stroke:#000000; stroke-width:4; stroke-opacity:1; fill:none\" points=\"\n",
       "  161.394,124.984 187.792,124.984 \n",
       "  \"/>\n",
       "<g clip-path=\"url(#clip6600)\">\n",
       "<text style=\"fill:#000000; fill-opacity:1; font-family:Arial,Helvetica Neue,Helvetica,sans-serif; font-size:48px; text-anchor:middle;\" transform=\"rotate(0, 492.267, 1938.71)\" x=\"492.267\" y=\"1938.71\">6</text>\n",
       "</g>\n",
       "<g clip-path=\"url(#clip6600)\">\n",
       "<text style=\"fill:#000000; fill-opacity:1; font-family:Arial,Helvetica Neue,Helvetica,sans-serif; font-size:48px; text-anchor:middle;\" transform=\"rotate(0, 850.898, 1938.71)\" x=\"850.898\" y=\"1938.71\">9</text>\n",
       "</g>\n",
       "<g clip-path=\"url(#clip6600)\">\n",
       "<text style=\"fill:#000000; fill-opacity:1; font-family:Arial,Helvetica Neue,Helvetica,sans-serif; font-size:48px; text-anchor:middle;\" transform=\"rotate(0, 1209.53, 1938.71)\" x=\"1209.53\" y=\"1938.71\">12</text>\n",
       "</g>\n",
       "<g clip-path=\"url(#clip6600)\">\n",
       "<text style=\"fill:#000000; fill-opacity:1; font-family:Arial,Helvetica Neue,Helvetica,sans-serif; font-size:48px; text-anchor:middle;\" transform=\"rotate(0, 1568.16, 1938.71)\" x=\"1568.16\" y=\"1938.71\">15</text>\n",
       "</g>\n",
       "<g clip-path=\"url(#clip6600)\">\n",
       "<text style=\"fill:#000000; fill-opacity:1; font-family:Arial,Helvetica Neue,Helvetica,sans-serif; font-size:48px; text-anchor:end;\" transform=\"rotate(0, 141.394, 1852.15)\" x=\"141.394\" y=\"1852.15\">0.0</text>\n",
       "</g>\n",
       "<g clip-path=\"url(#clip6600)\">\n",
       "<text style=\"fill:#000000; fill-opacity:1; font-family:Arial,Helvetica Neue,Helvetica,sans-serif; font-size:48px; text-anchor:end;\" transform=\"rotate(0, 141.394, 1282.26)\" x=\"141.394\" y=\"1282.26\">0.1</text>\n",
       "</g>\n",
       "<g clip-path=\"url(#clip6600)\">\n",
       "<text style=\"fill:#000000; fill-opacity:1; font-family:Arial,Helvetica Neue,Helvetica,sans-serif; font-size:48px; text-anchor:end;\" transform=\"rotate(0, 141.394, 712.372)\" x=\"141.394\" y=\"712.372\">0.2</text>\n",
       "</g>\n",
       "<g clip-path=\"url(#clip6600)\">\n",
       "<text style=\"fill:#000000; fill-opacity:1; font-family:Arial,Helvetica Neue,Helvetica,sans-serif; font-size:48px; text-anchor:end;\" transform=\"rotate(0, 141.394, 142.484)\" x=\"141.394\" y=\"142.484\">0.3</text>\n",
       "</g>\n",
       "<polyline clip-path=\"url(#clip6602)\" style=\"stroke:#009af9; stroke-width:4; stroke-opacity:1; fill:none\" points=\"\n",
       "  211.202,1834.65 219.545,1834.65 227.887,1834.64 236.23,1834.63 244.573,1834.59 252.916,1834.5 261.259,1834.34 269.602,1834.05 277.945,1833.61 286.288,1833.01 \n",
       "  294.631,1832.27 302.974,1831.43 311.317,1830.49 319.66,1829.42 328.003,1828.06 336.346,1826.17 344.689,1823.52 353.032,1819.93 361.375,1815.4 369.718,1810.02 \n",
       "  378.061,1803.74 386.404,1796.25 394.747,1786.86 403.09,1774.67 411.433,1758.81 419.776,1738.72 428.119,1714.17 436.462,1685.12 444.805,1651.22 453.148,1611.51 \n",
       "  461.491,1564.45 469.834,1508.55 478.177,1443.34 486.52,1370.03 494.862,1291.34 503.205,1210.26 511.548,1128.69 519.891,1046.81 528.234,963.891 536.577,879.79 \n",
       "  544.92,796.098 553.263,715.956 561.606,642.693 569.949,578.114 578.292,521.448 586.635,469.621 594.978,418.916 603.321,367.306 611.664,316.098 620.007,269.637 \n",
       "  628.35,232.889 636.693,208.3 645.036,194.045 653.379,184.867 661.722,174.838 670.065,160.274 678.408,141.259 686.751,121.348 695.094,105.815 703.437,99.3044 \n",
       "  711.78,103.962 720.123,118.935 728.466,141.443 736.809,168.72 745.152,199.573 753.495,234.484 761.837,274.227 770.18,318.145 778.523,363.656 786.866,407.528 \n",
       "  795.209,447.932 803.552,485.606 811.895,523.307 820.238,564.049 828.581,609.441 836.924,659.082 845.267,711.15 853.61,763.627 861.953,815.351 870.296,866.333 \n",
       "  878.639,917.205 886.982,968.223 895.325,1018.54 903.668,1066.33 912.011,1109.71 920.354,1147.69 928.697,1180.7 937.04,1210.27 945.383,1238.19 953.726,1265.77 \n",
       "  962.069,1293.21 970.412,1319.76 978.755,1344.34 987.098,1366.4 995.441,1386.34 1003.78,1405.29 1012.13,1424.41 1020.47,1444.27 1028.81,1464.63 1037.16,1484.66 \n",
       "  1045.5,1503.39 1053.84,1520.3 1062.18,1535.76 1070.53,1551.03 1078.87,1567.64 1087.21,1586.52 1095.56,1607.39 1103.9,1628.87 1112.24,1649.1 1120.59,1666.45 \n",
       "  1128.93,1680.08 1137.27,1690.09 1145.61,1697.4 1153.96,1703.43 1162.3,1709.54 1170.64,1716.58 1178.99,1724.66 1187.33,1733.24 1195.67,1741.54 1204.01,1748.85 \n",
       "  1212.36,1754.78 1220.7,1759.31 1229.04,1762.7 1237.39,1765.41 1245.73,1767.93 1254.07,1770.74 1262.42,1774.22 1270.76,1778.49 1279.1,1783.23 1287.44,1787.75 \n",
       "  1295.79,1791.29 1304.13,1793.46 1312.47,1794.36 1320.82,1794.54 1329.16,1794.72 1337.5,1795.56 1345.85,1797.44 1354.19,1800.43 1362.53,1804.3 1370.87,1808.63 \n",
       "  1379.22,1813.03 1387.56,1817.2 1395.9,1820.93 1404.25,1824.07 1412.59,1826.47 1420.93,1828 1429.27,1828.62 1437.62,1828.34 1445.96,1827.32 1454.3,1825.81 \n",
       "  1462.65,1824.21 1470.99,1822.99 1479.33,1822.53 1487.68,1822.99 1496.02,1824.24 1504.36,1825.84 1512.7,1827.32 1521.05,1828.28 1529.39,1828.55 1537.73,1828.2 \n",
       "  1546.08,1827.54 1554.42,1826.88 1562.76,1826.49 1571.11,1826.42 1579.45,1826.6 1587.79,1826.95 1596.13,1827.46 1604.48,1828.16 1612.82,1829.09 1621.16,1830.15 \n",
       "  1629.51,1831.17 1637.85,1831.96 1646.19,1832.39 1654.54,1832.47 1662.88,1832.28 1671.22,1831.95 1679.56,1831.63 1687.91,1831.43 1696.25,1831.44 1704.59,1831.63 \n",
       "  1712.94,1831.94 1721.28,1832.29 1729.62,1832.62 1737.96,1832.89 1746.31,1833.09 1754.65,1833.2 1762.99,1833.25 1771.34,1833.26 1779.68,1833.3 1788.02,1833.44 \n",
       "  1796.37,1833.66 1804.71,1833.93 1813.05,1834.19 1821.39,1834.39 1829.74,1834.52 1838.08,1834.59 1846.42,1834.63 1854.77,1834.64 1863.11,1834.65 1871.45,1834.65 \n",
       "  \n",
       "  \"/>\n",
       "<polygon clip-path=\"url(#clip6600)\" points=\"\n",
       "1610.43,227.724 1861.26,227.724 1861.26,106.764 1610.43,106.764 \n",
       "  \" fill=\"#ffffff\" fill-rule=\"evenodd\" fill-opacity=\"1\"/>\n",
       "<polyline clip-path=\"url(#clip6600)\" style=\"stroke:#000000; stroke-width:4; stroke-opacity:1; fill:none\" points=\"\n",
       "  1610.43,227.724 1861.26,227.724 1861.26,106.764 1610.43,106.764 1610.43,227.724 \n",
       "  \"/>\n",
       "<polyline clip-path=\"url(#clip6600)\" style=\"stroke:#009af9; stroke-width:4; stroke-opacity:1; fill:none\" points=\"\n",
       "  1630.43,167.244 1750.43,167.244 \n",
       "  \"/>\n",
       "<g clip-path=\"url(#clip6600)\">\n",
       "<text style=\"fill:#000000; fill-opacity:1; font-family:Arial,Helvetica Neue,Helvetica,sans-serif; font-size:48px; text-anchor:start;\" transform=\"rotate(0, 1770.43, 184.744)\" x=\"1770.43\" y=\"184.744\">y1</text>\n",
       "</g>\n",
       "</svg>\n"
      ],
      "image/svg+xml": [
       "<?xml version=\"1.0\" encoding=\"utf-8\"?>\n",
       "<svg xmlns=\"http://www.w3.org/2000/svg\" xmlns:xlink=\"http://www.w3.org/1999/xlink\" width=\"500\" height=\"500\" viewBox=\"0 0 2000 2000\">\n",
       "<defs>\n",
       "  <clipPath id=\"clip6500\">\n",
       "    <rect x=\"0\" y=\"0\" width=\"2000\" height=\"2000\"/>\n",
       "  </clipPath>\n",
       "</defs>\n",
       "<polygon clip-path=\"url(#clip6500)\" points=\"\n",
       "0,2000 2000,2000 2000,0 0,0 \n",
       "  \" fill=\"#ffffff\" fill-rule=\"evenodd\" fill-opacity=\"1\"/>\n",
       "<defs>\n",
       "  <clipPath id=\"clip6501\">\n",
       "    <rect x=\"400\" y=\"200\" width=\"1401\" height=\"1401\"/>\n",
       "  </clipPath>\n",
       "</defs>\n",
       "<polygon clip-path=\"url(#clip6500)\" points=\"\n",
       "161.394,1886.71 1921.26,1886.71 1921.26,47.2441 161.394,47.2441 \n",
       "  \" fill=\"#ffffff\" fill-rule=\"evenodd\" fill-opacity=\"1\"/>\n",
       "<defs>\n",
       "  <clipPath id=\"clip6502\">\n",
       "    <rect x=\"161\" y=\"47\" width=\"1761\" height=\"1840\"/>\n",
       "  </clipPath>\n",
       "</defs>\n",
       "<polyline clip-path=\"url(#clip6502)\" style=\"stroke:#000000; stroke-width:2; stroke-opacity:0.1; fill:none\" points=\"\n",
       "  492.267,1886.71 492.267,47.2441 \n",
       "  \"/>\n",
       "<polyline clip-path=\"url(#clip6502)\" style=\"stroke:#000000; stroke-width:2; stroke-opacity:0.1; fill:none\" points=\"\n",
       "  850.898,1886.71 850.898,47.2441 \n",
       "  \"/>\n",
       "<polyline clip-path=\"url(#clip6502)\" style=\"stroke:#000000; stroke-width:2; stroke-opacity:0.1; fill:none\" points=\"\n",
       "  1209.53,1886.71 1209.53,47.2441 \n",
       "  \"/>\n",
       "<polyline clip-path=\"url(#clip6502)\" style=\"stroke:#000000; stroke-width:2; stroke-opacity:0.1; fill:none\" points=\"\n",
       "  1568.16,1886.71 1568.16,47.2441 \n",
       "  \"/>\n",
       "<polyline clip-path=\"url(#clip6502)\" style=\"stroke:#000000; stroke-width:2; stroke-opacity:0.1; fill:none\" points=\"\n",
       "  161.394,1834.65 1921.26,1834.65 \n",
       "  \"/>\n",
       "<polyline clip-path=\"url(#clip6502)\" style=\"stroke:#000000; stroke-width:2; stroke-opacity:0.1; fill:none\" points=\"\n",
       "  161.394,1264.76 1921.26,1264.76 \n",
       "  \"/>\n",
       "<polyline clip-path=\"url(#clip6502)\" style=\"stroke:#000000; stroke-width:2; stroke-opacity:0.1; fill:none\" points=\"\n",
       "  161.394,694.872 1921.26,694.872 \n",
       "  \"/>\n",
       "<polyline clip-path=\"url(#clip6502)\" style=\"stroke:#000000; stroke-width:2; stroke-opacity:0.1; fill:none\" points=\"\n",
       "  161.394,124.984 1921.26,124.984 \n",
       "  \"/>\n",
       "<polyline clip-path=\"url(#clip6500)\" style=\"stroke:#000000; stroke-width:4; stroke-opacity:1; fill:none\" points=\"\n",
       "  161.394,1886.71 1921.26,1886.71 \n",
       "  \"/>\n",
       "<polyline clip-path=\"url(#clip6500)\" style=\"stroke:#000000; stroke-width:4; stroke-opacity:1; fill:none\" points=\"\n",
       "  161.394,1886.71 161.394,47.2441 \n",
       "  \"/>\n",
       "<polyline clip-path=\"url(#clip6500)\" style=\"stroke:#000000; stroke-width:4; stroke-opacity:1; fill:none\" points=\"\n",
       "  492.267,1886.71 492.267,1859.12 \n",
       "  \"/>\n",
       "<polyline clip-path=\"url(#clip6500)\" style=\"stroke:#000000; stroke-width:4; stroke-opacity:1; fill:none\" points=\"\n",
       "  850.898,1886.71 850.898,1859.12 \n",
       "  \"/>\n",
       "<polyline clip-path=\"url(#clip6500)\" style=\"stroke:#000000; stroke-width:4; stroke-opacity:1; fill:none\" points=\"\n",
       "  1209.53,1886.71 1209.53,1859.12 \n",
       "  \"/>\n",
       "<polyline clip-path=\"url(#clip6500)\" style=\"stroke:#000000; stroke-width:4; stroke-opacity:1; fill:none\" points=\"\n",
       "  1568.16,1886.71 1568.16,1859.12 \n",
       "  \"/>\n",
       "<polyline clip-path=\"url(#clip6500)\" style=\"stroke:#000000; stroke-width:4; stroke-opacity:1; fill:none\" points=\"\n",
       "  161.394,1834.65 187.792,1834.65 \n",
       "  \"/>\n",
       "<polyline clip-path=\"url(#clip6500)\" style=\"stroke:#000000; stroke-width:4; stroke-opacity:1; fill:none\" points=\"\n",
       "  161.394,1264.76 187.792,1264.76 \n",
       "  \"/>\n",
       "<polyline clip-path=\"url(#clip6500)\" style=\"stroke:#000000; stroke-width:4; stroke-opacity:1; fill:none\" points=\"\n",
       "  161.394,694.872 187.792,694.872 \n",
       "  \"/>\n",
       "<polyline clip-path=\"url(#clip6500)\" style=\"stroke:#000000; stroke-width:4; stroke-opacity:1; fill:none\" points=\"\n",
       "  161.394,124.984 187.792,124.984 \n",
       "  \"/>\n",
       "<g clip-path=\"url(#clip6500)\">\n",
       "<text style=\"fill:#000000; fill-opacity:1; font-family:Arial,Helvetica Neue,Helvetica,sans-serif; font-size:48px; text-anchor:middle;\" transform=\"rotate(0, 492.267, 1938.71)\" x=\"492.267\" y=\"1938.71\">6</text>\n",
       "</g>\n",
       "<g clip-path=\"url(#clip6500)\">\n",
       "<text style=\"fill:#000000; fill-opacity:1; font-family:Arial,Helvetica Neue,Helvetica,sans-serif; font-size:48px; text-anchor:middle;\" transform=\"rotate(0, 850.898, 1938.71)\" x=\"850.898\" y=\"1938.71\">9</text>\n",
       "</g>\n",
       "<g clip-path=\"url(#clip6500)\">\n",
       "<text style=\"fill:#000000; fill-opacity:1; font-family:Arial,Helvetica Neue,Helvetica,sans-serif; font-size:48px; text-anchor:middle;\" transform=\"rotate(0, 1209.53, 1938.71)\" x=\"1209.53\" y=\"1938.71\">12</text>\n",
       "</g>\n",
       "<g clip-path=\"url(#clip6500)\">\n",
       "<text style=\"fill:#000000; fill-opacity:1; font-family:Arial,Helvetica Neue,Helvetica,sans-serif; font-size:48px; text-anchor:middle;\" transform=\"rotate(0, 1568.16, 1938.71)\" x=\"1568.16\" y=\"1938.71\">15</text>\n",
       "</g>\n",
       "<g clip-path=\"url(#clip6500)\">\n",
       "<text style=\"fill:#000000; fill-opacity:1; font-family:Arial,Helvetica Neue,Helvetica,sans-serif; font-size:48px; text-anchor:end;\" transform=\"rotate(0, 141.394, 1852.15)\" x=\"141.394\" y=\"1852.15\">0.0</text>\n",
       "</g>\n",
       "<g clip-path=\"url(#clip6500)\">\n",
       "<text style=\"fill:#000000; fill-opacity:1; font-family:Arial,Helvetica Neue,Helvetica,sans-serif; font-size:48px; text-anchor:end;\" transform=\"rotate(0, 141.394, 1282.26)\" x=\"141.394\" y=\"1282.26\">0.1</text>\n",
       "</g>\n",
       "<g clip-path=\"url(#clip6500)\">\n",
       "<text style=\"fill:#000000; fill-opacity:1; font-family:Arial,Helvetica Neue,Helvetica,sans-serif; font-size:48px; text-anchor:end;\" transform=\"rotate(0, 141.394, 712.372)\" x=\"141.394\" y=\"712.372\">0.2</text>\n",
       "</g>\n",
       "<g clip-path=\"url(#clip6500)\">\n",
       "<text style=\"fill:#000000; fill-opacity:1; font-family:Arial,Helvetica Neue,Helvetica,sans-serif; font-size:48px; text-anchor:end;\" transform=\"rotate(0, 141.394, 142.484)\" x=\"141.394\" y=\"142.484\">0.3</text>\n",
       "</g>\n",
       "<polyline clip-path=\"url(#clip6502)\" style=\"stroke:#009af9; stroke-width:4; stroke-opacity:1; fill:none\" points=\"\n",
       "  211.202,1834.65 219.545,1834.65 227.887,1834.64 236.23,1834.63 244.573,1834.59 252.916,1834.5 261.259,1834.34 269.602,1834.05 277.945,1833.61 286.288,1833.01 \n",
       "  294.631,1832.27 302.974,1831.43 311.317,1830.49 319.66,1829.42 328.003,1828.06 336.346,1826.17 344.689,1823.52 353.032,1819.93 361.375,1815.4 369.718,1810.02 \n",
       "  378.061,1803.74 386.404,1796.25 394.747,1786.86 403.09,1774.67 411.433,1758.81 419.776,1738.72 428.119,1714.17 436.462,1685.12 444.805,1651.22 453.148,1611.51 \n",
       "  461.491,1564.45 469.834,1508.55 478.177,1443.34 486.52,1370.03 494.862,1291.34 503.205,1210.26 511.548,1128.69 519.891,1046.81 528.234,963.891 536.577,879.79 \n",
       "  544.92,796.098 553.263,715.956 561.606,642.693 569.949,578.114 578.292,521.448 586.635,469.621 594.978,418.916 603.321,367.306 611.664,316.098 620.007,269.637 \n",
       "  628.35,232.889 636.693,208.3 645.036,194.045 653.379,184.867 661.722,174.838 670.065,160.274 678.408,141.259 686.751,121.348 695.094,105.815 703.437,99.3044 \n",
       "  711.78,103.962 720.123,118.935 728.466,141.443 736.809,168.72 745.152,199.573 753.495,234.484 761.837,274.227 770.18,318.145 778.523,363.656 786.866,407.528 \n",
       "  795.209,447.932 803.552,485.606 811.895,523.307 820.238,564.049 828.581,609.441 836.924,659.082 845.267,711.15 853.61,763.627 861.953,815.351 870.296,866.333 \n",
       "  878.639,917.205 886.982,968.223 895.325,1018.54 903.668,1066.33 912.011,1109.71 920.354,1147.69 928.697,1180.7 937.04,1210.27 945.383,1238.19 953.726,1265.77 \n",
       "  962.069,1293.21 970.412,1319.76 978.755,1344.34 987.098,1366.4 995.441,1386.34 1003.78,1405.29 1012.13,1424.41 1020.47,1444.27 1028.81,1464.63 1037.16,1484.66 \n",
       "  1045.5,1503.39 1053.84,1520.3 1062.18,1535.76 1070.53,1551.03 1078.87,1567.64 1087.21,1586.52 1095.56,1607.39 1103.9,1628.87 1112.24,1649.1 1120.59,1666.45 \n",
       "  1128.93,1680.08 1137.27,1690.09 1145.61,1697.4 1153.96,1703.43 1162.3,1709.54 1170.64,1716.58 1178.99,1724.66 1187.33,1733.24 1195.67,1741.54 1204.01,1748.85 \n",
       "  1212.36,1754.78 1220.7,1759.31 1229.04,1762.7 1237.39,1765.41 1245.73,1767.93 1254.07,1770.74 1262.42,1774.22 1270.76,1778.49 1279.1,1783.23 1287.44,1787.75 \n",
       "  1295.79,1791.29 1304.13,1793.46 1312.47,1794.36 1320.82,1794.54 1329.16,1794.72 1337.5,1795.56 1345.85,1797.44 1354.19,1800.43 1362.53,1804.3 1370.87,1808.63 \n",
       "  1379.22,1813.03 1387.56,1817.2 1395.9,1820.93 1404.25,1824.07 1412.59,1826.47 1420.93,1828 1429.27,1828.62 1437.62,1828.34 1445.96,1827.32 1454.3,1825.81 \n",
       "  1462.65,1824.21 1470.99,1822.99 1479.33,1822.53 1487.68,1822.99 1496.02,1824.24 1504.36,1825.84 1512.7,1827.32 1521.05,1828.28 1529.39,1828.55 1537.73,1828.2 \n",
       "  1546.08,1827.54 1554.42,1826.88 1562.76,1826.49 1571.11,1826.42 1579.45,1826.6 1587.79,1826.95 1596.13,1827.46 1604.48,1828.16 1612.82,1829.09 1621.16,1830.15 \n",
       "  1629.51,1831.17 1637.85,1831.96 1646.19,1832.39 1654.54,1832.47 1662.88,1832.28 1671.22,1831.95 1679.56,1831.63 1687.91,1831.43 1696.25,1831.44 1704.59,1831.63 \n",
       "  1712.94,1831.94 1721.28,1832.29 1729.62,1832.62 1737.96,1832.89 1746.31,1833.09 1754.65,1833.2 1762.99,1833.25 1771.34,1833.26 1779.68,1833.3 1788.02,1833.44 \n",
       "  1796.37,1833.66 1804.71,1833.93 1813.05,1834.19 1821.39,1834.39 1829.74,1834.52 1838.08,1834.59 1846.42,1834.63 1854.77,1834.64 1863.11,1834.65 1871.45,1834.65 \n",
       "  \n",
       "  \"/>\n",
       "<polygon clip-path=\"url(#clip6500)\" points=\"\n",
       "1610.43,227.724 1861.26,227.724 1861.26,106.764 1610.43,106.764 \n",
       "  \" fill=\"#ffffff\" fill-rule=\"evenodd\" fill-opacity=\"1\"/>\n",
       "<polyline clip-path=\"url(#clip6500)\" style=\"stroke:#000000; stroke-width:4; stroke-opacity:1; fill:none\" points=\"\n",
       "  1610.43,227.724 1861.26,227.724 1861.26,106.764 1610.43,106.764 1610.43,227.724 \n",
       "  \"/>\n",
       "<polyline clip-path=\"url(#clip6500)\" style=\"stroke:#009af9; stroke-width:4; stroke-opacity:1; fill:none\" points=\"\n",
       "  1630.43,167.244 1750.43,167.244 \n",
       "  \"/>\n",
       "<g clip-path=\"url(#clip6500)\">\n",
       "<text style=\"fill:#000000; fill-opacity:1; font-family:Arial,Helvetica Neue,Helvetica,sans-serif; font-size:48px; text-anchor:start;\" transform=\"rotate(0, 1770.43, 184.744)\" x=\"1770.43\" y=\"184.744\">y1</text>\n",
       "</g>\n",
       "</svg>\n"
      ]
     },
     "metadata": {},
     "execution_count": 8
    }
   ],
   "cell_type": "code",
   "source": [
    "density(samples[:sigma])"
   ],
   "metadata": {},
   "execution_count": 8
  },
  {
   "outputs": [],
   "cell_type": "markdown",
   "source": [
    "End of `clip-21-23.jl`"
   ],
   "metadata": {}
  },
  {
   "outputs": [],
   "cell_type": "markdown",
   "source": [
    "*This notebook was generated using [Literate.jl](https://github.com/fredrikekre/Literate.jl).*"
   ],
   "metadata": {}
  }
 ],
 "nbformat_minor": 3,
 "metadata": {
  "language_info": {
   "file_extension": ".jl",
   "mimetype": "application/julia",
   "name": "julia",
   "version": "1.2.0-DEV.272"
  },
  "kernelspec": {
   "name": "julia-1.2",
   "display_name": "Julia 1.2.0-DEV.272",
   "language": "julia"
  }
 },
 "nbformat": 4
}
