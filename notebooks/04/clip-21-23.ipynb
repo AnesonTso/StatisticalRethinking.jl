{
 "cells": [
  {
   "outputs": [],
   "cell_type": "markdown",
   "source": [
    "Load Julia packages (libraries) needed  for the snippets in chapter 0"
   ],
   "metadata": {}
  },
  {
   "outputs": [],
   "cell_type": "code",
   "source": [
    "using StatisticalRethinking, CmdStan, StanMCMCChains\n",
    "gr(size=(500,500));"
   ],
   "metadata": {},
   "execution_count": 1
  },
  {
   "outputs": [],
   "cell_type": "markdown",
   "source": [
    "CmdStan uses a tmp directory to store the output of cmdstan"
   ],
   "metadata": {}
  },
  {
   "outputs": [],
   "cell_type": "code",
   "source": [
    "ProjDir = rel_path(\"..\", \"scripts\", \"04\")\n",
    "cd(ProjDir)"
   ],
   "metadata": {},
   "execution_count": 2
  },
  {
   "outputs": [],
   "cell_type": "markdown",
   "source": [
    "CmdStan uses a tmp directory to store the output of cmdstan"
   ],
   "metadata": {}
  },
  {
   "outputs": [],
   "cell_type": "code",
   "source": [
    "ProjDir = rel_path(\"..\", \"scripts\", \"04\")\n",
    "cd(ProjDir)"
   ],
   "metadata": {},
   "execution_count": 3
  },
  {
   "outputs": [
    {
     "output_type": "execute_result",
     "data": {
      "text/plain": "5×4 DataFrame\n│ Row │ height   │ weight   │ age      │ male   │\n│     │ \u001b[90mFloat64⍰\u001b[39m │ \u001b[90mFloat64⍰\u001b[39m │ \u001b[90mFloat64⍰\u001b[39m │ \u001b[90mInt64⍰\u001b[39m │\n├─────┼──────────┼──────────┼──────────┼────────┤\n│ 1   │ 151.765  │ 47.8256  │ 63.0     │ 1      │\n│ 2   │ 139.7    │ 36.4858  │ 63.0     │ 0      │\n│ 3   │ 136.525  │ 31.8648  │ 65.0     │ 0      │\n│ 4   │ 156.845  │ 53.0419  │ 41.0     │ 1      │\n│ 5   │ 145.415  │ 41.2769  │ 51.0     │ 0      │",
      "text/html": [
       "<table class=\"data-frame\"><thead><tr><th></th><th>height</th><th>weight</th><th>age</th><th>male</th></tr><tr><th></th><th>Float64⍰</th><th>Float64⍰</th><th>Float64⍰</th><th>Int64⍰</th></tr></thead><tbody><p>5 rows × 4 columns</p><tr><th>1</th><td>151.765</td><td>47.8256</td><td>63.0</td><td>1</td></tr><tr><th>2</th><td>139.7</td><td>36.4858</td><td>63.0</td><td>0</td></tr><tr><th>3</th><td>136.525</td><td>31.8648</td><td>65.0</td><td>0</td></tr><tr><th>4</th><td>156.845</td><td>53.0419</td><td>41.0</td><td>1</td></tr><tr><th>5</th><td>145.415</td><td>41.2769</td><td>51.0</td><td>0</td></tr></tbody></table>"
      ]
     },
     "metadata": {},
     "execution_count": 4
    }
   ],
   "cell_type": "code",
   "source": [
    "howell1 = CSV.read(rel_path(\"..\", \"data\", \"Howell1.csv\"), delim=';')\n",
    "df = convert(DataFrame, howell1);\n",
    "df2 = filter(row -> row[:age] >= 18, df);\n",
    "first(df2, 5)"
   ],
   "metadata": {},
   "execution_count": 4
  },
  {
   "outputs": [],
   "cell_type": "markdown",
   "source": [
    "### Snippet 4.21"
   ],
   "metadata": {}
  },
  {
   "outputs": [],
   "cell_type": "markdown",
   "source": [
    "Sample 20 random heights"
   ],
   "metadata": {}
  },
  {
   "outputs": [],
   "cell_type": "code",
   "source": [
    "n = size(df2, 1)\n",
    "selected_ind = sample(1:n, 20, replace=false);\n",
    "df3 = df2[selected_ind, :];"
   ],
   "metadata": {},
   "execution_count": 5
  },
  {
   "outputs": [],
   "cell_type": "markdown",
   "source": [
    "### Snippet 4.22"
   ],
   "metadata": {}
  },
  {
   "outputs": [],
   "cell_type": "markdown",
   "source": [
    "Generate approximate probabilities"
   ],
   "metadata": {}
  },
  {
   "outputs": [
    {
     "output_type": "execute_result",
     "data": {
      "text/plain": "10×5 DataFrame\n│ Row │ mu      │ sigma   │ ll       │ prod     │ prob        │\n│     │ \u001b[90mFloat64\u001b[39m │ \u001b[90mFloat64\u001b[39m │ \u001b[90mFloat64\u001b[39m  │ \u001b[90mFloat64\u001b[39m  │ \u001b[90mFloat64\u001b[39m     │\n├─────┼─────────┼─────────┼──────────┼──────────┼─────────────┤\n│ 1   │ 140.0   │ 4.0     │ -199.646 │ -209.277 │ 2.45139e-56 │\n│ 2   │ 140.151 │ 4.0     │ -197.259 │ -206.877 │ 2.70402e-55 │\n│ 3   │ 140.302 │ 4.0     │ -194.901 │ -204.505 │ 2.89899e-54 │\n│ 4   │ 140.452 │ 4.0     │ -192.572 │ -202.161 │ 3.02079e-53 │\n│ 5   │ 140.603 │ 4.0     │ -190.271 │ -199.846 │ 3.05937e-52 │\n│ 6   │ 140.754 │ 4.0     │ -187.998 │ -197.559 │ 3.01148e-51 │\n│ 7   │ 140.905 │ 4.0     │ -185.754 │ -195.3   │ 2.88116e-50 │\n│ 8   │ 141.055 │ 4.0     │ -183.538 │ -193.07  │ 2.67912e-49 │\n│ 9   │ 141.206 │ 4.0     │ -181.35  │ -190.869 │ 2.42133e-48 │\n│ 10  │ 141.357 │ 4.0     │ -179.191 │ -188.696 │ 2.12694e-47 │",
      "text/html": [
       "<table class=\"data-frame\"><thead><tr><th></th><th>mu</th><th>sigma</th><th>ll</th><th>prod</th><th>prob</th></tr><tr><th></th><th>Float64</th><th>Float64</th><th>Float64</th><th>Float64</th><th>Float64</th></tr></thead><tbody><p>10 rows × 5 columns</p><tr><th>1</th><td>140.0</td><td>4.0</td><td>-199.646</td><td>-209.277</td><td>2.45139e-56</td></tr><tr><th>2</th><td>140.151</td><td>4.0</td><td>-197.259</td><td>-206.877</td><td>2.70402e-55</td></tr><tr><th>3</th><td>140.302</td><td>4.0</td><td>-194.901</td><td>-204.505</td><td>2.89899e-54</td></tr><tr><th>4</th><td>140.452</td><td>4.0</td><td>-192.572</td><td>-202.161</td><td>3.02079e-53</td></tr><tr><th>5</th><td>140.603</td><td>4.0</td><td>-190.271</td><td>-199.846</td><td>3.05937e-52</td></tr><tr><th>6</th><td>140.754</td><td>4.0</td><td>-187.998</td><td>-197.559</td><td>3.01148e-51</td></tr><tr><th>7</th><td>140.905</td><td>4.0</td><td>-185.754</td><td>-195.3</td><td>2.88116e-50</td></tr><tr><th>8</th><td>141.055</td><td>4.0</td><td>-183.538</td><td>-193.07</td><td>2.67912e-49</td></tr><tr><th>9</th><td>141.206</td><td>4.0</td><td>-181.35</td><td>-190.869</td><td>2.42133e-48</td></tr><tr><th>10</th><td>141.357</td><td>4.0</td><td>-179.191</td><td>-188.696</td><td>2.12694e-47</td></tr></tbody></table>"
      ]
     },
     "metadata": {},
     "execution_count": 6
    }
   ],
   "cell_type": "code",
   "source": [
    "struct Post\n",
    "  mu::Float64\n",
    "  sigma::Float64\n",
    "  ll:: Float64\n",
    "  prod::Float64\n",
    "  prob::Float64\n",
    "end\n",
    "\n",
    "mu_list = repeat(range(140, 170, length=200), 200);\n",
    "sigma_list = repeat(range(4, 20, length=200), inner=200);\n",
    "\n",
    "ll = zeros(40000);\n",
    "for i in 1:40000\n",
    "    d1 = Normal(mu_list[i], sigma_list[i])\n",
    "    ll[i] = sum(log.(pdf.(d1, df3[:height])))\n",
    "end\n",
    "\n",
    "d2 = Normal(178.0, 20.0)\n",
    "d3 = Uniform(0, 50)\n",
    "prod = ll + log.(pdf.(d2, mu_list)) + log.(pdf.(d3, sigma_list))\n",
    "prob = exp.(prod .- maximum(prod))\n",
    "post = DataFrame(mu=mu_list, sigma=sigma_list, ll=ll, prod=prod, prob=prob)\n",
    "first(post, 10)"
   ],
   "metadata": {},
   "execution_count": 6
  },
  {
   "outputs": [],
   "cell_type": "markdown",
   "source": [
    "Sample post"
   ],
   "metadata": {}
  },
  {
   "outputs": [
    {
     "output_type": "execute_result",
     "data": {
      "text/plain": "10000×5 DataFrame\n│ Row   │ mu      │ sigma   │ ll       │ prod     │ prob      │\n│       │ \u001b[90mFloat64\u001b[39m │ \u001b[90mFloat64\u001b[39m │ \u001b[90mFloat64\u001b[39m  │ \u001b[90mFloat64\u001b[39m  │ \u001b[90mFloat64\u001b[39m   │\n├───────┼─────────┼─────────┼──────────┼──────────┼───────────┤\n│ 1     │ 155.528 │ 8.58291 │ -73.7486 │ -82.2065 │ 0.376351  │\n│ 2     │ 153.568 │ 7.61809 │ -73.475  │ -82.0478 │ 0.441079  │\n│ 3     │ 151.005 │ 9.06533 │ -72.98   │ -81.7176 │ 0.613682  │\n│ 4     │ 153.568 │ 10.0302 │ -72.847  │ -81.4199 │ 0.826471  │\n│ 5     │ 151.91  │ 10.191  │ -72.9036 │ -81.5812 │ 0.703342  │\n│ 6     │ 153.869 │ 10.191  │ -72.9604 │ -81.5149 │ 0.751542  │\n│ 7     │ 154.472 │ 9.70854 │ -73.0039 │ -81.5225 │ 0.745844  │\n⋮\n│ 9993  │ 153.266 │ 12.9246 │ -74.5696 │ -83.161  │ 0.1449    │\n│ 9994  │ 153.266 │ 9.30653 │ -72.6522 │ -81.2436 │ 0.985772  │\n│ 9995  │ 156.734 │ 8.1809  │ -75.2575 │ -83.6495 │ 0.0889011 │\n│ 9996  │ 156.432 │ 7.9397  │ -75.2068 │ -83.615  │ 0.0920276 │\n│ 9997  │ 152.814 │ 13.5678 │ -75.0626 │ -83.6822 │ 0.0860435 │\n│ 9998  │ 151.307 │ 8.1005  │ -73.2371 │ -81.9545 │ 0.484244  │\n│ 9999  │ 151.457 │ 10.1106 │ -72.9679 │ -81.6752 │ 0.640236  │\n│ 10000 │ 151.307 │ 9.06533 │ -72.8638 │ -81.5812 │ 0.703375  │",
      "text/html": [
       "<table class=\"data-frame\"><thead><tr><th></th><th>mu</th><th>sigma</th><th>ll</th><th>prod</th><th>prob</th></tr><tr><th></th><th>Float64</th><th>Float64</th><th>Float64</th><th>Float64</th><th>Float64</th></tr></thead><tbody><p>10,000 rows × 5 columns</p><tr><th>1</th><td>155.528</td><td>8.58291</td><td>-73.7486</td><td>-82.2065</td><td>0.376351</td></tr><tr><th>2</th><td>153.568</td><td>7.61809</td><td>-73.475</td><td>-82.0478</td><td>0.441079</td></tr><tr><th>3</th><td>151.005</td><td>9.06533</td><td>-72.98</td><td>-81.7176</td><td>0.613682</td></tr><tr><th>4</th><td>153.568</td><td>10.0302</td><td>-72.847</td><td>-81.4199</td><td>0.826471</td></tr><tr><th>5</th><td>151.91</td><td>10.191</td><td>-72.9036</td><td>-81.5812</td><td>0.703342</td></tr><tr><th>6</th><td>153.869</td><td>10.191</td><td>-72.9604</td><td>-81.5149</td><td>0.751542</td></tr><tr><th>7</th><td>154.472</td><td>9.70854</td><td>-73.0039</td><td>-81.5225</td><td>0.745844</td></tr><tr><th>8</th><td>155.829</td><td>10.5126</td><td>-73.8391</td><td>-82.2802</td><td>0.349626</td></tr><tr><th>9</th><td>155.075</td><td>12.1206</td><td>-74.3242</td><td>-82.8078</td><td>0.206289</td></tr><tr><th>10</th><td>152.663</td><td>7.29648</td><td>-73.7895</td><td>-82.4186</td><td>0.304427</td></tr><tr><th>11</th><td>150.251</td><td>11.0754</td><td>-73.7754</td><td>-82.5646</td><td>0.26309</td></tr><tr><th>12</th><td>151.91</td><td>12.0402</td><td>-73.943</td><td>-82.6206</td><td>0.248748</td></tr><tr><th>13</th><td>151.91</td><td>7.29648</td><td>-73.9177</td><td>-82.5952</td><td>0.255137</td></tr><tr><th>14</th><td>156.884</td><td>8.90452</td><td>-74.7931</td><td>-83.1771</td><td>0.142587</td></tr><tr><th>15</th><td>152.513</td><td>9.06533</td><td>-72.6203</td><td>-81.259</td><td>0.970715</td></tr><tr><th>16</th><td>152.663</td><td>8.74372</td><td>-72.6525</td><td>-81.2816</td><td>0.94901</td></tr><tr><th>17</th><td>154.02</td><td>8.90452</td><td>-72.8328</td><td>-81.3783</td><td>0.861544</td></tr><tr><th>18</th><td>155.226</td><td>10.191</td><td>-73.4329</td><td>-81.9079</td><td>0.507302</td></tr><tr><th>19</th><td>155.377</td><td>8.50251</td><td>-73.6823</td><td>-82.1488</td><td>0.398729</td></tr><tr><th>20</th><td>152.06</td><td>7.21608</td><td>-74.0062</td><td>-82.674</td><td>0.235811</td></tr><tr><th>21</th><td>152.211</td><td>8.26131</td><td>-72.8685</td><td>-81.5265</td><td>0.742897</td></tr><tr><th>22</th><td>152.663</td><td>9.78894</td><td>-72.706</td><td>-81.3351</td><td>0.899577</td></tr><tr><th>23</th><td>155.678</td><td>11.4774</td><td>-74.1719</td><td>-82.6214</td><td>0.248553</td></tr><tr><th>24</th><td>152.814</td><td>12.201</td><td>-74.0107</td><td>-82.6303</td><td>0.246355</td></tr><tr><th>&vellip;</th><td>&vellip;</td><td>&vellip;</td><td>&vellip;</td><td>&vellip;</td><td>&vellip;</td></tr></tbody></table>"
      ]
     },
     "metadata": {},
     "execution_count": 7
    }
   ],
   "cell_type": "code",
   "source": [
    "samples = post[sample(1:size(post, 1), Weights(post[:prob]), 10000, replace=true), :]"
   ],
   "metadata": {},
   "execution_count": 7
  },
  {
   "outputs": [],
   "cell_type": "markdown",
   "source": [
    "### Snippet 4.23"
   ],
   "metadata": {}
  },
  {
   "outputs": [],
   "cell_type": "markdown",
   "source": [
    "Density of sigma"
   ],
   "metadata": {}
  },
  {
   "outputs": [
    {
     "output_type": "execute_result",
     "data": {
      "text/plain": "Plot{Plots.GRBackend() n=1}",
      "image/png": "[encoded data removed]",
      "text/html": [
       "<?xml version=\"1.0\" encoding=\"utf-8\"?>\n",
       "<svg xmlns=\"http://www.w3.org/2000/svg\" xmlns:xlink=\"http://www.w3.org/1999/xlink\" width=\"500\" height=\"500\" viewBox=\"0 0 2000 2000\">\n",
       "<defs>\n",
       "  <clipPath id=\"clip6900\">\n",
       "    <rect x=\"0\" y=\"0\" width=\"2000\" height=\"2000\"/>\n",
       "  </clipPath>\n",
       "</defs>\n",
       "<polygon clip-path=\"url(#clip6900)\" points=\"\n",
       "0,2000 2000,2000 2000,0 0,0 \n",
       "  \" fill=\"#ffffff\" fill-rule=\"evenodd\" fill-opacity=\"1\"/>\n",
       "<defs>\n",
       "  <clipPath id=\"clip6901\">\n",
       "    <rect x=\"400\" y=\"200\" width=\"1401\" height=\"1401\"/>\n",
       "  </clipPath>\n",
       "</defs>\n",
       "<polygon clip-path=\"url(#clip6900)\" points=\"\n",
       "188.156,1886.71 1921.26,1886.71 1921.26,47.2441 188.156,47.2441 \n",
       "  \" fill=\"#ffffff\" fill-rule=\"evenodd\" fill-opacity=\"1\"/>\n",
       "<defs>\n",
       "  <clipPath id=\"clip6902\">\n",
       "    <rect x=\"188\" y=\"47\" width=\"1734\" height=\"1840\"/>\n",
       "  </clipPath>\n",
       "</defs>\n",
       "<polyline clip-path=\"url(#clip6902)\" style=\"stroke:#000000; stroke-width:2; stroke-opacity:0.1; fill:none\" points=\"\n",
       "  256.806,1886.71 256.806,47.2441 \n",
       "  \"/>\n",
       "<polyline clip-path=\"url(#clip6902)\" style=\"stroke:#000000; stroke-width:2; stroke-opacity:0.1; fill:none\" points=\"\n",
       "  773.34,1886.71 773.34,47.2441 \n",
       "  \"/>\n",
       "<polyline clip-path=\"url(#clip6902)\" style=\"stroke:#000000; stroke-width:2; stroke-opacity:0.1; fill:none\" points=\"\n",
       "  1289.87,1886.71 1289.87,47.2441 \n",
       "  \"/>\n",
       "<polyline clip-path=\"url(#clip6902)\" style=\"stroke:#000000; stroke-width:2; stroke-opacity:0.1; fill:none\" points=\"\n",
       "  1806.41,1886.71 1806.41,47.2441 \n",
       "  \"/>\n",
       "<polyline clip-path=\"url(#clip6902)\" style=\"stroke:#000000; stroke-width:2; stroke-opacity:0.1; fill:none\" points=\"\n",
       "  188.156,1834.65 1921.26,1834.65 \n",
       "  \"/>\n",
       "<polyline clip-path=\"url(#clip6902)\" style=\"stroke:#000000; stroke-width:2; stroke-opacity:0.1; fill:none\" points=\"\n",
       "  188.156,1485.44 1921.26,1485.44 \n",
       "  \"/>\n",
       "<polyline clip-path=\"url(#clip6902)\" style=\"stroke:#000000; stroke-width:2; stroke-opacity:0.1; fill:none\" points=\"\n",
       "  188.156,1136.22 1921.26,1136.22 \n",
       "  \"/>\n",
       "<polyline clip-path=\"url(#clip6902)\" style=\"stroke:#000000; stroke-width:2; stroke-opacity:0.1; fill:none\" points=\"\n",
       "  188.156,787.009 1921.26,787.009 \n",
       "  \"/>\n",
       "<polyline clip-path=\"url(#clip6902)\" style=\"stroke:#000000; stroke-width:2; stroke-opacity:0.1; fill:none\" points=\"\n",
       "  188.156,437.796 1921.26,437.796 \n",
       "  \"/>\n",
       "<polyline clip-path=\"url(#clip6902)\" style=\"stroke:#000000; stroke-width:2; stroke-opacity:0.1; fill:none\" points=\"\n",
       "  188.156,88.5831 1921.26,88.5831 \n",
       "  \"/>\n",
       "<polyline clip-path=\"url(#clip6900)\" style=\"stroke:#000000; stroke-width:4; stroke-opacity:1; fill:none\" points=\"\n",
       "  188.156,1886.71 1921.26,1886.71 \n",
       "  \"/>\n",
       "<polyline clip-path=\"url(#clip6900)\" style=\"stroke:#000000; stroke-width:4; stroke-opacity:1; fill:none\" points=\"\n",
       "  188.156,1886.71 188.156,47.2441 \n",
       "  \"/>\n",
       "<polyline clip-path=\"url(#clip6900)\" style=\"stroke:#000000; stroke-width:4; stroke-opacity:1; fill:none\" points=\"\n",
       "  256.806,1886.71 256.806,1859.12 \n",
       "  \"/>\n",
       "<polyline clip-path=\"url(#clip6900)\" style=\"stroke:#000000; stroke-width:4; stroke-opacity:1; fill:none\" points=\"\n",
       "  773.34,1886.71 773.34,1859.12 \n",
       "  \"/>\n",
       "<polyline clip-path=\"url(#clip6900)\" style=\"stroke:#000000; stroke-width:4; stroke-opacity:1; fill:none\" points=\"\n",
       "  1289.87,1886.71 1289.87,1859.12 \n",
       "  \"/>\n",
       "<polyline clip-path=\"url(#clip6900)\" style=\"stroke:#000000; stroke-width:4; stroke-opacity:1; fill:none\" points=\"\n",
       "  1806.41,1886.71 1806.41,1859.12 \n",
       "  \"/>\n",
       "<polyline clip-path=\"url(#clip6900)\" style=\"stroke:#000000; stroke-width:4; stroke-opacity:1; fill:none\" points=\"\n",
       "  188.156,1834.65 214.153,1834.65 \n",
       "  \"/>\n",
       "<polyline clip-path=\"url(#clip6900)\" style=\"stroke:#000000; stroke-width:4; stroke-opacity:1; fill:none\" points=\"\n",
       "  188.156,1485.44 214.153,1485.44 \n",
       "  \"/>\n",
       "<polyline clip-path=\"url(#clip6900)\" style=\"stroke:#000000; stroke-width:4; stroke-opacity:1; fill:none\" points=\"\n",
       "  188.156,1136.22 214.153,1136.22 \n",
       "  \"/>\n",
       "<polyline clip-path=\"url(#clip6900)\" style=\"stroke:#000000; stroke-width:4; stroke-opacity:1; fill:none\" points=\"\n",
       "  188.156,787.009 214.153,787.009 \n",
       "  \"/>\n",
       "<polyline clip-path=\"url(#clip6900)\" style=\"stroke:#000000; stroke-width:4; stroke-opacity:1; fill:none\" points=\"\n",
       "  188.156,437.796 214.153,437.796 \n",
       "  \"/>\n",
       "<polyline clip-path=\"url(#clip6900)\" style=\"stroke:#000000; stroke-width:4; stroke-opacity:1; fill:none\" points=\"\n",
       "  188.156,88.5831 214.153,88.5831 \n",
       "  \"/>\n",
       "<g clip-path=\"url(#clip6900)\">\n",
       "<text style=\"fill:#000000; fill-opacity:1; font-family:Arial,Helvetica Neue,Helvetica,sans-serif; font-size:48px; text-anchor:middle;\" transform=\"rotate(0, 256.806, 1938.71)\" x=\"256.806\" y=\"1938.71\">5</text>\n",
       "</g>\n",
       "<g clip-path=\"url(#clip6900)\">\n",
       "<text style=\"fill:#000000; fill-opacity:1; font-family:Arial,Helvetica Neue,Helvetica,sans-serif; font-size:48px; text-anchor:middle;\" transform=\"rotate(0, 773.34, 1938.71)\" x=\"773.34\" y=\"1938.71\">10</text>\n",
       "</g>\n",
       "<g clip-path=\"url(#clip6900)\">\n",
       "<text style=\"fill:#000000; fill-opacity:1; font-family:Arial,Helvetica Neue,Helvetica,sans-serif; font-size:48px; text-anchor:middle;\" transform=\"rotate(0, 1289.87, 1938.71)\" x=\"1289.87\" y=\"1938.71\">15</text>\n",
       "</g>\n",
       "<g clip-path=\"url(#clip6900)\">\n",
       "<text style=\"fill:#000000; fill-opacity:1; font-family:Arial,Helvetica Neue,Helvetica,sans-serif; font-size:48px; text-anchor:middle;\" transform=\"rotate(0, 1806.41, 1938.71)\" x=\"1806.41\" y=\"1938.71\">20</text>\n",
       "</g>\n",
       "<g clip-path=\"url(#clip6900)\">\n",
       "<text style=\"fill:#000000; fill-opacity:1; font-family:Arial,Helvetica Neue,Helvetica,sans-serif; font-size:48px; text-anchor:end;\" transform=\"rotate(0, 168.156, 1852.15)\" x=\"168.156\" y=\"1852.15\">0.00</text>\n",
       "</g>\n",
       "<g clip-path=\"url(#clip6900)\">\n",
       "<text style=\"fill:#000000; fill-opacity:1; font-family:Arial,Helvetica Neue,Helvetica,sans-serif; font-size:48px; text-anchor:end;\" transform=\"rotate(0, 168.156, 1502.94)\" x=\"168.156\" y=\"1502.94\">0.05</text>\n",
       "</g>\n",
       "<g clip-path=\"url(#clip6900)\">\n",
       "<text style=\"fill:#000000; fill-opacity:1; font-family:Arial,Helvetica Neue,Helvetica,sans-serif; font-size:48px; text-anchor:end;\" transform=\"rotate(0, 168.156, 1153.72)\" x=\"168.156\" y=\"1153.72\">0.10</text>\n",
       "</g>\n",
       "<g clip-path=\"url(#clip6900)\">\n",
       "<text style=\"fill:#000000; fill-opacity:1; font-family:Arial,Helvetica Neue,Helvetica,sans-serif; font-size:48px; text-anchor:end;\" transform=\"rotate(0, 168.156, 804.509)\" x=\"168.156\" y=\"804.509\">0.15</text>\n",
       "</g>\n",
       "<g clip-path=\"url(#clip6900)\">\n",
       "<text style=\"fill:#000000; fill-opacity:1; font-family:Arial,Helvetica Neue,Helvetica,sans-serif; font-size:48px; text-anchor:end;\" transform=\"rotate(0, 168.156, 455.296)\" x=\"168.156\" y=\"455.296\">0.20</text>\n",
       "</g>\n",
       "<g clip-path=\"url(#clip6900)\">\n",
       "<text style=\"fill:#000000; fill-opacity:1; font-family:Arial,Helvetica Neue,Helvetica,sans-serif; font-size:48px; text-anchor:end;\" transform=\"rotate(0, 168.156, 106.083)\" x=\"168.156\" y=\"106.083\">0.25</text>\n",
       "</g>\n",
       "<polyline clip-path=\"url(#clip6902)\" style=\"stroke:#009af9; stroke-width:4; stroke-opacity:1; fill:none\" points=\"\n",
       "  237.206,1834.65 245.423,1834.65 253.639,1834.64 261.855,1834.63 270.071,1834.61 278.287,1834.56 286.503,1834.46 294.719,1834.27 302.935,1833.97 311.151,1833.48 \n",
       "  319.367,1832.78 327.584,1831.79 335.8,1830.4 344.016,1828.45 352.232,1825.68 360.448,1821.7 368.664,1816.01 376.88,1808.06 385.096,1797.38 393.312,1783.66 \n",
       "  401.528,1766.92 409.745,1747.44 417.961,1725.64 426.177,1701.9 434.393,1676.32 442.609,1648.63 450.825,1618.32 459.041,1584.83 467.257,1547.74 475.473,1506.82 \n",
       "  483.689,1461.93 491.905,1412.93 500.122,1359.73 508.338,1302.44 516.554,1241.46 524.77,1177.31 532.986,1110.31 541.202,1040.38 549.418,967.306 557.634,891.27 \n",
       "  565.85,813.459 574.066,736.192 582.283,662.397 590.499,594.658 598.715,534.38 606.931,481.541 615.147,435.08 623.363,393.519 631.579,355.414 639.795,319.499 \n",
       "  648.011,284.74 656.227,250.533 664.444,216.983 672.66,185.039 680.876,156.256 689.092,132.29 697.308,114.421 705.524,103.356 713.74,99.3044 721.956,102.085 \n",
       "  730.172,111.116 738.388,125.405 746.604,143.767 754.821,165.302 763.037,189.844 771.253,217.983 779.469,250.529 787.685,287.689 795.901,328.505 804.117,371.008 \n",
       "  812.333,413.031 820.549,453.235 828.765,491.627 836.982,529.238 845.198,567.154 853.414,605.579 861.63,643.604 869.846,679.825 878.062,713.365 886.278,744.623 \n",
       "  894.494,775.308 902.71,807.781 910.926,844.082 919.143,885.027 927.359,929.746 935.575,975.875 943.791,1020.39 952.007,1060.74 960.223,1095.81 968.439,1126.18 \n",
       "  976.655,1153.79 984.871,1181.09 993.087,1210.22 1001.3,1242.26 1009.52,1276.93 1017.74,1312.75 1025.95,1347.69 1034.17,1379.91 1042.38,1408.27 1050.6,1432.4 \n",
       "  1058.82,1452.49 1067.03,1469.06 1075.25,1482.97 1083.46,1495.31 1091.68,1507.3 1099.9,1519.99 1108.11,1534.07 1116.33,1549.81 1124.54,1567.03 1132.76,1585.19 \n",
       "  1140.98,1603.52 1149.19,1621.19 1157.41,1637.54 1165.63,1652.2 1173.84,1665.12 1182.06,1676.4 1190.27,1686.2 1198.49,1694.71 1206.71,1702.17 1214.92,1708.85 \n",
       "  1223.14,1714.96 1231.35,1720.6 1239.57,1725.73 1247.79,1730.35 1256,1734.65 1264.22,1739.1 1272.43,1744.26 1280.65,1750.54 1288.87,1757.94 1297.08,1766.03 \n",
       "  1305.3,1774.04 1313.52,1781.15 1321.73,1786.77 1329.95,1790.67 1338.16,1793.02 1346.38,1794.26 1354.6,1794.94 1362.81,1795.54 1371.03,1796.32 1379.24,1797.36 \n",
       "  1387.46,1798.55 1395.68,1799.75 1403.89,1800.88 1412.11,1801.98 1420.32,1803.23 1428.54,1804.87 1436.76,1807.06 1444.97,1809.76 1453.19,1812.74 1461.4,1815.61 \n",
       "  1469.62,1818.03 1477.84,1819.78 1486.05,1820.85 1494.27,1821.43 1502.49,1821.8 1510.7,1822.22 1518.92,1822.82 1527.13,1823.63 1535.35,1824.57 1543.57,1825.59 \n",
       "  1551.78,1826.69 1560,1827.87 1568.21,1829.12 1576.43,1830.35 1584.65,1831.43 1592.86,1832.2 1601.08,1832.56 1609.29,1832.46 1617.51,1831.95 1625.73,1831.12 \n",
       "  1633.94,1830.13 1642.16,1829.14 1650.38,1828.36 1658.59,1827.93 1666.81,1827.95 1675.02,1828.4 1683.24,1829.15 1691.46,1830 1699.67,1830.71 1707.89,1831.14 \n",
       "  1716.1,1831.22 1724.32,1831.06 1732.54,1830.82 1740.75,1830.67 1748.97,1830.72 1757.18,1831 1765.4,1831.48 1773.62,1832.06 1781.83,1832.66 1790.05,1833.22 \n",
       "  1798.26,1833.69 1806.48,1834.06 1814.7,1834.31 1822.91,1834.47 1831.13,1834.57 1839.35,1834.61 1847.56,1834.63 1855.78,1834.64 1863.99,1834.65 1872.21,1834.65 \n",
       "  \n",
       "  \"/>\n",
       "<polygon clip-path=\"url(#clip6900)\" points=\"\n",
       "1610.43,227.724 1861.26,227.724 1861.26,106.764 1610.43,106.764 \n",
       "  \" fill=\"#ffffff\" fill-rule=\"evenodd\" fill-opacity=\"1\"/>\n",
       "<polyline clip-path=\"url(#clip6900)\" style=\"stroke:#000000; stroke-width:4; stroke-opacity:1; fill:none\" points=\"\n",
       "  1610.43,227.724 1861.26,227.724 1861.26,106.764 1610.43,106.764 1610.43,227.724 \n",
       "  \"/>\n",
       "<polyline clip-path=\"url(#clip6900)\" style=\"stroke:#009af9; stroke-width:4; stroke-opacity:1; fill:none\" points=\"\n",
       "  1630.43,167.244 1750.43,167.244 \n",
       "  \"/>\n",
       "<g clip-path=\"url(#clip6900)\">\n",
       "<text style=\"fill:#000000; fill-opacity:1; font-family:Arial,Helvetica Neue,Helvetica,sans-serif; font-size:48px; text-anchor:start;\" transform=\"rotate(0, 1770.43, 184.744)\" x=\"1770.43\" y=\"184.744\">y1</text>\n",
       "</g>\n",
       "</svg>\n"
      ],
      "image/svg+xml": [
       "<?xml version=\"1.0\" encoding=\"utf-8\"?>\n",
       "<svg xmlns=\"http://www.w3.org/2000/svg\" xmlns:xlink=\"http://www.w3.org/1999/xlink\" width=\"500\" height=\"500\" viewBox=\"0 0 2000 2000\">\n",
       "<defs>\n",
       "  <clipPath id=\"clip6800\">\n",
       "    <rect x=\"0\" y=\"0\" width=\"2000\" height=\"2000\"/>\n",
       "  </clipPath>\n",
       "</defs>\n",
       "<polygon clip-path=\"url(#clip6800)\" points=\"\n",
       "0,2000 2000,2000 2000,0 0,0 \n",
       "  \" fill=\"#ffffff\" fill-rule=\"evenodd\" fill-opacity=\"1\"/>\n",
       "<defs>\n",
       "  <clipPath id=\"clip6801\">\n",
       "    <rect x=\"400\" y=\"200\" width=\"1401\" height=\"1401\"/>\n",
       "  </clipPath>\n",
       "</defs>\n",
       "<polygon clip-path=\"url(#clip6800)\" points=\"\n",
       "188.156,1886.71 1921.26,1886.71 1921.26,47.2441 188.156,47.2441 \n",
       "  \" fill=\"#ffffff\" fill-rule=\"evenodd\" fill-opacity=\"1\"/>\n",
       "<defs>\n",
       "  <clipPath id=\"clip6802\">\n",
       "    <rect x=\"188\" y=\"47\" width=\"1734\" height=\"1840\"/>\n",
       "  </clipPath>\n",
       "</defs>\n",
       "<polyline clip-path=\"url(#clip6802)\" style=\"stroke:#000000; stroke-width:2; stroke-opacity:0.1; fill:none\" points=\"\n",
       "  256.806,1886.71 256.806,47.2441 \n",
       "  \"/>\n",
       "<polyline clip-path=\"url(#clip6802)\" style=\"stroke:#000000; stroke-width:2; stroke-opacity:0.1; fill:none\" points=\"\n",
       "  773.34,1886.71 773.34,47.2441 \n",
       "  \"/>\n",
       "<polyline clip-path=\"url(#clip6802)\" style=\"stroke:#000000; stroke-width:2; stroke-opacity:0.1; fill:none\" points=\"\n",
       "  1289.87,1886.71 1289.87,47.2441 \n",
       "  \"/>\n",
       "<polyline clip-path=\"url(#clip6802)\" style=\"stroke:#000000; stroke-width:2; stroke-opacity:0.1; fill:none\" points=\"\n",
       "  1806.41,1886.71 1806.41,47.2441 \n",
       "  \"/>\n",
       "<polyline clip-path=\"url(#clip6802)\" style=\"stroke:#000000; stroke-width:2; stroke-opacity:0.1; fill:none\" points=\"\n",
       "  188.156,1834.65 1921.26,1834.65 \n",
       "  \"/>\n",
       "<polyline clip-path=\"url(#clip6802)\" style=\"stroke:#000000; stroke-width:2; stroke-opacity:0.1; fill:none\" points=\"\n",
       "  188.156,1485.44 1921.26,1485.44 \n",
       "  \"/>\n",
       "<polyline clip-path=\"url(#clip6802)\" style=\"stroke:#000000; stroke-width:2; stroke-opacity:0.1; fill:none\" points=\"\n",
       "  188.156,1136.22 1921.26,1136.22 \n",
       "  \"/>\n",
       "<polyline clip-path=\"url(#clip6802)\" style=\"stroke:#000000; stroke-width:2; stroke-opacity:0.1; fill:none\" points=\"\n",
       "  188.156,787.009 1921.26,787.009 \n",
       "  \"/>\n",
       "<polyline clip-path=\"url(#clip6802)\" style=\"stroke:#000000; stroke-width:2; stroke-opacity:0.1; fill:none\" points=\"\n",
       "  188.156,437.796 1921.26,437.796 \n",
       "  \"/>\n",
       "<polyline clip-path=\"url(#clip6802)\" style=\"stroke:#000000; stroke-width:2; stroke-opacity:0.1; fill:none\" points=\"\n",
       "  188.156,88.5831 1921.26,88.5831 \n",
       "  \"/>\n",
       "<polyline clip-path=\"url(#clip6800)\" style=\"stroke:#000000; stroke-width:4; stroke-opacity:1; fill:none\" points=\"\n",
       "  188.156,1886.71 1921.26,1886.71 \n",
       "  \"/>\n",
       "<polyline clip-path=\"url(#clip6800)\" style=\"stroke:#000000; stroke-width:4; stroke-opacity:1; fill:none\" points=\"\n",
       "  188.156,1886.71 188.156,47.2441 \n",
       "  \"/>\n",
       "<polyline clip-path=\"url(#clip6800)\" style=\"stroke:#000000; stroke-width:4; stroke-opacity:1; fill:none\" points=\"\n",
       "  256.806,1886.71 256.806,1859.12 \n",
       "  \"/>\n",
       "<polyline clip-path=\"url(#clip6800)\" style=\"stroke:#000000; stroke-width:4; stroke-opacity:1; fill:none\" points=\"\n",
       "  773.34,1886.71 773.34,1859.12 \n",
       "  \"/>\n",
       "<polyline clip-path=\"url(#clip6800)\" style=\"stroke:#000000; stroke-width:4; stroke-opacity:1; fill:none\" points=\"\n",
       "  1289.87,1886.71 1289.87,1859.12 \n",
       "  \"/>\n",
       "<polyline clip-path=\"url(#clip6800)\" style=\"stroke:#000000; stroke-width:4; stroke-opacity:1; fill:none\" points=\"\n",
       "  1806.41,1886.71 1806.41,1859.12 \n",
       "  \"/>\n",
       "<polyline clip-path=\"url(#clip6800)\" style=\"stroke:#000000; stroke-width:4; stroke-opacity:1; fill:none\" points=\"\n",
       "  188.156,1834.65 214.153,1834.65 \n",
       "  \"/>\n",
       "<polyline clip-path=\"url(#clip6800)\" style=\"stroke:#000000; stroke-width:4; stroke-opacity:1; fill:none\" points=\"\n",
       "  188.156,1485.44 214.153,1485.44 \n",
       "  \"/>\n",
       "<polyline clip-path=\"url(#clip6800)\" style=\"stroke:#000000; stroke-width:4; stroke-opacity:1; fill:none\" points=\"\n",
       "  188.156,1136.22 214.153,1136.22 \n",
       "  \"/>\n",
       "<polyline clip-path=\"url(#clip6800)\" style=\"stroke:#000000; stroke-width:4; stroke-opacity:1; fill:none\" points=\"\n",
       "  188.156,787.009 214.153,787.009 \n",
       "  \"/>\n",
       "<polyline clip-path=\"url(#clip6800)\" style=\"stroke:#000000; stroke-width:4; stroke-opacity:1; fill:none\" points=\"\n",
       "  188.156,437.796 214.153,437.796 \n",
       "  \"/>\n",
       "<polyline clip-path=\"url(#clip6800)\" style=\"stroke:#000000; stroke-width:4; stroke-opacity:1; fill:none\" points=\"\n",
       "  188.156,88.5831 214.153,88.5831 \n",
       "  \"/>\n",
       "<g clip-path=\"url(#clip6800)\">\n",
       "<text style=\"fill:#000000; fill-opacity:1; font-family:Arial,Helvetica Neue,Helvetica,sans-serif; font-size:48px; text-anchor:middle;\" transform=\"rotate(0, 256.806, 1938.71)\" x=\"256.806\" y=\"1938.71\">5</text>\n",
       "</g>\n",
       "<g clip-path=\"url(#clip6800)\">\n",
       "<text style=\"fill:#000000; fill-opacity:1; font-family:Arial,Helvetica Neue,Helvetica,sans-serif; font-size:48px; text-anchor:middle;\" transform=\"rotate(0, 773.34, 1938.71)\" x=\"773.34\" y=\"1938.71\">10</text>\n",
       "</g>\n",
       "<g clip-path=\"url(#clip6800)\">\n",
       "<text style=\"fill:#000000; fill-opacity:1; font-family:Arial,Helvetica Neue,Helvetica,sans-serif; font-size:48px; text-anchor:middle;\" transform=\"rotate(0, 1289.87, 1938.71)\" x=\"1289.87\" y=\"1938.71\">15</text>\n",
       "</g>\n",
       "<g clip-path=\"url(#clip6800)\">\n",
       "<text style=\"fill:#000000; fill-opacity:1; font-family:Arial,Helvetica Neue,Helvetica,sans-serif; font-size:48px; text-anchor:middle;\" transform=\"rotate(0, 1806.41, 1938.71)\" x=\"1806.41\" y=\"1938.71\">20</text>\n",
       "</g>\n",
       "<g clip-path=\"url(#clip6800)\">\n",
       "<text style=\"fill:#000000; fill-opacity:1; font-family:Arial,Helvetica Neue,Helvetica,sans-serif; font-size:48px; text-anchor:end;\" transform=\"rotate(0, 168.156, 1852.15)\" x=\"168.156\" y=\"1852.15\">0.00</text>\n",
       "</g>\n",
       "<g clip-path=\"url(#clip6800)\">\n",
       "<text style=\"fill:#000000; fill-opacity:1; font-family:Arial,Helvetica Neue,Helvetica,sans-serif; font-size:48px; text-anchor:end;\" transform=\"rotate(0, 168.156, 1502.94)\" x=\"168.156\" y=\"1502.94\">0.05</text>\n",
       "</g>\n",
       "<g clip-path=\"url(#clip6800)\">\n",
       "<text style=\"fill:#000000; fill-opacity:1; font-family:Arial,Helvetica Neue,Helvetica,sans-serif; font-size:48px; text-anchor:end;\" transform=\"rotate(0, 168.156, 1153.72)\" x=\"168.156\" y=\"1153.72\">0.10</text>\n",
       "</g>\n",
       "<g clip-path=\"url(#clip6800)\">\n",
       "<text style=\"fill:#000000; fill-opacity:1; font-family:Arial,Helvetica Neue,Helvetica,sans-serif; font-size:48px; text-anchor:end;\" transform=\"rotate(0, 168.156, 804.509)\" x=\"168.156\" y=\"804.509\">0.15</text>\n",
       "</g>\n",
       "<g clip-path=\"url(#clip6800)\">\n",
       "<text style=\"fill:#000000; fill-opacity:1; font-family:Arial,Helvetica Neue,Helvetica,sans-serif; font-size:48px; text-anchor:end;\" transform=\"rotate(0, 168.156, 455.296)\" x=\"168.156\" y=\"455.296\">0.20</text>\n",
       "</g>\n",
       "<g clip-path=\"url(#clip6800)\">\n",
       "<text style=\"fill:#000000; fill-opacity:1; font-family:Arial,Helvetica Neue,Helvetica,sans-serif; font-size:48px; text-anchor:end;\" transform=\"rotate(0, 168.156, 106.083)\" x=\"168.156\" y=\"106.083\">0.25</text>\n",
       "</g>\n",
       "<polyline clip-path=\"url(#clip6802)\" style=\"stroke:#009af9; stroke-width:4; stroke-opacity:1; fill:none\" points=\"\n",
       "  237.206,1834.65 245.423,1834.65 253.639,1834.64 261.855,1834.63 270.071,1834.61 278.287,1834.56 286.503,1834.46 294.719,1834.27 302.935,1833.97 311.151,1833.48 \n",
       "  319.367,1832.78 327.584,1831.79 335.8,1830.4 344.016,1828.45 352.232,1825.68 360.448,1821.7 368.664,1816.01 376.88,1808.06 385.096,1797.38 393.312,1783.66 \n",
       "  401.528,1766.92 409.745,1747.44 417.961,1725.64 426.177,1701.9 434.393,1676.32 442.609,1648.63 450.825,1618.32 459.041,1584.83 467.257,1547.74 475.473,1506.82 \n",
       "  483.689,1461.93 491.905,1412.93 500.122,1359.73 508.338,1302.44 516.554,1241.46 524.77,1177.31 532.986,1110.31 541.202,1040.38 549.418,967.306 557.634,891.27 \n",
       "  565.85,813.459 574.066,736.192 582.283,662.397 590.499,594.658 598.715,534.38 606.931,481.541 615.147,435.08 623.363,393.519 631.579,355.414 639.795,319.499 \n",
       "  648.011,284.74 656.227,250.533 664.444,216.983 672.66,185.039 680.876,156.256 689.092,132.29 697.308,114.421 705.524,103.356 713.74,99.3044 721.956,102.085 \n",
       "  730.172,111.116 738.388,125.405 746.604,143.767 754.821,165.302 763.037,189.844 771.253,217.983 779.469,250.529 787.685,287.689 795.901,328.505 804.117,371.008 \n",
       "  812.333,413.031 820.549,453.235 828.765,491.627 836.982,529.238 845.198,567.154 853.414,605.579 861.63,643.604 869.846,679.825 878.062,713.365 886.278,744.623 \n",
       "  894.494,775.308 902.71,807.781 910.926,844.082 919.143,885.027 927.359,929.746 935.575,975.875 943.791,1020.39 952.007,1060.74 960.223,1095.81 968.439,1126.18 \n",
       "  976.655,1153.79 984.871,1181.09 993.087,1210.22 1001.3,1242.26 1009.52,1276.93 1017.74,1312.75 1025.95,1347.69 1034.17,1379.91 1042.38,1408.27 1050.6,1432.4 \n",
       "  1058.82,1452.49 1067.03,1469.06 1075.25,1482.97 1083.46,1495.31 1091.68,1507.3 1099.9,1519.99 1108.11,1534.07 1116.33,1549.81 1124.54,1567.03 1132.76,1585.19 \n",
       "  1140.98,1603.52 1149.19,1621.19 1157.41,1637.54 1165.63,1652.2 1173.84,1665.12 1182.06,1676.4 1190.27,1686.2 1198.49,1694.71 1206.71,1702.17 1214.92,1708.85 \n",
       "  1223.14,1714.96 1231.35,1720.6 1239.57,1725.73 1247.79,1730.35 1256,1734.65 1264.22,1739.1 1272.43,1744.26 1280.65,1750.54 1288.87,1757.94 1297.08,1766.03 \n",
       "  1305.3,1774.04 1313.52,1781.15 1321.73,1786.77 1329.95,1790.67 1338.16,1793.02 1346.38,1794.26 1354.6,1794.94 1362.81,1795.54 1371.03,1796.32 1379.24,1797.36 \n",
       "  1387.46,1798.55 1395.68,1799.75 1403.89,1800.88 1412.11,1801.98 1420.32,1803.23 1428.54,1804.87 1436.76,1807.06 1444.97,1809.76 1453.19,1812.74 1461.4,1815.61 \n",
       "  1469.62,1818.03 1477.84,1819.78 1486.05,1820.85 1494.27,1821.43 1502.49,1821.8 1510.7,1822.22 1518.92,1822.82 1527.13,1823.63 1535.35,1824.57 1543.57,1825.59 \n",
       "  1551.78,1826.69 1560,1827.87 1568.21,1829.12 1576.43,1830.35 1584.65,1831.43 1592.86,1832.2 1601.08,1832.56 1609.29,1832.46 1617.51,1831.95 1625.73,1831.12 \n",
       "  1633.94,1830.13 1642.16,1829.14 1650.38,1828.36 1658.59,1827.93 1666.81,1827.95 1675.02,1828.4 1683.24,1829.15 1691.46,1830 1699.67,1830.71 1707.89,1831.14 \n",
       "  1716.1,1831.22 1724.32,1831.06 1732.54,1830.82 1740.75,1830.67 1748.97,1830.72 1757.18,1831 1765.4,1831.48 1773.62,1832.06 1781.83,1832.66 1790.05,1833.22 \n",
       "  1798.26,1833.69 1806.48,1834.06 1814.7,1834.31 1822.91,1834.47 1831.13,1834.57 1839.35,1834.61 1847.56,1834.63 1855.78,1834.64 1863.99,1834.65 1872.21,1834.65 \n",
       "  \n",
       "  \"/>\n",
       "<polygon clip-path=\"url(#clip6800)\" points=\"\n",
       "1610.43,227.724 1861.26,227.724 1861.26,106.764 1610.43,106.764 \n",
       "  \" fill=\"#ffffff\" fill-rule=\"evenodd\" fill-opacity=\"1\"/>\n",
       "<polyline clip-path=\"url(#clip6800)\" style=\"stroke:#000000; stroke-width:4; stroke-opacity:1; fill:none\" points=\"\n",
       "  1610.43,227.724 1861.26,227.724 1861.26,106.764 1610.43,106.764 1610.43,227.724 \n",
       "  \"/>\n",
       "<polyline clip-path=\"url(#clip6800)\" style=\"stroke:#009af9; stroke-width:4; stroke-opacity:1; fill:none\" points=\"\n",
       "  1630.43,167.244 1750.43,167.244 \n",
       "  \"/>\n",
       "<g clip-path=\"url(#clip6800)\">\n",
       "<text style=\"fill:#000000; fill-opacity:1; font-family:Arial,Helvetica Neue,Helvetica,sans-serif; font-size:48px; text-anchor:start;\" transform=\"rotate(0, 1770.43, 184.744)\" x=\"1770.43\" y=\"184.744\">y1</text>\n",
       "</g>\n",
       "</svg>\n"
      ]
     },
     "metadata": {},
     "execution_count": 8
    }
   ],
   "cell_type": "code",
   "source": [
    "density(samples[:sigma])"
   ],
   "metadata": {},
   "execution_count": 8
  },
  {
   "outputs": [],
   "cell_type": "markdown",
   "source": [
    "End of `clip-21-23.jl`"
   ],
   "metadata": {}
  },
  {
   "outputs": [],
   "cell_type": "markdown",
   "source": [
    "*This notebook was generated using [Literate.jl](https://github.com/fredrikekre/Literate.jl).*"
   ],
   "metadata": {}
  }
 ],
 "nbformat_minor": 3,
 "metadata": {
  "language_info": {
   "file_extension": ".jl",
   "mimetype": "application/julia",
   "name": "julia",
   "version": "1.2.0-DEV.487"
  },
  "kernelspec": {
   "name": "julia-1.2",
   "display_name": "Julia 1.2.0-DEV.487",
   "language": "julia"
  }
 },
 "nbformat": 4
}
