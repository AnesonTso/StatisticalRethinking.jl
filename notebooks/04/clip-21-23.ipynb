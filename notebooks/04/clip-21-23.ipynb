{
 "cells": [
  {
   "outputs": [],
   "cell_type": "markdown",
   "source": [
    "Load Julia packages (libraries) needed  for the snippets in chapter 0"
   ],
   "metadata": {}
  },
  {
   "outputs": [],
   "cell_type": "code",
   "source": [
    "using StatisticalRethinking, CmdStan, StanMCMCChain\n",
    "gr(size=(500,500));"
   ],
   "metadata": {},
   "execution_count": 1
  },
  {
   "outputs": [],
   "cell_type": "markdown",
   "source": [
    "CmdStan uses a tmp directory to store the output of cmdstan"
   ],
   "metadata": {}
  },
  {
   "outputs": [],
   "cell_type": "code",
   "source": [
    "ProjDir = rel_path(\"..\", \"scripts\", \"04\")\n",
    "cd(ProjDir)"
   ],
   "metadata": {},
   "execution_count": 2
  },
  {
   "outputs": [],
   "cell_type": "markdown",
   "source": [
    "CmdStan uses a tmp directory to store the output of cmdstan"
   ],
   "metadata": {}
  },
  {
   "outputs": [],
   "cell_type": "code",
   "source": [
    "ProjDir = rel_path(\"..\", \"scripts\", \"04\")\n",
    "cd(ProjDir)"
   ],
   "metadata": {},
   "execution_count": 3
  },
  {
   "outputs": [
    {
     "output_type": "execute_result",
     "data": {
      "text/plain": "5×4 DataFrame\n│ Row │ height   │ weight   │ age      │ male   │\n│     │ \u001b[90mFloat64⍰\u001b[39m │ \u001b[90mFloat64⍰\u001b[39m │ \u001b[90mFloat64⍰\u001b[39m │ \u001b[90mInt64⍰\u001b[39m │\n├─────┼──────────┼──────────┼──────────┼────────┤\n│ 1   │ 151.765  │ 47.8256  │ 63.0     │ 1      │\n│ 2   │ 139.7    │ 36.4858  │ 63.0     │ 0      │\n│ 3   │ 136.525  │ 31.8648  │ 65.0     │ 0      │\n│ 4   │ 156.845  │ 53.0419  │ 41.0     │ 1      │\n│ 5   │ 145.415  │ 41.2769  │ 51.0     │ 0      │",
      "text/html": [
       "<table class=\"data-frame\"><thead><tr><th></th><th>height</th><th>weight</th><th>age</th><th>male</th></tr><tr><th></th><th>Float64⍰</th><th>Float64⍰</th><th>Float64⍰</th><th>Int64⍰</th></tr></thead><tbody><p>5 rows × 4 columns</p><tr><th>1</th><td>151.765</td><td>47.8256</td><td>63.0</td><td>1</td></tr><tr><th>2</th><td>139.7</td><td>36.4858</td><td>63.0</td><td>0</td></tr><tr><th>3</th><td>136.525</td><td>31.8648</td><td>65.0</td><td>0</td></tr><tr><th>4</th><td>156.845</td><td>53.0419</td><td>41.0</td><td>1</td></tr><tr><th>5</th><td>145.415</td><td>41.2769</td><td>51.0</td><td>0</td></tr></tbody></table>"
      ]
     },
     "metadata": {},
     "execution_count": 4
    }
   ],
   "cell_type": "code",
   "source": [
    "howell1 = CSV.read(rel_path(\"..\", \"data\", \"Howell1.csv\"), delim=';')\n",
    "df = convert(DataFrame, howell1);\n",
    "df2 = filter(row -> row[:age] >= 18, df);\n",
    "first(df2, 5)"
   ],
   "metadata": {},
   "execution_count": 4
  },
  {
   "outputs": [],
   "cell_type": "markdown",
   "source": [
    "### Snippet 4.21"
   ],
   "metadata": {}
  },
  {
   "outputs": [],
   "cell_type": "markdown",
   "source": [
    "Sample 20 random heights"
   ],
   "metadata": {}
  },
  {
   "outputs": [],
   "cell_type": "code",
   "source": [
    "n = size(df2, 1)\n",
    "selected_ind = sample(1:n, 20, replace=false);\n",
    "df3 = df2[selected_ind, :];"
   ],
   "metadata": {},
   "execution_count": 5
  },
  {
   "outputs": [],
   "cell_type": "markdown",
   "source": [
    "### Snippet 4.22"
   ],
   "metadata": {}
  },
  {
   "outputs": [],
   "cell_type": "markdown",
   "source": [
    "Generate approximate probabilities"
   ],
   "metadata": {}
  },
  {
   "outputs": [
    {
     "output_type": "execute_result",
     "data": {
      "text/plain": "10×5 DataFrame\n│ Row │ mu      │ sigma   │ ll       │ prod     │ prob        │\n│     │ \u001b[90mFloat64\u001b[39m │ \u001b[90mFloat64\u001b[39m │ \u001b[90mFloat64\u001b[39m  │ \u001b[90mFloat64\u001b[39m  │ \u001b[90mFloat64\u001b[39m     │\n├─────┼─────────┼─────────┼──────────┼──────────┼─────────────┤\n│ 1   │ 140.0   │ 4.0     │ -240.707 │ -250.339 │ 2.44722e-76 │\n│ 2   │ 140.151 │ 4.0     │ -237.684 │ -247.301 │ 5.10172e-75 │\n│ 3   │ 140.302 │ 4.0     │ -234.69  │ -244.293 │ 1.03371e-73 │\n│ 4   │ 140.452 │ 4.0     │ -231.723 │ -241.312 │ 2.03571e-72 │\n│ 5   │ 140.603 │ 4.0     │ -228.786 │ -238.361 │ 3.89649e-71 │\n│ 6   │ 140.754 │ 4.0     │ -225.876 │ -235.437 │ 7.24884e-70 │\n│ 7   │ 140.905 │ 4.0     │ -222.996 │ -232.542 │ 1.31069e-68 │\n│ 8   │ 141.055 │ 4.0     │ -220.143 │ -229.676 │ 2.30341e-67 │\n│ 9   │ 141.206 │ 4.0     │ -217.319 │ -226.838 │ 3.9344e-66  │\n│ 10  │ 141.357 │ 4.0     │ -214.523 │ -224.028 │ 6.53166e-65 │",
      "text/html": [
       "<table class=\"data-frame\"><thead><tr><th></th><th>mu</th><th>sigma</th><th>ll</th><th>prod</th><th>prob</th></tr><tr><th></th><th>Float64</th><th>Float64</th><th>Float64</th><th>Float64</th><th>Float64</th></tr></thead><tbody><p>10 rows × 5 columns</p><tr><th>1</th><td>140.0</td><td>4.0</td><td>-240.707</td><td>-250.339</td><td>2.44722e-76</td></tr><tr><th>2</th><td>140.151</td><td>4.0</td><td>-237.684</td><td>-247.301</td><td>5.10172e-75</td></tr><tr><th>3</th><td>140.302</td><td>4.0</td><td>-234.69</td><td>-244.293</td><td>1.03371e-73</td></tr><tr><th>4</th><td>140.452</td><td>4.0</td><td>-231.723</td><td>-241.312</td><td>2.03571e-72</td></tr><tr><th>5</th><td>140.603</td><td>4.0</td><td>-228.786</td><td>-238.361</td><td>3.89649e-71</td></tr><tr><th>6</th><td>140.754</td><td>4.0</td><td>-225.876</td><td>-235.437</td><td>7.24884e-70</td></tr><tr><th>7</th><td>140.905</td><td>4.0</td><td>-222.996</td><td>-232.542</td><td>1.31069e-68</td></tr><tr><th>8</th><td>141.055</td><td>4.0</td><td>-220.143</td><td>-229.676</td><td>2.30341e-67</td></tr><tr><th>9</th><td>141.206</td><td>4.0</td><td>-217.319</td><td>-226.838</td><td>3.9344e-66</td></tr><tr><th>10</th><td>141.357</td><td>4.0</td><td>-214.523</td><td>-224.028</td><td>6.53166e-65</td></tr></tbody></table>"
      ]
     },
     "metadata": {},
     "execution_count": 6
    }
   ],
   "cell_type": "code",
   "source": [
    "struct Post\n",
    "  mu::Float64\n",
    "  sigma::Float64\n",
    "  ll:: Float64\n",
    "  prod::Float64\n",
    "  prob::Float64\n",
    "end\n",
    "\n",
    "mu_list = repeat(range(140, 170, length=200), 200);\n",
    "sigma_list = repeat(range(4, 20, length=200), inner=200);\n",
    "\n",
    "ll = zeros(40000);\n",
    "for i in 1:40000\n",
    "    d1 = Normal(mu_list[i], sigma_list[i])\n",
    "    ll[i] = sum(log.(pdf.(d1, df3[:height])))\n",
    "end\n",
    "\n",
    "d2 = Normal(178.0, 20.0)\n",
    "d3 = Uniform(0, 50)\n",
    "prod = ll + log.(pdf.(d2, mu_list)) + log.(pdf.(d3, sigma_list))\n",
    "prob = exp.(prod .- maximum(prod))\n",
    "post = DataFrame(mu=mu_list, sigma=sigma_list, ll=ll, prod=prod, prob=prob)\n",
    "first(post, 10)"
   ],
   "metadata": {},
   "execution_count": 6
  },
  {
   "outputs": [],
   "cell_type": "markdown",
   "source": [
    "Sample post"
   ],
   "metadata": {}
  },
  {
   "outputs": [
    {
     "output_type": "execute_result",
     "data": {
      "text/plain": "10000×5 DataFrame\n│ Row   │ mu      │ sigma   │ ll       │ prod     │ prob      │\n│       │ \u001b[90mFloat64\u001b[39m │ \u001b[90mFloat64\u001b[39m │ \u001b[90mFloat64\u001b[39m  │ \u001b[90mFloat64\u001b[39m  │ \u001b[90mFloat64\u001b[39m   │\n├───────┼─────────┼─────────┼──────────┼──────────┼───────────┤\n│ 1     │ 156.734 │ 6.25126 │ -68.3376 │ -76.7296 │ 0.611075  │\n│ 2     │ 158.392 │ 7.8593  │ -68.8054 │ -77.1127 │ 0.416631  │\n│ 3     │ 158.543 │ 6.33166 │ -69.6304 │ -77.9303 │ 0.18393   │\n│ 4     │ 158.844 │ 5.76884 │ -71.17   │ -79.4554 │ 0.0400228 │\n│ 5     │ 156.281 │ 6.65327 │ -67.9453 │ -76.3616 │ 0.882964  │\n│ 6     │ 157.487 │ 6.73367 │ -68.3169 │ -76.6695 │ 0.648944  │\n│ 7     │ 158.241 │ 8.1005  │ -68.7696 │ -77.0843 │ 0.428621  │\n⋮\n│ 9993  │ 158.392 │ 8.66332 │ -69.1263 │ -77.4336 │ 0.302266  │\n│ 9994  │ 155.377 │ 7.05528 │ -67.9318 │ -76.3983 │ 0.851142  │\n│ 9995  │ 153.568 │ 8.1809  │ -69.0966 │ -77.6694 │ 0.238757  │\n│ 9996  │ 155.98  │ 7.13568 │ -67.8198 │ -76.2526 │ 0.984632  │\n│ 9997  │ 155.377 │ 7.37688 │ -67.9297 │ -76.3961 │ 0.852972  │\n│ 9998  │ 155.075 │ 7.69849 │ -68.0898 │ -76.5734 │ 0.714422  │\n│ 9999  │ 155.226 │ 7.61809 │ -68.0183 │ -76.4933 │ 0.774026  │\n│ 10000 │ 156.884 │ 8.58291 │ -68.4596 │ -76.8436 │ 0.545253  │",
      "text/html": [
       "<table class=\"data-frame\"><thead><tr><th></th><th>mu</th><th>sigma</th><th>ll</th><th>prod</th><th>prob</th></tr><tr><th></th><th>Float64</th><th>Float64</th><th>Float64</th><th>Float64</th><th>Float64</th></tr></thead><tbody><p>10,000 rows × 5 columns</p><tr><th>1</th><td>156.734</td><td>6.25126</td><td>-68.3376</td><td>-76.7296</td><td>0.611075</td></tr><tr><th>2</th><td>158.392</td><td>7.8593</td><td>-68.8054</td><td>-77.1127</td><td>0.416631</td></tr><tr><th>3</th><td>158.543</td><td>6.33166</td><td>-69.6304</td><td>-77.9303</td><td>0.18393</td></tr><tr><th>4</th><td>158.844</td><td>5.76884</td><td>-71.17</td><td>-79.4554</td><td>0.0400228</td></tr><tr><th>5</th><td>156.281</td><td>6.65327</td><td>-67.9453</td><td>-76.3616</td><td>0.882964</td></tr><tr><th>6</th><td>157.487</td><td>6.73367</td><td>-68.3169</td><td>-76.6695</td><td>0.648944</td></tr><tr><th>7</th><td>158.241</td><td>8.1005</td><td>-68.7696</td><td>-77.0843</td><td>0.428621</td></tr><tr><th>8</th><td>155.075</td><td>10.5126</td><td>-70.198</td><td>-78.6816</td><td>0.086767</td></tr><tr><th>9</th><td>157.035</td><td>7.9397</td><td>-68.1364</td><td>-76.5125</td><td>0.759246</td></tr><tr><th>10</th><td>155.075</td><td>7.77889</td><td>-68.1147</td><td>-76.5984</td><td>0.69681</td></tr><tr><th>11</th><td>154.774</td><td>6.81407</td><td>-68.2616</td><td>-76.7626</td><td>0.591279</td></tr><tr><th>12</th><td>157.487</td><td>6.97487</td><td>-68.219</td><td>-76.5717</td><td>0.715653</td></tr><tr><th>13</th><td>155.98</td><td>8.1005</td><td>-68.0848</td><td>-76.5176</td><td>0.755421</td></tr><tr><th>14</th><td>157.94</td><td>7.61809</td><td>-68.454</td><td>-76.7837</td><td>0.578936</td></tr><tr><th>15</th><td>158.392</td><td>6.41206</td><td>-69.353</td><td>-77.6603</td><td>0.240943</td></tr><tr><th>16</th><td>157.337</td><td>6.81407</td><td>-68.1934</td><td>-76.5539</td><td>0.728519</td></tr><tr><th>17</th><td>154.774</td><td>7.77889</td><td>-68.2336</td><td>-76.7346</td><td>0.608074</td></tr><tr><th>18</th><td>154.472</td><td>11.3166</td><td>-71.1451</td><td>-79.6637</td><td>0.0324982</td></tr><tr><th>19</th><td>156.281</td><td>6.89447</td><td>-67.8556</td><td>-76.2719</td><td>0.965774</td></tr><tr><th>20</th><td>158.693</td><td>9.78894</td><td>-70.0822</td><td>-78.3748</td><td>0.117929</td></tr><tr><th>21</th><td>155.829</td><td>6.57286</td><td>-68.0021</td><td>-76.4433</td><td>0.81371</td></tr><tr><th>22</th><td>158.543</td><td>9.38693</td><td>-69.6897</td><td>-77.9896</td><td>0.173345</td></tr><tr><th>23</th><td>156.281</td><td>6.25126</td><td>-68.2472</td><td>-76.6635</td><td>0.652831</td></tr><tr><th>24</th><td>158.995</td><td>9.54774</td><td>-70.0746</td><td>-78.3528</td><td>0.120556</td></tr><tr><th>&vellip;</th><td>&vellip;</td><td>&vellip;</td><td>&vellip;</td><td>&vellip;</td><td>&vellip;</td></tr></tbody></table>"
      ]
     },
     "metadata": {},
     "execution_count": 7
    }
   ],
   "cell_type": "code",
   "source": [
    "samples = post[sample(1:size(post, 1), Weights(post[:prob]), 10000, replace=true), :]"
   ],
   "metadata": {},
   "execution_count": 7
  },
  {
   "outputs": [],
   "cell_type": "markdown",
   "source": [
    "### Snippet 4.23"
   ],
   "metadata": {}
  },
  {
   "outputs": [],
   "cell_type": "markdown",
   "source": [
    "Density of sigma"
   ],
   "metadata": {}
  },
  {
   "outputs": [
    {
     "output_type": "execute_result",
     "data": {
      "text/plain": "Plot{Plots.GRBackend() n=1}",
      "image/png": "[encoded data removed]",
      "text/html": [
       "<?xml version=\"1.0\" encoding=\"utf-8\"?>\n",
       "<svg xmlns=\"http://www.w3.org/2000/svg\" xmlns:xlink=\"http://www.w3.org/1999/xlink\" width=\"500\" height=\"500\" viewBox=\"0 0 2000 2000\">\n",
       "<defs>\n",
       "  <clipPath id=\"clip8600\">\n",
       "    <rect x=\"0\" y=\"0\" width=\"2000\" height=\"2000\"/>\n",
       "  </clipPath>\n",
       "</defs>\n",
       "<polygon clip-path=\"url(#clip8600)\" points=\"\n",
       "0,2000 2000,2000 2000,0 0,0 \n",
       "  \" fill=\"#ffffff\" fill-rule=\"evenodd\" fill-opacity=\"1\"/>\n",
       "<defs>\n",
       "  <clipPath id=\"clip8601\">\n",
       "    <rect x=\"400\" y=\"200\" width=\"1401\" height=\"1401\"/>\n",
       "  </clipPath>\n",
       "</defs>\n",
       "<polygon clip-path=\"url(#clip8600)\" points=\"\n",
       "161.394,1886.71 1921.26,1886.71 1921.26,47.2441 161.394,47.2441 \n",
       "  \" fill=\"#ffffff\" fill-rule=\"evenodd\" fill-opacity=\"1\"/>\n",
       "<defs>\n",
       "  <clipPath id=\"clip8602\">\n",
       "    <rect x=\"161\" y=\"47\" width=\"1761\" height=\"1840\"/>\n",
       "  </clipPath>\n",
       "</defs>\n",
       "<polyline clip-path=\"url(#clip8602)\" style=\"stroke:#000000; stroke-width:2; stroke-opacity:0.1; fill:none\" points=\"\n",
       "  446.995,1886.71 446.995,47.2441 \n",
       "  \"/>\n",
       "<polyline clip-path=\"url(#clip8602)\" style=\"stroke:#000000; stroke-width:2; stroke-opacity:0.1; fill:none\" points=\"\n",
       "  795.538,1886.71 795.538,47.2441 \n",
       "  \"/>\n",
       "<polyline clip-path=\"url(#clip8602)\" style=\"stroke:#000000; stroke-width:2; stroke-opacity:0.1; fill:none\" points=\"\n",
       "  1144.08,1886.71 1144.08,47.2441 \n",
       "  \"/>\n",
       "<polyline clip-path=\"url(#clip8602)\" style=\"stroke:#000000; stroke-width:2; stroke-opacity:0.1; fill:none\" points=\"\n",
       "  1492.62,1886.71 1492.62,47.2441 \n",
       "  \"/>\n",
       "<polyline clip-path=\"url(#clip8602)\" style=\"stroke:#000000; stroke-width:2; stroke-opacity:0.1; fill:none\" points=\"\n",
       "  1841.16,1886.71 1841.16,47.2441 \n",
       "  \"/>\n",
       "<polyline clip-path=\"url(#clip8602)\" style=\"stroke:#000000; stroke-width:2; stroke-opacity:0.1; fill:none\" points=\"\n",
       "  161.394,1834.65 1921.26,1834.65 \n",
       "  \"/>\n",
       "<polyline clip-path=\"url(#clip8602)\" style=\"stroke:#000000; stroke-width:2; stroke-opacity:0.1; fill:none\" points=\"\n",
       "  161.394,1275.77 1921.26,1275.77 \n",
       "  \"/>\n",
       "<polyline clip-path=\"url(#clip8602)\" style=\"stroke:#000000; stroke-width:2; stroke-opacity:0.1; fill:none\" points=\"\n",
       "  161.394,716.885 1921.26,716.885 \n",
       "  \"/>\n",
       "<polyline clip-path=\"url(#clip8602)\" style=\"stroke:#000000; stroke-width:2; stroke-opacity:0.1; fill:none\" points=\"\n",
       "  161.394,158.004 1921.26,158.004 \n",
       "  \"/>\n",
       "<polyline clip-path=\"url(#clip8600)\" style=\"stroke:#000000; stroke-width:4; stroke-opacity:1; fill:none\" points=\"\n",
       "  161.394,1886.71 1921.26,1886.71 \n",
       "  \"/>\n",
       "<polyline clip-path=\"url(#clip8600)\" style=\"stroke:#000000; stroke-width:4; stroke-opacity:1; fill:none\" points=\"\n",
       "  161.394,1886.71 161.394,47.2441 \n",
       "  \"/>\n",
       "<polyline clip-path=\"url(#clip8600)\" style=\"stroke:#000000; stroke-width:4; stroke-opacity:1; fill:none\" points=\"\n",
       "  446.995,1886.71 446.995,1859.12 \n",
       "  \"/>\n",
       "<polyline clip-path=\"url(#clip8600)\" style=\"stroke:#000000; stroke-width:4; stroke-opacity:1; fill:none\" points=\"\n",
       "  795.538,1886.71 795.538,1859.12 \n",
       "  \"/>\n",
       "<polyline clip-path=\"url(#clip8600)\" style=\"stroke:#000000; stroke-width:4; stroke-opacity:1; fill:none\" points=\"\n",
       "  1144.08,1886.71 1144.08,1859.12 \n",
       "  \"/>\n",
       "<polyline clip-path=\"url(#clip8600)\" style=\"stroke:#000000; stroke-width:4; stroke-opacity:1; fill:none\" points=\"\n",
       "  1492.62,1886.71 1492.62,1859.12 \n",
       "  \"/>\n",
       "<polyline clip-path=\"url(#clip8600)\" style=\"stroke:#000000; stroke-width:4; stroke-opacity:1; fill:none\" points=\"\n",
       "  1841.16,1886.71 1841.16,1859.12 \n",
       "  \"/>\n",
       "<polyline clip-path=\"url(#clip8600)\" style=\"stroke:#000000; stroke-width:4; stroke-opacity:1; fill:none\" points=\"\n",
       "  161.394,1834.65 187.792,1834.65 \n",
       "  \"/>\n",
       "<polyline clip-path=\"url(#clip8600)\" style=\"stroke:#000000; stroke-width:4; stroke-opacity:1; fill:none\" points=\"\n",
       "  161.394,1275.77 187.792,1275.77 \n",
       "  \"/>\n",
       "<polyline clip-path=\"url(#clip8600)\" style=\"stroke:#000000; stroke-width:4; stroke-opacity:1; fill:none\" points=\"\n",
       "  161.394,716.885 187.792,716.885 \n",
       "  \"/>\n",
       "<polyline clip-path=\"url(#clip8600)\" style=\"stroke:#000000; stroke-width:4; stroke-opacity:1; fill:none\" points=\"\n",
       "  161.394,158.004 187.792,158.004 \n",
       "  \"/>\n",
       "<g clip-path=\"url(#clip8600)\">\n",
       "<text style=\"fill:#000000; fill-opacity:1; font-family:Arial,Helvetica Neue,Helvetica,sans-serif; font-size:48px; text-anchor:middle;\" transform=\"rotate(0, 446.995, 1938.71)\" x=\"446.995\" y=\"1938.71\">6</text>\n",
       "</g>\n",
       "<g clip-path=\"url(#clip8600)\">\n",
       "<text style=\"fill:#000000; fill-opacity:1; font-family:Arial,Helvetica Neue,Helvetica,sans-serif; font-size:48px; text-anchor:middle;\" transform=\"rotate(0, 795.538, 1938.71)\" x=\"795.538\" y=\"1938.71\">9</text>\n",
       "</g>\n",
       "<g clip-path=\"url(#clip8600)\">\n",
       "<text style=\"fill:#000000; fill-opacity:1; font-family:Arial,Helvetica Neue,Helvetica,sans-serif; font-size:48px; text-anchor:middle;\" transform=\"rotate(0, 1144.08, 1938.71)\" x=\"1144.08\" y=\"1938.71\">12</text>\n",
       "</g>\n",
       "<g clip-path=\"url(#clip8600)\">\n",
       "<text style=\"fill:#000000; fill-opacity:1; font-family:Arial,Helvetica Neue,Helvetica,sans-serif; font-size:48px; text-anchor:middle;\" transform=\"rotate(0, 1492.62, 1938.71)\" x=\"1492.62\" y=\"1938.71\">15</text>\n",
       "</g>\n",
       "<g clip-path=\"url(#clip8600)\">\n",
       "<text style=\"fill:#000000; fill-opacity:1; font-family:Arial,Helvetica Neue,Helvetica,sans-serif; font-size:48px; text-anchor:middle;\" transform=\"rotate(0, 1841.16, 1938.71)\" x=\"1841.16\" y=\"1938.71\">18</text>\n",
       "</g>\n",
       "<g clip-path=\"url(#clip8600)\">\n",
       "<text style=\"fill:#000000; fill-opacity:1; font-family:Arial,Helvetica Neue,Helvetica,sans-serif; font-size:48px; text-anchor:end;\" transform=\"rotate(0, 141.394, 1852.15)\" x=\"141.394\" y=\"1852.15\">0.0</text>\n",
       "</g>\n",
       "<g clip-path=\"url(#clip8600)\">\n",
       "<text style=\"fill:#000000; fill-opacity:1; font-family:Arial,Helvetica Neue,Helvetica,sans-serif; font-size:48px; text-anchor:end;\" transform=\"rotate(0, 141.394, 1293.27)\" x=\"141.394\" y=\"1293.27\">0.1</text>\n",
       "</g>\n",
       "<g clip-path=\"url(#clip8600)\">\n",
       "<text style=\"fill:#000000; fill-opacity:1; font-family:Arial,Helvetica Neue,Helvetica,sans-serif; font-size:48px; text-anchor:end;\" transform=\"rotate(0, 141.394, 734.385)\" x=\"141.394\" y=\"734.385\">0.2</text>\n",
       "</g>\n",
       "<g clip-path=\"url(#clip8600)\">\n",
       "<text style=\"fill:#000000; fill-opacity:1; font-family:Arial,Helvetica Neue,Helvetica,sans-serif; font-size:48px; text-anchor:end;\" transform=\"rotate(0, 141.394, 175.504)\" x=\"141.394\" y=\"175.504\">0.3</text>\n",
       "</g>\n",
       "<polyline clip-path=\"url(#clip8602)\" style=\"stroke:#009af9; stroke-width:4; stroke-opacity:1; fill:none\" points=\"\n",
       "  211.202,1834.65 219.545,1834.64 227.887,1834.63 236.23,1834.58 244.573,1834.46 252.916,1834.15 261.259,1833.51 269.602,1832.26 277.945,1830.1 286.288,1826.69 \n",
       "  294.631,1821.69 302.974,1814.86 311.317,1806.06 319.66,1795.19 328.003,1782.08 336.346,1766.45 344.689,1747.86 353.032,1725.9 361.375,1700.13 369.718,1669.85 \n",
       "  378.061,1633.92 386.404,1590.79 394.747,1539.33 403.09,1479.59 411.433,1412.92 419.776,1341.28 428.119,1266.14 436.462,1188.04 444.805,1106.83 453.148,1022.32 \n",
       "  461.491,934.859 469.834,845.96 478.177,758.683 486.52,677.379 494.862,606.28 503.205,547.417 511.548,499.234 519.891,457.103 528.234,415.499 536.577,370.386 \n",
       "  544.92,320.561 553.263,267.77 561.606,216.048 569.949,170.487 578.292,135.511 586.635,113.167 594.978,102.311 603.321,99.3044 611.664,99.9885 620.007,101.975 \n",
       "  628.35,105.991 636.693,115.384 645.036,133.963 653.379,163.54 661.722,202.911 670.065,248.85 678.408,297.969 686.751,347.678 695.094,395.742 703.437,439.704 \n",
       "  711.78,477.605 720.123,509.715 728.466,539.514 736.809,572.481 745.152,613.176 753.495,662.642 761.837,717.869 770.18,773.547 778.523,824.815 786.866,869.471 \n",
       "  795.209,908.696 803.552,946.146 811.895,985.848 820.238,1029.93 828.581,1077.44 836.924,1124.99 845.267,1168.74 853.61,1206.44 861.953,1238.58 870.296,1267.97 \n",
       "  878.639,1298.24 886.982,1331.66 895.325,1367.77 903.668,1403.81 912.011,1436.55 920.354,1464.24 928.697,1487.09 937.04,1506.36 945.383,1523.26 953.726,1538.56 \n",
       "  962.069,1553.09 970.412,1568.05 978.755,1584.6 987.098,1603.03 995.441,1622.26 1003.78,1640.31 1012.13,1655.38 1020.47,1666.91 1028.81,1675.73 1037.16,1683.32 \n",
       "  1045.5,1690.82 1053.84,1698.54 1062.18,1706.11 1070.53,1713.13 1078.87,1719.74 1087.21,1726.55 1095.56,1734.17 1103.9,1742.62 1112.24,1751.22 1120.59,1758.93 \n",
       "  1128.93,1765.04 1137.27,1769.53 1145.61,1773.02 1153.96,1776.34 1162.3,1780.05 1170.64,1784.17 1178.99,1788.28 1187.33,1791.8 1195.67,1794.39 1204.01,1796.08 \n",
       "  1212.36,1797.23 1220.7,1798.28 1229.04,1799.49 1237.39,1800.87 1245.73,1802.33 1254.07,1803.81 1262.42,1805.3 1270.76,1806.85 1279.1,1808.49 1287.44,1810.28 \n",
       "  1295.79,1812.29 1304.13,1814.61 1312.47,1817.19 1320.82,1819.82 1329.16,1822.16 1337.5,1823.9 1345.85,1824.85 1354.19,1825.04 1362.53,1824.67 1370.87,1824.14 \n",
       "  1379.22,1823.89 1387.56,1824.28 1395.9,1825.39 1404.25,1827.01 1412.59,1828.76 1420.93,1830.29 1429.27,1831.4 1437.62,1832.05 1445.96,1832.37 1454.3,1832.51 \n",
       "  1462.65,1832.6 1470.99,1832.72 1479.33,1832.85 1487.68,1832.92 1496.02,1832.81 1504.36,1832.44 1512.7,1831.85 1521.05,1831.22 1529.39,1830.76 1537.73,1830.6 \n",
       "  1546.08,1830.69 1554.42,1830.91 1562.76,1831.13 1571.11,1831.3 1579.45,1831.46 1587.79,1831.64 1596.13,1831.83 1604.48,1831.98 1612.82,1832.06 1621.16,1832.08 \n",
       "  1629.51,1832.07 1637.85,1832.11 1646.19,1832.27 1654.54,1832.59 1662.88,1833.02 1671.22,1833.49 1679.56,1833.92 1687.91,1834.24 1696.25,1834.45 1704.59,1834.56 \n",
       "  1712.94,1834.61 1721.28,1834.62 1729.62,1834.59 1737.96,1834.51 1746.31,1834.37 1754.65,1834.16 1762.99,1833.9 1771.34,1833.66 1779.68,1833.51 1788.02,1833.51 \n",
       "  1796.37,1833.65 1804.71,1833.9 1813.05,1834.15 1821.39,1834.37 1829.74,1834.51 1838.08,1834.59 1846.42,1834.63 1854.77,1834.64 1863.11,1834.65 1871.45,1834.65 \n",
       "  \n",
       "  \"/>\n",
       "<polygon clip-path=\"url(#clip8600)\" points=\"\n",
       "1610.43,227.724 1861.26,227.724 1861.26,106.764 1610.43,106.764 \n",
       "  \" fill=\"#ffffff\" fill-rule=\"evenodd\" fill-opacity=\"1\"/>\n",
       "<polyline clip-path=\"url(#clip8600)\" style=\"stroke:#000000; stroke-width:4; stroke-opacity:1; fill:none\" points=\"\n",
       "  1610.43,227.724 1861.26,227.724 1861.26,106.764 1610.43,106.764 1610.43,227.724 \n",
       "  \"/>\n",
       "<polyline clip-path=\"url(#clip8600)\" style=\"stroke:#009af9; stroke-width:4; stroke-opacity:1; fill:none\" points=\"\n",
       "  1630.43,167.244 1750.43,167.244 \n",
       "  \"/>\n",
       "<g clip-path=\"url(#clip8600)\">\n",
       "<text style=\"fill:#000000; fill-opacity:1; font-family:Arial,Helvetica Neue,Helvetica,sans-serif; font-size:48px; text-anchor:start;\" transform=\"rotate(0, 1770.43, 184.744)\" x=\"1770.43\" y=\"184.744\">y1</text>\n",
       "</g>\n",
       "</svg>\n"
      ],
      "image/svg+xml": [
       "<?xml version=\"1.0\" encoding=\"utf-8\"?>\n",
       "<svg xmlns=\"http://www.w3.org/2000/svg\" xmlns:xlink=\"http://www.w3.org/1999/xlink\" width=\"500\" height=\"500\" viewBox=\"0 0 2000 2000\">\n",
       "<defs>\n",
       "  <clipPath id=\"clip8500\">\n",
       "    <rect x=\"0\" y=\"0\" width=\"2000\" height=\"2000\"/>\n",
       "  </clipPath>\n",
       "</defs>\n",
       "<polygon clip-path=\"url(#clip8500)\" points=\"\n",
       "0,2000 2000,2000 2000,0 0,0 \n",
       "  \" fill=\"#ffffff\" fill-rule=\"evenodd\" fill-opacity=\"1\"/>\n",
       "<defs>\n",
       "  <clipPath id=\"clip8501\">\n",
       "    <rect x=\"400\" y=\"200\" width=\"1401\" height=\"1401\"/>\n",
       "  </clipPath>\n",
       "</defs>\n",
       "<polygon clip-path=\"url(#clip8500)\" points=\"\n",
       "161.394,1886.71 1921.26,1886.71 1921.26,47.2441 161.394,47.2441 \n",
       "  \" fill=\"#ffffff\" fill-rule=\"evenodd\" fill-opacity=\"1\"/>\n",
       "<defs>\n",
       "  <clipPath id=\"clip8502\">\n",
       "    <rect x=\"161\" y=\"47\" width=\"1761\" height=\"1840\"/>\n",
       "  </clipPath>\n",
       "</defs>\n",
       "<polyline clip-path=\"url(#clip8502)\" style=\"stroke:#000000; stroke-width:2; stroke-opacity:0.1; fill:none\" points=\"\n",
       "  446.995,1886.71 446.995,47.2441 \n",
       "  \"/>\n",
       "<polyline clip-path=\"url(#clip8502)\" style=\"stroke:#000000; stroke-width:2; stroke-opacity:0.1; fill:none\" points=\"\n",
       "  795.538,1886.71 795.538,47.2441 \n",
       "  \"/>\n",
       "<polyline clip-path=\"url(#clip8502)\" style=\"stroke:#000000; stroke-width:2; stroke-opacity:0.1; fill:none\" points=\"\n",
       "  1144.08,1886.71 1144.08,47.2441 \n",
       "  \"/>\n",
       "<polyline clip-path=\"url(#clip8502)\" style=\"stroke:#000000; stroke-width:2; stroke-opacity:0.1; fill:none\" points=\"\n",
       "  1492.62,1886.71 1492.62,47.2441 \n",
       "  \"/>\n",
       "<polyline clip-path=\"url(#clip8502)\" style=\"stroke:#000000; stroke-width:2; stroke-opacity:0.1; fill:none\" points=\"\n",
       "  1841.16,1886.71 1841.16,47.2441 \n",
       "  \"/>\n",
       "<polyline clip-path=\"url(#clip8502)\" style=\"stroke:#000000; stroke-width:2; stroke-opacity:0.1; fill:none\" points=\"\n",
       "  161.394,1834.65 1921.26,1834.65 \n",
       "  \"/>\n",
       "<polyline clip-path=\"url(#clip8502)\" style=\"stroke:#000000; stroke-width:2; stroke-opacity:0.1; fill:none\" points=\"\n",
       "  161.394,1275.77 1921.26,1275.77 \n",
       "  \"/>\n",
       "<polyline clip-path=\"url(#clip8502)\" style=\"stroke:#000000; stroke-width:2; stroke-opacity:0.1; fill:none\" points=\"\n",
       "  161.394,716.885 1921.26,716.885 \n",
       "  \"/>\n",
       "<polyline clip-path=\"url(#clip8502)\" style=\"stroke:#000000; stroke-width:2; stroke-opacity:0.1; fill:none\" points=\"\n",
       "  161.394,158.004 1921.26,158.004 \n",
       "  \"/>\n",
       "<polyline clip-path=\"url(#clip8500)\" style=\"stroke:#000000; stroke-width:4; stroke-opacity:1; fill:none\" points=\"\n",
       "  161.394,1886.71 1921.26,1886.71 \n",
       "  \"/>\n",
       "<polyline clip-path=\"url(#clip8500)\" style=\"stroke:#000000; stroke-width:4; stroke-opacity:1; fill:none\" points=\"\n",
       "  161.394,1886.71 161.394,47.2441 \n",
       "  \"/>\n",
       "<polyline clip-path=\"url(#clip8500)\" style=\"stroke:#000000; stroke-width:4; stroke-opacity:1; fill:none\" points=\"\n",
       "  446.995,1886.71 446.995,1859.12 \n",
       "  \"/>\n",
       "<polyline clip-path=\"url(#clip8500)\" style=\"stroke:#000000; stroke-width:4; stroke-opacity:1; fill:none\" points=\"\n",
       "  795.538,1886.71 795.538,1859.12 \n",
       "  \"/>\n",
       "<polyline clip-path=\"url(#clip8500)\" style=\"stroke:#000000; stroke-width:4; stroke-opacity:1; fill:none\" points=\"\n",
       "  1144.08,1886.71 1144.08,1859.12 \n",
       "  \"/>\n",
       "<polyline clip-path=\"url(#clip8500)\" style=\"stroke:#000000; stroke-width:4; stroke-opacity:1; fill:none\" points=\"\n",
       "  1492.62,1886.71 1492.62,1859.12 \n",
       "  \"/>\n",
       "<polyline clip-path=\"url(#clip8500)\" style=\"stroke:#000000; stroke-width:4; stroke-opacity:1; fill:none\" points=\"\n",
       "  1841.16,1886.71 1841.16,1859.12 \n",
       "  \"/>\n",
       "<polyline clip-path=\"url(#clip8500)\" style=\"stroke:#000000; stroke-width:4; stroke-opacity:1; fill:none\" points=\"\n",
       "  161.394,1834.65 187.792,1834.65 \n",
       "  \"/>\n",
       "<polyline clip-path=\"url(#clip8500)\" style=\"stroke:#000000; stroke-width:4; stroke-opacity:1; fill:none\" points=\"\n",
       "  161.394,1275.77 187.792,1275.77 \n",
       "  \"/>\n",
       "<polyline clip-path=\"url(#clip8500)\" style=\"stroke:#000000; stroke-width:4; stroke-opacity:1; fill:none\" points=\"\n",
       "  161.394,716.885 187.792,716.885 \n",
       "  \"/>\n",
       "<polyline clip-path=\"url(#clip8500)\" style=\"stroke:#000000; stroke-width:4; stroke-opacity:1; fill:none\" points=\"\n",
       "  161.394,158.004 187.792,158.004 \n",
       "  \"/>\n",
       "<g clip-path=\"url(#clip8500)\">\n",
       "<text style=\"fill:#000000; fill-opacity:1; font-family:Arial,Helvetica Neue,Helvetica,sans-serif; font-size:48px; text-anchor:middle;\" transform=\"rotate(0, 446.995, 1938.71)\" x=\"446.995\" y=\"1938.71\">6</text>\n",
       "</g>\n",
       "<g clip-path=\"url(#clip8500)\">\n",
       "<text style=\"fill:#000000; fill-opacity:1; font-family:Arial,Helvetica Neue,Helvetica,sans-serif; font-size:48px; text-anchor:middle;\" transform=\"rotate(0, 795.538, 1938.71)\" x=\"795.538\" y=\"1938.71\">9</text>\n",
       "</g>\n",
       "<g clip-path=\"url(#clip8500)\">\n",
       "<text style=\"fill:#000000; fill-opacity:1; font-family:Arial,Helvetica Neue,Helvetica,sans-serif; font-size:48px; text-anchor:middle;\" transform=\"rotate(0, 1144.08, 1938.71)\" x=\"1144.08\" y=\"1938.71\">12</text>\n",
       "</g>\n",
       "<g clip-path=\"url(#clip8500)\">\n",
       "<text style=\"fill:#000000; fill-opacity:1; font-family:Arial,Helvetica Neue,Helvetica,sans-serif; font-size:48px; text-anchor:middle;\" transform=\"rotate(0, 1492.62, 1938.71)\" x=\"1492.62\" y=\"1938.71\">15</text>\n",
       "</g>\n",
       "<g clip-path=\"url(#clip8500)\">\n",
       "<text style=\"fill:#000000; fill-opacity:1; font-family:Arial,Helvetica Neue,Helvetica,sans-serif; font-size:48px; text-anchor:middle;\" transform=\"rotate(0, 1841.16, 1938.71)\" x=\"1841.16\" y=\"1938.71\">18</text>\n",
       "</g>\n",
       "<g clip-path=\"url(#clip8500)\">\n",
       "<text style=\"fill:#000000; fill-opacity:1; font-family:Arial,Helvetica Neue,Helvetica,sans-serif; font-size:48px; text-anchor:end;\" transform=\"rotate(0, 141.394, 1852.15)\" x=\"141.394\" y=\"1852.15\">0.0</text>\n",
       "</g>\n",
       "<g clip-path=\"url(#clip8500)\">\n",
       "<text style=\"fill:#000000; fill-opacity:1; font-family:Arial,Helvetica Neue,Helvetica,sans-serif; font-size:48px; text-anchor:end;\" transform=\"rotate(0, 141.394, 1293.27)\" x=\"141.394\" y=\"1293.27\">0.1</text>\n",
       "</g>\n",
       "<g clip-path=\"url(#clip8500)\">\n",
       "<text style=\"fill:#000000; fill-opacity:1; font-family:Arial,Helvetica Neue,Helvetica,sans-serif; font-size:48px; text-anchor:end;\" transform=\"rotate(0, 141.394, 734.385)\" x=\"141.394\" y=\"734.385\">0.2</text>\n",
       "</g>\n",
       "<g clip-path=\"url(#clip8500)\">\n",
       "<text style=\"fill:#000000; fill-opacity:1; font-family:Arial,Helvetica Neue,Helvetica,sans-serif; font-size:48px; text-anchor:end;\" transform=\"rotate(0, 141.394, 175.504)\" x=\"141.394\" y=\"175.504\">0.3</text>\n",
       "</g>\n",
       "<polyline clip-path=\"url(#clip8502)\" style=\"stroke:#009af9; stroke-width:4; stroke-opacity:1; fill:none\" points=\"\n",
       "  211.202,1834.65 219.545,1834.64 227.887,1834.63 236.23,1834.58 244.573,1834.46 252.916,1834.15 261.259,1833.51 269.602,1832.26 277.945,1830.1 286.288,1826.69 \n",
       "  294.631,1821.69 302.974,1814.86 311.317,1806.06 319.66,1795.19 328.003,1782.08 336.346,1766.45 344.689,1747.86 353.032,1725.9 361.375,1700.13 369.718,1669.85 \n",
       "  378.061,1633.92 386.404,1590.79 394.747,1539.33 403.09,1479.59 411.433,1412.92 419.776,1341.28 428.119,1266.14 436.462,1188.04 444.805,1106.83 453.148,1022.32 \n",
       "  461.491,934.859 469.834,845.96 478.177,758.683 486.52,677.379 494.862,606.28 503.205,547.417 511.548,499.234 519.891,457.103 528.234,415.499 536.577,370.386 \n",
       "  544.92,320.561 553.263,267.77 561.606,216.048 569.949,170.487 578.292,135.511 586.635,113.167 594.978,102.311 603.321,99.3044 611.664,99.9885 620.007,101.975 \n",
       "  628.35,105.991 636.693,115.384 645.036,133.963 653.379,163.54 661.722,202.911 670.065,248.85 678.408,297.969 686.751,347.678 695.094,395.742 703.437,439.704 \n",
       "  711.78,477.605 720.123,509.715 728.466,539.514 736.809,572.481 745.152,613.176 753.495,662.642 761.837,717.869 770.18,773.547 778.523,824.815 786.866,869.471 \n",
       "  795.209,908.696 803.552,946.146 811.895,985.848 820.238,1029.93 828.581,1077.44 836.924,1124.99 845.267,1168.74 853.61,1206.44 861.953,1238.58 870.296,1267.97 \n",
       "  878.639,1298.24 886.982,1331.66 895.325,1367.77 903.668,1403.81 912.011,1436.55 920.354,1464.24 928.697,1487.09 937.04,1506.36 945.383,1523.26 953.726,1538.56 \n",
       "  962.069,1553.09 970.412,1568.05 978.755,1584.6 987.098,1603.03 995.441,1622.26 1003.78,1640.31 1012.13,1655.38 1020.47,1666.91 1028.81,1675.73 1037.16,1683.32 \n",
       "  1045.5,1690.82 1053.84,1698.54 1062.18,1706.11 1070.53,1713.13 1078.87,1719.74 1087.21,1726.55 1095.56,1734.17 1103.9,1742.62 1112.24,1751.22 1120.59,1758.93 \n",
       "  1128.93,1765.04 1137.27,1769.53 1145.61,1773.02 1153.96,1776.34 1162.3,1780.05 1170.64,1784.17 1178.99,1788.28 1187.33,1791.8 1195.67,1794.39 1204.01,1796.08 \n",
       "  1212.36,1797.23 1220.7,1798.28 1229.04,1799.49 1237.39,1800.87 1245.73,1802.33 1254.07,1803.81 1262.42,1805.3 1270.76,1806.85 1279.1,1808.49 1287.44,1810.28 \n",
       "  1295.79,1812.29 1304.13,1814.61 1312.47,1817.19 1320.82,1819.82 1329.16,1822.16 1337.5,1823.9 1345.85,1824.85 1354.19,1825.04 1362.53,1824.67 1370.87,1824.14 \n",
       "  1379.22,1823.89 1387.56,1824.28 1395.9,1825.39 1404.25,1827.01 1412.59,1828.76 1420.93,1830.29 1429.27,1831.4 1437.62,1832.05 1445.96,1832.37 1454.3,1832.51 \n",
       "  1462.65,1832.6 1470.99,1832.72 1479.33,1832.85 1487.68,1832.92 1496.02,1832.81 1504.36,1832.44 1512.7,1831.85 1521.05,1831.22 1529.39,1830.76 1537.73,1830.6 \n",
       "  1546.08,1830.69 1554.42,1830.91 1562.76,1831.13 1571.11,1831.3 1579.45,1831.46 1587.79,1831.64 1596.13,1831.83 1604.48,1831.98 1612.82,1832.06 1621.16,1832.08 \n",
       "  1629.51,1832.07 1637.85,1832.11 1646.19,1832.27 1654.54,1832.59 1662.88,1833.02 1671.22,1833.49 1679.56,1833.92 1687.91,1834.24 1696.25,1834.45 1704.59,1834.56 \n",
       "  1712.94,1834.61 1721.28,1834.62 1729.62,1834.59 1737.96,1834.51 1746.31,1834.37 1754.65,1834.16 1762.99,1833.9 1771.34,1833.66 1779.68,1833.51 1788.02,1833.51 \n",
       "  1796.37,1833.65 1804.71,1833.9 1813.05,1834.15 1821.39,1834.37 1829.74,1834.51 1838.08,1834.59 1846.42,1834.63 1854.77,1834.64 1863.11,1834.65 1871.45,1834.65 \n",
       "  \n",
       "  \"/>\n",
       "<polygon clip-path=\"url(#clip8500)\" points=\"\n",
       "1610.43,227.724 1861.26,227.724 1861.26,106.764 1610.43,106.764 \n",
       "  \" fill=\"#ffffff\" fill-rule=\"evenodd\" fill-opacity=\"1\"/>\n",
       "<polyline clip-path=\"url(#clip8500)\" style=\"stroke:#000000; stroke-width:4; stroke-opacity:1; fill:none\" points=\"\n",
       "  1610.43,227.724 1861.26,227.724 1861.26,106.764 1610.43,106.764 1610.43,227.724 \n",
       "  \"/>\n",
       "<polyline clip-path=\"url(#clip8500)\" style=\"stroke:#009af9; stroke-width:4; stroke-opacity:1; fill:none\" points=\"\n",
       "  1630.43,167.244 1750.43,167.244 \n",
       "  \"/>\n",
       "<g clip-path=\"url(#clip8500)\">\n",
       "<text style=\"fill:#000000; fill-opacity:1; font-family:Arial,Helvetica Neue,Helvetica,sans-serif; font-size:48px; text-anchor:start;\" transform=\"rotate(0, 1770.43, 184.744)\" x=\"1770.43\" y=\"184.744\">y1</text>\n",
       "</g>\n",
       "</svg>\n"
      ]
     },
     "metadata": {},
     "execution_count": 8
    }
   ],
   "cell_type": "code",
   "source": [
    "density(samples[:sigma])"
   ],
   "metadata": {},
   "execution_count": 8
  },
  {
   "outputs": [],
   "cell_type": "markdown",
   "source": [
    "End of `clip-21-23.jl`"
   ],
   "metadata": {}
  },
  {
   "outputs": [],
   "cell_type": "markdown",
   "source": [
    "*This notebook was generated using [Literate.jl](https://github.com/fredrikekre/Literate.jl).*"
   ],
   "metadata": {}
  }
 ],
 "nbformat_minor": 3,
 "metadata": {
  "language_info": {
   "file_extension": ".jl",
   "mimetype": "application/julia",
   "name": "julia",
   "version": "1.2.0-DEV.234"
  },
  "kernelspec": {
   "name": "julia-1.2",
   "display_name": "Julia 1.2.0-DEV.234",
   "language": "julia"
  }
 },
 "nbformat": 4
}
