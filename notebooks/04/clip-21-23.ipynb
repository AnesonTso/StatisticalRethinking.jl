{
 "cells": [
  {
   "outputs": [],
   "cell_type": "markdown",
   "source": [
    "Load Julia packages (libraries) needed  for the snippets in chapter 0"
   ],
   "metadata": {}
  },
  {
   "outputs": [],
   "cell_type": "code",
   "source": [
    "using StatisticalRethinking, CmdStan, StanMCMCChains\n",
    "gr(size=(500,500));"
   ],
   "metadata": {},
   "execution_count": 1
  },
  {
   "outputs": [],
   "cell_type": "markdown",
   "source": [
    "CmdStan uses a tmp directory to store the output of cmdstan"
   ],
   "metadata": {}
  },
  {
   "outputs": [],
   "cell_type": "code",
   "source": [
    "ProjDir = rel_path(\"..\", \"scripts\", \"04\")\n",
    "cd(ProjDir)"
   ],
   "metadata": {},
   "execution_count": 2
  },
  {
   "outputs": [],
   "cell_type": "markdown",
   "source": [
    "CmdStan uses a tmp directory to store the output of cmdstan"
   ],
   "metadata": {}
  },
  {
   "outputs": [],
   "cell_type": "code",
   "source": [
    "ProjDir = rel_path(\"..\", \"scripts\", \"04\")\n",
    "cd(ProjDir)"
   ],
   "metadata": {},
   "execution_count": 3
  },
  {
   "outputs": [
    {
     "output_type": "execute_result",
     "data": {
      "text/plain": "5×4 DataFrame\n│ Row │ height   │ weight   │ age      │ male   │\n│     │ \u001b[90mFloat64⍰\u001b[39m │ \u001b[90mFloat64⍰\u001b[39m │ \u001b[90mFloat64⍰\u001b[39m │ \u001b[90mInt64⍰\u001b[39m │\n├─────┼──────────┼──────────┼──────────┼────────┤\n│ 1   │ 151.765  │ 47.8256  │ 63.0     │ 1      │\n│ 2   │ 139.7    │ 36.4858  │ 63.0     │ 0      │\n│ 3   │ 136.525  │ 31.8648  │ 65.0     │ 0      │\n│ 4   │ 156.845  │ 53.0419  │ 41.0     │ 1      │\n│ 5   │ 145.415  │ 41.2769  │ 51.0     │ 0      │",
      "text/html": [
       "<table class=\"data-frame\"><thead><tr><th></th><th>height</th><th>weight</th><th>age</th><th>male</th></tr><tr><th></th><th>Float64⍰</th><th>Float64⍰</th><th>Float64⍰</th><th>Int64⍰</th></tr></thead><tbody><p>5 rows × 4 columns</p><tr><th>1</th><td>151.765</td><td>47.8256</td><td>63.0</td><td>1</td></tr><tr><th>2</th><td>139.7</td><td>36.4858</td><td>63.0</td><td>0</td></tr><tr><th>3</th><td>136.525</td><td>31.8648</td><td>65.0</td><td>0</td></tr><tr><th>4</th><td>156.845</td><td>53.0419</td><td>41.0</td><td>1</td></tr><tr><th>5</th><td>145.415</td><td>41.2769</td><td>51.0</td><td>0</td></tr></tbody></table>"
      ]
     },
     "metadata": {},
     "execution_count": 4
    }
   ],
   "cell_type": "code",
   "source": [
    "howell1 = CSV.read(rel_path(\"..\", \"data\", \"Howell1.csv\"), delim=';')\n",
    "df = convert(DataFrame, howell1);\n",
    "df2 = filter(row -> row[:age] >= 18, df);\n",
    "first(df2, 5)"
   ],
   "metadata": {},
   "execution_count": 4
  },
  {
   "outputs": [],
   "cell_type": "markdown",
   "source": [
    "### Snippet 4.21"
   ],
   "metadata": {}
  },
  {
   "outputs": [],
   "cell_type": "markdown",
   "source": [
    "Sample 20 random heights"
   ],
   "metadata": {}
  },
  {
   "outputs": [],
   "cell_type": "code",
   "source": [
    "n = size(df2, 1)\n",
    "selected_ind = sample(1:n, 20, replace=false);\n",
    "df3 = df2[selected_ind, :];"
   ],
   "metadata": {},
   "execution_count": 5
  },
  {
   "outputs": [],
   "cell_type": "markdown",
   "source": [
    "### Snippet 4.22"
   ],
   "metadata": {}
  },
  {
   "outputs": [],
   "cell_type": "markdown",
   "source": [
    "Generate approximate probabilities"
   ],
   "metadata": {}
  },
  {
   "outputs": [
    {
     "output_type": "execute_result",
     "data": {
      "text/plain": "10×5 DataFrame\n│ Row │ mu      │ sigma   │ ll       │ prod     │ prob        │\n│     │ \u001b[90mFloat64\u001b[39m │ \u001b[90mFloat64\u001b[39m │ \u001b[90mFloat64\u001b[39m  │ \u001b[90mFloat64\u001b[39m  │ \u001b[90mFloat64\u001b[39m     │\n├─────┼─────────┼─────────┼──────────┼──────────┼─────────────┤\n│ 1   │ 140.0   │ 4.0     │ -226.243 │ -235.875 │ 2.39679e-68 │\n│ 2   │ 140.151 │ 4.0     │ -223.511 │ -233.128 │ 3.73518e-67 │\n│ 3   │ 140.302 │ 4.0     │ -220.807 │ -230.411 │ 5.65759e-66 │\n│ 4   │ 140.452 │ 4.0     │ -218.132 │ -227.721 │ 8.32893e-65 │\n│ 5   │ 140.603 │ 4.0     │ -215.485 │ -225.06  │ 1.19175e-63 │\n│ 6   │ 140.754 │ 4.0     │ -212.867 │ -222.428 │ 1.65736e-62 │\n│ 7   │ 140.905 │ 4.0     │ -210.277 │ -219.824 │ 2.2402e-61  │\n│ 8   │ 141.055 │ 4.0     │ -207.716 │ -217.249 │ 2.94304e-60 │\n│ 9   │ 141.206 │ 4.0     │ -205.183 │ -214.702 │ 3.75787e-59 │\n│ 10  │ 141.357 │ 4.0     │ -202.678 │ -212.183 │ 4.66365e-58 │",
      "text/html": [
       "<table class=\"data-frame\"><thead><tr><th></th><th>mu</th><th>sigma</th><th>ll</th><th>prod</th><th>prob</th></tr><tr><th></th><th>Float64</th><th>Float64</th><th>Float64</th><th>Float64</th><th>Float64</th></tr></thead><tbody><p>10 rows × 5 columns</p><tr><th>1</th><td>140.0</td><td>4.0</td><td>-226.243</td><td>-235.875</td><td>2.39679e-68</td></tr><tr><th>2</th><td>140.151</td><td>4.0</td><td>-223.511</td><td>-233.128</td><td>3.73518e-67</td></tr><tr><th>3</th><td>140.302</td><td>4.0</td><td>-220.807</td><td>-230.411</td><td>5.65759e-66</td></tr><tr><th>4</th><td>140.452</td><td>4.0</td><td>-218.132</td><td>-227.721</td><td>8.32893e-65</td></tr><tr><th>5</th><td>140.603</td><td>4.0</td><td>-215.485</td><td>-225.06</td><td>1.19175e-63</td></tr><tr><th>6</th><td>140.754</td><td>4.0</td><td>-212.867</td><td>-222.428</td><td>1.65736e-62</td></tr><tr><th>7</th><td>140.905</td><td>4.0</td><td>-210.277</td><td>-219.824</td><td>2.2402e-61</td></tr><tr><th>8</th><td>141.055</td><td>4.0</td><td>-207.716</td><td>-217.249</td><td>2.94304e-60</td></tr><tr><th>9</th><td>141.206</td><td>4.0</td><td>-205.183</td><td>-214.702</td><td>3.75787e-59</td></tr><tr><th>10</th><td>141.357</td><td>4.0</td><td>-202.678</td><td>-212.183</td><td>4.66365e-58</td></tr></tbody></table>"
      ]
     },
     "metadata": {},
     "execution_count": 6
    }
   ],
   "cell_type": "code",
   "source": [
    "struct Post\n",
    "  mu::Float64\n",
    "  sigma::Float64\n",
    "  ll:: Float64\n",
    "  prod::Float64\n",
    "  prob::Float64\n",
    "end\n",
    "\n",
    "mu_list = repeat(range(140, 170, length=200), 200);\n",
    "sigma_list = repeat(range(4, 20, length=200), inner=200);\n",
    "\n",
    "ll = zeros(40000);\n",
    "for i in 1:40000\n",
    "    d1 = Normal(mu_list[i], sigma_list[i])\n",
    "    ll[i] = sum(log.(pdf.(d1, df3[:height])))\n",
    "end\n",
    "\n",
    "d2 = Normal(178.0, 20.0)\n",
    "d3 = Uniform(0, 50)\n",
    "prod = ll + log.(pdf.(d2, mu_list)) + log.(pdf.(d3, sigma_list))\n",
    "prob = exp.(prod .- maximum(prod))\n",
    "post = DataFrame(mu=mu_list, sigma=sigma_list, ll=ll, prod=prod, prob=prob)\n",
    "first(post, 10)"
   ],
   "metadata": {},
   "execution_count": 6
  },
  {
   "outputs": [],
   "cell_type": "markdown",
   "source": [
    "Sample post"
   ],
   "metadata": {}
  },
  {
   "outputs": [
    {
     "output_type": "execute_result",
     "data": {
      "text/plain": "10000×5 DataFrame\n│ Row   │ mu      │ sigma   │ ll       │ prod     │ prob       │\n│       │ \u001b[90mFloat64\u001b[39m │ \u001b[90mFloat64\u001b[39m │ \u001b[90mFloat64\u001b[39m  │ \u001b[90mFloat64\u001b[39m  │ \u001b[90mFloat64\u001b[39m    │\n├───────┼─────────┼─────────┼──────────┼──────────┼────────────┤\n│ 1     │ 152.814 │ 11.2362 │ -73.0144 │ -81.634  │ 0.231979   │\n│ 2     │ 155.528 │ 11.2362 │ -72.8416 │ -81.2995 │ 0.324135   │\n│ 3     │ 156.884 │ 7.8593  │ -72.7573 │ -81.1414 │ 0.379664   │\n│ 4     │ 153.417 │ 9.22613 │ -71.8873 │ -80.4694 │ 0.74344    │\n│ 5     │ 158.241 │ 10.191  │ -73.4078 │ -81.7225 │ 0.212332   │\n│ 6     │ 155.678 │ 10.2714 │ -72.2713 │ -80.7208 │ 0.578179   │\n│ 7     │ 153.719 │ 8.66332 │ -71.7641 │ -80.3278 │ 0.856506   │\n⋮\n│ 9993  │ 154.623 │ 10.0302 │ -72.0304 │ -80.5402 │ 0.692634   │\n│ 9994  │ 152.814 │ 8.50251 │ -72.106  │ -80.7256 │ 0.57541    │\n│ 9995  │ 162.462 │ 12.6834 │ -77.7688 │ -85.8972 │ 0.00326556 │\n│ 9996  │ 151.608 │ 7.05528 │ -74.4582 │ -83.1556 │ 0.0506557  │\n│ 9997  │ 154.472 │ 9.46734 │ -71.7993 │ -80.318  │ 0.864966   │\n│ 9998  │ 154.472 │ 10.6734 │ -72.3928 │ -80.9114 │ 0.477819   │\n│ 9999  │ 154.02  │ 10.4322 │ -72.2743 │ -80.8198 │ 0.523686   │\n│ 10000 │ 155.377 │ 8.82412 │ -71.7527 │ -80.2192 │ 0.954797   │",
      "text/html": [
       "<table class=\"data-frame\"><thead><tr><th></th><th>mu</th><th>sigma</th><th>ll</th><th>prod</th><th>prob</th></tr><tr><th></th><th>Float64</th><th>Float64</th><th>Float64</th><th>Float64</th><th>Float64</th></tr></thead><tbody><p>10,000 rows × 5 columns</p><tr><th>1</th><td>152.814</td><td>11.2362</td><td>-73.0144</td><td>-81.634</td><td>0.231979</td></tr><tr><th>2</th><td>155.528</td><td>11.2362</td><td>-72.8416</td><td>-81.2995</td><td>0.324135</td></tr><tr><th>3</th><td>156.884</td><td>7.8593</td><td>-72.7573</td><td>-81.1414</td><td>0.379664</td></tr><tr><th>4</th><td>153.417</td><td>9.22613</td><td>-71.8873</td><td>-80.4694</td><td>0.74344</td></tr><tr><th>5</th><td>158.241</td><td>10.191</td><td>-73.4078</td><td>-81.7225</td><td>0.212332</td></tr><tr><th>6</th><td>155.678</td><td>10.2714</td><td>-72.2713</td><td>-80.7208</td><td>0.578179</td></tr><tr><th>7</th><td>153.719</td><td>8.66332</td><td>-71.7641</td><td>-80.3278</td><td>0.856506</td></tr><tr><th>8</th><td>156.131</td><td>7.77889</td><td>-72.3429</td><td>-80.7674</td><td>0.551853</td></tr><tr><th>9</th><td>153.417</td><td>8.90452</td><td>-71.8445</td><td>-80.4266</td><td>0.775931</td></tr><tr><th>10</th><td>152.06</td><td>12.2814</td><td>-73.9878</td><td>-82.6556</td><td>0.0835201</td></tr><tr><th>11</th><td>160.503</td><td>12.5226</td><td>-76.0084</td><td>-84.2178</td><td>0.0175109</td></tr><tr><th>12</th><td>154.623</td><td>9.06533</td><td>-71.6979</td><td>-80.2077</td><td>0.965815</td></tr><tr><th>13</th><td>152.211</td><td>8.0201</td><td>-72.6773</td><td>-81.3353</td><td>0.312737</td></tr><tr><th>14</th><td>153.417</td><td>10.2714</td><td>-72.2821</td><td>-80.8642</td><td>0.500939</td></tr><tr><th>15</th><td>154.925</td><td>10.5126</td><td>-72.3047</td><td>-80.797</td><td>0.535736</td></tr><tr><th>16</th><td>154.925</td><td>9.14573</td><td>-71.7274</td><td>-80.2197</td><td>0.954289</td></tr><tr><th>17</th><td>155.678</td><td>12.8442</td><td>-74.1084</td><td>-82.5579</td><td>0.0920892</td></tr><tr><th>18</th><td>151.005</td><td>7.29648</td><td>-74.7649</td><td>-83.5025</td><td>0.035808</td></tr><tr><th>19</th><td>153.869</td><td>7.61809</td><td>-72.1442</td><td>-80.6987</td><td>0.591073</td></tr><tr><th>20</th><td>154.623</td><td>10.0302</td><td>-72.0304</td><td>-80.5402</td><td>0.692634</td></tr><tr><th>21</th><td>156.583</td><td>9.38693</td><td>-72.2317</td><td>-80.6318</td><td>0.632007</td></tr><tr><th>22</th><td>152.362</td><td>7.61809</td><td>-72.9013</td><td>-81.5497</td><td>0.252397</td></tr><tr><th>23</th><td>160.05</td><td>10.3518</td><td>-74.9998</td><td>-83.2292</td><td>0.0470611</td></tr><tr><th>24</th><td>155.226</td><td>13.005</td><td>-74.1954</td><td>-82.6704</td><td>0.0822915</td></tr><tr><th>&vellip;</th><td>&vellip;</td><td>&vellip;</td><td>&vellip;</td><td>&vellip;</td><td>&vellip;</td></tr></tbody></table>"
      ]
     },
     "metadata": {},
     "execution_count": 7
    }
   ],
   "cell_type": "code",
   "source": [
    "samples = post[sample(1:size(post, 1), Weights(post[:prob]), 10000, replace=true), :]"
   ],
   "metadata": {},
   "execution_count": 7
  },
  {
   "outputs": [],
   "cell_type": "markdown",
   "source": [
    "### Snippet 4.23"
   ],
   "metadata": {}
  },
  {
   "outputs": [],
   "cell_type": "markdown",
   "source": [
    "Density of sigma"
   ],
   "metadata": {}
  },
  {
   "outputs": [
    {
     "output_type": "execute_result",
     "data": {
      "text/plain": "Plot{Plots.GRBackend() n=1}",
      "image/png": "[encoded data removed]",
      "text/html": [
       "<?xml version=\"1.0\" encoding=\"utf-8\"?>\n",
       "<svg xmlns=\"http://www.w3.org/2000/svg\" xmlns:xlink=\"http://www.w3.org/1999/xlink\" width=\"500\" height=\"500\" viewBox=\"0 0 2000 2000\">\n",
       "<defs>\n",
       "  <clipPath id=\"clip9300\">\n",
       "    <rect x=\"0\" y=\"0\" width=\"2000\" height=\"2000\"/>\n",
       "  </clipPath>\n",
       "</defs>\n",
       "<polygon clip-path=\"url(#clip9300)\" points=\"\n",
       "0,2000 2000,2000 2000,0 0,0 \n",
       "  \" fill=\"#ffffff\" fill-rule=\"evenodd\" fill-opacity=\"1\"/>\n",
       "<defs>\n",
       "  <clipPath id=\"clip9301\">\n",
       "    <rect x=\"400\" y=\"200\" width=\"1401\" height=\"1401\"/>\n",
       "  </clipPath>\n",
       "</defs>\n",
       "<polygon clip-path=\"url(#clip9300)\" points=\"\n",
       "188.156,1886.71 1921.26,1886.71 1921.26,47.2441 188.156,47.2441 \n",
       "  \" fill=\"#ffffff\" fill-rule=\"evenodd\" fill-opacity=\"1\"/>\n",
       "<defs>\n",
       "  <clipPath id=\"clip9302\">\n",
       "    <rect x=\"188\" y=\"47\" width=\"1734\" height=\"1840\"/>\n",
       "  </clipPath>\n",
       "</defs>\n",
       "<polyline clip-path=\"url(#clip9302)\" style=\"stroke:#000000; stroke-width:2; stroke-opacity:0.1; fill:none\" points=\"\n",
       "  285.477,1886.71 285.477,47.2441 \n",
       "  \"/>\n",
       "<polyline clip-path=\"url(#clip9302)\" style=\"stroke:#000000; stroke-width:2; stroke-opacity:0.1; fill:none\" points=\"\n",
       "  791.349,1886.71 791.349,47.2441 \n",
       "  \"/>\n",
       "<polyline clip-path=\"url(#clip9302)\" style=\"stroke:#000000; stroke-width:2; stroke-opacity:0.1; fill:none\" points=\"\n",
       "  1297.22,1886.71 1297.22,47.2441 \n",
       "  \"/>\n",
       "<polyline clip-path=\"url(#clip9302)\" style=\"stroke:#000000; stroke-width:2; stroke-opacity:0.1; fill:none\" points=\"\n",
       "  1803.09,1886.71 1803.09,47.2441 \n",
       "  \"/>\n",
       "<polyline clip-path=\"url(#clip9302)\" style=\"stroke:#000000; stroke-width:2; stroke-opacity:0.1; fill:none\" points=\"\n",
       "  188.156,1834.65 1921.26,1834.65 \n",
       "  \"/>\n",
       "<polyline clip-path=\"url(#clip9302)\" style=\"stroke:#000000; stroke-width:2; stroke-opacity:0.1; fill:none\" points=\"\n",
       "  188.156,1510.62 1921.26,1510.62 \n",
       "  \"/>\n",
       "<polyline clip-path=\"url(#clip9302)\" style=\"stroke:#000000; stroke-width:2; stroke-opacity:0.1; fill:none\" points=\"\n",
       "  188.156,1186.59 1921.26,1186.59 \n",
       "  \"/>\n",
       "<polyline clip-path=\"url(#clip9302)\" style=\"stroke:#000000; stroke-width:2; stroke-opacity:0.1; fill:none\" points=\"\n",
       "  188.156,862.554 1921.26,862.554 \n",
       "  \"/>\n",
       "<polyline clip-path=\"url(#clip9302)\" style=\"stroke:#000000; stroke-width:2; stroke-opacity:0.1; fill:none\" points=\"\n",
       "  188.156,538.523 1921.26,538.523 \n",
       "  \"/>\n",
       "<polyline clip-path=\"url(#clip9302)\" style=\"stroke:#000000; stroke-width:2; stroke-opacity:0.1; fill:none\" points=\"\n",
       "  188.156,214.492 1921.26,214.492 \n",
       "  \"/>\n",
       "<polyline clip-path=\"url(#clip9300)\" style=\"stroke:#000000; stroke-width:4; stroke-opacity:1; fill:none\" points=\"\n",
       "  188.156,1886.71 1921.26,1886.71 \n",
       "  \"/>\n",
       "<polyline clip-path=\"url(#clip9300)\" style=\"stroke:#000000; stroke-width:4; stroke-opacity:1; fill:none\" points=\"\n",
       "  188.156,1886.71 188.156,47.2441 \n",
       "  \"/>\n",
       "<polyline clip-path=\"url(#clip9300)\" style=\"stroke:#000000; stroke-width:4; stroke-opacity:1; fill:none\" points=\"\n",
       "  285.477,1886.71 285.477,1859.12 \n",
       "  \"/>\n",
       "<polyline clip-path=\"url(#clip9300)\" style=\"stroke:#000000; stroke-width:4; stroke-opacity:1; fill:none\" points=\"\n",
       "  791.349,1886.71 791.349,1859.12 \n",
       "  \"/>\n",
       "<polyline clip-path=\"url(#clip9300)\" style=\"stroke:#000000; stroke-width:4; stroke-opacity:1; fill:none\" points=\"\n",
       "  1297.22,1886.71 1297.22,1859.12 \n",
       "  \"/>\n",
       "<polyline clip-path=\"url(#clip9300)\" style=\"stroke:#000000; stroke-width:4; stroke-opacity:1; fill:none\" points=\"\n",
       "  1803.09,1886.71 1803.09,1859.12 \n",
       "  \"/>\n",
       "<polyline clip-path=\"url(#clip9300)\" style=\"stroke:#000000; stroke-width:4; stroke-opacity:1; fill:none\" points=\"\n",
       "  188.156,1834.65 214.153,1834.65 \n",
       "  \"/>\n",
       "<polyline clip-path=\"url(#clip9300)\" style=\"stroke:#000000; stroke-width:4; stroke-opacity:1; fill:none\" points=\"\n",
       "  188.156,1510.62 214.153,1510.62 \n",
       "  \"/>\n",
       "<polyline clip-path=\"url(#clip9300)\" style=\"stroke:#000000; stroke-width:4; stroke-opacity:1; fill:none\" points=\"\n",
       "  188.156,1186.59 214.153,1186.59 \n",
       "  \"/>\n",
       "<polyline clip-path=\"url(#clip9300)\" style=\"stroke:#000000; stroke-width:4; stroke-opacity:1; fill:none\" points=\"\n",
       "  188.156,862.554 214.153,862.554 \n",
       "  \"/>\n",
       "<polyline clip-path=\"url(#clip9300)\" style=\"stroke:#000000; stroke-width:4; stroke-opacity:1; fill:none\" points=\"\n",
       "  188.156,538.523 214.153,538.523 \n",
       "  \"/>\n",
       "<polyline clip-path=\"url(#clip9300)\" style=\"stroke:#000000; stroke-width:4; stroke-opacity:1; fill:none\" points=\"\n",
       "  188.156,214.492 214.153,214.492 \n",
       "  \"/>\n",
       "<g clip-path=\"url(#clip9300)\">\n",
       "<text style=\"fill:#000000; fill-opacity:1; font-family:Arial,Helvetica Neue,Helvetica,sans-serif; font-size:48px; text-anchor:middle;\" transform=\"rotate(0, 285.477, 1938.71)\" x=\"285.477\" y=\"1938.71\">5</text>\n",
       "</g>\n",
       "<g clip-path=\"url(#clip9300)\">\n",
       "<text style=\"fill:#000000; fill-opacity:1; font-family:Arial,Helvetica Neue,Helvetica,sans-serif; font-size:48px; text-anchor:middle;\" transform=\"rotate(0, 791.349, 1938.71)\" x=\"791.349\" y=\"1938.71\">10</text>\n",
       "</g>\n",
       "<g clip-path=\"url(#clip9300)\">\n",
       "<text style=\"fill:#000000; fill-opacity:1; font-family:Arial,Helvetica Neue,Helvetica,sans-serif; font-size:48px; text-anchor:middle;\" transform=\"rotate(0, 1297.22, 1938.71)\" x=\"1297.22\" y=\"1938.71\">15</text>\n",
       "</g>\n",
       "<g clip-path=\"url(#clip9300)\">\n",
       "<text style=\"fill:#000000; fill-opacity:1; font-family:Arial,Helvetica Neue,Helvetica,sans-serif; font-size:48px; text-anchor:middle;\" transform=\"rotate(0, 1803.09, 1938.71)\" x=\"1803.09\" y=\"1938.71\">20</text>\n",
       "</g>\n",
       "<g clip-path=\"url(#clip9300)\">\n",
       "<text style=\"fill:#000000; fill-opacity:1; font-family:Arial,Helvetica Neue,Helvetica,sans-serif; font-size:48px; text-anchor:end;\" transform=\"rotate(0, 168.156, 1852.15)\" x=\"168.156\" y=\"1852.15\">0.00</text>\n",
       "</g>\n",
       "<g clip-path=\"url(#clip9300)\">\n",
       "<text style=\"fill:#000000; fill-opacity:1; font-family:Arial,Helvetica Neue,Helvetica,sans-serif; font-size:48px; text-anchor:end;\" transform=\"rotate(0, 168.156, 1528.12)\" x=\"168.156\" y=\"1528.12\">0.05</text>\n",
       "</g>\n",
       "<g clip-path=\"url(#clip9300)\">\n",
       "<text style=\"fill:#000000; fill-opacity:1; font-family:Arial,Helvetica Neue,Helvetica,sans-serif; font-size:48px; text-anchor:end;\" transform=\"rotate(0, 168.156, 1204.09)\" x=\"168.156\" y=\"1204.09\">0.10</text>\n",
       "</g>\n",
       "<g clip-path=\"url(#clip9300)\">\n",
       "<text style=\"fill:#000000; fill-opacity:1; font-family:Arial,Helvetica Neue,Helvetica,sans-serif; font-size:48px; text-anchor:end;\" transform=\"rotate(0, 168.156, 880.054)\" x=\"168.156\" y=\"880.054\">0.15</text>\n",
       "</g>\n",
       "<g clip-path=\"url(#clip9300)\">\n",
       "<text style=\"fill:#000000; fill-opacity:1; font-family:Arial,Helvetica Neue,Helvetica,sans-serif; font-size:48px; text-anchor:end;\" transform=\"rotate(0, 168.156, 556.023)\" x=\"168.156\" y=\"556.023\">0.20</text>\n",
       "</g>\n",
       "<g clip-path=\"url(#clip9300)\">\n",
       "<text style=\"fill:#000000; fill-opacity:1; font-family:Arial,Helvetica Neue,Helvetica,sans-serif; font-size:48px; text-anchor:end;\" transform=\"rotate(0, 168.156, 231.992)\" x=\"168.156\" y=\"231.992\">0.25</text>\n",
       "</g>\n",
       "<polyline clip-path=\"url(#clip9302)\" style=\"stroke:#009af9; stroke-width:4; stroke-opacity:1; fill:none\" points=\"\n",
       "  237.206,1834.65 245.423,1834.65 253.639,1834.64 261.855,1834.63 270.071,1834.61 278.287,1834.55 286.503,1834.44 294.719,1834.27 302.935,1834 311.151,1833.61 \n",
       "  319.367,1833.05 327.584,1832.2 335.8,1830.81 344.016,1828.5 352.232,1824.79 360.448,1819.16 368.664,1811.19 376.88,1800.65 385.096,1787.52 393.312,1772.04 \n",
       "  401.528,1754.49 409.745,1735.12 417.961,1713.93 426.177,1690.61 434.393,1664.55 442.609,1634.95 450.825,1600.89 459.041,1561.46 467.257,1515.98 475.473,1464.17 \n",
       "  483.689,1406.41 491.905,1343.82 500.122,1278.16 508.338,1211.38 516.554,1145.02 524.77,1079.62 532.986,1014.38 541.202,947.551 549.418,877.443 557.634,803.562 \n",
       "  565.85,727.178 574.066,650.962 582.283,577.973 590.499,510.618 598.715,450.014 606.931,395.882 615.147,346.829 623.363,300.947 631.579,256.64 639.795,213.524 \n",
       "  648.011,172.99 656.227,138.075 664.444,112.511 672.66,99.3044 680.876,99.5591 689.092,112.215 697.308,134.831 705.524,164.794 713.74,200.037 721.956,238.851 \n",
       "  730.172,279.237 738.388,318.706 746.604,354.943 754.821,386.872 763.037,415.217 771.253,442.019 779.469,469.375 787.685,498.323 795.901,528.663 804.117,559.861 \n",
       "  812.333,592.283 820.549,627.696 828.765,668.461 836.982,715.84 845.198,768.601 853.414,823.007 861.63,874.36 869.846,919.199 878.062,956.794 886.278,989.066 \n",
       "  894.494,1019.16 902.71,1049.7 910.926,1081.68 919.143,1114.66 927.359,1147.55 935.575,1179.75 943.791,1211.58 952.007,1244.11 960.223,1278.29 968.439,1314.1 \n",
       "  976.655,1350.07 984.871,1383.88 993.087,1413.33 1001.3,1437.45 1009.52,1456.79 1017.74,1473.01 1025.95,1487.99 1034.17,1503.09 1042.38,1518.88 1050.6,1535.24 \n",
       "  1058.82,1551.68 1067.03,1567.71 1075.25,1583.1 1083.46,1597.95 1091.68,1612.62 1099.9,1627.43 1108.11,1642.43 1116.33,1657.26 1124.54,1671.33 1132.76,1684.03 \n",
       "  1140.98,1694.9 1149.19,1703.75 1157.41,1710.7 1165.63,1716.16 1173.84,1720.76 1182.06,1725.13 1190.27,1729.74 1198.49,1734.73 1206.71,1740.02 1214.92,1745.38 \n",
       "  1223.14,1750.61 1231.35,1755.59 1239.57,1760.29 1247.79,1764.72 1256,1768.93 1264.22,1772.95 1272.43,1776.77 1280.65,1780.38 1288.87,1783.75 1297.08,1786.95 \n",
       "  1305.3,1790.09 1313.52,1793.31 1321.73,1796.68 1329.95,1800.17 1338.16,1803.67 1346.38,1807.03 1354.6,1810.05 1362.81,1812.54 1371.03,1814.28 1379.24,1815.13 \n",
       "  1387.46,1815.1 1395.68,1814.44 1403.89,1813.62 1412.11,1813.15 1420.32,1813.4 1428.54,1814.5 1436.76,1816.3 1444.97,1818.5 1453.19,1820.82 1461.4,1823.1 \n",
       "  1469.62,1825.27 1477.84,1827.31 1486.05,1829.17 1494.27,1830.69 1502.49,1831.74 1510.7,1832.21 1518.92,1832.12 1527.13,1831.62 1535.35,1830.93 1543.57,1830.28 \n",
       "  1551.78,1829.83 1560,1829.61 1568.21,1829.55 1576.43,1829.5 1584.65,1829.37 1592.86,1829.15 1601.08,1828.91 1609.29,1828.75 1617.51,1828.75 1625.73,1828.92 \n",
       "  1633.94,1829.24 1642.16,1829.68 1650.38,1830.24 1658.59,1830.89 1666.81,1831.61 1675.02,1832.29 1683.24,1832.83 1691.46,1833.12 1699.67,1833.16 1707.89,1832.98 \n",
       "  1716.1,1832.72 1724.32,1832.5 1732.54,1832.4 1740.75,1832.44 1748.97,1832.58 1757.18,1832.76 1765.4,1832.94 1773.62,1833.11 1781.83,1833.31 1790.05,1833.55 \n",
       "  1798.26,1833.81 1806.48,1834.07 1814.7,1834.29 1822.91,1834.45 1831.13,1834.55 1839.35,1834.61 1847.56,1834.63 1855.78,1834.64 1863.99,1834.65 1872.21,1834.65 \n",
       "  \n",
       "  \"/>\n",
       "<polygon clip-path=\"url(#clip9300)\" points=\"\n",
       "1610.43,227.724 1861.26,227.724 1861.26,106.764 1610.43,106.764 \n",
       "  \" fill=\"#ffffff\" fill-rule=\"evenodd\" fill-opacity=\"1\"/>\n",
       "<polyline clip-path=\"url(#clip9300)\" style=\"stroke:#000000; stroke-width:4; stroke-opacity:1; fill:none\" points=\"\n",
       "  1610.43,227.724 1861.26,227.724 1861.26,106.764 1610.43,106.764 1610.43,227.724 \n",
       "  \"/>\n",
       "<polyline clip-path=\"url(#clip9300)\" style=\"stroke:#009af9; stroke-width:4; stroke-opacity:1; fill:none\" points=\"\n",
       "  1630.43,167.244 1750.43,167.244 \n",
       "  \"/>\n",
       "<g clip-path=\"url(#clip9300)\">\n",
       "<text style=\"fill:#000000; fill-opacity:1; font-family:Arial,Helvetica Neue,Helvetica,sans-serif; font-size:48px; text-anchor:start;\" transform=\"rotate(0, 1770.43, 184.744)\" x=\"1770.43\" y=\"184.744\">y1</text>\n",
       "</g>\n",
       "</svg>\n"
      ],
      "image/svg+xml": [
       "<?xml version=\"1.0\" encoding=\"utf-8\"?>\n",
       "<svg xmlns=\"http://www.w3.org/2000/svg\" xmlns:xlink=\"http://www.w3.org/1999/xlink\" width=\"500\" height=\"500\" viewBox=\"0 0 2000 2000\">\n",
       "<defs>\n",
       "  <clipPath id=\"clip9200\">\n",
       "    <rect x=\"0\" y=\"0\" width=\"2000\" height=\"2000\"/>\n",
       "  </clipPath>\n",
       "</defs>\n",
       "<polygon clip-path=\"url(#clip9200)\" points=\"\n",
       "0,2000 2000,2000 2000,0 0,0 \n",
       "  \" fill=\"#ffffff\" fill-rule=\"evenodd\" fill-opacity=\"1\"/>\n",
       "<defs>\n",
       "  <clipPath id=\"clip9201\">\n",
       "    <rect x=\"400\" y=\"200\" width=\"1401\" height=\"1401\"/>\n",
       "  </clipPath>\n",
       "</defs>\n",
       "<polygon clip-path=\"url(#clip9200)\" points=\"\n",
       "188.156,1886.71 1921.26,1886.71 1921.26,47.2441 188.156,47.2441 \n",
       "  \" fill=\"#ffffff\" fill-rule=\"evenodd\" fill-opacity=\"1\"/>\n",
       "<defs>\n",
       "  <clipPath id=\"clip9202\">\n",
       "    <rect x=\"188\" y=\"47\" width=\"1734\" height=\"1840\"/>\n",
       "  </clipPath>\n",
       "</defs>\n",
       "<polyline clip-path=\"url(#clip9202)\" style=\"stroke:#000000; stroke-width:2; stroke-opacity:0.1; fill:none\" points=\"\n",
       "  285.477,1886.71 285.477,47.2441 \n",
       "  \"/>\n",
       "<polyline clip-path=\"url(#clip9202)\" style=\"stroke:#000000; stroke-width:2; stroke-opacity:0.1; fill:none\" points=\"\n",
       "  791.349,1886.71 791.349,47.2441 \n",
       "  \"/>\n",
       "<polyline clip-path=\"url(#clip9202)\" style=\"stroke:#000000; stroke-width:2; stroke-opacity:0.1; fill:none\" points=\"\n",
       "  1297.22,1886.71 1297.22,47.2441 \n",
       "  \"/>\n",
       "<polyline clip-path=\"url(#clip9202)\" style=\"stroke:#000000; stroke-width:2; stroke-opacity:0.1; fill:none\" points=\"\n",
       "  1803.09,1886.71 1803.09,47.2441 \n",
       "  \"/>\n",
       "<polyline clip-path=\"url(#clip9202)\" style=\"stroke:#000000; stroke-width:2; stroke-opacity:0.1; fill:none\" points=\"\n",
       "  188.156,1834.65 1921.26,1834.65 \n",
       "  \"/>\n",
       "<polyline clip-path=\"url(#clip9202)\" style=\"stroke:#000000; stroke-width:2; stroke-opacity:0.1; fill:none\" points=\"\n",
       "  188.156,1510.62 1921.26,1510.62 \n",
       "  \"/>\n",
       "<polyline clip-path=\"url(#clip9202)\" style=\"stroke:#000000; stroke-width:2; stroke-opacity:0.1; fill:none\" points=\"\n",
       "  188.156,1186.59 1921.26,1186.59 \n",
       "  \"/>\n",
       "<polyline clip-path=\"url(#clip9202)\" style=\"stroke:#000000; stroke-width:2; stroke-opacity:0.1; fill:none\" points=\"\n",
       "  188.156,862.554 1921.26,862.554 \n",
       "  \"/>\n",
       "<polyline clip-path=\"url(#clip9202)\" style=\"stroke:#000000; stroke-width:2; stroke-opacity:0.1; fill:none\" points=\"\n",
       "  188.156,538.523 1921.26,538.523 \n",
       "  \"/>\n",
       "<polyline clip-path=\"url(#clip9202)\" style=\"stroke:#000000; stroke-width:2; stroke-opacity:0.1; fill:none\" points=\"\n",
       "  188.156,214.492 1921.26,214.492 \n",
       "  \"/>\n",
       "<polyline clip-path=\"url(#clip9200)\" style=\"stroke:#000000; stroke-width:4; stroke-opacity:1; fill:none\" points=\"\n",
       "  188.156,1886.71 1921.26,1886.71 \n",
       "  \"/>\n",
       "<polyline clip-path=\"url(#clip9200)\" style=\"stroke:#000000; stroke-width:4; stroke-opacity:1; fill:none\" points=\"\n",
       "  188.156,1886.71 188.156,47.2441 \n",
       "  \"/>\n",
       "<polyline clip-path=\"url(#clip9200)\" style=\"stroke:#000000; stroke-width:4; stroke-opacity:1; fill:none\" points=\"\n",
       "  285.477,1886.71 285.477,1859.12 \n",
       "  \"/>\n",
       "<polyline clip-path=\"url(#clip9200)\" style=\"stroke:#000000; stroke-width:4; stroke-opacity:1; fill:none\" points=\"\n",
       "  791.349,1886.71 791.349,1859.12 \n",
       "  \"/>\n",
       "<polyline clip-path=\"url(#clip9200)\" style=\"stroke:#000000; stroke-width:4; stroke-opacity:1; fill:none\" points=\"\n",
       "  1297.22,1886.71 1297.22,1859.12 \n",
       "  \"/>\n",
       "<polyline clip-path=\"url(#clip9200)\" style=\"stroke:#000000; stroke-width:4; stroke-opacity:1; fill:none\" points=\"\n",
       "  1803.09,1886.71 1803.09,1859.12 \n",
       "  \"/>\n",
       "<polyline clip-path=\"url(#clip9200)\" style=\"stroke:#000000; stroke-width:4; stroke-opacity:1; fill:none\" points=\"\n",
       "  188.156,1834.65 214.153,1834.65 \n",
       "  \"/>\n",
       "<polyline clip-path=\"url(#clip9200)\" style=\"stroke:#000000; stroke-width:4; stroke-opacity:1; fill:none\" points=\"\n",
       "  188.156,1510.62 214.153,1510.62 \n",
       "  \"/>\n",
       "<polyline clip-path=\"url(#clip9200)\" style=\"stroke:#000000; stroke-width:4; stroke-opacity:1; fill:none\" points=\"\n",
       "  188.156,1186.59 214.153,1186.59 \n",
       "  \"/>\n",
       "<polyline clip-path=\"url(#clip9200)\" style=\"stroke:#000000; stroke-width:4; stroke-opacity:1; fill:none\" points=\"\n",
       "  188.156,862.554 214.153,862.554 \n",
       "  \"/>\n",
       "<polyline clip-path=\"url(#clip9200)\" style=\"stroke:#000000; stroke-width:4; stroke-opacity:1; fill:none\" points=\"\n",
       "  188.156,538.523 214.153,538.523 \n",
       "  \"/>\n",
       "<polyline clip-path=\"url(#clip9200)\" style=\"stroke:#000000; stroke-width:4; stroke-opacity:1; fill:none\" points=\"\n",
       "  188.156,214.492 214.153,214.492 \n",
       "  \"/>\n",
       "<g clip-path=\"url(#clip9200)\">\n",
       "<text style=\"fill:#000000; fill-opacity:1; font-family:Arial,Helvetica Neue,Helvetica,sans-serif; font-size:48px; text-anchor:middle;\" transform=\"rotate(0, 285.477, 1938.71)\" x=\"285.477\" y=\"1938.71\">5</text>\n",
       "</g>\n",
       "<g clip-path=\"url(#clip9200)\">\n",
       "<text style=\"fill:#000000; fill-opacity:1; font-family:Arial,Helvetica Neue,Helvetica,sans-serif; font-size:48px; text-anchor:middle;\" transform=\"rotate(0, 791.349, 1938.71)\" x=\"791.349\" y=\"1938.71\">10</text>\n",
       "</g>\n",
       "<g clip-path=\"url(#clip9200)\">\n",
       "<text style=\"fill:#000000; fill-opacity:1; font-family:Arial,Helvetica Neue,Helvetica,sans-serif; font-size:48px; text-anchor:middle;\" transform=\"rotate(0, 1297.22, 1938.71)\" x=\"1297.22\" y=\"1938.71\">15</text>\n",
       "</g>\n",
       "<g clip-path=\"url(#clip9200)\">\n",
       "<text style=\"fill:#000000; fill-opacity:1; font-family:Arial,Helvetica Neue,Helvetica,sans-serif; font-size:48px; text-anchor:middle;\" transform=\"rotate(0, 1803.09, 1938.71)\" x=\"1803.09\" y=\"1938.71\">20</text>\n",
       "</g>\n",
       "<g clip-path=\"url(#clip9200)\">\n",
       "<text style=\"fill:#000000; fill-opacity:1; font-family:Arial,Helvetica Neue,Helvetica,sans-serif; font-size:48px; text-anchor:end;\" transform=\"rotate(0, 168.156, 1852.15)\" x=\"168.156\" y=\"1852.15\">0.00</text>\n",
       "</g>\n",
       "<g clip-path=\"url(#clip9200)\">\n",
       "<text style=\"fill:#000000; fill-opacity:1; font-family:Arial,Helvetica Neue,Helvetica,sans-serif; font-size:48px; text-anchor:end;\" transform=\"rotate(0, 168.156, 1528.12)\" x=\"168.156\" y=\"1528.12\">0.05</text>\n",
       "</g>\n",
       "<g clip-path=\"url(#clip9200)\">\n",
       "<text style=\"fill:#000000; fill-opacity:1; font-family:Arial,Helvetica Neue,Helvetica,sans-serif; font-size:48px; text-anchor:end;\" transform=\"rotate(0, 168.156, 1204.09)\" x=\"168.156\" y=\"1204.09\">0.10</text>\n",
       "</g>\n",
       "<g clip-path=\"url(#clip9200)\">\n",
       "<text style=\"fill:#000000; fill-opacity:1; font-family:Arial,Helvetica Neue,Helvetica,sans-serif; font-size:48px; text-anchor:end;\" transform=\"rotate(0, 168.156, 880.054)\" x=\"168.156\" y=\"880.054\">0.15</text>\n",
       "</g>\n",
       "<g clip-path=\"url(#clip9200)\">\n",
       "<text style=\"fill:#000000; fill-opacity:1; font-family:Arial,Helvetica Neue,Helvetica,sans-serif; font-size:48px; text-anchor:end;\" transform=\"rotate(0, 168.156, 556.023)\" x=\"168.156\" y=\"556.023\">0.20</text>\n",
       "</g>\n",
       "<g clip-path=\"url(#clip9200)\">\n",
       "<text style=\"fill:#000000; fill-opacity:1; font-family:Arial,Helvetica Neue,Helvetica,sans-serif; font-size:48px; text-anchor:end;\" transform=\"rotate(0, 168.156, 231.992)\" x=\"168.156\" y=\"231.992\">0.25</text>\n",
       "</g>\n",
       "<polyline clip-path=\"url(#clip9202)\" style=\"stroke:#009af9; stroke-width:4; stroke-opacity:1; fill:none\" points=\"\n",
       "  237.206,1834.65 245.423,1834.65 253.639,1834.64 261.855,1834.63 270.071,1834.61 278.287,1834.55 286.503,1834.44 294.719,1834.27 302.935,1834 311.151,1833.61 \n",
       "  319.367,1833.05 327.584,1832.2 335.8,1830.81 344.016,1828.5 352.232,1824.79 360.448,1819.16 368.664,1811.19 376.88,1800.65 385.096,1787.52 393.312,1772.04 \n",
       "  401.528,1754.49 409.745,1735.12 417.961,1713.93 426.177,1690.61 434.393,1664.55 442.609,1634.95 450.825,1600.89 459.041,1561.46 467.257,1515.98 475.473,1464.17 \n",
       "  483.689,1406.41 491.905,1343.82 500.122,1278.16 508.338,1211.38 516.554,1145.02 524.77,1079.62 532.986,1014.38 541.202,947.551 549.418,877.443 557.634,803.562 \n",
       "  565.85,727.178 574.066,650.962 582.283,577.973 590.499,510.618 598.715,450.014 606.931,395.882 615.147,346.829 623.363,300.947 631.579,256.64 639.795,213.524 \n",
       "  648.011,172.99 656.227,138.075 664.444,112.511 672.66,99.3044 680.876,99.5591 689.092,112.215 697.308,134.831 705.524,164.794 713.74,200.037 721.956,238.851 \n",
       "  730.172,279.237 738.388,318.706 746.604,354.943 754.821,386.872 763.037,415.217 771.253,442.019 779.469,469.375 787.685,498.323 795.901,528.663 804.117,559.861 \n",
       "  812.333,592.283 820.549,627.696 828.765,668.461 836.982,715.84 845.198,768.601 853.414,823.007 861.63,874.36 869.846,919.199 878.062,956.794 886.278,989.066 \n",
       "  894.494,1019.16 902.71,1049.7 910.926,1081.68 919.143,1114.66 927.359,1147.55 935.575,1179.75 943.791,1211.58 952.007,1244.11 960.223,1278.29 968.439,1314.1 \n",
       "  976.655,1350.07 984.871,1383.88 993.087,1413.33 1001.3,1437.45 1009.52,1456.79 1017.74,1473.01 1025.95,1487.99 1034.17,1503.09 1042.38,1518.88 1050.6,1535.24 \n",
       "  1058.82,1551.68 1067.03,1567.71 1075.25,1583.1 1083.46,1597.95 1091.68,1612.62 1099.9,1627.43 1108.11,1642.43 1116.33,1657.26 1124.54,1671.33 1132.76,1684.03 \n",
       "  1140.98,1694.9 1149.19,1703.75 1157.41,1710.7 1165.63,1716.16 1173.84,1720.76 1182.06,1725.13 1190.27,1729.74 1198.49,1734.73 1206.71,1740.02 1214.92,1745.38 \n",
       "  1223.14,1750.61 1231.35,1755.59 1239.57,1760.29 1247.79,1764.72 1256,1768.93 1264.22,1772.95 1272.43,1776.77 1280.65,1780.38 1288.87,1783.75 1297.08,1786.95 \n",
       "  1305.3,1790.09 1313.52,1793.31 1321.73,1796.68 1329.95,1800.17 1338.16,1803.67 1346.38,1807.03 1354.6,1810.05 1362.81,1812.54 1371.03,1814.28 1379.24,1815.13 \n",
       "  1387.46,1815.1 1395.68,1814.44 1403.89,1813.62 1412.11,1813.15 1420.32,1813.4 1428.54,1814.5 1436.76,1816.3 1444.97,1818.5 1453.19,1820.82 1461.4,1823.1 \n",
       "  1469.62,1825.27 1477.84,1827.31 1486.05,1829.17 1494.27,1830.69 1502.49,1831.74 1510.7,1832.21 1518.92,1832.12 1527.13,1831.62 1535.35,1830.93 1543.57,1830.28 \n",
       "  1551.78,1829.83 1560,1829.61 1568.21,1829.55 1576.43,1829.5 1584.65,1829.37 1592.86,1829.15 1601.08,1828.91 1609.29,1828.75 1617.51,1828.75 1625.73,1828.92 \n",
       "  1633.94,1829.24 1642.16,1829.68 1650.38,1830.24 1658.59,1830.89 1666.81,1831.61 1675.02,1832.29 1683.24,1832.83 1691.46,1833.12 1699.67,1833.16 1707.89,1832.98 \n",
       "  1716.1,1832.72 1724.32,1832.5 1732.54,1832.4 1740.75,1832.44 1748.97,1832.58 1757.18,1832.76 1765.4,1832.94 1773.62,1833.11 1781.83,1833.31 1790.05,1833.55 \n",
       "  1798.26,1833.81 1806.48,1834.07 1814.7,1834.29 1822.91,1834.45 1831.13,1834.55 1839.35,1834.61 1847.56,1834.63 1855.78,1834.64 1863.99,1834.65 1872.21,1834.65 \n",
       "  \n",
       "  \"/>\n",
       "<polygon clip-path=\"url(#clip9200)\" points=\"\n",
       "1610.43,227.724 1861.26,227.724 1861.26,106.764 1610.43,106.764 \n",
       "  \" fill=\"#ffffff\" fill-rule=\"evenodd\" fill-opacity=\"1\"/>\n",
       "<polyline clip-path=\"url(#clip9200)\" style=\"stroke:#000000; stroke-width:4; stroke-opacity:1; fill:none\" points=\"\n",
       "  1610.43,227.724 1861.26,227.724 1861.26,106.764 1610.43,106.764 1610.43,227.724 \n",
       "  \"/>\n",
       "<polyline clip-path=\"url(#clip9200)\" style=\"stroke:#009af9; stroke-width:4; stroke-opacity:1; fill:none\" points=\"\n",
       "  1630.43,167.244 1750.43,167.244 \n",
       "  \"/>\n",
       "<g clip-path=\"url(#clip9200)\">\n",
       "<text style=\"fill:#000000; fill-opacity:1; font-family:Arial,Helvetica Neue,Helvetica,sans-serif; font-size:48px; text-anchor:start;\" transform=\"rotate(0, 1770.43, 184.744)\" x=\"1770.43\" y=\"184.744\">y1</text>\n",
       "</g>\n",
       "</svg>\n"
      ]
     },
     "metadata": {},
     "execution_count": 8
    }
   ],
   "cell_type": "code",
   "source": [
    "density(samples[:sigma])"
   ],
   "metadata": {},
   "execution_count": 8
  },
  {
   "outputs": [],
   "cell_type": "markdown",
   "source": [
    "End of `clip-21-23.jl`"
   ],
   "metadata": {}
  },
  {
   "outputs": [],
   "cell_type": "markdown",
   "source": [
    "*This notebook was generated using [Literate.jl](https://github.com/fredrikekre/Literate.jl).*"
   ],
   "metadata": {}
  }
 ],
 "nbformat_minor": 3,
 "metadata": {
  "language_info": {
   "file_extension": ".jl",
   "mimetype": "application/julia",
   "name": "julia",
   "version": "1.1.0"
  },
  "kernelspec": {
   "name": "julia-1.1",
   "display_name": "Julia 1.1.0",
   "language": "julia"
  }
 },
 "nbformat": 4
}
