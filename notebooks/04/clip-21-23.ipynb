{
 "cells": [
  {
   "outputs": [],
   "cell_type": "markdown",
   "source": [
    "Load Julia packages (libraries) needed  for the snippets in chapter 0"
   ],
   "metadata": {}
  },
  {
   "outputs": [],
   "cell_type": "code",
   "source": [
    "using StatisticalRethinking, CmdStan, StanMCMCChain\n",
    "gr(size=(500,500));"
   ],
   "metadata": {},
   "execution_count": 1
  },
  {
   "outputs": [],
   "cell_type": "markdown",
   "source": [
    "CmdStan uses a tmp directory to store the output of cmdstan"
   ],
   "metadata": {}
  },
  {
   "outputs": [],
   "cell_type": "code",
   "source": [
    "ProjDir = rel_path(\"..\", \"scripts\", \"04\")\n",
    "cd(ProjDir)"
   ],
   "metadata": {},
   "execution_count": 2
  },
  {
   "outputs": [],
   "cell_type": "markdown",
   "source": [
    "CmdStan uses a tmp directory to store the output of cmdstan"
   ],
   "metadata": {}
  },
  {
   "outputs": [],
   "cell_type": "code",
   "source": [
    "ProjDir = rel_path(\"..\", \"scripts\", \"04\")\n",
    "cd(ProjDir)"
   ],
   "metadata": {},
   "execution_count": 3
  },
  {
   "outputs": [
    {
     "output_type": "execute_result",
     "data": {
      "text/plain": "5×4 DataFrame\n│ Row │ height   │ weight   │ age      │ male   │\n│     │ \u001b[90mFloat64⍰\u001b[39m │ \u001b[90mFloat64⍰\u001b[39m │ \u001b[90mFloat64⍰\u001b[39m │ \u001b[90mInt64⍰\u001b[39m │\n├─────┼──────────┼──────────┼──────────┼────────┤\n│ 1   │ 151.765  │ 47.8256  │ 63.0     │ 1      │\n│ 2   │ 139.7    │ 36.4858  │ 63.0     │ 0      │\n│ 3   │ 136.525  │ 31.8648  │ 65.0     │ 0      │\n│ 4   │ 156.845  │ 53.0419  │ 41.0     │ 1      │\n│ 5   │ 145.415  │ 41.2769  │ 51.0     │ 0      │",
      "text/html": [
       "<table class=\"data-frame\"><thead><tr><th></th><th>height</th><th>weight</th><th>age</th><th>male</th></tr><tr><th></th><th>Float64⍰</th><th>Float64⍰</th><th>Float64⍰</th><th>Int64⍰</th></tr></thead><tbody><p>5 rows × 4 columns</p><tr><th>1</th><td>151.765</td><td>47.8256</td><td>63.0</td><td>1</td></tr><tr><th>2</th><td>139.7</td><td>36.4858</td><td>63.0</td><td>0</td></tr><tr><th>3</th><td>136.525</td><td>31.8648</td><td>65.0</td><td>0</td></tr><tr><th>4</th><td>156.845</td><td>53.0419</td><td>41.0</td><td>1</td></tr><tr><th>5</th><td>145.415</td><td>41.2769</td><td>51.0</td><td>0</td></tr></tbody></table>"
      ]
     },
     "metadata": {},
     "execution_count": 4
    }
   ],
   "cell_type": "code",
   "source": [
    "howell1 = CSV.read(rel_path(\"..\", \"data\", \"Howell1.csv\"), delim=';')\n",
    "df = convert(DataFrame, howell1);\n",
    "df2 = filter(row -> row[:age] >= 18, df);\n",
    "first(df2, 5)"
   ],
   "metadata": {},
   "execution_count": 4
  },
  {
   "outputs": [],
   "cell_type": "markdown",
   "source": [
    "### Snippet 4.21"
   ],
   "metadata": {}
  },
  {
   "outputs": [],
   "cell_type": "markdown",
   "source": [
    "Sample 20 random heights"
   ],
   "metadata": {}
  },
  {
   "outputs": [],
   "cell_type": "code",
   "source": [
    "n = size(df2, 1)\n",
    "selected_ind = sample(1:n, 20, replace=false);\n",
    "df3 = df2[selected_ind, :];"
   ],
   "metadata": {},
   "execution_count": 5
  },
  {
   "outputs": [],
   "cell_type": "markdown",
   "source": [
    "### Snippet 4.22"
   ],
   "metadata": {}
  },
  {
   "outputs": [],
   "cell_type": "markdown",
   "source": [
    "Generate approximate probabilities"
   ],
   "metadata": {}
  },
  {
   "outputs": [
    {
     "output_type": "execute_result",
     "data": {
      "text/plain": "10×5 DataFrame\n│ Row │ mu      │ sigma   │ ll       │ prod     │ prob        │\n│     │ \u001b[90mFloat64\u001b[39m │ \u001b[90mFloat64\u001b[39m │ \u001b[90mFloat64\u001b[39m  │ \u001b[90mFloat64\u001b[39m  │ \u001b[90mFloat64\u001b[39m     │\n├─────┼─────────┼─────────┼──────────┼──────────┼─────────────┤\n│ 1   │ 140.0   │ 4.0     │ -199.059 │ -208.691 │ 6.26897e-58 │\n│ 2   │ 140.151 │ 4.0     │ -196.477 │ -206.094 │ 8.41438e-57 │\n│ 3   │ 140.302 │ 4.0     │ -193.922 │ -203.526 │ 1.0977e-55  │\n│ 4   │ 140.452 │ 4.0     │ -191.397 │ -200.986 │ 1.39183e-54 │\n│ 5   │ 140.603 │ 4.0     │ -188.899 │ -198.474 │ 1.71524e-53 │\n│ 6   │ 140.754 │ 4.0     │ -186.43  │ -195.991 │ 2.05448e-52 │\n│ 7   │ 140.905 │ 4.0     │ -183.99  │ -193.536 │ 2.39176e-51 │\n│ 8   │ 141.055 │ 4.0     │ -181.577 │ -191.11  │ 2.70626e-50 │\n│ 9   │ 141.206 │ 4.0     │ -179.194 │ -188.713 │ 2.97618e-49 │\n│ 10  │ 141.357 │ 4.0     │ -176.838 │ -186.343 │ 3.18117e-48 │",
      "text/html": [
       "<table class=\"data-frame\"><thead><tr><th></th><th>mu</th><th>sigma</th><th>ll</th><th>prod</th><th>prob</th></tr><tr><th></th><th>Float64</th><th>Float64</th><th>Float64</th><th>Float64</th><th>Float64</th></tr></thead><tbody><p>10 rows × 5 columns</p><tr><th>1</th><td>140.0</td><td>4.0</td><td>-199.059</td><td>-208.691</td><td>6.26897e-58</td></tr><tr><th>2</th><td>140.151</td><td>4.0</td><td>-196.477</td><td>-206.094</td><td>8.41438e-57</td></tr><tr><th>3</th><td>140.302</td><td>4.0</td><td>-193.922</td><td>-203.526</td><td>1.0977e-55</td></tr><tr><th>4</th><td>140.452</td><td>4.0</td><td>-191.397</td><td>-200.986</td><td>1.39183e-54</td></tr><tr><th>5</th><td>140.603</td><td>4.0</td><td>-188.899</td><td>-198.474</td><td>1.71524e-53</td></tr><tr><th>6</th><td>140.754</td><td>4.0</td><td>-186.43</td><td>-195.991</td><td>2.05448e-52</td></tr><tr><th>7</th><td>140.905</td><td>4.0</td><td>-183.99</td><td>-193.536</td><td>2.39176e-51</td></tr><tr><th>8</th><td>141.055</td><td>4.0</td><td>-181.577</td><td>-191.11</td><td>2.70626e-50</td></tr><tr><th>9</th><td>141.206</td><td>4.0</td><td>-179.194</td><td>-188.713</td><td>2.97618e-49</td></tr><tr><th>10</th><td>141.357</td><td>4.0</td><td>-176.838</td><td>-186.343</td><td>3.18117e-48</td></tr></tbody></table>"
      ]
     },
     "metadata": {},
     "execution_count": 6
    }
   ],
   "cell_type": "code",
   "source": [
    "struct Post\n",
    "  mu::Float64\n",
    "  sigma::Float64\n",
    "  ll:: Float64\n",
    "  prod::Float64\n",
    "  prob::Float64\n",
    "end\n",
    "\n",
    "mu_list = repeat(range(140, 170, length=200), 200);\n",
    "sigma_list = repeat(range(4, 20, length=200), inner=200);\n",
    "\n",
    "ll = zeros(40000);\n",
    "for i in 1:40000\n",
    "    d1 = Normal(mu_list[i], sigma_list[i])\n",
    "    ll[i] = sum(log.(pdf.(d1, df3[:height])))\n",
    "end\n",
    "\n",
    "d2 = Normal(178.0, 20.0)\n",
    "d3 = Uniform(0, 50)\n",
    "prod = ll + log.(pdf.(d2, mu_list)) + log.(pdf.(d3, sigma_list))\n",
    "prob = exp.(prod .- maximum(prod))\n",
    "post = DataFrame(mu=mu_list, sigma=sigma_list, ll=ll, prod=prod, prob=prob)\n",
    "first(post, 10)"
   ],
   "metadata": {},
   "execution_count": 6
  },
  {
   "outputs": [],
   "cell_type": "markdown",
   "source": [
    "Sample post"
   ],
   "metadata": {}
  },
  {
   "outputs": [
    {
     "output_type": "execute_result",
     "data": {
      "text/plain": "10000×5 DataFrame\n│ Row   │ mu      │ sigma   │ ll       │ prod     │ prob      │\n│       │ \u001b[90mFloat64\u001b[39m │ \u001b[90mFloat64\u001b[39m │ \u001b[90mFloat64\u001b[39m  │ \u001b[90mFloat64\u001b[39m  │ \u001b[90mFloat64\u001b[39m   │\n├───────┼─────────┼─────────┼──────────┼──────────┼───────────┤\n│ 1     │ 153.417 │ 6.01005 │ -69.4624 │ -78.0445 │ 0.343735  │\n│ 2     │ 151.759 │ 10.593  │ -70.8327 │ -79.5202 │ 0.078583  │\n│ 3     │ 156.281 │ 5.76884 │ -71.7818 │ -80.1981 │ 0.0398939 │\n│ 4     │ 154.925 │ 10.0302 │ -70.0704 │ -78.5627 │ 0.204717  │\n│ 5     │ 154.623 │ 6.97487 │ -68.6406 │ -77.1504 │ 0.840448  │\n│ 6     │ 155.98  │ 9.54774 │ -70.0498 │ -78.4826 │ 0.221804  │\n│ 7     │ 154.925 │ 9.46734 │ -69.5986 │ -78.0909 │ 0.328147  │\n⋮\n│ 9993  │ 156.583 │ 7.45729 │ -69.8335 │ -78.2336 │ 0.284502  │\n│ 9994  │ 153.266 │ 8.1005  │ -68.6128 │ -77.2042 │ 0.796445  │\n│ 9995  │ 154.171 │ 7.05528 │ -68.4991 │ -77.0356 │ 0.942699  │\n│ 9996  │ 152.362 │ 7.9397  │ -68.8326 │ -77.481  │ 0.603876  │\n│ 9997  │ 154.02  │ 8.82412 │ -68.977  │ -77.5225 │ 0.579322  │\n│ 9998  │ 156.884 │ 8.0201  │ -70.0392 │ -78.4232 │ 0.235358  │\n│ 9999  │ 154.623 │ 8.66332 │ -68.9602 │ -77.47   │ 0.610539  │\n│ 10000 │ 152.663 │ 7.9397  │ -68.7113 │ -77.3405 │ 0.69497   │",
      "text/html": [
       "<table class=\"data-frame\"><thead><tr><th></th><th>mu</th><th>sigma</th><th>ll</th><th>prod</th><th>prob</th></tr><tr><th></th><th>Float64</th><th>Float64</th><th>Float64</th><th>Float64</th><th>Float64</th></tr></thead><tbody><p>10,000 rows × 5 columns</p><tr><th>1</th><td>153.417</td><td>6.01005</td><td>-69.4624</td><td>-78.0445</td><td>0.343735</td></tr><tr><th>2</th><td>151.759</td><td>10.593</td><td>-70.8327</td><td>-79.5202</td><td>0.078583</td></tr><tr><th>3</th><td>156.281</td><td>5.76884</td><td>-71.7818</td><td>-80.1981</td><td>0.0398939</td></tr><tr><th>4</th><td>154.925</td><td>10.0302</td><td>-70.0704</td><td>-78.5627</td><td>0.204717</td></tr><tr><th>5</th><td>154.623</td><td>6.97487</td><td>-68.6406</td><td>-77.1504</td><td>0.840448</td></tr><tr><th>6</th><td>155.98</td><td>9.54774</td><td>-70.0498</td><td>-78.4826</td><td>0.221804</td></tr><tr><th>7</th><td>154.925</td><td>9.46734</td><td>-69.5986</td><td>-78.0909</td><td>0.328147</td></tr><tr><th>8</th><td>151.91</td><td>11.2362</td><td>-71.3814</td><td>-80.0589</td><td>0.0458515</td></tr><tr><th>9</th><td>153.568</td><td>7.45729</td><td>-68.4294</td><td>-77.0023</td><td>0.974615</td></tr><tr><th>10</th><td>154.925</td><td>7.9397</td><td>-68.721</td><td>-77.2133</td><td>0.789216</td></tr><tr><th>11</th><td>153.869</td><td>10.2714</td><td>-70.1634</td><td>-78.7179</td><td>0.175284</td></tr><tr><th>12</th><td>147.839</td><td>15.4171</td><td>-76.88</td><td>-85.8438</td><td>0.000140933</td></tr><tr><th>13</th><td>152.211</td><td>5.92965</td><td>-70.2714</td><td>-78.9294</td><td>0.141871</td></tr><tr><th>14</th><td>154.322</td><td>11.9598</td><td>-71.8632</td><td>-80.3907</td><td>0.0329042</td></tr><tr><th>15</th><td>155.377</td><td>7.61809</td><td>-68.8753</td><td>-77.3418</td><td>0.694074</td></tr><tr><th>16</th><td>155.98</td><td>8.66332</td><td>-69.5101</td><td>-77.9429</td><td>0.380469</td></tr><tr><th>17</th><td>153.568</td><td>7.29648</td><td>-68.4332</td><td>-77.006</td><td>0.971006</td></tr><tr><th>18</th><td>156.583</td><td>8.66332</td><td>-69.912</td><td>-78.3121</td><td>0.263031</td></tr><tr><th>19</th><td>153.869</td><td>9.62814</td><td>-69.5876</td><td>-78.1422</td><td>0.311735</td></tr><tr><th>20</th><td>153.266</td><td>8.50251</td><td>-68.8064</td><td>-77.3978</td><td>0.656274</td></tr><tr><th>21</th><td>152.663</td><td>6.25126</td><td>-69.3835</td><td>-78.0126</td><td>0.354872</td></tr><tr><th>22</th><td>149.799</td><td>9.54774</td><td>-71.2581</td><td>-80.0789</td><td>0.0449462</td></tr><tr><th>23</th><td>154.322</td><td>6.33166</td><td>-69.0387</td><td>-77.5662</td><td>0.554547</td></tr><tr><th>24</th><td>152.814</td><td>8.0201</td><td>-68.6866</td><td>-77.3062</td><td>0.719217</td></tr><tr><th>&vellip;</th><td>&vellip;</td><td>&vellip;</td><td>&vellip;</td><td>&vellip;</td><td>&vellip;</td></tr></tbody></table>"
      ]
     },
     "metadata": {},
     "execution_count": 7
    }
   ],
   "cell_type": "code",
   "source": [
    "samples = post[sample(1:size(post, 1), Weights(post[:prob]), 10000, replace=true), :]"
   ],
   "metadata": {},
   "execution_count": 7
  },
  {
   "outputs": [],
   "cell_type": "markdown",
   "source": [
    "### Snippet 4.23"
   ],
   "metadata": {}
  },
  {
   "outputs": [],
   "cell_type": "markdown",
   "source": [
    "Density of sigma"
   ],
   "metadata": {}
  },
  {
   "outputs": [
    {
     "output_type": "execute_result",
     "data": {
      "text/plain": "Plot{Plots.GRBackend() n=1}",
      "image/png": "[encoded data removed]",
      "text/html": [
       "<?xml version=\"1.0\" encoding=\"utf-8\"?>\n",
       "<svg xmlns=\"http://www.w3.org/2000/svg\" xmlns:xlink=\"http://www.w3.org/1999/xlink\" width=\"500\" height=\"500\" viewBox=\"0 0 2000 2000\">\n",
       "<defs>\n",
       "  <clipPath id=\"clip6400\">\n",
       "    <rect x=\"0\" y=\"0\" width=\"2000\" height=\"2000\"/>\n",
       "  </clipPath>\n",
       "</defs>\n",
       "<polygon clip-path=\"url(#clip6400)\" points=\"\n",
       "0,2000 2000,2000 2000,0 0,0 \n",
       "  \" fill=\"#ffffff\" fill-rule=\"evenodd\" fill-opacity=\"1\"/>\n",
       "<defs>\n",
       "  <clipPath id=\"clip6401\">\n",
       "    <rect x=\"400\" y=\"200\" width=\"1401\" height=\"1401\"/>\n",
       "  </clipPath>\n",
       "</defs>\n",
       "<polygon clip-path=\"url(#clip6400)\" points=\"\n",
       "161.394,1886.71 1921.26,1886.71 1921.26,47.2441 161.394,47.2441 \n",
       "  \" fill=\"#ffffff\" fill-rule=\"evenodd\" fill-opacity=\"1\"/>\n",
       "<defs>\n",
       "  <clipPath id=\"clip6402\">\n",
       "    <rect x=\"161\" y=\"47\" width=\"1761\" height=\"1840\"/>\n",
       "  </clipPath>\n",
       "</defs>\n",
       "<polyline clip-path=\"url(#clip6402)\" style=\"stroke:#000000; stroke-width:2; stroke-opacity:0.1; fill:none\" points=\"\n",
       "  462.585,1886.71 462.585,47.2441 \n",
       "  \"/>\n",
       "<polyline clip-path=\"url(#clip6402)\" style=\"stroke:#000000; stroke-width:2; stroke-opacity:0.1; fill:none\" points=\"\n",
       "  772.737,1886.71 772.737,47.2441 \n",
       "  \"/>\n",
       "<polyline clip-path=\"url(#clip6402)\" style=\"stroke:#000000; stroke-width:2; stroke-opacity:0.1; fill:none\" points=\"\n",
       "  1082.89,1886.71 1082.89,47.2441 \n",
       "  \"/>\n",
       "<polyline clip-path=\"url(#clip6402)\" style=\"stroke:#000000; stroke-width:2; stroke-opacity:0.1; fill:none\" points=\"\n",
       "  1393.04,1886.71 1393.04,47.2441 \n",
       "  \"/>\n",
       "<polyline clip-path=\"url(#clip6402)\" style=\"stroke:#000000; stroke-width:2; stroke-opacity:0.1; fill:none\" points=\"\n",
       "  1703.19,1886.71 1703.19,47.2441 \n",
       "  \"/>\n",
       "<polyline clip-path=\"url(#clip6402)\" style=\"stroke:#000000; stroke-width:2; stroke-opacity:0.1; fill:none\" points=\"\n",
       "  161.394,1834.65 1921.26,1834.65 \n",
       "  \"/>\n",
       "<polyline clip-path=\"url(#clip6402)\" style=\"stroke:#000000; stroke-width:2; stroke-opacity:0.1; fill:none\" points=\"\n",
       "  161.394,1270.43 1921.26,1270.43 \n",
       "  \"/>\n",
       "<polyline clip-path=\"url(#clip6402)\" style=\"stroke:#000000; stroke-width:2; stroke-opacity:0.1; fill:none\" points=\"\n",
       "  161.394,706.218 1921.26,706.218 \n",
       "  \"/>\n",
       "<polyline clip-path=\"url(#clip6402)\" style=\"stroke:#000000; stroke-width:2; stroke-opacity:0.1; fill:none\" points=\"\n",
       "  161.394,142.003 1921.26,142.003 \n",
       "  \"/>\n",
       "<polyline clip-path=\"url(#clip6400)\" style=\"stroke:#000000; stroke-width:4; stroke-opacity:1; fill:none\" points=\"\n",
       "  161.394,1886.71 1921.26,1886.71 \n",
       "  \"/>\n",
       "<polyline clip-path=\"url(#clip6400)\" style=\"stroke:#000000; stroke-width:4; stroke-opacity:1; fill:none\" points=\"\n",
       "  161.394,1886.71 161.394,47.2441 \n",
       "  \"/>\n",
       "<polyline clip-path=\"url(#clip6400)\" style=\"stroke:#000000; stroke-width:4; stroke-opacity:1; fill:none\" points=\"\n",
       "  462.585,1886.71 462.585,1859.12 \n",
       "  \"/>\n",
       "<polyline clip-path=\"url(#clip6400)\" style=\"stroke:#000000; stroke-width:4; stroke-opacity:1; fill:none\" points=\"\n",
       "  772.737,1886.71 772.737,1859.12 \n",
       "  \"/>\n",
       "<polyline clip-path=\"url(#clip6400)\" style=\"stroke:#000000; stroke-width:4; stroke-opacity:1; fill:none\" points=\"\n",
       "  1082.89,1886.71 1082.89,1859.12 \n",
       "  \"/>\n",
       "<polyline clip-path=\"url(#clip6400)\" style=\"stroke:#000000; stroke-width:4; stroke-opacity:1; fill:none\" points=\"\n",
       "  1393.04,1886.71 1393.04,1859.12 \n",
       "  \"/>\n",
       "<polyline clip-path=\"url(#clip6400)\" style=\"stroke:#000000; stroke-width:4; stroke-opacity:1; fill:none\" points=\"\n",
       "  1703.19,1886.71 1703.19,1859.12 \n",
       "  \"/>\n",
       "<polyline clip-path=\"url(#clip6400)\" style=\"stroke:#000000; stroke-width:4; stroke-opacity:1; fill:none\" points=\"\n",
       "  161.394,1834.65 187.792,1834.65 \n",
       "  \"/>\n",
       "<polyline clip-path=\"url(#clip6400)\" style=\"stroke:#000000; stroke-width:4; stroke-opacity:1; fill:none\" points=\"\n",
       "  161.394,1270.43 187.792,1270.43 \n",
       "  \"/>\n",
       "<polyline clip-path=\"url(#clip6400)\" style=\"stroke:#000000; stroke-width:4; stroke-opacity:1; fill:none\" points=\"\n",
       "  161.394,706.218 187.792,706.218 \n",
       "  \"/>\n",
       "<polyline clip-path=\"url(#clip6400)\" style=\"stroke:#000000; stroke-width:4; stroke-opacity:1; fill:none\" points=\"\n",
       "  161.394,142.003 187.792,142.003 \n",
       "  \"/>\n",
       "<g clip-path=\"url(#clip6400)\">\n",
       "<text style=\"fill:#000000; fill-opacity:1; font-family:Arial,Helvetica Neue,Helvetica,sans-serif; font-size:48px; text-anchor:middle;\" transform=\"rotate(0, 462.585, 1938.71)\" x=\"462.585\" y=\"1938.71\">6</text>\n",
       "</g>\n",
       "<g clip-path=\"url(#clip6400)\">\n",
       "<text style=\"fill:#000000; fill-opacity:1; font-family:Arial,Helvetica Neue,Helvetica,sans-serif; font-size:48px; text-anchor:middle;\" transform=\"rotate(0, 772.737, 1938.71)\" x=\"772.737\" y=\"1938.71\">9</text>\n",
       "</g>\n",
       "<g clip-path=\"url(#clip6400)\">\n",
       "<text style=\"fill:#000000; fill-opacity:1; font-family:Arial,Helvetica Neue,Helvetica,sans-serif; font-size:48px; text-anchor:middle;\" transform=\"rotate(0, 1082.89, 1938.71)\" x=\"1082.89\" y=\"1938.71\">12</text>\n",
       "</g>\n",
       "<g clip-path=\"url(#clip6400)\">\n",
       "<text style=\"fill:#000000; fill-opacity:1; font-family:Arial,Helvetica Neue,Helvetica,sans-serif; font-size:48px; text-anchor:middle;\" transform=\"rotate(0, 1393.04, 1938.71)\" x=\"1393.04\" y=\"1938.71\">15</text>\n",
       "</g>\n",
       "<g clip-path=\"url(#clip6400)\">\n",
       "<text style=\"fill:#000000; fill-opacity:1; font-family:Arial,Helvetica Neue,Helvetica,sans-serif; font-size:48px; text-anchor:middle;\" transform=\"rotate(0, 1703.19, 1938.71)\" x=\"1703.19\" y=\"1938.71\">18</text>\n",
       "</g>\n",
       "<g clip-path=\"url(#clip6400)\">\n",
       "<text style=\"fill:#000000; fill-opacity:1; font-family:Arial,Helvetica Neue,Helvetica,sans-serif; font-size:48px; text-anchor:end;\" transform=\"rotate(0, 141.394, 1852.15)\" x=\"141.394\" y=\"1852.15\">0.0</text>\n",
       "</g>\n",
       "<g clip-path=\"url(#clip6400)\">\n",
       "<text style=\"fill:#000000; fill-opacity:1; font-family:Arial,Helvetica Neue,Helvetica,sans-serif; font-size:48px; text-anchor:end;\" transform=\"rotate(0, 141.394, 1287.93)\" x=\"141.394\" y=\"1287.93\">0.1</text>\n",
       "</g>\n",
       "<g clip-path=\"url(#clip6400)\">\n",
       "<text style=\"fill:#000000; fill-opacity:1; font-family:Arial,Helvetica Neue,Helvetica,sans-serif; font-size:48px; text-anchor:end;\" transform=\"rotate(0, 141.394, 723.718)\" x=\"141.394\" y=\"723.718\">0.2</text>\n",
       "</g>\n",
       "<g clip-path=\"url(#clip6400)\">\n",
       "<text style=\"fill:#000000; fill-opacity:1; font-family:Arial,Helvetica Neue,Helvetica,sans-serif; font-size:48px; text-anchor:end;\" transform=\"rotate(0, 141.394, 159.503)\" x=\"141.394\" y=\"159.503\">0.3</text>\n",
       "</g>\n",
       "<polyline clip-path=\"url(#clip6402)\" style=\"stroke:#009af9; stroke-width:4; stroke-opacity:1; fill:none\" points=\"\n",
       "  211.202,1834.65 219.545,1834.65 227.887,1834.64 236.23,1834.61 244.573,1834.55 252.916,1834.41 261.259,1834.17 269.602,1833.82 277.945,1833.38 286.288,1832.93 \n",
       "  294.631,1832.51 302.974,1832.09 311.317,1831.59 319.66,1830.82 328.003,1829.45 336.346,1827.02 344.689,1822.98 353.032,1816.9 361.375,1808.43 369.718,1797.23 \n",
       "  378.061,1782.65 386.404,1763.77 394.747,1739.78 403.09,1710.51 411.433,1676.15 419.776,1636.42 428.119,1589.97 436.462,1535.37 444.805,1472.92 453.148,1404.99 \n",
       "  461.491,1334.12 469.834,1260.52 478.177,1181.79 486.52,1095.2 494.862,1000.47 503.205,900.705 511.548,801.036 519.891,706.367 528.234,619.761 536.577,542.066 \n",
       "  544.92,472.565 553.263,410.079 561.606,353.986 569.949,304.636 578.292,262.902 586.635,229.029 594.978,201.576 603.321,177.626 611.664,154.611 620.007,132.404 \n",
       "  628.35,113.636 636.693,101.829 645.036,99.3044 653.379,106.825 661.722,124.383 670.065,151.342 678.408,186.051 686.751,226.469 695.094,271.514 703.437,321.178 \n",
       "  711.78,375.227 720.123,432.613 728.466,492.429 736.809,554.58 745.152,618.823 753.495,683.566 761.837,746.248 770.18,804.731 778.523,858.002 786.866,905.904 \n",
       "  795.209,948.995 803.552,988.854 811.895,1027.81 820.238,1067.46 828.581,1107.14 836.924,1144.42 845.267,1177.5 853.61,1207.23 861.953,1236.66 870.296,1268.74 \n",
       "  878.639,1304.55 886.982,1342.94 895.325,1381.42 903.668,1417.25 912.011,1448.47 920.354,1474.68 928.697,1497.27 937.04,1518.61 945.383,1540.2 953.726,1561.41 \n",
       "  962.069,1579.91 970.412,1593.77 978.755,1603.07 987.098,1609.75 995.441,1616.38 1003.78,1625.16 1012.13,1637.53 1020.47,1653.91 1028.81,1673.17 1037.16,1692.83 \n",
       "  1045.5,1710.24 1053.84,1724.08 1062.18,1734.89 1070.53,1744.24 1078.87,1753.41 1087.21,1762.73 1095.56,1771.66 1103.9,1779.1 1112.24,1783.98 1120.59,1785.84 \n",
       "  1128.93,1785.21 1137.27,1783.44 1145.61,1782.03 1153.96,1782.03 1162.3,1783.8 1170.64,1787.21 1178.99,1791.99 1187.33,1797.84 1195.67,1804.16 1204.01,1809.93 \n",
       "  1212.36,1813.93 1220.7,1815.52 1229.04,1815.08 1237.39,1813.79 1245.73,1812.94 1254.07,1813.13 1262.42,1814.2 1270.76,1815.67 1279.1,1817.26 1287.44,1819.03 \n",
       "  1295.79,1821.15 1304.13,1823.59 1312.47,1826.06 1320.82,1828.18 1329.16,1829.65 1337.5,1830.34 1345.85,1830.3 1354.19,1829.68 1362.53,1828.75 1370.87,1827.82 \n",
       "  1379.22,1827.22 1387.56,1827.19 1395.9,1827.72 1404.25,1828.52 1412.59,1829.26 1420.93,1829.77 1429.27,1830.16 1437.62,1830.62 1445.96,1831.22 1454.3,1831.83 \n",
       "  1462.65,1832.22 1470.99,1832.33 1479.33,1832.28 1487.68,1832.25 1496.02,1832.35 1504.36,1832.54 1512.7,1832.75 1521.05,1832.95 1529.39,1833.19 1537.73,1833.48 \n",
       "  1546.08,1833.78 1554.42,1834.01 1562.76,1834.07 1571.11,1833.95 1579.45,1833.72 1587.79,1833.52 1596.13,1833.48 1604.48,1833.62 1612.82,1833.89 1621.16,1834.19 \n",
       "  1629.51,1834.41 1637.85,1834.55 1646.19,1834.61 1654.54,1834.64 1662.88,1834.65 1671.22,1834.65 1679.56,1834.65 1687.91,1834.65 1696.25,1834.65 1704.59,1834.64 \n",
       "  1712.94,1834.62 1721.28,1834.58 1729.62,1834.47 1737.96,1834.27 1746.31,1833.96 1754.65,1833.56 1762.99,1833.17 1771.34,1832.86 1779.68,1832.73 1788.02,1832.79 \n",
       "  1796.37,1833.04 1804.71,1833.42 1813.05,1833.83 1821.39,1834.17 1829.74,1834.41 1838.08,1834.55 1846.42,1834.61 1854.77,1834.64 1863.11,1834.65 1871.45,1834.65 \n",
       "  \n",
       "  \"/>\n",
       "<polygon clip-path=\"url(#clip6400)\" points=\"\n",
       "1610.43,227.724 1861.26,227.724 1861.26,106.764 1610.43,106.764 \n",
       "  \" fill=\"#ffffff\" fill-rule=\"evenodd\" fill-opacity=\"1\"/>\n",
       "<polyline clip-path=\"url(#clip6400)\" style=\"stroke:#000000; stroke-width:4; stroke-opacity:1; fill:none\" points=\"\n",
       "  1610.43,227.724 1861.26,227.724 1861.26,106.764 1610.43,106.764 1610.43,227.724 \n",
       "  \"/>\n",
       "<polyline clip-path=\"url(#clip6400)\" style=\"stroke:#009af9; stroke-width:4; stroke-opacity:1; fill:none\" points=\"\n",
       "  1630.43,167.244 1750.43,167.244 \n",
       "  \"/>\n",
       "<g clip-path=\"url(#clip6400)\">\n",
       "<text style=\"fill:#000000; fill-opacity:1; font-family:Arial,Helvetica Neue,Helvetica,sans-serif; font-size:48px; text-anchor:start;\" transform=\"rotate(0, 1770.43, 184.744)\" x=\"1770.43\" y=\"184.744\">y1</text>\n",
       "</g>\n",
       "</svg>\n"
      ],
      "image/svg+xml": [
       "<?xml version=\"1.0\" encoding=\"utf-8\"?>\n",
       "<svg xmlns=\"http://www.w3.org/2000/svg\" xmlns:xlink=\"http://www.w3.org/1999/xlink\" width=\"500\" height=\"500\" viewBox=\"0 0 2000 2000\">\n",
       "<defs>\n",
       "  <clipPath id=\"clip6300\">\n",
       "    <rect x=\"0\" y=\"0\" width=\"2000\" height=\"2000\"/>\n",
       "  </clipPath>\n",
       "</defs>\n",
       "<polygon clip-path=\"url(#clip6300)\" points=\"\n",
       "0,2000 2000,2000 2000,0 0,0 \n",
       "  \" fill=\"#ffffff\" fill-rule=\"evenodd\" fill-opacity=\"1\"/>\n",
       "<defs>\n",
       "  <clipPath id=\"clip6301\">\n",
       "    <rect x=\"400\" y=\"200\" width=\"1401\" height=\"1401\"/>\n",
       "  </clipPath>\n",
       "</defs>\n",
       "<polygon clip-path=\"url(#clip6300)\" points=\"\n",
       "161.394,1886.71 1921.26,1886.71 1921.26,47.2441 161.394,47.2441 \n",
       "  \" fill=\"#ffffff\" fill-rule=\"evenodd\" fill-opacity=\"1\"/>\n",
       "<defs>\n",
       "  <clipPath id=\"clip6302\">\n",
       "    <rect x=\"161\" y=\"47\" width=\"1761\" height=\"1840\"/>\n",
       "  </clipPath>\n",
       "</defs>\n",
       "<polyline clip-path=\"url(#clip6302)\" style=\"stroke:#000000; stroke-width:2; stroke-opacity:0.1; fill:none\" points=\"\n",
       "  462.585,1886.71 462.585,47.2441 \n",
       "  \"/>\n",
       "<polyline clip-path=\"url(#clip6302)\" style=\"stroke:#000000; stroke-width:2; stroke-opacity:0.1; fill:none\" points=\"\n",
       "  772.737,1886.71 772.737,47.2441 \n",
       "  \"/>\n",
       "<polyline clip-path=\"url(#clip6302)\" style=\"stroke:#000000; stroke-width:2; stroke-opacity:0.1; fill:none\" points=\"\n",
       "  1082.89,1886.71 1082.89,47.2441 \n",
       "  \"/>\n",
       "<polyline clip-path=\"url(#clip6302)\" style=\"stroke:#000000; stroke-width:2; stroke-opacity:0.1; fill:none\" points=\"\n",
       "  1393.04,1886.71 1393.04,47.2441 \n",
       "  \"/>\n",
       "<polyline clip-path=\"url(#clip6302)\" style=\"stroke:#000000; stroke-width:2; stroke-opacity:0.1; fill:none\" points=\"\n",
       "  1703.19,1886.71 1703.19,47.2441 \n",
       "  \"/>\n",
       "<polyline clip-path=\"url(#clip6302)\" style=\"stroke:#000000; stroke-width:2; stroke-opacity:0.1; fill:none\" points=\"\n",
       "  161.394,1834.65 1921.26,1834.65 \n",
       "  \"/>\n",
       "<polyline clip-path=\"url(#clip6302)\" style=\"stroke:#000000; stroke-width:2; stroke-opacity:0.1; fill:none\" points=\"\n",
       "  161.394,1270.43 1921.26,1270.43 \n",
       "  \"/>\n",
       "<polyline clip-path=\"url(#clip6302)\" style=\"stroke:#000000; stroke-width:2; stroke-opacity:0.1; fill:none\" points=\"\n",
       "  161.394,706.218 1921.26,706.218 \n",
       "  \"/>\n",
       "<polyline clip-path=\"url(#clip6302)\" style=\"stroke:#000000; stroke-width:2; stroke-opacity:0.1; fill:none\" points=\"\n",
       "  161.394,142.003 1921.26,142.003 \n",
       "  \"/>\n",
       "<polyline clip-path=\"url(#clip6300)\" style=\"stroke:#000000; stroke-width:4; stroke-opacity:1; fill:none\" points=\"\n",
       "  161.394,1886.71 1921.26,1886.71 \n",
       "  \"/>\n",
       "<polyline clip-path=\"url(#clip6300)\" style=\"stroke:#000000; stroke-width:4; stroke-opacity:1; fill:none\" points=\"\n",
       "  161.394,1886.71 161.394,47.2441 \n",
       "  \"/>\n",
       "<polyline clip-path=\"url(#clip6300)\" style=\"stroke:#000000; stroke-width:4; stroke-opacity:1; fill:none\" points=\"\n",
       "  462.585,1886.71 462.585,1859.12 \n",
       "  \"/>\n",
       "<polyline clip-path=\"url(#clip6300)\" style=\"stroke:#000000; stroke-width:4; stroke-opacity:1; fill:none\" points=\"\n",
       "  772.737,1886.71 772.737,1859.12 \n",
       "  \"/>\n",
       "<polyline clip-path=\"url(#clip6300)\" style=\"stroke:#000000; stroke-width:4; stroke-opacity:1; fill:none\" points=\"\n",
       "  1082.89,1886.71 1082.89,1859.12 \n",
       "  \"/>\n",
       "<polyline clip-path=\"url(#clip6300)\" style=\"stroke:#000000; stroke-width:4; stroke-opacity:1; fill:none\" points=\"\n",
       "  1393.04,1886.71 1393.04,1859.12 \n",
       "  \"/>\n",
       "<polyline clip-path=\"url(#clip6300)\" style=\"stroke:#000000; stroke-width:4; stroke-opacity:1; fill:none\" points=\"\n",
       "  1703.19,1886.71 1703.19,1859.12 \n",
       "  \"/>\n",
       "<polyline clip-path=\"url(#clip6300)\" style=\"stroke:#000000; stroke-width:4; stroke-opacity:1; fill:none\" points=\"\n",
       "  161.394,1834.65 187.792,1834.65 \n",
       "  \"/>\n",
       "<polyline clip-path=\"url(#clip6300)\" style=\"stroke:#000000; stroke-width:4; stroke-opacity:1; fill:none\" points=\"\n",
       "  161.394,1270.43 187.792,1270.43 \n",
       "  \"/>\n",
       "<polyline clip-path=\"url(#clip6300)\" style=\"stroke:#000000; stroke-width:4; stroke-opacity:1; fill:none\" points=\"\n",
       "  161.394,706.218 187.792,706.218 \n",
       "  \"/>\n",
       "<polyline clip-path=\"url(#clip6300)\" style=\"stroke:#000000; stroke-width:4; stroke-opacity:1; fill:none\" points=\"\n",
       "  161.394,142.003 187.792,142.003 \n",
       "  \"/>\n",
       "<g clip-path=\"url(#clip6300)\">\n",
       "<text style=\"fill:#000000; fill-opacity:1; font-family:Arial,Helvetica Neue,Helvetica,sans-serif; font-size:48px; text-anchor:middle;\" transform=\"rotate(0, 462.585, 1938.71)\" x=\"462.585\" y=\"1938.71\">6</text>\n",
       "</g>\n",
       "<g clip-path=\"url(#clip6300)\">\n",
       "<text style=\"fill:#000000; fill-opacity:1; font-family:Arial,Helvetica Neue,Helvetica,sans-serif; font-size:48px; text-anchor:middle;\" transform=\"rotate(0, 772.737, 1938.71)\" x=\"772.737\" y=\"1938.71\">9</text>\n",
       "</g>\n",
       "<g clip-path=\"url(#clip6300)\">\n",
       "<text style=\"fill:#000000; fill-opacity:1; font-family:Arial,Helvetica Neue,Helvetica,sans-serif; font-size:48px; text-anchor:middle;\" transform=\"rotate(0, 1082.89, 1938.71)\" x=\"1082.89\" y=\"1938.71\">12</text>\n",
       "</g>\n",
       "<g clip-path=\"url(#clip6300)\">\n",
       "<text style=\"fill:#000000; fill-opacity:1; font-family:Arial,Helvetica Neue,Helvetica,sans-serif; font-size:48px; text-anchor:middle;\" transform=\"rotate(0, 1393.04, 1938.71)\" x=\"1393.04\" y=\"1938.71\">15</text>\n",
       "</g>\n",
       "<g clip-path=\"url(#clip6300)\">\n",
       "<text style=\"fill:#000000; fill-opacity:1; font-family:Arial,Helvetica Neue,Helvetica,sans-serif; font-size:48px; text-anchor:middle;\" transform=\"rotate(0, 1703.19, 1938.71)\" x=\"1703.19\" y=\"1938.71\">18</text>\n",
       "</g>\n",
       "<g clip-path=\"url(#clip6300)\">\n",
       "<text style=\"fill:#000000; fill-opacity:1; font-family:Arial,Helvetica Neue,Helvetica,sans-serif; font-size:48px; text-anchor:end;\" transform=\"rotate(0, 141.394, 1852.15)\" x=\"141.394\" y=\"1852.15\">0.0</text>\n",
       "</g>\n",
       "<g clip-path=\"url(#clip6300)\">\n",
       "<text style=\"fill:#000000; fill-opacity:1; font-family:Arial,Helvetica Neue,Helvetica,sans-serif; font-size:48px; text-anchor:end;\" transform=\"rotate(0, 141.394, 1287.93)\" x=\"141.394\" y=\"1287.93\">0.1</text>\n",
       "</g>\n",
       "<g clip-path=\"url(#clip6300)\">\n",
       "<text style=\"fill:#000000; fill-opacity:1; font-family:Arial,Helvetica Neue,Helvetica,sans-serif; font-size:48px; text-anchor:end;\" transform=\"rotate(0, 141.394, 723.718)\" x=\"141.394\" y=\"723.718\">0.2</text>\n",
       "</g>\n",
       "<g clip-path=\"url(#clip6300)\">\n",
       "<text style=\"fill:#000000; fill-opacity:1; font-family:Arial,Helvetica Neue,Helvetica,sans-serif; font-size:48px; text-anchor:end;\" transform=\"rotate(0, 141.394, 159.503)\" x=\"141.394\" y=\"159.503\">0.3</text>\n",
       "</g>\n",
       "<polyline clip-path=\"url(#clip6302)\" style=\"stroke:#009af9; stroke-width:4; stroke-opacity:1; fill:none\" points=\"\n",
       "  211.202,1834.65 219.545,1834.65 227.887,1834.64 236.23,1834.61 244.573,1834.55 252.916,1834.41 261.259,1834.17 269.602,1833.82 277.945,1833.38 286.288,1832.93 \n",
       "  294.631,1832.51 302.974,1832.09 311.317,1831.59 319.66,1830.82 328.003,1829.45 336.346,1827.02 344.689,1822.98 353.032,1816.9 361.375,1808.43 369.718,1797.23 \n",
       "  378.061,1782.65 386.404,1763.77 394.747,1739.78 403.09,1710.51 411.433,1676.15 419.776,1636.42 428.119,1589.97 436.462,1535.37 444.805,1472.92 453.148,1404.99 \n",
       "  461.491,1334.12 469.834,1260.52 478.177,1181.79 486.52,1095.2 494.862,1000.47 503.205,900.705 511.548,801.036 519.891,706.367 528.234,619.761 536.577,542.066 \n",
       "  544.92,472.565 553.263,410.079 561.606,353.986 569.949,304.636 578.292,262.902 586.635,229.029 594.978,201.576 603.321,177.626 611.664,154.611 620.007,132.404 \n",
       "  628.35,113.636 636.693,101.829 645.036,99.3044 653.379,106.825 661.722,124.383 670.065,151.342 678.408,186.051 686.751,226.469 695.094,271.514 703.437,321.178 \n",
       "  711.78,375.227 720.123,432.613 728.466,492.429 736.809,554.58 745.152,618.823 753.495,683.566 761.837,746.248 770.18,804.731 778.523,858.002 786.866,905.904 \n",
       "  795.209,948.995 803.552,988.854 811.895,1027.81 820.238,1067.46 828.581,1107.14 836.924,1144.42 845.267,1177.5 853.61,1207.23 861.953,1236.66 870.296,1268.74 \n",
       "  878.639,1304.55 886.982,1342.94 895.325,1381.42 903.668,1417.25 912.011,1448.47 920.354,1474.68 928.697,1497.27 937.04,1518.61 945.383,1540.2 953.726,1561.41 \n",
       "  962.069,1579.91 970.412,1593.77 978.755,1603.07 987.098,1609.75 995.441,1616.38 1003.78,1625.16 1012.13,1637.53 1020.47,1653.91 1028.81,1673.17 1037.16,1692.83 \n",
       "  1045.5,1710.24 1053.84,1724.08 1062.18,1734.89 1070.53,1744.24 1078.87,1753.41 1087.21,1762.73 1095.56,1771.66 1103.9,1779.1 1112.24,1783.98 1120.59,1785.84 \n",
       "  1128.93,1785.21 1137.27,1783.44 1145.61,1782.03 1153.96,1782.03 1162.3,1783.8 1170.64,1787.21 1178.99,1791.99 1187.33,1797.84 1195.67,1804.16 1204.01,1809.93 \n",
       "  1212.36,1813.93 1220.7,1815.52 1229.04,1815.08 1237.39,1813.79 1245.73,1812.94 1254.07,1813.13 1262.42,1814.2 1270.76,1815.67 1279.1,1817.26 1287.44,1819.03 \n",
       "  1295.79,1821.15 1304.13,1823.59 1312.47,1826.06 1320.82,1828.18 1329.16,1829.65 1337.5,1830.34 1345.85,1830.3 1354.19,1829.68 1362.53,1828.75 1370.87,1827.82 \n",
       "  1379.22,1827.22 1387.56,1827.19 1395.9,1827.72 1404.25,1828.52 1412.59,1829.26 1420.93,1829.77 1429.27,1830.16 1437.62,1830.62 1445.96,1831.22 1454.3,1831.83 \n",
       "  1462.65,1832.22 1470.99,1832.33 1479.33,1832.28 1487.68,1832.25 1496.02,1832.35 1504.36,1832.54 1512.7,1832.75 1521.05,1832.95 1529.39,1833.19 1537.73,1833.48 \n",
       "  1546.08,1833.78 1554.42,1834.01 1562.76,1834.07 1571.11,1833.95 1579.45,1833.72 1587.79,1833.52 1596.13,1833.48 1604.48,1833.62 1612.82,1833.89 1621.16,1834.19 \n",
       "  1629.51,1834.41 1637.85,1834.55 1646.19,1834.61 1654.54,1834.64 1662.88,1834.65 1671.22,1834.65 1679.56,1834.65 1687.91,1834.65 1696.25,1834.65 1704.59,1834.64 \n",
       "  1712.94,1834.62 1721.28,1834.58 1729.62,1834.47 1737.96,1834.27 1746.31,1833.96 1754.65,1833.56 1762.99,1833.17 1771.34,1832.86 1779.68,1832.73 1788.02,1832.79 \n",
       "  1796.37,1833.04 1804.71,1833.42 1813.05,1833.83 1821.39,1834.17 1829.74,1834.41 1838.08,1834.55 1846.42,1834.61 1854.77,1834.64 1863.11,1834.65 1871.45,1834.65 \n",
       "  \n",
       "  \"/>\n",
       "<polygon clip-path=\"url(#clip6300)\" points=\"\n",
       "1610.43,227.724 1861.26,227.724 1861.26,106.764 1610.43,106.764 \n",
       "  \" fill=\"#ffffff\" fill-rule=\"evenodd\" fill-opacity=\"1\"/>\n",
       "<polyline clip-path=\"url(#clip6300)\" style=\"stroke:#000000; stroke-width:4; stroke-opacity:1; fill:none\" points=\"\n",
       "  1610.43,227.724 1861.26,227.724 1861.26,106.764 1610.43,106.764 1610.43,227.724 \n",
       "  \"/>\n",
       "<polyline clip-path=\"url(#clip6300)\" style=\"stroke:#009af9; stroke-width:4; stroke-opacity:1; fill:none\" points=\"\n",
       "  1630.43,167.244 1750.43,167.244 \n",
       "  \"/>\n",
       "<g clip-path=\"url(#clip6300)\">\n",
       "<text style=\"fill:#000000; fill-opacity:1; font-family:Arial,Helvetica Neue,Helvetica,sans-serif; font-size:48px; text-anchor:start;\" transform=\"rotate(0, 1770.43, 184.744)\" x=\"1770.43\" y=\"184.744\">y1</text>\n",
       "</g>\n",
       "</svg>\n"
      ]
     },
     "metadata": {},
     "execution_count": 8
    }
   ],
   "cell_type": "code",
   "source": [
    "density(samples[:sigma])"
   ],
   "metadata": {},
   "execution_count": 8
  },
  {
   "outputs": [],
   "cell_type": "markdown",
   "source": [
    "End of `clip-21-23.jl`"
   ],
   "metadata": {}
  },
  {
   "outputs": [],
   "cell_type": "markdown",
   "source": [
    "*This notebook was generated using [Literate.jl](https://github.com/fredrikekre/Literate.jl).*"
   ],
   "metadata": {}
  }
 ],
 "nbformat_minor": 3,
 "metadata": {
  "language_info": {
   "file_extension": ".jl",
   "mimetype": "application/julia",
   "name": "julia",
   "version": "1.2.0-DEV.226"
  },
  "kernelspec": {
   "name": "julia-1.2",
   "display_name": "Julia 1.2.0-DEV.226",
   "language": "julia"
  }
 },
 "nbformat": 4
}
