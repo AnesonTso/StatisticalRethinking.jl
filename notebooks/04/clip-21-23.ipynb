{
 "cells": [
  {
   "outputs": [],
   "cell_type": "markdown",
   "source": [
    "Load Julia packages (libraries) needed  for the snippets in chapter 0"
   ],
   "metadata": {}
  },
  {
   "outputs": [],
   "cell_type": "code",
   "source": [
    "using StatisticalRethinking, CmdStan, StanMCMCChain\n",
    "gr(size=(500,500));"
   ],
   "metadata": {},
   "execution_count": 1
  },
  {
   "outputs": [],
   "cell_type": "markdown",
   "source": [
    "CmdStan uses a tmp directory to store the output of cmdstan"
   ],
   "metadata": {}
  },
  {
   "outputs": [],
   "cell_type": "code",
   "source": [
    "ProjDir = rel_path(\"..\", \"scripts\", \"04\")\n",
    "cd(ProjDir)"
   ],
   "metadata": {},
   "execution_count": 2
  },
  {
   "outputs": [],
   "cell_type": "markdown",
   "source": [
    "CmdStan uses a tmp directory to store the output of cmdstan"
   ],
   "metadata": {}
  },
  {
   "outputs": [],
   "cell_type": "code",
   "source": [
    "ProjDir = rel_path(\"..\", \"scripts\", \"04\")\n",
    "cd(ProjDir)"
   ],
   "metadata": {},
   "execution_count": 3
  },
  {
   "outputs": [
    {
     "output_type": "execute_result",
     "data": {
      "text/plain": "5×4 DataFrame\n│ Row │ height   │ weight   │ age      │ male   │\n│     │ \u001b[90mFloat64⍰\u001b[39m │ \u001b[90mFloat64⍰\u001b[39m │ \u001b[90mFloat64⍰\u001b[39m │ \u001b[90mInt64⍰\u001b[39m │\n├─────┼──────────┼──────────┼──────────┼────────┤\n│ 1   │ 151.765  │ 47.8256  │ 63.0     │ 1      │\n│ 2   │ 139.7    │ 36.4858  │ 63.0     │ 0      │\n│ 3   │ 136.525  │ 31.8648  │ 65.0     │ 0      │\n│ 4   │ 156.845  │ 53.0419  │ 41.0     │ 1      │\n│ 5   │ 145.415  │ 41.2769  │ 51.0     │ 0      │",
      "text/html": [
       "<table class=\"data-frame\"><thead><tr><th></th><th>height</th><th>weight</th><th>age</th><th>male</th></tr><tr><th></th><th>Float64⍰</th><th>Float64⍰</th><th>Float64⍰</th><th>Int64⍰</th></tr></thead><tbody><p>5 rows × 4 columns</p><tr><th>1</th><td>151.765</td><td>47.8256</td><td>63.0</td><td>1</td></tr><tr><th>2</th><td>139.7</td><td>36.4858</td><td>63.0</td><td>0</td></tr><tr><th>3</th><td>136.525</td><td>31.8648</td><td>65.0</td><td>0</td></tr><tr><th>4</th><td>156.845</td><td>53.0419</td><td>41.0</td><td>1</td></tr><tr><th>5</th><td>145.415</td><td>41.2769</td><td>51.0</td><td>0</td></tr></tbody></table>"
      ]
     },
     "metadata": {},
     "execution_count": 4
    }
   ],
   "cell_type": "code",
   "source": [
    "howell1 = CSV.read(rel_path(\"..\", \"data\", \"Howell1.csv\"), delim=';')\n",
    "df = convert(DataFrame, howell1);\n",
    "df2 = filter(row -> row[:age] >= 18, df);\n",
    "first(df2, 5)"
   ],
   "metadata": {},
   "execution_count": 4
  },
  {
   "outputs": [],
   "cell_type": "markdown",
   "source": [
    "### Snippet 4.21"
   ],
   "metadata": {}
  },
  {
   "outputs": [],
   "cell_type": "markdown",
   "source": [
    "Sample 20 random heights"
   ],
   "metadata": {}
  },
  {
   "outputs": [],
   "cell_type": "code",
   "source": [
    "n = size(df2, 1)\n",
    "selected_ind = sample(1:n, 20, replace=false);\n",
    "df3 = df2[selected_ind, :];"
   ],
   "metadata": {},
   "execution_count": 5
  },
  {
   "outputs": [],
   "cell_type": "markdown",
   "source": [
    "### Snippet 4.22"
   ],
   "metadata": {}
  },
  {
   "outputs": [],
   "cell_type": "markdown",
   "source": [
    "Generate approximate probabilities"
   ],
   "metadata": {}
  },
  {
   "outputs": [
    {
     "output_type": "execute_result",
     "data": {
      "text/plain": "10×5 DataFrame\n│ Row │ mu      │ sigma   │ ll       │ prod     │ prob        │\n│     │ \u001b[90mFloat64\u001b[39m │ \u001b[90mFloat64\u001b[39m │ \u001b[90mFloat64\u001b[39m  │ \u001b[90mFloat64\u001b[39m  │ \u001b[90mFloat64\u001b[39m     │\n├─────┼─────────┼─────────┼──────────┼──────────┼─────────────┤\n│ 1   │ 140.0   │ 4.0     │ -232.698 │ -242.329 │ 1.71732e-72 │\n│ 2   │ 140.151 │ 4.0     │ -229.777 │ -239.394 │ 3.23189e-71 │\n│ 3   │ 140.302 │ 4.0     │ -226.885 │ -236.488 │ 5.91153e-70 │\n│ 4   │ 140.452 │ 4.0     │ -224.021 │ -233.61  │ 1.05095e-68 │\n│ 5   │ 140.603 │ 4.0     │ -221.186 │ -230.76  │ 1.81593e-67 │\n│ 6   │ 140.754 │ 4.0     │ -218.379 │ -227.939 │ 3.04969e-66 │\n│ 7   │ 140.905 │ 4.0     │ -215.6   │ -225.147 │ 4.97795e-65 │\n│ 8   │ 141.055 │ 4.0     │ -212.85  │ -222.383 │ 7.89737e-64 │\n│ 9   │ 141.206 │ 4.0     │ -210.128 │ -219.647 │ 1.21773e-62 │\n│ 10  │ 141.357 │ 4.0     │ -207.435 │ -216.94  │ 1.82499e-61 │",
      "text/html": [
       "<table class=\"data-frame\"><thead><tr><th></th><th>mu</th><th>sigma</th><th>ll</th><th>prod</th><th>prob</th></tr><tr><th></th><th>Float64</th><th>Float64</th><th>Float64</th><th>Float64</th><th>Float64</th></tr></thead><tbody><p>10 rows × 5 columns</p><tr><th>1</th><td>140.0</td><td>4.0</td><td>-232.698</td><td>-242.329</td><td>1.71732e-72</td></tr><tr><th>2</th><td>140.151</td><td>4.0</td><td>-229.777</td><td>-239.394</td><td>3.23189e-71</td></tr><tr><th>3</th><td>140.302</td><td>4.0</td><td>-226.885</td><td>-236.488</td><td>5.91153e-70</td></tr><tr><th>4</th><td>140.452</td><td>4.0</td><td>-224.021</td><td>-233.61</td><td>1.05095e-68</td></tr><tr><th>5</th><td>140.603</td><td>4.0</td><td>-221.186</td><td>-230.76</td><td>1.81593e-67</td></tr><tr><th>6</th><td>140.754</td><td>4.0</td><td>-218.379</td><td>-227.939</td><td>3.04969e-66</td></tr><tr><th>7</th><td>140.905</td><td>4.0</td><td>-215.6</td><td>-225.147</td><td>4.97795e-65</td></tr><tr><th>8</th><td>141.055</td><td>4.0</td><td>-212.85</td><td>-222.383</td><td>7.89737e-64</td></tr><tr><th>9</th><td>141.206</td><td>4.0</td><td>-210.128</td><td>-219.647</td><td>1.21773e-62</td></tr><tr><th>10</th><td>141.357</td><td>4.0</td><td>-207.435</td><td>-216.94</td><td>1.82499e-61</td></tr></tbody></table>"
      ]
     },
     "metadata": {},
     "execution_count": 6
    }
   ],
   "cell_type": "code",
   "source": [
    "struct Post\n",
    "  mu::Float64\n",
    "  sigma::Float64\n",
    "  ll:: Float64\n",
    "  prod::Float64\n",
    "  prob::Float64\n",
    "end\n",
    "\n",
    "mu_list = repeat(range(140, 170, length=200), 200);\n",
    "sigma_list = repeat(range(4, 20, length=200), inner=200);\n",
    "\n",
    "ll = zeros(40000);\n",
    "for i in 1:40000\n",
    "    d1 = Normal(mu_list[i], sigma_list[i])\n",
    "    ll[i] = sum(log.(pdf.(d1, df3[:height])))\n",
    "end\n",
    "\n",
    "d2 = Normal(178.0, 20.0)\n",
    "d3 = Uniform(0, 50)\n",
    "prod = ll + log.(pdf.(d2, mu_list)) + log.(pdf.(d3, sigma_list))\n",
    "prob = exp.(prod .- maximum(prod))\n",
    "post = DataFrame(mu=mu_list, sigma=sigma_list, ll=ll, prod=prod, prob=prob)\n",
    "first(post, 10)"
   ],
   "metadata": {},
   "execution_count": 6
  },
  {
   "outputs": [],
   "cell_type": "markdown",
   "source": [
    "Sample post"
   ],
   "metadata": {}
  },
  {
   "outputs": [
    {
     "output_type": "execute_result",
     "data": {
      "text/plain": "10000×5 DataFrame\n│ Row   │ mu      │ sigma   │ ll       │ prod     │ prob      │\n│       │ \u001b[90mFloat64\u001b[39m │ \u001b[90mFloat64\u001b[39m │ \u001b[90mFloat64\u001b[39m  │ \u001b[90mFloat64\u001b[39m  │ \u001b[90mFloat64\u001b[39m   │\n├───────┼─────────┼─────────┼──────────┼──────────┼───────────┤\n│ 1     │ 156.734 │ 7.45729 │ -68.8742 │ -77.2662 │ 0.833292  │\n│ 2     │ 157.035 │ 7.8593  │ -69.0243 │ -77.4004 │ 0.728637  │\n│ 3     │ 154.925 │ 7.37688 │ -68.7138 │ -77.206  │ 0.884971  │\n│ 4     │ 154.02  │ 8.34171 │ -69.1988 │ -77.7443 │ 0.516608  │\n│ 5     │ 155.528 │ 6.97487 │ -68.7364 │ -77.1943 │ 0.895401  │\n│ 6     │ 154.774 │ 6.41206 │ -69.3184 │ -77.8194 │ 0.479247  │\n│ 7     │ 154.623 │ 8.1005  │ -68.8892 │ -77.399  │ 0.729696  │\n⋮\n│ 9993  │ 158.693 │ 8.1005  │ -70.2344 │ -78.527  │ 0.236183  │\n│ 9994  │ 155.377 │ 6.09045 │ -69.6204 │ -78.0868 │ 0.366778  │\n│ 9995  │ 153.417 │ 10.191  │ -70.6488 │ -79.2308 │ 0.116833  │\n│ 9996  │ 155.226 │ 6.81407 │ -68.8452 │ -77.3202 │ 0.789496  │\n│ 9997  │ 158.392 │ 9.06533 │ -70.2484 │ -78.5557 │ 0.229506  │\n│ 9998  │ 152.814 │ 10.0302 │ -70.8141 │ -79.4337 │ 0.0953792 │\n│ 9999  │ 156.432 │ 6.49246 │ -69.2513 │ -77.6595 │ 0.562337  │\n│ 10000 │ 155.226 │ 8.74372 │ -69.086  │ -77.561  │ 0.620545  │",
      "text/html": [
       "<table class=\"data-frame\"><thead><tr><th></th><th>mu</th><th>sigma</th><th>ll</th><th>prod</th><th>prob</th></tr><tr><th></th><th>Float64</th><th>Float64</th><th>Float64</th><th>Float64</th><th>Float64</th></tr></thead><tbody><p>10,000 rows × 5 columns</p><tr><th>1</th><td>156.734</td><td>7.45729</td><td>-68.8742</td><td>-77.2662</td><td>0.833292</td></tr><tr><th>2</th><td>157.035</td><td>7.8593</td><td>-69.0243</td><td>-77.4004</td><td>0.728637</td></tr><tr><th>3</th><td>154.925</td><td>7.37688</td><td>-68.7138</td><td>-77.206</td><td>0.884971</td></tr><tr><th>4</th><td>154.02</td><td>8.34171</td><td>-69.1988</td><td>-77.7443</td><td>0.516608</td></tr><tr><th>5</th><td>155.528</td><td>6.97487</td><td>-68.7364</td><td>-77.1943</td><td>0.895401</td></tr><tr><th>6</th><td>154.774</td><td>6.41206</td><td>-69.3184</td><td>-77.8194</td><td>0.479247</td></tr><tr><th>7</th><td>154.623</td><td>8.1005</td><td>-68.8892</td><td>-77.399</td><td>0.729696</td></tr><tr><th>8</th><td>156.734</td><td>7.9397</td><td>-68.9129</td><td>-77.3049</td><td>0.80167</td></tr><tr><th>9</th><td>153.719</td><td>10.3518</td><td>-70.669</td><td>-79.2326</td><td>0.116625</td></tr><tr><th>10</th><td>155.98</td><td>6.41206</td><td>-69.2027</td><td>-77.6355</td><td>0.575977</td></tr><tr><th>11</th><td>154.925</td><td>7.37688</td><td>-68.7138</td><td>-77.206</td><td>0.884971</td></tr><tr><th>12</th><td>154.925</td><td>9.46734</td><td>-69.6305</td><td>-78.1228</td><td>0.353811</td></tr><tr><th>13</th><td>153.116</td><td>8.82412</td><td>-69.8966</td><td>-78.4973</td><td>0.243302</td></tr><tr><th>14</th><td>157.789</td><td>10.0302</td><td>-70.5446</td><td>-78.8819</td><td>0.165614</td></tr><tr><th>15</th><td>156.734</td><td>5.36683</td><td>-71.8926</td><td>-80.2846</td><td>0.0407303</td></tr><tr><th>16</th><td>157.035</td><td>9.38693</td><td>-69.7627</td><td>-78.1388</td><td>0.348203</td></tr><tr><th>17</th><td>156.583</td><td>7.05528</td><td>-68.9088</td><td>-77.3088</td><td>0.798509</td></tr><tr><th>18</th><td>157.186</td><td>9.30653</td><td>-69.7586</td><td>-78.1269</td><td>0.352385</td></tr><tr><th>19</th><td>154.925</td><td>5.28643</td><td>-71.8706</td><td>-80.3629</td><td>0.0376645</td></tr><tr><th>20</th><td>155.377</td><td>11.0754</td><td>-71.0417</td><td>-79.5081</td><td>0.0885417</td></tr><tr><th>21</th><td>155.829</td><td>6.09045</td><td>-69.6275</td><td>-78.0686</td><td>0.373532</td></tr><tr><th>22</th><td>158.995</td><td>9.94975</td><td>-71.1685</td><td>-79.4467</td><td>0.0941528</td></tr><tr><th>23</th><td>156.131</td><td>8.98492</td><td>-69.2648</td><td>-77.6893</td><td>0.545804</td></tr><tr><th>24</th><td>155.98</td><td>7.9397</td><td>-68.7257</td><td>-77.1585</td><td>0.928073</td></tr><tr><th>&vellip;</th><td>&vellip;</td><td>&vellip;</td><td>&vellip;</td><td>&vellip;</td><td>&vellip;</td></tr></tbody></table>"
      ]
     },
     "metadata": {},
     "execution_count": 7
    }
   ],
   "cell_type": "code",
   "source": [
    "samples = post[sample(1:size(post, 1), Weights(post[:prob]), 10000, replace=true), :]"
   ],
   "metadata": {},
   "execution_count": 7
  },
  {
   "outputs": [],
   "cell_type": "markdown",
   "source": [
    "### Snippet 4.23"
   ],
   "metadata": {}
  },
  {
   "outputs": [],
   "cell_type": "markdown",
   "source": [
    "Density of sigma"
   ],
   "metadata": {}
  },
  {
   "outputs": [
    {
     "output_type": "execute_result",
     "data": {
      "text/plain": "Plot{Plots.GRBackend() n=1}",
      "image/png": "[encoded data removed]",
      "text/html": [
       "<?xml version=\"1.0\" encoding=\"utf-8\"?>\n",
       "<svg xmlns=\"http://www.w3.org/2000/svg\" xmlns:xlink=\"http://www.w3.org/1999/xlink\" width=\"500\" height=\"500\" viewBox=\"0 0 2000 2000\">\n",
       "<defs>\n",
       "  <clipPath id=\"clip8200\">\n",
       "    <rect x=\"0\" y=\"0\" width=\"2000\" height=\"2000\"/>\n",
       "  </clipPath>\n",
       "</defs>\n",
       "<polygon clip-path=\"url(#clip8200)\" points=\"\n",
       "0,2000 2000,2000 2000,0 0,0 \n",
       "  \" fill=\"#ffffff\" fill-rule=\"evenodd\" fill-opacity=\"1\"/>\n",
       "<defs>\n",
       "  <clipPath id=\"clip8201\">\n",
       "    <rect x=\"400\" y=\"200\" width=\"1401\" height=\"1401\"/>\n",
       "  </clipPath>\n",
       "</defs>\n",
       "<polygon clip-path=\"url(#clip8200)\" points=\"\n",
       "161.394,1886.71 1921.26,1886.71 1921.26,47.2441 161.394,47.2441 \n",
       "  \" fill=\"#ffffff\" fill-rule=\"evenodd\" fill-opacity=\"1\"/>\n",
       "<defs>\n",
       "  <clipPath id=\"clip8202\">\n",
       "    <rect x=\"161\" y=\"47\" width=\"1761\" height=\"1840\"/>\n",
       "  </clipPath>\n",
       "</defs>\n",
       "<polyline clip-path=\"url(#clip8202)\" style=\"stroke:#000000; stroke-width:2; stroke-opacity:0.1; fill:none\" points=\"\n",
       "  427.287,1886.71 427.287,47.2441 \n",
       "  \"/>\n",
       "<polyline clip-path=\"url(#clip8202)\" style=\"stroke:#000000; stroke-width:2; stroke-opacity:0.1; fill:none\" points=\"\n",
       "  776.413,1886.71 776.413,47.2441 \n",
       "  \"/>\n",
       "<polyline clip-path=\"url(#clip8202)\" style=\"stroke:#000000; stroke-width:2; stroke-opacity:0.1; fill:none\" points=\"\n",
       "  1125.54,1886.71 1125.54,47.2441 \n",
       "  \"/>\n",
       "<polyline clip-path=\"url(#clip8202)\" style=\"stroke:#000000; stroke-width:2; stroke-opacity:0.1; fill:none\" points=\"\n",
       "  1474.66,1886.71 1474.66,47.2441 \n",
       "  \"/>\n",
       "<polyline clip-path=\"url(#clip8202)\" style=\"stroke:#000000; stroke-width:2; stroke-opacity:0.1; fill:none\" points=\"\n",
       "  1823.79,1886.71 1823.79,47.2441 \n",
       "  \"/>\n",
       "<polyline clip-path=\"url(#clip8202)\" style=\"stroke:#000000; stroke-width:2; stroke-opacity:0.1; fill:none\" points=\"\n",
       "  161.394,1834.65 1921.26,1834.65 \n",
       "  \"/>\n",
       "<polyline clip-path=\"url(#clip8202)\" style=\"stroke:#000000; stroke-width:2; stroke-opacity:0.1; fill:none\" points=\"\n",
       "  161.394,1253.72 1921.26,1253.72 \n",
       "  \"/>\n",
       "<polyline clip-path=\"url(#clip8202)\" style=\"stroke:#000000; stroke-width:2; stroke-opacity:0.1; fill:none\" points=\"\n",
       "  161.394,672.786 1921.26,672.786 \n",
       "  \"/>\n",
       "<polyline clip-path=\"url(#clip8202)\" style=\"stroke:#000000; stroke-width:2; stroke-opacity:0.1; fill:none\" points=\"\n",
       "  161.394,91.8552 1921.26,91.8552 \n",
       "  \"/>\n",
       "<polyline clip-path=\"url(#clip8200)\" style=\"stroke:#000000; stroke-width:4; stroke-opacity:1; fill:none\" points=\"\n",
       "  161.394,1886.71 1921.26,1886.71 \n",
       "  \"/>\n",
       "<polyline clip-path=\"url(#clip8200)\" style=\"stroke:#000000; stroke-width:4; stroke-opacity:1; fill:none\" points=\"\n",
       "  161.394,1886.71 161.394,47.2441 \n",
       "  \"/>\n",
       "<polyline clip-path=\"url(#clip8200)\" style=\"stroke:#000000; stroke-width:4; stroke-opacity:1; fill:none\" points=\"\n",
       "  427.287,1886.71 427.287,1859.12 \n",
       "  \"/>\n",
       "<polyline clip-path=\"url(#clip8200)\" style=\"stroke:#000000; stroke-width:4; stroke-opacity:1; fill:none\" points=\"\n",
       "  776.413,1886.71 776.413,1859.12 \n",
       "  \"/>\n",
       "<polyline clip-path=\"url(#clip8200)\" style=\"stroke:#000000; stroke-width:4; stroke-opacity:1; fill:none\" points=\"\n",
       "  1125.54,1886.71 1125.54,1859.12 \n",
       "  \"/>\n",
       "<polyline clip-path=\"url(#clip8200)\" style=\"stroke:#000000; stroke-width:4; stroke-opacity:1; fill:none\" points=\"\n",
       "  1474.66,1886.71 1474.66,1859.12 \n",
       "  \"/>\n",
       "<polyline clip-path=\"url(#clip8200)\" style=\"stroke:#000000; stroke-width:4; stroke-opacity:1; fill:none\" points=\"\n",
       "  1823.79,1886.71 1823.79,1859.12 \n",
       "  \"/>\n",
       "<polyline clip-path=\"url(#clip8200)\" style=\"stroke:#000000; stroke-width:4; stroke-opacity:1; fill:none\" points=\"\n",
       "  161.394,1834.65 187.792,1834.65 \n",
       "  \"/>\n",
       "<polyline clip-path=\"url(#clip8200)\" style=\"stroke:#000000; stroke-width:4; stroke-opacity:1; fill:none\" points=\"\n",
       "  161.394,1253.72 187.792,1253.72 \n",
       "  \"/>\n",
       "<polyline clip-path=\"url(#clip8200)\" style=\"stroke:#000000; stroke-width:4; stroke-opacity:1; fill:none\" points=\"\n",
       "  161.394,672.786 187.792,672.786 \n",
       "  \"/>\n",
       "<polyline clip-path=\"url(#clip8200)\" style=\"stroke:#000000; stroke-width:4; stroke-opacity:1; fill:none\" points=\"\n",
       "  161.394,91.8552 187.792,91.8552 \n",
       "  \"/>\n",
       "<g clip-path=\"url(#clip8200)\">\n",
       "<text style=\"fill:#000000; fill-opacity:1; font-family:Arial,Helvetica Neue,Helvetica,sans-serif; font-size:48px; text-anchor:middle;\" transform=\"rotate(0, 427.287, 1938.71)\" x=\"427.287\" y=\"1938.71\">6</text>\n",
       "</g>\n",
       "<g clip-path=\"url(#clip8200)\">\n",
       "<text style=\"fill:#000000; fill-opacity:1; font-family:Arial,Helvetica Neue,Helvetica,sans-serif; font-size:48px; text-anchor:middle;\" transform=\"rotate(0, 776.413, 1938.71)\" x=\"776.413\" y=\"1938.71\">9</text>\n",
       "</g>\n",
       "<g clip-path=\"url(#clip8200)\">\n",
       "<text style=\"fill:#000000; fill-opacity:1; font-family:Arial,Helvetica Neue,Helvetica,sans-serif; font-size:48px; text-anchor:middle;\" transform=\"rotate(0, 1125.54, 1938.71)\" x=\"1125.54\" y=\"1938.71\">12</text>\n",
       "</g>\n",
       "<g clip-path=\"url(#clip8200)\">\n",
       "<text style=\"fill:#000000; fill-opacity:1; font-family:Arial,Helvetica Neue,Helvetica,sans-serif; font-size:48px; text-anchor:middle;\" transform=\"rotate(0, 1474.66, 1938.71)\" x=\"1474.66\" y=\"1938.71\">15</text>\n",
       "</g>\n",
       "<g clip-path=\"url(#clip8200)\">\n",
       "<text style=\"fill:#000000; fill-opacity:1; font-family:Arial,Helvetica Neue,Helvetica,sans-serif; font-size:48px; text-anchor:middle;\" transform=\"rotate(0, 1823.79, 1938.71)\" x=\"1823.79\" y=\"1938.71\">18</text>\n",
       "</g>\n",
       "<g clip-path=\"url(#clip8200)\">\n",
       "<text style=\"fill:#000000; fill-opacity:1; font-family:Arial,Helvetica Neue,Helvetica,sans-serif; font-size:48px; text-anchor:end;\" transform=\"rotate(0, 141.394, 1852.15)\" x=\"141.394\" y=\"1852.15\">0.0</text>\n",
       "</g>\n",
       "<g clip-path=\"url(#clip8200)\">\n",
       "<text style=\"fill:#000000; fill-opacity:1; font-family:Arial,Helvetica Neue,Helvetica,sans-serif; font-size:48px; text-anchor:end;\" transform=\"rotate(0, 141.394, 1271.22)\" x=\"141.394\" y=\"1271.22\">0.1</text>\n",
       "</g>\n",
       "<g clip-path=\"url(#clip8200)\">\n",
       "<text style=\"fill:#000000; fill-opacity:1; font-family:Arial,Helvetica Neue,Helvetica,sans-serif; font-size:48px; text-anchor:end;\" transform=\"rotate(0, 141.394, 690.286)\" x=\"141.394\" y=\"690.286\">0.2</text>\n",
       "</g>\n",
       "<g clip-path=\"url(#clip8200)\">\n",
       "<text style=\"fill:#000000; fill-opacity:1; font-family:Arial,Helvetica Neue,Helvetica,sans-serif; font-size:48px; text-anchor:end;\" transform=\"rotate(0, 141.394, 109.355)\" x=\"141.394\" y=\"109.355\">0.3</text>\n",
       "</g>\n",
       "<polyline clip-path=\"url(#clip8202)\" style=\"stroke:#009af9; stroke-width:4; stroke-opacity:1; fill:none\" points=\"\n",
       "  211.202,1834.65 219.545,1834.65 227.887,1834.64 236.23,1834.61 244.573,1834.54 252.916,1834.38 261.259,1834.01 269.602,1833.29 277.945,1831.97 286.288,1829.77 \n",
       "  294.631,1826.35 302.974,1821.35 311.317,1814.38 319.66,1805.02 328.003,1792.93 336.346,1777.82 344.689,1759.58 353.032,1738.21 361.375,1713.79 369.718,1686.34 \n",
       "  378.061,1655.73 386.404,1621.63 394.747,1583.47 403.09,1540.46 411.433,1491.87 419.776,1437.43 428.119,1377.58 436.462,1313.33 444.805,1245.72 453.148,1175.12 \n",
       "  461.491,1101.03 469.834,1022.68 478.177,940.056 486.52,854.84 494.862,770.517 503.205,691.321 511.548,620.576 519.891,559.298 528.234,505.821 536.577,456.556 \n",
       "  544.92,407.544 553.263,356.198 561.606,302.63 569.949,249.865 578.292,202.587 586.635,164.874 594.978,138.209 603.321,121.07 611.664,110.307 620.007,103.282 \n",
       "  628.35,99.3044 636.693,99.6054 645.036,106.176 653.379,120.425 661.722,142.465 670.065,171.253 678.408,205.261 686.751,243.099 695.094,283.737 703.437,326.377 \n",
       "  711.78,370.313 720.123,414.969 728.466,459.982 736.809,505.067 745.152,549.728 753.495,593.114 761.837,634.234 770.18,672.336 778.523,707.181 786.866,739.157 \n",
       "  795.209,769.311 803.552,799.27 811.895,830.908 820.238,865.725 828.581,904.233 836.924,945.7 845.267,988.51 853.61,1031.02 861.953,1072.47 870.296,1113.44 \n",
       "  878.639,1155.28 886.982,1199.05 895.325,1244.31 903.668,1289.04 912.011,1330.41 920.354,1366.17 928.697,1395.48 937.04,1418.98 945.383,1438.12 953.726,1454.41 \n",
       "  962.069,1469.02 970.412,1482.69 978.755,1495.96 987.098,1509.36 995.441,1523.58 1003.78,1539.38 1012.13,1557.29 1020.47,1577.28 1028.81,1598.6 1037.16,1619.92 \n",
       "  1045.5,1639.69 1053.84,1656.63 1062.18,1670.03 1070.53,1679.86 1078.87,1686.66 1087.21,1691.34 1095.56,1694.97 1103.9,1698.63 1112.24,1703.24 1120.59,1709.39 \n",
       "  1128.93,1717.19 1137.27,1726.25 1145.61,1735.76 1153.96,1744.75 1162.3,1752.39 1170.64,1758.24 1178.99,1762.38 1187.33,1765.31 1195.67,1767.86 1204.01,1770.83 \n",
       "  1212.36,1774.79 1220.7,1779.88 1229.04,1785.75 1237.39,1791.73 1245.73,1797.03 1254.07,1801.1 1262.42,1803.74 1270.76,1805.17 1279.1,1805.83 1287.44,1806.18 \n",
       "  1295.79,1806.57 1304.13,1807.19 1312.47,1808.2 1320.82,1809.75 1329.16,1811.9 1337.5,1814.57 1345.85,1817.45 1354.19,1820.06 1362.53,1822.01 1370.87,1823.13 \n",
       "  1379.22,1823.62 1387.56,1823.83 1395.9,1824.12 1404.25,1824.66 1412.59,1825.4 1420.93,1826.15 1429.27,1826.73 1437.62,1827.06 1445.96,1827.17 1454.3,1827.17 \n",
       "  1462.65,1827.15 1470.99,1827.22 1479.33,1827.42 1487.68,1827.79 1496.02,1828.32 1504.36,1828.91 1512.7,1829.43 1521.05,1829.73 1529.39,1829.8 1537.73,1829.74 \n",
       "  1546.08,1829.67 1554.42,1829.7 1562.76,1829.81 1571.11,1829.88 1579.45,1829.82 1587.79,1829.61 1596.13,1829.36 1604.48,1829.26 1612.82,1829.46 1621.16,1829.99 \n",
       "  1629.51,1830.76 1637.85,1831.6 1646.19,1832.34 1654.54,1832.86 1662.88,1833.16 1671.22,1833.3 1679.56,1833.38 1687.91,1833.5 1696.25,1833.68 1704.59,1833.9 \n",
       "  1712.94,1834.11 1721.28,1834.25 1729.62,1834.3 1737.96,1834.24 1746.31,1834.08 1754.65,1833.88 1762.99,1833.68 1771.34,1833.55 1779.68,1833.55 1788.02,1833.67 \n",
       "  1796.37,1833.87 1804.71,1834.1 1813.05,1834.31 1821.39,1834.46 1829.74,1834.55 1838.08,1834.61 1846.42,1834.63 1854.77,1834.64 1863.11,1834.65 1871.45,1834.65 \n",
       "  \n",
       "  \"/>\n",
       "<polygon clip-path=\"url(#clip8200)\" points=\"\n",
       "1610.43,227.724 1861.26,227.724 1861.26,106.764 1610.43,106.764 \n",
       "  \" fill=\"#ffffff\" fill-rule=\"evenodd\" fill-opacity=\"1\"/>\n",
       "<polyline clip-path=\"url(#clip8200)\" style=\"stroke:#000000; stroke-width:4; stroke-opacity:1; fill:none\" points=\"\n",
       "  1610.43,227.724 1861.26,227.724 1861.26,106.764 1610.43,106.764 1610.43,227.724 \n",
       "  \"/>\n",
       "<polyline clip-path=\"url(#clip8200)\" style=\"stroke:#009af9; stroke-width:4; stroke-opacity:1; fill:none\" points=\"\n",
       "  1630.43,167.244 1750.43,167.244 \n",
       "  \"/>\n",
       "<g clip-path=\"url(#clip8200)\">\n",
       "<text style=\"fill:#000000; fill-opacity:1; font-family:Arial,Helvetica Neue,Helvetica,sans-serif; font-size:48px; text-anchor:start;\" transform=\"rotate(0, 1770.43, 184.744)\" x=\"1770.43\" y=\"184.744\">y1</text>\n",
       "</g>\n",
       "</svg>\n"
      ],
      "image/svg+xml": [
       "<?xml version=\"1.0\" encoding=\"utf-8\"?>\n",
       "<svg xmlns=\"http://www.w3.org/2000/svg\" xmlns:xlink=\"http://www.w3.org/1999/xlink\" width=\"500\" height=\"500\" viewBox=\"0 0 2000 2000\">\n",
       "<defs>\n",
       "  <clipPath id=\"clip8100\">\n",
       "    <rect x=\"0\" y=\"0\" width=\"2000\" height=\"2000\"/>\n",
       "  </clipPath>\n",
       "</defs>\n",
       "<polygon clip-path=\"url(#clip8100)\" points=\"\n",
       "0,2000 2000,2000 2000,0 0,0 \n",
       "  \" fill=\"#ffffff\" fill-rule=\"evenodd\" fill-opacity=\"1\"/>\n",
       "<defs>\n",
       "  <clipPath id=\"clip8101\">\n",
       "    <rect x=\"400\" y=\"200\" width=\"1401\" height=\"1401\"/>\n",
       "  </clipPath>\n",
       "</defs>\n",
       "<polygon clip-path=\"url(#clip8100)\" points=\"\n",
       "161.394,1886.71 1921.26,1886.71 1921.26,47.2441 161.394,47.2441 \n",
       "  \" fill=\"#ffffff\" fill-rule=\"evenodd\" fill-opacity=\"1\"/>\n",
       "<defs>\n",
       "  <clipPath id=\"clip8102\">\n",
       "    <rect x=\"161\" y=\"47\" width=\"1761\" height=\"1840\"/>\n",
       "  </clipPath>\n",
       "</defs>\n",
       "<polyline clip-path=\"url(#clip8102)\" style=\"stroke:#000000; stroke-width:2; stroke-opacity:0.1; fill:none\" points=\"\n",
       "  427.287,1886.71 427.287,47.2441 \n",
       "  \"/>\n",
       "<polyline clip-path=\"url(#clip8102)\" style=\"stroke:#000000; stroke-width:2; stroke-opacity:0.1; fill:none\" points=\"\n",
       "  776.413,1886.71 776.413,47.2441 \n",
       "  \"/>\n",
       "<polyline clip-path=\"url(#clip8102)\" style=\"stroke:#000000; stroke-width:2; stroke-opacity:0.1; fill:none\" points=\"\n",
       "  1125.54,1886.71 1125.54,47.2441 \n",
       "  \"/>\n",
       "<polyline clip-path=\"url(#clip8102)\" style=\"stroke:#000000; stroke-width:2; stroke-opacity:0.1; fill:none\" points=\"\n",
       "  1474.66,1886.71 1474.66,47.2441 \n",
       "  \"/>\n",
       "<polyline clip-path=\"url(#clip8102)\" style=\"stroke:#000000; stroke-width:2; stroke-opacity:0.1; fill:none\" points=\"\n",
       "  1823.79,1886.71 1823.79,47.2441 \n",
       "  \"/>\n",
       "<polyline clip-path=\"url(#clip8102)\" style=\"stroke:#000000; stroke-width:2; stroke-opacity:0.1; fill:none\" points=\"\n",
       "  161.394,1834.65 1921.26,1834.65 \n",
       "  \"/>\n",
       "<polyline clip-path=\"url(#clip8102)\" style=\"stroke:#000000; stroke-width:2; stroke-opacity:0.1; fill:none\" points=\"\n",
       "  161.394,1253.72 1921.26,1253.72 \n",
       "  \"/>\n",
       "<polyline clip-path=\"url(#clip8102)\" style=\"stroke:#000000; stroke-width:2; stroke-opacity:0.1; fill:none\" points=\"\n",
       "  161.394,672.786 1921.26,672.786 \n",
       "  \"/>\n",
       "<polyline clip-path=\"url(#clip8102)\" style=\"stroke:#000000; stroke-width:2; stroke-opacity:0.1; fill:none\" points=\"\n",
       "  161.394,91.8552 1921.26,91.8552 \n",
       "  \"/>\n",
       "<polyline clip-path=\"url(#clip8100)\" style=\"stroke:#000000; stroke-width:4; stroke-opacity:1; fill:none\" points=\"\n",
       "  161.394,1886.71 1921.26,1886.71 \n",
       "  \"/>\n",
       "<polyline clip-path=\"url(#clip8100)\" style=\"stroke:#000000; stroke-width:4; stroke-opacity:1; fill:none\" points=\"\n",
       "  161.394,1886.71 161.394,47.2441 \n",
       "  \"/>\n",
       "<polyline clip-path=\"url(#clip8100)\" style=\"stroke:#000000; stroke-width:4; stroke-opacity:1; fill:none\" points=\"\n",
       "  427.287,1886.71 427.287,1859.12 \n",
       "  \"/>\n",
       "<polyline clip-path=\"url(#clip8100)\" style=\"stroke:#000000; stroke-width:4; stroke-opacity:1; fill:none\" points=\"\n",
       "  776.413,1886.71 776.413,1859.12 \n",
       "  \"/>\n",
       "<polyline clip-path=\"url(#clip8100)\" style=\"stroke:#000000; stroke-width:4; stroke-opacity:1; fill:none\" points=\"\n",
       "  1125.54,1886.71 1125.54,1859.12 \n",
       "  \"/>\n",
       "<polyline clip-path=\"url(#clip8100)\" style=\"stroke:#000000; stroke-width:4; stroke-opacity:1; fill:none\" points=\"\n",
       "  1474.66,1886.71 1474.66,1859.12 \n",
       "  \"/>\n",
       "<polyline clip-path=\"url(#clip8100)\" style=\"stroke:#000000; stroke-width:4; stroke-opacity:1; fill:none\" points=\"\n",
       "  1823.79,1886.71 1823.79,1859.12 \n",
       "  \"/>\n",
       "<polyline clip-path=\"url(#clip8100)\" style=\"stroke:#000000; stroke-width:4; stroke-opacity:1; fill:none\" points=\"\n",
       "  161.394,1834.65 187.792,1834.65 \n",
       "  \"/>\n",
       "<polyline clip-path=\"url(#clip8100)\" style=\"stroke:#000000; stroke-width:4; stroke-opacity:1; fill:none\" points=\"\n",
       "  161.394,1253.72 187.792,1253.72 \n",
       "  \"/>\n",
       "<polyline clip-path=\"url(#clip8100)\" style=\"stroke:#000000; stroke-width:4; stroke-opacity:1; fill:none\" points=\"\n",
       "  161.394,672.786 187.792,672.786 \n",
       "  \"/>\n",
       "<polyline clip-path=\"url(#clip8100)\" style=\"stroke:#000000; stroke-width:4; stroke-opacity:1; fill:none\" points=\"\n",
       "  161.394,91.8552 187.792,91.8552 \n",
       "  \"/>\n",
       "<g clip-path=\"url(#clip8100)\">\n",
       "<text style=\"fill:#000000; fill-opacity:1; font-family:Arial,Helvetica Neue,Helvetica,sans-serif; font-size:48px; text-anchor:middle;\" transform=\"rotate(0, 427.287, 1938.71)\" x=\"427.287\" y=\"1938.71\">6</text>\n",
       "</g>\n",
       "<g clip-path=\"url(#clip8100)\">\n",
       "<text style=\"fill:#000000; fill-opacity:1; font-family:Arial,Helvetica Neue,Helvetica,sans-serif; font-size:48px; text-anchor:middle;\" transform=\"rotate(0, 776.413, 1938.71)\" x=\"776.413\" y=\"1938.71\">9</text>\n",
       "</g>\n",
       "<g clip-path=\"url(#clip8100)\">\n",
       "<text style=\"fill:#000000; fill-opacity:1; font-family:Arial,Helvetica Neue,Helvetica,sans-serif; font-size:48px; text-anchor:middle;\" transform=\"rotate(0, 1125.54, 1938.71)\" x=\"1125.54\" y=\"1938.71\">12</text>\n",
       "</g>\n",
       "<g clip-path=\"url(#clip8100)\">\n",
       "<text style=\"fill:#000000; fill-opacity:1; font-family:Arial,Helvetica Neue,Helvetica,sans-serif; font-size:48px; text-anchor:middle;\" transform=\"rotate(0, 1474.66, 1938.71)\" x=\"1474.66\" y=\"1938.71\">15</text>\n",
       "</g>\n",
       "<g clip-path=\"url(#clip8100)\">\n",
       "<text style=\"fill:#000000; fill-opacity:1; font-family:Arial,Helvetica Neue,Helvetica,sans-serif; font-size:48px; text-anchor:middle;\" transform=\"rotate(0, 1823.79, 1938.71)\" x=\"1823.79\" y=\"1938.71\">18</text>\n",
       "</g>\n",
       "<g clip-path=\"url(#clip8100)\">\n",
       "<text style=\"fill:#000000; fill-opacity:1; font-family:Arial,Helvetica Neue,Helvetica,sans-serif; font-size:48px; text-anchor:end;\" transform=\"rotate(0, 141.394, 1852.15)\" x=\"141.394\" y=\"1852.15\">0.0</text>\n",
       "</g>\n",
       "<g clip-path=\"url(#clip8100)\">\n",
       "<text style=\"fill:#000000; fill-opacity:1; font-family:Arial,Helvetica Neue,Helvetica,sans-serif; font-size:48px; text-anchor:end;\" transform=\"rotate(0, 141.394, 1271.22)\" x=\"141.394\" y=\"1271.22\">0.1</text>\n",
       "</g>\n",
       "<g clip-path=\"url(#clip8100)\">\n",
       "<text style=\"fill:#000000; fill-opacity:1; font-family:Arial,Helvetica Neue,Helvetica,sans-serif; font-size:48px; text-anchor:end;\" transform=\"rotate(0, 141.394, 690.286)\" x=\"141.394\" y=\"690.286\">0.2</text>\n",
       "</g>\n",
       "<g clip-path=\"url(#clip8100)\">\n",
       "<text style=\"fill:#000000; fill-opacity:1; font-family:Arial,Helvetica Neue,Helvetica,sans-serif; font-size:48px; text-anchor:end;\" transform=\"rotate(0, 141.394, 109.355)\" x=\"141.394\" y=\"109.355\">0.3</text>\n",
       "</g>\n",
       "<polyline clip-path=\"url(#clip8102)\" style=\"stroke:#009af9; stroke-width:4; stroke-opacity:1; fill:none\" points=\"\n",
       "  211.202,1834.65 219.545,1834.65 227.887,1834.64 236.23,1834.61 244.573,1834.54 252.916,1834.38 261.259,1834.01 269.602,1833.29 277.945,1831.97 286.288,1829.77 \n",
       "  294.631,1826.35 302.974,1821.35 311.317,1814.38 319.66,1805.02 328.003,1792.93 336.346,1777.82 344.689,1759.58 353.032,1738.21 361.375,1713.79 369.718,1686.34 \n",
       "  378.061,1655.73 386.404,1621.63 394.747,1583.47 403.09,1540.46 411.433,1491.87 419.776,1437.43 428.119,1377.58 436.462,1313.33 444.805,1245.72 453.148,1175.12 \n",
       "  461.491,1101.03 469.834,1022.68 478.177,940.056 486.52,854.84 494.862,770.517 503.205,691.321 511.548,620.576 519.891,559.298 528.234,505.821 536.577,456.556 \n",
       "  544.92,407.544 553.263,356.198 561.606,302.63 569.949,249.865 578.292,202.587 586.635,164.874 594.978,138.209 603.321,121.07 611.664,110.307 620.007,103.282 \n",
       "  628.35,99.3044 636.693,99.6054 645.036,106.176 653.379,120.425 661.722,142.465 670.065,171.253 678.408,205.261 686.751,243.099 695.094,283.737 703.437,326.377 \n",
       "  711.78,370.313 720.123,414.969 728.466,459.982 736.809,505.067 745.152,549.728 753.495,593.114 761.837,634.234 770.18,672.336 778.523,707.181 786.866,739.157 \n",
       "  795.209,769.311 803.552,799.27 811.895,830.908 820.238,865.725 828.581,904.233 836.924,945.7 845.267,988.51 853.61,1031.02 861.953,1072.47 870.296,1113.44 \n",
       "  878.639,1155.28 886.982,1199.05 895.325,1244.31 903.668,1289.04 912.011,1330.41 920.354,1366.17 928.697,1395.48 937.04,1418.98 945.383,1438.12 953.726,1454.41 \n",
       "  962.069,1469.02 970.412,1482.69 978.755,1495.96 987.098,1509.36 995.441,1523.58 1003.78,1539.38 1012.13,1557.29 1020.47,1577.28 1028.81,1598.6 1037.16,1619.92 \n",
       "  1045.5,1639.69 1053.84,1656.63 1062.18,1670.03 1070.53,1679.86 1078.87,1686.66 1087.21,1691.34 1095.56,1694.97 1103.9,1698.63 1112.24,1703.24 1120.59,1709.39 \n",
       "  1128.93,1717.19 1137.27,1726.25 1145.61,1735.76 1153.96,1744.75 1162.3,1752.39 1170.64,1758.24 1178.99,1762.38 1187.33,1765.31 1195.67,1767.86 1204.01,1770.83 \n",
       "  1212.36,1774.79 1220.7,1779.88 1229.04,1785.75 1237.39,1791.73 1245.73,1797.03 1254.07,1801.1 1262.42,1803.74 1270.76,1805.17 1279.1,1805.83 1287.44,1806.18 \n",
       "  1295.79,1806.57 1304.13,1807.19 1312.47,1808.2 1320.82,1809.75 1329.16,1811.9 1337.5,1814.57 1345.85,1817.45 1354.19,1820.06 1362.53,1822.01 1370.87,1823.13 \n",
       "  1379.22,1823.62 1387.56,1823.83 1395.9,1824.12 1404.25,1824.66 1412.59,1825.4 1420.93,1826.15 1429.27,1826.73 1437.62,1827.06 1445.96,1827.17 1454.3,1827.17 \n",
       "  1462.65,1827.15 1470.99,1827.22 1479.33,1827.42 1487.68,1827.79 1496.02,1828.32 1504.36,1828.91 1512.7,1829.43 1521.05,1829.73 1529.39,1829.8 1537.73,1829.74 \n",
       "  1546.08,1829.67 1554.42,1829.7 1562.76,1829.81 1571.11,1829.88 1579.45,1829.82 1587.79,1829.61 1596.13,1829.36 1604.48,1829.26 1612.82,1829.46 1621.16,1829.99 \n",
       "  1629.51,1830.76 1637.85,1831.6 1646.19,1832.34 1654.54,1832.86 1662.88,1833.16 1671.22,1833.3 1679.56,1833.38 1687.91,1833.5 1696.25,1833.68 1704.59,1833.9 \n",
       "  1712.94,1834.11 1721.28,1834.25 1729.62,1834.3 1737.96,1834.24 1746.31,1834.08 1754.65,1833.88 1762.99,1833.68 1771.34,1833.55 1779.68,1833.55 1788.02,1833.67 \n",
       "  1796.37,1833.87 1804.71,1834.1 1813.05,1834.31 1821.39,1834.46 1829.74,1834.55 1838.08,1834.61 1846.42,1834.63 1854.77,1834.64 1863.11,1834.65 1871.45,1834.65 \n",
       "  \n",
       "  \"/>\n",
       "<polygon clip-path=\"url(#clip8100)\" points=\"\n",
       "1610.43,227.724 1861.26,227.724 1861.26,106.764 1610.43,106.764 \n",
       "  \" fill=\"#ffffff\" fill-rule=\"evenodd\" fill-opacity=\"1\"/>\n",
       "<polyline clip-path=\"url(#clip8100)\" style=\"stroke:#000000; stroke-width:4; stroke-opacity:1; fill:none\" points=\"\n",
       "  1610.43,227.724 1861.26,227.724 1861.26,106.764 1610.43,106.764 1610.43,227.724 \n",
       "  \"/>\n",
       "<polyline clip-path=\"url(#clip8100)\" style=\"stroke:#009af9; stroke-width:4; stroke-opacity:1; fill:none\" points=\"\n",
       "  1630.43,167.244 1750.43,167.244 \n",
       "  \"/>\n",
       "<g clip-path=\"url(#clip8100)\">\n",
       "<text style=\"fill:#000000; fill-opacity:1; font-family:Arial,Helvetica Neue,Helvetica,sans-serif; font-size:48px; text-anchor:start;\" transform=\"rotate(0, 1770.43, 184.744)\" x=\"1770.43\" y=\"184.744\">y1</text>\n",
       "</g>\n",
       "</svg>\n"
      ]
     },
     "metadata": {},
     "execution_count": 8
    }
   ],
   "cell_type": "code",
   "source": [
    "density(samples[:sigma])"
   ],
   "metadata": {},
   "execution_count": 8
  },
  {
   "outputs": [],
   "cell_type": "markdown",
   "source": [
    "End of `clip-21-23.jl`"
   ],
   "metadata": {}
  },
  {
   "outputs": [],
   "cell_type": "markdown",
   "source": [
    "*This notebook was generated using [Literate.jl](https://github.com/fredrikekre/Literate.jl).*"
   ],
   "metadata": {}
  }
 ],
 "nbformat_minor": 3,
 "metadata": {
  "language_info": {
   "file_extension": ".jl",
   "mimetype": "application/julia",
   "name": "julia",
   "version": "1.2.0-DEV.219"
  },
  "kernelspec": {
   "name": "julia-1.2",
   "display_name": "Julia 1.2.0-DEV.219",
   "language": "julia"
  }
 },
 "nbformat": 4
}
