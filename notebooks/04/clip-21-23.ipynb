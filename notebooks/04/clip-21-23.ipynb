{
 "cells": [
  {
   "outputs": [],
   "cell_type": "markdown",
   "source": [
    "Load Julia packages (libraries) needed  for the snippets in chapter 0"
   ],
   "metadata": {}
  },
  {
   "outputs": [],
   "cell_type": "code",
   "source": [
    "using StatisticalRethinking, CmdStan, StanMCMCChains\n",
    "gr(size=(500,500));"
   ],
   "metadata": {},
   "execution_count": 1
  },
  {
   "outputs": [],
   "cell_type": "markdown",
   "source": [
    "CmdStan uses a tmp directory to store the output of cmdstan"
   ],
   "metadata": {}
  },
  {
   "outputs": [],
   "cell_type": "code",
   "source": [
    "ProjDir = rel_path(\"..\", \"scripts\", \"04\")\n",
    "cd(ProjDir)"
   ],
   "metadata": {},
   "execution_count": 2
  },
  {
   "outputs": [],
   "cell_type": "markdown",
   "source": [
    "CmdStan uses a tmp directory to store the output of cmdstan"
   ],
   "metadata": {}
  },
  {
   "outputs": [],
   "cell_type": "code",
   "source": [
    "ProjDir = rel_path(\"..\", \"scripts\", \"04\")\n",
    "cd(ProjDir)"
   ],
   "metadata": {},
   "execution_count": 3
  },
  {
   "outputs": [
    {
     "output_type": "execute_result",
     "data": {
      "text/plain": "5×4 DataFrame\n│ Row │ height   │ weight   │ age      │ male   │\n│     │ \u001b[90mFloat64⍰\u001b[39m │ \u001b[90mFloat64⍰\u001b[39m │ \u001b[90mFloat64⍰\u001b[39m │ \u001b[90mInt64⍰\u001b[39m │\n├─────┼──────────┼──────────┼──────────┼────────┤\n│ 1   │ 151.765  │ 47.8256  │ 63.0     │ 1      │\n│ 2   │ 139.7    │ 36.4858  │ 63.0     │ 0      │\n│ 3   │ 136.525  │ 31.8648  │ 65.0     │ 0      │\n│ 4   │ 156.845  │ 53.0419  │ 41.0     │ 1      │\n│ 5   │ 145.415  │ 41.2769  │ 51.0     │ 0      │",
      "text/html": [
       "<table class=\"data-frame\"><thead><tr><th></th><th>height</th><th>weight</th><th>age</th><th>male</th></tr><tr><th></th><th>Float64⍰</th><th>Float64⍰</th><th>Float64⍰</th><th>Int64⍰</th></tr></thead><tbody><p>5 rows × 4 columns</p><tr><th>1</th><td>151.765</td><td>47.8256</td><td>63.0</td><td>1</td></tr><tr><th>2</th><td>139.7</td><td>36.4858</td><td>63.0</td><td>0</td></tr><tr><th>3</th><td>136.525</td><td>31.8648</td><td>65.0</td><td>0</td></tr><tr><th>4</th><td>156.845</td><td>53.0419</td><td>41.0</td><td>1</td></tr><tr><th>5</th><td>145.415</td><td>41.2769</td><td>51.0</td><td>0</td></tr></tbody></table>"
      ]
     },
     "metadata": {},
     "execution_count": 4
    }
   ],
   "cell_type": "code",
   "source": [
    "howell1 = CSV.read(rel_path(\"..\", \"data\", \"Howell1.csv\"), delim=';')\n",
    "df = convert(DataFrame, howell1);\n",
    "df2 = filter(row -> row[:age] >= 18, df);\n",
    "first(df2, 5)"
   ],
   "metadata": {},
   "execution_count": 4
  },
  {
   "outputs": [],
   "cell_type": "markdown",
   "source": [
    "### Snippet 4.21"
   ],
   "metadata": {}
  },
  {
   "outputs": [],
   "cell_type": "markdown",
   "source": [
    "Sample 20 random heights"
   ],
   "metadata": {}
  },
  {
   "outputs": [],
   "cell_type": "code",
   "source": [
    "n = size(df2, 1)\n",
    "selected_ind = sample(1:n, 20, replace=false);\n",
    "df3 = df2[selected_ind, :];"
   ],
   "metadata": {},
   "execution_count": 5
  },
  {
   "outputs": [],
   "cell_type": "markdown",
   "source": [
    "### Snippet 4.22"
   ],
   "metadata": {}
  },
  {
   "outputs": [],
   "cell_type": "markdown",
   "source": [
    "Generate approximate probabilities"
   ],
   "metadata": {}
  },
  {
   "outputs": [
    {
     "output_type": "execute_result",
     "data": {
      "text/plain": "10×5 DataFrame\n│ Row │ mu      │ sigma   │ ll       │ prod     │ prob        │\n│     │ \u001b[90mFloat64\u001b[39m │ \u001b[90mFloat64\u001b[39m │ \u001b[90mFloat64\u001b[39m  │ \u001b[90mFloat64\u001b[39m  │ \u001b[90mFloat64\u001b[39m     │\n├─────┼─────────┼─────────┼──────────┼──────────┼─────────────┤\n│ 1   │ 140.0   │ 4.0     │ -178.391 │ -188.023 │ 4.33587e-49 │\n│ 2   │ 140.151 │ 4.0     │ -176.03  │ -185.648 │ 4.66403e-48 │\n│ 3   │ 140.302 │ 4.0     │ -173.697 │ -183.3   │ 4.87623e-47 │\n│ 4   │ 140.452 │ 4.0     │ -171.393 │ -180.982 │ 4.95501e-46 │\n│ 5   │ 140.603 │ 4.0     │ -169.117 │ -178.692 │ 4.89376e-45 │\n│ 6   │ 140.754 │ 4.0     │ -166.869 │ -176.43  │ 4.69763e-44 │\n│ 7   │ 140.905 │ 4.0     │ -164.65  │ -174.197 │ 4.3828e-43  │\n│ 8   │ 141.055 │ 4.0     │ -162.459 │ -171.992 │ 3.97432e-42 │\n│ 9   │ 141.206 │ 4.0     │ -160.297 │ -169.816 │ 3.50278e-41 │\n│ 10  │ 141.357 │ 4.0     │ -158.163 │ -167.668 │ 3.00054e-40 │",
      "text/html": [
       "<table class=\"data-frame\"><thead><tr><th></th><th>mu</th><th>sigma</th><th>ll</th><th>prod</th><th>prob</th></tr><tr><th></th><th>Float64</th><th>Float64</th><th>Float64</th><th>Float64</th><th>Float64</th></tr></thead><tbody><p>10 rows × 5 columns</p><tr><th>1</th><td>140.0</td><td>4.0</td><td>-178.391</td><td>-188.023</td><td>4.33587e-49</td></tr><tr><th>2</th><td>140.151</td><td>4.0</td><td>-176.03</td><td>-185.648</td><td>4.66403e-48</td></tr><tr><th>3</th><td>140.302</td><td>4.0</td><td>-173.697</td><td>-183.3</td><td>4.87623e-47</td></tr><tr><th>4</th><td>140.452</td><td>4.0</td><td>-171.393</td><td>-180.982</td><td>4.95501e-46</td></tr><tr><th>5</th><td>140.603</td><td>4.0</td><td>-169.117</td><td>-178.692</td><td>4.89376e-45</td></tr><tr><th>6</th><td>140.754</td><td>4.0</td><td>-166.869</td><td>-176.43</td><td>4.69763e-44</td></tr><tr><th>7</th><td>140.905</td><td>4.0</td><td>-164.65</td><td>-174.197</td><td>4.3828e-43</td></tr><tr><th>8</th><td>141.055</td><td>4.0</td><td>-162.459</td><td>-171.992</td><td>3.97432e-42</td></tr><tr><th>9</th><td>141.206</td><td>4.0</td><td>-160.297</td><td>-169.816</td><td>3.50278e-41</td></tr><tr><th>10</th><td>141.357</td><td>4.0</td><td>-158.163</td><td>-167.668</td><td>3.00054e-40</td></tr></tbody></table>"
      ]
     },
     "metadata": {},
     "execution_count": 6
    }
   ],
   "cell_type": "code",
   "source": [
    "struct Post\n",
    "  mu::Float64\n",
    "  sigma::Float64\n",
    "  ll:: Float64\n",
    "  prod::Float64\n",
    "  prob::Float64\n",
    "end\n",
    "\n",
    "mu_list = repeat(range(140, 170, length=200), 200);\n",
    "sigma_list = repeat(range(4, 20, length=200), inner=200);\n",
    "\n",
    "ll = zeros(40000);\n",
    "for i in 1:40000\n",
    "    d1 = Normal(mu_list[i], sigma_list[i])\n",
    "    ll[i] = sum(log.(pdf.(d1, df3[:height])))\n",
    "end\n",
    "\n",
    "d2 = Normal(178.0, 20.0)\n",
    "d3 = Uniform(0, 50)\n",
    "prod = ll + log.(pdf.(d2, mu_list)) + log.(pdf.(d3, sigma_list))\n",
    "prob = exp.(prod .- maximum(prod))\n",
    "post = DataFrame(mu=mu_list, sigma=sigma_list, ll=ll, prod=prod, prob=prob)\n",
    "first(post, 10)"
   ],
   "metadata": {},
   "execution_count": 6
  },
  {
   "outputs": [],
   "cell_type": "markdown",
   "source": [
    "Sample post"
   ],
   "metadata": {}
  },
  {
   "outputs": [
    {
     "output_type": "execute_result",
     "data": {
      "text/plain": "10000×5 DataFrame\n│ Row   │ mu      │ sigma   │ ll       │ prod     │ prob      │\n│       │ \u001b[90mFloat64\u001b[39m │ \u001b[90mFloat64\u001b[39m │ \u001b[90mFloat64\u001b[39m  │ \u001b[90mFloat64\u001b[39m  │ \u001b[90mFloat64\u001b[39m   │\n├───────┼─────────┼─────────┼──────────┼──────────┼───────────┤\n│ 1     │ 152.211 │ 8.50251 │ -68.5049 │ -77.1629 │ 0.606828  │\n│ 2     │ 152.362 │ 7.13568 │ -68.0532 │ -76.7016 │ 0.962521  │\n│ 3     │ 152.814 │ 7.53769 │ -68.0697 │ -76.6893 │ 0.974411  │\n│ 4     │ 156.734 │ 8.82412 │ -70.892  │ -79.284  │ 0.0727566 │\n│ 5     │ 150.402 │ 7.61809 │ -68.9161 │ -77.6949 │ 0.356477  │\n│ 6     │ 154.623 │ 5.28643 │ -72.0149 │ -80.5247 │ 0.021041  │\n│ 7     │ 154.472 │ 7.37688 │ -68.6802 │ -77.1989 │ 0.585374  │\n⋮\n│ 9993  │ 153.116 │ 9.46734 │ -69.2505 │ -77.8512 │ 0.304883  │\n│ 9994  │ 153.869 │ 6.73367 │ -68.508  │ -77.0625 │ 0.670893  │\n│ 9995  │ 152.513 │ 5.52764 │ -69.8423 │ -78.481  │ 0.162417  │\n│ 9996  │ 153.116 │ 7.37688 │ -68.0877 │ -76.6885 │ 0.975212  │\n│ 9997  │ 154.623 │ 7.77889 │ -68.7977 │ -77.3075 │ 0.525121  │\n│ 9998  │ 154.02  │ 8.1005  │ -68.5617 │ -77.1072 │ 0.641572  │\n│ 9999  │ 152.814 │ 8.42211 │ -68.4394 │ -77.059  │ 0.673259  │\n│ 10000 │ 152.513 │ 7.37688 │ -68.0416 │ -76.6803 │ 0.983243  │",
      "text/html": [
       "<table class=\"data-frame\"><thead><tr><th></th><th>mu</th><th>sigma</th><th>ll</th><th>prod</th><th>prob</th></tr><tr><th></th><th>Float64</th><th>Float64</th><th>Float64</th><th>Float64</th><th>Float64</th></tr></thead><tbody><p>10,000 rows × 5 columns</p><tr><th>1</th><td>152.211</td><td>8.50251</td><td>-68.5049</td><td>-77.1629</td><td>0.606828</td></tr><tr><th>2</th><td>152.362</td><td>7.13568</td><td>-68.0532</td><td>-76.7016</td><td>0.962521</td></tr><tr><th>3</th><td>152.814</td><td>7.53769</td><td>-68.0697</td><td>-76.6893</td><td>0.974411</td></tr><tr><th>4</th><td>156.734</td><td>8.82412</td><td>-70.892</td><td>-79.284</td><td>0.0727566</td></tr><tr><th>5</th><td>150.402</td><td>7.61809</td><td>-68.9161</td><td>-77.6949</td><td>0.356477</td></tr><tr><th>6</th><td>154.623</td><td>5.28643</td><td>-72.0149</td><td>-80.5247</td><td>0.021041</td></tr><tr><th>7</th><td>154.472</td><td>7.37688</td><td>-68.6802</td><td>-77.1989</td><td>0.585374</td></tr><tr><th>8</th><td>149.648</td><td>5.44724</td><td>-73.0076</td><td>-81.8391</td><td>0.00565225</td></tr><tr><th>9</th><td>151.005</td><td>9.94975</td><td>-69.9174</td><td>-78.655</td><td>0.136476</td></tr><tr><th>10</th><td>151.005</td><td>6.41206</td><td>-68.9966</td><td>-77.7342</td><td>0.342717</td></tr><tr><th>11</th><td>154.925</td><td>8.58291</td><td>-69.2654</td><td>-77.7577</td><td>0.334768</td></tr><tr><th>12</th><td>153.417</td><td>7.45729</td><td>-68.1672</td><td>-76.7493</td><td>0.917635</td></tr><tr><th>13</th><td>155.075</td><td>7.69849</td><td>-69.1295</td><td>-77.6131</td><td>0.386845</td></tr><tr><th>14</th><td>151.307</td><td>7.61809</td><td>-68.3701</td><td>-77.0875</td><td>0.654331</td></tr><tr><th>15</th><td>152.965</td><td>6.57286</td><td>-68.2785</td><td>-76.8886</td><td>0.798299</td></tr><tr><th>16</th><td>151.156</td><td>10.8342</td><td>-70.7063</td><td>-79.4338</td><td>0.0626367</td></tr><tr><th>17</th><td>151.608</td><td>7.61809</td><td>-68.2508</td><td>-76.9482</td><td>0.752161</td></tr><tr><th>18</th><td>154.322</td><td>7.8593</td><td>-68.63</td><td>-77.1575</td><td>0.610098</td></tr><tr><th>19</th><td>150.402</td><td>7.05528</td><td>-69.028</td><td>-77.8068</td><td>0.318727</td></tr><tr><th>20</th><td>151.005</td><td>7.21608</td><td>-68.5281</td><td>-77.2657</td><td>0.547525</td></tr><tr><th>21</th><td>151.608</td><td>6.81407</td><td>-68.3346</td><td>-77.032</td><td>0.691675</td></tr><tr><th>22</th><td>151.608</td><td>6.65327</td><td>-68.4233</td><td>-77.1207</td><td>0.632968</td></tr><tr><th>23</th><td>153.116</td><td>7.69849</td><td>-68.1443</td><td>-76.745</td><td>0.921625</td></tr><tr><th>24</th><td>154.171</td><td>7.53769</td><td>-68.4932</td><td>-77.0297</td><td>0.693301</td></tr><tr><th>&vellip;</th><td>&vellip;</td><td>&vellip;</td><td>&vellip;</td><td>&vellip;</td><td>&vellip;</td></tr></tbody></table>"
      ]
     },
     "metadata": {},
     "execution_count": 7
    }
   ],
   "cell_type": "code",
   "source": [
    "samples = post[sample(1:size(post, 1), Weights(post[:prob]), 10000, replace=true), :]"
   ],
   "metadata": {},
   "execution_count": 7
  },
  {
   "outputs": [],
   "cell_type": "markdown",
   "source": [
    "### Snippet 4.23"
   ],
   "metadata": {}
  },
  {
   "outputs": [],
   "cell_type": "markdown",
   "source": [
    "Density of sigma"
   ],
   "metadata": {}
  },
  {
   "outputs": [
    {
     "output_type": "execute_result",
     "data": {
      "text/plain": "Plot{Plots.GRBackend() n=1}",
      "image/png": "[encoded data removed]",
      "text/html": [
       "<?xml version=\"1.0\" encoding=\"utf-8\"?>\n",
       "<svg xmlns=\"http://www.w3.org/2000/svg\" xmlns:xlink=\"http://www.w3.org/1999/xlink\" width=\"500\" height=\"500\" viewBox=\"0 0 2000 2000\">\n",
       "<defs>\n",
       "  <clipPath id=\"clip9300\">\n",
       "    <rect x=\"0\" y=\"0\" width=\"2000\" height=\"2000\"/>\n",
       "  </clipPath>\n",
       "</defs>\n",
       "<polygon clip-path=\"url(#clip9300)\" points=\"\n",
       "0,2000 2000,2000 2000,0 0,0 \n",
       "  \" fill=\"#ffffff\" fill-rule=\"evenodd\" fill-opacity=\"1\"/>\n",
       "<defs>\n",
       "  <clipPath id=\"clip9301\">\n",
       "    <rect x=\"400\" y=\"200\" width=\"1401\" height=\"1401\"/>\n",
       "  </clipPath>\n",
       "</defs>\n",
       "<polygon clip-path=\"url(#clip9300)\" points=\"\n",
       "161.394,1886.71 1921.26,1886.71 1921.26,47.2441 161.394,47.2441 \n",
       "  \" fill=\"#ffffff\" fill-rule=\"evenodd\" fill-opacity=\"1\"/>\n",
       "<defs>\n",
       "  <clipPath id=\"clip9302\">\n",
       "    <rect x=\"161\" y=\"47\" width=\"1761\" height=\"1840\"/>\n",
       "  </clipPath>\n",
       "</defs>\n",
       "<polyline clip-path=\"url(#clip9302)\" style=\"stroke:#000000; stroke-width:2; stroke-opacity:0.1; fill:none\" points=\"\n",
       "  457.017,1886.71 457.017,47.2441 \n",
       "  \"/>\n",
       "<polyline clip-path=\"url(#clip9302)\" style=\"stroke:#000000; stroke-width:2; stroke-opacity:0.1; fill:none\" points=\"\n",
       "  835.361,1886.71 835.361,47.2441 \n",
       "  \"/>\n",
       "<polyline clip-path=\"url(#clip9302)\" style=\"stroke:#000000; stroke-width:2; stroke-opacity:0.1; fill:none\" points=\"\n",
       "  1213.7,1886.71 1213.7,47.2441 \n",
       "  \"/>\n",
       "<polyline clip-path=\"url(#clip9302)\" style=\"stroke:#000000; stroke-width:2; stroke-opacity:0.1; fill:none\" points=\"\n",
       "  1592.05,1886.71 1592.05,47.2441 \n",
       "  \"/>\n",
       "<polyline clip-path=\"url(#clip9302)\" style=\"stroke:#000000; stroke-width:2; stroke-opacity:0.1; fill:none\" points=\"\n",
       "  161.394,1834.65 1921.26,1834.65 \n",
       "  \"/>\n",
       "<polyline clip-path=\"url(#clip9302)\" style=\"stroke:#000000; stroke-width:2; stroke-opacity:0.1; fill:none\" points=\"\n",
       "  161.394,1290.89 1921.26,1290.89 \n",
       "  \"/>\n",
       "<polyline clip-path=\"url(#clip9302)\" style=\"stroke:#000000; stroke-width:2; stroke-opacity:0.1; fill:none\" points=\"\n",
       "  161.394,747.123 1921.26,747.123 \n",
       "  \"/>\n",
       "<polyline clip-path=\"url(#clip9302)\" style=\"stroke:#000000; stroke-width:2; stroke-opacity:0.1; fill:none\" points=\"\n",
       "  161.394,203.36 1921.26,203.36 \n",
       "  \"/>\n",
       "<polyline clip-path=\"url(#clip9300)\" style=\"stroke:#000000; stroke-width:4; stroke-opacity:1; fill:none\" points=\"\n",
       "  161.394,1886.71 1921.26,1886.71 \n",
       "  \"/>\n",
       "<polyline clip-path=\"url(#clip9300)\" style=\"stroke:#000000; stroke-width:4; stroke-opacity:1; fill:none\" points=\"\n",
       "  161.394,1886.71 161.394,47.2441 \n",
       "  \"/>\n",
       "<polyline clip-path=\"url(#clip9300)\" style=\"stroke:#000000; stroke-width:4; stroke-opacity:1; fill:none\" points=\"\n",
       "  457.017,1886.71 457.017,1859.12 \n",
       "  \"/>\n",
       "<polyline clip-path=\"url(#clip9300)\" style=\"stroke:#000000; stroke-width:4; stroke-opacity:1; fill:none\" points=\"\n",
       "  835.361,1886.71 835.361,1859.12 \n",
       "  \"/>\n",
       "<polyline clip-path=\"url(#clip9300)\" style=\"stroke:#000000; stroke-width:4; stroke-opacity:1; fill:none\" points=\"\n",
       "  1213.7,1886.71 1213.7,1859.12 \n",
       "  \"/>\n",
       "<polyline clip-path=\"url(#clip9300)\" style=\"stroke:#000000; stroke-width:4; stroke-opacity:1; fill:none\" points=\"\n",
       "  1592.05,1886.71 1592.05,1859.12 \n",
       "  \"/>\n",
       "<polyline clip-path=\"url(#clip9300)\" style=\"stroke:#000000; stroke-width:4; stroke-opacity:1; fill:none\" points=\"\n",
       "  161.394,1834.65 187.792,1834.65 \n",
       "  \"/>\n",
       "<polyline clip-path=\"url(#clip9300)\" style=\"stroke:#000000; stroke-width:4; stroke-opacity:1; fill:none\" points=\"\n",
       "  161.394,1290.89 187.792,1290.89 \n",
       "  \"/>\n",
       "<polyline clip-path=\"url(#clip9300)\" style=\"stroke:#000000; stroke-width:4; stroke-opacity:1; fill:none\" points=\"\n",
       "  161.394,747.123 187.792,747.123 \n",
       "  \"/>\n",
       "<polyline clip-path=\"url(#clip9300)\" style=\"stroke:#000000; stroke-width:4; stroke-opacity:1; fill:none\" points=\"\n",
       "  161.394,203.36 187.792,203.36 \n",
       "  \"/>\n",
       "<g clip-path=\"url(#clip9300)\">\n",
       "<text style=\"fill:#000000; fill-opacity:1; font-family:Arial,Helvetica Neue,Helvetica,sans-serif; font-size:48px; text-anchor:middle;\" transform=\"rotate(0, 457.017, 1938.71)\" x=\"457.017\" y=\"1938.71\">6</text>\n",
       "</g>\n",
       "<g clip-path=\"url(#clip9300)\">\n",
       "<text style=\"fill:#000000; fill-opacity:1; font-family:Arial,Helvetica Neue,Helvetica,sans-serif; font-size:48px; text-anchor:middle;\" transform=\"rotate(0, 835.361, 1938.71)\" x=\"835.361\" y=\"1938.71\">9</text>\n",
       "</g>\n",
       "<g clip-path=\"url(#clip9300)\">\n",
       "<text style=\"fill:#000000; fill-opacity:1; font-family:Arial,Helvetica Neue,Helvetica,sans-serif; font-size:48px; text-anchor:middle;\" transform=\"rotate(0, 1213.7, 1938.71)\" x=\"1213.7\" y=\"1938.71\">12</text>\n",
       "</g>\n",
       "<g clip-path=\"url(#clip9300)\">\n",
       "<text style=\"fill:#000000; fill-opacity:1; font-family:Arial,Helvetica Neue,Helvetica,sans-serif; font-size:48px; text-anchor:middle;\" transform=\"rotate(0, 1592.05, 1938.71)\" x=\"1592.05\" y=\"1938.71\">15</text>\n",
       "</g>\n",
       "<g clip-path=\"url(#clip9300)\">\n",
       "<text style=\"fill:#000000; fill-opacity:1; font-family:Arial,Helvetica Neue,Helvetica,sans-serif; font-size:48px; text-anchor:end;\" transform=\"rotate(0, 141.394, 1852.15)\" x=\"141.394\" y=\"1852.15\">0.0</text>\n",
       "</g>\n",
       "<g clip-path=\"url(#clip9300)\">\n",
       "<text style=\"fill:#000000; fill-opacity:1; font-family:Arial,Helvetica Neue,Helvetica,sans-serif; font-size:48px; text-anchor:end;\" transform=\"rotate(0, 141.394, 1308.39)\" x=\"141.394\" y=\"1308.39\">0.1</text>\n",
       "</g>\n",
       "<g clip-path=\"url(#clip9300)\">\n",
       "<text style=\"fill:#000000; fill-opacity:1; font-family:Arial,Helvetica Neue,Helvetica,sans-serif; font-size:48px; text-anchor:end;\" transform=\"rotate(0, 141.394, 764.623)\" x=\"141.394\" y=\"764.623\">0.2</text>\n",
       "</g>\n",
       "<g clip-path=\"url(#clip9300)\">\n",
       "<text style=\"fill:#000000; fill-opacity:1; font-family:Arial,Helvetica Neue,Helvetica,sans-serif; font-size:48px; text-anchor:end;\" transform=\"rotate(0, 141.394, 220.86)\" x=\"141.394\" y=\"220.86\">0.3</text>\n",
       "</g>\n",
       "<polyline clip-path=\"url(#clip9302)\" style=\"stroke:#009af9; stroke-width:4; stroke-opacity:1; fill:none\" points=\"\n",
       "  211.202,1834.65 219.545,1834.65 227.887,1834.64 236.23,1834.61 244.573,1834.53 252.916,1834.35 261.259,1833.95 269.602,1833.14 277.945,1831.7 286.288,1829.33 \n",
       "  294.631,1825.76 302.974,1820.8 311.317,1814.32 319.66,1806.23 328.003,1796.38 336.346,1784.41 344.689,1769.75 353.032,1751.72 361.375,1729.81 369.718,1704 \n",
       "  378.061,1674.67 386.404,1642.28 394.747,1606.79 403.09,1567.41 411.433,1522.75 419.776,1471.66 428.119,1413.92 436.462,1350.65 444.805,1284.1 453.148,1216.99 \n",
       "  461.491,1151.67 469.834,1089.21 478.177,1028.73 486.52,967.779 494.862,903.709 503.205,835.61 511.548,765.221 519.891,695.982 528.234,630.837 536.577,570.639 \n",
       "  544.92,514.447 553.263,461.268 561.606,411.456 569.949,366.53 578.292,327.736 586.635,294.874 594.978,266.406 603.321,240.494 611.664,215.837 620.007,191.707 \n",
       "  628.35,167.73 636.693,144.176 645.036,122.688 653.379,106.479 661.722,99.3044 670.065,103.735 678.408,120.024 686.751,146.354 695.094,180.026 703.437,218.492 \n",
       "  711.78,259.711 720.123,302.187 728.466,345.236 736.809,389.307 745.152,435.666 753.495,485.182 761.837,536.97 770.18,588.105 778.523,634.958 786.866,675.365 \n",
       "  795.209,710.133 803.552,742.712 811.895,777.23 820.238,816.231 828.581,859.645 836.924,905.403 845.267,950.892 853.61,994.109 861.953,1034 870.296,1070.36 \n",
       "  878.639,1103.66 886.982,1135.08 895.325,1166.11 903.668,1197.95 912.011,1230.97 920.354,1264.67 928.697,1298.11 937.04,1330.46 945.383,1361.16 953.726,1389.69 \n",
       "  962.069,1415.61 970.412,1438.71 978.755,1459.28 987.098,1478.11 995.441,1496.1 1003.78,1513.8 1012.13,1531.34 1020.47,1548.58 1028.81,1565.39 1037.16,1581.77 \n",
       "  1045.5,1597.58 1053.84,1612.4 1062.18,1625.56 1070.53,1636.51 1078.87,1645.22 1087.21,1652.27 1095.56,1658.7 1103.9,1665.56 1112.24,1673.56 1120.59,1682.81 \n",
       "  1128.93,1692.84 1137.27,1702.76 1145.61,1711.71 1153.96,1719.23 1162.3,1725.5 1170.64,1731.28 1178.99,1737.48 1187.33,1744.69 1195.67,1752.82 1204.01,1761.22 \n",
       "  1212.36,1769.02 1220.7,1775.58 1229.04,1780.7 1237.39,1784.6 1245.73,1787.62 1254.07,1790.03 1262.42,1791.95 1270.76,1793.44 1279.1,1794.55 1287.44,1795.34 \n",
       "  1295.79,1795.9 1304.13,1796.39 1312.47,1797.09 1320.82,1798.36 1329.16,1800.53 1337.5,1803.7 1345.85,1807.67 1354.19,1812.02 1362.53,1816.21 1370.87,1819.83 \n",
       "  1379.22,1822.61 1387.56,1824.51 1395.9,1825.65 1404.25,1826.2 1412.59,1826.33 1420.93,1826.13 1429.27,1825.64 1437.62,1824.9 1445.96,1824 1454.3,1823.1 \n",
       "  1462.65,1822.35 1470.99,1821.89 1479.33,1821.84 1487.68,1822.3 1496.02,1823.3 1504.36,1824.77 1512.7,1826.55 1521.05,1828.38 1529.39,1830.03 1537.73,1831.34 \n",
       "  1546.08,1832.25 1554.42,1832.77 1562.76,1833.02 1571.11,1833.1 1579.45,1833.07 1587.79,1832.94 1596.13,1832.69 1604.48,1832.29 1612.82,1831.82 1621.16,1831.41 \n",
       "  1629.51,1831.24 1637.85,1831.4 1646.19,1831.86 1654.54,1832.52 1662.88,1833.19 1671.22,1833.76 1679.56,1834.17 1687.91,1834.42 1696.25,1834.55 1704.59,1834.6 \n",
       "  1712.94,1834.6 1721.28,1834.56 1729.62,1834.48 1737.96,1834.33 1746.31,1834.13 1754.65,1833.9 1762.99,1833.68 1771.34,1833.54 1779.68,1833.52 1788.02,1833.64 \n",
       "  1796.37,1833.84 1804.71,1834.08 1813.05,1834.29 1821.39,1834.45 1829.74,1834.55 1838.08,1834.61 1846.42,1834.63 1854.77,1834.64 1863.11,1834.65 1871.45,1834.65 \n",
       "  \n",
       "  \"/>\n",
       "<polygon clip-path=\"url(#clip9300)\" points=\"\n",
       "1610.43,227.724 1861.26,227.724 1861.26,106.764 1610.43,106.764 \n",
       "  \" fill=\"#ffffff\" fill-rule=\"evenodd\" fill-opacity=\"1\"/>\n",
       "<polyline clip-path=\"url(#clip9300)\" style=\"stroke:#000000; stroke-width:4; stroke-opacity:1; fill:none\" points=\"\n",
       "  1610.43,227.724 1861.26,227.724 1861.26,106.764 1610.43,106.764 1610.43,227.724 \n",
       "  \"/>\n",
       "<polyline clip-path=\"url(#clip9300)\" style=\"stroke:#009af9; stroke-width:4; stroke-opacity:1; fill:none\" points=\"\n",
       "  1630.43,167.244 1750.43,167.244 \n",
       "  \"/>\n",
       "<g clip-path=\"url(#clip9300)\">\n",
       "<text style=\"fill:#000000; fill-opacity:1; font-family:Arial,Helvetica Neue,Helvetica,sans-serif; font-size:48px; text-anchor:start;\" transform=\"rotate(0, 1770.43, 184.744)\" x=\"1770.43\" y=\"184.744\">y1</text>\n",
       "</g>\n",
       "</svg>\n"
      ],
      "image/svg+xml": [
       "<?xml version=\"1.0\" encoding=\"utf-8\"?>\n",
       "<svg xmlns=\"http://www.w3.org/2000/svg\" xmlns:xlink=\"http://www.w3.org/1999/xlink\" width=\"500\" height=\"500\" viewBox=\"0 0 2000 2000\">\n",
       "<defs>\n",
       "  <clipPath id=\"clip9200\">\n",
       "    <rect x=\"0\" y=\"0\" width=\"2000\" height=\"2000\"/>\n",
       "  </clipPath>\n",
       "</defs>\n",
       "<polygon clip-path=\"url(#clip9200)\" points=\"\n",
       "0,2000 2000,2000 2000,0 0,0 \n",
       "  \" fill=\"#ffffff\" fill-rule=\"evenodd\" fill-opacity=\"1\"/>\n",
       "<defs>\n",
       "  <clipPath id=\"clip9201\">\n",
       "    <rect x=\"400\" y=\"200\" width=\"1401\" height=\"1401\"/>\n",
       "  </clipPath>\n",
       "</defs>\n",
       "<polygon clip-path=\"url(#clip9200)\" points=\"\n",
       "161.394,1886.71 1921.26,1886.71 1921.26,47.2441 161.394,47.2441 \n",
       "  \" fill=\"#ffffff\" fill-rule=\"evenodd\" fill-opacity=\"1\"/>\n",
       "<defs>\n",
       "  <clipPath id=\"clip9202\">\n",
       "    <rect x=\"161\" y=\"47\" width=\"1761\" height=\"1840\"/>\n",
       "  </clipPath>\n",
       "</defs>\n",
       "<polyline clip-path=\"url(#clip9202)\" style=\"stroke:#000000; stroke-width:2; stroke-opacity:0.1; fill:none\" points=\"\n",
       "  457.017,1886.71 457.017,47.2441 \n",
       "  \"/>\n",
       "<polyline clip-path=\"url(#clip9202)\" style=\"stroke:#000000; stroke-width:2; stroke-opacity:0.1; fill:none\" points=\"\n",
       "  835.361,1886.71 835.361,47.2441 \n",
       "  \"/>\n",
       "<polyline clip-path=\"url(#clip9202)\" style=\"stroke:#000000; stroke-width:2; stroke-opacity:0.1; fill:none\" points=\"\n",
       "  1213.7,1886.71 1213.7,47.2441 \n",
       "  \"/>\n",
       "<polyline clip-path=\"url(#clip9202)\" style=\"stroke:#000000; stroke-width:2; stroke-opacity:0.1; fill:none\" points=\"\n",
       "  1592.05,1886.71 1592.05,47.2441 \n",
       "  \"/>\n",
       "<polyline clip-path=\"url(#clip9202)\" style=\"stroke:#000000; stroke-width:2; stroke-opacity:0.1; fill:none\" points=\"\n",
       "  161.394,1834.65 1921.26,1834.65 \n",
       "  \"/>\n",
       "<polyline clip-path=\"url(#clip9202)\" style=\"stroke:#000000; stroke-width:2; stroke-opacity:0.1; fill:none\" points=\"\n",
       "  161.394,1290.89 1921.26,1290.89 \n",
       "  \"/>\n",
       "<polyline clip-path=\"url(#clip9202)\" style=\"stroke:#000000; stroke-width:2; stroke-opacity:0.1; fill:none\" points=\"\n",
       "  161.394,747.123 1921.26,747.123 \n",
       "  \"/>\n",
       "<polyline clip-path=\"url(#clip9202)\" style=\"stroke:#000000; stroke-width:2; stroke-opacity:0.1; fill:none\" points=\"\n",
       "  161.394,203.36 1921.26,203.36 \n",
       "  \"/>\n",
       "<polyline clip-path=\"url(#clip9200)\" style=\"stroke:#000000; stroke-width:4; stroke-opacity:1; fill:none\" points=\"\n",
       "  161.394,1886.71 1921.26,1886.71 \n",
       "  \"/>\n",
       "<polyline clip-path=\"url(#clip9200)\" style=\"stroke:#000000; stroke-width:4; stroke-opacity:1; fill:none\" points=\"\n",
       "  161.394,1886.71 161.394,47.2441 \n",
       "  \"/>\n",
       "<polyline clip-path=\"url(#clip9200)\" style=\"stroke:#000000; stroke-width:4; stroke-opacity:1; fill:none\" points=\"\n",
       "  457.017,1886.71 457.017,1859.12 \n",
       "  \"/>\n",
       "<polyline clip-path=\"url(#clip9200)\" style=\"stroke:#000000; stroke-width:4; stroke-opacity:1; fill:none\" points=\"\n",
       "  835.361,1886.71 835.361,1859.12 \n",
       "  \"/>\n",
       "<polyline clip-path=\"url(#clip9200)\" style=\"stroke:#000000; stroke-width:4; stroke-opacity:1; fill:none\" points=\"\n",
       "  1213.7,1886.71 1213.7,1859.12 \n",
       "  \"/>\n",
       "<polyline clip-path=\"url(#clip9200)\" style=\"stroke:#000000; stroke-width:4; stroke-opacity:1; fill:none\" points=\"\n",
       "  1592.05,1886.71 1592.05,1859.12 \n",
       "  \"/>\n",
       "<polyline clip-path=\"url(#clip9200)\" style=\"stroke:#000000; stroke-width:4; stroke-opacity:1; fill:none\" points=\"\n",
       "  161.394,1834.65 187.792,1834.65 \n",
       "  \"/>\n",
       "<polyline clip-path=\"url(#clip9200)\" style=\"stroke:#000000; stroke-width:4; stroke-opacity:1; fill:none\" points=\"\n",
       "  161.394,1290.89 187.792,1290.89 \n",
       "  \"/>\n",
       "<polyline clip-path=\"url(#clip9200)\" style=\"stroke:#000000; stroke-width:4; stroke-opacity:1; fill:none\" points=\"\n",
       "  161.394,747.123 187.792,747.123 \n",
       "  \"/>\n",
       "<polyline clip-path=\"url(#clip9200)\" style=\"stroke:#000000; stroke-width:4; stroke-opacity:1; fill:none\" points=\"\n",
       "  161.394,203.36 187.792,203.36 \n",
       "  \"/>\n",
       "<g clip-path=\"url(#clip9200)\">\n",
       "<text style=\"fill:#000000; fill-opacity:1; font-family:Arial,Helvetica Neue,Helvetica,sans-serif; font-size:48px; text-anchor:middle;\" transform=\"rotate(0, 457.017, 1938.71)\" x=\"457.017\" y=\"1938.71\">6</text>\n",
       "</g>\n",
       "<g clip-path=\"url(#clip9200)\">\n",
       "<text style=\"fill:#000000; fill-opacity:1; font-family:Arial,Helvetica Neue,Helvetica,sans-serif; font-size:48px; text-anchor:middle;\" transform=\"rotate(0, 835.361, 1938.71)\" x=\"835.361\" y=\"1938.71\">9</text>\n",
       "</g>\n",
       "<g clip-path=\"url(#clip9200)\">\n",
       "<text style=\"fill:#000000; fill-opacity:1; font-family:Arial,Helvetica Neue,Helvetica,sans-serif; font-size:48px; text-anchor:middle;\" transform=\"rotate(0, 1213.7, 1938.71)\" x=\"1213.7\" y=\"1938.71\">12</text>\n",
       "</g>\n",
       "<g clip-path=\"url(#clip9200)\">\n",
       "<text style=\"fill:#000000; fill-opacity:1; font-family:Arial,Helvetica Neue,Helvetica,sans-serif; font-size:48px; text-anchor:middle;\" transform=\"rotate(0, 1592.05, 1938.71)\" x=\"1592.05\" y=\"1938.71\">15</text>\n",
       "</g>\n",
       "<g clip-path=\"url(#clip9200)\">\n",
       "<text style=\"fill:#000000; fill-opacity:1; font-family:Arial,Helvetica Neue,Helvetica,sans-serif; font-size:48px; text-anchor:end;\" transform=\"rotate(0, 141.394, 1852.15)\" x=\"141.394\" y=\"1852.15\">0.0</text>\n",
       "</g>\n",
       "<g clip-path=\"url(#clip9200)\">\n",
       "<text style=\"fill:#000000; fill-opacity:1; font-family:Arial,Helvetica Neue,Helvetica,sans-serif; font-size:48px; text-anchor:end;\" transform=\"rotate(0, 141.394, 1308.39)\" x=\"141.394\" y=\"1308.39\">0.1</text>\n",
       "</g>\n",
       "<g clip-path=\"url(#clip9200)\">\n",
       "<text style=\"fill:#000000; fill-opacity:1; font-family:Arial,Helvetica Neue,Helvetica,sans-serif; font-size:48px; text-anchor:end;\" transform=\"rotate(0, 141.394, 764.623)\" x=\"141.394\" y=\"764.623\">0.2</text>\n",
       "</g>\n",
       "<g clip-path=\"url(#clip9200)\">\n",
       "<text style=\"fill:#000000; fill-opacity:1; font-family:Arial,Helvetica Neue,Helvetica,sans-serif; font-size:48px; text-anchor:end;\" transform=\"rotate(0, 141.394, 220.86)\" x=\"141.394\" y=\"220.86\">0.3</text>\n",
       "</g>\n",
       "<polyline clip-path=\"url(#clip9202)\" style=\"stroke:#009af9; stroke-width:4; stroke-opacity:1; fill:none\" points=\"\n",
       "  211.202,1834.65 219.545,1834.65 227.887,1834.64 236.23,1834.61 244.573,1834.53 252.916,1834.35 261.259,1833.95 269.602,1833.14 277.945,1831.7 286.288,1829.33 \n",
       "  294.631,1825.76 302.974,1820.8 311.317,1814.32 319.66,1806.23 328.003,1796.38 336.346,1784.41 344.689,1769.75 353.032,1751.72 361.375,1729.81 369.718,1704 \n",
       "  378.061,1674.67 386.404,1642.28 394.747,1606.79 403.09,1567.41 411.433,1522.75 419.776,1471.66 428.119,1413.92 436.462,1350.65 444.805,1284.1 453.148,1216.99 \n",
       "  461.491,1151.67 469.834,1089.21 478.177,1028.73 486.52,967.779 494.862,903.709 503.205,835.61 511.548,765.221 519.891,695.982 528.234,630.837 536.577,570.639 \n",
       "  544.92,514.447 553.263,461.268 561.606,411.456 569.949,366.53 578.292,327.736 586.635,294.874 594.978,266.406 603.321,240.494 611.664,215.837 620.007,191.707 \n",
       "  628.35,167.73 636.693,144.176 645.036,122.688 653.379,106.479 661.722,99.3044 670.065,103.735 678.408,120.024 686.751,146.354 695.094,180.026 703.437,218.492 \n",
       "  711.78,259.711 720.123,302.187 728.466,345.236 736.809,389.307 745.152,435.666 753.495,485.182 761.837,536.97 770.18,588.105 778.523,634.958 786.866,675.365 \n",
       "  795.209,710.133 803.552,742.712 811.895,777.23 820.238,816.231 828.581,859.645 836.924,905.403 845.267,950.892 853.61,994.109 861.953,1034 870.296,1070.36 \n",
       "  878.639,1103.66 886.982,1135.08 895.325,1166.11 903.668,1197.95 912.011,1230.97 920.354,1264.67 928.697,1298.11 937.04,1330.46 945.383,1361.16 953.726,1389.69 \n",
       "  962.069,1415.61 970.412,1438.71 978.755,1459.28 987.098,1478.11 995.441,1496.1 1003.78,1513.8 1012.13,1531.34 1020.47,1548.58 1028.81,1565.39 1037.16,1581.77 \n",
       "  1045.5,1597.58 1053.84,1612.4 1062.18,1625.56 1070.53,1636.51 1078.87,1645.22 1087.21,1652.27 1095.56,1658.7 1103.9,1665.56 1112.24,1673.56 1120.59,1682.81 \n",
       "  1128.93,1692.84 1137.27,1702.76 1145.61,1711.71 1153.96,1719.23 1162.3,1725.5 1170.64,1731.28 1178.99,1737.48 1187.33,1744.69 1195.67,1752.82 1204.01,1761.22 \n",
       "  1212.36,1769.02 1220.7,1775.58 1229.04,1780.7 1237.39,1784.6 1245.73,1787.62 1254.07,1790.03 1262.42,1791.95 1270.76,1793.44 1279.1,1794.55 1287.44,1795.34 \n",
       "  1295.79,1795.9 1304.13,1796.39 1312.47,1797.09 1320.82,1798.36 1329.16,1800.53 1337.5,1803.7 1345.85,1807.67 1354.19,1812.02 1362.53,1816.21 1370.87,1819.83 \n",
       "  1379.22,1822.61 1387.56,1824.51 1395.9,1825.65 1404.25,1826.2 1412.59,1826.33 1420.93,1826.13 1429.27,1825.64 1437.62,1824.9 1445.96,1824 1454.3,1823.1 \n",
       "  1462.65,1822.35 1470.99,1821.89 1479.33,1821.84 1487.68,1822.3 1496.02,1823.3 1504.36,1824.77 1512.7,1826.55 1521.05,1828.38 1529.39,1830.03 1537.73,1831.34 \n",
       "  1546.08,1832.25 1554.42,1832.77 1562.76,1833.02 1571.11,1833.1 1579.45,1833.07 1587.79,1832.94 1596.13,1832.69 1604.48,1832.29 1612.82,1831.82 1621.16,1831.41 \n",
       "  1629.51,1831.24 1637.85,1831.4 1646.19,1831.86 1654.54,1832.52 1662.88,1833.19 1671.22,1833.76 1679.56,1834.17 1687.91,1834.42 1696.25,1834.55 1704.59,1834.6 \n",
       "  1712.94,1834.6 1721.28,1834.56 1729.62,1834.48 1737.96,1834.33 1746.31,1834.13 1754.65,1833.9 1762.99,1833.68 1771.34,1833.54 1779.68,1833.52 1788.02,1833.64 \n",
       "  1796.37,1833.84 1804.71,1834.08 1813.05,1834.29 1821.39,1834.45 1829.74,1834.55 1838.08,1834.61 1846.42,1834.63 1854.77,1834.64 1863.11,1834.65 1871.45,1834.65 \n",
       "  \n",
       "  \"/>\n",
       "<polygon clip-path=\"url(#clip9200)\" points=\"\n",
       "1610.43,227.724 1861.26,227.724 1861.26,106.764 1610.43,106.764 \n",
       "  \" fill=\"#ffffff\" fill-rule=\"evenodd\" fill-opacity=\"1\"/>\n",
       "<polyline clip-path=\"url(#clip9200)\" style=\"stroke:#000000; stroke-width:4; stroke-opacity:1; fill:none\" points=\"\n",
       "  1610.43,227.724 1861.26,227.724 1861.26,106.764 1610.43,106.764 1610.43,227.724 \n",
       "  \"/>\n",
       "<polyline clip-path=\"url(#clip9200)\" style=\"stroke:#009af9; stroke-width:4; stroke-opacity:1; fill:none\" points=\"\n",
       "  1630.43,167.244 1750.43,167.244 \n",
       "  \"/>\n",
       "<g clip-path=\"url(#clip9200)\">\n",
       "<text style=\"fill:#000000; fill-opacity:1; font-family:Arial,Helvetica Neue,Helvetica,sans-serif; font-size:48px; text-anchor:start;\" transform=\"rotate(0, 1770.43, 184.744)\" x=\"1770.43\" y=\"184.744\">y1</text>\n",
       "</g>\n",
       "</svg>\n"
      ]
     },
     "metadata": {},
     "execution_count": 8
    }
   ],
   "cell_type": "code",
   "source": [
    "density(samples[:sigma])"
   ],
   "metadata": {},
   "execution_count": 8
  },
  {
   "outputs": [],
   "cell_type": "markdown",
   "source": [
    "End of `clip-21-23.jl`"
   ],
   "metadata": {}
  },
  {
   "outputs": [],
   "cell_type": "markdown",
   "source": [
    "*This notebook was generated using [Literate.jl](https://github.com/fredrikekre/Literate.jl).*"
   ],
   "metadata": {}
  }
 ],
 "nbformat_minor": 3,
 "metadata": {
  "language_info": {
   "file_extension": ".jl",
   "mimetype": "application/julia",
   "name": "julia",
   "version": "1.2.0-DEV.462"
  },
  "kernelspec": {
   "name": "julia-1.2",
   "display_name": "Julia 1.2.0-DEV.462",
   "language": "julia"
  }
 },
 "nbformat": 4
}
