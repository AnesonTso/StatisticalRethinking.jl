{
 "cells": [
  {
   "outputs": [],
   "cell_type": "markdown",
   "source": [
    "Load Julia packages (libraries) needed  for the snippets in chapter 0"
   ],
   "metadata": {}
  },
  {
   "outputs": [],
   "cell_type": "code",
   "source": [
    "using StatisticalRethinking, CmdStan, StanMCMCChain\n",
    "gr(size=(500,500));"
   ],
   "metadata": {},
   "execution_count": 1
  },
  {
   "outputs": [],
   "cell_type": "markdown",
   "source": [
    "CmdStan uses a tmp directory to store the output of cmdstan"
   ],
   "metadata": {}
  },
  {
   "outputs": [],
   "cell_type": "code",
   "source": [
    "ProjDir = rel_path(\"..\", \"scripts\", \"04\")\n",
    "cd(ProjDir)"
   ],
   "metadata": {},
   "execution_count": 2
  },
  {
   "outputs": [],
   "cell_type": "markdown",
   "source": [
    "CmdStan uses a tmp directory to store the output of cmdstan"
   ],
   "metadata": {}
  },
  {
   "outputs": [],
   "cell_type": "code",
   "source": [
    "ProjDir = rel_path(\"..\", \"scripts\", \"04\")\n",
    "cd(ProjDir)"
   ],
   "metadata": {},
   "execution_count": 3
  },
  {
   "outputs": [
    {
     "output_type": "execute_result",
     "data": {
      "text/plain": "5×4 DataFrame\n│ Row │ height   │ weight   │ age      │ male   │\n│     │ \u001b[90mFloat64⍰\u001b[39m │ \u001b[90mFloat64⍰\u001b[39m │ \u001b[90mFloat64⍰\u001b[39m │ \u001b[90mInt64⍰\u001b[39m │\n├─────┼──────────┼──────────┼──────────┼────────┤\n│ 1   │ 151.765  │ 47.8256  │ 63.0     │ 1      │\n│ 2   │ 139.7    │ 36.4858  │ 63.0     │ 0      │\n│ 3   │ 136.525  │ 31.8648  │ 65.0     │ 0      │\n│ 4   │ 156.845  │ 53.0419  │ 41.0     │ 1      │\n│ 5   │ 145.415  │ 41.2769  │ 51.0     │ 0      │",
      "text/html": [
       "<table class=\"data-frame\"><thead><tr><th></th><th>height</th><th>weight</th><th>age</th><th>male</th></tr><tr><th></th><th>Float64⍰</th><th>Float64⍰</th><th>Float64⍰</th><th>Int64⍰</th></tr></thead><tbody><p>5 rows × 4 columns</p><tr><th>1</th><td>151.765</td><td>47.8256</td><td>63.0</td><td>1</td></tr><tr><th>2</th><td>139.7</td><td>36.4858</td><td>63.0</td><td>0</td></tr><tr><th>3</th><td>136.525</td><td>31.8648</td><td>65.0</td><td>0</td></tr><tr><th>4</th><td>156.845</td><td>53.0419</td><td>41.0</td><td>1</td></tr><tr><th>5</th><td>145.415</td><td>41.2769</td><td>51.0</td><td>0</td></tr></tbody></table>"
      ]
     },
     "metadata": {},
     "execution_count": 4
    }
   ],
   "cell_type": "code",
   "source": [
    "howell1 = CSV.read(rel_path(\"..\", \"data\", \"Howell1.csv\"), delim=';')\n",
    "df = convert(DataFrame, howell1);\n",
    "df2 = filter(row -> row[:age] >= 18, df);\n",
    "first(df2, 5)"
   ],
   "metadata": {},
   "execution_count": 4
  },
  {
   "outputs": [],
   "cell_type": "markdown",
   "source": [
    "### Snippet 4.21"
   ],
   "metadata": {}
  },
  {
   "outputs": [],
   "cell_type": "markdown",
   "source": [
    "Sample 20 random heights"
   ],
   "metadata": {}
  },
  {
   "outputs": [],
   "cell_type": "code",
   "source": [
    "n = size(df2, 1)\n",
    "selected_ind = sample(1:n, 20, replace=false);\n",
    "df3 = df2[selected_ind, :];"
   ],
   "metadata": {},
   "execution_count": 5
  },
  {
   "outputs": [],
   "cell_type": "markdown",
   "source": [
    "### Snippet 4.22"
   ],
   "metadata": {}
  },
  {
   "outputs": [],
   "cell_type": "markdown",
   "source": [
    "Generate approximate probabilities"
   ],
   "metadata": {}
  },
  {
   "outputs": [
    {
     "output_type": "execute_result",
     "data": {
      "text/plain": "10×5 DataFrame\n│ Row │ mu      │ sigma   │ ll       │ prod     │ prob        │\n│     │ \u001b[90mFloat64\u001b[39m │ \u001b[90mFloat64\u001b[39m │ \u001b[90mFloat64\u001b[39m  │ \u001b[90mFloat64\u001b[39m  │ \u001b[90mFloat64\u001b[39m     │\n├─────┼─────────┼─────────┼──────────┼──────────┼─────────────┤\n│ 1   │ 140.0   │ 4.0     │ -255.831 │ -265.463 │ 7.38508e-81 │\n│ 2   │ 140.151 │ 4.0     │ -252.849 │ -262.466 │ 1.47898e-79 │\n│ 3   │ 140.302 │ 4.0     │ -249.894 │ -259.497 │ 2.87877e-78 │\n│ 4   │ 140.452 │ 4.0     │ -246.968 │ -256.557 │ 5.44614e-77 │\n│ 5   │ 140.603 │ 4.0     │ -244.071 │ -253.646 │ 1.0014e-75  │\n│ 6   │ 140.754 │ 4.0     │ -241.202 │ -250.762 │ 1.78965e-74 │\n│ 7   │ 140.905 │ 4.0     │ -238.361 │ -247.908 │ 3.10858e-73 │\n│ 8   │ 141.055 │ 4.0     │ -235.549 │ -245.081 │ 5.24803e-72 │\n│ 9   │ 141.206 │ 4.0     │ -232.765 │ -242.284 │ 8.61127e-71 │\n│ 10  │ 141.357 │ 4.0     │ -230.009 │ -239.514 │ 1.37333e-69 │",
      "text/html": [
       "<table class=\"data-frame\"><thead><tr><th></th><th>mu</th><th>sigma</th><th>ll</th><th>prod</th><th>prob</th></tr><tr><th></th><th>Float64</th><th>Float64</th><th>Float64</th><th>Float64</th><th>Float64</th></tr></thead><tbody><p>10 rows × 5 columns</p><tr><th>1</th><td>140.0</td><td>4.0</td><td>-255.831</td><td>-265.463</td><td>7.38508e-81</td></tr><tr><th>2</th><td>140.151</td><td>4.0</td><td>-252.849</td><td>-262.466</td><td>1.47898e-79</td></tr><tr><th>3</th><td>140.302</td><td>4.0</td><td>-249.894</td><td>-259.497</td><td>2.87877e-78</td></tr><tr><th>4</th><td>140.452</td><td>4.0</td><td>-246.968</td><td>-256.557</td><td>5.44614e-77</td></tr><tr><th>5</th><td>140.603</td><td>4.0</td><td>-244.071</td><td>-253.646</td><td>1.0014e-75</td></tr><tr><th>6</th><td>140.754</td><td>4.0</td><td>-241.202</td><td>-250.762</td><td>1.78965e-74</td></tr><tr><th>7</th><td>140.905</td><td>4.0</td><td>-238.361</td><td>-247.908</td><td>3.10858e-73</td></tr><tr><th>8</th><td>141.055</td><td>4.0</td><td>-235.549</td><td>-245.081</td><td>5.24803e-72</td></tr><tr><th>9</th><td>141.206</td><td>4.0</td><td>-232.765</td><td>-242.284</td><td>8.61127e-71</td></tr><tr><th>10</th><td>141.357</td><td>4.0</td><td>-230.009</td><td>-239.514</td><td>1.37333e-69</td></tr></tbody></table>"
      ]
     },
     "metadata": {},
     "execution_count": 6
    }
   ],
   "cell_type": "code",
   "source": [
    "struct Post\n",
    "  mu::Float64\n",
    "  sigma::Float64\n",
    "  ll:: Float64\n",
    "  prod::Float64\n",
    "  prob::Float64\n",
    "end\n",
    "\n",
    "mu_list = repeat(range(140, 170, length=200), 200);\n",
    "sigma_list = repeat(range(4, 20, length=200), inner=200);\n",
    "\n",
    "ll = zeros(40000);\n",
    "for i in 1:40000\n",
    "    d1 = Normal(mu_list[i], sigma_list[i])\n",
    "    ll[i] = sum(log.(pdf.(d1, df3[:height])))\n",
    "end\n",
    "\n",
    "d2 = Normal(178.0, 20.0)\n",
    "d3 = Uniform(0, 50)\n",
    "prod = ll + log.(pdf.(d2, mu_list)) + log.(pdf.(d3, sigma_list))\n",
    "prob = exp.(prod .- maximum(prod))\n",
    "post = DataFrame(mu=mu_list, sigma=sigma_list, ll=ll, prod=prod, prob=prob)\n",
    "first(post, 10)"
   ],
   "metadata": {},
   "execution_count": 6
  },
  {
   "outputs": [],
   "cell_type": "markdown",
   "source": [
    "Sample post"
   ],
   "metadata": {}
  },
  {
   "outputs": [
    {
     "output_type": "execute_result",
     "data": {
      "text/plain": "10000×5 DataFrame\n│ Row   │ mu      │ sigma   │ ll       │ prod     │ prob      │\n│       │ \u001b[90mFloat64\u001b[39m │ \u001b[90mFloat64\u001b[39m │ \u001b[90mFloat64\u001b[39m  │ \u001b[90mFloat64\u001b[39m  │ \u001b[90mFloat64\u001b[39m   │\n├───────┼─────────┼─────────┼──────────┼──────────┼───────────┤\n│ 1     │ 155.678 │ 10.0302 │ -72.7089 │ -81.1584 │ 0.814431  │\n│ 2     │ 158.392 │ 9.94975 │ -73.3015 │ -81.6088 │ 0.519135  │\n│ 3     │ 157.337 │ 9.62814 │ -72.8074 │ -81.1678 │ 0.80685   │\n│ 4     │ 156.734 │ 8.98492 │ -72.6102 │ -81.0023 │ 0.952097  │\n│ 5     │ 157.487 │ 7.21608 │ -74.2546 │ -82.6073 │ 0.191267  │\n│ 6     │ 156.884 │ 10.1106 │ -72.8275 │ -81.2115 │ 0.772329  │\n│ 7     │ 154.774 │ 10.7538 │ -73.1394 │ -81.6404 │ 0.502976  │\n⋮\n│ 9993  │ 156.734 │ 7.9397  │ -73.0329 │ -81.425  │ 0.623885  │\n│ 9994  │ 155.377 │ 8.34171 │ -72.7186 │ -81.185  │ 0.793057  │\n│ 9995  │ 154.322 │ 10.995  │ -73.3696 │ -81.8972 │ 0.38907   │\n│ 9996  │ 157.789 │ 9.86935 │ -73.0152 │ -81.3525 │ 0.670737  │\n│ 9997  │ 158.09  │ 10.191  │ -73.2252 │ -81.5473 │ 0.552022  │\n│ 9998  │ 153.719 │ 10.191  │ -73.2247 │ -81.7883 │ 0.433803  │\n│ 9999  │ 156.281 │ 9.46734 │ -72.5703 │ -80.9867 │ 0.967065  │\n│ 10000 │ 152.362 │ 8.1005  │ -74.7216 │ -83.3699 │ 0.0892108 │",
      "text/html": [
       "<table class=\"data-frame\"><thead><tr><th></th><th>mu</th><th>sigma</th><th>ll</th><th>prod</th><th>prob</th></tr><tr><th></th><th>Float64</th><th>Float64</th><th>Float64</th><th>Float64</th><th>Float64</th></tr></thead><tbody><p>10,000 rows × 5 columns</p><tr><th>1</th><td>155.678</td><td>10.0302</td><td>-72.7089</td><td>-81.1584</td><td>0.814431</td></tr><tr><th>2</th><td>158.392</td><td>9.94975</td><td>-73.3015</td><td>-81.6088</td><td>0.519135</td></tr><tr><th>3</th><td>157.337</td><td>9.62814</td><td>-72.8074</td><td>-81.1678</td><td>0.80685</td></tr><tr><th>4</th><td>156.734</td><td>8.98492</td><td>-72.6102</td><td>-81.0023</td><td>0.952097</td></tr><tr><th>5</th><td>157.487</td><td>7.21608</td><td>-74.2546</td><td>-82.6073</td><td>0.191267</td></tr><tr><th>6</th><td>156.884</td><td>10.1106</td><td>-72.8275</td><td>-81.2115</td><td>0.772329</td></tr><tr><th>7</th><td>154.774</td><td>10.7538</td><td>-73.1394</td><td>-81.6404</td><td>0.502976</td></tr><tr><th>8</th><td>156.432</td><td>9.78894</td><td>-72.6559</td><td>-81.064</td><td>0.895048</td></tr><tr><th>9</th><td>154.472</td><td>9.22613</td><td>-72.7674</td><td>-81.286</td><td>0.716888</td></tr><tr><th>10</th><td>154.925</td><td>9.14573</td><td>-72.6376</td><td>-81.1299</td><td>0.837985</td></tr><tr><th>11</th><td>154.472</td><td>8.74372</td><td>-72.8213</td><td>-81.3399</td><td>0.67928</td></tr><tr><th>12</th><td>155.377</td><td>13.3266</td><td>-74.8422</td><td>-83.3086</td><td>0.0948483</td></tr><tr><th>13</th><td>159.598</td><td>10.593</td><td>-74.1623</td><td>-82.4123</td><td>0.232441</td></tr><tr><th>14</th><td>156.131</td><td>12.7638</td><td>-74.386</td><td>-82.8106</td><td>0.156076</td></tr><tr><th>15</th><td>153.417</td><td>12.2814</td><td>-74.4286</td><td>-83.0107</td><td>0.127767</td></tr><tr><th>16</th><td>154.925</td><td>11.8794</td><td>-73.798</td><td>-82.2903</td><td>0.262605</td></tr><tr><th>17</th><td>157.337</td><td>11.6382</td><td>-73.7165</td><td>-82.0769</td><td>0.325053</td></tr><tr><th>18</th><td>153.266</td><td>8.50251</td><td>-73.5779</td><td>-82.1693</td><td>0.296363</td></tr><tr><th>19</th><td>155.075</td><td>8.0201</td><td>-72.9705</td><td>-81.4541</td><td>0.605966</td></tr><tr><th>20</th><td>154.925</td><td>9.78894</td><td>-72.7268</td><td>-81.2191</td><td>0.766462</td></tr><tr><th>21</th><td>158.09</td><td>8.34171</td><td>-73.3657</td><td>-81.6879</td><td>0.479632</td></tr><tr><th>22</th><td>158.09</td><td>9.38693</td><td>-73.085</td><td>-81.4072</td><td>0.635047</td></tr><tr><th>23</th><td>153.417</td><td>12.603</td><td>-74.6489</td><td>-83.231</td><td>0.102503</td></tr><tr><th>24</th><td>157.487</td><td>9.38693</td><td>-72.827</td><td>-81.1797</td><td>0.797302</td></tr><tr><th>&vellip;</th><td>&vellip;</td><td>&vellip;</td><td>&vellip;</td><td>&vellip;</td><td>&vellip;</td></tr></tbody></table>"
      ]
     },
     "metadata": {},
     "execution_count": 7
    }
   ],
   "cell_type": "code",
   "source": [
    "samples = post[sample(1:size(post, 1), Weights(post[:prob]), 10000, replace=true), :]"
   ],
   "metadata": {},
   "execution_count": 7
  },
  {
   "outputs": [],
   "cell_type": "markdown",
   "source": [
    "### Snippet 4.23"
   ],
   "metadata": {}
  },
  {
   "outputs": [],
   "cell_type": "markdown",
   "source": [
    "Density of sigma"
   ],
   "metadata": {}
  },
  {
   "outputs": [
    {
     "output_type": "execute_result",
     "data": {
      "text/plain": "Plot{Plots.GRBackend() n=1}",
      "image/png": "[encoded data removed]",
      "text/html": [
       "<?xml version=\"1.0\" encoding=\"utf-8\"?>\n",
       "<svg xmlns=\"http://www.w3.org/2000/svg\" xmlns:xlink=\"http://www.w3.org/1999/xlink\" width=\"500\" height=\"500\" viewBox=\"0 0 2000 2000\">\n",
       "<defs>\n",
       "  <clipPath id=\"clip3300\">\n",
       "    <rect x=\"0\" y=\"0\" width=\"2000\" height=\"2000\"/>\n",
       "  </clipPath>\n",
       "</defs>\n",
       "<polygon clip-path=\"url(#clip3300)\" points=\"\n",
       "0,2000 2000,2000 2000,0 0,0 \n",
       "  \" fill=\"#ffffff\" fill-rule=\"evenodd\" fill-opacity=\"1\"/>\n",
       "<defs>\n",
       "  <clipPath id=\"clip3301\">\n",
       "    <rect x=\"400\" y=\"200\" width=\"1401\" height=\"1401\"/>\n",
       "  </clipPath>\n",
       "</defs>\n",
       "<polygon clip-path=\"url(#clip3300)\" points=\"\n",
       "188.156,1886.71 1921.26,1886.71 1921.26,47.2441 188.156,47.2441 \n",
       "  \" fill=\"#ffffff\" fill-rule=\"evenodd\" fill-opacity=\"1\"/>\n",
       "<defs>\n",
       "  <clipPath id=\"clip3302\">\n",
       "    <rect x=\"188\" y=\"47\" width=\"1734\" height=\"1840\"/>\n",
       "  </clipPath>\n",
       "</defs>\n",
       "<polyline clip-path=\"url(#clip3302)\" style=\"stroke:#000000; stroke-width:2; stroke-opacity:0.1; fill:none\" points=\"\n",
       "  361.375,1886.71 361.375,47.2441 \n",
       "  \"/>\n",
       "<polyline clip-path=\"url(#clip3302)\" style=\"stroke:#000000; stroke-width:2; stroke-opacity:0.1; fill:none\" points=\"\n",
       "  674.476,1886.71 674.476,47.2441 \n",
       "  \"/>\n",
       "<polyline clip-path=\"url(#clip3302)\" style=\"stroke:#000000; stroke-width:2; stroke-opacity:0.1; fill:none\" points=\"\n",
       "  987.577,1886.71 987.577,47.2441 \n",
       "  \"/>\n",
       "<polyline clip-path=\"url(#clip3302)\" style=\"stroke:#000000; stroke-width:2; stroke-opacity:0.1; fill:none\" points=\"\n",
       "  1300.68,1886.71 1300.68,47.2441 \n",
       "  \"/>\n",
       "<polyline clip-path=\"url(#clip3302)\" style=\"stroke:#000000; stroke-width:2; stroke-opacity:0.1; fill:none\" points=\"\n",
       "  1613.78,1886.71 1613.78,47.2441 \n",
       "  \"/>\n",
       "<polyline clip-path=\"url(#clip3302)\" style=\"stroke:#000000; stroke-width:2; stroke-opacity:0.1; fill:none\" points=\"\n",
       "  188.156,1834.65 1921.26,1834.65 \n",
       "  \"/>\n",
       "<polyline clip-path=\"url(#clip3302)\" style=\"stroke:#000000; stroke-width:2; stroke-opacity:0.1; fill:none\" points=\"\n",
       "  188.156,1487.61 1921.26,1487.61 \n",
       "  \"/>\n",
       "<polyline clip-path=\"url(#clip3302)\" style=\"stroke:#000000; stroke-width:2; stroke-opacity:0.1; fill:none\" points=\"\n",
       "  188.156,1140.56 1921.26,1140.56 \n",
       "  \"/>\n",
       "<polyline clip-path=\"url(#clip3302)\" style=\"stroke:#000000; stroke-width:2; stroke-opacity:0.1; fill:none\" points=\"\n",
       "  188.156,793.519 1921.26,793.519 \n",
       "  \"/>\n",
       "<polyline clip-path=\"url(#clip3302)\" style=\"stroke:#000000; stroke-width:2; stroke-opacity:0.1; fill:none\" points=\"\n",
       "  188.156,446.477 1921.26,446.477 \n",
       "  \"/>\n",
       "<polyline clip-path=\"url(#clip3302)\" style=\"stroke:#000000; stroke-width:2; stroke-opacity:0.1; fill:none\" points=\"\n",
       "  188.156,99.4335 1921.26,99.4335 \n",
       "  \"/>\n",
       "<polyline clip-path=\"url(#clip3300)\" style=\"stroke:#000000; stroke-width:4; stroke-opacity:1; fill:none\" points=\"\n",
       "  188.156,1886.71 1921.26,1886.71 \n",
       "  \"/>\n",
       "<polyline clip-path=\"url(#clip3300)\" style=\"stroke:#000000; stroke-width:4; stroke-opacity:1; fill:none\" points=\"\n",
       "  188.156,1886.71 188.156,47.2441 \n",
       "  \"/>\n",
       "<polyline clip-path=\"url(#clip3300)\" style=\"stroke:#000000; stroke-width:4; stroke-opacity:1; fill:none\" points=\"\n",
       "  361.375,1886.71 361.375,1859.12 \n",
       "  \"/>\n",
       "<polyline clip-path=\"url(#clip3300)\" style=\"stroke:#000000; stroke-width:4; stroke-opacity:1; fill:none\" points=\"\n",
       "  674.476,1886.71 674.476,1859.12 \n",
       "  \"/>\n",
       "<polyline clip-path=\"url(#clip3300)\" style=\"stroke:#000000; stroke-width:4; stroke-opacity:1; fill:none\" points=\"\n",
       "  987.577,1886.71 987.577,1859.12 \n",
       "  \"/>\n",
       "<polyline clip-path=\"url(#clip3300)\" style=\"stroke:#000000; stroke-width:4; stroke-opacity:1; fill:none\" points=\"\n",
       "  1300.68,1886.71 1300.68,1859.12 \n",
       "  \"/>\n",
       "<polyline clip-path=\"url(#clip3300)\" style=\"stroke:#000000; stroke-width:4; stroke-opacity:1; fill:none\" points=\"\n",
       "  1613.78,1886.71 1613.78,1859.12 \n",
       "  \"/>\n",
       "<polyline clip-path=\"url(#clip3300)\" style=\"stroke:#000000; stroke-width:4; stroke-opacity:1; fill:none\" points=\"\n",
       "  188.156,1834.65 214.153,1834.65 \n",
       "  \"/>\n",
       "<polyline clip-path=\"url(#clip3300)\" style=\"stroke:#000000; stroke-width:4; stroke-opacity:1; fill:none\" points=\"\n",
       "  188.156,1487.61 214.153,1487.61 \n",
       "  \"/>\n",
       "<polyline clip-path=\"url(#clip3300)\" style=\"stroke:#000000; stroke-width:4; stroke-opacity:1; fill:none\" points=\"\n",
       "  188.156,1140.56 214.153,1140.56 \n",
       "  \"/>\n",
       "<polyline clip-path=\"url(#clip3300)\" style=\"stroke:#000000; stroke-width:4; stroke-opacity:1; fill:none\" points=\"\n",
       "  188.156,793.519 214.153,793.519 \n",
       "  \"/>\n",
       "<polyline clip-path=\"url(#clip3300)\" style=\"stroke:#000000; stroke-width:4; stroke-opacity:1; fill:none\" points=\"\n",
       "  188.156,446.477 214.153,446.477 \n",
       "  \"/>\n",
       "<polyline clip-path=\"url(#clip3300)\" style=\"stroke:#000000; stroke-width:4; stroke-opacity:1; fill:none\" points=\"\n",
       "  188.156,99.4335 214.153,99.4335 \n",
       "  \"/>\n",
       "<g clip-path=\"url(#clip3300)\">\n",
       "<text style=\"fill:#000000; fill-opacity:1; font-family:Arial,Helvetica Neue,Helvetica,sans-serif; font-size:48px; text-anchor:middle;\" transform=\"rotate(0, 361.375, 1938.71)\" x=\"361.375\" y=\"1938.71\">6</text>\n",
       "</g>\n",
       "<g clip-path=\"url(#clip3300)\">\n",
       "<text style=\"fill:#000000; fill-opacity:1; font-family:Arial,Helvetica Neue,Helvetica,sans-serif; font-size:48px; text-anchor:middle;\" transform=\"rotate(0, 674.476, 1938.71)\" x=\"674.476\" y=\"1938.71\">9</text>\n",
       "</g>\n",
       "<g clip-path=\"url(#clip3300)\">\n",
       "<text style=\"fill:#000000; fill-opacity:1; font-family:Arial,Helvetica Neue,Helvetica,sans-serif; font-size:48px; text-anchor:middle;\" transform=\"rotate(0, 987.577, 1938.71)\" x=\"987.577\" y=\"1938.71\">12</text>\n",
       "</g>\n",
       "<g clip-path=\"url(#clip3300)\">\n",
       "<text style=\"fill:#000000; fill-opacity:1; font-family:Arial,Helvetica Neue,Helvetica,sans-serif; font-size:48px; text-anchor:middle;\" transform=\"rotate(0, 1300.68, 1938.71)\" x=\"1300.68\" y=\"1938.71\">15</text>\n",
       "</g>\n",
       "<g clip-path=\"url(#clip3300)\">\n",
       "<text style=\"fill:#000000; fill-opacity:1; font-family:Arial,Helvetica Neue,Helvetica,sans-serif; font-size:48px; text-anchor:middle;\" transform=\"rotate(0, 1613.78, 1938.71)\" x=\"1613.78\" y=\"1938.71\">18</text>\n",
       "</g>\n",
       "<g clip-path=\"url(#clip3300)\">\n",
       "<text style=\"fill:#000000; fill-opacity:1; font-family:Arial,Helvetica Neue,Helvetica,sans-serif; font-size:48px; text-anchor:end;\" transform=\"rotate(0, 168.156, 1852.15)\" x=\"168.156\" y=\"1852.15\">0.00</text>\n",
       "</g>\n",
       "<g clip-path=\"url(#clip3300)\">\n",
       "<text style=\"fill:#000000; fill-opacity:1; font-family:Arial,Helvetica Neue,Helvetica,sans-serif; font-size:48px; text-anchor:end;\" transform=\"rotate(0, 168.156, 1505.11)\" x=\"168.156\" y=\"1505.11\">0.05</text>\n",
       "</g>\n",
       "<g clip-path=\"url(#clip3300)\">\n",
       "<text style=\"fill:#000000; fill-opacity:1; font-family:Arial,Helvetica Neue,Helvetica,sans-serif; font-size:48px; text-anchor:end;\" transform=\"rotate(0, 168.156, 1158.06)\" x=\"168.156\" y=\"1158.06\">0.10</text>\n",
       "</g>\n",
       "<g clip-path=\"url(#clip3300)\">\n",
       "<text style=\"fill:#000000; fill-opacity:1; font-family:Arial,Helvetica Neue,Helvetica,sans-serif; font-size:48px; text-anchor:end;\" transform=\"rotate(0, 168.156, 811.019)\" x=\"168.156\" y=\"811.019\">0.15</text>\n",
       "</g>\n",
       "<g clip-path=\"url(#clip3300)\">\n",
       "<text style=\"fill:#000000; fill-opacity:1; font-family:Arial,Helvetica Neue,Helvetica,sans-serif; font-size:48px; text-anchor:end;\" transform=\"rotate(0, 168.156, 463.977)\" x=\"168.156\" y=\"463.977\">0.20</text>\n",
       "</g>\n",
       "<g clip-path=\"url(#clip3300)\">\n",
       "<text style=\"fill:#000000; fill-opacity:1; font-family:Arial,Helvetica Neue,Helvetica,sans-serif; font-size:48px; text-anchor:end;\" transform=\"rotate(0, 168.156, 116.934)\" x=\"168.156\" y=\"116.934\">0.25</text>\n",
       "</g>\n",
       "<polyline clip-path=\"url(#clip3302)\" style=\"stroke:#009af9; stroke-width:4; stroke-opacity:1; fill:none\" points=\"\n",
       "  237.206,1834.65 245.423,1834.65 253.639,1834.64 261.855,1834.63 270.071,1834.61 278.287,1834.55 286.503,1834.43 294.719,1834.19 302.935,1833.78 311.151,1833.11 \n",
       "  319.367,1832.07 327.584,1830.56 335.8,1828.45 344.016,1825.61 352.232,1821.88 360.448,1817.05 368.664,1810.89 376.88,1803.11 385.096,1793.38 393.312,1781.46 \n",
       "  401.528,1767.16 409.745,1750.4 417.961,1731.19 426.177,1709.48 434.393,1685.06 442.609,1657.51 450.825,1626.18 459.041,1590.31 467.257,1549.24 475.473,1502.58 \n",
       "  483.689,1450.25 491.905,1392.58 500.122,1330.25 508.338,1264.36 516.554,1196.37 524.77,1128 532.986,1060.87 541.202,996.024 549.418,933.695 557.634,873.29 \n",
       "  565.85,813.747 574.066,754 582.283,693.366 590.499,631.776 598.715,569.815 606.931,508.539 615.147,449.039 623.363,391.957 631.579,337.324 639.795,284.981 \n",
       "  648.011,235.382 656.227,190.157 664.444,151.91 672.66,123.281 680.876,105.821 689.092,99.3044 697.308,101.789 705.524,110.318 713.74,121.945 721.956,134.647 \n",
       "  730.172,147.759 738.388,161.703 746.604,177.202 754.821,194.486 763.037,213.081 771.253,232.347 779.469,252.35 787.685,274.374 795.901,300.592 804.117,333.001 \n",
       "  812.333,372.268 820.549,417.205 828.765,465.229 836.982,513.498 845.198,560.046 853.414,604.251 861.63,646.5 869.846,687.453 878.062,727.507 886.278,766.785 \n",
       "  894.494,805.433 902.71,843.784 910.926,882.144 919.143,920.427 927.359,958.03 935.575,994.157 943.791,1028.34 952.007,1060.75 960.223,1092.1 968.439,1123.24 \n",
       "  976.655,1154.76 984.871,1186.82 993.087,1219.23 1001.3,1251.63 1009.52,1283.56 1017.74,1314.52 1025.95,1343.93 1034.17,1371.3 1042.38,1396.37 1050.6,1419.3 \n",
       "  1058.82,1440.61 1067.03,1461.04 1075.25,1481.13 1083.46,1501.07 1091.68,1520.68 1099.9,1539.52 1108.11,1557.15 1116.33,1573.31 1124.54,1588.01 1132.76,1601.41 \n",
       "  1140.98,1613.79 1149.19,1625.41 1157.41,1636.59 1165.63,1647.64 1173.84,1658.88 1182.06,1670.36 1190.27,1681.82 1198.49,1692.64 1206.71,1702.14 1214.92,1709.85 \n",
       "  1223.14,1715.75 1231.35,1720.29 1239.57,1724.16 1247.79,1728.05 1256,1732.49 1264.22,1737.66 1272.43,1743.52 1280.65,1749.75 1288.87,1755.96 1297.08,1761.71 \n",
       "  1305.3,1766.74 1313.52,1770.97 1321.73,1774.62 1329.95,1778.06 1338.16,1781.57 1346.38,1785.21 1354.6,1788.75 1362.81,1791.81 1371.03,1794.07 1379.24,1795.49 \n",
       "  1387.46,1796.33 1395.68,1797.08 1403.89,1798.19 1412.11,1799.92 1420.32,1802.24 1428.54,1804.92 1436.76,1807.69 1444.97,1810.36 1453.19,1812.85 1461.4,1815.1 \n",
       "  1469.62,1817.08 1477.84,1818.7 1486.05,1819.9 1494.27,1820.72 1502.49,1821.29 1510.7,1821.82 1518.92,1822.49 1527.13,1823.38 1535.35,1824.43 1543.57,1825.51 \n",
       "  1551.78,1826.47 1560,1827.18 1568.21,1827.56 1576.43,1827.6 1584.65,1827.3 1592.86,1826.75 1601.08,1826.08 1609.29,1825.45 1617.51,1825 1625.73,1824.79 \n",
       "  1633.94,1824.89 1642.16,1825.27 1650.38,1825.92 1658.59,1826.79 1666.81,1827.8 1675.02,1828.81 1683.24,1829.71 1691.46,1830.43 1699.67,1830.97 1707.89,1831.39 \n",
       "  1716.1,1831.73 1724.32,1832.01 1732.54,1832.19 1740.75,1832.27 1748.97,1832.24 1757.18,1832.18 1765.4,1832.19 1773.62,1832.34 1781.83,1832.65 1790.05,1833.07 \n",
       "  1798.26,1833.52 1806.48,1833.92 1814.7,1834.22 1822.91,1834.42 1831.13,1834.54 1839.35,1834.6 1847.56,1834.63 1855.78,1834.64 1863.99,1834.65 1872.21,1834.65 \n",
       "  \n",
       "  \"/>\n",
       "<polygon clip-path=\"url(#clip3300)\" points=\"\n",
       "1610.43,227.724 1861.26,227.724 1861.26,106.764 1610.43,106.764 \n",
       "  \" fill=\"#ffffff\" fill-rule=\"evenodd\" fill-opacity=\"1\"/>\n",
       "<polyline clip-path=\"url(#clip3300)\" style=\"stroke:#000000; stroke-width:4; stroke-opacity:1; fill:none\" points=\"\n",
       "  1610.43,227.724 1861.26,227.724 1861.26,106.764 1610.43,106.764 1610.43,227.724 \n",
       "  \"/>\n",
       "<polyline clip-path=\"url(#clip3300)\" style=\"stroke:#009af9; stroke-width:4; stroke-opacity:1; fill:none\" points=\"\n",
       "  1630.43,167.244 1750.43,167.244 \n",
       "  \"/>\n",
       "<g clip-path=\"url(#clip3300)\">\n",
       "<text style=\"fill:#000000; fill-opacity:1; font-family:Arial,Helvetica Neue,Helvetica,sans-serif; font-size:48px; text-anchor:start;\" transform=\"rotate(0, 1770.43, 184.744)\" x=\"1770.43\" y=\"184.744\">y1</text>\n",
       "</g>\n",
       "</svg>\n"
      ],
      "image/svg+xml": [
       "<?xml version=\"1.0\" encoding=\"utf-8\"?>\n",
       "<svg xmlns=\"http://www.w3.org/2000/svg\" xmlns:xlink=\"http://www.w3.org/1999/xlink\" width=\"500\" height=\"500\" viewBox=\"0 0 2000 2000\">\n",
       "<defs>\n",
       "  <clipPath id=\"clip3200\">\n",
       "    <rect x=\"0\" y=\"0\" width=\"2000\" height=\"2000\"/>\n",
       "  </clipPath>\n",
       "</defs>\n",
       "<polygon clip-path=\"url(#clip3200)\" points=\"\n",
       "0,2000 2000,2000 2000,0 0,0 \n",
       "  \" fill=\"#ffffff\" fill-rule=\"evenodd\" fill-opacity=\"1\"/>\n",
       "<defs>\n",
       "  <clipPath id=\"clip3201\">\n",
       "    <rect x=\"400\" y=\"200\" width=\"1401\" height=\"1401\"/>\n",
       "  </clipPath>\n",
       "</defs>\n",
       "<polygon clip-path=\"url(#clip3200)\" points=\"\n",
       "188.156,1886.71 1921.26,1886.71 1921.26,47.2441 188.156,47.2441 \n",
       "  \" fill=\"#ffffff\" fill-rule=\"evenodd\" fill-opacity=\"1\"/>\n",
       "<defs>\n",
       "  <clipPath id=\"clip3202\">\n",
       "    <rect x=\"188\" y=\"47\" width=\"1734\" height=\"1840\"/>\n",
       "  </clipPath>\n",
       "</defs>\n",
       "<polyline clip-path=\"url(#clip3202)\" style=\"stroke:#000000; stroke-width:2; stroke-opacity:0.1; fill:none\" points=\"\n",
       "  361.375,1886.71 361.375,47.2441 \n",
       "  \"/>\n",
       "<polyline clip-path=\"url(#clip3202)\" style=\"stroke:#000000; stroke-width:2; stroke-opacity:0.1; fill:none\" points=\"\n",
       "  674.476,1886.71 674.476,47.2441 \n",
       "  \"/>\n",
       "<polyline clip-path=\"url(#clip3202)\" style=\"stroke:#000000; stroke-width:2; stroke-opacity:0.1; fill:none\" points=\"\n",
       "  987.577,1886.71 987.577,47.2441 \n",
       "  \"/>\n",
       "<polyline clip-path=\"url(#clip3202)\" style=\"stroke:#000000; stroke-width:2; stroke-opacity:0.1; fill:none\" points=\"\n",
       "  1300.68,1886.71 1300.68,47.2441 \n",
       "  \"/>\n",
       "<polyline clip-path=\"url(#clip3202)\" style=\"stroke:#000000; stroke-width:2; stroke-opacity:0.1; fill:none\" points=\"\n",
       "  1613.78,1886.71 1613.78,47.2441 \n",
       "  \"/>\n",
       "<polyline clip-path=\"url(#clip3202)\" style=\"stroke:#000000; stroke-width:2; stroke-opacity:0.1; fill:none\" points=\"\n",
       "  188.156,1834.65 1921.26,1834.65 \n",
       "  \"/>\n",
       "<polyline clip-path=\"url(#clip3202)\" style=\"stroke:#000000; stroke-width:2; stroke-opacity:0.1; fill:none\" points=\"\n",
       "  188.156,1487.61 1921.26,1487.61 \n",
       "  \"/>\n",
       "<polyline clip-path=\"url(#clip3202)\" style=\"stroke:#000000; stroke-width:2; stroke-opacity:0.1; fill:none\" points=\"\n",
       "  188.156,1140.56 1921.26,1140.56 \n",
       "  \"/>\n",
       "<polyline clip-path=\"url(#clip3202)\" style=\"stroke:#000000; stroke-width:2; stroke-opacity:0.1; fill:none\" points=\"\n",
       "  188.156,793.519 1921.26,793.519 \n",
       "  \"/>\n",
       "<polyline clip-path=\"url(#clip3202)\" style=\"stroke:#000000; stroke-width:2; stroke-opacity:0.1; fill:none\" points=\"\n",
       "  188.156,446.477 1921.26,446.477 \n",
       "  \"/>\n",
       "<polyline clip-path=\"url(#clip3202)\" style=\"stroke:#000000; stroke-width:2; stroke-opacity:0.1; fill:none\" points=\"\n",
       "  188.156,99.4335 1921.26,99.4335 \n",
       "  \"/>\n",
       "<polyline clip-path=\"url(#clip3200)\" style=\"stroke:#000000; stroke-width:4; stroke-opacity:1; fill:none\" points=\"\n",
       "  188.156,1886.71 1921.26,1886.71 \n",
       "  \"/>\n",
       "<polyline clip-path=\"url(#clip3200)\" style=\"stroke:#000000; stroke-width:4; stroke-opacity:1; fill:none\" points=\"\n",
       "  188.156,1886.71 188.156,47.2441 \n",
       "  \"/>\n",
       "<polyline clip-path=\"url(#clip3200)\" style=\"stroke:#000000; stroke-width:4; stroke-opacity:1; fill:none\" points=\"\n",
       "  361.375,1886.71 361.375,1859.12 \n",
       "  \"/>\n",
       "<polyline clip-path=\"url(#clip3200)\" style=\"stroke:#000000; stroke-width:4; stroke-opacity:1; fill:none\" points=\"\n",
       "  674.476,1886.71 674.476,1859.12 \n",
       "  \"/>\n",
       "<polyline clip-path=\"url(#clip3200)\" style=\"stroke:#000000; stroke-width:4; stroke-opacity:1; fill:none\" points=\"\n",
       "  987.577,1886.71 987.577,1859.12 \n",
       "  \"/>\n",
       "<polyline clip-path=\"url(#clip3200)\" style=\"stroke:#000000; stroke-width:4; stroke-opacity:1; fill:none\" points=\"\n",
       "  1300.68,1886.71 1300.68,1859.12 \n",
       "  \"/>\n",
       "<polyline clip-path=\"url(#clip3200)\" style=\"stroke:#000000; stroke-width:4; stroke-opacity:1; fill:none\" points=\"\n",
       "  1613.78,1886.71 1613.78,1859.12 \n",
       "  \"/>\n",
       "<polyline clip-path=\"url(#clip3200)\" style=\"stroke:#000000; stroke-width:4; stroke-opacity:1; fill:none\" points=\"\n",
       "  188.156,1834.65 214.153,1834.65 \n",
       "  \"/>\n",
       "<polyline clip-path=\"url(#clip3200)\" style=\"stroke:#000000; stroke-width:4; stroke-opacity:1; fill:none\" points=\"\n",
       "  188.156,1487.61 214.153,1487.61 \n",
       "  \"/>\n",
       "<polyline clip-path=\"url(#clip3200)\" style=\"stroke:#000000; stroke-width:4; stroke-opacity:1; fill:none\" points=\"\n",
       "  188.156,1140.56 214.153,1140.56 \n",
       "  \"/>\n",
       "<polyline clip-path=\"url(#clip3200)\" style=\"stroke:#000000; stroke-width:4; stroke-opacity:1; fill:none\" points=\"\n",
       "  188.156,793.519 214.153,793.519 \n",
       "  \"/>\n",
       "<polyline clip-path=\"url(#clip3200)\" style=\"stroke:#000000; stroke-width:4; stroke-opacity:1; fill:none\" points=\"\n",
       "  188.156,446.477 214.153,446.477 \n",
       "  \"/>\n",
       "<polyline clip-path=\"url(#clip3200)\" style=\"stroke:#000000; stroke-width:4; stroke-opacity:1; fill:none\" points=\"\n",
       "  188.156,99.4335 214.153,99.4335 \n",
       "  \"/>\n",
       "<g clip-path=\"url(#clip3200)\">\n",
       "<text style=\"fill:#000000; fill-opacity:1; font-family:Arial,Helvetica Neue,Helvetica,sans-serif; font-size:48px; text-anchor:middle;\" transform=\"rotate(0, 361.375, 1938.71)\" x=\"361.375\" y=\"1938.71\">6</text>\n",
       "</g>\n",
       "<g clip-path=\"url(#clip3200)\">\n",
       "<text style=\"fill:#000000; fill-opacity:1; font-family:Arial,Helvetica Neue,Helvetica,sans-serif; font-size:48px; text-anchor:middle;\" transform=\"rotate(0, 674.476, 1938.71)\" x=\"674.476\" y=\"1938.71\">9</text>\n",
       "</g>\n",
       "<g clip-path=\"url(#clip3200)\">\n",
       "<text style=\"fill:#000000; fill-opacity:1; font-family:Arial,Helvetica Neue,Helvetica,sans-serif; font-size:48px; text-anchor:middle;\" transform=\"rotate(0, 987.577, 1938.71)\" x=\"987.577\" y=\"1938.71\">12</text>\n",
       "</g>\n",
       "<g clip-path=\"url(#clip3200)\">\n",
       "<text style=\"fill:#000000; fill-opacity:1; font-family:Arial,Helvetica Neue,Helvetica,sans-serif; font-size:48px; text-anchor:middle;\" transform=\"rotate(0, 1300.68, 1938.71)\" x=\"1300.68\" y=\"1938.71\">15</text>\n",
       "</g>\n",
       "<g clip-path=\"url(#clip3200)\">\n",
       "<text style=\"fill:#000000; fill-opacity:1; font-family:Arial,Helvetica Neue,Helvetica,sans-serif; font-size:48px; text-anchor:middle;\" transform=\"rotate(0, 1613.78, 1938.71)\" x=\"1613.78\" y=\"1938.71\">18</text>\n",
       "</g>\n",
       "<g clip-path=\"url(#clip3200)\">\n",
       "<text style=\"fill:#000000; fill-opacity:1; font-family:Arial,Helvetica Neue,Helvetica,sans-serif; font-size:48px; text-anchor:end;\" transform=\"rotate(0, 168.156, 1852.15)\" x=\"168.156\" y=\"1852.15\">0.00</text>\n",
       "</g>\n",
       "<g clip-path=\"url(#clip3200)\">\n",
       "<text style=\"fill:#000000; fill-opacity:1; font-family:Arial,Helvetica Neue,Helvetica,sans-serif; font-size:48px; text-anchor:end;\" transform=\"rotate(0, 168.156, 1505.11)\" x=\"168.156\" y=\"1505.11\">0.05</text>\n",
       "</g>\n",
       "<g clip-path=\"url(#clip3200)\">\n",
       "<text style=\"fill:#000000; fill-opacity:1; font-family:Arial,Helvetica Neue,Helvetica,sans-serif; font-size:48px; text-anchor:end;\" transform=\"rotate(0, 168.156, 1158.06)\" x=\"168.156\" y=\"1158.06\">0.10</text>\n",
       "</g>\n",
       "<g clip-path=\"url(#clip3200)\">\n",
       "<text style=\"fill:#000000; fill-opacity:1; font-family:Arial,Helvetica Neue,Helvetica,sans-serif; font-size:48px; text-anchor:end;\" transform=\"rotate(0, 168.156, 811.019)\" x=\"168.156\" y=\"811.019\">0.15</text>\n",
       "</g>\n",
       "<g clip-path=\"url(#clip3200)\">\n",
       "<text style=\"fill:#000000; fill-opacity:1; font-family:Arial,Helvetica Neue,Helvetica,sans-serif; font-size:48px; text-anchor:end;\" transform=\"rotate(0, 168.156, 463.977)\" x=\"168.156\" y=\"463.977\">0.20</text>\n",
       "</g>\n",
       "<g clip-path=\"url(#clip3200)\">\n",
       "<text style=\"fill:#000000; fill-opacity:1; font-family:Arial,Helvetica Neue,Helvetica,sans-serif; font-size:48px; text-anchor:end;\" transform=\"rotate(0, 168.156, 116.934)\" x=\"168.156\" y=\"116.934\">0.25</text>\n",
       "</g>\n",
       "<polyline clip-path=\"url(#clip3202)\" style=\"stroke:#009af9; stroke-width:4; stroke-opacity:1; fill:none\" points=\"\n",
       "  237.206,1834.65 245.423,1834.65 253.639,1834.64 261.855,1834.63 270.071,1834.61 278.287,1834.55 286.503,1834.43 294.719,1834.19 302.935,1833.78 311.151,1833.11 \n",
       "  319.367,1832.07 327.584,1830.56 335.8,1828.45 344.016,1825.61 352.232,1821.88 360.448,1817.05 368.664,1810.89 376.88,1803.11 385.096,1793.38 393.312,1781.46 \n",
       "  401.528,1767.16 409.745,1750.4 417.961,1731.19 426.177,1709.48 434.393,1685.06 442.609,1657.51 450.825,1626.18 459.041,1590.31 467.257,1549.24 475.473,1502.58 \n",
       "  483.689,1450.25 491.905,1392.58 500.122,1330.25 508.338,1264.36 516.554,1196.37 524.77,1128 532.986,1060.87 541.202,996.024 549.418,933.695 557.634,873.29 \n",
       "  565.85,813.747 574.066,754 582.283,693.366 590.499,631.776 598.715,569.815 606.931,508.539 615.147,449.039 623.363,391.957 631.579,337.324 639.795,284.981 \n",
       "  648.011,235.382 656.227,190.157 664.444,151.91 672.66,123.281 680.876,105.821 689.092,99.3044 697.308,101.789 705.524,110.318 713.74,121.945 721.956,134.647 \n",
       "  730.172,147.759 738.388,161.703 746.604,177.202 754.821,194.486 763.037,213.081 771.253,232.347 779.469,252.35 787.685,274.374 795.901,300.592 804.117,333.001 \n",
       "  812.333,372.268 820.549,417.205 828.765,465.229 836.982,513.498 845.198,560.046 853.414,604.251 861.63,646.5 869.846,687.453 878.062,727.507 886.278,766.785 \n",
       "  894.494,805.433 902.71,843.784 910.926,882.144 919.143,920.427 927.359,958.03 935.575,994.157 943.791,1028.34 952.007,1060.75 960.223,1092.1 968.439,1123.24 \n",
       "  976.655,1154.76 984.871,1186.82 993.087,1219.23 1001.3,1251.63 1009.52,1283.56 1017.74,1314.52 1025.95,1343.93 1034.17,1371.3 1042.38,1396.37 1050.6,1419.3 \n",
       "  1058.82,1440.61 1067.03,1461.04 1075.25,1481.13 1083.46,1501.07 1091.68,1520.68 1099.9,1539.52 1108.11,1557.15 1116.33,1573.31 1124.54,1588.01 1132.76,1601.41 \n",
       "  1140.98,1613.79 1149.19,1625.41 1157.41,1636.59 1165.63,1647.64 1173.84,1658.88 1182.06,1670.36 1190.27,1681.82 1198.49,1692.64 1206.71,1702.14 1214.92,1709.85 \n",
       "  1223.14,1715.75 1231.35,1720.29 1239.57,1724.16 1247.79,1728.05 1256,1732.49 1264.22,1737.66 1272.43,1743.52 1280.65,1749.75 1288.87,1755.96 1297.08,1761.71 \n",
       "  1305.3,1766.74 1313.52,1770.97 1321.73,1774.62 1329.95,1778.06 1338.16,1781.57 1346.38,1785.21 1354.6,1788.75 1362.81,1791.81 1371.03,1794.07 1379.24,1795.49 \n",
       "  1387.46,1796.33 1395.68,1797.08 1403.89,1798.19 1412.11,1799.92 1420.32,1802.24 1428.54,1804.92 1436.76,1807.69 1444.97,1810.36 1453.19,1812.85 1461.4,1815.1 \n",
       "  1469.62,1817.08 1477.84,1818.7 1486.05,1819.9 1494.27,1820.72 1502.49,1821.29 1510.7,1821.82 1518.92,1822.49 1527.13,1823.38 1535.35,1824.43 1543.57,1825.51 \n",
       "  1551.78,1826.47 1560,1827.18 1568.21,1827.56 1576.43,1827.6 1584.65,1827.3 1592.86,1826.75 1601.08,1826.08 1609.29,1825.45 1617.51,1825 1625.73,1824.79 \n",
       "  1633.94,1824.89 1642.16,1825.27 1650.38,1825.92 1658.59,1826.79 1666.81,1827.8 1675.02,1828.81 1683.24,1829.71 1691.46,1830.43 1699.67,1830.97 1707.89,1831.39 \n",
       "  1716.1,1831.73 1724.32,1832.01 1732.54,1832.19 1740.75,1832.27 1748.97,1832.24 1757.18,1832.18 1765.4,1832.19 1773.62,1832.34 1781.83,1832.65 1790.05,1833.07 \n",
       "  1798.26,1833.52 1806.48,1833.92 1814.7,1834.22 1822.91,1834.42 1831.13,1834.54 1839.35,1834.6 1847.56,1834.63 1855.78,1834.64 1863.99,1834.65 1872.21,1834.65 \n",
       "  \n",
       "  \"/>\n",
       "<polygon clip-path=\"url(#clip3200)\" points=\"\n",
       "1610.43,227.724 1861.26,227.724 1861.26,106.764 1610.43,106.764 \n",
       "  \" fill=\"#ffffff\" fill-rule=\"evenodd\" fill-opacity=\"1\"/>\n",
       "<polyline clip-path=\"url(#clip3200)\" style=\"stroke:#000000; stroke-width:4; stroke-opacity:1; fill:none\" points=\"\n",
       "  1610.43,227.724 1861.26,227.724 1861.26,106.764 1610.43,106.764 1610.43,227.724 \n",
       "  \"/>\n",
       "<polyline clip-path=\"url(#clip3200)\" style=\"stroke:#009af9; stroke-width:4; stroke-opacity:1; fill:none\" points=\"\n",
       "  1630.43,167.244 1750.43,167.244 \n",
       "  \"/>\n",
       "<g clip-path=\"url(#clip3200)\">\n",
       "<text style=\"fill:#000000; fill-opacity:1; font-family:Arial,Helvetica Neue,Helvetica,sans-serif; font-size:48px; text-anchor:start;\" transform=\"rotate(0, 1770.43, 184.744)\" x=\"1770.43\" y=\"184.744\">y1</text>\n",
       "</g>\n",
       "</svg>\n"
      ]
     },
     "metadata": {},
     "execution_count": 8
    }
   ],
   "cell_type": "code",
   "source": [
    "density(samples[:sigma])"
   ],
   "metadata": {},
   "execution_count": 8
  },
  {
   "outputs": [],
   "cell_type": "markdown",
   "source": [
    "End of `clip-21-23.jl`"
   ],
   "metadata": {}
  },
  {
   "outputs": [],
   "cell_type": "markdown",
   "source": [
    "*This notebook was generated using [Literate.jl](https://github.com/fredrikekre/Literate.jl).*"
   ],
   "metadata": {}
  }
 ],
 "nbformat_minor": 3,
 "metadata": {
  "language_info": {
   "file_extension": ".jl",
   "mimetype": "application/julia",
   "name": "julia",
   "version": "1.2.0-DEV.270"
  },
  "kernelspec": {
   "name": "julia-1.2",
   "display_name": "Julia 1.2.0-DEV.270",
   "language": "julia"
  }
 },
 "nbformat": 4
}
