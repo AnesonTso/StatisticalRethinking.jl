{
 "cells": [
  {
   "outputs": [],
   "cell_type": "markdown",
   "source": [
    "Load Julia packages (libraries) needed  for the snippets in chapter 0"
   ],
   "metadata": {}
  },
  {
   "outputs": [],
   "cell_type": "code",
   "source": [
    "using StatisticalRethinking, CmdStan, StanMCMCChain\n",
    "gr(size=(500,500));"
   ],
   "metadata": {},
   "execution_count": 1
  },
  {
   "outputs": [],
   "cell_type": "markdown",
   "source": [
    "CmdStan uses a tmp directory to store the output of cmdstan"
   ],
   "metadata": {}
  },
  {
   "outputs": [],
   "cell_type": "code",
   "source": [
    "ProjDir = rel_path(\"..\", \"scripts\", \"04\")\n",
    "cd(ProjDir)"
   ],
   "metadata": {},
   "execution_count": 2
  },
  {
   "outputs": [],
   "cell_type": "markdown",
   "source": [
    "CmdStan uses a tmp directory to store the output of cmdstan"
   ],
   "metadata": {}
  },
  {
   "outputs": [],
   "cell_type": "code",
   "source": [
    "ProjDir = rel_path(\"..\", \"scripts\", \"04\")\n",
    "cd(ProjDir)"
   ],
   "metadata": {},
   "execution_count": 3
  },
  {
   "outputs": [
    {
     "output_type": "execute_result",
     "data": {
      "text/plain": "5×4 DataFrame\n│ Row │ height   │ weight   │ age      │ male   │\n│     │ \u001b[90mFloat64⍰\u001b[39m │ \u001b[90mFloat64⍰\u001b[39m │ \u001b[90mFloat64⍰\u001b[39m │ \u001b[90mInt64⍰\u001b[39m │\n├─────┼──────────┼──────────┼──────────┼────────┤\n│ 1   │ 151.765  │ 47.8256  │ 63.0     │ 1      │\n│ 2   │ 139.7    │ 36.4858  │ 63.0     │ 0      │\n│ 3   │ 136.525  │ 31.8648  │ 65.0     │ 0      │\n│ 4   │ 156.845  │ 53.0419  │ 41.0     │ 1      │\n│ 5   │ 145.415  │ 41.2769  │ 51.0     │ 0      │",
      "text/html": [
       "<table class=\"data-frame\"><thead><tr><th></th><th>height</th><th>weight</th><th>age</th><th>male</th></tr><tr><th></th><th>Float64⍰</th><th>Float64⍰</th><th>Float64⍰</th><th>Int64⍰</th></tr></thead><tbody><p>5 rows × 4 columns</p><tr><th>1</th><td>151.765</td><td>47.8256</td><td>63.0</td><td>1</td></tr><tr><th>2</th><td>139.7</td><td>36.4858</td><td>63.0</td><td>0</td></tr><tr><th>3</th><td>136.525</td><td>31.8648</td><td>65.0</td><td>0</td></tr><tr><th>4</th><td>156.845</td><td>53.0419</td><td>41.0</td><td>1</td></tr><tr><th>5</th><td>145.415</td><td>41.2769</td><td>51.0</td><td>0</td></tr></tbody></table>"
      ]
     },
     "metadata": {},
     "execution_count": 4
    }
   ],
   "cell_type": "code",
   "source": [
    "howell1 = CSV.read(rel_path(\"..\", \"data\", \"Howell1.csv\"), delim=';')\n",
    "df = convert(DataFrame, howell1);\n",
    "df2 = filter(row -> row[:age] >= 18, df);\n",
    "first(df2, 5)"
   ],
   "metadata": {},
   "execution_count": 4
  },
  {
   "outputs": [],
   "cell_type": "markdown",
   "source": [
    "### Snippet 4.21"
   ],
   "metadata": {}
  },
  {
   "outputs": [],
   "cell_type": "markdown",
   "source": [
    "Sample 20 random heights"
   ],
   "metadata": {}
  },
  {
   "outputs": [],
   "cell_type": "code",
   "source": [
    "n = size(df2, 1)\n",
    "selected_ind = sample(1:n, 20, replace=false);\n",
    "df3 = df2[selected_ind, :];"
   ],
   "metadata": {},
   "execution_count": 5
  },
  {
   "outputs": [],
   "cell_type": "markdown",
   "source": [
    "### Snippet 4.22"
   ],
   "metadata": {}
  },
  {
   "outputs": [],
   "cell_type": "markdown",
   "source": [
    "Generate approximate probabilities"
   ],
   "metadata": {}
  },
  {
   "outputs": [
    {
     "output_type": "execute_result",
     "data": {
      "text/plain": "10×5 DataFrame\n│ Row │ mu      │ sigma   │ ll       │ prod     │ prob        │\n│     │ \u001b[90mFloat64\u001b[39m │ \u001b[90mFloat64\u001b[39m │ \u001b[90mFloat64\u001b[39m  │ \u001b[90mFloat64\u001b[39m  │ \u001b[90mFloat64\u001b[39m     │\n├─────┼─────────┼─────────┼──────────┼──────────┼─────────────┤\n│ 1   │ 140.0   │ 4.0     │ -231.216 │ -240.848 │ 3.12166e-71 │\n│ 2   │ 140.151 │ 4.0     │ -228.361 │ -237.979 │ 5.49955e-70 │\n│ 3   │ 140.302 │ 4.0     │ -225.535 │ -235.138 │ 9.41686e-69 │\n│ 4   │ 140.452 │ 4.0     │ -222.737 │ -232.326 │ 1.56719e-67 │\n│ 5   │ 140.603 │ 4.0     │ -219.968 │ -229.543 │ 2.535e-66   │\n│ 6   │ 140.754 │ 4.0     │ -217.227 │ -226.788 │ 3.98538e-65 │\n│ 7   │ 140.905 │ 4.0     │ -214.514 │ -224.061 │ 6.08976e-64 │\n│ 8   │ 141.055 │ 4.0     │ -211.83  │ -221.363 │ 9.04415e-63 │\n│ 9   │ 141.206 │ 4.0     │ -209.175 │ -218.694 │ 1.30549e-61 │\n│ 10  │ 141.357 │ 4.0     │ -206.547 │ -216.052 │ 1.83154e-60 │",
      "text/html": [
       "<table class=\"data-frame\"><thead><tr><th></th><th>mu</th><th>sigma</th><th>ll</th><th>prod</th><th>prob</th></tr><tr><th></th><th>Float64</th><th>Float64</th><th>Float64</th><th>Float64</th><th>Float64</th></tr></thead><tbody><p>10 rows × 5 columns</p><tr><th>1</th><td>140.0</td><td>4.0</td><td>-231.216</td><td>-240.848</td><td>3.12166e-71</td></tr><tr><th>2</th><td>140.151</td><td>4.0</td><td>-228.361</td><td>-237.979</td><td>5.49955e-70</td></tr><tr><th>3</th><td>140.302</td><td>4.0</td><td>-225.535</td><td>-235.138</td><td>9.41686e-69</td></tr><tr><th>4</th><td>140.452</td><td>4.0</td><td>-222.737</td><td>-232.326</td><td>1.56719e-67</td></tr><tr><th>5</th><td>140.603</td><td>4.0</td><td>-219.968</td><td>-229.543</td><td>2.535e-66</td></tr><tr><th>6</th><td>140.754</td><td>4.0</td><td>-217.227</td><td>-226.788</td><td>3.98538e-65</td></tr><tr><th>7</th><td>140.905</td><td>4.0</td><td>-214.514</td><td>-224.061</td><td>6.08976e-64</td></tr><tr><th>8</th><td>141.055</td><td>4.0</td><td>-211.83</td><td>-221.363</td><td>9.04415e-63</td></tr><tr><th>9</th><td>141.206</td><td>4.0</td><td>-209.175</td><td>-218.694</td><td>1.30549e-61</td></tr><tr><th>10</th><td>141.357</td><td>4.0</td><td>-206.547</td><td>-216.052</td><td>1.83154e-60</td></tr></tbody></table>"
      ]
     },
     "metadata": {},
     "execution_count": 6
    }
   ],
   "cell_type": "code",
   "source": [
    "struct Post\n",
    "  mu::Float64\n",
    "  sigma::Float64\n",
    "  ll:: Float64\n",
    "  prod::Float64\n",
    "  prob::Float64\n",
    "end\n",
    "\n",
    "mu_list = repeat(range(140, 170, length=200), 200);\n",
    "sigma_list = repeat(range(4, 20, length=200), inner=200);\n",
    "\n",
    "ll = zeros(40000);\n",
    "for i in 1:40000\n",
    "    d1 = Normal(mu_list[i], sigma_list[i])\n",
    "    ll[i] = sum(log.(pdf.(d1, df3[:height])))\n",
    "end\n",
    "\n",
    "d2 = Normal(178.0, 20.0)\n",
    "d3 = Uniform(0, 50)\n",
    "prod = ll + log.(pdf.(d2, mu_list)) + log.(pdf.(d3, sigma_list))\n",
    "prob = exp.(prod .- maximum(prod))\n",
    "post = DataFrame(mu=mu_list, sigma=sigma_list, ll=ll, prod=prod, prob=prob)\n",
    "first(post, 10)"
   ],
   "metadata": {},
   "execution_count": 6
  },
  {
   "outputs": [],
   "cell_type": "markdown",
   "source": [
    "Sample post"
   ],
   "metadata": {}
  },
  {
   "outputs": [
    {
     "output_type": "execute_result",
     "data": {
      "text/plain": "10000×5 DataFrame\n│ Row   │ mu      │ sigma   │ ll       │ prod     │ prob      │\n│       │ \u001b[90mFloat64\u001b[39m │ \u001b[90mFloat64\u001b[39m │ \u001b[90mFloat64\u001b[39m  │ \u001b[90mFloat64\u001b[39m  │ \u001b[90mFloat64\u001b[39m   │\n├───────┼─────────┼─────────┼──────────┼──────────┼───────────┤\n│ 1     │ 154.171 │ 6.97487 │ -70.6938 │ -79.2303 │ 0.482927  │\n│ 2     │ 158.09  │ 9.94975 │ -71.6666 │ -79.9888 │ 0.226189  │\n│ 3     │ 151.307 │ 10.2714 │ -72.5261 │ -81.2435 │ 0.0645025 │\n│ 4     │ 155.98  │ 10.3518 │ -71.1865 │ -79.6193 │ 0.327308  │\n│ 5     │ 154.472 │ 8.98492 │ -70.3389 │ -78.8575 │ 0.701088  │\n│ 6     │ 154.623 │ 9.70854 │ -70.7113 │ -79.2211 │ 0.487404  │\n│ 7     │ 151.91  │ 8.98492 │ -71.6296 │ -80.3071 │ 0.164518  │\n⋮\n│ 9993  │ 154.472 │ 7.21608 │ -70.3839 │ -78.9026 │ 0.670218  │\n│ 9994  │ 155.377 │ 7.9397  │ -70.0384 │ -78.5048 │ 0.997589  │\n│ 9995  │ 154.623 │ 8.34171 │ -70.1132 │ -78.623  │ 0.886419  │\n│ 9996  │ 153.266 │ 6.89447 │ -71.3507 │ -79.9421 │ 0.236995  │\n│ 9997  │ 155.528 │ 7.61809 │ -70.1045 │ -78.5625 │ 0.941676  │\n│ 9998  │ 155.377 │ 8.0201  │ -70.036  │ -78.5024 │ 1.0       │\n│ 9999  │ 152.06  │ 9.38693 │ -71.6113 │ -80.2791 │ 0.169202  │\n│ 10000 │ 157.638 │ 8.0201  │ -70.9386 │ -79.2836 │ 0.457877  │",
      "text/html": [
       "<table class=\"data-frame\"><thead><tr><th></th><th>mu</th><th>sigma</th><th>ll</th><th>prod</th><th>prob</th></tr><tr><th></th><th>Float64</th><th>Float64</th><th>Float64</th><th>Float64</th><th>Float64</th></tr></thead><tbody><p>10,000 rows × 5 columns</p><tr><th>1</th><td>154.171</td><td>6.97487</td><td>-70.6938</td><td>-79.2303</td><td>0.482927</td></tr><tr><th>2</th><td>158.09</td><td>9.94975</td><td>-71.6666</td><td>-79.9888</td><td>0.226189</td></tr><tr><th>3</th><td>151.307</td><td>10.2714</td><td>-72.5261</td><td>-81.2435</td><td>0.0645025</td></tr><tr><th>4</th><td>155.98</td><td>10.3518</td><td>-71.1865</td><td>-79.6193</td><td>0.327308</td></tr><tr><th>5</th><td>154.472</td><td>8.98492</td><td>-70.3389</td><td>-78.8575</td><td>0.701088</td></tr><tr><th>6</th><td>154.623</td><td>9.70854</td><td>-70.7113</td><td>-79.2211</td><td>0.487404</td></tr><tr><th>7</th><td>151.91</td><td>8.98492</td><td>-71.6296</td><td>-80.3071</td><td>0.164518</td></tr><tr><th>8</th><td>154.472</td><td>9.22613</td><td>-70.4534</td><td>-78.972</td><td>0.625262</td></tr><tr><th>9</th><td>157.487</td><td>7.13568</td><td>-71.3381</td><td>-79.6908</td><td>0.304715</td></tr><tr><th>10</th><td>155.678</td><td>7.9397</td><td>-70.0674</td><td>-78.5169</td><td>0.985561</td></tr><tr><th>11</th><td>153.869</td><td>8.98492</td><td>-70.4962</td><td>-79.0507</td><td>0.577908</td></tr><tr><th>12</th><td>155.98</td><td>8.34171</td><td>-70.1435</td><td>-78.5763</td><td>0.928768</td></tr><tr><th>13</th><td>154.925</td><td>10.9146</td><td>-71.5955</td><td>-80.0878</td><td>0.204869</td></tr><tr><th>14</th><td>154.472</td><td>7.69849</td><td>-70.1632</td><td>-78.6819</td><td>0.835715</td></tr><tr><th>15</th><td>154.774</td><td>8.58291</td><td>-70.1459</td><td>-78.6469</td><td>0.865436</td></tr><tr><th>16</th><td>153.266</td><td>8.0201</td><td>-70.628</td><td>-79.2194</td><td>0.488233</td></tr><tr><th>17</th><td>155.226</td><td>9.14573</td><td>-70.3456</td><td>-78.8206</td><td>0.727445</td></tr><tr><th>18</th><td>155.528</td><td>6.89447</td><td>-70.5641</td><td>-79.0221</td><td>0.594726</td></tr><tr><th>19</th><td>157.035</td><td>8.42211</td><td>-70.5399</td><td>-78.916</td><td>0.66129</td></tr><tr><th>20</th><td>155.678</td><td>10.5126</td><td>-71.2776</td><td>-79.7271</td><td>0.293843</td></tr><tr><th>21</th><td>156.884</td><td>8.26131</td><td>-70.4528</td><td>-78.8368</td><td>0.715769</td></tr><tr><th>22</th><td>158.09</td><td>8.58291</td><td>-71.234</td><td>-79.5562</td><td>0.348615</td></tr><tr><th>23</th><td>157.186</td><td>7.53769</td><td>-70.7921</td><td>-79.1603</td><td>0.517916</td></tr><tr><th>24</th><td>155.528</td><td>7.53769</td><td>-70.1307</td><td>-78.5887</td><td>0.917337</td></tr><tr><th>&vellip;</th><td>&vellip;</td><td>&vellip;</td><td>&vellip;</td><td>&vellip;</td><td>&vellip;</td></tr></tbody></table>"
      ]
     },
     "metadata": {},
     "execution_count": 7
    }
   ],
   "cell_type": "code",
   "source": [
    "samples = post[sample(1:size(post, 1), Weights(post[:prob]), 10000, replace=true), :]"
   ],
   "metadata": {},
   "execution_count": 7
  },
  {
   "outputs": [],
   "cell_type": "markdown",
   "source": [
    "### Snippet 4.23"
   ],
   "metadata": {}
  },
  {
   "outputs": [],
   "cell_type": "markdown",
   "source": [
    "Density of sigma"
   ],
   "metadata": {}
  },
  {
   "outputs": [
    {
     "name": "stdout",
     "output_type": "stream",
     "text": [
      "┌ Warning: seriestype density has been moved to StatPlots.  To use: `Pkg.add(\"StatPlots\"); using StatPlots`\n",
      "└ @ Plots /Users/rob/.julia/packages/Plots/qh1wV/src/args.jl:1054\n",
      "┌ Warning: seriestype density has been moved to StatPlots.  To use: `Pkg.add(\"StatPlots\"); using StatPlots`\n",
      "└ @ Plots /Users/rob/.julia/packages/Plots/qh1wV/src/args.jl:1054\n"
     ]
    },
    {
     "output_type": "execute_result",
     "data": {
      "text/plain": "Plot{Plots.GRBackend() n=1}",
      "image/png": "[encoded data removed]",
      "text/html": [
       "<?xml version=\"1.0\" encoding=\"utf-8\"?>\n",
       "<svg xmlns=\"http://www.w3.org/2000/svg\" xmlns:xlink=\"http://www.w3.org/1999/xlink\" width=\"500\" height=\"500\" viewBox=\"0 0 2000 2000\">\n",
       "<defs>\n",
       "  <clipPath id=\"clip1900\">\n",
       "    <rect x=\"0\" y=\"0\" width=\"2000\" height=\"2000\"/>\n",
       "  </clipPath>\n",
       "</defs>\n",
       "<polygon clip-path=\"url(#clip1900)\" points=\"\n",
       "0,2000 2000,2000 2000,0 0,0 \n",
       "  \" fill=\"#ffffff\" fill-rule=\"evenodd\" fill-opacity=\"1\"/>\n",
       "<defs>\n",
       "  <clipPath id=\"clip1901\">\n",
       "    <rect x=\"400\" y=\"200\" width=\"1401\" height=\"1401\"/>\n",
       "  </clipPath>\n",
       "</defs>\n",
       "<polygon clip-path=\"url(#clip1900)\" points=\"\n",
       "188.156,1886.71 1921.26,1886.71 1921.26,47.2441 188.156,47.2441 \n",
       "  \" fill=\"#ffffff\" fill-rule=\"evenodd\" fill-opacity=\"1\"/>\n",
       "<defs>\n",
       "  <clipPath id=\"clip1902\">\n",
       "    <rect x=\"188\" y=\"47\" width=\"1734\" height=\"1840\"/>\n",
       "  </clipPath>\n",
       "</defs>\n",
       "<polyline clip-path=\"url(#clip1902)\" style=\"stroke:#000000; stroke-width:2; stroke-opacity:0.1; fill:none\" points=\"\n",
       "  408.084,1886.71 408.084,47.2441 \n",
       "  \"/>\n",
       "<polyline clip-path=\"url(#clip1902)\" style=\"stroke:#000000; stroke-width:2; stroke-opacity:0.1; fill:none\" points=\"\n",
       "  889.304,1886.71 889.304,47.2441 \n",
       "  \"/>\n",
       "<polyline clip-path=\"url(#clip1902)\" style=\"stroke:#000000; stroke-width:2; stroke-opacity:0.1; fill:none\" points=\"\n",
       "  1370.52,1886.71 1370.52,47.2441 \n",
       "  \"/>\n",
       "<polyline clip-path=\"url(#clip1902)\" style=\"stroke:#000000; stroke-width:2; stroke-opacity:0.1; fill:none\" points=\"\n",
       "  1851.74,1886.71 1851.74,47.2441 \n",
       "  \"/>\n",
       "<polyline clip-path=\"url(#clip1902)\" style=\"stroke:#000000; stroke-width:2; stroke-opacity:0.1; fill:none\" points=\"\n",
       "  188.156,1834.65 1921.26,1834.65 \n",
       "  \"/>\n",
       "<polyline clip-path=\"url(#clip1902)\" style=\"stroke:#000000; stroke-width:2; stroke-opacity:0.1; fill:none\" points=\"\n",
       "  188.156,1529.23 1921.26,1529.23 \n",
       "  \"/>\n",
       "<polyline clip-path=\"url(#clip1902)\" style=\"stroke:#000000; stroke-width:2; stroke-opacity:0.1; fill:none\" points=\"\n",
       "  188.156,1223.81 1921.26,1223.81 \n",
       "  \"/>\n",
       "<polyline clip-path=\"url(#clip1902)\" style=\"stroke:#000000; stroke-width:2; stroke-opacity:0.1; fill:none\" points=\"\n",
       "  188.156,918.388 1921.26,918.388 \n",
       "  \"/>\n",
       "<polyline clip-path=\"url(#clip1902)\" style=\"stroke:#000000; stroke-width:2; stroke-opacity:0.1; fill:none\" points=\"\n",
       "  188.156,612.968 1921.26,612.968 \n",
       "  \"/>\n",
       "<polyline clip-path=\"url(#clip1902)\" style=\"stroke:#000000; stroke-width:2; stroke-opacity:0.1; fill:none\" points=\"\n",
       "  188.156,307.548 1921.26,307.548 \n",
       "  \"/>\n",
       "<polyline clip-path=\"url(#clip1900)\" style=\"stroke:#000000; stroke-width:4; stroke-opacity:1; fill:none\" points=\"\n",
       "  188.156,1886.71 1921.26,1886.71 \n",
       "  \"/>\n",
       "<polyline clip-path=\"url(#clip1900)\" style=\"stroke:#000000; stroke-width:4; stroke-opacity:1; fill:none\" points=\"\n",
       "  188.156,1886.71 188.156,47.2441 \n",
       "  \"/>\n",
       "<polyline clip-path=\"url(#clip1900)\" style=\"stroke:#000000; stroke-width:4; stroke-opacity:1; fill:none\" points=\"\n",
       "  408.084,1886.71 408.084,1859.12 \n",
       "  \"/>\n",
       "<polyline clip-path=\"url(#clip1900)\" style=\"stroke:#000000; stroke-width:4; stroke-opacity:1; fill:none\" points=\"\n",
       "  889.304,1886.71 889.304,1859.12 \n",
       "  \"/>\n",
       "<polyline clip-path=\"url(#clip1900)\" style=\"stroke:#000000; stroke-width:4; stroke-opacity:1; fill:none\" points=\"\n",
       "  1370.52,1886.71 1370.52,1859.12 \n",
       "  \"/>\n",
       "<polyline clip-path=\"url(#clip1900)\" style=\"stroke:#000000; stroke-width:4; stroke-opacity:1; fill:none\" points=\"\n",
       "  1851.74,1886.71 1851.74,1859.12 \n",
       "  \"/>\n",
       "<polyline clip-path=\"url(#clip1900)\" style=\"stroke:#000000; stroke-width:4; stroke-opacity:1; fill:none\" points=\"\n",
       "  188.156,1834.65 214.153,1834.65 \n",
       "  \"/>\n",
       "<polyline clip-path=\"url(#clip1900)\" style=\"stroke:#000000; stroke-width:4; stroke-opacity:1; fill:none\" points=\"\n",
       "  188.156,1529.23 214.153,1529.23 \n",
       "  \"/>\n",
       "<polyline clip-path=\"url(#clip1900)\" style=\"stroke:#000000; stroke-width:4; stroke-opacity:1; fill:none\" points=\"\n",
       "  188.156,1223.81 214.153,1223.81 \n",
       "  \"/>\n",
       "<polyline clip-path=\"url(#clip1900)\" style=\"stroke:#000000; stroke-width:4; stroke-opacity:1; fill:none\" points=\"\n",
       "  188.156,918.388 214.153,918.388 \n",
       "  \"/>\n",
       "<polyline clip-path=\"url(#clip1900)\" style=\"stroke:#000000; stroke-width:4; stroke-opacity:1; fill:none\" points=\"\n",
       "  188.156,612.968 214.153,612.968 \n",
       "  \"/>\n",
       "<polyline clip-path=\"url(#clip1900)\" style=\"stroke:#000000; stroke-width:4; stroke-opacity:1; fill:none\" points=\"\n",
       "  188.156,307.548 214.153,307.548 \n",
       "  \"/>\n",
       "<g clip-path=\"url(#clip1900)\">\n",
       "<text style=\"fill:#000000; fill-opacity:1; font-family:Arial,Helvetica Neue,Helvetica,sans-serif; font-size:48px; text-anchor:middle;\" transform=\"rotate(0, 408.084, 1938.71)\" x=\"408.084\" y=\"1938.71\">5</text>\n",
       "</g>\n",
       "<g clip-path=\"url(#clip1900)\">\n",
       "<text style=\"fill:#000000; fill-opacity:1; font-family:Arial,Helvetica Neue,Helvetica,sans-serif; font-size:48px; text-anchor:middle;\" transform=\"rotate(0, 889.304, 1938.71)\" x=\"889.304\" y=\"1938.71\">10</text>\n",
       "</g>\n",
       "<g clip-path=\"url(#clip1900)\">\n",
       "<text style=\"fill:#000000; fill-opacity:1; font-family:Arial,Helvetica Neue,Helvetica,sans-serif; font-size:48px; text-anchor:middle;\" transform=\"rotate(0, 1370.52, 1938.71)\" x=\"1370.52\" y=\"1938.71\">15</text>\n",
       "</g>\n",
       "<g clip-path=\"url(#clip1900)\">\n",
       "<text style=\"fill:#000000; fill-opacity:1; font-family:Arial,Helvetica Neue,Helvetica,sans-serif; font-size:48px; text-anchor:middle;\" transform=\"rotate(0, 1851.74, 1938.71)\" x=\"1851.74\" y=\"1938.71\">20</text>\n",
       "</g>\n",
       "<g clip-path=\"url(#clip1900)\">\n",
       "<text style=\"fill:#000000; fill-opacity:1; font-family:Arial,Helvetica Neue,Helvetica,sans-serif; font-size:48px; text-anchor:end;\" transform=\"rotate(0, 168.156, 1852.15)\" x=\"168.156\" y=\"1852.15\">0.00</text>\n",
       "</g>\n",
       "<g clip-path=\"url(#clip1900)\">\n",
       "<text style=\"fill:#000000; fill-opacity:1; font-family:Arial,Helvetica Neue,Helvetica,sans-serif; font-size:48px; text-anchor:end;\" transform=\"rotate(0, 168.156, 1546.73)\" x=\"168.156\" y=\"1546.73\">0.05</text>\n",
       "</g>\n",
       "<g clip-path=\"url(#clip1900)\">\n",
       "<text style=\"fill:#000000; fill-opacity:1; font-family:Arial,Helvetica Neue,Helvetica,sans-serif; font-size:48px; text-anchor:end;\" transform=\"rotate(0, 168.156, 1241.31)\" x=\"168.156\" y=\"1241.31\">0.10</text>\n",
       "</g>\n",
       "<g clip-path=\"url(#clip1900)\">\n",
       "<text style=\"fill:#000000; fill-opacity:1; font-family:Arial,Helvetica Neue,Helvetica,sans-serif; font-size:48px; text-anchor:end;\" transform=\"rotate(0, 168.156, 935.888)\" x=\"168.156\" y=\"935.888\">0.15</text>\n",
       "</g>\n",
       "<g clip-path=\"url(#clip1900)\">\n",
       "<text style=\"fill:#000000; fill-opacity:1; font-family:Arial,Helvetica Neue,Helvetica,sans-serif; font-size:48px; text-anchor:end;\" transform=\"rotate(0, 168.156, 630.468)\" x=\"168.156\" y=\"630.468\">0.20</text>\n",
       "</g>\n",
       "<g clip-path=\"url(#clip1900)\">\n",
       "<text style=\"fill:#000000; fill-opacity:1; font-family:Arial,Helvetica Neue,Helvetica,sans-serif; font-size:48px; text-anchor:end;\" transform=\"rotate(0, 168.156, 325.048)\" x=\"168.156\" y=\"325.048\">0.25</text>\n",
       "</g>\n",
       "<polyline clip-path=\"url(#clip1902)\" style=\"stroke:#009af9; stroke-width:4; stroke-opacity:1; fill:none\" points=\"\n",
       "  237.206,1834.65 245.423,1834.65 253.639,1834.64 261.855,1834.63 270.071,1834.58 278.287,1834.49 286.503,1834.33 294.719,1834.1 302.935,1833.83 311.151,1833.6 \n",
       "  319.367,1833.51 327.584,1833.59 335.8,1833.81 344.016,1834.08 352.232,1834.31 360.448,1834.44 368.664,1834.44 376.88,1834.25 385.096,1833.75 393.312,1832.78 \n",
       "  401.528,1831.14 409.745,1828.67 417.961,1825.32 426.177,1821.1 434.393,1815.99 442.609,1809.78 450.825,1802.01 459.041,1791.96 467.257,1778.77 475.473,1761.6 \n",
       "  483.689,1739.7 491.905,1712.46 500.122,1679.38 508.338,1640.04 516.554,1594.12 524.77,1541.29 532.986,1481.11 541.202,1413.25 549.418,1338 557.634,1256.75 \n",
       "  565.85,1172 574.066,1086.79 582.283,1003.92 590.499,925.028 598.715,850.021 606.931,777.236 615.147,704.599 623.363,631.144 631.579,557.845 639.795,487.085 \n",
       "  648.011,421.092 656.227,360.484 664.444,304.13 672.66,250.651 680.876,200.492 689.092,156.784 697.308,123.957 705.524,104.954 713.74,99.3044 721.956,103.824 \n",
       "  730.172,115.419 738.388,133.397 746.604,159.056 754.821,193.027 763.037,233.216 771.253,275.575 779.469,316.943 787.685,356.988 795.901,397.426 804.117,439.642 \n",
       "  812.333,483.297 820.549,527.16 828.765,570.976 836.982,616.056 845.198,663.729 853.414,713.248 861.63,761.63 869.846,805.835 878.062,845.153 886.278,881.601 \n",
       "  894.494,918.428 902.71,958.442 910.926,1003.15 919.143,1052.43 927.359,1104.31 935.575,1155.35 943.791,1201.93 952.007,1241.74 960.223,1274.48 968.439,1301.51 \n",
       "  976.655,1325.07 984.871,1347.5 993.087,1370.59 1001.3,1395.01 1009.52,1420.25 1017.74,1445.32 1025.95,1469.66 1034.17,1493.44 1042.38,1517.12 1050.6,1540.9 \n",
       "  1058.82,1564.58 1067.03,1587.75 1075.25,1609.99 1083.46,1630.83 1091.68,1649.9 1099.9,1667.14 1108.11,1682.72 1116.33,1696.83 1124.54,1709.31 1132.76,1719.81 \n",
       "  1140.98,1728.09 1149.19,1734.33 1157.41,1739.03 1165.63,1742.76 1173.84,1745.98 1182.06,1749.07 1190.27,1752.32 1198.49,1755.89 1206.71,1759.71 1214.92,1763.57 \n",
       "  1223.14,1767.2 1231.35,1770.47 1239.57,1773.51 1247.79,1776.76 1256,1780.7 1264.22,1785.58 1272.43,1791.18 1280.65,1796.89 1288.87,1801.95 1297.08,1805.79 \n",
       "  1305.3,1808.25 1313.52,1809.66 1321.73,1810.61 1329.95,1811.62 1338.16,1812.97 1346.38,1814.62 1354.6,1816.45 1362.81,1818.31 1371.03,1820.09 1379.24,1821.74 \n",
       "  1387.46,1823.17 1395.68,1824.39 1403.89,1825.44 1412.11,1826.39 1420.32,1827.26 1428.54,1827.98 1436.76,1828.45 1444.97,1828.6 1453.19,1828.51 1461.4,1828.36 \n",
       "  1469.62,1828.3 1477.84,1828.41 1486.05,1828.63 1494.27,1828.91 1502.49,1829.2 1510.7,1829.5 1518.92,1829.8 1527.13,1830.09 1535.35,1830.43 1543.57,1830.83 \n",
       "  1551.78,1831.25 1560,1831.53 1568.21,1831.54 1576.43,1831.26 1584.65,1830.83 1592.86,1830.54 1601.08,1830.6 1609.29,1831.1 1617.51,1831.9 1625.73,1832.79 \n",
       "  1633.94,1833.55 1642.16,1834.06 1650.38,1834.31 1658.59,1834.35 1666.81,1834.22 1675.02,1833.99 1683.24,1833.74 1691.46,1833.57 1699.67,1833.54 1707.89,1833.67 \n",
       "  1716.1,1833.91 1724.32,1834.16 1732.54,1834.36 1740.75,1834.46 1748.97,1834.44 1757.18,1834.31 1765.4,1834.08 1773.62,1833.81 1781.83,1833.59 1790.05,1833.51 \n",
       "  1798.26,1833.6 1806.48,1833.83 1814.7,1834.1 1822.91,1834.33 1831.13,1834.49 1839.35,1834.58 1847.56,1834.63 1855.78,1834.64 1863.99,1834.65 1872.21,1834.65 \n",
       "  \n",
       "  \"/>\n",
       "<polygon clip-path=\"url(#clip1900)\" points=\"\n",
       "1610.43,227.724 1861.26,227.724 1861.26,106.764 1610.43,106.764 \n",
       "  \" fill=\"#ffffff\" fill-rule=\"evenodd\" fill-opacity=\"1\"/>\n",
       "<polyline clip-path=\"url(#clip1900)\" style=\"stroke:#000000; stroke-width:4; stroke-opacity:1; fill:none\" points=\"\n",
       "  1610.43,227.724 1861.26,227.724 1861.26,106.764 1610.43,106.764 1610.43,227.724 \n",
       "  \"/>\n",
       "<polyline clip-path=\"url(#clip1900)\" style=\"stroke:#009af9; stroke-width:4; stroke-opacity:1; fill:none\" points=\"\n",
       "  1630.43,167.244 1750.43,167.244 \n",
       "  \"/>\n",
       "<g clip-path=\"url(#clip1900)\">\n",
       "<text style=\"fill:#000000; fill-opacity:1; font-family:Arial,Helvetica Neue,Helvetica,sans-serif; font-size:48px; text-anchor:start;\" transform=\"rotate(0, 1770.43, 184.744)\" x=\"1770.43\" y=\"184.744\">y1</text>\n",
       "</g>\n",
       "</svg>\n"
      ],
      "image/svg+xml": [
       "<?xml version=\"1.0\" encoding=\"utf-8\"?>\n",
       "<svg xmlns=\"http://www.w3.org/2000/svg\" xmlns:xlink=\"http://www.w3.org/1999/xlink\" width=\"500\" height=\"500\" viewBox=\"0 0 2000 2000\">\n",
       "<defs>\n",
       "  <clipPath id=\"clip1800\">\n",
       "    <rect x=\"0\" y=\"0\" width=\"2000\" height=\"2000\"/>\n",
       "  </clipPath>\n",
       "</defs>\n",
       "<polygon clip-path=\"url(#clip1800)\" points=\"\n",
       "0,2000 2000,2000 2000,0 0,0 \n",
       "  \" fill=\"#ffffff\" fill-rule=\"evenodd\" fill-opacity=\"1\"/>\n",
       "<defs>\n",
       "  <clipPath id=\"clip1801\">\n",
       "    <rect x=\"400\" y=\"200\" width=\"1401\" height=\"1401\"/>\n",
       "  </clipPath>\n",
       "</defs>\n",
       "<polygon clip-path=\"url(#clip1800)\" points=\"\n",
       "188.156,1886.71 1921.26,1886.71 1921.26,47.2441 188.156,47.2441 \n",
       "  \" fill=\"#ffffff\" fill-rule=\"evenodd\" fill-opacity=\"1\"/>\n",
       "<defs>\n",
       "  <clipPath id=\"clip1802\">\n",
       "    <rect x=\"188\" y=\"47\" width=\"1734\" height=\"1840\"/>\n",
       "  </clipPath>\n",
       "</defs>\n",
       "<polyline clip-path=\"url(#clip1802)\" style=\"stroke:#000000; stroke-width:2; stroke-opacity:0.1; fill:none\" points=\"\n",
       "  408.084,1886.71 408.084,47.2441 \n",
       "  \"/>\n",
       "<polyline clip-path=\"url(#clip1802)\" style=\"stroke:#000000; stroke-width:2; stroke-opacity:0.1; fill:none\" points=\"\n",
       "  889.304,1886.71 889.304,47.2441 \n",
       "  \"/>\n",
       "<polyline clip-path=\"url(#clip1802)\" style=\"stroke:#000000; stroke-width:2; stroke-opacity:0.1; fill:none\" points=\"\n",
       "  1370.52,1886.71 1370.52,47.2441 \n",
       "  \"/>\n",
       "<polyline clip-path=\"url(#clip1802)\" style=\"stroke:#000000; stroke-width:2; stroke-opacity:0.1; fill:none\" points=\"\n",
       "  1851.74,1886.71 1851.74,47.2441 \n",
       "  \"/>\n",
       "<polyline clip-path=\"url(#clip1802)\" style=\"stroke:#000000; stroke-width:2; stroke-opacity:0.1; fill:none\" points=\"\n",
       "  188.156,1834.65 1921.26,1834.65 \n",
       "  \"/>\n",
       "<polyline clip-path=\"url(#clip1802)\" style=\"stroke:#000000; stroke-width:2; stroke-opacity:0.1; fill:none\" points=\"\n",
       "  188.156,1529.23 1921.26,1529.23 \n",
       "  \"/>\n",
       "<polyline clip-path=\"url(#clip1802)\" style=\"stroke:#000000; stroke-width:2; stroke-opacity:0.1; fill:none\" points=\"\n",
       "  188.156,1223.81 1921.26,1223.81 \n",
       "  \"/>\n",
       "<polyline clip-path=\"url(#clip1802)\" style=\"stroke:#000000; stroke-width:2; stroke-opacity:0.1; fill:none\" points=\"\n",
       "  188.156,918.388 1921.26,918.388 \n",
       "  \"/>\n",
       "<polyline clip-path=\"url(#clip1802)\" style=\"stroke:#000000; stroke-width:2; stroke-opacity:0.1; fill:none\" points=\"\n",
       "  188.156,612.968 1921.26,612.968 \n",
       "  \"/>\n",
       "<polyline clip-path=\"url(#clip1802)\" style=\"stroke:#000000; stroke-width:2; stroke-opacity:0.1; fill:none\" points=\"\n",
       "  188.156,307.548 1921.26,307.548 \n",
       "  \"/>\n",
       "<polyline clip-path=\"url(#clip1800)\" style=\"stroke:#000000; stroke-width:4; stroke-opacity:1; fill:none\" points=\"\n",
       "  188.156,1886.71 1921.26,1886.71 \n",
       "  \"/>\n",
       "<polyline clip-path=\"url(#clip1800)\" style=\"stroke:#000000; stroke-width:4; stroke-opacity:1; fill:none\" points=\"\n",
       "  188.156,1886.71 188.156,47.2441 \n",
       "  \"/>\n",
       "<polyline clip-path=\"url(#clip1800)\" style=\"stroke:#000000; stroke-width:4; stroke-opacity:1; fill:none\" points=\"\n",
       "  408.084,1886.71 408.084,1859.12 \n",
       "  \"/>\n",
       "<polyline clip-path=\"url(#clip1800)\" style=\"stroke:#000000; stroke-width:4; stroke-opacity:1; fill:none\" points=\"\n",
       "  889.304,1886.71 889.304,1859.12 \n",
       "  \"/>\n",
       "<polyline clip-path=\"url(#clip1800)\" style=\"stroke:#000000; stroke-width:4; stroke-opacity:1; fill:none\" points=\"\n",
       "  1370.52,1886.71 1370.52,1859.12 \n",
       "  \"/>\n",
       "<polyline clip-path=\"url(#clip1800)\" style=\"stroke:#000000; stroke-width:4; stroke-opacity:1; fill:none\" points=\"\n",
       "  1851.74,1886.71 1851.74,1859.12 \n",
       "  \"/>\n",
       "<polyline clip-path=\"url(#clip1800)\" style=\"stroke:#000000; stroke-width:4; stroke-opacity:1; fill:none\" points=\"\n",
       "  188.156,1834.65 214.153,1834.65 \n",
       "  \"/>\n",
       "<polyline clip-path=\"url(#clip1800)\" style=\"stroke:#000000; stroke-width:4; stroke-opacity:1; fill:none\" points=\"\n",
       "  188.156,1529.23 214.153,1529.23 \n",
       "  \"/>\n",
       "<polyline clip-path=\"url(#clip1800)\" style=\"stroke:#000000; stroke-width:4; stroke-opacity:1; fill:none\" points=\"\n",
       "  188.156,1223.81 214.153,1223.81 \n",
       "  \"/>\n",
       "<polyline clip-path=\"url(#clip1800)\" style=\"stroke:#000000; stroke-width:4; stroke-opacity:1; fill:none\" points=\"\n",
       "  188.156,918.388 214.153,918.388 \n",
       "  \"/>\n",
       "<polyline clip-path=\"url(#clip1800)\" style=\"stroke:#000000; stroke-width:4; stroke-opacity:1; fill:none\" points=\"\n",
       "  188.156,612.968 214.153,612.968 \n",
       "  \"/>\n",
       "<polyline clip-path=\"url(#clip1800)\" style=\"stroke:#000000; stroke-width:4; stroke-opacity:1; fill:none\" points=\"\n",
       "  188.156,307.548 214.153,307.548 \n",
       "  \"/>\n",
       "<g clip-path=\"url(#clip1800)\">\n",
       "<text style=\"fill:#000000; fill-opacity:1; font-family:Arial,Helvetica Neue,Helvetica,sans-serif; font-size:48px; text-anchor:middle;\" transform=\"rotate(0, 408.084, 1938.71)\" x=\"408.084\" y=\"1938.71\">5</text>\n",
       "</g>\n",
       "<g clip-path=\"url(#clip1800)\">\n",
       "<text style=\"fill:#000000; fill-opacity:1; font-family:Arial,Helvetica Neue,Helvetica,sans-serif; font-size:48px; text-anchor:middle;\" transform=\"rotate(0, 889.304, 1938.71)\" x=\"889.304\" y=\"1938.71\">10</text>\n",
       "</g>\n",
       "<g clip-path=\"url(#clip1800)\">\n",
       "<text style=\"fill:#000000; fill-opacity:1; font-family:Arial,Helvetica Neue,Helvetica,sans-serif; font-size:48px; text-anchor:middle;\" transform=\"rotate(0, 1370.52, 1938.71)\" x=\"1370.52\" y=\"1938.71\">15</text>\n",
       "</g>\n",
       "<g clip-path=\"url(#clip1800)\">\n",
       "<text style=\"fill:#000000; fill-opacity:1; font-family:Arial,Helvetica Neue,Helvetica,sans-serif; font-size:48px; text-anchor:middle;\" transform=\"rotate(0, 1851.74, 1938.71)\" x=\"1851.74\" y=\"1938.71\">20</text>\n",
       "</g>\n",
       "<g clip-path=\"url(#clip1800)\">\n",
       "<text style=\"fill:#000000; fill-opacity:1; font-family:Arial,Helvetica Neue,Helvetica,sans-serif; font-size:48px; text-anchor:end;\" transform=\"rotate(0, 168.156, 1852.15)\" x=\"168.156\" y=\"1852.15\">0.00</text>\n",
       "</g>\n",
       "<g clip-path=\"url(#clip1800)\">\n",
       "<text style=\"fill:#000000; fill-opacity:1; font-family:Arial,Helvetica Neue,Helvetica,sans-serif; font-size:48px; text-anchor:end;\" transform=\"rotate(0, 168.156, 1546.73)\" x=\"168.156\" y=\"1546.73\">0.05</text>\n",
       "</g>\n",
       "<g clip-path=\"url(#clip1800)\">\n",
       "<text style=\"fill:#000000; fill-opacity:1; font-family:Arial,Helvetica Neue,Helvetica,sans-serif; font-size:48px; text-anchor:end;\" transform=\"rotate(0, 168.156, 1241.31)\" x=\"168.156\" y=\"1241.31\">0.10</text>\n",
       "</g>\n",
       "<g clip-path=\"url(#clip1800)\">\n",
       "<text style=\"fill:#000000; fill-opacity:1; font-family:Arial,Helvetica Neue,Helvetica,sans-serif; font-size:48px; text-anchor:end;\" transform=\"rotate(0, 168.156, 935.888)\" x=\"168.156\" y=\"935.888\">0.15</text>\n",
       "</g>\n",
       "<g clip-path=\"url(#clip1800)\">\n",
       "<text style=\"fill:#000000; fill-opacity:1; font-family:Arial,Helvetica Neue,Helvetica,sans-serif; font-size:48px; text-anchor:end;\" transform=\"rotate(0, 168.156, 630.468)\" x=\"168.156\" y=\"630.468\">0.20</text>\n",
       "</g>\n",
       "<g clip-path=\"url(#clip1800)\">\n",
       "<text style=\"fill:#000000; fill-opacity:1; font-family:Arial,Helvetica Neue,Helvetica,sans-serif; font-size:48px; text-anchor:end;\" transform=\"rotate(0, 168.156, 325.048)\" x=\"168.156\" y=\"325.048\">0.25</text>\n",
       "</g>\n",
       "<polyline clip-path=\"url(#clip1802)\" style=\"stroke:#009af9; stroke-width:4; stroke-opacity:1; fill:none\" points=\"\n",
       "  237.206,1834.65 245.423,1834.65 253.639,1834.64 261.855,1834.63 270.071,1834.58 278.287,1834.49 286.503,1834.33 294.719,1834.1 302.935,1833.83 311.151,1833.6 \n",
       "  319.367,1833.51 327.584,1833.59 335.8,1833.81 344.016,1834.08 352.232,1834.31 360.448,1834.44 368.664,1834.44 376.88,1834.25 385.096,1833.75 393.312,1832.78 \n",
       "  401.528,1831.14 409.745,1828.67 417.961,1825.32 426.177,1821.1 434.393,1815.99 442.609,1809.78 450.825,1802.01 459.041,1791.96 467.257,1778.77 475.473,1761.6 \n",
       "  483.689,1739.7 491.905,1712.46 500.122,1679.38 508.338,1640.04 516.554,1594.12 524.77,1541.29 532.986,1481.11 541.202,1413.25 549.418,1338 557.634,1256.75 \n",
       "  565.85,1172 574.066,1086.79 582.283,1003.92 590.499,925.028 598.715,850.021 606.931,777.236 615.147,704.599 623.363,631.144 631.579,557.845 639.795,487.085 \n",
       "  648.011,421.092 656.227,360.484 664.444,304.13 672.66,250.651 680.876,200.492 689.092,156.784 697.308,123.957 705.524,104.954 713.74,99.3044 721.956,103.824 \n",
       "  730.172,115.419 738.388,133.397 746.604,159.056 754.821,193.027 763.037,233.216 771.253,275.575 779.469,316.943 787.685,356.988 795.901,397.426 804.117,439.642 \n",
       "  812.333,483.297 820.549,527.16 828.765,570.976 836.982,616.056 845.198,663.729 853.414,713.248 861.63,761.63 869.846,805.835 878.062,845.153 886.278,881.601 \n",
       "  894.494,918.428 902.71,958.442 910.926,1003.15 919.143,1052.43 927.359,1104.31 935.575,1155.35 943.791,1201.93 952.007,1241.74 960.223,1274.48 968.439,1301.51 \n",
       "  976.655,1325.07 984.871,1347.5 993.087,1370.59 1001.3,1395.01 1009.52,1420.25 1017.74,1445.32 1025.95,1469.66 1034.17,1493.44 1042.38,1517.12 1050.6,1540.9 \n",
       "  1058.82,1564.58 1067.03,1587.75 1075.25,1609.99 1083.46,1630.83 1091.68,1649.9 1099.9,1667.14 1108.11,1682.72 1116.33,1696.83 1124.54,1709.31 1132.76,1719.81 \n",
       "  1140.98,1728.09 1149.19,1734.33 1157.41,1739.03 1165.63,1742.76 1173.84,1745.98 1182.06,1749.07 1190.27,1752.32 1198.49,1755.89 1206.71,1759.71 1214.92,1763.57 \n",
       "  1223.14,1767.2 1231.35,1770.47 1239.57,1773.51 1247.79,1776.76 1256,1780.7 1264.22,1785.58 1272.43,1791.18 1280.65,1796.89 1288.87,1801.95 1297.08,1805.79 \n",
       "  1305.3,1808.25 1313.52,1809.66 1321.73,1810.61 1329.95,1811.62 1338.16,1812.97 1346.38,1814.62 1354.6,1816.45 1362.81,1818.31 1371.03,1820.09 1379.24,1821.74 \n",
       "  1387.46,1823.17 1395.68,1824.39 1403.89,1825.44 1412.11,1826.39 1420.32,1827.26 1428.54,1827.98 1436.76,1828.45 1444.97,1828.6 1453.19,1828.51 1461.4,1828.36 \n",
       "  1469.62,1828.3 1477.84,1828.41 1486.05,1828.63 1494.27,1828.91 1502.49,1829.2 1510.7,1829.5 1518.92,1829.8 1527.13,1830.09 1535.35,1830.43 1543.57,1830.83 \n",
       "  1551.78,1831.25 1560,1831.53 1568.21,1831.54 1576.43,1831.26 1584.65,1830.83 1592.86,1830.54 1601.08,1830.6 1609.29,1831.1 1617.51,1831.9 1625.73,1832.79 \n",
       "  1633.94,1833.55 1642.16,1834.06 1650.38,1834.31 1658.59,1834.35 1666.81,1834.22 1675.02,1833.99 1683.24,1833.74 1691.46,1833.57 1699.67,1833.54 1707.89,1833.67 \n",
       "  1716.1,1833.91 1724.32,1834.16 1732.54,1834.36 1740.75,1834.46 1748.97,1834.44 1757.18,1834.31 1765.4,1834.08 1773.62,1833.81 1781.83,1833.59 1790.05,1833.51 \n",
       "  1798.26,1833.6 1806.48,1833.83 1814.7,1834.1 1822.91,1834.33 1831.13,1834.49 1839.35,1834.58 1847.56,1834.63 1855.78,1834.64 1863.99,1834.65 1872.21,1834.65 \n",
       "  \n",
       "  \"/>\n",
       "<polygon clip-path=\"url(#clip1800)\" points=\"\n",
       "1610.43,227.724 1861.26,227.724 1861.26,106.764 1610.43,106.764 \n",
       "  \" fill=\"#ffffff\" fill-rule=\"evenodd\" fill-opacity=\"1\"/>\n",
       "<polyline clip-path=\"url(#clip1800)\" style=\"stroke:#000000; stroke-width:4; stroke-opacity:1; fill:none\" points=\"\n",
       "  1610.43,227.724 1861.26,227.724 1861.26,106.764 1610.43,106.764 1610.43,227.724 \n",
       "  \"/>\n",
       "<polyline clip-path=\"url(#clip1800)\" style=\"stroke:#009af9; stroke-width:4; stroke-opacity:1; fill:none\" points=\"\n",
       "  1630.43,167.244 1750.43,167.244 \n",
       "  \"/>\n",
       "<g clip-path=\"url(#clip1800)\">\n",
       "<text style=\"fill:#000000; fill-opacity:1; font-family:Arial,Helvetica Neue,Helvetica,sans-serif; font-size:48px; text-anchor:start;\" transform=\"rotate(0, 1770.43, 184.744)\" x=\"1770.43\" y=\"184.744\">y1</text>\n",
       "</g>\n",
       "</svg>\n"
      ]
     },
     "metadata": {},
     "execution_count": 8
    }
   ],
   "cell_type": "code",
   "source": [
    "density(samples[:sigma])"
   ],
   "metadata": {},
   "execution_count": 8
  },
  {
   "outputs": [],
   "cell_type": "markdown",
   "source": [
    "End of `clip-21-23.jl`"
   ],
   "metadata": {}
  },
  {
   "outputs": [],
   "cell_type": "markdown",
   "source": [
    "*This notebook was generated using [Literate.jl](https://github.com/fredrikekre/Literate.jl).*"
   ],
   "metadata": {}
  }
 ],
 "nbformat_minor": 3,
 "metadata": {
  "language_info": {
   "file_extension": ".jl",
   "mimetype": "application/julia",
   "name": "julia",
   "version": "1.1.0"
  },
  "kernelspec": {
   "name": "julia-1.1",
   "display_name": "Julia 1.1.0",
   "language": "julia"
  }
 },
 "nbformat": 4
}
