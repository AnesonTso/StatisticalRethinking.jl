{
 "cells": [
  {
   "outputs": [],
   "cell_type": "markdown",
   "source": [
    "Load Julia packages (libraries) needed  for the snippets in chapter 0"
   ],
   "metadata": {}
  },
  {
   "outputs": [],
   "cell_type": "code",
   "source": [
    "using StatisticalRethinking, CmdStan, StanMCMCChain\n",
    "gr(size=(500,500));"
   ],
   "metadata": {},
   "execution_count": 1
  },
  {
   "outputs": [],
   "cell_type": "markdown",
   "source": [
    "CmdStan uses a tmp directory to store the output of cmdstan"
   ],
   "metadata": {}
  },
  {
   "outputs": [],
   "cell_type": "code",
   "source": [
    "ProjDir = rel_path(\"..\", \"scripts\", \"04\")\n",
    "cd(ProjDir)"
   ],
   "metadata": {},
   "execution_count": 2
  },
  {
   "outputs": [],
   "cell_type": "markdown",
   "source": [
    "CmdStan uses a tmp directory to store the output of cmdstan"
   ],
   "metadata": {}
  },
  {
   "outputs": [],
   "cell_type": "code",
   "source": [
    "ProjDir = rel_path(\"..\", \"scripts\", \"04\")\n",
    "cd(ProjDir)"
   ],
   "metadata": {},
   "execution_count": 3
  },
  {
   "outputs": [
    {
     "output_type": "execute_result",
     "data": {
      "text/plain": "5×4 DataFrame\n│ Row │ height   │ weight   │ age      │ male   │\n│     │ \u001b[90mFloat64⍰\u001b[39m │ \u001b[90mFloat64⍰\u001b[39m │ \u001b[90mFloat64⍰\u001b[39m │ \u001b[90mInt64⍰\u001b[39m │\n├─────┼──────────┼──────────┼──────────┼────────┤\n│ 1   │ 151.765  │ 47.8256  │ 63.0     │ 1      │\n│ 2   │ 139.7    │ 36.4858  │ 63.0     │ 0      │\n│ 3   │ 136.525  │ 31.8648  │ 65.0     │ 0      │\n│ 4   │ 156.845  │ 53.0419  │ 41.0     │ 1      │\n│ 5   │ 145.415  │ 41.2769  │ 51.0     │ 0      │",
      "text/html": [
       "<table class=\"data-frame\"><thead><tr><th></th><th>height</th><th>weight</th><th>age</th><th>male</th></tr><tr><th></th><th>Float64⍰</th><th>Float64⍰</th><th>Float64⍰</th><th>Int64⍰</th></tr></thead><tbody><p>5 rows × 4 columns</p><tr><th>1</th><td>151.765</td><td>47.8256</td><td>63.0</td><td>1</td></tr><tr><th>2</th><td>139.7</td><td>36.4858</td><td>63.0</td><td>0</td></tr><tr><th>3</th><td>136.525</td><td>31.8648</td><td>65.0</td><td>0</td></tr><tr><th>4</th><td>156.845</td><td>53.0419</td><td>41.0</td><td>1</td></tr><tr><th>5</th><td>145.415</td><td>41.2769</td><td>51.0</td><td>0</td></tr></tbody></table>"
      ]
     },
     "metadata": {},
     "execution_count": 4
    }
   ],
   "cell_type": "code",
   "source": [
    "howell1 = CSV.read(rel_path(\"..\", \"data\", \"Howell1.csv\"), delim=';')\n",
    "df = convert(DataFrame, howell1);\n",
    "df2 = filter(row -> row[:age] >= 18, df);\n",
    "first(df2, 5)"
   ],
   "metadata": {},
   "execution_count": 4
  },
  {
   "outputs": [],
   "cell_type": "markdown",
   "source": [
    "### Snippet 4.21"
   ],
   "metadata": {}
  },
  {
   "outputs": [],
   "cell_type": "markdown",
   "source": [
    "Sample 20 random heights"
   ],
   "metadata": {}
  },
  {
   "outputs": [],
   "cell_type": "code",
   "source": [
    "n = size(df2, 1)\n",
    "selected_ind = sample(1:n, 20, replace=false);\n",
    "df3 = df2[selected_ind, :];"
   ],
   "metadata": {},
   "execution_count": 5
  },
  {
   "outputs": [],
   "cell_type": "markdown",
   "source": [
    "### Snippet 4.22"
   ],
   "metadata": {}
  },
  {
   "outputs": [],
   "cell_type": "markdown",
   "source": [
    "Generate approximate probabilities"
   ],
   "metadata": {}
  },
  {
   "outputs": [
    {
     "output_type": "execute_result",
     "data": {
      "text/plain": "10×5 DataFrame\n│ Row │ mu      │ sigma   │ ll       │ prod     │ prob        │\n│     │ \u001b[90mFloat64\u001b[39m │ \u001b[90mFloat64\u001b[39m │ \u001b[90mFloat64\u001b[39m  │ \u001b[90mFloat64\u001b[39m  │ \u001b[90mFloat64\u001b[39m     │\n├─────┼─────────┼─────────┼──────────┼──────────┼─────────────┤\n│ 1   │ 140.0   │ 4.0     │ -236.679 │ -246.311 │ 3.69244e-75 │\n│ 2   │ 140.151 │ 4.0     │ -233.657 │ -243.274 │ 7.69366e-74 │\n│ 3   │ 140.302 │ 4.0     │ -230.663 │ -240.266 │ 1.55808e-72 │\n│ 4   │ 140.452 │ 4.0     │ -227.697 │ -237.286 │ 3.0668e-71  │\n│ 5   │ 140.603 │ 4.0     │ -224.76  │ -234.335 │ 5.86702e-70 │\n│ 6   │ 140.754 │ 4.0     │ -221.851 │ -231.412 │ 1.09091e-68 │\n│ 7   │ 140.905 │ 4.0     │ -218.971 │ -228.518 │ 1.97149e-67 │\n│ 8   │ 141.055 │ 4.0     │ -216.119 │ -225.652 │ 3.46291e-66 │\n│ 9   │ 141.206 │ 4.0     │ -213.295 │ -222.814 │ 5.91187e-65 │\n│ 10  │ 141.357 │ 4.0     │ -210.5   │ -220.005 │ 9.80948e-64 │",
      "text/html": [
       "<table class=\"data-frame\"><thead><tr><th></th><th>mu</th><th>sigma</th><th>ll</th><th>prod</th><th>prob</th></tr><tr><th></th><th>Float64</th><th>Float64</th><th>Float64</th><th>Float64</th><th>Float64</th></tr></thead><tbody><p>10 rows × 5 columns</p><tr><th>1</th><td>140.0</td><td>4.0</td><td>-236.679</td><td>-246.311</td><td>3.69244e-75</td></tr><tr><th>2</th><td>140.151</td><td>4.0</td><td>-233.657</td><td>-243.274</td><td>7.69366e-74</td></tr><tr><th>3</th><td>140.302</td><td>4.0</td><td>-230.663</td><td>-240.266</td><td>1.55808e-72</td></tr><tr><th>4</th><td>140.452</td><td>4.0</td><td>-227.697</td><td>-237.286</td><td>3.0668e-71</td></tr><tr><th>5</th><td>140.603</td><td>4.0</td><td>-224.76</td><td>-234.335</td><td>5.86702e-70</td></tr><tr><th>6</th><td>140.754</td><td>4.0</td><td>-221.851</td><td>-231.412</td><td>1.09091e-68</td></tr><tr><th>7</th><td>140.905</td><td>4.0</td><td>-218.971</td><td>-228.518</td><td>1.97149e-67</td></tr><tr><th>8</th><td>141.055</td><td>4.0</td><td>-216.119</td><td>-225.652</td><td>3.46291e-66</td></tr><tr><th>9</th><td>141.206</td><td>4.0</td><td>-213.295</td><td>-222.814</td><td>5.91187e-65</td></tr><tr><th>10</th><td>141.357</td><td>4.0</td><td>-210.5</td><td>-220.005</td><td>9.80948e-64</td></tr></tbody></table>"
      ]
     },
     "metadata": {},
     "execution_count": 6
    }
   ],
   "cell_type": "code",
   "source": [
    "struct Post\n",
    "  mu::Float64\n",
    "  sigma::Float64\n",
    "  ll:: Float64\n",
    "  prod::Float64\n",
    "  prob::Float64\n",
    "end\n",
    "\n",
    "mu_list = repeat(range(140, 170, length=200), 200);\n",
    "sigma_list = repeat(range(4, 20, length=200), inner=200);\n",
    "\n",
    "ll = zeros(40000);\n",
    "for i in 1:40000\n",
    "    d1 = Normal(mu_list[i], sigma_list[i])\n",
    "    ll[i] = sum(log.(pdf.(d1, df3[:height])))\n",
    "end\n",
    "\n",
    "d2 = Normal(178.0, 20.0)\n",
    "d3 = Uniform(0, 50)\n",
    "prod = ll + log.(pdf.(d2, mu_list)) + log.(pdf.(d3, sigma_list))\n",
    "prob = exp.(prod .- maximum(prod))\n",
    "post = DataFrame(mu=mu_list, sigma=sigma_list, ll=ll, prod=prod, prob=prob)\n",
    "first(post, 10)"
   ],
   "metadata": {},
   "execution_count": 6
  },
  {
   "outputs": [],
   "cell_type": "markdown",
   "source": [
    "Sample post"
   ],
   "metadata": {}
  },
  {
   "outputs": [
    {
     "output_type": "execute_result",
     "data": {
      "text/plain": "10000×5 DataFrame\n│ Row   │ mu      │ sigma   │ ll       │ prod     │ prob      │\n│       │ \u001b[90mFloat64\u001b[39m │ \u001b[90mFloat64\u001b[39m │ \u001b[90mFloat64\u001b[39m  │ \u001b[90mFloat64\u001b[39m  │ \u001b[90mFloat64\u001b[39m   │\n├───────┼─────────┼─────────┼──────────┼──────────┼───────────┤\n│ 1     │ 151.759 │ 6.97487 │ -70.4258 │ -79.1133 │ 0.0151475 │\n│ 2     │ 156.432 │ 8.50251 │ -67.4593 │ -75.8675 │ 0.389031  │\n│ 3     │ 153.869 │ 6.41206 │ -67.7741 │ -76.3286 │ 0.245308  │\n│ 4     │ 155.226 │ 6.81407 │ -66.674  │ -75.149  │ 0.797978  │\n│ 5     │ 154.925 │ 6.25126 │ -66.976  │ -75.4683 │ 0.579892  │\n│ 6     │ 155.377 │ 6.01005 │ -66.9255 │ -75.3919 │ 0.625895  │\n│ 7     │ 155.075 │ 6.65327 │ -66.7471 │ -75.2307 │ 0.735381  │\n⋮\n│ 9993  │ 155.377 │ 7.05528 │ -66.6541 │ -75.1206 │ 0.821009  │\n│ 9994  │ 157.487 │ 7.77889 │ -67.1967 │ -75.5493 │ 0.534745  │\n│ 9995  │ 154.925 │ 8.42211 │ -67.5749 │ -76.0672 │ 0.318601  │\n│ 9996  │ 156.432 │ 7.69849 │ -66.8513 │ -75.2595 │ 0.714532  │\n│ 9997  │ 156.281 │ 7.77889 │ -66.8897 │ -75.306  │ 0.682066  │\n│ 9998  │ 155.528 │ 8.74372 │ -67.7092 │ -76.1672 │ 0.288281  │\n│ 9999  │ 154.322 │ 6.25126 │ -67.4362 │ -75.9637 │ 0.353332  │\n│ 10000 │ 154.472 │ 7.61809 │ -67.2508 │ -75.7695 │ 0.429088  │",
      "text/html": [
       "<table class=\"data-frame\"><thead><tr><th></th><th>mu</th><th>sigma</th><th>ll</th><th>prod</th><th>prob</th></tr><tr><th></th><th>Float64</th><th>Float64</th><th>Float64</th><th>Float64</th><th>Float64</th></tr></thead><tbody><p>10,000 rows × 5 columns</p><tr><th>1</th><td>151.759</td><td>6.97487</td><td>-70.4258</td><td>-79.1133</td><td>0.0151475</td></tr><tr><th>2</th><td>156.432</td><td>8.50251</td><td>-67.4593</td><td>-75.8675</td><td>0.389031</td></tr><tr><th>3</th><td>153.869</td><td>6.41206</td><td>-67.7741</td><td>-76.3286</td><td>0.245308</td></tr><tr><th>4</th><td>155.226</td><td>6.81407</td><td>-66.674</td><td>-75.149</td><td>0.797978</td></tr><tr><th>5</th><td>154.925</td><td>6.25126</td><td>-66.976</td><td>-75.4683</td><td>0.579892</td></tr><tr><th>6</th><td>155.377</td><td>6.01005</td><td>-66.9255</td><td>-75.3919</td><td>0.625895</td></tr><tr><th>7</th><td>155.075</td><td>6.65327</td><td>-66.7471</td><td>-75.2307</td><td>0.735381</td></tr><tr><th>8</th><td>154.322</td><td>7.21608</td><td>-67.2121</td><td>-75.7397</td><td>0.442067</td></tr><tr><th>9</th><td>155.98</td><td>6.73367</td><td>-66.5049</td><td>-74.9377</td><td>0.985799</td></tr><tr><th>10</th><td>157.789</td><td>7.8593</td><td>-67.3926</td><td>-75.7299</td><td>0.446424</td></tr><tr><th>11</th><td>154.171</td><td>6.81407</td><td>-67.3176</td><td>-75.854</td><td>0.394285</td></tr><tr><th>12</th><td>156.734</td><td>9.46734</td><td>-68.4271</td><td>-76.8191</td><td>0.15021</td></tr><tr><th>13</th><td>156.281</td><td>7.21608</td><td>-66.6004</td><td>-75.0167</td><td>0.910914</td></tr><tr><th>14</th><td>158.543</td><td>8.1809</td><td>-68.0571</td><td>-76.357</td><td>0.238429</td></tr><tr><th>15</th><td>155.678</td><td>6.73367</td><td>-66.5428</td><td>-74.9923</td><td>0.933391</td></tr><tr><th>16</th><td>157.789</td><td>6.41206</td><td>-67.2305</td><td>-75.5678</td><td>0.524985</td></tr><tr><th>17</th><td>157.337</td><td>8.34171</td><td>-67.5219</td><td>-75.8823</td><td>0.383316</td></tr><tr><th>18</th><td>153.869</td><td>10.4322</td><td>-69.8976</td><td>-78.4522</td><td>0.0293405</td></tr><tr><th>19</th><td>157.94</td><td>10.3518</td><td>-69.6556</td><td>-77.9853</td><td>0.0467968</td></tr><tr><th>20</th><td>158.241</td><td>6.01005</td><td>-68.0274</td><td>-76.3421</td><td>0.242015</td></tr><tr><th>21</th><td>154.774</td><td>6.25126</td><td>-67.0736</td><td>-75.5746</td><td>0.521399</td></tr><tr><th>22</th><td>156.131</td><td>6.33166</td><td>-66.5773</td><td>-75.0018</td><td>0.924542</td></tr><tr><th>23</th><td>156.734</td><td>6.17085</td><td>-66.7594</td><td>-75.1514</td><td>0.796078</td></tr><tr><th>24</th><td>156.734</td><td>5.92965</td><td>-66.9568</td><td>-75.3488</td><td>0.653507</td></tr><tr><th>&vellip;</th><td>&vellip;</td><td>&vellip;</td><td>&vellip;</td><td>&vellip;</td><td>&vellip;</td></tr></tbody></table>"
      ]
     },
     "metadata": {},
     "execution_count": 7
    }
   ],
   "cell_type": "code",
   "source": [
    "samples = post[sample(1:size(post, 1), Weights(post[:prob]), 10000, replace=true), :]"
   ],
   "metadata": {},
   "execution_count": 7
  },
  {
   "outputs": [],
   "cell_type": "markdown",
   "source": [
    "### Snippet 4.23"
   ],
   "metadata": {}
  },
  {
   "outputs": [],
   "cell_type": "markdown",
   "source": [
    "Density of sigma"
   ],
   "metadata": {}
  },
  {
   "outputs": [
    {
     "output_type": "execute_result",
     "data": {
      "text/plain": "Plot{Plots.GRBackend() n=1}",
      "image/png": "[encoded data removed]",
      "text/html": [
       "<?xml version=\"1.0\" encoding=\"utf-8\"?>\n",
       "<svg xmlns=\"http://www.w3.org/2000/svg\" xmlns:xlink=\"http://www.w3.org/1999/xlink\" width=\"500\" height=\"500\" viewBox=\"0 0 2000 2000\">\n",
       "<defs>\n",
       "  <clipPath id=\"clip7000\">\n",
       "    <rect x=\"0\" y=\"0\" width=\"2000\" height=\"2000\"/>\n",
       "  </clipPath>\n",
       "</defs>\n",
       "<polygon clip-path=\"url(#clip7000)\" points=\"\n",
       "0,2000 2000,2000 2000,0 0,0 \n",
       "  \" fill=\"#ffffff\" fill-rule=\"evenodd\" fill-opacity=\"1\"/>\n",
       "<defs>\n",
       "  <clipPath id=\"clip7001\">\n",
       "    <rect x=\"400\" y=\"200\" width=\"1401\" height=\"1401\"/>\n",
       "  </clipPath>\n",
       "</defs>\n",
       "<polygon clip-path=\"url(#clip7000)\" points=\"\n",
       "161.394,1886.71 1921.26,1886.71 1921.26,47.2441 161.394,47.2441 \n",
       "  \" fill=\"#ffffff\" fill-rule=\"evenodd\" fill-opacity=\"1\"/>\n",
       "<defs>\n",
       "  <clipPath id=\"clip7002\">\n",
       "    <rect x=\"161\" y=\"47\" width=\"1761\" height=\"1840\"/>\n",
       "  </clipPath>\n",
       "</defs>\n",
       "<polyline clip-path=\"url(#clip7002)\" style=\"stroke:#000000; stroke-width:2; stroke-opacity:0.1; fill:none\" points=\"\n",
       "  371.339,1886.71 371.339,47.2441 \n",
       "  \"/>\n",
       "<polyline clip-path=\"url(#clip7002)\" style=\"stroke:#000000; stroke-width:2; stroke-opacity:0.1; fill:none\" points=\"\n",
       "  704.325,1886.71 704.325,47.2441 \n",
       "  \"/>\n",
       "<polyline clip-path=\"url(#clip7002)\" style=\"stroke:#000000; stroke-width:2; stroke-opacity:0.1; fill:none\" points=\"\n",
       "  1037.31,1886.71 1037.31,47.2441 \n",
       "  \"/>\n",
       "<polyline clip-path=\"url(#clip7002)\" style=\"stroke:#000000; stroke-width:2; stroke-opacity:0.1; fill:none\" points=\"\n",
       "  1370.3,1886.71 1370.3,47.2441 \n",
       "  \"/>\n",
       "<polyline clip-path=\"url(#clip7002)\" style=\"stroke:#000000; stroke-width:2; stroke-opacity:0.1; fill:none\" points=\"\n",
       "  1703.28,1886.71 1703.28,47.2441 \n",
       "  \"/>\n",
       "<polyline clip-path=\"url(#clip7002)\" style=\"stroke:#000000; stroke-width:2; stroke-opacity:0.1; fill:none\" points=\"\n",
       "  161.394,1834.65 1921.26,1834.65 \n",
       "  \"/>\n",
       "<polyline clip-path=\"url(#clip7002)\" style=\"stroke:#000000; stroke-width:2; stroke-opacity:0.1; fill:none\" points=\"\n",
       "  161.394,1319.79 1921.26,1319.79 \n",
       "  \"/>\n",
       "<polyline clip-path=\"url(#clip7002)\" style=\"stroke:#000000; stroke-width:2; stroke-opacity:0.1; fill:none\" points=\"\n",
       "  161.394,804.941 1921.26,804.941 \n",
       "  \"/>\n",
       "<polyline clip-path=\"url(#clip7002)\" style=\"stroke:#000000; stroke-width:2; stroke-opacity:0.1; fill:none\" points=\"\n",
       "  161.394,290.087 1921.26,290.087 \n",
       "  \"/>\n",
       "<polyline clip-path=\"url(#clip7000)\" style=\"stroke:#000000; stroke-width:4; stroke-opacity:1; fill:none\" points=\"\n",
       "  161.394,1886.71 1921.26,1886.71 \n",
       "  \"/>\n",
       "<polyline clip-path=\"url(#clip7000)\" style=\"stroke:#000000; stroke-width:4; stroke-opacity:1; fill:none\" points=\"\n",
       "  161.394,1886.71 161.394,47.2441 \n",
       "  \"/>\n",
       "<polyline clip-path=\"url(#clip7000)\" style=\"stroke:#000000; stroke-width:4; stroke-opacity:1; fill:none\" points=\"\n",
       "  371.339,1886.71 371.339,1859.12 \n",
       "  \"/>\n",
       "<polyline clip-path=\"url(#clip7000)\" style=\"stroke:#000000; stroke-width:4; stroke-opacity:1; fill:none\" points=\"\n",
       "  704.325,1886.71 704.325,1859.12 \n",
       "  \"/>\n",
       "<polyline clip-path=\"url(#clip7000)\" style=\"stroke:#000000; stroke-width:4; stroke-opacity:1; fill:none\" points=\"\n",
       "  1037.31,1886.71 1037.31,1859.12 \n",
       "  \"/>\n",
       "<polyline clip-path=\"url(#clip7000)\" style=\"stroke:#000000; stroke-width:4; stroke-opacity:1; fill:none\" points=\"\n",
       "  1370.3,1886.71 1370.3,1859.12 \n",
       "  \"/>\n",
       "<polyline clip-path=\"url(#clip7000)\" style=\"stroke:#000000; stroke-width:4; stroke-opacity:1; fill:none\" points=\"\n",
       "  1703.28,1886.71 1703.28,1859.12 \n",
       "  \"/>\n",
       "<polyline clip-path=\"url(#clip7000)\" style=\"stroke:#000000; stroke-width:4; stroke-opacity:1; fill:none\" points=\"\n",
       "  161.394,1834.65 187.792,1834.65 \n",
       "  \"/>\n",
       "<polyline clip-path=\"url(#clip7000)\" style=\"stroke:#000000; stroke-width:4; stroke-opacity:1; fill:none\" points=\"\n",
       "  161.394,1319.79 187.792,1319.79 \n",
       "  \"/>\n",
       "<polyline clip-path=\"url(#clip7000)\" style=\"stroke:#000000; stroke-width:4; stroke-opacity:1; fill:none\" points=\"\n",
       "  161.394,804.941 187.792,804.941 \n",
       "  \"/>\n",
       "<polyline clip-path=\"url(#clip7000)\" style=\"stroke:#000000; stroke-width:4; stroke-opacity:1; fill:none\" points=\"\n",
       "  161.394,290.087 187.792,290.087 \n",
       "  \"/>\n",
       "<g clip-path=\"url(#clip7000)\">\n",
       "<text style=\"fill:#000000; fill-opacity:1; font-family:Arial,Helvetica Neue,Helvetica,sans-serif; font-size:48px; text-anchor:middle;\" transform=\"rotate(0, 371.339, 1938.71)\" x=\"371.339\" y=\"1938.71\">5.0</text>\n",
       "</g>\n",
       "<g clip-path=\"url(#clip7000)\">\n",
       "<text style=\"fill:#000000; fill-opacity:1; font-family:Arial,Helvetica Neue,Helvetica,sans-serif; font-size:48px; text-anchor:middle;\" transform=\"rotate(0, 704.325, 1938.71)\" x=\"704.325\" y=\"1938.71\">7.5</text>\n",
       "</g>\n",
       "<g clip-path=\"url(#clip7000)\">\n",
       "<text style=\"fill:#000000; fill-opacity:1; font-family:Arial,Helvetica Neue,Helvetica,sans-serif; font-size:48px; text-anchor:middle;\" transform=\"rotate(0, 1037.31, 1938.71)\" x=\"1037.31\" y=\"1938.71\">10.0</text>\n",
       "</g>\n",
       "<g clip-path=\"url(#clip7000)\">\n",
       "<text style=\"fill:#000000; fill-opacity:1; font-family:Arial,Helvetica Neue,Helvetica,sans-serif; font-size:48px; text-anchor:middle;\" transform=\"rotate(0, 1370.3, 1938.71)\" x=\"1370.3\" y=\"1938.71\">12.5</text>\n",
       "</g>\n",
       "<g clip-path=\"url(#clip7000)\">\n",
       "<text style=\"fill:#000000; fill-opacity:1; font-family:Arial,Helvetica Neue,Helvetica,sans-serif; font-size:48px; text-anchor:middle;\" transform=\"rotate(0, 1703.28, 1938.71)\" x=\"1703.28\" y=\"1938.71\">15.0</text>\n",
       "</g>\n",
       "<g clip-path=\"url(#clip7000)\">\n",
       "<text style=\"fill:#000000; fill-opacity:1; font-family:Arial,Helvetica Neue,Helvetica,sans-serif; font-size:48px; text-anchor:end;\" transform=\"rotate(0, 141.394, 1852.15)\" x=\"141.394\" y=\"1852.15\">0.0</text>\n",
       "</g>\n",
       "<g clip-path=\"url(#clip7000)\">\n",
       "<text style=\"fill:#000000; fill-opacity:1; font-family:Arial,Helvetica Neue,Helvetica,sans-serif; font-size:48px; text-anchor:end;\" transform=\"rotate(0, 141.394, 1337.29)\" x=\"141.394\" y=\"1337.29\">0.1</text>\n",
       "</g>\n",
       "<g clip-path=\"url(#clip7000)\">\n",
       "<text style=\"fill:#000000; fill-opacity:1; font-family:Arial,Helvetica Neue,Helvetica,sans-serif; font-size:48px; text-anchor:end;\" transform=\"rotate(0, 141.394, 822.441)\" x=\"141.394\" y=\"822.441\">0.2</text>\n",
       "</g>\n",
       "<g clip-path=\"url(#clip7000)\">\n",
       "<text style=\"fill:#000000; fill-opacity:1; font-family:Arial,Helvetica Neue,Helvetica,sans-serif; font-size:48px; text-anchor:end;\" transform=\"rotate(0, 141.394, 307.587)\" x=\"141.394\" y=\"307.587\">0.3</text>\n",
       "</g>\n",
       "<polyline clip-path=\"url(#clip7002)\" style=\"stroke:#009af9; stroke-width:4; stroke-opacity:1; fill:none\" points=\"\n",
       "  211.202,1834.65 219.545,1834.64 227.887,1834.63 236.23,1834.57 244.573,1834.43 252.916,1834.09 261.259,1833.37 269.602,1832.02 277.945,1829.72 286.288,1826.22 \n",
       "  294.631,1821.34 302.974,1815.08 311.317,1807.55 319.66,1798.94 328.003,1789.26 336.346,1778.13 344.689,1764.7 353.032,1747.73 361.375,1725.94 369.718,1698.4 \n",
       "  378.061,1664.62 386.404,1624.52 394.747,1578.36 403.09,1526.79 411.433,1470.87 419.776,1411.89 428.119,1350.98 436.462,1288.77 444.805,1225.1 453.148,1158.95 \n",
       "  461.491,1088.65 469.834,1012.77 478.177,931.27 486.52,846.003 494.862,759.895 503.205,675.489 511.548,594.197 519.891,516.742 528.234,443.853 536.577,376.376 \n",
       "  544.92,315.165 553.263,261.425 561.606,216.998 569.949,183.469 578.292,160.406 586.635,144.694 594.978,132.185 603.321,120.331 611.664,109.388 620.007,101.526 \n",
       "  628.35,99.3044 636.693,104.842 645.036,119.432 653.379,142.929 661.722,173.178 670.065,206.252 678.408,237.569 686.751,263.314 695.094,281.81 703.437,294.611 \n",
       "  711.78,306.561 720.123,324.159 728.466,352.813 736.809,394.727 745.152,448.578 753.495,510.505 761.837,575.272 770.18,637.362 778.523,692.439 786.866,738.905 \n",
       "  795.209,778.438 803.552,814.846 811.895,852.028 820.238,892.36 828.581,936.148 836.924,981.949 845.267,1027.48 853.61,1070.79 861.953,1111.18 870.296,1149.05 \n",
       "  878.639,1185.04 886.982,1219.13 895.325,1250.58 903.668,1278.55 912.011,1302.8 920.354,1324.13 928.697,1344.27 937.04,1365.38 945.383,1389.08 953.726,1415.67 \n",
       "  962.069,1444.01 970.412,1472.34 978.755,1499.28 987.098,1524.27 995.441,1547.23 1003.78,1568.11 1012.13,1586.75 1020.47,1603.2 1028.81,1617.83 1037.16,1631.3 \n",
       "  1045.5,1644.36 1053.84,1657.59 1062.18,1671.23 1070.53,1685.01 1078.87,1698.21 1087.21,1710.05 1095.56,1720 1103.9,1727.91 1112.24,1733.85 1120.59,1737.97 \n",
       "  1128.93,1740.56 1137.27,1742.22 1145.61,1743.78 1153.96,1746.01 1162.3,1749.3 1170.64,1753.57 1178.99,1758.35 1187.33,1763.09 1195.67,1767.41 1204.01,1771.19 \n",
       "  1212.36,1774.55 1220.7,1777.63 1229.04,1780.46 1237.39,1782.95 1245.73,1784.96 1254.07,1786.44 1262.42,1787.59 1270.76,1788.77 1279.1,1790.39 1287.44,1792.63 \n",
       "  1295.79,1795.31 1304.13,1797.96 1312.47,1800.09 1320.82,1801.53 1329.16,1802.48 1337.5,1803.38 1345.85,1804.65 1354.19,1806.54 1362.53,1809.05 1370.87,1812.01 \n",
       "  1379.22,1815.16 1387.56,1818.18 1395.9,1820.79 1404.25,1822.79 1412.59,1824.17 1420.93,1825.07 1429.27,1825.72 1437.62,1826.34 1445.96,1827.06 1454.3,1827.9 \n",
       "  1462.65,1828.78 1470.99,1829.61 1479.33,1830.32 1487.68,1830.91 1496.02,1831.43 1504.36,1831.93 1512.7,1832.41 1521.05,1832.81 1529.39,1833.05 1537.73,1833.09 \n",
       "  1546.08,1832.96 1554.42,1832.72 1562.76,1832.44 1571.11,1832.17 1579.45,1831.98 1587.79,1831.93 1596.13,1832.09 1604.48,1832.43 1612.82,1832.86 1621.16,1833.26 \n",
       "  1629.51,1833.5 1637.85,1833.54 1646.19,1833.41 1654.54,1833.18 1662.88,1832.96 1671.22,1832.82 1679.56,1832.78 1687.91,1832.86 1696.25,1833.05 1704.59,1833.32 \n",
       "  1712.94,1833.6 1721.28,1833.82 1729.62,1833.89 1737.96,1833.76 1746.31,1833.44 1754.65,1833.01 1762.99,1832.6 1771.34,1832.35 1779.68,1832.37 1788.02,1832.66 \n",
       "  1796.37,1833.11 1804.71,1833.6 1813.05,1834.02 1821.39,1834.32 1829.74,1834.49 1838.08,1834.59 1846.42,1834.63 1854.77,1834.64 1863.11,1834.65 1871.45,1834.65 \n",
       "  \n",
       "  \"/>\n",
       "<polygon clip-path=\"url(#clip7000)\" points=\"\n",
       "1610.43,227.724 1861.26,227.724 1861.26,106.764 1610.43,106.764 \n",
       "  \" fill=\"#ffffff\" fill-rule=\"evenodd\" fill-opacity=\"1\"/>\n",
       "<polyline clip-path=\"url(#clip7000)\" style=\"stroke:#000000; stroke-width:4; stroke-opacity:1; fill:none\" points=\"\n",
       "  1610.43,227.724 1861.26,227.724 1861.26,106.764 1610.43,106.764 1610.43,227.724 \n",
       "  \"/>\n",
       "<polyline clip-path=\"url(#clip7000)\" style=\"stroke:#009af9; stroke-width:4; stroke-opacity:1; fill:none\" points=\"\n",
       "  1630.43,167.244 1750.43,167.244 \n",
       "  \"/>\n",
       "<g clip-path=\"url(#clip7000)\">\n",
       "<text style=\"fill:#000000; fill-opacity:1; font-family:Arial,Helvetica Neue,Helvetica,sans-serif; font-size:48px; text-anchor:start;\" transform=\"rotate(0, 1770.43, 184.744)\" x=\"1770.43\" y=\"184.744\">y1</text>\n",
       "</g>\n",
       "</svg>\n"
      ],
      "image/svg+xml": [
       "<?xml version=\"1.0\" encoding=\"utf-8\"?>\n",
       "<svg xmlns=\"http://www.w3.org/2000/svg\" xmlns:xlink=\"http://www.w3.org/1999/xlink\" width=\"500\" height=\"500\" viewBox=\"0 0 2000 2000\">\n",
       "<defs>\n",
       "  <clipPath id=\"clip6900\">\n",
       "    <rect x=\"0\" y=\"0\" width=\"2000\" height=\"2000\"/>\n",
       "  </clipPath>\n",
       "</defs>\n",
       "<polygon clip-path=\"url(#clip6900)\" points=\"\n",
       "0,2000 2000,2000 2000,0 0,0 \n",
       "  \" fill=\"#ffffff\" fill-rule=\"evenodd\" fill-opacity=\"1\"/>\n",
       "<defs>\n",
       "  <clipPath id=\"clip6901\">\n",
       "    <rect x=\"400\" y=\"200\" width=\"1401\" height=\"1401\"/>\n",
       "  </clipPath>\n",
       "</defs>\n",
       "<polygon clip-path=\"url(#clip6900)\" points=\"\n",
       "161.394,1886.71 1921.26,1886.71 1921.26,47.2441 161.394,47.2441 \n",
       "  \" fill=\"#ffffff\" fill-rule=\"evenodd\" fill-opacity=\"1\"/>\n",
       "<defs>\n",
       "  <clipPath id=\"clip6902\">\n",
       "    <rect x=\"161\" y=\"47\" width=\"1761\" height=\"1840\"/>\n",
       "  </clipPath>\n",
       "</defs>\n",
       "<polyline clip-path=\"url(#clip6902)\" style=\"stroke:#000000; stroke-width:2; stroke-opacity:0.1; fill:none\" points=\"\n",
       "  371.339,1886.71 371.339,47.2441 \n",
       "  \"/>\n",
       "<polyline clip-path=\"url(#clip6902)\" style=\"stroke:#000000; stroke-width:2; stroke-opacity:0.1; fill:none\" points=\"\n",
       "  704.325,1886.71 704.325,47.2441 \n",
       "  \"/>\n",
       "<polyline clip-path=\"url(#clip6902)\" style=\"stroke:#000000; stroke-width:2; stroke-opacity:0.1; fill:none\" points=\"\n",
       "  1037.31,1886.71 1037.31,47.2441 \n",
       "  \"/>\n",
       "<polyline clip-path=\"url(#clip6902)\" style=\"stroke:#000000; stroke-width:2; stroke-opacity:0.1; fill:none\" points=\"\n",
       "  1370.3,1886.71 1370.3,47.2441 \n",
       "  \"/>\n",
       "<polyline clip-path=\"url(#clip6902)\" style=\"stroke:#000000; stroke-width:2; stroke-opacity:0.1; fill:none\" points=\"\n",
       "  1703.28,1886.71 1703.28,47.2441 \n",
       "  \"/>\n",
       "<polyline clip-path=\"url(#clip6902)\" style=\"stroke:#000000; stroke-width:2; stroke-opacity:0.1; fill:none\" points=\"\n",
       "  161.394,1834.65 1921.26,1834.65 \n",
       "  \"/>\n",
       "<polyline clip-path=\"url(#clip6902)\" style=\"stroke:#000000; stroke-width:2; stroke-opacity:0.1; fill:none\" points=\"\n",
       "  161.394,1319.79 1921.26,1319.79 \n",
       "  \"/>\n",
       "<polyline clip-path=\"url(#clip6902)\" style=\"stroke:#000000; stroke-width:2; stroke-opacity:0.1; fill:none\" points=\"\n",
       "  161.394,804.941 1921.26,804.941 \n",
       "  \"/>\n",
       "<polyline clip-path=\"url(#clip6902)\" style=\"stroke:#000000; stroke-width:2; stroke-opacity:0.1; fill:none\" points=\"\n",
       "  161.394,290.087 1921.26,290.087 \n",
       "  \"/>\n",
       "<polyline clip-path=\"url(#clip6900)\" style=\"stroke:#000000; stroke-width:4; stroke-opacity:1; fill:none\" points=\"\n",
       "  161.394,1886.71 1921.26,1886.71 \n",
       "  \"/>\n",
       "<polyline clip-path=\"url(#clip6900)\" style=\"stroke:#000000; stroke-width:4; stroke-opacity:1; fill:none\" points=\"\n",
       "  161.394,1886.71 161.394,47.2441 \n",
       "  \"/>\n",
       "<polyline clip-path=\"url(#clip6900)\" style=\"stroke:#000000; stroke-width:4; stroke-opacity:1; fill:none\" points=\"\n",
       "  371.339,1886.71 371.339,1859.12 \n",
       "  \"/>\n",
       "<polyline clip-path=\"url(#clip6900)\" style=\"stroke:#000000; stroke-width:4; stroke-opacity:1; fill:none\" points=\"\n",
       "  704.325,1886.71 704.325,1859.12 \n",
       "  \"/>\n",
       "<polyline clip-path=\"url(#clip6900)\" style=\"stroke:#000000; stroke-width:4; stroke-opacity:1; fill:none\" points=\"\n",
       "  1037.31,1886.71 1037.31,1859.12 \n",
       "  \"/>\n",
       "<polyline clip-path=\"url(#clip6900)\" style=\"stroke:#000000; stroke-width:4; stroke-opacity:1; fill:none\" points=\"\n",
       "  1370.3,1886.71 1370.3,1859.12 \n",
       "  \"/>\n",
       "<polyline clip-path=\"url(#clip6900)\" style=\"stroke:#000000; stroke-width:4; stroke-opacity:1; fill:none\" points=\"\n",
       "  1703.28,1886.71 1703.28,1859.12 \n",
       "  \"/>\n",
       "<polyline clip-path=\"url(#clip6900)\" style=\"stroke:#000000; stroke-width:4; stroke-opacity:1; fill:none\" points=\"\n",
       "  161.394,1834.65 187.792,1834.65 \n",
       "  \"/>\n",
       "<polyline clip-path=\"url(#clip6900)\" style=\"stroke:#000000; stroke-width:4; stroke-opacity:1; fill:none\" points=\"\n",
       "  161.394,1319.79 187.792,1319.79 \n",
       "  \"/>\n",
       "<polyline clip-path=\"url(#clip6900)\" style=\"stroke:#000000; stroke-width:4; stroke-opacity:1; fill:none\" points=\"\n",
       "  161.394,804.941 187.792,804.941 \n",
       "  \"/>\n",
       "<polyline clip-path=\"url(#clip6900)\" style=\"stroke:#000000; stroke-width:4; stroke-opacity:1; fill:none\" points=\"\n",
       "  161.394,290.087 187.792,290.087 \n",
       "  \"/>\n",
       "<g clip-path=\"url(#clip6900)\">\n",
       "<text style=\"fill:#000000; fill-opacity:1; font-family:Arial,Helvetica Neue,Helvetica,sans-serif; font-size:48px; text-anchor:middle;\" transform=\"rotate(0, 371.339, 1938.71)\" x=\"371.339\" y=\"1938.71\">5.0</text>\n",
       "</g>\n",
       "<g clip-path=\"url(#clip6900)\">\n",
       "<text style=\"fill:#000000; fill-opacity:1; font-family:Arial,Helvetica Neue,Helvetica,sans-serif; font-size:48px; text-anchor:middle;\" transform=\"rotate(0, 704.325, 1938.71)\" x=\"704.325\" y=\"1938.71\">7.5</text>\n",
       "</g>\n",
       "<g clip-path=\"url(#clip6900)\">\n",
       "<text style=\"fill:#000000; fill-opacity:1; font-family:Arial,Helvetica Neue,Helvetica,sans-serif; font-size:48px; text-anchor:middle;\" transform=\"rotate(0, 1037.31, 1938.71)\" x=\"1037.31\" y=\"1938.71\">10.0</text>\n",
       "</g>\n",
       "<g clip-path=\"url(#clip6900)\">\n",
       "<text style=\"fill:#000000; fill-opacity:1; font-family:Arial,Helvetica Neue,Helvetica,sans-serif; font-size:48px; text-anchor:middle;\" transform=\"rotate(0, 1370.3, 1938.71)\" x=\"1370.3\" y=\"1938.71\">12.5</text>\n",
       "</g>\n",
       "<g clip-path=\"url(#clip6900)\">\n",
       "<text style=\"fill:#000000; fill-opacity:1; font-family:Arial,Helvetica Neue,Helvetica,sans-serif; font-size:48px; text-anchor:middle;\" transform=\"rotate(0, 1703.28, 1938.71)\" x=\"1703.28\" y=\"1938.71\">15.0</text>\n",
       "</g>\n",
       "<g clip-path=\"url(#clip6900)\">\n",
       "<text style=\"fill:#000000; fill-opacity:1; font-family:Arial,Helvetica Neue,Helvetica,sans-serif; font-size:48px; text-anchor:end;\" transform=\"rotate(0, 141.394, 1852.15)\" x=\"141.394\" y=\"1852.15\">0.0</text>\n",
       "</g>\n",
       "<g clip-path=\"url(#clip6900)\">\n",
       "<text style=\"fill:#000000; fill-opacity:1; font-family:Arial,Helvetica Neue,Helvetica,sans-serif; font-size:48px; text-anchor:end;\" transform=\"rotate(0, 141.394, 1337.29)\" x=\"141.394\" y=\"1337.29\">0.1</text>\n",
       "</g>\n",
       "<g clip-path=\"url(#clip6900)\">\n",
       "<text style=\"fill:#000000; fill-opacity:1; font-family:Arial,Helvetica Neue,Helvetica,sans-serif; font-size:48px; text-anchor:end;\" transform=\"rotate(0, 141.394, 822.441)\" x=\"141.394\" y=\"822.441\">0.2</text>\n",
       "</g>\n",
       "<g clip-path=\"url(#clip6900)\">\n",
       "<text style=\"fill:#000000; fill-opacity:1; font-family:Arial,Helvetica Neue,Helvetica,sans-serif; font-size:48px; text-anchor:end;\" transform=\"rotate(0, 141.394, 307.587)\" x=\"141.394\" y=\"307.587\">0.3</text>\n",
       "</g>\n",
       "<polyline clip-path=\"url(#clip6902)\" style=\"stroke:#009af9; stroke-width:4; stroke-opacity:1; fill:none\" points=\"\n",
       "  211.202,1834.65 219.545,1834.64 227.887,1834.63 236.23,1834.57 244.573,1834.43 252.916,1834.09 261.259,1833.37 269.602,1832.02 277.945,1829.72 286.288,1826.22 \n",
       "  294.631,1821.34 302.974,1815.08 311.317,1807.55 319.66,1798.94 328.003,1789.26 336.346,1778.13 344.689,1764.7 353.032,1747.73 361.375,1725.94 369.718,1698.4 \n",
       "  378.061,1664.62 386.404,1624.52 394.747,1578.36 403.09,1526.79 411.433,1470.87 419.776,1411.89 428.119,1350.98 436.462,1288.77 444.805,1225.1 453.148,1158.95 \n",
       "  461.491,1088.65 469.834,1012.77 478.177,931.27 486.52,846.003 494.862,759.895 503.205,675.489 511.548,594.197 519.891,516.742 528.234,443.853 536.577,376.376 \n",
       "  544.92,315.165 553.263,261.425 561.606,216.998 569.949,183.469 578.292,160.406 586.635,144.694 594.978,132.185 603.321,120.331 611.664,109.388 620.007,101.526 \n",
       "  628.35,99.3044 636.693,104.842 645.036,119.432 653.379,142.929 661.722,173.178 670.065,206.252 678.408,237.569 686.751,263.314 695.094,281.81 703.437,294.611 \n",
       "  711.78,306.561 720.123,324.159 728.466,352.813 736.809,394.727 745.152,448.578 753.495,510.505 761.837,575.272 770.18,637.362 778.523,692.439 786.866,738.905 \n",
       "  795.209,778.438 803.552,814.846 811.895,852.028 820.238,892.36 828.581,936.148 836.924,981.949 845.267,1027.48 853.61,1070.79 861.953,1111.18 870.296,1149.05 \n",
       "  878.639,1185.04 886.982,1219.13 895.325,1250.58 903.668,1278.55 912.011,1302.8 920.354,1324.13 928.697,1344.27 937.04,1365.38 945.383,1389.08 953.726,1415.67 \n",
       "  962.069,1444.01 970.412,1472.34 978.755,1499.28 987.098,1524.27 995.441,1547.23 1003.78,1568.11 1012.13,1586.75 1020.47,1603.2 1028.81,1617.83 1037.16,1631.3 \n",
       "  1045.5,1644.36 1053.84,1657.59 1062.18,1671.23 1070.53,1685.01 1078.87,1698.21 1087.21,1710.05 1095.56,1720 1103.9,1727.91 1112.24,1733.85 1120.59,1737.97 \n",
       "  1128.93,1740.56 1137.27,1742.22 1145.61,1743.78 1153.96,1746.01 1162.3,1749.3 1170.64,1753.57 1178.99,1758.35 1187.33,1763.09 1195.67,1767.41 1204.01,1771.19 \n",
       "  1212.36,1774.55 1220.7,1777.63 1229.04,1780.46 1237.39,1782.95 1245.73,1784.96 1254.07,1786.44 1262.42,1787.59 1270.76,1788.77 1279.1,1790.39 1287.44,1792.63 \n",
       "  1295.79,1795.31 1304.13,1797.96 1312.47,1800.09 1320.82,1801.53 1329.16,1802.48 1337.5,1803.38 1345.85,1804.65 1354.19,1806.54 1362.53,1809.05 1370.87,1812.01 \n",
       "  1379.22,1815.16 1387.56,1818.18 1395.9,1820.79 1404.25,1822.79 1412.59,1824.17 1420.93,1825.07 1429.27,1825.72 1437.62,1826.34 1445.96,1827.06 1454.3,1827.9 \n",
       "  1462.65,1828.78 1470.99,1829.61 1479.33,1830.32 1487.68,1830.91 1496.02,1831.43 1504.36,1831.93 1512.7,1832.41 1521.05,1832.81 1529.39,1833.05 1537.73,1833.09 \n",
       "  1546.08,1832.96 1554.42,1832.72 1562.76,1832.44 1571.11,1832.17 1579.45,1831.98 1587.79,1831.93 1596.13,1832.09 1604.48,1832.43 1612.82,1832.86 1621.16,1833.26 \n",
       "  1629.51,1833.5 1637.85,1833.54 1646.19,1833.41 1654.54,1833.18 1662.88,1832.96 1671.22,1832.82 1679.56,1832.78 1687.91,1832.86 1696.25,1833.05 1704.59,1833.32 \n",
       "  1712.94,1833.6 1721.28,1833.82 1729.62,1833.89 1737.96,1833.76 1746.31,1833.44 1754.65,1833.01 1762.99,1832.6 1771.34,1832.35 1779.68,1832.37 1788.02,1832.66 \n",
       "  1796.37,1833.11 1804.71,1833.6 1813.05,1834.02 1821.39,1834.32 1829.74,1834.49 1838.08,1834.59 1846.42,1834.63 1854.77,1834.64 1863.11,1834.65 1871.45,1834.65 \n",
       "  \n",
       "  \"/>\n",
       "<polygon clip-path=\"url(#clip6900)\" points=\"\n",
       "1610.43,227.724 1861.26,227.724 1861.26,106.764 1610.43,106.764 \n",
       "  \" fill=\"#ffffff\" fill-rule=\"evenodd\" fill-opacity=\"1\"/>\n",
       "<polyline clip-path=\"url(#clip6900)\" style=\"stroke:#000000; stroke-width:4; stroke-opacity:1; fill:none\" points=\"\n",
       "  1610.43,227.724 1861.26,227.724 1861.26,106.764 1610.43,106.764 1610.43,227.724 \n",
       "  \"/>\n",
       "<polyline clip-path=\"url(#clip6900)\" style=\"stroke:#009af9; stroke-width:4; stroke-opacity:1; fill:none\" points=\"\n",
       "  1630.43,167.244 1750.43,167.244 \n",
       "  \"/>\n",
       "<g clip-path=\"url(#clip6900)\">\n",
       "<text style=\"fill:#000000; fill-opacity:1; font-family:Arial,Helvetica Neue,Helvetica,sans-serif; font-size:48px; text-anchor:start;\" transform=\"rotate(0, 1770.43, 184.744)\" x=\"1770.43\" y=\"184.744\">y1</text>\n",
       "</g>\n",
       "</svg>\n"
      ]
     },
     "metadata": {},
     "execution_count": 8
    }
   ],
   "cell_type": "code",
   "source": [
    "density(samples[:sigma])"
   ],
   "metadata": {},
   "execution_count": 8
  },
  {
   "outputs": [],
   "cell_type": "markdown",
   "source": [
    "End of `clip-21-23.jl`"
   ],
   "metadata": {}
  },
  {
   "outputs": [],
   "cell_type": "markdown",
   "source": [
    "*This notebook was generated using [Literate.jl](https://github.com/fredrikekre/Literate.jl).*"
   ],
   "metadata": {}
  }
 ],
 "nbformat_minor": 3,
 "metadata": {
  "language_info": {
   "file_extension": ".jl",
   "mimetype": "application/julia",
   "name": "julia",
   "version": "1.1.0"
  },
  "kernelspec": {
   "name": "julia-1.1",
   "display_name": "Julia 1.1.0",
   "language": "julia"
  }
 },
 "nbformat": 4
}
