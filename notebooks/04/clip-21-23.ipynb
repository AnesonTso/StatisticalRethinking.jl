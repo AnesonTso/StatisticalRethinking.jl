{
 "cells": [
  {
   "outputs": [],
   "cell_type": "markdown",
   "source": [
    "Load Julia packages (libraries) needed  for the snippets in chapter 0"
   ],
   "metadata": {}
  },
  {
   "outputs": [],
   "cell_type": "code",
   "source": [
    "using StatisticalRethinking, CmdStan, StanMCMCChains\n",
    "gr(size=(500,500));"
   ],
   "metadata": {},
   "execution_count": 1
  },
  {
   "outputs": [],
   "cell_type": "markdown",
   "source": [
    "CmdStan uses a tmp directory to store the output of cmdstan"
   ],
   "metadata": {}
  },
  {
   "outputs": [],
   "cell_type": "code",
   "source": [
    "ProjDir = rel_path(\"..\", \"scripts\", \"04\")\n",
    "cd(ProjDir)"
   ],
   "metadata": {},
   "execution_count": 2
  },
  {
   "outputs": [],
   "cell_type": "markdown",
   "source": [
    "CmdStan uses a tmp directory to store the output of cmdstan"
   ],
   "metadata": {}
  },
  {
   "outputs": [],
   "cell_type": "code",
   "source": [
    "ProjDir = rel_path(\"..\", \"scripts\", \"04\")\n",
    "cd(ProjDir)"
   ],
   "metadata": {},
   "execution_count": 3
  },
  {
   "outputs": [
    {
     "output_type": "execute_result",
     "data": {
      "text/plain": "5×4 DataFrame\n│ Row │ height   │ weight   │ age      │ male   │\n│     │ \u001b[90mFloat64⍰\u001b[39m │ \u001b[90mFloat64⍰\u001b[39m │ \u001b[90mFloat64⍰\u001b[39m │ \u001b[90mInt64⍰\u001b[39m │\n├─────┼──────────┼──────────┼──────────┼────────┤\n│ 1   │ 151.765  │ 47.8256  │ 63.0     │ 1      │\n│ 2   │ 139.7    │ 36.4858  │ 63.0     │ 0      │\n│ 3   │ 136.525  │ 31.8648  │ 65.0     │ 0      │\n│ 4   │ 156.845  │ 53.0419  │ 41.0     │ 1      │\n│ 5   │ 145.415  │ 41.2769  │ 51.0     │ 0      │",
      "text/html": [
       "<table class=\"data-frame\"><thead><tr><th></th><th>height</th><th>weight</th><th>age</th><th>male</th></tr><tr><th></th><th>Float64⍰</th><th>Float64⍰</th><th>Float64⍰</th><th>Int64⍰</th></tr></thead><tbody><p>5 rows × 4 columns</p><tr><th>1</th><td>151.765</td><td>47.8256</td><td>63.0</td><td>1</td></tr><tr><th>2</th><td>139.7</td><td>36.4858</td><td>63.0</td><td>0</td></tr><tr><th>3</th><td>136.525</td><td>31.8648</td><td>65.0</td><td>0</td></tr><tr><th>4</th><td>156.845</td><td>53.0419</td><td>41.0</td><td>1</td></tr><tr><th>5</th><td>145.415</td><td>41.2769</td><td>51.0</td><td>0</td></tr></tbody></table>"
      ]
     },
     "metadata": {},
     "execution_count": 4
    }
   ],
   "cell_type": "code",
   "source": [
    "howell1 = CSV.read(rel_path(\"..\", \"data\", \"Howell1.csv\"), delim=';')\n",
    "df = convert(DataFrame, howell1);\n",
    "df2 = filter(row -> row[:age] >= 18, df);\n",
    "first(df2, 5)"
   ],
   "metadata": {},
   "execution_count": 4
  },
  {
   "outputs": [],
   "cell_type": "markdown",
   "source": [
    "### Snippet 4.21"
   ],
   "metadata": {}
  },
  {
   "outputs": [],
   "cell_type": "markdown",
   "source": [
    "Sample 20 random heights"
   ],
   "metadata": {}
  },
  {
   "outputs": [],
   "cell_type": "code",
   "source": [
    "n = size(df2, 1)\n",
    "selected_ind = sample(1:n, 20, replace=false);\n",
    "df3 = df2[selected_ind, :];"
   ],
   "metadata": {},
   "execution_count": 5
  },
  {
   "outputs": [],
   "cell_type": "markdown",
   "source": [
    "### Snippet 4.22"
   ],
   "metadata": {}
  },
  {
   "outputs": [],
   "cell_type": "markdown",
   "source": [
    "Generate approximate probabilities"
   ],
   "metadata": {}
  },
  {
   "outputs": [
    {
     "output_type": "execute_result",
     "data": {
      "text/plain": "10×5 DataFrame\n│ Row │ mu      │ sigma   │ ll       │ prod     │ prob        │\n│     │ \u001b[90mFloat64\u001b[39m │ \u001b[90mFloat64\u001b[39m │ \u001b[90mFloat64\u001b[39m  │ \u001b[90mFloat64\u001b[39m  │ \u001b[90mFloat64\u001b[39m     │\n├─────┼─────────┼─────────┼──────────┼──────────┼─────────────┤\n│ 1   │ 140.0   │ 4.0     │ -209.981 │ -219.613 │ 1.65335e-62 │\n│ 2   │ 140.151 │ 4.0     │ -207.297 │ -216.914 │ 2.45676e-61 │\n│ 3   │ 140.302 │ 4.0     │ -204.641 │ -214.244 │ 3.54813e-60 │\n│ 4   │ 140.452 │ 4.0     │ -202.014 │ -211.602 │ 4.98051e-59 │\n│ 5   │ 140.603 │ 4.0     │ -199.414 │ -208.989 │ 6.79494e-58 │\n│ 6   │ 140.754 │ 4.0     │ -196.844 │ -206.404 │ 9.01021e-57 │\n│ 7   │ 140.905 │ 4.0     │ -194.301 │ -203.848 │ 1.16124e-55 │\n│ 8   │ 141.055 │ 4.0     │ -191.788 │ -201.32  │ 1.45461e-54 │\n│ 9   │ 141.206 │ 4.0     │ -189.302 │ -198.821 │ 1.77097e-53 │\n│ 10  │ 141.357 │ 4.0     │ -186.845 │ -196.35  │ 2.09561e-52 │",
      "text/html": [
       "<table class=\"data-frame\"><thead><tr><th></th><th>mu</th><th>sigma</th><th>ll</th><th>prod</th><th>prob</th></tr><tr><th></th><th>Float64</th><th>Float64</th><th>Float64</th><th>Float64</th><th>Float64</th></tr></thead><tbody><p>10 rows × 5 columns</p><tr><th>1</th><td>140.0</td><td>4.0</td><td>-209.981</td><td>-219.613</td><td>1.65335e-62</td></tr><tr><th>2</th><td>140.151</td><td>4.0</td><td>-207.297</td><td>-216.914</td><td>2.45676e-61</td></tr><tr><th>3</th><td>140.302</td><td>4.0</td><td>-204.641</td><td>-214.244</td><td>3.54813e-60</td></tr><tr><th>4</th><td>140.452</td><td>4.0</td><td>-202.014</td><td>-211.602</td><td>4.98051e-59</td></tr><tr><th>5</th><td>140.603</td><td>4.0</td><td>-199.414</td><td>-208.989</td><td>6.79494e-58</td></tr><tr><th>6</th><td>140.754</td><td>4.0</td><td>-196.844</td><td>-206.404</td><td>9.01021e-57</td></tr><tr><th>7</th><td>140.905</td><td>4.0</td><td>-194.301</td><td>-203.848</td><td>1.16124e-55</td></tr><tr><th>8</th><td>141.055</td><td>4.0</td><td>-191.788</td><td>-201.32</td><td>1.45461e-54</td></tr><tr><th>9</th><td>141.206</td><td>4.0</td><td>-189.302</td><td>-198.821</td><td>1.77097e-53</td></tr><tr><th>10</th><td>141.357</td><td>4.0</td><td>-186.845</td><td>-196.35</td><td>2.09561e-52</td></tr></tbody></table>"
      ]
     },
     "metadata": {},
     "execution_count": 6
    }
   ],
   "cell_type": "code",
   "source": [
    "struct Post\n",
    "  mu::Float64\n",
    "  sigma::Float64\n",
    "  ll:: Float64\n",
    "  prod::Float64\n",
    "  prob::Float64\n",
    "end\n",
    "\n",
    "mu_list = repeat(range(140, 170, length=200), 200);\n",
    "sigma_list = repeat(range(4, 20, length=200), inner=200);\n",
    "\n",
    "ll = zeros(40000);\n",
    "for i in 1:40000\n",
    "    d1 = Normal(mu_list[i], sigma_list[i])\n",
    "    ll[i] = sum(log.(pdf.(d1, df3[:height])))\n",
    "end\n",
    "\n",
    "d2 = Normal(178.0, 20.0)\n",
    "d3 = Uniform(0, 50)\n",
    "prod = ll + log.(pdf.(d2, mu_list)) + log.(pdf.(d3, sigma_list))\n",
    "prob = exp.(prod .- maximum(prod))\n",
    "post = DataFrame(mu=mu_list, sigma=sigma_list, ll=ll, prod=prod, prob=prob)\n",
    "first(post, 10)"
   ],
   "metadata": {},
   "execution_count": 6
  },
  {
   "outputs": [],
   "cell_type": "markdown",
   "source": [
    "Sample post"
   ],
   "metadata": {}
  },
  {
   "outputs": [
    {
     "output_type": "execute_result",
     "data": {
      "text/plain": "10000×5 DataFrame\n│ Row   │ mu      │ sigma   │ ll       │ prod     │ prob      │\n│       │ \u001b[90mFloat64\u001b[39m │ \u001b[90mFloat64\u001b[39m │ \u001b[90mFloat64\u001b[39m  │ \u001b[90mFloat64\u001b[39m  │ \u001b[90mFloat64\u001b[39m   │\n├───────┼─────────┼─────────┼──────────┼──────────┼───────────┤\n│ 1     │ 153.266 │ 7.05528 │ -69.1553 │ -77.7467 │ 0.676257  │\n│ 2     │ 157.94  │ 6.89447 │ -71.7687 │ -80.0985 │ 0.0643805 │\n│ 3     │ 157.789 │ 7.37688 │ -71.0557 │ -79.393  │ 0.130356  │\n│ 4     │ 155.377 │ 5.44724 │ -71.9119 │ -80.3784 │ 0.0486612 │\n│ 5     │ 157.789 │ 8.26131 │ -70.7446 │ -79.082  │ 0.177916  │\n│ 6     │ 153.266 │ 9.62814 │ -69.9556 │ -78.547  │ 0.303781  │\n│ 7     │ 155.98  │ 9.30653 │ -69.9076 │ -78.3404 │ 0.373467  │\n⋮\n│ 9993  │ 157.487 │ 8.42211 │ -70.4648 │ -78.8175 │ 0.231776  │\n│ 9994  │ 156.131 │ 6.25126 │ -70.4934 │ -78.9179 │ 0.209627  │\n│ 9995  │ 152.965 │ 7.53769 │ -69.1561 │ -77.7663 │ 0.663128  │\n│ 9996  │ 155.075 │ 8.58291 │ -69.2073 │ -77.6909 │ 0.715023  │\n│ 9997  │ 157.638 │ 8.66332 │ -70.6399 │ -78.9849 │ 0.196055  │\n│ 9998  │ 156.432 │ 9.78894 │ -70.4317 │ -78.8398 │ 0.226658  │\n│ 9999  │ 154.623 │ 7.9397  │ -68.894  │ -77.4038 │ 0.952835  │\n│ 10000 │ 155.98  │ 6.57286 │ -69.8999 │ -78.3327 │ 0.376379  │",
      "text/html": [
       "<table class=\"data-frame\"><thead><tr><th></th><th>mu</th><th>sigma</th><th>ll</th><th>prod</th><th>prob</th></tr><tr><th></th><th>Float64</th><th>Float64</th><th>Float64</th><th>Float64</th><th>Float64</th></tr></thead><tbody><p>10,000 rows × 5 columns</p><tr><th>1</th><td>153.266</td><td>7.05528</td><td>-69.1553</td><td>-77.7467</td><td>0.676257</td></tr><tr><th>2</th><td>157.94</td><td>6.89447</td><td>-71.7687</td><td>-80.0985</td><td>0.0643805</td></tr><tr><th>3</th><td>157.789</td><td>7.37688</td><td>-71.0557</td><td>-79.393</td><td>0.130356</td></tr><tr><th>4</th><td>155.377</td><td>5.44724</td><td>-71.9119</td><td>-80.3784</td><td>0.0486612</td></tr><tr><th>5</th><td>157.789</td><td>8.26131</td><td>-70.7446</td><td>-79.082</td><td>0.177916</td></tr><tr><th>6</th><td>153.266</td><td>9.62814</td><td>-69.9556</td><td>-78.547</td><td>0.303781</td></tr><tr><th>7</th><td>155.98</td><td>9.30653</td><td>-69.9076</td><td>-78.3404</td><td>0.373467</td></tr><tr><th>8</th><td>151.307</td><td>8.0201</td><td>-70.3122</td><td>-79.0296</td><td>0.187482</td></tr><tr><th>9</th><td>155.377</td><td>7.29648</td><td>-69.0679</td><td>-77.5343</td><td>0.836249</td></tr><tr><th>10</th><td>156.131</td><td>9.78894</td><td>-70.3082</td><td>-78.7328</td><td>0.252267</td></tr><tr><th>11</th><td>152.814</td><td>8.74372</td><td>-69.5152</td><td>-78.1349</td><td>0.458705</td></tr><tr><th>12</th><td>156.432</td><td>6.81407</td><td>-70.024</td><td>-78.4322</td><td>0.34073</td></tr><tr><th>13</th><td>154.925</td><td>8.90452</td><td>-69.3616</td><td>-77.8539</td><td>0.607518</td></tr><tr><th>14</th><td>155.528</td><td>6.33166</td><td>-69.905</td><td>-78.3629</td><td>0.365167</td></tr><tr><th>15</th><td>154.774</td><td>6.49246</td><td>-69.3945</td><td>-77.8955</td><td>0.582731</td></tr><tr><th>16</th><td>160.201</td><td>10.3518</td><td>-73.6808</td><td>-81.9035</td><td>0.010588</td></tr><tr><th>17</th><td>152.211</td><td>11.397</td><td>-71.7868</td><td>-80.4448</td><td>0.0455332</td></tr><tr><th>18</th><td>151.457</td><td>8.66332</td><td>-70.2652</td><td>-78.9725</td><td>0.198485</td></tr><tr><th>19</th><td>154.774</td><td>9.78894</td><td>-69.9877</td><td>-78.4887</td><td>0.322008</td></tr><tr><th>20</th><td>155.98</td><td>8.34171</td><td>-69.4107</td><td>-77.8435</td><td>0.613877</td></tr><tr><th>21</th><td>156.583</td><td>9.38693</td><td>-70.2302</td><td>-78.6302</td><td>0.279512</td></tr><tr><th>22</th><td>154.02</td><td>8.1809</td><td>-68.9649</td><td>-77.5104</td><td>0.856496</td></tr><tr><th>23</th><td>153.417</td><td>7.45729</td><td>-68.983</td><td>-77.5651</td><td>0.810916</td></tr><tr><th>24</th><td>155.678</td><td>6.41206</td><td>-69.8872</td><td>-78.3367</td><td>0.374869</td></tr><tr><th>&vellip;</th><td>&vellip;</td><td>&vellip;</td><td>&vellip;</td><td>&vellip;</td><td>&vellip;</td></tr></tbody></table>"
      ]
     },
     "metadata": {},
     "execution_count": 7
    }
   ],
   "cell_type": "code",
   "source": [
    "samples = post[sample(1:size(post, 1), Weights(post[:prob]), 10000, replace=true), :]"
   ],
   "metadata": {},
   "execution_count": 7
  },
  {
   "outputs": [],
   "cell_type": "markdown",
   "source": [
    "### Snippet 4.23"
   ],
   "metadata": {}
  },
  {
   "outputs": [],
   "cell_type": "markdown",
   "source": [
    "Density of sigma"
   ],
   "metadata": {}
  },
  {
   "outputs": [
    {
     "output_type": "execute_result",
     "data": {
      "text/plain": "Plot{Plots.GRBackend() n=1}",
      "image/png": "[encoded data removed]",
      "text/html": [
       "<?xml version=\"1.0\" encoding=\"utf-8\"?>\n",
       "<svg xmlns=\"http://www.w3.org/2000/svg\" xmlns:xlink=\"http://www.w3.org/1999/xlink\" width=\"500\" height=\"500\" viewBox=\"0 0 2000 2000\">\n",
       "<defs>\n",
       "  <clipPath id=\"clip3000\">\n",
       "    <rect x=\"0\" y=\"0\" width=\"2000\" height=\"2000\"/>\n",
       "  </clipPath>\n",
       "</defs>\n",
       "<polygon clip-path=\"url(#clip3000)\" points=\"\n",
       "0,2000 2000,2000 2000,0 0,0 \n",
       "  \" fill=\"#ffffff\" fill-rule=\"evenodd\" fill-opacity=\"1\"/>\n",
       "<defs>\n",
       "  <clipPath id=\"clip3001\">\n",
       "    <rect x=\"400\" y=\"200\" width=\"1401\" height=\"1401\"/>\n",
       "  </clipPath>\n",
       "</defs>\n",
       "<polygon clip-path=\"url(#clip3000)\" points=\"\n",
       "161.394,1886.71 1921.26,1886.71 1921.26,47.2441 161.394,47.2441 \n",
       "  \" fill=\"#ffffff\" fill-rule=\"evenodd\" fill-opacity=\"1\"/>\n",
       "<defs>\n",
       "  <clipPath id=\"clip3002\">\n",
       "    <rect x=\"161\" y=\"47\" width=\"1761\" height=\"1840\"/>\n",
       "  </clipPath>\n",
       "</defs>\n",
       "<polyline clip-path=\"url(#clip3002)\" style=\"stroke:#000000; stroke-width:2; stroke-opacity:0.1; fill:none\" points=\"\n",
       "  440.829,1886.71 440.829,47.2441 \n",
       "  \"/>\n",
       "<polyline clip-path=\"url(#clip3002)\" style=\"stroke:#000000; stroke-width:2; stroke-opacity:0.1; fill:none\" points=\"\n",
       "  774.625,1886.71 774.625,47.2441 \n",
       "  \"/>\n",
       "<polyline clip-path=\"url(#clip3002)\" style=\"stroke:#000000; stroke-width:2; stroke-opacity:0.1; fill:none\" points=\"\n",
       "  1108.42,1886.71 1108.42,47.2441 \n",
       "  \"/>\n",
       "<polyline clip-path=\"url(#clip3002)\" style=\"stroke:#000000; stroke-width:2; stroke-opacity:0.1; fill:none\" points=\"\n",
       "  1442.22,1886.71 1442.22,47.2441 \n",
       "  \"/>\n",
       "<polyline clip-path=\"url(#clip3002)\" style=\"stroke:#000000; stroke-width:2; stroke-opacity:0.1; fill:none\" points=\"\n",
       "  1776.01,1886.71 1776.01,47.2441 \n",
       "  \"/>\n",
       "<polyline clip-path=\"url(#clip3002)\" style=\"stroke:#000000; stroke-width:2; stroke-opacity:0.1; fill:none\" points=\"\n",
       "  161.394,1834.65 1921.26,1834.65 \n",
       "  \"/>\n",
       "<polyline clip-path=\"url(#clip3002)\" style=\"stroke:#000000; stroke-width:2; stroke-opacity:0.1; fill:none\" points=\"\n",
       "  161.394,1243.45 1921.26,1243.45 \n",
       "  \"/>\n",
       "<polyline clip-path=\"url(#clip3002)\" style=\"stroke:#000000; stroke-width:2; stroke-opacity:0.1; fill:none\" points=\"\n",
       "  161.394,652.245 1921.26,652.245 \n",
       "  \"/>\n",
       "<polyline clip-path=\"url(#clip3002)\" style=\"stroke:#000000; stroke-width:2; stroke-opacity:0.1; fill:none\" points=\"\n",
       "  161.394,61.0434 1921.26,61.0434 \n",
       "  \"/>\n",
       "<polyline clip-path=\"url(#clip3000)\" style=\"stroke:#000000; stroke-width:4; stroke-opacity:1; fill:none\" points=\"\n",
       "  161.394,1886.71 1921.26,1886.71 \n",
       "  \"/>\n",
       "<polyline clip-path=\"url(#clip3000)\" style=\"stroke:#000000; stroke-width:4; stroke-opacity:1; fill:none\" points=\"\n",
       "  161.394,1886.71 161.394,47.2441 \n",
       "  \"/>\n",
       "<polyline clip-path=\"url(#clip3000)\" style=\"stroke:#000000; stroke-width:4; stroke-opacity:1; fill:none\" points=\"\n",
       "  440.829,1886.71 440.829,1859.12 \n",
       "  \"/>\n",
       "<polyline clip-path=\"url(#clip3000)\" style=\"stroke:#000000; stroke-width:4; stroke-opacity:1; fill:none\" points=\"\n",
       "  774.625,1886.71 774.625,1859.12 \n",
       "  \"/>\n",
       "<polyline clip-path=\"url(#clip3000)\" style=\"stroke:#000000; stroke-width:4; stroke-opacity:1; fill:none\" points=\"\n",
       "  1108.42,1886.71 1108.42,1859.12 \n",
       "  \"/>\n",
       "<polyline clip-path=\"url(#clip3000)\" style=\"stroke:#000000; stroke-width:4; stroke-opacity:1; fill:none\" points=\"\n",
       "  1442.22,1886.71 1442.22,1859.12 \n",
       "  \"/>\n",
       "<polyline clip-path=\"url(#clip3000)\" style=\"stroke:#000000; stroke-width:4; stroke-opacity:1; fill:none\" points=\"\n",
       "  1776.01,1886.71 1776.01,1859.12 \n",
       "  \"/>\n",
       "<polyline clip-path=\"url(#clip3000)\" style=\"stroke:#000000; stroke-width:4; stroke-opacity:1; fill:none\" points=\"\n",
       "  161.394,1834.65 187.792,1834.65 \n",
       "  \"/>\n",
       "<polyline clip-path=\"url(#clip3000)\" style=\"stroke:#000000; stroke-width:4; stroke-opacity:1; fill:none\" points=\"\n",
       "  161.394,1243.45 187.792,1243.45 \n",
       "  \"/>\n",
       "<polyline clip-path=\"url(#clip3000)\" style=\"stroke:#000000; stroke-width:4; stroke-opacity:1; fill:none\" points=\"\n",
       "  161.394,652.245 187.792,652.245 \n",
       "  \"/>\n",
       "<polyline clip-path=\"url(#clip3000)\" style=\"stroke:#000000; stroke-width:4; stroke-opacity:1; fill:none\" points=\"\n",
       "  161.394,61.0434 187.792,61.0434 \n",
       "  \"/>\n",
       "<g clip-path=\"url(#clip3000)\">\n",
       "<text style=\"fill:#000000; fill-opacity:1; font-family:Arial,Helvetica Neue,Helvetica,sans-serif; font-size:48px; text-anchor:middle;\" transform=\"rotate(0, 440.829, 1938.71)\" x=\"440.829\" y=\"1938.71\">6</text>\n",
       "</g>\n",
       "<g clip-path=\"url(#clip3000)\">\n",
       "<text style=\"fill:#000000; fill-opacity:1; font-family:Arial,Helvetica Neue,Helvetica,sans-serif; font-size:48px; text-anchor:middle;\" transform=\"rotate(0, 774.625, 1938.71)\" x=\"774.625\" y=\"1938.71\">9</text>\n",
       "</g>\n",
       "<g clip-path=\"url(#clip3000)\">\n",
       "<text style=\"fill:#000000; fill-opacity:1; font-family:Arial,Helvetica Neue,Helvetica,sans-serif; font-size:48px; text-anchor:middle;\" transform=\"rotate(0, 1108.42, 1938.71)\" x=\"1108.42\" y=\"1938.71\">12</text>\n",
       "</g>\n",
       "<g clip-path=\"url(#clip3000)\">\n",
       "<text style=\"fill:#000000; fill-opacity:1; font-family:Arial,Helvetica Neue,Helvetica,sans-serif; font-size:48px; text-anchor:middle;\" transform=\"rotate(0, 1442.22, 1938.71)\" x=\"1442.22\" y=\"1938.71\">15</text>\n",
       "</g>\n",
       "<g clip-path=\"url(#clip3000)\">\n",
       "<text style=\"fill:#000000; fill-opacity:1; font-family:Arial,Helvetica Neue,Helvetica,sans-serif; font-size:48px; text-anchor:middle;\" transform=\"rotate(0, 1776.01, 1938.71)\" x=\"1776.01\" y=\"1938.71\">18</text>\n",
       "</g>\n",
       "<g clip-path=\"url(#clip3000)\">\n",
       "<text style=\"fill:#000000; fill-opacity:1; font-family:Arial,Helvetica Neue,Helvetica,sans-serif; font-size:48px; text-anchor:end;\" transform=\"rotate(0, 141.394, 1852.15)\" x=\"141.394\" y=\"1852.15\">0.0</text>\n",
       "</g>\n",
       "<g clip-path=\"url(#clip3000)\">\n",
       "<text style=\"fill:#000000; fill-opacity:1; font-family:Arial,Helvetica Neue,Helvetica,sans-serif; font-size:48px; text-anchor:end;\" transform=\"rotate(0, 141.394, 1260.95)\" x=\"141.394\" y=\"1260.95\">0.1</text>\n",
       "</g>\n",
       "<g clip-path=\"url(#clip3000)\">\n",
       "<text style=\"fill:#000000; fill-opacity:1; font-family:Arial,Helvetica Neue,Helvetica,sans-serif; font-size:48px; text-anchor:end;\" transform=\"rotate(0, 141.394, 669.745)\" x=\"141.394\" y=\"669.745\">0.2</text>\n",
       "</g>\n",
       "<g clip-path=\"url(#clip3000)\">\n",
       "<text style=\"fill:#000000; fill-opacity:1; font-family:Arial,Helvetica Neue,Helvetica,sans-serif; font-size:48px; text-anchor:end;\" transform=\"rotate(0, 141.394, 78.5434)\" x=\"141.394\" y=\"78.5434\">0.3</text>\n",
       "</g>\n",
       "<polyline clip-path=\"url(#clip3002)\" style=\"stroke:#009af9; stroke-width:4; stroke-opacity:1; fill:none\" points=\"\n",
       "  211.202,1834.65 219.545,1834.65 227.887,1834.64 236.23,1834.62 244.573,1834.57 252.916,1834.45 261.259,1834.2 269.602,1833.73 277.945,1832.94 286.288,1831.71 \n",
       "  294.631,1829.94 302.974,1827.52 311.317,1824.29 319.66,1820 328.003,1814.23 336.346,1806.5 344.689,1796.51 353.032,1784.29 361.375,1770.28 369.718,1754.85 \n",
       "  378.061,1737.86 386.404,1718.27 394.747,1694.36 403.09,1664.35 411.433,1627.1 419.776,1582.35 428.119,1530.44 436.462,1471.77 444.805,1406.55 453.148,1335.13 \n",
       "  461.491,1258.45 469.834,1178.24 478.177,1096.83 486.52,1016.6 494.862,939.082 503.205,864.122 511.548,789.775 519.891,713.478 528.234,633.847 536.577,551.796 \n",
       "  544.92,470.136 553.263,392.196 561.606,320.78 569.949,258.172 578.292,206.544 586.635,167.75 594.978,142.368 603.321,128.922 611.664,124.087 620.007,123.704 \n",
       "  628.35,123.845 636.693,121.625 645.036,115.921 653.379,107.931 661.722,101.003 670.065,99.3044 678.408,105.911 686.751,121.71 695.094,145.953 703.437,177.729 \n",
       "  711.78,216.813 720.123,263.149 728.466,315.755 736.809,372.333 745.152,430.028 753.495,486.674 761.837,541.433 770.18,594.45 778.523,646.041 786.866,696.195 \n",
       "  795.209,744.594 803.552,790.803 811.895,834.383 820.238,875.048 828.581,913.037 836.924,949.47 845.267,986.207 853.61,1025.04 861.953,1066.66 870.296,1110.24 \n",
       "  878.639,1153.89 886.982,1195.74 895.325,1234.84 903.668,1271.29 912.011,1305.87 920.354,1339.42 928.697,1372.39 937.04,1404.56 945.383,1435.14 953.726,1463.1 \n",
       "  962.069,1487.65 970.412,1508.62 978.755,1526.53 987.098,1542.46 995.441,1557.65 1003.78,1573 1012.13,1588.79 1020.47,1604.71 1028.81,1620.12 1037.16,1634.46 \n",
       "  1045.5,1647.43 1053.84,1659.11 1062.18,1669.78 1070.53,1679.74 1078.87,1689.13 1087.21,1697.94 1095.56,1706.06 1103.9,1713.47 1112.24,1720.43 1120.59,1727.41 \n",
       "  1128.93,1734.79 1137.27,1742.65 1145.61,1750.77 1153.96,1758.73 1162.3,1766.11 1170.64,1772.53 1178.99,1777.75 1187.33,1781.7 1195.67,1784.53 1204.01,1786.51 \n",
       "  1212.36,1787.92 1220.7,1789.08 1229.04,1790.34 1237.39,1792.1 1245.73,1794.66 1254.07,1797.99 1262.42,1801.75 1270.76,1805.45 1279.1,1808.73 1287.44,1811.48 \n",
       "  1295.79,1813.83 1304.13,1816 1312.47,1818.19 1320.82,1820.43 1329.16,1822.57 1337.5,1824.37 1345.85,1825.6 1354.19,1826.16 1362.53,1826.15 1370.87,1825.81 \n",
       "  1379.22,1825.36 1387.56,1824.98 1395.9,1824.75 1404.25,1824.72 1412.59,1824.82 1420.93,1824.96 1429.27,1825.04 1437.62,1825.08 1445.96,1825.24 1454.3,1825.72 \n",
       "  1462.65,1826.6 1470.99,1827.8 1479.33,1829.08 1487.68,1830.19 1496.02,1830.98 1504.36,1831.43 1512.7,1831.64 1521.05,1831.73 1529.39,1831.82 1537.73,1831.96 \n",
       "  1546.08,1832.18 1554.42,1832.48 1562.76,1832.85 1571.11,1833.26 1579.45,1833.65 1587.79,1833.97 1596.13,1834.15 1604.48,1834.16 1612.82,1834.03 1621.16,1833.81 \n",
       "  1629.51,1833.58 1637.85,1833.43 1646.19,1833.39 1654.54,1833.44 1662.88,1833.5 1671.22,1833.5 1679.56,1833.45 1687.91,1833.39 1696.25,1833.42 1704.59,1833.56 \n",
       "  1712.94,1833.8 1721.28,1834.06 1729.62,1834.25 1737.96,1834.34 1746.31,1834.29 1754.65,1834.12 1762.99,1833.88 1771.34,1833.64 1779.68,1833.49 1788.02,1833.49 \n",
       "  1796.37,1833.64 1804.71,1833.89 1813.05,1834.15 1821.39,1834.36 1829.74,1834.51 1838.08,1834.59 1846.42,1834.63 1854.77,1834.64 1863.11,1834.65 1871.45,1834.65 \n",
       "  \n",
       "  \"/>\n",
       "<polygon clip-path=\"url(#clip3000)\" points=\"\n",
       "1610.43,227.724 1861.26,227.724 1861.26,106.764 1610.43,106.764 \n",
       "  \" fill=\"#ffffff\" fill-rule=\"evenodd\" fill-opacity=\"1\"/>\n",
       "<polyline clip-path=\"url(#clip3000)\" style=\"stroke:#000000; stroke-width:4; stroke-opacity:1; fill:none\" points=\"\n",
       "  1610.43,227.724 1861.26,227.724 1861.26,106.764 1610.43,106.764 1610.43,227.724 \n",
       "  \"/>\n",
       "<polyline clip-path=\"url(#clip3000)\" style=\"stroke:#009af9; stroke-width:4; stroke-opacity:1; fill:none\" points=\"\n",
       "  1630.43,167.244 1750.43,167.244 \n",
       "  \"/>\n",
       "<g clip-path=\"url(#clip3000)\">\n",
       "<text style=\"fill:#000000; fill-opacity:1; font-family:Arial,Helvetica Neue,Helvetica,sans-serif; font-size:48px; text-anchor:start;\" transform=\"rotate(0, 1770.43, 184.744)\" x=\"1770.43\" y=\"184.744\">y1</text>\n",
       "</g>\n",
       "</svg>\n"
      ],
      "image/svg+xml": [
       "<?xml version=\"1.0\" encoding=\"utf-8\"?>\n",
       "<svg xmlns=\"http://www.w3.org/2000/svg\" xmlns:xlink=\"http://www.w3.org/1999/xlink\" width=\"500\" height=\"500\" viewBox=\"0 0 2000 2000\">\n",
       "<defs>\n",
       "  <clipPath id=\"clip2900\">\n",
       "    <rect x=\"0\" y=\"0\" width=\"2000\" height=\"2000\"/>\n",
       "  </clipPath>\n",
       "</defs>\n",
       "<polygon clip-path=\"url(#clip2900)\" points=\"\n",
       "0,2000 2000,2000 2000,0 0,0 \n",
       "  \" fill=\"#ffffff\" fill-rule=\"evenodd\" fill-opacity=\"1\"/>\n",
       "<defs>\n",
       "  <clipPath id=\"clip2901\">\n",
       "    <rect x=\"400\" y=\"200\" width=\"1401\" height=\"1401\"/>\n",
       "  </clipPath>\n",
       "</defs>\n",
       "<polygon clip-path=\"url(#clip2900)\" points=\"\n",
       "161.394,1886.71 1921.26,1886.71 1921.26,47.2441 161.394,47.2441 \n",
       "  \" fill=\"#ffffff\" fill-rule=\"evenodd\" fill-opacity=\"1\"/>\n",
       "<defs>\n",
       "  <clipPath id=\"clip2902\">\n",
       "    <rect x=\"161\" y=\"47\" width=\"1761\" height=\"1840\"/>\n",
       "  </clipPath>\n",
       "</defs>\n",
       "<polyline clip-path=\"url(#clip2902)\" style=\"stroke:#000000; stroke-width:2; stroke-opacity:0.1; fill:none\" points=\"\n",
       "  440.829,1886.71 440.829,47.2441 \n",
       "  \"/>\n",
       "<polyline clip-path=\"url(#clip2902)\" style=\"stroke:#000000; stroke-width:2; stroke-opacity:0.1; fill:none\" points=\"\n",
       "  774.625,1886.71 774.625,47.2441 \n",
       "  \"/>\n",
       "<polyline clip-path=\"url(#clip2902)\" style=\"stroke:#000000; stroke-width:2; stroke-opacity:0.1; fill:none\" points=\"\n",
       "  1108.42,1886.71 1108.42,47.2441 \n",
       "  \"/>\n",
       "<polyline clip-path=\"url(#clip2902)\" style=\"stroke:#000000; stroke-width:2; stroke-opacity:0.1; fill:none\" points=\"\n",
       "  1442.22,1886.71 1442.22,47.2441 \n",
       "  \"/>\n",
       "<polyline clip-path=\"url(#clip2902)\" style=\"stroke:#000000; stroke-width:2; stroke-opacity:0.1; fill:none\" points=\"\n",
       "  1776.01,1886.71 1776.01,47.2441 \n",
       "  \"/>\n",
       "<polyline clip-path=\"url(#clip2902)\" style=\"stroke:#000000; stroke-width:2; stroke-opacity:0.1; fill:none\" points=\"\n",
       "  161.394,1834.65 1921.26,1834.65 \n",
       "  \"/>\n",
       "<polyline clip-path=\"url(#clip2902)\" style=\"stroke:#000000; stroke-width:2; stroke-opacity:0.1; fill:none\" points=\"\n",
       "  161.394,1243.45 1921.26,1243.45 \n",
       "  \"/>\n",
       "<polyline clip-path=\"url(#clip2902)\" style=\"stroke:#000000; stroke-width:2; stroke-opacity:0.1; fill:none\" points=\"\n",
       "  161.394,652.245 1921.26,652.245 \n",
       "  \"/>\n",
       "<polyline clip-path=\"url(#clip2902)\" style=\"stroke:#000000; stroke-width:2; stroke-opacity:0.1; fill:none\" points=\"\n",
       "  161.394,61.0434 1921.26,61.0434 \n",
       "  \"/>\n",
       "<polyline clip-path=\"url(#clip2900)\" style=\"stroke:#000000; stroke-width:4; stroke-opacity:1; fill:none\" points=\"\n",
       "  161.394,1886.71 1921.26,1886.71 \n",
       "  \"/>\n",
       "<polyline clip-path=\"url(#clip2900)\" style=\"stroke:#000000; stroke-width:4; stroke-opacity:1; fill:none\" points=\"\n",
       "  161.394,1886.71 161.394,47.2441 \n",
       "  \"/>\n",
       "<polyline clip-path=\"url(#clip2900)\" style=\"stroke:#000000; stroke-width:4; stroke-opacity:1; fill:none\" points=\"\n",
       "  440.829,1886.71 440.829,1859.12 \n",
       "  \"/>\n",
       "<polyline clip-path=\"url(#clip2900)\" style=\"stroke:#000000; stroke-width:4; stroke-opacity:1; fill:none\" points=\"\n",
       "  774.625,1886.71 774.625,1859.12 \n",
       "  \"/>\n",
       "<polyline clip-path=\"url(#clip2900)\" style=\"stroke:#000000; stroke-width:4; stroke-opacity:1; fill:none\" points=\"\n",
       "  1108.42,1886.71 1108.42,1859.12 \n",
       "  \"/>\n",
       "<polyline clip-path=\"url(#clip2900)\" style=\"stroke:#000000; stroke-width:4; stroke-opacity:1; fill:none\" points=\"\n",
       "  1442.22,1886.71 1442.22,1859.12 \n",
       "  \"/>\n",
       "<polyline clip-path=\"url(#clip2900)\" style=\"stroke:#000000; stroke-width:4; stroke-opacity:1; fill:none\" points=\"\n",
       "  1776.01,1886.71 1776.01,1859.12 \n",
       "  \"/>\n",
       "<polyline clip-path=\"url(#clip2900)\" style=\"stroke:#000000; stroke-width:4; stroke-opacity:1; fill:none\" points=\"\n",
       "  161.394,1834.65 187.792,1834.65 \n",
       "  \"/>\n",
       "<polyline clip-path=\"url(#clip2900)\" style=\"stroke:#000000; stroke-width:4; stroke-opacity:1; fill:none\" points=\"\n",
       "  161.394,1243.45 187.792,1243.45 \n",
       "  \"/>\n",
       "<polyline clip-path=\"url(#clip2900)\" style=\"stroke:#000000; stroke-width:4; stroke-opacity:1; fill:none\" points=\"\n",
       "  161.394,652.245 187.792,652.245 \n",
       "  \"/>\n",
       "<polyline clip-path=\"url(#clip2900)\" style=\"stroke:#000000; stroke-width:4; stroke-opacity:1; fill:none\" points=\"\n",
       "  161.394,61.0434 187.792,61.0434 \n",
       "  \"/>\n",
       "<g clip-path=\"url(#clip2900)\">\n",
       "<text style=\"fill:#000000; fill-opacity:1; font-family:Arial,Helvetica Neue,Helvetica,sans-serif; font-size:48px; text-anchor:middle;\" transform=\"rotate(0, 440.829, 1938.71)\" x=\"440.829\" y=\"1938.71\">6</text>\n",
       "</g>\n",
       "<g clip-path=\"url(#clip2900)\">\n",
       "<text style=\"fill:#000000; fill-opacity:1; font-family:Arial,Helvetica Neue,Helvetica,sans-serif; font-size:48px; text-anchor:middle;\" transform=\"rotate(0, 774.625, 1938.71)\" x=\"774.625\" y=\"1938.71\">9</text>\n",
       "</g>\n",
       "<g clip-path=\"url(#clip2900)\">\n",
       "<text style=\"fill:#000000; fill-opacity:1; font-family:Arial,Helvetica Neue,Helvetica,sans-serif; font-size:48px; text-anchor:middle;\" transform=\"rotate(0, 1108.42, 1938.71)\" x=\"1108.42\" y=\"1938.71\">12</text>\n",
       "</g>\n",
       "<g clip-path=\"url(#clip2900)\">\n",
       "<text style=\"fill:#000000; fill-opacity:1; font-family:Arial,Helvetica Neue,Helvetica,sans-serif; font-size:48px; text-anchor:middle;\" transform=\"rotate(0, 1442.22, 1938.71)\" x=\"1442.22\" y=\"1938.71\">15</text>\n",
       "</g>\n",
       "<g clip-path=\"url(#clip2900)\">\n",
       "<text style=\"fill:#000000; fill-opacity:1; font-family:Arial,Helvetica Neue,Helvetica,sans-serif; font-size:48px; text-anchor:middle;\" transform=\"rotate(0, 1776.01, 1938.71)\" x=\"1776.01\" y=\"1938.71\">18</text>\n",
       "</g>\n",
       "<g clip-path=\"url(#clip2900)\">\n",
       "<text style=\"fill:#000000; fill-opacity:1; font-family:Arial,Helvetica Neue,Helvetica,sans-serif; font-size:48px; text-anchor:end;\" transform=\"rotate(0, 141.394, 1852.15)\" x=\"141.394\" y=\"1852.15\">0.0</text>\n",
       "</g>\n",
       "<g clip-path=\"url(#clip2900)\">\n",
       "<text style=\"fill:#000000; fill-opacity:1; font-family:Arial,Helvetica Neue,Helvetica,sans-serif; font-size:48px; text-anchor:end;\" transform=\"rotate(0, 141.394, 1260.95)\" x=\"141.394\" y=\"1260.95\">0.1</text>\n",
       "</g>\n",
       "<g clip-path=\"url(#clip2900)\">\n",
       "<text style=\"fill:#000000; fill-opacity:1; font-family:Arial,Helvetica Neue,Helvetica,sans-serif; font-size:48px; text-anchor:end;\" transform=\"rotate(0, 141.394, 669.745)\" x=\"141.394\" y=\"669.745\">0.2</text>\n",
       "</g>\n",
       "<g clip-path=\"url(#clip2900)\">\n",
       "<text style=\"fill:#000000; fill-opacity:1; font-family:Arial,Helvetica Neue,Helvetica,sans-serif; font-size:48px; text-anchor:end;\" transform=\"rotate(0, 141.394, 78.5434)\" x=\"141.394\" y=\"78.5434\">0.3</text>\n",
       "</g>\n",
       "<polyline clip-path=\"url(#clip2902)\" style=\"stroke:#009af9; stroke-width:4; stroke-opacity:1; fill:none\" points=\"\n",
       "  211.202,1834.65 219.545,1834.65 227.887,1834.64 236.23,1834.62 244.573,1834.57 252.916,1834.45 261.259,1834.2 269.602,1833.73 277.945,1832.94 286.288,1831.71 \n",
       "  294.631,1829.94 302.974,1827.52 311.317,1824.29 319.66,1820 328.003,1814.23 336.346,1806.5 344.689,1796.51 353.032,1784.29 361.375,1770.28 369.718,1754.85 \n",
       "  378.061,1737.86 386.404,1718.27 394.747,1694.36 403.09,1664.35 411.433,1627.1 419.776,1582.35 428.119,1530.44 436.462,1471.77 444.805,1406.55 453.148,1335.13 \n",
       "  461.491,1258.45 469.834,1178.24 478.177,1096.83 486.52,1016.6 494.862,939.082 503.205,864.122 511.548,789.775 519.891,713.478 528.234,633.847 536.577,551.796 \n",
       "  544.92,470.136 553.263,392.196 561.606,320.78 569.949,258.172 578.292,206.544 586.635,167.75 594.978,142.368 603.321,128.922 611.664,124.087 620.007,123.704 \n",
       "  628.35,123.845 636.693,121.625 645.036,115.921 653.379,107.931 661.722,101.003 670.065,99.3044 678.408,105.911 686.751,121.71 695.094,145.953 703.437,177.729 \n",
       "  711.78,216.813 720.123,263.149 728.466,315.755 736.809,372.333 745.152,430.028 753.495,486.674 761.837,541.433 770.18,594.45 778.523,646.041 786.866,696.195 \n",
       "  795.209,744.594 803.552,790.803 811.895,834.383 820.238,875.048 828.581,913.037 836.924,949.47 845.267,986.207 853.61,1025.04 861.953,1066.66 870.296,1110.24 \n",
       "  878.639,1153.89 886.982,1195.74 895.325,1234.84 903.668,1271.29 912.011,1305.87 920.354,1339.42 928.697,1372.39 937.04,1404.56 945.383,1435.14 953.726,1463.1 \n",
       "  962.069,1487.65 970.412,1508.62 978.755,1526.53 987.098,1542.46 995.441,1557.65 1003.78,1573 1012.13,1588.79 1020.47,1604.71 1028.81,1620.12 1037.16,1634.46 \n",
       "  1045.5,1647.43 1053.84,1659.11 1062.18,1669.78 1070.53,1679.74 1078.87,1689.13 1087.21,1697.94 1095.56,1706.06 1103.9,1713.47 1112.24,1720.43 1120.59,1727.41 \n",
       "  1128.93,1734.79 1137.27,1742.65 1145.61,1750.77 1153.96,1758.73 1162.3,1766.11 1170.64,1772.53 1178.99,1777.75 1187.33,1781.7 1195.67,1784.53 1204.01,1786.51 \n",
       "  1212.36,1787.92 1220.7,1789.08 1229.04,1790.34 1237.39,1792.1 1245.73,1794.66 1254.07,1797.99 1262.42,1801.75 1270.76,1805.45 1279.1,1808.73 1287.44,1811.48 \n",
       "  1295.79,1813.83 1304.13,1816 1312.47,1818.19 1320.82,1820.43 1329.16,1822.57 1337.5,1824.37 1345.85,1825.6 1354.19,1826.16 1362.53,1826.15 1370.87,1825.81 \n",
       "  1379.22,1825.36 1387.56,1824.98 1395.9,1824.75 1404.25,1824.72 1412.59,1824.82 1420.93,1824.96 1429.27,1825.04 1437.62,1825.08 1445.96,1825.24 1454.3,1825.72 \n",
       "  1462.65,1826.6 1470.99,1827.8 1479.33,1829.08 1487.68,1830.19 1496.02,1830.98 1504.36,1831.43 1512.7,1831.64 1521.05,1831.73 1529.39,1831.82 1537.73,1831.96 \n",
       "  1546.08,1832.18 1554.42,1832.48 1562.76,1832.85 1571.11,1833.26 1579.45,1833.65 1587.79,1833.97 1596.13,1834.15 1604.48,1834.16 1612.82,1834.03 1621.16,1833.81 \n",
       "  1629.51,1833.58 1637.85,1833.43 1646.19,1833.39 1654.54,1833.44 1662.88,1833.5 1671.22,1833.5 1679.56,1833.45 1687.91,1833.39 1696.25,1833.42 1704.59,1833.56 \n",
       "  1712.94,1833.8 1721.28,1834.06 1729.62,1834.25 1737.96,1834.34 1746.31,1834.29 1754.65,1834.12 1762.99,1833.88 1771.34,1833.64 1779.68,1833.49 1788.02,1833.49 \n",
       "  1796.37,1833.64 1804.71,1833.89 1813.05,1834.15 1821.39,1834.36 1829.74,1834.51 1838.08,1834.59 1846.42,1834.63 1854.77,1834.64 1863.11,1834.65 1871.45,1834.65 \n",
       "  \n",
       "  \"/>\n",
       "<polygon clip-path=\"url(#clip2900)\" points=\"\n",
       "1610.43,227.724 1861.26,227.724 1861.26,106.764 1610.43,106.764 \n",
       "  \" fill=\"#ffffff\" fill-rule=\"evenodd\" fill-opacity=\"1\"/>\n",
       "<polyline clip-path=\"url(#clip2900)\" style=\"stroke:#000000; stroke-width:4; stroke-opacity:1; fill:none\" points=\"\n",
       "  1610.43,227.724 1861.26,227.724 1861.26,106.764 1610.43,106.764 1610.43,227.724 \n",
       "  \"/>\n",
       "<polyline clip-path=\"url(#clip2900)\" style=\"stroke:#009af9; stroke-width:4; stroke-opacity:1; fill:none\" points=\"\n",
       "  1630.43,167.244 1750.43,167.244 \n",
       "  \"/>\n",
       "<g clip-path=\"url(#clip2900)\">\n",
       "<text style=\"fill:#000000; fill-opacity:1; font-family:Arial,Helvetica Neue,Helvetica,sans-serif; font-size:48px; text-anchor:start;\" transform=\"rotate(0, 1770.43, 184.744)\" x=\"1770.43\" y=\"184.744\">y1</text>\n",
       "</g>\n",
       "</svg>\n"
      ]
     },
     "metadata": {},
     "execution_count": 8
    }
   ],
   "cell_type": "code",
   "source": [
    "density(samples[:sigma])"
   ],
   "metadata": {},
   "execution_count": 8
  },
  {
   "outputs": [],
   "cell_type": "markdown",
   "source": [
    "End of `clip-21-23.jl`"
   ],
   "metadata": {}
  },
  {
   "outputs": [],
   "cell_type": "markdown",
   "source": [
    "*This notebook was generated using [Literate.jl](https://github.com/fredrikekre/Literate.jl).*"
   ],
   "metadata": {}
  }
 ],
 "nbformat_minor": 3,
 "metadata": {
  "language_info": {
   "file_extension": ".jl",
   "mimetype": "application/julia",
   "name": "julia",
   "version": "1.2.0-DEV.404"
  },
  "kernelspec": {
   "name": "julia-1.2",
   "display_name": "Julia 1.2.0-DEV.404",
   "language": "julia"
  }
 },
 "nbformat": 4
}
