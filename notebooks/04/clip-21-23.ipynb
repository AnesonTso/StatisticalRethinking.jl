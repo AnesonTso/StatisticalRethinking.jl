{
 "cells": [
  {
   "outputs": [],
   "cell_type": "markdown",
   "source": [
    "Load Julia packages (libraries) needed  for the snippets in chapter 0"
   ],
   "metadata": {}
  },
  {
   "outputs": [],
   "cell_type": "code",
   "source": [
    "using StatisticalRethinking, CmdStan\n",
    "#gr(size=(600,600));"
   ],
   "metadata": {},
   "execution_count": 1
  },
  {
   "outputs": [],
   "cell_type": "markdown",
   "source": [
    "CmdStan uses a tmp directory to store the output of cmdstan"
   ],
   "metadata": {}
  },
  {
   "outputs": [],
   "cell_type": "code",
   "source": [
    "ProjDir = rel_path(\"..\", \"scripts\", \"04\")\n",
    "cd(ProjDir)"
   ],
   "metadata": {},
   "execution_count": 2
  },
  {
   "outputs": [],
   "cell_type": "markdown",
   "source": [
    "CmdStan uses a tmp directory to store the output of cmdstan"
   ],
   "metadata": {}
  },
  {
   "outputs": [],
   "cell_type": "code",
   "source": [
    "ProjDir = rel_path(\"..\", \"scripts\", \"04\")\n",
    "cd(ProjDir)"
   ],
   "metadata": {},
   "execution_count": 3
  },
  {
   "outputs": [
    {
     "output_type": "execute_result",
     "data": {
      "text/plain": "5×4 DataFrame\n│ Row │ height  │ weight  │ age     │ male  │\n│     │ \u001b[90mFloat64\u001b[39m │ \u001b[90mFloat64\u001b[39m │ \u001b[90mFloat64\u001b[39m │ \u001b[90mInt64\u001b[39m │\n├─────┼─────────┼─────────┼─────────┼───────┤\n│ 1   │ 151.765 │ 47.8256 │ 63.0    │ 1     │\n│ 2   │ 139.7   │ 36.4858 │ 63.0    │ 0     │\n│ 3   │ 136.525 │ 31.8648 │ 65.0    │ 0     │\n│ 4   │ 156.845 │ 53.0419 │ 41.0    │ 1     │\n│ 5   │ 145.415 │ 41.2769 │ 51.0    │ 0     │",
      "text/html": [
       "<table class=\"data-frame\"><thead><tr><th></th><th>height</th><th>weight</th><th>age</th><th>male</th></tr><tr><th></th><th>Float64</th><th>Float64</th><th>Float64</th><th>Int64</th></tr></thead><tbody><p>5 rows × 4 columns</p><tr><th>1</th><td>151.765</td><td>47.8256</td><td>63.0</td><td>1</td></tr><tr><th>2</th><td>139.7</td><td>36.4858</td><td>63.0</td><td>0</td></tr><tr><th>3</th><td>136.525</td><td>31.8648</td><td>65.0</td><td>0</td></tr><tr><th>4</th><td>156.845</td><td>53.0419</td><td>41.0</td><td>1</td></tr><tr><th>5</th><td>145.415</td><td>41.2769</td><td>51.0</td><td>0</td></tr></tbody></table>"
      ]
     },
     "metadata": {},
     "execution_count": 4
    }
   ],
   "cell_type": "code",
   "source": [
    "howell1 = CSV.read(rel_path(\"..\", \"data\", \"Howell1.csv\"), delim=';')\n",
    "df = convert(DataFrame, howell1);\n",
    "df2 = filter(row -> row[:age] >= 18, df);\n",
    "first(df2, 5)"
   ],
   "metadata": {},
   "execution_count": 4
  },
  {
   "outputs": [],
   "cell_type": "markdown",
   "source": [
    "### Snippet 4.21"
   ],
   "metadata": {}
  },
  {
   "outputs": [],
   "cell_type": "markdown",
   "source": [
    "Sample 20 random heights"
   ],
   "metadata": {}
  },
  {
   "outputs": [],
   "cell_type": "code",
   "source": [
    "n = size(df2, 1)\n",
    "selected_ind = sample(1:n, 20, replace=false);\n",
    "df3 = df2[selected_ind, :];"
   ],
   "metadata": {},
   "execution_count": 5
  },
  {
   "outputs": [],
   "cell_type": "markdown",
   "source": [
    "### Snippet 4.22"
   ],
   "metadata": {}
  },
  {
   "outputs": [],
   "cell_type": "markdown",
   "source": [
    "Generate approximate probabilities"
   ],
   "metadata": {}
  },
  {
   "outputs": [
    {
     "name": "stdout",
     "output_type": "stream",
     "text": [
      "┌ Warning: `getindex(df::DataFrame, col_ind::ColumnIndex)` is deprecated, use `df[!, col_ind]` instead.\n",
      "│   caller = top-level scope at string:15\n",
      "└ @ Core ./string:15\n"
     ]
    },
    {
     "output_type": "execute_result",
     "data": {
      "text/plain": "10×5 DataFrame\n│ Row │ mu      │ sigma   │ ll       │ prod     │ prob        │\n│     │ \u001b[90mFloat64\u001b[39m │ \u001b[90mFloat64\u001b[39m │ \u001b[90mFloat64\u001b[39m  │ \u001b[90mFloat64\u001b[39m  │ \u001b[90mFloat64\u001b[39m     │\n├─────┼─────────┼─────────┼──────────┼──────────┼─────────────┤\n│ 1   │ 140.0   │ 4.0     │ -171.71  │ -181.341 │ 1.74352e-45 │\n│ 2   │ 140.151 │ 4.0     │ -169.5   │ -179.118 │ 1.61158e-44 │\n│ 3   │ 140.302 │ 4.0     │ -167.319 │ -176.922 │ 1.44783e-43 │\n│ 4   │ 140.452 │ 4.0     │ -165.166 │ -174.755 │ 1.2642e-42  │\n│ 5   │ 140.603 │ 4.0     │ -163.042 │ -172.617 │ 1.07289e-41 │\n│ 6   │ 140.754 │ 4.0     │ -160.946 │ -170.507 │ 8.84978e-41 │\n│ 7   │ 140.905 │ 4.0     │ -158.878 │ -168.425 │ 7.09491e-40 │\n│ 8   │ 141.055 │ 4.0     │ -156.839 │ -166.372 │ 5.52839e-39 │\n│ 9   │ 141.206 │ 4.0     │ -154.828 │ -164.347 │ 4.18686e-38 │\n│ 10  │ 141.357 │ 4.0     │ -152.846 │ -162.351 │ 3.08188e-37 │",
      "text/html": [
       "<table class=\"data-frame\"><thead><tr><th></th><th>mu</th><th>sigma</th><th>ll</th><th>prod</th><th>prob</th></tr><tr><th></th><th>Float64</th><th>Float64</th><th>Float64</th><th>Float64</th><th>Float64</th></tr></thead><tbody><p>10 rows × 5 columns</p><tr><th>1</th><td>140.0</td><td>4.0</td><td>-171.71</td><td>-181.341</td><td>1.74352e-45</td></tr><tr><th>2</th><td>140.151</td><td>4.0</td><td>-169.5</td><td>-179.118</td><td>1.61158e-44</td></tr><tr><th>3</th><td>140.302</td><td>4.0</td><td>-167.319</td><td>-176.922</td><td>1.44783e-43</td></tr><tr><th>4</th><td>140.452</td><td>4.0</td><td>-165.166</td><td>-174.755</td><td>1.2642e-42</td></tr><tr><th>5</th><td>140.603</td><td>4.0</td><td>-163.042</td><td>-172.617</td><td>1.07289e-41</td></tr><tr><th>6</th><td>140.754</td><td>4.0</td><td>-160.946</td><td>-170.507</td><td>8.84978e-41</td></tr><tr><th>7</th><td>140.905</td><td>4.0</td><td>-158.878</td><td>-168.425</td><td>7.09491e-40</td></tr><tr><th>8</th><td>141.055</td><td>4.0</td><td>-156.839</td><td>-166.372</td><td>5.52839e-39</td></tr><tr><th>9</th><td>141.206</td><td>4.0</td><td>-154.828</td><td>-164.347</td><td>4.18686e-38</td></tr><tr><th>10</th><td>141.357</td><td>4.0</td><td>-152.846</td><td>-162.351</td><td>3.08188e-37</td></tr></tbody></table>"
      ]
     },
     "metadata": {},
     "execution_count": 6
    }
   ],
   "cell_type": "code",
   "source": [
    "struct Post\n",
    "  mu::Float64\n",
    "  sigma::Float64\n",
    "  ll:: Float64\n",
    "  prod::Float64\n",
    "  prob::Float64\n",
    "end\n",
    "\n",
    "mu_list = repeat(range(140, 170, length=200), 200);\n",
    "sigma_list = repeat(range(4, 20, length=200), inner=200);\n",
    "\n",
    "ll = zeros(40000);\n",
    "for i in 1:40000\n",
    "    d1 = Normal(mu_list[i], sigma_list[i])\n",
    "    ll[i] = sum(log.(pdf.(d1, df3[:height])))\n",
    "end\n",
    "\n",
    "d2 = Normal(178.0, 20.0)\n",
    "d3 = Uniform(0, 50)\n",
    "prod = ll + log.(pdf.(d2, mu_list)) + log.(pdf.(d3, sigma_list))\n",
    "prob = exp.(prod .- maximum(prod))\n",
    "post = DataFrame(mu=mu_list, sigma=sigma_list, ll=ll, prod=prod, prob=prob)\n",
    "first(post, 10)"
   ],
   "metadata": {},
   "execution_count": 6
  },
  {
   "outputs": [],
   "cell_type": "markdown",
   "source": [
    "Sample post"
   ],
   "metadata": {}
  },
  {
   "outputs": [
    {
     "name": "stdout",
     "output_type": "stream",
     "text": [
      "┌ Warning: `getindex(df::DataFrame, col_ind::ColumnIndex)` is deprecated, use `df[!, col_ind]` instead.\n",
      "│   caller = top-level scope at string:1\n",
      "└ @ Core string:1\n"
     ]
    },
    {
     "output_type": "execute_result",
     "data": {
      "text/plain": "10000×5 DataFrame\n│ Row   │ mu      │ sigma   │ ll       │ prod     │ prob      │\n│       │ \u001b[90mFloat64\u001b[39m │ \u001b[90mFloat64\u001b[39m │ \u001b[90mFloat64\u001b[39m  │ \u001b[90mFloat64\u001b[39m  │ \u001b[90mFloat64\u001b[39m   │\n├───────┼─────────┼─────────┼──────────┼──────────┼───────────┤\n│ 1     │ 151.156 │ 7.69849 │ -69.6808 │ -78.4083 │ 0.880498  │\n│ 2     │ 152.513 │ 8.74372 │ -69.8827 │ -78.5214 │ 0.786351  │\n│ 3     │ 150.251 │ 7.05528 │ -70.333  │ -79.1222 │ 0.431209  │\n│ 4     │ 155.226 │ 9.06533 │ -71.4039 │ -79.8789 │ 0.202324  │\n│ 5     │ 150.251 │ 7.77889 │ -70.0012 │ -78.7904 │ 0.600894  │\n│ 6     │ 152.513 │ 7.8593  │ -69.6843 │ -78.323  │ 0.958858  │\n│ 7     │ 151.608 │ 7.9397  │ -69.6105 │ -78.3079 │ 0.973486  │\n⋮\n│ 9993  │ 149.196 │ 6.25126 │ -72.561  │ -81.4248 │ 0.0431207 │\n│ 9994  │ 149.799 │ 6.09045 │ -72.2285 │ -81.0494 │ 0.0627655 │\n│ 9995  │ 154.925 │ 8.50251 │ -71.071  │ -79.5633 │ 0.277398  │\n│ 9996  │ 155.678 │ 8.1809  │ -71.8808 │ -80.3303 │ 0.128823  │\n│ 9997  │ 151.759 │ 8.98492 │ -69.9334 │ -78.6208 │ 0.711903  │\n│ 9998  │ 153.266 │ 8.42211 │ -69.9978 │ -78.5892 │ 0.734782  │\n│ 9999  │ 148.141 │ 8.98492 │ -71.5928 │ -80.5339 │ 0.105093  │\n│ 10000 │ 153.266 │ 6.57286 │ -70.8174 │ -79.4088 │ 0.323758  │",
      "text/html": [
       "<table class=\"data-frame\"><thead><tr><th></th><th>mu</th><th>sigma</th><th>ll</th><th>prod</th><th>prob</th></tr><tr><th></th><th>Float64</th><th>Float64</th><th>Float64</th><th>Float64</th><th>Float64</th></tr></thead><tbody><p>10,000 rows × 5 columns</p><tr><th>1</th><td>151.156</td><td>7.69849</td><td>-69.6808</td><td>-78.4083</td><td>0.880498</td></tr><tr><th>2</th><td>152.513</td><td>8.74372</td><td>-69.8827</td><td>-78.5214</td><td>0.786351</td></tr><tr><th>3</th><td>150.251</td><td>7.05528</td><td>-70.333</td><td>-79.1222</td><td>0.431209</td></tr><tr><th>4</th><td>155.226</td><td>9.06533</td><td>-71.4039</td><td>-79.8789</td><td>0.202324</td></tr><tr><th>5</th><td>150.251</td><td>7.77889</td><td>-70.0012</td><td>-78.7904</td><td>0.600894</td></tr><tr><th>6</th><td>152.513</td><td>7.8593</td><td>-69.6843</td><td>-78.323</td><td>0.958858</td></tr><tr><th>7</th><td>151.608</td><td>7.9397</td><td>-69.6105</td><td>-78.3079</td><td>0.973486</td></tr><tr><th>8</th><td>147.085</td><td>10.5126</td><td>-73.0257</td><td>-82.047</td><td>0.0231437</td></tr><tr><th>9</th><td>157.035</td><td>9.14573</td><td>-73.2969</td><td>-81.673</td><td>0.0336422</td></tr><tr><th>10</th><td>153.266</td><td>8.74372</td><td>-70.0973</td><td>-78.6887</td><td>0.665206</td></tr><tr><th>11</th><td>153.568</td><td>7.29648</td><td>-70.3032</td><td>-78.876</td><td>0.551563</td></tr><tr><th>12</th><td>151.005</td><td>11.7186</td><td>-72.1417</td><td>-80.8794</td><td>0.074397</td></tr><tr><th>13</th><td>153.869</td><td>7.61809</td><td>-70.3587</td><td>-78.9132</td><td>0.531414</td></tr><tr><th>14</th><td>152.814</td><td>8.90452</td><td>-70.0215</td><td>-78.6411</td><td>0.697628</td></tr><tr><th>15</th><td>151.156</td><td>12.5226</td><td>-72.8909</td><td>-81.6183</td><td>0.0355319</td></tr><tr><th>16</th><td>153.116</td><td>10.0302</td><td>-70.7959</td><td>-79.3966</td><td>0.327721</td></tr><tr><th>17</th><td>154.171</td><td>12.603</td><td>-73.2959</td><td>-81.8324</td><td>0.0286862</td></tr><tr><th>18</th><td>155.226</td><td>10.995</td><td>-72.4022</td><td>-80.8772</td><td>0.0745584</td></tr><tr><th>19</th><td>151.307</td><td>10.9146</td><td>-71.381</td><td>-80.0983</td><td>0.162461</td></tr><tr><th>20</th><td>152.965</td><td>8.58291</td><td>-69.9343</td><td>-78.5445</td><td>0.768398</td></tr><tr><th>21</th><td>152.362</td><td>11.0754</td><td>-71.5293</td><td>-80.1776</td><td>0.150079</td></tr><tr><th>22</th><td>152.362</td><td>7.61809</td><td>-69.6757</td><td>-78.3241</td><td>0.957869</td></tr><tr><th>23</th><td>149.648</td><td>6.97487</td><td>-70.8613</td><td>-79.6928</td><td>0.243709</td></tr><tr><th>24</th><td>148.442</td><td>10.191</td><td>-71.8364</td><td>-80.7552</td><td>0.0842317</td></tr><tr><th>&vellip;</th><td>&vellip;</td><td>&vellip;</td><td>&vellip;</td><td>&vellip;</td><td>&vellip;</td></tr></tbody></table>"
      ]
     },
     "metadata": {},
     "execution_count": 7
    }
   ],
   "cell_type": "code",
   "source": [
    "samples = post[sample(1:size(post, 1), Weights(post[:prob]), 10000, replace=true), :]"
   ],
   "metadata": {},
   "execution_count": 7
  },
  {
   "outputs": [],
   "cell_type": "markdown",
   "source": [
    "### Snippet 4.23"
   ],
   "metadata": {}
  },
  {
   "outputs": [],
   "cell_type": "markdown",
   "source": [
    "Density of sigma"
   ],
   "metadata": {}
  },
  {
   "outputs": [
    {
     "name": "stdout",
     "output_type": "stream",
     "text": [
      "┌ Warning: `getindex(df::DataFrame, col_ind::ColumnIndex)` is deprecated, use `df[!, col_ind]` instead.\n",
      "│   caller = top-level scope at string:1\n",
      "└ @ Core string:1\n"
     ]
    },
    {
     "output_type": "execute_result",
     "data": {
      "text/plain": "Plot{Plots.GRBackend() n=1}",
      "image/png": "[encoded data removed]",
      "text/html": [
       "<?xml version=\"1.0\" encoding=\"utf-8\"?>\n",
       "<svg xmlns=\"http://www.w3.org/2000/svg\" xmlns:xlink=\"http://www.w3.org/1999/xlink\" width=\"600\" height=\"400\" viewBox=\"0 0 2400 1600\">\n",
       "<defs>\n",
       "  <clipPath id=\"clip6600\">\n",
       "    <rect x=\"0\" y=\"0\" width=\"2400\" height=\"1600\"/>\n",
       "  </clipPath>\n",
       "</defs>\n",
       "<polygon clip-path=\"url(#clip6600)\" points=\"\n",
       "0,1600 2400,1600 2400,0 0,0 \n",
       "  \" fill=\"#ffffff\" fill-rule=\"evenodd\" fill-opacity=\"1\"/>\n",
       "<defs>\n",
       "  <clipPath id=\"clip6601\">\n",
       "    <rect x=\"480\" y=\"0\" width=\"1681\" height=\"1600\"/>\n",
       "  </clipPath>\n",
       "</defs>\n",
       "<polygon clip-path=\"url(#clip6600)\" points=\"\n",
       "180.66,1487.47 2352.76,1487.47 2352.76,47.2441 180.66,47.2441 \n",
       "  \" fill=\"#ffffff\" fill-rule=\"evenodd\" fill-opacity=\"1\"/>\n",
       "<defs>\n",
       "  <clipPath id=\"clip6602\">\n",
       "    <rect x=\"180\" y=\"47\" width=\"2173\" height=\"1441\"/>\n",
       "  </clipPath>\n",
       "</defs>\n",
       "<polyline clip-path=\"url(#clip6602)\" style=\"stroke:#000000; stroke-width:2; stroke-opacity:0.1; fill:none\" points=\"\n",
       "  467.848,1487.47 467.848,47.2441 \n",
       "  \"/>\n",
       "<polyline clip-path=\"url(#clip6602)\" style=\"stroke:#000000; stroke-width:2; stroke-opacity:0.1; fill:none\" points=\"\n",
       "  878.278,1487.47 878.278,47.2441 \n",
       "  \"/>\n",
       "<polyline clip-path=\"url(#clip6602)\" style=\"stroke:#000000; stroke-width:2; stroke-opacity:0.1; fill:none\" points=\"\n",
       "  1288.71,1487.47 1288.71,47.2441 \n",
       "  \"/>\n",
       "<polyline clip-path=\"url(#clip6602)\" style=\"stroke:#000000; stroke-width:2; stroke-opacity:0.1; fill:none\" points=\"\n",
       "  1699.14,1487.47 1699.14,47.2441 \n",
       "  \"/>\n",
       "<polyline clip-path=\"url(#clip6602)\" style=\"stroke:#000000; stroke-width:2; stroke-opacity:0.1; fill:none\" points=\"\n",
       "  2109.57,1487.47 2109.57,47.2441 \n",
       "  \"/>\n",
       "<polyline clip-path=\"url(#clip6602)\" style=\"stroke:#000000; stroke-width:2; stroke-opacity:0.1; fill:none\" points=\"\n",
       "  180.66,1446.71 2352.76,1446.71 \n",
       "  \"/>\n",
       "<polyline clip-path=\"url(#clip6602)\" style=\"stroke:#000000; stroke-width:2; stroke-opacity:0.1; fill:none\" points=\"\n",
       "  180.66,1208.34 2352.76,1208.34 \n",
       "  \"/>\n",
       "<polyline clip-path=\"url(#clip6602)\" style=\"stroke:#000000; stroke-width:2; stroke-opacity:0.1; fill:none\" points=\"\n",
       "  180.66,969.962 2352.76,969.962 \n",
       "  \"/>\n",
       "<polyline clip-path=\"url(#clip6602)\" style=\"stroke:#000000; stroke-width:2; stroke-opacity:0.1; fill:none\" points=\"\n",
       "  180.66,731.585 2352.76,731.585 \n",
       "  \"/>\n",
       "<polyline clip-path=\"url(#clip6602)\" style=\"stroke:#000000; stroke-width:2; stroke-opacity:0.1; fill:none\" points=\"\n",
       "  180.66,493.209 2352.76,493.209 \n",
       "  \"/>\n",
       "<polyline clip-path=\"url(#clip6602)\" style=\"stroke:#000000; stroke-width:2; stroke-opacity:0.1; fill:none\" points=\"\n",
       "  180.66,254.833 2352.76,254.833 \n",
       "  \"/>\n",
       "<polyline clip-path=\"url(#clip6600)\" style=\"stroke:#000000; stroke-width:4; stroke-opacity:1; fill:none\" points=\"\n",
       "  180.66,1487.47 2352.76,1487.47 \n",
       "  \"/>\n",
       "<polyline clip-path=\"url(#clip6600)\" style=\"stroke:#000000; stroke-width:4; stroke-opacity:1; fill:none\" points=\"\n",
       "  180.66,1487.47 180.66,47.2441 \n",
       "  \"/>\n",
       "<polyline clip-path=\"url(#clip6600)\" style=\"stroke:#000000; stroke-width:4; stroke-opacity:1; fill:none\" points=\"\n",
       "  467.848,1487.47 467.848,1465.87 \n",
       "  \"/>\n",
       "<polyline clip-path=\"url(#clip6600)\" style=\"stroke:#000000; stroke-width:4; stroke-opacity:1; fill:none\" points=\"\n",
       "  878.278,1487.47 878.278,1465.87 \n",
       "  \"/>\n",
       "<polyline clip-path=\"url(#clip6600)\" style=\"stroke:#000000; stroke-width:4; stroke-opacity:1; fill:none\" points=\"\n",
       "  1288.71,1487.47 1288.71,1465.87 \n",
       "  \"/>\n",
       "<polyline clip-path=\"url(#clip6600)\" style=\"stroke:#000000; stroke-width:4; stroke-opacity:1; fill:none\" points=\"\n",
       "  1699.14,1487.47 1699.14,1465.87 \n",
       "  \"/>\n",
       "<polyline clip-path=\"url(#clip6600)\" style=\"stroke:#000000; stroke-width:4; stroke-opacity:1; fill:none\" points=\"\n",
       "  2109.57,1487.47 2109.57,1465.87 \n",
       "  \"/>\n",
       "<polyline clip-path=\"url(#clip6600)\" style=\"stroke:#000000; stroke-width:4; stroke-opacity:1; fill:none\" points=\"\n",
       "  180.66,1446.71 213.242,1446.71 \n",
       "  \"/>\n",
       "<polyline clip-path=\"url(#clip6600)\" style=\"stroke:#000000; stroke-width:4; stroke-opacity:1; fill:none\" points=\"\n",
       "  180.66,1208.34 213.242,1208.34 \n",
       "  \"/>\n",
       "<polyline clip-path=\"url(#clip6600)\" style=\"stroke:#000000; stroke-width:4; stroke-opacity:1; fill:none\" points=\"\n",
       "  180.66,969.962 213.242,969.962 \n",
       "  \"/>\n",
       "<polyline clip-path=\"url(#clip6600)\" style=\"stroke:#000000; stroke-width:4; stroke-opacity:1; fill:none\" points=\"\n",
       "  180.66,731.585 213.242,731.585 \n",
       "  \"/>\n",
       "<polyline clip-path=\"url(#clip6600)\" style=\"stroke:#000000; stroke-width:4; stroke-opacity:1; fill:none\" points=\"\n",
       "  180.66,493.209 213.242,493.209 \n",
       "  \"/>\n",
       "<polyline clip-path=\"url(#clip6600)\" style=\"stroke:#000000; stroke-width:4; stroke-opacity:1; fill:none\" points=\"\n",
       "  180.66,254.833 213.242,254.833 \n",
       "  \"/>\n",
       "<g clip-path=\"url(#clip6600)\">\n",
       "<text style=\"fill:#000000; fill-opacity:1; font-family:Arial,Helvetica Neue,Helvetica,sans-serif; font-size:48px; text-anchor:middle;\" transform=\"rotate(0, 467.848, 1541.47)\" x=\"467.848\" y=\"1541.47\">6</text>\n",
       "</g>\n",
       "<g clip-path=\"url(#clip6600)\">\n",
       "<text style=\"fill:#000000; fill-opacity:1; font-family:Arial,Helvetica Neue,Helvetica,sans-serif; font-size:48px; text-anchor:middle;\" transform=\"rotate(0, 878.278, 1541.47)\" x=\"878.278\" y=\"1541.47\">9</text>\n",
       "</g>\n",
       "<g clip-path=\"url(#clip6600)\">\n",
       "<text style=\"fill:#000000; fill-opacity:1; font-family:Arial,Helvetica Neue,Helvetica,sans-serif; font-size:48px; text-anchor:middle;\" transform=\"rotate(0, 1288.71, 1541.47)\" x=\"1288.71\" y=\"1541.47\">12</text>\n",
       "</g>\n",
       "<g clip-path=\"url(#clip6600)\">\n",
       "<text style=\"fill:#000000; fill-opacity:1; font-family:Arial,Helvetica Neue,Helvetica,sans-serif; font-size:48px; text-anchor:middle;\" transform=\"rotate(0, 1699.14, 1541.47)\" x=\"1699.14\" y=\"1541.47\">15</text>\n",
       "</g>\n",
       "<g clip-path=\"url(#clip6600)\">\n",
       "<text style=\"fill:#000000; fill-opacity:1; font-family:Arial,Helvetica Neue,Helvetica,sans-serif; font-size:48px; text-anchor:middle;\" transform=\"rotate(0, 2109.57, 1541.47)\" x=\"2109.57\" y=\"1541.47\">18</text>\n",
       "</g>\n",
       "<g clip-path=\"url(#clip6600)\">\n",
       "<text style=\"fill:#000000; fill-opacity:1; font-family:Arial,Helvetica Neue,Helvetica,sans-serif; font-size:48px; text-anchor:end;\" transform=\"rotate(0, 156.66, 1464.21)\" x=\"156.66\" y=\"1464.21\">0.00</text>\n",
       "</g>\n",
       "<g clip-path=\"url(#clip6600)\">\n",
       "<text style=\"fill:#000000; fill-opacity:1; font-family:Arial,Helvetica Neue,Helvetica,sans-serif; font-size:48px; text-anchor:end;\" transform=\"rotate(0, 156.66, 1225.84)\" x=\"156.66\" y=\"1225.84\">0.05</text>\n",
       "</g>\n",
       "<g clip-path=\"url(#clip6600)\">\n",
       "<text style=\"fill:#000000; fill-opacity:1; font-family:Arial,Helvetica Neue,Helvetica,sans-serif; font-size:48px; text-anchor:end;\" transform=\"rotate(0, 156.66, 987.462)\" x=\"156.66\" y=\"987.462\">0.10</text>\n",
       "</g>\n",
       "<g clip-path=\"url(#clip6600)\">\n",
       "<text style=\"fill:#000000; fill-opacity:1; font-family:Arial,Helvetica Neue,Helvetica,sans-serif; font-size:48px; text-anchor:end;\" transform=\"rotate(0, 156.66, 749.085)\" x=\"156.66\" y=\"749.085\">0.15</text>\n",
       "</g>\n",
       "<g clip-path=\"url(#clip6600)\">\n",
       "<text style=\"fill:#000000; fill-opacity:1; font-family:Arial,Helvetica Neue,Helvetica,sans-serif; font-size:48px; text-anchor:end;\" transform=\"rotate(0, 156.66, 510.709)\" x=\"156.66\" y=\"510.709\">0.20</text>\n",
       "</g>\n",
       "<g clip-path=\"url(#clip6600)\">\n",
       "<text style=\"fill:#000000; fill-opacity:1; font-family:Arial,Helvetica Neue,Helvetica,sans-serif; font-size:48px; text-anchor:end;\" transform=\"rotate(0, 156.66, 272.333)\" x=\"156.66\" y=\"272.333\">0.25</text>\n",
       "</g>\n",
       "<polyline clip-path=\"url(#clip6602)\" style=\"stroke:#009af9; stroke-width:4; stroke-opacity:1; fill:none\" points=\"\n",
       "  242.135,1446.71 252.432,1446.71 262.729,1446.7 273.026,1446.66 283.324,1446.55 293.621,1446.32 303.918,1445.85 314.215,1445.01 324.512,1443.67 334.81,1441.73 \n",
       "  345.107,1439.19 355.404,1436.07 365.701,1432.33 375.999,1427.78 386.296,1422.01 396.593,1414.49 406.89,1404.6 417.187,1391.7 427.485,1375.17 437.782,1354.41 \n",
       "  448.079,1328.93 458.376,1298.48 468.674,1263.03 478.971,1222.72 489.268,1177.72 499.565,1128.2 509.862,1074.51 520.16,1017.43 530.457,958.045 540.754,897.547 \n",
       "  551.051,836.717 561.349,775.669 571.646,714.018 581.943,651.53 592.24,588.95 602.537,528.41 612.835,472.927 623.132,425.034 633.429,385.278 643.726,351.651 \n",
       "  654.024,320.483 664.321,288.325 674.618,253.663 684.915,217.469 695.212,182.438 705.51,151.558 715.807,126.855 726.104,108.905 736.401,97.1149 746.698,90.4361 \n",
       "  756.996,88.0053 767.293,89.3721 777.59,94.2681 787.887,102.228 798.185,112.523 808.482,124.606 818.779,138.767 829.076,156.334 839.373,179.092 849.671,208.241 \n",
       "  859.968,243.615 870.265,283.663 880.562,326.147 890.86,369.02 901.157,410.965 911.454,451.355 921.751,489.849 932.048,526.053 942.346,559.609 952.643,590.638 \n",
       "  962.94,620.086 973.237,649.541 983.535,680.547 993.832,713.862 1004.13,749.132 1014.43,785.141 1024.72,820.396 1035.02,853.744 1045.32,884.777 1055.62,913.913 \n",
       "  1065.91,942.132 1076.21,970.465 1086.51,999.429 1096.8,1028.68 1107.1,1057.1 1117.4,1083.28 1127.7,1106.24 1137.99,1125.96 1148.29,1143.37 1158.59,1159.91 \n",
       "  1168.88,1176.79 1179.18,1194.44 1189.48,1212.41 1199.78,1229.64 1210.07,1245 1220.37,1257.76 1230.67,1267.79 1240.97,1275.55 1251.26,1281.84 1261.56,1287.57 \n",
       "  1271.86,1293.52 1282.15,1300.19 1292.45,1307.69 1302.75,1315.78 1313.05,1324.06 1323.34,1332.19 1333.64,1340.04 1343.94,1347.72 1354.23,1355.28 1364.53,1362.61 \n",
       "  1374.83,1369.41 1385.13,1375.4 1395.42,1380.47 1405.72,1384.76 1416.02,1388.55 1426.32,1392.06 1436.61,1395.43 1446.91,1398.65 1457.21,1401.65 1467.5,1404.34 \n",
       "  1477.8,1406.66 1488.1,1408.61 1498.4,1410.23 1508.69,1411.6 1518.99,1412.81 1529.29,1414.02 1539.58,1415.37 1549.88,1416.97 1560.18,1418.83 1570.48,1420.88 \n",
       "  1580.77,1423.05 1591.07,1425.22 1601.37,1427.36 1611.66,1429.4 1621.96,1431.3 1632.26,1432.97 1642.56,1434.33 1652.85,1435.31 1663.15,1435.85 1673.45,1435.93 \n",
       "  1683.75,1435.6 1694.04,1435.02 1704.34,1434.45 1714.64,1434.17 1724.93,1434.41 1735.23,1435.22 1745.53,1436.46 1755.83,1437.9 1766.12,1439.31 1776.42,1440.58 \n",
       "  1786.72,1441.67 1797.01,1442.65 1807.31,1443.55 1817.61,1444.37 1827.91,1445.07 1838.2,1445.64 1848.5,1446.04 1858.8,1446.28 1869.1,1446.36 1879.39,1446.3 \n",
       "  1889.69,1446.15 1899.99,1445.94 1910.28,1445.73 1920.58,1445.54 1930.88,1445.42 1941.18,1445.38 1951.47,1445.4 1961.77,1445.48 1972.07,1445.61 1982.36,1445.76 \n",
       "  1992.66,1445.88 2002.96,1445.93 2013.26,1445.89 2023.55,1445.77 2033.85,1445.62 2044.15,1445.47 2054.45,1445.36 2064.74,1445.26 2075.04,1445.18 2085.34,1445.09 \n",
       "  2095.63,1444.96 2105.93,1444.8 2116.23,1444.62 2126.53,1444.47 2136.82,1444.39 2147.12,1444.43 2157.42,1444.59 2167.71,1444.86 2178.01,1445.19 2188.31,1445.55 \n",
       "  2198.61,1445.89 2208.9,1446.18 2219.2,1446.4 2229.5,1446.55 2239.8,1446.63 2250.09,1446.68 2260.39,1446.7 2270.69,1446.71 2280.98,1446.71 2291.28,1446.71 \n",
       "  \n",
       "  \"/>\n",
       "<polygon clip-path=\"url(#clip6600)\" points=\"\n",
       "1989.93,251.724 2280.76,251.724 2280.76,130.764 1989.93,130.764 \n",
       "  \" fill=\"#ffffff\" fill-rule=\"evenodd\" fill-opacity=\"1\"/>\n",
       "<polyline clip-path=\"url(#clip6600)\" style=\"stroke:#000000; stroke-width:4; stroke-opacity:1; fill:none\" points=\"\n",
       "  1989.93,251.724 2280.76,251.724 2280.76,130.764 1989.93,130.764 1989.93,251.724 \n",
       "  \"/>\n",
       "<polyline clip-path=\"url(#clip6600)\" style=\"stroke:#009af9; stroke-width:4; stroke-opacity:1; fill:none\" points=\"\n",
       "  2013.93,191.244 2157.93,191.244 \n",
       "  \"/>\n",
       "<g clip-path=\"url(#clip6600)\">\n",
       "<text style=\"fill:#000000; fill-opacity:1; font-family:Arial,Helvetica Neue,Helvetica,sans-serif; font-size:48px; text-anchor:start;\" transform=\"rotate(0, 2181.93, 208.744)\" x=\"2181.93\" y=\"208.744\">y1</text>\n",
       "</g>\n",
       "</svg>\n"
      ],
      "image/svg+xml": [
       "<?xml version=\"1.0\" encoding=\"utf-8\"?>\n",
       "<svg xmlns=\"http://www.w3.org/2000/svg\" xmlns:xlink=\"http://www.w3.org/1999/xlink\" width=\"600\" height=\"400\" viewBox=\"0 0 2400 1600\">\n",
       "<defs>\n",
       "  <clipPath id=\"clip6300\">\n",
       "    <rect x=\"0\" y=\"0\" width=\"2400\" height=\"1600\"/>\n",
       "  </clipPath>\n",
       "</defs>\n",
       "<polygon clip-path=\"url(#clip6300)\" points=\"\n",
       "0,1600 2400,1600 2400,0 0,0 \n",
       "  \" fill=\"#ffffff\" fill-rule=\"evenodd\" fill-opacity=\"1\"/>\n",
       "<defs>\n",
       "  <clipPath id=\"clip6301\">\n",
       "    <rect x=\"480\" y=\"0\" width=\"1681\" height=\"1600\"/>\n",
       "  </clipPath>\n",
       "</defs>\n",
       "<polygon clip-path=\"url(#clip6300)\" points=\"\n",
       "180.66,1487.47 2352.76,1487.47 2352.76,47.2441 180.66,47.2441 \n",
       "  \" fill=\"#ffffff\" fill-rule=\"evenodd\" fill-opacity=\"1\"/>\n",
       "<defs>\n",
       "  <clipPath id=\"clip6302\">\n",
       "    <rect x=\"180\" y=\"47\" width=\"2173\" height=\"1441\"/>\n",
       "  </clipPath>\n",
       "</defs>\n",
       "<polyline clip-path=\"url(#clip6302)\" style=\"stroke:#000000; stroke-width:2; stroke-opacity:0.1; fill:none\" points=\"\n",
       "  467.848,1487.47 467.848,47.2441 \n",
       "  \"/>\n",
       "<polyline clip-path=\"url(#clip6302)\" style=\"stroke:#000000; stroke-width:2; stroke-opacity:0.1; fill:none\" points=\"\n",
       "  878.278,1487.47 878.278,47.2441 \n",
       "  \"/>\n",
       "<polyline clip-path=\"url(#clip6302)\" style=\"stroke:#000000; stroke-width:2; stroke-opacity:0.1; fill:none\" points=\"\n",
       "  1288.71,1487.47 1288.71,47.2441 \n",
       "  \"/>\n",
       "<polyline clip-path=\"url(#clip6302)\" style=\"stroke:#000000; stroke-width:2; stroke-opacity:0.1; fill:none\" points=\"\n",
       "  1699.14,1487.47 1699.14,47.2441 \n",
       "  \"/>\n",
       "<polyline clip-path=\"url(#clip6302)\" style=\"stroke:#000000; stroke-width:2; stroke-opacity:0.1; fill:none\" points=\"\n",
       "  2109.57,1487.47 2109.57,47.2441 \n",
       "  \"/>\n",
       "<polyline clip-path=\"url(#clip6302)\" style=\"stroke:#000000; stroke-width:2; stroke-opacity:0.1; fill:none\" points=\"\n",
       "  180.66,1446.71 2352.76,1446.71 \n",
       "  \"/>\n",
       "<polyline clip-path=\"url(#clip6302)\" style=\"stroke:#000000; stroke-width:2; stroke-opacity:0.1; fill:none\" points=\"\n",
       "  180.66,1208.34 2352.76,1208.34 \n",
       "  \"/>\n",
       "<polyline clip-path=\"url(#clip6302)\" style=\"stroke:#000000; stroke-width:2; stroke-opacity:0.1; fill:none\" points=\"\n",
       "  180.66,969.962 2352.76,969.962 \n",
       "  \"/>\n",
       "<polyline clip-path=\"url(#clip6302)\" style=\"stroke:#000000; stroke-width:2; stroke-opacity:0.1; fill:none\" points=\"\n",
       "  180.66,731.585 2352.76,731.585 \n",
       "  \"/>\n",
       "<polyline clip-path=\"url(#clip6302)\" style=\"stroke:#000000; stroke-width:2; stroke-opacity:0.1; fill:none\" points=\"\n",
       "  180.66,493.209 2352.76,493.209 \n",
       "  \"/>\n",
       "<polyline clip-path=\"url(#clip6302)\" style=\"stroke:#000000; stroke-width:2; stroke-opacity:0.1; fill:none\" points=\"\n",
       "  180.66,254.833 2352.76,254.833 \n",
       "  \"/>\n",
       "<polyline clip-path=\"url(#clip6300)\" style=\"stroke:#000000; stroke-width:4; stroke-opacity:1; fill:none\" points=\"\n",
       "  180.66,1487.47 2352.76,1487.47 \n",
       "  \"/>\n",
       "<polyline clip-path=\"url(#clip6300)\" style=\"stroke:#000000; stroke-width:4; stroke-opacity:1; fill:none\" points=\"\n",
       "  180.66,1487.47 180.66,47.2441 \n",
       "  \"/>\n",
       "<polyline clip-path=\"url(#clip6300)\" style=\"stroke:#000000; stroke-width:4; stroke-opacity:1; fill:none\" points=\"\n",
       "  467.848,1487.47 467.848,1465.87 \n",
       "  \"/>\n",
       "<polyline clip-path=\"url(#clip6300)\" style=\"stroke:#000000; stroke-width:4; stroke-opacity:1; fill:none\" points=\"\n",
       "  878.278,1487.47 878.278,1465.87 \n",
       "  \"/>\n",
       "<polyline clip-path=\"url(#clip6300)\" style=\"stroke:#000000; stroke-width:4; stroke-opacity:1; fill:none\" points=\"\n",
       "  1288.71,1487.47 1288.71,1465.87 \n",
       "  \"/>\n",
       "<polyline clip-path=\"url(#clip6300)\" style=\"stroke:#000000; stroke-width:4; stroke-opacity:1; fill:none\" points=\"\n",
       "  1699.14,1487.47 1699.14,1465.87 \n",
       "  \"/>\n",
       "<polyline clip-path=\"url(#clip6300)\" style=\"stroke:#000000; stroke-width:4; stroke-opacity:1; fill:none\" points=\"\n",
       "  2109.57,1487.47 2109.57,1465.87 \n",
       "  \"/>\n",
       "<polyline clip-path=\"url(#clip6300)\" style=\"stroke:#000000; stroke-width:4; stroke-opacity:1; fill:none\" points=\"\n",
       "  180.66,1446.71 213.242,1446.71 \n",
       "  \"/>\n",
       "<polyline clip-path=\"url(#clip6300)\" style=\"stroke:#000000; stroke-width:4; stroke-opacity:1; fill:none\" points=\"\n",
       "  180.66,1208.34 213.242,1208.34 \n",
       "  \"/>\n",
       "<polyline clip-path=\"url(#clip6300)\" style=\"stroke:#000000; stroke-width:4; stroke-opacity:1; fill:none\" points=\"\n",
       "  180.66,969.962 213.242,969.962 \n",
       "  \"/>\n",
       "<polyline clip-path=\"url(#clip6300)\" style=\"stroke:#000000; stroke-width:4; stroke-opacity:1; fill:none\" points=\"\n",
       "  180.66,731.585 213.242,731.585 \n",
       "  \"/>\n",
       "<polyline clip-path=\"url(#clip6300)\" style=\"stroke:#000000; stroke-width:4; stroke-opacity:1; fill:none\" points=\"\n",
       "  180.66,493.209 213.242,493.209 \n",
       "  \"/>\n",
       "<polyline clip-path=\"url(#clip6300)\" style=\"stroke:#000000; stroke-width:4; stroke-opacity:1; fill:none\" points=\"\n",
       "  180.66,254.833 213.242,254.833 \n",
       "  \"/>\n",
       "<g clip-path=\"url(#clip6300)\">\n",
       "<text style=\"fill:#000000; fill-opacity:1; font-family:Arial,Helvetica Neue,Helvetica,sans-serif; font-size:48px; text-anchor:middle;\" transform=\"rotate(0, 467.848, 1541.47)\" x=\"467.848\" y=\"1541.47\">6</text>\n",
       "</g>\n",
       "<g clip-path=\"url(#clip6300)\">\n",
       "<text style=\"fill:#000000; fill-opacity:1; font-family:Arial,Helvetica Neue,Helvetica,sans-serif; font-size:48px; text-anchor:middle;\" transform=\"rotate(0, 878.278, 1541.47)\" x=\"878.278\" y=\"1541.47\">9</text>\n",
       "</g>\n",
       "<g clip-path=\"url(#clip6300)\">\n",
       "<text style=\"fill:#000000; fill-opacity:1; font-family:Arial,Helvetica Neue,Helvetica,sans-serif; font-size:48px; text-anchor:middle;\" transform=\"rotate(0, 1288.71, 1541.47)\" x=\"1288.71\" y=\"1541.47\">12</text>\n",
       "</g>\n",
       "<g clip-path=\"url(#clip6300)\">\n",
       "<text style=\"fill:#000000; fill-opacity:1; font-family:Arial,Helvetica Neue,Helvetica,sans-serif; font-size:48px; text-anchor:middle;\" transform=\"rotate(0, 1699.14, 1541.47)\" x=\"1699.14\" y=\"1541.47\">15</text>\n",
       "</g>\n",
       "<g clip-path=\"url(#clip6300)\">\n",
       "<text style=\"fill:#000000; fill-opacity:1; font-family:Arial,Helvetica Neue,Helvetica,sans-serif; font-size:48px; text-anchor:middle;\" transform=\"rotate(0, 2109.57, 1541.47)\" x=\"2109.57\" y=\"1541.47\">18</text>\n",
       "</g>\n",
       "<g clip-path=\"url(#clip6300)\">\n",
       "<text style=\"fill:#000000; fill-opacity:1; font-family:Arial,Helvetica Neue,Helvetica,sans-serif; font-size:48px; text-anchor:end;\" transform=\"rotate(0, 156.66, 1464.21)\" x=\"156.66\" y=\"1464.21\">0.00</text>\n",
       "</g>\n",
       "<g clip-path=\"url(#clip6300)\">\n",
       "<text style=\"fill:#000000; fill-opacity:1; font-family:Arial,Helvetica Neue,Helvetica,sans-serif; font-size:48px; text-anchor:end;\" transform=\"rotate(0, 156.66, 1225.84)\" x=\"156.66\" y=\"1225.84\">0.05</text>\n",
       "</g>\n",
       "<g clip-path=\"url(#clip6300)\">\n",
       "<text style=\"fill:#000000; fill-opacity:1; font-family:Arial,Helvetica Neue,Helvetica,sans-serif; font-size:48px; text-anchor:end;\" transform=\"rotate(0, 156.66, 987.462)\" x=\"156.66\" y=\"987.462\">0.10</text>\n",
       "</g>\n",
       "<g clip-path=\"url(#clip6300)\">\n",
       "<text style=\"fill:#000000; fill-opacity:1; font-family:Arial,Helvetica Neue,Helvetica,sans-serif; font-size:48px; text-anchor:end;\" transform=\"rotate(0, 156.66, 749.085)\" x=\"156.66\" y=\"749.085\">0.15</text>\n",
       "</g>\n",
       "<g clip-path=\"url(#clip6300)\">\n",
       "<text style=\"fill:#000000; fill-opacity:1; font-family:Arial,Helvetica Neue,Helvetica,sans-serif; font-size:48px; text-anchor:end;\" transform=\"rotate(0, 156.66, 510.709)\" x=\"156.66\" y=\"510.709\">0.20</text>\n",
       "</g>\n",
       "<g clip-path=\"url(#clip6300)\">\n",
       "<text style=\"fill:#000000; fill-opacity:1; font-family:Arial,Helvetica Neue,Helvetica,sans-serif; font-size:48px; text-anchor:end;\" transform=\"rotate(0, 156.66, 272.333)\" x=\"156.66\" y=\"272.333\">0.25</text>\n",
       "</g>\n",
       "<polyline clip-path=\"url(#clip6302)\" style=\"stroke:#009af9; stroke-width:4; stroke-opacity:1; fill:none\" points=\"\n",
       "  242.135,1446.71 252.432,1446.71 262.729,1446.7 273.026,1446.66 283.324,1446.55 293.621,1446.32 303.918,1445.85 314.215,1445.01 324.512,1443.67 334.81,1441.73 \n",
       "  345.107,1439.19 355.404,1436.07 365.701,1432.33 375.999,1427.78 386.296,1422.01 396.593,1414.49 406.89,1404.6 417.187,1391.7 427.485,1375.17 437.782,1354.41 \n",
       "  448.079,1328.93 458.376,1298.48 468.674,1263.03 478.971,1222.72 489.268,1177.72 499.565,1128.2 509.862,1074.51 520.16,1017.43 530.457,958.045 540.754,897.547 \n",
       "  551.051,836.717 561.349,775.669 571.646,714.018 581.943,651.53 592.24,588.95 602.537,528.41 612.835,472.927 623.132,425.034 633.429,385.278 643.726,351.651 \n",
       "  654.024,320.483 664.321,288.325 674.618,253.663 684.915,217.469 695.212,182.438 705.51,151.558 715.807,126.855 726.104,108.905 736.401,97.1149 746.698,90.4361 \n",
       "  756.996,88.0053 767.293,89.3721 777.59,94.2681 787.887,102.228 798.185,112.523 808.482,124.606 818.779,138.767 829.076,156.334 839.373,179.092 849.671,208.241 \n",
       "  859.968,243.615 870.265,283.663 880.562,326.147 890.86,369.02 901.157,410.965 911.454,451.355 921.751,489.849 932.048,526.053 942.346,559.609 952.643,590.638 \n",
       "  962.94,620.086 973.237,649.541 983.535,680.547 993.832,713.862 1004.13,749.132 1014.43,785.141 1024.72,820.396 1035.02,853.744 1045.32,884.777 1055.62,913.913 \n",
       "  1065.91,942.132 1076.21,970.465 1086.51,999.429 1096.8,1028.68 1107.1,1057.1 1117.4,1083.28 1127.7,1106.24 1137.99,1125.96 1148.29,1143.37 1158.59,1159.91 \n",
       "  1168.88,1176.79 1179.18,1194.44 1189.48,1212.41 1199.78,1229.64 1210.07,1245 1220.37,1257.76 1230.67,1267.79 1240.97,1275.55 1251.26,1281.84 1261.56,1287.57 \n",
       "  1271.86,1293.52 1282.15,1300.19 1292.45,1307.69 1302.75,1315.78 1313.05,1324.06 1323.34,1332.19 1333.64,1340.04 1343.94,1347.72 1354.23,1355.28 1364.53,1362.61 \n",
       "  1374.83,1369.41 1385.13,1375.4 1395.42,1380.47 1405.72,1384.76 1416.02,1388.55 1426.32,1392.06 1436.61,1395.43 1446.91,1398.65 1457.21,1401.65 1467.5,1404.34 \n",
       "  1477.8,1406.66 1488.1,1408.61 1498.4,1410.23 1508.69,1411.6 1518.99,1412.81 1529.29,1414.02 1539.58,1415.37 1549.88,1416.97 1560.18,1418.83 1570.48,1420.88 \n",
       "  1580.77,1423.05 1591.07,1425.22 1601.37,1427.36 1611.66,1429.4 1621.96,1431.3 1632.26,1432.97 1642.56,1434.33 1652.85,1435.31 1663.15,1435.85 1673.45,1435.93 \n",
       "  1683.75,1435.6 1694.04,1435.02 1704.34,1434.45 1714.64,1434.17 1724.93,1434.41 1735.23,1435.22 1745.53,1436.46 1755.83,1437.9 1766.12,1439.31 1776.42,1440.58 \n",
       "  1786.72,1441.67 1797.01,1442.65 1807.31,1443.55 1817.61,1444.37 1827.91,1445.07 1838.2,1445.64 1848.5,1446.04 1858.8,1446.28 1869.1,1446.36 1879.39,1446.3 \n",
       "  1889.69,1446.15 1899.99,1445.94 1910.28,1445.73 1920.58,1445.54 1930.88,1445.42 1941.18,1445.38 1951.47,1445.4 1961.77,1445.48 1972.07,1445.61 1982.36,1445.76 \n",
       "  1992.66,1445.88 2002.96,1445.93 2013.26,1445.89 2023.55,1445.77 2033.85,1445.62 2044.15,1445.47 2054.45,1445.36 2064.74,1445.26 2075.04,1445.18 2085.34,1445.09 \n",
       "  2095.63,1444.96 2105.93,1444.8 2116.23,1444.62 2126.53,1444.47 2136.82,1444.39 2147.12,1444.43 2157.42,1444.59 2167.71,1444.86 2178.01,1445.19 2188.31,1445.55 \n",
       "  2198.61,1445.89 2208.9,1446.18 2219.2,1446.4 2229.5,1446.55 2239.8,1446.63 2250.09,1446.68 2260.39,1446.7 2270.69,1446.71 2280.98,1446.71 2291.28,1446.71 \n",
       "  \n",
       "  \"/>\n",
       "<polygon clip-path=\"url(#clip6300)\" points=\"\n",
       "1989.93,251.724 2280.76,251.724 2280.76,130.764 1989.93,130.764 \n",
       "  \" fill=\"#ffffff\" fill-rule=\"evenodd\" fill-opacity=\"1\"/>\n",
       "<polyline clip-path=\"url(#clip6300)\" style=\"stroke:#000000; stroke-width:4; stroke-opacity:1; fill:none\" points=\"\n",
       "  1989.93,251.724 2280.76,251.724 2280.76,130.764 1989.93,130.764 1989.93,251.724 \n",
       "  \"/>\n",
       "<polyline clip-path=\"url(#clip6300)\" style=\"stroke:#009af9; stroke-width:4; stroke-opacity:1; fill:none\" points=\"\n",
       "  2013.93,191.244 2157.93,191.244 \n",
       "  \"/>\n",
       "<g clip-path=\"url(#clip6300)\">\n",
       "<text style=\"fill:#000000; fill-opacity:1; font-family:Arial,Helvetica Neue,Helvetica,sans-serif; font-size:48px; text-anchor:start;\" transform=\"rotate(0, 2181.93, 208.744)\" x=\"2181.93\" y=\"208.744\">y1</text>\n",
       "</g>\n",
       "</svg>\n"
      ]
     },
     "metadata": {},
     "execution_count": 8
    }
   ],
   "cell_type": "code",
   "source": [
    "density(samples[:sigma])"
   ],
   "metadata": {},
   "execution_count": 8
  },
  {
   "outputs": [],
   "cell_type": "markdown",
   "source": [
    "End of `clip-21-23.jl`"
   ],
   "metadata": {}
  },
  {
   "outputs": [],
   "cell_type": "markdown",
   "source": [
    "*This notebook was generated using [Literate.jl](https://github.com/fredrikekre/Literate.jl).*"
   ],
   "metadata": {}
  }
 ],
 "nbformat_minor": 3,
 "metadata": {
  "language_info": {
   "file_extension": ".jl",
   "mimetype": "application/julia",
   "name": "julia",
   "version": "1.3.0-DEV.570"
  },
  "kernelspec": {
   "name": "julia-1.3",
   "display_name": "Julia 1.3.0-DEV.570",
   "language": "julia"
  }
 },
 "nbformat": 4
}
