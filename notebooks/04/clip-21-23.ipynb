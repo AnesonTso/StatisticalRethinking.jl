{
 "cells": [
  {
   "outputs": [],
   "cell_type": "markdown",
   "source": [
    "Load Julia packages (libraries) needed  for the snippets in chapter 0"
   ],
   "metadata": {}
  },
  {
   "outputs": [],
   "cell_type": "code",
   "source": [
    "using StatisticalRethinking, CmdStan\n",
    "#gr(size=(600,600));"
   ],
   "metadata": {},
   "execution_count": 1
  },
  {
   "outputs": [],
   "cell_type": "markdown",
   "source": [
    "CmdStan uses a tmp directory to store the output of cmdstan"
   ],
   "metadata": {}
  },
  {
   "outputs": [],
   "cell_type": "code",
   "source": [
    "ProjDir = rel_path(\"..\", \"scripts\", \"04\")\n",
    "cd(ProjDir)"
   ],
   "metadata": {},
   "execution_count": 2
  },
  {
   "outputs": [],
   "cell_type": "markdown",
   "source": [
    "CmdStan uses a tmp directory to store the output of cmdstan"
   ],
   "metadata": {}
  },
  {
   "outputs": [],
   "cell_type": "code",
   "source": [
    "ProjDir = rel_path(\"..\", \"scripts\", \"04\")\n",
    "cd(ProjDir)"
   ],
   "metadata": {},
   "execution_count": 3
  },
  {
   "outputs": [
    {
     "output_type": "execute_result",
     "data": {
      "text/plain": "5×4 DataFrame\n│ Row │ height  │ weight  │ age     │ male  │\n│     │ \u001b[90mFloat64\u001b[39m │ \u001b[90mFloat64\u001b[39m │ \u001b[90mFloat64\u001b[39m │ \u001b[90mInt64\u001b[39m │\n├─────┼─────────┼─────────┼─────────┼───────┤\n│ 1   │ 151.765 │ 47.8256 │ 63.0    │ 1     │\n│ 2   │ 139.7   │ 36.4858 │ 63.0    │ 0     │\n│ 3   │ 136.525 │ 31.8648 │ 65.0    │ 0     │\n│ 4   │ 156.845 │ 53.0419 │ 41.0    │ 1     │\n│ 5   │ 145.415 │ 41.2769 │ 51.0    │ 0     │",
      "text/html": [
       "<table class=\"data-frame\"><thead><tr><th></th><th>height</th><th>weight</th><th>age</th><th>male</th></tr><tr><th></th><th>Float64</th><th>Float64</th><th>Float64</th><th>Int64</th></tr></thead><tbody><p>5 rows × 4 columns</p><tr><th>1</th><td>151.765</td><td>47.8256</td><td>63.0</td><td>1</td></tr><tr><th>2</th><td>139.7</td><td>36.4858</td><td>63.0</td><td>0</td></tr><tr><th>3</th><td>136.525</td><td>31.8648</td><td>65.0</td><td>0</td></tr><tr><th>4</th><td>156.845</td><td>53.0419</td><td>41.0</td><td>1</td></tr><tr><th>5</th><td>145.415</td><td>41.2769</td><td>51.0</td><td>0</td></tr></tbody></table>"
      ]
     },
     "metadata": {},
     "execution_count": 4
    }
   ],
   "cell_type": "code",
   "source": [
    "howell1 = CSV.read(rel_path(\"..\", \"data\", \"Howell1.csv\"), delim=';')\n",
    "df = convert(DataFrame, howell1);\n",
    "df2 = filter(row -> row[:age] >= 18, df);\n",
    "first(df2, 5)"
   ],
   "metadata": {},
   "execution_count": 4
  },
  {
   "outputs": [],
   "cell_type": "markdown",
   "source": [
    "### Snippet 4.21"
   ],
   "metadata": {}
  },
  {
   "outputs": [],
   "cell_type": "markdown",
   "source": [
    "Sample 20 random heights"
   ],
   "metadata": {}
  },
  {
   "outputs": [],
   "cell_type": "code",
   "source": [
    "n = size(df2, 1)\n",
    "selected_ind = sample(1:n, 20, replace=false);\n",
    "df3 = df2[selected_ind, :];"
   ],
   "metadata": {},
   "execution_count": 5
  },
  {
   "outputs": [],
   "cell_type": "markdown",
   "source": [
    "### Snippet 4.22"
   ],
   "metadata": {}
  },
  {
   "outputs": [],
   "cell_type": "markdown",
   "source": [
    "Generate approximate probabilities"
   ],
   "metadata": {}
  },
  {
   "outputs": [
    {
     "name": "stdout",
     "output_type": "stream",
     "text": [
      "┌ Warning: `getindex(df::DataFrame, col_ind::ColumnIndex)` is deprecated, use `df[!, col_ind]` instead.\n",
      "│   caller = top-level scope at string:15\n",
      "└ @ Core ./string:15\n"
     ]
    },
    {
     "output_type": "execute_result",
     "data": {
      "text/plain": "10×5 DataFrame\n│ Row │ mu      │ sigma   │ ll       │ prod     │ prob        │\n│     │ \u001b[90mFloat64\u001b[39m │ \u001b[90mFloat64\u001b[39m │ \u001b[90mFloat64\u001b[39m  │ \u001b[90mFloat64\u001b[39m  │ \u001b[90mFloat64\u001b[39m     │\n├─────┼─────────┼─────────┼──────────┼──────────┼─────────────┤\n│ 1   │ 140.0   │ 4.0     │ -185.277 │ -194.909 │ 6.89836e-53 │\n│ 2   │ 140.151 │ 4.0     │ -182.772 │ -192.39  │ 8.56498e-52 │\n│ 3   │ 140.302 │ 4.0     │ -180.296 │ -189.899 │ 1.03358e-50 │\n│ 4   │ 140.452 │ 4.0     │ -177.848 │ -187.437 │ 1.21227e-49 │\n│ 5   │ 140.603 │ 4.0     │ -175.429 │ -185.004 │ 1.38195e-48 │\n│ 6   │ 140.754 │ 4.0     │ -173.038 │ -182.599 │ 1.53118e-47 │\n│ 7   │ 140.905 │ 4.0     │ -170.675 │ -180.222 │ 1.6489e-46  │\n│ 8   │ 141.055 │ 4.0     │ -168.341 │ -177.874 │ 1.72584e-45 │\n│ 9   │ 141.206 │ 4.0     │ -166.035 │ -175.554 │ 1.75568e-44 │\n│ 10  │ 141.357 │ 4.0     │ -163.758 │ -173.263 │ 1.73591e-43 │",
      "text/html": [
       "<table class=\"data-frame\"><thead><tr><th></th><th>mu</th><th>sigma</th><th>ll</th><th>prod</th><th>prob</th></tr><tr><th></th><th>Float64</th><th>Float64</th><th>Float64</th><th>Float64</th><th>Float64</th></tr></thead><tbody><p>10 rows × 5 columns</p><tr><th>1</th><td>140.0</td><td>4.0</td><td>-185.277</td><td>-194.909</td><td>6.89836e-53</td></tr><tr><th>2</th><td>140.151</td><td>4.0</td><td>-182.772</td><td>-192.39</td><td>8.56498e-52</td></tr><tr><th>3</th><td>140.302</td><td>4.0</td><td>-180.296</td><td>-189.899</td><td>1.03358e-50</td></tr><tr><th>4</th><td>140.452</td><td>4.0</td><td>-177.848</td><td>-187.437</td><td>1.21227e-49</td></tr><tr><th>5</th><td>140.603</td><td>4.0</td><td>-175.429</td><td>-185.004</td><td>1.38195e-48</td></tr><tr><th>6</th><td>140.754</td><td>4.0</td><td>-173.038</td><td>-182.599</td><td>1.53118e-47</td></tr><tr><th>7</th><td>140.905</td><td>4.0</td><td>-170.675</td><td>-180.222</td><td>1.6489e-46</td></tr><tr><th>8</th><td>141.055</td><td>4.0</td><td>-168.341</td><td>-177.874</td><td>1.72584e-45</td></tr><tr><th>9</th><td>141.206</td><td>4.0</td><td>-166.035</td><td>-175.554</td><td>1.75568e-44</td></tr><tr><th>10</th><td>141.357</td><td>4.0</td><td>-163.758</td><td>-173.263</td><td>1.73591e-43</td></tr></tbody></table>"
      ]
     },
     "metadata": {},
     "execution_count": 6
    }
   ],
   "cell_type": "code",
   "source": [
    "struct Post\n",
    "  mu::Float64\n",
    "  sigma::Float64\n",
    "  ll:: Float64\n",
    "  prod::Float64\n",
    "  prob::Float64\n",
    "end\n",
    "\n",
    "mu_list = repeat(range(140, 170, length=200), 200);\n",
    "sigma_list = repeat(range(4, 20, length=200), inner=200);\n",
    "\n",
    "ll = zeros(40000);\n",
    "for i in 1:40000\n",
    "    d1 = Normal(mu_list[i], sigma_list[i])\n",
    "    ll[i] = sum(log.(pdf.(d1, df3[:height])))\n",
    "end\n",
    "\n",
    "d2 = Normal(178.0, 20.0)\n",
    "d3 = Uniform(0, 50)\n",
    "prod = ll + log.(pdf.(d2, mu_list)) + log.(pdf.(d3, sigma_list))\n",
    "prob = exp.(prod .- maximum(prod))\n",
    "post = DataFrame(mu=mu_list, sigma=sigma_list, ll=ll, prod=prod, prob=prob)\n",
    "first(post, 10)"
   ],
   "metadata": {},
   "execution_count": 6
  },
  {
   "outputs": [],
   "cell_type": "markdown",
   "source": [
    "Sample post"
   ],
   "metadata": {}
  },
  {
   "outputs": [
    {
     "name": "stdout",
     "output_type": "stream",
     "text": [
      "┌ Warning: `getindex(df::DataFrame, col_ind::ColumnIndex)` is deprecated, use `df[!, col_ind]` instead.\n",
      "│   caller = top-level scope at string:1\n",
      "└ @ Core string:1\n"
     ]
    },
    {
     "output_type": "execute_result",
     "data": {
      "text/plain": "10000×5 DataFrame\n│ Row   │ mu      │ sigma   │ ll       │ prod     │ prob      │\n│       │ \u001b[90mFloat64\u001b[39m │ \u001b[90mFloat64\u001b[39m │ \u001b[90mFloat64\u001b[39m  │ \u001b[90mFloat64\u001b[39m  │ \u001b[90mFloat64\u001b[39m   │\n├───────┼─────────┼─────────┼──────────┼──────────┼───────────┤\n│ 1     │ 152.362 │ 6.01005 │ -66.7088 │ -75.3571 │ 0.574603  │\n│ 2     │ 153.266 │ 8.0201  │ -66.8601 │ -75.4515 │ 0.522866  │\n│ 3     │ 154.925 │ 6.97487 │ -66.7684 │ -75.2607 │ 0.632764  │\n│ 4     │ 152.362 │ 6.97487 │ -66.4774 │ -75.1257 │ 0.72425   │\n│ 5     │ 154.171 │ 7.9397  │ -66.8988 │ -75.4353 │ 0.531417  │\n│ 6     │ 153.568 │ 6.17085 │ -66.3412 │ -74.9141 │ 0.894956  │\n│ 7     │ 154.171 │ 5.76884 │ -66.8441 │ -75.3805 │ 0.561316  │\n⋮\n│ 9993  │ 152.663 │ 8.26131 │ -67.1301 │ -75.7592 │ 0.384372  │\n│ 9994  │ 152.211 │ 7.21608 │ -66.6117 │ -75.2697 │ 0.627115  │\n│ 9995  │ 152.663 │ 7.53769 │ -66.6086 │ -75.2377 │ 0.647483  │\n│ 9996  │ 153.568 │ 9.86935 │ -68.689  │ -77.2618 │ 0.0855415 │\n│ 9997  │ 152.06  │ 8.26131 │ -67.3077 │ -75.9755 │ 0.30962   │\n│ 9998  │ 155.829 │ 8.34171 │ -67.9988 │ -76.4399 │ 0.194587  │\n│ 9999  │ 153.719 │ 4.96482 │ -68.3272 │ -76.8909 │ 0.123956  │\n│ 10000 │ 152.211 │ 6.33166 │ -66.5989 │ -75.2569 │ 0.635182  │",
      "text/html": [
       "<table class=\"data-frame\"><thead><tr><th></th><th>mu</th><th>sigma</th><th>ll</th><th>prod</th><th>prob</th></tr><tr><th></th><th>Float64</th><th>Float64</th><th>Float64</th><th>Float64</th><th>Float64</th></tr></thead><tbody><p>10,000 rows × 5 columns</p><tr><th>1</th><td>152.362</td><td>6.01005</td><td>-66.7088</td><td>-75.3571</td><td>0.574603</td></tr><tr><th>2</th><td>153.266</td><td>8.0201</td><td>-66.8601</td><td>-75.4515</td><td>0.522866</td></tr><tr><th>3</th><td>154.925</td><td>6.97487</td><td>-66.7684</td><td>-75.2607</td><td>0.632764</td></tr><tr><th>4</th><td>152.362</td><td>6.97487</td><td>-66.4774</td><td>-75.1257</td><td>0.72425</td></tr><tr><th>5</th><td>154.171</td><td>7.9397</td><td>-66.8988</td><td>-75.4353</td><td>0.531417</td></tr><tr><th>6</th><td>153.568</td><td>6.17085</td><td>-66.3412</td><td>-74.9141</td><td>0.894956</td></tr><tr><th>7</th><td>154.171</td><td>5.76884</td><td>-66.8441</td><td>-75.3805</td><td>0.561316</td></tr><tr><th>8</th><td>151.005</td><td>6.65327</td><td>-67.4813</td><td>-76.2189</td><td>0.242713</td></tr><tr><th>9</th><td>152.211</td><td>7.61809</td><td>-66.8013</td><td>-75.4593</td><td>0.518799</td></tr><tr><th>10</th><td>152.965</td><td>8.74372</td><td>-67.522</td><td>-76.1321</td><td>0.26473</td></tr><tr><th>11</th><td>153.266</td><td>6.01005</td><td>-66.4319</td><td>-75.0233</td><td>0.802332</td></tr><tr><th>12</th><td>153.266</td><td>7.69849</td><td>-66.6252</td><td>-75.2166</td><td>0.661314</td></tr><tr><th>13</th><td>152.663</td><td>7.45729</td><td>-66.5639</td><td>-75.193</td><td>0.677079</td></tr><tr><th>14</th><td>152.814</td><td>6.41206</td><td>-66.3188</td><td>-74.9384</td><td>0.873415</td></tr><tr><th>15</th><td>153.869</td><td>6.25126</td><td>-66.3588</td><td>-74.9133</td><td>0.89561</td></tr><tr><th>16</th><td>152.513</td><td>6.41206</td><td>-66.422</td><td>-75.0607</td><td>0.772874</td></tr><tr><th>17</th><td>152.211</td><td>6.33166</td><td>-66.5989</td><td>-75.2569</td><td>0.635182</td></tr><tr><th>18</th><td>155.226</td><td>8.34171</td><td>-67.6243</td><td>-76.0993</td><td>0.273552</td></tr><tr><th>19</th><td>154.322</td><td>6.49246</td><td>-66.4465</td><td>-74.974</td><td>0.842873</td></tr><tr><th>20</th><td>152.211</td><td>5.76884</td><td>-67.0513</td><td>-75.7094</td><td>0.404023</td></tr><tr><th>21</th><td>152.06</td><td>6.73367</td><td>-66.6019</td><td>-75.2697</td><td>0.62712</td></tr><tr><th>22</th><td>153.869</td><td>7.77889</td><td>-66.7203</td><td>-75.2749</td><td>0.623869</td></tr><tr><th>23</th><td>154.472</td><td>8.82412</td><td>-67.7364</td><td>-76.2551</td><td>0.234105</td></tr><tr><th>24</th><td>155.377</td><td>8.0201</td><td>-67.4866</td><td>-75.9531</td><td>0.316637</td></tr><tr><th>&vellip;</th><td>&vellip;</td><td>&vellip;</td><td>&vellip;</td><td>&vellip;</td><td>&vellip;</td></tr></tbody></table>"
      ]
     },
     "metadata": {},
     "execution_count": 7
    }
   ],
   "cell_type": "code",
   "source": [
    "samples = post[sample(1:size(post, 1), Weights(post[:prob]), 10000, replace=true), :]"
   ],
   "metadata": {},
   "execution_count": 7
  },
  {
   "outputs": [],
   "cell_type": "markdown",
   "source": [
    "### Snippet 4.23"
   ],
   "metadata": {}
  },
  {
   "outputs": [],
   "cell_type": "markdown",
   "source": [
    "Density of sigma"
   ],
   "metadata": {}
  },
  {
   "outputs": [
    {
     "name": "stdout",
     "output_type": "stream",
     "text": [
      "┌ Warning: `getindex(df::DataFrame, col_ind::ColumnIndex)` is deprecated, use `df[!, col_ind]` instead.\n",
      "│   caller = top-level scope at string:1\n",
      "└ @ Core string:1\n"
     ]
    },
    {
     "output_type": "execute_result",
     "data": {
      "text/plain": "Plot{Plots.GRBackend() n=1}",
      "image/png": "[encoded data removed]",
      "text/html": [
       "<?xml version=\"1.0\" encoding=\"utf-8\"?>\n",
       "<svg xmlns=\"http://www.w3.org/2000/svg\" xmlns:xlink=\"http://www.w3.org/1999/xlink\" width=\"600\" height=\"400\" viewBox=\"0 0 2400 1600\">\n",
       "<defs>\n",
       "  <clipPath id=\"clip7900\">\n",
       "    <rect x=\"0\" y=\"0\" width=\"2400\" height=\"1600\"/>\n",
       "  </clipPath>\n",
       "</defs>\n",
       "<path clip-path=\"url(#clip7900)\" d=\"\n",
       "M0 1600 L2400 1600 L2400 0 L0 0  Z\n",
       "  \" fill=\"#ffffff\" fill-rule=\"evenodd\" fill-opacity=\"1\"/>\n",
       "<defs>\n",
       "  <clipPath id=\"clip7901\">\n",
       "    <rect x=\"480\" y=\"0\" width=\"1681\" height=\"1600\"/>\n",
       "  </clipPath>\n",
       "</defs>\n",
       "<path clip-path=\"url(#clip7900)\" d=\"\n",
       "M153.898 1487.47 L2352.76 1487.47 L2352.76 47.2441 L153.898 47.2441  Z\n",
       "  \" fill=\"#ffffff\" fill-rule=\"evenodd\" fill-opacity=\"1\"/>\n",
       "<defs>\n",
       "  <clipPath id=\"clip7902\">\n",
       "    <rect x=\"153\" y=\"47\" width=\"2200\" height=\"1441\"/>\n",
       "  </clipPath>\n",
       "</defs>\n",
       "<polyline clip-path=\"url(#clip7902)\" style=\"stroke:#000000; stroke-width:2; stroke-opacity:0.1; fill:none\" points=\"\n",
       "  459.493,1487.47 459.493,47.2441 \n",
       "  \"/>\n",
       "<polyline clip-path=\"url(#clip7902)\" style=\"stroke:#000000; stroke-width:2; stroke-opacity:0.1; fill:none\" points=\"\n",
       "  880.979,1487.47 880.979,47.2441 \n",
       "  \"/>\n",
       "<polyline clip-path=\"url(#clip7902)\" style=\"stroke:#000000; stroke-width:2; stroke-opacity:0.1; fill:none\" points=\"\n",
       "  1302.46,1487.47 1302.46,47.2441 \n",
       "  \"/>\n",
       "<polyline clip-path=\"url(#clip7902)\" style=\"stroke:#000000; stroke-width:2; stroke-opacity:0.1; fill:none\" points=\"\n",
       "  1723.95,1487.47 1723.95,47.2441 \n",
       "  \"/>\n",
       "<polyline clip-path=\"url(#clip7902)\" style=\"stroke:#000000; stroke-width:2; stroke-opacity:0.1; fill:none\" points=\"\n",
       "  2145.44,1487.47 2145.44,47.2441 \n",
       "  \"/>\n",
       "<polyline clip-path=\"url(#clip7902)\" style=\"stroke:#000000; stroke-width:2; stroke-opacity:0.1; fill:none\" points=\"\n",
       "  153.898,1446.71 2352.76,1446.71 \n",
       "  \"/>\n",
       "<polyline clip-path=\"url(#clip7902)\" style=\"stroke:#000000; stroke-width:2; stroke-opacity:0.1; fill:none\" points=\"\n",
       "  153.898,1050.36 2352.76,1050.36 \n",
       "  \"/>\n",
       "<polyline clip-path=\"url(#clip7902)\" style=\"stroke:#000000; stroke-width:2; stroke-opacity:0.1; fill:none\" points=\"\n",
       "  153.898,654.014 2352.76,654.014 \n",
       "  \"/>\n",
       "<polyline clip-path=\"url(#clip7902)\" style=\"stroke:#000000; stroke-width:2; stroke-opacity:0.1; fill:none\" points=\"\n",
       "  153.898,257.664 2352.76,257.664 \n",
       "  \"/>\n",
       "<polyline clip-path=\"url(#clip7900)\" style=\"stroke:#000000; stroke-width:4; stroke-opacity:1; fill:none\" points=\"\n",
       "  153.898,1487.47 2352.76,1487.47 \n",
       "  \"/>\n",
       "<polyline clip-path=\"url(#clip7900)\" style=\"stroke:#000000; stroke-width:4; stroke-opacity:1; fill:none\" points=\"\n",
       "  153.898,1487.47 153.898,47.2441 \n",
       "  \"/>\n",
       "<polyline clip-path=\"url(#clip7900)\" style=\"stroke:#000000; stroke-width:4; stroke-opacity:1; fill:none\" points=\"\n",
       "  459.493,1487.47 459.493,1465.87 \n",
       "  \"/>\n",
       "<polyline clip-path=\"url(#clip7900)\" style=\"stroke:#000000; stroke-width:4; stroke-opacity:1; fill:none\" points=\"\n",
       "  880.979,1487.47 880.979,1465.87 \n",
       "  \"/>\n",
       "<polyline clip-path=\"url(#clip7900)\" style=\"stroke:#000000; stroke-width:4; stroke-opacity:1; fill:none\" points=\"\n",
       "  1302.46,1487.47 1302.46,1465.87 \n",
       "  \"/>\n",
       "<polyline clip-path=\"url(#clip7900)\" style=\"stroke:#000000; stroke-width:4; stroke-opacity:1; fill:none\" points=\"\n",
       "  1723.95,1487.47 1723.95,1465.87 \n",
       "  \"/>\n",
       "<polyline clip-path=\"url(#clip7900)\" style=\"stroke:#000000; stroke-width:4; stroke-opacity:1; fill:none\" points=\"\n",
       "  2145.44,1487.47 2145.44,1465.87 \n",
       "  \"/>\n",
       "<polyline clip-path=\"url(#clip7900)\" style=\"stroke:#000000; stroke-width:4; stroke-opacity:1; fill:none\" points=\"\n",
       "  153.898,1446.71 186.881,1446.71 \n",
       "  \"/>\n",
       "<polyline clip-path=\"url(#clip7900)\" style=\"stroke:#000000; stroke-width:4; stroke-opacity:1; fill:none\" points=\"\n",
       "  153.898,1050.36 186.881,1050.36 \n",
       "  \"/>\n",
       "<polyline clip-path=\"url(#clip7900)\" style=\"stroke:#000000; stroke-width:4; stroke-opacity:1; fill:none\" points=\"\n",
       "  153.898,654.014 186.881,654.014 \n",
       "  \"/>\n",
       "<polyline clip-path=\"url(#clip7900)\" style=\"stroke:#000000; stroke-width:4; stroke-opacity:1; fill:none\" points=\"\n",
       "  153.898,257.664 186.881,257.664 \n",
       "  \"/>\n",
       "<g clip-path=\"url(#clip7900)\">\n",
       "<text style=\"fill:#000000; fill-opacity:1; font-family:Arial,Helvetica Neue,Helvetica,sans-serif; font-size:48px; text-anchor:middle;\" transform=\"rotate(0, 459.493, 1541.47)\" x=\"459.493\" y=\"1541.47\">5.0</text>\n",
       "</g>\n",
       "<g clip-path=\"url(#clip7900)\">\n",
       "<text style=\"fill:#000000; fill-opacity:1; font-family:Arial,Helvetica Neue,Helvetica,sans-serif; font-size:48px; text-anchor:middle;\" transform=\"rotate(0, 880.979, 1541.47)\" x=\"880.979\" y=\"1541.47\">7.5</text>\n",
       "</g>\n",
       "<g clip-path=\"url(#clip7900)\">\n",
       "<text style=\"fill:#000000; fill-opacity:1; font-family:Arial,Helvetica Neue,Helvetica,sans-serif; font-size:48px; text-anchor:middle;\" transform=\"rotate(0, 1302.46, 1541.47)\" x=\"1302.46\" y=\"1541.47\">10.0</text>\n",
       "</g>\n",
       "<g clip-path=\"url(#clip7900)\">\n",
       "<text style=\"fill:#000000; fill-opacity:1; font-family:Arial,Helvetica Neue,Helvetica,sans-serif; font-size:48px; text-anchor:middle;\" transform=\"rotate(0, 1723.95, 1541.47)\" x=\"1723.95\" y=\"1541.47\">12.5</text>\n",
       "</g>\n",
       "<g clip-path=\"url(#clip7900)\">\n",
       "<text style=\"fill:#000000; fill-opacity:1; font-family:Arial,Helvetica Neue,Helvetica,sans-serif; font-size:48px; text-anchor:middle;\" transform=\"rotate(0, 2145.44, 1541.47)\" x=\"2145.44\" y=\"1541.47\">15.0</text>\n",
       "</g>\n",
       "<g clip-path=\"url(#clip7900)\">\n",
       "<text style=\"fill:#000000; fill-opacity:1; font-family:Arial,Helvetica Neue,Helvetica,sans-serif; font-size:48px; text-anchor:end;\" transform=\"rotate(0, 129.898, 1464.21)\" x=\"129.898\" y=\"1464.21\">0.0</text>\n",
       "</g>\n",
       "<g clip-path=\"url(#clip7900)\">\n",
       "<text style=\"fill:#000000; fill-opacity:1; font-family:Arial,Helvetica Neue,Helvetica,sans-serif; font-size:48px; text-anchor:end;\" transform=\"rotate(0, 129.898, 1067.86)\" x=\"129.898\" y=\"1067.86\">0.1</text>\n",
       "</g>\n",
       "<g clip-path=\"url(#clip7900)\">\n",
       "<text style=\"fill:#000000; fill-opacity:1; font-family:Arial,Helvetica Neue,Helvetica,sans-serif; font-size:48px; text-anchor:end;\" transform=\"rotate(0, 129.898, 671.514)\" x=\"129.898\" y=\"671.514\">0.2</text>\n",
       "</g>\n",
       "<g clip-path=\"url(#clip7900)\">\n",
       "<text style=\"fill:#000000; fill-opacity:1; font-family:Arial,Helvetica Neue,Helvetica,sans-serif; font-size:48px; text-anchor:end;\" transform=\"rotate(0, 129.898, 275.164)\" x=\"129.898\" y=\"275.164\">0.3</text>\n",
       "</g>\n",
       "<polyline clip-path=\"url(#clip7902)\" style=\"stroke:#009af9; stroke-width:4; stroke-opacity:1; fill:none\" points=\"\n",
       "  216.13,1446.71 226.554,1446.71 236.978,1446.69 247.402,1446.65 257.826,1446.55 268.25,1446.31 278.674,1445.85 289.098,1445.07 299.523,1443.91 309.947,1442.38 \n",
       "  320.371,1440.54 330.795,1438.45 341.219,1436.03 351.643,1433.02 362.067,1429.03 372.491,1423.62 382.915,1416.37 393.339,1406.93 403.763,1395 414.188,1380.38 \n",
       "  424.612,1362.98 435.036,1342.76 445.46,1319.78 455.884,1294.01 466.308,1265.34 476.732,1233.56 487.156,1198.52 497.58,1160.44 508.004,1119.9 518.428,1077.71 \n",
       "  528.853,1034.4 539.277,989.957 549.701,943.633 560.125,894.317 570.549,841.231 580.973,784.618 591.397,725.754 601.821,666.104 612.245,606.354 622.669,546.374 \n",
       "  633.093,486.309 643.518,427.777 653.942,373.972 664.366,328.444 674.79,293.294 685.214,267.884 695.638,248.866 706.062,231.71 716.486,212.946 726.91,191.604 \n",
       "  737.334,168.901 747.758,146.744 758.183,126.564 768.607,109.304 779.031,96.0384 789.455,88.3325 799.879,88.0053 810.303,96.4458 820.727,113.718 831.151,137.94 \n",
       "  841.575,165.689 851.999,193.601 862.423,220.147 872.848,246.153 883.272,273.76 893.696,304.826 904.12,339.95 914.544,378.359 924.968,418.366 935.392,458.089 \n",
       "  945.816,496.171 956.24,532.104 966.664,565.992 977.089,598.158 987.513,629.063 997.937,659.494 1008.36,690.512 1018.78,723.001 1029.21,757.209 1039.63,792.691 \n",
       "  1050.06,828.634 1060.48,864.226 1070.91,898.874 1081.33,932.256 1091.75,964.189 1102.18,994.381 1112.6,1022.28 1123.03,1047.26 1133.45,1068.99 1143.87,1087.73 \n",
       "  1154.3,1104.07 1164.72,1118.53 1175.15,1131.21 1185.57,1141.93 1195.99,1150.74 1206.42,1158.31 1216.84,1165.96 1227.27,1175.02 1237.69,1186.21 1248.11,1199.31 \n",
       "  1258.54,1213.52 1268.96,1228.16 1279.39,1243.04 1289.81,1258.31 1300.24,1274.01 1310.66,1289.73 1321.08,1304.66 1331.51,1317.91 1341.93,1328.91 1352.36,1337.61 \n",
       "  1362.78,1344.39 1373.2,1349.83 1383.63,1354.44 1394.05,1358.69 1404.48,1362.99 1414.9,1367.72 1425.32,1373.08 1435.75,1378.92 1446.17,1384.83 1456.6,1390.3 \n",
       "  1467.02,1394.99 1477.44,1398.81 1487.87,1401.87 1498.29,1404.4 1508.72,1406.64 1519.14,1408.74 1529.57,1410.79 1539.99,1412.83 1550.41,1414.81 1560.84,1416.65 \n",
       "  1571.26,1418.26 1581.69,1419.55 1592.11,1420.48 1602.53,1421.05 1612.96,1421.32 1623.38,1421.39 1633.81,1421.46 1644.23,1421.74 1654.65,1422.42 1665.08,1423.62 \n",
       "  1675.5,1425.31 1685.93,1427.35 1696.35,1429.53 1706.77,1431.63 1717.2,1433.49 1727.62,1435.05 1738.05,1436.27 1748.47,1437.19 1758.9,1437.79 1769.32,1438.09 \n",
       "  1779.74,1438.14 1790.17,1438.05 1800.59,1437.98 1811.02,1438.1 1821.44,1438.53 1831.86,1439.31 1842.29,1440.32 1852.71,1441.39 1863.14,1442.32 1873.56,1442.93 \n",
       "  1883.98,1443.14 1894.41,1443.02 1904.83,1442.69 1915.26,1442.34 1925.68,1442.11 1936.1,1442.08 1946.53,1442.28 1956.95,1442.64 1967.38,1443.08 1977.8,1443.49 \n",
       "  1988.23,1443.83 1998.65,1444.09 2009.07,1444.29 2019.5,1444.48 2029.92,1444.71 2040.35,1444.97 2050.77,1445.25 2061.19,1445.48 2071.62,1445.61 2082.04,1445.61 \n",
       "  2092.47,1445.49 2102.89,1445.28 2113.31,1445 2123.74,1444.69 2134.16,1444.37 2144.59,1444.11 2155.01,1443.98 2165.43,1444.05 2175.86,1444.35 2186.28,1444.81 \n",
       "  2196.71,1445.34 2207.13,1445.82 2217.56,1446.2 2227.98,1446.45 2238.4,1446.59 2248.83,1446.67 2259.25,1446.7 2269.68,1446.71 2280.1,1446.71 2290.52,1446.71 \n",
       "  \n",
       "  \"/>\n",
       "<path clip-path=\"url(#clip7900)\" d=\"\n",
       "M1989.93 251.724 L2280.76 251.724 L2280.76 130.764 L1989.93 130.764  Z\n",
       "  \" fill=\"#ffffff\" fill-rule=\"evenodd\" fill-opacity=\"1\"/>\n",
       "<polyline clip-path=\"url(#clip7900)\" style=\"stroke:#000000; stroke-width:4; stroke-opacity:1; fill:none\" points=\"\n",
       "  1989.93,251.724 2280.76,251.724 2280.76,130.764 1989.93,130.764 1989.93,251.724 \n",
       "  \"/>\n",
       "<polyline clip-path=\"url(#clip7900)\" style=\"stroke:#009af9; stroke-width:4; stroke-opacity:1; fill:none\" points=\"\n",
       "  2013.93,191.244 2157.93,191.244 \n",
       "  \"/>\n",
       "<g clip-path=\"url(#clip7900)\">\n",
       "<text style=\"fill:#000000; fill-opacity:1; font-family:Arial,Helvetica Neue,Helvetica,sans-serif; font-size:48px; text-anchor:start;\" transform=\"rotate(0, 2181.93, 208.744)\" x=\"2181.93\" y=\"208.744\">y1</text>\n",
       "</g>\n",
       "</svg>\n"
      ],
      "image/svg+xml": [
       "<?xml version=\"1.0\" encoding=\"utf-8\"?>\n",
       "<svg xmlns=\"http://www.w3.org/2000/svg\" xmlns:xlink=\"http://www.w3.org/1999/xlink\" width=\"600\" height=\"400\" viewBox=\"0 0 2400 1600\">\n",
       "<defs>\n",
       "  <clipPath id=\"clip7600\">\n",
       "    <rect x=\"0\" y=\"0\" width=\"2400\" height=\"1600\"/>\n",
       "  </clipPath>\n",
       "</defs>\n",
       "<path clip-path=\"url(#clip7600)\" d=\"\n",
       "M0 1600 L2400 1600 L2400 0 L0 0  Z\n",
       "  \" fill=\"#ffffff\" fill-rule=\"evenodd\" fill-opacity=\"1\"/>\n",
       "<defs>\n",
       "  <clipPath id=\"clip7601\">\n",
       "    <rect x=\"480\" y=\"0\" width=\"1681\" height=\"1600\"/>\n",
       "  </clipPath>\n",
       "</defs>\n",
       "<path clip-path=\"url(#clip7600)\" d=\"\n",
       "M153.898 1487.47 L2352.76 1487.47 L2352.76 47.2441 L153.898 47.2441  Z\n",
       "  \" fill=\"#ffffff\" fill-rule=\"evenodd\" fill-opacity=\"1\"/>\n",
       "<defs>\n",
       "  <clipPath id=\"clip7602\">\n",
       "    <rect x=\"153\" y=\"47\" width=\"2200\" height=\"1441\"/>\n",
       "  </clipPath>\n",
       "</defs>\n",
       "<polyline clip-path=\"url(#clip7602)\" style=\"stroke:#000000; stroke-width:2; stroke-opacity:0.1; fill:none\" points=\"\n",
       "  459.493,1487.47 459.493,47.2441 \n",
       "  \"/>\n",
       "<polyline clip-path=\"url(#clip7602)\" style=\"stroke:#000000; stroke-width:2; stroke-opacity:0.1; fill:none\" points=\"\n",
       "  880.979,1487.47 880.979,47.2441 \n",
       "  \"/>\n",
       "<polyline clip-path=\"url(#clip7602)\" style=\"stroke:#000000; stroke-width:2; stroke-opacity:0.1; fill:none\" points=\"\n",
       "  1302.46,1487.47 1302.46,47.2441 \n",
       "  \"/>\n",
       "<polyline clip-path=\"url(#clip7602)\" style=\"stroke:#000000; stroke-width:2; stroke-opacity:0.1; fill:none\" points=\"\n",
       "  1723.95,1487.47 1723.95,47.2441 \n",
       "  \"/>\n",
       "<polyline clip-path=\"url(#clip7602)\" style=\"stroke:#000000; stroke-width:2; stroke-opacity:0.1; fill:none\" points=\"\n",
       "  2145.44,1487.47 2145.44,47.2441 \n",
       "  \"/>\n",
       "<polyline clip-path=\"url(#clip7602)\" style=\"stroke:#000000; stroke-width:2; stroke-opacity:0.1; fill:none\" points=\"\n",
       "  153.898,1446.71 2352.76,1446.71 \n",
       "  \"/>\n",
       "<polyline clip-path=\"url(#clip7602)\" style=\"stroke:#000000; stroke-width:2; stroke-opacity:0.1; fill:none\" points=\"\n",
       "  153.898,1050.36 2352.76,1050.36 \n",
       "  \"/>\n",
       "<polyline clip-path=\"url(#clip7602)\" style=\"stroke:#000000; stroke-width:2; stroke-opacity:0.1; fill:none\" points=\"\n",
       "  153.898,654.014 2352.76,654.014 \n",
       "  \"/>\n",
       "<polyline clip-path=\"url(#clip7602)\" style=\"stroke:#000000; stroke-width:2; stroke-opacity:0.1; fill:none\" points=\"\n",
       "  153.898,257.664 2352.76,257.664 \n",
       "  \"/>\n",
       "<polyline clip-path=\"url(#clip7600)\" style=\"stroke:#000000; stroke-width:4; stroke-opacity:1; fill:none\" points=\"\n",
       "  153.898,1487.47 2352.76,1487.47 \n",
       "  \"/>\n",
       "<polyline clip-path=\"url(#clip7600)\" style=\"stroke:#000000; stroke-width:4; stroke-opacity:1; fill:none\" points=\"\n",
       "  153.898,1487.47 153.898,47.2441 \n",
       "  \"/>\n",
       "<polyline clip-path=\"url(#clip7600)\" style=\"stroke:#000000; stroke-width:4; stroke-opacity:1; fill:none\" points=\"\n",
       "  459.493,1487.47 459.493,1465.87 \n",
       "  \"/>\n",
       "<polyline clip-path=\"url(#clip7600)\" style=\"stroke:#000000; stroke-width:4; stroke-opacity:1; fill:none\" points=\"\n",
       "  880.979,1487.47 880.979,1465.87 \n",
       "  \"/>\n",
       "<polyline clip-path=\"url(#clip7600)\" style=\"stroke:#000000; stroke-width:4; stroke-opacity:1; fill:none\" points=\"\n",
       "  1302.46,1487.47 1302.46,1465.87 \n",
       "  \"/>\n",
       "<polyline clip-path=\"url(#clip7600)\" style=\"stroke:#000000; stroke-width:4; stroke-opacity:1; fill:none\" points=\"\n",
       "  1723.95,1487.47 1723.95,1465.87 \n",
       "  \"/>\n",
       "<polyline clip-path=\"url(#clip7600)\" style=\"stroke:#000000; stroke-width:4; stroke-opacity:1; fill:none\" points=\"\n",
       "  2145.44,1487.47 2145.44,1465.87 \n",
       "  \"/>\n",
       "<polyline clip-path=\"url(#clip7600)\" style=\"stroke:#000000; stroke-width:4; stroke-opacity:1; fill:none\" points=\"\n",
       "  153.898,1446.71 186.881,1446.71 \n",
       "  \"/>\n",
       "<polyline clip-path=\"url(#clip7600)\" style=\"stroke:#000000; stroke-width:4; stroke-opacity:1; fill:none\" points=\"\n",
       "  153.898,1050.36 186.881,1050.36 \n",
       "  \"/>\n",
       "<polyline clip-path=\"url(#clip7600)\" style=\"stroke:#000000; stroke-width:4; stroke-opacity:1; fill:none\" points=\"\n",
       "  153.898,654.014 186.881,654.014 \n",
       "  \"/>\n",
       "<polyline clip-path=\"url(#clip7600)\" style=\"stroke:#000000; stroke-width:4; stroke-opacity:1; fill:none\" points=\"\n",
       "  153.898,257.664 186.881,257.664 \n",
       "  \"/>\n",
       "<g clip-path=\"url(#clip7600)\">\n",
       "<text style=\"fill:#000000; fill-opacity:1; font-family:Arial,Helvetica Neue,Helvetica,sans-serif; font-size:48px; text-anchor:middle;\" transform=\"rotate(0, 459.493, 1541.47)\" x=\"459.493\" y=\"1541.47\">5.0</text>\n",
       "</g>\n",
       "<g clip-path=\"url(#clip7600)\">\n",
       "<text style=\"fill:#000000; fill-opacity:1; font-family:Arial,Helvetica Neue,Helvetica,sans-serif; font-size:48px; text-anchor:middle;\" transform=\"rotate(0, 880.979, 1541.47)\" x=\"880.979\" y=\"1541.47\">7.5</text>\n",
       "</g>\n",
       "<g clip-path=\"url(#clip7600)\">\n",
       "<text style=\"fill:#000000; fill-opacity:1; font-family:Arial,Helvetica Neue,Helvetica,sans-serif; font-size:48px; text-anchor:middle;\" transform=\"rotate(0, 1302.46, 1541.47)\" x=\"1302.46\" y=\"1541.47\">10.0</text>\n",
       "</g>\n",
       "<g clip-path=\"url(#clip7600)\">\n",
       "<text style=\"fill:#000000; fill-opacity:1; font-family:Arial,Helvetica Neue,Helvetica,sans-serif; font-size:48px; text-anchor:middle;\" transform=\"rotate(0, 1723.95, 1541.47)\" x=\"1723.95\" y=\"1541.47\">12.5</text>\n",
       "</g>\n",
       "<g clip-path=\"url(#clip7600)\">\n",
       "<text style=\"fill:#000000; fill-opacity:1; font-family:Arial,Helvetica Neue,Helvetica,sans-serif; font-size:48px; text-anchor:middle;\" transform=\"rotate(0, 2145.44, 1541.47)\" x=\"2145.44\" y=\"1541.47\">15.0</text>\n",
       "</g>\n",
       "<g clip-path=\"url(#clip7600)\">\n",
       "<text style=\"fill:#000000; fill-opacity:1; font-family:Arial,Helvetica Neue,Helvetica,sans-serif; font-size:48px; text-anchor:end;\" transform=\"rotate(0, 129.898, 1464.21)\" x=\"129.898\" y=\"1464.21\">0.0</text>\n",
       "</g>\n",
       "<g clip-path=\"url(#clip7600)\">\n",
       "<text style=\"fill:#000000; fill-opacity:1; font-family:Arial,Helvetica Neue,Helvetica,sans-serif; font-size:48px; text-anchor:end;\" transform=\"rotate(0, 129.898, 1067.86)\" x=\"129.898\" y=\"1067.86\">0.1</text>\n",
       "</g>\n",
       "<g clip-path=\"url(#clip7600)\">\n",
       "<text style=\"fill:#000000; fill-opacity:1; font-family:Arial,Helvetica Neue,Helvetica,sans-serif; font-size:48px; text-anchor:end;\" transform=\"rotate(0, 129.898, 671.514)\" x=\"129.898\" y=\"671.514\">0.2</text>\n",
       "</g>\n",
       "<g clip-path=\"url(#clip7600)\">\n",
       "<text style=\"fill:#000000; fill-opacity:1; font-family:Arial,Helvetica Neue,Helvetica,sans-serif; font-size:48px; text-anchor:end;\" transform=\"rotate(0, 129.898, 275.164)\" x=\"129.898\" y=\"275.164\">0.3</text>\n",
       "</g>\n",
       "<polyline clip-path=\"url(#clip7602)\" style=\"stroke:#009af9; stroke-width:4; stroke-opacity:1; fill:none\" points=\"\n",
       "  216.13,1446.71 226.554,1446.71 236.978,1446.69 247.402,1446.65 257.826,1446.55 268.25,1446.31 278.674,1445.85 289.098,1445.07 299.523,1443.91 309.947,1442.38 \n",
       "  320.371,1440.54 330.795,1438.45 341.219,1436.03 351.643,1433.02 362.067,1429.03 372.491,1423.62 382.915,1416.37 393.339,1406.93 403.763,1395 414.188,1380.38 \n",
       "  424.612,1362.98 435.036,1342.76 445.46,1319.78 455.884,1294.01 466.308,1265.34 476.732,1233.56 487.156,1198.52 497.58,1160.44 508.004,1119.9 518.428,1077.71 \n",
       "  528.853,1034.4 539.277,989.957 549.701,943.633 560.125,894.317 570.549,841.231 580.973,784.618 591.397,725.754 601.821,666.104 612.245,606.354 622.669,546.374 \n",
       "  633.093,486.309 643.518,427.777 653.942,373.972 664.366,328.444 674.79,293.294 685.214,267.884 695.638,248.866 706.062,231.71 716.486,212.946 726.91,191.604 \n",
       "  737.334,168.901 747.758,146.744 758.183,126.564 768.607,109.304 779.031,96.0384 789.455,88.3325 799.879,88.0053 810.303,96.4458 820.727,113.718 831.151,137.94 \n",
       "  841.575,165.689 851.999,193.601 862.423,220.147 872.848,246.153 883.272,273.76 893.696,304.826 904.12,339.95 914.544,378.359 924.968,418.366 935.392,458.089 \n",
       "  945.816,496.171 956.24,532.104 966.664,565.992 977.089,598.158 987.513,629.063 997.937,659.494 1008.36,690.512 1018.78,723.001 1029.21,757.209 1039.63,792.691 \n",
       "  1050.06,828.634 1060.48,864.226 1070.91,898.874 1081.33,932.256 1091.75,964.189 1102.18,994.381 1112.6,1022.28 1123.03,1047.26 1133.45,1068.99 1143.87,1087.73 \n",
       "  1154.3,1104.07 1164.72,1118.53 1175.15,1131.21 1185.57,1141.93 1195.99,1150.74 1206.42,1158.31 1216.84,1165.96 1227.27,1175.02 1237.69,1186.21 1248.11,1199.31 \n",
       "  1258.54,1213.52 1268.96,1228.16 1279.39,1243.04 1289.81,1258.31 1300.24,1274.01 1310.66,1289.73 1321.08,1304.66 1331.51,1317.91 1341.93,1328.91 1352.36,1337.61 \n",
       "  1362.78,1344.39 1373.2,1349.83 1383.63,1354.44 1394.05,1358.69 1404.48,1362.99 1414.9,1367.72 1425.32,1373.08 1435.75,1378.92 1446.17,1384.83 1456.6,1390.3 \n",
       "  1467.02,1394.99 1477.44,1398.81 1487.87,1401.87 1498.29,1404.4 1508.72,1406.64 1519.14,1408.74 1529.57,1410.79 1539.99,1412.83 1550.41,1414.81 1560.84,1416.65 \n",
       "  1571.26,1418.26 1581.69,1419.55 1592.11,1420.48 1602.53,1421.05 1612.96,1421.32 1623.38,1421.39 1633.81,1421.46 1644.23,1421.74 1654.65,1422.42 1665.08,1423.62 \n",
       "  1675.5,1425.31 1685.93,1427.35 1696.35,1429.53 1706.77,1431.63 1717.2,1433.49 1727.62,1435.05 1738.05,1436.27 1748.47,1437.19 1758.9,1437.79 1769.32,1438.09 \n",
       "  1779.74,1438.14 1790.17,1438.05 1800.59,1437.98 1811.02,1438.1 1821.44,1438.53 1831.86,1439.31 1842.29,1440.32 1852.71,1441.39 1863.14,1442.32 1873.56,1442.93 \n",
       "  1883.98,1443.14 1894.41,1443.02 1904.83,1442.69 1915.26,1442.34 1925.68,1442.11 1936.1,1442.08 1946.53,1442.28 1956.95,1442.64 1967.38,1443.08 1977.8,1443.49 \n",
       "  1988.23,1443.83 1998.65,1444.09 2009.07,1444.29 2019.5,1444.48 2029.92,1444.71 2040.35,1444.97 2050.77,1445.25 2061.19,1445.48 2071.62,1445.61 2082.04,1445.61 \n",
       "  2092.47,1445.49 2102.89,1445.28 2113.31,1445 2123.74,1444.69 2134.16,1444.37 2144.59,1444.11 2155.01,1443.98 2165.43,1444.05 2175.86,1444.35 2186.28,1444.81 \n",
       "  2196.71,1445.34 2207.13,1445.82 2217.56,1446.2 2227.98,1446.45 2238.4,1446.59 2248.83,1446.67 2259.25,1446.7 2269.68,1446.71 2280.1,1446.71 2290.52,1446.71 \n",
       "  \n",
       "  \"/>\n",
       "<path clip-path=\"url(#clip7600)\" d=\"\n",
       "M1989.93 251.724 L2280.76 251.724 L2280.76 130.764 L1989.93 130.764  Z\n",
       "  \" fill=\"#ffffff\" fill-rule=\"evenodd\" fill-opacity=\"1\"/>\n",
       "<polyline clip-path=\"url(#clip7600)\" style=\"stroke:#000000; stroke-width:4; stroke-opacity:1; fill:none\" points=\"\n",
       "  1989.93,251.724 2280.76,251.724 2280.76,130.764 1989.93,130.764 1989.93,251.724 \n",
       "  \"/>\n",
       "<polyline clip-path=\"url(#clip7600)\" style=\"stroke:#009af9; stroke-width:4; stroke-opacity:1; fill:none\" points=\"\n",
       "  2013.93,191.244 2157.93,191.244 \n",
       "  \"/>\n",
       "<g clip-path=\"url(#clip7600)\">\n",
       "<text style=\"fill:#000000; fill-opacity:1; font-family:Arial,Helvetica Neue,Helvetica,sans-serif; font-size:48px; text-anchor:start;\" transform=\"rotate(0, 2181.93, 208.744)\" x=\"2181.93\" y=\"208.744\">y1</text>\n",
       "</g>\n",
       "</svg>\n"
      ]
     },
     "metadata": {},
     "execution_count": 8
    }
   ],
   "cell_type": "code",
   "source": [
    "density(samples[:sigma])"
   ],
   "metadata": {},
   "execution_count": 8
  },
  {
   "outputs": [],
   "cell_type": "markdown",
   "source": [
    "End of `clip-21-23.jl`"
   ],
   "metadata": {}
  },
  {
   "outputs": [],
   "cell_type": "markdown",
   "source": [
    "*This notebook was generated using [Literate.jl](https://github.com/fredrikekre/Literate.jl).*"
   ],
   "metadata": {}
  }
 ],
 "nbformat_minor": 3,
 "metadata": {
  "language_info": {
   "file_extension": ".jl",
   "mimetype": "application/julia",
   "name": "julia",
   "version": "1.2.0"
  },
  "kernelspec": {
   "name": "julia-1.2",
   "display_name": "Julia 1.2.0",
   "language": "julia"
  }
 },
 "nbformat": 4
}
