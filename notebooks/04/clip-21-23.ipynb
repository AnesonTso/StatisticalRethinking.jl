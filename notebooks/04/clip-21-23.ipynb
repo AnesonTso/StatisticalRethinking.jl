{
 "cells": [
  {
   "outputs": [],
   "cell_type": "markdown",
   "source": [
    "Load Julia packages (libraries) needed  for the snippets in chapter 0"
   ],
   "metadata": {}
  },
  {
   "outputs": [],
   "cell_type": "code",
   "source": [
    "using StatisticalRethinking, CmdStan, StanMCMCChain\n",
    "gr(size=(500,500));"
   ],
   "metadata": {},
   "execution_count": 1
  },
  {
   "outputs": [],
   "cell_type": "markdown",
   "source": [
    "CmdStan uses a tmp directory to store the output of cmdstan"
   ],
   "metadata": {}
  },
  {
   "outputs": [],
   "cell_type": "code",
   "source": [
    "ProjDir = rel_path(\"..\", \"scripts\", \"04\")\n",
    "cd(ProjDir)"
   ],
   "metadata": {},
   "execution_count": 2
  },
  {
   "outputs": [],
   "cell_type": "markdown",
   "source": [
    "CmdStan uses a tmp directory to store the output of cmdstan"
   ],
   "metadata": {}
  },
  {
   "outputs": [],
   "cell_type": "code",
   "source": [
    "ProjDir = rel_path(\"..\", \"scripts\", \"04\")\n",
    "cd(ProjDir)"
   ],
   "metadata": {},
   "execution_count": 3
  },
  {
   "outputs": [
    {
     "output_type": "execute_result",
     "data": {
      "text/plain": "5×4 DataFrame\n│ Row │ height   │ weight   │ age      │ male   │\n│     │ \u001b[90mFloat64⍰\u001b[39m │ \u001b[90mFloat64⍰\u001b[39m │ \u001b[90mFloat64⍰\u001b[39m │ \u001b[90mInt64⍰\u001b[39m │\n├─────┼──────────┼──────────┼──────────┼────────┤\n│ 1   │ 151.765  │ 47.8256  │ 63.0     │ 1      │\n│ 2   │ 139.7    │ 36.4858  │ 63.0     │ 0      │\n│ 3   │ 136.525  │ 31.8648  │ 65.0     │ 0      │\n│ 4   │ 156.845  │ 53.0419  │ 41.0     │ 1      │\n│ 5   │ 145.415  │ 41.2769  │ 51.0     │ 0      │",
      "text/html": [
       "<table class=\"data-frame\"><thead><tr><th></th><th>height</th><th>weight</th><th>age</th><th>male</th></tr><tr><th></th><th>Float64⍰</th><th>Float64⍰</th><th>Float64⍰</th><th>Int64⍰</th></tr></thead><tbody><p>5 rows × 4 columns</p><tr><th>1</th><td>151.765</td><td>47.8256</td><td>63.0</td><td>1</td></tr><tr><th>2</th><td>139.7</td><td>36.4858</td><td>63.0</td><td>0</td></tr><tr><th>3</th><td>136.525</td><td>31.8648</td><td>65.0</td><td>0</td></tr><tr><th>4</th><td>156.845</td><td>53.0419</td><td>41.0</td><td>1</td></tr><tr><th>5</th><td>145.415</td><td>41.2769</td><td>51.0</td><td>0</td></tr></tbody></table>"
      ]
     },
     "metadata": {},
     "execution_count": 4
    }
   ],
   "cell_type": "code",
   "source": [
    "howell1 = CSV.read(rel_path(\"..\", \"data\", \"Howell1.csv\"), delim=';')\n",
    "df = convert(DataFrame, howell1);\n",
    "df2 = filter(row -> row[:age] >= 18, df);\n",
    "first(df2, 5)"
   ],
   "metadata": {},
   "execution_count": 4
  },
  {
   "outputs": [],
   "cell_type": "markdown",
   "source": [
    "### Snippet 4.21"
   ],
   "metadata": {}
  },
  {
   "outputs": [],
   "cell_type": "markdown",
   "source": [
    "Sample 20 random heights"
   ],
   "metadata": {}
  },
  {
   "outputs": [],
   "cell_type": "code",
   "source": [
    "n = size(df2, 1)\n",
    "selected_ind = sample(1:n, 20, replace=false);\n",
    "df3 = df2[selected_ind, :];"
   ],
   "metadata": {},
   "execution_count": 5
  },
  {
   "outputs": [],
   "cell_type": "markdown",
   "source": [
    "### Snippet 4.22"
   ],
   "metadata": {}
  },
  {
   "outputs": [],
   "cell_type": "markdown",
   "source": [
    "Generate approximate probabilities"
   ],
   "metadata": {}
  },
  {
   "outputs": [
    {
     "output_type": "execute_result",
     "data": {
      "text/plain": "10×5 DataFrame\n│ Row │ mu      │ sigma   │ ll       │ prod     │ prob        │\n│     │ \u001b[90mFloat64\u001b[39m │ \u001b[90mFloat64\u001b[39m │ \u001b[90mFloat64\u001b[39m  │ \u001b[90mFloat64\u001b[39m  │ \u001b[90mFloat64\u001b[39m     │\n├─────┼─────────┼─────────┼──────────┼──────────┼─────────────┤\n│ 1   │ 140.0   │ 4.0     │ -205.01  │ -214.642 │ 1.87017e-62 │\n│ 2   │ 140.151 │ 4.0     │ -202.236 │ -211.853 │ 3.04061e-61 │\n│ 3   │ 140.302 │ 4.0     │ -199.49  │ -209.093 │ 4.80482e-60 │\n│ 4   │ 140.452 │ 4.0     │ -196.772 │ -206.361 │ 7.37957e-59 │\n│ 5   │ 140.603 │ 4.0     │ -194.083 │ -203.658 │ 1.1016e-57  │\n│ 6   │ 140.754 │ 4.0     │ -191.422 │ -200.983 │ 1.59828e-56 │\n│ 7   │ 140.905 │ 4.0     │ -188.79  │ -198.337 │ 2.25382e-55 │\n│ 8   │ 141.055 │ 4.0     │ -186.186 │ -195.719 │ 3.08905e-54 │\n│ 9   │ 141.206 │ 4.0     │ -183.611 │ -193.13  │ 4.11497e-53 │\n│ 10  │ 141.357 │ 4.0     │ -181.064 │ -190.569 │ 5.3278e-52  │",
      "text/html": [
       "<table class=\"data-frame\"><thead><tr><th></th><th>mu</th><th>sigma</th><th>ll</th><th>prod</th><th>prob</th></tr><tr><th></th><th>Float64</th><th>Float64</th><th>Float64</th><th>Float64</th><th>Float64</th></tr></thead><tbody><p>10 rows × 5 columns</p><tr><th>1</th><td>140.0</td><td>4.0</td><td>-205.01</td><td>-214.642</td><td>1.87017e-62</td></tr><tr><th>2</th><td>140.151</td><td>4.0</td><td>-202.236</td><td>-211.853</td><td>3.04061e-61</td></tr><tr><th>3</th><td>140.302</td><td>4.0</td><td>-199.49</td><td>-209.093</td><td>4.80482e-60</td></tr><tr><th>4</th><td>140.452</td><td>4.0</td><td>-196.772</td><td>-206.361</td><td>7.37957e-59</td></tr><tr><th>5</th><td>140.603</td><td>4.0</td><td>-194.083</td><td>-203.658</td><td>1.1016e-57</td></tr><tr><th>6</th><td>140.754</td><td>4.0</td><td>-191.422</td><td>-200.983</td><td>1.59828e-56</td></tr><tr><th>7</th><td>140.905</td><td>4.0</td><td>-188.79</td><td>-198.337</td><td>2.25382e-55</td></tr><tr><th>8</th><td>141.055</td><td>4.0</td><td>-186.186</td><td>-195.719</td><td>3.08905e-54</td></tr><tr><th>9</th><td>141.206</td><td>4.0</td><td>-183.611</td><td>-193.13</td><td>4.11497e-53</td></tr><tr><th>10</th><td>141.357</td><td>4.0</td><td>-181.064</td><td>-190.569</td><td>5.3278e-52</td></tr></tbody></table>"
      ]
     },
     "metadata": {},
     "execution_count": 6
    }
   ],
   "cell_type": "code",
   "source": [
    "struct Post\n",
    "  mu::Float64\n",
    "  sigma::Float64\n",
    "  ll:: Float64\n",
    "  prod::Float64\n",
    "  prob::Float64\n",
    "end\n",
    "\n",
    "mu_list = repeat(range(140, 170, length=200), 200);\n",
    "sigma_list = repeat(range(4, 20, length=200), inner=200);\n",
    "\n",
    "ll = zeros(40000);\n",
    "for i in 1:40000\n",
    "    d1 = Normal(mu_list[i], sigma_list[i])\n",
    "    ll[i] = sum(log.(pdf.(d1, df3[:height])))\n",
    "end\n",
    "\n",
    "d2 = Normal(178.0, 20.0)\n",
    "d3 = Uniform(0, 50)\n",
    "prod = ll + log.(pdf.(d2, mu_list)) + log.(pdf.(d3, sigma_list))\n",
    "prob = exp.(prod .- maximum(prod))\n",
    "post = DataFrame(mu=mu_list, sigma=sigma_list, ll=ll, prod=prod, prob=prob)\n",
    "first(post, 10)"
   ],
   "metadata": {},
   "execution_count": 6
  },
  {
   "outputs": [],
   "cell_type": "markdown",
   "source": [
    "Sample post"
   ],
   "metadata": {}
  },
  {
   "outputs": [
    {
     "output_type": "execute_result",
     "data": {
      "text/plain": "10000×5 DataFrame\n│ Row   │ mu      │ sigma   │ ll       │ prod     │ prob      │\n│       │ \u001b[90mFloat64\u001b[39m │ \u001b[90mFloat64\u001b[39m │ \u001b[90mFloat64\u001b[39m  │ \u001b[90mFloat64\u001b[39m  │ \u001b[90mFloat64\u001b[39m   │\n├───────┼─────────┼─────────┼──────────┼──────────┼───────────┤\n│ 1     │ 154.925 │ 5.60804 │ -64.084  │ -72.5763 │ 0.933389  │\n│ 2     │ 154.925 │ 6.97487 │ -64.4792 │ -72.9715 │ 0.628647  │\n│ 3     │ 155.226 │ 7.53769 │ -65.0179 │ -73.4929 │ 0.373235  │\n│ 4     │ 157.186 │ 6.09045 │ -65.5604 │ -73.9286 │ 0.2414    │\n│ 5     │ 154.623 │ 8.26131 │ -65.7834 │ -74.2932 │ 0.167652  │\n│ 6     │ 155.075 │ 4.96482 │ -64.7681 │ -73.2517 │ 0.475025  │\n│ 7     │ 156.884 │ 5.04523 │ -66.3162 │ -74.7003 │ 0.11159   │\n⋮\n│ 9993  │ 155.075 │ 7.13568 │ -64.6238 │ -73.1074 │ 0.548764  │\n│ 9994  │ 153.417 │ 4.96482 │ -65.5102 │ -74.0923 │ 0.204959  │\n│ 9995  │ 158.241 │ 8.74372 │ -67.9103 │ -76.2251 │ 0.0242894 │\n│ 9996  │ 153.568 │ 8.50251 │ -66.2747 │ -74.8475 │ 0.0963088 │\n│ 9997  │ 156.131 │ 7.77889 │ -65.5301 │ -73.9546 │ 0.235206  │\n│ 9998  │ 155.678 │ 6.17085 │ -64.2426 │ -72.6921 │ 0.831279  │\n│ 9999  │ 154.925 │ 4.64322 │ -65.456  │ -73.9482 │ 0.236713  │\n│ 10000 │ 156.583 │ 5.76884 │ -64.9853 │ -73.3853 │ 0.415612  │",
      "text/html": [
       "<table class=\"data-frame\"><thead><tr><th></th><th>mu</th><th>sigma</th><th>ll</th><th>prod</th><th>prob</th></tr><tr><th></th><th>Float64</th><th>Float64</th><th>Float64</th><th>Float64</th><th>Float64</th></tr></thead><tbody><p>10,000 rows × 5 columns</p><tr><th>1</th><td>154.925</td><td>5.60804</td><td>-64.084</td><td>-72.5763</td><td>0.933389</td></tr><tr><th>2</th><td>154.925</td><td>6.97487</td><td>-64.4792</td><td>-72.9715</td><td>0.628647</td></tr><tr><th>3</th><td>155.226</td><td>7.53769</td><td>-65.0179</td><td>-73.4929</td><td>0.373235</td></tr><tr><th>4</th><td>157.186</td><td>6.09045</td><td>-65.5604</td><td>-73.9286</td><td>0.2414</td></tr><tr><th>5</th><td>154.623</td><td>8.26131</td><td>-65.7834</td><td>-74.2932</td><td>0.167652</td></tr><tr><th>6</th><td>155.075</td><td>4.96482</td><td>-64.7681</td><td>-73.2517</td><td>0.475025</td></tr><tr><th>7</th><td>156.884</td><td>5.04523</td><td>-66.3162</td><td>-74.7003</td><td>0.11159</td></tr><tr><th>8</th><td>153.869</td><td>5.76884</td><td>-64.2867</td><td>-72.8413</td><td>0.716107</td></tr><tr><th>9</th><td>154.472</td><td>4.48241</td><td>-65.9913</td><td>-74.5099</td><td>0.134991</td></tr><tr><th>10</th><td>157.186</td><td>6.25126</td><td>-65.5206</td><td>-73.8888</td><td>0.25121</td></tr><tr><th>11</th><td>155.678</td><td>6.17085</td><td>-64.2426</td><td>-72.6921</td><td>0.831279</td></tr><tr><th>12</th><td>154.322</td><td>7.21608</td><td>-64.7228</td><td>-73.2503</td><td>0.475697</td></tr><tr><th>13</th><td>155.377</td><td>4.56281</td><td>-65.8419</td><td>-74.3084</td><td>0.165126</td></tr><tr><th>14</th><td>155.075</td><td>5.52764</td><td>-64.1439</td><td>-72.6276</td><td>0.886729</td></tr><tr><th>15</th><td>153.417</td><td>5.60804</td><td>-64.685</td><td>-73.2671</td><td>0.467785</td></tr><tr><th>16</th><td>152.06</td><td>7.05528</td><td>-66.0463</td><td>-74.7141</td><td>0.11006</td></tr><tr><th>17</th><td>152.663</td><td>6.17085</td><td>-65.2354</td><td>-73.8645</td><td>0.257392</td></tr><tr><th>18</th><td>157.487</td><td>6.73367</td><td>-65.8963</td><td>-74.249</td><td>0.175235</td></tr><tr><th>19</th><td>153.869</td><td>7.77889</td><td>-65.3789</td><td>-73.9335</td><td>0.240229</td></tr><tr><th>20</th><td>154.774</td><td>6.73367</td><td>-64.3009</td><td>-72.8019</td><td>0.744821</td></tr><tr><th>21</th><td>156.281</td><td>7.77889</td><td>-65.6003</td><td>-74.0166</td><td>0.221076</td></tr><tr><th>22</th><td>154.623</td><td>7.61809</td><td>-65.0727</td><td>-73.5825</td><td>0.341251</td></tr><tr><th>23</th><td>153.417</td><td>6.65327</td><td>-64.6804</td><td>-73.2625</td><td>0.46995</td></tr><tr><th>24</th><td>157.035</td><td>7.05528</td><td>-65.5465</td><td>-73.9226</td><td>0.242855</td></tr><tr><th>&vellip;</th><td>&vellip;</td><td>&vellip;</td><td>&vellip;</td><td>&vellip;</td><td>&vellip;</td></tr></tbody></table>"
      ]
     },
     "metadata": {},
     "execution_count": 7
    }
   ],
   "cell_type": "code",
   "source": [
    "samples = post[sample(1:size(post, 1), Weights(post[:prob]), 10000, replace=true), :]"
   ],
   "metadata": {},
   "execution_count": 7
  },
  {
   "outputs": [],
   "cell_type": "markdown",
   "source": [
    "### Snippet 4.23"
   ],
   "metadata": {}
  },
  {
   "outputs": [],
   "cell_type": "markdown",
   "source": [
    "Density of sigma"
   ],
   "metadata": {}
  },
  {
   "outputs": [
    {
     "output_type": "execute_result",
     "data": {
      "text/plain": "Plot{Plots.GRBackend() n=1}",
      "image/png": "[encoded data removed]",
      "text/html": [
       "<?xml version=\"1.0\" encoding=\"utf-8\"?>\n",
       "<svg xmlns=\"http://www.w3.org/2000/svg\" xmlns:xlink=\"http://www.w3.org/1999/xlink\" width=\"500\" height=\"500\" viewBox=\"0 0 2000 2000\">\n",
       "<defs>\n",
       "  <clipPath id=\"clip3900\">\n",
       "    <rect x=\"0\" y=\"0\" width=\"2000\" height=\"2000\"/>\n",
       "  </clipPath>\n",
       "</defs>\n",
       "<polygon clip-path=\"url(#clip3900)\" points=\"\n",
       "0,2000 2000,2000 2000,0 0,0 \n",
       "  \" fill=\"#ffffff\" fill-rule=\"evenodd\" fill-opacity=\"1\"/>\n",
       "<defs>\n",
       "  <clipPath id=\"clip3901\">\n",
       "    <rect x=\"400\" y=\"200\" width=\"1401\" height=\"1401\"/>\n",
       "  </clipPath>\n",
       "</defs>\n",
       "<polygon clip-path=\"url(#clip3900)\" points=\"\n",
       "161.394,1886.71 1921.26,1886.71 1921.26,47.2441 161.394,47.2441 \n",
       "  \" fill=\"#ffffff\" fill-rule=\"evenodd\" fill-opacity=\"1\"/>\n",
       "<defs>\n",
       "  <clipPath id=\"clip3902\">\n",
       "    <rect x=\"161\" y=\"47\" width=\"1761\" height=\"1840\"/>\n",
       "  </clipPath>\n",
       "</defs>\n",
       "<polyline clip-path=\"url(#clip3902)\" style=\"stroke:#000000; stroke-width:2; stroke-opacity:0.1; fill:none\" points=\"\n",
       "  425.652,1886.71 425.652,47.2441 \n",
       "  \"/>\n",
       "<polyline clip-path=\"url(#clip3902)\" style=\"stroke:#000000; stroke-width:2; stroke-opacity:0.1; fill:none\" points=\"\n",
       "  767.122,1886.71 767.122,47.2441 \n",
       "  \"/>\n",
       "<polyline clip-path=\"url(#clip3902)\" style=\"stroke:#000000; stroke-width:2; stroke-opacity:0.1; fill:none\" points=\"\n",
       "  1108.59,1886.71 1108.59,47.2441 \n",
       "  \"/>\n",
       "<polyline clip-path=\"url(#clip3902)\" style=\"stroke:#000000; stroke-width:2; stroke-opacity:0.1; fill:none\" points=\"\n",
       "  1450.06,1886.71 1450.06,47.2441 \n",
       "  \"/>\n",
       "<polyline clip-path=\"url(#clip3902)\" style=\"stroke:#000000; stroke-width:2; stroke-opacity:0.1; fill:none\" points=\"\n",
       "  1791.53,1886.71 1791.53,47.2441 \n",
       "  \"/>\n",
       "<polyline clip-path=\"url(#clip3902)\" style=\"stroke:#000000; stroke-width:2; stroke-opacity:0.1; fill:none\" points=\"\n",
       "  161.394,1834.65 1921.26,1834.65 \n",
       "  \"/>\n",
       "<polyline clip-path=\"url(#clip3902)\" style=\"stroke:#000000; stroke-width:2; stroke-opacity:0.1; fill:none\" points=\"\n",
       "  161.394,1371.52 1921.26,1371.52 \n",
       "  \"/>\n",
       "<polyline clip-path=\"url(#clip3902)\" style=\"stroke:#000000; stroke-width:2; stroke-opacity:0.1; fill:none\" points=\"\n",
       "  161.394,908.387 1921.26,908.387 \n",
       "  \"/>\n",
       "<polyline clip-path=\"url(#clip3902)\" style=\"stroke:#000000; stroke-width:2; stroke-opacity:0.1; fill:none\" points=\"\n",
       "  161.394,445.256 1921.26,445.256 \n",
       "  \"/>\n",
       "<polyline clip-path=\"url(#clip3900)\" style=\"stroke:#000000; stroke-width:4; stroke-opacity:1; fill:none\" points=\"\n",
       "  161.394,1886.71 1921.26,1886.71 \n",
       "  \"/>\n",
       "<polyline clip-path=\"url(#clip3900)\" style=\"stroke:#000000; stroke-width:4; stroke-opacity:1; fill:none\" points=\"\n",
       "  161.394,1886.71 161.394,47.2441 \n",
       "  \"/>\n",
       "<polyline clip-path=\"url(#clip3900)\" style=\"stroke:#000000; stroke-width:4; stroke-opacity:1; fill:none\" points=\"\n",
       "  425.652,1886.71 425.652,1859.12 \n",
       "  \"/>\n",
       "<polyline clip-path=\"url(#clip3900)\" style=\"stroke:#000000; stroke-width:4; stroke-opacity:1; fill:none\" points=\"\n",
       "  767.122,1886.71 767.122,1859.12 \n",
       "  \"/>\n",
       "<polyline clip-path=\"url(#clip3900)\" style=\"stroke:#000000; stroke-width:4; stroke-opacity:1; fill:none\" points=\"\n",
       "  1108.59,1886.71 1108.59,1859.12 \n",
       "  \"/>\n",
       "<polyline clip-path=\"url(#clip3900)\" style=\"stroke:#000000; stroke-width:4; stroke-opacity:1; fill:none\" points=\"\n",
       "  1450.06,1886.71 1450.06,1859.12 \n",
       "  \"/>\n",
       "<polyline clip-path=\"url(#clip3900)\" style=\"stroke:#000000; stroke-width:4; stroke-opacity:1; fill:none\" points=\"\n",
       "  1791.53,1886.71 1791.53,1859.12 \n",
       "  \"/>\n",
       "<polyline clip-path=\"url(#clip3900)\" style=\"stroke:#000000; stroke-width:4; stroke-opacity:1; fill:none\" points=\"\n",
       "  161.394,1834.65 187.792,1834.65 \n",
       "  \"/>\n",
       "<polyline clip-path=\"url(#clip3900)\" style=\"stroke:#000000; stroke-width:4; stroke-opacity:1; fill:none\" points=\"\n",
       "  161.394,1371.52 187.792,1371.52 \n",
       "  \"/>\n",
       "<polyline clip-path=\"url(#clip3900)\" style=\"stroke:#000000; stroke-width:4; stroke-opacity:1; fill:none\" points=\"\n",
       "  161.394,908.387 187.792,908.387 \n",
       "  \"/>\n",
       "<polyline clip-path=\"url(#clip3900)\" style=\"stroke:#000000; stroke-width:4; stroke-opacity:1; fill:none\" points=\"\n",
       "  161.394,445.256 187.792,445.256 \n",
       "  \"/>\n",
       "<g clip-path=\"url(#clip3900)\">\n",
       "<text style=\"fill:#000000; fill-opacity:1; font-family:Arial,Helvetica Neue,Helvetica,sans-serif; font-size:48px; text-anchor:middle;\" transform=\"rotate(0, 425.652, 1938.71)\" x=\"425.652\" y=\"1938.71\">5.0</text>\n",
       "</g>\n",
       "<g clip-path=\"url(#clip3900)\">\n",
       "<text style=\"fill:#000000; fill-opacity:1; font-family:Arial,Helvetica Neue,Helvetica,sans-serif; font-size:48px; text-anchor:middle;\" transform=\"rotate(0, 767.122, 1938.71)\" x=\"767.122\" y=\"1938.71\">7.5</text>\n",
       "</g>\n",
       "<g clip-path=\"url(#clip3900)\">\n",
       "<text style=\"fill:#000000; fill-opacity:1; font-family:Arial,Helvetica Neue,Helvetica,sans-serif; font-size:48px; text-anchor:middle;\" transform=\"rotate(0, 1108.59, 1938.71)\" x=\"1108.59\" y=\"1938.71\">10.0</text>\n",
       "</g>\n",
       "<g clip-path=\"url(#clip3900)\">\n",
       "<text style=\"fill:#000000; fill-opacity:1; font-family:Arial,Helvetica Neue,Helvetica,sans-serif; font-size:48px; text-anchor:middle;\" transform=\"rotate(0, 1450.06, 1938.71)\" x=\"1450.06\" y=\"1938.71\">12.5</text>\n",
       "</g>\n",
       "<g clip-path=\"url(#clip3900)\">\n",
       "<text style=\"fill:#000000; fill-opacity:1; font-family:Arial,Helvetica Neue,Helvetica,sans-serif; font-size:48px; text-anchor:middle;\" transform=\"rotate(0, 1791.53, 1938.71)\" x=\"1791.53\" y=\"1938.71\">15.0</text>\n",
       "</g>\n",
       "<g clip-path=\"url(#clip3900)\">\n",
       "<text style=\"fill:#000000; fill-opacity:1; font-family:Arial,Helvetica Neue,Helvetica,sans-serif; font-size:48px; text-anchor:end;\" transform=\"rotate(0, 141.394, 1852.15)\" x=\"141.394\" y=\"1852.15\">0.0</text>\n",
       "</g>\n",
       "<g clip-path=\"url(#clip3900)\">\n",
       "<text style=\"fill:#000000; fill-opacity:1; font-family:Arial,Helvetica Neue,Helvetica,sans-serif; font-size:48px; text-anchor:end;\" transform=\"rotate(0, 141.394, 1389.02)\" x=\"141.394\" y=\"1389.02\">0.1</text>\n",
       "</g>\n",
       "<g clip-path=\"url(#clip3900)\">\n",
       "<text style=\"fill:#000000; fill-opacity:1; font-family:Arial,Helvetica Neue,Helvetica,sans-serif; font-size:48px; text-anchor:end;\" transform=\"rotate(0, 141.394, 925.887)\" x=\"141.394\" y=\"925.887\">0.2</text>\n",
       "</g>\n",
       "<g clip-path=\"url(#clip3900)\">\n",
       "<text style=\"fill:#000000; fill-opacity:1; font-family:Arial,Helvetica Neue,Helvetica,sans-serif; font-size:48px; text-anchor:end;\" transform=\"rotate(0, 141.394, 462.756)\" x=\"141.394\" y=\"462.756\">0.3</text>\n",
       "</g>\n",
       "<polyline clip-path=\"url(#clip3902)\" style=\"stroke:#009af9; stroke-width:4; stroke-opacity:1; fill:none\" points=\"\n",
       "  211.202,1834.64 219.545,1834.63 227.887,1834.59 236.23,1834.46 244.573,1834.12 252.916,1833.32 261.259,1831.66 269.602,1828.6 277.945,1823.55 286.288,1816.03 \n",
       "  294.631,1805.69 302.974,1792.28 311.317,1775.49 319.66,1754.8 328.003,1729.73 336.346,1700.13 344.689,1666.26 353.032,1628.36 361.375,1585.86 369.718,1536.92 \n",
       "  378.061,1479.02 386.404,1410.44 394.747,1331.87 403.09,1246.98 411.433,1161.11 419.776,1078.8 428.119,1001.96 436.462,929.797 444.805,860.25 453.148,791.348 \n",
       "  461.491,721.817 469.834,651.244 478.177,580.122 486.52,509.543 494.862,440.603 503.205,374.215 511.548,311.559 519.891,254.394 528.234,204.649 536.577,163.875 \n",
       "  544.92,133.156 553.263,112.973 561.606,102.521 569.949,99.3044 578.292,100.078 586.635,102.639 594.978,106.82 603.321,114.002 611.664,125.913 620.007,143.595 \n",
       "  628.35,166.882 636.693,194.699 645.036,226.286 653.379,262.404 661.722,305.131 670.065,356.122 678.408,414.856 686.751,478.223 695.094,541.446 703.437,599.729 \n",
       "  711.78,650.187 720.123,693.252 728.466,732.377 736.809,771.927 745.152,814.861 753.495,861.929 761.837,912.384 770.18,964.975 778.523,1018.5 786.866,1072.01 \n",
       "  795.209,1124.63 803.552,1175.12 811.895,1221.54 820.238,1261.79 828.581,1294.84 836.924,1321.48 845.267,1344.17 853.61,1365.92 861.953,1389.29 870.296,1415.52 \n",
       "  878.639,1444.25 886.982,1473.74 895.325,1501.62 903.668,1525.75 912.011,1544.98 920.354,1559.52 928.697,1570.92 937.04,1581.51 945.383,1593.46 953.726,1607.87 \n",
       "  962.069,1624.54 970.412,1642.18 978.755,1659.05 987.098,1673.67 995.441,1685.45 1003.78,1694.86 1012.13,1703.13 1020.47,1711.48 1028.81,1720.54 1037.16,1730.16 \n",
       "  1045.5,1739.77 1053.84,1748.74 1062.18,1756.74 1070.53,1763.69 1078.87,1769.62 1087.21,1774.42 1095.56,1777.91 1103.9,1780 1112.24,1780.99 1120.59,1781.48 \n",
       "  1128.93,1782.09 1137.27,1783.17 1145.61,1784.78 1153.96,1786.8 1162.3,1789.14 1170.64,1791.8 1178.99,1794.68 1187.33,1797.52 1195.67,1799.98 1204.01,1801.88 \n",
       "  1212.36,1803.38 1220.7,1804.89 1229.04,1806.76 1237.39,1809.03 1245.73,1811.48 1254.07,1813.81 1262.42,1815.81 1270.76,1817.44 1279.1,1818.78 1287.44,1819.9 \n",
       "  1295.79,1820.86 1304.13,1821.73 1312.47,1822.63 1320.82,1823.69 1329.16,1824.95 1337.5,1826.32 1345.85,1827.58 1354.19,1828.55 1362.53,1829.1 1370.87,1829.26 \n",
       "  1379.22,1829.13 1387.56,1828.88 1395.9,1828.7 1404.25,1828.77 1412.59,1829.18 1420.93,1829.91 1429.27,1830.85 1437.62,1831.83 1445.96,1832.7 1454.3,1833.32 \n",
       "  1462.65,1833.67 1470.99,1833.76 1479.33,1833.68 1487.68,1833.56 1496.02,1833.5 1504.36,1833.57 1512.7,1833.76 1521.05,1834.01 1529.39,1834.25 1537.73,1834.43 \n",
       "  1546.08,1834.54 1554.42,1834.61 1562.76,1834.63 1571.11,1834.64 1579.45,1834.65 1587.79,1834.65 1596.13,1834.65 1604.48,1834.65 1612.82,1834.65 1621.16,1834.65 \n",
       "  1629.51,1834.65 1637.85,1834.65 1646.19,1834.65 1654.54,1834.65 1662.88,1834.65 1671.22,1834.65 1679.56,1834.65 1687.91,1834.65 1696.25,1834.65 1704.59,1834.65 \n",
       "  1712.94,1834.64 1721.28,1834.62 1729.62,1834.58 1737.96,1834.49 1746.31,1834.34 1754.65,1834.13 1762.99,1833.88 1771.34,1833.66 1779.68,1833.54 1788.02,1833.56 \n",
       "  1796.37,1833.72 1804.71,1833.96 1813.05,1834.2 1821.39,1834.39 1829.74,1834.52 1838.08,1834.59 1846.42,1834.63 1854.77,1834.64 1863.11,1834.65 1871.45,1834.65 \n",
       "  \n",
       "  \"/>\n",
       "<polygon clip-path=\"url(#clip3900)\" points=\"\n",
       "1610.43,227.724 1861.26,227.724 1861.26,106.764 1610.43,106.764 \n",
       "  \" fill=\"#ffffff\" fill-rule=\"evenodd\" fill-opacity=\"1\"/>\n",
       "<polyline clip-path=\"url(#clip3900)\" style=\"stroke:#000000; stroke-width:4; stroke-opacity:1; fill:none\" points=\"\n",
       "  1610.43,227.724 1861.26,227.724 1861.26,106.764 1610.43,106.764 1610.43,227.724 \n",
       "  \"/>\n",
       "<polyline clip-path=\"url(#clip3900)\" style=\"stroke:#009af9; stroke-width:4; stroke-opacity:1; fill:none\" points=\"\n",
       "  1630.43,167.244 1750.43,167.244 \n",
       "  \"/>\n",
       "<g clip-path=\"url(#clip3900)\">\n",
       "<text style=\"fill:#000000; fill-opacity:1; font-family:Arial,Helvetica Neue,Helvetica,sans-serif; font-size:48px; text-anchor:start;\" transform=\"rotate(0, 1770.43, 184.744)\" x=\"1770.43\" y=\"184.744\">y1</text>\n",
       "</g>\n",
       "</svg>\n"
      ],
      "image/svg+xml": [
       "<?xml version=\"1.0\" encoding=\"utf-8\"?>\n",
       "<svg xmlns=\"http://www.w3.org/2000/svg\" xmlns:xlink=\"http://www.w3.org/1999/xlink\" width=\"500\" height=\"500\" viewBox=\"0 0 2000 2000\">\n",
       "<defs>\n",
       "  <clipPath id=\"clip3800\">\n",
       "    <rect x=\"0\" y=\"0\" width=\"2000\" height=\"2000\"/>\n",
       "  </clipPath>\n",
       "</defs>\n",
       "<polygon clip-path=\"url(#clip3800)\" points=\"\n",
       "0,2000 2000,2000 2000,0 0,0 \n",
       "  \" fill=\"#ffffff\" fill-rule=\"evenodd\" fill-opacity=\"1\"/>\n",
       "<defs>\n",
       "  <clipPath id=\"clip3801\">\n",
       "    <rect x=\"400\" y=\"200\" width=\"1401\" height=\"1401\"/>\n",
       "  </clipPath>\n",
       "</defs>\n",
       "<polygon clip-path=\"url(#clip3800)\" points=\"\n",
       "161.394,1886.71 1921.26,1886.71 1921.26,47.2441 161.394,47.2441 \n",
       "  \" fill=\"#ffffff\" fill-rule=\"evenodd\" fill-opacity=\"1\"/>\n",
       "<defs>\n",
       "  <clipPath id=\"clip3802\">\n",
       "    <rect x=\"161\" y=\"47\" width=\"1761\" height=\"1840\"/>\n",
       "  </clipPath>\n",
       "</defs>\n",
       "<polyline clip-path=\"url(#clip3802)\" style=\"stroke:#000000; stroke-width:2; stroke-opacity:0.1; fill:none\" points=\"\n",
       "  425.652,1886.71 425.652,47.2441 \n",
       "  \"/>\n",
       "<polyline clip-path=\"url(#clip3802)\" style=\"stroke:#000000; stroke-width:2; stroke-opacity:0.1; fill:none\" points=\"\n",
       "  767.122,1886.71 767.122,47.2441 \n",
       "  \"/>\n",
       "<polyline clip-path=\"url(#clip3802)\" style=\"stroke:#000000; stroke-width:2; stroke-opacity:0.1; fill:none\" points=\"\n",
       "  1108.59,1886.71 1108.59,47.2441 \n",
       "  \"/>\n",
       "<polyline clip-path=\"url(#clip3802)\" style=\"stroke:#000000; stroke-width:2; stroke-opacity:0.1; fill:none\" points=\"\n",
       "  1450.06,1886.71 1450.06,47.2441 \n",
       "  \"/>\n",
       "<polyline clip-path=\"url(#clip3802)\" style=\"stroke:#000000; stroke-width:2; stroke-opacity:0.1; fill:none\" points=\"\n",
       "  1791.53,1886.71 1791.53,47.2441 \n",
       "  \"/>\n",
       "<polyline clip-path=\"url(#clip3802)\" style=\"stroke:#000000; stroke-width:2; stroke-opacity:0.1; fill:none\" points=\"\n",
       "  161.394,1834.65 1921.26,1834.65 \n",
       "  \"/>\n",
       "<polyline clip-path=\"url(#clip3802)\" style=\"stroke:#000000; stroke-width:2; stroke-opacity:0.1; fill:none\" points=\"\n",
       "  161.394,1371.52 1921.26,1371.52 \n",
       "  \"/>\n",
       "<polyline clip-path=\"url(#clip3802)\" style=\"stroke:#000000; stroke-width:2; stroke-opacity:0.1; fill:none\" points=\"\n",
       "  161.394,908.387 1921.26,908.387 \n",
       "  \"/>\n",
       "<polyline clip-path=\"url(#clip3802)\" style=\"stroke:#000000; stroke-width:2; stroke-opacity:0.1; fill:none\" points=\"\n",
       "  161.394,445.256 1921.26,445.256 \n",
       "  \"/>\n",
       "<polyline clip-path=\"url(#clip3800)\" style=\"stroke:#000000; stroke-width:4; stroke-opacity:1; fill:none\" points=\"\n",
       "  161.394,1886.71 1921.26,1886.71 \n",
       "  \"/>\n",
       "<polyline clip-path=\"url(#clip3800)\" style=\"stroke:#000000; stroke-width:4; stroke-opacity:1; fill:none\" points=\"\n",
       "  161.394,1886.71 161.394,47.2441 \n",
       "  \"/>\n",
       "<polyline clip-path=\"url(#clip3800)\" style=\"stroke:#000000; stroke-width:4; stroke-opacity:1; fill:none\" points=\"\n",
       "  425.652,1886.71 425.652,1859.12 \n",
       "  \"/>\n",
       "<polyline clip-path=\"url(#clip3800)\" style=\"stroke:#000000; stroke-width:4; stroke-opacity:1; fill:none\" points=\"\n",
       "  767.122,1886.71 767.122,1859.12 \n",
       "  \"/>\n",
       "<polyline clip-path=\"url(#clip3800)\" style=\"stroke:#000000; stroke-width:4; stroke-opacity:1; fill:none\" points=\"\n",
       "  1108.59,1886.71 1108.59,1859.12 \n",
       "  \"/>\n",
       "<polyline clip-path=\"url(#clip3800)\" style=\"stroke:#000000; stroke-width:4; stroke-opacity:1; fill:none\" points=\"\n",
       "  1450.06,1886.71 1450.06,1859.12 \n",
       "  \"/>\n",
       "<polyline clip-path=\"url(#clip3800)\" style=\"stroke:#000000; stroke-width:4; stroke-opacity:1; fill:none\" points=\"\n",
       "  1791.53,1886.71 1791.53,1859.12 \n",
       "  \"/>\n",
       "<polyline clip-path=\"url(#clip3800)\" style=\"stroke:#000000; stroke-width:4; stroke-opacity:1; fill:none\" points=\"\n",
       "  161.394,1834.65 187.792,1834.65 \n",
       "  \"/>\n",
       "<polyline clip-path=\"url(#clip3800)\" style=\"stroke:#000000; stroke-width:4; stroke-opacity:1; fill:none\" points=\"\n",
       "  161.394,1371.52 187.792,1371.52 \n",
       "  \"/>\n",
       "<polyline clip-path=\"url(#clip3800)\" style=\"stroke:#000000; stroke-width:4; stroke-opacity:1; fill:none\" points=\"\n",
       "  161.394,908.387 187.792,908.387 \n",
       "  \"/>\n",
       "<polyline clip-path=\"url(#clip3800)\" style=\"stroke:#000000; stroke-width:4; stroke-opacity:1; fill:none\" points=\"\n",
       "  161.394,445.256 187.792,445.256 \n",
       "  \"/>\n",
       "<g clip-path=\"url(#clip3800)\">\n",
       "<text style=\"fill:#000000; fill-opacity:1; font-family:Arial,Helvetica Neue,Helvetica,sans-serif; font-size:48px; text-anchor:middle;\" transform=\"rotate(0, 425.652, 1938.71)\" x=\"425.652\" y=\"1938.71\">5.0</text>\n",
       "</g>\n",
       "<g clip-path=\"url(#clip3800)\">\n",
       "<text style=\"fill:#000000; fill-opacity:1; font-family:Arial,Helvetica Neue,Helvetica,sans-serif; font-size:48px; text-anchor:middle;\" transform=\"rotate(0, 767.122, 1938.71)\" x=\"767.122\" y=\"1938.71\">7.5</text>\n",
       "</g>\n",
       "<g clip-path=\"url(#clip3800)\">\n",
       "<text style=\"fill:#000000; fill-opacity:1; font-family:Arial,Helvetica Neue,Helvetica,sans-serif; font-size:48px; text-anchor:middle;\" transform=\"rotate(0, 1108.59, 1938.71)\" x=\"1108.59\" y=\"1938.71\">10.0</text>\n",
       "</g>\n",
       "<g clip-path=\"url(#clip3800)\">\n",
       "<text style=\"fill:#000000; fill-opacity:1; font-family:Arial,Helvetica Neue,Helvetica,sans-serif; font-size:48px; text-anchor:middle;\" transform=\"rotate(0, 1450.06, 1938.71)\" x=\"1450.06\" y=\"1938.71\">12.5</text>\n",
       "</g>\n",
       "<g clip-path=\"url(#clip3800)\">\n",
       "<text style=\"fill:#000000; fill-opacity:1; font-family:Arial,Helvetica Neue,Helvetica,sans-serif; font-size:48px; text-anchor:middle;\" transform=\"rotate(0, 1791.53, 1938.71)\" x=\"1791.53\" y=\"1938.71\">15.0</text>\n",
       "</g>\n",
       "<g clip-path=\"url(#clip3800)\">\n",
       "<text style=\"fill:#000000; fill-opacity:1; font-family:Arial,Helvetica Neue,Helvetica,sans-serif; font-size:48px; text-anchor:end;\" transform=\"rotate(0, 141.394, 1852.15)\" x=\"141.394\" y=\"1852.15\">0.0</text>\n",
       "</g>\n",
       "<g clip-path=\"url(#clip3800)\">\n",
       "<text style=\"fill:#000000; fill-opacity:1; font-family:Arial,Helvetica Neue,Helvetica,sans-serif; font-size:48px; text-anchor:end;\" transform=\"rotate(0, 141.394, 1389.02)\" x=\"141.394\" y=\"1389.02\">0.1</text>\n",
       "</g>\n",
       "<g clip-path=\"url(#clip3800)\">\n",
       "<text style=\"fill:#000000; fill-opacity:1; font-family:Arial,Helvetica Neue,Helvetica,sans-serif; font-size:48px; text-anchor:end;\" transform=\"rotate(0, 141.394, 925.887)\" x=\"141.394\" y=\"925.887\">0.2</text>\n",
       "</g>\n",
       "<g clip-path=\"url(#clip3800)\">\n",
       "<text style=\"fill:#000000; fill-opacity:1; font-family:Arial,Helvetica Neue,Helvetica,sans-serif; font-size:48px; text-anchor:end;\" transform=\"rotate(0, 141.394, 462.756)\" x=\"141.394\" y=\"462.756\">0.3</text>\n",
       "</g>\n",
       "<polyline clip-path=\"url(#clip3802)\" style=\"stroke:#009af9; stroke-width:4; stroke-opacity:1; fill:none\" points=\"\n",
       "  211.202,1834.64 219.545,1834.63 227.887,1834.59 236.23,1834.46 244.573,1834.12 252.916,1833.32 261.259,1831.66 269.602,1828.6 277.945,1823.55 286.288,1816.03 \n",
       "  294.631,1805.69 302.974,1792.28 311.317,1775.49 319.66,1754.8 328.003,1729.73 336.346,1700.13 344.689,1666.26 353.032,1628.36 361.375,1585.86 369.718,1536.92 \n",
       "  378.061,1479.02 386.404,1410.44 394.747,1331.87 403.09,1246.98 411.433,1161.11 419.776,1078.8 428.119,1001.96 436.462,929.797 444.805,860.25 453.148,791.348 \n",
       "  461.491,721.817 469.834,651.244 478.177,580.122 486.52,509.543 494.862,440.603 503.205,374.215 511.548,311.559 519.891,254.394 528.234,204.649 536.577,163.875 \n",
       "  544.92,133.156 553.263,112.973 561.606,102.521 569.949,99.3044 578.292,100.078 586.635,102.639 594.978,106.82 603.321,114.002 611.664,125.913 620.007,143.595 \n",
       "  628.35,166.882 636.693,194.699 645.036,226.286 653.379,262.404 661.722,305.131 670.065,356.122 678.408,414.856 686.751,478.223 695.094,541.446 703.437,599.729 \n",
       "  711.78,650.187 720.123,693.252 728.466,732.377 736.809,771.927 745.152,814.861 753.495,861.929 761.837,912.384 770.18,964.975 778.523,1018.5 786.866,1072.01 \n",
       "  795.209,1124.63 803.552,1175.12 811.895,1221.54 820.238,1261.79 828.581,1294.84 836.924,1321.48 845.267,1344.17 853.61,1365.92 861.953,1389.29 870.296,1415.52 \n",
       "  878.639,1444.25 886.982,1473.74 895.325,1501.62 903.668,1525.75 912.011,1544.98 920.354,1559.52 928.697,1570.92 937.04,1581.51 945.383,1593.46 953.726,1607.87 \n",
       "  962.069,1624.54 970.412,1642.18 978.755,1659.05 987.098,1673.67 995.441,1685.45 1003.78,1694.86 1012.13,1703.13 1020.47,1711.48 1028.81,1720.54 1037.16,1730.16 \n",
       "  1045.5,1739.77 1053.84,1748.74 1062.18,1756.74 1070.53,1763.69 1078.87,1769.62 1087.21,1774.42 1095.56,1777.91 1103.9,1780 1112.24,1780.99 1120.59,1781.48 \n",
       "  1128.93,1782.09 1137.27,1783.17 1145.61,1784.78 1153.96,1786.8 1162.3,1789.14 1170.64,1791.8 1178.99,1794.68 1187.33,1797.52 1195.67,1799.98 1204.01,1801.88 \n",
       "  1212.36,1803.38 1220.7,1804.89 1229.04,1806.76 1237.39,1809.03 1245.73,1811.48 1254.07,1813.81 1262.42,1815.81 1270.76,1817.44 1279.1,1818.78 1287.44,1819.9 \n",
       "  1295.79,1820.86 1304.13,1821.73 1312.47,1822.63 1320.82,1823.69 1329.16,1824.95 1337.5,1826.32 1345.85,1827.58 1354.19,1828.55 1362.53,1829.1 1370.87,1829.26 \n",
       "  1379.22,1829.13 1387.56,1828.88 1395.9,1828.7 1404.25,1828.77 1412.59,1829.18 1420.93,1829.91 1429.27,1830.85 1437.62,1831.83 1445.96,1832.7 1454.3,1833.32 \n",
       "  1462.65,1833.67 1470.99,1833.76 1479.33,1833.68 1487.68,1833.56 1496.02,1833.5 1504.36,1833.57 1512.7,1833.76 1521.05,1834.01 1529.39,1834.25 1537.73,1834.43 \n",
       "  1546.08,1834.54 1554.42,1834.61 1562.76,1834.63 1571.11,1834.64 1579.45,1834.65 1587.79,1834.65 1596.13,1834.65 1604.48,1834.65 1612.82,1834.65 1621.16,1834.65 \n",
       "  1629.51,1834.65 1637.85,1834.65 1646.19,1834.65 1654.54,1834.65 1662.88,1834.65 1671.22,1834.65 1679.56,1834.65 1687.91,1834.65 1696.25,1834.65 1704.59,1834.65 \n",
       "  1712.94,1834.64 1721.28,1834.62 1729.62,1834.58 1737.96,1834.49 1746.31,1834.34 1754.65,1834.13 1762.99,1833.88 1771.34,1833.66 1779.68,1833.54 1788.02,1833.56 \n",
       "  1796.37,1833.72 1804.71,1833.96 1813.05,1834.2 1821.39,1834.39 1829.74,1834.52 1838.08,1834.59 1846.42,1834.63 1854.77,1834.64 1863.11,1834.65 1871.45,1834.65 \n",
       "  \n",
       "  \"/>\n",
       "<polygon clip-path=\"url(#clip3800)\" points=\"\n",
       "1610.43,227.724 1861.26,227.724 1861.26,106.764 1610.43,106.764 \n",
       "  \" fill=\"#ffffff\" fill-rule=\"evenodd\" fill-opacity=\"1\"/>\n",
       "<polyline clip-path=\"url(#clip3800)\" style=\"stroke:#000000; stroke-width:4; stroke-opacity:1; fill:none\" points=\"\n",
       "  1610.43,227.724 1861.26,227.724 1861.26,106.764 1610.43,106.764 1610.43,227.724 \n",
       "  \"/>\n",
       "<polyline clip-path=\"url(#clip3800)\" style=\"stroke:#009af9; stroke-width:4; stroke-opacity:1; fill:none\" points=\"\n",
       "  1630.43,167.244 1750.43,167.244 \n",
       "  \"/>\n",
       "<g clip-path=\"url(#clip3800)\">\n",
       "<text style=\"fill:#000000; fill-opacity:1; font-family:Arial,Helvetica Neue,Helvetica,sans-serif; font-size:48px; text-anchor:start;\" transform=\"rotate(0, 1770.43, 184.744)\" x=\"1770.43\" y=\"184.744\">y1</text>\n",
       "</g>\n",
       "</svg>\n"
      ]
     },
     "metadata": {},
     "execution_count": 8
    }
   ],
   "cell_type": "code",
   "source": [
    "density(samples[:sigma])"
   ],
   "metadata": {},
   "execution_count": 8
  },
  {
   "outputs": [],
   "cell_type": "markdown",
   "source": [
    "End of `clip-21-23.jl`"
   ],
   "metadata": {}
  },
  {
   "outputs": [],
   "cell_type": "markdown",
   "source": [
    "*This notebook was generated using [Literate.jl](https://github.com/fredrikekre/Literate.jl).*"
   ],
   "metadata": {}
  }
 ],
 "nbformat_minor": 3,
 "metadata": {
  "language_info": {
   "file_extension": ".jl",
   "mimetype": "application/julia",
   "name": "julia",
   "version": "1.2.0-DEV.226"
  },
  "kernelspec": {
   "name": "julia-1.2",
   "display_name": "Julia 1.2.0-DEV.226",
   "language": "julia"
  }
 },
 "nbformat": 4
}
