{
 "cells": [
  {
   "outputs": [],
   "cell_type": "markdown",
   "source": [
    "Load Julia packages (libraries) needed  for the snippets in chapter 0"
   ],
   "metadata": {}
  },
  {
   "outputs": [],
   "cell_type": "code",
   "source": [
    "using StatisticalRethinking, CmdStan\n",
    "gr(size=(500,500));"
   ],
   "metadata": {},
   "execution_count": 1
  },
  {
   "outputs": [],
   "cell_type": "markdown",
   "source": [
    "CmdStan uses a tmp directory to store the output of cmdstan"
   ],
   "metadata": {}
  },
  {
   "outputs": [],
   "cell_type": "code",
   "source": [
    "ProjDir = rel_path(\"..\", \"scripts\", \"04\")\n",
    "cd(ProjDir)"
   ],
   "metadata": {},
   "execution_count": 2
  },
  {
   "outputs": [],
   "cell_type": "markdown",
   "source": [
    "CmdStan uses a tmp directory to store the output of cmdstan"
   ],
   "metadata": {}
  },
  {
   "outputs": [],
   "cell_type": "code",
   "source": [
    "ProjDir = rel_path(\"..\", \"scripts\", \"04\")\n",
    "cd(ProjDir)"
   ],
   "metadata": {},
   "execution_count": 3
  },
  {
   "outputs": [
    {
     "output_type": "execute_result",
     "data": {
      "text/plain": "5×4 DataFrame\n│ Row │ height   │ weight   │ age      │ male   │\n│     │ \u001b[90mFloat64⍰\u001b[39m │ \u001b[90mFloat64⍰\u001b[39m │ \u001b[90mFloat64⍰\u001b[39m │ \u001b[90mInt64⍰\u001b[39m │\n├─────┼──────────┼──────────┼──────────┼────────┤\n│ 1   │ 151.765  │ 47.8256  │ 63.0     │ 1      │\n│ 2   │ 139.7    │ 36.4858  │ 63.0     │ 0      │\n│ 3   │ 136.525  │ 31.8648  │ 65.0     │ 0      │\n│ 4   │ 156.845  │ 53.0419  │ 41.0     │ 1      │\n│ 5   │ 145.415  │ 41.2769  │ 51.0     │ 0      │",
      "text/html": [
       "<table class=\"data-frame\"><thead><tr><th></th><th>height</th><th>weight</th><th>age</th><th>male</th></tr><tr><th></th><th>Float64⍰</th><th>Float64⍰</th><th>Float64⍰</th><th>Int64⍰</th></tr></thead><tbody><p>5 rows × 4 columns</p><tr><th>1</th><td>151.765</td><td>47.8256</td><td>63.0</td><td>1</td></tr><tr><th>2</th><td>139.7</td><td>36.4858</td><td>63.0</td><td>0</td></tr><tr><th>3</th><td>136.525</td><td>31.8648</td><td>65.0</td><td>0</td></tr><tr><th>4</th><td>156.845</td><td>53.0419</td><td>41.0</td><td>1</td></tr><tr><th>5</th><td>145.415</td><td>41.2769</td><td>51.0</td><td>0</td></tr></tbody></table>"
      ]
     },
     "metadata": {},
     "execution_count": 4
    }
   ],
   "cell_type": "code",
   "source": [
    "howell1 = CSV.read(rel_path(\"..\", \"data\", \"Howell1.csv\"), delim=';')\n",
    "df = convert(DataFrame, howell1);\n",
    "df2 = filter(row -> row[:age] >= 18, df);\n",
    "first(df2, 5)"
   ],
   "metadata": {},
   "execution_count": 4
  },
  {
   "outputs": [],
   "cell_type": "markdown",
   "source": [
    "### Snippet 4.21"
   ],
   "metadata": {}
  },
  {
   "outputs": [],
   "cell_type": "markdown",
   "source": [
    "Sample 20 random heights"
   ],
   "metadata": {}
  },
  {
   "outputs": [],
   "cell_type": "code",
   "source": [
    "n = size(df2, 1)\n",
    "selected_ind = sample(1:n, 20, replace=false);\n",
    "df3 = df2[selected_ind, :];"
   ],
   "metadata": {},
   "execution_count": 5
  },
  {
   "outputs": [],
   "cell_type": "markdown",
   "source": [
    "### Snippet 4.22"
   ],
   "metadata": {}
  },
  {
   "outputs": [],
   "cell_type": "markdown",
   "source": [
    "Generate approximate probabilities"
   ],
   "metadata": {}
  },
  {
   "outputs": [
    {
     "output_type": "execute_result",
     "data": {
      "text/plain": "10×5 DataFrame\n│ Row │ mu      │ sigma   │ ll       │ prod     │ prob        │\n│     │ \u001b[90mFloat64\u001b[39m │ \u001b[90mFloat64\u001b[39m │ \u001b[90mFloat64\u001b[39m  │ \u001b[90mFloat64\u001b[39m  │ \u001b[90mFloat64\u001b[39m     │\n├─────┼─────────┼─────────┼──────────┼──────────┼─────────────┤\n│ 1   │ 140.0   │ 4.0     │ -203.704 │ -213.335 │ 1.65326e-59 │\n│ 2   │ 140.151 │ 4.0     │ -201.11  │ -210.728 │ 2.24308e-58 │\n│ 3   │ 140.302 │ 4.0     │ -198.545 │ -208.149 │ 2.95791e-57 │\n│ 4   │ 140.452 │ 4.0     │ -196.009 │ -205.598 │ 3.79108e-56 │\n│ 5   │ 140.603 │ 4.0     │ -193.501 │ -203.075 │ 4.72258e-55 │\n│ 6   │ 140.754 │ 4.0     │ -191.021 │ -200.582 │ 5.71786e-54 │\n│ 7   │ 140.905 │ 4.0     │ -188.57  │ -198.116 │ 6.72861e-53 │\n│ 8   │ 141.055 │ 4.0     │ -186.147 │ -195.679 │ 7.69581e-52 │\n│ 9   │ 141.206 │ 4.0     │ -183.752 │ -193.271 │ 8.55503e-51 │\n│ 10  │ 141.357 │ 4.0     │ -181.386 │ -190.891 │ 9.24328e-50 │",
      "text/html": [
       "<table class=\"data-frame\"><thead><tr><th></th><th>mu</th><th>sigma</th><th>ll</th><th>prod</th><th>prob</th></tr><tr><th></th><th>Float64</th><th>Float64</th><th>Float64</th><th>Float64</th><th>Float64</th></tr></thead><tbody><p>10 rows × 5 columns</p><tr><th>1</th><td>140.0</td><td>4.0</td><td>-203.704</td><td>-213.335</td><td>1.65326e-59</td></tr><tr><th>2</th><td>140.151</td><td>4.0</td><td>-201.11</td><td>-210.728</td><td>2.24308e-58</td></tr><tr><th>3</th><td>140.302</td><td>4.0</td><td>-198.545</td><td>-208.149</td><td>2.95791e-57</td></tr><tr><th>4</th><td>140.452</td><td>4.0</td><td>-196.009</td><td>-205.598</td><td>3.79108e-56</td></tr><tr><th>5</th><td>140.603</td><td>4.0</td><td>-193.501</td><td>-203.075</td><td>4.72258e-55</td></tr><tr><th>6</th><td>140.754</td><td>4.0</td><td>-191.021</td><td>-200.582</td><td>5.71786e-54</td></tr><tr><th>7</th><td>140.905</td><td>4.0</td><td>-188.57</td><td>-198.116</td><td>6.72861e-53</td></tr><tr><th>8</th><td>141.055</td><td>4.0</td><td>-186.147</td><td>-195.679</td><td>7.69581e-52</td></tr><tr><th>9</th><td>141.206</td><td>4.0</td><td>-183.752</td><td>-193.271</td><td>8.55503e-51</td></tr><tr><th>10</th><td>141.357</td><td>4.0</td><td>-181.386</td><td>-190.891</td><td>9.24328e-50</td></tr></tbody></table>"
      ]
     },
     "metadata": {},
     "execution_count": 6
    }
   ],
   "cell_type": "code",
   "source": [
    "struct Post\n",
    "  mu::Float64\n",
    "  sigma::Float64\n",
    "  ll:: Float64\n",
    "  prod::Float64\n",
    "  prob::Float64\n",
    "end\n",
    "\n",
    "mu_list = repeat(range(140, 170, length=200), 200);\n",
    "sigma_list = repeat(range(4, 20, length=200), inner=200);\n",
    "\n",
    "ll = zeros(40000);\n",
    "for i in 1:40000\n",
    "    d1 = Normal(mu_list[i], sigma_list[i])\n",
    "    ll[i] = sum(log.(pdf.(d1, df3[:height])))\n",
    "end\n",
    "\n",
    "d2 = Normal(178.0, 20.0)\n",
    "d3 = Uniform(0, 50)\n",
    "prod = ll + log.(pdf.(d2, mu_list)) + log.(pdf.(d3, sigma_list))\n",
    "prob = exp.(prod .- maximum(prod))\n",
    "post = DataFrame(mu=mu_list, sigma=sigma_list, ll=ll, prod=prod, prob=prob)\n",
    "first(post, 10)"
   ],
   "metadata": {},
   "execution_count": 6
  },
  {
   "outputs": [],
   "cell_type": "markdown",
   "source": [
    "Sample post"
   ],
   "metadata": {}
  },
  {
   "outputs": [
    {
     "output_type": "execute_result",
     "data": {
      "text/plain": "10000×5 DataFrame\n│ Row   │ mu      │ sigma   │ ll       │ prod     │ prob       │\n│       │ \u001b[90mFloat64\u001b[39m │ \u001b[90mFloat64\u001b[39m │ \u001b[90mFloat64\u001b[39m  │ \u001b[90mFloat64\u001b[39m  │ \u001b[90mFloat64\u001b[39m    │\n├───────┼─────────┼─────────┼──────────┼──────────┼────────────┤\n│ 1     │ 154.472 │ 7.8593  │ -69.5014 │ -78.0201 │ 0.966183   │\n│ 2     │ 152.211 │ 8.74372 │ -70.0283 │ -78.6863 │ 0.496266   │\n│ 3     │ 151.005 │ 9.14573 │ -70.8581 │ -79.5957 │ 0.199879   │\n│ 4     │ 155.075 │ 7.9397  │ -69.6848 │ -78.1685 │ 0.832932   │\n│ 5     │ 151.759 │ 8.50251 │ -70.1772 │ -78.8646 │ 0.415197   │\n│ 6     │ 154.925 │ 8.34171 │ -69.6941 │ -78.1863 │ 0.818161   │\n│ 7     │ 153.266 │ 6.57286 │ -70.1584 │ -78.7498 │ 0.465748   │\n⋮\n│ 9993  │ 156.131 │ 8.1005  │ -70.2658 │ -78.6903 │ 0.494289   │\n│ 9994  │ 154.925 │ 7.29648 │ -69.7459 │ -78.2382 │ 0.776789   │\n│ 9995  │ 152.814 │ 8.98492 │ -69.9358 │ -78.5554 │ 0.565655   │\n│ 9996  │ 155.98  │ 8.50251 │ -70.2142 │ -78.647  │ 0.516137   │\n│ 9997  │ 153.869 │ 11.5578 │ -71.8684 │ -80.423  │ 0.0873945  │\n│ 9998  │ 148.291 │ 10.5126 │ -73.7041 │ -82.6341 │ 0.00957689 │\n│ 9999  │ 152.965 │ 9.86935 │ -70.4752 │ -79.0853 │ 0.332974   │\n│ 10000 │ 153.719 │ 6.57286 │ -70.0861 │ -78.6498 │ 0.51472    │",
      "text/html": [
       "<table class=\"data-frame\"><thead><tr><th></th><th>mu</th><th>sigma</th><th>ll</th><th>prod</th><th>prob</th></tr><tr><th></th><th>Float64</th><th>Float64</th><th>Float64</th><th>Float64</th><th>Float64</th></tr></thead><tbody><p>10,000 rows × 5 columns</p><tr><th>1</th><td>154.472</td><td>7.8593</td><td>-69.5014</td><td>-78.0201</td><td>0.966183</td></tr><tr><th>2</th><td>152.211</td><td>8.74372</td><td>-70.0283</td><td>-78.6863</td><td>0.496266</td></tr><tr><th>3</th><td>151.005</td><td>9.14573</td><td>-70.8581</td><td>-79.5957</td><td>0.199879</td></tr><tr><th>4</th><td>155.075</td><td>7.9397</td><td>-69.6848</td><td>-78.1685</td><td>0.832932</td></tr><tr><th>5</th><td>151.759</td><td>8.50251</td><td>-70.1772</td><td>-78.8646</td><td>0.415197</td></tr><tr><th>6</th><td>154.925</td><td>8.34171</td><td>-69.6941</td><td>-78.1863</td><td>0.818161</td></tr><tr><th>7</th><td>153.266</td><td>6.57286</td><td>-70.1584</td><td>-78.7498</td><td>0.465748</td></tr><tr><th>8</th><td>152.814</td><td>6.65327</td><td>-70.2253</td><td>-78.8449</td><td>0.423491</td></tr><tr><th>9</th><td>153.869</td><td>9.30653</td><td>-69.999</td><td>-78.5536</td><td>0.566706</td></tr><tr><th>10</th><td>153.266</td><td>8.34171</td><td>-69.5712</td><td>-78.1626</td><td>0.83786</td></tr><tr><th>11</th><td>153.568</td><td>8.58291</td><td>-69.621</td><td>-78.1939</td><td>0.812026</td></tr><tr><th>12</th><td>151.307</td><td>10.8342</td><td>-71.7481</td><td>-80.4655</td><td>0.0837594</td></tr><tr><th>13</th><td>149.799</td><td>8.82412</td><td>-71.816</td><td>-80.6368</td><td>0.0705675</td></tr><tr><th>14</th><td>149.347</td><td>9.06533</td><td>-72.3056</td><td>-81.1586</td><td>0.0418808</td></tr><tr><th>15</th><td>158.693</td><td>13.407</td><td>-74.9819</td><td>-83.2745</td><td>0.0050476</td></tr><tr><th>16</th><td>157.638</td><td>9.62814</td><td>-71.7763</td><td>-80.1212</td><td>0.118174</td></tr><tr><th>17</th><td>153.266</td><td>11.3166</td><td>-71.6677</td><td>-80.2591</td><td>0.102956</td></tr><tr><th>18</th><td>154.774</td><td>8.1809</td><td>-69.6121</td><td>-78.1131</td><td>0.880331</td></tr><tr><th>19</th><td>154.623</td><td>10.6734</td><td>-71.1143</td><td>-79.6241</td><td>0.194279</td></tr><tr><th>20</th><td>155.075</td><td>8.42211</td><td>-69.7664</td><td>-78.25</td><td>0.767699</td></tr><tr><th>21</th><td>154.774</td><td>7.13568</td><td>-69.7699</td><td>-78.2709</td><td>0.75179</td></tr><tr><th>22</th><td>152.663</td><td>8.42211</td><td>-69.7448</td><td>-78.374</td><td>0.678205</td></tr><tr><th>23</th><td>153.869</td><td>9.30653</td><td>-69.999</td><td>-78.5536</td><td>0.566706</td></tr><tr><th>24</th><td>149.95</td><td>6.89447</td><td>-72.9385</td><td>-81.7487</td><td>0.0232135</td></tr><tr><th>&vellip;</th><td>&vellip;</td><td>&vellip;</td><td>&vellip;</td><td>&vellip;</td><td>&vellip;</td></tr></tbody></table>"
      ]
     },
     "metadata": {},
     "execution_count": 7
    }
   ],
   "cell_type": "code",
   "source": [
    "samples = post[sample(1:size(post, 1), Weights(post[:prob]), 10000, replace=true), :]"
   ],
   "metadata": {},
   "execution_count": 7
  },
  {
   "outputs": [],
   "cell_type": "markdown",
   "source": [
    "### Snippet 4.23"
   ],
   "metadata": {}
  },
  {
   "outputs": [],
   "cell_type": "markdown",
   "source": [
    "Density of sigma"
   ],
   "metadata": {}
  },
  {
   "outputs": [
    {
     "output_type": "execute_result",
     "data": {
      "text/plain": "Plot{Plots.GRBackend() n=1}",
      "image/png": "[encoded data removed]",
      "text/html": [
       "<?xml version=\"1.0\" encoding=\"utf-8\"?>\n",
       "<svg xmlns=\"http://www.w3.org/2000/svg\" xmlns:xlink=\"http://www.w3.org/1999/xlink\" width=\"500\" height=\"500\" viewBox=\"0 0 2000 2000\">\n",
       "<defs>\n",
       "  <clipPath id=\"clip3700\">\n",
       "    <rect x=\"0\" y=\"0\" width=\"2000\" height=\"2000\"/>\n",
       "  </clipPath>\n",
       "</defs>\n",
       "<polygon clip-path=\"url(#clip3700)\" points=\"\n",
       "0,2000 2000,2000 2000,0 0,0 \n",
       "  \" fill=\"#ffffff\" fill-rule=\"evenodd\" fill-opacity=\"1\"/>\n",
       "<defs>\n",
       "  <clipPath id=\"clip3701\">\n",
       "    <rect x=\"400\" y=\"200\" width=\"1401\" height=\"1401\"/>\n",
       "  </clipPath>\n",
       "</defs>\n",
       "<polygon clip-path=\"url(#clip3700)\" points=\"\n",
       "188.156,1886.71 1921.26,1886.71 1921.26,47.2441 188.156,47.2441 \n",
       "  \" fill=\"#ffffff\" fill-rule=\"evenodd\" fill-opacity=\"1\"/>\n",
       "<defs>\n",
       "  <clipPath id=\"clip3702\">\n",
       "    <rect x=\"188\" y=\"47\" width=\"1734\" height=\"1840\"/>\n",
       "  </clipPath>\n",
       "</defs>\n",
       "<polyline clip-path=\"url(#clip3702)\" style=\"stroke:#000000; stroke-width:2; stroke-opacity:0.1; fill:none\" points=\"\n",
       "  438.884,1886.71 438.884,47.2441 \n",
       "  \"/>\n",
       "<polyline clip-path=\"url(#clip3702)\" style=\"stroke:#000000; stroke-width:2; stroke-opacity:0.1; fill:none\" points=\"\n",
       "  738.759,1886.71 738.759,47.2441 \n",
       "  \"/>\n",
       "<polyline clip-path=\"url(#clip3702)\" style=\"stroke:#000000; stroke-width:2; stroke-opacity:0.1; fill:none\" points=\"\n",
       "  1038.63,1886.71 1038.63,47.2441 \n",
       "  \"/>\n",
       "<polyline clip-path=\"url(#clip3702)\" style=\"stroke:#000000; stroke-width:2; stroke-opacity:0.1; fill:none\" points=\"\n",
       "  1338.51,1886.71 1338.51,47.2441 \n",
       "  \"/>\n",
       "<polyline clip-path=\"url(#clip3702)\" style=\"stroke:#000000; stroke-width:2; stroke-opacity:0.1; fill:none\" points=\"\n",
       "  1638.39,1886.71 1638.39,47.2441 \n",
       "  \"/>\n",
       "<polyline clip-path=\"url(#clip3702)\" style=\"stroke:#000000; stroke-width:2; stroke-opacity:0.1; fill:none\" points=\"\n",
       "  188.156,1834.65 1921.26,1834.65 \n",
       "  \"/>\n",
       "<polyline clip-path=\"url(#clip3702)\" style=\"stroke:#000000; stroke-width:2; stroke-opacity:0.1; fill:none\" points=\"\n",
       "  188.156,1526.24 1921.26,1526.24 \n",
       "  \"/>\n",
       "<polyline clip-path=\"url(#clip3702)\" style=\"stroke:#000000; stroke-width:2; stroke-opacity:0.1; fill:none\" points=\"\n",
       "  188.156,1217.83 1921.26,1217.83 \n",
       "  \"/>\n",
       "<polyline clip-path=\"url(#clip3702)\" style=\"stroke:#000000; stroke-width:2; stroke-opacity:0.1; fill:none\" points=\"\n",
       "  188.156,909.424 1921.26,909.424 \n",
       "  \"/>\n",
       "<polyline clip-path=\"url(#clip3702)\" style=\"stroke:#000000; stroke-width:2; stroke-opacity:0.1; fill:none\" points=\"\n",
       "  188.156,601.017 1921.26,601.017 \n",
       "  \"/>\n",
       "<polyline clip-path=\"url(#clip3702)\" style=\"stroke:#000000; stroke-width:2; stroke-opacity:0.1; fill:none\" points=\"\n",
       "  188.156,292.609 1921.26,292.609 \n",
       "  \"/>\n",
       "<polyline clip-path=\"url(#clip3700)\" style=\"stroke:#000000; stroke-width:4; stroke-opacity:1; fill:none\" points=\"\n",
       "  188.156,1886.71 1921.26,1886.71 \n",
       "  \"/>\n",
       "<polyline clip-path=\"url(#clip3700)\" style=\"stroke:#000000; stroke-width:4; stroke-opacity:1; fill:none\" points=\"\n",
       "  188.156,1886.71 188.156,47.2441 \n",
       "  \"/>\n",
       "<polyline clip-path=\"url(#clip3700)\" style=\"stroke:#000000; stroke-width:4; stroke-opacity:1; fill:none\" points=\"\n",
       "  438.884,1886.71 438.884,1859.12 \n",
       "  \"/>\n",
       "<polyline clip-path=\"url(#clip3700)\" style=\"stroke:#000000; stroke-width:4; stroke-opacity:1; fill:none\" points=\"\n",
       "  738.759,1886.71 738.759,1859.12 \n",
       "  \"/>\n",
       "<polyline clip-path=\"url(#clip3700)\" style=\"stroke:#000000; stroke-width:4; stroke-opacity:1; fill:none\" points=\"\n",
       "  1038.63,1886.71 1038.63,1859.12 \n",
       "  \"/>\n",
       "<polyline clip-path=\"url(#clip3700)\" style=\"stroke:#000000; stroke-width:4; stroke-opacity:1; fill:none\" points=\"\n",
       "  1338.51,1886.71 1338.51,1859.12 \n",
       "  \"/>\n",
       "<polyline clip-path=\"url(#clip3700)\" style=\"stroke:#000000; stroke-width:4; stroke-opacity:1; fill:none\" points=\"\n",
       "  1638.39,1886.71 1638.39,1859.12 \n",
       "  \"/>\n",
       "<polyline clip-path=\"url(#clip3700)\" style=\"stroke:#000000; stroke-width:4; stroke-opacity:1; fill:none\" points=\"\n",
       "  188.156,1834.65 214.153,1834.65 \n",
       "  \"/>\n",
       "<polyline clip-path=\"url(#clip3700)\" style=\"stroke:#000000; stroke-width:4; stroke-opacity:1; fill:none\" points=\"\n",
       "  188.156,1526.24 214.153,1526.24 \n",
       "  \"/>\n",
       "<polyline clip-path=\"url(#clip3700)\" style=\"stroke:#000000; stroke-width:4; stroke-opacity:1; fill:none\" points=\"\n",
       "  188.156,1217.83 214.153,1217.83 \n",
       "  \"/>\n",
       "<polyline clip-path=\"url(#clip3700)\" style=\"stroke:#000000; stroke-width:4; stroke-opacity:1; fill:none\" points=\"\n",
       "  188.156,909.424 214.153,909.424 \n",
       "  \"/>\n",
       "<polyline clip-path=\"url(#clip3700)\" style=\"stroke:#000000; stroke-width:4; stroke-opacity:1; fill:none\" points=\"\n",
       "  188.156,601.017 214.153,601.017 \n",
       "  \"/>\n",
       "<polyline clip-path=\"url(#clip3700)\" style=\"stroke:#000000; stroke-width:4; stroke-opacity:1; fill:none\" points=\"\n",
       "  188.156,292.609 214.153,292.609 \n",
       "  \"/>\n",
       "<g clip-path=\"url(#clip3700)\">\n",
       "<text style=\"fill:#000000; fill-opacity:1; font-family:Arial,Helvetica Neue,Helvetica,sans-serif; font-size:48px; text-anchor:middle;\" transform=\"rotate(0, 438.884, 1938.71)\" x=\"438.884\" y=\"1938.71\">6</text>\n",
       "</g>\n",
       "<g clip-path=\"url(#clip3700)\">\n",
       "<text style=\"fill:#000000; fill-opacity:1; font-family:Arial,Helvetica Neue,Helvetica,sans-serif; font-size:48px; text-anchor:middle;\" transform=\"rotate(0, 738.759, 1938.71)\" x=\"738.759\" y=\"1938.71\">9</text>\n",
       "</g>\n",
       "<g clip-path=\"url(#clip3700)\">\n",
       "<text style=\"fill:#000000; fill-opacity:1; font-family:Arial,Helvetica Neue,Helvetica,sans-serif; font-size:48px; text-anchor:middle;\" transform=\"rotate(0, 1038.63, 1938.71)\" x=\"1038.63\" y=\"1938.71\">12</text>\n",
       "</g>\n",
       "<g clip-path=\"url(#clip3700)\">\n",
       "<text style=\"fill:#000000; fill-opacity:1; font-family:Arial,Helvetica Neue,Helvetica,sans-serif; font-size:48px; text-anchor:middle;\" transform=\"rotate(0, 1338.51, 1938.71)\" x=\"1338.51\" y=\"1938.71\">15</text>\n",
       "</g>\n",
       "<g clip-path=\"url(#clip3700)\">\n",
       "<text style=\"fill:#000000; fill-opacity:1; font-family:Arial,Helvetica Neue,Helvetica,sans-serif; font-size:48px; text-anchor:middle;\" transform=\"rotate(0, 1638.39, 1938.71)\" x=\"1638.39\" y=\"1938.71\">18</text>\n",
       "</g>\n",
       "<g clip-path=\"url(#clip3700)\">\n",
       "<text style=\"fill:#000000; fill-opacity:1; font-family:Arial,Helvetica Neue,Helvetica,sans-serif; font-size:48px; text-anchor:end;\" transform=\"rotate(0, 168.156, 1852.15)\" x=\"168.156\" y=\"1852.15\">0.00</text>\n",
       "</g>\n",
       "<g clip-path=\"url(#clip3700)\">\n",
       "<text style=\"fill:#000000; fill-opacity:1; font-family:Arial,Helvetica Neue,Helvetica,sans-serif; font-size:48px; text-anchor:end;\" transform=\"rotate(0, 168.156, 1543.74)\" x=\"168.156\" y=\"1543.74\">0.05</text>\n",
       "</g>\n",
       "<g clip-path=\"url(#clip3700)\">\n",
       "<text style=\"fill:#000000; fill-opacity:1; font-family:Arial,Helvetica Neue,Helvetica,sans-serif; font-size:48px; text-anchor:end;\" transform=\"rotate(0, 168.156, 1235.33)\" x=\"168.156\" y=\"1235.33\">0.10</text>\n",
       "</g>\n",
       "<g clip-path=\"url(#clip3700)\">\n",
       "<text style=\"fill:#000000; fill-opacity:1; font-family:Arial,Helvetica Neue,Helvetica,sans-serif; font-size:48px; text-anchor:end;\" transform=\"rotate(0, 168.156, 926.924)\" x=\"168.156\" y=\"926.924\">0.15</text>\n",
       "</g>\n",
       "<g clip-path=\"url(#clip3700)\">\n",
       "<text style=\"fill:#000000; fill-opacity:1; font-family:Arial,Helvetica Neue,Helvetica,sans-serif; font-size:48px; text-anchor:end;\" transform=\"rotate(0, 168.156, 618.517)\" x=\"168.156\" y=\"618.517\">0.20</text>\n",
       "</g>\n",
       "<g clip-path=\"url(#clip3700)\">\n",
       "<text style=\"fill:#000000; fill-opacity:1; font-family:Arial,Helvetica Neue,Helvetica,sans-serif; font-size:48px; text-anchor:end;\" transform=\"rotate(0, 168.156, 310.109)\" x=\"168.156\" y=\"310.109\">0.25</text>\n",
       "</g>\n",
       "<polyline clip-path=\"url(#clip3702)\" style=\"stroke:#009af9; stroke-width:4; stroke-opacity:1; fill:none\" points=\"\n",
       "  237.206,1834.65 245.423,1834.65 253.639,1834.64 261.855,1834.62 270.071,1834.57 278.287,1834.45 286.503,1834.2 294.719,1833.74 302.935,1833.02 311.151,1831.92 \n",
       "  319.367,1830.33 327.584,1828.04 335.8,1824.78 344.016,1820.28 352.232,1814.33 360.448,1806.68 368.664,1796.91 376.88,1784.16 385.096,1767.22 393.312,1745.02 \n",
       "  401.528,1717.08 409.745,1683.67 417.961,1645.45 426.177,1602.77 434.393,1555.29 442.609,1502.26 450.825,1443.34 459.041,1379.36 467.257,1312.06 475.473,1242.8 \n",
       "  483.689,1171.09 491.905,1094.67 500.122,1011.62 508.338,922.847 516.554,832.709 524.77,746.854 532.986,668.85 541.202,598.26 549.418,531.558 557.634,465.029 \n",
       "  565.85,397.529 574.066,331.363 582.283,270.852 590.499,219.766 598.715,179.585 606.931,149.736 615.147,128.999 623.363,116.193 631.579,109.56 639.795,106.267 \n",
       "  648.011,103.49 656.227,100.447 664.444,99.3044 672.66,103.999 680.876,118.042 689.092,142.959 697.308,177.975 705.524,220.479 713.74,266.754 721.956,313.095 \n",
       "  730.172,357.375 738.388,400.276 746.604,444.924 754.821,494.691 763.037,550.579 771.253,610.223 779.469,669.377 787.685,724.689 795.901,775.53 804.117,823.542 \n",
       "  812.333,870.631 820.549,917.351 828.765,963.033 836.982,1007.25 845.198,1050.85 853.414,1095.31 861.63,1140.97 869.846,1185.97 878.062,1227.34 886.278,1263.26 \n",
       "  894.494,1294.6 902.71,1324.37 910.926,1355.71 919.143,1389.93 927.359,1425.87 935.575,1460.83 943.791,1492.15 952.007,1518.64 960.223,1540.83 968.439,1560.25 \n",
       "  976.655,1578.18 984.871,1594.98 993.087,1610.28 1001.3,1623.67 1009.52,1635.23 1017.74,1645.47 1025.95,1655.1 1034.17,1664.7 1042.38,1674.57 1050.6,1684.63 \n",
       "  1058.82,1694.34 1067.03,1702.87 1075.25,1709.56 1083.46,1714.38 1091.68,1718.05 1099.9,1721.72 1108.11,1726.56 1116.33,1733.28 1124.54,1741.95 1132.76,1751.87 \n",
       "  1140.98,1761.92 1149.19,1771.07 1157.41,1778.74 1165.63,1784.8 1173.84,1789.32 1182.06,1792.49 1190.27,1794.68 1198.49,1796.45 1206.71,1798.34 1214.92,1800.74 \n",
       "  1223.14,1803.7 1231.35,1806.96 1239.57,1810.11 1247.79,1812.79 1256,1814.87 1264.22,1816.55 1272.43,1818.14 1280.65,1819.91 1288.87,1821.89 1297.08,1823.86 \n",
       "  1305.3,1825.46 1313.52,1826.34 1321.73,1826.43 1329.95,1825.93 1338.16,1825.24 1346.38,1824.75 1354.6,1824.72 1362.81,1825.17 1371.03,1825.91 1379.24,1826.73 \n",
       "  1387.46,1827.49 1395.68,1828.17 1403.89,1828.81 1412.11,1829.38 1420.32,1829.81 1428.54,1829.99 1436.76,1829.91 1444.97,1829.69 1453.19,1829.51 1461.4,1829.55 \n",
       "  1469.62,1829.83 1477.84,1830.3 1486.05,1830.82 1494.27,1831.31 1502.49,1831.73 1510.7,1832.05 1518.92,1832.3 1527.13,1832.44 1535.35,1832.5 1543.57,1832.49 \n",
       "  1551.78,1832.47 1560,1832.5 1568.21,1832.63 1576.43,1832.85 1584.65,1833.1 1592.86,1833.28 1601.08,1833.33 1609.29,1833.24 1617.51,1833.08 1625.73,1832.91 \n",
       "  1633.94,1832.76 1642.16,1832.63 1650.38,1832.53 1658.59,1832.49 1666.81,1832.55 1675.02,1832.74 1683.24,1833.07 1691.46,1833.48 1699.67,1833.87 1707.89,1834.2 \n",
       "  1716.1,1834.42 1724.32,1834.54 1732.54,1834.59 1740.75,1834.57 1748.97,1834.48 1757.18,1834.32 1765.4,1834.07 1773.62,1833.78 1781.83,1833.54 1790.05,1833.45 \n",
       "  1798.26,1833.54 1806.48,1833.78 1814.7,1834.06 1822.91,1834.31 1831.13,1834.49 1839.35,1834.58 1847.56,1834.62 1855.78,1834.64 1863.99,1834.65 1872.21,1834.65 \n",
       "  \n",
       "  \"/>\n",
       "<polygon clip-path=\"url(#clip3700)\" points=\"\n",
       "1610.43,227.724 1861.26,227.724 1861.26,106.764 1610.43,106.764 \n",
       "  \" fill=\"#ffffff\" fill-rule=\"evenodd\" fill-opacity=\"1\"/>\n",
       "<polyline clip-path=\"url(#clip3700)\" style=\"stroke:#000000; stroke-width:4; stroke-opacity:1; fill:none\" points=\"\n",
       "  1610.43,227.724 1861.26,227.724 1861.26,106.764 1610.43,106.764 1610.43,227.724 \n",
       "  \"/>\n",
       "<polyline clip-path=\"url(#clip3700)\" style=\"stroke:#009af9; stroke-width:4; stroke-opacity:1; fill:none\" points=\"\n",
       "  1630.43,167.244 1750.43,167.244 \n",
       "  \"/>\n",
       "<g clip-path=\"url(#clip3700)\">\n",
       "<text style=\"fill:#000000; fill-opacity:1; font-family:Arial,Helvetica Neue,Helvetica,sans-serif; font-size:48px; text-anchor:start;\" transform=\"rotate(0, 1770.43, 184.744)\" x=\"1770.43\" y=\"184.744\">y1</text>\n",
       "</g>\n",
       "</svg>\n"
      ],
      "image/svg+xml": [
       "<?xml version=\"1.0\" encoding=\"utf-8\"?>\n",
       "<svg xmlns=\"http://www.w3.org/2000/svg\" xmlns:xlink=\"http://www.w3.org/1999/xlink\" width=\"500\" height=\"500\" viewBox=\"0 0 2000 2000\">\n",
       "<defs>\n",
       "  <clipPath id=\"clip3400\">\n",
       "    <rect x=\"0\" y=\"0\" width=\"2000\" height=\"2000\"/>\n",
       "  </clipPath>\n",
       "</defs>\n",
       "<polygon clip-path=\"url(#clip3400)\" points=\"\n",
       "0,2000 2000,2000 2000,0 0,0 \n",
       "  \" fill=\"#ffffff\" fill-rule=\"evenodd\" fill-opacity=\"1\"/>\n",
       "<defs>\n",
       "  <clipPath id=\"clip3401\">\n",
       "    <rect x=\"400\" y=\"200\" width=\"1401\" height=\"1401\"/>\n",
       "  </clipPath>\n",
       "</defs>\n",
       "<polygon clip-path=\"url(#clip3400)\" points=\"\n",
       "188.156,1886.71 1921.26,1886.71 1921.26,47.2441 188.156,47.2441 \n",
       "  \" fill=\"#ffffff\" fill-rule=\"evenodd\" fill-opacity=\"1\"/>\n",
       "<defs>\n",
       "  <clipPath id=\"clip3402\">\n",
       "    <rect x=\"188\" y=\"47\" width=\"1734\" height=\"1840\"/>\n",
       "  </clipPath>\n",
       "</defs>\n",
       "<polyline clip-path=\"url(#clip3402)\" style=\"stroke:#000000; stroke-width:2; stroke-opacity:0.1; fill:none\" points=\"\n",
       "  438.884,1886.71 438.884,47.2441 \n",
       "  \"/>\n",
       "<polyline clip-path=\"url(#clip3402)\" style=\"stroke:#000000; stroke-width:2; stroke-opacity:0.1; fill:none\" points=\"\n",
       "  738.759,1886.71 738.759,47.2441 \n",
       "  \"/>\n",
       "<polyline clip-path=\"url(#clip3402)\" style=\"stroke:#000000; stroke-width:2; stroke-opacity:0.1; fill:none\" points=\"\n",
       "  1038.63,1886.71 1038.63,47.2441 \n",
       "  \"/>\n",
       "<polyline clip-path=\"url(#clip3402)\" style=\"stroke:#000000; stroke-width:2; stroke-opacity:0.1; fill:none\" points=\"\n",
       "  1338.51,1886.71 1338.51,47.2441 \n",
       "  \"/>\n",
       "<polyline clip-path=\"url(#clip3402)\" style=\"stroke:#000000; stroke-width:2; stroke-opacity:0.1; fill:none\" points=\"\n",
       "  1638.39,1886.71 1638.39,47.2441 \n",
       "  \"/>\n",
       "<polyline clip-path=\"url(#clip3402)\" style=\"stroke:#000000; stroke-width:2; stroke-opacity:0.1; fill:none\" points=\"\n",
       "  188.156,1834.65 1921.26,1834.65 \n",
       "  \"/>\n",
       "<polyline clip-path=\"url(#clip3402)\" style=\"stroke:#000000; stroke-width:2; stroke-opacity:0.1; fill:none\" points=\"\n",
       "  188.156,1526.24 1921.26,1526.24 \n",
       "  \"/>\n",
       "<polyline clip-path=\"url(#clip3402)\" style=\"stroke:#000000; stroke-width:2; stroke-opacity:0.1; fill:none\" points=\"\n",
       "  188.156,1217.83 1921.26,1217.83 \n",
       "  \"/>\n",
       "<polyline clip-path=\"url(#clip3402)\" style=\"stroke:#000000; stroke-width:2; stroke-opacity:0.1; fill:none\" points=\"\n",
       "  188.156,909.424 1921.26,909.424 \n",
       "  \"/>\n",
       "<polyline clip-path=\"url(#clip3402)\" style=\"stroke:#000000; stroke-width:2; stroke-opacity:0.1; fill:none\" points=\"\n",
       "  188.156,601.017 1921.26,601.017 \n",
       "  \"/>\n",
       "<polyline clip-path=\"url(#clip3402)\" style=\"stroke:#000000; stroke-width:2; stroke-opacity:0.1; fill:none\" points=\"\n",
       "  188.156,292.609 1921.26,292.609 \n",
       "  \"/>\n",
       "<polyline clip-path=\"url(#clip3400)\" style=\"stroke:#000000; stroke-width:4; stroke-opacity:1; fill:none\" points=\"\n",
       "  188.156,1886.71 1921.26,1886.71 \n",
       "  \"/>\n",
       "<polyline clip-path=\"url(#clip3400)\" style=\"stroke:#000000; stroke-width:4; stroke-opacity:1; fill:none\" points=\"\n",
       "  188.156,1886.71 188.156,47.2441 \n",
       "  \"/>\n",
       "<polyline clip-path=\"url(#clip3400)\" style=\"stroke:#000000; stroke-width:4; stroke-opacity:1; fill:none\" points=\"\n",
       "  438.884,1886.71 438.884,1859.12 \n",
       "  \"/>\n",
       "<polyline clip-path=\"url(#clip3400)\" style=\"stroke:#000000; stroke-width:4; stroke-opacity:1; fill:none\" points=\"\n",
       "  738.759,1886.71 738.759,1859.12 \n",
       "  \"/>\n",
       "<polyline clip-path=\"url(#clip3400)\" style=\"stroke:#000000; stroke-width:4; stroke-opacity:1; fill:none\" points=\"\n",
       "  1038.63,1886.71 1038.63,1859.12 \n",
       "  \"/>\n",
       "<polyline clip-path=\"url(#clip3400)\" style=\"stroke:#000000; stroke-width:4; stroke-opacity:1; fill:none\" points=\"\n",
       "  1338.51,1886.71 1338.51,1859.12 \n",
       "  \"/>\n",
       "<polyline clip-path=\"url(#clip3400)\" style=\"stroke:#000000; stroke-width:4; stroke-opacity:1; fill:none\" points=\"\n",
       "  1638.39,1886.71 1638.39,1859.12 \n",
       "  \"/>\n",
       "<polyline clip-path=\"url(#clip3400)\" style=\"stroke:#000000; stroke-width:4; stroke-opacity:1; fill:none\" points=\"\n",
       "  188.156,1834.65 214.153,1834.65 \n",
       "  \"/>\n",
       "<polyline clip-path=\"url(#clip3400)\" style=\"stroke:#000000; stroke-width:4; stroke-opacity:1; fill:none\" points=\"\n",
       "  188.156,1526.24 214.153,1526.24 \n",
       "  \"/>\n",
       "<polyline clip-path=\"url(#clip3400)\" style=\"stroke:#000000; stroke-width:4; stroke-opacity:1; fill:none\" points=\"\n",
       "  188.156,1217.83 214.153,1217.83 \n",
       "  \"/>\n",
       "<polyline clip-path=\"url(#clip3400)\" style=\"stroke:#000000; stroke-width:4; stroke-opacity:1; fill:none\" points=\"\n",
       "  188.156,909.424 214.153,909.424 \n",
       "  \"/>\n",
       "<polyline clip-path=\"url(#clip3400)\" style=\"stroke:#000000; stroke-width:4; stroke-opacity:1; fill:none\" points=\"\n",
       "  188.156,601.017 214.153,601.017 \n",
       "  \"/>\n",
       "<polyline clip-path=\"url(#clip3400)\" style=\"stroke:#000000; stroke-width:4; stroke-opacity:1; fill:none\" points=\"\n",
       "  188.156,292.609 214.153,292.609 \n",
       "  \"/>\n",
       "<g clip-path=\"url(#clip3400)\">\n",
       "<text style=\"fill:#000000; fill-opacity:1; font-family:Arial,Helvetica Neue,Helvetica,sans-serif; font-size:48px; text-anchor:middle;\" transform=\"rotate(0, 438.884, 1938.71)\" x=\"438.884\" y=\"1938.71\">6</text>\n",
       "</g>\n",
       "<g clip-path=\"url(#clip3400)\">\n",
       "<text style=\"fill:#000000; fill-opacity:1; font-family:Arial,Helvetica Neue,Helvetica,sans-serif; font-size:48px; text-anchor:middle;\" transform=\"rotate(0, 738.759, 1938.71)\" x=\"738.759\" y=\"1938.71\">9</text>\n",
       "</g>\n",
       "<g clip-path=\"url(#clip3400)\">\n",
       "<text style=\"fill:#000000; fill-opacity:1; font-family:Arial,Helvetica Neue,Helvetica,sans-serif; font-size:48px; text-anchor:middle;\" transform=\"rotate(0, 1038.63, 1938.71)\" x=\"1038.63\" y=\"1938.71\">12</text>\n",
       "</g>\n",
       "<g clip-path=\"url(#clip3400)\">\n",
       "<text style=\"fill:#000000; fill-opacity:1; font-family:Arial,Helvetica Neue,Helvetica,sans-serif; font-size:48px; text-anchor:middle;\" transform=\"rotate(0, 1338.51, 1938.71)\" x=\"1338.51\" y=\"1938.71\">15</text>\n",
       "</g>\n",
       "<g clip-path=\"url(#clip3400)\">\n",
       "<text style=\"fill:#000000; fill-opacity:1; font-family:Arial,Helvetica Neue,Helvetica,sans-serif; font-size:48px; text-anchor:middle;\" transform=\"rotate(0, 1638.39, 1938.71)\" x=\"1638.39\" y=\"1938.71\">18</text>\n",
       "</g>\n",
       "<g clip-path=\"url(#clip3400)\">\n",
       "<text style=\"fill:#000000; fill-opacity:1; font-family:Arial,Helvetica Neue,Helvetica,sans-serif; font-size:48px; text-anchor:end;\" transform=\"rotate(0, 168.156, 1852.15)\" x=\"168.156\" y=\"1852.15\">0.00</text>\n",
       "</g>\n",
       "<g clip-path=\"url(#clip3400)\">\n",
       "<text style=\"fill:#000000; fill-opacity:1; font-family:Arial,Helvetica Neue,Helvetica,sans-serif; font-size:48px; text-anchor:end;\" transform=\"rotate(0, 168.156, 1543.74)\" x=\"168.156\" y=\"1543.74\">0.05</text>\n",
       "</g>\n",
       "<g clip-path=\"url(#clip3400)\">\n",
       "<text style=\"fill:#000000; fill-opacity:1; font-family:Arial,Helvetica Neue,Helvetica,sans-serif; font-size:48px; text-anchor:end;\" transform=\"rotate(0, 168.156, 1235.33)\" x=\"168.156\" y=\"1235.33\">0.10</text>\n",
       "</g>\n",
       "<g clip-path=\"url(#clip3400)\">\n",
       "<text style=\"fill:#000000; fill-opacity:1; font-family:Arial,Helvetica Neue,Helvetica,sans-serif; font-size:48px; text-anchor:end;\" transform=\"rotate(0, 168.156, 926.924)\" x=\"168.156\" y=\"926.924\">0.15</text>\n",
       "</g>\n",
       "<g clip-path=\"url(#clip3400)\">\n",
       "<text style=\"fill:#000000; fill-opacity:1; font-family:Arial,Helvetica Neue,Helvetica,sans-serif; font-size:48px; text-anchor:end;\" transform=\"rotate(0, 168.156, 618.517)\" x=\"168.156\" y=\"618.517\">0.20</text>\n",
       "</g>\n",
       "<g clip-path=\"url(#clip3400)\">\n",
       "<text style=\"fill:#000000; fill-opacity:1; font-family:Arial,Helvetica Neue,Helvetica,sans-serif; font-size:48px; text-anchor:end;\" transform=\"rotate(0, 168.156, 310.109)\" x=\"168.156\" y=\"310.109\">0.25</text>\n",
       "</g>\n",
       "<polyline clip-path=\"url(#clip3402)\" style=\"stroke:#009af9; stroke-width:4; stroke-opacity:1; fill:none\" points=\"\n",
       "  237.206,1834.65 245.423,1834.65 253.639,1834.64 261.855,1834.62 270.071,1834.57 278.287,1834.45 286.503,1834.2 294.719,1833.74 302.935,1833.02 311.151,1831.92 \n",
       "  319.367,1830.33 327.584,1828.04 335.8,1824.78 344.016,1820.28 352.232,1814.33 360.448,1806.68 368.664,1796.91 376.88,1784.16 385.096,1767.22 393.312,1745.02 \n",
       "  401.528,1717.08 409.745,1683.67 417.961,1645.45 426.177,1602.77 434.393,1555.29 442.609,1502.26 450.825,1443.34 459.041,1379.36 467.257,1312.06 475.473,1242.8 \n",
       "  483.689,1171.09 491.905,1094.67 500.122,1011.62 508.338,922.847 516.554,832.709 524.77,746.854 532.986,668.85 541.202,598.26 549.418,531.558 557.634,465.029 \n",
       "  565.85,397.529 574.066,331.363 582.283,270.852 590.499,219.766 598.715,179.585 606.931,149.736 615.147,128.999 623.363,116.193 631.579,109.56 639.795,106.267 \n",
       "  648.011,103.49 656.227,100.447 664.444,99.3044 672.66,103.999 680.876,118.042 689.092,142.959 697.308,177.975 705.524,220.479 713.74,266.754 721.956,313.095 \n",
       "  730.172,357.375 738.388,400.276 746.604,444.924 754.821,494.691 763.037,550.579 771.253,610.223 779.469,669.377 787.685,724.689 795.901,775.53 804.117,823.542 \n",
       "  812.333,870.631 820.549,917.351 828.765,963.033 836.982,1007.25 845.198,1050.85 853.414,1095.31 861.63,1140.97 869.846,1185.97 878.062,1227.34 886.278,1263.26 \n",
       "  894.494,1294.6 902.71,1324.37 910.926,1355.71 919.143,1389.93 927.359,1425.87 935.575,1460.83 943.791,1492.15 952.007,1518.64 960.223,1540.83 968.439,1560.25 \n",
       "  976.655,1578.18 984.871,1594.98 993.087,1610.28 1001.3,1623.67 1009.52,1635.23 1017.74,1645.47 1025.95,1655.1 1034.17,1664.7 1042.38,1674.57 1050.6,1684.63 \n",
       "  1058.82,1694.34 1067.03,1702.87 1075.25,1709.56 1083.46,1714.38 1091.68,1718.05 1099.9,1721.72 1108.11,1726.56 1116.33,1733.28 1124.54,1741.95 1132.76,1751.87 \n",
       "  1140.98,1761.92 1149.19,1771.07 1157.41,1778.74 1165.63,1784.8 1173.84,1789.32 1182.06,1792.49 1190.27,1794.68 1198.49,1796.45 1206.71,1798.34 1214.92,1800.74 \n",
       "  1223.14,1803.7 1231.35,1806.96 1239.57,1810.11 1247.79,1812.79 1256,1814.87 1264.22,1816.55 1272.43,1818.14 1280.65,1819.91 1288.87,1821.89 1297.08,1823.86 \n",
       "  1305.3,1825.46 1313.52,1826.34 1321.73,1826.43 1329.95,1825.93 1338.16,1825.24 1346.38,1824.75 1354.6,1824.72 1362.81,1825.17 1371.03,1825.91 1379.24,1826.73 \n",
       "  1387.46,1827.49 1395.68,1828.17 1403.89,1828.81 1412.11,1829.38 1420.32,1829.81 1428.54,1829.99 1436.76,1829.91 1444.97,1829.69 1453.19,1829.51 1461.4,1829.55 \n",
       "  1469.62,1829.83 1477.84,1830.3 1486.05,1830.82 1494.27,1831.31 1502.49,1831.73 1510.7,1832.05 1518.92,1832.3 1527.13,1832.44 1535.35,1832.5 1543.57,1832.49 \n",
       "  1551.78,1832.47 1560,1832.5 1568.21,1832.63 1576.43,1832.85 1584.65,1833.1 1592.86,1833.28 1601.08,1833.33 1609.29,1833.24 1617.51,1833.08 1625.73,1832.91 \n",
       "  1633.94,1832.76 1642.16,1832.63 1650.38,1832.53 1658.59,1832.49 1666.81,1832.55 1675.02,1832.74 1683.24,1833.07 1691.46,1833.48 1699.67,1833.87 1707.89,1834.2 \n",
       "  1716.1,1834.42 1724.32,1834.54 1732.54,1834.59 1740.75,1834.57 1748.97,1834.48 1757.18,1834.32 1765.4,1834.07 1773.62,1833.78 1781.83,1833.54 1790.05,1833.45 \n",
       "  1798.26,1833.54 1806.48,1833.78 1814.7,1834.06 1822.91,1834.31 1831.13,1834.49 1839.35,1834.58 1847.56,1834.62 1855.78,1834.64 1863.99,1834.65 1872.21,1834.65 \n",
       "  \n",
       "  \"/>\n",
       "<polygon clip-path=\"url(#clip3400)\" points=\"\n",
       "1610.43,227.724 1861.26,227.724 1861.26,106.764 1610.43,106.764 \n",
       "  \" fill=\"#ffffff\" fill-rule=\"evenodd\" fill-opacity=\"1\"/>\n",
       "<polyline clip-path=\"url(#clip3400)\" style=\"stroke:#000000; stroke-width:4; stroke-opacity:1; fill:none\" points=\"\n",
       "  1610.43,227.724 1861.26,227.724 1861.26,106.764 1610.43,106.764 1610.43,227.724 \n",
       "  \"/>\n",
       "<polyline clip-path=\"url(#clip3400)\" style=\"stroke:#009af9; stroke-width:4; stroke-opacity:1; fill:none\" points=\"\n",
       "  1630.43,167.244 1750.43,167.244 \n",
       "  \"/>\n",
       "<g clip-path=\"url(#clip3400)\">\n",
       "<text style=\"fill:#000000; fill-opacity:1; font-family:Arial,Helvetica Neue,Helvetica,sans-serif; font-size:48px; text-anchor:start;\" transform=\"rotate(0, 1770.43, 184.744)\" x=\"1770.43\" y=\"184.744\">y1</text>\n",
       "</g>\n",
       "</svg>\n"
      ]
     },
     "metadata": {},
     "execution_count": 8
    }
   ],
   "cell_type": "code",
   "source": [
    "density(samples[:sigma])"
   ],
   "metadata": {},
   "execution_count": 8
  },
  {
   "outputs": [],
   "cell_type": "markdown",
   "source": [
    "End of `clip-21-23.jl`"
   ],
   "metadata": {}
  },
  {
   "outputs": [],
   "cell_type": "markdown",
   "source": [
    "*This notebook was generated using [Literate.jl](https://github.com/fredrikekre/Literate.jl).*"
   ],
   "metadata": {}
  }
 ],
 "nbformat_minor": 3,
 "metadata": {
  "language_info": {
   "file_extension": ".jl",
   "mimetype": "application/julia",
   "name": "julia",
   "version": "1.2.0-pre.0"
  },
  "kernelspec": {
   "name": "julia-1.2",
   "display_name": "Julia 1.2.0-pre.0",
   "language": "julia"
  }
 },
 "nbformat": 4
}
