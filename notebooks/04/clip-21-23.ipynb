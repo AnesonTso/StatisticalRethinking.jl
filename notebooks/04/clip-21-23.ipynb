{
 "cells": [
  {
   "outputs": [],
   "cell_type": "markdown",
   "source": [
    "Load Julia packages (libraries) needed  for the snippets in chapter 0"
   ],
   "metadata": {}
  },
  {
   "outputs": [],
   "cell_type": "code",
   "source": [
    "using StatisticalRethinking, CmdStan\n",
    "gr(size=(500,500));"
   ],
   "metadata": {},
   "execution_count": 1
  },
  {
   "outputs": [],
   "cell_type": "markdown",
   "source": [
    "CmdStan uses a tmp directory to store the output of cmdstan"
   ],
   "metadata": {}
  },
  {
   "outputs": [],
   "cell_type": "code",
   "source": [
    "ProjDir = rel_path(\"..\", \"scripts\", \"04\")\n",
    "cd(ProjDir)"
   ],
   "metadata": {},
   "execution_count": 2
  },
  {
   "outputs": [],
   "cell_type": "markdown",
   "source": [
    "CmdStan uses a tmp directory to store the output of cmdstan"
   ],
   "metadata": {}
  },
  {
   "outputs": [],
   "cell_type": "code",
   "source": [
    "ProjDir = rel_path(\"..\", \"scripts\", \"04\")\n",
    "cd(ProjDir)"
   ],
   "metadata": {},
   "execution_count": 3
  },
  {
   "outputs": [
    {
     "output_type": "execute_result",
     "data": {
      "text/plain": "5×4 DataFrame\n│ Row │ height  │ weight  │ age     │ male  │\n│     │ \u001b[90mFloat64\u001b[39m │ \u001b[90mFloat64\u001b[39m │ \u001b[90mFloat64\u001b[39m │ \u001b[90mInt64\u001b[39m │\n├─────┼─────────┼─────────┼─────────┼───────┤\n│ 1   │ 151.765 │ 47.8256 │ 63.0    │ 1     │\n│ 2   │ 139.7   │ 36.4858 │ 63.0    │ 0     │\n│ 3   │ 136.525 │ 31.8648 │ 65.0    │ 0     │\n│ 4   │ 156.845 │ 53.0419 │ 41.0    │ 1     │\n│ 5   │ 145.415 │ 41.2769 │ 51.0    │ 0     │",
      "text/html": [
       "<table class=\"data-frame\"><thead><tr><th></th><th>height</th><th>weight</th><th>age</th><th>male</th></tr><tr><th></th><th>Float64</th><th>Float64</th><th>Float64</th><th>Int64</th></tr></thead><tbody><p>5 rows × 4 columns</p><tr><th>1</th><td>151.765</td><td>47.8256</td><td>63.0</td><td>1</td></tr><tr><th>2</th><td>139.7</td><td>36.4858</td><td>63.0</td><td>0</td></tr><tr><th>3</th><td>136.525</td><td>31.8648</td><td>65.0</td><td>0</td></tr><tr><th>4</th><td>156.845</td><td>53.0419</td><td>41.0</td><td>1</td></tr><tr><th>5</th><td>145.415</td><td>41.2769</td><td>51.0</td><td>0</td></tr></tbody></table>"
      ]
     },
     "metadata": {},
     "execution_count": 4
    }
   ],
   "cell_type": "code",
   "source": [
    "howell1 = CSV.read(rel_path(\"..\", \"data\", \"Howell1.csv\"), delim=';')\n",
    "df = convert(DataFrame, howell1);\n",
    "df2 = filter(row -> row[:age] >= 18, df);\n",
    "first(df2, 5)"
   ],
   "metadata": {},
   "execution_count": 4
  },
  {
   "outputs": [],
   "cell_type": "markdown",
   "source": [
    "### Snippet 4.21"
   ],
   "metadata": {}
  },
  {
   "outputs": [],
   "cell_type": "markdown",
   "source": [
    "Sample 20 random heights"
   ],
   "metadata": {}
  },
  {
   "outputs": [],
   "cell_type": "code",
   "source": [
    "n = size(df2, 1)\n",
    "selected_ind = sample(1:n, 20, replace=false);\n",
    "df3 = df2[selected_ind, :];"
   ],
   "metadata": {},
   "execution_count": 5
  },
  {
   "outputs": [],
   "cell_type": "markdown",
   "source": [
    "### Snippet 4.22"
   ],
   "metadata": {}
  },
  {
   "outputs": [],
   "cell_type": "markdown",
   "source": [
    "Generate approximate probabilities"
   ],
   "metadata": {}
  },
  {
   "outputs": [
    {
     "name": "stdout",
     "output_type": "stream",
     "text": [
      "┌ Warning: `getindex(df::DataFrame, col_ind::ColumnIndex)` is deprecated, use `df[!, col_ind]` instead.\n",
      "│   caller = top-level scope at string:15\n",
      "└ @ Core ./string:15\n"
     ]
    },
    {
     "output_type": "execute_result",
     "data": {
      "text/plain": "10×5 DataFrame\n│ Row │ mu      │ sigma   │ ll       │ prod     │ prob        │\n│     │ \u001b[90mFloat64\u001b[39m │ \u001b[90mFloat64\u001b[39m │ \u001b[90mFloat64\u001b[39m  │ \u001b[90mFloat64\u001b[39m  │ \u001b[90mFloat64\u001b[39m     │\n├─────┼─────────┼─────────┼──────────┼──────────┼─────────────┤\n│ 1   │ 140.0   │ 4.0     │ -215.185 │ -224.816 │ 1.34567e-64 │\n│ 2   │ 140.151 │ 4.0     │ -212.461 │ -222.079 │ 2.07911e-63 │\n│ 3   │ 140.302 │ 4.0     │ -209.766 │ -219.369 │ 3.12217e-62 │\n│ 4   │ 140.452 │ 4.0     │ -207.1   │ -216.689 │ 4.55693e-61 │\n│ 5   │ 140.603 │ 4.0     │ -204.462 │ -214.036 │ 6.46436e-60 │\n│ 6   │ 140.754 │ 4.0     │ -201.852 │ -211.413 │ 8.91285e-59 │\n│ 7   │ 140.905 │ 4.0     │ -199.271 │ -208.817 │ 1.19439e-57 │\n│ 8   │ 141.055 │ 4.0     │ -196.718 │ -206.251 │ 1.55565e-56 │\n│ 9   │ 141.206 │ 4.0     │ -194.193 │ -203.712 │ 1.96932e-55 │\n│ 10  │ 141.357 │ 4.0     │ -191.697 │ -201.202 │ 2.42303e-54 │",
      "text/html": [
       "<table class=\"data-frame\"><thead><tr><th></th><th>mu</th><th>sigma</th><th>ll</th><th>prod</th><th>prob</th></tr><tr><th></th><th>Float64</th><th>Float64</th><th>Float64</th><th>Float64</th><th>Float64</th></tr></thead><tbody><p>10 rows × 5 columns</p><tr><th>1</th><td>140.0</td><td>4.0</td><td>-215.185</td><td>-224.816</td><td>1.34567e-64</td></tr><tr><th>2</th><td>140.151</td><td>4.0</td><td>-212.461</td><td>-222.079</td><td>2.07911e-63</td></tr><tr><th>3</th><td>140.302</td><td>4.0</td><td>-209.766</td><td>-219.369</td><td>3.12217e-62</td></tr><tr><th>4</th><td>140.452</td><td>4.0</td><td>-207.1</td><td>-216.689</td><td>4.55693e-61</td></tr><tr><th>5</th><td>140.603</td><td>4.0</td><td>-204.462</td><td>-214.036</td><td>6.46436e-60</td></tr><tr><th>6</th><td>140.754</td><td>4.0</td><td>-201.852</td><td>-211.413</td><td>8.91285e-59</td></tr><tr><th>7</th><td>140.905</td><td>4.0</td><td>-199.271</td><td>-208.817</td><td>1.19439e-57</td></tr><tr><th>8</th><td>141.055</td><td>4.0</td><td>-196.718</td><td>-206.251</td><td>1.55565e-56</td></tr><tr><th>9</th><td>141.206</td><td>4.0</td><td>-194.193</td><td>-203.712</td><td>1.96932e-55</td></tr><tr><th>10</th><td>141.357</td><td>4.0</td><td>-191.697</td><td>-201.202</td><td>2.42303e-54</td></tr></tbody></table>"
      ]
     },
     "metadata": {},
     "execution_count": 6
    }
   ],
   "cell_type": "code",
   "source": [
    "struct Post\n",
    "  mu::Float64\n",
    "  sigma::Float64\n",
    "  ll:: Float64\n",
    "  prod::Float64\n",
    "  prob::Float64\n",
    "end\n",
    "\n",
    "mu_list = repeat(range(140, 170, length=200), 200);\n",
    "sigma_list = repeat(range(4, 20, length=200), inner=200);\n",
    "\n",
    "ll = zeros(40000);\n",
    "for i in 1:40000\n",
    "    d1 = Normal(mu_list[i], sigma_list[i])\n",
    "    ll[i] = sum(log.(pdf.(d1, df3[:height])))\n",
    "end\n",
    "\n",
    "d2 = Normal(178.0, 20.0)\n",
    "d3 = Uniform(0, 50)\n",
    "prod = ll + log.(pdf.(d2, mu_list)) + log.(pdf.(d3, sigma_list))\n",
    "prob = exp.(prod .- maximum(prod))\n",
    "post = DataFrame(mu=mu_list, sigma=sigma_list, ll=ll, prod=prod, prob=prob)\n",
    "first(post, 10)"
   ],
   "metadata": {},
   "execution_count": 6
  },
  {
   "outputs": [],
   "cell_type": "markdown",
   "source": [
    "Sample post"
   ],
   "metadata": {}
  },
  {
   "outputs": [
    {
     "name": "stdout",
     "output_type": "stream",
     "text": [
      "┌ Warning: `getindex(df::DataFrame, col_ind::ColumnIndex)` is deprecated, use `df[!, col_ind]` instead.\n",
      "│   caller = top-level scope at string:1\n",
      "└ @ Core string:1\n"
     ]
    },
    {
     "output_type": "execute_result",
     "data": {
      "text/plain": "10000×5 DataFrame\n│ Row   │ mu      │ sigma   │ ll       │ prod     │ prob      │\n│       │ \u001b[90mFloat64\u001b[39m │ \u001b[90mFloat64\u001b[39m │ \u001b[90mFloat64\u001b[39m  │ \u001b[90mFloat64\u001b[39m  │ \u001b[90mFloat64\u001b[39m   │\n├───────┼─────────┼─────────┼──────────┼──────────┼───────────┤\n│ 1     │ 156.131 │ 6.73367 │ -70.2077 │ -78.6322 │ 0.412905  │\n│ 2     │ 156.734 │ 10.4322 │ -71.19   │ -79.582  │ 0.159716  │\n│ 3     │ 154.322 │ 7.53769 │ -69.2545 │ -77.782  │ 0.966247  │\n│ 4     │ 155.226 │ 7.45729 │ -69.3474 │ -77.8224 │ 0.928016  │\n│ 5     │ 156.583 │ 8.0201  │ -69.923  │ -78.3231 │ 0.562457  │\n│ 6     │ 157.487 │ 8.82412 │ -70.6936 │ -79.0463 │ 0.272903  │\n│ 7     │ 153.116 │ 11.9598 │ -72.308  │ -80.9087 │ 0.0423816 │\n⋮\n│ 9993  │ 155.226 │ 8.58291 │ -69.5157 │ -77.9907 │ 0.78423   │\n│ 9994  │ 151.608 │ 7.8593  │ -70.6229 │ -79.3203 │ 0.207495  │\n│ 9995  │ 154.322 │ 6.49246 │ -69.9141 │ -78.4416 │ 0.499605  │\n│ 9996  │ 151.759 │ 10.1106 │ -71.2194 │ -79.9069 │ 0.115415  │\n│ 9997  │ 155.829 │ 9.30653 │ -70.057  │ -78.4982 │ 0.472131  │\n│ 9998  │ 152.663 │ 9.46734 │ -70.3602 │ -78.9894 │ 0.28889   │\n│ 9999  │ 157.94  │ 7.61809 │ -71.2459 │ -79.5756 │ 0.160742  │\n│ 10000 │ 152.663 │ 9.22613 │ -70.2162 │ -78.8453 │ 0.333655  │",
      "text/html": [
       "<table class=\"data-frame\"><thead><tr><th></th><th>mu</th><th>sigma</th><th>ll</th><th>prod</th><th>prob</th></tr><tr><th></th><th>Float64</th><th>Float64</th><th>Float64</th><th>Float64</th><th>Float64</th></tr></thead><tbody><p>10,000 rows × 5 columns</p><tr><th>1</th><td>156.131</td><td>6.73367</td><td>-70.2077</td><td>-78.6322</td><td>0.412905</td></tr><tr><th>2</th><td>156.734</td><td>10.4322</td><td>-71.19</td><td>-79.582</td><td>0.159716</td></tr><tr><th>3</th><td>154.322</td><td>7.53769</td><td>-69.2545</td><td>-77.782</td><td>0.966247</td></tr><tr><th>4</th><td>155.226</td><td>7.45729</td><td>-69.3474</td><td>-77.8224</td><td>0.928016</td></tr><tr><th>5</th><td>156.583</td><td>8.0201</td><td>-69.923</td><td>-78.3231</td><td>0.562457</td></tr><tr><th>6</th><td>157.487</td><td>8.82412</td><td>-70.6936</td><td>-79.0463</td><td>0.272903</td></tr><tr><th>7</th><td>153.116</td><td>11.9598</td><td>-72.308</td><td>-80.9087</td><td>0.0423816</td></tr><tr><th>8</th><td>155.528</td><td>9.94975</td><td>-70.4397</td><td>-78.8977</td><td>0.316629</td></tr><tr><th>9</th><td>156.281</td><td>8.1005</td><td>-69.7518</td><td>-78.1681</td><td>0.656725</td></tr><tr><th>10</th><td>152.814</td><td>6.73367</td><td>-70.288</td><td>-78.9076</td><td>0.313513</td></tr><tr><th>11</th><td>156.432</td><td>7.61809</td><td>-69.8646</td><td>-78.2728</td><td>0.591468</td></tr><tr><th>12</th><td>163.367</td><td>9.78894</td><td>-78.3662</td><td>-86.4606</td><td>0.00016445</td></tr><tr><th>13</th><td>155.226</td><td>10.4322</td><td>-70.7875</td><td>-79.2626</td><td>0.21983</td></tr><tr><th>14</th><td>153.266</td><td>7.13568</td><td>-69.676</td><td>-78.2674</td><td>0.59465</td></tr><tr><th>15</th><td>152.965</td><td>9.78894</td><td>-70.4666</td><td>-79.0767</td><td>0.264729</td></tr><tr><th>16</th><td>152.362</td><td>10.9146</td><td>-71.5679</td><td>-80.2162</td><td>0.0847051</td></tr><tr><th>17</th><td>148.894</td><td>9.78894</td><td>-73.5229</td><td>-82.4085</td><td>0.00945827</td></tr><tr><th>18</th><td>151.457</td><td>9.54774</td><td>-71.0643</td><td>-79.7716</td><td>0.132126</td></tr><tr><th>19</th><td>152.965</td><td>7.8593</td><td>-69.6385</td><td>-78.2487</td><td>0.605917</td></tr><tr><th>20</th><td>154.925</td><td>8.0201</td><td>-69.2906</td><td>-77.7829</td><td>0.965366</td></tr><tr><th>21</th><td>156.583</td><td>8.42211</td><td>-69.9782</td><td>-78.3782</td><td>0.532277</td></tr><tr><th>22</th><td>159.899</td><td>10.191</td><td>-73.3156</td><td>-81.5518</td><td>0.022278</td></tr><tr><th>23</th><td>152.362</td><td>7.45729</td><td>-70.1027</td><td>-78.7511</td><td>0.366626</td></tr><tr><th>24</th><td>153.116</td><td>8.58291</td><td>-69.7199</td><td>-78.3207</td><td>0.563831</td></tr><tr><th>&vellip;</th><td>&vellip;</td><td>&vellip;</td><td>&vellip;</td><td>&vellip;</td><td>&vellip;</td></tr></tbody></table>"
      ]
     },
     "metadata": {},
     "execution_count": 7
    }
   ],
   "cell_type": "code",
   "source": [
    "samples = post[sample(1:size(post, 1), Weights(post[:prob]), 10000, replace=true), :]"
   ],
   "metadata": {},
   "execution_count": 7
  },
  {
   "outputs": [],
   "cell_type": "markdown",
   "source": [
    "### Snippet 4.23"
   ],
   "metadata": {}
  },
  {
   "outputs": [],
   "cell_type": "markdown",
   "source": [
    "Density of sigma"
   ],
   "metadata": {}
  },
  {
   "outputs": [
    {
     "name": "stdout",
     "output_type": "stream",
     "text": [
      "┌ Warning: `getindex(df::DataFrame, col_ind::ColumnIndex)` is deprecated, use `df[!, col_ind]` instead.\n",
      "│   caller = top-level scope at string:1\n",
      "└ @ Core string:1\n"
     ]
    },
    {
     "output_type": "execute_result",
     "data": {
      "text/plain": "Plot{Plots.GRBackend() n=1}",
      "image/png": "[encoded data removed]",
      "text/html": [
       "<?xml version=\"1.0\" encoding=\"utf-8\"?>\n",
       "<svg xmlns=\"http://www.w3.org/2000/svg\" xmlns:xlink=\"http://www.w3.org/1999/xlink\" width=\"500\" height=\"500\" viewBox=\"0 0 2000 2000\">\n",
       "<defs>\n",
       "  <clipPath id=\"clip8800\">\n",
       "    <rect x=\"0\" y=\"0\" width=\"2000\" height=\"2000\"/>\n",
       "  </clipPath>\n",
       "</defs>\n",
       "<polygon clip-path=\"url(#clip8800)\" points=\"\n",
       "0,2000 2000,2000 2000,0 0,0 \n",
       "  \" fill=\"#ffffff\" fill-rule=\"evenodd\" fill-opacity=\"1\"/>\n",
       "<defs>\n",
       "  <clipPath id=\"clip8801\">\n",
       "    <rect x=\"400\" y=\"200\" width=\"1401\" height=\"1401\"/>\n",
       "  </clipPath>\n",
       "</defs>\n",
       "<polygon clip-path=\"url(#clip8800)\" points=\"\n",
       "176.66,1866.71 1952.76,1866.71 1952.76,47.2441 176.66,47.2441 \n",
       "  \" fill=\"#ffffff\" fill-rule=\"evenodd\" fill-opacity=\"1\"/>\n",
       "<defs>\n",
       "  <clipPath id=\"clip8802\">\n",
       "    <rect x=\"176\" y=\"47\" width=\"1777\" height=\"1820\"/>\n",
       "  </clipPath>\n",
       "</defs>\n",
       "<polyline clip-path=\"url(#clip8802)\" style=\"stroke:#000000; stroke-width:2; stroke-opacity:0.1; fill:none\" points=\"\n",
       "  458.373,1866.71 458.373,47.2441 \n",
       "  \"/>\n",
       "<polyline clip-path=\"url(#clip8802)\" style=\"stroke:#000000; stroke-width:2; stroke-opacity:0.1; fill:none\" points=\"\n",
       "  808.452,1866.71 808.452,47.2441 \n",
       "  \"/>\n",
       "<polyline clip-path=\"url(#clip8802)\" style=\"stroke:#000000; stroke-width:2; stroke-opacity:0.1; fill:none\" points=\"\n",
       "  1158.53,1866.71 1158.53,47.2441 \n",
       "  \"/>\n",
       "<polyline clip-path=\"url(#clip8802)\" style=\"stroke:#000000; stroke-width:2; stroke-opacity:0.1; fill:none\" points=\"\n",
       "  1508.61,1866.71 1508.61,47.2441 \n",
       "  \"/>\n",
       "<polyline clip-path=\"url(#clip8802)\" style=\"stroke:#000000; stroke-width:2; stroke-opacity:0.1; fill:none\" points=\"\n",
       "  1858.69,1866.71 1858.69,47.2441 \n",
       "  \"/>\n",
       "<polyline clip-path=\"url(#clip8802)\" style=\"stroke:#000000; stroke-width:2; stroke-opacity:0.1; fill:none\" points=\"\n",
       "  176.66,1815.21 1952.76,1815.21 \n",
       "  \"/>\n",
       "<polyline clip-path=\"url(#clip8802)\" style=\"stroke:#000000; stroke-width:2; stroke-opacity:0.1; fill:none\" points=\"\n",
       "  176.66,1520.27 1952.76,1520.27 \n",
       "  \"/>\n",
       "<polyline clip-path=\"url(#clip8802)\" style=\"stroke:#000000; stroke-width:2; stroke-opacity:0.1; fill:none\" points=\"\n",
       "  176.66,1225.33 1952.76,1225.33 \n",
       "  \"/>\n",
       "<polyline clip-path=\"url(#clip8802)\" style=\"stroke:#000000; stroke-width:2; stroke-opacity:0.1; fill:none\" points=\"\n",
       "  176.66,930.383 1952.76,930.383 \n",
       "  \"/>\n",
       "<polyline clip-path=\"url(#clip8802)\" style=\"stroke:#000000; stroke-width:2; stroke-opacity:0.1; fill:none\" points=\"\n",
       "  176.66,635.44 1952.76,635.44 \n",
       "  \"/>\n",
       "<polyline clip-path=\"url(#clip8802)\" style=\"stroke:#000000; stroke-width:2; stroke-opacity:0.1; fill:none\" points=\"\n",
       "  176.66,340.496 1952.76,340.496 \n",
       "  \"/>\n",
       "<polyline clip-path=\"url(#clip8800)\" style=\"stroke:#000000; stroke-width:4; stroke-opacity:1; fill:none\" points=\"\n",
       "  176.66,1866.71 1952.76,1866.71 \n",
       "  \"/>\n",
       "<polyline clip-path=\"url(#clip8800)\" style=\"stroke:#000000; stroke-width:4; stroke-opacity:1; fill:none\" points=\"\n",
       "  176.66,1866.71 176.66,47.2441 \n",
       "  \"/>\n",
       "<polyline clip-path=\"url(#clip8800)\" style=\"stroke:#000000; stroke-width:4; stroke-opacity:1; fill:none\" points=\"\n",
       "  458.373,1866.71 458.373,1839.42 \n",
       "  \"/>\n",
       "<polyline clip-path=\"url(#clip8800)\" style=\"stroke:#000000; stroke-width:4; stroke-opacity:1; fill:none\" points=\"\n",
       "  808.452,1866.71 808.452,1839.42 \n",
       "  \"/>\n",
       "<polyline clip-path=\"url(#clip8800)\" style=\"stroke:#000000; stroke-width:4; stroke-opacity:1; fill:none\" points=\"\n",
       "  1158.53,1866.71 1158.53,1839.42 \n",
       "  \"/>\n",
       "<polyline clip-path=\"url(#clip8800)\" style=\"stroke:#000000; stroke-width:4; stroke-opacity:1; fill:none\" points=\"\n",
       "  1508.61,1866.71 1508.61,1839.42 \n",
       "  \"/>\n",
       "<polyline clip-path=\"url(#clip8800)\" style=\"stroke:#000000; stroke-width:4; stroke-opacity:1; fill:none\" points=\"\n",
       "  1858.69,1866.71 1858.69,1839.42 \n",
       "  \"/>\n",
       "<polyline clip-path=\"url(#clip8800)\" style=\"stroke:#000000; stroke-width:4; stroke-opacity:1; fill:none\" points=\"\n",
       "  176.66,1815.21 203.302,1815.21 \n",
       "  \"/>\n",
       "<polyline clip-path=\"url(#clip8800)\" style=\"stroke:#000000; stroke-width:4; stroke-opacity:1; fill:none\" points=\"\n",
       "  176.66,1520.27 203.302,1520.27 \n",
       "  \"/>\n",
       "<polyline clip-path=\"url(#clip8800)\" style=\"stroke:#000000; stroke-width:4; stroke-opacity:1; fill:none\" points=\"\n",
       "  176.66,1225.33 203.302,1225.33 \n",
       "  \"/>\n",
       "<polyline clip-path=\"url(#clip8800)\" style=\"stroke:#000000; stroke-width:4; stroke-opacity:1; fill:none\" points=\"\n",
       "  176.66,930.383 203.302,930.383 \n",
       "  \"/>\n",
       "<polyline clip-path=\"url(#clip8800)\" style=\"stroke:#000000; stroke-width:4; stroke-opacity:1; fill:none\" points=\"\n",
       "  176.66,635.44 203.302,635.44 \n",
       "  \"/>\n",
       "<polyline clip-path=\"url(#clip8800)\" style=\"stroke:#000000; stroke-width:4; stroke-opacity:1; fill:none\" points=\"\n",
       "  176.66,340.496 203.302,340.496 \n",
       "  \"/>\n",
       "<g clip-path=\"url(#clip8800)\">\n",
       "<text style=\"fill:#000000; fill-opacity:1; font-family:Arial,Helvetica Neue,Helvetica,sans-serif; font-size:48px; text-anchor:middle;\" transform=\"rotate(0, 458.373, 1918.71)\" x=\"458.373\" y=\"1918.71\">6</text>\n",
       "</g>\n",
       "<g clip-path=\"url(#clip8800)\">\n",
       "<text style=\"fill:#000000; fill-opacity:1; font-family:Arial,Helvetica Neue,Helvetica,sans-serif; font-size:48px; text-anchor:middle;\" transform=\"rotate(0, 808.452, 1918.71)\" x=\"808.452\" y=\"1918.71\">9</text>\n",
       "</g>\n",
       "<g clip-path=\"url(#clip8800)\">\n",
       "<text style=\"fill:#000000; fill-opacity:1; font-family:Arial,Helvetica Neue,Helvetica,sans-serif; font-size:48px; text-anchor:middle;\" transform=\"rotate(0, 1158.53, 1918.71)\" x=\"1158.53\" y=\"1918.71\">12</text>\n",
       "</g>\n",
       "<g clip-path=\"url(#clip8800)\">\n",
       "<text style=\"fill:#000000; fill-opacity:1; font-family:Arial,Helvetica Neue,Helvetica,sans-serif; font-size:48px; text-anchor:middle;\" transform=\"rotate(0, 1508.61, 1918.71)\" x=\"1508.61\" y=\"1918.71\">15</text>\n",
       "</g>\n",
       "<g clip-path=\"url(#clip8800)\">\n",
       "<text style=\"fill:#000000; fill-opacity:1; font-family:Arial,Helvetica Neue,Helvetica,sans-serif; font-size:48px; text-anchor:middle;\" transform=\"rotate(0, 1858.69, 1918.71)\" x=\"1858.69\" y=\"1918.71\">18</text>\n",
       "</g>\n",
       "<g clip-path=\"url(#clip8800)\">\n",
       "<text style=\"fill:#000000; fill-opacity:1; font-family:Arial,Helvetica Neue,Helvetica,sans-serif; font-size:48px; text-anchor:end;\" transform=\"rotate(0, 156.66, 1832.71)\" x=\"156.66\" y=\"1832.71\">0.00</text>\n",
       "</g>\n",
       "<g clip-path=\"url(#clip8800)\">\n",
       "<text style=\"fill:#000000; fill-opacity:1; font-family:Arial,Helvetica Neue,Helvetica,sans-serif; font-size:48px; text-anchor:end;\" transform=\"rotate(0, 156.66, 1537.77)\" x=\"156.66\" y=\"1537.77\">0.05</text>\n",
       "</g>\n",
       "<g clip-path=\"url(#clip8800)\">\n",
       "<text style=\"fill:#000000; fill-opacity:1; font-family:Arial,Helvetica Neue,Helvetica,sans-serif; font-size:48px; text-anchor:end;\" transform=\"rotate(0, 156.66, 1242.83)\" x=\"156.66\" y=\"1242.83\">0.10</text>\n",
       "</g>\n",
       "<g clip-path=\"url(#clip8800)\">\n",
       "<text style=\"fill:#000000; fill-opacity:1; font-family:Arial,Helvetica Neue,Helvetica,sans-serif; font-size:48px; text-anchor:end;\" transform=\"rotate(0, 156.66, 947.883)\" x=\"156.66\" y=\"947.883\">0.15</text>\n",
       "</g>\n",
       "<g clip-path=\"url(#clip8800)\">\n",
       "<text style=\"fill:#000000; fill-opacity:1; font-family:Arial,Helvetica Neue,Helvetica,sans-serif; font-size:48px; text-anchor:end;\" transform=\"rotate(0, 156.66, 652.94)\" x=\"156.66\" y=\"652.94\">0.20</text>\n",
       "</g>\n",
       "<g clip-path=\"url(#clip8800)\">\n",
       "<text style=\"fill:#000000; fill-opacity:1; font-family:Arial,Helvetica Neue,Helvetica,sans-serif; font-size:48px; text-anchor:end;\" transform=\"rotate(0, 156.66, 357.996)\" x=\"156.66\" y=\"357.996\">0.25</text>\n",
       "</g>\n",
       "<polyline clip-path=\"url(#clip8802)\" style=\"stroke:#009af9; stroke-width:4; stroke-opacity:1; fill:none\" points=\"\n",
       "  226.927,1815.21 235.347,1815.21 243.767,1815.21 252.187,1815.19 260.607,1815.16 269.027,1815.08 277.447,1814.92 285.867,1814.64 294.286,1814.19 302.706,1813.56 \n",
       "  311.126,1812.7 319.546,1811.54 327.966,1809.93 336.386,1807.58 344.806,1804.18 353.226,1799.41 361.646,1793.05 370.066,1784.95 378.486,1774.97 386.905,1762.82 \n",
       "  395.325,1748.07 403.745,1730.2 412.165,1708.65 420.585,1682.84 429.005,1652.23 437.425,1616.5 445.845,1575.63 454.265,1529.9 462.685,1479.72 471.105,1425.49 \n",
       "  479.524,1367.53 487.944,1306.14 496.364,1241.66 504.784,1174.5 513.204,1105.03 521.624,1033.63 530.044,960.756 538.464,886.994 546.884,812.767 555.304,738.051 \n",
       "  563.724,662.556 572.143,586.595 580.563,511.98 588.983,441.912 597.403,379.403 605.823,325.225 614.243,277.158 622.663,231.656 631.083,187.07 639.503,145.996 \n",
       "  647.923,114.562 656.343,98.7384 664.762,100.217 673.182,114.822 681.602,134.445 690.022,150.896 698.442,159.21 706.862,158.97 715.282,153.783 723.702,149.672 \n",
       "  732.122,152.993 740.542,168.371 748.962,197.302 757.381,238 765.801,286.423 774.221,337.783 782.641,387.829 791.061,433.684 799.481,474.375 807.901,511.033 \n",
       "  816.321,546.418 824.741,583.691 833.161,624.991 841.581,670.598 850,719.031 858.42,767.776 866.84,814.18 875.26,856.352 883.68,893.985 892.1,928.669 \n",
       "  900.52,963.209 908.94,1000.11 917.36,1040.21 925.78,1082.31 934.2,1124.01 942.619,1162.95 951.039,1197.79 959.459,1228.61 967.879,1256.64 976.299,1283.5 \n",
       "  984.719,1310.42 993.139,1337.71 1001.56,1364.82 1009.98,1390.78 1018.4,1414.73 1026.82,1436.32 1035.24,1455.82 1043.66,1474.02 1052.08,1491.85 1060.5,1510.05 \n",
       "  1068.92,1528.91 1077.34,1548.18 1085.76,1567.24 1094.18,1585.36 1102.6,1602 1111.02,1616.98 1119.44,1630.5 1127.86,1643.01 1136.28,1655.01 1144.7,1666.81 \n",
       "  1153.12,1678.44 1161.54,1689.62 1169.96,1699.9 1178.38,1708.84 1186.8,1716.18 1195.22,1722 1203.64,1726.82 1212.06,1731.47 1220.48,1736.68 1228.9,1742.63 \n",
       "  1237.32,1748.74 1245.74,1753.92 1254.16,1757.21 1262.58,1758.45 1271,1758.38 1279.42,1758.26 1287.84,1759.11 1296.26,1761.25 1304.68,1764.28 1313.1,1767.47 \n",
       "  1321.52,1770.25 1329.94,1772.5 1338.36,1774.43 1346.78,1776.33 1355.19,1778.36 1363.61,1780.46 1372.03,1782.49 1380.45,1784.44 1388.87,1786.5 1397.29,1788.95 \n",
       "  1405.71,1791.94 1414.13,1795.27 1422.55,1798.52 1430.97,1801.22 1439.39,1803.11 1447.81,1804.25 1456.23,1804.88 1464.65,1805.31 1473.07,1805.76 1481.49,1806.35 \n",
       "  1489.91,1807.1 1498.33,1807.89 1506.75,1808.56 1515.17,1809 1523.59,1809.19 1532.01,1809.22 1540.43,1809.22 1548.85,1809.22 1557.27,1809.17 1565.69,1808.98 \n",
       "  1574.11,1808.65 1582.53,1808.3 1590.95,1808.08 1599.37,1808.14 1607.79,1808.52 1616.21,1809.18 1624.63,1810.03 1633.05,1810.96 1641.47,1811.88 1649.89,1812.69 \n",
       "  1658.31,1813.33 1666.73,1813.74 1675.15,1813.92 1683.57,1813.95 1691.99,1813.93 1700.41,1813.96 1708.83,1814.06 1717.25,1814.2 1725.67,1814.3 1734.09,1814.27 \n",
       "  1742.51,1814.11 1750.93,1813.82 1759.35,1813.48 1767.77,1813.14 1776.19,1812.86 1784.61,1812.67 1793.03,1812.6 1801.45,1812.71 1809.87,1812.98 1818.29,1813.39 \n",
       "  1826.71,1813.87 1835.13,1814.32 1843.55,1814.68 1851.97,1814.93 1860.39,1815.08 1868.81,1815.16 1877.23,1815.19 1885.65,1815.21 1894.07,1815.21 1902.49,1815.21 \n",
       "  \n",
       "  \"/>\n",
       "<polygon clip-path=\"url(#clip8800)\" points=\"\n",
       "1641.93,227.724 1892.76,227.724 1892.76,106.764 1641.93,106.764 \n",
       "  \" fill=\"#ffffff\" fill-rule=\"evenodd\" fill-opacity=\"1\"/>\n",
       "<polyline clip-path=\"url(#clip8800)\" style=\"stroke:#000000; stroke-width:4; stroke-opacity:1; fill:none\" points=\"\n",
       "  1641.93,227.724 1892.76,227.724 1892.76,106.764 1641.93,106.764 1641.93,227.724 \n",
       "  \"/>\n",
       "<polyline clip-path=\"url(#clip8800)\" style=\"stroke:#009af9; stroke-width:4; stroke-opacity:1; fill:none\" points=\"\n",
       "  1661.93,167.244 1781.93,167.244 \n",
       "  \"/>\n",
       "<g clip-path=\"url(#clip8800)\">\n",
       "<text style=\"fill:#000000; fill-opacity:1; font-family:Arial,Helvetica Neue,Helvetica,sans-serif; font-size:48px; text-anchor:start;\" transform=\"rotate(0, 1801.93, 184.744)\" x=\"1801.93\" y=\"184.744\">y1</text>\n",
       "</g>\n",
       "</svg>\n"
      ],
      "image/svg+xml": [
       "<?xml version=\"1.0\" encoding=\"utf-8\"?>\n",
       "<svg xmlns=\"http://www.w3.org/2000/svg\" xmlns:xlink=\"http://www.w3.org/1999/xlink\" width=\"500\" height=\"500\" viewBox=\"0 0 2000 2000\">\n",
       "<defs>\n",
       "  <clipPath id=\"clip8500\">\n",
       "    <rect x=\"0\" y=\"0\" width=\"2000\" height=\"2000\"/>\n",
       "  </clipPath>\n",
       "</defs>\n",
       "<polygon clip-path=\"url(#clip8500)\" points=\"\n",
       "0,2000 2000,2000 2000,0 0,0 \n",
       "  \" fill=\"#ffffff\" fill-rule=\"evenodd\" fill-opacity=\"1\"/>\n",
       "<defs>\n",
       "  <clipPath id=\"clip8501\">\n",
       "    <rect x=\"400\" y=\"200\" width=\"1401\" height=\"1401\"/>\n",
       "  </clipPath>\n",
       "</defs>\n",
       "<polygon clip-path=\"url(#clip8500)\" points=\"\n",
       "176.66,1866.71 1952.76,1866.71 1952.76,47.2441 176.66,47.2441 \n",
       "  \" fill=\"#ffffff\" fill-rule=\"evenodd\" fill-opacity=\"1\"/>\n",
       "<defs>\n",
       "  <clipPath id=\"clip8502\">\n",
       "    <rect x=\"176\" y=\"47\" width=\"1777\" height=\"1820\"/>\n",
       "  </clipPath>\n",
       "</defs>\n",
       "<polyline clip-path=\"url(#clip8502)\" style=\"stroke:#000000; stroke-width:2; stroke-opacity:0.1; fill:none\" points=\"\n",
       "  458.373,1866.71 458.373,47.2441 \n",
       "  \"/>\n",
       "<polyline clip-path=\"url(#clip8502)\" style=\"stroke:#000000; stroke-width:2; stroke-opacity:0.1; fill:none\" points=\"\n",
       "  808.452,1866.71 808.452,47.2441 \n",
       "  \"/>\n",
       "<polyline clip-path=\"url(#clip8502)\" style=\"stroke:#000000; stroke-width:2; stroke-opacity:0.1; fill:none\" points=\"\n",
       "  1158.53,1866.71 1158.53,47.2441 \n",
       "  \"/>\n",
       "<polyline clip-path=\"url(#clip8502)\" style=\"stroke:#000000; stroke-width:2; stroke-opacity:0.1; fill:none\" points=\"\n",
       "  1508.61,1866.71 1508.61,47.2441 \n",
       "  \"/>\n",
       "<polyline clip-path=\"url(#clip8502)\" style=\"stroke:#000000; stroke-width:2; stroke-opacity:0.1; fill:none\" points=\"\n",
       "  1858.69,1866.71 1858.69,47.2441 \n",
       "  \"/>\n",
       "<polyline clip-path=\"url(#clip8502)\" style=\"stroke:#000000; stroke-width:2; stroke-opacity:0.1; fill:none\" points=\"\n",
       "  176.66,1815.21 1952.76,1815.21 \n",
       "  \"/>\n",
       "<polyline clip-path=\"url(#clip8502)\" style=\"stroke:#000000; stroke-width:2; stroke-opacity:0.1; fill:none\" points=\"\n",
       "  176.66,1520.27 1952.76,1520.27 \n",
       "  \"/>\n",
       "<polyline clip-path=\"url(#clip8502)\" style=\"stroke:#000000; stroke-width:2; stroke-opacity:0.1; fill:none\" points=\"\n",
       "  176.66,1225.33 1952.76,1225.33 \n",
       "  \"/>\n",
       "<polyline clip-path=\"url(#clip8502)\" style=\"stroke:#000000; stroke-width:2; stroke-opacity:0.1; fill:none\" points=\"\n",
       "  176.66,930.383 1952.76,930.383 \n",
       "  \"/>\n",
       "<polyline clip-path=\"url(#clip8502)\" style=\"stroke:#000000; stroke-width:2; stroke-opacity:0.1; fill:none\" points=\"\n",
       "  176.66,635.44 1952.76,635.44 \n",
       "  \"/>\n",
       "<polyline clip-path=\"url(#clip8502)\" style=\"stroke:#000000; stroke-width:2; stroke-opacity:0.1; fill:none\" points=\"\n",
       "  176.66,340.496 1952.76,340.496 \n",
       "  \"/>\n",
       "<polyline clip-path=\"url(#clip8500)\" style=\"stroke:#000000; stroke-width:4; stroke-opacity:1; fill:none\" points=\"\n",
       "  176.66,1866.71 1952.76,1866.71 \n",
       "  \"/>\n",
       "<polyline clip-path=\"url(#clip8500)\" style=\"stroke:#000000; stroke-width:4; stroke-opacity:1; fill:none\" points=\"\n",
       "  176.66,1866.71 176.66,47.2441 \n",
       "  \"/>\n",
       "<polyline clip-path=\"url(#clip8500)\" style=\"stroke:#000000; stroke-width:4; stroke-opacity:1; fill:none\" points=\"\n",
       "  458.373,1866.71 458.373,1839.42 \n",
       "  \"/>\n",
       "<polyline clip-path=\"url(#clip8500)\" style=\"stroke:#000000; stroke-width:4; stroke-opacity:1; fill:none\" points=\"\n",
       "  808.452,1866.71 808.452,1839.42 \n",
       "  \"/>\n",
       "<polyline clip-path=\"url(#clip8500)\" style=\"stroke:#000000; stroke-width:4; stroke-opacity:1; fill:none\" points=\"\n",
       "  1158.53,1866.71 1158.53,1839.42 \n",
       "  \"/>\n",
       "<polyline clip-path=\"url(#clip8500)\" style=\"stroke:#000000; stroke-width:4; stroke-opacity:1; fill:none\" points=\"\n",
       "  1508.61,1866.71 1508.61,1839.42 \n",
       "  \"/>\n",
       "<polyline clip-path=\"url(#clip8500)\" style=\"stroke:#000000; stroke-width:4; stroke-opacity:1; fill:none\" points=\"\n",
       "  1858.69,1866.71 1858.69,1839.42 \n",
       "  \"/>\n",
       "<polyline clip-path=\"url(#clip8500)\" style=\"stroke:#000000; stroke-width:4; stroke-opacity:1; fill:none\" points=\"\n",
       "  176.66,1815.21 203.302,1815.21 \n",
       "  \"/>\n",
       "<polyline clip-path=\"url(#clip8500)\" style=\"stroke:#000000; stroke-width:4; stroke-opacity:1; fill:none\" points=\"\n",
       "  176.66,1520.27 203.302,1520.27 \n",
       "  \"/>\n",
       "<polyline clip-path=\"url(#clip8500)\" style=\"stroke:#000000; stroke-width:4; stroke-opacity:1; fill:none\" points=\"\n",
       "  176.66,1225.33 203.302,1225.33 \n",
       "  \"/>\n",
       "<polyline clip-path=\"url(#clip8500)\" style=\"stroke:#000000; stroke-width:4; stroke-opacity:1; fill:none\" points=\"\n",
       "  176.66,930.383 203.302,930.383 \n",
       "  \"/>\n",
       "<polyline clip-path=\"url(#clip8500)\" style=\"stroke:#000000; stroke-width:4; stroke-opacity:1; fill:none\" points=\"\n",
       "  176.66,635.44 203.302,635.44 \n",
       "  \"/>\n",
       "<polyline clip-path=\"url(#clip8500)\" style=\"stroke:#000000; stroke-width:4; stroke-opacity:1; fill:none\" points=\"\n",
       "  176.66,340.496 203.302,340.496 \n",
       "  \"/>\n",
       "<g clip-path=\"url(#clip8500)\">\n",
       "<text style=\"fill:#000000; fill-opacity:1; font-family:Arial,Helvetica Neue,Helvetica,sans-serif; font-size:48px; text-anchor:middle;\" transform=\"rotate(0, 458.373, 1918.71)\" x=\"458.373\" y=\"1918.71\">6</text>\n",
       "</g>\n",
       "<g clip-path=\"url(#clip8500)\">\n",
       "<text style=\"fill:#000000; fill-opacity:1; font-family:Arial,Helvetica Neue,Helvetica,sans-serif; font-size:48px; text-anchor:middle;\" transform=\"rotate(0, 808.452, 1918.71)\" x=\"808.452\" y=\"1918.71\">9</text>\n",
       "</g>\n",
       "<g clip-path=\"url(#clip8500)\">\n",
       "<text style=\"fill:#000000; fill-opacity:1; font-family:Arial,Helvetica Neue,Helvetica,sans-serif; font-size:48px; text-anchor:middle;\" transform=\"rotate(0, 1158.53, 1918.71)\" x=\"1158.53\" y=\"1918.71\">12</text>\n",
       "</g>\n",
       "<g clip-path=\"url(#clip8500)\">\n",
       "<text style=\"fill:#000000; fill-opacity:1; font-family:Arial,Helvetica Neue,Helvetica,sans-serif; font-size:48px; text-anchor:middle;\" transform=\"rotate(0, 1508.61, 1918.71)\" x=\"1508.61\" y=\"1918.71\">15</text>\n",
       "</g>\n",
       "<g clip-path=\"url(#clip8500)\">\n",
       "<text style=\"fill:#000000; fill-opacity:1; font-family:Arial,Helvetica Neue,Helvetica,sans-serif; font-size:48px; text-anchor:middle;\" transform=\"rotate(0, 1858.69, 1918.71)\" x=\"1858.69\" y=\"1918.71\">18</text>\n",
       "</g>\n",
       "<g clip-path=\"url(#clip8500)\">\n",
       "<text style=\"fill:#000000; fill-opacity:1; font-family:Arial,Helvetica Neue,Helvetica,sans-serif; font-size:48px; text-anchor:end;\" transform=\"rotate(0, 156.66, 1832.71)\" x=\"156.66\" y=\"1832.71\">0.00</text>\n",
       "</g>\n",
       "<g clip-path=\"url(#clip8500)\">\n",
       "<text style=\"fill:#000000; fill-opacity:1; font-family:Arial,Helvetica Neue,Helvetica,sans-serif; font-size:48px; text-anchor:end;\" transform=\"rotate(0, 156.66, 1537.77)\" x=\"156.66\" y=\"1537.77\">0.05</text>\n",
       "</g>\n",
       "<g clip-path=\"url(#clip8500)\">\n",
       "<text style=\"fill:#000000; fill-opacity:1; font-family:Arial,Helvetica Neue,Helvetica,sans-serif; font-size:48px; text-anchor:end;\" transform=\"rotate(0, 156.66, 1242.83)\" x=\"156.66\" y=\"1242.83\">0.10</text>\n",
       "</g>\n",
       "<g clip-path=\"url(#clip8500)\">\n",
       "<text style=\"fill:#000000; fill-opacity:1; font-family:Arial,Helvetica Neue,Helvetica,sans-serif; font-size:48px; text-anchor:end;\" transform=\"rotate(0, 156.66, 947.883)\" x=\"156.66\" y=\"947.883\">0.15</text>\n",
       "</g>\n",
       "<g clip-path=\"url(#clip8500)\">\n",
       "<text style=\"fill:#000000; fill-opacity:1; font-family:Arial,Helvetica Neue,Helvetica,sans-serif; font-size:48px; text-anchor:end;\" transform=\"rotate(0, 156.66, 652.94)\" x=\"156.66\" y=\"652.94\">0.20</text>\n",
       "</g>\n",
       "<g clip-path=\"url(#clip8500)\">\n",
       "<text style=\"fill:#000000; fill-opacity:1; font-family:Arial,Helvetica Neue,Helvetica,sans-serif; font-size:48px; text-anchor:end;\" transform=\"rotate(0, 156.66, 357.996)\" x=\"156.66\" y=\"357.996\">0.25</text>\n",
       "</g>\n",
       "<polyline clip-path=\"url(#clip8502)\" style=\"stroke:#009af9; stroke-width:4; stroke-opacity:1; fill:none\" points=\"\n",
       "  226.927,1815.21 235.347,1815.21 243.767,1815.21 252.187,1815.19 260.607,1815.16 269.027,1815.08 277.447,1814.92 285.867,1814.64 294.286,1814.19 302.706,1813.56 \n",
       "  311.126,1812.7 319.546,1811.54 327.966,1809.93 336.386,1807.58 344.806,1804.18 353.226,1799.41 361.646,1793.05 370.066,1784.95 378.486,1774.97 386.905,1762.82 \n",
       "  395.325,1748.07 403.745,1730.2 412.165,1708.65 420.585,1682.84 429.005,1652.23 437.425,1616.5 445.845,1575.63 454.265,1529.9 462.685,1479.72 471.105,1425.49 \n",
       "  479.524,1367.53 487.944,1306.14 496.364,1241.66 504.784,1174.5 513.204,1105.03 521.624,1033.63 530.044,960.756 538.464,886.994 546.884,812.767 555.304,738.051 \n",
       "  563.724,662.556 572.143,586.595 580.563,511.98 588.983,441.912 597.403,379.403 605.823,325.225 614.243,277.158 622.663,231.656 631.083,187.07 639.503,145.996 \n",
       "  647.923,114.562 656.343,98.7384 664.762,100.217 673.182,114.822 681.602,134.445 690.022,150.896 698.442,159.21 706.862,158.97 715.282,153.783 723.702,149.672 \n",
       "  732.122,152.993 740.542,168.371 748.962,197.302 757.381,238 765.801,286.423 774.221,337.783 782.641,387.829 791.061,433.684 799.481,474.375 807.901,511.033 \n",
       "  816.321,546.418 824.741,583.691 833.161,624.991 841.581,670.598 850,719.031 858.42,767.776 866.84,814.18 875.26,856.352 883.68,893.985 892.1,928.669 \n",
       "  900.52,963.209 908.94,1000.11 917.36,1040.21 925.78,1082.31 934.2,1124.01 942.619,1162.95 951.039,1197.79 959.459,1228.61 967.879,1256.64 976.299,1283.5 \n",
       "  984.719,1310.42 993.139,1337.71 1001.56,1364.82 1009.98,1390.78 1018.4,1414.73 1026.82,1436.32 1035.24,1455.82 1043.66,1474.02 1052.08,1491.85 1060.5,1510.05 \n",
       "  1068.92,1528.91 1077.34,1548.18 1085.76,1567.24 1094.18,1585.36 1102.6,1602 1111.02,1616.98 1119.44,1630.5 1127.86,1643.01 1136.28,1655.01 1144.7,1666.81 \n",
       "  1153.12,1678.44 1161.54,1689.62 1169.96,1699.9 1178.38,1708.84 1186.8,1716.18 1195.22,1722 1203.64,1726.82 1212.06,1731.47 1220.48,1736.68 1228.9,1742.63 \n",
       "  1237.32,1748.74 1245.74,1753.92 1254.16,1757.21 1262.58,1758.45 1271,1758.38 1279.42,1758.26 1287.84,1759.11 1296.26,1761.25 1304.68,1764.28 1313.1,1767.47 \n",
       "  1321.52,1770.25 1329.94,1772.5 1338.36,1774.43 1346.78,1776.33 1355.19,1778.36 1363.61,1780.46 1372.03,1782.49 1380.45,1784.44 1388.87,1786.5 1397.29,1788.95 \n",
       "  1405.71,1791.94 1414.13,1795.27 1422.55,1798.52 1430.97,1801.22 1439.39,1803.11 1447.81,1804.25 1456.23,1804.88 1464.65,1805.31 1473.07,1805.76 1481.49,1806.35 \n",
       "  1489.91,1807.1 1498.33,1807.89 1506.75,1808.56 1515.17,1809 1523.59,1809.19 1532.01,1809.22 1540.43,1809.22 1548.85,1809.22 1557.27,1809.17 1565.69,1808.98 \n",
       "  1574.11,1808.65 1582.53,1808.3 1590.95,1808.08 1599.37,1808.14 1607.79,1808.52 1616.21,1809.18 1624.63,1810.03 1633.05,1810.96 1641.47,1811.88 1649.89,1812.69 \n",
       "  1658.31,1813.33 1666.73,1813.74 1675.15,1813.92 1683.57,1813.95 1691.99,1813.93 1700.41,1813.96 1708.83,1814.06 1717.25,1814.2 1725.67,1814.3 1734.09,1814.27 \n",
       "  1742.51,1814.11 1750.93,1813.82 1759.35,1813.48 1767.77,1813.14 1776.19,1812.86 1784.61,1812.67 1793.03,1812.6 1801.45,1812.71 1809.87,1812.98 1818.29,1813.39 \n",
       "  1826.71,1813.87 1835.13,1814.32 1843.55,1814.68 1851.97,1814.93 1860.39,1815.08 1868.81,1815.16 1877.23,1815.19 1885.65,1815.21 1894.07,1815.21 1902.49,1815.21 \n",
       "  \n",
       "  \"/>\n",
       "<polygon clip-path=\"url(#clip8500)\" points=\"\n",
       "1641.93,227.724 1892.76,227.724 1892.76,106.764 1641.93,106.764 \n",
       "  \" fill=\"#ffffff\" fill-rule=\"evenodd\" fill-opacity=\"1\"/>\n",
       "<polyline clip-path=\"url(#clip8500)\" style=\"stroke:#000000; stroke-width:4; stroke-opacity:1; fill:none\" points=\"\n",
       "  1641.93,227.724 1892.76,227.724 1892.76,106.764 1641.93,106.764 1641.93,227.724 \n",
       "  \"/>\n",
       "<polyline clip-path=\"url(#clip8500)\" style=\"stroke:#009af9; stroke-width:4; stroke-opacity:1; fill:none\" points=\"\n",
       "  1661.93,167.244 1781.93,167.244 \n",
       "  \"/>\n",
       "<g clip-path=\"url(#clip8500)\">\n",
       "<text style=\"fill:#000000; fill-opacity:1; font-family:Arial,Helvetica Neue,Helvetica,sans-serif; font-size:48px; text-anchor:start;\" transform=\"rotate(0, 1801.93, 184.744)\" x=\"1801.93\" y=\"184.744\">y1</text>\n",
       "</g>\n",
       "</svg>\n"
      ]
     },
     "metadata": {},
     "execution_count": 8
    }
   ],
   "cell_type": "code",
   "source": [
    "density(samples[:sigma])"
   ],
   "metadata": {},
   "execution_count": 8
  },
  {
   "outputs": [],
   "cell_type": "markdown",
   "source": [
    "End of `clip-21-23.jl`"
   ],
   "metadata": {}
  },
  {
   "outputs": [],
   "cell_type": "markdown",
   "source": [
    "*This notebook was generated using [Literate.jl](https://github.com/fredrikekre/Literate.jl).*"
   ],
   "metadata": {}
  }
 ],
 "nbformat_minor": 3,
 "metadata": {
  "language_info": {
   "file_extension": ".jl",
   "mimetype": "application/julia",
   "name": "julia",
   "version": "1.3.0-DEV.549"
  },
  "kernelspec": {
   "name": "julia-1.3",
   "display_name": "Julia 1.3.0-DEV.549",
   "language": "julia"
  }
 },
 "nbformat": 4
}
