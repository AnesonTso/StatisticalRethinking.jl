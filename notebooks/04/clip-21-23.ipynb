{
 "cells": [
  {
   "outputs": [],
   "cell_type": "markdown",
   "source": [
    "Load Julia packages (libraries) needed  for the snippets in chapter 0"
   ],
   "metadata": {}
  },
  {
   "outputs": [],
   "cell_type": "code",
   "source": [
    "using StatisticalRethinking, CmdStan, StanMCMCChains\n",
    "gr(size=(500,500));"
   ],
   "metadata": {},
   "execution_count": 1
  },
  {
   "outputs": [],
   "cell_type": "markdown",
   "source": [
    "CmdStan uses a tmp directory to store the output of cmdstan"
   ],
   "metadata": {}
  },
  {
   "outputs": [],
   "cell_type": "code",
   "source": [
    "ProjDir = rel_path(\"..\", \"scripts\", \"04\")\n",
    "cd(ProjDir)"
   ],
   "metadata": {},
   "execution_count": 2
  },
  {
   "outputs": [],
   "cell_type": "markdown",
   "source": [
    "CmdStan uses a tmp directory to store the output of cmdstan"
   ],
   "metadata": {}
  },
  {
   "outputs": [],
   "cell_type": "code",
   "source": [
    "ProjDir = rel_path(\"..\", \"scripts\", \"04\")\n",
    "cd(ProjDir)"
   ],
   "metadata": {},
   "execution_count": 3
  },
  {
   "outputs": [
    {
     "output_type": "execute_result",
     "data": {
      "text/plain": "5×4 DataFrame\n│ Row │ height   │ weight   │ age      │ male   │\n│     │ \u001b[90mFloat64⍰\u001b[39m │ \u001b[90mFloat64⍰\u001b[39m │ \u001b[90mFloat64⍰\u001b[39m │ \u001b[90mInt64⍰\u001b[39m │\n├─────┼──────────┼──────────┼──────────┼────────┤\n│ 1   │ 151.765  │ 47.8256  │ 63.0     │ 1      │\n│ 2   │ 139.7    │ 36.4858  │ 63.0     │ 0      │\n│ 3   │ 136.525  │ 31.8648  │ 65.0     │ 0      │\n│ 4   │ 156.845  │ 53.0419  │ 41.0     │ 1      │\n│ 5   │ 145.415  │ 41.2769  │ 51.0     │ 0      │",
      "text/html": [
       "<table class=\"data-frame\"><thead><tr><th></th><th>height</th><th>weight</th><th>age</th><th>male</th></tr><tr><th></th><th>Float64⍰</th><th>Float64⍰</th><th>Float64⍰</th><th>Int64⍰</th></tr></thead><tbody><p>5 rows × 4 columns</p><tr><th>1</th><td>151.765</td><td>47.8256</td><td>63.0</td><td>1</td></tr><tr><th>2</th><td>139.7</td><td>36.4858</td><td>63.0</td><td>0</td></tr><tr><th>3</th><td>136.525</td><td>31.8648</td><td>65.0</td><td>0</td></tr><tr><th>4</th><td>156.845</td><td>53.0419</td><td>41.0</td><td>1</td></tr><tr><th>5</th><td>145.415</td><td>41.2769</td><td>51.0</td><td>0</td></tr></tbody></table>"
      ]
     },
     "metadata": {},
     "execution_count": 4
    }
   ],
   "cell_type": "code",
   "source": [
    "howell1 = CSV.read(rel_path(\"..\", \"data\", \"Howell1.csv\"), delim=';')\n",
    "df = convert(DataFrame, howell1);\n",
    "df2 = filter(row -> row[:age] >= 18, df);\n",
    "first(df2, 5)"
   ],
   "metadata": {},
   "execution_count": 4
  },
  {
   "outputs": [],
   "cell_type": "markdown",
   "source": [
    "### Snippet 4.21"
   ],
   "metadata": {}
  },
  {
   "outputs": [],
   "cell_type": "markdown",
   "source": [
    "Sample 20 random heights"
   ],
   "metadata": {}
  },
  {
   "outputs": [],
   "cell_type": "code",
   "source": [
    "n = size(df2, 1)\n",
    "selected_ind = sample(1:n, 20, replace=false);\n",
    "df3 = df2[selected_ind, :];"
   ],
   "metadata": {},
   "execution_count": 5
  },
  {
   "outputs": [],
   "cell_type": "markdown",
   "source": [
    "### Snippet 4.22"
   ],
   "metadata": {}
  },
  {
   "outputs": [],
   "cell_type": "markdown",
   "source": [
    "Generate approximate probabilities"
   ],
   "metadata": {}
  },
  {
   "outputs": [
    {
     "output_type": "execute_result",
     "data": {
      "text/plain": "10×5 DataFrame\n│ Row │ mu      │ sigma   │ ll       │ prod     │ prob        │\n│     │ \u001b[90mFloat64\u001b[39m │ \u001b[90mFloat64\u001b[39m │ \u001b[90mFloat64\u001b[39m  │ \u001b[90mFloat64\u001b[39m  │ \u001b[90mFloat64\u001b[39m     │\n├─────┼─────────┼─────────┼──────────┼──────────┼─────────────┤\n│ 1   │ 140.0   │ 4.0     │ -202.177 │ -211.809 │ 1.42137e-59 │\n│ 2   │ 140.151 │ 4.0     │ -199.537 │ -209.155 │ 2.01991e-58 │\n│ 3   │ 140.302 │ 4.0     │ -196.926 │ -206.529 │ 2.78993e-57 │\n│ 4   │ 140.452 │ 4.0     │ -194.343 │ -203.932 │ 3.74536e-56 │\n│ 5   │ 140.603 │ 4.0     │ -191.789 │ -201.363 │ 4.88686e-55 │\n│ 6   │ 140.754 │ 4.0     │ -189.263 │ -198.823 │ 6.19734e-54 │\n│ 7   │ 140.905 │ 4.0     │ -186.765 │ -196.312 │ 7.63867e-53 │\n│ 8   │ 141.055 │ 4.0     │ -184.296 │ -193.828 │ 9.15099e-52 │\n│ 9   │ 141.206 │ 4.0     │ -181.855 │ -191.374 │ 1.06551e-50 │\n│ 10  │ 141.357 │ 4.0     │ -179.442 │ -188.947 │ 1.20582e-49 │",
      "text/html": [
       "<table class=\"data-frame\"><thead><tr><th></th><th>mu</th><th>sigma</th><th>ll</th><th>prod</th><th>prob</th></tr><tr><th></th><th>Float64</th><th>Float64</th><th>Float64</th><th>Float64</th><th>Float64</th></tr></thead><tbody><p>10 rows × 5 columns</p><tr><th>1</th><td>140.0</td><td>4.0</td><td>-202.177</td><td>-211.809</td><td>1.42137e-59</td></tr><tr><th>2</th><td>140.151</td><td>4.0</td><td>-199.537</td><td>-209.155</td><td>2.01991e-58</td></tr><tr><th>3</th><td>140.302</td><td>4.0</td><td>-196.926</td><td>-206.529</td><td>2.78993e-57</td></tr><tr><th>4</th><td>140.452</td><td>4.0</td><td>-194.343</td><td>-203.932</td><td>3.74536e-56</td></tr><tr><th>5</th><td>140.603</td><td>4.0</td><td>-191.789</td><td>-201.363</td><td>4.88686e-55</td></tr><tr><th>6</th><td>140.754</td><td>4.0</td><td>-189.263</td><td>-198.823</td><td>6.19734e-54</td></tr><tr><th>7</th><td>140.905</td><td>4.0</td><td>-186.765</td><td>-196.312</td><td>7.63867e-53</td></tr><tr><th>8</th><td>141.055</td><td>4.0</td><td>-184.296</td><td>-193.828</td><td>9.15099e-52</td></tr><tr><th>9</th><td>141.206</td><td>4.0</td><td>-181.855</td><td>-191.374</td><td>1.06551e-50</td></tr><tr><th>10</th><td>141.357</td><td>4.0</td><td>-179.442</td><td>-188.947</td><td>1.20582e-49</td></tr></tbody></table>"
      ]
     },
     "metadata": {},
     "execution_count": 6
    }
   ],
   "cell_type": "code",
   "source": [
    "struct Post\n",
    "  mu::Float64\n",
    "  sigma::Float64\n",
    "  ll:: Float64\n",
    "  prod::Float64\n",
    "  prob::Float64\n",
    "end\n",
    "\n",
    "mu_list = repeat(range(140, 170, length=200), 200);\n",
    "sigma_list = repeat(range(4, 20, length=200), inner=200);\n",
    "\n",
    "ll = zeros(40000);\n",
    "for i in 1:40000\n",
    "    d1 = Normal(mu_list[i], sigma_list[i])\n",
    "    ll[i] = sum(log.(pdf.(d1, df3[:height])))\n",
    "end\n",
    "\n",
    "d2 = Normal(178.0, 20.0)\n",
    "d3 = Uniform(0, 50)\n",
    "prod = ll + log.(pdf.(d2, mu_list)) + log.(pdf.(d3, sigma_list))\n",
    "prob = exp.(prod .- maximum(prod))\n",
    "post = DataFrame(mu=mu_list, sigma=sigma_list, ll=ll, prod=prod, prob=prob)\n",
    "first(post, 10)"
   ],
   "metadata": {},
   "execution_count": 6
  },
  {
   "outputs": [],
   "cell_type": "markdown",
   "source": [
    "Sample post"
   ],
   "metadata": {}
  },
  {
   "outputs": [
    {
     "output_type": "execute_result",
     "data": {
      "text/plain": "10000×5 DataFrame\n│ Row   │ mu      │ sigma   │ ll       │ prod     │ prob      │\n│       │ \u001b[90mFloat64\u001b[39m │ \u001b[90mFloat64\u001b[39m │ \u001b[90mFloat64\u001b[39m  │ \u001b[90mFloat64\u001b[39m  │ \u001b[90mFloat64\u001b[39m   │\n├───────┼─────────┼─────────┼──────────┼──────────┼───────────┤\n│ 1     │ 156.131 │ 10.8342 │ -70.7664 │ -79.1909 │ 0.0559628 │\n│ 2     │ 152.965 │ 5.84925 │ -69.0855 │ -77.6957 │ 0.249623  │\n│ 3     │ 154.623 │ 7.21608 │ -67.8263 │ -76.3361 │ 0.97214   │\n│ 4     │ 154.623 │ 5.68844 │ -69.1131 │ -77.6229 │ 0.268467  │\n│ 5     │ 154.774 │ 7.37688 │ -67.8734 │ -76.3744 │ 0.93565   │\n│ 6     │ 152.362 │ 6.41206 │ -68.7579 │ -77.4063 │ 0.333398  │\n│ 7     │ 154.623 │ 7.37688 │ -67.8393 │ -76.3491 │ 0.959616  │\n⋮\n│ 9993  │ 155.98  │ 6.97487 │ -68.5238 │ -76.9566 │ 0.522691  │\n│ 9994  │ 156.583 │ 8.0201  │ -68.9755 │ -77.3756 │ 0.343789  │\n│ 9995  │ 155.075 │ 6.41206 │ -68.2763 │ -76.7599 │ 0.636345  │\n│ 9996  │ 152.211 │ 9.22613 │ -69.2665 │ -77.9245 │ 0.198566  │\n│ 9997  │ 156.281 │ 8.98492 │ -69.2515 │ -77.6678 │ 0.256667  │\n│ 9998  │ 152.513 │ 7.61809 │ -68.2662 │ -76.9049 │ 0.550446  │\n│ 9999  │ 154.925 │ 8.26131 │ -68.241  │ -76.7333 │ 0.653459  │\n│ 10000 │ 154.925 │ 8.98492 │ -68.7408 │ -77.233  │ 0.396458  │",
      "text/html": [
       "<table class=\"data-frame\"><thead><tr><th></th><th>mu</th><th>sigma</th><th>ll</th><th>prod</th><th>prob</th></tr><tr><th></th><th>Float64</th><th>Float64</th><th>Float64</th><th>Float64</th><th>Float64</th></tr></thead><tbody><p>10,000 rows × 5 columns</p><tr><th>1</th><td>156.131</td><td>10.8342</td><td>-70.7664</td><td>-79.1909</td><td>0.0559628</td></tr><tr><th>2</th><td>152.965</td><td>5.84925</td><td>-69.0855</td><td>-77.6957</td><td>0.249623</td></tr><tr><th>3</th><td>154.623</td><td>7.21608</td><td>-67.8263</td><td>-76.3361</td><td>0.97214</td></tr><tr><th>4</th><td>154.623</td><td>5.68844</td><td>-69.1131</td><td>-77.6229</td><td>0.268467</td></tr><tr><th>5</th><td>154.774</td><td>7.37688</td><td>-67.8734</td><td>-76.3744</td><td>0.93565</td></tr><tr><th>6</th><td>152.362</td><td>6.41206</td><td>-68.7579</td><td>-77.4063</td><td>0.333398</td></tr><tr><th>7</th><td>154.623</td><td>7.37688</td><td>-67.8393</td><td>-76.3491</td><td>0.959616</td></tr><tr><th>8</th><td>149.95</td><td>7.45729</td><td>-70.8729</td><td>-79.6831</td><td>0.0342103</td></tr><tr><th>9</th><td>151.608</td><td>6.65327</td><td>-69.2703</td><td>-77.9677</td><td>0.190172</td></tr><tr><th>10</th><td>154.171</td><td>6.57286</td><td>-67.9302</td><td>-76.4667</td><td>0.853116</td></tr><tr><th>11</th><td>150.704</td><td>9.86935</td><td>-70.6143</td><td>-79.3724</td><td>0.0466757</td></tr><tr><th>12</th><td>152.814</td><td>7.9397</td><td>-68.221</td><td>-76.8406</td><td>0.586992</td></tr><tr><th>13</th><td>151.91</td><td>7.69849</td><td>-68.6644</td><td>-77.342</td><td>0.35553</td></tr><tr><th>14</th><td>155.98</td><td>7.69849</td><td>-68.4738</td><td>-76.9066</td><td>0.549502</td></tr><tr><th>15</th><td>155.226</td><td>9.14573</td><td>-68.9422</td><td>-77.4172</td><td>0.329779</td></tr><tr><th>16</th><td>158.543</td><td>7.53769</td><td>-71.3184</td><td>-79.6183</td><td>0.0365005</td></tr><tr><th>17</th><td>153.719</td><td>6.49246</td><td>-68.0102</td><td>-76.5739</td><td>0.766397</td></tr><tr><th>18</th><td>154.322</td><td>8.0201</td><td>-68.0131</td><td>-76.5406</td><td>0.792319</td></tr><tr><th>19</th><td>154.171</td><td>8.42211</td><td>-68.2393</td><td>-76.7758</td><td>0.626281</td></tr><tr><th>20</th><td>151.307</td><td>10.995</td><td>-71.2148</td><td>-79.9322</td><td>0.0266661</td></tr><tr><th>21</th><td>154.322</td><td>7.29648</td><td>-67.7864</td><td>-76.314</td><td>0.993912</td></tr><tr><th>22</th><td>152.965</td><td>8.66332</td><td>-68.5721</td><td>-77.1822</td><td>0.417129</td></tr><tr><th>23</th><td>155.678</td><td>9.30653</td><td>-69.218</td><td>-77.6675</td><td>0.256756</td></tr><tr><th>24</th><td>157.186</td><td>7.21608</td><td>-69.6188</td><td>-77.987</td><td>0.186525</td></tr><tr><th>&vellip;</th><td>&vellip;</td><td>&vellip;</td><td>&vellip;</td><td>&vellip;</td><td>&vellip;</td></tr></tbody></table>"
      ]
     },
     "metadata": {},
     "execution_count": 7
    }
   ],
   "cell_type": "code",
   "source": [
    "samples = post[sample(1:size(post, 1), Weights(post[:prob]), 10000, replace=true), :]"
   ],
   "metadata": {},
   "execution_count": 7
  },
  {
   "outputs": [],
   "cell_type": "markdown",
   "source": [
    "### Snippet 4.23"
   ],
   "metadata": {}
  },
  {
   "outputs": [],
   "cell_type": "markdown",
   "source": [
    "Density of sigma"
   ],
   "metadata": {}
  },
  {
   "outputs": [
    {
     "output_type": "execute_result",
     "data": {
      "text/plain": "Plot{Plots.GRBackend() n=1}",
      "image/png": "[encoded data removed]",
      "text/html": [
       "<?xml version=\"1.0\" encoding=\"utf-8\"?>\n",
       "<svg xmlns=\"http://www.w3.org/2000/svg\" xmlns:xlink=\"http://www.w3.org/1999/xlink\" width=\"500\" height=\"500\" viewBox=\"0 0 2000 2000\">\n",
       "<defs>\n",
       "  <clipPath id=\"clip4400\">\n",
       "    <rect x=\"0\" y=\"0\" width=\"2000\" height=\"2000\"/>\n",
       "  </clipPath>\n",
       "</defs>\n",
       "<polygon clip-path=\"url(#clip4400)\" points=\"\n",
       "0,2000 2000,2000 2000,0 0,0 \n",
       "  \" fill=\"#ffffff\" fill-rule=\"evenodd\" fill-opacity=\"1\"/>\n",
       "<defs>\n",
       "  <clipPath id=\"clip4401\">\n",
       "    <rect x=\"400\" y=\"200\" width=\"1401\" height=\"1401\"/>\n",
       "  </clipPath>\n",
       "</defs>\n",
       "<polygon clip-path=\"url(#clip4400)\" points=\"\n",
       "161.394,1886.71 1921.26,1886.71 1921.26,47.2441 161.394,47.2441 \n",
       "  \" fill=\"#ffffff\" fill-rule=\"evenodd\" fill-opacity=\"1\"/>\n",
       "<defs>\n",
       "  <clipPath id=\"clip4402\">\n",
       "    <rect x=\"161\" y=\"47\" width=\"1761\" height=\"1840\"/>\n",
       "  </clipPath>\n",
       "</defs>\n",
       "<polyline clip-path=\"url(#clip4402)\" style=\"stroke:#000000; stroke-width:2; stroke-opacity:0.1; fill:none\" points=\"\n",
       "  344.661,1886.71 344.661,47.2441 \n",
       "  \"/>\n",
       "<polyline clip-path=\"url(#clip4402)\" style=\"stroke:#000000; stroke-width:2; stroke-opacity:0.1; fill:none\" points=\"\n",
       "  645.261,1886.71 645.261,47.2441 \n",
       "  \"/>\n",
       "<polyline clip-path=\"url(#clip4402)\" style=\"stroke:#000000; stroke-width:2; stroke-opacity:0.1; fill:none\" points=\"\n",
       "  945.86,1886.71 945.86,47.2441 \n",
       "  \"/>\n",
       "<polyline clip-path=\"url(#clip4402)\" style=\"stroke:#000000; stroke-width:2; stroke-opacity:0.1; fill:none\" points=\"\n",
       "  1246.46,1886.71 1246.46,47.2441 \n",
       "  \"/>\n",
       "<polyline clip-path=\"url(#clip4402)\" style=\"stroke:#000000; stroke-width:2; stroke-opacity:0.1; fill:none\" points=\"\n",
       "  1547.06,1886.71 1547.06,47.2441 \n",
       "  \"/>\n",
       "<polyline clip-path=\"url(#clip4402)\" style=\"stroke:#000000; stroke-width:2; stroke-opacity:0.1; fill:none\" points=\"\n",
       "  1847.66,1886.71 1847.66,47.2441 \n",
       "  \"/>\n",
       "<polyline clip-path=\"url(#clip4402)\" style=\"stroke:#000000; stroke-width:2; stroke-opacity:0.1; fill:none\" points=\"\n",
       "  161.394,1834.65 1921.26,1834.65 \n",
       "  \"/>\n",
       "<polyline clip-path=\"url(#clip4402)\" style=\"stroke:#000000; stroke-width:2; stroke-opacity:0.1; fill:none\" points=\"\n",
       "  161.394,1280.34 1921.26,1280.34 \n",
       "  \"/>\n",
       "<polyline clip-path=\"url(#clip4402)\" style=\"stroke:#000000; stroke-width:2; stroke-opacity:0.1; fill:none\" points=\"\n",
       "  161.394,726.028 1921.26,726.028 \n",
       "  \"/>\n",
       "<polyline clip-path=\"url(#clip4402)\" style=\"stroke:#000000; stroke-width:2; stroke-opacity:0.1; fill:none\" points=\"\n",
       "  161.394,171.717 1921.26,171.717 \n",
       "  \"/>\n",
       "<polyline clip-path=\"url(#clip4400)\" style=\"stroke:#000000; stroke-width:4; stroke-opacity:1; fill:none\" points=\"\n",
       "  161.394,1886.71 1921.26,1886.71 \n",
       "  \"/>\n",
       "<polyline clip-path=\"url(#clip4400)\" style=\"stroke:#000000; stroke-width:4; stroke-opacity:1; fill:none\" points=\"\n",
       "  161.394,1886.71 161.394,47.2441 \n",
       "  \"/>\n",
       "<polyline clip-path=\"url(#clip4400)\" style=\"stroke:#000000; stroke-width:4; stroke-opacity:1; fill:none\" points=\"\n",
       "  344.661,1886.71 344.661,1859.12 \n",
       "  \"/>\n",
       "<polyline clip-path=\"url(#clip4400)\" style=\"stroke:#000000; stroke-width:4; stroke-opacity:1; fill:none\" points=\"\n",
       "  645.261,1886.71 645.261,1859.12 \n",
       "  \"/>\n",
       "<polyline clip-path=\"url(#clip4400)\" style=\"stroke:#000000; stroke-width:4; stroke-opacity:1; fill:none\" points=\"\n",
       "  945.86,1886.71 945.86,1859.12 \n",
       "  \"/>\n",
       "<polyline clip-path=\"url(#clip4400)\" style=\"stroke:#000000; stroke-width:4; stroke-opacity:1; fill:none\" points=\"\n",
       "  1246.46,1886.71 1246.46,1859.12 \n",
       "  \"/>\n",
       "<polyline clip-path=\"url(#clip4400)\" style=\"stroke:#000000; stroke-width:4; stroke-opacity:1; fill:none\" points=\"\n",
       "  1547.06,1886.71 1547.06,1859.12 \n",
       "  \"/>\n",
       "<polyline clip-path=\"url(#clip4400)\" style=\"stroke:#000000; stroke-width:4; stroke-opacity:1; fill:none\" points=\"\n",
       "  1847.66,1886.71 1847.66,1859.12 \n",
       "  \"/>\n",
       "<polyline clip-path=\"url(#clip4400)\" style=\"stroke:#000000; stroke-width:4; stroke-opacity:1; fill:none\" points=\"\n",
       "  161.394,1834.65 187.792,1834.65 \n",
       "  \"/>\n",
       "<polyline clip-path=\"url(#clip4400)\" style=\"stroke:#000000; stroke-width:4; stroke-opacity:1; fill:none\" points=\"\n",
       "  161.394,1280.34 187.792,1280.34 \n",
       "  \"/>\n",
       "<polyline clip-path=\"url(#clip4400)\" style=\"stroke:#000000; stroke-width:4; stroke-opacity:1; fill:none\" points=\"\n",
       "  161.394,726.028 187.792,726.028 \n",
       "  \"/>\n",
       "<polyline clip-path=\"url(#clip4400)\" style=\"stroke:#000000; stroke-width:4; stroke-opacity:1; fill:none\" points=\"\n",
       "  161.394,171.717 187.792,171.717 \n",
       "  \"/>\n",
       "<g clip-path=\"url(#clip4400)\">\n",
       "<text style=\"fill:#000000; fill-opacity:1; font-family:Arial,Helvetica Neue,Helvetica,sans-serif; font-size:48px; text-anchor:middle;\" transform=\"rotate(0, 344.661, 1938.71)\" x=\"344.661\" y=\"1938.71\">5.0</text>\n",
       "</g>\n",
       "<g clip-path=\"url(#clip4400)\">\n",
       "<text style=\"fill:#000000; fill-opacity:1; font-family:Arial,Helvetica Neue,Helvetica,sans-serif; font-size:48px; text-anchor:middle;\" transform=\"rotate(0, 645.261, 1938.71)\" x=\"645.261\" y=\"1938.71\">7.5</text>\n",
       "</g>\n",
       "<g clip-path=\"url(#clip4400)\">\n",
       "<text style=\"fill:#000000; fill-opacity:1; font-family:Arial,Helvetica Neue,Helvetica,sans-serif; font-size:48px; text-anchor:middle;\" transform=\"rotate(0, 945.86, 1938.71)\" x=\"945.86\" y=\"1938.71\">10.0</text>\n",
       "</g>\n",
       "<g clip-path=\"url(#clip4400)\">\n",
       "<text style=\"fill:#000000; fill-opacity:1; font-family:Arial,Helvetica Neue,Helvetica,sans-serif; font-size:48px; text-anchor:middle;\" transform=\"rotate(0, 1246.46, 1938.71)\" x=\"1246.46\" y=\"1938.71\">12.5</text>\n",
       "</g>\n",
       "<g clip-path=\"url(#clip4400)\">\n",
       "<text style=\"fill:#000000; fill-opacity:1; font-family:Arial,Helvetica Neue,Helvetica,sans-serif; font-size:48px; text-anchor:middle;\" transform=\"rotate(0, 1547.06, 1938.71)\" x=\"1547.06\" y=\"1938.71\">15.0</text>\n",
       "</g>\n",
       "<g clip-path=\"url(#clip4400)\">\n",
       "<text style=\"fill:#000000; fill-opacity:1; font-family:Arial,Helvetica Neue,Helvetica,sans-serif; font-size:48px; text-anchor:middle;\" transform=\"rotate(0, 1847.66, 1938.71)\" x=\"1847.66\" y=\"1938.71\">17.5</text>\n",
       "</g>\n",
       "<g clip-path=\"url(#clip4400)\">\n",
       "<text style=\"fill:#000000; fill-opacity:1; font-family:Arial,Helvetica Neue,Helvetica,sans-serif; font-size:48px; text-anchor:end;\" transform=\"rotate(0, 141.394, 1852.15)\" x=\"141.394\" y=\"1852.15\">0.0</text>\n",
       "</g>\n",
       "<g clip-path=\"url(#clip4400)\">\n",
       "<text style=\"fill:#000000; fill-opacity:1; font-family:Arial,Helvetica Neue,Helvetica,sans-serif; font-size:48px; text-anchor:end;\" transform=\"rotate(0, 141.394, 1297.84)\" x=\"141.394\" y=\"1297.84\">0.1</text>\n",
       "</g>\n",
       "<g clip-path=\"url(#clip4400)\">\n",
       "<text style=\"fill:#000000; fill-opacity:1; font-family:Arial,Helvetica Neue,Helvetica,sans-serif; font-size:48px; text-anchor:end;\" transform=\"rotate(0, 141.394, 743.528)\" x=\"141.394\" y=\"743.528\">0.2</text>\n",
       "</g>\n",
       "<g clip-path=\"url(#clip4400)\">\n",
       "<text style=\"fill:#000000; fill-opacity:1; font-family:Arial,Helvetica Neue,Helvetica,sans-serif; font-size:48px; text-anchor:end;\" transform=\"rotate(0, 141.394, 189.217)\" x=\"141.394\" y=\"189.217\">0.3</text>\n",
       "</g>\n",
       "<polyline clip-path=\"url(#clip4402)\" style=\"stroke:#009af9; stroke-width:4; stroke-opacity:1; fill:none\" points=\"\n",
       "  211.202,1834.65 219.545,1834.65 227.887,1834.64 236.23,1834.62 244.573,1834.55 252.916,1834.39 261.259,1834.05 269.602,1833.37 277.945,1832.2 286.288,1830.35 \n",
       "  294.631,1827.7 302.974,1824.11 311.317,1819.45 319.66,1813.44 328.003,1805.7 336.346,1795.69 344.689,1782.82 353.032,1766.52 361.375,1746.24 369.718,1721.6 \n",
       "  378.061,1692.41 386.404,1658.68 394.747,1620.33 403.09,1577.04 411.433,1528.16 419.776,1473.01 428.119,1411.38 436.462,1343.8 444.805,1271.49 453.148,1195.94 \n",
       "  461.491,1118.53 469.834,1040.5 478.177,963.316 486.52,888.894 494.862,819.234 503.205,755.342 511.548,696.142 519.891,638.368 528.234,577.923 536.577,512.053 \n",
       "  544.92,440.985 553.263,367.927 561.606,297.576 569.949,234.332 578.292,181.371 586.635,140.72 594.978,113.572 603.321,100.174 611.664,99.3044 620.007,107.882 \n",
       "  628.35,121.308 636.693,134.649 645.036,144.266 653.379,149.172 661.722,151.487 670.065,155.699 678.408,166.873 686.751,188.493 695.094,221.003 703.437,261.968 \n",
       "  711.78,307.833 720.123,356.14 728.466,406.545 736.809,459.924 745.152,516.416 753.495,574.247 761.837,630.423 770.18,682.709 778.523,731.196 786.866,778.113 \n",
       "  795.209,825.877 803.552,874.763 811.895,921.903 820.238,962.543 828.581,992.925 836.924,1012.97 845.267,1026.96 853.61,1041.61 861.953,1062.74 870.296,1092.56 \n",
       "  878.639,1129.22 886.982,1168.63 895.325,1207.06 903.668,1242.85 912.011,1276.47 920.354,1309.34 928.697,1342.42 937.04,1375.46 945.383,1407.37 953.726,1437.13 \n",
       "  962.069,1464.47 970.412,1489.99 978.755,1514.48 987.098,1538.33 995.441,1561.17 1003.78,1582.2 1012.13,1600.57 1020.47,1615.74 1028.81,1627.63 1037.16,1636.68 \n",
       "  1045.5,1643.79 1053.84,1650.28 1062.18,1657.52 1070.53,1666.45 1078.87,1677.21 1087.21,1689.14 1095.56,1701.18 1103.9,1712.48 1112.24,1722.61 1120.59,1731.54 \n",
       "  1128.93,1739.28 1137.27,1745.74 1145.61,1750.84 1153.96,1754.84 1162.3,1758.35 1170.64,1762.15 1178.99,1766.66 1187.33,1771.7 1195.67,1776.67 1204.01,1780.96 \n",
       "  1212.36,1784.41 1220.7,1787.29 1229.04,1790.08 1237.39,1793.09 1245.73,1796.3 1254.07,1799.46 1262.42,1802.29 1270.76,1804.68 1279.1,1806.76 1287.44,1808.69 \n",
       "  1295.79,1810.61 1304.13,1812.52 1312.47,1814.36 1320.82,1816.02 1329.16,1817.4 1337.5,1818.45 1345.85,1819.15 1354.19,1819.49 1362.53,1819.46 1370.87,1819.15 \n",
       "  1379.22,1818.77 1387.56,1818.61 1395.9,1818.96 1404.25,1819.92 1412.59,1821.36 1420.93,1823.03 1429.27,1824.65 1437.62,1826.06 1445.96,1827.24 1454.3,1828.19 \n",
       "  1462.65,1828.93 1470.99,1829.48 1479.33,1829.86 1487.68,1830.12 1496.02,1830.29 1504.36,1830.35 1512.7,1830.25 1521.05,1829.98 1529.39,1829.66 1537.73,1829.51 \n",
       "  1546.08,1829.68 1554.42,1830.18 1562.76,1830.85 1571.11,1831.46 1579.45,1831.86 1587.79,1832.02 1596.13,1831.99 1604.48,1831.89 1612.82,1831.86 1621.16,1831.98 \n",
       "  1629.51,1832.3 1637.85,1832.78 1646.19,1833.31 1654.54,1833.79 1662.88,1834.15 1671.22,1834.38 1679.56,1834.46 1687.91,1834.43 1696.25,1834.3 1704.59,1834.09 \n",
       "  1712.94,1833.83 1721.28,1833.58 1729.62,1833.41 1737.96,1833.33 1746.31,1833.31 1754.65,1833.32 1762.99,1833.31 1771.34,1833.3 1779.68,1833.34 1788.02,1833.48 \n",
       "  1796.37,1833.7 1804.71,1833.97 1813.05,1834.21 1821.39,1834.41 1829.74,1834.53 1838.08,1834.6 1846.42,1834.63 1854.77,1834.64 1863.11,1834.65 1871.45,1834.65 \n",
       "  \n",
       "  \"/>\n",
       "<polygon clip-path=\"url(#clip4400)\" points=\"\n",
       "1610.43,227.724 1861.26,227.724 1861.26,106.764 1610.43,106.764 \n",
       "  \" fill=\"#ffffff\" fill-rule=\"evenodd\" fill-opacity=\"1\"/>\n",
       "<polyline clip-path=\"url(#clip4400)\" style=\"stroke:#000000; stroke-width:4; stroke-opacity:1; fill:none\" points=\"\n",
       "  1610.43,227.724 1861.26,227.724 1861.26,106.764 1610.43,106.764 1610.43,227.724 \n",
       "  \"/>\n",
       "<polyline clip-path=\"url(#clip4400)\" style=\"stroke:#009af9; stroke-width:4; stroke-opacity:1; fill:none\" points=\"\n",
       "  1630.43,167.244 1750.43,167.244 \n",
       "  \"/>\n",
       "<g clip-path=\"url(#clip4400)\">\n",
       "<text style=\"fill:#000000; fill-opacity:1; font-family:Arial,Helvetica Neue,Helvetica,sans-serif; font-size:48px; text-anchor:start;\" transform=\"rotate(0, 1770.43, 184.744)\" x=\"1770.43\" y=\"184.744\">y1</text>\n",
       "</g>\n",
       "</svg>\n"
      ],
      "image/svg+xml": [
       "<?xml version=\"1.0\" encoding=\"utf-8\"?>\n",
       "<svg xmlns=\"http://www.w3.org/2000/svg\" xmlns:xlink=\"http://www.w3.org/1999/xlink\" width=\"500\" height=\"500\" viewBox=\"0 0 2000 2000\">\n",
       "<defs>\n",
       "  <clipPath id=\"clip4300\">\n",
       "    <rect x=\"0\" y=\"0\" width=\"2000\" height=\"2000\"/>\n",
       "  </clipPath>\n",
       "</defs>\n",
       "<polygon clip-path=\"url(#clip4300)\" points=\"\n",
       "0,2000 2000,2000 2000,0 0,0 \n",
       "  \" fill=\"#ffffff\" fill-rule=\"evenodd\" fill-opacity=\"1\"/>\n",
       "<defs>\n",
       "  <clipPath id=\"clip4301\">\n",
       "    <rect x=\"400\" y=\"200\" width=\"1401\" height=\"1401\"/>\n",
       "  </clipPath>\n",
       "</defs>\n",
       "<polygon clip-path=\"url(#clip4300)\" points=\"\n",
       "161.394,1886.71 1921.26,1886.71 1921.26,47.2441 161.394,47.2441 \n",
       "  \" fill=\"#ffffff\" fill-rule=\"evenodd\" fill-opacity=\"1\"/>\n",
       "<defs>\n",
       "  <clipPath id=\"clip4302\">\n",
       "    <rect x=\"161\" y=\"47\" width=\"1761\" height=\"1840\"/>\n",
       "  </clipPath>\n",
       "</defs>\n",
       "<polyline clip-path=\"url(#clip4302)\" style=\"stroke:#000000; stroke-width:2; stroke-opacity:0.1; fill:none\" points=\"\n",
       "  344.661,1886.71 344.661,47.2441 \n",
       "  \"/>\n",
       "<polyline clip-path=\"url(#clip4302)\" style=\"stroke:#000000; stroke-width:2; stroke-opacity:0.1; fill:none\" points=\"\n",
       "  645.261,1886.71 645.261,47.2441 \n",
       "  \"/>\n",
       "<polyline clip-path=\"url(#clip4302)\" style=\"stroke:#000000; stroke-width:2; stroke-opacity:0.1; fill:none\" points=\"\n",
       "  945.86,1886.71 945.86,47.2441 \n",
       "  \"/>\n",
       "<polyline clip-path=\"url(#clip4302)\" style=\"stroke:#000000; stroke-width:2; stroke-opacity:0.1; fill:none\" points=\"\n",
       "  1246.46,1886.71 1246.46,47.2441 \n",
       "  \"/>\n",
       "<polyline clip-path=\"url(#clip4302)\" style=\"stroke:#000000; stroke-width:2; stroke-opacity:0.1; fill:none\" points=\"\n",
       "  1547.06,1886.71 1547.06,47.2441 \n",
       "  \"/>\n",
       "<polyline clip-path=\"url(#clip4302)\" style=\"stroke:#000000; stroke-width:2; stroke-opacity:0.1; fill:none\" points=\"\n",
       "  1847.66,1886.71 1847.66,47.2441 \n",
       "  \"/>\n",
       "<polyline clip-path=\"url(#clip4302)\" style=\"stroke:#000000; stroke-width:2; stroke-opacity:0.1; fill:none\" points=\"\n",
       "  161.394,1834.65 1921.26,1834.65 \n",
       "  \"/>\n",
       "<polyline clip-path=\"url(#clip4302)\" style=\"stroke:#000000; stroke-width:2; stroke-opacity:0.1; fill:none\" points=\"\n",
       "  161.394,1280.34 1921.26,1280.34 \n",
       "  \"/>\n",
       "<polyline clip-path=\"url(#clip4302)\" style=\"stroke:#000000; stroke-width:2; stroke-opacity:0.1; fill:none\" points=\"\n",
       "  161.394,726.028 1921.26,726.028 \n",
       "  \"/>\n",
       "<polyline clip-path=\"url(#clip4302)\" style=\"stroke:#000000; stroke-width:2; stroke-opacity:0.1; fill:none\" points=\"\n",
       "  161.394,171.717 1921.26,171.717 \n",
       "  \"/>\n",
       "<polyline clip-path=\"url(#clip4300)\" style=\"stroke:#000000; stroke-width:4; stroke-opacity:1; fill:none\" points=\"\n",
       "  161.394,1886.71 1921.26,1886.71 \n",
       "  \"/>\n",
       "<polyline clip-path=\"url(#clip4300)\" style=\"stroke:#000000; stroke-width:4; stroke-opacity:1; fill:none\" points=\"\n",
       "  161.394,1886.71 161.394,47.2441 \n",
       "  \"/>\n",
       "<polyline clip-path=\"url(#clip4300)\" style=\"stroke:#000000; stroke-width:4; stroke-opacity:1; fill:none\" points=\"\n",
       "  344.661,1886.71 344.661,1859.12 \n",
       "  \"/>\n",
       "<polyline clip-path=\"url(#clip4300)\" style=\"stroke:#000000; stroke-width:4; stroke-opacity:1; fill:none\" points=\"\n",
       "  645.261,1886.71 645.261,1859.12 \n",
       "  \"/>\n",
       "<polyline clip-path=\"url(#clip4300)\" style=\"stroke:#000000; stroke-width:4; stroke-opacity:1; fill:none\" points=\"\n",
       "  945.86,1886.71 945.86,1859.12 \n",
       "  \"/>\n",
       "<polyline clip-path=\"url(#clip4300)\" style=\"stroke:#000000; stroke-width:4; stroke-opacity:1; fill:none\" points=\"\n",
       "  1246.46,1886.71 1246.46,1859.12 \n",
       "  \"/>\n",
       "<polyline clip-path=\"url(#clip4300)\" style=\"stroke:#000000; stroke-width:4; stroke-opacity:1; fill:none\" points=\"\n",
       "  1547.06,1886.71 1547.06,1859.12 \n",
       "  \"/>\n",
       "<polyline clip-path=\"url(#clip4300)\" style=\"stroke:#000000; stroke-width:4; stroke-opacity:1; fill:none\" points=\"\n",
       "  1847.66,1886.71 1847.66,1859.12 \n",
       "  \"/>\n",
       "<polyline clip-path=\"url(#clip4300)\" style=\"stroke:#000000; stroke-width:4; stroke-opacity:1; fill:none\" points=\"\n",
       "  161.394,1834.65 187.792,1834.65 \n",
       "  \"/>\n",
       "<polyline clip-path=\"url(#clip4300)\" style=\"stroke:#000000; stroke-width:4; stroke-opacity:1; fill:none\" points=\"\n",
       "  161.394,1280.34 187.792,1280.34 \n",
       "  \"/>\n",
       "<polyline clip-path=\"url(#clip4300)\" style=\"stroke:#000000; stroke-width:4; stroke-opacity:1; fill:none\" points=\"\n",
       "  161.394,726.028 187.792,726.028 \n",
       "  \"/>\n",
       "<polyline clip-path=\"url(#clip4300)\" style=\"stroke:#000000; stroke-width:4; stroke-opacity:1; fill:none\" points=\"\n",
       "  161.394,171.717 187.792,171.717 \n",
       "  \"/>\n",
       "<g clip-path=\"url(#clip4300)\">\n",
       "<text style=\"fill:#000000; fill-opacity:1; font-family:Arial,Helvetica Neue,Helvetica,sans-serif; font-size:48px; text-anchor:middle;\" transform=\"rotate(0, 344.661, 1938.71)\" x=\"344.661\" y=\"1938.71\">5.0</text>\n",
       "</g>\n",
       "<g clip-path=\"url(#clip4300)\">\n",
       "<text style=\"fill:#000000; fill-opacity:1; font-family:Arial,Helvetica Neue,Helvetica,sans-serif; font-size:48px; text-anchor:middle;\" transform=\"rotate(0, 645.261, 1938.71)\" x=\"645.261\" y=\"1938.71\">7.5</text>\n",
       "</g>\n",
       "<g clip-path=\"url(#clip4300)\">\n",
       "<text style=\"fill:#000000; fill-opacity:1; font-family:Arial,Helvetica Neue,Helvetica,sans-serif; font-size:48px; text-anchor:middle;\" transform=\"rotate(0, 945.86, 1938.71)\" x=\"945.86\" y=\"1938.71\">10.0</text>\n",
       "</g>\n",
       "<g clip-path=\"url(#clip4300)\">\n",
       "<text style=\"fill:#000000; fill-opacity:1; font-family:Arial,Helvetica Neue,Helvetica,sans-serif; font-size:48px; text-anchor:middle;\" transform=\"rotate(0, 1246.46, 1938.71)\" x=\"1246.46\" y=\"1938.71\">12.5</text>\n",
       "</g>\n",
       "<g clip-path=\"url(#clip4300)\">\n",
       "<text style=\"fill:#000000; fill-opacity:1; font-family:Arial,Helvetica Neue,Helvetica,sans-serif; font-size:48px; text-anchor:middle;\" transform=\"rotate(0, 1547.06, 1938.71)\" x=\"1547.06\" y=\"1938.71\">15.0</text>\n",
       "</g>\n",
       "<g clip-path=\"url(#clip4300)\">\n",
       "<text style=\"fill:#000000; fill-opacity:1; font-family:Arial,Helvetica Neue,Helvetica,sans-serif; font-size:48px; text-anchor:middle;\" transform=\"rotate(0, 1847.66, 1938.71)\" x=\"1847.66\" y=\"1938.71\">17.5</text>\n",
       "</g>\n",
       "<g clip-path=\"url(#clip4300)\">\n",
       "<text style=\"fill:#000000; fill-opacity:1; font-family:Arial,Helvetica Neue,Helvetica,sans-serif; font-size:48px; text-anchor:end;\" transform=\"rotate(0, 141.394, 1852.15)\" x=\"141.394\" y=\"1852.15\">0.0</text>\n",
       "</g>\n",
       "<g clip-path=\"url(#clip4300)\">\n",
       "<text style=\"fill:#000000; fill-opacity:1; font-family:Arial,Helvetica Neue,Helvetica,sans-serif; font-size:48px; text-anchor:end;\" transform=\"rotate(0, 141.394, 1297.84)\" x=\"141.394\" y=\"1297.84\">0.1</text>\n",
       "</g>\n",
       "<g clip-path=\"url(#clip4300)\">\n",
       "<text style=\"fill:#000000; fill-opacity:1; font-family:Arial,Helvetica Neue,Helvetica,sans-serif; font-size:48px; text-anchor:end;\" transform=\"rotate(0, 141.394, 743.528)\" x=\"141.394\" y=\"743.528\">0.2</text>\n",
       "</g>\n",
       "<g clip-path=\"url(#clip4300)\">\n",
       "<text style=\"fill:#000000; fill-opacity:1; font-family:Arial,Helvetica Neue,Helvetica,sans-serif; font-size:48px; text-anchor:end;\" transform=\"rotate(0, 141.394, 189.217)\" x=\"141.394\" y=\"189.217\">0.3</text>\n",
       "</g>\n",
       "<polyline clip-path=\"url(#clip4302)\" style=\"stroke:#009af9; stroke-width:4; stroke-opacity:1; fill:none\" points=\"\n",
       "  211.202,1834.65 219.545,1834.65 227.887,1834.64 236.23,1834.62 244.573,1834.55 252.916,1834.39 261.259,1834.05 269.602,1833.37 277.945,1832.2 286.288,1830.35 \n",
       "  294.631,1827.7 302.974,1824.11 311.317,1819.45 319.66,1813.44 328.003,1805.7 336.346,1795.69 344.689,1782.82 353.032,1766.52 361.375,1746.24 369.718,1721.6 \n",
       "  378.061,1692.41 386.404,1658.68 394.747,1620.33 403.09,1577.04 411.433,1528.16 419.776,1473.01 428.119,1411.38 436.462,1343.8 444.805,1271.49 453.148,1195.94 \n",
       "  461.491,1118.53 469.834,1040.5 478.177,963.316 486.52,888.894 494.862,819.234 503.205,755.342 511.548,696.142 519.891,638.368 528.234,577.923 536.577,512.053 \n",
       "  544.92,440.985 553.263,367.927 561.606,297.576 569.949,234.332 578.292,181.371 586.635,140.72 594.978,113.572 603.321,100.174 611.664,99.3044 620.007,107.882 \n",
       "  628.35,121.308 636.693,134.649 645.036,144.266 653.379,149.172 661.722,151.487 670.065,155.699 678.408,166.873 686.751,188.493 695.094,221.003 703.437,261.968 \n",
       "  711.78,307.833 720.123,356.14 728.466,406.545 736.809,459.924 745.152,516.416 753.495,574.247 761.837,630.423 770.18,682.709 778.523,731.196 786.866,778.113 \n",
       "  795.209,825.877 803.552,874.763 811.895,921.903 820.238,962.543 828.581,992.925 836.924,1012.97 845.267,1026.96 853.61,1041.61 861.953,1062.74 870.296,1092.56 \n",
       "  878.639,1129.22 886.982,1168.63 895.325,1207.06 903.668,1242.85 912.011,1276.47 920.354,1309.34 928.697,1342.42 937.04,1375.46 945.383,1407.37 953.726,1437.13 \n",
       "  962.069,1464.47 970.412,1489.99 978.755,1514.48 987.098,1538.33 995.441,1561.17 1003.78,1582.2 1012.13,1600.57 1020.47,1615.74 1028.81,1627.63 1037.16,1636.68 \n",
       "  1045.5,1643.79 1053.84,1650.28 1062.18,1657.52 1070.53,1666.45 1078.87,1677.21 1087.21,1689.14 1095.56,1701.18 1103.9,1712.48 1112.24,1722.61 1120.59,1731.54 \n",
       "  1128.93,1739.28 1137.27,1745.74 1145.61,1750.84 1153.96,1754.84 1162.3,1758.35 1170.64,1762.15 1178.99,1766.66 1187.33,1771.7 1195.67,1776.67 1204.01,1780.96 \n",
       "  1212.36,1784.41 1220.7,1787.29 1229.04,1790.08 1237.39,1793.09 1245.73,1796.3 1254.07,1799.46 1262.42,1802.29 1270.76,1804.68 1279.1,1806.76 1287.44,1808.69 \n",
       "  1295.79,1810.61 1304.13,1812.52 1312.47,1814.36 1320.82,1816.02 1329.16,1817.4 1337.5,1818.45 1345.85,1819.15 1354.19,1819.49 1362.53,1819.46 1370.87,1819.15 \n",
       "  1379.22,1818.77 1387.56,1818.61 1395.9,1818.96 1404.25,1819.92 1412.59,1821.36 1420.93,1823.03 1429.27,1824.65 1437.62,1826.06 1445.96,1827.24 1454.3,1828.19 \n",
       "  1462.65,1828.93 1470.99,1829.48 1479.33,1829.86 1487.68,1830.12 1496.02,1830.29 1504.36,1830.35 1512.7,1830.25 1521.05,1829.98 1529.39,1829.66 1537.73,1829.51 \n",
       "  1546.08,1829.68 1554.42,1830.18 1562.76,1830.85 1571.11,1831.46 1579.45,1831.86 1587.79,1832.02 1596.13,1831.99 1604.48,1831.89 1612.82,1831.86 1621.16,1831.98 \n",
       "  1629.51,1832.3 1637.85,1832.78 1646.19,1833.31 1654.54,1833.79 1662.88,1834.15 1671.22,1834.38 1679.56,1834.46 1687.91,1834.43 1696.25,1834.3 1704.59,1834.09 \n",
       "  1712.94,1833.83 1721.28,1833.58 1729.62,1833.41 1737.96,1833.33 1746.31,1833.31 1754.65,1833.32 1762.99,1833.31 1771.34,1833.3 1779.68,1833.34 1788.02,1833.48 \n",
       "  1796.37,1833.7 1804.71,1833.97 1813.05,1834.21 1821.39,1834.41 1829.74,1834.53 1838.08,1834.6 1846.42,1834.63 1854.77,1834.64 1863.11,1834.65 1871.45,1834.65 \n",
       "  \n",
       "  \"/>\n",
       "<polygon clip-path=\"url(#clip4300)\" points=\"\n",
       "1610.43,227.724 1861.26,227.724 1861.26,106.764 1610.43,106.764 \n",
       "  \" fill=\"#ffffff\" fill-rule=\"evenodd\" fill-opacity=\"1\"/>\n",
       "<polyline clip-path=\"url(#clip4300)\" style=\"stroke:#000000; stroke-width:4; stroke-opacity:1; fill:none\" points=\"\n",
       "  1610.43,227.724 1861.26,227.724 1861.26,106.764 1610.43,106.764 1610.43,227.724 \n",
       "  \"/>\n",
       "<polyline clip-path=\"url(#clip4300)\" style=\"stroke:#009af9; stroke-width:4; stroke-opacity:1; fill:none\" points=\"\n",
       "  1630.43,167.244 1750.43,167.244 \n",
       "  \"/>\n",
       "<g clip-path=\"url(#clip4300)\">\n",
       "<text style=\"fill:#000000; fill-opacity:1; font-family:Arial,Helvetica Neue,Helvetica,sans-serif; font-size:48px; text-anchor:start;\" transform=\"rotate(0, 1770.43, 184.744)\" x=\"1770.43\" y=\"184.744\">y1</text>\n",
       "</g>\n",
       "</svg>\n"
      ]
     },
     "metadata": {},
     "execution_count": 8
    }
   ],
   "cell_type": "code",
   "source": [
    "density(samples[:sigma])"
   ],
   "metadata": {},
   "execution_count": 8
  },
  {
   "outputs": [],
   "cell_type": "markdown",
   "source": [
    "End of `clip-21-23.jl`"
   ],
   "metadata": {}
  },
  {
   "outputs": [],
   "cell_type": "markdown",
   "source": [
    "*This notebook was generated using [Literate.jl](https://github.com/fredrikekre/Literate.jl).*"
   ],
   "metadata": {}
  }
 ],
 "nbformat_minor": 3,
 "metadata": {
  "language_info": {
   "file_extension": ".jl",
   "mimetype": "application/julia",
   "name": "julia",
   "version": "1.2.0-DEV.404"
  },
  "kernelspec": {
   "name": "julia-1.2",
   "display_name": "Julia 1.2.0-DEV.404",
   "language": "julia"
  }
 },
 "nbformat": 4
}
