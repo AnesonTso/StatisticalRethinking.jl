{
 "cells": [
  {
   "outputs": [],
   "cell_type": "markdown",
   "source": [
    "Load Julia packages (libraries) needed  for the snippets in chapter 0"
   ],
   "metadata": {}
  },
  {
   "outputs": [],
   "cell_type": "code",
   "source": [
    "using StatisticalRethinking, CmdStan, StanMCMCChain\n",
    "gr(size=(500,500));"
   ],
   "metadata": {},
   "execution_count": 1
  },
  {
   "outputs": [],
   "cell_type": "markdown",
   "source": [
    "CmdStan uses a tmp directory to store the output of cmdstan"
   ],
   "metadata": {}
  },
  {
   "outputs": [],
   "cell_type": "code",
   "source": [
    "ProjDir = rel_path(\"..\", \"scripts\", \"04\")\n",
    "cd(ProjDir)"
   ],
   "metadata": {},
   "execution_count": 2
  },
  {
   "outputs": [],
   "cell_type": "markdown",
   "source": [
    "CmdStan uses a tmp directory to store the output of cmdstan"
   ],
   "metadata": {}
  },
  {
   "outputs": [],
   "cell_type": "code",
   "source": [
    "ProjDir = rel_path(\"..\", \"scripts\", \"04\")\n",
    "cd(ProjDir)"
   ],
   "metadata": {},
   "execution_count": 3
  },
  {
   "outputs": [
    {
     "output_type": "execute_result",
     "data": {
      "text/plain": "5×4 DataFrame\n│ Row │ height   │ weight   │ age      │ male   │\n│     │ \u001b[90mFloat64⍰\u001b[39m │ \u001b[90mFloat64⍰\u001b[39m │ \u001b[90mFloat64⍰\u001b[39m │ \u001b[90mInt64⍰\u001b[39m │\n├─────┼──────────┼──────────┼──────────┼────────┤\n│ 1   │ 151.765  │ 47.8256  │ 63.0     │ 1      │\n│ 2   │ 139.7    │ 36.4858  │ 63.0     │ 0      │\n│ 3   │ 136.525  │ 31.8648  │ 65.0     │ 0      │\n│ 4   │ 156.845  │ 53.0419  │ 41.0     │ 1      │\n│ 5   │ 145.415  │ 41.2769  │ 51.0     │ 0      │",
      "text/html": [
       "<table class=\"data-frame\"><thead><tr><th></th><th>height</th><th>weight</th><th>age</th><th>male</th></tr><tr><th></th><th>Float64⍰</th><th>Float64⍰</th><th>Float64⍰</th><th>Int64⍰</th></tr></thead><tbody><p>5 rows × 4 columns</p><tr><th>1</th><td>151.765</td><td>47.8256</td><td>63.0</td><td>1</td></tr><tr><th>2</th><td>139.7</td><td>36.4858</td><td>63.0</td><td>0</td></tr><tr><th>3</th><td>136.525</td><td>31.8648</td><td>65.0</td><td>0</td></tr><tr><th>4</th><td>156.845</td><td>53.0419</td><td>41.0</td><td>1</td></tr><tr><th>5</th><td>145.415</td><td>41.2769</td><td>51.0</td><td>0</td></tr></tbody></table>"
      ]
     },
     "metadata": {},
     "execution_count": 4
    }
   ],
   "cell_type": "code",
   "source": [
    "howell1 = CSV.read(rel_path(\"..\", \"data\", \"Howell1.csv\"), delim=';')\n",
    "df = convert(DataFrame, howell1);\n",
    "df2 = filter(row -> row[:age] >= 18, df);\n",
    "first(df2, 5)"
   ],
   "metadata": {},
   "execution_count": 4
  },
  {
   "outputs": [],
   "cell_type": "markdown",
   "source": [
    "### Snippet 4.21"
   ],
   "metadata": {}
  },
  {
   "outputs": [],
   "cell_type": "markdown",
   "source": [
    "Sample 20 random heights"
   ],
   "metadata": {}
  },
  {
   "outputs": [],
   "cell_type": "code",
   "source": [
    "n = size(df2, 1)\n",
    "selected_ind = sample(1:n, 20, replace=false);\n",
    "df3 = df2[selected_ind, :];"
   ],
   "metadata": {},
   "execution_count": 5
  },
  {
   "outputs": [],
   "cell_type": "markdown",
   "source": [
    "### Snippet 4.22"
   ],
   "metadata": {}
  },
  {
   "outputs": [],
   "cell_type": "markdown",
   "source": [
    "Generate approximate probabilities"
   ],
   "metadata": {}
  },
  {
   "outputs": [
    {
     "output_type": "execute_result",
     "data": {
      "text/plain": "10×5 DataFrame\n│ Row │ mu      │ sigma   │ ll       │ prod     │ prob        │\n│     │ \u001b[90mFloat64\u001b[39m │ \u001b[90mFloat64\u001b[39m │ \u001b[90mFloat64\u001b[39m  │ \u001b[90mFloat64\u001b[39m  │ \u001b[90mFloat64\u001b[39m     │\n├─────┼─────────┼─────────┼──────────┼──────────┼─────────────┤\n│ 1   │ 140.0   │ 4.0     │ -201.557 │ -211.189 │ 2.78337e-59 │\n│ 2   │ 140.151 │ 4.0     │ -198.926 │ -208.543 │ 3.92241e-58 │\n│ 3   │ 140.302 │ 4.0     │ -196.323 │ -205.926 │ 5.37245e-57 │\n│ 4   │ 140.452 │ 4.0     │ -193.748 │ -203.337 │ 7.15204e-56 │\n│ 5   │ 140.603 │ 4.0     │ -191.202 │ -200.777 │ 9.25391e-55 │\n│ 6   │ 140.754 │ 4.0     │ -188.685 │ -198.245 │ 1.16375e-53 │\n│ 7   │ 140.905 │ 4.0     │ -186.195 │ -195.742 │ 1.42242e-52 │\n│ 8   │ 141.055 │ 4.0     │ -183.734 │ -193.267 │ 1.68981e-51 │\n│ 9   │ 141.206 │ 4.0     │ -181.302 │ -190.821 │ 1.95112e-50 │\n│ 10  │ 141.357 │ 4.0     │ -178.898 │ -188.403 │ 2.18962e-49 │",
      "text/html": [
       "<table class=\"data-frame\"><thead><tr><th></th><th>mu</th><th>sigma</th><th>ll</th><th>prod</th><th>prob</th></tr><tr><th></th><th>Float64</th><th>Float64</th><th>Float64</th><th>Float64</th><th>Float64</th></tr></thead><tbody><p>10 rows × 5 columns</p><tr><th>1</th><td>140.0</td><td>4.0</td><td>-201.557</td><td>-211.189</td><td>2.78337e-59</td></tr><tr><th>2</th><td>140.151</td><td>4.0</td><td>-198.926</td><td>-208.543</td><td>3.92241e-58</td></tr><tr><th>3</th><td>140.302</td><td>4.0</td><td>-196.323</td><td>-205.926</td><td>5.37245e-57</td></tr><tr><th>4</th><td>140.452</td><td>4.0</td><td>-193.748</td><td>-203.337</td><td>7.15204e-56</td></tr><tr><th>5</th><td>140.603</td><td>4.0</td><td>-191.202</td><td>-200.777</td><td>9.25391e-55</td></tr><tr><th>6</th><td>140.754</td><td>4.0</td><td>-188.685</td><td>-198.245</td><td>1.16375e-53</td></tr><tr><th>7</th><td>140.905</td><td>4.0</td><td>-186.195</td><td>-195.742</td><td>1.42242e-52</td></tr><tr><th>8</th><td>141.055</td><td>4.0</td><td>-183.734</td><td>-193.267</td><td>1.68981e-51</td></tr><tr><th>9</th><td>141.206</td><td>4.0</td><td>-181.302</td><td>-190.821</td><td>1.95112e-50</td></tr><tr><th>10</th><td>141.357</td><td>4.0</td><td>-178.898</td><td>-188.403</td><td>2.18962e-49</td></tr></tbody></table>"
      ]
     },
     "metadata": {},
     "execution_count": 6
    }
   ],
   "cell_type": "code",
   "source": [
    "struct Post\n",
    "  mu::Float64\n",
    "  sigma::Float64\n",
    "  ll:: Float64\n",
    "  prod::Float64\n",
    "  prob::Float64\n",
    "end\n",
    "\n",
    "mu_list = repeat(range(140, 170, length=200), 200);\n",
    "sigma_list = repeat(range(4, 20, length=200), inner=200);\n",
    "\n",
    "ll = zeros(40000);\n",
    "for i in 1:40000\n",
    "    d1 = Normal(mu_list[i], sigma_list[i])\n",
    "    ll[i] = sum(log.(pdf.(d1, df3[:height])))\n",
    "end\n",
    "\n",
    "d2 = Normal(178.0, 20.0)\n",
    "d3 = Uniform(0, 50)\n",
    "prod = ll + log.(pdf.(d2, mu_list)) + log.(pdf.(d3, sigma_list))\n",
    "prob = exp.(prod .- maximum(prod))\n",
    "post = DataFrame(mu=mu_list, sigma=sigma_list, ll=ll, prod=prod, prob=prob)\n",
    "first(post, 10)"
   ],
   "metadata": {},
   "execution_count": 6
  },
  {
   "outputs": [],
   "cell_type": "markdown",
   "source": [
    "Sample post"
   ],
   "metadata": {}
  },
  {
   "outputs": [
    {
     "output_type": "execute_result",
     "data": {
      "text/plain": "10000×5 DataFrame\n│ Row   │ mu      │ sigma   │ ll       │ prod     │ prob      │\n│       │ \u001b[90mFloat64\u001b[39m │ \u001b[90mFloat64\u001b[39m │ \u001b[90mFloat64\u001b[39m  │ \u001b[90mFloat64\u001b[39m  │ \u001b[90mFloat64\u001b[39m   │\n├───────┼─────────┼─────────┼──────────┼──────────┼───────────┤\n│ 1     │ 154.623 │ 9.14573 │ -68.8579 │ -77.3677 │ 0.365084  │\n│ 2     │ 154.623 │ 10.191  │ -69.813  │ -78.3228 │ 0.140477  │\n│ 3     │ 151.307 │ 8.1005  │ -69.2235 │ -77.9409 │ 0.205818  │\n│ 4     │ 153.869 │ 6.41206 │ -68.1072 │ -76.6617 │ 0.739633  │\n│ 5     │ 155.829 │ 6.33166 │ -68.9681 │ -77.4092 │ 0.350247  │\n│ 6     │ 152.362 │ 7.61809 │ -68.3704 │ -77.0187 │ 0.517554  │\n│ 7     │ 155.377 │ 8.98492 │ -68.907  │ -77.3735 │ 0.362996  │\n⋮\n│ 9993  │ 157.638 │ 9.54774 │ -70.5897 │ -78.9346 │ 0.0761896 │\n│ 9994  │ 154.02  │ 7.77889 │ -67.9395 │ -76.485  │ 0.882576  │\n│ 9995  │ 155.98  │ 9.06533 │ -69.2089 │ -77.6417 │ 0.277588  │\n│ 9996  │ 154.322 │ 9.70854 │ -69.3251 │ -77.8526 │ 0.224809  │\n│ 9997  │ 155.678 │ 8.1809  │ -68.5308 │ -76.9804 │ 0.537808  │\n│ 9998  │ 155.226 │ 9.38693 │ -69.1846 │ -77.6596 │ 0.272675  │\n│ 9999  │ 153.116 │ 8.1809  │ -68.2567 │ -76.8574 │ 0.608161  │\n│ 10000 │ 154.02  │ 5.36683 │ -69.9092 │ -78.4546 │ 0.123127  │",
      "text/html": [
       "<table class=\"data-frame\"><thead><tr><th></th><th>mu</th><th>sigma</th><th>ll</th><th>prod</th><th>prob</th></tr><tr><th></th><th>Float64</th><th>Float64</th><th>Float64</th><th>Float64</th><th>Float64</th></tr></thead><tbody><p>10,000 rows × 5 columns</p><tr><th>1</th><td>154.623</td><td>9.14573</td><td>-68.8579</td><td>-77.3677</td><td>0.365084</td></tr><tr><th>2</th><td>154.623</td><td>10.191</td><td>-69.813</td><td>-78.3228</td><td>0.140477</td></tr><tr><th>3</th><td>151.307</td><td>8.1005</td><td>-69.2235</td><td>-77.9409</td><td>0.205818</td></tr><tr><th>4</th><td>153.869</td><td>6.41206</td><td>-68.1072</td><td>-76.6617</td><td>0.739633</td></tr><tr><th>5</th><td>155.829</td><td>6.33166</td><td>-68.9681</td><td>-77.4092</td><td>0.350247</td></tr><tr><th>6</th><td>152.362</td><td>7.61809</td><td>-68.3704</td><td>-77.0187</td><td>0.517554</td></tr><tr><th>7</th><td>155.377</td><td>8.98492</td><td>-68.907</td><td>-77.3735</td><td>0.362996</td></tr><tr><th>8</th><td>152.814</td><td>6.73367</td><td>-68.239</td><td>-76.8586</td><td>0.607467</td></tr><tr><th>9</th><td>152.06</td><td>7.8593</td><td>-68.6053</td><td>-77.2731</td><td>0.401329</td></tr><tr><th>10</th><td>153.568</td><td>7.77889</td><td>-67.9762</td><td>-76.549</td><td>0.827864</td></tr><tr><th>11</th><td>158.543</td><td>10.191</td><td>-71.7332</td><td>-80.0331</td><td>0.0253993</td></tr><tr><th>12</th><td>157.487</td><td>7.69849</td><td>-69.9173</td><td>-78.27</td><td>0.148103</td></tr><tr><th>13</th><td>153.266</td><td>7.69849</td><td>-68.0116</td><td>-76.6029</td><td>0.784395</td></tr><tr><th>14</th><td>152.965</td><td>7.37688</td><td>-68.0455</td><td>-76.6557</td><td>0.744095</td></tr><tr><th>15</th><td>155.226</td><td>6.57286</td><td>-68.3148</td><td>-76.7898</td><td>0.650702</td></tr><tr><th>16</th><td>154.171</td><td>8.90452</td><td>-68.6237</td><td>-77.1602</td><td>0.449283</td></tr><tr><th>17</th><td>153.869</td><td>6.73367</td><td>-67.9144</td><td>-76.4689</td><td>0.896879</td></tr><tr><th>18</th><td>151.005</td><td>7.21608</td><td>-69.588</td><td>-78.3256</td><td>0.14008</td></tr><tr><th>19</th><td>154.623</td><td>7.37688</td><td>-67.8962</td><td>-76.406</td><td>0.955138</td></tr><tr><th>20</th><td>155.528</td><td>7.61809</td><td>-68.2676</td><td>-76.7255</td><td>0.69392</td></tr><tr><th>21</th><td>155.678</td><td>8.1809</td><td>-68.5308</td><td>-76.9804</td><td>0.537808</td></tr><tr><th>22</th><td>156.583</td><td>10.8342</td><td>-70.9828</td><td>-79.3829</td><td>0.0486659</td></tr><tr><th>23</th><td>156.884</td><td>9.62814</td><td>-70.1155</td><td>-78.4996</td><td>0.117717</td></tr><tr><th>24</th><td>154.02</td><td>7.77889</td><td>-67.9395</td><td>-76.485</td><td>0.882576</td></tr><tr><th>&vellip;</th><td>&vellip;</td><td>&vellip;</td><td>&vellip;</td><td>&vellip;</td><td>&vellip;</td></tr></tbody></table>"
      ]
     },
     "metadata": {},
     "execution_count": 7
    }
   ],
   "cell_type": "code",
   "source": [
    "samples = post[sample(1:size(post, 1), Weights(post[:prob]), 10000, replace=true), :]"
   ],
   "metadata": {},
   "execution_count": 7
  },
  {
   "outputs": [],
   "cell_type": "markdown",
   "source": [
    "### Snippet 4.23"
   ],
   "metadata": {}
  },
  {
   "outputs": [],
   "cell_type": "markdown",
   "source": [
    "Density of sigma"
   ],
   "metadata": {}
  },
  {
   "outputs": [
    {
     "name": "stdout",
     "output_type": "stream",
     "text": [
      "┌ Warning: seriestype density has been moved to StatsPlots.  To use: `Pkg.add(\"StatsPlots\"); using StatsPlots`\n",
      "└ @ Plots /Users/rob/.julia/packages/Plots/UQI78/src/args.jl:1054\n",
      "┌ Warning: seriestype density has been moved to StatsPlots.  To use: `Pkg.add(\"StatsPlots\"); using StatsPlots`\n",
      "└ @ Plots /Users/rob/.julia/packages/Plots/UQI78/src/args.jl:1054\n"
     ]
    },
    {
     "output_type": "execute_result",
     "data": {
      "text/plain": "Plot{Plots.GRBackend() n=1}",
      "image/png": "[encoded data removed]",
      "text/html": [
       "<?xml version=\"1.0\" encoding=\"utf-8\"?>\n",
       "<svg xmlns=\"http://www.w3.org/2000/svg\" xmlns:xlink=\"http://www.w3.org/1999/xlink\" width=\"500\" height=\"500\" viewBox=\"0 0 2000 2000\">\n",
       "<defs>\n",
       "  <clipPath id=\"clip9300\">\n",
       "    <rect x=\"0\" y=\"0\" width=\"2000\" height=\"2000\"/>\n",
       "  </clipPath>\n",
       "</defs>\n",
       "<polygon clip-path=\"url(#clip9300)\" points=\"\n",
       "0,2000 2000,2000 2000,0 0,0 \n",
       "  \" fill=\"#ffffff\" fill-rule=\"evenodd\" fill-opacity=\"1\"/>\n",
       "<defs>\n",
       "  <clipPath id=\"clip9301\">\n",
       "    <rect x=\"400\" y=\"200\" width=\"1401\" height=\"1401\"/>\n",
       "  </clipPath>\n",
       "</defs>\n",
       "<polygon clip-path=\"url(#clip9300)\" points=\"\n",
       "161.394,1886.71 1921.26,1886.71 1921.26,47.2441 161.394,47.2441 \n",
       "  \" fill=\"#ffffff\" fill-rule=\"evenodd\" fill-opacity=\"1\"/>\n",
       "<defs>\n",
       "  <clipPath id=\"clip9302\">\n",
       "    <rect x=\"161\" y=\"47\" width=\"1761\" height=\"1840\"/>\n",
       "  </clipPath>\n",
       "</defs>\n",
       "<polyline clip-path=\"url(#clip9302)\" style=\"stroke:#000000; stroke-width:2; stroke-opacity:0.1; fill:none\" points=\"\n",
       "  459.643,1886.71 459.643,47.2441 \n",
       "  \"/>\n",
       "<polyline clip-path=\"url(#clip9302)\" style=\"stroke:#000000; stroke-width:2; stroke-opacity:0.1; fill:none\" points=\"\n",
       "  787.871,1886.71 787.871,47.2441 \n",
       "  \"/>\n",
       "<polyline clip-path=\"url(#clip9302)\" style=\"stroke:#000000; stroke-width:2; stroke-opacity:0.1; fill:none\" points=\"\n",
       "  1116.1,1886.71 1116.1,47.2441 \n",
       "  \"/>\n",
       "<polyline clip-path=\"url(#clip9302)\" style=\"stroke:#000000; stroke-width:2; stroke-opacity:0.1; fill:none\" points=\"\n",
       "  1444.33,1886.71 1444.33,47.2441 \n",
       "  \"/>\n",
       "<polyline clip-path=\"url(#clip9302)\" style=\"stroke:#000000; stroke-width:2; stroke-opacity:0.1; fill:none\" points=\"\n",
       "  1772.56,1886.71 1772.56,47.2441 \n",
       "  \"/>\n",
       "<polyline clip-path=\"url(#clip9302)\" style=\"stroke:#000000; stroke-width:2; stroke-opacity:0.1; fill:none\" points=\"\n",
       "  161.394,1834.65 1921.26,1834.65 \n",
       "  \"/>\n",
       "<polyline clip-path=\"url(#clip9302)\" style=\"stroke:#000000; stroke-width:2; stroke-opacity:0.1; fill:none\" points=\"\n",
       "  161.394,1281.84 1921.26,1281.84 \n",
       "  \"/>\n",
       "<polyline clip-path=\"url(#clip9302)\" style=\"stroke:#000000; stroke-width:2; stroke-opacity:0.1; fill:none\" points=\"\n",
       "  161.394,729.041 1921.26,729.041 \n",
       "  \"/>\n",
       "<polyline clip-path=\"url(#clip9302)\" style=\"stroke:#000000; stroke-width:2; stroke-opacity:0.1; fill:none\" points=\"\n",
       "  161.394,176.238 1921.26,176.238 \n",
       "  \"/>\n",
       "<polyline clip-path=\"url(#clip9300)\" style=\"stroke:#000000; stroke-width:4; stroke-opacity:1; fill:none\" points=\"\n",
       "  161.394,1886.71 1921.26,1886.71 \n",
       "  \"/>\n",
       "<polyline clip-path=\"url(#clip9300)\" style=\"stroke:#000000; stroke-width:4; stroke-opacity:1; fill:none\" points=\"\n",
       "  161.394,1886.71 161.394,47.2441 \n",
       "  \"/>\n",
       "<polyline clip-path=\"url(#clip9300)\" style=\"stroke:#000000; stroke-width:4; stroke-opacity:1; fill:none\" points=\"\n",
       "  459.643,1886.71 459.643,1859.12 \n",
       "  \"/>\n",
       "<polyline clip-path=\"url(#clip9300)\" style=\"stroke:#000000; stroke-width:4; stroke-opacity:1; fill:none\" points=\"\n",
       "  787.871,1886.71 787.871,1859.12 \n",
       "  \"/>\n",
       "<polyline clip-path=\"url(#clip9300)\" style=\"stroke:#000000; stroke-width:4; stroke-opacity:1; fill:none\" points=\"\n",
       "  1116.1,1886.71 1116.1,1859.12 \n",
       "  \"/>\n",
       "<polyline clip-path=\"url(#clip9300)\" style=\"stroke:#000000; stroke-width:4; stroke-opacity:1; fill:none\" points=\"\n",
       "  1444.33,1886.71 1444.33,1859.12 \n",
       "  \"/>\n",
       "<polyline clip-path=\"url(#clip9300)\" style=\"stroke:#000000; stroke-width:4; stroke-opacity:1; fill:none\" points=\"\n",
       "  1772.56,1886.71 1772.56,1859.12 \n",
       "  \"/>\n",
       "<polyline clip-path=\"url(#clip9300)\" style=\"stroke:#000000; stroke-width:4; stroke-opacity:1; fill:none\" points=\"\n",
       "  161.394,1834.65 187.792,1834.65 \n",
       "  \"/>\n",
       "<polyline clip-path=\"url(#clip9300)\" style=\"stroke:#000000; stroke-width:4; stroke-opacity:1; fill:none\" points=\"\n",
       "  161.394,1281.84 187.792,1281.84 \n",
       "  \"/>\n",
       "<polyline clip-path=\"url(#clip9300)\" style=\"stroke:#000000; stroke-width:4; stroke-opacity:1; fill:none\" points=\"\n",
       "  161.394,729.041 187.792,729.041 \n",
       "  \"/>\n",
       "<polyline clip-path=\"url(#clip9300)\" style=\"stroke:#000000; stroke-width:4; stroke-opacity:1; fill:none\" points=\"\n",
       "  161.394,176.238 187.792,176.238 \n",
       "  \"/>\n",
       "<g clip-path=\"url(#clip9300)\">\n",
       "<text style=\"fill:#000000; fill-opacity:1; font-family:Arial,Helvetica Neue,Helvetica,sans-serif; font-size:48px; text-anchor:middle;\" transform=\"rotate(0, 459.643, 1938.71)\" x=\"459.643\" y=\"1938.71\">6</text>\n",
       "</g>\n",
       "<g clip-path=\"url(#clip9300)\">\n",
       "<text style=\"fill:#000000; fill-opacity:1; font-family:Arial,Helvetica Neue,Helvetica,sans-serif; font-size:48px; text-anchor:middle;\" transform=\"rotate(0, 787.871, 1938.71)\" x=\"787.871\" y=\"1938.71\">9</text>\n",
       "</g>\n",
       "<g clip-path=\"url(#clip9300)\">\n",
       "<text style=\"fill:#000000; fill-opacity:1; font-family:Arial,Helvetica Neue,Helvetica,sans-serif; font-size:48px; text-anchor:middle;\" transform=\"rotate(0, 1116.1, 1938.71)\" x=\"1116.1\" y=\"1938.71\">12</text>\n",
       "</g>\n",
       "<g clip-path=\"url(#clip9300)\">\n",
       "<text style=\"fill:#000000; fill-opacity:1; font-family:Arial,Helvetica Neue,Helvetica,sans-serif; font-size:48px; text-anchor:middle;\" transform=\"rotate(0, 1444.33, 1938.71)\" x=\"1444.33\" y=\"1938.71\">15</text>\n",
       "</g>\n",
       "<g clip-path=\"url(#clip9300)\">\n",
       "<text style=\"fill:#000000; fill-opacity:1; font-family:Arial,Helvetica Neue,Helvetica,sans-serif; font-size:48px; text-anchor:middle;\" transform=\"rotate(0, 1772.56, 1938.71)\" x=\"1772.56\" y=\"1938.71\">18</text>\n",
       "</g>\n",
       "<g clip-path=\"url(#clip9300)\">\n",
       "<text style=\"fill:#000000; fill-opacity:1; font-family:Arial,Helvetica Neue,Helvetica,sans-serif; font-size:48px; text-anchor:end;\" transform=\"rotate(0, 141.394, 1852.15)\" x=\"141.394\" y=\"1852.15\">0.0</text>\n",
       "</g>\n",
       "<g clip-path=\"url(#clip9300)\">\n",
       "<text style=\"fill:#000000; fill-opacity:1; font-family:Arial,Helvetica Neue,Helvetica,sans-serif; font-size:48px; text-anchor:end;\" transform=\"rotate(0, 141.394, 1299.34)\" x=\"141.394\" y=\"1299.34\">0.1</text>\n",
       "</g>\n",
       "<g clip-path=\"url(#clip9300)\">\n",
       "<text style=\"fill:#000000; fill-opacity:1; font-family:Arial,Helvetica Neue,Helvetica,sans-serif; font-size:48px; text-anchor:end;\" transform=\"rotate(0, 141.394, 746.541)\" x=\"141.394\" y=\"746.541\">0.2</text>\n",
       "</g>\n",
       "<g clip-path=\"url(#clip9300)\">\n",
       "<text style=\"fill:#000000; fill-opacity:1; font-family:Arial,Helvetica Neue,Helvetica,sans-serif; font-size:48px; text-anchor:end;\" transform=\"rotate(0, 141.394, 193.738)\" x=\"141.394\" y=\"193.738\">0.3</text>\n",
       "</g>\n",
       "<polyline clip-path=\"url(#clip9302)\" style=\"stroke:#009af9; stroke-width:4; stroke-opacity:1; fill:none\" points=\"\n",
       "  211.202,1834.65 219.545,1834.65 227.887,1834.64 236.23,1834.62 244.573,1834.57 252.916,1834.46 261.259,1834.23 269.602,1833.84 277.945,1833.23 286.288,1832.31 \n",
       "  294.631,1831 302.974,1829.11 311.317,1826.35 319.66,1822.23 328.003,1816.05 336.346,1806.96 344.689,1794.09 353.032,1776.73 361.375,1754.34 369.718,1726.69 \n",
       "  378.061,1694.01 386.404,1656.94 394.747,1616.17 403.09,1571.87 411.433,1523.52 419.776,1469.99 428.119,1410.07 436.462,1343.11 444.805,1269.59 453.148,1191.14 \n",
       "  461.491,1109.82 469.834,1027.06 478.177,943.236 486.52,858.243 494.862,772.523 503.205,687.69 511.548,606.481 519.891,532.106 528.234,467.162 536.577,412.383 \n",
       "  544.92,365.954 553.263,324.18 561.606,283.525 569.949,242.861 578.292,204.189 586.635,171.028 594.978,145.622 603.321,127.358 611.664,113.875 620.007,103.93 \n",
       "  628.35,99.3044 636.693,103.703 645.036,119.547 653.379,145.832 661.722,179.163 670.065,216.657 678.408,257.642 686.751,302.856 695.094,352.468 703.437,404.883 \n",
       "  711.78,457.149 720.123,506.542 728.466,552.213 736.809,595.627 745.152,639.441 753.495,685.743 761.837,735.079 770.18,786.834 778.523,840.305 786.866,895.44 \n",
       "  795.209,952.656 803.552,1011.95 811.895,1072.08 820.238,1130.59 828.581,1184.7 836.924,1232.27 845.267,1272.13 853.61,1304.06 861.953,1328.87 870.296,1348.65 \n",
       "  878.639,1366.38 886.982,1385.17 895.325,1407.17 903.668,1432.93 912.011,1461.27 920.354,1489.94 928.697,1516.58 937.04,1539.79 945.383,1559.64 953.726,1577.28 \n",
       "  962.069,1593.93 970.412,1609.98 978.755,1624.8 987.098,1637.41 995.441,1647.32 1003.78,1655.11 1012.13,1662.24 1020.47,1670.4 1028.81,1680.63 1037.16,1692.99 \n",
       "  1045.5,1706.75 1053.84,1720.79 1062.18,1733.98 1070.53,1745.4 1078.87,1754.76 1087.21,1762.5 1095.56,1769.43 1103.9,1776.03 1112.24,1782.1 1120.59,1787.14 \n",
       "  1128.93,1790.85 1137.27,1793.42 1145.61,1795.46 1153.96,1797.57 1162.3,1800.13 1170.64,1803.13 1178.99,1806.34 1187.33,1809.46 1195.67,1812.27 1204.01,1814.59 \n",
       "  1212.36,1816.32 1220.7,1817.49 1229.04,1818.3 1237.39,1819.03 1245.73,1819.82 1254.07,1820.55 1262.42,1820.89 1270.76,1820.52 1279.1,1819.41 1287.44,1817.97 \n",
       "  1295.79,1816.92 1304.13,1816.91 1312.47,1818.17 1320.82,1820.43 1329.16,1823.12 1337.5,1825.7 1345.85,1827.79 1354.19,1829.14 1362.53,1829.62 1370.87,1829.22 \n",
       "  1379.22,1828.11 1387.56,1826.58 1395.9,1825.02 1404.25,1823.84 1412.59,1823.36 1420.93,1823.76 1429.27,1824.98 1437.62,1826.74 1445.96,1828.65 1454.3,1830.36 \n",
       "  1462.65,1831.71 1470.99,1832.7 1479.33,1833.39 1487.68,1833.83 1496.02,1834.04 1504.36,1834.04 1512.7,1833.89 1521.05,1833.67 1529.39,1833.52 1537.73,1833.51 \n",
       "  1546.08,1833.65 1554.42,1833.87 1562.76,1834.04 1571.11,1834.07 1579.45,1833.92 1587.79,1833.62 1596.13,1833.26 1604.48,1832.95 1612.82,1832.77 1621.16,1832.76 \n",
       "  1629.51,1832.94 1637.85,1833.24 1646.19,1833.62 1654.54,1833.99 1662.88,1834.28 1671.22,1834.47 1679.56,1834.57 1687.91,1834.62 1696.25,1834.63 1704.59,1834.62 \n",
       "  1712.94,1834.58 1721.28,1834.49 1729.62,1834.3 1737.96,1834.02 1746.31,1833.66 1754.65,1833.27 1762.99,1832.95 1771.34,1832.77 1779.68,1832.77 1788.02,1832.94 \n",
       "  1796.37,1833.25 1804.71,1833.63 1813.05,1833.99 1821.39,1834.28 1829.74,1834.47 1838.08,1834.57 1846.42,1834.62 1854.77,1834.64 1863.11,1834.65 1871.45,1834.65 \n",
       "  \n",
       "  \"/>\n",
       "<polygon clip-path=\"url(#clip9300)\" points=\"\n",
       "1610.43,227.724 1861.26,227.724 1861.26,106.764 1610.43,106.764 \n",
       "  \" fill=\"#ffffff\" fill-rule=\"evenodd\" fill-opacity=\"1\"/>\n",
       "<polyline clip-path=\"url(#clip9300)\" style=\"stroke:#000000; stroke-width:4; stroke-opacity:1; fill:none\" points=\"\n",
       "  1610.43,227.724 1861.26,227.724 1861.26,106.764 1610.43,106.764 1610.43,227.724 \n",
       "  \"/>\n",
       "<polyline clip-path=\"url(#clip9300)\" style=\"stroke:#009af9; stroke-width:4; stroke-opacity:1; fill:none\" points=\"\n",
       "  1630.43,167.244 1750.43,167.244 \n",
       "  \"/>\n",
       "<g clip-path=\"url(#clip9300)\">\n",
       "<text style=\"fill:#000000; fill-opacity:1; font-family:Arial,Helvetica Neue,Helvetica,sans-serif; font-size:48px; text-anchor:start;\" transform=\"rotate(0, 1770.43, 184.744)\" x=\"1770.43\" y=\"184.744\">y1</text>\n",
       "</g>\n",
       "</svg>\n"
      ],
      "image/svg+xml": [
       "<?xml version=\"1.0\" encoding=\"utf-8\"?>\n",
       "<svg xmlns=\"http://www.w3.org/2000/svg\" xmlns:xlink=\"http://www.w3.org/1999/xlink\" width=\"500\" height=\"500\" viewBox=\"0 0 2000 2000\">\n",
       "<defs>\n",
       "  <clipPath id=\"clip9200\">\n",
       "    <rect x=\"0\" y=\"0\" width=\"2000\" height=\"2000\"/>\n",
       "  </clipPath>\n",
       "</defs>\n",
       "<polygon clip-path=\"url(#clip9200)\" points=\"\n",
       "0,2000 2000,2000 2000,0 0,0 \n",
       "  \" fill=\"#ffffff\" fill-rule=\"evenodd\" fill-opacity=\"1\"/>\n",
       "<defs>\n",
       "  <clipPath id=\"clip9201\">\n",
       "    <rect x=\"400\" y=\"200\" width=\"1401\" height=\"1401\"/>\n",
       "  </clipPath>\n",
       "</defs>\n",
       "<polygon clip-path=\"url(#clip9200)\" points=\"\n",
       "161.394,1886.71 1921.26,1886.71 1921.26,47.2441 161.394,47.2441 \n",
       "  \" fill=\"#ffffff\" fill-rule=\"evenodd\" fill-opacity=\"1\"/>\n",
       "<defs>\n",
       "  <clipPath id=\"clip9202\">\n",
       "    <rect x=\"161\" y=\"47\" width=\"1761\" height=\"1840\"/>\n",
       "  </clipPath>\n",
       "</defs>\n",
       "<polyline clip-path=\"url(#clip9202)\" style=\"stroke:#000000; stroke-width:2; stroke-opacity:0.1; fill:none\" points=\"\n",
       "  459.643,1886.71 459.643,47.2441 \n",
       "  \"/>\n",
       "<polyline clip-path=\"url(#clip9202)\" style=\"stroke:#000000; stroke-width:2; stroke-opacity:0.1; fill:none\" points=\"\n",
       "  787.871,1886.71 787.871,47.2441 \n",
       "  \"/>\n",
       "<polyline clip-path=\"url(#clip9202)\" style=\"stroke:#000000; stroke-width:2; stroke-opacity:0.1; fill:none\" points=\"\n",
       "  1116.1,1886.71 1116.1,47.2441 \n",
       "  \"/>\n",
       "<polyline clip-path=\"url(#clip9202)\" style=\"stroke:#000000; stroke-width:2; stroke-opacity:0.1; fill:none\" points=\"\n",
       "  1444.33,1886.71 1444.33,47.2441 \n",
       "  \"/>\n",
       "<polyline clip-path=\"url(#clip9202)\" style=\"stroke:#000000; stroke-width:2; stroke-opacity:0.1; fill:none\" points=\"\n",
       "  1772.56,1886.71 1772.56,47.2441 \n",
       "  \"/>\n",
       "<polyline clip-path=\"url(#clip9202)\" style=\"stroke:#000000; stroke-width:2; stroke-opacity:0.1; fill:none\" points=\"\n",
       "  161.394,1834.65 1921.26,1834.65 \n",
       "  \"/>\n",
       "<polyline clip-path=\"url(#clip9202)\" style=\"stroke:#000000; stroke-width:2; stroke-opacity:0.1; fill:none\" points=\"\n",
       "  161.394,1281.84 1921.26,1281.84 \n",
       "  \"/>\n",
       "<polyline clip-path=\"url(#clip9202)\" style=\"stroke:#000000; stroke-width:2; stroke-opacity:0.1; fill:none\" points=\"\n",
       "  161.394,729.041 1921.26,729.041 \n",
       "  \"/>\n",
       "<polyline clip-path=\"url(#clip9202)\" style=\"stroke:#000000; stroke-width:2; stroke-opacity:0.1; fill:none\" points=\"\n",
       "  161.394,176.238 1921.26,176.238 \n",
       "  \"/>\n",
       "<polyline clip-path=\"url(#clip9200)\" style=\"stroke:#000000; stroke-width:4; stroke-opacity:1; fill:none\" points=\"\n",
       "  161.394,1886.71 1921.26,1886.71 \n",
       "  \"/>\n",
       "<polyline clip-path=\"url(#clip9200)\" style=\"stroke:#000000; stroke-width:4; stroke-opacity:1; fill:none\" points=\"\n",
       "  161.394,1886.71 161.394,47.2441 \n",
       "  \"/>\n",
       "<polyline clip-path=\"url(#clip9200)\" style=\"stroke:#000000; stroke-width:4; stroke-opacity:1; fill:none\" points=\"\n",
       "  459.643,1886.71 459.643,1859.12 \n",
       "  \"/>\n",
       "<polyline clip-path=\"url(#clip9200)\" style=\"stroke:#000000; stroke-width:4; stroke-opacity:1; fill:none\" points=\"\n",
       "  787.871,1886.71 787.871,1859.12 \n",
       "  \"/>\n",
       "<polyline clip-path=\"url(#clip9200)\" style=\"stroke:#000000; stroke-width:4; stroke-opacity:1; fill:none\" points=\"\n",
       "  1116.1,1886.71 1116.1,1859.12 \n",
       "  \"/>\n",
       "<polyline clip-path=\"url(#clip9200)\" style=\"stroke:#000000; stroke-width:4; stroke-opacity:1; fill:none\" points=\"\n",
       "  1444.33,1886.71 1444.33,1859.12 \n",
       "  \"/>\n",
       "<polyline clip-path=\"url(#clip9200)\" style=\"stroke:#000000; stroke-width:4; stroke-opacity:1; fill:none\" points=\"\n",
       "  1772.56,1886.71 1772.56,1859.12 \n",
       "  \"/>\n",
       "<polyline clip-path=\"url(#clip9200)\" style=\"stroke:#000000; stroke-width:4; stroke-opacity:1; fill:none\" points=\"\n",
       "  161.394,1834.65 187.792,1834.65 \n",
       "  \"/>\n",
       "<polyline clip-path=\"url(#clip9200)\" style=\"stroke:#000000; stroke-width:4; stroke-opacity:1; fill:none\" points=\"\n",
       "  161.394,1281.84 187.792,1281.84 \n",
       "  \"/>\n",
       "<polyline clip-path=\"url(#clip9200)\" style=\"stroke:#000000; stroke-width:4; stroke-opacity:1; fill:none\" points=\"\n",
       "  161.394,729.041 187.792,729.041 \n",
       "  \"/>\n",
       "<polyline clip-path=\"url(#clip9200)\" style=\"stroke:#000000; stroke-width:4; stroke-opacity:1; fill:none\" points=\"\n",
       "  161.394,176.238 187.792,176.238 \n",
       "  \"/>\n",
       "<g clip-path=\"url(#clip9200)\">\n",
       "<text style=\"fill:#000000; fill-opacity:1; font-family:Arial,Helvetica Neue,Helvetica,sans-serif; font-size:48px; text-anchor:middle;\" transform=\"rotate(0, 459.643, 1938.71)\" x=\"459.643\" y=\"1938.71\">6</text>\n",
       "</g>\n",
       "<g clip-path=\"url(#clip9200)\">\n",
       "<text style=\"fill:#000000; fill-opacity:1; font-family:Arial,Helvetica Neue,Helvetica,sans-serif; font-size:48px; text-anchor:middle;\" transform=\"rotate(0, 787.871, 1938.71)\" x=\"787.871\" y=\"1938.71\">9</text>\n",
       "</g>\n",
       "<g clip-path=\"url(#clip9200)\">\n",
       "<text style=\"fill:#000000; fill-opacity:1; font-family:Arial,Helvetica Neue,Helvetica,sans-serif; font-size:48px; text-anchor:middle;\" transform=\"rotate(0, 1116.1, 1938.71)\" x=\"1116.1\" y=\"1938.71\">12</text>\n",
       "</g>\n",
       "<g clip-path=\"url(#clip9200)\">\n",
       "<text style=\"fill:#000000; fill-opacity:1; font-family:Arial,Helvetica Neue,Helvetica,sans-serif; font-size:48px; text-anchor:middle;\" transform=\"rotate(0, 1444.33, 1938.71)\" x=\"1444.33\" y=\"1938.71\">15</text>\n",
       "</g>\n",
       "<g clip-path=\"url(#clip9200)\">\n",
       "<text style=\"fill:#000000; fill-opacity:1; font-family:Arial,Helvetica Neue,Helvetica,sans-serif; font-size:48px; text-anchor:middle;\" transform=\"rotate(0, 1772.56, 1938.71)\" x=\"1772.56\" y=\"1938.71\">18</text>\n",
       "</g>\n",
       "<g clip-path=\"url(#clip9200)\">\n",
       "<text style=\"fill:#000000; fill-opacity:1; font-family:Arial,Helvetica Neue,Helvetica,sans-serif; font-size:48px; text-anchor:end;\" transform=\"rotate(0, 141.394, 1852.15)\" x=\"141.394\" y=\"1852.15\">0.0</text>\n",
       "</g>\n",
       "<g clip-path=\"url(#clip9200)\">\n",
       "<text style=\"fill:#000000; fill-opacity:1; font-family:Arial,Helvetica Neue,Helvetica,sans-serif; font-size:48px; text-anchor:end;\" transform=\"rotate(0, 141.394, 1299.34)\" x=\"141.394\" y=\"1299.34\">0.1</text>\n",
       "</g>\n",
       "<g clip-path=\"url(#clip9200)\">\n",
       "<text style=\"fill:#000000; fill-opacity:1; font-family:Arial,Helvetica Neue,Helvetica,sans-serif; font-size:48px; text-anchor:end;\" transform=\"rotate(0, 141.394, 746.541)\" x=\"141.394\" y=\"746.541\">0.2</text>\n",
       "</g>\n",
       "<g clip-path=\"url(#clip9200)\">\n",
       "<text style=\"fill:#000000; fill-opacity:1; font-family:Arial,Helvetica Neue,Helvetica,sans-serif; font-size:48px; text-anchor:end;\" transform=\"rotate(0, 141.394, 193.738)\" x=\"141.394\" y=\"193.738\">0.3</text>\n",
       "</g>\n",
       "<polyline clip-path=\"url(#clip9202)\" style=\"stroke:#009af9; stroke-width:4; stroke-opacity:1; fill:none\" points=\"\n",
       "  211.202,1834.65 219.545,1834.65 227.887,1834.64 236.23,1834.62 244.573,1834.57 252.916,1834.46 261.259,1834.23 269.602,1833.84 277.945,1833.23 286.288,1832.31 \n",
       "  294.631,1831 302.974,1829.11 311.317,1826.35 319.66,1822.23 328.003,1816.05 336.346,1806.96 344.689,1794.09 353.032,1776.73 361.375,1754.34 369.718,1726.69 \n",
       "  378.061,1694.01 386.404,1656.94 394.747,1616.17 403.09,1571.87 411.433,1523.52 419.776,1469.99 428.119,1410.07 436.462,1343.11 444.805,1269.59 453.148,1191.14 \n",
       "  461.491,1109.82 469.834,1027.06 478.177,943.236 486.52,858.243 494.862,772.523 503.205,687.69 511.548,606.481 519.891,532.106 528.234,467.162 536.577,412.383 \n",
       "  544.92,365.954 553.263,324.18 561.606,283.525 569.949,242.861 578.292,204.189 586.635,171.028 594.978,145.622 603.321,127.358 611.664,113.875 620.007,103.93 \n",
       "  628.35,99.3044 636.693,103.703 645.036,119.547 653.379,145.832 661.722,179.163 670.065,216.657 678.408,257.642 686.751,302.856 695.094,352.468 703.437,404.883 \n",
       "  711.78,457.149 720.123,506.542 728.466,552.213 736.809,595.627 745.152,639.441 753.495,685.743 761.837,735.079 770.18,786.834 778.523,840.305 786.866,895.44 \n",
       "  795.209,952.656 803.552,1011.95 811.895,1072.08 820.238,1130.59 828.581,1184.7 836.924,1232.27 845.267,1272.13 853.61,1304.06 861.953,1328.87 870.296,1348.65 \n",
       "  878.639,1366.38 886.982,1385.17 895.325,1407.17 903.668,1432.93 912.011,1461.27 920.354,1489.94 928.697,1516.58 937.04,1539.79 945.383,1559.64 953.726,1577.28 \n",
       "  962.069,1593.93 970.412,1609.98 978.755,1624.8 987.098,1637.41 995.441,1647.32 1003.78,1655.11 1012.13,1662.24 1020.47,1670.4 1028.81,1680.63 1037.16,1692.99 \n",
       "  1045.5,1706.75 1053.84,1720.79 1062.18,1733.98 1070.53,1745.4 1078.87,1754.76 1087.21,1762.5 1095.56,1769.43 1103.9,1776.03 1112.24,1782.1 1120.59,1787.14 \n",
       "  1128.93,1790.85 1137.27,1793.42 1145.61,1795.46 1153.96,1797.57 1162.3,1800.13 1170.64,1803.13 1178.99,1806.34 1187.33,1809.46 1195.67,1812.27 1204.01,1814.59 \n",
       "  1212.36,1816.32 1220.7,1817.49 1229.04,1818.3 1237.39,1819.03 1245.73,1819.82 1254.07,1820.55 1262.42,1820.89 1270.76,1820.52 1279.1,1819.41 1287.44,1817.97 \n",
       "  1295.79,1816.92 1304.13,1816.91 1312.47,1818.17 1320.82,1820.43 1329.16,1823.12 1337.5,1825.7 1345.85,1827.79 1354.19,1829.14 1362.53,1829.62 1370.87,1829.22 \n",
       "  1379.22,1828.11 1387.56,1826.58 1395.9,1825.02 1404.25,1823.84 1412.59,1823.36 1420.93,1823.76 1429.27,1824.98 1437.62,1826.74 1445.96,1828.65 1454.3,1830.36 \n",
       "  1462.65,1831.71 1470.99,1832.7 1479.33,1833.39 1487.68,1833.83 1496.02,1834.04 1504.36,1834.04 1512.7,1833.89 1521.05,1833.67 1529.39,1833.52 1537.73,1833.51 \n",
       "  1546.08,1833.65 1554.42,1833.87 1562.76,1834.04 1571.11,1834.07 1579.45,1833.92 1587.79,1833.62 1596.13,1833.26 1604.48,1832.95 1612.82,1832.77 1621.16,1832.76 \n",
       "  1629.51,1832.94 1637.85,1833.24 1646.19,1833.62 1654.54,1833.99 1662.88,1834.28 1671.22,1834.47 1679.56,1834.57 1687.91,1834.62 1696.25,1834.63 1704.59,1834.62 \n",
       "  1712.94,1834.58 1721.28,1834.49 1729.62,1834.3 1737.96,1834.02 1746.31,1833.66 1754.65,1833.27 1762.99,1832.95 1771.34,1832.77 1779.68,1832.77 1788.02,1832.94 \n",
       "  1796.37,1833.25 1804.71,1833.63 1813.05,1833.99 1821.39,1834.28 1829.74,1834.47 1838.08,1834.57 1846.42,1834.62 1854.77,1834.64 1863.11,1834.65 1871.45,1834.65 \n",
       "  \n",
       "  \"/>\n",
       "<polygon clip-path=\"url(#clip9200)\" points=\"\n",
       "1610.43,227.724 1861.26,227.724 1861.26,106.764 1610.43,106.764 \n",
       "  \" fill=\"#ffffff\" fill-rule=\"evenodd\" fill-opacity=\"1\"/>\n",
       "<polyline clip-path=\"url(#clip9200)\" style=\"stroke:#000000; stroke-width:4; stroke-opacity:1; fill:none\" points=\"\n",
       "  1610.43,227.724 1861.26,227.724 1861.26,106.764 1610.43,106.764 1610.43,227.724 \n",
       "  \"/>\n",
       "<polyline clip-path=\"url(#clip9200)\" style=\"stroke:#009af9; stroke-width:4; stroke-opacity:1; fill:none\" points=\"\n",
       "  1630.43,167.244 1750.43,167.244 \n",
       "  \"/>\n",
       "<g clip-path=\"url(#clip9200)\">\n",
       "<text style=\"fill:#000000; fill-opacity:1; font-family:Arial,Helvetica Neue,Helvetica,sans-serif; font-size:48px; text-anchor:start;\" transform=\"rotate(0, 1770.43, 184.744)\" x=\"1770.43\" y=\"184.744\">y1</text>\n",
       "</g>\n",
       "</svg>\n"
      ]
     },
     "metadata": {},
     "execution_count": 8
    }
   ],
   "cell_type": "code",
   "source": [
    "density(samples[:sigma])"
   ],
   "metadata": {},
   "execution_count": 8
  },
  {
   "outputs": [],
   "cell_type": "markdown",
   "source": [
    "End of `clip-21-23.jl`"
   ],
   "metadata": {}
  },
  {
   "outputs": [],
   "cell_type": "markdown",
   "source": [
    "*This notebook was generated using [Literate.jl](https://github.com/fredrikekre/Literate.jl).*"
   ],
   "metadata": {}
  }
 ],
 "nbformat_minor": 3,
 "metadata": {
  "language_info": {
   "file_extension": ".jl",
   "mimetype": "application/julia",
   "name": "julia",
   "version": "1.2.0-DEV.224"
  },
  "kernelspec": {
   "name": "julia-1.2",
   "display_name": "Julia 1.2.0-DEV.224",
   "language": "julia"
  }
 },
 "nbformat": 4
}
