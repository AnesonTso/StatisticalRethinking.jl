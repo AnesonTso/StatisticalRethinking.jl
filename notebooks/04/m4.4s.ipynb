{
 "cells": [
  {
   "outputs": [],
   "cell_type": "markdown",
   "source": [
    "Load Julia packages (libraries) needed  for the snippets in chapter 0"
   ],
   "metadata": {}
  },
  {
   "outputs": [],
   "cell_type": "code",
   "source": [
    "using StatisticalRethinking\n",
    "using CmdStan, StanMCMCChain\n",
    "gr(size=(500,500));"
   ],
   "metadata": {},
   "execution_count": 1
  },
  {
   "outputs": [],
   "cell_type": "markdown",
   "source": [
    "CmdStan uses a tmp directory to store the output of cmdstan"
   ],
   "metadata": {}
  },
  {
   "outputs": [],
   "cell_type": "code",
   "source": [
    "ProjDir = rel_path(\"..\", \"scripts\", \"04\")\n",
    "cd(ProjDir)"
   ],
   "metadata": {},
   "execution_count": 2
  },
  {
   "outputs": [],
   "cell_type": "markdown",
   "source": [
    "### snippet 4.7"
   ],
   "metadata": {}
  },
  {
   "outputs": [],
   "cell_type": "code",
   "source": [
    "howell1 = CSV.read(rel_path(\"..\", \"data\", \"Howell1.csv\"), delim=';')\n",
    "df = convert(DataFrame, howell1);"
   ],
   "metadata": {},
   "execution_count": 3
  },
  {
   "outputs": [],
   "cell_type": "markdown",
   "source": [
    "Use only adults"
   ],
   "metadata": {}
  },
  {
   "outputs": [],
   "cell_type": "code",
   "source": [
    "df2 = filter(row -> row[:age] >= 18, df)\n",
    "mean_weight = mean(df2[:weight])\n",
    "df2[:weight_c] = convert(Vector{Float64}, df2[:weight]) .- mean_weight ;"
   ],
   "metadata": {},
   "execution_count": 4
  },
  {
   "outputs": [],
   "cell_type": "markdown",
   "source": [
    "Define the Stan language model"
   ],
   "metadata": {}
  },
  {
   "outputs": [],
   "cell_type": "code",
   "source": [
    "weightsmodel = \"\n",
    "data {\n",
    " int < lower = 1 > N; // Sample size\n",
    " vector[N] height; // Predictor\n",
    " vector[N] weight; // Outcome\n",
    "}\n",
    "\n",
    "parameters {\n",
    " real alpha; // Intercept\n",
    " real beta; // Slope (regression coefficients)\n",
    " real < lower = 0 > sigma; // Error SD\n",
    "}\n",
    "\n",
    "model {\n",
    " height ~ normal(alpha + weight * beta , sigma);\n",
    "}\n",
    "\n",
    "generated quantities {\n",
    "}\n",
    "\";"
   ],
   "metadata": {},
   "execution_count": 5
  },
  {
   "outputs": [],
   "cell_type": "markdown",
   "source": [
    "Define the Stanmodel and set the output format to :mcmcchain."
   ],
   "metadata": {}
  },
  {
   "outputs": [],
   "cell_type": "code",
   "source": [
    "stanmodel = Stanmodel(name=\"weights\", monitors = [\"alpha\", \"beta\", \"sigma\"],model=weightsmodel,\n",
    "  output_format=:mcmcchain);\n",
    "# Input data for cmdstan\n",
    "heightsdata = Dict(\"N\" => length(df2[:height]), \"height\" => df2[:height], \"weight\" => df2[:weight_c]);"
   ],
   "metadata": {},
   "execution_count": 6
  },
  {
   "outputs": [],
   "cell_type": "markdown",
   "source": [
    "Sample using cmdstan"
   ],
   "metadata": {}
  },
  {
   "outputs": [
    {
     "name": "stdout",
     "output_type": "stream",
     "text": [
      "Iterations = 1:1000\n",
      "Thinning interval = 1\n",
      "Chains = 1,2,3,4\n",
      "Samples per chain = 1000\n",
      "\n",
      "Empirical Posterior Estimates:\n",
      "          Mean          SD        Naive SE       MCSE      ESS\n",
      "alpha 154.60301700 0.267258057 0.00422572091 0.0042825428 1000\n",
      " beta   0.90518034 0.043246744 0.00068379105 0.0007694696 1000\n",
      "sigma   5.10826989 0.189826578 0.00300142173 0.0024240672 1000\n",
      "\n",
      "Quantiles:\n",
      "          2.5%       25.0%       50.0%        75.0%        97.5%   \n",
      "alpha 154.0820000 154.4230000 154.6005000 154.79000000 155.13102500\n",
      " beta   0.8197474   0.8762585   0.9045965   0.93411475   0.99256603\n",
      "sigma   4.7561248   4.9775050   5.1018500   5.23448750   5.49705125\n",
      "\n"
     ]
    }
   ],
   "cell_type": "code",
   "source": [
    "rc, chn, cnames = stan(stanmodel, heightsdata, ProjDir, diagnostics=false,\n",
    "  summary=false, CmdStanDir=CMDSTAN_HOME);\n",
    "# Describe the draws\n",
    "describe(chn)"
   ],
   "metadata": {},
   "execution_count": 7
  },
  {
   "outputs": [],
   "cell_type": "markdown",
   "source": [
    "Save the chains in a JLS file"
   ],
   "metadata": {}
  },
  {
   "outputs": [
    {
     "output_type": "execute_result",
     "data": {
      "text/plain": "Object of type \"Chains{Float64}\"\n\nIterations = 1:1000\nThinning interval = 1\nChains = 1,2,3,4\nSamples per chain = 1000\n\nUnion{Missing, Float64}[154.725 0.865136 5.08905; 154.694 0.953491 5.05677; … ; 154.864 0.898148 4.91997; 154.503 0.885442 5.41598]\n\nUnion{Missing, Float64}[154.81 0.87047 5.29366; 154.408 0.875542 5.12124; … ; 154.094 0.911889 5.46741; 154.478 0.908087 5.39037]\n\nUnion{Missing, Float64}[154.807 0.866999 5.09479; 154.643 0.850079 5.19143; … ; 154.784 0.893493 4.99226; 154.604 0.891352 4.92604]\n\nUnion{Missing, Float64}[154.805 0.973108 5.1372; 154.775 0.915245 5.1418; … ; 154.348 0.83654 5.24703; 154.231 0.886438 5.30987]"
     },
     "metadata": {},
     "execution_count": 8
    }
   ],
   "cell_type": "code",
   "source": [
    "serialize(\"m4.4s.jls\", chn)\n",
    "\n",
    "chn2 = deserialize(\"m4.4s.jls\")"
   ],
   "metadata": {},
   "execution_count": 8
  },
  {
   "outputs": [],
   "cell_type": "markdown",
   "source": [
    "Should be identical to earlier result"
   ],
   "metadata": {}
  },
  {
   "outputs": [
    {
     "name": "stdout",
     "output_type": "stream",
     "text": [
      "Iterations = 1:1000\n",
      "Thinning interval = 1\n",
      "Chains = 1,2,3,4\n",
      "Samples per chain = 1000\n",
      "\n",
      "Empirical Posterior Estimates:\n",
      "          Mean          SD        Naive SE       MCSE      ESS\n",
      "alpha 154.60301700 0.267258057 0.00422572091 0.0042825428 1000\n",
      " beta   0.90518034 0.043246744 0.00068379105 0.0007694696 1000\n",
      "sigma   5.10826989 0.189826578 0.00300142173 0.0024240672 1000\n",
      "\n",
      "Quantiles:\n",
      "          2.5%       25.0%       50.0%        75.0%        97.5%   \n",
      "alpha 154.0820000 154.4230000 154.6005000 154.79000000 155.13102500\n",
      " beta   0.8197474   0.8762585   0.9045965   0.93411475   0.99256603\n",
      "sigma   4.7561248   4.9775050   5.1018500   5.23448750   5.49705125\n",
      "\n"
     ]
    }
   ],
   "cell_type": "code",
   "source": [
    "describe(chn2)"
   ],
   "metadata": {},
   "execution_count": 9
  },
  {
   "outputs": [],
   "cell_type": "markdown",
   "source": [
    "End of `m4.4s.jl`"
   ],
   "metadata": {}
  },
  {
   "outputs": [],
   "cell_type": "markdown",
   "source": [
    "*This notebook was generated using [Literate.jl](https://github.com/fredrikekre/Literate.jl).*"
   ],
   "metadata": {}
  }
 ],
 "nbformat_minor": 3,
 "metadata": {
  "language_info": {
   "file_extension": ".jl",
   "mimetype": "application/julia",
   "name": "julia",
   "version": "1.2.0-DEV.234"
  },
  "kernelspec": {
   "name": "julia-1.2",
   "display_name": "Julia 1.2.0-DEV.234",
   "language": "julia"
  }
 },
 "nbformat": 4
}
