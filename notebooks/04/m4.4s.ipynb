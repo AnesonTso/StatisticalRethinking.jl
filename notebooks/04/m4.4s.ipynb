{
 "cells": [
  {
   "outputs": [],
   "cell_type": "markdown",
   "source": [
    "Load Julia packages (libraries) needed  for the snippets in chapter 0"
   ],
   "metadata": {}
  },
  {
   "outputs": [],
   "cell_type": "code",
   "source": [
    "using StatisticalRethinking\n",
    "using CmdStan, StanMCMCChain\n",
    "gr(size=(500,500));"
   ],
   "metadata": {},
   "execution_count": 1
  },
  {
   "outputs": [],
   "cell_type": "markdown",
   "source": [
    "CmdStan uses a tmp directory to store the output of cmdstan"
   ],
   "metadata": {}
  },
  {
   "outputs": [],
   "cell_type": "code",
   "source": [
    "ProjDir = rel_path(\"..\", \"scripts\", \"04\")\n",
    "cd(ProjDir)"
   ],
   "metadata": {},
   "execution_count": 2
  },
  {
   "outputs": [],
   "cell_type": "markdown",
   "source": [
    "### snippet 4.7"
   ],
   "metadata": {}
  },
  {
   "outputs": [],
   "cell_type": "code",
   "source": [
    "howell1 = CSV.read(rel_path(\"..\", \"data\", \"Howell1.csv\"), delim=';')\n",
    "df = convert(DataFrame, howell1);"
   ],
   "metadata": {},
   "execution_count": 3
  },
  {
   "outputs": [],
   "cell_type": "markdown",
   "source": [
    "Use only adults"
   ],
   "metadata": {}
  },
  {
   "outputs": [],
   "cell_type": "code",
   "source": [
    "df2 = filter(row -> row[:age] >= 18, df)\n",
    "mean_weight = mean(df2[:weight])\n",
    "df2[:weight_c] = convert(Vector{Float64}, df2[:weight]) .- mean_weight ;"
   ],
   "metadata": {},
   "execution_count": 4
  },
  {
   "outputs": [],
   "cell_type": "markdown",
   "source": [
    "Define the Stan language model"
   ],
   "metadata": {}
  },
  {
   "outputs": [],
   "cell_type": "code",
   "source": [
    "weightsmodel = \"\n",
    "data {\n",
    " int < lower = 1 > N; // Sample size\n",
    " vector[N] height; // Predictor\n",
    " vector[N] weight; // Outcome\n",
    "}\n",
    "\n",
    "parameters {\n",
    " real alpha; // Intercept\n",
    " real beta; // Slope (regression coefficients)\n",
    " real < lower = 0 > sigma; // Error SD\n",
    "}\n",
    "\n",
    "model {\n",
    " height ~ normal(alpha + weight * beta , sigma);\n",
    "}\n",
    "\n",
    "generated quantities {\n",
    "}\n",
    "\";"
   ],
   "metadata": {},
   "execution_count": 5
  },
  {
   "outputs": [],
   "cell_type": "markdown",
   "source": [
    "Define the Stanmodel and set the output format to :mcmcchain."
   ],
   "metadata": {}
  },
  {
   "outputs": [],
   "cell_type": "code",
   "source": [
    "stanmodel = Stanmodel(name=\"weights\", monitors = [\"alpha\", \"beta\", \"sigma\"],model=weightsmodel,\n",
    "  output_format=:mcmcchain);\n",
    "# Input data for cmdstan\n",
    "heightsdata = Dict(\"N\" => length(df2[:height]), \"height\" => df2[:height], \"weight\" => df2[:weight_c]);"
   ],
   "metadata": {},
   "execution_count": 6
  },
  {
   "outputs": [],
   "cell_type": "markdown",
   "source": [
    "Sample using cmdstan"
   ],
   "metadata": {}
  },
  {
   "outputs": [
    {
     "name": "stdout",
     "output_type": "stream",
     "text": [
      "Iterations = 1:1000\n",
      "Thinning interval = 1\n",
      "Chains = 1,2,3,4\n",
      "Samples per chain = 1000\n",
      "\n",
      "Empirical Posterior Estimates:\n",
      "          Mean         SD       Naive SE       MCSE      ESS\n",
      "alpha 154.6066575 0.270678217 0.0042797984 0.0041492373 1000\n",
      " beta   0.9049286 0.042638680 0.0006741767 0.0006531093 1000\n",
      "sigma   5.1007848 0.195084007 0.0030845490 0.0034188340 1000\n",
      "\n",
      "Quantiles:\n",
      "          2.5%        25.0%       50.0%        75.0%       97.5%   \n",
      "alpha 154.09700000 154.4220000 154.6035000 154.79200000 155.1370250\n",
      " beta   0.82291885   0.8754675   0.9051325   0.93456125   0.9877926\n",
      "sigma   4.73280175   4.9662975   5.0959250   5.22602250   5.5059357\n",
      "\n"
     ]
    }
   ],
   "cell_type": "code",
   "source": [
    "rc, chn, cnames = stan(stanmodel, heightsdata, ProjDir, diagnostics=false,\n",
    "  summary=false, CmdStanDir=CMDSTAN_HOME);\n",
    "# Describe the draws\n",
    "describe(chn)"
   ],
   "metadata": {},
   "execution_count": 7
  },
  {
   "outputs": [],
   "cell_type": "markdown",
   "source": [
    "Save the chains in a JLS file"
   ],
   "metadata": {}
  },
  {
   "outputs": [
    {
     "output_type": "execute_result",
     "data": {
      "text/plain": "Object of type \"Chains{Float64}\"\n\nIterations = 1:1000\nThinning interval = 1\nChains = 1,2,3,4\nSamples per chain = 1000\n\nUnion{Missing, Float64}[154.415 0.911598 4.87362; 155.239 0.920331 4.86811; … ; 154.756 0.951421 4.98863; 154.423 0.860477 5.0342]\n\nUnion{Missing, Float64}[154.545 0.893129 5.35471; 154.624 0.90257 5.00047; … ; 154.649 0.872991 4.95915; 154.74 0.905241 4.77537]\n\nUnion{Missing, Float64}[154.711 0.926219 4.94037; 154.894 0.84716 5.39336; … ; 154.816 0.884246 5.02044; 154.416 0.93465 5.06681]\n\nUnion{Missing, Float64}[154.697 0.886555 4.92582; 154.604 0.888125 5.038; … ; 154.39 0.886105 4.99736; 154.594 0.91524 5.06238]"
     },
     "metadata": {},
     "execution_count": 8
    }
   ],
   "cell_type": "code",
   "source": [
    "serialize(\"m4.4s.jls\", chn)\n",
    "\n",
    "chn2 = deserialize(\"m4.4s.jls\")"
   ],
   "metadata": {},
   "execution_count": 8
  },
  {
   "outputs": [],
   "cell_type": "markdown",
   "source": [
    "Should be identical to earlier result"
   ],
   "metadata": {}
  },
  {
   "outputs": [
    {
     "name": "stdout",
     "output_type": "stream",
     "text": [
      "Iterations = 1:1000\n",
      "Thinning interval = 1\n",
      "Chains = 1,2,3,4\n",
      "Samples per chain = 1000\n",
      "\n",
      "Empirical Posterior Estimates:\n",
      "          Mean         SD       Naive SE       MCSE      ESS\n",
      "alpha 154.6066575 0.270678217 0.0042797984 0.0041492373 1000\n",
      " beta   0.9049286 0.042638680 0.0006741767 0.0006531093 1000\n",
      "sigma   5.1007848 0.195084007 0.0030845490 0.0034188340 1000\n",
      "\n",
      "Quantiles:\n",
      "          2.5%        25.0%       50.0%        75.0%       97.5%   \n",
      "alpha 154.09700000 154.4220000 154.6035000 154.79200000 155.1370250\n",
      " beta   0.82291885   0.8754675   0.9051325   0.93456125   0.9877926\n",
      "sigma   4.73280175   4.9662975   5.0959250   5.22602250   5.5059357\n",
      "\n"
     ]
    }
   ],
   "cell_type": "code",
   "source": [
    "describe(chn2)"
   ],
   "metadata": {},
   "execution_count": 9
  },
  {
   "outputs": [],
   "cell_type": "markdown",
   "source": [
    "End of `m4.4s.jl`"
   ],
   "metadata": {}
  },
  {
   "outputs": [],
   "cell_type": "markdown",
   "source": [
    "*This notebook was generated using [Literate.jl](https://github.com/fredrikekre/Literate.jl).*"
   ],
   "metadata": {}
  }
 ],
 "nbformat_minor": 3,
 "metadata": {
  "language_info": {
   "file_extension": ".jl",
   "mimetype": "application/julia",
   "name": "julia",
   "version": "1.2.0-DEV.224"
  },
  "kernelspec": {
   "name": "julia-1.2",
   "display_name": "Julia 1.2.0-DEV.224",
   "language": "julia"
  }
 },
 "nbformat": 4
}
