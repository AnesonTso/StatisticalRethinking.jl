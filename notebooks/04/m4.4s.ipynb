{
 "cells": [
  {
   "outputs": [],
   "cell_type": "markdown",
   "source": [
    "Load Julia packages (libraries) needed  for the snippets in chapter 0"
   ],
   "metadata": {}
  },
  {
   "outputs": [],
   "cell_type": "code",
   "source": [
    "using StatisticalRethinking\n",
    "using CmdStan, StanMCMCChain\n",
    "gr(size=(500,500));"
   ],
   "metadata": {},
   "execution_count": 1
  },
  {
   "outputs": [],
   "cell_type": "markdown",
   "source": [
    "CmdStan uses a tmp directory to store the output of cmdstan"
   ],
   "metadata": {}
  },
  {
   "outputs": [],
   "cell_type": "code",
   "source": [
    "ProjDir = rel_path(\"..\", \"scripts\", \"04\")\n",
    "cd(ProjDir)"
   ],
   "metadata": {},
   "execution_count": 2
  },
  {
   "outputs": [],
   "cell_type": "markdown",
   "source": [
    "### snippet 4.7"
   ],
   "metadata": {}
  },
  {
   "outputs": [],
   "cell_type": "code",
   "source": [
    "howell1 = CSV.read(rel_path(\"..\", \"data\", \"Howell1.csv\"), delim=';')\n",
    "df = convert(DataFrame, howell1);"
   ],
   "metadata": {},
   "execution_count": 3
  },
  {
   "outputs": [],
   "cell_type": "markdown",
   "source": [
    "Use only adults"
   ],
   "metadata": {}
  },
  {
   "outputs": [],
   "cell_type": "code",
   "source": [
    "df2 = filter(row -> row[:age] >= 18, df)\n",
    "mean_weight = mean(df2[:weight])\n",
    "df2[:weight_c] = convert(Vector{Float64}, df2[:weight]) .- mean_weight ;"
   ],
   "metadata": {},
   "execution_count": 4
  },
  {
   "outputs": [],
   "cell_type": "markdown",
   "source": [
    "Define the Stan language model"
   ],
   "metadata": {}
  },
  {
   "outputs": [],
   "cell_type": "code",
   "source": [
    "weightsmodel = \"\n",
    "data {\n",
    " int < lower = 1 > N; // Sample size\n",
    " vector[N] height; // Predictor\n",
    " vector[N] weight; // Outcome\n",
    "}\n",
    "\n",
    "parameters {\n",
    " real alpha; // Intercept\n",
    " real beta; // Slope (regression coefficients)\n",
    " real < lower = 0 > sigma; // Error SD\n",
    "}\n",
    "\n",
    "model {\n",
    " height ~ normal(alpha + weight * beta , sigma);\n",
    "}\n",
    "\n",
    "generated quantities {\n",
    "}\n",
    "\";"
   ],
   "metadata": {},
   "execution_count": 5
  },
  {
   "outputs": [],
   "cell_type": "markdown",
   "source": [
    "Define the Stanmodel and set the output format to :mcmcchain."
   ],
   "metadata": {}
  },
  {
   "outputs": [],
   "cell_type": "code",
   "source": [
    "stanmodel = Stanmodel(name=\"weights\", monitors = [\"alpha\", \"beta\", \"sigma\"],model=weightsmodel,\n",
    "  output_format=:mcmcchain);\n",
    "# Input data for cmdstan\n",
    "heightsdata = Dict(\"N\" => length(df2[:height]), \"height\" => df2[:height], \"weight\" => df2[:weight_c]);"
   ],
   "metadata": {},
   "execution_count": 6
  },
  {
   "outputs": [],
   "cell_type": "markdown",
   "source": [
    "Sample using cmdstan"
   ],
   "metadata": {}
  },
  {
   "outputs": [
    {
     "name": "stdout",
     "output_type": "stream",
     "text": [
      "Iterations = 1:1000\n",
      "Thinning interval = 1\n",
      "Chains = 1,2,3,4\n",
      "Samples per chain = 1000\n",
      "\n",
      "Empirical Posterior Estimates:\n",
      "          Mean         SD       Naive SE       MCSE      ESS\n",
      "alpha 154.5931105 0.273419378 0.004323140 0.00446405279 1000\n",
      " beta   0.9045745 0.042280223 0.000668509 0.00065641163 1000\n",
      "sigma   5.1001020 0.196573182 0.003108095 0.00254160492 1000\n",
      "\n",
      "Quantiles:\n",
      "          2.5%        25.0%      50.0%      75.0%        97.5%   \n",
      "alpha 154.05600000 154.420000 154.586000 154.7682500 155.14205000\n",
      " beta   0.82324235   0.877102   0.904326   0.9325775   0.99047902\n",
      "sigma   4.73940825   4.962275   5.096675   5.2302025   5.50404225\n",
      "\n"
     ]
    }
   ],
   "cell_type": "code",
   "source": [
    "rc, chn, cnames = stan(stanmodel, heightsdata, ProjDir, diagnostics=false,\n",
    "  summary=false, CmdStanDir=CMDSTAN_HOME);\n",
    "# Describe the draws\n",
    "describe(chn)"
   ],
   "metadata": {},
   "execution_count": 7
  },
  {
   "outputs": [],
   "cell_type": "markdown",
   "source": [
    "Save the chains in a JLS file"
   ],
   "metadata": {}
  },
  {
   "outputs": [
    {
     "output_type": "execute_result",
     "data": {
      "text/plain": "Object of type \"Chains{Float64}\"\n\nIterations = 1:1000\nThinning interval = 1\nChains = 1,2,3,4\nSamples per chain = 1000\n\nUnion{Missing, Float64}[154.566 1.0142 5.07915; 154.88 0.923332 5.35023; … ; 154.536 0.911454 5.23292; 154.776 0.939177 5.09607]\n\nUnion{Missing, Float64}[154.682 0.900258 5.04388; 154.713 0.829459 4.99047; … ; 154.683 0.940769 4.74777; 154.933 0.930478 5.18775]\n\nUnion{Missing, Float64}[154.776 0.920041 4.80317; 154.877 0.890345 5.06913; … ; 154.451 0.833377 5.12158; 154.407 0.851211 5.06065]\n\nUnion{Missing, Float64}[154.762 0.916721 5.02543; 154.213 0.868161 5.026; … ; 154.535 0.854563 5.12529; 154.69 0.913839 5.32278]"
     },
     "metadata": {},
     "execution_count": 8
    }
   ],
   "cell_type": "code",
   "source": [
    "serialize(\"m4.4s.jls\", chn)\n",
    "\n",
    "chn2 = deserialize(\"m4.4s.jls\")"
   ],
   "metadata": {},
   "execution_count": 8
  },
  {
   "outputs": [],
   "cell_type": "markdown",
   "source": [
    "Should be identical to earlier result"
   ],
   "metadata": {}
  },
  {
   "outputs": [
    {
     "name": "stdout",
     "output_type": "stream",
     "text": [
      "Iterations = 1:1000\n",
      "Thinning interval = 1\n",
      "Chains = 1,2,3,4\n",
      "Samples per chain = 1000\n",
      "\n",
      "Empirical Posterior Estimates:\n",
      "          Mean         SD       Naive SE       MCSE      ESS\n",
      "alpha 154.5931105 0.273419378 0.004323140 0.00446405279 1000\n",
      " beta   0.9045745 0.042280223 0.000668509 0.00065641163 1000\n",
      "sigma   5.1001020 0.196573182 0.003108095 0.00254160492 1000\n",
      "\n",
      "Quantiles:\n",
      "          2.5%        25.0%      50.0%      75.0%        97.5%   \n",
      "alpha 154.05600000 154.420000 154.586000 154.7682500 155.14205000\n",
      " beta   0.82324235   0.877102   0.904326   0.9325775   0.99047902\n",
      "sigma   4.73940825   4.962275   5.096675   5.2302025   5.50404225\n",
      "\n"
     ]
    }
   ],
   "cell_type": "code",
   "source": [
    "describe(chn2)"
   ],
   "metadata": {},
   "execution_count": 9
  },
  {
   "outputs": [],
   "cell_type": "markdown",
   "source": [
    "End of `m4.4s.jl`"
   ],
   "metadata": {}
  },
  {
   "outputs": [],
   "cell_type": "markdown",
   "source": [
    "*This notebook was generated using [Literate.jl](https://github.com/fredrikekre/Literate.jl).*"
   ],
   "metadata": {}
  }
 ],
 "nbformat_minor": 3,
 "metadata": {
  "language_info": {
   "file_extension": ".jl",
   "mimetype": "application/julia",
   "name": "julia",
   "version": "1.2.0-DEV.226"
  },
  "kernelspec": {
   "name": "julia-1.2",
   "display_name": "Julia 1.2.0-DEV.226",
   "language": "julia"
  }
 },
 "nbformat": 4
}
