{
 "cells": [
  {
   "outputs": [],
   "cell_type": "markdown",
   "source": [
    "Load Julia packages (libraries) needed  for the snippets in chapter 0"
   ],
   "metadata": {}
  },
  {
   "outputs": [],
   "cell_type": "code",
   "source": [
    "using StatisticalRethinking\n",
    "using CmdStan, StanMCMCChain\n",
    "gr(size=(500,500));"
   ],
   "metadata": {},
   "execution_count": 1
  },
  {
   "outputs": [],
   "cell_type": "markdown",
   "source": [
    "CmdStan uses a tmp directory to store the output of cmdstan"
   ],
   "metadata": {}
  },
  {
   "outputs": [],
   "cell_type": "code",
   "source": [
    "ProjDir = rel_path(\"..\", \"scripts\", \"08\")\n",
    "cd(ProjDir)"
   ],
   "metadata": {},
   "execution_count": 2
  },
  {
   "outputs": [],
   "cell_type": "markdown",
   "source": [
    "Define the Stan language model"
   ],
   "metadata": {}
  },
  {
   "outputs": [],
   "cell_type": "code",
   "source": [
    "m_8_5_model = \"\n",
    "data{\n",
    "  int N;\n",
    "  vector[N] y;\n",
    "}\n",
    "parameters{\n",
    "  real sigma;\n",
    "  real alpha;\n",
    "  real a1;\n",
    "  real a2;\n",
    "}\n",
    "model{\n",
    "  real mu;\n",
    "  a1 ~ normal(0, 10);\n",
    "  a2 ~ normal(0, 10);\n",
    "  mu = a1 + a2;\n",
    "  y ~ normal( mu , sigma );\n",
    "}\n",
    "\";"
   ],
   "metadata": {},
   "execution_count": 3
  },
  {
   "outputs": [],
   "cell_type": "markdown",
   "source": [
    "Define the Stanmodel and set the output format to :mcmcchain."
   ],
   "metadata": {}
  },
  {
   "outputs": [
    {
     "name": "stdout",
     "output_type": "stream",
     "text": [
      "\n",
      "File /Users/rob/.julia/dev/StatisticalRethinking/scripts/08/tmp/m_8_5_model.stan will be updated.\n",
      "\n"
     ]
    }
   ],
   "cell_type": "code",
   "source": [
    "stanmodel = Stanmodel(name=\"m_8_5_model\", monitors = [\"a1\", \"a2\", \"mu\", \"sigma\"],\n",
    "model=m_8_5_model, output_format=:mcmcchain);"
   ],
   "metadata": {},
   "execution_count": 4
  },
  {
   "outputs": [],
   "cell_type": "markdown",
   "source": [
    "Input data for cmdstan"
   ],
   "metadata": {}
  },
  {
   "outputs": [],
   "cell_type": "code",
   "source": [
    "m_8_5_data = Dict(\"N\" => 100, \"y\" => rand(Normal(0, 1), 100));"
   ],
   "metadata": {},
   "execution_count": 5
  },
  {
   "outputs": [],
   "cell_type": "markdown",
   "source": [
    "Sample using cmdstan"
   ],
   "metadata": {}
  },
  {
   "outputs": [
    {
     "name": "stdout",
     "output_type": "stream",
     "text": [
      "\n",
      "Inference for Stan model: m_8_5_model_model\n",
      "4 chains: each with iter=(1000,1000,1000,1000); warmup=(0,0,0,0); thin=(1,1,1,1); 4000 iterations saved.\n",
      "\n",
      "Warmup took (2.3, 2.4, 2.4, 2.5) seconds, 9.5 seconds total\n",
      "Sampling took (2.8, 2.7, 2.6, 2.6) seconds, 11 seconds total\n",
      "\n",
      "                    Mean     MCSE   StdDev        5%       50%       95%    N_Eff  N_Eff/s    R_hat\n",
      "lp__            -6.1e+01  2.9e-02  1.1e+00  -6.4e+01  -6.1e+01  -6.0e+01  1.6e+03  1.4e+02  1.0e+00\n",
      "accept_stat__    9.3e-01  1.6e-03  1.0e-01   7.2e-01   9.7e-01   1.0e+00  4.2e+03  3.9e+02  1.0e+00\n",
      "stepsize__       1.3e-02  4.6e-04  6.5e-04   1.2e-02   1.3e-02   1.3e-02  2.0e+00  1.9e-01  2.6e+13\n",
      "treedepth__      8.2e+00  3.2e-02  2.0e+00   3.0e+00   8.0e+00   1.0e+01  4.0e+03  3.7e+02  1.0e+00\n",
      "n_leapfrog__     5.8e+02  6.5e+00  4.0e+02   1.5e+01   5.1e+02   1.0e+03  3.7e+03  3.4e+02  1.0e+00\n",
      "divergent__      0.0e+00      nan  0.0e+00   0.0e+00   0.0e+00   0.0e+00      nan      nan      nan\n",
      "energy__         6.3e+01  4.1e-02  1.8e+00   6.1e+01   6.3e+01   6.7e+01  1.9e+03  1.8e+02  1.0e+00\n",
      "sigma            1.1e+00  1.7e-03  7.9e-02   1.0e+00   1.1e+00   1.3e+00  2.2e+03  2.1e+02  1.0e+00\n",
      "alpha            1.1e+09  1.4e+09  3.1e+09  -4.0e+09   1.5e+09   6.2e+09  5.2e+00  4.8e-01  1.5e+00\n",
      "a1               6.6e-02  1.4e-01  7.1e+00  -1.2e+01  -3.9e-02   1.2e+01  2.4e+03  2.2e+02  1.0e+00\n",
      "a2              -1.2e-01  1.4e-01  7.1e+00  -1.2e+01  -5.9e-04   1.2e+01  2.4e+03  2.2e+02  1.0e+00\n",
      "\n",
      "Samples were drawn using hmc with nuts.\n",
      "For each parameter, N_Eff is a crude measure of effective sample size,\n",
      "and R_hat is the potential scale reduction factor on split chains (at \n",
      "convergence, R_hat=1).\n",
      "\n"
     ]
    }
   ],
   "cell_type": "code",
   "source": [
    "rc, chn, cnames = stan(stanmodel, m_8_5_data, ProjDir, diagnostics=false,\n",
    "  summary=true, CmdStanDir=CMDSTAN_HOME);\n",
    "\n",
    "rethinking = \"\n",
    "       mean   sd   5.5% 94.5% n_eff Rhat\n",
    "a1    -0.08 7.15 -11.34 11.25  1680    1\n",
    "a2    -0.05 7.15 -11.37 11.19  1682    1\n",
    "sigma  0.90 0.07   0.81  1.02  2186    1\n",
    "\";"
   ],
   "metadata": {},
   "execution_count": 6
  },
  {
   "outputs": [],
   "cell_type": "markdown",
   "source": [
    "Describe the draws"
   ],
   "metadata": {}
  },
  {
   "outputs": [
    {
     "name": "stdout",
     "output_type": "stream",
     "text": [
      "Iterations = 1:1000\n",
      "Thinning interval = 1\n",
      "Chains = 1,2,3,4\n",
      "Samples per chain = 1000\n",
      "\n",
      "Empirical Posterior Estimates:\n",
      "          Mean        SD       Naive SE      MCSE      ESS\n",
      "sigma  1.12360959 0.07875753 0.001245266 0.0013586667 1000\n",
      "   a1  0.06631407 7.05675077 0.111577027 0.1606154455 1000\n",
      "   a2 -0.11947635 7.05577289 0.111561565 0.1608798181 1000\n",
      "\n",
      "Quantiles:\n",
      "          2.5%       25.0%       50.0%     75.0%     97.5%  \n",
      "sigma   0.9897458  1.0669225  1.118110000 1.17231  1.2968993\n",
      "   a1 -13.4923800 -4.8049950 -0.041224200 4.94807 13.7810875\n",
      "   a2 -13.8542825 -5.0135850 -0.007897195 4.75544 13.5263425\n",
      "\n"
     ]
    }
   ],
   "cell_type": "code",
   "source": [
    "describe(chn)"
   ],
   "metadata": {},
   "execution_count": 7
  },
  {
   "outputs": [],
   "cell_type": "markdown",
   "source": [
    "End of `08/m8.1s.jl`"
   ],
   "metadata": {}
  },
  {
   "outputs": [],
   "cell_type": "markdown",
   "source": [
    "*This notebook was generated using [Literate.jl](https://github.com/fredrikekre/Literate.jl).*"
   ],
   "metadata": {}
  }
 ],
 "nbformat_minor": 3,
 "metadata": {
  "language_info": {
   "file_extension": ".jl",
   "mimetype": "application/julia",
   "name": "julia",
   "version": "1.2.0-DEV.270"
  },
  "kernelspec": {
   "name": "julia-1.2",
   "display_name": "Julia 1.2.0-DEV.270",
   "language": "julia"
  }
 },
 "nbformat": 4
}
