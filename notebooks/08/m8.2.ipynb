{
 "cells": [
  {
   "outputs": [],
   "cell_type": "code",
   "source": [
    "using StatisticalRethinking"
   ],
   "metadata": {},
   "execution_count": null
  },
  {
   "outputs": [],
   "cell_type": "markdown",
   "source": [
    "In Rethinking the model actually has priors that are U[-Inf, Inf], or as the Stan manual\n",
    "(2.17.0, pp. 127) tells us:\n",
    "\n",
    "\"A parameter declared without constraints is thus given a uniform prior on (−∞, ∞) ...\"\n",
    "\n",
    "But setting -Inf and Inf in Turing doesn't work. So the below works of course better since\n",
    "we've restrained it to [-1,1]"
   ],
   "metadata": {}
  },
  {
   "outputs": [],
   "cell_type": "code",
   "source": [
    "@model m8_2(y) = begin\n",
    "    σ ~ Uniform(-1, 1)\n",
    "    α ~ Uniform(-1, 1)\n",
    "\n",
    "    for i ∈ 1:length(y)\n",
    "        y[i] ~ Normal(α, σ)\n",
    "    end\n",
    "end\n",
    "\n",
    "y = [-1,1]\n",
    "\n",
    "posterior = sample(m8_2(y), Turing.NUTS(4000, 1000, 0.95))\n",
    "describe(posterior)"
   ],
   "metadata": {},
   "execution_count": null
  },
  {
   "outputs": [],
   "cell_type": "markdown",
   "source": [
    "*This notebook was generated using [Literate.jl](https://github.com/fredrikekre/Literate.jl).*"
   ],
   "metadata": {}
  }
 ],
 "nbformat_minor": 3,
 "metadata": {
  "language_info": {
   "file_extension": ".jl",
   "mimetype": "application/julia",
   "name": "julia",
   "version": "1.0.3"
  },
  "kernelspec": {
   "name": "julia-1.0",
   "display_name": "Julia 1.0.3",
   "language": "julia"
  }
 },
 "nbformat": 4
}
