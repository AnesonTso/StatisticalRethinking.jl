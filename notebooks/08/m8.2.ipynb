{
 "cells": [
  {
   "cell_type": "code",
   "execution_count": 1,
   "metadata": {},
   "outputs": [
    {
     "name": "stdout",
     "output_type": "stream",
     "text": [
      "loaded\n"
     ]
    },
    {
     "name": "stderr",
     "output_type": "stream",
     "text": [
      "┌ Info: [Turing]: global PROGRESS is set as false\n",
      "└ @ Turing /Users/rob/.julia/packages/Turing/xp88X/src/Turing.jl:81\n"
     ]
    },
    {
     "data": {
      "text/plain": [
       "false"
      ]
     },
     "execution_count": 1,
     "metadata": {},
     "output_type": "execute_result"
    }
   ],
   "source": [
    "using StatisticalRethinking, Turing\n",
    "\n",
    "Turing.setadbackend(:reverse_diff)\n",
    "Turing.turnprogress(false)"
   ]
  },
  {
   "cell_type": "markdown",
   "metadata": {},
   "source": [
    "In Rethinking the model actually has priors that are U[-Inf, Inf], or as the Stan manual"
   ]
  },
  {
   "cell_type": "markdown",
   "metadata": {},
   "source": [
    "(2.17.0, pp. 127) tells us:"
   ]
  },
  {
   "cell_type": "markdown",
   "metadata": {},
   "source": [
    "\"A parameter declared without constraints is thus given a uniform prior\n",
    "on (−∞, ∞) ...\""
   ]
  },
  {
   "cell_type": "markdown",
   "metadata": {},
   "source": [
    "Setting -Inf and Inf in Turing doesn't work. So the below works of\n",
    "course better since we've restrained it to [-1,1]"
   ]
  },
  {
   "cell_type": "code",
   "execution_count": 2,
   "metadata": {},
   "outputs": [
    {
     "data": {
      "text/plain": [
       "2-element Array{Int64,1}:\n",
       " -1\n",
       "  1"
      ]
     },
     "execution_count": 2,
     "metadata": {},
     "output_type": "execute_result"
    }
   ],
   "source": [
    "@model m8_2(y) = begin\n",
    "    σ ~ Uniform(-1, 1)\n",
    "    α ~ Uniform(-1, 1)\n",
    "\n",
    "    for i ∈ 1:length(y)\n",
    "        y[i] ~ Normal(α, σ)\n",
    "    end\n",
    "end\n",
    "\n",
    "y = [-1,1]"
   ]
  },
  {
   "cell_type": "markdown",
   "metadata": {},
   "source": [
    "Sample"
   ]
  },
  {
   "cell_type": "code",
   "execution_count": 3,
   "metadata": {},
   "outputs": [
    {
     "name": "stderr",
     "output_type": "stream",
     "text": [
      "┌ Info: [Turing] looking for good initial eps...\n",
      "└ @ Turing /Users/rob/.julia/packages/Turing/xp88X/src/samplers/support/hmc_core.jl:246\n",
      "┌ Info: \r",
      "[NUTS{Turing.FluxTrackerAD,Union{}}] found initial ϵ: 0.8\n",
      "└ @ Turing /Users/rob/.julia/packages/Turing/xp88X/src/samplers/support/hmc_core.jl:291\n"
     ]
    },
    {
     "ename": "ArgumentError",
     "evalue": "ArgumentError: Normal: the condition σ > zero(σ) is not satisfied.",
     "output_type": "error",
     "traceback": [
      "ArgumentError: Normal: the condition σ > zero(σ) is not satisfied.",
      "",
      "Stacktrace:",
      " [1] macro expansion at /Users/rob/.julia/packages/Distributions/WHjOk/src/utils.jl:6 [inlined]",
      " [2] Type at /Users/rob/.julia/packages/Distributions/WHjOk/src/univariate/continuous/normal.jl:30 [inlined]",
      " [3] Normal(::Flux.Tracker.TrackedReal{Float64}, ::Flux.Tracker.TrackedReal{Float64}) at /Users/rob/.julia/packages/Distributions/WHjOk/src/univariate/continuous/normal.jl:34",
      " [4] (::getfield(Main, Symbol(\"###inner_function#369#8\")))(::Turing.VarReplay.VarInfo, ::Turing.Sampler{NUTS{Turing.FluxTrackerAD,Union{}}}, ::Turing.Model{Tuple{:σ,:α},Tuple{:y},getfield(Main, Symbol(\"###inner_function#369#8\")),NamedTuple{(:y,),Tuple{Array{Int64,1}}}}) at /Users/rob/.julia/packages/Turing/xp88X/src/core/compiler.jl:74",
      " [5] #call#51 at /Users/rob/.julia/packages/Turing/xp88X/src/core/compiler.jl:32 [inlined]",
      " [6] Model at /Users/rob/.julia/packages/Turing/xp88X/src/core/compiler.jl:32 [inlined]",
      " [7] runmodel!(::Turing.Model{Tuple{:σ,:α},Tuple{:y},getfield(Main, Symbol(\"###inner_function#369#8\")),NamedTuple{(:y,),Tuple{Array{Int64,1}}}}, ::Turing.VarReplay.VarInfo, ::Turing.Sampler{NUTS{Turing.FluxTrackerAD,Union{}}}) at /Users/rob/.julia/packages/Turing/xp88X/src/samplers/support/hmc_core.jl:130",
      " [8] (::getfield(Turing, Symbol(\"#f#129\")){Turing.VarReplay.VarInfo,Turing.Model{Tuple{:σ,:α},Tuple{:y},getfield(Main, Symbol(\"###inner_function#369#8\")),NamedTuple{(:y,),Tuple{Array{Int64,1}}}},Turing.Sampler{NUTS{Turing.FluxTrackerAD,Union{}}}})(::TrackedArray{…,Array{Float64,1}}) at /Users/rob/.julia/packages/Turing/xp88X/src/core/ad.jl:132",
      " [9] #8 at /Users/rob/.julia/packages/Flux/jsf3Y/src/tracker/back.jl:139 [inlined]",
      " [10] forward at /Users/rob/.julia/packages/Flux/jsf3Y/src/tracker/back.jl:126 [inlined]",
      " [11] forward(::Function, ::Array{Real,1}) at /Users/rob/.julia/packages/Flux/jsf3Y/src/tracker/back.jl:139",
      " [12] gradient_reverse(::Array{Real,1}, ::Turing.VarReplay.VarInfo, ::Turing.Model{Tuple{:σ,:α},Tuple{:y},getfield(Main, Symbol(\"###inner_function#369#8\")),NamedTuple{(:y,),Tuple{Array{Int64,1}}}}, ::Turing.Sampler{NUTS{Turing.FluxTrackerAD,Union{}}}) at /Users/rob/.julia/packages/Turing/xp88X/src/core/ad.jl:136",
      " [13] macro expansion at /Users/rob/.julia/packages/Turing/xp88X/src/core/ad.jl:0 [inlined]",
      " [14] gradient at /Users/rob/.julia/packages/Turing/xp88X/src/core/ad.jl:46 [inlined]",
      " [15] #71 at /Users/rob/.julia/packages/Turing/xp88X/src/samplers/support/hmc_core.jl:10 [inlined]",
      " [16] #_leapfrog#95(::Nothing, ::Nothing, ::Function, ::Array{Real,1}, ::Array{Float64,1}, ::Int64, ::Float64, ::getfield(Turing, Symbol(\"##71#72\")){Turing.VarReplay.VarInfo,Turing.Sampler{NUTS{Turing.FluxTrackerAD,Union{}}},Turing.Model{Tuple{:σ,:α},Tuple{:y},getfield(Main, Symbol(\"###inner_function#369#8\")),NamedTuple{(:y,),Tuple{Array{Int64,1}}}}}) at /Users/rob/.julia/packages/Turing/xp88X/src/samplers/support/hmc_core.jl:167",
      " [17] _leapfrog at /Users/rob/.julia/packages/Turing/xp88X/src/samplers/support/hmc_core.jl:156 [inlined]",
      " [18] #_build_tree#101(::Float64, ::Function, ::Array{Real,1}, ::Array{Float64,1}, ::Float64, ::Int64, ::Int64, ::Float64, ::Float64, ::getfield(Turing, Symbol(\"##73#74\")){Turing.VarReplay.VarInfo,Turing.Sampler{NUTS{Turing.FluxTrackerAD,Union{}}},Turing.Model{Tuple{:σ,:α},Tuple{:y},getfield(Main, Symbol(\"###inner_function#369#8\")),NamedTuple{(:y,),Tuple{Array{Int64,1}}}}}, ::getfield(Turing, Symbol(\"##71#72\")){Turing.VarReplay.VarInfo,Turing.Sampler{NUTS{Turing.FluxTrackerAD,Union{}}},Turing.Model{Tuple{:σ,:α},Tuple{:y},getfield(Main, Symbol(\"###inner_function#369#8\")),NamedTuple{(:y,),Tuple{Array{Int64,1}}}}}, ::getfield(Turing, Symbol(\"##89#90\")){Array{Float64,1}}) at /Users/rob/.julia/packages/Turing/xp88X/src/samplers/nuts.jl:96",
      " [19] _build_tree(::Array{Real,1}, ::Array{Float64,1}, ::Float64, ::Int64, ::Int64, ::Float64, ::Float64, ::Function, ::getfield(Turing, Symbol(\"##71#72\")){Turing.VarReplay.VarInfo,Turing.Sampler{NUTS{Turing.FluxTrackerAD,Union{}}},Turing.Model{Tuple{:σ,:α},Tuple{:y},getfield(Main, Symbol(\"###inner_function#369#8\")),NamedTuple{(:y,),Tuple{Array{Int64,1}}}}}, ::getfield(Turing, Symbol(\"##89#90\")){Array{Float64,1}}) at /Users/rob/.julia/packages/Turing/xp88X/src/samplers/nuts.jl:94",
      " [20] #_nuts_step#102(::Int64, ::Function, ::Array{Real,1}, ::Float64, ::Float64, ::Function, ::Function, ::getfield(Turing, Symbol(\"##89#90\")){Array{Float64,1}}, ::getfield(Turing, Symbol(\"##87#88\")){Int64,Array{Float64,1}}) at /Users/rob/.julia/packages/Turing/xp88X/src/samplers/nuts.jl:164",
      " [21] _nuts_step(::Array{Real,1}, ::Float64, ::Float64, ::Function, ::Function, ::Function, ::Function) at /Users/rob/.julia/packages/Turing/xp88X/src/samplers/nuts.jl:150",
      " [22] #hmc_step#100(::Function, ::Function, ::Function, ::Array{Real,1}, ::Float64, ::getfield(Turing, Symbol(\"##73#74\")){Turing.VarReplay.VarInfo,Turing.Sampler{NUTS{Turing.FluxTrackerAD,Union{}}},Turing.Model{Tuple{:σ,:α},Tuple{:y},getfield(Main, Symbol(\"###inner_function#369#8\")),NamedTuple{(:y,),Tuple{Array{Int64,1}}}}}, ::Function, ::Function, ::Float64, ::NUTS{Turing.FluxTrackerAD,Union{}}, ::getfield(Turing, Symbol(\"##87#88\")){Int64,Array{Float64,1}}) at /Users/rob/.julia/packages/Turing/xp88X/src/samplers/nuts.jl:62",
      " [23] (::getfield(Turing, Symbol(\"#kw##hmc_step\")))(::NamedTuple{(:rev_func, :log_func),Tuple{getfield(Turing, Symbol(\"##75#76\")){Turing.VarReplay.VarInfo,Turing.Sampler{NUTS{Turing.FluxTrackerAD,Union{}}}},getfield(Turing, Symbol(\"##77#78\")){Turing.Sampler{NUTS{Turing.FluxTrackerAD,Union{}}}}}}, ::typeof(Turing.hmc_step), ::Array{Real,1}, ::Float64, ::Function, ::Function, ::Function, ::Float64, ::NUTS{Turing.FluxTrackerAD,Union{}}, ::getfield(Turing, Symbol(\"##87#88\")){Int64,Array{Float64,1}}) at ./none:0",
      " [24] step(::Turing.Model{Tuple{:σ,:α},Tuple{:y},getfield(Main, Symbol(\"###inner_function#369#8\")),NamedTuple{(:y,),Tuple{Array{Int64,1}}}}, ::Turing.Sampler{NUTS{Turing.FluxTrackerAD,Union{}}}, ::Turing.VarReplay.VarInfo, ::Val{false}) at /Users/rob/.julia/packages/Turing/xp88X/src/samplers/hmc.jl:247",
      " [25] macro expansion at ./util.jl:213 [inlined]",
      " [26] #sample#105(::Int64, ::Bool, ::Nothing, ::Int64, ::Nothing, ::Function, ::Turing.Model{Tuple{:σ,:α},Tuple{:y},getfield(Main, Symbol(\"###inner_function#369#8\")),NamedTuple{(:y,),Tuple{Array{Int64,1}}}}, ::NUTS{Turing.FluxTrackerAD,Union{}}) at /Users/rob/.julia/packages/Turing/xp88X/src/samplers/hmc.jl:160",
      " [27] sample(::Turing.Model{Tuple{:σ,:α},Tuple{:y},getfield(Main, Symbol(\"###inner_function#369#8\")),NamedTuple{(:y,),Tuple{Array{Int64,1}}}}, ::NUTS{Turing.FluxTrackerAD,Union{}}) at /Users/rob/.julia/packages/Turing/xp88X/src/samplers/hmc.jl:110",
      " [28] top-level scope at In[3]:1"
     ]
    }
   ],
   "source": [
    "posterior = sample(m8_2(y), Turing.NUTS(4000, 1000, 0.95));"
   ]
  },
  {
   "cell_type": "markdown",
   "metadata": {},
   "source": [
    "Draw summary"
   ]
  },
  {
   "cell_type": "code",
   "execution_count": 4,
   "metadata": {},
   "outputs": [
    {
     "ename": "UndefVarError",
     "evalue": "UndefVarError: posterior not defined",
     "output_type": "error",
     "traceback": [
      "UndefVarError: posterior not defined",
      "",
      "Stacktrace:",
      " [1] top-level scope at In[4]:1"
     ]
    }
   ],
   "source": [
    "describe(posterior)"
   ]
  },
  {
   "cell_type": "markdown",
   "metadata": {},
   "source": [
    "*This notebook was generated using [Literate.jl](https://github.com/fredrikekre/Literate.jl).*"
   ]
  }
 ],
 "metadata": {
  "kernelspec": {
   "display_name": "Julia 1.2.0-DEV",
   "language": "julia",
   "name": "julia-1.2"
  },
  "language_info": {
   "file_extension": ".jl",
   "mimetype": "application/julia",
   "name": "julia",
   "version": "1.2.0"
  }
 },
 "nbformat": 4,
 "nbformat_minor": 3
}
