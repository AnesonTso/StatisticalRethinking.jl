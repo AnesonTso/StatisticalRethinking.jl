{
 "cells": [
  {
   "cell_type": "markdown",
   "metadata": {},
   "source": [
    "### m8.1stan"
   ]
  },
  {
   "cell_type": "markdown",
   "metadata": {},
   "source": [
    "m8.1stan is the first model in the Statistical Rethinking book (pp. 249) using Stan."
   ]
  },
  {
   "cell_type": "markdown",
   "metadata": {},
   "source": [
    "Here we will use Turing's NUTS support, which is currently (2018) the originalNUTS by [Hoffman & Gelman]( http://www.stat.columbia.edu/~gelman/research/published/nuts.pdf) and not the one that's in Stan 2.18.2, i.e., Appendix A.5 in: https://arxiv.org/abs/1701.02434"
   ]
  },
  {
   "cell_type": "markdown",
   "metadata": {},
   "source": [
    "The StatisticalRethinking pkg imports modules such as CSV and DataFrames"
   ]
  },
  {
   "cell_type": "code",
   "execution_count": 1,
   "metadata": {},
   "outputs": [
    {
     "name": "stdout",
     "output_type": "stream",
     "text": [
      "loaded\n"
     ]
    },
    {
     "name": "stderr",
     "output_type": "stream",
     "text": [
      "┌ Info: [Turing]: global PROGRESS is set as false\n",
      "└ @ Turing /Users/rob/.julia/packages/Turing/xp88X/src/Turing.jl:81\n"
     ]
    }
   ],
   "source": [
    "using StatisticalRethinking, Turing\n",
    "\n",
    "Turing.setadbackend(:reverse_diff);\n",
    "Turing.turnprogress(false);"
   ]
  },
  {
   "cell_type": "markdown",
   "metadata": {},
   "source": [
    "Read in the `rugged` data as a DataFrame"
   ]
  },
  {
   "cell_type": "code",
   "execution_count": 2,
   "metadata": {},
   "outputs": [],
   "source": [
    "d = CSV.read(rel_path(\"..\", \"data\", \"rugged.csv\"), delim=';');"
   ]
  },
  {
   "cell_type": "markdown",
   "metadata": {},
   "source": [
    "Show size of the DataFrame (should be 234x51)"
   ]
  },
  {
   "cell_type": "code",
   "execution_count": 3,
   "metadata": {},
   "outputs": [
    {
     "data": {
      "text/plain": [
       "(234, 51)"
      ]
     },
     "execution_count": 3,
     "metadata": {},
     "output_type": "execute_result"
    }
   ],
   "source": [
    "size(d)"
   ]
  },
  {
   "cell_type": "markdown",
   "metadata": {},
   "source": [
    "Apply log() to each element in rgdppc_2000 column and add it as a new column"
   ]
  },
  {
   "cell_type": "code",
   "execution_count": 4,
   "metadata": {},
   "outputs": [],
   "source": [
    "d = hcat(d, map(log, d[Symbol(\"rgdppc_2000\")]));"
   ]
  },
  {
   "cell_type": "markdown",
   "metadata": {},
   "source": [
    "Rename our col x1 => log_gdp"
   ]
  },
  {
   "cell_type": "code",
   "execution_count": 5,
   "metadata": {},
   "outputs": [],
   "source": [
    "rename!(d, :x1 => :log_gdp);"
   ]
  },
  {
   "cell_type": "markdown",
   "metadata": {},
   "source": [
    "Now we need to drop every row where rgdppc_2000 == missing"
   ]
  },
  {
   "cell_type": "markdown",
   "metadata": {},
   "source": [
    "When this (https://github.com/JuliaData/DataFrames.jl/pull/1546) hits DataFrame it'll be conceptually easier: i.e., completecases!(d, :rgdppc_2000)"
   ]
  },
  {
   "cell_type": "code",
   "execution_count": 6,
   "metadata": {},
   "outputs": [],
   "source": [
    "notisnan(e) = !ismissing(e)\n",
    "dd = d[map(notisnan, d[:rgdppc_2000]), :];"
   ]
  },
  {
   "cell_type": "markdown",
   "metadata": {},
   "source": [
    "Updated DataFrame dd size (should equal 170 x 52)"
   ]
  },
  {
   "cell_type": "code",
   "execution_count": 7,
   "metadata": {},
   "outputs": [
    {
     "data": {
      "text/plain": [
       "(170, 52)"
      ]
     },
     "execution_count": 7,
     "metadata": {},
     "output_type": "execute_result"
    }
   ],
   "source": [
    "size(dd)"
   ]
  },
  {
   "cell_type": "markdown",
   "metadata": {},
   "source": [
    "Define the Turing model"
   ]
  },
  {
   "cell_type": "code",
   "execution_count": 8,
   "metadata": {},
   "outputs": [],
   "source": [
    "@model m8_1stan(y, x₁, x₂) = begin\n",
    "    σ ~ Truncated(Cauchy(0, 2), 0, Inf)\n",
    "    βR ~ Normal(0, 10)\n",
    "    βA ~ Normal(0, 10)\n",
    "    βAR ~ Normal(0, 10)\n",
    "    α ~ Normal(0, 100)\n",
    "\n",
    "    for i ∈ 1:length(y)\n",
    "        y[i] ~ Normal(α + βR * x₁[i] + βA * x₂[i] + βAR * x₁[i] * x₂[i], σ)\n",
    "    end\n",
    "end;"
   ]
  },
  {
   "cell_type": "markdown",
   "metadata": {},
   "source": [
    "Test to see that the model is sane. Use 2000 for now, as in the book.\n",
    "Need to set the same stepsize and adapt_delta as in Stan..."
   ]
  },
  {
   "cell_type": "markdown",
   "metadata": {},
   "source": [
    "Use Turing mcmc"
   ]
  },
  {
   "cell_type": "code",
   "execution_count": 9,
   "metadata": {},
   "outputs": [
    {
     "name": "stderr",
     "output_type": "stream",
     "text": [
      "┌ Info: [Turing] looking for good initial eps...\n",
      "└ @ Turing /Users/rob/.julia/packages/Turing/xp88X/src/samplers/support/hmc_core.jl:246\n",
      "[NUTS{Turing.FluxTrackerAD,Union{}}] found initial ϵ: 0.05\n",
      "└ @ Turing /Users/rob/.julia/packages/Turing/xp88X/src/samplers/support/hmc_core.jl:291\n",
      "┌ Info:  Adapted ϵ = 0.02494112896959952, std = [1.0, 1.0, 1.0, 1.0, 1.0]; 200 iterations is used for adaption.\n",
      "└ @ Turing /Users/rob/.julia/packages/Turing/xp88X/src/samplers/adapt/adapt.jl:91\n"
     ]
    },
    {
     "name": "stdout",
     "output_type": "stream",
     "text": [
      "[NUTS] Finished with\n",
      "  Running time        = 284.69474977300035;\n",
      "  #lf / sample        = 0.0015;\n",
      "  #evals / sample     = 47.82;\n",
      "  pre-cond. metric    = [1.0, 1.0, 1.0, 1.0, 1.0].\n",
      "Iterations = 1:2000\n",
      "Thinning interval = 1\n",
      "Chains = 1\n",
      "Samples per chain = 2000\n",
      "\n",
      "Empirical Posterior Estimates:\n",
      "              Mean          SD         Naive SE       MCSE         ESS   \n",
      "       α    9.20431457  0.409119788 0.00914819658 0.0277999222  216.57774\n",
      "  lf_num    0.00150000  0.067082039 0.00150000000 0.0015000000 2000.00000\n",
      "      βA   -1.92760777  0.347059686 0.00776049050 0.0286062609  147.19266\n",
      "      βR   -0.20010279  0.111203536 0.00248658666 0.0076298260  212.42612\n",
      "       σ    0.96306823  0.240119729 0.00536924037 0.0150168225  255.68167\n",
      " elapsed    0.14234737  0.166759748 0.00372886132 0.0080236235  431.95785\n",
      " epsilon    0.02569079  0.013752776 0.00030752142 0.0005170151  707.57793\n",
      "eval_num   47.82000000 26.804754194 0.59937252499 0.6517587542 1691.41396\n",
      "     βAR    0.39846959  0.186980959 0.00418102135 0.0062014197  909.10178\n",
      "      lp -249.61661241 16.615338561 0.37153026491 1.1359823316  213.93175\n",
      "  lf_eps    0.02569079  0.013752776 0.00030752142 0.0005170151  707.57793\n",
      "\n",
      "Quantiles:\n",
      "              2.5%           25.0%         50.0%         75.0%         97.5%    \n",
      "       α    8.942664429    9.132459560    9.23019097    9.32077476    9.49302098\n",
      "  lf_num    0.000000000    0.000000000    0.00000000    0.00000000    0.00000000\n",
      "      βA   -2.370022641   -2.094903734   -1.95759873   -1.79584367   -1.47003212\n",
      "      βR   -0.355302986   -0.255220809   -0.20584364   -0.15294067   -0.04647507\n",
      "       σ    0.850984812    0.911530362    0.94640859    0.98396223    1.06767308\n",
      " elapsed    0.028388287    0.060682055    0.11541753    0.17330208    0.36332965\n",
      " epsilon    0.022344993    0.024941129    0.02494113    0.02494113    0.03243229\n",
      "eval_num   10.000000000   22.000000000   46.00000000   46.00000000   94.00000000\n",
      "     βAR    0.134905453    0.310059030    0.39529263    0.48317478    0.66063326\n",
      "      lp -253.227027174 -249.344374789 -248.14662559 -247.30631894 -246.41399276\n",
      "  lf_eps    0.022344993    0.024941129    0.02494113    0.02494113    0.03243229\n",
      "\n"
     ]
    }
   ],
   "source": [
    "posterior = sample(m8_1stan(dd[:log_gdp], dd[:rugged], dd[:cont_africa]),\n",
    "    Turing.NUTS(2000, 200, 0.95));\n",
    "# Describe the posterior samples\n",
    "describe(posterior)"
   ]
  },
  {
   "cell_type": "markdown",
   "metadata": {},
   "source": [
    "Example of a Turing run simulation output"
   ]
  },
  {
   "cell_type": "markdown",
   "metadata": {},
   "source": [
    "Here's the ulam() output from rethinking (note that in above output the SD value is too large)."
   ]
  },
  {
   "cell_type": "code",
   "execution_count": 10,
   "metadata": {},
   "outputs": [],
   "source": [
    "m81rethinking = \"\n",
    "       Mean StdDev lower 0.89 upper 0.89 n_eff Rhat\n",
    " a      9.24   0.14       9.03       9.47   291    1\n",
    " bR    -0.21   0.08      -0.32      -0.07   306    1\n",
    " bA    -1.97   0.23      -2.31      -1.58   351    1\n",
    " bAR    0.40   0.13       0.20       0.63   350    1\n",
    " sigma  0.95   0.05       0.86       1.03   566    1\n",
    "\";#-"
   ]
  },
  {
   "cell_type": "markdown",
   "metadata": {},
   "source": [
    "*This notebook was generated using [Literate.jl](https://github.com/fredrikekre/Literate.jl).*"
   ]
  }
 ],
 "metadata": {
  "kernelspec": {
   "display_name": "Julia 1.2.0-DEV",
   "language": "julia",
   "name": "julia-1.2"
  },
  "language_info": {
   "file_extension": ".jl",
   "mimetype": "application/julia",
   "name": "julia",
   "version": "1.2.0"
  }
 },
 "nbformat": 4,
 "nbformat_minor": 3
}
