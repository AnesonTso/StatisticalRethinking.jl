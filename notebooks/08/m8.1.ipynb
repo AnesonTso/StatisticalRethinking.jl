{
 "cells": [
  {
   "outputs": [],
   "cell_type": "markdown",
   "source": [
    "m8.1stan\n",
    "\n",
    "m8.1stan is the first model in the Statistical Rethinking book (pp. 249) using Stan.\n",
    "Here we will use Turing's NUTS support, which is currently (2018) the original NUTS by\n",
    "Hoffman & Gelman, http://www.stat.columbia.edu/~gelman/research/published/nuts.pdf\n",
    "and not the one that's in Stan 2.18.2, i.e., Appendix A.5 in:\n",
    "https://arxiv.org/abs/1701.02434"
   ],
   "metadata": {}
  },
  {
   "outputs": [],
   "cell_type": "markdown",
   "source": [
    "The StatisticalRethinking pkg uses, e.g., Turing, CSV, DataFrames"
   ],
   "metadata": {}
  },
  {
   "outputs": [],
   "cell_type": "code",
   "source": [
    "using StatisticalRethinking\n",
    "\n",
    "d = CSV.read(joinpath(dirname(Base.pathof(StatisticalRethinking)), \"..\", \"data\",\n",
    "    \"rugged.csv\"), delim=';')\n",
    "size(d) # Should be 234x51"
   ],
   "metadata": {},
   "execution_count": null
  },
  {
   "outputs": [],
   "cell_type": "markdown",
   "source": [
    "Apply log() to each element in rgdppc_2000 column and add it as a new column"
   ],
   "metadata": {}
  },
  {
   "outputs": [],
   "cell_type": "code",
   "source": [
    "d = hcat(d, map(log, d[Symbol(\"rgdppc_2000\")]))\n",
    "rename!(d, :x1 => :log_gdp) # Rename our col x1 => log_gdp"
   ],
   "metadata": {},
   "execution_count": null
  },
  {
   "outputs": [],
   "cell_type": "markdown",
   "source": [
    "Now we need to drop every row where rgdppc_2000 == missing\n",
    "When this (https://github.com/JuliaData/DataFrames.jl/pull/1546) hits DataFrame it'll be\n",
    "conceptually easier:\n",
    "i.e., completecases!(d, :rgdppc_2000)"
   ],
   "metadata": {}
  },
  {
   "outputs": [],
   "cell_type": "code",
   "source": [
    "notisnan(e) = !ismissing(e)\n",
    "dd = d[map(notisnan, d[:rgdppc_2000]), :]\n",
    "size(dd) # should equal 170 x 52\n",
    "\n",
    "@model m8_1stan(y, x₁, x₂) = begin\n",
    "    σ ~ Truncated(Cauchy(0, 2), 0, Inf)\n",
    "    βR ~ Normal(0, 10)\n",
    "    βA ~ Normal(0, 10)\n",
    "    βAR ~ Normal(0, 10)\n",
    "    α ~ Normal(0, 100)\n",
    "\n",
    "    for i ∈ 1:length(y)\n",
    "        y[i] ~ Normal(α + βR * x₁[i] + βA * x₂[i] + βAR * x₁[i] * x₂[i], σ)\n",
    "    end\n",
    "end"
   ],
   "metadata": {},
   "execution_count": null
  },
  {
   "outputs": [],
   "cell_type": "markdown",
   "source": [
    "Test to see that the model is sane. Use 2000 for now, as in the book.\n",
    "Need to set the same stepsize and adapt_delta as in Stan..."
   ],
   "metadata": {}
  },
  {
   "outputs": [],
   "cell_type": "code",
   "source": [
    "posterior = sample(m8_1stan(dd[:,:log_gdp], dd[:,:rugged], dd[:,:cont_africa]),\n",
    "    Turing.NUTS(2000, 1000, 0.95))\n",
    "describe(posterior)"
   ],
   "metadata": {},
   "execution_count": null
  },
  {
   "outputs": [],
   "cell_type": "markdown",
   "source": [
    "Output reg. params of interest:\n",
    "       Mean           SD        Naive SE        MCSE         ESS\n",
    "α    9.2140454953  0.416410339 0.00931121825 0.0303436655  188.324543\n",
    "βA  -1.9414588557  0.373885658 0.00836033746 0.0583949856   40.994586\n",
    "βR  -0.1987645549  0.158902372 0.00355316505 0.0128657961  152.541295\n",
    "σ    0.9722532977  0.440031013 0.00983939257 0.0203736871  466.473854\n",
    "βAR  0.3951414223  0.187780491 0.00419889943 0.0276680621   46.062071\n",
    "\n",
    "Here's the map2stan output:\n",
    "       Mean StdDev lower 0.89 upper 0.89 n_eff Rhat\n",
    "a      9.24   0.14       9.03       9.47   291    1\n",
    "bR    -0.21   0.08      -0.32      -0.07   306    1\n",
    "bA    -1.97   0.23      -2.31      -1.58   351    1\n",
    "bAR    0.40   0.13       0.20       0.63   350    1\n",
    "sigma  0.95   0.05       0.86       1.03   566    1"
   ],
   "metadata": {}
  },
  {
   "outputs": [],
   "cell_type": "markdown",
   "source": [
    "*This notebook was generated using [Literate.jl](https://github.com/fredrikekre/Literate.jl).*"
   ],
   "metadata": {}
  }
 ],
 "nbformat_minor": 3,
 "metadata": {
  "language_info": {
   "file_extension": ".jl",
   "mimetype": "application/julia",
   "name": "julia",
   "version": "1.1.0-DEV.888"
  },
  "kernelspec": {
   "name": "julia-1.1",
   "display_name": "Julia 1.1.0-DEV.888",
   "language": "julia"
  }
 },
 "nbformat": 4
}
