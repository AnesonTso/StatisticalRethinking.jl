{
 "cells": [
  {
   "cell_type": "code",
   "execution_count": 1,
   "metadata": {},
   "outputs": [
    {
     "name": "stderr",
     "output_type": "stream",
     "text": [
      "┌ Info: Recompiling stale cache file /Users/rob/.julia/compiled/v1.2/StatisticalRethinking/zZGTK.ji for StatisticalRethinking [2d09df54-9d0f-5258-8220-54c2a3d4fbee]\n",
      "└ @ Base loading.jl:1184\n"
     ]
    },
    {
     "name": "stdout",
     "output_type": "stream",
     "text": [
      "loaded\n"
     ]
    },
    {
     "name": "stderr",
     "output_type": "stream",
     "text": [
      "┌ Info: [Turing]: global PROGRESS is set as false\n",
      "└ @ Turing /Users/rob/.julia/packages/Turing/xp88X/src/Turing.jl:81\n"
     ]
    },
    {
     "data": {
      "text/plain": [
       "false"
      ]
     },
     "execution_count": 1,
     "metadata": {},
     "output_type": "execute_result"
    }
   ],
   "source": [
    "using StatisticalRethinking, Turing\n",
    "\n",
    "Turing.setadbackend(:reverse_diff)\n",
    "Turing.turnprogress(false)"
   ]
  },
  {
   "cell_type": "markdown",
   "metadata": {},
   "source": [
    "Turing model"
   ]
  },
  {
   "cell_type": "code",
   "execution_count": 2,
   "metadata": {},
   "outputs": [
    {
     "data": {
      "text/plain": [
       "2-element Array{Int64,1}:\n",
       " -1\n",
       "  1"
      ]
     },
     "execution_count": 2,
     "metadata": {},
     "output_type": "execute_result"
    }
   ],
   "source": [
    "@model m8_3(y) = begin\n",
    "    α ~ Normal(1, 10)\n",
    "    σ ~ Truncated(Cauchy(0, 1), 0, Inf)\n",
    "\n",
    "    for i ∈ 1:length(y)\n",
    "        y[i] ~ Normal(α, σ)\n",
    "    end\n",
    "end\n",
    "\n",
    "y = [-1,1]"
   ]
  },
  {
   "cell_type": "markdown",
   "metadata": {},
   "source": [
    "Sample"
   ]
  },
  {
   "cell_type": "code",
   "execution_count": 3,
   "metadata": {},
   "outputs": [
    {
     "name": "stderr",
     "output_type": "stream",
     "text": [
      "┌ Info: [Turing] looking for good initial eps...\n",
      "└ @ Turing /Users/rob/.julia/packages/Turing/xp88X/src/samplers/support/hmc_core.jl:246\n",
      "[NUTS{Turing.FluxTrackerAD,Union{}}] found initial ϵ: 0.1\n",
      "└ @ Turing /Users/rob/.julia/packages/Turing/xp88X/src/samplers/support/hmc_core.jl:291\n",
      "┌ Info:  Adapted ϵ = 0.23309036013171572, std = [1.0, 1.0]; 1000 iterations is used for adaption.\n",
      "└ @ Turing /Users/rob/.julia/packages/Turing/xp88X/src/samplers/adapt/adapt.jl:91\n"
     ]
    },
    {
     "name": "stdout",
     "output_type": "stream",
     "text": [
      "[NUTS] Finished with\n",
      "  Running time        = 11.59304771500004;\n",
      "  #lf / sample        = 0.0005;\n",
      "  #evals / sample     = 28.57525;\n",
      "  pre-cond. metric    = [1.0, 1.0].\n"
     ]
    }
   ],
   "source": [
    "posterior = sample(m8_3(y), Turing.NUTS(4000, 1000, 0.95));"
   ]
  },
  {
   "cell_type": "markdown",
   "metadata": {},
   "source": [
    "Draw summary"
   ]
  },
  {
   "cell_type": "code",
   "execution_count": 4,
   "metadata": {},
   "outputs": [
    {
     "name": "stdout",
     "output_type": "stream",
     "text": [
      "Iterations = 1:4000\n",
      "Thinning interval = 1\n",
      "Chains = 1\n",
      "Samples per chain = 4000\n",
      "\n",
      "Empirical Posterior Estimates:\n",
      "              Mean          SD        Naive SE       MCSE         ESS   \n",
      "       α  0.1343282881  1.922595048 0.0303988968 0.1033135484  346.30685\n",
      "       σ  2.1657545701  2.039860509 0.0322530266 0.0819828186  619.09208\n",
      "  lf_num  0.0005000000  0.031622777 0.0005000000 0.0005000000 4000.00000\n",
      " elapsed  0.0028982619  0.059849008 0.0009462959 0.0012197662 2407.46927\n",
      " epsilon  0.2442798614  0.103110703 0.0016303234 0.0033573352  943.23104\n",
      "      lp -8.6993360203  1.454901242 0.0230040085 0.0642703462  512.44322\n",
      "eval_num 28.5752500000 18.530439329 0.2929919716 0.4683081918 1565.69773\n",
      "  lf_eps  0.2442798614  0.103110703 0.0016303234 0.0033573352  943.23104\n",
      "\n",
      "Quantiles:\n",
      "               2.5%          25.0%         50.0%         75.0%         97.5%    \n",
      "       α  -3.15403575829 -0.6501026737  0.0209383092  0.7419790304  4.9187523194\n",
      "       σ   0.59706505633  1.0503474221  1.5510559816  2.4428393692  7.9340121925\n",
      "  lf_num   0.00000000000  0.0000000000  0.0000000000  0.0000000000  0.0000000000\n",
      " elapsed   0.00049106245  0.0011012628  0.0011802135  0.0023158943  0.0052448396\n",
      " epsilon   0.15498800794  0.2330903601  0.2330903601  0.2330903601  0.3836541393\n",
      "      lp -12.81538094932 -9.2888633133 -8.2264862248 -7.6603384826 -7.2498002093\n",
      "eval_num  10.00000000000 22.0000000000 22.0000000000 46.0000000000 82.0000000000\n",
      "  lf_eps   0.15498800794  0.2330903601  0.2330903601  0.2330903601  0.3836541393\n",
      "\n"
     ]
    }
   ],
   "source": [
    "describe(posterior)"
   ]
  },
  {
   "cell_type": "markdown",
   "metadata": {},
   "source": [
    "Results rethinking"
   ]
  },
  {
   "cell_type": "code",
   "execution_count": 5,
   "metadata": {},
   "outputs": [],
   "source": [
    "m83rethinking = \"\n",
    "          Mean StdDev lower 0.89 upper 0.89 n_eff Rhat\n",
    "alpha  -0.01   1.60      -1.98       2.37  1121    1\n",
    "sigma  1.98   1.91       0.47       3.45  1077    1\n",
    "\";"
   ]
  },
  {
   "cell_type": "markdown",
   "metadata": {},
   "source": [
    "*This notebook was generated using [Literate.jl](https://github.com/fredrikekre/Literate.jl).*"
   ]
  }
 ],
 "metadata": {
  "kernelspec": {
   "display_name": "Julia 1.2.0-DEV",
   "language": "julia",
   "name": "julia-1.2"
  },
  "language_info": {
   "file_extension": ".jl",
   "mimetype": "application/julia",
   "name": "julia",
   "version": "1.2.0"
  }
 },
 "nbformat": 4,
 "nbformat_minor": 3
}
