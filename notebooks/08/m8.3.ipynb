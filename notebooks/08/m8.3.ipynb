{
 "cells": [
  {
   "outputs": [],
   "cell_type": "code",
   "source": [
    "using StatisticalRethinking\n",
    "\n",
    "@model m8_3(y) = begin\n",
    "    α ~ Normal(1, 10)\n",
    "    σ ~ Truncated(Cauchy(0, 1), 0, Inf)\n",
    "\n",
    "    for i ∈ 1:length(y)\n",
    "        y[i] ~ Normal(α, σ)\n",
    "    end\n",
    "end\n",
    "\n",
    "y = [-1,1]\n",
    "\n",
    "posterior = sample(m8_3(y), Turing.NUTS(4000, 1000, 0.95))\n",
    "describe(posterior)"
   ],
   "metadata": {},
   "execution_count": null
  },
  {
   "outputs": [],
   "cell_type": "markdown",
   "source": [
    "            Mean          SD         Naive SE        MCSE         ESS\n",
    "α       -1.075811343  1.334041836 0.02109305348 0.19866042331   45.093733\n",
    "σ        2.137823169  1.466095174 0.02318100009 0.18324552293   64.011438\n",
    "\n",
    "According to Rethinking\n",
    "       Mean StdDev lower 0.89 upper 0.89 n_eff Rhat\n",
    "alpha -0.01   1.60      -1.98       2.37  1121    1\n",
    "sigma  1.98   1.91       0.47       3.45  1077    1"
   ],
   "metadata": {}
  },
  {
   "outputs": [],
   "cell_type": "markdown",
   "source": [
    "*This notebook was generated using [Literate.jl](https://github.com/fredrikekre/Literate.jl).*"
   ],
   "metadata": {}
  }
 ],
 "nbformat_minor": 3,
 "metadata": {
  "language_info": {
   "file_extension": ".jl",
   "mimetype": "application/julia",
   "name": "julia",
   "version": "1.1.0-DEV.839"
  },
  "kernelspec": {
   "name": "julia-1.1",
   "display_name": "Julia 1.1.0-DEV.839",
   "language": "julia"
  }
 },
 "nbformat": 4
}
