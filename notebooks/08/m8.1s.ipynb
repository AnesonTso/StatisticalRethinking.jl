{
 "cells": [
  {
   "outputs": [],
   "cell_type": "markdown",
   "source": [
    "Load Julia packages (libraries) needed  for the snippets in chapter 0"
   ],
   "metadata": {}
  },
  {
   "outputs": [],
   "cell_type": "code",
   "source": [
    "using StatisticalRethinking\n",
    "using CmdStan, StanMCMCChain\n",
    "gr(size=(500,500));"
   ],
   "metadata": {},
   "execution_count": 1
  },
  {
   "outputs": [],
   "cell_type": "markdown",
   "source": [
    "CmdStan uses a tmp directory to store the output of cmdstan"
   ],
   "metadata": {}
  },
  {
   "outputs": [],
   "cell_type": "code",
   "source": [
    "ProjDir = rel_path(\"..\", \"scripts\", \"08\")\n",
    "cd(ProjDir)"
   ],
   "metadata": {},
   "execution_count": 2
  },
  {
   "outputs": [],
   "cell_type": "markdown",
   "source": [
    "### snippet 5.1"
   ],
   "metadata": {}
  },
  {
   "outputs": [
    {
     "output_type": "execute_result",
     "data": {
      "text/plain": "5×3 DataFrame\n│ Row │ rugged   │ cont_africa │ log_gdp │\n│     │ \u001b[90mFloat64⍰\u001b[39m │ \u001b[90mFloat64\u001b[39m     │ \u001b[90mFloat64\u001b[39m │\n├─────┼──────────┼─────────────┼─────────┤\n│ 1   │ 0.858    │ 1.0         │ 7.49261 │\n│ 2   │ 3.427    │ 0.0         │ 8.21693 │\n│ 3   │ 0.769    │ 0.0         │ 9.93326 │\n│ 4   │ 0.775    │ 0.0         │ 9.40703 │\n│ 5   │ 2.688    │ 0.0         │ 7.79234 │",
      "text/html": [
       "<table class=\"data-frame\"><thead><tr><th></th><th>rugged</th><th>cont_africa</th><th>log_gdp</th></tr><tr><th></th><th>Float64⍰</th><th>Float64</th><th>Float64</th></tr></thead><tbody><p>5 rows × 3 columns</p><tr><th>1</th><td>0.858</td><td>1.0</td><td>7.49261</td></tr><tr><th>2</th><td>3.427</td><td>0.0</td><td>8.21693</td></tr><tr><th>3</th><td>0.769</td><td>0.0</td><td>9.93326</td></tr><tr><th>4</th><td>0.775</td><td>0.0</td><td>9.40703</td></tr><tr><th>5</th><td>2.688</td><td>0.0</td><td>7.79234</td></tr></tbody></table>"
      ]
     },
     "metadata": {},
     "execution_count": 3
    }
   ],
   "cell_type": "code",
   "source": [
    "d = CSV.read(rel_path(\"..\", \"data\", \"rugged.csv\"), delim=';');\n",
    "df = convert(DataFrame, d);\n",
    "\n",
    "dcc = filter(row -> !(ismissing(row[:rgdppc_2000])), df)\n",
    "dcc[:log_gdp] = log.(dcc[:rgdppc_2000])\n",
    "dcc[:cont_africa] = Array{Float64}(convert(Array{Int}, dcc[:cont_africa]))\n",
    "first(dcc[[:rugged, :cont_africa, :log_gdp]], 5)"
   ],
   "metadata": {},
   "execution_count": 3
  },
  {
   "outputs": [],
   "cell_type": "markdown",
   "source": [
    "Define the Stan language model"
   ],
   "metadata": {}
  },
  {
   "outputs": [],
   "cell_type": "code",
   "source": [
    "m_8_1_model = \"\n",
    "data{\n",
    "    int N;\n",
    "    vector[N] log_gdp;\n",
    "    vector[N] cont_africa;\n",
    "    vector[N] rugged;\n",
    "}\n",
    "parameters{\n",
    "    real a;\n",
    "    real bR;\n",
    "    real bA;\n",
    "    real bAR;\n",
    "    real sigma;\n",
    "}\n",
    "model{\n",
    "    vector[N] mu;\n",
    "    sigma ~ uniform( 0 , 10 );\n",
    "    bAR ~ normal( 0 , 10 );\n",
    "    bA ~ normal( 0 , 10 );\n",
    "    bR ~ normal( 0 , 10 );\n",
    "    a ~ normal( 0 , 100 );\n",
    "    for ( i in 1:N ) {\n",
    "        mu[i] = a + bR * rugged[i] + bA * cont_africa[i] + bAR * rugged[i] * cont_africa[i];\n",
    "    }\n",
    "    log_gdp ~ normal( mu , sigma );\n",
    "}\n",
    "\";"
   ],
   "metadata": {},
   "execution_count": 4
  },
  {
   "outputs": [],
   "cell_type": "markdown",
   "source": [
    "Define the Stanmodel and set the output format to :mcmcchain."
   ],
   "metadata": {}
  },
  {
   "outputs": [
    {
     "name": "stdout",
     "output_type": "stream",
     "text": [
      "\n",
      "File /Users/rob/.julia/dev/StatisticalRethinking/scripts/08/tmp/m_8_1_model.stan will be updated.\n",
      "\n"
     ]
    }
   ],
   "cell_type": "code",
   "source": [
    "stanmodel = Stanmodel(name=\"m_8_1_model\",\n",
    "monitors = [\"a\", \"bR\", \"bA\", \"bAR\", \"sigma\"],\n",
    "model=m_8_1_model, output_format=:mcmcchain);"
   ],
   "metadata": {},
   "execution_count": 5
  },
  {
   "outputs": [],
   "cell_type": "markdown",
   "source": [
    "Input data for cmdstan"
   ],
   "metadata": {}
  },
  {
   "outputs": [
    {
     "name": "stdout",
     "output_type": "stream",
     "text": [
      "Informational Message: The current Metropolis proposal is about to be rejected because of the following issue:\n",
      "Exception: normal_lpdf: Scale parameter is -0.190999, but must be > 0!  (in '/Users/rob/.julia/dev/StatisticalRethinking/scripts/08/tmp/m_8_1_model.stan' at line 24)\n",
      "\n",
      "If this warning occurs sporadically, such as for highly constrained variable types like covariance matrices, then the sampler is fine,\n",
      "but if this warning occurs often then your model may be either severely ill-conditioned or misspecified.\n",
      "\n",
      "Informational Message: The current Metropolis proposal is about to be rejected because of the following issue:\n",
      "Exception: normal_lpdf: Scale parameter is -1.40202, but must be > 0!  (in '/Users/rob/.julia/dev/StatisticalRethinking/scripts/08/tmp/m_8_1_model.stan' at line 24)\n",
      "\n",
      "If this warning occurs sporadically, such as for highly constrained variable types like covariance matrices, then the sampler is fine,\n",
      "but if this warning occurs often then your model may be either severely ill-conditioned or misspecified.\n",
      "\n",
      "Informational Message: The current Metropolis proposal is about to be rejected because of the following issue:\n",
      "Exception: normal_lpdf: Scale parameter is -2.40614, but must be > 0!  (in '/Users/rob/.julia/dev/StatisticalRethinking/scripts/08/tmp/m_8_1_model.stan' at line 24)\n",
      "\n",
      "If this warning occurs sporadically, such as for highly constrained variable types like covariance matrices, then the sampler is fine,\n",
      "but if this warning occurs often then your model may be either severely ill-conditioned or misspecified.\n",
      "\n",
      "Informational Message: The current Metropolis proposal is about to be rejected because of the following issue:\n",
      "Exception: normal_lpdf: Scale parameter is -1.53812, but must be > 0!  (in '/Users/rob/.julia/dev/StatisticalRethinking/scripts/08/tmp/m_8_1_model.stan' at line 24)\n",
      "\n",
      "If this warning occurs sporadically, such as for highly constrained variable types like covariance matrices, then the sampler is fine,\n",
      "but if this warning occurs often then your model may be either severely ill-conditioned or misspecified.\n",
      "\n",
      "\n",
      "Inference for Stan model: m_8_1_model_model\n",
      "4 chains: each with iter=(1000,1000,1000,1000); warmup=(0,0,0,0); thin=(1,1,1,1); 4000 iterations saved.\n",
      "\n",
      "Warmup took (0.32, 0.31, 0.29, 0.32) seconds, 1.2 seconds total\n",
      "Sampling took (0.35, 0.32, 0.37, 0.40) seconds, 1.4 seconds total\n",
      "\n",
      "                 Mean     MCSE  StdDev     5%    50%       95%    N_Eff  N_Eff/s    R_hat\n",
      "lp__              -76  3.9e-02     1.6    -79    -75  -7.4e+01  1.6e+03  1.1e+03  1.0e+00\n",
      "accept_stat__    0.94  1.4e-03   0.081   0.76   0.97   1.0e+00  3.4e+03  2.4e+03  1.0e+00\n",
      "stepsize__       0.32  2.4e-02   0.033   0.27   0.35   3.5e-01  2.0e+00  1.4e+00  6.7e+13\n",
      "treedepth__       3.2  4.1e-02    0.66    2.0    3.0   4.0e+00  2.6e+02  1.8e+02  1.0e+00\n",
      "n_leapfrog__       12  2.6e-01     6.7    3.0     15   3.1e+01  6.9e+02  4.8e+02  1.0e+00\n",
      "divergent__      0.00      nan    0.00   0.00   0.00   0.0e+00      nan      nan      nan\n",
      "energy__           78  5.6e-02     2.3     75     78   8.3e+01  1.6e+03  1.1e+03  1.0e+00\n",
      "a                 9.2  3.3e-03    0.14    9.0    9.2   9.5e+00  1.8e+03  1.2e+03  1.0e+00\n",
      "bR              -0.20  1.8e-03   0.077  -0.33  -0.20  -8.0e-02  1.8e+03  1.3e+03  1.0e+00\n",
      "bA               -2.0  5.3e-03    0.22   -2.3   -2.0  -1.6e+00  1.7e+03  1.2e+03  1.0e+00\n",
      "bAR              0.39  3.2e-03    0.13   0.18   0.40   6.1e-01  1.7e+03  1.2e+03  1.0e+00\n",
      "sigma            0.95  1.1e-03   0.054   0.87   0.95   1.0e+00  2.2e+03  1.5e+03  1.0e+00\n",
      "\n",
      "Samples were drawn using hmc with nuts.\n",
      "For each parameter, N_Eff is a crude measure of effective sample size,\n",
      "and R_hat is the potential scale reduction factor on split chains (at \n",
      "convergence, R_hat=1).\n",
      "\n"
     ]
    },
    {
     "output_type": "execute_result",
     "data": {
      "text/plain": "\"\\n       mean   sd  5.5% 94.5% n_eff Rhat\\na      9.22 0.14  9.00  9.46   282    1\\nbR    -0.21 0.08 -0.33 -0.08   275    1\\nbA    -1.94 0.24 -2.33 -1.59   268    1\\nbAR    0.40 0.14  0.18  0.62   271    1\\nsigma  0.96 0.05  0.87  1.04   339    1\\n\""
     },
     "metadata": {},
     "execution_count": 6
    }
   ],
   "cell_type": "code",
   "source": [
    "m_8_1_data = Dict(\"N\" => size(dcc, 1), \"log_gdp\" => dcc[:log_gdp],\n",
    "    \"rugged\" => dcc[:rugged], \"cont_africa\" => dcc[:cont_africa]);\n",
    "# Sample using cmdstan\n",
    "rc, chn, cnames = stan(stanmodel, m_8_1_data, ProjDir, diagnostics=false,\n",
    "  summary=true, CmdStanDir=CMDSTAN_HOME);\n",
    "# Result rethinking\n",
    "rethinking = \"\n",
    "       mean   sd  5.5% 94.5% n_eff Rhat\n",
    "a      9.22 0.14  9.00  9.46   282    1\n",
    "bR    -0.21 0.08 -0.33 -0.08   275    1\n",
    "bA    -1.94 0.24 -2.33 -1.59   268    1\n",
    "bAR    0.40 0.14  0.18  0.62   271    1\n",
    "sigma  0.96 0.05  0.87  1.04   339    1\n",
    "\""
   ],
   "metadata": {},
   "execution_count": 6
  },
  {
   "outputs": [],
   "cell_type": "markdown",
   "source": [
    "Describe the draws"
   ],
   "metadata": {}
  },
  {
   "outputs": [
    {
     "name": "stdout",
     "output_type": "stream",
     "text": [
      "Iterations = 1:1000\n",
      "Thinning interval = 1\n",
      "Chains = 1,2,3,4\n",
      "Samples per chain = 1000\n",
      "\n",
      "Empirical Posterior Estimates:\n",
      "         Mean         SD        Naive SE       MCSE      ESS\n",
      "    a  9.2269937 0.140898924 0.00222780759 0.0029030513 1000\n",
      "   bR -0.2046551 0.077269871 0.00122174393 0.0015543556 1000\n",
      "   bA -1.9505869 0.222299750 0.00351486766 0.0052752597 1000\n",
      "  bAR  0.3947156 0.130352993 0.00206106179 0.0027812662 1000\n",
      "sigma  0.9521969 0.053849608 0.00085143706 0.0010395082 1000\n",
      "\n",
      "Quantiles:\n",
      "          2.5%       25.0%      50.0%      75.0%        97.5%   \n",
      "    a  8.94205725  9.1338375  9.2295100  9.32274500  9.489816750\n",
      "   bR -0.35598968 -0.2568240 -0.2044945 -0.15242100 -0.048401905\n",
      "   bA -2.38136675 -2.1005900 -1.9520650 -1.80190250 -1.510729250\n",
      "  bAR  0.13656818  0.3074065  0.3977695  0.48104450  0.643824425\n",
      "sigma  0.85529272  0.9137510  0.9498675  0.98659275  1.065015750\n",
      "\n"
     ]
    }
   ],
   "cell_type": "code",
   "source": [
    "describe(chn)"
   ],
   "metadata": {},
   "execution_count": 7
  },
  {
   "outputs": [],
   "cell_type": "markdown",
   "source": [
    "End of `08/m8.1s.jl`"
   ],
   "metadata": {}
  },
  {
   "outputs": [],
   "cell_type": "markdown",
   "source": [
    "*This notebook was generated using [Literate.jl](https://github.com/fredrikekre/Literate.jl).*"
   ],
   "metadata": {}
  }
 ],
 "nbformat_minor": 3,
 "metadata": {
  "language_info": {
   "file_extension": ".jl",
   "mimetype": "application/julia",
   "name": "julia",
   "version": "1.2.0-DEV.231"
  },
  "kernelspec": {
   "name": "julia-1.2",
   "display_name": "Julia 1.2.0-DEV.231",
   "language": "julia"
  }
 },
 "nbformat": 4
}
