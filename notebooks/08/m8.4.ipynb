{
 "cells": [
  {
   "outputs": [],
   "cell_type": "code",
   "source": [
    "using StatisticalRethinking, Turing\n",
    "\n",
    "Turing.setadbackend(:reverse_diff)\n",
    "Turing.turnprogress(false) #nb"
   ],
   "metadata": {},
   "execution_count": null
  },
  {
   "outputs": [],
   "cell_type": "markdown",
   "source": [
    "Can't really set a U[-Inf,Inf] on \\sigma AFAICT so this will not be 1:1\n",
    "w/ Rethinking"
   ],
   "metadata": {}
  },
  {
   "outputs": [],
   "cell_type": "code",
   "source": [
    "@model m8_4(y) = begin\n",
    "    α₁ ~ Uniform(-Inf, Inf)\n",
    "    α₂ ~ Uniform(-Inf, Inf)\n",
    "    σ ~ Truncated(Cauchy(0,1), 0, Inf)\n",
    "\n",
    "    for i ∈ 1:length(y)\n",
    "        y[i] ~ Normal(α₁ + α₂, σ)\n",
    "    end\n",
    "end\n",
    "\n",
    "y = rand(Normal(0,1), 100)\n",
    "\n",
    "posterior = sample(m8_4(y), Turing.NUTS(4000, 1000, 0.95))\n",
    "describe(posterior)\n",
    "\n",
    "m84rethinking = \"\n",
    "         mean      sd     5.5%   94.5% n_eff Rhat\n",
    " a1    -861.15 558.17 -1841.89  -31.04     7 1.43\n",
    " a2     861.26 558.17    31.31 1842.00     7 1.43\n",
    " sigma    0.97   0.07     0.89    1.09     9 1.17\n",
    "\";"
   ],
   "metadata": {},
   "execution_count": null
  },
  {
   "outputs": [],
   "cell_type": "markdown",
   "source": [
    "*This notebook was generated using [Literate.jl](https://github.com/fredrikekre/Literate.jl).*"
   ],
   "metadata": {}
  }
 ],
 "nbformat_minor": 3,
 "metadata": {
  "language_info": {
   "file_extension": ".jl",
   "mimetype": "application/julia",
   "name": "julia",
   "version": "1.2.0-DEV.134"
  },
  "kernelspec": {
   "name": "julia-1.2",
   "display_name": "Julia 1.2.0-DEV.134",
   "language": "julia"
  }
 },
 "nbformat": 4
}
