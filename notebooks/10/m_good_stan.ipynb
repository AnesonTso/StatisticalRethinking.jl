{
 "cells": [
  {
   "outputs": [],
   "cell_type": "code",
   "source": [
    "using StatisticalRethinking\n",
    "using Turing\n",
    "using StatsFuns #logistic\n",
    "\n",
    "\n",
    "Turing.setadbackend(:reverse_diff)"
   ],
   "metadata": {},
   "execution_count": null
  },
  {
   "outputs": [],
   "cell_type": "markdown",
   "source": [
    "outcome and predictor almost perfectly associated"
   ],
   "metadata": {}
  },
  {
   "outputs": [],
   "cell_type": "code",
   "source": [
    "x = repeat([-1], 9); append!(x, repeat([1],11))\n",
    "y = repeat([0], 10); append!(y, repeat([1],10))\n",
    "\n",
    "@model m_good_stan(x,y) = begin\n",
    "    α ~ Normal(0,10)\n",
    "    β ~ Normal(0,10)\n",
    "\n",
    "    for i ∈ 1:length(y)\n",
    "        p = logistic(α + β * x[i])\n",
    "        y[i] ~ Binomial(1, p)\n",
    "    end\n",
    "end\n",
    "\n",
    "posterior = sample(m_good_stan(x,y), Turing.NUTS(2000, 1000, 0.95))\n",
    "describe(posterior)"
   ],
   "metadata": {},
   "execution_count": null
  },
  {
   "outputs": [],
   "cell_type": "markdown",
   "source": [
    "       Mean          SD        Naive SE       MCSE         ESS\n",
    "α  -8.716748466  4.226359431 0.0945042699 0.8913931285   22.479896\n",
    "β  11.240259899  3.945816136 0.0882311311 0.8199224835   23.159442"
   ],
   "metadata": {}
  },
  {
   "outputs": [],
   "cell_type": "markdown",
   "source": [
    "Rethinking\n",
    "   mean   sd   5.5% 94.5% n_eff Rhat\n",
    "a -5.09 4.08 -12.62 -0.25   100 1.00\n",
    "b  7.86 4.09   2.96 15.75   104 1.01"
   ],
   "metadata": {}
  },
  {
   "outputs": [],
   "cell_type": "markdown",
   "source": [
    "*This notebook was generated using [Literate.jl](https://github.com/fredrikekre/Literate.jl).*"
   ],
   "metadata": {}
  }
 ],
 "nbformat_minor": 3,
 "metadata": {
  "language_info": {
   "file_extension": ".jl",
   "mimetype": "application/julia",
   "name": "julia",
   "version": "1.1.0-DEV.888"
  },
  "kernelspec": {
   "name": "julia-1.1",
   "display_name": "Julia 1.1.0-DEV.888",
   "language": "julia"
  }
 },
 "nbformat": 4
}
