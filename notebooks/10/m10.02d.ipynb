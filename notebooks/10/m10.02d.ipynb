{
 "cells": [
  {
   "outputs": [],
   "cell_type": "markdown",
   "source": [
    "Load Julia packages (libraries) needed  for the snippets in chapter 0"
   ],
   "metadata": {}
  },
  {
   "outputs": [],
   "cell_type": "code",
   "source": [
    "using StatisticalRethinking\n",
    "using DynamicHMC, TransformVariables, LogDensityProblems, MCMCDiagnostics\n",
    "using Parameters, ForwardDiff, LinearAlgebra"
   ],
   "metadata": {},
   "execution_count": 1
  },
  {
   "outputs": [],
   "cell_type": "markdown",
   "source": [
    "CmdStan uses a tmp directory to store the output of cmdstan"
   ],
   "metadata": {}
  },
  {
   "outputs": [],
   "cell_type": "code",
   "source": [
    "ProjDir = rel_path(\"..\", \"scripts\", \"08\")\n",
    "cd(ProjDir)"
   ],
   "metadata": {},
   "execution_count": 2
  },
  {
   "outputs": [],
   "cell_type": "markdown",
   "source": [
    "### snippet 5.1"
   ],
   "metadata": {}
  },
  {
   "outputs": [],
   "cell_type": "code",
   "source": [
    "d = CSV.read(rel_path(\"..\", \"data\", \"chimpanzees.csv\"), delim=';');\n",
    "df = convert(DataFrame, d);\n",
    "df[:pulled_left] = convert(Array{Int64}, df[:pulled_left])\n",
    "df[:prosoc_left] = convert(Array{Int64}, df[:prosoc_left])\n",
    "first(df, 5)\n",
    "\n",
    "struct m_10_02d_model{TY <: AbstractVector, TX <: AbstractMatrix}\n",
    "    \"Observations.\"\n",
    "    y::TY\n",
    "    \"Covariates\"\n",
    "    X::TX\n",
    "end"
   ],
   "metadata": {},
   "execution_count": 3
  },
  {
   "outputs": [],
   "cell_type": "markdown",
   "source": [
    "Make the type callable with the parameters *as a single argument*."
   ],
   "metadata": {}
  },
  {
   "outputs": [],
   "cell_type": "code",
   "source": [
    "function (problem::m_10_02d_model)(θ)\n",
    "    @unpack y, X, = problem   # extract the data\n",
    "    @unpack pr, β = θ            # works on the named tuple too\n",
    "    ll = 0.0\n",
    "    ll += logpdf(Normal(0, 10), β[1]) # a = X[1]\n",
    "    ll += logpdf(Normal(0, 10), β[2]) # bp = X[2]\n",
    "    ll += sum([loglikelihood(Binomial(1, logistic(dot(X[i, :], β))), [y[i]]) for i in 1:N])\n",
    "    ll\n",
    "end"
   ],
   "metadata": {},
   "execution_count": 4
  },
  {
   "outputs": [],
   "cell_type": "markdown",
   "source": [
    "Instantiate the model with data and inits."
   ],
   "metadata": {}
  },
  {
   "outputs": [
    {
     "output_type": "execute_result",
     "data": {
      "text/plain": "-487.6540051035728"
     },
     "metadata": {},
     "execution_count": 5
    }
   ],
   "cell_type": "code",
   "source": [
    "N = size(df, 1)\n",
    "X = hcat(ones(Int64, N), df[:prosoc_left]);\n",
    "y = df[:pulled_left]\n",
    "p = m_10_02d_model(y, X);\n",
    "θ = (β = [1.0, 2.0], pr = ones(N),)\n",
    "p(θ)"
   ],
   "metadata": {},
   "execution_count": 5
  },
  {
   "outputs": [],
   "cell_type": "markdown",
   "source": [
    "Write a function to return properly dimensioned transformation."
   ],
   "metadata": {}
  },
  {
   "outputs": [],
   "cell_type": "code",
   "source": [
    "problem_transformation(p::m_10_02d_model) =\n",
    "    as((β = as(Array, size(p.X, 2)), pr = as(Array, size(p.X, 2))))\n",
    "# Wrap the problem with a transformation, then use Flux for the gradient.\n",
    "P = TransformedLogDensity(problem_transformation(p), p)\n",
    "∇P = ADgradient(:ForwardDiff, P);"
   ],
   "metadata": {},
   "execution_count": 6
  },
  {
   "outputs": [],
   "cell_type": "markdown",
   "source": [
    "Tune and sample."
   ],
   "metadata": {}
  },
  {
   "outputs": [
    {
     "name": "stdout",
     "output_type": "stream",
     "text": [
      "MCMC, adapting ϵ (75 steps)\n",
      "0.083 s/step ...done\n",
      "MCMC, adapting ϵ (25 steps)\n",
      "0.088 s/step ...done\n",
      "MCMC, adapting ϵ (50 steps)\n",
      "0.096 s/step ...done\n",
      "MCMC, adapting ϵ (100 steps)\n",
      "step 100 (of 100), 0.1 s/step\n",
      "0.1 s/step ...done\n",
      "MCMC, adapting ϵ (200 steps)\n",
      "step 100 (of 200), 0.098 s/step\n",
      "step 200 (of 200), 0.099 s/step\n",
      "0.099 s/step ...done\n",
      "MCMC, adapting ϵ (400 steps)\n",
      "step 100 (of 400), 0.096 s/step\n",
      "step 200 (of 400), 0.1 s/step\n",
      "step 300 (of 400), 0.11 s/step\n",
      "step 400 (of 400), 0.11 s/step\n",
      "0.11 s/step ...done\n",
      "MCMC, adapting ϵ (50 steps)\n",
      "0.099 s/step ...done\n",
      "MCMC (1000 steps)\n",
      "step 100 (of 1000), 0.12 s/step\n",
      "step 200 (of 1000), 0.11 s/step\n",
      "step 300 (of 1000), 0.11 s/step\n",
      "step 400 (of 1000), 0.12 s/step\n",
      "step 500 (of 1000), 0.12 s/step\n",
      "step 600 (of 1000), 0.11 s/step\n",
      "step 700 (of 1000), 0.11 s/step\n",
      "step 800 (of 1000), 0.11 s/step\n",
      "step 900 (of 1000), 0.1 s/step\n",
      "step 1000 (of 1000), 0.1 s/step\n",
      "0.1 s/step ...done\n"
     ]
    }
   ],
   "cell_type": "code",
   "source": [
    "chain, NUTS_tuned = NUTS_init_tune_mcmc(∇P, 1000);"
   ],
   "metadata": {},
   "execution_count": 7
  },
  {
   "outputs": [],
   "cell_type": "markdown",
   "source": [
    "We use the transformation to obtain the posterior from the chain."
   ],
   "metadata": {}
  },
  {
   "outputs": [
    {
     "output_type": "execute_result",
     "data": {
      "text/plain": "5-element Array{NamedTuple{(:β, :pr),Tuple{Array{Float64,1},Array{Float64,1}}},1}:\n (β = [0.0884574, 0.572141], pr = [-10869.1, 28614.1])\n (β = [0.0584216, 0.597581], pr = [-10748.2, 28717.4])\n (β = [0.0107358, 0.547903], pr = [-10572.1, 28889.0])\n (β = [0.151348, 0.6593], pr = [-10570.1, 28885.8])   \n (β = [0.0740087, 0.659372], pr = [-10735.2, 28835.3])"
     },
     "metadata": {},
     "execution_count": 8
    }
   ],
   "cell_type": "code",
   "source": [
    "posterior = TransformVariables.transform.(Ref(∇P.transformation), get_position.(chain));\n",
    "posterior[1:5]"
   ],
   "metadata": {},
   "execution_count": 8
  },
  {
   "outputs": [],
   "cell_type": "markdown",
   "source": [
    "Extract the parameter posterior means: `β`,"
   ],
   "metadata": {}
  },
  {
   "outputs": [
    {
     "output_type": "execute_result",
     "data": {
      "text/plain": "2-element Array{Float64,1}:\n 0.054269518312904254\n 0.5495693286291358  "
     },
     "metadata": {},
     "execution_count": 9
    }
   ],
   "cell_type": "code",
   "source": [
    "posterior_β = mean(first, posterior)"
   ],
   "metadata": {},
   "execution_count": 9
  },
  {
   "outputs": [],
   "cell_type": "markdown",
   "source": [
    "Effective sample sizes (of untransformed draws)"
   ],
   "metadata": {}
  },
  {
   "outputs": [
    {
     "output_type": "execute_result",
     "data": {
      "text/plain": "Hamiltonian Monte Carlo sample of length 1000\n  acceptance rate mean: 0.94, min/25%/median/75%/max: 0.35 0.93 0.97 1.0 1.0\n  termination: MaxDepth => 73% AdjacentTurn => 16% DoubledTurn => 11%\n  depth: 1 => 0% 2 => 8% 3 => 9% 4 => 3% 5 => 4% 6 => 2% 7 => 0% 8 => 0% 10 => 73%\n"
     },
     "metadata": {},
     "execution_count": 10
    }
   ],
   "cell_type": "code",
   "source": [
    "ess = mapslices(effective_sample_size,\n",
    "                get_position_matrix(chain); dims = 1)\n",
    "# NUTS-specific statistics\n",
    "NUTS_statistics(chain)"
   ],
   "metadata": {},
   "execution_count": 10
  },
  {
   "outputs": [],
   "cell_type": "markdown",
   "source": [
    "Result rethinking"
   ],
   "metadata": {}
  },
  {
   "outputs": [],
   "cell_type": "code",
   "source": [
    "rethinking = \"\n",
    "   mean   sd  5.5% 94.5% n_eff Rhat\n",
    "a  0.04 0.12 -0.16  0.21   180 1.00\n",
    "bp 0.57 0.19  0.30  0.87   183 1.01\n",
    "\";"
   ],
   "metadata": {},
   "execution_count": 11
  },
  {
   "outputs": [],
   "cell_type": "markdown",
   "source": [
    "Extract the parameter posterior means: `β`,"
   ],
   "metadata": {}
  },
  {
   "outputs": [
    {
     "output_type": "execute_result",
     "data": {
      "text/plain": "2-element Array{Float64,1}:\n 0.054269518312904254\n 0.5495693286291358  "
     },
     "metadata": {},
     "execution_count": 12
    }
   ],
   "cell_type": "code",
   "source": [
    "posterior_β = mean(first, posterior)"
   ],
   "metadata": {},
   "execution_count": 12
  },
  {
   "outputs": [],
   "cell_type": "markdown",
   "source": [
    "End of `08/m8.1s.jl`"
   ],
   "metadata": {}
  },
  {
   "outputs": [],
   "cell_type": "markdown",
   "source": [
    "*This notebook was generated using [Literate.jl](https://github.com/fredrikekre/Literate.jl).*"
   ],
   "metadata": {}
  }
 ],
 "nbformat_minor": 3,
 "metadata": {
  "language_info": {
   "file_extension": ".jl",
   "mimetype": "application/julia",
   "name": "julia",
   "version": "1.2.0-DEV.241"
  },
  "kernelspec": {
   "name": "julia-1.2",
   "display_name": "Julia 1.2.0-DEV.241",
   "language": "julia"
  }
 },
 "nbformat": 4
}
