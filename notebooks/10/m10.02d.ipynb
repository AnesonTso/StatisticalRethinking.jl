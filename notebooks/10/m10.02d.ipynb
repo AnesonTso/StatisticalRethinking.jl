{
 "cells": [
  {
   "outputs": [],
   "cell_type": "markdown",
   "source": [
    "Load Julia packages (libraries) needed  for the snippets in chapter 0"
   ],
   "metadata": {}
  },
  {
   "outputs": [],
   "cell_type": "code",
   "source": [
    "using StatisticalRethinking\n",
    "using DynamicHMC, TransformVariables, LogDensityProblems, MCMCDiagnostics\n",
    "using Parameters, ForwardDiff, LinearAlgebra"
   ],
   "metadata": {},
   "execution_count": 1
  },
  {
   "outputs": [],
   "cell_type": "markdown",
   "source": [
    "### snippet 10.4"
   ],
   "metadata": {}
  },
  {
   "outputs": [],
   "cell_type": "code",
   "source": [
    "d = CSV.read(rel_path(\"..\", \"data\", \"chimpanzees.csv\"), delim=';');\n",
    "df = convert(DataFrame, d);\n",
    "df[:pulled_left] = convert(Array{Int64}, df[:pulled_left])\n",
    "df[:prosoc_left] = convert(Array{Int64}, df[:prosoc_left])\n",
    "first(df, 5)\n",
    "\n",
    "struct m_10_02d_model{TY <: AbstractVector, TX <: AbstractMatrix}\n",
    "    \"Observations.\"\n",
    "    y::TY\n",
    "    \"Covariates\"\n",
    "    X::TX\n",
    "end"
   ],
   "metadata": {},
   "execution_count": 2
  },
  {
   "outputs": [],
   "cell_type": "markdown",
   "source": [
    "Make the type callable with the parameters *as a single argument*."
   ],
   "metadata": {}
  },
  {
   "outputs": [],
   "cell_type": "code",
   "source": [
    "function (problem::m_10_02d_model)(θ)\n",
    "    @unpack y, X, = problem   # extract the data\n",
    "    @unpack pr, β = θ            # works on the named tuple too\n",
    "    ll = 0.0\n",
    "    ll += logpdf(Normal(0, 10), β[1]) # a = X[1]\n",
    "    ll += logpdf(Normal(0, 10), β[2]) # bp = X[2]\n",
    "    ll += sum([loglikelihood(Binomial(1, logistic(dot(X[i, :], β))), [y[i]]) for i in 1:N])\n",
    "    ll\n",
    "end"
   ],
   "metadata": {},
   "execution_count": 3
  },
  {
   "outputs": [],
   "cell_type": "markdown",
   "source": [
    "Instantiate the model with data and inits."
   ],
   "metadata": {}
  },
  {
   "outputs": [
    {
     "output_type": "execute_result",
     "data": {
      "text/plain": "-487.6540051035728"
     },
     "metadata": {},
     "execution_count": 4
    }
   ],
   "cell_type": "code",
   "source": [
    "N = size(df, 1)\n",
    "X = hcat(ones(Int64, N), df[:prosoc_left]);\n",
    "y = df[:pulled_left]\n",
    "p = m_10_02d_model(y, X);\n",
    "θ = (β = [1.0, 2.0], pr = ones(N),)\n",
    "p(θ)"
   ],
   "metadata": {},
   "execution_count": 4
  },
  {
   "outputs": [],
   "cell_type": "markdown",
   "source": [
    "Write a function to return properly dimensioned transformation."
   ],
   "metadata": {}
  },
  {
   "outputs": [],
   "cell_type": "code",
   "source": [
    "problem_transformation(p::m_10_02d_model) =\n",
    "    as((β = as(Array, size(p.X, 2)), pr = as(Array, size(p.X, 2))))\n",
    "# Wrap the problem with a transformation, then use Flux for the gradient.\n",
    "P = TransformedLogDensity(problem_transformation(p), p)\n",
    "∇P = ADgradient(:ForwardDiff, P);"
   ],
   "metadata": {},
   "execution_count": 5
  },
  {
   "outputs": [],
   "cell_type": "markdown",
   "source": [
    "Tune and sample."
   ],
   "metadata": {}
  },
  {
   "outputs": [
    {
     "name": "stdout",
     "output_type": "stream",
     "text": [
      "MCMC, adapting ϵ (75 steps)\n",
      "0.08 s/step ...done\n",
      "MCMC, adapting ϵ (25 steps)\n",
      "0.083 s/step ...done\n",
      "MCMC, adapting ϵ (50 steps)\n",
      "0.083 s/step ...done\n",
      "MCMC, adapting ϵ (100 steps)\n",
      "step 100 (of 100), 0.075 s/step\n",
      "0.075 s/step ...done\n",
      "MCMC, adapting ϵ (200 steps)\n",
      "step 100 (of 200), 0.077 s/step\n",
      "step 200 (of 200), 0.077 s/step\n",
      "0.077 s/step ...done\n",
      "MCMC, adapting ϵ (400 steps)\n",
      "step 100 (of 400), 0.081 s/step\n",
      "step 200 (of 400), 0.083 s/step\n",
      "step 300 (of 400), 0.084 s/step\n",
      "step 400 (of 400), 0.086 s/step\n",
      "0.086 s/step ...done\n",
      "MCMC, adapting ϵ (50 steps)\n",
      "0.08 s/step ...done\n",
      "MCMC (1000 steps)\n",
      "step 100 (of 1000), 0.099 s/step\n",
      "step 200 (of 1000), 0.097 s/step\n",
      "step 300 (of 1000), 0.095 s/step\n",
      "step 400 (of 1000), 0.094 s/step\n",
      "step 500 (of 1000), 0.094 s/step\n",
      "step 600 (of 1000), 0.093 s/step\n",
      "step 700 (of 1000), 0.094 s/step\n",
      "step 800 (of 1000), 0.093 s/step\n",
      "step 900 (of 1000), 0.094 s/step\n",
      "step 1000 (of 1000), 0.093 s/step\n",
      "0.093 s/step ...done\n"
     ]
    }
   ],
   "cell_type": "code",
   "source": [
    "chain, NUTS_tuned = NUTS_init_tune_mcmc(∇P, 1000);"
   ],
   "metadata": {},
   "execution_count": 6
  },
  {
   "outputs": [],
   "cell_type": "markdown",
   "source": [
    "We use the transformation to obtain the posterior from the chain."
   ],
   "metadata": {}
  },
  {
   "outputs": [
    {
     "output_type": "execute_result",
     "data": {
      "text/plain": "5-element Array{NamedTuple{(:β, :pr),Tuple{Array{Float64,1},Array{Float64,1}}},1}:\n (β = [-0.0525353, 0.703669], pr = [-28685.5, -6714.82])\n (β = [-0.0145599, 0.690931], pr = [-28665.9, -6739.36])\n (β = [-0.0881848, 0.735128], pr = [-29124.6, -6543.31])\n (β = [0.0716152, 0.466793], pr = [-29827.7, -7658.12]) \n (β = [-0.0161344, 0.592339], pr = [-29240.3, -5136.78])"
     },
     "metadata": {},
     "execution_count": 7
    }
   ],
   "cell_type": "code",
   "source": [
    "posterior = TransformVariables.transform.(Ref(∇P.transformation), get_position.(chain));\n",
    "posterior[1:5]"
   ],
   "metadata": {},
   "execution_count": 7
  },
  {
   "outputs": [],
   "cell_type": "markdown",
   "source": [
    "Extract the parameter posterior means: `β`,"
   ],
   "metadata": {}
  },
  {
   "outputs": [
    {
     "output_type": "execute_result",
     "data": {
      "text/plain": "2-element Array{Float64,1}:\n 0.05027976744800832\n 0.555398298499633  "
     },
     "metadata": {},
     "execution_count": 8
    }
   ],
   "cell_type": "code",
   "source": [
    "posterior_β = mean(first, posterior)"
   ],
   "metadata": {},
   "execution_count": 8
  },
  {
   "outputs": [],
   "cell_type": "markdown",
   "source": [
    "Effective sample sizes (of untransformed draws)"
   ],
   "metadata": {}
  },
  {
   "outputs": [
    {
     "output_type": "execute_result",
     "data": {
      "text/plain": "Hamiltonian Monte Carlo sample of length 1000\n  acceptance rate mean: 0.95, min/25%/median/75%/max: 0.55 0.93 0.98 1.0 1.0\n  termination: MaxDepth => 76% AdjacentTurn => 15% DoubledTurn => 9%\n  depth: 1 => 0% 2 => 9% 3 => 8% 4 => 2% 5 => 1% 6 => 0% 7 => 1% 8 => 1% 9 => 2% 10 => 76%\n"
     },
     "metadata": {},
     "execution_count": 9
    }
   ],
   "cell_type": "code",
   "source": [
    "ess = mapslices(effective_sample_size,\n",
    "                get_position_matrix(chain); dims = 1)\n",
    "# NUTS-specific statistics\n",
    "NUTS_statistics(chain)"
   ],
   "metadata": {},
   "execution_count": 9
  },
  {
   "outputs": [],
   "cell_type": "markdown",
   "source": [
    "CmdStan result"
   ],
   "metadata": {}
  },
  {
   "outputs": [],
   "cell_type": "code",
   "source": [
    "m_10_2s_result = \"\n",
    "Iterations = 1:1000\n",
    "Thinning interval = 1\n",
    "Chains = 1,2,3,4\n",
    "Samples per chain = 1000\n",
    "\n",
    "Empirical Posterior Estimates:\n",
    "      Mean        SD       Naive SE       MCSE      ESS\n",
    " a 0.05103234 0.12579086 0.0019889282 0.0035186307 1000\n",
    "bp 0.55711212 0.18074275 0.0028577937 0.0040160451 1000\n",
    "\n",
    "Quantiles:\n",
    "       2.5%        25.0%       50.0%      75.0%      97.5%\n",
    " a -0.19755400 -0.029431425 0.05024655 0.12978825 0.30087758\n",
    "bp  0.20803447  0.433720250 0.55340400 0.67960975 0.91466915\n",
    "\";"
   ],
   "metadata": {},
   "execution_count": 10
  },
  {
   "outputs": [],
   "cell_type": "markdown",
   "source": [
    "Extract the parameter posterior means: `β`,"
   ],
   "metadata": {}
  },
  {
   "outputs": [
    {
     "output_type": "execute_result",
     "data": {
      "text/plain": "2-element Array{Float64,1}:\n 0.05027976744800832\n 0.555398298499633  "
     },
     "metadata": {},
     "execution_count": 11
    }
   ],
   "cell_type": "code",
   "source": [
    "posterior_β = mean(first, posterior)"
   ],
   "metadata": {},
   "execution_count": 11
  },
  {
   "outputs": [],
   "cell_type": "markdown",
   "source": [
    "End of `10/m10.02d.jl`"
   ],
   "metadata": {}
  },
  {
   "outputs": [],
   "cell_type": "markdown",
   "source": [
    "*This notebook was generated using [Literate.jl](https://github.com/fredrikekre/Literate.jl).*"
   ],
   "metadata": {}
  }
 ],
 "nbformat_minor": 3,
 "metadata": {
  "language_info": {
   "file_extension": ".jl",
   "mimetype": "application/julia",
   "name": "julia",
   "version": "1.2.0-DEV.241"
  },
  "kernelspec": {
   "name": "julia-1.2",
   "display_name": "Julia 1.2.0-DEV.241",
   "language": "julia"
  }
 },
 "nbformat": 4
}
