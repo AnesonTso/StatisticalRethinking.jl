{
 "cells": [
  {
   "outputs": [],
   "cell_type": "code",
   "source": [
    "using StatisticalRethinking\n",
    "using Turing\n",
    "\n",
    "Turing.setadbackend(:reverse_diff)\n",
    "\n",
    "d = CSV.read(joinpath(dirname(Base.pathof(StatisticalRethinking)), \"..\", \"data\",\n",
    "    \"Kline.csv\"), delim=';')\n",
    "size(d) # Should be 10x5"
   ],
   "metadata": {},
   "execution_count": null
  },
  {
   "outputs": [],
   "cell_type": "markdown",
   "source": [
    "New col log_pop, set log() for population data"
   ],
   "metadata": {}
  },
  {
   "outputs": [],
   "cell_type": "code",
   "source": [
    "d[:log_pop] = map((x) -> log(x), d[:population])"
   ],
   "metadata": {},
   "execution_count": null
  },
  {
   "outputs": [],
   "cell_type": "markdown",
   "source": [
    "New col contact_high, set binary values 1/0 if high/low contact"
   ],
   "metadata": {}
  },
  {
   "outputs": [],
   "cell_type": "code",
   "source": [
    "d[:contact_high] = map((x) -> ifelse(x==\"high\", 1, 0), d[:contact])"
   ],
   "metadata": {},
   "execution_count": null
  },
  {
   "outputs": [],
   "cell_type": "markdown",
   "source": [
    "New col where we center(!) the log_pop values"
   ],
   "metadata": {}
  },
  {
   "outputs": [],
   "cell_type": "code",
   "source": [
    "mean_log_pop = mean(d[:log_pop])\n",
    "d[:log_pop_c] = map((x) -> x - mean_log_pop, d[:log_pop])\n",
    "\n",
    "@model m10_10stan_c(total_tools, log_pop_c, contact_high) = begin\n",
    "    α ~ Normal(0, 100)\n",
    "    βp ~ Normal(0, 1)\n",
    "    βc ~ Normal(0, 1)\n",
    "    βpc ~ Normal(0, 1)\n",
    "\n",
    "    for i ∈ 1:length(total_tools)\n",
    "        λ = exp(α + βp*log_pop_c[i] + βc*contact_high[i] +\n",
    "            βpc*contact_high[i]*log_pop_c[i])\n",
    "        total_tools[i] ~ Poisson(λ)\n",
    "    end\n",
    "end\n",
    "\n",
    "posterior = sample(m10_10stan_c(d[:total_tools], d[:log_pop_c],\n",
    "    d[:contact_high]), Turing.NUTS(3000, 1000, 0.95))\n",
    "describe(posterior)"
   ],
   "metadata": {},
   "execution_count": null
  },
  {
   "outputs": [],
   "cell_type": "markdown",
   "source": [
    "             Mean           SD         Naive SE       MCSE         ESS\n",
    "      α   3.3338647013  0.094698500 0.00172895015 0.0121434117   60.814167\n",
    " lf_num   0.0010000000  0.054772256 0.00100000000 0.0010000000 3000.000000\n",
    "    βpc   0.0890018433  0.152850898 0.00279066283 0.0226016674   45.735669\n",
    "     βc   0.2611529626  0.120796429 0.00220543096 0.0183649326   43.264283\n",
    "elapsed   0.0191862855  0.015193775 0.00027739910 0.0006082621  623.950169\n",
    "epsilon   0.0038850846  0.011268260 0.00020572933 0.0010340974  118.738301\n",
    "     βp   0.2587349761  0.033836894 0.00061777433 0.0027394646  152.563131"
   ],
   "metadata": {}
  },
  {
   "outputs": [],
   "cell_type": "markdown",
   "source": [
    "Rethinking\n",
    "   mean   sd  5.5% 94.5% n_eff Rhat\n",
    "a   3.31 0.09  3.17  3.45  3671    1\n",
    "bp  0.26 0.03  0.21  0.32  5052    1\n",
    "bc  0.28 0.12  0.10  0.47  3383    1\n",
    "bcp 0.07 0.17 -0.20  0.34  4683    1"
   ],
   "metadata": {}
  },
  {
   "outputs": [],
   "cell_type": "markdown",
   "source": [
    "*This notebook was generated using [Literate.jl](https://github.com/fredrikekre/Literate.jl).*"
   ],
   "metadata": {}
  }
 ],
 "nbformat_minor": 3,
 "metadata": {
  "language_info": {
   "file_extension": ".jl",
   "mimetype": "application/julia",
   "name": "julia",
   "version": "1.2.0-DEV.154"
  },
  "kernelspec": {
   "name": "julia-1.2",
   "display_name": "Julia 1.2.0-DEV.154",
   "language": "julia"
  }
 },
 "nbformat": 4
}
