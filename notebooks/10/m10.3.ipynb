{
 "cells": [
  {
   "outputs": [],
   "cell_type": "code",
   "source": [
    "using StatisticalRethinking\n",
    "using StatsFuns #logistic() function\n",
    "\n",
    "d = CSV.read(joinpath(dirname(Base.pathof(StatisticalRethinking)), \"..\", \"data\",\n",
    "    \"chimpanzees.csv\"), delim=';')\n",
    "size(d) # Should be 504x8"
   ],
   "metadata": {},
   "execution_count": null
  },
  {
   "outputs": [],
   "cell_type": "markdown",
   "source": [
    "pulled_left, condition, prosoc_left"
   ],
   "metadata": {}
  },
  {
   "outputs": [],
   "cell_type": "code",
   "source": [
    "@model m10_3(y, x₁, x₂) = begin\n",
    "    α ~ Normal(0, 10)\n",
    "    βp ~ Normal(0, 10)\n",
    "    βpC ~ Normal(0, 10)\n",
    "\n",
    "    for i ∈ 1:length(y)\n",
    "        p = logistic(α + (βp + βpC * x₁[i]) * x₂[i])\n",
    "        y[i] ~ Binomial(1, p)\n",
    "    end\n",
    "end\n",
    "\n",
    "posterior = sample(m10_3(d[:,:pulled_left], d[:,:condition], d[:,:prosoc_left]),\n",
    "    Turing.NUTS(10000, 1000, 0.95))\n",
    "describe(posterior)"
   ],
   "metadata": {},
   "execution_count": null
  },
  {
   "outputs": [],
   "cell_type": "markdown",
   "source": [
    "    Empirical Posterior Estimates:\n",
    "             Mean           SD        Naive SE       MCSE         ESS\n",
    "α           0.053228176  0.148432403 0.0033190494 0.0072162528  423.091170\n",
    "βp          0.604297351  0.241527734 0.0054007243 0.0212696753  128.947312\n",
    "βpC        -0.074156932  0.278219321 0.0062211731 0.0279932431   98.779800"
   ],
   "metadata": {}
  },
  {
   "outputs": [],
   "cell_type": "code",
   "source": [
    "#StatisticalRethinking"
   ],
   "metadata": {},
   "execution_count": null
  },
  {
   "outputs": [],
   "cell_type": "markdown",
   "source": [
    "     Mean StdDev lower 0.89 upper 0.89 n_eff Rhat\n",
    "a    0.05   0.13      -0.15       0.25  3284    1\n",
    "bp   0.62   0.22       0.28       0.98  3032    1\n",
    "bpC -0.11   0.26      -0.53       0.29  3184    1"
   ],
   "metadata": {}
  },
  {
   "outputs": [],
   "cell_type": "markdown",
   "source": [
    "*This notebook was generated using [Literate.jl](https://github.com/fredrikekre/Literate.jl).*"
   ],
   "metadata": {}
  }
 ],
 "nbformat_minor": 3,
 "metadata": {
  "language_info": {
   "file_extension": ".jl",
   "mimetype": "application/julia",
   "name": "julia",
   "version": "1.0.3"
  },
  "kernelspec": {
   "name": "julia-1.0",
   "display_name": "Julia 1.0.3",
   "language": "julia"
  }
 },
 "nbformat": 4
}
