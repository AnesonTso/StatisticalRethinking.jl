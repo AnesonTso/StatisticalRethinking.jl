{
 "cells": [
  {
   "outputs": [
    {
     "name": "stdout",
     "output_type": "stream",
     "text": [
      "┌ Info: [Turing] looking for good initial eps...\n",
      "└ @ Turing /Users/rob/.julia/packages/Turing/xp88X/src/samplers/support/hmc_core.jl:246\n",
      "┌ Info: \r[NUTS{Turing.FluxTrackerAD,Union{}}] found initial ϵ: 0.05\n",
      "└ @ Turing /Users/rob/.julia/packages/Turing/xp88X/src/samplers/support/hmc_core.jl:291\n",
      "\r[NUTS] Sampling...  0%  ETA: 2:04:30\u001b[K\r[NUTS] Sampling...  0%  ETA: 1:26:59\u001b[K\r[NUTS] Sampling... 14%  ETA: 0:00:38\u001b[K\n",
      "  ϵ:         0.016655222003211775\n",
      "  α:         0.9507797582872957\n",
      "  pre_cond:  [1.0, 1.0]\r\u001b[A\r\u001b[A\r\u001b[A\n",
      "\n",
      "\n",
      "\r\u001b[K\u001b[A\r\u001b[K\u001b[A\r\u001b[K\u001b[A\r[NUTS] Sampling... 31%  ETA: 0:00:16\u001b[K\n",
      "  ϵ:         0.01303246295213191\n",
      "  α:         0.9830351983136948\n",
      "  pre_cond:  [1.0, 1.0]\r\u001b[A\r\u001b[A\r\u001b[A\n",
      "\n",
      "\n",
      "\r\u001b[K\u001b[A\r\u001b[K\u001b[A\r\u001b[K\u001b[A\r[NUTS] Sampling... 48%  ETA: 0:00:09\u001b[K\n",
      "  ϵ:         0.018731392871987784\n",
      "  α:         0.8805116390074372\n",
      "  pre_cond:  [1.0, 1.0]\r\u001b[A\r\u001b[A\r\u001b[A┌ Info:  Adapted ϵ = 0.009377294230841035, std = [1.0, 1.0]; 1000 iterations is used for adaption.\n",
      "└ @ Turing /Users/rob/.julia/packages/Turing/xp88X/src/samplers/adapt/adapt.jl:91\n",
      "\n",
      "\n",
      "\n",
      "\r\u001b[K\u001b[A\r\u001b[K\u001b[A\r\u001b[K\u001b[A\r[NUTS] Sampling... 60%  ETA: 0:00:06\u001b[K\n",
      "  ϵ:         0.009377294230841035\n",
      "  α:         1.0\n",
      "  pre_cond:  [1.0, 1.0]\r\u001b[A\r\u001b[A\r\u001b[A\n",
      "\n",
      "\n",
      "\r\u001b[K\u001b[A\r\u001b[K\u001b[A\r\u001b[K\u001b[A\r[NUTS] Sampling... 72%  ETA: 0:00:04\u001b[K\n",
      "  ϵ:         0.009377294230841035\n",
      "  α:         0.9944203854327622\n",
      "  pre_cond:  [1.0, 1.0]\r\u001b[A\r\u001b[A\r\u001b[A\n",
      "\n",
      "\n",
      "\r\u001b[K\u001b[A\r\u001b[K\u001b[A\r\u001b[K\u001b[A\r[NUTS] Sampling... 84%  ETA: 0:00:02\u001b[K\n",
      "  ϵ:         0.009377294230841035\n",
      "  α:         0.9997420292368009\n",
      "  pre_cond:  [1.0, 1.0]\r\u001b[A\r\u001b[A\r\u001b[A\n",
      "\n",
      "\n",
      "\r\u001b[K\u001b[A\r\u001b[K\u001b[A\r\u001b[K\u001b[A\r[NUTS] Sampling... 96%  ETA: 0:00:00\u001b[K\n",
      "  ϵ:         0.009377294230841035\n",
      "  α:         0.9994026214661635\n",
      "  pre_cond:  [1.0, 1.0]\r\u001b[A\r\u001b[A\r\u001b[A\n",
      "\n",
      "\n",
      "\r\u001b[K\u001b[A\r\u001b[K\u001b[A\r\u001b[K\u001b[A\r[NUTS] Sampling...100% Time: 0:00:13\u001b[K\n",
      "[NUTS] Finished with\n",
      "  Running time        = 12.36462556899998;\n",
      "  #lf / sample        = 0.0015;\n",
      "  #evals / sample     = 19.191;\n",
      "  pre-cond. metric    = [1.0, 1.0].\n",
      "Iterations = 1:2000\n",
      "Thinning interval = 1\n",
      "Chains = 1\n",
      "Samples per chain = 2000\n",
      "\n",
      "Empirical Posterior Estimates:\n",
      "               Mean            SD         Naive SE        MCSE         ESS   \n",
      "  lf_num     0.001500000   0.067082039 0.00150000000  0.0015000000 2000.00000\n",
      "      α₂     5.437744938   0.050019635 0.00111847305  0.0038322461  170.36260\n",
      " elapsed     0.006182313   0.087011554 0.00194563750  0.0024914917 1219.64928\n",
      " epsilon     0.011821739   0.007978202 0.00017839803  0.0005673311  197.75930\n",
      "      α₁     4.972264528   0.149138307 0.00333483392  0.0131012430  129.58461\n",
      "      lp -1315.820939143 165.565424084 3.70215542976 14.2139750140  135.67761\n",
      "eval_num    19.191000000  12.661898785 0.28312866407  0.7054143612  322.18779\n",
      "  lf_eps     0.011821739   0.007978202 0.00017839803  0.0005673311  197.75930\n",
      "\n",
      "Quantiles:\n",
      "               2.5%            25.0%           50.0%            75.0%           97.5%     \n",
      "  lf_num     0.0000000000     0.000000000     0.000000000     0.0000000000     0.000000000\n",
      "      α₂     5.3979540907     5.428391989     5.441822205     5.4546581913     5.477001107\n",
      " elapsed     0.0006903941     0.001775162     0.003707145     0.0039327615     0.013003661\n",
      " epsilon     0.0067982139     0.009377294     0.009377294     0.0137570720     0.019078245\n",
      "      α₁     4.9355291699     4.968416536     4.985303829     5.0012504756     5.033905027\n",
      "      lp -1304.7598539088 -1301.985352874 -1301.341969802 -1300.9111851770 -1300.640083728\n",
      "eval_num     4.0000000000    10.000000000    22.000000000    22.0000000000    46.000000000\n",
      "  lf_eps     0.0067982139     0.009377294     0.009377294     0.0137570720     0.019078245\n",
      "\n"
     ]
    }
   ],
   "cell_type": "code",
   "source": [
    "using StatisticalRethinking\n",
    "using Turing\n",
    "\n",
    "Turing.setadbackend(:reverse_diff)\n",
    "\n",
    "d = CSV.read(joinpath(dirname(Base.pathof(StatisticalRethinking)), \"..\", \"data\",\n",
    "    \"UCBadmit.csv\"), delim=';')\n",
    "size(d) # Should be 12x5\n",
    "\n",
    "@model m_pois(admit, reject) = begin\n",
    "   α₁ ~ Normal(0,100)\n",
    "   α₂ ~ Normal(0,100)\n",
    "\n",
    "   for i ∈ 1:length(admit)\n",
    "       λₐ = exp(α₁)\n",
    "       λᵣ = exp(α₂)\n",
    "       admit[i] ~ Poisson(λₐ)\n",
    "       reject[i] ~ Poisson(λᵣ)\n",
    "   end\n",
    "end\n",
    "\n",
    "posterior = sample(m_pois(d[:admit], d[:reject]), Turing.NUTS(2000, 1000, 0.95))\n",
    "describe(posterior)"
   ],
   "metadata": {},
   "execution_count": 1
  },
  {
   "outputs": [],
   "cell_type": "markdown",
   "source": [
    "ERROR: MethodError: no method matching logpdf(::Poisson{Float64}, ::String)\n",
    "https://github.com/TuringLang/Turing.jl/issues/615"
   ],
   "metadata": {}
  },
  {
   "outputs": [],
   "cell_type": "markdown",
   "source": [
    "Rethinking\n",
    "   mean   sd 5.5% 94.5% n_eff Rhat\n",
    "a1 4.99 0.02 4.95  5.02  2201    1\n",
    "a2 5.44 0.02 5.41  5.47  2468    1"
   ],
   "metadata": {}
  },
  {
   "outputs": [],
   "cell_type": "markdown",
   "source": [
    "*This notebook was generated using [Literate.jl](https://github.com/fredrikekre/Literate.jl).*"
   ],
   "metadata": {}
  }
 ],
 "nbformat_minor": 3,
 "metadata": {
  "language_info": {
   "file_extension": ".jl",
   "mimetype": "application/julia",
   "name": "julia",
   "version": "1.1.0-DEV.840"
  },
  "kernelspec": {
   "name": "julia-1.1",
   "display_name": "Julia 1.1.0-DEV.840",
   "language": "julia"
  }
 },
 "nbformat": 4
}
