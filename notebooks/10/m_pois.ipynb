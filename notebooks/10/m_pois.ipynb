{
 "cells": [
  {
   "outputs": [],
   "cell_type": "code",
   "source": [
    "using StatisticalRethinking\n",
    "using Turing\n",
    "\n",
    "Turing.setadbackend(:reverse_diff)\n",
    "\n",
    "d = CSV.read(joinpath(dirname(Base.pathof(StatisticalRethinking)), \"..\", \"data\",\n",
    "    \"UCBadmit.csv\"), delim=';')\n",
    "size(d) # Should be 12x5\n",
    "\n",
    "@model m_pois(admit, reject) = begin\n",
    "   α₁ ~ Normal(0,100)\n",
    "   α₂ ~ Normal(0,100)\n",
    "\n",
    "   for i ∈ 1:length(admit)\n",
    "       λₐ = exp(α₁)\n",
    "       λᵣ = exp(α₂)\n",
    "       admit[i] ~ Poisson(λₐ)\n",
    "       reject[i] ~ Poisson(λᵣ)\n",
    "   end\n",
    "end\n",
    "\n",
    "posterior = sample(m_pois(d[:admit], d[:reject]), Turing.NUTS(2000, 1000, 0.95))\n",
    "describe(posterior)"
   ],
   "metadata": {},
   "execution_count": null
  },
  {
   "outputs": [],
   "cell_type": "markdown",
   "source": [
    "ERROR: MethodError: no method matching logpdf(::Poisson{Float64}, ::String)\n",
    "https://github.com/TuringLang/Turing.jl/issues/615"
   ],
   "metadata": {}
  },
  {
   "outputs": [],
   "cell_type": "markdown",
   "source": [
    "Rethinking\n",
    "   mean   sd 5.5% 94.5% n_eff Rhat\n",
    "a1 4.99 0.02 4.95  5.02  2201    1\n",
    "a2 5.44 0.02 5.41  5.47  2468    1"
   ],
   "metadata": {}
  },
  {
   "outputs": [],
   "cell_type": "markdown",
   "source": [
    "*This notebook was generated using [Literate.jl](https://github.com/fredrikekre/Literate.jl).*"
   ],
   "metadata": {}
  }
 ],
 "nbformat_minor": 3,
 "metadata": {
  "language_info": {
   "file_extension": ".jl",
   "mimetype": "application/julia",
   "name": "julia",
   "version": "1.1.0-DEV.839"
  },
  "kernelspec": {
   "name": "julia-1.1",
   "display_name": "Julia 1.1.0-DEV.839",
   "language": "julia"
  }
 },
 "nbformat": 4
}
