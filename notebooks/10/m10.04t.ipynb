{
 "cells": [
  {
   "outputs": [],
   "cell_type": "code",
   "source": [
    "using StatisticalRethinking\n",
    "using Turing\n",
    "\n",
    "Turing.setadbackend(:reverse_diff)\n",
    "\n",
    "d = CSV.read(joinpath(dirname(Base.pathof(StatisticalRethinking)), \"..\", \"data\",\n",
    "    \"chimpanzees.csv\"), delim=';')\n",
    "size(d) # Should be 504x8"
   ],
   "metadata": {},
   "execution_count": null
  },
  {
   "outputs": [],
   "cell_type": "markdown",
   "source": [
    "pulled_left, actors, condition, prosoc_left"
   ],
   "metadata": {}
  },
  {
   "outputs": [],
   "cell_type": "code",
   "source": [
    "@model m10_4(y, actors, x₁, x₂) = begin\n",
    "    # Number of unique actors in the data set\n",
    "    N_actor = length(unique(actors))\n",
    "    # Set an TArray for the priors/param\n",
    "    α = TArray{Any}(undef, N_actor)\n",
    "    # For each actor [1,..,7] set a prior\n",
    "    for i ∈ 1:length(α)\n",
    "        α[i] ~ Normal(0,10)\n",
    "    end\n",
    "\n",
    "    βp ~ Normal(0, 10)\n",
    "    βpC ~ Normal(0, 10)\n",
    "\n",
    "    for i ∈ 1:length(y)\n",
    "        p = logistic(α[actors[i]] + (βp + βpC * x₁[i]) * x₂[i])\n",
    "        y[i] ~ Binomial(1, p)\n",
    "    end\n",
    "end\n",
    "\n",
    "posterior = sample(m10_4(d[:,:pulled_left], d[:,:actor],d[:,:condition],\n",
    "d[:,:prosoc_left]), Turing.NUTS(2000, 1000, 0.95))"
   ],
   "metadata": {},
   "execution_count": null
  },
  {
   "outputs": [],
   "cell_type": "markdown",
   "source": [
    "Fix the inclusion of adaptation samples"
   ],
   "metadata": {}
  },
  {
   "outputs": [],
   "cell_type": "code",
   "source": [
    "posterior2 = MCMCChain.Chains(posterior.value[1001:2000,:,:], names=posterior.names)"
   ],
   "metadata": {},
   "execution_count": null
  },
  {
   "outputs": [],
   "cell_type": "markdown",
   "source": [
    "Rethinking/CmdStan results"
   ],
   "metadata": {}
  },
  {
   "outputs": [],
   "cell_type": "code",
   "source": [
    "m_10_04t_result = \"\n",
    "       mean   sd  5.5% 94.5% n_eff Rhat\n",
    " a[1] -0.74 0.27 -1.17 -0.31  3838    1\n",
    " a[2] 11.02 5.53  4.46 21.27  1759    1\n",
    " a[3] -1.05 0.28 -1.50 -0.61  3784    1\n",
    " a[4] -1.05 0.27 -1.48 -0.62  3761    1\n",
    " a[5] -0.74 0.27 -1.18 -0.32  4347    1\n",
    " a[6]  0.21 0.27 -0.23  0.66  3932    1\n",
    " a[7]  1.81 0.39  1.19  2.46  4791    1\n",
    " bp    0.84 0.26  0.42  1.26  2586    1\n",
    " bpC  -0.13 0.30 -0.63  0.34  3508    1\n",
    "\";"
   ],
   "metadata": {},
   "execution_count": null
  },
  {
   "outputs": [],
   "cell_type": "markdown",
   "source": [
    "Describe the draws"
   ],
   "metadata": {}
  },
  {
   "outputs": [],
   "cell_type": "code",
   "source": [
    "describe(posterior2)"
   ],
   "metadata": {},
   "execution_count": null
  },
  {
   "outputs": [],
   "cell_type": "markdown",
   "source": [
    "End of 10/m_10_04t.jl#-\n",
    "*This notebook was generated using [Literate.jl](https://github.com/fredrikekre/Literate.jl).*"
   ],
   "metadata": {}
  }
 ],
 "nbformat_minor": 3,
 "metadata": {
  "language_info": {
   "file_extension": ".jl",
   "mimetype": "application/julia",
   "name": "julia",
   "version": "1.2.0-DEV.245"
  },
  "kernelspec": {
   "name": "julia-1.2",
   "display_name": "Julia 1.2.0-DEV.245",
   "language": "julia"
  }
 },
 "nbformat": 4
}
