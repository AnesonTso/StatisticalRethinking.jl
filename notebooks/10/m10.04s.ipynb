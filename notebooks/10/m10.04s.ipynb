{
 "cells": [
  {
   "outputs": [],
   "cell_type": "markdown",
   "source": [
    "Load Julia packages (libraries) needed  for the snippets in chapter 0"
   ],
   "metadata": {}
  },
  {
   "outputs": [],
   "cell_type": "code",
   "source": [
    "using StatisticalRethinking\n",
    "using CmdStan, StanMCMCChain\n",
    "gr(size=(500,500));"
   ],
   "metadata": {},
   "execution_count": 1
  },
  {
   "outputs": [],
   "cell_type": "markdown",
   "source": [
    "CmdStan uses a tmp directory to store the output of cmdstan"
   ],
   "metadata": {}
  },
  {
   "outputs": [],
   "cell_type": "code",
   "source": [
    "ProjDir = rel_path(\"..\", \"scripts\", \"10\")\n",
    "cd(ProjDir)"
   ],
   "metadata": {},
   "execution_count": 2
  },
  {
   "outputs": [],
   "cell_type": "markdown",
   "source": [
    "### snippet 10.4"
   ],
   "metadata": {}
  },
  {
   "outputs": [
    {
     "output_type": "execute_result",
     "data": {
      "text/plain": "5×8 DataFrame. Omitted printing of 2 columns\n│ Row │ actor  │ recipient │ condition │ block  │ trial  │ prosoc_left │\n│     │ \u001b[90mInt64⍰\u001b[39m │ \u001b[90mString⍰\u001b[39m   │ \u001b[90mInt64⍰\u001b[39m    │ \u001b[90mInt64⍰\u001b[39m │ \u001b[90mInt64⍰\u001b[39m │ \u001b[90mInt64⍰\u001b[39m      │\n├─────┼────────┼───────────┼───────────┼────────┼────────┼─────────────┤\n│ 1   │ 1      │ NA        │ 0         │ 1      │ 2      │ 0           │\n│ 2   │ 1      │ NA        │ 0         │ 1      │ 4      │ 0           │\n│ 3   │ 1      │ NA        │ 0         │ 1      │ 6      │ 1           │\n│ 4   │ 1      │ NA        │ 0         │ 1      │ 8      │ 0           │\n│ 5   │ 1      │ NA        │ 0         │ 1      │ 10     │ 1           │",
      "text/html": [
       "<table class=\"data-frame\"><thead><tr><th></th><th>actor</th><th>recipient</th><th>condition</th><th>block</th><th>trial</th><th>prosoc_left</th><th>chose_prosoc</th><th>pulled_left</th></tr><tr><th></th><th>Int64⍰</th><th>String⍰</th><th>Int64⍰</th><th>Int64⍰</th><th>Int64⍰</th><th>Int64⍰</th><th>Int64⍰</th><th>Int64⍰</th></tr></thead><tbody><p>5 rows × 8 columns</p><tr><th>1</th><td>1</td><td>NA</td><td>0</td><td>1</td><td>2</td><td>0</td><td>1</td><td>0</td></tr><tr><th>2</th><td>1</td><td>NA</td><td>0</td><td>1</td><td>4</td><td>0</td><td>0</td><td>1</td></tr><tr><th>3</th><td>1</td><td>NA</td><td>0</td><td>1</td><td>6</td><td>1</td><td>0</td><td>0</td></tr><tr><th>4</th><td>1</td><td>NA</td><td>0</td><td>1</td><td>8</td><td>0</td><td>1</td><td>0</td></tr><tr><th>5</th><td>1</td><td>NA</td><td>0</td><td>1</td><td>10</td><td>1</td><td>1</td><td>1</td></tr></tbody></table>"
      ]
     },
     "metadata": {},
     "execution_count": 3
    }
   ],
   "cell_type": "code",
   "source": [
    "d = CSV.read(rel_path(\"..\", \"data\", \"chimpanzees.csv\"), delim=';');\n",
    "df = convert(DataFrame, d);\n",
    "\n",
    "first(df, 5)"
   ],
   "metadata": {},
   "execution_count": 3
  },
  {
   "outputs": [],
   "cell_type": "markdown",
   "source": [
    "Define the Stan language model"
   ],
   "metadata": {}
  },
  {
   "outputs": [],
   "cell_type": "code",
   "source": [
    "m_10_04_model = \"\n",
    "data{\n",
    "    int N;\n",
    "    int N_actors;\n",
    "    int pulled_left[N];\n",
    "    int prosoc_left[N];\n",
    "    int condition[N];\n",
    "    int actor[N];\n",
    "}\n",
    "parameters{\n",
    "    vector[N_actors] a;\n",
    "    real bp;\n",
    "    real bpC;\n",
    "}\n",
    "model{\n",
    "    vector[N] p;\n",
    "    bpC ~ normal( 0 , 10 );\n",
    "    bp ~ normal( 0 , 10 );\n",
    "    a ~ normal( 0 , 10 );\n",
    "    for ( i in 1:504 ) {\n",
    "        p[i] = a[actor[i]] + (bp + bpC * condition[i]) * prosoc_left[i];\n",
    "        p[i] = inv_logit(p[i]);\n",
    "    }\n",
    "    pulled_left ~ binomial( 1 , p );\n",
    "}\n",
    "\";"
   ],
   "metadata": {},
   "execution_count": 4
  },
  {
   "outputs": [],
   "cell_type": "markdown",
   "source": [
    "Define the Stanmodel and set the output format to :mcmcchain."
   ],
   "metadata": {}
  },
  {
   "outputs": [],
   "cell_type": "code",
   "source": [
    "stanmodel = Stanmodel(name=\"m_10_04_model\",\n",
    "monitors = [\"a.1\", \"a.2\", \"a.3\", \"a.4\", \"a.5\", \"a.6\", \"a.7\", \"bp\", \"bpC\"],\n",
    "model=m_10_04_model, output_format=:mcmcchain);"
   ],
   "metadata": {},
   "execution_count": 5
  },
  {
   "outputs": [],
   "cell_type": "markdown",
   "source": [
    "Input data for cmdstan"
   ],
   "metadata": {}
  },
  {
   "outputs": [],
   "cell_type": "code",
   "source": [
    "m_10_04_data = Dict(\"N\" => size(df, 1), \"N_actors\" => length(unique(df[:actor])),\n",
    "\"actor\" => df[:actor], \"pulled_left\" => df[:pulled_left],\n",
    "\"prosoc_left\" => df[:prosoc_left], \"condition\" => df[:condition]);"
   ],
   "metadata": {},
   "execution_count": 6
  },
  {
   "outputs": [],
   "cell_type": "markdown",
   "source": [
    "Sample using cmdstan"
   ],
   "metadata": {}
  },
  {
   "outputs": [],
   "cell_type": "code",
   "source": [
    "rc, chn, cnames = stan(stanmodel, m_10_04_data, ProjDir, diagnostics=false,\n",
    "  summary=false, CmdStanDir=CMDSTAN_HOME);\n",
    "# Result rethinking\n",
    "# Result rethinking\n",
    "rethinking = \"\n",
    "   mean   sd  5.5% 94.5% n_eff Rhat\n",
    "      mean   sd  5.5% 94.5% n_eff Rhat\n",
    "a[1] -0.74 0.27 -1.17 -0.31  3838    1\n",
    "a[2] 11.02 5.53  4.46 21.27  1759    1\n",
    "a[3] -1.05 0.28 -1.50 -0.61  3784    1\n",
    "a[4] -1.05 0.27 -1.48 -0.62  3761    1\n",
    "a[5] -0.74 0.27 -1.18 -0.32  4347    1\n",
    "a[6]  0.21 0.27 -0.23  0.66  3932    1\n",
    "a[7]  1.81 0.39  1.19  2.46  4791    1\n",
    "bp    0.84 0.26  0.42  1.26  2586    1\n",
    "\";"
   ],
   "metadata": {},
   "execution_count": 7
  },
  {
   "outputs": [],
   "cell_type": "markdown",
   "source": [
    "Describe the draws"
   ],
   "metadata": {}
  },
  {
   "outputs": [
    {
     "name": "stdout",
     "output_type": "stream",
     "text": [
      "Iterations = 1:1000\n",
      "Thinning interval = 1\n",
      "Chains = 1,2,3,4\n",
      "Samples per chain = 1000\n",
      "\n",
      "Empirical Posterior Estimates:\n",
      "        Mean        SD       Naive SE       MCSE      ESS\n",
      "a.1 -0.74278526 0.26678070 0.0042181732 0.0045875929 1000\n",
      "a.2 10.86817275 5.32018607 0.0841195277 0.1362432565 1000\n",
      "a.3 -1.05785679 0.28077014 0.0044393657 0.0045973650 1000\n",
      "a.4 -1.05205759 0.28344767 0.0044817012 0.0045159032 1000\n",
      "a.5 -0.74001654 0.26392292 0.0041729878 0.0037529267 1000\n",
      "a.6  0.21425808 0.26892633 0.0042520986 0.0042022909 1000\n",
      "a.7  1.80957039 0.38438691 0.0060776908 0.0061772115 1000\n",
      " bp  0.84217010 0.26117117 0.0041294788 0.0041118436 1000\n",
      "bpC -0.13331086 0.29705098 0.0046967884 0.0045521272 1000\n",
      "\n",
      "Quantiles:\n",
      "        2.5%       25.0%       50.0%       75.0%       97.5%   \n",
      "a.1 -1.27004375 -0.92156575 -0.7419935 -0.559001250 -0.23517983\n",
      "a.2  3.92502000  6.72371500  9.7922250 13.996800000 23.97023000\n",
      "a.3 -1.60668225 -1.24780250 -1.0573250 -0.862009500 -0.51654235\n",
      "a.4 -1.63129375 -1.23615750 -1.0462650 -0.859036750 -0.51229307\n",
      "a.5 -1.26444450 -0.91342775 -0.7402780 -0.560794750 -0.23596870\n",
      "a.6 -0.31005357  0.02838990  0.2115360  0.397452250  0.75060770\n",
      "a.7  1.08938300  1.55099000  1.7873850  2.055587500  2.62316950\n",
      " bp  0.35171683  0.66245175  0.8392110  1.015277500  1.35999000\n",
      "bpC -0.72201447 -0.33156600 -0.1284065  0.059674225  0.45344688\n",
      "\n"
     ]
    }
   ],
   "cell_type": "code",
   "source": [
    "describe(chn)"
   ],
   "metadata": {},
   "execution_count": 8
  },
  {
   "outputs": [],
   "cell_type": "markdown",
   "source": [
    "End of `10/m10.02s.jl`"
   ],
   "metadata": {}
  },
  {
   "outputs": [],
   "cell_type": "markdown",
   "source": [
    "*This notebook was generated using [Literate.jl](https://github.com/fredrikekre/Literate.jl).*"
   ],
   "metadata": {}
  }
 ],
 "nbformat_minor": 3,
 "metadata": {
  "language_info": {
   "file_extension": ".jl",
   "mimetype": "application/julia",
   "name": "julia",
   "version": "1.2.0-DEV.270"
  },
  "kernelspec": {
   "name": "julia-1.2",
   "display_name": "Julia 1.2.0-DEV.270",
   "language": "julia"
  }
 },
 "nbformat": 4
}
