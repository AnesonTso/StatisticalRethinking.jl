{
 "cells": [
  {
   "outputs": [],
   "cell_type": "code",
   "source": [
    "using StatisticalRethinking\n",
    "using Turing\n",
    "\n",
    "Turing.setadbackend(:reverse_diff)\n",
    "\n",
    "d = CSV.read(joinpath(dirname(Base.pathof(StatisticalRethinking)), \"..\", \"data\",\n",
    "    \"UCBadmit.csv\"), delim=';')\n",
    "size(d) # Should be 12x5\n",
    "\n",
    "@model m11_5(admit, applications) = begin\n",
    "    N=length(applications)\n",
    "    θ ~ Truncated(Exponential(1), 0, Inf)\n",
    "    α ~ Normal(0,2)\n",
    "\n",
    "    for i ∈ 1:N\n",
    "        prob = logistic(α)\n",
    "        # alpha and beta for the BetaBinomial must be provided.\n",
    "        # The two parameterizations are related by\n",
    "        # alpha = prob * theta, and beta = (1-prob) * theta.\n",
    "        # See https://github.com/rmcelreath/rethinking/blob/master/man/dbetabinom.Rd\n",
    "        alpha = prob * θ\n",
    "        beta = (1 - prob) * θ\n",
    "\n",
    "        admit[i] ~ BetaBinomial(applications[i], alpha, beta)\n",
    "    end\n",
    "end\n",
    "\n",
    "posterior = sample(m11_5(d[:admit],d[:applications]), Turing.NUTS(4000, 1000, 0.9))\n",
    "describe(posterior)"
   ],
   "metadata": {},
   "execution_count": null
  },
  {
   "outputs": [],
   "cell_type": "markdown",
   "source": [
    "            Mean          SD         Naive SE         MCSE        ESS\n",
    "       α  -0.372382104 0.3119992723 0.004933141643 0.00613870681 2583.1723\n",
    "       θ   2.767996106 0.9897869845 0.015649906347 0.02305742759 1842.7303"
   ],
   "metadata": {}
  },
  {
   "outputs": [],
   "cell_type": "markdown",
   "source": [
    "Rethinking\n",
    "       mean   sd  5.5% 94.5% n_eff Rhat\n",
    "theta  2.74 0.96  1.43  4.37  3583    1\n",
    "a     -0.37 0.31 -0.87  0.12  3210    1"
   ],
   "metadata": {}
  },
  {
   "outputs": [],
   "cell_type": "markdown",
   "source": [
    "*This notebook was generated using [Literate.jl](https://github.com/fredrikekre/Literate.jl).*"
   ],
   "metadata": {}
  }
 ],
 "nbformat_minor": 3,
 "metadata": {
  "language_info": {
   "file_extension": ".jl",
   "mimetype": "application/julia",
   "name": "julia",
   "version": "1.2.0-DEV.31"
  },
  "kernelspec": {
   "name": "julia-1.2",
   "display_name": "Julia 1.2.0-DEV.31",
   "language": "julia"
  }
 },
 "nbformat": 4
}
