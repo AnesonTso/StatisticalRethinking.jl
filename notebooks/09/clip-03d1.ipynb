{
 "cells": [
  {
   "outputs": [],
   "cell_type": "markdown",
   "source": [
    "Load Julia packages (libraries) needed  for the snippets in chapter 0"
   ],
   "metadata": {}
  },
  {
   "outputs": [],
   "cell_type": "code",
   "source": [
    "using StatisticalRethinking\n",
    "import LogDensityProblems: ValueGradient\n",
    "import StatisticalRethinking: HMC2, generate_n_samples"
   ],
   "metadata": {},
   "execution_count": 1
  },
  {
   "outputs": [],
   "cell_type": "markdown",
   "source": [
    "CmdStan uses a tmp directory to store the output of cmdstan"
   ],
   "metadata": {}
  },
  {
   "outputs": [],
   "cell_type": "code",
   "source": [
    "ProjDir = @__DIR__\n",
    "cd(ProjDir)"
   ],
   "metadata": {},
   "execution_count": 2
  },
  {
   "outputs": [],
   "cell_type": "markdown",
   "source": [
    "### snippet 9.3"
   ],
   "metadata": {}
  },
  {
   "outputs": [],
   "cell_type": "markdown",
   "source": [
    "Construct the logdensity problem"
   ],
   "metadata": {}
  },
  {
   "outputs": [],
   "cell_type": "code",
   "source": [
    "struct clip_9_3_model{TY <: AbstractVector, TX <: AbstractVector}\n",
    "    \"Observations.\"\n",
    "    y::TY\n",
    "    \"Covariate\"\n",
    "    x::TX\n",
    "end"
   ],
   "metadata": {},
   "execution_count": 3
  },
  {
   "outputs": [],
   "cell_type": "markdown",
   "source": [
    "Make the type callable with the parameters *as a single argument*."
   ],
   "metadata": {}
  },
  {
   "outputs": [],
   "cell_type": "code",
   "source": [
    "function (problem:: clip_9_3_model)(θ)\n",
    "    @unpack y, x, = problem    # extract the data\n",
    "    @unpack muy, mux = θ     # works on the named tuple too\n",
    "    ll = 0.0\n",
    "    ll += loglikelihood(Normal(mux, 1), x)\n",
    "    ll += loglikelihood(Normal(muy, 1), y)\n",
    "    ll += logpdf(Normal(0, 1), mux)\n",
    "    ll += logpdf(Normal(0, 1), muy)\n",
    "    ll\n",
    "end"
   ],
   "metadata": {},
   "execution_count": 4
  },
  {
   "outputs": [],
   "cell_type": "markdown",
   "source": [
    "Instantiate the model with data and inits."
   ],
   "metadata": {}
  },
  {
   "outputs": [
    {
     "output_type": "execute_result",
     "data": {
      "text/plain": "-270.6068992198965"
     },
     "metadata": {},
     "execution_count": 5
    }
   ],
   "cell_type": "code",
   "source": [
    "Random.seed!(1234591)\n",
    "\n",
    "N = 100\n",
    "x = rand(Normal(0, 1), N)\n",
    "y = rand(Normal(0, 1), N)\n",
    "\n",
    "p = clip_9_3_model(y, x)\n",
    "θ = (muy = 0.0, mux=0.0)\n",
    "p(θ)"
   ],
   "metadata": {},
   "execution_count": 5
  },
  {
   "outputs": [],
   "cell_type": "markdown",
   "source": [
    "Write a function to return properly dimensioned transformation."
   ],
   "metadata": {}
  },
  {
   "outputs": [
    {
     "output_type": "execute_result",
     "data": {
      "text/plain": "problem_transformation (generic function with 1 method)"
     },
     "metadata": {},
     "execution_count": 6
    }
   ],
   "cell_type": "code",
   "source": [
    "problem_transformation(p::clip_9_3_model) =\n",
    "    as((muy = asℝ, mux = asℝ))"
   ],
   "metadata": {},
   "execution_count": 6
  },
  {
   "outputs": [],
   "cell_type": "markdown",
   "source": [
    "Wrap the problem with a transformation, then use Flux for the gradient."
   ],
   "metadata": {}
  },
  {
   "outputs": [],
   "cell_type": "code",
   "source": [
    "P = TransformedLogDensity(problem_transformation(p), p)\n",
    "∇P = ADgradient(:ForwardDiff, P);"
   ],
   "metadata": {},
   "execution_count": 7
  },
  {
   "outputs": [],
   "cell_type": "markdown",
   "source": [
    "Tune and sample."
   ],
   "metadata": {}
  },
  {
   "outputs": [
    {
     "name": "stdout",
     "output_type": "stream",
     "text": [
      "MCMC, adapting ϵ (75 steps)\n",
      "0.00028 s/step ...done\n",
      "MCMC, adapting ϵ (25 steps)\n",
      "0.0012 s/step ...done\n",
      "MCMC, adapting ϵ (50 steps)\n",
      "0.00013 s/step ...done\n",
      "MCMC, adapting ϵ (100 steps)\n",
      "7.6e-5 s/step ...done\n",
      "MCMC, adapting ϵ (200 steps)\n",
      "9.8e-5 s/step ...done\n",
      "MCMC, adapting ϵ (400 steps)\n",
      "7.2e-5 s/step ...done\n",
      "MCMC, adapting ϵ (50 steps)\n",
      "0.00013 s/step ...done\n",
      "MCMC (1000 steps)\n",
      "9.2e-5 s/step ...done\n"
     ]
    }
   ],
   "cell_type": "code",
   "source": [
    "chain, NUTS_tuned = NUTS_init_tune_mcmc(∇P, 1000);"
   ],
   "metadata": {},
   "execution_count": 8
  },
  {
   "outputs": [],
   "cell_type": "markdown",
   "source": [
    "We use the transformation to obtain the posterior from the chain."
   ],
   "metadata": {}
  },
  {
   "outputs": [],
   "cell_type": "code",
   "source": [
    "posterior = TransformVariables.transform.(Ref(problem_transformation(p)), get_position.(chain));"
   ],
   "metadata": {},
   "execution_count": 9
  },
  {
   "outputs": [],
   "cell_type": "markdown",
   "source": [
    "Extract the posterior means,"
   ],
   "metadata": {}
  },
  {
   "outputs": [
    {
     "output_type": "execute_result",
     "data": {
      "text/plain": "2-element Array{Float64,1}:\n  0.014762828233057404\n -0.004578168737638239"
     },
     "metadata": {},
     "execution_count": 10
    }
   ],
   "cell_type": "code",
   "source": [
    "[mean(first, posterior), mean(last, posterior)]"
   ],
   "metadata": {},
   "execution_count": 10
  },
  {
   "outputs": [],
   "cell_type": "markdown",
   "source": [
    "Draw 200 samples:"
   ],
   "metadata": {}
  },
  {
   "outputs": [
    {
     "output_type": "execute_result",
     "data": {
      "text/plain": "1×2 Array{Float64,2}:\n 0.0197914  -0.00163069"
     },
     "metadata": {},
     "execution_count": 11
    }
   ],
   "cell_type": "code",
   "source": [
    "function draw_n_samples(model, grad;\n",
    "  epsilon = 0.03, # Step size\n",
    "  L = 11, # No of leapfrog steps\n",
    "  n_samples = 1000, # No of samples\n",
    "  q = [-0.1, 0.2]) # Initial position\n",
    "\n",
    "  samples = zeros(n_samples, 2)\n",
    "  for i in 1:n_samples\n",
    "    q, ptraj, qtraj, accept, dH = HMC2(model, grad, 0.03, 11, q)\n",
    "    samples[i, :] = q\n",
    "  end\n",
    "\n",
    "  samples\n",
    "\n",
    "end\n",
    "\n",
    "samples = draw_n_samples(p, ∇P; n_samples=200);\n",
    "mean(samples, dims=1)"
   ],
   "metadata": {},
   "execution_count": 11
  },
  {
   "outputs": [],
   "cell_type": "markdown",
   "source": [
    "End of `09/clip-03.jl`"
   ],
   "metadata": {}
  },
  {
   "outputs": [],
   "cell_type": "markdown",
   "source": [
    "*This notebook was generated using [Literate.jl](https://github.com/fredrikekre/Literate.jl).*"
   ],
   "metadata": {}
  }
 ],
 "nbformat_minor": 3,
 "metadata": {
  "language_info": {
   "file_extension": ".jl",
   "mimetype": "application/julia",
   "name": "julia",
   "version": "1.3.0-DEV.570"
  },
  "kernelspec": {
   "name": "julia-1.3",
   "display_name": "Julia 1.3.0-DEV.570",
   "language": "julia"
  }
 },
 "nbformat": 4
}
