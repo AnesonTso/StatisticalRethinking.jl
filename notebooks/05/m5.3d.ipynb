{
 "cells": [
  {
   "outputs": [],
   "cell_type": "markdown",
   "source": [
    "# Linear regression"
   ],
   "metadata": {}
  },
  {
   "outputs": [],
   "cell_type": "code",
   "source": [
    "using StatisticalRethinking\n",
    "using DynamicHMC, TransformVariables, LogDensityProblems, MCMCDiagnostics\n",
    "using Parameters, ForwardDiff\n",
    "\n",
    "ProjDir = rel_path(\"..\", \"scripts\", \"05\")\n",
    "cd(ProjDir)"
   ],
   "metadata": {},
   "execution_count": null
  },
  {
   "outputs": [],
   "cell_type": "markdown",
   "source": [
    "Import the dataset."
   ],
   "metadata": {}
  },
  {
   "outputs": [],
   "cell_type": "markdown",
   "source": [
    "### snippet 5.4"
   ],
   "metadata": {}
  },
  {
   "outputs": [],
   "cell_type": "code",
   "source": [
    "wd = CSV.read(rel_path(\"..\", \"data\", \"WaffleDivorce.csv\"), delim=';')\n",
    "df = convert(DataFrame, wd);\n",
    "\n",
    "mean_ma = mean(df[:Marriage])\n",
    "df[:Marriage_s] = convert(Vector{Float64},\n",
    "  (df[:Marriage]) .- mean_ma)/std(df[:Marriage]);\n",
    "\n",
    "mean_mam = mean(df[:MedianAgeMarriage])\n",
    "df[:MedianAgeMarriage_s] = convert(Vector{Float64},\n",
    "  (df[:MedianAgeMarriage]) .- mean_mam)/std(df[:MedianAgeMarriage]);\n",
    "# Show the first six rows of the dataset.\n",
    "first(df[[1, 7, 14,15]], 6)"
   ],
   "metadata": {},
   "execution_count": null
  },
  {
   "outputs": [],
   "cell_type": "markdown",
   "source": [
    "Model ``y ∼ Xβ + ϵ``, where ``ϵ ∼ N(0, σ²)`` IID. Student prior on σ"
   ],
   "metadata": {}
  },
  {
   "outputs": [],
   "cell_type": "code",
   "source": [
    "struct m_5_3{TY <: AbstractVector, TX <: AbstractMatrix}\n",
    "    \"Observations.\"\n",
    "    y::TY\n",
    "    \"Covariates\"\n",
    "    X::TX\n",
    "end"
   ],
   "metadata": {},
   "execution_count": null
  },
  {
   "outputs": [],
   "cell_type": "markdown",
   "source": [
    "Make the type callable with the parameters *as a single argument*."
   ],
   "metadata": {}
  },
  {
   "outputs": [],
   "cell_type": "code",
   "source": [
    "function (problem::m_5_3)(θ)\n",
    "    @unpack y, X, = problem   # extract the data\n",
    "    @unpack β, σ = θ            # works on the named tuple too\n",
    "    ll = 0.0\n",
    "    ll += logpdf(Normal(10, 10), X[1]) # a = X[1]\n",
    "    ll += logpdf(Normal(0, 1), X[2]) # b1 = X[2]\n",
    "    ll += logpdf(Normal(0, 1), X[3]) # b1 = X[3]\n",
    "    ll += logpdf(TDist(1.0), σ)\n",
    "    ll += loglikelihood(Normal(0, σ), y .- X*β)\n",
    "    ll\n",
    "end"
   ],
   "metadata": {},
   "execution_count": null
  },
  {
   "outputs": [],
   "cell_type": "markdown",
   "source": [
    "Instantiate the model with data and inits."
   ],
   "metadata": {}
  },
  {
   "outputs": [],
   "cell_type": "code",
   "source": [
    "N = size(df, 1)\n",
    "X = hcat(ones(N), df[:Marriage_s], df[:MedianAgeMarriage_s]);\n",
    "y = convert(Vector{Float64}, df[:Divorce])\n",
    "p = m_5_3(y, X);\n",
    "p((β = [1.0, 2.0, 3.0], σ = 1.0))"
   ],
   "metadata": {},
   "execution_count": null
  },
  {
   "outputs": [],
   "cell_type": "markdown",
   "source": [
    "Write a function to return properly dimensioned transformation."
   ],
   "metadata": {}
  },
  {
   "outputs": [],
   "cell_type": "code",
   "source": [
    "problem_transformation(p::m_5_3) =\n",
    "    as((β = as(Array, size(p.X, 2)), σ = asℝ₊))\n",
    "# Wrap the problem with a transformation, then use Flux for the gradient.\n",
    "P = TransformedLogDensity(problem_transformation(p), p)\n",
    "∇P = LogDensityRejectErrors(ADgradient(:ForwardDiff, P));"
   ],
   "metadata": {},
   "execution_count": null
  },
  {
   "outputs": [],
   "cell_type": "markdown",
   "source": [
    "Tune and sample."
   ],
   "metadata": {}
  },
  {
   "outputs": [],
   "cell_type": "code",
   "source": [
    "chain, NUTS_tuned = NUTS_init_tune_mcmc(∇P, 1000);"
   ],
   "metadata": {},
   "execution_count": null
  },
  {
   "outputs": [],
   "cell_type": "markdown",
   "source": [
    "We use the transformation to obtain the posterior from the chain."
   ],
   "metadata": {}
  },
  {
   "outputs": [],
   "cell_type": "code",
   "source": [
    "posterior = TransformVariables.transform.(Ref(problem_transformation(p)), get_position.(chain));\n",
    "posterior[1:5]"
   ],
   "metadata": {},
   "execution_count": null
  },
  {
   "outputs": [],
   "cell_type": "markdown",
   "source": [
    "Extract the parameter posterior means: `β`,"
   ],
   "metadata": {}
  },
  {
   "outputs": [],
   "cell_type": "code",
   "source": [
    "posterior_β = mean(first, posterior)"
   ],
   "metadata": {},
   "execution_count": null
  },
  {
   "outputs": [],
   "cell_type": "markdown",
   "source": [
    "then `σ`:"
   ],
   "metadata": {}
  },
  {
   "outputs": [],
   "cell_type": "code",
   "source": [
    "posterior_σ = mean(last, posterior)"
   ],
   "metadata": {},
   "execution_count": null
  },
  {
   "outputs": [],
   "cell_type": "markdown",
   "source": [
    "Effective sample sizes (of untransformed draws)"
   ],
   "metadata": {}
  },
  {
   "outputs": [],
   "cell_type": "code",
   "source": [
    "ess = mapslices(effective_sample_size,\n",
    "                get_position_matrix(chain); dims = 1)\n",
    "# NUTS-specific statistics\n",
    "NUTS_statistics(chain)"
   ],
   "metadata": {},
   "execution_count": null
  },
  {
   "outputs": [],
   "cell_type": "markdown",
   "source": [
    "cmdstan result"
   ],
   "metadata": {}
  },
  {
   "outputs": [],
   "cell_type": "code",
   "source": [
    "cmdstan_result = \"\n",
    "Iterations = 1:1000\n",
    "Thinning interval = 1\n",
    "Chains = 1,2,3,4\n",
    "Samples per chain = 1000\n",
    "\n",
    "Empirical Posterior Estimates:\n",
    "          Mean        SD       Naive SE       MCSE      ESS\n",
    "    a  9.69137275 0.21507432 0.0034006235 0.0038501180 1000\n",
    "   bA -1.12184710 0.29039965 0.0045916216 0.0053055477 1000\n",
    "   bM -0.12106472 0.28705400 0.0045387223 0.0051444688 1000\n",
    "sigma  1.52326545 0.16272599 0.0025729239 0.0034436330 1000\n",
    "\n",
    "Quantiles:\n",
    "         2.5%       25.0%      50.0%      75.0%       97.5%\n",
    "    a  9.2694878  9.5497650  9.6906850  9.83227750 10.11643500\n",
    "   bA -1.6852295 -1.3167700 -1.1254650 -0.92889225 -0.53389157\n",
    "   bM -0.6889247 -0.3151695 -0.1231065  0.07218513  0.45527243\n",
    "sigma  1.2421182  1.4125950  1.5107700  1.61579000  1.89891925\n",
    "\";"
   ],
   "metadata": {},
   "execution_count": null
  },
  {
   "outputs": [],
   "cell_type": "markdown",
   "source": [
    "Extract the parameter posterior means: `[β, σ]`,"
   ],
   "metadata": {}
  },
  {
   "outputs": [],
   "cell_type": "code",
   "source": [
    "[posterior_β, posterior_σ]"
   ],
   "metadata": {},
   "execution_count": null
  },
  {
   "outputs": [],
   "cell_type": "markdown",
   "source": [
    "end of m4.5d.jl#-\n",
    "*This notebook was generated using [Literate.jl](https://github.com/fredrikekre/Literate.jl).*"
   ],
   "metadata": {}
  }
 ],
 "nbformat_minor": 3,
 "metadata": {
  "language_info": {
   "file_extension": ".jl",
   "mimetype": "application/julia",
   "name": "julia",
   "version": "1.2.0-DEV.245"
  },
  "kernelspec": {
   "name": "julia-1.2",
   "display_name": "Julia 1.2.0-DEV.245",
   "language": "julia"
  }
 },
 "nbformat": 4
}
