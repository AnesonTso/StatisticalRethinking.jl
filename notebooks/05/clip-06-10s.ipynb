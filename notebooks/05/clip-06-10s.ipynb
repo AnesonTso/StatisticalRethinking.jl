{
 "cells": [
  {
   "outputs": [],
   "cell_type": "markdown",
   "source": [
    "Load Julia packages (libraries) needed  for the snippets in chapter 0"
   ],
   "metadata": {}
  },
  {
   "outputs": [
    {
     "name": "stdout",
     "output_type": "stream",
     "text": [
      "┌ Info: Recompiling stale cache file /Users/rob/.julia/compiled/v1.3/StanModels/PqEyX.ji for StanModels [fb740163-aa3c-59c1-9c12-c3f890714cde]\n",
      "└ @ Base loading.jl:1240\n"
     ]
    }
   ],
   "cell_type": "code",
   "source": [
    "using StanModels"
   ],
   "metadata": {},
   "execution_count": 1
  },
  {
   "outputs": [],
   "cell_type": "markdown",
   "source": [
    "CmdStan uses a tmp directory to store the output of cmdstan"
   ],
   "metadata": {}
  },
  {
   "outputs": [],
   "cell_type": "code",
   "source": [
    "ProjDir = rel_path_s(\"..\", \"scripts\", \"05\")\n",
    "cd(ProjDir)"
   ],
   "metadata": {},
   "execution_count": 2
  },
  {
   "outputs": [],
   "cell_type": "markdown",
   "source": [
    "### snippet 5.1"
   ],
   "metadata": {}
  },
  {
   "outputs": [
    {
     "name": "stdout",
     "output_type": "stream",
     "text": [
      "┌ Warning: `getindex(df::DataFrame, col_ind::ColumnIndex)` is deprecated, use `df[!, col_ind]` instead.\n",
      "│   caller = top-level scope at string:4\n",
      "└ @ Core string:4\n",
      "┌ Warning: `getindex(df::DataFrame, col_ind::ColumnIndex)` is deprecated, use `df[!, col_ind]` instead.\n",
      "│   caller = top-level scope at string:5\n",
      "└ @ Core string:5\n",
      "┌ Warning: `getindex(df::DataFrame, col_ind::ColumnIndex)` is deprecated, use `df[!, col_ind]` instead.\n",
      "│   caller = top-level scope at string:5\n",
      "└ @ Core string:5\n",
      "┌ Warning: `setindex!(df::DataFrame, v::AbstractVector, col_ind::ColumnIndex)` is deprecated, use `begin\n",
      "│     df[!, col_ind] = v\n",
      "│     df\n",
      "│ end` instead.\n",
      "│   caller = top-level scope at string:5\n",
      "└ @ Core string:5\n",
      "┌ Warning: `getindex(df::DataFrame, col_ind::ColumnIndex)` is deprecated, use `df[!, col_ind]` instead.\n",
      "│   caller = top-level scope at string:8\n",
      "└ @ Core string:8\n",
      "┌ Warning: `getindex(df::DataFrame, col_ind::ColumnIndex)` is deprecated, use `df[!, col_ind]` instead.\n",
      "│   caller = top-level scope at string:9\n",
      "└ @ Core string:9\n",
      "┌ Warning: `getindex(df::DataFrame, col_ind::ColumnIndex)` is deprecated, use `df[!, col_ind]` instead.\n",
      "│   caller = top-level scope at string:9\n",
      "└ @ Core string:9\n",
      "┌ Warning: `setindex!(df::DataFrame, v::AbstractVector, col_ind::ColumnIndex)` is deprecated, use `begin\n",
      "│     df[!, col_ind] = v\n",
      "│     df\n",
      "│ end` instead.\n",
      "│   caller = top-level scope at string:9\n",
      "└ @ Core string:9\n"
     ]
    },
    {
     "output_type": "execute_result",
     "data": {
      "text/plain": "\"\\n    Location Divorce  Marriage.s MedianAgeMarriage.s\\n1    Alabama    12.7  0.02264406          -0.6062895\\n2     Alaska    12.5  1.54980162          -0.6866993\\n3    Arizona    10.8  0.04897436          -0.2042408\\n4   Arkansas    13.5  1.65512283          -1.4103870\\n5 California     8.0 -0.26698927           0.5998567\\n\""
     },
     "metadata": {},
     "execution_count": 3
    }
   ],
   "cell_type": "code",
   "source": [
    "wd = CSV.read(rel_path(\"..\", \"data\", \"WaffleDivorce.csv\"), delim=';')\n",
    "df = convert(DataFrame, wd);\n",
    "\n",
    "mean_ma = mean(df[:Marriage])\n",
    "df[:Marriage_s] = convert(Vector{Float64},\n",
    "  (df[:Marriage]) .- mean_ma)/std(df[:Marriage]);\n",
    "\n",
    "mean_mam = mean(df[:MedianAgeMarriage])\n",
    "df[:MedianAgeMarriage_s] = convert(Vector{Float64},\n",
    "  (df[:MedianAgeMarriage]) .- mean_mam)/std(df[:MedianAgeMarriage]);\n",
    "\n",
    "df[1:6, [1, 7, 14, 15]]\n",
    "\n",
    "rethinking_data = \"\n",
    "    Location Divorce  Marriage.s MedianAgeMarriage.s\n",
    "1    Alabama    12.7  0.02264406          -0.6062895\n",
    "2     Alaska    12.5  1.54980162          -0.6866993\n",
    "3    Arizona    10.8  0.04897436          -0.2042408\n",
    "4   Arkansas    13.5  1.65512283          -1.4103870\n",
    "5 California     8.0 -0.26698927           0.5998567\n",
    "\""
   ],
   "metadata": {},
   "execution_count": 3
  },
  {
   "outputs": [],
   "cell_type": "markdown",
   "source": [
    "Define the Stan language model"
   ],
   "metadata": {}
  },
  {
   "outputs": [],
   "cell_type": "code",
   "source": [
    "m5_3 = \"\n",
    "data {\n",
    "  int N;\n",
    "  vector[N] divorce;\n",
    "  vector[N] marriage_z;\n",
    "  vector[N] median_age_z;\n",
    "}\n",
    "parameters {\n",
    "  real a;\n",
    "  real bA;\n",
    "  real bM;\n",
    "  real<lower=0> sigma;\n",
    "}\n",
    "model {\n",
    "  vector[N] mu = a + median_age_z * bA + marriage_z * bM;\n",
    "  sigma ~ uniform( 0 , 10 );\n",
    "  bA ~ normal( 0 , 1 );\n",
    "  bM ~ normal( 0 , 1 );\n",
    "  a ~ normal( 10 , 10 );\n",
    "  divorce ~ normal( mu , sigma );\n",
    "}\n",
    "\";"
   ],
   "metadata": {},
   "execution_count": 4
  },
  {
   "outputs": [],
   "cell_type": "markdown",
   "source": [
    "Define the Stanmodel and set the output format to :mcmcchains."
   ],
   "metadata": {}
  },
  {
   "outputs": [],
   "cell_type": "code",
   "source": [
    "stanmodel = Stanmodel(name=\"m5_3\",\n",
    "monitors = [\"a\", \"bA\", \"bM\", \"sigma\", \"Divorce\"],\n",
    " model=m5_3, output_format=:mcmcchains);"
   ],
   "metadata": {},
   "execution_count": 5
  },
  {
   "outputs": [],
   "cell_type": "markdown",
   "source": [
    "Input data for cmdstan"
   ],
   "metadata": {}
  },
  {
   "outputs": [
    {
     "name": "stdout",
     "output_type": "stream",
     "text": [
      "┌ Warning: `getindex(df::DataFrame, col_ind::ColumnIndex)` is deprecated, use `df[!, col_ind]` instead.\n",
      "│   caller = top-level scope at string:1\n",
      "└ @ Core string:1\n",
      "┌ Warning: `getindex(df::DataFrame, col_ind::ColumnIndex)` is deprecated, use `df[!, col_ind]` instead.\n",
      "│   caller = top-level scope at string:1\n",
      "└ @ Core string:1\n",
      "┌ Warning: `getindex(df::DataFrame, col_ind::ColumnIndex)` is deprecated, use `df[!, col_ind]` instead.\n",
      "│   caller = top-level scope at string:1\n",
      "└ @ Core string:1\n"
     ]
    }
   ],
   "cell_type": "code",
   "source": [
    "m5_3_data = Dict(\"N\" => size(df, 1), \"divorce\" => df[:Divorce],\n",
    "    \"marriage_z\" => df[:Marriage_s], \"median_age_z\" => df[:MedianAgeMarriage_s]);"
   ],
   "metadata": {},
   "execution_count": 6
  },
  {
   "outputs": [],
   "cell_type": "markdown",
   "source": [
    "Sample using cmdstan"
   ],
   "metadata": {}
  },
  {
   "outputs": [
    {
     "name": "stdout",
     "output_type": "stream",
     "text": [
      "Inference for Stan model: m5_3_model\n",
      "4 chains: each with iter=(1000,1000,1000,1000); warmup=(0,0,0,0); thin=(1,1,1,1); 4000 iterations saved.\n",
      "\n",
      "Warmup took (0.099, 0.12, 0.096, 0.13) seconds, 0.45 seconds total\n",
      "Sampling took (0.11, 0.096, 0.11, 0.097) seconds, 0.41 seconds total\n",
      "\n",
      "                 Mean     MCSE  StdDev     5%    50%    95%    N_Eff  N_Eff/s    R_hat\n",
      "lp__              -46  3.6e-02     1.5    -49    -45    -44  1.7e+03  4.2e+03  1.0e+00\n",
      "accept_stat__    0.91  1.6e-03    0.11   0.68   0.95    1.0  4.6e+03  1.1e+04  1.0e+00\n",
      "stepsize__       0.57  4.1e-02   0.059   0.49   0.62   0.63  2.0e+00  4.9e+00  5.1e+13\n",
      "treedepth__       2.6  1.1e-02    0.54    2.0    3.0    3.0  2.4e+03  5.9e+03  1.0e+00\n",
      "n_leapfrog__      6.6  6.1e-02     3.2    3.0    7.0     15  2.8e+03  6.7e+03  1.0e+00\n",
      "divergent__      0.00      nan    0.00   0.00   0.00   0.00      nan      nan      nan\n",
      "energy__           48  5.3e-02     2.1     45     47     51  1.5e+03  3.7e+03  1.0e+00\n",
      "a                 9.7  3.6e-03    0.22    9.3    9.7     10  3.6e+03  8.7e+03  1.0e+00\n",
      "bA               -1.1  6.0e-03    0.30   -1.6   -1.1  -0.64  2.5e+03  6.0e+03  1.0e+00\n",
      "bM              -0.13  5.9e-03    0.29  -0.60  -0.13   0.37  2.5e+03  6.1e+03  1.0e+00\n",
      "sigma             1.5  2.9e-03    0.17    1.3    1.5    1.8  3.3e+03  8.0e+03  1.0e+00\n",
      "\n",
      "Samples were drawn using hmc with nuts.\n",
      "For each parameter, N_Eff is a crude measure of effective sample size,\n",
      "and R_hat is the potential scale reduction factor on split chains (at \n",
      "convergence, R_hat=1).\n",
      "\n"
     ]
    }
   ],
   "cell_type": "code",
   "source": [
    "rc, chn, cnames = stan(stanmodel, m5_3_data, ProjDir, diagnostics=false,\n",
    "  CmdStanDir=CMDSTAN_HOME);"
   ],
   "metadata": {},
   "execution_count": 7
  },
  {
   "outputs": [],
   "cell_type": "markdown",
   "source": [
    "Describe the draws"
   ],
   "metadata": {}
  },
  {
   "outputs": [
    {
     "output_type": "execute_result",
     "data": {
      "text/plain": "2-element Array{ChainDataFrame,1}\n\nSummary Statistics\n. Omitted printing of 1 columns\n│ Row │ parameters │ mean      │ std      │ naive_se   │ mcse       │ ess     │\n│     │ \u001b[90mSymbol\u001b[39m     │ \u001b[90mFloat64\u001b[39m   │ \u001b[90mFloat64\u001b[39m  │ \u001b[90mFloat64\u001b[39m    │ \u001b[90mFloat64\u001b[39m    │ \u001b[90mAny\u001b[39m     │\n├─────┼────────────┼───────────┼──────────┼────────────┼────────────┼─────────┤\n│ 1   │ a          │ 9.68947   │ 0.218022 │ 0.00344723 │ 0.00336669 │ 3618.59 │\n│ 2   │ bA         │ -1.13074  │ 0.296348 │ 0.00468567 │ 0.00610677 │ 2381.04 │\n│ 3   │ bM         │ -0.128037 │ 0.293983 │ 0.00464829 │ 0.00569468 │ 2361.29 │\n│ 4   │ sigma      │ 1.5252    │ 0.165029 │ 0.00260933 │ 0.00320929 │ 3271.49 │\n\nQuantiles\n\n│ Row │ parameters │ 2.5%      │ 25.0%     │ 50.0%    │ 75.0%     │ 97.5%     │\n│     │ \u001b[90mSymbol\u001b[39m     │ \u001b[90mFloat64\u001b[39m   │ \u001b[90mFloat64\u001b[39m   │ \u001b[90mFloat64\u001b[39m  │ \u001b[90mFloat64\u001b[39m   │ \u001b[90mFloat64\u001b[39m   │\n├─────┼────────────┼───────────┼───────────┼──────────┼───────────┼───────────┤\n│ 1   │ a          │ 9.26801   │ 9.54248   │ 9.69135  │ 9.8331    │ 10.1226   │\n│ 2   │ bA         │ -1.70773  │ -1.33282  │ -1.13484 │ -0.937258 │ -0.524298 │\n│ 3   │ bM         │ -0.688021 │ -0.328933 │ -0.13419 │ 0.0694645 │ 0.476851  │\n│ 4   │ sigma      │ 1.24342   │ 1.41084   │ 1.51011  │ 1.62566   │ 1.88962   │\n"
     },
     "metadata": {},
     "execution_count": 8
    }
   ],
   "cell_type": "code",
   "source": [
    "describe(chn)"
   ],
   "metadata": {},
   "execution_count": 8
  },
  {
   "outputs": [],
   "cell_type": "markdown",
   "source": [
    "Rethinking results"
   ],
   "metadata": {}
  },
  {
   "outputs": [
    {
     "output_type": "execute_result",
     "data": {
      "text/plain": "\"\\n       mean   sd  5.5% 94.5% n_eff Rhat\\na      9.69 0.22  9.34 10.03  1313    1\\nbR    -0.12 0.30 -0.60  0.35   932    1\\nbA    -1.13 0.29 -1.56 -0.67   994    1\\nsigma  1.53 0.16  1.28  1.80  1121    1\\n\""
     },
     "metadata": {},
     "execution_count": 9
    }
   ],
   "cell_type": "code",
   "source": [
    "rethinking_results = \"\n",
    "       mean   sd  5.5% 94.5% n_eff Rhat\n",
    "a      9.69 0.22  9.34 10.03  1313    1\n",
    "bR    -0.12 0.30 -0.60  0.35   932    1\n",
    "bA    -1.13 0.29 -1.56 -0.67   994    1\n",
    "sigma  1.53 0.16  1.28  1.80  1121    1\n",
    "\""
   ],
   "metadata": {},
   "execution_count": 9
  },
  {
   "outputs": [],
   "cell_type": "markdown",
   "source": [
    "End of `05/5.3s.jl`"
   ],
   "metadata": {}
  },
  {
   "outputs": [],
   "cell_type": "markdown",
   "source": [
    "*This notebook was generated using [Literate.jl](https://github.com/fredrikekre/Literate.jl).*"
   ],
   "metadata": {}
  }
 ],
 "nbformat_minor": 3,
 "metadata": {
  "language_info": {
   "file_extension": ".jl",
   "mimetype": "application/julia",
   "name": "julia",
   "version": "1.3.0-DEV.565"
  },
  "kernelspec": {
   "name": "julia-1.3",
   "display_name": "Julia 1.3.0-DEV.565",
   "language": "julia"
  }
 },
 "nbformat": 4
}
