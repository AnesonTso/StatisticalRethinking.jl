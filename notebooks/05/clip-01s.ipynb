{
 "cells": [
  {
   "outputs": [],
   "cell_type": "markdown",
   "source": [
    "Load Julia packages (libraries) needed  for the snippets in chapter 0"
   ],
   "metadata": {}
  },
  {
   "outputs": [],
   "cell_type": "code",
   "source": [
    "using StatisticalRethinking\n",
    "using CmdStan, StanMCMCChain\n",
    "gr(size=(500,500));"
   ],
   "metadata": {},
   "execution_count": null
  },
  {
   "outputs": [],
   "cell_type": "markdown",
   "source": [
    "CmdStan uses a tmp directory to store the output of cmdstan"
   ],
   "metadata": {}
  },
  {
   "outputs": [],
   "cell_type": "code",
   "source": [
    "ProjDir = rel_path(\"..\", \"chapters\", \"05\")\n",
    "cd(ProjDir)"
   ],
   "metadata": {},
   "execution_count": null
  },
  {
   "outputs": [],
   "cell_type": "markdown",
   "source": [
    "### snippet 5.1"
   ],
   "metadata": {}
  },
  {
   "outputs": [],
   "cell_type": "code",
   "source": [
    "wd = CSV.read(joinpath(dirname(Base.pathof(StatisticalRethinking)), \"..\",\n",
    "  \"data\", \"WaffleDivorce.csv\"), delim=';')\n",
    "df = convert(DataFrame, wd);\n",
    "mean_ma = mean(df[:MedianAgeMarriage])\n",
    "df[:MedianAgeMarriage] = convert(Vector{Float64},\n",
    "  df[:MedianAgeMarriage]) .- mean_ma;\n",
    "# Define the Stan language model\n",
    "ad_model = \"\n",
    "data {\n",
    " int < lower = 1 > N; // Sample size\n",
    " vector[N] divorce; // Predictor\n",
    " vector[N] median_age; // Outcome\n",
    "}\n",
    "\n",
    "parameters {\n",
    " real a; // Intercept\n",
    " real bA; // Slope (regression coefficients)\n",
    " real < lower = 0 > sigma; // Error SD\n",
    "}\n",
    "\n",
    "transformed parameters {\n",
    "  vector[N] mu; // Intermediate mu\n",
    "  for (i in 1:N)\n",
    "    mu[i] = a + bA*median_age[i];\n",
    "}\n",
    "\n",
    "model {\n",
    "  # priors\n",
    "  a ~ normal(10, 10);\n",
    "  bA ~ normal(0, 1);\n",
    "  sigma ~ uniform(0, 10);\n",
    "  # model\n",
    "  divorce ~ normal(mu , sigma);\n",
    "}\n",
    "\n",
    "generated quantities {\n",
    "}\n",
    "\";"
   ],
   "metadata": {},
   "execution_count": null
  },
  {
   "outputs": [],
   "cell_type": "markdown",
   "source": [
    "Define the Stanmodel and set the output format to :mcmcchain."
   ],
   "metadata": {}
  },
  {
   "outputs": [],
   "cell_type": "code",
   "source": [
    "stanmodel = Stanmodel(name=\"MedianAgeDivorce\", monitors = [\"a\", \"bA\", \"sigma\"],\n",
    "  model=ad_model, output_format=:mcmcchain);\n",
    "# Input data for cmdstan\n",
    "maddata = Dict(\"N\" => length(df[:Divorce]), \"divorce\" => df[:Divorce],\n",
    "    \"median_age\" => df[:MedianAgeMarriage]);\n",
    "# Sample using cmdstan\n",
    "rc, chn, cnames = stan(stanmodel, maddata, ProjDir, diagnostics=false,\n",
    "  CmdStanDir=CMDSTAN_HOME);\n",
    "# Describe the draws\n",
    "describe(chn)"
   ],
   "metadata": {},
   "execution_count": null
  },
  {
   "outputs": [],
   "cell_type": "markdown",
   "source": [
    "Plot the density of posterior draws"
   ],
   "metadata": {}
  },
  {
   "outputs": [],
   "cell_type": "code",
   "source": [
    "plot(chn)"
   ],
   "metadata": {},
   "execution_count": null
  },
  {
   "outputs": [],
   "cell_type": "markdown",
   "source": [
    "Plot regression line using means and observations"
   ],
   "metadata": {}
  },
  {
   "outputs": [],
   "cell_type": "code",
   "source": [
    "xi = -3.0:0.1:3.0\n",
    "rws, vars, chns = size(chn[:, 1, :])\n",
    "alpha_vals = convert(Vector{Float64}, reshape(chn.value[:, 1, :], (rws*chns)))\n",
    "beta_vals = convert(Vector{Float64}, reshape(chn.value[:, 2, :], (rws*chns)))\n",
    "yi = mean(alpha_vals) .+ mean(beta_vals)*xi\n",
    "\n",
    "scatter(df[:MedianAgeMarriage], df[:Divorce], lab=\"Observations\",\n",
    "  xlab=\"Median age of marriage\", ylab=\"divorce\")\n",
    "plot!(xi, yi, lab=\"Regression line\")"
   ],
   "metadata": {},
   "execution_count": null
  },
  {
   "outputs": [],
   "cell_type": "markdown",
   "source": [
    "Plot estimates using the N = [10, 50, 150, 352] observations"
   ],
   "metadata": {}
  },
  {
   "outputs": [],
   "cell_type": "code",
   "source": [
    "p = Vector{Plots.Plot{Plots.GRBackend}}(undef, 4)\n",
    "nvals = [10, 20, 35, 50]\n",
    "\n",
    "for i in 1:length(nvals)\n",
    "  N = nvals[i]\n",
    "  maddataN = Dict(\"N\" => N, \"divorce\" => df[1:N, :Divorce],\n",
    "      \"median_age\" => df[1:N, :MedianAgeMarriage]);\n",
    "  rc, chnN, cnames = stan(stanmodel, maddataN, ProjDir, diagnostics=false,\n",
    "    summary=false, CmdStanDir=CMDSTAN_HOME)\n",
    "\n",
    "  xi = -3.0:0.1:3.0\n",
    "  rws, vars, chns = size(chnN[:, 1, :])\n",
    "  alpha_vals = convert(Vector{Float64}, reshape(chnN.value[:, 1, :], (rws*chns)))\n",
    "  beta_vals = convert(Vector{Float64}, reshape(chnN.value[:, 2, :], (rws*chns)))\n",
    "\n",
    "  p[i] = scatter(df[1:N, :MedianAgeMarriage], df[1:N, :Divorce],\n",
    "    leg=false, xlab=\"Median age of marriage\")\n",
    "  for j in 1:N\n",
    "    yi = alpha_vals[j] .+ beta_vals[j]*xi\n",
    "    plot!(p[i], xi, yi, title=\"N = $N\")\n",
    "  end\n",
    "end\n",
    "plot(p..., layout=(2, 2))"
   ],
   "metadata": {},
   "execution_count": null
  },
  {
   "outputs": [],
   "cell_type": "markdown",
   "source": [
    "End of `05/clip_01s.jl`"
   ],
   "metadata": {}
  },
  {
   "outputs": [],
   "cell_type": "markdown",
   "source": [
    "*This notebook was generated using [Literate.jl](https://github.com/fredrikekre/Literate.jl).*"
   ],
   "metadata": {}
  }
 ],
 "nbformat_minor": 3,
 "metadata": {
  "language_info": {
   "file_extension": ".jl",
   "mimetype": "application/julia",
   "name": "julia",
   "version": "1.2.0-DEV.93"
  },
  "kernelspec": {
   "name": "julia-1.2",
   "display_name": "Julia 1.2.0-DEV.93",
   "language": "julia"
  }
 },
 "nbformat": 4
}
