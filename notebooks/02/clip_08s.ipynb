{
 "cells": [
  {
   "outputs": [],
   "cell_type": "markdown",
   "source": [
    "Load Julia packages (libraries) needed"
   ],
   "metadata": {}
  },
  {
   "outputs": [],
   "cell_type": "code",
   "source": [
    "using CmdStan, StanMCMCChain, MCMCChain, Distributions, Statistics, StatPlots, Plots\n",
    "gr(size=(500,800))"
   ],
   "metadata": {},
   "execution_count": null
  },
  {
   "outputs": [],
   "cell_type": "markdown",
   "source": [
    "CmdStan uses a tmp directory to store the output of cmdstan"
   ],
   "metadata": {}
  },
  {
   "outputs": [],
   "cell_type": "code",
   "source": [
    "ProjDir = @__DIR__\n",
    "cd(ProjDir) do\n",
    "# Define the Stan language model\n",
    "  binomialstanmodel = \"\n",
    "  // Inferring a Rate\n",
    "  data {\n",
    "    int N;\n",
    "    int<lower=0> k[N];\n",
    "    int<lower=1> n[N];\n",
    "  }\n",
    "  parameters {\n",
    "    real<lower=0,upper=1> theta;\n",
    "    real<lower=0,upper=1> thetaprior;\n",
    "  }\n",
    "  model {\n",
    "    // Prior Distribution for Rate Theta\n",
    "    theta ~ beta(1, 1);\n",
    "    thetaprior ~ beta(1, 1);\n",
    "\n",
    "    // Observed Counts\n",
    "    k ~ binomial(n, theta);\n",
    "  }\n",
    "  \"\n",
    "# Make variables visible outisde the do loop\n",
    "  global stanmodel, chn, sim, binomialdata, hpd_array\n",
    "# Define the Stanmodel and set the output format to :mcmcchain.\n",
    "  stanmodel = Stanmodel(name=\"binomial\", monitors = [\"theta\"], model=binomialstanmodel,\n",
    "    output_format=:mcmcchain)\n",
    "# Make 5 cmdstan runs using 1, 4, 16, 64 and 256 data points to compare hpd regions\n",
    "  hpd_array = Vector{MCMCChain.ChainSummary}(undef, 5)\n",
    "\n",
    "  for j in 0:4\n",
    "\n",
    "    N2 = 4^j\n",
    "    d = Binomial(9, 0.66)\n",
    "    n2 = Int.(9 * ones(Int, N2))\n",
    "    #k2 = Int.(6 * ones(Int, N2))\n",
    "    k2 = rand(d, N2)\n",
    "# Input data for cmdstan\n",
    "    binomialdata = [\n",
    "      Dict(\"N\" => length(n2), \"n\" => n2, \"k\" => k2)\n",
    "    ]\n",
    "# Sample using cmdstan\n",
    "    rc, chn, cnames = stan(stanmodel, binomialdata, ProjDir, diagnostics=false,\n",
    "      CmdStanDir=CMDSTAN_HOME)\n",
    "\n",
    "    if rc == 0\n",
    "      println()\n",
    "      p = Vector{Plots.Plot{Plots.GRBackend}}(undef, 4)\n",
    "      x = 0:0.001:1\n",
    "      for i in 1:4\n",
    "        vals = convert.(Float64, chn.value[:, 1, i])\n",
    "        @show res = fit_mle(Normal, vals)\n",
    "        μ = round(res.μ, digits=2)\n",
    "        σ = round(res.σ, digits=2)\n",
    "        p[i] = density(vals, lab=\"Chain $i density\", title=\"$(N2) data points\")\n",
    "        plot!(p[i], x, pdf.(Normal(res.μ, res.σ), x), lab=\"Fitted Normal($μ, $σ)\")\n",
    "      end\n",
    "      plot(p..., layout=(4, 1))\n",
    "    end\n",
    "\n",
    "    println()\n",
    "    display(binomialdata)\n",
    "    describe(chn)\n",
    "    hpd_array[j+1] = MCMCChain.hpd(chn)\n",
    "  end\n",
    "\n",
    "end # cd"
   ],
   "metadata": {},
   "execution_count": null
  },
  {
   "outputs": [],
   "cell_type": "markdown",
   "source": [
    "Show the hpd intervals"
   ],
   "metadata": {}
  },
  {
   "outputs": [],
   "cell_type": "code",
   "source": [
    "hpd_array#-"
   ],
   "metadata": {},
   "execution_count": null
  },
  {
   "outputs": [],
   "cell_type": "markdown",
   "source": [
    "*This notebook was generated using [Literate.jl](https://github.com/fredrikekre/Literate.jl).*"
   ],
   "metadata": {}
  }
 ],
 "nbformat_minor": 3,
 "metadata": {
  "language_info": {
   "file_extension": ".jl",
   "mimetype": "application/julia",
   "name": "julia",
   "version": "1.1.0-DEV.855"
  },
  "kernelspec": {
   "name": "julia-1.1",
   "display_name": "Julia 1.1.0-DEV.855",
   "language": "julia"
  }
 },
 "nbformat": 4
}
