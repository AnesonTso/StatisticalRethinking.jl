{
 "cells": [
  {
   "outputs": [],
   "cell_type": "markdown",
   "source": [
    "# Estimate Binomial draw probabilility"
   ],
   "metadata": {}
  },
  {
   "outputs": [
    {
     "name": "stdout",
     "output_type": "stream",
     "text": [
      "┌ Info: Recompiling stale cache file /Users/rob/.julia/compiled/v1.2/DynamicHMC/iPqvI.ji for DynamicHMC [bbc10e6e-7c05-544b-b16e-64fede858acb]\n",
      "└ @ Base loading.jl:1187\n",
      "┌ Info: Recompiling stale cache file /Users/rob/.julia/compiled/v1.2/MCMCDiagnostics/kMBOZ.ji for MCMCDiagnostics [6e857e4b-079a-58c4-aeab-bc2670384359]\n",
      "└ @ Base loading.jl:1187\n"
     ]
    }
   ],
   "cell_type": "code",
   "source": [
    "using StatisticalRethinking\n",
    "using DynamicHMC, TransformVariables, LogDensityProblems, MCMCDiagnostics\n",
    "using Parameters, ForwardDiff"
   ],
   "metadata": {},
   "execution_count": 1
  },
  {
   "outputs": [],
   "cell_type": "markdown",
   "source": [
    "Define a structure to hold the data."
   ],
   "metadata": {}
  },
  {
   "outputs": [],
   "cell_type": "code",
   "source": [
    "struct BernoulliProblem\n",
    "    \"Total number of draws in the data.\"\n",
    "    n::Int\n",
    "    \"Number of draws `==1` in the data\"\n",
    "    s::Vector{Int}\n",
    "end;"
   ],
   "metadata": {},
   "execution_count": 2
  },
  {
   "outputs": [],
   "cell_type": "markdown",
   "source": [
    "Make the type callable with the parameters *as a single argument*."
   ],
   "metadata": {}
  },
  {
   "outputs": [],
   "cell_type": "code",
   "source": [
    "function (problem::BernoulliProblem)((α, )::NamedTuple{(:α, )})\n",
    "    @unpack n, s = problem        # extract the data\n",
    "    loglikelihood(Binomial(n, α), s)\n",
    "end"
   ],
   "metadata": {},
   "execution_count": 3
  },
  {
   "outputs": [],
   "cell_type": "markdown",
   "source": [
    "Create the data and complete setting up the problem."
   ],
   "metadata": {}
  },
  {
   "outputs": [
    {
     "output_type": "execute_result",
     "data": {
      "text/plain": "-1.8075078261961934"
     },
     "metadata": {},
     "execution_count": 4
    }
   ],
   "cell_type": "code",
   "source": [
    "obs = rand(Binomial(9, 2/3), 1)\n",
    "p = BernoulliProblem(9, obs)\n",
    "p((α = 0.5, ))"
   ],
   "metadata": {},
   "execution_count": 4
  },
  {
   "outputs": [],
   "cell_type": "markdown",
   "source": [
    "Write a function to return properly dimensioned transformation."
   ],
   "metadata": {}
  },
  {
   "outputs": [],
   "cell_type": "code",
   "source": [
    "problem_transformation(p::BernoulliProblem) =\n",
    "    as((α = as𝕀, ),  )\n",
    "# Use a flat priors (the default, omitted) for α\n",
    "P = TransformedLogDensity(problem_transformation(p), p)\n",
    "∇P = LogDensityRejectErrors(ADgradient(:ForwardDiff, P));"
   ],
   "metadata": {},
   "execution_count": 5
  },
  {
   "outputs": [],
   "cell_type": "markdown",
   "source": [
    "Sample"
   ],
   "metadata": {}
  },
  {
   "outputs": [
    {
     "name": "stdout",
     "output_type": "stream",
     "text": [
      "MCMC, adapting ϵ (75 steps)\n",
      "0.0011 s/step ...done\n",
      "MCMC, adapting ϵ (25 steps)\n",
      "1.2e-5 s/step ...done\n",
      "MCMC, adapting ϵ (50 steps)\n",
      "0.0024 s/step ...done\n",
      "MCMC, adapting ϵ (100 steps)\n",
      "0.00012 s/step ...done\n",
      "MCMC, adapting ϵ (200 steps)\n",
      "4.1e-5 s/step ...done\n",
      "MCMC, adapting ϵ (400 steps)\n",
      "8.5e-6 s/step ...done\n",
      "MCMC, adapting ϵ (50 steps)\n",
      "8.3e-6 s/step ...done\n",
      "MCMC (1000 steps)\n",
      "7.5e-6 s/step ...done\n"
     ]
    },
    {
     "output_type": "execute_result",
     "data": {
      "text/plain": "(DynamicHMC.NUTS_Transition{Array{Float64,1},Float64}[NUTS_Transition{Array{Float64,1},Float64}([0.591686], -2.83803, 2, DoubledTurn, 1.0, 3), NUTS_Transition{Array{Float64,1},Float64}([0.901785], -2.98418, 2, DoubledTurn, 0.970222, 3), NUTS_Transition{Array{Float64,1},Float64}([1.15543], -3.20483, 1, DoubledTurn, 0.935863, 1), NUTS_Transition{Array{Float64,1},Float64}([0.633432], -5.15664, 2, DoubledTurn, 0.762095, 3), NUTS_Transition{Array{Float64,1},Float64}([0.582984], -2.90947, 2, DoubledTurn, 0.978438, 3), NUTS_Transition{Array{Float64,1},Float64}([0.582984], -4.32321, 1, AdjacentTurn, 0.62261, 3), NUTS_Transition{Array{Float64,1},Float64}([1.42542], -3.85463, 1, AdjacentTurn, 0.790877, 3), NUTS_Transition{Array{Float64,1},Float64}([1.54719], -4.00617, 2, DoubledTurn, 0.985768, 3), NUTS_Transition{Array{Float64,1},Float64}([0.832398], -4.02319, 2, DoubledTurn, 0.982958, 3), NUTS_Transition{Array{Float64,1},Float64}([1.02015], -3.03934, 1, DoubledTurn, 0.96005, 1)  …  NUTS_Transition{Array{Float64,1},Float64}([-0.18567], -4.4212, 1, DoubledTurn, 1.0, 1), NUTS_Transition{Array{Float64,1},Float64}([0.0620343], -3.43753, 1, DoubledTurn, 1.0, 1), NUTS_Transition{Array{Float64,1},Float64}([0.353136], -3.02569, 1, DoubledTurn, 1.0, 1), NUTS_Transition{Array{Float64,1},Float64}([1.07054], -3.10011, 2, DoubledTurn, 0.967698, 3), NUTS_Transition{Array{Float64,1},Float64}([-0.214348], -4.35948, 1, AdjacentTurn, 0.837127, 3), NUTS_Transition{Array{Float64,1},Float64}([0.128117], -3.4268, 1, DoubledTurn, 1.0, 1), NUTS_Transition{Array{Float64,1},Float64}([-0.5472], -4.42198, 1, AdjacentTurn, 0.730175, 3), NUTS_Transition{Array{Float64,1},Float64}([-0.300632], -4.41903, 1, DoubledTurn, 1.0, 1), NUTS_Transition{Array{Float64,1},Float64}([-0.161473], -3.83597, 2, DoubledTurn, 1.0, 3), NUTS_Transition{Array{Float64,1},Float64}([0.44455], -3.31037, 1, AdjacentTurn, 1.0, 3)], NUTS sampler in 1 dimensions\n  stepsize (ϵ) ≈ 1.08\n  maximum depth = 10\n  Gaussian kinetic energy, √diag(M⁻¹): [0.61026]\n)"
     },
     "metadata": {},
     "execution_count": 6
    }
   ],
   "cell_type": "code",
   "source": [
    "chain, NUTS_tuned = NUTS_init_tune_mcmc(∇P, 1000)"
   ],
   "metadata": {},
   "execution_count": 6
  },
  {
   "outputs": [],
   "cell_type": "markdown",
   "source": [
    "To get the posterior for ``α`` use `get_position` and then transform back."
   ],
   "metadata": {}
  },
  {
   "outputs": [],
   "cell_type": "code",
   "source": [
    "posterior = TransformVariables.transform.(Ref(problem_transformation(p)), get_position.(chain));"
   ],
   "metadata": {},
   "execution_count": 7
  },
  {
   "outputs": [],
   "cell_type": "markdown",
   "source": [
    "Extract the parameter."
   ],
   "metadata": {}
  },
  {
   "outputs": [],
   "cell_type": "code",
   "source": [
    "posterior_α = first.(posterior);"
   ],
   "metadata": {},
   "execution_count": 8
  },
  {
   "outputs": [],
   "cell_type": "markdown",
   "source": [
    "check the effective sample size"
   ],
   "metadata": {}
  },
  {
   "outputs": [
    {
     "output_type": "execute_result",
     "data": {
      "text/plain": "388.38844801259603"
     },
     "metadata": {},
     "execution_count": 9
    }
   ],
   "cell_type": "code",
   "source": [
    "ess_α = effective_sample_size(posterior_α)"
   ],
   "metadata": {},
   "execution_count": 9
  },
  {
   "outputs": [],
   "cell_type": "markdown",
   "source": [
    "NUTS-specific statistics"
   ],
   "metadata": {}
  },
  {
   "outputs": [
    {
     "output_type": "execute_result",
     "data": {
      "text/plain": "Hamiltonian Monte Carlo sample of length 1000\n  acceptance rate mean: 0.92, min/25%/median/75%/max: 0.29 0.89 0.97 1.0 1.0\n  termination: AdjacentTurn => 32% DoubledTurn => 68%\n  depth: 1 => 66% 2 => 34%\n"
     },
     "metadata": {},
     "execution_count": 10
    }
   ],
   "cell_type": "code",
   "source": [
    "NUTS_statistics(chain)"
   ],
   "metadata": {},
   "execution_count": 10
  },
  {
   "outputs": [],
   "cell_type": "markdown",
   "source": [
    "check the mean"
   ],
   "metadata": {}
  },
  {
   "outputs": [
    {
     "output_type": "execute_result",
     "data": {
      "text/plain": "0.640383411790054"
     },
     "metadata": {},
     "execution_count": 11
    }
   ],
   "cell_type": "code",
   "source": [
    "mean(posterior_α)"
   ],
   "metadata": {},
   "execution_count": 11
  },
  {
   "outputs": [],
   "cell_type": "markdown",
   "source": [
    "*This notebook was generated using [Literate.jl](https://github.com/fredrikekre/Literate.jl).*"
   ],
   "metadata": {}
  }
 ],
 "nbformat_minor": 3,
 "metadata": {
  "language_info": {
   "file_extension": ".jl",
   "mimetype": "application/julia",
   "name": "julia",
   "version": "1.2.0-DEV.270"
  },
  "kernelspec": {
   "name": "julia-1.2",
   "display_name": "Julia 1.2.0-DEV.270",
   "language": "julia"
  }
 },
 "nbformat": 4
}
