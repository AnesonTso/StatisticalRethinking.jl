{
 "cells": [
  {
   "outputs": [],
   "cell_type": "markdown",
   "source": [
    "# Estimate Binomial draw probabilility"
   ],
   "metadata": {}
  },
  {
   "outputs": [],
   "cell_type": "code",
   "source": [
    "using StatisticalRethinking\n",
    "using DynamicHMC, TransformVariables, LogDensityProblems, MCMCDiagnostics\n",
    "using Parameters, ForwardDiff"
   ],
   "metadata": {},
   "execution_count": 1
  },
  {
   "outputs": [],
   "cell_type": "markdown",
   "source": [
    "Define a structure to hold the data."
   ],
   "metadata": {}
  },
  {
   "outputs": [],
   "cell_type": "code",
   "source": [
    "struct BernoulliProblem\n",
    "    \"Total number of draws in the data.\"\n",
    "    n::Int\n",
    "    \"Number of draws `==1` in the data\"\n",
    "    s::Vector{Int}\n",
    "end;"
   ],
   "metadata": {},
   "execution_count": 2
  },
  {
   "outputs": [],
   "cell_type": "markdown",
   "source": [
    "Make the type callable with the parameters *as a single argument*."
   ],
   "metadata": {}
  },
  {
   "outputs": [],
   "cell_type": "code",
   "source": [
    "function (problem::BernoulliProblem)((α, )::NamedTuple{(:α, )})\n",
    "    @unpack n, s = problem        # extract the data\n",
    "    loglikelihood(Binomial(n, α), s)\n",
    "end"
   ],
   "metadata": {},
   "execution_count": 3
  },
  {
   "outputs": [],
   "cell_type": "markdown",
   "source": [
    "Create the data and complete setting up the problem."
   ],
   "metadata": {}
  },
  {
   "outputs": [
    {
     "output_type": "execute_result",
     "data": {
      "text/plain": "-2.6548056865833978"
     },
     "metadata": {},
     "execution_count": 4
    }
   ],
   "cell_type": "code",
   "source": [
    "obs = rand(Binomial(9, 2/3), 1)\n",
    "p = BernoulliProblem(9, obs)\n",
    "p((α = 0.5, ))"
   ],
   "metadata": {},
   "execution_count": 4
  },
  {
   "outputs": [],
   "cell_type": "markdown",
   "source": [
    "Use a flat priors (the default, omitted) for α"
   ],
   "metadata": {}
  },
  {
   "outputs": [],
   "cell_type": "code",
   "source": [
    "P = TransformedLogDensity(as((α = as𝕀,)), p)\n",
    "∇P = ADgradient(:ForwardDiff, P);"
   ],
   "metadata": {},
   "execution_count": 5
  },
  {
   "outputs": [],
   "cell_type": "markdown",
   "source": [
    "Sample"
   ],
   "metadata": {}
  },
  {
   "outputs": [
    {
     "name": "stdout",
     "output_type": "stream",
     "text": [
      "MCMC, adapting ϵ (75 steps)\n",
      "0.0011 s/step ...done\n",
      "MCMC, adapting ϵ (25 steps)\n",
      "6.8e-6 s/step ...done\n",
      "MCMC, adapting ϵ (50 steps)\n",
      "0.0027 s/step ...done\n",
      "MCMC, adapting ϵ (100 steps)\n",
      "1.3e-5 s/step ...done\n",
      "MCMC, adapting ϵ (200 steps)\n",
      "7.1e-6 s/step ...done\n",
      "MCMC, adapting ϵ (400 steps)\n",
      "1.2e-5 s/step ...done\n",
      "MCMC, adapting ϵ (50 steps)\n",
      "1.5e-5 s/step ...done\n",
      "MCMC (1000 steps)\n",
      "7.3e-6 s/step ...done\n"
     ]
    },
    {
     "output_type": "execute_result",
     "data": {
      "text/plain": "(DynamicHMC.NUTS_Transition{Array{Float64,1},Float64}[NUTS_Transition{Array{Float64,1},Float64}([1.00657], -3.38966, 2, DoubledTurn, 1.0, 3), NUTS_Transition{Array{Float64,1},Float64}([0.900219], -2.86914, 2, AdjacentTurn, 0.999272, 7), NUTS_Transition{Array{Float64,1},Float64}([0.160142], -3.84618, 1, AdjacentTurn, 0.851731, 3), NUTS_Transition{Array{Float64,1},Float64}([0.760105], -3.56315, 2, AdjacentTurn, 1.0, 7), NUTS_Transition{Array{Float64,1},Float64}([1.62986], -3.28392, 2, AdjacentTurn, 0.950921, 7), NUTS_Transition{Array{Float64,1},Float64}([1.74206], -3.44488, 1, DoubledTurn, 0.980677, 1), NUTS_Transition{Array{Float64,1},Float64}([1.35462], -4.34427, 2, DoubledTurn, 0.928081, 3), NUTS_Transition{Array{Float64,1},Float64}([0.7817], -2.99616, 2, AdjacentTurn, 0.99922, 7), NUTS_Transition{Array{Float64,1},Float64}([1.07517], -3.76806, 2, DoubledTurn, 0.88463, 3), NUTS_Transition{Array{Float64,1},Float64}([1.12476], -2.88413, 1, DoubledTurn, 0.997588, 1)  …  NUTS_Transition{Array{Float64,1},Float64}([0.164671], -3.74682, 1, DoubledTurn, 0.937558, 1), NUTS_Transition{Array{Float64,1},Float64}([-0.595835], -6.01179, 1, DoubledTurn, 0.551651, 1), NUTS_Transition{Array{Float64,1},Float64}([0.012602], -5.53965, 1, DoubledTurn, 1.0, 1), NUTS_Transition{Array{Float64,1},Float64}([-0.134998], -4.60486, 2, DoubledTurn, 0.968048, 3), NUTS_Transition{Array{Float64,1},Float64}([1.55032], -4.18556, 2, AdjacentTurn, 1.0, 7), NUTS_Transition{Array{Float64,1},Float64}([0.287465], -3.53188, 2, AdjacentTurn, 0.97736, 7), NUTS_Transition{Array{Float64,1},Float64}([1.04417], -3.37264, 2, DoubledTurn, 1.0, 3), NUTS_Transition{Array{Float64,1},Float64}([0.399002], -3.45598, 1, AdjacentTurn, 0.913719, 3), NUTS_Transition{Array{Float64,1},Float64}([0.375215], -3.38071, 1, DoubledTurn, 0.991532, 1), NUTS_Transition{Array{Float64,1},Float64}([1.25132], -3.74041, 1, AdjacentTurn, 0.937784, 3)], NUTS sampler in 1 dimensions\n  stepsize (ϵ) ≈ 0.785\n  maximum depth = 10\n  Gaussian kinetic energy, √diag(M⁻¹): [0.777685]\n)"
     },
     "metadata": {},
     "execution_count": 6
    }
   ],
   "cell_type": "code",
   "source": [
    "chain, NUTS_tuned = NUTS_init_tune_mcmc(∇P, 1000)"
   ],
   "metadata": {},
   "execution_count": 6
  },
  {
   "outputs": [],
   "cell_type": "markdown",
   "source": [
    "To get the posterior for ``α`` use `get_position` and then transform back."
   ],
   "metadata": {}
  },
  {
   "outputs": [],
   "cell_type": "code",
   "source": [
    "posterior = TransformVariables.transform.(Ref(∇P.transformation), get_position.(chain));"
   ],
   "metadata": {},
   "execution_count": 7
  },
  {
   "outputs": [],
   "cell_type": "markdown",
   "source": [
    "Extract the parameter."
   ],
   "metadata": {}
  },
  {
   "outputs": [],
   "cell_type": "code",
   "source": [
    "posterior_α = first.(posterior);"
   ],
   "metadata": {},
   "execution_count": 8
  },
  {
   "outputs": [],
   "cell_type": "markdown",
   "source": [
    "check the effective sample size"
   ],
   "metadata": {}
  },
  {
   "outputs": [
    {
     "output_type": "execute_result",
     "data": {
      "text/plain": "360.9327929049132"
     },
     "metadata": {},
     "execution_count": 9
    }
   ],
   "cell_type": "code",
   "source": [
    "ess_α = effective_sample_size(posterior_α)"
   ],
   "metadata": {},
   "execution_count": 9
  },
  {
   "outputs": [],
   "cell_type": "markdown",
   "source": [
    "NUTS-specific statistics"
   ],
   "metadata": {}
  },
  {
   "outputs": [
    {
     "output_type": "execute_result",
     "data": {
      "text/plain": "Hamiltonian Monte Carlo sample of length 1000\n  acceptance rate mean: 0.94, min/25%/median/75%/max: 0.33 0.92 0.98 1.0 1.0\n  termination: AdjacentTurn => 43% DoubledTurn => 57%\n  depth: 1 => 57% 2 => 40% 3 => 3%\n"
     },
     "metadata": {},
     "execution_count": 10
    }
   ],
   "cell_type": "code",
   "source": [
    "NUTS_statistics(chain)"
   ],
   "metadata": {},
   "execution_count": 10
  },
  {
   "outputs": [],
   "cell_type": "markdown",
   "source": [
    "check the mean"
   ],
   "metadata": {}
  },
  {
   "outputs": [
    {
     "output_type": "execute_result",
     "data": {
      "text/plain": "0.7231894482788868"
     },
     "metadata": {},
     "execution_count": 11
    }
   ],
   "cell_type": "code",
   "source": [
    "mean(posterior_α)"
   ],
   "metadata": {},
   "execution_count": 11
  },
  {
   "outputs": [],
   "cell_type": "markdown",
   "source": [
    "*This notebook was generated using [Literate.jl](https://github.com/fredrikekre/Literate.jl).*"
   ],
   "metadata": {}
  }
 ],
 "nbformat_minor": 3,
 "metadata": {
  "language_info": {
   "file_extension": ".jl",
   "mimetype": "application/julia",
   "name": "julia",
   "version": "1.2.0-DEV.226"
  },
  "kernelspec": {
   "name": "julia-1.2",
   "display_name": "Julia 1.2.0-DEV.226",
   "language": "julia"
  }
 },
 "nbformat": 4
}
