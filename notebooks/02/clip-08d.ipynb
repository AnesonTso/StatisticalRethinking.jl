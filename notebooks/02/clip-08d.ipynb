{
 "cells": [
  {
   "outputs": [],
   "cell_type": "markdown",
   "source": [
    "# Estimate Binomial draw probabilility"
   ],
   "metadata": {}
  },
  {
   "outputs": [],
   "cell_type": "code",
   "source": [
    "using StatisticalRethinking\n",
    "using DynamicHMC, TransformVariables, LogDensityProblems, MCMCDiagnostics\n",
    "using Parameters, ForwardDiff"
   ],
   "metadata": {},
   "execution_count": 1
  },
  {
   "outputs": [],
   "cell_type": "markdown",
   "source": [
    "Define a structure to hold the data."
   ],
   "metadata": {}
  },
  {
   "outputs": [],
   "cell_type": "code",
   "source": [
    "struct BernoulliProblem\n",
    "    \"Total number of draws in the data.\"\n",
    "    n::Int\n",
    "    \"Number of draws `==1` in the data\"\n",
    "    s::Vector{Int}\n",
    "end;"
   ],
   "metadata": {},
   "execution_count": 2
  },
  {
   "outputs": [],
   "cell_type": "markdown",
   "source": [
    "Make the type callable with the parameters *as a single argument*."
   ],
   "metadata": {}
  },
  {
   "outputs": [],
   "cell_type": "code",
   "source": [
    "function (problem::BernoulliProblem)((α, )::NamedTuple{(:α, )})\n",
    "    @unpack n, s = problem        # extract the data\n",
    "    loglikelihood(Binomial(n, α), s)\n",
    "end"
   ],
   "metadata": {},
   "execution_count": 3
  },
  {
   "outputs": [],
   "cell_type": "markdown",
   "source": [
    "Create the data and complete setting up the problem."
   ],
   "metadata": {}
  },
  {
   "outputs": [
    {
     "output_type": "execute_result",
     "data": {
      "text/plain": "-1.4020427180880297"
     },
     "metadata": {},
     "execution_count": 4
    }
   ],
   "cell_type": "code",
   "source": [
    "obs = rand(Binomial(9, 2/3), 1)\n",
    "p = BernoulliProblem(9, obs)\n",
    "p((α = 0.5, ))"
   ],
   "metadata": {},
   "execution_count": 4
  },
  {
   "outputs": [],
   "cell_type": "markdown",
   "source": [
    "Use a flat priors (the default, omitted) for α"
   ],
   "metadata": {}
  },
  {
   "outputs": [],
   "cell_type": "code",
   "source": [
    "P = TransformedLogDensity(as((α = as𝕀,)), p)\n",
    "∇P = ADgradient(:ForwardDiff, P);"
   ],
   "metadata": {},
   "execution_count": 5
  },
  {
   "outputs": [],
   "cell_type": "markdown",
   "source": [
    "Sample"
   ],
   "metadata": {}
  },
  {
   "outputs": [
    {
     "name": "stdout",
     "output_type": "stream",
     "text": [
      "MCMC, adapting ϵ (75 steps)\n",
      "0.0012 s/step ...done\n",
      "MCMC, adapting ϵ (25 steps)\n",
      "6.6e-6 s/step ...done\n",
      "MCMC, adapting ϵ (50 steps)\n",
      "0.0025 s/step ...done\n",
      "MCMC, adapting ϵ (100 steps)\n",
      "7.7e-6 s/step ...done\n",
      "MCMC, adapting ϵ (200 steps)\n",
      "6.8e-6 s/step ...done\n",
      "MCMC, adapting ϵ (400 steps)\n",
      "8.0e-6 s/step ...done\n",
      "MCMC, adapting ϵ (50 steps)\n",
      "1.1e-5 s/step ...done\n",
      "MCMC (1000 steps)\n",
      "6.0e-6 s/step ...done\n"
     ]
    },
    {
     "output_type": "execute_result",
     "data": {
      "text/plain": "(DynamicHMC.NUTS_Transition{Array{Float64,1},Float64}[NUTS_Transition{Array{Float64,1},Float64}([-0.265391], -3.48794, 1, AdjacentTurn, 0.941814, 3), NUTS_Transition{Array{Float64,1},Float64}([-0.477765], -3.36251, 1, DoubledTurn, 0.919748, 1), NUTS_Transition{Array{Float64,1},Float64}([-0.217862], -3.25004, 1, DoubledTurn, 1.0, 1), NUTS_Transition{Array{Float64,1},Float64}([0.353133], -2.92006, 2, DoubledTurn, 1.0, 3), NUTS_Transition{Array{Float64,1},Float64}([-0.0913404], -5.47528, 2, DoubledTurn, 0.633665, 3), NUTS_Transition{Array{Float64,1},Float64}([0.532646], -3.66472, 2, DoubledTurn, 0.875113, 3), NUTS_Transition{Array{Float64,1},Float64}([0.768737], -3.20201, 1, DoubledTurn, 0.931539, 1), NUTS_Transition{Array{Float64,1},Float64}([0.768737], -6.24945, 1, AdjacentTurn, 0.504881, 3), NUTS_Transition{Array{Float64,1},Float64}([1.49791], -4.89926, 1, AdjacentTurn, 0.773922, 3), NUTS_Transition{Array{Float64,1},Float64}([1.1181], -4.74134, 1, DoubledTurn, 1.0, 1)  …  NUTS_Transition{Array{Float64,1},Float64}([-0.334119], -3.34164, 1, DoubledTurn, 1.0, 1), NUTS_Transition{Array{Float64,1},Float64}([-0.141127], -3.058, 1, DoubledTurn, 1.0, 1), NUTS_Transition{Array{Float64,1},Float64}([-0.247381], -3.01568, 1, DoubledTurn, 0.971138, 1), NUTS_Transition{Array{Float64,1},Float64}([0.726574], -3.75506, 1, AdjacentTurn, 0.90455, 3), NUTS_Transition{Array{Float64,1},Float64}([0.726574], -6.97958, 1, AdjacentTurn, 0.398351, 3), NUTS_Transition{Array{Float64,1},Float64}([-0.720591], -5.0655, 2, DoubledTurn, 0.81023, 3), NUTS_Transition{Array{Float64,1},Float64}([-0.270783], -3.63666, 1, DoubledTurn, 1.0, 1), NUTS_Transition{Array{Float64,1},Float64}([0.552043], -3.43369, 1, AdjacentTurn, 0.954588, 3), NUTS_Transition{Array{Float64,1},Float64}([0.857362], -3.89091, 2, DoubledTurn, 0.888882, 3), NUTS_Transition{Array{Float64,1},Float64}([0.768966], -3.38722, 1, DoubledTurn, 1.0, 1)], NUTS sampler in 1 dimensions\n  stepsize (ϵ) ≈ 0.999\n  maximum depth = 10\n  Gaussian kinetic energy, √diag(M⁻¹): [0.626842]\n)"
     },
     "metadata": {},
     "execution_count": 6
    }
   ],
   "cell_type": "code",
   "source": [
    "chain, NUTS_tuned = NUTS_init_tune_mcmc(∇P, 1000)"
   ],
   "metadata": {},
   "execution_count": 6
  },
  {
   "outputs": [],
   "cell_type": "markdown",
   "source": [
    "To get the posterior for ``α`` use `get_position` and then transform back."
   ],
   "metadata": {}
  },
  {
   "outputs": [],
   "cell_type": "code",
   "source": [
    "posterior = TransformVariables.transform.(Ref(∇P.transformation), get_position.(chain));"
   ],
   "metadata": {},
   "execution_count": 7
  },
  {
   "outputs": [],
   "cell_type": "markdown",
   "source": [
    "Extract the parameter."
   ],
   "metadata": {}
  },
  {
   "outputs": [],
   "cell_type": "code",
   "source": [
    "posterior_α = first.(posterior);"
   ],
   "metadata": {},
   "execution_count": 8
  },
  {
   "outputs": [],
   "cell_type": "markdown",
   "source": [
    "check the effective sample size"
   ],
   "metadata": {}
  },
  {
   "outputs": [
    {
     "output_type": "execute_result",
     "data": {
      "text/plain": "400.5824066836524"
     },
     "metadata": {},
     "execution_count": 9
    }
   ],
   "cell_type": "code",
   "source": [
    "ess_α = effective_sample_size(posterior_α)"
   ],
   "metadata": {},
   "execution_count": 9
  },
  {
   "outputs": [],
   "cell_type": "markdown",
   "source": [
    "NUTS-specific statistics"
   ],
   "metadata": {}
  },
  {
   "outputs": [
    {
     "output_type": "execute_result",
     "data": {
      "text/plain": "Hamiltonian Monte Carlo sample of length 1000\n  acceptance rate mean: 0.93, min/25%/median/75%/max: 0.15 0.89 0.97 1.0 1.0\n  termination: AdjacentTurn => 35% DoubledTurn => 65%\n  depth: 1 => 67% 2 => 33%\n"
     },
     "metadata": {},
     "execution_count": 10
    }
   ],
   "cell_type": "code",
   "source": [
    "NUTS_statistics(chain)"
   ],
   "metadata": {},
   "execution_count": 10
  },
  {
   "outputs": [],
   "cell_type": "markdown",
   "source": [
    "check the mean"
   ],
   "metadata": {}
  },
  {
   "outputs": [
    {
     "output_type": "execute_result",
     "data": {
      "text/plain": "0.5649052829139227"
     },
     "metadata": {},
     "execution_count": 11
    }
   ],
   "cell_type": "code",
   "source": [
    "mean(posterior_α)"
   ],
   "metadata": {},
   "execution_count": 11
  },
  {
   "outputs": [],
   "cell_type": "markdown",
   "source": [
    "*This notebook was generated using [Literate.jl](https://github.com/fredrikekre/Literate.jl).*"
   ],
   "metadata": {}
  }
 ],
 "nbformat_minor": 3,
 "metadata": {
  "language_info": {
   "file_extension": ".jl",
   "mimetype": "application/julia",
   "name": "julia",
   "version": "1.2.0-DEV.226"
  },
  "kernelspec": {
   "name": "julia-1.2",
   "display_name": "Julia 1.2.0-DEV.226",
   "language": "julia"
  }
 },
 "nbformat": 4
}
