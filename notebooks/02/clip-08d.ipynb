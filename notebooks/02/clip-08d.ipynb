{
 "cells": [
  {
   "outputs": [],
   "cell_type": "markdown",
   "source": [
    "# Estimate Binomial draw probabilility"
   ],
   "metadata": {}
  },
  {
   "outputs": [
    {
     "name": "stdout",
     "output_type": "stream",
     "text": [
      "┌ Info: Recompiling stale cache file /Users/rob/.julia/compiled/v1.2/DynamicHMC/iPqvI.ji for DynamicHMC [bbc10e6e-7c05-544b-b16e-64fede858acb]\n",
      "└ @ Base loading.jl:1187\n",
      "┌ Info: Recompiling stale cache file /Users/rob/.julia/compiled/v1.2/MCMCDiagnostics/kMBOZ.ji for MCMCDiagnostics [6e857e4b-079a-58c4-aeab-bc2670384359]\n",
      "└ @ Base loading.jl:1187\n"
     ]
    }
   ],
   "cell_type": "code",
   "source": [
    "using StatisticalRethinking\n",
    "using DynamicHMC, TransformVariables, LogDensityProblems, MCMCDiagnostics\n",
    "using Parameters, ForwardDiff"
   ],
   "metadata": {},
   "execution_count": 1
  },
  {
   "outputs": [],
   "cell_type": "markdown",
   "source": [
    "Define a structure to hold the data."
   ],
   "metadata": {}
  },
  {
   "outputs": [],
   "cell_type": "code",
   "source": [
    "struct BernoulliProblem\n",
    "    \"Total number of draws in the data.\"\n",
    "    n::Int\n",
    "    \"Number of draws `==1` in the data\"\n",
    "    s::Vector{Int}\n",
    "end;"
   ],
   "metadata": {},
   "execution_count": 2
  },
  {
   "outputs": [],
   "cell_type": "markdown",
   "source": [
    "Make the type callable with the parameters *as a single argument*."
   ],
   "metadata": {}
  },
  {
   "outputs": [],
   "cell_type": "code",
   "source": [
    "function (problem::BernoulliProblem)((α, )::NamedTuple{(:α, )})\n",
    "    @unpack n, s = problem        # extract the data\n",
    "    loglikelihood(Binomial(n, α), s)\n",
    "end"
   ],
   "metadata": {},
   "execution_count": 3
  },
  {
   "outputs": [],
   "cell_type": "markdown",
   "source": [
    "Create the data and complete setting up the problem."
   ],
   "metadata": {}
  },
  {
   "outputs": [
    {
     "output_type": "execute_result",
     "data": {
      "text/plain": "-1.8075078261961934"
     },
     "metadata": {},
     "execution_count": 4
    }
   ],
   "cell_type": "code",
   "source": [
    "obs = rand(Binomial(9, 2/3), 1)\n",
    "p = BernoulliProblem(9, obs)\n",
    "p((α = 0.5, ))"
   ],
   "metadata": {},
   "execution_count": 4
  },
  {
   "outputs": [],
   "cell_type": "markdown",
   "source": [
    "Use a flat priors (the default, omitted) for α"
   ],
   "metadata": {}
  },
  {
   "outputs": [],
   "cell_type": "code",
   "source": [
    "P = TransformedLogDensity(as((α = as𝕀,)), p)\n",
    "∇P = ADgradient(:ForwardDiff, P);"
   ],
   "metadata": {},
   "execution_count": 5
  },
  {
   "outputs": [],
   "cell_type": "markdown",
   "source": [
    "Sample"
   ],
   "metadata": {}
  },
  {
   "outputs": [
    {
     "name": "stdout",
     "output_type": "stream",
     "text": [
      "MCMC, adapting ϵ (75 steps)\n",
      "0.0012 s/step ...done\n",
      "MCMC, adapting ϵ (25 steps)\n",
      "8.9e-6 s/step ...done\n",
      "MCMC, adapting ϵ (50 steps)\n",
      "0.0031 s/step ...done\n",
      "MCMC, adapting ϵ (100 steps)\n",
      "1.4e-5 s/step ...done\n",
      "MCMC, adapting ϵ (200 steps)\n",
      "7.9e-6 s/step ...done\n",
      "MCMC, adapting ϵ (400 steps)\n",
      "6.3e-6 s/step ...done\n",
      "MCMC, adapting ϵ (50 steps)\n",
      "9.3e-6 s/step ...done\n",
      "MCMC (1000 steps)\n",
      "1.9e-5 s/step ...done\n"
     ]
    },
    {
     "output_type": "execute_result",
     "data": {
      "text/plain": "(DynamicHMC.NUTS_Transition{Array{Float64,1},Float64}[NUTS_Transition{Array{Float64,1},Float64}([0.901596], -3.18963, 1, DoubledTurn, 0.924245, 1), NUTS_Transition{Array{Float64,1},Float64}([-0.0144489], -3.62766, 1, AdjacentTurn, 0.897547, 3), NUTS_Transition{Array{Float64,1},Float64}([0.377614], -3.1087, 1, AdjacentTurn, 1.0, 3), NUTS_Transition{Array{Float64,1},Float64}([1.07066], -3.32377, 1, AdjacentTurn, 0.908093, 3), NUTS_Transition{Array{Float64,1},Float64}([1.16334], -3.26036, 1, DoubledTurn, 0.974491, 1), NUTS_Transition{Array{Float64,1},Float64}([0.958163], -3.16838, 1, DoubledTurn, 1.0, 1), NUTS_Transition{Array{Float64,1},Float64}([1.05756], -3.10408, 1, DoubledTurn, 0.976253, 1), NUTS_Transition{Array{Float64,1},Float64}([1.42101], -3.63355, 1, DoubledTurn, 0.890885, 1), NUTS_Transition{Array{Float64,1},Float64}([0.304806], -3.98705, 1, AdjacentTurn, 0.947307, 3), NUTS_Transition{Array{Float64,1},Float64}([1.05662], -4.05211, 2, DoubledTurn, 0.787776, 3)  …  NUTS_Transition{Array{Float64,1},Float64}([0.167066], -3.02662, 2, DoubledTurn, 0.997584, 3), NUTS_Transition{Array{Float64,1},Float64}([0.859826], -3.23358, 1, AdjacentTurn, 0.966123, 3), NUTS_Transition{Array{Float64,1},Float64}([0.185842], -3.21745, 1, AdjacentTurn, 0.960127, 3), NUTS_Transition{Array{Float64,1},Float64}([0.102439], -3.09049, 1, DoubledTurn, 0.973712, 1), NUTS_Transition{Array{Float64,1},Float64}([0.168631], -3.07633, 2, DoubledTurn, 1.0, 3), NUTS_Transition{Array{Float64,1},Float64}([-0.188389], -3.53083, 1, DoubledTurn, 0.853692, 1), NUTS_Transition{Array{Float64,1},Float64}([-0.734522], -5.05971, 1, DoubledTurn, 0.659421, 1), NUTS_Transition{Array{Float64,1},Float64}([-0.311774], -4.7948, 2, DoubledTurn, 1.0, 3), NUTS_Transition{Array{Float64,1},Float64}([0.438357], -3.5862, 1, AdjacentTurn, 1.0, 3), NUTS_Transition{Array{Float64,1},Float64}([1.10636], -4.56833, 2, DoubledTurn, 0.69992, 3)], NUTS sampler in 1 dimensions\n  stepsize (ϵ) ≈ 1.01\n  maximum depth = 10\n  Gaussian kinetic energy, √diag(M⁻¹): [0.645818]\n)"
     },
     "metadata": {},
     "execution_count": 6
    }
   ],
   "cell_type": "code",
   "source": [
    "chain, NUTS_tuned = NUTS_init_tune_mcmc(∇P, 1000)"
   ],
   "metadata": {},
   "execution_count": 6
  },
  {
   "outputs": [],
   "cell_type": "markdown",
   "source": [
    "To get the posterior for ``α`` use `get_position` and then transform back."
   ],
   "metadata": {}
  },
  {
   "outputs": [],
   "cell_type": "code",
   "source": [
    "posterior = TransformVariables.transform.(Ref(∇P.transformation), get_position.(chain));"
   ],
   "metadata": {},
   "execution_count": 7
  },
  {
   "outputs": [],
   "cell_type": "markdown",
   "source": [
    "Extract the parameter."
   ],
   "metadata": {}
  },
  {
   "outputs": [],
   "cell_type": "code",
   "source": [
    "posterior_α = first.(posterior);"
   ],
   "metadata": {},
   "execution_count": 8
  },
  {
   "outputs": [],
   "cell_type": "markdown",
   "source": [
    "check the effective sample size"
   ],
   "metadata": {}
  },
  {
   "outputs": [
    {
     "output_type": "execute_result",
     "data": {
      "text/plain": "412.5021680536656"
     },
     "metadata": {},
     "execution_count": 9
    }
   ],
   "cell_type": "code",
   "source": [
    "ess_α = effective_sample_size(posterior_α)"
   ],
   "metadata": {},
   "execution_count": 9
  },
  {
   "outputs": [],
   "cell_type": "markdown",
   "source": [
    "NUTS-specific statistics"
   ],
   "metadata": {}
  },
  {
   "outputs": [
    {
     "output_type": "execute_result",
     "data": {
      "text/plain": "Hamiltonian Monte Carlo sample of length 1000\n  acceptance rate mean: 0.92, min/25%/median/75%/max: 0.23 0.89 0.97 1.0 1.0\n  termination: AdjacentTurn => 35% DoubledTurn => 65%\n  depth: 1 => 64% 2 => 36%\n"
     },
     "metadata": {},
     "execution_count": 10
    }
   ],
   "cell_type": "code",
   "source": [
    "NUTS_statistics(chain)"
   ],
   "metadata": {},
   "execution_count": 10
  },
  {
   "outputs": [],
   "cell_type": "markdown",
   "source": [
    "check the mean"
   ],
   "metadata": {}
  },
  {
   "outputs": [
    {
     "output_type": "execute_result",
     "data": {
      "text/plain": "0.6302511171203886"
     },
     "metadata": {},
     "execution_count": 11
    }
   ],
   "cell_type": "code",
   "source": [
    "mean(posterior_α)"
   ],
   "metadata": {},
   "execution_count": 11
  },
  {
   "outputs": [],
   "cell_type": "markdown",
   "source": [
    "*This notebook was generated using [Literate.jl](https://github.com/fredrikekre/Literate.jl).*"
   ],
   "metadata": {}
  }
 ],
 "nbformat_minor": 3,
 "metadata": {
  "language_info": {
   "file_extension": ".jl",
   "mimetype": "application/julia",
   "name": "julia",
   "version": "1.2.0-DEV.234"
  },
  "kernelspec": {
   "name": "julia-1.2",
   "display_name": "Julia 1.2.0-DEV.234",
   "language": "julia"
  }
 },
 "nbformat": 4
}
