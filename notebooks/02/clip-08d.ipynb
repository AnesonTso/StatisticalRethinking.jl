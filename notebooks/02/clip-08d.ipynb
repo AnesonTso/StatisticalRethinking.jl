{
 "cells": [
  {
   "outputs": [],
   "cell_type": "markdown",
   "source": [
    "# Estimate Binomial draw probabilility"
   ],
   "metadata": {}
  },
  {
   "outputs": [],
   "cell_type": "code",
   "source": [
    "using StatisticalRethinking\n",
    "using DynamicHMC, TransformVariables, LogDensityProblems, MCMCDiagnostics\n",
    "using Parameters, ForwardDiff"
   ],
   "metadata": {},
   "execution_count": 1
  },
  {
   "outputs": [],
   "cell_type": "markdown",
   "source": [
    "Define a structure to hold the data."
   ],
   "metadata": {}
  },
  {
   "outputs": [],
   "cell_type": "code",
   "source": [
    "struct BernoulliProblem\n",
    "    \"Total number of draws in the data.\"\n",
    "    n::Int\n",
    "    \"Number of draws `==1` in the data\"\n",
    "    s::Vector{Int}\n",
    "end;"
   ],
   "metadata": {},
   "execution_count": 2
  },
  {
   "outputs": [],
   "cell_type": "markdown",
   "source": [
    "Make the type callable with the parameters *as a single argument*."
   ],
   "metadata": {}
  },
  {
   "outputs": [],
   "cell_type": "code",
   "source": [
    "function (problem::BernoulliProblem)((α, )::NamedTuple{(:α, )})\n",
    "    @unpack n, s = problem        # extract the data\n",
    "    loglikelihood(Binomial(n, α), s)\n",
    "end"
   ],
   "metadata": {},
   "execution_count": 3
  },
  {
   "outputs": [],
   "cell_type": "markdown",
   "source": [
    "Create the data and complete setting up the problem."
   ],
   "metadata": {}
  },
  {
   "outputs": [
    {
     "output_type": "execute_result",
     "data": {
      "text/plain": "-1.4020427180880297"
     },
     "metadata": {},
     "execution_count": 4
    }
   ],
   "cell_type": "code",
   "source": [
    "obs = rand(Binomial(9, 2/3), 1)\n",
    "p = BernoulliProblem(9, obs)\n",
    "p((α = 0.5, ))"
   ],
   "metadata": {},
   "execution_count": 4
  },
  {
   "outputs": [],
   "cell_type": "markdown",
   "source": [
    "Use a flat priors (the default, omitted) for α"
   ],
   "metadata": {}
  },
  {
   "outputs": [],
   "cell_type": "code",
   "source": [
    "P = TransformedLogDensity(as((α = as𝕀,)), p)\n",
    "∇P = ADgradient(:ForwardDiff, P);"
   ],
   "metadata": {},
   "execution_count": 5
  },
  {
   "outputs": [],
   "cell_type": "markdown",
   "source": [
    "Sample"
   ],
   "metadata": {}
  },
  {
   "outputs": [
    {
     "name": "stdout",
     "output_type": "stream",
     "text": [
      "MCMC, adapting ϵ (75 steps)\n",
      "0.0012 s/step ...done\n",
      "MCMC, adapting ϵ (25 steps)\n",
      "8.6e-6 s/step ...done\n",
      "MCMC, adapting ϵ (50 steps)\n",
      "0.0027 s/step ...done\n",
      "MCMC, adapting ϵ (100 steps)\n",
      "0.00014 s/step ...done\n",
      "MCMC, adapting ϵ (200 steps)\n",
      "6.9e-6 s/step ...done\n",
      "MCMC, adapting ϵ (400 steps)\n",
      "6.5e-6 s/step ...done\n",
      "MCMC, adapting ϵ (50 steps)\n",
      "7.6e-6 s/step ...done\n",
      "MCMC (1000 steps)\n",
      "6.3e-6 s/step ...done\n"
     ]
    },
    {
     "output_type": "execute_result",
     "data": {
      "text/plain": "(DynamicHMC.NUTS_Transition{Array{Float64,1},Float64}[NUTS_Transition{Array{Float64,1},Float64}([0.0769036], -3.70412, 2, DoubledTurn, 0.823751, 3), NUTS_Transition{Array{Float64,1},Float64}([0.543755], -3.46309, 1, DoubledTurn, 0.804769, 1), NUTS_Transition{Array{Float64,1},Float64}([-0.249651], -3.78459, 2, DoubledTurn, 0.937578, 3), NUTS_Transition{Array{Float64,1},Float64}([-0.354985], -2.78341, 1, DoubledTurn, 0.98825, 1), NUTS_Transition{Array{Float64,1},Float64}([-0.354985], -3.66888, 1, AdjacentTurn, 0.731417, 3), NUTS_Transition{Array{Float64,1},Float64}([-0.619475], -2.99895, 1, DoubledTurn, 0.930555, 1), NUTS_Transition{Array{Float64,1},Float64}([-0.619475], -3.87541, 1, DoubledTurn, 0.691604, 1), NUTS_Transition{Array{Float64,1},Float64}([-1.15287], -3.9514, 2, DoubledTurn, 0.877628, 3), NUTS_Transition{Array{Float64,1},Float64}([-1.23178], -4.45128, 2, DoubledTurn, 0.984214, 3), NUTS_Transition{Array{Float64,1},Float64}([-1.21584], -4.51478, 2, DoubledTurn, 1.0, 3)  …  NUTS_Transition{Array{Float64,1},Float64}([-0.0319978], -2.82455, 1, DoubledTurn, 1.0, 1), NUTS_Transition{Array{Float64,1},Float64}([0.263688], -3.01581, 1, DoubledTurn, 0.918482, 1), NUTS_Transition{Array{Float64,1},Float64}([0.297313], -3.14744, 2, DoubledTurn, 0.995128, 3), NUTS_Transition{Array{Float64,1},Float64}([0.297313], -5.95882, 1, AdjacentTurn, 0.286841, 3), NUTS_Transition{Array{Float64,1},Float64}([-0.35245], -3.13669, 2, DoubledTurn, 0.975091, 3), NUTS_Transition{Array{Float64,1},Float64}([-0.584298], -3.60368, 2, DoubledTurn, 0.819372, 3), NUTS_Transition{Array{Float64,1},Float64}([-0.958784], -3.54278, 2, DoubledTurn, 0.931623, 3), NUTS_Transition{Array{Float64,1},Float64}([-0.180098], -3.33157, 1, AdjacentTurn, 0.993488, 3), NUTS_Transition{Array{Float64,1},Float64}([0.0614572], -2.93703, 2, DoubledTurn, 0.953662, 3), NUTS_Transition{Array{Float64,1},Float64}([0.302706], -3.07473, 1, DoubledTurn, 0.91911, 1)], NUTS sampler in 1 dimensions\n  stepsize (ϵ) ≈ 1.13\n  maximum depth = 10\n  Gaussian kinetic energy, √diag(M⁻¹): [0.632432]\n)"
     },
     "metadata": {},
     "execution_count": 6
    }
   ],
   "cell_type": "code",
   "source": [
    "chain, NUTS_tuned = NUTS_init_tune_mcmc(∇P, 1000)"
   ],
   "metadata": {},
   "execution_count": 6
  },
  {
   "outputs": [],
   "cell_type": "markdown",
   "source": [
    "To get the posterior for ``α`` use `get_position` and then transform back."
   ],
   "metadata": {}
  },
  {
   "outputs": [],
   "cell_type": "code",
   "source": [
    "posterior = TransformVariables.transform.(Ref(∇P.transformation), get_position.(chain));"
   ],
   "metadata": {},
   "execution_count": 7
  },
  {
   "outputs": [],
   "cell_type": "markdown",
   "source": [
    "Extract the parameter."
   ],
   "metadata": {}
  },
  {
   "outputs": [],
   "cell_type": "code",
   "source": [
    "posterior_α = first.(posterior);"
   ],
   "metadata": {},
   "execution_count": 8
  },
  {
   "outputs": [],
   "cell_type": "markdown",
   "source": [
    "check the effective sample size"
   ],
   "metadata": {}
  },
  {
   "outputs": [
    {
     "output_type": "execute_result",
     "data": {
      "text/plain": "277.48265654030035"
     },
     "metadata": {},
     "execution_count": 9
    }
   ],
   "cell_type": "code",
   "source": [
    "ess_α = effective_sample_size(posterior_α)"
   ],
   "metadata": {},
   "execution_count": 9
  },
  {
   "outputs": [],
   "cell_type": "markdown",
   "source": [
    "NUTS-specific statistics"
   ],
   "metadata": {}
  },
  {
   "outputs": [
    {
     "output_type": "execute_result",
     "data": {
      "text/plain": "Hamiltonian Monte Carlo sample of length 1000\n  acceptance rate mean: 0.89, min/25%/median/75%/max: 0.1 0.84 0.96 1.0 1.0\n  termination: AdjacentTurn => 22% DoubledTurn => 78%\n  depth: 1 => 58% 2 => 42%\n"
     },
     "metadata": {},
     "execution_count": 10
    }
   ],
   "cell_type": "code",
   "source": [
    "NUTS_statistics(chain)"
   ],
   "metadata": {},
   "execution_count": 10
  },
  {
   "outputs": [],
   "cell_type": "markdown",
   "source": [
    "check the mean"
   ],
   "metadata": {}
  },
  {
   "outputs": [
    {
     "output_type": "execute_result",
     "data": {
      "text/plain": "0.45663470513970733"
     },
     "metadata": {},
     "execution_count": 11
    }
   ],
   "cell_type": "code",
   "source": [
    "mean(posterior_α)"
   ],
   "metadata": {},
   "execution_count": 11
  },
  {
   "outputs": [],
   "cell_type": "markdown",
   "source": [
    "*This notebook was generated using [Literate.jl](https://github.com/fredrikekre/Literate.jl).*"
   ],
   "metadata": {}
  }
 ],
 "nbformat_minor": 3,
 "metadata": {
  "language_info": {
   "file_extension": ".jl",
   "mimetype": "application/julia",
   "name": "julia",
   "version": "1.2.0-DEV.226"
  },
  "kernelspec": {
   "name": "julia-1.2",
   "display_name": "Julia 1.2.0-DEV.226",
   "language": "julia"
  }
 },
 "nbformat": 4
}
