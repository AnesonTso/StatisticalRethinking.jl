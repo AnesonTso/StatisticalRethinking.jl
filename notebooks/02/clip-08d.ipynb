{
 "cells": [
  {
   "outputs": [],
   "cell_type": "markdown",
   "source": [
    "# Estimate Binomial draw probabilility"
   ],
   "metadata": {}
  },
  {
   "outputs": [],
   "cell_type": "code",
   "source": [
    "using StatisticalRethinking\n",
    "using DynamicHMC, TransformVariables, LogDensityProblems, MCMCDiagnostics\n",
    "using Parameters, ForwardDiff"
   ],
   "metadata": {},
   "execution_count": 1
  },
  {
   "outputs": [],
   "cell_type": "markdown",
   "source": [
    "Define a structure to hold the data."
   ],
   "metadata": {}
  },
  {
   "outputs": [],
   "cell_type": "code",
   "source": [
    "struct BernoulliProblem\n",
    "    \"Total number of draws in the data.\"\n",
    "    n::Int\n",
    "    \"Number of draws `==1` in the data\"\n",
    "    s::Vector{Int}\n",
    "end;"
   ],
   "metadata": {},
   "execution_count": 2
  },
  {
   "outputs": [],
   "cell_type": "markdown",
   "source": [
    "Make the type callable with the parameters *as a single argument*."
   ],
   "metadata": {}
  },
  {
   "outputs": [],
   "cell_type": "code",
   "source": [
    "function (problem::BernoulliProblem)((α, )::NamedTuple{(:α, )})\n",
    "    @unpack n, s = problem        # extract the data\n",
    "    loglikelihood(Binomial(n, α), s)\n",
    "end"
   ],
   "metadata": {},
   "execution_count": 3
  },
  {
   "outputs": [],
   "cell_type": "markdown",
   "source": [
    "Create the data and complete setting up the problem."
   ],
   "metadata": {}
  },
  {
   "outputs": [
    {
     "output_type": "execute_result",
     "data": {
      "text/plain": "-1.8075078261961934"
     },
     "metadata": {},
     "execution_count": 4
    }
   ],
   "cell_type": "code",
   "source": [
    "obs = rand(Binomial(9, 2/3), 1)\n",
    "p = BernoulliProblem(9, obs)\n",
    "p((α = 0.5, ))"
   ],
   "metadata": {},
   "execution_count": 4
  },
  {
   "outputs": [],
   "cell_type": "markdown",
   "source": [
    "Use a flat priors (the default, omitted) for α"
   ],
   "metadata": {}
  },
  {
   "outputs": [],
   "cell_type": "code",
   "source": [
    "P = TransformedLogDensity(as((α = as𝕀,)), p)\n",
    "∇P = ADgradient(:ForwardDiff, P);"
   ],
   "metadata": {},
   "execution_count": 5
  },
  {
   "outputs": [],
   "cell_type": "markdown",
   "source": [
    "Sample"
   ],
   "metadata": {}
  },
  {
   "outputs": [
    {
     "name": "stdout",
     "output_type": "stream",
     "text": [
      "MCMC, adapting ϵ (75 steps)\n",
      "0.0012 s/step ...done\n",
      "MCMC, adapting ϵ (25 steps)\n",
      "8.3e-6 s/step ...done\n",
      "MCMC, adapting ϵ (50 steps)\n",
      "0.003 s/step ...done\n",
      "MCMC, adapting ϵ (100 steps)\n",
      "7.6e-6 s/step ...done\n",
      "MCMC, adapting ϵ (200 steps)\n",
      "6.2e-6 s/step ...done\n",
      "MCMC, adapting ϵ (400 steps)\n",
      "6.5e-6 s/step ...done\n",
      "MCMC, adapting ϵ (50 steps)\n",
      "1.4e-5 s/step ...done\n",
      "MCMC (1000 steps)\n",
      "6.9e-6 s/step ...done\n"
     ]
    },
    {
     "output_type": "execute_result",
     "data": {
      "text/plain": "(DynamicHMC.NUTS_Transition{Array{Float64,1},Float64}[NUTS_Transition{Array{Float64,1},Float64}([0.338392], -4.92525, 1, AdjacentTurn, 0.924601, 3), NUTS_Transition{Array{Float64,1},Float64}([0.714611], -2.90385, 1, AdjacentTurn, 0.991313, 3), NUTS_Transition{Array{Float64,1},Float64}([0.119063], -3.15935, 1, AdjacentTurn, 0.933952, 3), NUTS_Transition{Array{Float64,1},Float64}([1.38396], -4.40047, 1, AdjacentTurn, 0.789907, 3), NUTS_Transition{Array{Float64,1},Float64}([1.04908], -3.45971, 1, DoubledTurn, 1.0, 1), NUTS_Transition{Array{Float64,1},Float64}([0.748324], -3.00765, 1, AdjacentTurn, 1.0, 3), NUTS_Transition{Array{Float64,1},Float64}([0.808523], -2.86286, 1, DoubledTurn, 0.991439, 1), NUTS_Transition{Array{Float64,1},Float64}([-0.825937], -6.09702, 1, AdjacentTurn, 0.504204, 3), NUTS_Transition{Array{Float64,1},Float64}([0.514522], -4.87216, 1, AdjacentTurn, 1.0, 3), NUTS_Transition{Array{Float64,1},Float64}([0.704982], -2.80872, 2, DoubledTurn, 0.996395, 3)  …  NUTS_Transition{Array{Float64,1},Float64}([0.403322], -3.01124, 2, DoubledTurn, 0.981206, 3), NUTS_Transition{Array{Float64,1},Float64}([0.403322], -4.50581, 1, AdjacentTurn, 0.612107, 3), NUTS_Transition{Array{Float64,1},Float64}([0.993597], -3.0193, 2, DoubledTurn, 0.972912, 3), NUTS_Transition{Array{Float64,1},Float64}([-0.160664], -3.47464, 2, DoubledTurn, 0.961575, 3), NUTS_Transition{Array{Float64,1},Float64}([0.298012], -3.28776, 1, AdjacentTurn, 1.0, 3), NUTS_Transition{Array{Float64,1},Float64}([1.32629], -3.9378, 1, AdjacentTurn, 0.807087, 3), NUTS_Transition{Array{Float64,1},Float64}([0.313171], -3.70381, 1, AdjacentTurn, 0.953947, 3), NUTS_Transition{Array{Float64,1},Float64}([0.0828466], -3.0822, 1, DoubledTurn, 0.935376, 1), NUTS_Transition{Array{Float64,1},Float64}([0.0828466], -3.82984, 1, DoubledTurn, 0.721492, 1), NUTS_Transition{Array{Float64,1},Float64}([0.0322388], -3.22521, 2, DoubledTurn, 0.993129, 3)], NUTS sampler in 1 dimensions\n  stepsize (ϵ) ≈ 1.06\n  maximum depth = 10\n  Gaussian kinetic energy, √diag(M⁻¹): [0.631999]\n)"
     },
     "metadata": {},
     "execution_count": 6
    }
   ],
   "cell_type": "code",
   "source": [
    "chain, NUTS_tuned = NUTS_init_tune_mcmc(∇P, 1000)"
   ],
   "metadata": {},
   "execution_count": 6
  },
  {
   "outputs": [],
   "cell_type": "markdown",
   "source": [
    "To get the posterior for ``α`` use `get_position` and then transform back."
   ],
   "metadata": {}
  },
  {
   "outputs": [],
   "cell_type": "code",
   "source": [
    "posterior = TransformVariables.transform.(Ref(∇P.transformation), get_position.(chain));"
   ],
   "metadata": {},
   "execution_count": 7
  },
  {
   "outputs": [],
   "cell_type": "markdown",
   "source": [
    "Extract the parameter."
   ],
   "metadata": {}
  },
  {
   "outputs": [],
   "cell_type": "code",
   "source": [
    "posterior_α = first.(posterior);"
   ],
   "metadata": {},
   "execution_count": 8
  },
  {
   "outputs": [],
   "cell_type": "markdown",
   "source": [
    "check the effective sample size"
   ],
   "metadata": {}
  },
  {
   "outputs": [
    {
     "output_type": "execute_result",
     "data": {
      "text/plain": "278.40520152797075"
     },
     "metadata": {},
     "execution_count": 9
    }
   ],
   "cell_type": "code",
   "source": [
    "ess_α = effective_sample_size(posterior_α)"
   ],
   "metadata": {},
   "execution_count": 9
  },
  {
   "outputs": [],
   "cell_type": "markdown",
   "source": [
    "NUTS-specific statistics"
   ],
   "metadata": {}
  },
  {
   "outputs": [
    {
     "output_type": "execute_result",
     "data": {
      "text/plain": "Hamiltonian Monte Carlo sample of length 1000\n  acceptance rate mean: 0.92, min/25%/median/75%/max: 0.31 0.89 0.97 1.0 1.0\n  termination: AdjacentTurn => 34% DoubledTurn => 66%\n  depth: 1 => 67% 2 => 33%\n"
     },
     "metadata": {},
     "execution_count": 10
    }
   ],
   "cell_type": "code",
   "source": [
    "NUTS_statistics(chain)"
   ],
   "metadata": {},
   "execution_count": 10
  },
  {
   "outputs": [],
   "cell_type": "markdown",
   "source": [
    "check the mean"
   ],
   "metadata": {}
  },
  {
   "outputs": [
    {
     "output_type": "execute_result",
     "data": {
      "text/plain": "0.6384942752991188"
     },
     "metadata": {},
     "execution_count": 11
    }
   ],
   "cell_type": "code",
   "source": [
    "mean(posterior_α)"
   ],
   "metadata": {},
   "execution_count": 11
  },
  {
   "outputs": [],
   "cell_type": "markdown",
   "source": [
    "*This notebook was generated using [Literate.jl](https://github.com/fredrikekre/Literate.jl).*"
   ],
   "metadata": {}
  }
 ],
 "nbformat_minor": 3,
 "metadata": {
  "language_info": {
   "file_extension": ".jl",
   "mimetype": "application/julia",
   "name": "julia",
   "version": "1.2.0-DEV.224"
  },
  "kernelspec": {
   "name": "julia-1.2",
   "display_name": "Julia 1.2.0-DEV.224",
   "language": "julia"
  }
 },
 "nbformat": 4
}
