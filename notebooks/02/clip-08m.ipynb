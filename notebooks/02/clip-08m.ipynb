{
 "cells": [
  {
   "outputs": [],
   "cell_type": "code",
   "source": [
    "using Distributed, Gadfly\n",
    "using Mamba"
   ],
   "metadata": {},
   "execution_count": null
  },
  {
   "outputs": [],
   "cell_type": "markdown",
   "source": [
    "Data"
   ],
   "metadata": {}
  },
  {
   "outputs": [],
   "cell_type": "code",
   "source": [
    "globe_toss = Dict{Symbol, Any}(\n",
    "  :w => [6, 7, 5, 6, 6],\n",
    "  :n => [9, 9, 9, 9, 9]\n",
    ")\n",
    "globe_toss[:N] = length(globe_toss[:w]);"
   ],
   "metadata": {},
   "execution_count": null
  },
  {
   "outputs": [],
   "cell_type": "markdown",
   "source": [
    "Model Specification"
   ],
   "metadata": {}
  },
  {
   "outputs": [],
   "cell_type": "code",
   "source": [
    "model = Model(\n",
    "  w = Stochastic(1,\n",
    "    (n, p, N) ->\n",
    "      UnivariateDistribution[Binomial(n[i], p) for i in 1:N],\n",
    "    false\n",
    "  ),\n",
    "  p = Stochastic(() -> Beta(1, 1))\n",
    ");"
   ],
   "metadata": {},
   "execution_count": null
  },
  {
   "outputs": [],
   "cell_type": "markdown",
   "source": [
    "Initial Values"
   ],
   "metadata": {}
  },
  {
   "outputs": [],
   "cell_type": "code",
   "source": [
    "inits = [\n",
    "  Dict(:w => globe_toss[:w], :n => globe_toss[:n], :p => 0.5),\n",
    "  Dict(:w => globe_toss[:w], :n => globe_toss[:n], :p => rand(Beta(1, 1)))\n",
    "];"
   ],
   "metadata": {},
   "execution_count": null
  },
  {
   "outputs": [],
   "cell_type": "markdown",
   "source": [
    "Sampling Scheme"
   ],
   "metadata": {}
  },
  {
   "outputs": [],
   "cell_type": "code",
   "source": [
    "scheme = [NUTS(:p)]\n",
    "setsamplers!(model, scheme);"
   ],
   "metadata": {},
   "execution_count": null
  },
  {
   "outputs": [],
   "cell_type": "markdown",
   "source": [
    "MCMC Simulations"
   ],
   "metadata": {}
  },
  {
   "outputs": [],
   "cell_type": "code",
   "source": [
    "sim = mcmc(model, globe_toss, inits, 10000, burnin=2500, thin=1, chains=2)"
   ],
   "metadata": {},
   "execution_count": null
  },
  {
   "outputs": [],
   "cell_type": "markdown",
   "source": [
    "Describe draws"
   ],
   "metadata": {}
  },
  {
   "outputs": [],
   "cell_type": "code",
   "source": [
    "describe(sim)"
   ],
   "metadata": {},
   "execution_count": null
  },
  {
   "outputs": [],
   "cell_type": "markdown",
   "source": [
    "End of `clip_08m.jl`"
   ],
   "metadata": {}
  },
  {
   "outputs": [],
   "cell_type": "markdown",
   "source": [
    "*This notebook was generated using [Literate.jl](https://github.com/fredrikekre/Literate.jl).*"
   ],
   "metadata": {}
  }
 ],
 "nbformat_minor": 3,
 "metadata": {
  "language_info": {
   "file_extension": ".jl",
   "mimetype": "application/julia",
   "name": "julia",
   "version": "1.1.0-rc1.0"
  },
  "kernelspec": {
   "name": "julia-1.1",
   "display_name": "Julia 1.1.0-rc1.0",
   "language": "julia"
  }
 },
 "nbformat": 4
}
