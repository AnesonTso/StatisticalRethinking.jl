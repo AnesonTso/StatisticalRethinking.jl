{
 "cells": [
  {
   "outputs": [],
   "cell_type": "markdown",
   "source": [
    "# Chapter 2 snippets"
   ],
   "metadata": {}
  },
  {
   "outputs": [],
   "cell_type": "markdown",
   "source": [
    "### snippet 2.0"
   ],
   "metadata": {}
  },
  {
   "outputs": [],
   "cell_type": "markdown",
   "source": [
    "Load Julia packages (libraries) needed"
   ],
   "metadata": {}
  },
  {
   "outputs": [
    {
     "output_type": "execute_result",
     "data": {
      "text/plain": "Plots.GRBackend()"
     },
     "metadata": {},
     "execution_count": 1
    }
   ],
   "cell_type": "code",
   "source": [
    "using StatisticalRethinking\n",
    "gr(size=(600,300))"
   ],
   "metadata": {},
   "execution_count": 1
  },
  {
   "outputs": [],
   "cell_type": "markdown",
   "source": [
    "snippet 2.3"
   ],
   "metadata": {}
  },
  {
   "outputs": [],
   "cell_type": "markdown",
   "source": [
    "define grid"
   ],
   "metadata": {}
  },
  {
   "outputs": [
    {
     "output_type": "execute_result",
     "data": {
      "text/plain": "0.0:0.05263157894736842:1.0"
     },
     "metadata": {},
     "execution_count": 2
    }
   ],
   "cell_type": "code",
   "source": [
    "p_grid = range( 0 , stop=1 , length=20 )"
   ],
   "metadata": {},
   "execution_count": 2
  },
  {
   "outputs": [],
   "cell_type": "markdown",
   "source": [
    "define prior"
   ],
   "metadata": {}
  },
  {
   "outputs": [
    {
     "output_type": "execute_result",
     "data": {
      "text/plain": "20-element Array{Float64,1}:\n 1.0\n 1.0\n 1.0\n 1.0\n 1.0\n 1.0\n 1.0\n 1.0\n 1.0\n 1.0\n 1.0\n 1.0\n 1.0\n 1.0\n 1.0\n 1.0\n 1.0\n 1.0\n 1.0\n 1.0"
     },
     "metadata": {},
     "execution_count": 3
    }
   ],
   "cell_type": "code",
   "source": [
    "prior = ones( 20 )"
   ],
   "metadata": {},
   "execution_count": 3
  },
  {
   "outputs": [],
   "cell_type": "markdown",
   "source": [
    "compute likelihood at each value in grid"
   ],
   "metadata": {}
  },
  {
   "outputs": [
    {
     "output_type": "execute_result",
     "data": {
      "text/plain": "20-element Array{Float64,1}:\n 0.0                  \n 1.5181489823498353e-6\n 8.185092949558011e-5 \n 0.0007772922789631156\n 0.0035985753655699746\n 0.01116094609366412  \n 0.0266829865137807   \n 0.052921099147992784 \n 0.09082697598243343  \n 0.13834132601662863  \n 0.18976862279372927  \n 0.23611465826683395  \n 0.26661125168434857  \n 0.27140056190174167  \n 0.24500508864811482  \n 0.18976862279372927  \n 0.1179181175789971   \n 0.05026670207647313  \n 0.008853844865064258 \n 0.0                  "
     },
     "metadata": {},
     "execution_count": 4
    }
   ],
   "cell_type": "code",
   "source": [
    "likelihood = [pdf(Binomial(9, p), 6) for p in p_grid]"
   ],
   "metadata": {},
   "execution_count": 4
  },
  {
   "outputs": [],
   "cell_type": "markdown",
   "source": [
    "compute product of likelihood and prior"
   ],
   "metadata": {}
  },
  {
   "outputs": [
    {
     "output_type": "execute_result",
     "data": {
      "text/plain": "20-element Array{Float64,1}:\n 0.0                  \n 1.5181489823498353e-6\n 8.185092949558011e-5 \n 0.0007772922789631156\n 0.0035985753655699746\n 0.01116094609366412  \n 0.0266829865137807   \n 0.052921099147992784 \n 0.09082697598243343  \n 0.13834132601662863  \n 0.18976862279372927  \n 0.23611465826683395  \n 0.26661125168434857  \n 0.27140056190174167  \n 0.24500508864811482  \n 0.18976862279372927  \n 0.1179181175789971   \n 0.05026670207647313  \n 0.008853844865064258 \n 0.0                  "
     },
     "metadata": {},
     "execution_count": 5
    }
   ],
   "cell_type": "code",
   "source": [
    "unstd_posterior = likelihood .* prior"
   ],
   "metadata": {},
   "execution_count": 5
  },
  {
   "outputs": [],
   "cell_type": "markdown",
   "source": [
    "standardize the posterior, so it sums to 1"
   ],
   "metadata": {}
  },
  {
   "outputs": [
    {
     "output_type": "execute_result",
     "data": {
      "text/plain": "20-element Array{Float64,1}:\n 0.0                   \n 7.989837111322336e-7  \n 4.307716842570822e-5  \n 0.00040907966009970354\n 0.0018938873152764026 \n 0.005873872876336504  \n 0.014042937706860135  \n 0.02785174359436921   \n 0.0478011546857793    \n 0.07280739067692472   \n 0.09987296389152912   \n 0.12426432985697713   \n 0.14031432341419828   \n 0.14283488028690608   \n 0.12894325738133897   \n 0.09987296389152912   \n 0.06205889954697725   \n 0.026454766059438056  \n 0.0046596730033231955 \n 0.0                   "
     },
     "metadata": {},
     "execution_count": 6
    }
   ],
   "cell_type": "code",
   "source": [
    "posterior = unstd_posterior  ./ sum(unstd_posterior)"
   ],
   "metadata": {},
   "execution_count": 6
  },
  {
   "outputs": [],
   "cell_type": "markdown",
   "source": [
    "snippet 2.4"
   ],
   "metadata": {}
  },
  {
   "outputs": [],
   "cell_type": "code",
   "source": [
    "p1 = plot( p_grid , posterior ,\n",
    "    xlab=\"probability of water\" , ylab=\"posterior probability\",\n",
    "    lab = \"interpolated\", title=\"20 points\" )\n",
    "p2 = scatter!( p1, p_grid , posterior, lab=\"computed\" )\n",
    "\n",
    "savefig(\"s2_4.pdf\")"
   ],
   "metadata": {},
   "execution_count": 7
  },
  {
   "outputs": [],
   "cell_type": "markdown",
   "source": [
    "snippet 2.5"
   ],
   "metadata": {}
  },
  {
   "outputs": [],
   "cell_type": "code",
   "source": [
    "prior1 = [p < 0.5 ? 0 : 1 for p in p_grid]\n",
    "prior2 = [exp( -5*abs( p - 0.5 ) ) for p in p_grid]\n",
    "\n",
    "p3 = plot(p_grid, prior1,\n",
    "  xlab=\"probability of water\" , ylab=\"posterior probability\",\n",
    "  lab = \"semi_uniform\", title=\"Other priors\" )\n",
    "p4 = plot!(p3, p_grid, prior2,  lab = \"double_exponential\" )\n",
    "\n",
    "savefig(\"s2_5.pdf\")"
   ],
   "metadata": {},
   "execution_count": 8
  },
  {
   "outputs": [],
   "cell_type": "markdown",
   "source": [
    "*This notebook was generated using [Literate.jl](https://github.com/fredrikekre/Literate.jl).*"
   ],
   "metadata": {}
  }
 ],
 "nbformat_minor": 3,
 "metadata": {
  "language_info": {
   "file_extension": ".jl",
   "mimetype": "application/julia",
   "name": "julia",
   "version": "1.0.2"
  },
  "kernelspec": {
   "name": "julia-1.0",
   "display_name": "Julia 1.0.2",
   "language": "julia"
  }
 },
 "nbformat": 4
}
