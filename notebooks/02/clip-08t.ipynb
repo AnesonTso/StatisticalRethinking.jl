{
 "cells": [
  {
   "cell_type": "markdown",
   "metadata": {},
   "source": [
    "Load Julia packages (libraries) needed"
   ]
  },
  {
   "cell_type": "code",
   "execution_count": 1,
   "metadata": {},
   "outputs": [
    {
     "name": "stdout",
     "output_type": "stream",
     "text": [
      "loaded\n"
     ]
    }
   ],
   "source": [
    "using StatisticalRethinking\n",
    "using Optim, Turing, Flux.Tracker\n",
    "gr(size=(600,300));"
   ]
  },
  {
   "cell_type": "code",
   "execution_count": 2,
   "metadata": {},
   "outputs": [
    {
     "name": "stderr",
     "output_type": "stream",
     "text": [
      "┌ Info: [Turing]: global PROGRESS is set as false\n",
      "└ @ Turing /Users/rob/.julia/packages/Turing/0dgDY/src/Turing.jl:81\n"
     ]
    },
    {
     "data": {
      "text/plain": [
       "false"
      ]
     },
     "execution_count": 2,
     "metadata": {},
     "output_type": "execute_result"
    }
   ],
   "source": [
    "Turing.setadbackend(:reverse_diff);\n",
    "Turing.turnprogress(false)"
   ]
  },
  {
   "cell_type": "markdown",
   "metadata": {},
   "source": [
    "### snippet 2.8t"
   ]
  },
  {
   "cell_type": "markdown",
   "metadata": {},
   "source": [
    "Define the data"
   ]
  },
  {
   "cell_type": "code",
   "execution_count": 3,
   "metadata": {},
   "outputs": [],
   "source": [
    "k = 6; n = 9;"
   ]
  },
  {
   "cell_type": "markdown",
   "metadata": {},
   "source": [
    "Define the model"
   ]
  },
  {
   "cell_type": "code",
   "execution_count": 4,
   "metadata": {},
   "outputs": [],
   "source": [
    "@model globe_toss(n, k) = begin\n",
    "  theta ~ Beta(1, 1) # prior\n",
    "  k ~ Binomial(n, theta) # model\n",
    "  return k, theta\n",
    "end;"
   ]
  },
  {
   "cell_type": "markdown",
   "metadata": {},
   "source": [
    "Compute the \"maximum_a_posteriori\" value"
   ]
  },
  {
   "cell_type": "markdown",
   "metadata": {},
   "source": [
    "Set search bounds"
   ]
  },
  {
   "cell_type": "code",
   "execution_count": 5,
   "metadata": {},
   "outputs": [],
   "source": [
    "lb = [0.0]; ub = [1.0];"
   ]
  },
  {
   "cell_type": "markdown",
   "metadata": {},
   "source": [
    "Create (compile) the model"
   ]
  },
  {
   "cell_type": "code",
   "execution_count": 6,
   "metadata": {},
   "outputs": [],
   "source": [
    "model = globe_toss(n, k);"
   ]
  },
  {
   "cell_type": "markdown",
   "metadata": {},
   "source": [
    "Compute the maximum_a_posteriori"
   ]
  },
  {
   "cell_type": "code",
   "execution_count": 7,
   "metadata": {},
   "outputs": [
    {
     "data": {
      "text/plain": [
       "Results of Optimization Algorithm\n",
       " * Algorithm: Fminbox with L-BFGS\n",
       " * Starting Point: [0.5278344803167265]\n",
       " * Minimizer: [0.6666666666021692]\n",
       " * Minimum: 1.297811e+00\n",
       " * Iterations: 3\n",
       " * Convergence: true\n",
       "   * |x - x'| ≤ 0.0e+00: false \n",
       "     |x - x'| = 4.62e-08 \n",
       "   * |f(x) - f(x')| ≤ 0.0e+00 |f(x)|: false\n",
       "     |f(x) - f(x')| = 3.35e-14 |f(x)|\n",
       "   * |g(x)| ≤ 1.0e-08: true \n",
       "     |g(x)| = 1.87e-09 \n",
       "   * Stopped by an increasing objective: false\n",
       "   * Reached Maximum Number of Iterations: false\n",
       " * Objective Calls: 43\n",
       " * Gradient Calls: 43"
      ]
     },
     "execution_count": 7,
     "metadata": {},
     "output_type": "execute_result"
    }
   ],
   "source": [
    "result = maximum_a_posteriori(model, lb, ub)"
   ]
  },
  {
   "cell_type": "markdown",
   "metadata": {},
   "source": [
    "Use Turing mcmc"
   ]
  },
  {
   "cell_type": "code",
   "execution_count": 8,
   "metadata": {},
   "outputs": [
    {
     "name": "stderr",
     "output_type": "stream",
     "text": [
      "┌ Info: [Turing] looking for good initial eps...\n",
      "└ @ Turing /Users/rob/.julia/packages/Turing/0dgDY/src/samplers/support/hmc_core.jl:246\n",
      "[NUTS{Turing.FluxTrackerAD,Union{}}] found initial ϵ: 0.4\n",
      "└ @ Turing /Users/rob/.julia/packages/Turing/0dgDY/src/samplers/support/hmc_core.jl:291\n",
      "┌ Info:  Adapted ϵ = 1.0169708384755447, std = [1.0]; 200 iterations is used for adaption.\n",
      "└ @ Turing /Users/rob/.julia/packages/Turing/0dgDY/src/samplers/adapt/adapt.jl:91\n"
     ]
    },
    {
     "name": "stdout",
     "output_type": "stream",
     "text": [
      "[NUTS] Finished with\n",
      "  Running time        = 4.928556796000006;\n",
      "  #lf / sample        = 0.002;\n",
      "  #evals / sample     = 6.539;\n",
      "  pre-cond. metric    = [1.0].\n"
     ]
    }
   ],
   "source": [
    "chn = sample(model, NUTS(2000, 200, 0.65));"
   ]
  },
  {
   "cell_type": "markdown",
   "metadata": {},
   "source": [
    "Look at the generated draws (in chn)"
   ]
  },
  {
   "cell_type": "code",
   "execution_count": 9,
   "metadata": {},
   "outputs": [
    {
     "name": "stdout",
     "output_type": "stream",
     "text": [
      "Iterations = 1:2000\n",
      "Thinning interval = 1\n",
      "Chains = 1\n",
      "Samples per chain = 2000\n",
      "\n",
      "Empirical Posterior Estimates:\n",
      "              Mean          SD       Naive SE       MCSE        ESS   \n",
      "  lf_num  0.0020000000 0.089442719 0.0020000000 0.0020000000 2000.0000\n",
      " elapsed  0.0024642784 0.075235635 0.0016823199 0.0021980359 1171.5953\n",
      " epsilon  1.0548866415 0.461890119 0.0103281770 0.0271973584  288.4190\n",
      "   theta  0.6320118370 0.139384359 0.0031167290 0.0049144284  804.4185\n",
      "      lp -3.3031059558 0.785831841 0.0175717342 0.0220789561 1266.7828\n",
      "eval_num  6.5390000000 3.424812940 0.0765811454 0.1028281653 1109.3013\n",
      "  lf_eps  1.0548866415 0.461890119 0.0103281770 0.0271973584  288.4190\n",
      "\n",
      "Quantiles:\n",
      "              2.5%         25.0%         50.0%         75.0%         97.5%    \n",
      "  lf_num  0.0000000000  0.0000000000  0.0000000000  0.000000000  0.00000000000\n",
      " elapsed  0.0001347157  0.0001382845  0.0001499945  0.000359588  0.00055348215\n",
      " epsilon  0.5855121691  1.0169708385  1.0169708385  1.016970838  1.76718835045\n",
      "   theta  0.3244780718  0.5476709438  0.6403916720  0.734694037  0.87726562376\n",
      "      lp -5.5307004970 -3.4356358751 -2.9975359347 -2.822909944 -2.77975955697\n",
      "eval_num  4.0000000000  4.0000000000  4.0000000000 10.000000000 10.00000000000\n",
      "  lf_eps  0.5855121691  1.0169708385  1.0169708385  1.016970838  1.76718835045\n",
      "\n"
     ]
    }
   ],
   "source": [
    "describe(chn)"
   ]
  },
  {
   "cell_type": "markdown",
   "metadata": {},
   "source": [
    "Look at the mean and sd"
   ]
  },
  {
   "cell_type": "code",
   "execution_count": 10,
   "metadata": {},
   "outputs": [
    {
     "name": "stdout",
     "output_type": "stream",
     "text": [
      "\n",
      "theta = (0.6339059485766951, 0.13765016043159534)\n",
      "\n"
     ]
    }
   ],
   "source": [
    "println(\"\\ntheta = $(mean_and_std(chn[:theta][201:2000]))\\n\")"
   ]
  },
  {
   "cell_type": "markdown",
   "metadata": {},
   "source": [
    "Fix the inclusion of adaptation samples"
   ]
  },
  {
   "cell_type": "code",
   "execution_count": 11,
   "metadata": {},
   "outputs": [
    {
     "data": {
      "text/plain": [
       "Object of type \"Chains{Float64}\"\n",
       "\n",
       "Iterations = 1:1800\n",
       "Thinning interval = 1\n",
       "Chains = 1\n",
       "Samples per chain = 1800\n",
       "\n",
       "Union{Missing, Float64}[0.0 0.0245762 … 22.0 1.01697; 0.0 0.000412524 … 4.0 1.01697; … ; 0.0 0.000145242 … 4.0 1.01697; 0.0 0.000145184 … 4.0 1.01697]"
      ]
     },
     "execution_count": 11,
     "metadata": {},
     "output_type": "execute_result"
    }
   ],
   "source": [
    "chn2 = MCMCChain.Chains(chn.value[201:2000,:,:], names=chn.names)"
   ]
  },
  {
   "cell_type": "markdown",
   "metadata": {},
   "source": [
    "Look at the proper draws (in corrected chn2)"
   ]
  },
  {
   "cell_type": "code",
   "execution_count": 12,
   "metadata": {},
   "outputs": [
    {
     "name": "stdout",
     "output_type": "stream",
     "text": [
      "Iterations = 1:1800\n",
      "Thinning interval = 1\n",
      "Chains = 1\n",
      "Samples per chain = 1800\n",
      "\n",
      "Empirical Posterior Estimates:\n",
      "              Mean                  SD                     Naive SE               MCSE         ESS   \n",
      "  lf_num  0.00000000000 0.00000000000000000000000 0.000000000000000000000000 0.000000000000       NaN\n",
      " elapsed  0.00026535625 0.00064334605836867853230 0.000015163812017404300952 0.000019084184 1136.4284\n",
      " epsilon  1.01697083848 0.00000000000000066631893 0.000000000000000015705288 0.000000000000 1800.0000\n",
      "   theta  0.63390594858 0.13765016043159533642992 0.003244445395753241690590 0.005260408830  684.7223\n",
      "      lp -3.29160972548 0.75270133426860552638971 0.017741340588983106618670 0.020840661177 1304.4348\n",
      "eval_num  6.41666666667 2.96388302012344873048733 0.069859392739098497004946 0.059765336315 1800.0000\n",
      "  lf_eps  1.01697083848 0.00000000000000066631893 0.000000000000000015705288 0.000000000000 1800.0000\n",
      "\n",
      "Quantiles:\n",
      "              2.5%           25.0%        50.0%         75.0%          97.5%    \n",
      "  lf_num  0.00000000000  0.00000000000  0.00000000  0.00000000000  0.00000000000\n",
      " elapsed  0.00013467397  0.00013860325  0.00014983  0.00035968725  0.00048772625\n",
      " epsilon  1.01697083848  1.01697083848  1.01697084  1.01697083848  1.01697083848\n",
      "   theta  0.33090315595  0.54872730536  0.64026470  0.73821364480  0.87726562376\n",
      "      lp -5.50759395812 -3.43606207112 -3.00188591 -2.82229156435 -2.77975601301\n",
      "eval_num  4.00000000000  4.00000000000  4.00000000 10.00000000000 10.00000000000\n",
      "  lf_eps  1.01697083848  1.01697083848  1.01697084  1.01697083848  1.01697083848\n",
      "\n"
     ]
    }
   ],
   "source": [
    "describe(chn2)"
   ]
  },
  {
   "cell_type": "markdown",
   "metadata": {},
   "source": [
    "Compute at hpd region"
   ]
  },
  {
   "cell_type": "code",
   "execution_count": 13,
   "metadata": {},
   "outputs": [],
   "source": [
    "bnds = MCMCChain.hpd(chn2[:, 4, :], alpha=0.06);"
   ]
  },
  {
   "cell_type": "markdown",
   "metadata": {},
   "source": [
    "analytical calculation"
   ]
  },
  {
   "cell_type": "code",
   "execution_count": 14,
   "metadata": {},
   "outputs": [
    {
     "data": {
      "image/svg+xml": [
       "<?xml version=\"1.0\" encoding=\"utf-8\"?>\n",
       "<svg xmlns=\"http://www.w3.org/2000/svg\" xmlns:xlink=\"http://www.w3.org/1999/xlink\" width=\"600\" height=\"300\" viewBox=\"0 0 2400 1200\">\n",
       "<defs>\n",
       "  <clipPath id=\"clip8100\">\n",
       "    <rect x=\"0\" y=\"0\" width=\"2000\" height=\"2000\"/>\n",
       "  </clipPath>\n",
       "</defs>\n",
       "<defs>\n",
       "  <clipPath id=\"clip8101\">\n",
       "    <rect x=\"0\" y=\"0\" width=\"2400\" height=\"1200\"/>\n",
       "  </clipPath>\n",
       "</defs>\n",
       "<polygon clip-path=\"url(#clip8101)\" points=\"\n",
       "0,1200 2400,1200 2400,0 0,0 \n",
       "  \" fill=\"#ffffff\" fill-rule=\"evenodd\" fill-opacity=\"1\"/>\n",
       "<defs>\n",
       "  <clipPath id=\"clip8102\">\n",
       "    <rect x=\"480\" y=\"0\" width=\"1681\" height=\"1200\"/>\n",
       "  </clipPath>\n",
       "</defs>\n",
       "<polygon clip-path=\"url(#clip8101)\" points=\"\n",
       "161.394,1103.47 2321.26,1103.47 2321.26,47.2441 161.394,47.2441 \n",
       "  \" fill=\"#ffffff\" fill-rule=\"evenodd\" fill-opacity=\"1\"/>\n",
       "<defs>\n",
       "  <clipPath id=\"clip8103\">\n",
       "    <rect x=\"161\" y=\"47\" width=\"2161\" height=\"1057\"/>\n",
       "  </clipPath>\n",
       "</defs>\n",
       "<polyline clip-path=\"url(#clip8103)\" style=\"stroke:#000000; stroke-width:2; stroke-opacity:0.1; fill:none\" points=\"\n",
       "  222.522,1103.47 222.522,47.2441 \n",
       "  \"/>\n",
       "<polyline clip-path=\"url(#clip8103)\" style=\"stroke:#000000; stroke-width:2; stroke-opacity:0.1; fill:none\" points=\"\n",
       "  731.925,1103.47 731.925,47.2441 \n",
       "  \"/>\n",
       "<polyline clip-path=\"url(#clip8103)\" style=\"stroke:#000000; stroke-width:2; stroke-opacity:0.1; fill:none\" points=\"\n",
       "  1241.33,1103.47 1241.33,47.2441 \n",
       "  \"/>\n",
       "<polyline clip-path=\"url(#clip8103)\" style=\"stroke:#000000; stroke-width:2; stroke-opacity:0.1; fill:none\" points=\"\n",
       "  1750.73,1103.47 1750.73,47.2441 \n",
       "  \"/>\n",
       "<polyline clip-path=\"url(#clip8103)\" style=\"stroke:#000000; stroke-width:2; stroke-opacity:0.1; fill:none\" points=\"\n",
       "  2260.13,1103.47 2260.13,47.2441 \n",
       "  \"/>\n",
       "<polyline clip-path=\"url(#clip8103)\" style=\"stroke:#000000; stroke-width:2; stroke-opacity:0.1; fill:none\" points=\"\n",
       "  161.394,1073.58 2321.26,1073.58 \n",
       "  \"/>\n",
       "<polyline clip-path=\"url(#clip8103)\" style=\"stroke:#000000; stroke-width:2; stroke-opacity:0.1; fill:none\" points=\"\n",
       "  161.394,891.128 2321.26,891.128 \n",
       "  \"/>\n",
       "<polyline clip-path=\"url(#clip8103)\" style=\"stroke:#000000; stroke-width:2; stroke-opacity:0.1; fill:none\" points=\"\n",
       "  161.394,708.674 2321.26,708.674 \n",
       "  \"/>\n",
       "<polyline clip-path=\"url(#clip8103)\" style=\"stroke:#000000; stroke-width:2; stroke-opacity:0.1; fill:none\" points=\"\n",
       "  161.394,526.22 2321.26,526.22 \n",
       "  \"/>\n",
       "<polyline clip-path=\"url(#clip8103)\" style=\"stroke:#000000; stroke-width:2; stroke-opacity:0.1; fill:none\" points=\"\n",
       "  161.394,343.766 2321.26,343.766 \n",
       "  \"/>\n",
       "<polyline clip-path=\"url(#clip8103)\" style=\"stroke:#000000; stroke-width:2; stroke-opacity:0.1; fill:none\" points=\"\n",
       "  161.394,161.312 2321.26,161.312 \n",
       "  \"/>\n",
       "<polyline clip-path=\"url(#clip8101)\" style=\"stroke:#000000; stroke-width:4; stroke-opacity:1; fill:none\" points=\"\n",
       "  161.394,1103.47 2321.26,1103.47 \n",
       "  \"/>\n",
       "<polyline clip-path=\"url(#clip8101)\" style=\"stroke:#000000; stroke-width:4; stroke-opacity:1; fill:none\" points=\"\n",
       "  161.394,1103.47 161.394,47.2441 \n",
       "  \"/>\n",
       "<polyline clip-path=\"url(#clip8101)\" style=\"stroke:#000000; stroke-width:4; stroke-opacity:1; fill:none\" points=\"\n",
       "  222.522,1103.47 222.522,1087.63 \n",
       "  \"/>\n",
       "<polyline clip-path=\"url(#clip8101)\" style=\"stroke:#000000; stroke-width:4; stroke-opacity:1; fill:none\" points=\"\n",
       "  731.925,1103.47 731.925,1087.63 \n",
       "  \"/>\n",
       "<polyline clip-path=\"url(#clip8101)\" style=\"stroke:#000000; stroke-width:4; stroke-opacity:1; fill:none\" points=\"\n",
       "  1241.33,1103.47 1241.33,1087.63 \n",
       "  \"/>\n",
       "<polyline clip-path=\"url(#clip8101)\" style=\"stroke:#000000; stroke-width:4; stroke-opacity:1; fill:none\" points=\"\n",
       "  1750.73,1103.47 1750.73,1087.63 \n",
       "  \"/>\n",
       "<polyline clip-path=\"url(#clip8101)\" style=\"stroke:#000000; stroke-width:4; stroke-opacity:1; fill:none\" points=\"\n",
       "  2260.13,1103.47 2260.13,1087.63 \n",
       "  \"/>\n",
       "<polyline clip-path=\"url(#clip8101)\" style=\"stroke:#000000; stroke-width:4; stroke-opacity:1; fill:none\" points=\"\n",
       "  161.394,1073.58 193.792,1073.58 \n",
       "  \"/>\n",
       "<polyline clip-path=\"url(#clip8101)\" style=\"stroke:#000000; stroke-width:4; stroke-opacity:1; fill:none\" points=\"\n",
       "  161.394,891.128 193.792,891.128 \n",
       "  \"/>\n",
       "<polyline clip-path=\"url(#clip8101)\" style=\"stroke:#000000; stroke-width:4; stroke-opacity:1; fill:none\" points=\"\n",
       "  161.394,708.674 193.792,708.674 \n",
       "  \"/>\n",
       "<polyline clip-path=\"url(#clip8101)\" style=\"stroke:#000000; stroke-width:4; stroke-opacity:1; fill:none\" points=\"\n",
       "  161.394,526.22 193.792,526.22 \n",
       "  \"/>\n",
       "<polyline clip-path=\"url(#clip8101)\" style=\"stroke:#000000; stroke-width:4; stroke-opacity:1; fill:none\" points=\"\n",
       "  161.394,343.766 193.792,343.766 \n",
       "  \"/>\n",
       "<polyline clip-path=\"url(#clip8101)\" style=\"stroke:#000000; stroke-width:4; stroke-opacity:1; fill:none\" points=\"\n",
       "  161.394,161.312 193.792,161.312 \n",
       "  \"/>\n",
       "<g clip-path=\"url(#clip8101)\">\n",
       "<text style=\"fill:#000000; fill-opacity:1; font-family:Arial,Helvetica Neue,Helvetica,sans-serif; font-size:48px; text-anchor:middle;\" transform=\"rotate(0, 222.522, 1157.47)\" x=\"222.522\" y=\"1157.47\">0.00</text>\n",
       "</g>\n",
       "<g clip-path=\"url(#clip8101)\">\n",
       "<text style=\"fill:#000000; fill-opacity:1; font-family:Arial,Helvetica Neue,Helvetica,sans-serif; font-size:48px; text-anchor:middle;\" transform=\"rotate(0, 731.925, 1157.47)\" x=\"731.925\" y=\"1157.47\">0.25</text>\n",
       "</g>\n",
       "<g clip-path=\"url(#clip8101)\">\n",
       "<text style=\"fill:#000000; fill-opacity:1; font-family:Arial,Helvetica Neue,Helvetica,sans-serif; font-size:48px; text-anchor:middle;\" transform=\"rotate(0, 1241.33, 1157.47)\" x=\"1241.33\" y=\"1157.47\">0.50</text>\n",
       "</g>\n",
       "<g clip-path=\"url(#clip8101)\">\n",
       "<text style=\"fill:#000000; fill-opacity:1; font-family:Arial,Helvetica Neue,Helvetica,sans-serif; font-size:48px; text-anchor:middle;\" transform=\"rotate(0, 1750.73, 1157.47)\" x=\"1750.73\" y=\"1157.47\">0.75</text>\n",
       "</g>\n",
       "<g clip-path=\"url(#clip8101)\">\n",
       "<text style=\"fill:#000000; fill-opacity:1; font-family:Arial,Helvetica Neue,Helvetica,sans-serif; font-size:48px; text-anchor:middle;\" transform=\"rotate(0, 2260.13, 1157.47)\" x=\"2260.13\" y=\"1157.47\">1.00</text>\n",
       "</g>\n",
       "<g clip-path=\"url(#clip8101)\">\n",
       "<text style=\"fill:#000000; fill-opacity:1; font-family:Arial,Helvetica Neue,Helvetica,sans-serif; font-size:48px; text-anchor:end;\" transform=\"rotate(0, 137.394, 1091.08)\" x=\"137.394\" y=\"1091.08\">0.0</text>\n",
       "</g>\n",
       "<g clip-path=\"url(#clip8101)\">\n",
       "<text style=\"fill:#000000; fill-opacity:1; font-family:Arial,Helvetica Neue,Helvetica,sans-serif; font-size:48px; text-anchor:end;\" transform=\"rotate(0, 137.394, 908.628)\" x=\"137.394\" y=\"908.628\">0.5</text>\n",
       "</g>\n",
       "<g clip-path=\"url(#clip8101)\">\n",
       "<text style=\"fill:#000000; fill-opacity:1; font-family:Arial,Helvetica Neue,Helvetica,sans-serif; font-size:48px; text-anchor:end;\" transform=\"rotate(0, 137.394, 726.174)\" x=\"137.394\" y=\"726.174\">1.0</text>\n",
       "</g>\n",
       "<g clip-path=\"url(#clip8101)\">\n",
       "<text style=\"fill:#000000; fill-opacity:1; font-family:Arial,Helvetica Neue,Helvetica,sans-serif; font-size:48px; text-anchor:end;\" transform=\"rotate(0, 137.394, 543.72)\" x=\"137.394\" y=\"543.72\">1.5</text>\n",
       "</g>\n",
       "<g clip-path=\"url(#clip8101)\">\n",
       "<text style=\"fill:#000000; fill-opacity:1; font-family:Arial,Helvetica Neue,Helvetica,sans-serif; font-size:48px; text-anchor:end;\" transform=\"rotate(0, 137.394, 361.266)\" x=\"137.394\" y=\"361.266\">2.0</text>\n",
       "</g>\n",
       "<g clip-path=\"url(#clip8101)\">\n",
       "<text style=\"fill:#000000; fill-opacity:1; font-family:Arial,Helvetica Neue,Helvetica,sans-serif; font-size:48px; text-anchor:end;\" transform=\"rotate(0, 137.394, 178.812)\" x=\"137.394\" y=\"178.812\">2.5</text>\n",
       "</g>\n",
       "<polygon clip-path=\"url(#clip8103)\" points=\"\n",
       "222.522,1073.58 242.898,1073.58 263.275,1073.58 283.651,1073.58 304.027,1073.58 324.403,1073.58 344.779,1073.57 365.155,1073.55 385.531,1073.52 405.907,1073.46 \n",
       "  426.283,1073.36 446.659,1073.2 467.035,1072.96 487.412,1072.61 507.788,1072.11 528.164,1071.44 548.54,1070.53 568.916,1069.35 589.292,1067.83 609.668,1065.92 \n",
       "  630.044,1063.54 650.42,1060.62 670.796,1057.09 691.172,1052.87 711.549,1047.87 731.925,1042.01 752.301,1035.21 772.677,1027.38 793.053,1018.45 813.429,1008.32 \n",
       "  833.805,996.936 854.181,984.214 874.557,970.094 894.933,954.52 915.309,937.447 935.686,918.839 956.062,898.67 976.438,876.931 996.814,853.624 1017.19,828.766 \n",
       "  1037.57,802.39 1057.94,774.547 1078.32,745.303 1098.69,714.744 1119.07,682.972 1139.45,650.109 1159.82,616.293 1180.2,581.681 1200.57,546.449 1220.95,510.788 \n",
       "  1241.33,474.905 1261.7,439.023 1282.08,403.379 1302.46,368.221 1322.83,333.809 1343.21,300.41 1363.58,268.299 1383.96,237.754 1404.34,209.055 1424.71,182.483 \n",
       "  1445.09,158.31 1465.46,136.807 1485.84,118.23 1506.22,102.824 1526.59,90.8166 1546.97,82.4151 1567.34,77.8032 1587.72,77.1374 1608.1,80.5439 1628.47,88.1149 \n",
       "  1648.85,99.9059 1669.22,115.932 1689.6,136.168 1709.98,160.54 1730.35,188.929 1750.73,221.169 1771.11,257.041 1791.48,296.279 1811.86,338.564 1832.23,383.528 \n",
       "  1852.61,430.757 1872.99,479.791 1893.36,530.127 1913.74,581.227 1934.11,632.521 1954.49,683.415 1974.87,733.301 1995.24,781.565 2015.62,827.6 2035.99,870.822 \n",
       "  2056.37,910.683 2076.75,946.688 2097.12,978.42 2117.5,1005.56 2137.88,1027.91 2158.25,1045.42 2178.63,1058.23 2199,1066.69 2219.38,1071.41 2239.76,1073.29 \n",
       "  2260.13,1073.58 2260.13,1073.58 2239.76,1073.58 2219.38,1073.58 2199,1073.58 2178.63,1073.58 2158.25,1073.58 2137.88,1073.58 2117.5,1073.58 2097.12,1073.58 \n",
       "  2076.75,1073.58 2056.37,1073.58 2035.99,1073.58 2015.62,1073.58 1995.24,1073.58 1974.87,1073.58 1954.49,1073.58 1934.11,1073.58 1913.74,1073.58 1893.36,1073.58 \n",
       "  1872.99,1073.58 1852.61,1073.58 1832.23,1073.58 1811.86,1073.58 1791.48,1073.58 1771.11,1073.58 1750.73,1073.58 1730.35,1073.58 1709.98,1073.58 1689.6,1073.58 \n",
       "  1669.22,1073.58 1648.85,1073.58 1628.47,1073.58 1608.1,1073.58 1587.72,1073.58 1567.34,1073.58 1546.97,1073.58 1526.59,1073.58 1506.22,1073.58 1485.84,1073.58 \n",
       "  1465.46,1073.58 1445.09,1073.58 1424.71,1073.58 1404.34,1073.58 1383.96,1073.58 1363.58,1073.58 1343.21,1073.58 1322.83,1073.58 1302.46,1073.58 1282.08,1073.58 \n",
       "  1261.7,1073.58 1241.33,1073.58 1220.95,1073.58 1200.57,1073.58 1180.2,1073.58 1159.82,1073.58 1139.45,1073.58 1119.07,1073.58 1098.69,1073.58 1078.32,1073.58 \n",
       "  1057.94,1073.58 1037.57,1073.58 1017.19,1073.58 996.814,1073.58 976.438,1073.58 956.062,1073.58 935.686,1073.58 915.309,1073.58 894.933,1073.58 874.557,1073.58 \n",
       "  854.181,1073.58 833.805,1073.58 813.429,1073.58 793.053,1073.58 772.677,1073.58 752.301,1073.58 731.925,1073.58 711.549,1073.58 691.172,1073.58 670.796,1073.58 \n",
       "  650.42,1073.58 630.044,1073.58 609.668,1073.58 589.292,1073.58 568.916,1073.58 548.54,1073.58 528.164,1073.58 507.788,1073.58 487.412,1073.58 467.035,1073.58 \n",
       "  446.659,1073.58 426.283,1073.58 405.907,1073.58 385.531,1073.58 365.155,1073.58 344.779,1073.58 324.403,1073.58 304.027,1073.58 283.651,1073.58 263.275,1073.58 \n",
       "  242.898,1073.58 222.522,1073.58 \n",
       "  \" fill=\"#ffa500\" fill-rule=\"evenodd\" fill-opacity=\"0.5\"/>\n",
       "<polyline clip-path=\"url(#clip8103)\" style=\"stroke:#009af9; stroke-width:4; stroke-opacity:1; fill:none\" points=\"\n",
       "  222.522,1073.58 242.898,1073.58 263.275,1073.58 283.651,1073.58 304.027,1073.58 324.403,1073.58 344.779,1073.57 365.155,1073.55 385.531,1073.52 405.907,1073.46 \n",
       "  426.283,1073.36 446.659,1073.2 467.035,1072.96 487.412,1072.61 507.788,1072.11 528.164,1071.44 548.54,1070.53 568.916,1069.35 589.292,1067.83 609.668,1065.92 \n",
       "  630.044,1063.54 650.42,1060.62 670.796,1057.09 691.172,1052.87 711.549,1047.87 731.925,1042.01 752.301,1035.21 772.677,1027.38 793.053,1018.45 813.429,1008.32 \n",
       "  833.805,996.936 854.181,984.214 874.557,970.094 894.933,954.52 915.309,937.447 935.686,918.839 956.062,898.67 976.438,876.931 996.814,853.624 1017.19,828.766 \n",
       "  1037.57,802.39 1057.94,774.547 1078.32,745.303 1098.69,714.744 1119.07,682.972 1139.45,650.109 1159.82,616.293 1180.2,581.681 1200.57,546.449 1220.95,510.788 \n",
       "  1241.33,474.905 1261.7,439.023 1282.08,403.379 1302.46,368.221 1322.83,333.809 1343.21,300.41 1363.58,268.299 1383.96,237.754 1404.34,209.055 1424.71,182.483 \n",
       "  1445.09,158.31 1465.46,136.807 1485.84,118.23 1506.22,102.824 1526.59,90.8166 1546.97,82.4151 1567.34,77.8032 1587.72,77.1374 1608.1,80.5439 1628.47,88.1149 \n",
       "  1648.85,99.9059 1669.22,115.932 1689.6,136.168 1709.98,160.54 1730.35,188.929 1750.73,221.169 1771.11,257.041 1791.48,296.279 1811.86,338.564 1832.23,383.528 \n",
       "  1852.61,430.757 1872.99,479.791 1893.36,530.127 1913.74,581.227 1934.11,632.521 1954.49,683.415 1974.87,733.301 1995.24,781.565 2015.62,827.6 2035.99,870.822 \n",
       "  2056.37,910.683 2076.75,946.688 2097.12,978.42 2117.5,1005.56 2137.88,1027.91 2158.25,1045.42 2178.63,1058.23 2199,1066.69 2219.38,1071.41 2239.76,1073.29 \n",
       "  2260.13,1073.58 \n",
       "  \"/>\n",
       "<polygon clip-path=\"url(#clip8101)\" points=\"\n",
       "1610.62,251.724 2249.26,251.724 2249.26,130.764 1610.62,130.764 \n",
       "  \" fill=\"#ffffff\" fill-rule=\"evenodd\" fill-opacity=\"1\"/>\n",
       "<polyline clip-path=\"url(#clip8101)\" style=\"stroke:#000000; stroke-width:4; stroke-opacity:1; fill:none\" points=\"\n",
       "  1610.62,251.724 2249.26,251.724 2249.26,130.764 1610.62,130.764 1610.62,251.724 \n",
       "  \"/>\n",
       "<polygon clip-path=\"url(#clip8101)\" points=\"\n",
       "1634.62,215.436 1778.62,215.436 1778.62,167.052 1634.62,167.052 1634.62,215.436 \n",
       "  \" fill=\"#ffa500\" fill-rule=\"evenodd\" fill-opacity=\"0.5\"/>\n",
       "<polyline clip-path=\"url(#clip8101)\" style=\"stroke:#009af9; stroke-width:4; stroke-opacity:1; fill:none\" points=\"\n",
       "  1634.62,167.052 1778.62,167.052 \n",
       "  \"/>\n",
       "<g clip-path=\"url(#clip8101)\">\n",
       "<text style=\"fill:#000000; fill-opacity:1; font-family:Arial,Helvetica Neue,Helvetica,sans-serif; font-size:48px; text-anchor:start;\" transform=\"rotate(0, 1802.62, 208.744)\" x=\"1802.62\" y=\"208.744\">Conjugate solution</text>\n",
       "</g>\n",
       "</svg>\n"
      ]
     },
     "execution_count": 14,
     "metadata": {},
     "output_type": "execute_result"
    }
   ],
   "source": [
    "w = 6; n = 9; x = 0:0.01:1\n",
    "plot( x, pdf.(Beta( w+1 , n-w+1 ) , x ), fill=(0, .5,:orange), lab=\"Conjugate solution\")"
   ]
  },
  {
   "cell_type": "markdown",
   "metadata": {},
   "source": [
    "quadratic approximation"
   ]
  },
  {
   "cell_type": "code",
   "execution_count": 15,
   "metadata": {},
   "outputs": [
    {
     "data": {
      "image/svg+xml": [
       "<?xml version=\"1.0\" encoding=\"utf-8\"?>\n",
       "<svg xmlns=\"http://www.w3.org/2000/svg\" xmlns:xlink=\"http://www.w3.org/1999/xlink\" width=\"600\" height=\"300\" viewBox=\"0 0 2400 1200\">\n",
       "<defs>\n",
       "  <clipPath id=\"clip8300\">\n",
       "    <rect x=\"0\" y=\"0\" width=\"2000\" height=\"2000\"/>\n",
       "  </clipPath>\n",
       "</defs>\n",
       "<defs>\n",
       "  <clipPath id=\"clip8301\">\n",
       "    <rect x=\"0\" y=\"0\" width=\"2400\" height=\"1200\"/>\n",
       "  </clipPath>\n",
       "</defs>\n",
       "<polygon clip-path=\"url(#clip8301)\" points=\"\n",
       "0,1200 2400,1200 2400,0 0,0 \n",
       "  \" fill=\"#ffffff\" fill-rule=\"evenodd\" fill-opacity=\"1\"/>\n",
       "<defs>\n",
       "  <clipPath id=\"clip8302\">\n",
       "    <rect x=\"480\" y=\"0\" width=\"1681\" height=\"1200\"/>\n",
       "  </clipPath>\n",
       "</defs>\n",
       "<polygon clip-path=\"url(#clip8301)\" points=\"\n",
       "161.394,1111.86 2321.26,1111.86 2321.26,47.2441 161.394,47.2441 \n",
       "  \" fill=\"#ffffff\" fill-rule=\"evenodd\" fill-opacity=\"1\"/>\n",
       "<defs>\n",
       "  <clipPath id=\"clip8303\">\n",
       "    <rect x=\"161\" y=\"47\" width=\"2161\" height=\"1066\"/>\n",
       "  </clipPath>\n",
       "</defs>\n",
       "<polyline clip-path=\"url(#clip8303)\" style=\"stroke:#000000; stroke-width:2; stroke-opacity:0.1; fill:none\" points=\"\n",
       "  222.522,1111.86 222.522,47.2441 \n",
       "  \"/>\n",
       "<polyline clip-path=\"url(#clip8303)\" style=\"stroke:#000000; stroke-width:2; stroke-opacity:0.1; fill:none\" points=\"\n",
       "  731.925,1111.86 731.925,47.2441 \n",
       "  \"/>\n",
       "<polyline clip-path=\"url(#clip8303)\" style=\"stroke:#000000; stroke-width:2; stroke-opacity:0.1; fill:none\" points=\"\n",
       "  1241.33,1111.86 1241.33,47.2441 \n",
       "  \"/>\n",
       "<polyline clip-path=\"url(#clip8303)\" style=\"stroke:#000000; stroke-width:2; stroke-opacity:0.1; fill:none\" points=\"\n",
       "  1750.73,1111.86 1750.73,47.2441 \n",
       "  \"/>\n",
       "<polyline clip-path=\"url(#clip8303)\" style=\"stroke:#000000; stroke-width:2; stroke-opacity:0.1; fill:none\" points=\"\n",
       "  2260.13,1111.86 2260.13,47.2441 \n",
       "  \"/>\n",
       "<polyline clip-path=\"url(#clip8303)\" style=\"stroke:#000000; stroke-width:2; stroke-opacity:0.1; fill:none\" points=\"\n",
       "  161.394,1081.73 2321.26,1081.73 \n",
       "  \"/>\n",
       "<polyline clip-path=\"url(#clip8303)\" style=\"stroke:#000000; stroke-width:2; stroke-opacity:0.1; fill:none\" points=\"\n",
       "  161.394,897.825 2321.26,897.825 \n",
       "  \"/>\n",
       "<polyline clip-path=\"url(#clip8303)\" style=\"stroke:#000000; stroke-width:2; stroke-opacity:0.1; fill:none\" points=\"\n",
       "  161.394,713.924 2321.26,713.924 \n",
       "  \"/>\n",
       "<polyline clip-path=\"url(#clip8303)\" style=\"stroke:#000000; stroke-width:2; stroke-opacity:0.1; fill:none\" points=\"\n",
       "  161.394,530.022 2321.26,530.022 \n",
       "  \"/>\n",
       "<polyline clip-path=\"url(#clip8303)\" style=\"stroke:#000000; stroke-width:2; stroke-opacity:0.1; fill:none\" points=\"\n",
       "  161.394,346.12 2321.26,346.12 \n",
       "  \"/>\n",
       "<polyline clip-path=\"url(#clip8303)\" style=\"stroke:#000000; stroke-width:2; stroke-opacity:0.1; fill:none\" points=\"\n",
       "  161.394,162.218 2321.26,162.218 \n",
       "  \"/>\n",
       "<polyline clip-path=\"url(#clip8301)\" style=\"stroke:#000000; stroke-width:4; stroke-opacity:1; fill:none\" points=\"\n",
       "  161.394,1111.86 2321.26,1111.86 \n",
       "  \"/>\n",
       "<polyline clip-path=\"url(#clip8301)\" style=\"stroke:#000000; stroke-width:4; stroke-opacity:1; fill:none\" points=\"\n",
       "  161.394,1111.86 161.394,47.2441 \n",
       "  \"/>\n",
       "<polyline clip-path=\"url(#clip8301)\" style=\"stroke:#000000; stroke-width:4; stroke-opacity:1; fill:none\" points=\"\n",
       "  222.522,1111.86 222.522,1095.89 \n",
       "  \"/>\n",
       "<polyline clip-path=\"url(#clip8301)\" style=\"stroke:#000000; stroke-width:4; stroke-opacity:1; fill:none\" points=\"\n",
       "  731.925,1111.86 731.925,1095.89 \n",
       "  \"/>\n",
       "<polyline clip-path=\"url(#clip8301)\" style=\"stroke:#000000; stroke-width:4; stroke-opacity:1; fill:none\" points=\"\n",
       "  1241.33,1111.86 1241.33,1095.89 \n",
       "  \"/>\n",
       "<polyline clip-path=\"url(#clip8301)\" style=\"stroke:#000000; stroke-width:4; stroke-opacity:1; fill:none\" points=\"\n",
       "  1750.73,1111.86 1750.73,1095.89 \n",
       "  \"/>\n",
       "<polyline clip-path=\"url(#clip8301)\" style=\"stroke:#000000; stroke-width:4; stroke-opacity:1; fill:none\" points=\"\n",
       "  2260.13,1111.86 2260.13,1095.89 \n",
       "  \"/>\n",
       "<polyline clip-path=\"url(#clip8301)\" style=\"stroke:#000000; stroke-width:4; stroke-opacity:1; fill:none\" points=\"\n",
       "  161.394,1081.73 193.792,1081.73 \n",
       "  \"/>\n",
       "<polyline clip-path=\"url(#clip8301)\" style=\"stroke:#000000; stroke-width:4; stroke-opacity:1; fill:none\" points=\"\n",
       "  161.394,897.825 193.792,897.825 \n",
       "  \"/>\n",
       "<polyline clip-path=\"url(#clip8301)\" style=\"stroke:#000000; stroke-width:4; stroke-opacity:1; fill:none\" points=\"\n",
       "  161.394,713.924 193.792,713.924 \n",
       "  \"/>\n",
       "<polyline clip-path=\"url(#clip8301)\" style=\"stroke:#000000; stroke-width:4; stroke-opacity:1; fill:none\" points=\"\n",
       "  161.394,530.022 193.792,530.022 \n",
       "  \"/>\n",
       "<polyline clip-path=\"url(#clip8301)\" style=\"stroke:#000000; stroke-width:4; stroke-opacity:1; fill:none\" points=\"\n",
       "  161.394,346.12 193.792,346.12 \n",
       "  \"/>\n",
       "<polyline clip-path=\"url(#clip8301)\" style=\"stroke:#000000; stroke-width:4; stroke-opacity:1; fill:none\" points=\"\n",
       "  161.394,162.218 193.792,162.218 \n",
       "  \"/>\n",
       "<g clip-path=\"url(#clip8301)\">\n",
       "<text style=\"fill:#000000; fill-opacity:1; font-family:Arial,Helvetica Neue,Helvetica,sans-serif; font-size:48px; text-anchor:middle;\" transform=\"rotate(0, 222.522, 1165.86)\" x=\"222.522\" y=\"1165.86\">0.00</text>\n",
       "</g>\n",
       "<g clip-path=\"url(#clip8301)\">\n",
       "<text style=\"fill:#000000; fill-opacity:1; font-family:Arial,Helvetica Neue,Helvetica,sans-serif; font-size:48px; text-anchor:middle;\" transform=\"rotate(0, 731.925, 1165.86)\" x=\"731.925\" y=\"1165.86\">0.25</text>\n",
       "</g>\n",
       "<g clip-path=\"url(#clip8301)\">\n",
       "<text style=\"fill:#000000; fill-opacity:1; font-family:Arial,Helvetica Neue,Helvetica,sans-serif; font-size:48px; text-anchor:middle;\" transform=\"rotate(0, 1241.33, 1165.86)\" x=\"1241.33\" y=\"1165.86\">0.50</text>\n",
       "</g>\n",
       "<g clip-path=\"url(#clip8301)\">\n",
       "<text style=\"fill:#000000; fill-opacity:1; font-family:Arial,Helvetica Neue,Helvetica,sans-serif; font-size:48px; text-anchor:middle;\" transform=\"rotate(0, 1750.73, 1165.86)\" x=\"1750.73\" y=\"1165.86\">0.75</text>\n",
       "</g>\n",
       "<g clip-path=\"url(#clip8301)\">\n",
       "<text style=\"fill:#000000; fill-opacity:1; font-family:Arial,Helvetica Neue,Helvetica,sans-serif; font-size:48px; text-anchor:middle;\" transform=\"rotate(0, 2260.13, 1165.86)\" x=\"2260.13\" y=\"1165.86\">1.00</text>\n",
       "</g>\n",
       "<g clip-path=\"url(#clip8301)\">\n",
       "<text style=\"fill:#000000; fill-opacity:1; font-family:Arial,Helvetica Neue,Helvetica,sans-serif; font-size:48px; text-anchor:end;\" transform=\"rotate(0, 137.394, 1099.23)\" x=\"137.394\" y=\"1099.23\">0.0</text>\n",
       "</g>\n",
       "<g clip-path=\"url(#clip8301)\">\n",
       "<text style=\"fill:#000000; fill-opacity:1; font-family:Arial,Helvetica Neue,Helvetica,sans-serif; font-size:48px; text-anchor:end;\" transform=\"rotate(0, 137.394, 915.325)\" x=\"137.394\" y=\"915.325\">0.5</text>\n",
       "</g>\n",
       "<g clip-path=\"url(#clip8301)\">\n",
       "<text style=\"fill:#000000; fill-opacity:1; font-family:Arial,Helvetica Neue,Helvetica,sans-serif; font-size:48px; text-anchor:end;\" transform=\"rotate(0, 137.394, 731.424)\" x=\"137.394\" y=\"731.424\">1.0</text>\n",
       "</g>\n",
       "<g clip-path=\"url(#clip8301)\">\n",
       "<text style=\"fill:#000000; fill-opacity:1; font-family:Arial,Helvetica Neue,Helvetica,sans-serif; font-size:48px; text-anchor:end;\" transform=\"rotate(0, 137.394, 547.522)\" x=\"137.394\" y=\"547.522\">1.5</text>\n",
       "</g>\n",
       "<g clip-path=\"url(#clip8301)\">\n",
       "<text style=\"fill:#000000; fill-opacity:1; font-family:Arial,Helvetica Neue,Helvetica,sans-serif; font-size:48px; text-anchor:end;\" transform=\"rotate(0, 137.394, 363.62)\" x=\"137.394\" y=\"363.62\">2.0</text>\n",
       "</g>\n",
       "<g clip-path=\"url(#clip8301)\">\n",
       "<text style=\"fill:#000000; fill-opacity:1; font-family:Arial,Helvetica Neue,Helvetica,sans-serif; font-size:48px; text-anchor:end;\" transform=\"rotate(0, 137.394, 179.718)\" x=\"137.394\" y=\"179.718\">2.5</text>\n",
       "</g>\n",
       "<polygon clip-path=\"url(#clip8303)\" points=\"\n",
       "222.522,1081.73 242.898,1081.73 263.275,1081.73 283.651,1081.73 304.027,1081.73 324.403,1081.72 344.779,1081.72 365.155,1081.7 385.531,1081.66 405.907,1081.6 \n",
       "  426.283,1081.5 446.659,1081.34 467.035,1081.1 487.412,1080.75 507.788,1080.25 528.164,1079.57 548.54,1078.66 568.916,1077.46 589.292,1075.93 609.668,1074 \n",
       "  630.044,1071.6 650.42,1068.66 670.796,1065.1 691.172,1060.85 711.549,1055.81 731.925,1049.91 752.301,1043.05 772.677,1035.16 793.053,1026.16 813.429,1015.95 \n",
       "  833.805,1004.47 854.181,991.651 874.557,977.418 894.933,961.721 915.309,944.513 935.686,925.756 956.062,905.428 976.438,883.516 996.814,860.024 1017.19,834.969 \n",
       "  1037.57,808.384 1057.94,780.319 1078.32,750.844 1098.69,720.042 1119.07,688.018 1139.45,654.894 1159.82,620.809 1180.2,585.923 1200.57,550.411 1220.95,514.467 \n",
       "  1241.33,478.299 1261.7,442.133 1282.08,406.206 1302.46,370.769 1322.83,336.083 1343.21,302.419 1363.58,270.053 1383.96,239.266 1404.34,210.34 1424.71,183.556 \n",
       "  1445.09,159.192 1465.46,137.518 1485.84,118.793 1506.22,103.265 1526.59,91.1624 1546.97,82.6943 1567.34,78.0457 1587.72,77.3747 1608.1,80.8082 1628.47,88.4393 \n",
       "  1648.85,100.324 1669.22,116.478 1689.6,136.873 1709.98,161.439 1730.35,190.054 1750.73,222.549 1771.11,258.706 1791.48,298.255 1811.86,340.876 1832.23,386.197 \n",
       "  1852.61,433.801 1872.99,483.224 1893.36,533.96 1913.74,585.466 1934.11,637.166 1954.49,688.465 1974.87,738.746 1995.24,787.393 2015.62,833.794 2035.99,877.359 \n",
       "  2056.37,917.536 2076.75,953.827 2097.12,985.811 2117.5,1013.16 2137.88,1035.69 2158.25,1053.34 2178.63,1066.25 2199,1074.78 2219.38,1079.54 2239.76,1081.44 \n",
       "  2260.13,1081.73 2260.13,1081.73 2239.76,1081.73 2219.38,1081.73 2199,1081.73 2178.63,1081.73 2158.25,1081.73 2137.88,1081.73 2117.5,1081.73 2097.12,1081.73 \n",
       "  2076.75,1081.73 2056.37,1081.73 2035.99,1081.73 2015.62,1081.73 1995.24,1081.73 1974.87,1081.73 1954.49,1081.73 1934.11,1081.73 1913.74,1081.73 1893.36,1081.73 \n",
       "  1872.99,1081.73 1852.61,1081.73 1832.23,1081.73 1811.86,1081.73 1791.48,1081.73 1771.11,1081.73 1750.73,1081.73 1730.35,1081.73 1709.98,1081.73 1689.6,1081.73 \n",
       "  1669.22,1081.73 1648.85,1081.73 1628.47,1081.73 1608.1,1081.73 1587.72,1081.73 1567.34,1081.73 1546.97,1081.73 1526.59,1081.73 1506.22,1081.73 1485.84,1081.73 \n",
       "  1465.46,1081.73 1445.09,1081.73 1424.71,1081.73 1404.34,1081.73 1383.96,1081.73 1363.58,1081.73 1343.21,1081.73 1322.83,1081.73 1302.46,1081.73 1282.08,1081.73 \n",
       "  1261.7,1081.73 1241.33,1081.73 1220.95,1081.73 1200.57,1081.73 1180.2,1081.73 1159.82,1081.73 1139.45,1081.73 1119.07,1081.73 1098.69,1081.73 1078.32,1081.73 \n",
       "  1057.94,1081.73 1037.57,1081.73 1017.19,1081.73 996.814,1081.73 976.438,1081.73 956.062,1081.73 935.686,1081.73 915.309,1081.73 894.933,1081.73 874.557,1081.73 \n",
       "  854.181,1081.73 833.805,1081.73 813.429,1081.73 793.053,1081.73 772.677,1081.73 752.301,1081.73 731.925,1081.73 711.549,1081.73 691.172,1081.73 670.796,1081.73 \n",
       "  650.42,1081.73 630.044,1081.73 609.668,1081.73 589.292,1081.73 568.916,1081.73 548.54,1081.73 528.164,1081.73 507.788,1081.73 487.412,1081.73 467.035,1081.73 \n",
       "  446.659,1081.73 426.283,1081.73 405.907,1081.73 385.531,1081.73 365.155,1081.73 344.779,1081.73 324.403,1081.73 304.027,1081.73 283.651,1081.73 263.275,1081.73 \n",
       "  242.898,1081.73 222.522,1081.73 \n",
       "  \" fill=\"#ffa500\" fill-rule=\"evenodd\" fill-opacity=\"0.5\"/>\n",
       "<polyline clip-path=\"url(#clip8303)\" style=\"stroke:#009af9; stroke-width:4; stroke-opacity:1; fill:none\" points=\"\n",
       "  222.522,1081.73 242.898,1081.73 263.275,1081.73 283.651,1081.73 304.027,1081.73 324.403,1081.72 344.779,1081.72 365.155,1081.7 385.531,1081.66 405.907,1081.6 \n",
       "  426.283,1081.5 446.659,1081.34 467.035,1081.1 487.412,1080.75 507.788,1080.25 528.164,1079.57 548.54,1078.66 568.916,1077.46 589.292,1075.93 609.668,1074 \n",
       "  630.044,1071.6 650.42,1068.66 670.796,1065.1 691.172,1060.85 711.549,1055.81 731.925,1049.91 752.301,1043.05 772.677,1035.16 793.053,1026.16 813.429,1015.95 \n",
       "  833.805,1004.47 854.181,991.651 874.557,977.418 894.933,961.721 915.309,944.513 935.686,925.756 956.062,905.428 976.438,883.516 996.814,860.024 1017.19,834.969 \n",
       "  1037.57,808.384 1057.94,780.319 1078.32,750.844 1098.69,720.042 1119.07,688.018 1139.45,654.894 1159.82,620.809 1180.2,585.923 1200.57,550.411 1220.95,514.467 \n",
       "  1241.33,478.299 1261.7,442.133 1282.08,406.206 1302.46,370.769 1322.83,336.083 1343.21,302.419 1363.58,270.053 1383.96,239.266 1404.34,210.34 1424.71,183.556 \n",
       "  1445.09,159.192 1465.46,137.518 1485.84,118.793 1506.22,103.265 1526.59,91.1624 1546.97,82.6943 1567.34,78.0457 1587.72,77.3747 1608.1,80.8082 1628.47,88.4393 \n",
       "  1648.85,100.324 1669.22,116.478 1689.6,136.873 1709.98,161.439 1730.35,190.054 1750.73,222.549 1771.11,258.706 1791.48,298.255 1811.86,340.876 1832.23,386.197 \n",
       "  1852.61,433.801 1872.99,483.224 1893.36,533.96 1913.74,585.466 1934.11,637.166 1954.49,688.465 1974.87,738.746 1995.24,787.393 2015.62,833.794 2035.99,877.359 \n",
       "  2056.37,917.536 2076.75,953.827 2097.12,985.811 2117.5,1013.16 2137.88,1035.69 2158.25,1053.34 2178.63,1066.25 2199,1074.78 2219.38,1079.54 2239.76,1081.44 \n",
       "  2260.13,1081.73 \n",
       "  \"/>\n",
       "<polyline clip-path=\"url(#clip8303)\" style=\"stroke:#e26f46; stroke-width:4; stroke-opacity:1; fill:none\" points=\"\n",
       "  222.522,1081.58 242.898,1081.54 263.275,1081.49 283.651,1081.42 304.027,1081.33 324.403,1081.22 344.779,1081.09 365.155,1080.92 385.531,1080.7 405.907,1080.44 \n",
       "  426.283,1080.12 446.659,1079.72 467.035,1079.24 487.412,1078.64 507.788,1077.93 528.164,1077.06 548.54,1076.02 568.916,1074.78 589.292,1073.3 609.668,1071.54 \n",
       "  630.044,1069.46 650.42,1067.02 670.796,1064.16 691.172,1060.82 711.549,1056.95 731.925,1052.48 752.301,1047.33 772.677,1041.43 793.053,1034.71 813.429,1027.08 \n",
       "  833.805,1018.46 854.181,1008.77 874.557,997.912 894.933,985.82 915.309,972.412 935.686,957.614 956.062,941.363 976.438,923.603 996.814,904.291 1017.19,883.395 \n",
       "  1037.57,860.904 1057.94,836.82 1078.32,811.169 1098.69,783.996 1119.07,755.371 1139.45,725.389 1159.82,694.17 1180.2,661.858 1200.57,628.627 1220.95,594.671 \n",
       "  1241.33,560.212 1261.7,525.491 1282.08,490.772 1302.46,456.334 1322.83,422.47 1343.21,389.48 1363.58,357.674 1383.96,327.359 1404.34,298.839 1424.71,272.409 \n",
       "  1445.09,248.347 1465.46,226.916 1485.84,208.353 1506.22,192.865 1526.59,180.629 1546.97,171.786 1567.34,166.439 1587.72,164.649 1608.1,166.439 1628.47,171.786 \n",
       "  1648.85,180.629 1669.22,192.865 1689.6,208.353 1709.98,226.916 1730.35,248.347 1750.73,272.409 1771.11,298.839 1791.48,327.359 1811.86,357.674 1832.23,389.48 \n",
       "  1852.61,422.47 1872.99,456.334 1893.36,490.772 1913.74,525.491 1934.11,560.212 1954.49,594.671 1974.87,628.627 1995.24,661.858 2015.62,694.17 2035.99,725.389 \n",
       "  2056.37,755.371 2076.75,783.996 2097.12,811.169 2117.5,836.82 2137.88,860.904 2158.25,883.395 2178.63,904.291 2199,923.603 2219.38,941.363 2239.76,957.614 \n",
       "  2260.13,972.412 \n",
       "  \"/>\n",
       "<polygon clip-path=\"url(#clip8301)\" points=\"\n",
       "1538.51,312.204 2249.26,312.204 2249.26,130.764 1538.51,130.764 \n",
       "  \" fill=\"#ffffff\" fill-rule=\"evenodd\" fill-opacity=\"1\"/>\n",
       "<polyline clip-path=\"url(#clip8301)\" style=\"stroke:#000000; stroke-width:4; stroke-opacity:1; fill:none\" points=\"\n",
       "  1538.51,312.204 2249.26,312.204 2249.26,130.764 1538.51,130.764 1538.51,312.204 \n",
       "  \"/>\n",
       "<polygon clip-path=\"url(#clip8301)\" points=\"\n",
       "1562.51,215.436 1706.51,215.436 1706.51,167.052 1562.51,167.052 1562.51,215.436 \n",
       "  \" fill=\"#ffa500\" fill-rule=\"evenodd\" fill-opacity=\"0.5\"/>\n",
       "<polyline clip-path=\"url(#clip8301)\" style=\"stroke:#009af9; stroke-width:4; stroke-opacity:1; fill:none\" points=\"\n",
       "  1562.51,167.052 1706.51,167.052 \n",
       "  \"/>\n",
       "<g clip-path=\"url(#clip8301)\">\n",
       "<text style=\"fill:#000000; fill-opacity:1; font-family:Arial,Helvetica Neue,Helvetica,sans-serif; font-size:48px; text-anchor:start;\" transform=\"rotate(0, 1730.51, 208.744)\" x=\"1730.51\" y=\"208.744\">Conjugate solution</text>\n",
       "</g>\n",
       "<polyline clip-path=\"url(#clip8301)\" style=\"stroke:#e26f46; stroke-width:4; stroke-opacity:1; fill:none\" points=\"\n",
       "  1562.51,251.724 1706.51,251.724 \n",
       "  \"/>\n",
       "<g clip-path=\"url(#clip8301)\">\n",
       "<text style=\"fill:#000000; fill-opacity:1; font-family:Arial,Helvetica Neue,Helvetica,sans-serif; font-size:48px; text-anchor:start;\" transform=\"rotate(0, 1730.51, 269.224)\" x=\"1730.51\" y=\"269.224\">Normal approximation</text>\n",
       "</g>\n",
       "</svg>\n"
      ]
     },
     "execution_count": 15,
     "metadata": {},
     "output_type": "execute_result"
    }
   ],
   "source": [
    "plot!( x, pdf.(Normal( 0.67 , 0.16 ) , x ), lab=\"Normal approximation\")"
   ]
  },
  {
   "cell_type": "markdown",
   "metadata": {},
   "source": [
    "Turing Chain &  89%hpd region boundaries"
   ]
  },
  {
   "cell_type": "code",
   "execution_count": 16,
   "metadata": {},
   "outputs": [
    {
     "ename": "MethodError",
     "evalue": "MethodError: no method matching getindex(::Chains{Float64}, ::Symbol)\nClosest candidates are:\n  getindex(::Chains, ::Any, !Matched::Any, !Matched::Any) at /Users/rob/.julia/packages/MCMCChain/wl69W/src/chains.jl:110\n  getindex(::Any, !Matched::AbstractTrees.ImplicitRootState) at /Users/rob/.julia/packages/AbstractTrees/z1wBY/src/AbstractTrees.jl:344",
     "output_type": "error",
     "traceback": [
      "MethodError: no method matching getindex(::Chains{Float64}, ::Symbol)\nClosest candidates are:\n  getindex(::Chains, ::Any, !Matched::Any, !Matched::Any) at /Users/rob/.julia/packages/MCMCChain/wl69W/src/chains.jl:110\n  getindex(::Any, !Matched::AbstractTrees.ImplicitRootState) at /Users/rob/.julia/packages/AbstractTrees/z1wBY/src/AbstractTrees.jl:344",
      "",
      "Stacktrace:",
      " [1] top-level scope at In[16]:1"
     ]
    }
   ],
   "source": [
    "density!(chn2[:theta], lab=\"Turing chain\")\n",
    "vline!([bnds[1]], line=:dash, lab=\"hpd lower bound\")\n",
    "vline!([bnds[2]], line=:dash, lab=\"hpd upper bound\")"
   ]
  },
  {
   "cell_type": "markdown",
   "metadata": {},
   "source": [
    "Show hpd region"
   ]
  },
  {
   "cell_type": "code",
   "execution_count": 17,
   "metadata": {},
   "outputs": [
    {
     "name": "stdout",
     "output_type": "stream",
     "text": [
      "hpd bounds =       94% Lower 94% Upper\n",
      "theta 0.3873379 0.9004367\n",
      "\n",
      "\n",
      "\n"
     ]
    }
   ],
   "source": [
    "println(\"hpd bounds = $bnds\\n\")"
   ]
  },
  {
   "cell_type": "markdown",
   "metadata": {},
   "source": [
    "End of `clip_08t.jl`"
   ]
  },
  {
   "cell_type": "markdown",
   "metadata": {},
   "source": [
    "*This notebook was generated using [Literate.jl](https://github.com/fredrikekre/Literate.jl).*"
   ]
  }
 ],
 "metadata": {
  "kernelspec": {
   "display_name": "Julia 1.2.0-DEV",
   "language": "julia",
   "name": "julia-1.2"
  },
  "language_info": {
   "file_extension": ".jl",
   "mimetype": "application/julia",
   "name": "julia",
   "version": "1.2.0"
  }
 },
 "nbformat": 4,
 "nbformat_minor": 3
}
