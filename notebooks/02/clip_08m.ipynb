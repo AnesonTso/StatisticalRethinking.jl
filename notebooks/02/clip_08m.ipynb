{
 "cells": [
  {
   "outputs": [
    {
     "name": "stdout",
     "output_type": "stream",
     "text": [
      "┌ Info: Loading DataFrames support into Gadfly.jl\n",
      "└ @ Gadfly /Users/rob/.julia/packages/Gadfly/09PWZ/src/mapping.jl:228\n"
     ]
    }
   ],
   "cell_type": "code",
   "source": [
    "using Distributed, Gadfly\n",
    "using Mamba"
   ],
   "metadata": {},
   "execution_count": 1
  },
  {
   "outputs": [],
   "cell_type": "markdown",
   "source": [
    "Data"
   ],
   "metadata": {}
  },
  {
   "outputs": [],
   "cell_type": "code",
   "source": [
    "globe_toss = Dict{Symbol, Any}(\n",
    "  :w => [6, 7, 5, 6, 6],\n",
    "  :n => [9, 9, 9, 9, 9]\n",
    ")\n",
    "globe_toss[:N] = length(globe_toss[:w]);"
   ],
   "metadata": {},
   "execution_count": 2
  },
  {
   "outputs": [],
   "cell_type": "markdown",
   "source": [
    "Model Specification"
   ],
   "metadata": {}
  },
  {
   "outputs": [],
   "cell_type": "code",
   "source": [
    "model = Model(\n",
    "  w = Stochastic(1,\n",
    "    (n, p, N) ->\n",
    "      UnivariateDistribution[Binomial(n[i], p) for i in 1:N],\n",
    "    false\n",
    "  ),\n",
    "  p = Stochastic(() -> Beta(1, 1))\n",
    ");"
   ],
   "metadata": {},
   "execution_count": 3
  },
  {
   "outputs": [],
   "cell_type": "markdown",
   "source": [
    "Initial Values"
   ],
   "metadata": {}
  },
  {
   "outputs": [],
   "cell_type": "code",
   "source": [
    "inits = [\n",
    "  Dict(:w => globe_toss[:w], :n => globe_toss[:n], :p => 0.5),\n",
    "  Dict(:w => globe_toss[:w], :n => globe_toss[:n], :p => rand(Beta(1, 1)))\n",
    "];"
   ],
   "metadata": {},
   "execution_count": 4
  },
  {
   "outputs": [],
   "cell_type": "markdown",
   "source": [
    "Sampling Scheme"
   ],
   "metadata": {}
  },
  {
   "outputs": [],
   "cell_type": "code",
   "source": [
    "scheme = [NUTS(:p)]\n",
    "setsamplers!(model, scheme);"
   ],
   "metadata": {},
   "execution_count": 5
  },
  {
   "outputs": [],
   "cell_type": "markdown",
   "source": [
    "MCMC Simulations"
   ],
   "metadata": {}
  },
  {
   "outputs": [
    {
     "name": "stdout",
     "output_type": "stream",
     "text": [
      "MCMC Simulation of 10000 Iterations x 2 Chains...\n",
      "\n",
      "Chain 1:   0% [0:21:27 of 0:21:28 remaining]\n",
      "Chain 1:  10% [0:00:13 of 0:00:14 remaining]\n",
      "Chain 1:  20% [0:00:06 of 0:00:08 remaining]\n",
      "Chain 1:  30% [0:00:04 of 0:00:06 remaining]\n",
      "Chain 1:  40% [0:00:03 of 0:00:05 remaining]\n",
      "Chain 1:  50% [0:00:02 of 0:00:04 remaining]\n",
      "Chain 1:  60% [0:00:01 of 0:00:04 remaining]\n",
      "Chain 1:  70% [0:00:01 of 0:00:03 remaining]\n",
      "Chain 1:  80% [0:00:01 of 0:00:03 remaining]\n",
      "Chain 1:  90% [0:00:00 of 0:00:03 remaining]\n",
      "Chain 1: 100% [0:00:00 of 0:00:03 remaining]\n",
      "\n",
      "Chain 2:   0% [0:00:01 of 0:00:01 remaining]\n",
      "Chain 2:  10% [0:00:01 of 0:00:01 remaining]\n",
      "Chain 2:  20% [0:00:01 of 0:00:01 remaining]\n",
      "Chain 2:  30% [0:00:01 of 0:00:01 remaining]\n",
      "Chain 2:  40% [0:00:01 of 0:00:01 remaining]\n",
      "Chain 2:  50% [0:00:00 of 0:00:01 remaining]\n",
      "Chain 2:  60% [0:00:00 of 0:00:01 remaining]\n",
      "Chain 2:  70% [0:00:00 of 0:00:01 remaining]\n",
      "Chain 2:  80% [0:00:00 of 0:00:01 remaining]\n",
      "Chain 2:  90% [0:00:00 of 0:00:01 remaining]\n",
      "Chain 2: 100% [0:00:00 of 0:00:01 remaining]\n",
      "\n"
     ]
    },
    {
     "output_type": "execute_result",
     "data": {
      "text/plain": "Object of type \"Mamba.ModelChains\"\n\nIterations = 2501:10000\nThinning interval = 1\nChains = 1,2\nSamples per chain = 7500\n\n[0.622946; 0.622946; … ; 0.696376; 0.577705]\n\n[0.735272; 0.544536; … ; 0.729514; 0.729514]"
     },
     "metadata": {},
     "execution_count": 6
    }
   ],
   "cell_type": "code",
   "source": [
    "sim = mcmc(model, globe_toss, inits, 10000, burnin=2500, thin=1, chains=2)"
   ],
   "metadata": {},
   "execution_count": 6
  },
  {
   "outputs": [],
   "cell_type": "markdown",
   "source": [
    "Describe draws"
   ],
   "metadata": {}
  },
  {
   "outputs": [
    {
     "name": "stdout",
     "output_type": "stream",
     "text": [
      "Iterations = 2501:10000\n",
      "Thinning interval = 1\n",
      "Chains = 1,2\n",
      "Samples per chain = 7500\n",
      "\n",
      "Empirical Posterior Estimates:\n",
      "     Mean       SD       Naive SE        MCSE      ESS\n",
      "p 0.6600379 0.06841758 0.0005586272 0.00062296583 7500\n",
      "\n",
      "Quantiles:\n",
      "     2.5%     25.0%      50.0%     75.0%      97.5%  \n",
      "p 0.5199581 0.6136903 0.66349115 0.7083321 0.78536973\n",
      "\n"
     ]
    }
   ],
   "cell_type": "code",
   "source": [
    "describe(sim)"
   ],
   "metadata": {},
   "execution_count": 7
  },
  {
   "outputs": [],
   "cell_type": "markdown",
   "source": [
    "End of `clip_08m.jl`"
   ],
   "metadata": {}
  },
  {
   "outputs": [],
   "cell_type": "markdown",
   "source": [
    "*This notebook was generated using [Literate.jl](https://github.com/fredrikekre/Literate.jl).*"
   ],
   "metadata": {}
  }
 ],
 "nbformat_minor": 3,
 "metadata": {
  "language_info": {
   "file_extension": ".jl",
   "mimetype": "application/julia",
   "name": "julia",
   "version": "1.1.0-rc1.0"
  },
  "kernelspec": {
   "name": "julia-1.1",
   "display_name": "Julia 1.1.0-rc1.0",
   "language": "julia"
  }
 },
 "nbformat": 4
}
