{
 "cells": [
  {
   "outputs": [
    {
     "output_type": "execute_result",
     "data": {
      "text/plain": "(10, 5)"
     },
     "metadata": {},
     "execution_count": 1
    }
   ],
   "cell_type": "code",
   "source": [
    "using StatisticalRethinking\n",
    "using CmdStan, StanMCMCChain\n",
    "\n",
    "ProjDir = rel_path(\"..\", \"scripts\", \"12\")\n",
    "\n",
    "d = CSV.read(rel_path( \"..\", \"data\",  \"Kline.csv\"), delim=';');\n",
    "size(d) # Should be 10x5"
   ],
   "metadata": {},
   "execution_count": 1
  },
  {
   "outputs": [],
   "cell_type": "markdown",
   "source": [
    "New col log_pop, set log() for population data"
   ],
   "metadata": {}
  },
  {
   "outputs": [],
   "cell_type": "code",
   "source": [
    "d[:log_pop] = map((x) -> log(x), d[:population]);\n",
    "d[:society] = 1:10;\n",
    "\n",
    "first(d, 5)\n",
    "\n",
    "m12_6_2 = \"\n",
    "  data {\n",
    "    int N;\n",
    "    int T[N];\n",
    "    int N_societies;\n",
    "    int society[N];\n",
    "    int P[N];\n",
    "  }\n",
    "  parameters {\n",
    "    real alpha;\n",
    "    vector[N_societies] a_society;\n",
    "    real bp;\n",
    "    real<lower=0> sigma_society;\n",
    "  }\n",
    "  model {\n",
    "    vector[N] mu;\n",
    "    target += normal_lpdf(alpha | 0, 10);\n",
    "    target += normal_lpdf(bp | 0, 1);\n",
    "    target += cauchy_lpdf(sigma_society | 0, 1);\n",
    "    target += normal_lpdf(a_society | 0, sigma_society);\n",
    "    for(i in 1:N) mu[i] = alpha + a_society[society[i]] + bp * log(P[i]);\n",
    "    target += poisson_log_lpmf(T | mu);\n",
    "  }\n",
    "  generated quantities {\n",
    "    vector[N] log_lik;\n",
    "    {\n",
    "    vector[N] mu;\n",
    "    for(i in 1:N) {\n",
    "      mu[i] = alpha + a_society[society[i]] + bp * log(P[i]);\n",
    "      log_lik[i] = poisson_log_lpmf(T[i] | mu[i]);\n",
    "    }\n",
    "    }\n",
    "  }\n",
    "\";"
   ],
   "metadata": {},
   "execution_count": 2
  },
  {
   "outputs": [],
   "cell_type": "markdown",
   "source": [
    "Define the Stanmodel and set the output format to :mcmcchain."
   ],
   "metadata": {}
  },
  {
   "outputs": [
    {
     "name": "stdout",
     "output_type": "stream",
     "text": [
      "\n",
      "File /Users/rob/.julia/dev/StatisticalRethinking/notebooks/12/tmp/m12.6.2.stan will be updated.\n",
      "\n"
     ]
    }
   ],
   "cell_type": "code",
   "source": [
    "stanmodel = Stanmodel(name=\"m12.6.2\",  model=m12_6_2,\n",
    "output_format=:mcmcchain);"
   ],
   "metadata": {},
   "execution_count": 3
  },
  {
   "outputs": [],
   "cell_type": "markdown",
   "source": [
    "Input data for cmdstan"
   ],
   "metadata": {}
  },
  {
   "outputs": [],
   "cell_type": "code",
   "source": [
    "m12_6_2_data = Dict(\"N\" => size(d, 1), \"T\" => d[:total_tools],\n",
    "\"N_societies\" => 10, \"society\" => d[:society], \"P\" => d[:population]);"
   ],
   "metadata": {},
   "execution_count": 4
  },
  {
   "outputs": [],
   "cell_type": "markdown",
   "source": [
    "Sample using cmdstan"
   ],
   "metadata": {}
  },
  {
   "outputs": [
    {
     "name": "stdout",
     "output_type": "stream",
     "text": [
      "Informational Message: The current Metropolis proposal is about to be rejected because of the following issue:\n",
      "Exception: normal_lpdf: Scale parameter is 0, but must be > 0!  (in '/Users/rob/.julia/dev/StatisticalRethinking/notebooks/12/tmp/m12.6.2.stan' at line 19)\n",
      "\n",
      "If this warning occurs sporadically, such as for highly constrained variable types like covariance matrices, then the sampler is fine,\n",
      "but if this warning occurs often then your model may be either severely ill-conditioned or misspecified.\n",
      "\n",
      "Informational Message: The current Metropolis proposal is about to be rejected because of the following issue:\n",
      "Exception: normal_lpdf: Scale parameter is 0, but must be > 0!  (in '/Users/rob/.julia/dev/StatisticalRethinking/notebooks/12/tmp/m12.6.2.stan' at line 19)\n",
      "\n",
      "If this warning occurs sporadically, such as for highly constrained variable types like covariance matrices, then the sampler is fine,\n",
      "but if this warning occurs often then your model may be either severely ill-conditioned or misspecified.\n",
      "\n"
     ]
    }
   ],
   "cell_type": "code",
   "source": [
    "rc, chn, cnames = stan(stanmodel, m12_6_2_data, ProjDir,\n",
    "diagnostics=false, summary=false, CmdStanDir=CMDSTAN_HOME);"
   ],
   "metadata": {},
   "execution_count": 5
  },
  {
   "outputs": [],
   "cell_type": "markdown",
   "source": [
    "Describe the draws"
   ],
   "metadata": {}
  },
  {
   "outputs": [
    {
     "name": "stdout",
     "output_type": "stream",
     "text": [
      "Iterations = 1:1000\n",
      "Thinning interval = 1\n",
      "Chains = 1,2,3,4\n",
      "Samples per chain = 1000\n",
      "\n",
      "Empirical Posterior Estimates:\n",
      "                   Mean           SD         Naive SE        MCSE         ESS    \n",
      "         lp__ -39.602715825  3.2002700684 0.050600712719 0.1202383321  708.414388\n",
      "accept_stat__   0.932334578  0.0914752421 0.001446350573 0.0017391083 1000.000000\n",
      "   stepsize__   0.046151975  0.0028834886 0.000045591958 0.0004616700   39.009752\n",
      "  treedepth__   5.922000000  0.4271552591 0.006753917667 0.0153012485  779.323513\n",
      " n_leapfrog__  73.058000000 32.4781209907 0.513524182265 1.1227548080  836.781256\n",
      "  divergent__   0.000000000  0.0000000000 0.000000000000 0.0000000000         NaN\n",
      "     energy__  46.158331850  4.1078076103 0.064950141191 0.1506455429  743.545615\n",
      "        alpha   1.122404901  0.7246474561 0.011457682310 0.0180416858 1000.000000\n",
      "  a_society.1  -0.202285758  0.2367363437 0.003743130255 0.0041314010 1000.000000\n",
      "  a_society.2   0.040584807  0.2136685060 0.003378395716 0.0047760845 1000.000000\n",
      "  a_society.3  -0.038440678  0.1977003537 0.003125917059 0.0044077317 1000.000000\n",
      "  a_society.4   0.326220557  0.1981745077 0.003133414092 0.0053512506 1000.000000\n",
      "  a_society.5   0.045808055  0.1882363361 0.002976277802 0.0052056428 1000.000000\n",
      "  a_society.6  -0.312663206  0.2155705673 0.003408469946 0.0064002195 1000.000000\n",
      "  a_society.7   0.146881522  0.1795051969 0.002838226371 0.0052876572 1000.000000\n",
      "  a_society.8  -0.162200111  0.1934400063 0.003058555053 0.0047356223 1000.000000\n",
      "  a_society.9   0.279308230  0.1918923501 0.003034084460 0.0061143615  984.947533\n",
      " a_society.10  -0.083864126  0.3040312977 0.004807156904 0.0101022834  905.727360\n",
      "           bp   0.258195853  0.0796847992 0.001259927301 0.0021700813 1000.000000\n",
      "sigma_society   0.310417087  0.1389928884 0.002197670529 0.0045933100  915.658736\n",
      "    log_lik.1  -2.764618678  0.6943736576 0.010979011526 0.0111776156 1000.000000\n",
      "    log_lik.2  -2.824304265  0.5036399556 0.007963246901 0.0114659902 1000.000000\n",
      "    log_lik.3  -2.868473300  0.5158862660 0.008156878071 0.0125033535 1000.000000\n",
      "    log_lik.4  -3.565808455  0.9459184816 0.014956284414 0.0196399841 1000.000000\n",
      "    log_lik.5  -3.052891420  0.5502185966 0.008699719880 0.0136436751 1000.000000\n",
      "    log_lik.6  -3.191442945  0.9309365769 0.014719399701 0.0206307340 1000.000000\n",
      "    log_lik.7  -3.225765080  0.6398011367 0.010116144208 0.0124039334 1000.000000\n",
      "    log_lik.8  -3.077272818  0.6643423831 0.010504175383 0.0137973583 1000.000000\n",
      "    log_lik.9  -3.560839633  0.8350389866 0.013203125664 0.0184103195 1000.000000\n",
      "   log_lik.10  -3.546359665  0.7004398975 0.011074927201 0.0160433444 1000.000000\n",
      "\n",
      "Quantiles:\n",
      "                   2.5%         25.0%         50.0%        75.0%         97.5%    \n",
      "         lp__ -46.839660000 -41.455550000 -39.26330000 -37.312325000 -34.430847500\n",
      "accept_stat__   0.668435575   0.902582000   0.97118550   0.995635750   0.999969000\n",
      "   stepsize__   0.041308700   0.045297425   0.04742460   0.048279150   0.048450000\n",
      "  treedepth__   5.000000000   6.000000000   6.00000000   6.000000000   7.000000000\n",
      " n_leapfrog__  31.000000000  63.000000000  63.00000000  63.000000000 127.000000000\n",
      "  divergent__   0.000000000   0.000000000   0.00000000   0.000000000   0.000000000\n",
      "     energy__  38.932075000  43.278500000  45.79135000  48.655600000  55.353257500\n",
      "        alpha  -0.338992900   0.675913000   1.13611000   1.575345000   2.486901750\n",
      "  a_society.1  -0.708426600  -0.342920000  -0.18536050  -0.045492750   0.222069825\n",
      "  a_society.2  -0.376814975  -0.092219425   0.03660050   0.168458500   0.483978175\n",
      "  a_society.3  -0.437933600  -0.158710000  -0.04063650   0.084348525   0.349965075\n",
      "  a_society.4  -0.020872985   0.194311500   0.31656700   0.446635250   0.721506650\n",
      "  a_society.5  -0.304590675  -0.068843225   0.03960175   0.157524250   0.408874800\n",
      "  a_society.6  -0.786240575  -0.443241750  -0.29372250  -0.165798000   0.063851443\n",
      "  a_society.7  -0.184028250   0.032232425   0.13896750   0.253264500   0.504250325\n",
      "  a_society.8  -0.557398650  -0.278241750  -0.15602800  -0.039627575   0.178116825\n",
      "  a_society.9  -0.056337823   0.158000250   0.27029200   0.383382000   0.659760500\n",
      " a_society.10  -0.674984825  -0.250838750  -0.08413110   0.081108100   0.509436700\n",
      "           bp   0.104740800   0.208983250   0.25574950   0.306972750   0.419442750\n",
      "sigma_society   0.121648450   0.218512750   0.28623500   0.371868500   0.654426150\n",
      "    log_lik.1  -4.791220750  -2.983632500  -2.50874000  -2.277692500  -2.208770000\n",
      "    log_lik.2  -4.213959000  -2.933617500  -2.63106000  -2.504882500  -2.468799750\n",
      "    log_lik.3  -4.313294500  -2.970445000  -2.66737000  -2.548437500  -2.511739750\n",
      "    log_lik.4  -6.192254500  -3.890080000  -3.22267000  -2.906542500  -2.802409500\n",
      "    log_lik.5  -4.629197500  -3.166492500  -2.84156500  -2.707477500  -2.670050000\n",
      "    log_lik.6  -5.697283750  -3.584075000  -2.85041500  -2.507067500  -2.396920000\n",
      "    log_lik.7  -4.990519500  -3.398357500  -2.97331000  -2.811920000  -2.765909750\n",
      "    log_lik.8  -4.889770500  -3.242417500  -2.81923000  -2.639832500  -2.588549500\n",
      "    log_lik.9  -5.853476750  -3.791075000  -3.24767000  -3.001087500  -2.925199750\n",
      "   log_lik.10  -5.574730750  -3.706945000  -3.27556500  -3.101655000  -3.051918750\n",
      "\n"
     ]
    }
   ],
   "cell_type": "code",
   "source": [
    "describe(chn)"
   ],
   "metadata": {},
   "execution_count": 6
  },
  {
   "outputs": [],
   "cell_type": "markdown",
   "source": [
    "*This notebook was generated using [Literate.jl](https://github.com/fredrikekre/Literate.jl).*"
   ],
   "metadata": {}
  }
 ],
 "nbformat_minor": 3,
 "metadata": {
  "language_info": {
   "file_extension": ".jl",
   "mimetype": "application/julia",
   "name": "julia",
   "version": "1.2.0-DEV.270"
  },
  "kernelspec": {
   "name": "julia-1.2",
   "display_name": "Julia 1.2.0-DEV.270",
   "language": "julia"
  }
 },
 "nbformat": 4
}
