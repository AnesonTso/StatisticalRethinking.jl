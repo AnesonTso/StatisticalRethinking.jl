{
 "cells": [
  {
   "outputs": [
    {
     "output_type": "execute_result",
     "data": {
      "text/plain": "(10, 5)"
     },
     "metadata": {},
     "execution_count": 1
    }
   ],
   "cell_type": "code",
   "source": [
    "using StatisticalRethinking\n",
    "using CmdStan, StanMCMCChain\n",
    "\n",
    "ProjDir = rel_path(\"..\", \"scripts\", \"12\")\n",
    "\n",
    "d = CSV.read(rel_path( \"..\", \"data\",  \"Kline.csv\"), delim=';');\n",
    "size(d) # Should be 10x5"
   ],
   "metadata": {},
   "execution_count": 1
  },
  {
   "outputs": [],
   "cell_type": "markdown",
   "source": [
    "New col log_pop, set log() for population data"
   ],
   "metadata": {}
  },
  {
   "outputs": [],
   "cell_type": "code",
   "source": [
    "d[:log_pop] = map((x) -> log(x), d[:population]);\n",
    "d[:society] = 1:10;\n",
    "\n",
    "first(d, 5)\n",
    "\n",
    "m12_6 = \"\n",
    "  data {\n",
    "    int N;\n",
    "    int T[N];\n",
    "    int N_societies;\n",
    "    int society[N];\n",
    "    int P[N];\n",
    "  }\n",
    "  parameters {\n",
    "    real alpha;\n",
    "    vector[N_societies] a_society;\n",
    "    real bp;\n",
    "    real<lower=0> sigma_society;\n",
    "  }\n",
    "  model {\n",
    "    vector[N] mu;\n",
    "    target += normal_lpdf(alpha | 0, 10);\n",
    "    target += normal_lpdf(bp | 0, 1);\n",
    "    target += cauchy_lpdf(sigma_society | 0, 1);\n",
    "    target += normal_lpdf(a_society | 0, sigma_society);\n",
    "    for(i in 1:N) mu[i] = alpha + a_society[society[i]] + bp * log(P[i]);\n",
    "    target += poisson_log_lpmf(T | mu);\n",
    "  }\n",
    "  generated quantities {\n",
    "    vector[N] log_lik;\n",
    "    {\n",
    "    vector[N] mu;\n",
    "    for(i in 1:N) {\n",
    "      mu[i] = alpha + a_society[society[i]] + bp * log(P[i]);\n",
    "      log_lik[i] = poisson_log_lpmf(T[i] | mu[i]);\n",
    "    }\n",
    "    }\n",
    "  }\n",
    "\";"
   ],
   "metadata": {},
   "execution_count": 2
  },
  {
   "outputs": [],
   "cell_type": "markdown",
   "source": [
    "Define the Stanmodel and set the output format to :mcmcchain."
   ],
   "metadata": {}
  },
  {
   "outputs": [
    {
     "name": "stdout",
     "output_type": "stream",
     "text": [
      "=====> /Users/rob/.julia/dev/StatisticalRethinking/notebooks/12\n",
      "\n"
     ]
    }
   ],
   "cell_type": "code",
   "source": [
    "stanmodel = Stanmodel(name=\"m12.6\",  model=m12_6, output_format=:mcmcchain);"
   ],
   "metadata": {},
   "execution_count": 3
  },
  {
   "outputs": [],
   "cell_type": "markdown",
   "source": [
    "Input data for cmdstan"
   ],
   "metadata": {}
  },
  {
   "outputs": [],
   "cell_type": "code",
   "source": [
    "m12_6_data = Dict(\"N\" => size(d, 1), \"T\" => d[:total_tools], \"N_societies\" => 10, \"society\" => d[:society], \"P\" => d[:population]);"
   ],
   "metadata": {},
   "execution_count": 4
  },
  {
   "outputs": [],
   "cell_type": "markdown",
   "source": [
    "Sample using cmdstan"
   ],
   "metadata": {}
  },
  {
   "outputs": [
    {
     "name": "stdout",
     "output_type": "stream",
     "text": [
      "\n",
      "make: `/Users/rob/.julia/dev/StatisticalRethinking/notebooks/12/tmp/m12.6' is up to date.\n"
     ]
    }
   ],
   "cell_type": "code",
   "source": [
    "rc, chn, cnames = stan(stanmodel, m12_6_data, ProjDir, diagnostics=false, summary=false, CmdStanDir=CMDSTAN_HOME);"
   ],
   "metadata": {},
   "execution_count": 5
  },
  {
   "outputs": [],
   "cell_type": "markdown",
   "source": [
    "Describe the draws"
   ],
   "metadata": {}
  },
  {
   "outputs": [
    {
     "name": "stdout",
     "output_type": "stream",
     "text": [
      "Iterations = 1:1000\n",
      "Thinning interval = 1\n",
      "Chains = 1,2,3,4\n",
      "Samples per chain = 1000\n",
      "\n",
      "Empirical Posterior Estimates:\n",
      "                  Mean           SD        Naive SE        MCSE         ESS    \n",
      "         lp__ -39.50143608  3.2114476528 0.0507774458 0.12402756859  670.448209\n",
      "accept_stat__   0.94209235  0.0814037101 0.0012871057 0.00118828306 1000.000000\n",
      "   stepsize__   0.04782780  0.0034161897 0.0000540147 0.00054695977   39.009752\n",
      "  treedepth__   5.91600000  0.4555171500 0.0072023585 0.01367104370 1000.000000\n",
      " n_leapfrog__  73.93600000 34.4533984269 0.5447560608 0.89583057006 1000.000000\n",
      "  divergent__   0.00000000  0.0000000000 0.0000000000 0.00000000000         NaN\n",
      "     energy__  45.98944417  4.0704350479 0.0643592291 0.14652291647  771.739180\n",
      "        alpha   1.07075488  0.7663598392 0.0121172130 0.02646731154  838.389473\n",
      "  a_society.1  -0.19154250  0.2442448955 0.0038618509 0.00608715953 1000.000000\n",
      "  a_society.2   0.05176510  0.2184566272 0.0034541026 0.00616129607 1000.000000\n",
      "  a_society.3  -0.04094134  0.2013855316 0.0031841848 0.00474315208 1000.000000\n",
      "  a_society.4   0.32841071  0.1951600782 0.0030857518 0.00518463080 1000.000000\n",
      "  a_society.5   0.04906371  0.1834524695 0.0029006382 0.00394607183 1000.000000\n",
      "  a_society.6  -0.30887415  0.2124731904 0.0033594961 0.00594519442 1000.000000\n",
      "  a_society.7   0.14614177  0.1756165288 0.0027767411 0.00416002102 1000.000000\n",
      "  a_society.8  -0.16842494  0.1894664103 0.0029957270 0.00398305782 1000.000000\n",
      "  a_society.9   0.27538336  0.1762425819 0.0027866399 0.00473754356 1000.000000\n",
      " a_society.10  -0.09809641  0.2997860973 0.0047400344 0.01083016708  766.218553\n",
      "           bp   0.26365483  0.0829777281 0.0013119931 0.00289626715  820.816057\n",
      "sigma_society   0.31063005  0.1361571005 0.0021528328 0.00473873367  825.573961\n",
      "    log_lik.1  -2.78625860  0.7137311204 0.0112850799 0.01620062889 1000.000000\n",
      "    log_lik.2  -2.80695466  0.5007199121 0.0079170770 0.00953286629 1000.000000\n",
      "    log_lik.3  -2.88030654  0.5223692834 0.0082593836 0.01343183628 1000.000000\n",
      "    log_lik.4  -3.59065174  0.9485737198 0.0149982674 0.02362407036 1000.000000\n",
      "    log_lik.5  -3.04063256  0.5024508282 0.0079444451 0.01088380820 1000.000000\n",
      "    log_lik.6  -3.19651401  0.9310439392 0.0147210972 0.02231865700 1000.000000\n",
      "    log_lik.7  -3.21842095  0.6154117715 0.0097305145 0.01082015799 1000.000000\n",
      "    log_lik.8  -3.05551542  0.6286207629 0.0099393670 0.01271719866 1000.000000\n",
      "    log_lik.9  -3.56662089  0.8102784894 0.0128116278 0.01864145401 1000.000000\n",
      "   log_lik.10  -3.50596779  0.6424168478 0.0101575022 0.01061781007 1000.000000\n",
      "\n",
      "Quantiles:\n",
      "                   2.5%         25.0%         50.0%        75.0%         97.5%   \n",
      "         lp__ -46.400312500 -41.477425000 -39.25345000 -37.332050000 -33.82890250\n",
      "accept_stat__   0.713230350   0.920901500   0.97693350   0.996352500   0.99997802\n",
      "   stepsize__   0.042405700   0.046195225   0.04887785   0.050510425   0.05114980\n",
      "  treedepth__   5.000000000   6.000000000   6.00000000   6.000000000   7.00000000\n",
      " n_leapfrog__  31.000000000  63.000000000  63.00000000  63.000000000 127.00000000\n",
      "  divergent__   0.000000000   0.000000000   0.00000000   0.000000000   0.00000000\n",
      "     energy__  38.747995000  43.203250000  45.75545000  48.545200000  54.66105000\n",
      "        alpha  -0.554469650   0.615574250   1.10090000   1.553215000   2.54267125\n",
      "  a_society.1  -0.710847700  -0.332910250  -0.17249250  -0.028827150   0.24577513\n",
      "  a_society.2  -0.372857525  -0.082541725   0.04275535   0.184013500   0.50559845\n",
      "  a_society.3  -0.443632325  -0.166703500  -0.03547970   0.083707400   0.36615310\n",
      "  a_society.4  -0.019519392   0.190289750   0.31593600   0.455243500   0.73401675\n",
      "  a_society.5  -0.307337050  -0.068672300   0.04249795   0.162724250   0.42694558\n",
      "  a_society.6  -0.775547250  -0.444599750  -0.29769700  -0.157843250   0.06112362\n",
      "  a_society.7  -0.181094650   0.031938750   0.13616800   0.252641500   0.52308773\n",
      "  a_society.8  -0.573166725  -0.284038250  -0.15561900  -0.041712800   0.17519853\n",
      "  a_society.9  -0.039166217   0.156496750   0.26594200   0.383049750   0.64721813\n",
      " a_society.10  -0.716707275  -0.265573250  -0.08393915   0.078779400   0.47214135\n",
      "           bp   0.107159675   0.211704000   0.26004600   0.313660500   0.44187645\n",
      "sigma_society   0.099822395   0.219631500   0.29004600   0.378405250   0.62530990\n",
      "    log_lik.1  -4.805791250  -3.034142500  -2.52054500  -2.280245000  -2.20872975\n",
      "    log_lik.2  -4.278607750  -2.906920000  -2.61378000  -2.499877500  -2.46855975\n",
      "    log_lik.3  -4.399687000  -2.992492500  -2.68132000  -2.549400000  -2.51181975\n",
      "    log_lik.4  -6.149464000  -3.970812500  -3.22591000  -2.892580000  -2.80233950\n",
      "    log_lik.5  -4.464895500  -3.180985000  -2.83895000  -2.710120000  -2.67022000\n",
      "    log_lik.6  -5.689296750  -3.581325000  -2.85556000  -2.502922500  -2.39657975\n",
      "    log_lik.7  -4.939896250  -3.379732500  -2.98493500  -2.815822500  -2.76608750\n",
      "    log_lik.8  -4.780266250  -3.220087500  -2.81798500  -2.642022500  -2.58853975\n",
      "    log_lik.9  -5.871777750  -3.814340000  -3.25129500  -3.002840000  -2.92486000\n",
      "   log_lik.10  -5.526124000  -3.637612500  -3.26226000  -3.096882500  -3.05177950\n",
      "\n"
     ]
    }
   ],
   "cell_type": "code",
   "source": [
    "describe(chn)"
   ],
   "metadata": {},
   "execution_count": 6
  },
  {
   "outputs": [],
   "cell_type": "markdown",
   "source": [
    "*This notebook was generated using [Literate.jl](https://github.com/fredrikekre/Literate.jl).*"
   ],
   "metadata": {}
  }
 ],
 "nbformat_minor": 3,
 "metadata": {
  "language_info": {
   "file_extension": ".jl",
   "mimetype": "application/julia",
   "name": "julia",
   "version": "1.2.0-DEV.219"
  },
  "kernelspec": {
   "name": "julia-1.2",
   "display_name": "Julia 1.2.0-DEV.219",
   "language": "julia"
  }
 },
 "nbformat": 4
}
