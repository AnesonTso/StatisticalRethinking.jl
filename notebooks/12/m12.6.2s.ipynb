{
 "cells": [
  {
   "outputs": [
    {
     "output_type": "execute_result",
     "data": {
      "text/plain": "(10, 5)"
     },
     "metadata": {},
     "execution_count": 1
    }
   ],
   "cell_type": "code",
   "source": [
    "using StatisticalRethinking\n",
    "using CmdStan, StanMCMCChain\n",
    "\n",
    "ProjDir = rel_path(\"..\", \"scripts\", \"12\")\n",
    "\n",
    "d = CSV.read(rel_path( \"..\", \"data\",  \"Kline.csv\"), delim=';');\n",
    "size(d) # Should be 10x5"
   ],
   "metadata": {},
   "execution_count": 1
  },
  {
   "outputs": [],
   "cell_type": "markdown",
   "source": [
    "New col log_pop, set log() for population data"
   ],
   "metadata": {}
  },
  {
   "outputs": [],
   "cell_type": "code",
   "source": [
    "d[:log_pop] = map((x) -> log(x), d[:population]);\n",
    "d[:society] = 1:10;\n",
    "\n",
    "first(d, 5)\n",
    "\n",
    "m12_6 = \"\n",
    "  data {\n",
    "    int N;\n",
    "    int T[N];\n",
    "    int N_societies;\n",
    "    int society[N];\n",
    "    int P[N];\n",
    "  }\n",
    "  parameters {\n",
    "    real alpha;\n",
    "    vector[N_societies] a_society;\n",
    "    real bp;\n",
    "    real<lower=0> sigma_society;\n",
    "  }\n",
    "  model {\n",
    "    vector[N] mu;\n",
    "    target += normal_lpdf(alpha | 0, 10);\n",
    "    target += normal_lpdf(bp | 0, 1);\n",
    "    target += cauchy_lpdf(sigma_society | 0, 1);\n",
    "    target += normal_lpdf(a_society | 0, sigma_society);\n",
    "    for(i in 1:N) mu[i] = alpha + a_society[society[i]] + bp * log(P[i]);\n",
    "    target += poisson_log_lpmf(T | mu);\n",
    "  }\n",
    "  generated quantities {\n",
    "    vector[N] log_lik;\n",
    "    {\n",
    "    vector[N] mu;\n",
    "    for(i in 1:N) {\n",
    "      mu[i] = alpha + a_society[society[i]] + bp * log(P[i]);\n",
    "      log_lik[i] = poisson_log_lpmf(T[i] | mu[i]);\n",
    "    }\n",
    "    }\n",
    "  }\n",
    "\";"
   ],
   "metadata": {},
   "execution_count": 2
  },
  {
   "outputs": [],
   "cell_type": "markdown",
   "source": [
    "Define the Stanmodel and set the output format to :mcmcchain."
   ],
   "metadata": {}
  },
  {
   "outputs": [],
   "cell_type": "code",
   "source": [
    "stanmodel = Stanmodel(name=\"m12.6\",  model=m12_6, output_format=:mcmcchain);"
   ],
   "metadata": {},
   "execution_count": 3
  },
  {
   "outputs": [],
   "cell_type": "markdown",
   "source": [
    "Input data for cmdstan"
   ],
   "metadata": {}
  },
  {
   "outputs": [],
   "cell_type": "code",
   "source": [
    "m12_6_data = Dict(\"N\" => size(d, 1), \"T\" => d[:total_tools], \"N_societies\" => 10, \"society\" => d[:society], \"P\" => d[:population]);"
   ],
   "metadata": {},
   "execution_count": 4
  },
  {
   "outputs": [],
   "cell_type": "markdown",
   "source": [
    "Sample using cmdstan"
   ],
   "metadata": {}
  },
  {
   "outputs": [],
   "cell_type": "code",
   "source": [
    "rc, chn, cnames = stan(stanmodel, m12_6_data, ProjDir, diagnostics=false, summary=false, CmdStanDir=CMDSTAN_HOME);"
   ],
   "metadata": {},
   "execution_count": 5
  },
  {
   "outputs": [],
   "cell_type": "markdown",
   "source": [
    "Describe the draws"
   ],
   "metadata": {}
  },
  {
   "outputs": [
    {
     "name": "stdout",
     "output_type": "stream",
     "text": [
      "Iterations = 1:1000\n",
      "Thinning interval = 1\n",
      "Chains = 1,2,3,4\n",
      "Samples per chain = 1000\n",
      "\n",
      "Empirical Posterior Estimates:\n",
      "                   Mean          SD         Naive SE        MCSE         ESS    \n",
      "         lp__ -39.676255075  3.232241663 0.05110622801 0.10871482605  883.954879\n",
      "accept_stat__   0.944665726  0.075436651 0.00119275818 0.00140215516 1000.000000\n",
      "   stepsize__   0.046693500  0.004053023 0.00006408392 0.00064892196   39.009752\n",
      "  treedepth__   5.912750000  0.451872199 0.00714472681 0.01810577008  622.869756\n",
      " n_leapfrog__  74.400000000 34.788598156 0.55005603388 1.15701118050  904.063105\n",
      "  divergent__   0.000000000  0.000000000 0.00000000000 0.00000000000         NaN\n",
      "     energy__  46.231922925  4.151240687 0.06563687843 0.13636996704  926.655606\n",
      "        alpha   1.133429178  0.743528572 0.01175621896 0.02115546042 1000.000000\n",
      "  a_society.1  -0.213410365  0.248223007 0.00392475035 0.00663346725 1000.000000\n",
      "  a_society.2   0.039249637  0.221347579 0.00349981252 0.00516250087 1000.000000\n",
      "  a_society.3  -0.047071540  0.196918782 0.00311355933 0.00424698851 1000.000000\n",
      "  a_society.4   0.329521987  0.195023745 0.00308359615 0.00543892761 1000.000000\n",
      "  a_society.5   0.040446356  0.176848215 0.00279621580 0.00436846629 1000.000000\n",
      "  a_society.6  -0.321287055  0.211450677 0.00334332876 0.00471200191 1000.000000\n",
      "  a_society.7   0.147547987  0.176191513 0.00278583243 0.00451068304 1000.000000\n",
      "  a_society.8  -0.171110767  0.190243591 0.00300801529 0.00488301001 1000.000000\n",
      "  a_society.9   0.280147872  0.179178815 0.00283306581 0.00507195393 1000.000000\n",
      " a_society.10  -0.079857342  0.287404506 0.00454426425 0.00701038909 1000.000000\n",
      "           bp   0.257275919  0.080253486 0.00126891902 0.00220705037 1000.000000\n",
      "sigma_society   0.313242395  0.124789198 0.00197309047 0.00320532628 1000.000000\n",
      "    log_lik.1  -2.756382075  0.694902318 0.01098737038 0.01558009658 1000.000000\n",
      "    log_lik.2  -2.845663832  0.553322930 0.00874880371 0.01358262308 1000.000000\n",
      "    log_lik.3  -2.872723223  0.522808312 0.00826632523 0.01411196743 1000.000000\n",
      "    log_lik.4  -3.564885793  0.948782807 0.01500157337 0.01981756806 1000.000000\n",
      "    log_lik.5  -3.031401782  0.502750497 0.00794918333 0.01128832133 1000.000000\n",
      "    log_lik.6  -3.172672448  0.925628349 0.01463546924 0.02341916647 1000.000000\n",
      "    log_lik.7  -3.238824715  0.647127510 0.01023198434 0.01021433414 1000.000000\n",
      "    log_lik.8  -3.060763190  0.660344352 0.01044096096 0.01534028093 1000.000000\n",
      "    log_lik.9  -3.575261392  0.877223961 0.01387012867 0.02038784759 1000.000000\n",
      "   log_lik.10  -3.543441425  0.693060244 0.01095824463 0.01216004223 1000.000000\n",
      "\n",
      "Quantiles:\n",
      "                  2.5%         25.0%        50.0%        75.0%         97.5%   \n",
      "         lp__ -46.80491750 -41.634200000 -39.3407500 -37.366100000 -34.42318250\n",
      "accept_stat__   0.72807775   0.924277500   0.9757570   0.996291000   0.99996600\n",
      "   stepsize__   0.04218360   0.044388300   0.0456819   0.047987100   0.05322660\n",
      "  treedepth__   5.00000000   6.000000000   6.0000000   6.000000000   7.00000000\n",
      " n_leapfrog__  31.00000000  63.000000000  63.0000000  63.000000000 127.00000000\n",
      "  divergent__   0.00000000   0.000000000   0.0000000   0.000000000   0.00000000\n",
      "     energy__  39.08701250  43.350050000  45.7745500  48.832000000  55.15892250\n",
      "        alpha  -0.39024160   0.682260750   1.1348250   1.577792500   2.66760100\n",
      "  a_society.1  -0.76545435  -0.358652000  -0.1949055  -0.051796450   0.25155913\n",
      "  a_society.2  -0.40162808  -0.096644925   0.0356478   0.173881750   0.50099708\n",
      "  a_society.3  -0.45274312  -0.168070000  -0.0437846   0.074614325   0.34403530\n",
      "  a_society.4  -0.01289572   0.197124750   0.3186710   0.450940250   0.74124035\n",
      "  a_society.5  -0.30110645  -0.072384425   0.0371056   0.153488750   0.38114765\n",
      "  a_society.6  -0.78729640  -0.449495250  -0.3061225  -0.171348000   0.03850762\n",
      "  a_society.7  -0.18353767   0.031692850   0.1402570   0.253778500   0.52525125\n",
      "  a_society.8  -0.57036767  -0.288920500  -0.1607965  -0.043635975   0.18339653\n",
      "  a_society.9  -0.03820575   0.159998500   0.2714370   0.388689500   0.65413193\n",
      " a_society.10  -0.68408917  -0.245873750  -0.0779916   0.083250800   0.51388780\n",
      "           bp   0.09240344   0.209357250   0.2574685   0.305706750   0.42251003\n",
      "sigma_society   0.12129177   0.227643250   0.2949610   0.377924500   0.61309480\n",
      "    log_lik.1  -4.71669825  -2.975862500  -2.4875000  -2.271385000  -2.20851975\n",
      "    log_lik.2  -4.50454600  -2.947317500  -2.6327150  -2.504435000  -2.46874950\n",
      "    log_lik.3  -4.37263100  -2.988862500  -2.6720600  -2.546490000  -2.51172000\n",
      "    log_lik.4  -6.18915525  -3.892962500  -3.2087100  -2.891107500  -2.80268975\n",
      "    log_lik.5  -4.47807325  -3.150320000  -2.8407100  -2.708010000  -2.67000000\n",
      "    log_lik.6  -5.71609250  -3.534342500  -2.8402550  -2.498132500  -2.39654975\n",
      "    log_lik.7  -4.99449025  -3.404037500  -2.9955650  -2.818177500  -2.76601925\n",
      "    log_lik.8  -4.88660250  -3.205112500  -2.8134350  -2.639900000  -2.58850925\n",
      "    log_lik.9  -5.97417100  -3.798000000  -3.2394600  -2.992257500  -2.92472950\n",
      "   log_lik.10  -5.50842325  -3.696912500  -3.2810400  -3.103150000  -3.05193000\n",
      "\n"
     ]
    }
   ],
   "cell_type": "code",
   "source": [
    "describe(chn)"
   ],
   "metadata": {},
   "execution_count": 6
  },
  {
   "outputs": [],
   "cell_type": "markdown",
   "source": [
    "*This notebook was generated using [Literate.jl](https://github.com/fredrikekre/Literate.jl).*"
   ],
   "metadata": {}
  }
 ],
 "nbformat_minor": 3,
 "metadata": {
  "language_info": {
   "file_extension": ".jl",
   "mimetype": "application/julia",
   "name": "julia",
   "version": "1.2.0-DEV.183"
  },
  "kernelspec": {
   "name": "julia-1.2",
   "display_name": "Julia 1.2.0-DEV.183",
   "language": "julia"
  }
 },
 "nbformat": 4
}
