{
 "cells": [
  {
   "outputs": [
    {
     "output_type": "execute_result",
     "data": {
      "text/plain": "(10, 5)"
     },
     "metadata": {},
     "execution_count": 1
    }
   ],
   "cell_type": "code",
   "source": [
    "using StatisticalRethinking\n",
    "using CmdStan, StanMCMCChain\n",
    "\n",
    "ProjDir = rel_path(\"..\", \"scripts\", \"12\")\n",
    "\n",
    "d = CSV.read(rel_path( \"..\", \"data\",  \"Kline.csv\"), delim=';');\n",
    "size(d) # Should be 10x5"
   ],
   "metadata": {},
   "execution_count": 1
  },
  {
   "outputs": [],
   "cell_type": "markdown",
   "source": [
    "New col log_pop, set log() for population data"
   ],
   "metadata": {}
  },
  {
   "outputs": [],
   "cell_type": "code",
   "source": [
    "d[:log_pop] = map((x) -> log(x), d[:population]);\n",
    "d[:society] = 1:10;\n",
    "\n",
    "first(d, 5)\n",
    "\n",
    "m12_6 = \"\n",
    "  data {\n",
    "    int N;\n",
    "    int T[N];\n",
    "    int N_societies;\n",
    "    int society[N];\n",
    "    int P[N];\n",
    "  }\n",
    "  parameters {\n",
    "    real alpha;\n",
    "    vector[N_societies] a_society;\n",
    "    real bp;\n",
    "    real<lower=0> sigma_society;\n",
    "  }\n",
    "  model {\n",
    "    vector[N] mu;\n",
    "    target += normal_lpdf(alpha | 0, 10);\n",
    "    target += normal_lpdf(bp | 0, 1);\n",
    "    target += cauchy_lpdf(sigma_society | 0, 1);\n",
    "    target += normal_lpdf(a_society | 0, sigma_society);\n",
    "    for(i in 1:N) mu[i] = alpha + a_society[society[i]] + bp * log(P[i]);\n",
    "    target += poisson_log_lpmf(T | mu);\n",
    "  }\n",
    "  generated quantities {\n",
    "    vector[N] log_lik;\n",
    "    {\n",
    "    vector[N] mu;\n",
    "    for(i in 1:N) {\n",
    "      mu[i] = alpha + a_society[society[i]] + bp * log(P[i]);\n",
    "      log_lik[i] = poisson_log_lpmf(T[i] | mu[i]);\n",
    "    }\n",
    "    }\n",
    "  }\n",
    "\";"
   ],
   "metadata": {},
   "execution_count": 2
  },
  {
   "outputs": [],
   "cell_type": "markdown",
   "source": [
    "Define the Stanmodel and set the output format to :mcmcchain."
   ],
   "metadata": {}
  },
  {
   "outputs": [],
   "cell_type": "code",
   "source": [
    "stanmodel = Stanmodel(name=\"m12.6\",  model=m12_6, output_format=:mcmcchain);"
   ],
   "metadata": {},
   "execution_count": 3
  },
  {
   "outputs": [],
   "cell_type": "markdown",
   "source": [
    "Input data for cmdstan"
   ],
   "metadata": {}
  },
  {
   "outputs": [],
   "cell_type": "code",
   "source": [
    "m12_6_data = Dict(\"N\" => size(d, 1), \"T\" => d[:total_tools], \"N_societies\" => 10, \"society\" => d[:society], \"P\" => d[:population]);"
   ],
   "metadata": {},
   "execution_count": 4
  },
  {
   "outputs": [],
   "cell_type": "markdown",
   "source": [
    "Sample using cmdstan"
   ],
   "metadata": {}
  },
  {
   "outputs": [
    {
     "name": "stdout",
     "output_type": "stream",
     "text": [
      "Informational Message: The current Metropolis proposal is about to be rejected because of the following issue:\n",
      "Exception: normal_lpdf: Scale parameter is 0, but must be > 0!  (in '/Users/rob/.julia/dev/StatisticalRethinking/notebooks/12/tmp/m12.6.stan' at line 19)\n",
      "\n",
      "If this warning occurs sporadically, such as for highly constrained variable types like covariance matrices, then the sampler is fine,\n",
      "but if this warning occurs often then your model may be either severely ill-conditioned or misspecified.\n",
      "\n"
     ]
    }
   ],
   "cell_type": "code",
   "source": [
    "rc, chn, cnames = stan(stanmodel, m12_6_data, ProjDir, diagnostics=false, summary=false, CmdStanDir=CMDSTAN_HOME);"
   ],
   "metadata": {},
   "execution_count": 5
  },
  {
   "outputs": [],
   "cell_type": "markdown",
   "source": [
    "Describe the draws"
   ],
   "metadata": {}
  },
  {
   "outputs": [
    {
     "name": "stdout",
     "output_type": "stream",
     "text": [
      "Iterations = 1:1000\n",
      "Thinning interval = 1\n",
      "Chains = 1,2,3,4\n",
      "Samples per chain = 1000\n",
      "\n",
      "Empirical Posterior Estimates:\n",
      "                   Mean           SD         Naive SE         MCSE         ESS    \n",
      "         lp__ -39.685227000  3.1003703314 0.049021159186 0.10064791608  948.893715\n",
      "accept_stat__   0.942023633  0.0824852060 0.001304205622 0.00188487139 1000.000000\n",
      "   stepsize__   0.052914325  0.0026050223 0.000041189019 0.00041708526   39.009752\n",
      "  treedepth__   5.852000000  0.4540347309 0.007178919433 0.01328774257 1000.000000\n",
      " n_leapfrog__  70.104000000 29.9130219339 0.472966405049 0.71179628316 1000.000000\n",
      "  divergent__   0.000000000  0.0000000000 0.000000000000 0.00000000000         NaN\n",
      "     energy__  46.200485700  3.9957187730 0.063177861061 0.12985741384  946.795814\n",
      "        alpha   1.145213328  0.7398350812 0.011697819748 0.02365193735  978.444962\n",
      "  a_society.1  -0.219046180  0.2380376971 0.003763706459 0.00608045613 1000.000000\n",
      "  a_society.2   0.034606804  0.2107223782 0.003331813345 0.00509467177 1000.000000\n",
      "  a_society.3  -0.054147430  0.1994816984 0.003154082593 0.00397093223 1000.000000\n",
      "  a_society.4   0.319030883  0.1843583258 0.002914961076 0.00452160018 1000.000000\n",
      "  a_society.5   0.037243260  0.1799716459 0.002845601577 0.00413776475 1000.000000\n",
      "  a_society.6  -0.324100804  0.2080741651 0.003289941420 0.00485485338 1000.000000\n",
      "  a_society.7   0.137644578  0.1768068595 0.002795561909 0.00415391802 1000.000000\n",
      "  a_society.8  -0.178543407  0.1918410228 0.003033272903 0.00395871244 1000.000000\n",
      "  a_society.9   0.272858598  0.1787363894 0.002826070457 0.00467325511 1000.000000\n",
      " a_society.10  -0.086111734  0.2961016119 0.004681777562 0.00996565183  882.815852\n",
      "           bp   0.256708047  0.0809387933 0.001279754689 0.00261300414  959.474099\n",
      "sigma_society   0.310526703  0.1235847769 0.001954046895 0.00329970882 1000.000000\n",
      "    log_lik.1  -2.751602735  0.6874193109 0.010869053651 0.01373761893 1000.000000\n",
      "    log_lik.2  -2.813841805  0.4945326580 0.007819247883 0.01205524659 1000.000000\n",
      "    log_lik.3  -2.892395197  0.5536935123 0.008754663123 0.01587329754 1000.000000\n",
      "    log_lik.4  -3.556193505  0.9449995526 0.014941754870 0.02070656416 1000.000000\n",
      "    log_lik.5  -3.054941523  0.5411893508 0.008556954970 0.01443420734 1000.000000\n",
      "    log_lik.6  -3.178999633  0.9450337987 0.014942296349 0.02368858459 1000.000000\n",
      "    log_lik.7  -3.250869628  0.6585319721 0.010412304720 0.01331562795 1000.000000\n",
      "    log_lik.8  -3.063806315  0.6390516821 0.010104294289 0.01230888384 1000.000000\n",
      "    log_lik.9  -3.583693833  0.8716925652 0.013782669628 0.01743531872 1000.000000\n",
      "   log_lik.10  -3.542347368  0.6789993480 0.010735922348 0.01364940743 1000.000000\n",
      "\n",
      "Quantiles:\n",
      "                   2.5%         25.0%         50.0%        75.0%         97.5%    \n",
      "         lp__ -46.317147500 -41.676825000 -39.44380000 -37.499875000 -34.421860000\n",
      "accept_stat__   0.701844700   0.920869000   0.97777450   0.996741250   0.999978000\n",
      "   stepsize__   0.050338900   0.050344375   0.05262425   0.055194200   0.056069900\n",
      "  treedepth__   5.000000000   6.000000000   6.00000000   6.000000000   7.000000000\n",
      " n_leapfrog__  31.000000000  63.000000000  63.00000000  63.000000000 127.000000000\n",
      "  divergent__   0.000000000   0.000000000   0.00000000   0.000000000   0.000000000\n",
      "     energy__  39.063167500  43.366425000  45.97085000  48.871675000  54.494480000\n",
      "        alpha  -0.358698400   0.678466500   1.15395500   1.612237500   2.596711500\n",
      "  a_society.1  -0.743649750  -0.361292000  -0.19730300  -0.063545925   0.213832300\n",
      "  a_society.2  -0.368451325  -0.099258325   0.02971610   0.165976750   0.460668150\n",
      "  a_society.3  -0.460707175  -0.180148750  -0.05160275   0.074755700   0.345752150\n",
      "  a_society.4  -0.019787487   0.191218750   0.31117000   0.434460250   0.703751775\n",
      "  a_society.5  -0.307721175  -0.080911700   0.03322420   0.151331250   0.405061425\n",
      "  a_society.6  -0.763466550  -0.460685750  -0.30768450  -0.176349250   0.044886473\n",
      "  a_society.7  -0.200473950   0.017711300   0.13232600   0.255076000   0.485137075\n",
      "  a_society.8  -0.590984925  -0.298085750  -0.16762800  -0.048845075   0.172317975\n",
      "  a_society.9  -0.060172215   0.150345750   0.26601650   0.388015250   0.643727800\n",
      " a_society.10  -0.689036175  -0.256853000  -0.08043000   0.084819700   0.512863925\n",
      "           bp   0.098791698   0.205819250   0.25671300   0.307462500   0.421159750\n",
      "sigma_society   0.117865850   0.225784000   0.29358050   0.375869000   0.604128400\n",
      "    log_lik.1  -4.602200250  -2.989195000  -2.49650000  -2.278490000  -2.208609750\n",
      "    log_lik.2  -4.244518750  -2.936975000  -2.62170500  -2.503370000  -2.468590000\n",
      "    log_lik.3  -4.423393250  -3.009585000  -2.68090500  -2.550392500  -2.511789750\n",
      "    log_lik.4  -6.157709000  -3.878167500  -3.19271500  -2.891347500  -2.802390000\n",
      "    log_lik.5  -4.595811500  -3.180810000  -2.84822000  -2.707315000  -2.670090000\n",
      "    log_lik.6  -5.752274250  -3.507497500  -2.82160000  -2.501145000  -2.396810000\n",
      "    log_lik.7  -5.105420250  -3.432022500  -2.99205000  -2.813545000  -2.765899750\n",
      "    log_lik.8  -4.851546000  -3.234482500  -2.82007500  -2.638560000  -2.588659750\n",
      "    log_lik.9  -6.091922250  -3.807620000  -3.26240000  -3.006177500  -2.924809500\n",
      "   log_lik.10  -5.448292000  -3.712650000  -3.28346500  -3.105130000  -3.052169750\n",
      "\n"
     ]
    }
   ],
   "cell_type": "code",
   "source": [
    "describe(chn)"
   ],
   "metadata": {},
   "execution_count": 6
  },
  {
   "outputs": [],
   "cell_type": "markdown",
   "source": [
    "*This notebook was generated using [Literate.jl](https://github.com/fredrikekre/Literate.jl).*"
   ],
   "metadata": {}
  }
 ],
 "nbformat_minor": 3,
 "metadata": {
  "language_info": {
   "file_extension": ".jl",
   "mimetype": "application/julia",
   "name": "julia",
   "version": "1.2.0-DEV.226"
  },
  "kernelspec": {
   "name": "julia-1.2",
   "display_name": "Julia 1.2.0-DEV.226",
   "language": "julia"
  }
 },
 "nbformat": 4
}
