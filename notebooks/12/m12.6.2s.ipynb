{
 "cells": [
  {
   "outputs": [
    {
     "output_type": "execute_result",
     "data": {
      "text/plain": "(10, 5)"
     },
     "metadata": {},
     "execution_count": 1
    }
   ],
   "cell_type": "code",
   "source": [
    "using StatisticalRethinking\n",
    "using CmdStan, StanMCMCChain\n",
    "\n",
    "ProjDir = rel_path(\"..\", \"scripts\", \"12\")\n",
    "\n",
    "d = CSV.read(rel_path( \"..\", \"data\",  \"Kline.csv\"), delim=';');\n",
    "size(d) # Should be 10x5"
   ],
   "metadata": {},
   "execution_count": 1
  },
  {
   "outputs": [],
   "cell_type": "markdown",
   "source": [
    "New col log_pop, set log() for population data"
   ],
   "metadata": {}
  },
  {
   "outputs": [],
   "cell_type": "code",
   "source": [
    "d[:log_pop] = map((x) -> log(x), d[:population]);\n",
    "d[:society] = 1:10;\n",
    "\n",
    "first(d, 5)\n",
    "\n",
    "m12_6 = \"\n",
    "  data {\n",
    "    int N;\n",
    "    int T[N];\n",
    "    int N_societies;\n",
    "    int society[N];\n",
    "    int P[N];\n",
    "  }\n",
    "  parameters {\n",
    "    real alpha;\n",
    "    vector[N_societies] a_society;\n",
    "    real bp;\n",
    "    real<lower=0> sigma_society;\n",
    "  }\n",
    "  model {\n",
    "    vector[N] mu;\n",
    "    target += normal_lpdf(alpha | 0, 10);\n",
    "    target += normal_lpdf(bp | 0, 1);\n",
    "    target += cauchy_lpdf(sigma_society | 0, 1);\n",
    "    target += normal_lpdf(a_society | 0, sigma_society);\n",
    "    for(i in 1:N) mu[i] = alpha + a_society[society[i]] + bp * log(P[i]);\n",
    "    target += poisson_log_lpmf(T | mu);\n",
    "  }\n",
    "  generated quantities {\n",
    "    vector[N] log_lik;\n",
    "    {\n",
    "    vector[N] mu;\n",
    "    for(i in 1:N) {\n",
    "      mu[i] = alpha + a_society[society[i]] + bp * log(P[i]);\n",
    "      log_lik[i] = poisson_log_lpmf(T[i] | mu[i]);\n",
    "    }\n",
    "    }\n",
    "  }\n",
    "\";"
   ],
   "metadata": {},
   "execution_count": 2
  },
  {
   "outputs": [],
   "cell_type": "markdown",
   "source": [
    "Define the Stanmodel and set the output format to :mcmcchain."
   ],
   "metadata": {}
  },
  {
   "outputs": [],
   "cell_type": "code",
   "source": [
    "stanmodel = Stanmodel(name=\"m12.6\",  model=m12_6, output_format=:mcmcchain);"
   ],
   "metadata": {},
   "execution_count": 3
  },
  {
   "outputs": [],
   "cell_type": "markdown",
   "source": [
    "Input data for cmdstan"
   ],
   "metadata": {}
  },
  {
   "outputs": [],
   "cell_type": "code",
   "source": [
    "m12_6_data = Dict(\"N\" => size(d, 1), \"T\" => d[:total_tools], \"N_societies\" => 10, \"society\" => d[:society], \"P\" => d[:population]);"
   ],
   "metadata": {},
   "execution_count": 4
  },
  {
   "outputs": [],
   "cell_type": "markdown",
   "source": [
    "Sample using cmdstan"
   ],
   "metadata": {}
  },
  {
   "outputs": [
    {
     "name": "stdout",
     "output_type": "stream",
     "text": [
      "Informational Message: The current Metropolis proposal is about to be rejected because of the following issue:\n",
      "Exception: normal_lpdf: Scale parameter is 0, but must be > 0!  (in '/Users/rob/.julia/dev/StatisticalRethinking/notebooks/12/tmp/m12.6.stan' at line 19)\n",
      "\n",
      "If this warning occurs sporadically, such as for highly constrained variable types like covariance matrices, then the sampler is fine,\n",
      "but if this warning occurs often then your model may be either severely ill-conditioned or misspecified.\n",
      "\n"
     ]
    }
   ],
   "cell_type": "code",
   "source": [
    "rc, chn, cnames = stan(stanmodel, m12_6_data, ProjDir, diagnostics=false, summary=false, CmdStanDir=CMDSTAN_HOME);"
   ],
   "metadata": {},
   "execution_count": 5
  },
  {
   "outputs": [],
   "cell_type": "markdown",
   "source": [
    "Describe the draws"
   ],
   "metadata": {}
  },
  {
   "outputs": [
    {
     "name": "stdout",
     "output_type": "stream",
     "text": [
      "Iterations = 1:1000\n",
      "Thinning interval = 1\n",
      "Chains = 1,2,3,4\n",
      "Samples per chain = 1000\n",
      "\n",
      "Empirical Posterior Estimates:\n",
      "                   Mean           SD         Naive SE       MCSE         ESS    \n",
      "         lp__ -39.262174975  3.4767589802 0.05497238626 0.1903067599  333.764959\n",
      "accept_stat__   0.940403213  0.0845834263 0.00133738140 0.0017130645 1000.000000\n",
      "   stepsize__   0.049402050  0.0037724695 0.00005964798 0.0006040031   39.009752\n",
      "  treedepth__   5.854000000  0.5012452610 0.00792538346 0.0226024732  491.800123\n",
      " n_leapfrog__  71.174000000 33.7406332422 0.53348625371 0.8618448311 1000.000000\n",
      "  divergent__   0.000000000  0.0000000000 0.00000000000 0.0000000000         NaN\n",
      "     energy__  45.675539200  4.2944872234 0.06790180504 0.2157687237  396.137216\n",
      "        alpha   1.108529703  0.7719313291 0.01220530599 0.0269449008  820.737270\n",
      "  a_society.1  -0.202290476  0.2411911221 0.00381356649 0.0055538254 1000.000000\n",
      "  a_society.2   0.040224985  0.2242490024 0.00354568805 0.0057241802 1000.000000\n",
      "  a_society.3  -0.046184275  0.1937705190 0.00306378092 0.0036550982 1000.000000\n",
      "  a_society.4   0.316449992  0.1901074312 0.00300586241 0.0060155065  998.743085\n",
      "  a_society.5   0.039376116  0.1754845943 0.00277465506 0.0033846797 1000.000000\n",
      "  a_society.6  -0.313590722  0.2052058759 0.00324458979 0.0058729570 1000.000000\n",
      "  a_society.7   0.138048313  0.1717410932 0.00271546511 0.0042991959 1000.000000\n",
      "  a_society.8  -0.169038258  0.1807758029 0.00285831642 0.0043083745 1000.000000\n",
      "  a_society.9   0.266509124  0.1771149537 0.00280043331 0.0055468673 1000.000000\n",
      " a_society.10  -0.097592895  0.2975865733 0.00470525686 0.0103470765  827.163463\n",
      "           bp   0.260666327  0.0838339559 0.00132553123 0.0029751228  794.017608\n",
      "sigma_society   0.304378309  0.1316575758 0.00208168905 0.0058655255  503.822834\n",
      "    log_lik.1  -2.788869312  0.7346762788 0.01161625192 0.0148446060 1000.000000\n",
      "    log_lik.2  -2.816711400  0.4890744750 0.00773294643 0.0106018433 1000.000000\n",
      "    log_lik.3  -2.874374837  0.4918615854 0.00777701452 0.0119246155 1000.000000\n",
      "    log_lik.4  -3.583135585  0.9834065584 0.01554902295 0.0255114392 1000.000000\n",
      "    log_lik.5  -3.028119942  0.5331035388 0.00842910706 0.0126913777 1000.000000\n",
      "    log_lik.6  -3.196438690  0.9437180944 0.01492149324 0.0326629281  834.784418\n",
      "    log_lik.7  -3.210261555  0.6075248366 0.00960581109 0.0134663237 1000.000000\n",
      "    log_lik.8  -3.055766130  0.6209742988 0.00981846576 0.0108796156 1000.000000\n",
      "    log_lik.9  -3.591433922  0.8618908452 0.01362769083 0.0236011658 1000.000000\n",
      "   log_lik.10  -3.541479027  0.6747075062 0.01066806237 0.0125376680 1000.000000\n",
      "\n",
      "Quantiles:\n",
      "                   2.5%         25.0%        50.0%        75.0%         97.5%   \n",
      "         lp__ -46.220517500 -41.25942500 -39.18145000 -37.183875000 -33.49141500\n",
      "accept_stat__   0.703138050   0.91681125   0.97666750   0.996567500   0.99996102\n",
      "   stepsize__   0.043482900   0.04784595   0.05017270   0.051728800   0.05377990\n",
      "  treedepth__   5.000000000   6.00000000   6.00000000   6.000000000   7.00000000\n",
      " n_leapfrog__  31.000000000  63.00000000  63.00000000  63.000000000 127.00000000\n",
      "  divergent__   0.000000000   0.00000000   0.00000000   0.000000000   0.00000000\n",
      "     energy__  38.358125000  42.95505000  45.45460000  48.331350000  54.23803500\n",
      "        alpha  -0.598510525   0.69542850   1.14416000   1.567310000   2.60959325\n",
      "  a_society.1  -0.727182675  -0.34727775  -0.18442000  -0.044071875   0.23016060\n",
      "  a_society.2  -0.374031575  -0.10080825   0.03070550   0.171470000   0.52542340\n",
      "  a_society.3  -0.432157500  -0.16543775  -0.04457725   0.072703425   0.34403233\n",
      "  a_society.4  -0.026876890   0.18647625   0.30953650   0.437071250   0.70595318\n",
      "  a_society.5  -0.307716825  -0.07270315   0.03569240   0.148417750   0.40164585\n",
      "  a_society.6  -0.738671750  -0.44808150  -0.29624800  -0.165557250   0.03517694\n",
      "  a_society.7  -0.192122325   0.02363970   0.13135350   0.248706250   0.48859443\n",
      "  a_society.8  -0.555365350  -0.28442225  -0.16189750  -0.046086800   0.16253578\n",
      "  a_society.9  -0.050348982   0.14579725   0.25751350   0.377735250   0.64130045\n",
      " a_society.10  -0.763150900  -0.25195800  -0.08073125   0.067944375   0.49682245\n",
      "           bp   0.099056373   0.21095400   0.25728250   0.306115500   0.44798478\n",
      "sigma_society   0.095574578   0.21846650   0.28646850   0.372363000   0.61630445\n",
      "    log_lik.1  -4.787559250  -3.03893250  -2.51286500  -2.276932500  -2.20840975\n",
      "    log_lik.2  -4.256603750  -2.92950500  -2.62510000  -2.502135000  -2.46864000\n",
      "    log_lik.3  -4.290011000  -3.01090250  -2.67315500  -2.545820000  -2.51174000\n",
      "    log_lik.4  -6.403688500  -3.91713750  -3.19972500  -2.893185000  -2.80234975\n",
      "    log_lik.5  -4.494031250  -3.13674750  -2.82453500  -2.702810000  -2.67002000\n",
      "    log_lik.6  -5.782321250  -3.56480750  -2.84733000  -2.503692500  -2.39635975\n",
      "    log_lik.7  -4.884083500  -3.36957000  -2.97771500  -2.813810000  -2.76609875\n",
      "    log_lik.8  -4.699073000  -3.24652000  -2.82612000  -2.639960000  -2.58842000\n",
      "    log_lik.9  -6.100310500  -3.86900750  -3.24826500  -2.999652500  -2.92470000\n",
      "   log_lik.10  -5.492745750  -3.71832000  -3.26550500  -3.101070000  -3.05192000\n",
      "\n"
     ]
    }
   ],
   "cell_type": "code",
   "source": [
    "describe(chn)"
   ],
   "metadata": {},
   "execution_count": 6
  },
  {
   "outputs": [],
   "cell_type": "markdown",
   "source": [
    "*This notebook was generated using [Literate.jl](https://github.com/fredrikekre/Literate.jl).*"
   ],
   "metadata": {}
  }
 ],
 "nbformat_minor": 3,
 "metadata": {
  "language_info": {
   "file_extension": ".jl",
   "mimetype": "application/julia",
   "name": "julia",
   "version": "1.1.0"
  },
  "kernelspec": {
   "name": "julia-1.1",
   "display_name": "Julia 1.1.0",
   "language": "julia"
  }
 },
 "nbformat": 4
}
