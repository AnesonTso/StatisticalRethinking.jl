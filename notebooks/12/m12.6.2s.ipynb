{
 "cells": [
  {
   "outputs": [
    {
     "output_type": "execute_result",
     "data": {
      "text/plain": "(10, 5)"
     },
     "metadata": {},
     "execution_count": 1
    }
   ],
   "cell_type": "code",
   "source": [
    "using StatisticalRethinking\n",
    "using CmdStan, StanMCMCChain\n",
    "\n",
    "ProjDir = rel_path(\"..\", \"scripts\", \"12\")\n",
    "\n",
    "d = CSV.read(rel_path( \"..\", \"data\",  \"Kline.csv\"), delim=';');\n",
    "size(d) # Should be 10x5"
   ],
   "metadata": {},
   "execution_count": 1
  },
  {
   "outputs": [],
   "cell_type": "markdown",
   "source": [
    "New col log_pop, set log() for population data"
   ],
   "metadata": {}
  },
  {
   "outputs": [],
   "cell_type": "code",
   "source": [
    "d[:log_pop] = map((x) -> log(x), d[:population]);\n",
    "d[:society] = 1:10;\n",
    "\n",
    "first(d, 5)\n",
    "\n",
    "m12_6 = \"\n",
    "  data {\n",
    "    int N;\n",
    "    int T[N];\n",
    "    int N_societies;\n",
    "    int society[N];\n",
    "    int P[N];\n",
    "  }\n",
    "  parameters {\n",
    "    real alpha;\n",
    "    vector[N_societies] a_society;\n",
    "    real bp;\n",
    "    real<lower=0> sigma_society;\n",
    "  }\n",
    "  model {\n",
    "    vector[N] mu;\n",
    "    target += normal_lpdf(alpha | 0, 10);\n",
    "    target += normal_lpdf(bp | 0, 1);\n",
    "    target += cauchy_lpdf(sigma_society | 0, 1);\n",
    "    target += normal_lpdf(a_society | 0, sigma_society);\n",
    "    for(i in 1:N) mu[i] = alpha + a_society[society[i]] + bp * log(P[i]);\n",
    "    target += poisson_log_lpmf(T | mu);\n",
    "  }\n",
    "  generated quantities {\n",
    "    vector[N] log_lik;\n",
    "    {\n",
    "    vector[N] mu;\n",
    "    for(i in 1:N) {\n",
    "      mu[i] = alpha + a_society[society[i]] + bp * log(P[i]);\n",
    "      log_lik[i] = poisson_log_lpmf(T[i] | mu[i]);\n",
    "    }\n",
    "    }\n",
    "  }\n",
    "\";"
   ],
   "metadata": {},
   "execution_count": 2
  },
  {
   "outputs": [],
   "cell_type": "markdown",
   "source": [
    "Define the Stanmodel and set the output format to :mcmcchain."
   ],
   "metadata": {}
  },
  {
   "outputs": [
    {
     "name": "stdout",
     "output_type": "stream",
     "text": [
      "=====> /Users/rob/.julia/dev/StatisticalRethinking/notebooks/12\n",
      "\n"
     ]
    }
   ],
   "cell_type": "code",
   "source": [
    "stanmodel = Stanmodel(name=\"m12.6\",  model=m12_6, output_format=:mcmcchain);"
   ],
   "metadata": {},
   "execution_count": 3
  },
  {
   "outputs": [],
   "cell_type": "markdown",
   "source": [
    "Input data for cmdstan"
   ],
   "metadata": {}
  },
  {
   "outputs": [],
   "cell_type": "code",
   "source": [
    "m12_6_data = Dict(\"N\" => size(d, 1), \"T\" => d[:total_tools], \"N_societies\" => 10, \"society\" => d[:society], \"P\" => d[:population]);"
   ],
   "metadata": {},
   "execution_count": 4
  },
  {
   "outputs": [],
   "cell_type": "markdown",
   "source": [
    "Sample using cmdstan"
   ],
   "metadata": {}
  },
  {
   "outputs": [
    {
     "name": "stdout",
     "output_type": "stream",
     "text": [
      "\n",
      "make: `/Users/rob/.julia/dev/StatisticalRethinking/notebooks/12/tmp/m12.6' is up to date.\n"
     ]
    }
   ],
   "cell_type": "code",
   "source": [
    "rc, chn, cnames = stan(stanmodel, m12_6_data, ProjDir, diagnostics=false, summary=false, CmdStanDir=CMDSTAN_HOME);"
   ],
   "metadata": {},
   "execution_count": 5
  },
  {
   "outputs": [],
   "cell_type": "markdown",
   "source": [
    "Describe the draws"
   ],
   "metadata": {}
  },
  {
   "outputs": [
    {
     "name": "stdout",
     "output_type": "stream",
     "text": [
      "Iterations = 1:1000\n",
      "Thinning interval = 1\n",
      "Chains = 1,2,3,4\n",
      "Samples per chain = 1000\n",
      "\n",
      "Empirical Posterior Estimates:\n",
      "                   Mean          SD        Naive SE       MCSE         ESS    \n",
      "         lp__ -39.612289300  3.21503515 0.05083416910 0.1286977701  624.064396\n",
      "accept_stat__   0.943197167  0.07922159 0.00125260338 0.0019554508 1000.000000\n",
      "   stepsize__   0.048296850  0.00703668 0.00011125968 0.0011266297   39.009752\n",
      "  treedepth__   5.953250000  0.50510219 0.00798636681 0.0300925655  281.734524\n",
      " n_leapfrog__  78.088000000 36.91011847 0.58360021530 2.1696456995  289.409804\n",
      "  divergent__   0.000000000  0.00000000 0.00000000000 0.0000000000         NaN\n",
      "     energy__  46.103521900  4.12900938 0.06528537067 0.1491521758  766.359515\n",
      "        alpha   1.128738441  0.75244083 0.01189713414 0.0207060104 1000.000000\n",
      "  a_society.1  -0.215986350  0.24384726 0.00385556374 0.0071578380 1000.000000\n",
      "  a_society.2   0.035700505  0.21960160 0.00347220623 0.0053465841 1000.000000\n",
      "  a_society.3  -0.046266496  0.19448194 0.00307502955 0.0049625535 1000.000000\n",
      "  a_society.4   0.327986247  0.19169895 0.00303102651 0.0052129531 1000.000000\n",
      "  a_society.5   0.043435942  0.18180838 0.00287464283 0.0047074769 1000.000000\n",
      "  a_society.6  -0.322601487  0.21402894 0.00338409472 0.0065063243 1000.000000\n",
      "  a_society.7   0.143822022  0.17494327 0.00276609595 0.0044485311 1000.000000\n",
      "  a_society.8  -0.174403545  0.18424985 0.00291324597 0.0047497797 1000.000000\n",
      "  a_society.9   0.278482346  0.17905896 0.00283117071 0.0052373500 1000.000000\n",
      " a_society.10  -0.084669112  0.30346980 0.00479827892 0.0077283173 1000.000000\n",
      "           bp   0.257910009  0.08231287 0.00130148074 0.0022064137 1000.000000\n",
      "sigma_society   0.314207596  0.13128665 0.00207582414 0.0047793444  754.578559\n",
      "    log_lik.1  -2.743798005  0.69465423 0.01098344770 0.0151789558 1000.000000\n",
      "    log_lik.2  -2.828463905  0.50513795 0.00798693226 0.0121574209 1000.000000\n",
      "    log_lik.3  -2.877085598  0.52709397 0.00833408738 0.0130032766 1000.000000\n",
      "    log_lik.4  -3.546538130  0.93790699 0.01482961161 0.0227475362 1000.000000\n",
      "    log_lik.5  -3.054480392  0.53828588 0.00851104713 0.0115445089 1000.000000\n",
      "    log_lik.6  -3.169931197  0.92911152 0.01469054303 0.0264672678 1000.000000\n",
      "    log_lik.7  -3.225737847  0.64549270 0.01020613568 0.0137034661 1000.000000\n",
      "    log_lik.8  -3.038507100  0.61682212 0.00975281398 0.0143707070 1000.000000\n",
      "    log_lik.9  -3.546613767  0.81482622 0.01288353372 0.0202386468 1000.000000\n",
      "   log_lik.10  -3.547914407  0.71183611 0.01125511717 0.0130668615 1000.000000\n",
      "\n",
      "Quantiles:\n",
      "                   2.5%         25.0%         50.0%        75.0%         97.5%    \n",
      "         lp__ -46.590805000 -41.525825000 -39.30625000 -37.400725000 -34.326902500\n",
      "accept_stat__   0.714816775   0.921493500   0.97713500   0.996196250   0.999964025\n",
      "   stepsize__   0.039661500   0.043121325   0.04760775   0.052783275   0.058310400\n",
      "  treedepth__   5.000000000   6.000000000   6.00000000   6.000000000   7.000000000\n",
      " n_leapfrog__  31.000000000  63.000000000  63.00000000  79.000000000 127.000000000\n",
      "  divergent__   0.000000000   0.000000000   0.00000000   0.000000000   0.000000000\n",
      "     energy__  38.884715000  43.248475000  45.76935000  48.677900000  54.846005000\n",
      "        alpha  -0.400606025   0.681471000   1.13724000   1.578835000   2.650750250\n",
      "  a_society.1  -0.762983350  -0.358522000  -0.19675550  -0.056113975   0.219860625\n",
      "  a_society.2  -0.395692875  -0.099930350   0.03417870   0.173828250   0.483470750\n",
      "  a_society.3  -0.445929300  -0.168843250  -0.03838520   0.078775900   0.327503300\n",
      "  a_society.4  -0.010324757   0.192648250   0.32073650   0.455328500   0.719005575\n",
      "  a_society.5  -0.307448325  -0.073518900   0.03866765   0.159584750   0.404798450\n",
      "  a_society.6  -0.775023850  -0.456322000  -0.30985950  -0.173999250   0.045732423\n",
      "  a_society.7  -0.186974100   0.029787925   0.13769550   0.253156750   0.510467575\n",
      "  a_society.8  -0.553042375  -0.285639500  -0.16720500  -0.054693300   0.168465575\n",
      "  a_society.9  -0.048285060   0.158765000   0.26892750   0.392957250   0.650789400\n",
      " a_society.10  -0.728168575  -0.253537500  -0.07955765   0.082533350   0.563911475\n",
      "           bp   0.091002485   0.209348000   0.25783500   0.304578250   0.425243800\n",
      "sigma_society   0.116072000   0.224171000   0.29487600   0.379286500   0.634287950\n",
      "    log_lik.1  -4.765604750  -2.931227500  -2.47599000  -2.267845000  -2.208279750\n",
      "    log_lik.2  -4.277562000  -2.945607500  -2.63163500  -2.506012500  -2.468540000\n",
      "    log_lik.3  -4.356517250  -2.989242500  -2.67235000  -2.550065000  -2.511850000\n",
      "    log_lik.4  -6.276557750  -3.841872500  -3.18641000  -2.892767500  -2.802349250\n",
      "    log_lik.5  -4.593570500  -3.178240000  -2.84243000  -2.710107500  -2.669999750\n",
      "    log_lik.6  -5.677836500  -3.537285000  -2.81452500  -2.496115000  -2.396429500\n",
      "    log_lik.7  -5.003876750  -3.375152500  -2.97454500  -2.815675000  -2.765969750\n",
      "    log_lik.8  -4.739961250  -3.207875000  -2.79698500  -2.635382500  -2.588760000\n",
      "    log_lik.9  -5.838990250  -3.791585000  -3.22324000  -2.990130000  -2.925039750\n",
      "   log_lik.10  -5.525166000  -3.708785000  -3.27065500  -3.098427500  -3.051840000\n",
      "\n"
     ]
    }
   ],
   "cell_type": "code",
   "source": [
    "describe(chn)"
   ],
   "metadata": {},
   "execution_count": 6
  },
  {
   "outputs": [],
   "cell_type": "markdown",
   "source": [
    "*This notebook was generated using [Literate.jl](https://github.com/fredrikekre/Literate.jl).*"
   ],
   "metadata": {}
  }
 ],
 "nbformat_minor": 3,
 "metadata": {
  "language_info": {
   "file_extension": ".jl",
   "mimetype": "application/julia",
   "name": "julia",
   "version": "1.2.0-DEV.216"
  },
  "kernelspec": {
   "name": "julia-1.2",
   "display_name": "Julia 1.2.0-DEV.216",
   "language": "julia"
  }
 },
 "nbformat": 4
}
