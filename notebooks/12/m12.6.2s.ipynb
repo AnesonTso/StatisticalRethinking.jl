{
 "cells": [
  {
   "outputs": [
    {
     "output_type": "execute_result",
     "data": {
      "text/plain": "(10, 5)"
     },
     "metadata": {},
     "execution_count": 1
    }
   ],
   "cell_type": "code",
   "source": [
    "using StatisticalRethinking\n",
    "using CmdStan, StanMCMCChain\n",
    "\n",
    "ProjDir = rel_path(\"..\", \"scripts\", \"12\")\n",
    "\n",
    "d = CSV.read(rel_path( \"..\", \"data\",  \"Kline.csv\"), delim=';');\n",
    "size(d) # Should be 10x5"
   ],
   "metadata": {},
   "execution_count": 1
  },
  {
   "outputs": [],
   "cell_type": "markdown",
   "source": [
    "New col log_pop, set log() for population data"
   ],
   "metadata": {}
  },
  {
   "outputs": [],
   "cell_type": "code",
   "source": [
    "d[:log_pop] = map((x) -> log(x), d[:population]);\n",
    "d[:society] = 1:10;\n",
    "\n",
    "first(d, 5)\n",
    "\n",
    "m12_6 = \"\n",
    "  data {\n",
    "    int N;\n",
    "    int T[N];\n",
    "    int N_societies;\n",
    "    int society[N];\n",
    "    int P[N];\n",
    "  }\n",
    "  parameters {\n",
    "    real alpha;\n",
    "    vector[N_societies] a_society;\n",
    "    real bp;\n",
    "    real<lower=0> sigma_society;\n",
    "  }\n",
    "  model {\n",
    "    vector[N] mu;\n",
    "    target += normal_lpdf(alpha | 0, 10);\n",
    "    target += normal_lpdf(bp | 0, 1);\n",
    "    target += cauchy_lpdf(sigma_society | 0, 1);\n",
    "    target += normal_lpdf(a_society | 0, sigma_society);\n",
    "    for(i in 1:N) mu[i] = alpha + a_society[society[i]] + bp * log(P[i]);\n",
    "    target += poisson_log_lpmf(T | mu);\n",
    "  }\n",
    "  generated quantities {\n",
    "    vector[N] log_lik;\n",
    "    {\n",
    "    vector[N] mu;\n",
    "    for(i in 1:N) {\n",
    "      mu[i] = alpha + a_society[society[i]] + bp * log(P[i]);\n",
    "      log_lik[i] = poisson_log_lpmf(T[i] | mu[i]);\n",
    "    }\n",
    "    }\n",
    "  }\n",
    "\";"
   ],
   "metadata": {},
   "execution_count": 2
  },
  {
   "outputs": [],
   "cell_type": "markdown",
   "source": [
    "Define the Stanmodel and set the output format to :mcmcchain."
   ],
   "metadata": {}
  },
  {
   "outputs": [],
   "cell_type": "code",
   "source": [
    "stanmodel = Stanmodel(name=\"m12.6\",  model=m12_6, output_format=:mcmcchain);"
   ],
   "metadata": {},
   "execution_count": 3
  },
  {
   "outputs": [],
   "cell_type": "markdown",
   "source": [
    "Input data for cmdstan"
   ],
   "metadata": {}
  },
  {
   "outputs": [],
   "cell_type": "code",
   "source": [
    "m12_6_data = Dict(\"N\" => size(d, 1), \"T\" => d[:total_tools], \"N_societies\" => 10, \"society\" => d[:society], \"P\" => d[:population]);"
   ],
   "metadata": {},
   "execution_count": 4
  },
  {
   "outputs": [],
   "cell_type": "markdown",
   "source": [
    "Sample using cmdstan"
   ],
   "metadata": {}
  },
  {
   "outputs": [
    {
     "name": "stdout",
     "output_type": "stream",
     "text": [
      "Informational Message: The current Metropolis proposal is about to be rejected because of the following issue:\n",
      "Exception: normal_lpdf: Scale parameter is 0, but must be > 0!  (in '/Users/rob/.julia/dev/StatisticalRethinking/notebooks/12/tmp/m12.6.stan' at line 19)\n",
      "\n",
      "If this warning occurs sporadically, such as for highly constrained variable types like covariance matrices, then the sampler is fine,\n",
      "but if this warning occurs often then your model may be either severely ill-conditioned or misspecified.\n",
      "\n"
     ]
    }
   ],
   "cell_type": "code",
   "source": [
    "rc, chn, cnames = stan(stanmodel, m12_6_data, ProjDir, diagnostics=false, summary=false, CmdStanDir=CMDSTAN_HOME);"
   ],
   "metadata": {},
   "execution_count": 5
  },
  {
   "outputs": [],
   "cell_type": "markdown",
   "source": [
    "Describe the draws"
   ],
   "metadata": {}
  },
  {
   "outputs": [
    {
     "name": "stdout",
     "output_type": "stream",
     "text": [
      "Iterations = 1:1000\n",
      "Thinning interval = 1\n",
      "Chains = 1,2,3,4\n",
      "Samples per chain = 1000\n",
      "\n",
      "Empirical Posterior Estimates:\n",
      "                   Mean           SD         Naive SE        MCSE         ESS    \n",
      "         lp__ -39.612675225  3.0317782124 0.04793662256 0.09289301524 1000.000000\n",
      "accept_stat__   0.941644335  0.0831332526 0.00131445214 0.00216293273 1000.000000\n",
      "   stepsize__   0.052514875  0.0047281009 0.00007475784 0.00075700743   39.009752\n",
      "  treedepth__   5.835750000  0.4651086099 0.00735401283 0.01865986884  621.286025\n",
      " n_leapfrog__  69.318000000 32.0495190123 0.50674738996 0.92618871644 1000.000000\n",
      "  divergent__   0.000000000  0.0000000000 0.00000000000 0.00000000000         NaN\n",
      "     energy__  46.064047675  3.9459508225 0.06239096067 0.10635740956 1000.000000\n",
      "        alpha   1.066128347  0.7515411900 0.01188290958 0.02630124646  816.493844\n",
      "  a_society.1  -0.199779475  0.2393463065 0.00378439739 0.00530136325 1000.000000\n",
      "  a_society.2   0.047279487  0.2242810695 0.00354619508 0.00566730076 1000.000000\n",
      "  a_society.3  -0.041878921  0.1978907725 0.00312892784 0.00370695535 1000.000000\n",
      "  a_society.4   0.332719848  0.1878126170 0.00296957821 0.00502652926 1000.000000\n",
      "  a_society.5   0.047108601  0.1787473945 0.00282624446 0.00456164390 1000.000000\n",
      "  a_society.6  -0.321291992  0.2059698079 0.00325666861 0.00492510240 1000.000000\n",
      "  a_society.7   0.147602978  0.1719166725 0.00271824126 0.00410993770 1000.000000\n",
      "  a_society.8  -0.175363720  0.1900167694 0.00300442892 0.00430463465 1000.000000\n",
      "  a_society.9   0.273489295  0.1775847753 0.00280786184 0.00449498253 1000.000000\n",
      " a_society.10  -0.104187772  0.3002450708 0.00474729140 0.01033553798  843.889528\n",
      "           bp   0.264756939  0.0820671191 0.00129759509 0.00289364378  804.355883\n",
      "sigma_society   0.315357093  0.1278480828 0.00202145568 0.00372677432 1000.000000\n",
      "    log_lik.1  -2.737694313  0.6657426490 0.01052631553 0.01503798832 1000.000000\n",
      "    log_lik.2  -2.850638240  0.5523646269 0.00873365160 0.01247859467 1000.000000\n",
      "    log_lik.3  -2.881753497  0.5388790664 0.00852042617 0.01159008568 1000.000000\n",
      "    log_lik.4  -3.543135557  0.9395257092 0.01485520581 0.02005060793 1000.000000\n",
      "    log_lik.5  -3.032804010  0.5008635400 0.00791934792 0.01176859403 1000.000000\n",
      "    log_lik.6  -3.146849595  0.9054300353 0.01431610587 0.01846382434 1000.000000\n",
      "    log_lik.7  -3.202394070  0.5914831925 0.00935217043 0.01014825535 1000.000000\n",
      "    log_lik.8  -3.039978850  0.5988704352 0.00946897299 0.01102226086 1000.000000\n",
      "    log_lik.9  -3.538094803  0.7977670403 0.01261380445 0.01643613950 1000.000000\n",
      "   log_lik.10  -3.568800843  0.7776012047 0.01229495459 0.01923208644 1000.000000\n",
      "\n",
      "Quantiles:\n",
      "                    2.5%          25.0%         50.0%        75.0%         97.5%   \n",
      "         lp__ -46.23067250000 -41.441850000 -39.32570000 -37.461425000 -34.66539750\n",
      "accept_stat__   0.69950710000   0.922507000   0.97702750   0.996627500   0.99997202\n",
      "   stepsize__   0.04790950000   0.050096650   0.05085845   0.053276675   0.06043310\n",
      "  treedepth__   5.00000000000   6.000000000   6.00000000   6.000000000   6.00000000\n",
      " n_leapfrog__  31.00000000000  63.000000000  63.00000000  63.000000000 127.00000000\n",
      "  divergent__   0.00000000000   0.000000000   0.00000000   0.000000000   0.00000000\n",
      "     energy__  39.26632750000  43.301675000  45.73305000  48.554275000  54.63513000\n",
      "        alpha  -0.46529580000   0.635148000   1.07995500   1.524445000   2.52622600\n",
      "  a_society.1  -0.71733000000  -0.339419250  -0.17979700  -0.044787475   0.23381905\n",
      "  a_society.2  -0.41174075000  -0.093535725   0.04346005   0.186442500   0.50458920\n",
      "  a_society.3  -0.44948535000  -0.162753750  -0.03870965   0.087870700   0.33994103\n",
      "  a_society.4  -0.00087170282   0.203295750   0.31796350   0.456992000   0.72900245\n",
      "  a_society.5  -0.31221272500  -0.066130325   0.04623725   0.156698250   0.40804240\n",
      "  a_society.6  -0.75894505000  -0.452995500  -0.30551200  -0.173697500   0.03491683\n",
      "  a_society.7  -0.17496717500   0.032989075   0.14117350   0.256814000   0.50828967\n",
      "  a_society.8  -0.56180200000  -0.297490250  -0.17301950  -0.046362550   0.18100908\n",
      "  a_society.9  -0.04101476250   0.153016750   0.26316850   0.385599250   0.63778160\n",
      " a_society.10  -0.70061820000  -0.273589000  -0.10579450   0.062836200   0.51641940\n",
      "           bp   0.09924183250   0.215368500   0.26414350   0.312107250   0.43107585\n",
      "sigma_society   0.12429965000   0.227776500   0.29411800   0.378700500   0.62723020\n",
      "    log_lik.1  -4.64565375000  -2.962995000  -2.47944000  -2.273760000  -2.20845925\n",
      "    log_lik.2  -4.45596700000  -2.972835000  -2.63531500  -2.508272500  -2.46857975\n",
      "    log_lik.3  -4.49739075000  -2.979610000  -2.67367000  -2.547872500  -2.51172975\n",
      "    log_lik.4  -6.12565300000  -3.851767500  -3.19468500  -2.893520000  -2.80263975\n",
      "    log_lik.5  -4.48192525000  -3.154050000  -2.83137000  -2.708212500  -2.67011975\n",
      "    log_lik.6  -5.75482850000  -3.478395000  -2.81999000  -2.489977500  -2.39637950\n",
      "    log_lik.7  -4.86341275000  -3.366935000  -2.96950000  -2.810270000  -2.76586000\n",
      "    log_lik.8  -4.69696125000  -3.214220000  -2.80123500  -2.638612500  -2.58859975\n",
      "    log_lik.9  -5.82670950000  -3.767697500  -3.23073500  -2.991285000  -2.92483975\n",
      "   log_lik.10  -5.81296575000  -3.705712500  -3.27415000  -3.102360000  -3.05199000\n",
      "\n"
     ]
    }
   ],
   "cell_type": "code",
   "source": [
    "describe(chn)"
   ],
   "metadata": {},
   "execution_count": 6
  },
  {
   "outputs": [],
   "cell_type": "markdown",
   "source": [
    "*This notebook was generated using [Literate.jl](https://github.com/fredrikekre/Literate.jl).*"
   ],
   "metadata": {}
  }
 ],
 "nbformat_minor": 3,
 "metadata": {
  "language_info": {
   "file_extension": ".jl",
   "mimetype": "application/julia",
   "name": "julia",
   "version": "1.2.0-DEV.224"
  },
  "kernelspec": {
   "name": "julia-1.2",
   "display_name": "Julia 1.2.0-DEV.224",
   "language": "julia"
  }
 },
 "nbformat": 4
}
