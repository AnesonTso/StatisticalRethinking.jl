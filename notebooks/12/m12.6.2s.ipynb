{
 "cells": [
  {
   "outputs": [
    {
     "output_type": "execute_result",
     "data": {
      "text/plain": "(10, 5)"
     },
     "metadata": {},
     "execution_count": 1
    }
   ],
   "cell_type": "code",
   "source": [
    "using StatisticalRethinking\n",
    "using CmdStan, StanMCMCChain\n",
    "\n",
    "ProjDir = rel_path(\"..\", \"scripts\", \"12\")\n",
    "\n",
    "d = CSV.read(rel_path( \"..\", \"data\",  \"Kline.csv\"), delim=';');\n",
    "size(d) # Should be 10x5"
   ],
   "metadata": {},
   "execution_count": 1
  },
  {
   "outputs": [],
   "cell_type": "markdown",
   "source": [
    "New col log_pop, set log() for population data"
   ],
   "metadata": {}
  },
  {
   "outputs": [],
   "cell_type": "code",
   "source": [
    "d[:log_pop] = map((x) -> log(x), d[:population]);\n",
    "d[:society] = 1:10;\n",
    "\n",
    "first(d, 5)\n",
    "\n",
    "m12_6 = \"\n",
    "  data {\n",
    "    int N;\n",
    "    int T[N];\n",
    "    int N_societies;\n",
    "    int society[N];\n",
    "    int P[N];\n",
    "  }\n",
    "  parameters {\n",
    "    real alpha;\n",
    "    vector[N_societies] a_society;\n",
    "    real bp;\n",
    "    real<lower=0> sigma_society;\n",
    "  }\n",
    "  model {\n",
    "    vector[N] mu;\n",
    "    target += normal_lpdf(alpha | 0, 10);\n",
    "    target += normal_lpdf(bp | 0, 1);\n",
    "    target += cauchy_lpdf(sigma_society | 0, 1);\n",
    "    target += normal_lpdf(a_society | 0, sigma_society);\n",
    "    for(i in 1:N) mu[i] = alpha + a_society[society[i]] + bp * log(P[i]);\n",
    "    target += poisson_log_lpmf(T | mu);\n",
    "  }\n",
    "  generated quantities {\n",
    "    vector[N] log_lik;\n",
    "    {\n",
    "    vector[N] mu;\n",
    "    for(i in 1:N) {\n",
    "      mu[i] = alpha + a_society[society[i]] + bp * log(P[i]);\n",
    "      log_lik[i] = poisson_log_lpmf(T[i] | mu[i]);\n",
    "    }\n",
    "    }\n",
    "  }\n",
    "\";"
   ],
   "metadata": {},
   "execution_count": 2
  },
  {
   "outputs": [],
   "cell_type": "markdown",
   "source": [
    "Define the Stanmodel and set the output format to :mcmcchain."
   ],
   "metadata": {}
  },
  {
   "outputs": [
    {
     "name": "stdout",
     "output_type": "stream",
     "text": [
      "=====> /Users/rob/.julia/dev/StatisticalRethinking/notebooks/12\n",
      "\n",
      "\n",
      "File /Users/rob/.julia/dev/StatisticalRethinking/notebooks/12/tmp/m12.6.stan will be updated.\n",
      "\n"
     ]
    }
   ],
   "cell_type": "code",
   "source": [
    "stanmodel = Stanmodel(name=\"m12.6\",  model=m12_6, output_format=:mcmcchain);"
   ],
   "metadata": {},
   "execution_count": 3
  },
  {
   "outputs": [],
   "cell_type": "markdown",
   "source": [
    "Input data for cmdstan"
   ],
   "metadata": {}
  },
  {
   "outputs": [],
   "cell_type": "code",
   "source": [
    "m12_6_data = Dict(\"N\" => size(d, 1), \"T\" => d[:total_tools], \"N_societies\" => 10, \"society\" => d[:society], \"P\" => d[:population]);"
   ],
   "metadata": {},
   "execution_count": 4
  },
  {
   "outputs": [],
   "cell_type": "markdown",
   "source": [
    "Sample using cmdstan"
   ],
   "metadata": {}
  },
  {
   "outputs": [
    {
     "name": "stdout",
     "output_type": "stream",
     "text": [
      "\n",
      "\n",
      "--- Translating Stan model to C++ code ---\n",
      "bin/stanc  --o=/Users/rob/.julia/dev/StatisticalRethinking/notebooks/12/tmp/m12.6.hpp /Users/rob/.julia/dev/StatisticalRethinking/notebooks/12/tmp/m12.6.stan\n",
      "Model name=m12_6_model\n",
      "Input file=/Users/rob/.julia/dev/StatisticalRethinking/notebooks/12/tmp/m12.6.stan\n",
      "Output file=/Users/rob/.julia/dev/StatisticalRethinking/notebooks/12/tmp/m12.6.hpp\n",
      "clang++ -std=c++1y -Wno-unknown-warning-option -Wno-tautological-compare -Wno-sign-compare      -O3 -I src -I stan/src -I stan/lib/stan_math/ -I stan/lib/stan_math/lib/eigen_3.3.3 -I stan/lib/stan_math/lib/boost_1.66.0 -I stan/lib/stan_math/lib/sundials_3.1.0/include    -DBOOST_RESULT_OF_USE_TR1 -DBOOST_NO_DECLTYPE -DBOOST_DISABLE_ASSERTS -DBOOST_PHOENIX_NO_VARIADIC_EXPRESSION     -c -MT /Users/rob/.julia/dev/StatisticalRethinking/notebooks/12/tmp/m12.6.o -MT /Users/rob/.julia/dev/StatisticalRethinking/notebooks/12/tmp/m12.6 -include /Users/rob/.julia/dev/StatisticalRethinking/notebooks/12/tmp/m12.6.hpp -include src/cmdstan/main.cpp -MM -E -MG -MP -MF /Users/rob/.julia/dev/StatisticalRethinking/notebooks/12/tmp/m12.6.d /Users/rob/.julia/dev/StatisticalRethinking/notebooks/12/tmp/m12.6.hpp\n",
      "\n",
      "--- Linking C++ model ---\n",
      "clang++ -std=c++1y -Wno-unknown-warning-option -Wno-tautological-compare -Wno-sign-compare      -O3 -I src -I stan/src -I stan/lib/stan_math/ -I stan/lib/stan_math/lib/eigen_3.3.3 -I stan/lib/stan_math/lib/boost_1.66.0 -I stan/lib/stan_math/lib/sundials_3.1.0/include    -DBOOST_RESULT_OF_USE_TR1 -DBOOST_NO_DECLTYPE -DBOOST_DISABLE_ASSERTS -DBOOST_PHOENIX_NO_VARIADIC_EXPRESSION            -include-pch stan/src/stan/model/model_header.hpp.gch -include /Users/rob/.julia/dev/StatisticalRethinking/notebooks/12/tmp/m12.6.hpp src/cmdstan/main.cpp        stan/lib/stan_math/lib/sundials_3.1.0/lib/libsundials_nvecserial.a stan/lib/stan_math/lib/sundials_3.1.0/lib/libsundials_cvodes.a stan/lib/stan_math/lib/sundials_3.1.0/lib/libsundials_idas.a  -o /Users/rob/.julia/dev/StatisticalRethinking/notebooks/12/tmp/m12.6\n",
      "Informational Message: The current Metropolis proposal is about to be rejected because of the following issue:\n",
      "Exception: normal_lpdf: Scale parameter is 0, but must be > 0!  (in '/Users/rob/.julia/dev/StatisticalRethinking/notebooks/12/tmp/m12.6.stan' at line 19)\n",
      "\n",
      "If this warning occurs sporadically, such as for highly constrained variable types like covariance matrices, then the sampler is fine,\n",
      "but if this warning occurs often then your model may be either severely ill-conditioned or misspecified.\n",
      "\n"
     ]
    }
   ],
   "cell_type": "code",
   "source": [
    "rc, chn, cnames = stan(stanmodel, m12_6_data, ProjDir, diagnostics=false, summary=false, CmdStanDir=CMDSTAN_HOME);"
   ],
   "metadata": {},
   "execution_count": 5
  },
  {
   "outputs": [],
   "cell_type": "markdown",
   "source": [
    "Describe the draws"
   ],
   "metadata": {}
  },
  {
   "outputs": [
    {
     "name": "stdout",
     "output_type": "stream",
     "text": [
      "Iterations = 1:1000\n",
      "Thinning interval = 1\n",
      "Chains = 1,2,3,4\n",
      "Samples per chain = 1000\n",
      "\n",
      "Empirical Posterior Estimates:\n",
      "                   Mean           SD         Naive SE       MCSE         ESS    \n",
      "         lp__ -39.547584700  3.0695736406 0.04853422075 0.1168004118  690.664869\n",
      "accept_stat__   0.926867053  0.0968584820 0.00153146707 0.0017268753 1000.000000\n",
      "   stepsize__   0.056565925  0.0018793574 0.00002971525 0.0003009004   39.009752\n",
      "  treedepth__   5.761750000  0.4884122993 0.00772247652 0.0135110947 1000.000000\n",
      " n_leapfrog__  65.072000000 27.8187758011 0.43985346625 0.5555855308 1000.000000\n",
      "  divergent__   0.000000000  0.0000000000 0.00000000000 0.0000000000         NaN\n",
      "     energy__  46.047208425  4.0218982970 0.06359179568 0.1485520564  733.001447\n",
      "        alpha   1.095902219  0.7564406991 0.01196037762 0.0235354830 1000.000000\n",
      "  a_society.1  -0.202671782  0.2462745662 0.00389394279 0.0055250586 1000.000000\n",
      "  a_society.2   0.045578240  0.2134544942 0.00337501189 0.0050349721 1000.000000\n",
      "  a_society.3  -0.046589409  0.1934581789 0.00305884239 0.0037595881 1000.000000\n",
      "  a_society.4   0.325934006  0.1854826147 0.00293273764 0.0050843301 1000.000000\n",
      "  a_society.5   0.043913686  0.1749080853 0.00276553965 0.0041747359 1000.000000\n",
      "  a_society.6  -0.315170194  0.2040796966 0.00322678333 0.0041293518 1000.000000\n",
      "  a_society.7   0.147317523  0.1710636713 0.00270475413 0.0044383304 1000.000000\n",
      "  a_society.8  -0.172624172  0.1830774259 0.00289470827 0.0036477761 1000.000000\n",
      "  a_society.9   0.271949686  0.1781977439 0.00281755372 0.0046185355 1000.000000\n",
      " a_society.10  -0.099765456  0.2932498797 0.00463668772 0.0085400152 1000.000000\n",
      "           bp   0.261519128  0.0822459180 0.00130042215 0.0025594523 1000.000000\n",
      "sigma_society   0.309921570  0.1259651075 0.00199168323 0.0042857974  863.847838\n",
      "    log_lik.1  -2.765138118  0.7311955929 0.01156121744 0.0154726583 1000.000000\n",
      "    log_lik.2  -2.839810315  0.5224681141 0.00826094623 0.0104415887 1000.000000\n",
      "    log_lik.3  -2.873920270  0.5165349801 0.00816713514 0.0120668103 1000.000000\n",
      "    log_lik.4  -3.550033277  0.9226109298 0.01458775966 0.0181865351 1000.000000\n",
      "    log_lik.5  -3.039178947  0.5414577532 0.00856119878 0.0145417832 1000.000000\n",
      "    log_lik.6  -3.166099325  0.9057837129 0.01432169800 0.0203535532 1000.000000\n",
      "    log_lik.7  -3.224920945  0.6166743167 0.00975047708 0.0103332266 1000.000000\n",
      "    log_lik.8  -3.041017273  0.6028908491 0.00953254132 0.0113266096 1000.000000\n",
      "    log_lik.9  -3.592792435  0.8705009633 0.01376382875 0.0186697605 1000.000000\n",
      "   log_lik.10  -3.531053078  0.6650667520 0.01051562866 0.0131947324 1000.000000\n",
      "\n",
      "Quantiles:\n",
      "                   2.5%         25.0%         50.0%        75.0%         97.5%    \n",
      "         lp__ -46.151715000 -41.466200000 -39.28535000 -37.355400000 -34.238870000\n",
      "accept_stat__   0.649414275   0.895017750   0.96872350   0.994955000   0.999955000\n",
      "   stepsize__   0.053555600   0.055958150   0.05700335   0.057611125   0.058701400\n",
      "  treedepth__   5.000000000   5.000000000   6.00000000   6.000000000   6.000000000\n",
      " n_leapfrog__  31.000000000  63.000000000  63.00000000  63.000000000 127.000000000\n",
      "  divergent__   0.000000000   0.000000000   0.00000000   0.000000000   0.000000000\n",
      "     energy__  39.090510000  43.136725000  45.78955000  48.588075000  54.814770000\n",
      "        alpha  -0.465333025   0.649230750   1.10817000   1.550930000   2.586964250\n",
      "  a_society.1  -0.757077100  -0.347837250  -0.18650200  -0.043357300   0.241413350\n",
      "  a_society.2  -0.367714475  -0.088285475   0.04065310   0.172304500   0.482503250\n",
      "  a_society.3  -0.423542150  -0.173455750  -0.04321790   0.079068375   0.332804700\n",
      "  a_society.4  -0.015247160   0.198233500   0.31528050   0.442421750   0.718159775\n",
      "  a_society.5  -0.315740425  -0.066411025   0.04132710   0.155990250   0.384580625\n",
      "  a_society.6  -0.747508250  -0.439277000  -0.30266200  -0.175868000   0.053915415\n",
      "  a_society.7  -0.169666650   0.033944825   0.14205550   0.256521000   0.504357975\n",
      "  a_society.8  -0.551530350  -0.285920250  -0.16662600  -0.052475225   0.165928875\n",
      "  a_society.9  -0.057731975   0.151320750   0.26556000   0.386227250   0.640923900\n",
      " a_society.10  -0.717606025  -0.270531250  -0.09308645   0.072137075   0.495206900\n",
      "           bp   0.098020020   0.211934500   0.26054750   0.309718500   0.433539350\n",
      "sigma_society   0.120631500   0.222519750   0.29099900   0.374554000   0.608374175\n",
      "    log_lik.1  -4.683186500  -2.982865000  -2.48978000  -2.268637500  -2.208439500\n",
      "    log_lik.2  -4.312005250  -2.966102500  -2.64415000  -2.504285000  -2.468659750\n",
      "    log_lik.3  -4.287949000  -2.999632500  -2.67380000  -2.546542500  -2.511830000\n",
      "    log_lik.4  -6.132020500  -3.851665000  -3.20608500  -2.899527500  -2.802299250\n",
      "    log_lik.5  -4.505371500  -3.149970000  -2.82801000  -2.704692500  -2.670109750\n",
      "    log_lik.6  -5.736909750  -3.510125000  -2.84218000  -2.508882500  -2.396479500\n",
      "    log_lik.7  -4.943004750  -3.396125000  -2.99245500  -2.818187500  -2.765860000\n",
      "    log_lik.8  -4.730163000  -3.212765000  -2.80270000  -2.636225000  -2.588429500\n",
      "    log_lik.9  -6.004545750  -3.855647500  -3.26257000  -2.999342500  -2.924749750\n",
      "   log_lik.10  -5.486159000  -3.700457500  -3.27073500  -3.097955000  -3.051919500\n",
      "\n"
     ]
    }
   ],
   "cell_type": "code",
   "source": [
    "describe(chn)"
   ],
   "metadata": {},
   "execution_count": 6
  },
  {
   "outputs": [],
   "cell_type": "markdown",
   "source": [
    "*This notebook was generated using [Literate.jl](https://github.com/fredrikekre/Literate.jl).*"
   ],
   "metadata": {}
  }
 ],
 "nbformat_minor": 3,
 "metadata": {
  "language_info": {
   "file_extension": ".jl",
   "mimetype": "application/julia",
   "name": "julia",
   "version": "1.2.0-DEV.216"
  },
  "kernelspec": {
   "name": "julia-1.2",
   "display_name": "Julia 1.2.0-DEV.216",
   "language": "julia"
  }
 },
 "nbformat": 4
}
