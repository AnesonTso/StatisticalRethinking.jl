{
 "cells": [
  {
   "outputs": [
    {
     "output_type": "execute_result",
     "data": {
      "text/plain": "(10, 5)"
     },
     "metadata": {},
     "execution_count": 1
    }
   ],
   "cell_type": "code",
   "source": [
    "using StatisticalRethinking\n",
    "using CmdStan, StanMCMCChain\n",
    "\n",
    "ProjDir = rel_path(\"..\", \"scripts\", \"12\")\n",
    "\n",
    "d = CSV.read(rel_path( \"..\", \"data\",  \"Kline.csv\"), delim=';');\n",
    "size(d) # Should be 10x5"
   ],
   "metadata": {},
   "execution_count": 1
  },
  {
   "outputs": [],
   "cell_type": "markdown",
   "source": [
    "New col log_pop, set log() for population data"
   ],
   "metadata": {}
  },
  {
   "outputs": [],
   "cell_type": "code",
   "source": [
    "d[:log_pop] = map((x) -> log(x), d[:population]);\n",
    "d[:society] = 1:10;\n",
    "\n",
    "first(d, 5)\n",
    "\n",
    "m12_6 = \"\n",
    "  data {\n",
    "    int N;\n",
    "    int T[N];\n",
    "    int N_societies;\n",
    "    int society[N];\n",
    "    int P[N];\n",
    "  }\n",
    "  parameters {\n",
    "    real alpha;\n",
    "    vector[N_societies] a_society;\n",
    "    real bp;\n",
    "    real<lower=0> sigma_society;\n",
    "  }\n",
    "  model {\n",
    "    vector[N] mu;\n",
    "    target += normal_lpdf(alpha | 0, 10);\n",
    "    target += normal_lpdf(bp | 0, 1);\n",
    "    target += cauchy_lpdf(sigma_society | 0, 1);\n",
    "    target += normal_lpdf(a_society | 0, sigma_society);\n",
    "    for(i in 1:N) mu[i] = alpha + a_society[society[i]] + bp * log(P[i]);\n",
    "    target += poisson_log_lpmf(T | mu);\n",
    "  }\n",
    "  generated quantities {\n",
    "    vector[N] log_lik;\n",
    "    {\n",
    "    vector[N] mu;\n",
    "    for(i in 1:N) {\n",
    "      mu[i] = alpha + a_society[society[i]] + bp * log(P[i]);\n",
    "      log_lik[i] = poisson_log_lpmf(T[i] | mu[i]);\n",
    "    }\n",
    "    }\n",
    "  }\n",
    "\";"
   ],
   "metadata": {},
   "execution_count": 2
  },
  {
   "outputs": [],
   "cell_type": "markdown",
   "source": [
    "Define the Stanmodel and set the output format to :mcmcchain."
   ],
   "metadata": {}
  },
  {
   "outputs": [],
   "cell_type": "code",
   "source": [
    "stanmodel = Stanmodel(name=\"m12.6\",  model=m12_6, output_format=:mcmcchain);"
   ],
   "metadata": {},
   "execution_count": 3
  },
  {
   "outputs": [],
   "cell_type": "markdown",
   "source": [
    "Input data for cmdstan"
   ],
   "metadata": {}
  },
  {
   "outputs": [],
   "cell_type": "code",
   "source": [
    "m12_6_data = Dict(\"N\" => size(d, 1), \"T\" => d[:total_tools], \"N_societies\" => 10, \"society\" => d[:society], \"P\" => d[:population]);"
   ],
   "metadata": {},
   "execution_count": 4
  },
  {
   "outputs": [],
   "cell_type": "markdown",
   "source": [
    "Sample using cmdstan"
   ],
   "metadata": {}
  },
  {
   "outputs": [
    {
     "name": "stdout",
     "output_type": "stream",
     "text": [
      "Informational Message: The current Metropolis proposal is about to be rejected because of the following issue:\n",
      "Exception: normal_lpdf: Scale parameter is 0, but must be > 0!  (in '/Users/rob/.julia/dev/StatisticalRethinking/notebooks/12/tmp/m12.6.stan' at line 19)\n",
      "\n",
      "If this warning occurs sporadically, such as for highly constrained variable types like covariance matrices, then the sampler is fine,\n",
      "but if this warning occurs often then your model may be either severely ill-conditioned or misspecified.\n",
      "\n",
      "Informational Message: The current Metropolis proposal is about to be rejected because of the following issue:\n",
      "Exception: normal_lpdf: Scale parameter is 0, but must be > 0!  (in '/Users/rob/.julia/dev/StatisticalRethinking/notebooks/12/tmp/m12.6.stan' at line 19)\n",
      "\n",
      "If this warning occurs sporadically, such as for highly constrained variable types like covariance matrices, then the sampler is fine,\n",
      "but if this warning occurs often then your model may be either severely ill-conditioned or misspecified.\n",
      "\n"
     ]
    }
   ],
   "cell_type": "code",
   "source": [
    "rc, chn, cnames = stan(stanmodel, m12_6_data, ProjDir, diagnostics=false, summary=false, CmdStanDir=CMDSTAN_HOME);"
   ],
   "metadata": {},
   "execution_count": 5
  },
  {
   "outputs": [],
   "cell_type": "markdown",
   "source": [
    "Describe the draws"
   ],
   "metadata": {}
  },
  {
   "outputs": [
    {
     "name": "stdout",
     "output_type": "stream",
     "text": [
      "Iterations = 1:1000\n",
      "Thinning interval = 1\n",
      "Chains = 1,2,3,4\n",
      "Samples per chain = 1000\n",
      "\n",
      "Empirical Posterior Estimates:\n",
      "                   Mean          SD         Naive SE        MCSE         ESS    \n",
      "         lp__ -39.647902700  3.179619920 0.050274205197 0.1154070641  759.076650\n",
      "accept_stat__   0.952078705  0.070444678 0.001113828160 0.0012744841 1000.000000\n",
      "   stepsize__   0.049327750  0.006258729 0.000098959190 0.0010020734   39.009752\n",
      "  treedepth__   5.946250000  0.451566070 0.007139886475 0.0196301949  529.167766\n",
      " n_leapfrog__  77.305000000 37.483786276 0.592670699790 1.4694898382  650.659435\n",
      "  divergent__   0.000000000  0.000000000 0.000000000000 0.0000000000         NaN\n",
      "     energy__  46.137718400  4.052402939 0.064074116419 0.1441713387  790.073292\n",
      "        alpha   1.078944356  0.764264206 0.012084078133 0.0193089780 1000.000000\n",
      "  a_society.1  -0.205355917  0.244176403 0.003860767927 0.0053140317 1000.000000\n",
      "  a_society.2   0.049431764  0.220264420 0.003482686267 0.0049099762 1000.000000\n",
      "  a_society.3  -0.039492551  0.191761275 0.003032011978 0.0039891004 1000.000000\n",
      "  a_society.4   0.334505681  0.195310716 0.003088133563 0.0052541545 1000.000000\n",
      "  a_society.5   0.046740440  0.183044764 0.002894191847 0.0035913897 1000.000000\n",
      "  a_society.6  -0.315951211  0.209524067 0.003312866386 0.0048798487 1000.000000\n",
      "  a_society.7   0.149807525  0.174741416 0.002762904387 0.0038153042 1000.000000\n",
      "  a_society.8  -0.167325652  0.186635330 0.002950963677 0.0040145608 1000.000000\n",
      "  a_society.9   0.280181258  0.180290566 0.002850644140 0.0047696367 1000.000000\n",
      " a_society.10  -0.095136324  0.308153590 0.004872336074 0.0073490734 1000.000000\n",
      "           bp   0.263014598  0.083167323 0.001314990839 0.0020940572 1000.000000\n",
      "sigma_society   0.315506310  0.131818095 0.002084227085 0.0048351142  743.252875\n",
      "    log_lik.1  -2.740322560  0.664350306 0.010504300652 0.0122335667 1000.000000\n",
      "    log_lik.2  -2.848343012  0.545189199 0.008620198120 0.0122267064 1000.000000\n",
      "    log_lik.3  -2.859370425  0.520463252 0.008229246579 0.0119511894 1000.000000\n",
      "    log_lik.4  -3.570668850  0.942480723 0.014901928678 0.0240080536 1000.000000\n",
      "    log_lik.5  -3.057345387  0.550684417 0.008707085152 0.0129245331 1000.000000\n",
      "    log_lik.6  -3.177983160  0.944395974 0.014932211453 0.0232188720 1000.000000\n",
      "    log_lik.7  -3.214419220  0.614436689 0.009715097073 0.0145989398 1000.000000\n",
      "    log_lik.8  -3.048715782  0.597408547 0.009445858509 0.0102937453 1000.000000\n",
      "    log_lik.9  -3.523383877  0.793635213 0.012548474521 0.0189247724 1000.000000\n",
      "   log_lik.10  -3.545765185  0.695287925 0.010993467357 0.0134760392 1000.000000\n",
      "\n",
      "Quantiles:\n",
      "                   2.5%         25.0%         50.0%        75.0%         97.5%   \n",
      "         lp__ -46.768675000 -41.501125000 -39.31020000 -37.383325000 -34.45612500\n",
      "accept_stat__   0.747009450   0.935251500   0.98202050   0.997537250   0.99998200\n",
      "   stepsize__   0.040484100   0.044997675   0.05028815   0.054618225   0.05625060\n",
      "  treedepth__   5.000000000   6.000000000   6.00000000   6.000000000   7.00000000\n",
      " n_leapfrog__  31.000000000  63.000000000  63.00000000  63.000000000 191.00000000\n",
      "  divergent__   0.000000000   0.000000000   0.00000000   0.000000000   0.00000000\n",
      "     energy__  39.302692500  43.288225000  45.78445000  48.546275000  55.25642250\n",
      "        alpha  -0.519489975   0.634368000   1.09180500   1.539082500   2.58282725\n",
      "  a_society.1  -0.737350300  -0.348487250  -0.18962850  -0.045601225   0.23897748\n",
      "  a_society.2  -0.380890425  -0.089725500   0.04787965   0.182361250   0.50381220\n",
      "  a_society.3  -0.444558175  -0.155641000  -0.03750190   0.080360925   0.34491658\n",
      "  a_society.4  -0.021404190   0.196996000   0.32595200   0.464913500   0.73355315\n",
      "  a_society.5  -0.308416525  -0.070579650   0.04442175   0.162434500   0.41478328\n",
      "  a_society.6  -0.767907125  -0.445751250  -0.29767400  -0.171261500   0.04455912\n",
      "  a_society.7  -0.180741925   0.033193100   0.14201950   0.259349250   0.50188965\n",
      "  a_society.8  -0.547190925  -0.287875500  -0.15628200  -0.045366950   0.18704435\n",
      "  a_society.9  -0.040809332   0.155995000   0.26797500   0.390733000   0.67135163\n",
      " a_society.10  -0.720993900  -0.268367250  -0.09430065   0.069878925   0.54707720\n",
      "           bp   0.097078468   0.214174500   0.26145700   0.309762750   0.43671223\n",
      "sigma_society   0.123435150   0.221569500   0.29614200   0.384686500   0.62770575\n",
      "    log_lik.1  -4.496127250  -2.940797500  -2.48993000  -2.278162500  -2.20848975\n",
      "    log_lik.2  -4.422148750  -2.965595000  -2.64138500  -2.504885000  -2.46872975\n",
      "    log_lik.3  -4.299244500  -2.954815000  -2.65851000  -2.543012500  -2.51171975\n",
      "    log_lik.4  -6.072078500  -3.924657500  -3.20062000  -2.899642500  -2.80230000\n",
      "    log_lik.5  -4.679603500  -3.182867500  -2.84699500  -2.709310000  -2.67013975\n",
      "    log_lik.6  -5.771926250  -3.536790000  -2.81999500  -2.497090000  -2.39655950\n",
      "    log_lik.7  -4.944630250  -3.382932500  -2.97577000  -2.812095000  -2.76595975\n",
      "    log_lik.8  -4.716881000  -3.222397500  -2.81129500  -2.639245000  -2.58858975\n",
      "    log_lik.9  -5.726431000  -3.743857500  -3.20460500  -2.985042500  -2.92482950\n",
      "   log_lik.10  -5.600384500  -3.711297500  -3.27459500  -3.101955000  -3.05183975\n",
      "\n"
     ]
    }
   ],
   "cell_type": "code",
   "source": [
    "describe(chn)"
   ],
   "metadata": {},
   "execution_count": 6
  },
  {
   "outputs": [],
   "cell_type": "markdown",
   "source": [
    "*This notebook was generated using [Literate.jl](https://github.com/fredrikekre/Literate.jl).*"
   ],
   "metadata": {}
  }
 ],
 "nbformat_minor": 3,
 "metadata": {
  "language_info": {
   "file_extension": ".jl",
   "mimetype": "application/julia",
   "name": "julia",
   "version": "1.2.0-DEV.226"
  },
  "kernelspec": {
   "name": "julia-1.2",
   "display_name": "Julia 1.2.0-DEV.226",
   "language": "julia"
  }
 },
 "nbformat": 4
}
