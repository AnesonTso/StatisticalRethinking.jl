{
 "cells": [
  {
   "outputs": [
    {
     "output_type": "execute_result",
     "data": {
      "text/plain": "(10, 5)"
     },
     "metadata": {},
     "execution_count": 1
    }
   ],
   "cell_type": "code",
   "source": [
    "using StatisticalRethinking\n",
    "using CmdStan, StanMCMCChain\n",
    "\n",
    "ProjDir = rel_path(\"..\", \"scripts\", \"12\")\n",
    "\n",
    "d = CSV.read(rel_path( \"..\", \"data\",  \"Kline.csv\"), delim=';');\n",
    "size(d) # Should be 10x5"
   ],
   "metadata": {},
   "execution_count": 1
  },
  {
   "outputs": [],
   "cell_type": "markdown",
   "source": [
    "New col log_pop, set log() for population data"
   ],
   "metadata": {}
  },
  {
   "outputs": [],
   "cell_type": "code",
   "source": [
    "d[:log_pop] = map((x) -> log(x), d[:population]);\n",
    "d[:society] = 1:10;\n",
    "\n",
    "first(d, 5)\n",
    "\n",
    "m12_6 = \"\n",
    "  data {\n",
    "    int N;\n",
    "    int T[N];\n",
    "    int N_societies;\n",
    "    int society[N];\n",
    "    int P[N];\n",
    "  }\n",
    "  parameters {\n",
    "    real alpha;\n",
    "    vector[N_societies] a_society;\n",
    "    real bp;\n",
    "    real<lower=0> sigma_society;\n",
    "  }\n",
    "  model {\n",
    "    vector[N] mu;\n",
    "    target += normal_lpdf(alpha | 0, 10);\n",
    "    target += normal_lpdf(bp | 0, 1);\n",
    "    target += cauchy_lpdf(sigma_society | 0, 1);\n",
    "    target += normal_lpdf(a_society | 0, sigma_society);\n",
    "    for(i in 1:N) mu[i] = alpha + a_society[society[i]] + bp * log(P[i]);\n",
    "    target += poisson_log_lpmf(T | mu);\n",
    "  }\n",
    "  generated quantities {\n",
    "    vector[N] log_lik;\n",
    "    {\n",
    "    vector[N] mu;\n",
    "    for(i in 1:N) {\n",
    "      mu[i] = alpha + a_society[society[i]] + bp * log(P[i]);\n",
    "      log_lik[i] = poisson_log_lpmf(T[i] | mu[i]);\n",
    "    }\n",
    "    }\n",
    "  }\n",
    "\";"
   ],
   "metadata": {},
   "execution_count": 2
  },
  {
   "outputs": [],
   "cell_type": "markdown",
   "source": [
    "Define the Stanmodel and set the output format to :mcmcchain."
   ],
   "metadata": {}
  },
  {
   "outputs": [],
   "cell_type": "code",
   "source": [
    "stanmodel = Stanmodel(name=\"m12.6\",  model=m12_6, output_format=:mcmcchain);"
   ],
   "metadata": {},
   "execution_count": 3
  },
  {
   "outputs": [],
   "cell_type": "markdown",
   "source": [
    "Input data for cmdstan"
   ],
   "metadata": {}
  },
  {
   "outputs": [],
   "cell_type": "code",
   "source": [
    "m12_6_data = Dict(\"N\" => size(d, 1), \"T\" => d[:total_tools], \"N_societies\" => 10, \"society\" => d[:society], \"P\" => d[:population]);"
   ],
   "metadata": {},
   "execution_count": 4
  },
  {
   "outputs": [],
   "cell_type": "markdown",
   "source": [
    "Sample using cmdstan"
   ],
   "metadata": {}
  },
  {
   "outputs": [],
   "cell_type": "code",
   "source": [
    "rc, chn, cnames = stan(stanmodel, m12_6_data, ProjDir, diagnostics=false, summary=false, CmdStanDir=CMDSTAN_HOME);"
   ],
   "metadata": {},
   "execution_count": 5
  },
  {
   "outputs": [],
   "cell_type": "markdown",
   "source": [
    "Describe the draws"
   ],
   "metadata": {}
  },
  {
   "outputs": [
    {
     "name": "stdout",
     "output_type": "stream",
     "text": [
      "Iterations = 1:1000\n",
      "Thinning interval = 1\n",
      "Chains = 1,2,3,4\n",
      "Samples per chain = 1000\n",
      "\n",
      "Empirical Posterior Estimates:\n",
      "                   Mean           SD         Naive SE        MCSE         ESS    \n",
      "         lp__ -39.317221750  3.0109981791 0.047608061384 0.0884960448 1000.000000\n",
      "accept_stat__   0.948033762  0.0752345755 0.001189563086 0.0016050444 1000.000000\n",
      "   stepsize__   0.048517150  0.0051318977 0.000081142428 0.0008216586   39.009752\n",
      "  treedepth__   5.943750000  0.4523683198 0.007152571160 0.0183334062  608.832805\n",
      " n_leapfrog__  77.164000000 36.4131924465 0.575743125045 1.3282321391  751.570186\n",
      "  divergent__   0.000000000  0.0000000000 0.000000000000 0.0000000000         NaN\n",
      "     energy__  45.803708800  3.9372457248 0.062253320991 0.1101808790 1000.000000\n",
      "        alpha   1.119863985  0.6918879371 0.010939708834 0.0189536333 1000.000000\n",
      "  a_society.1  -0.203146213  0.2336603480 0.003694494492 0.0044914508 1000.000000\n",
      "  a_society.2   0.036164170  0.2071934368 0.003276015882 0.0045461791 1000.000000\n",
      "  a_society.3  -0.049358732  0.1860614110 0.002941889218 0.0033044976 1000.000000\n",
      "  a_society.4   0.316742425  0.1821313384 0.002879749313 0.0047378138 1000.000000\n",
      "  a_society.5   0.038298273  0.1670995022 0.002642075114 0.0028934080 1000.000000\n",
      "  a_society.6  -0.314370844  0.2043541381 0.003231122629 0.0041490975 1000.000000\n",
      "  a_society.7   0.136865816  0.1678023630 0.002653188319 0.0037114047 1000.000000\n",
      "  a_society.8  -0.173499085  0.1776726780 0.002809251702 0.0032230319 1000.000000\n",
      "  a_society.9   0.267695139  0.1657085635 0.002620082442 0.0046103544 1000.000000\n",
      " a_society.10  -0.093154095  0.2749064215 0.004346652176 0.0080118873 1000.000000\n",
      "           bp   0.259467378  0.0755287106 0.001194213772 0.0021295876 1000.000000\n",
      "sigma_society   0.302165407  0.1234273667 0.001951558022 0.0033492400 1000.000000\n",
      "    log_lik.1  -2.785249773  0.7097710447 0.011222465592 0.0129933681 1000.000000\n",
      "    log_lik.2  -2.839156993  0.5308309507 0.008393174284 0.0150655860 1000.000000\n",
      "    log_lik.3  -2.861528143  0.4907046486 0.007758721740 0.0124488115 1000.000000\n",
      "    log_lik.4  -3.565228123  0.9432233209 0.014913670180 0.0196999945 1000.000000\n",
      "    log_lik.5  -3.022366492  0.5078735266 0.008030185537 0.0099013909 1000.000000\n",
      "    log_lik.6  -3.208491608  0.9379100110 0.014829659374 0.0224924041 1000.000000\n",
      "    log_lik.7  -3.217773560  0.6288621748 0.009943184034 0.0113302506 1000.000000\n",
      "    log_lik.8  -3.040150223  0.5951648627 0.009410382746 0.0118468339 1000.000000\n",
      "    log_lik.9  -3.546252605  0.8042360886 0.012716089082 0.0163894375 1000.000000\n",
      "   log_lik.10  -3.535430530  0.6952283702 0.010992525719 0.0136064809 1000.000000\n",
      "\n",
      "Quantiles:\n",
      "                   2.5%         25.0%         50.0%        75.0%         97.5%    \n",
      "         lp__ -46.000057500 -41.167775000 -39.01520000 -37.163650000 -34.178575000\n",
      "accept_stat__   0.726718800   0.930862750   0.97971650   0.996769750   0.999969000\n",
      "   stepsize__   0.041955400   0.044668525   0.04839610   0.052244725   0.055321000\n",
      "  treedepth__   5.000000000   6.000000000   6.00000000   6.000000000   7.000000000\n",
      " n_leapfrog__  31.000000000  63.000000000  63.00000000  63.000000000 127.000000000\n",
      "  divergent__   0.000000000   0.000000000   0.00000000   0.000000000   0.000000000\n",
      "     energy__  39.109667500  42.992850000  45.55995000  48.378950000  54.223957500\n",
      "        alpha  -0.286400375   0.696688250   1.13682500   1.548092500   2.467116750\n",
      "  a_society.1  -0.715045475  -0.343284500  -0.18945850  -0.048573325   0.215410975\n",
      "  a_society.2  -0.368992375  -0.096466800   0.03014985   0.161871750   0.476404575\n",
      "  a_society.3  -0.432728050  -0.166346000  -0.04698765   0.072094150   0.313076200\n",
      "  a_society.4  -0.012773010   0.192291500   0.30803100   0.429697000   0.705501450\n",
      "  a_society.5  -0.290597200  -0.070545050   0.03931050   0.145565000   0.368695225\n",
      "  a_society.6  -0.765331500  -0.444698000  -0.29733750  -0.169260250   0.041977583\n",
      "  a_society.7  -0.181687850   0.023321550   0.13200200   0.244585000   0.473338900\n",
      "  a_society.8  -0.547537300  -0.280693750  -0.16228850  -0.056907850   0.148997350\n",
      "  a_society.9  -0.039752103   0.153330750   0.26021800   0.370713000   0.608943225\n",
      " a_society.10  -0.676769975  -0.247361000  -0.08562140   0.067575750   0.460160825\n",
      "           bp   0.108292300   0.213228500   0.25780400   0.305207750   0.414956500\n",
      "sigma_society   0.114832325   0.215890000   0.28429500   0.367798500   0.587167450\n",
      "    log_lik.1  -4.775102750  -3.018220000  -2.51607500  -2.275657500  -2.208519750\n",
      "    log_lik.2  -4.324270500  -2.958297500  -2.63513500  -2.505672500  -2.468609500\n",
      "    log_lik.3  -4.193203750  -2.975610000  -2.66639500  -2.545237500  -2.511780000\n",
      "    log_lik.4  -6.294842250  -3.889957500  -3.20812000  -2.899742500  -2.802100000\n",
      "    log_lik.5  -4.442067250  -3.133600000  -2.82629500  -2.705112500  -2.670110000\n",
      "    log_lik.6  -5.767508250  -3.589235000  -2.86106000  -2.505220000  -2.396729250\n",
      "    log_lik.7  -4.945697250  -3.362047500  -2.97264000  -2.811110000  -2.766060000\n",
      "    log_lik.8  -4.697166500  -3.219640000  -2.81162000  -2.638455000  -2.588339750\n",
      "    log_lik.9  -5.785869750  -3.793872500  -3.23489500  -2.997560000  -2.924839500\n",
      "   log_lik.10  -5.525213250  -3.695340000  -3.26201500  -3.100317500  -3.051869750\n",
      "\n"
     ]
    }
   ],
   "cell_type": "code",
   "source": [
    "describe(chn)"
   ],
   "metadata": {},
   "execution_count": 6
  },
  {
   "outputs": [],
   "cell_type": "markdown",
   "source": [
    "*This notebook was generated using [Literate.jl](https://github.com/fredrikekre/Literate.jl).*"
   ],
   "metadata": {}
  }
 ],
 "nbformat_minor": 3,
 "metadata": {
  "language_info": {
   "file_extension": ".jl",
   "mimetype": "application/julia",
   "name": "julia",
   "version": "1.2.0-DEV.166"
  },
  "kernelspec": {
   "name": "julia-1.2",
   "display_name": "Julia 1.2.0-DEV.166",
   "language": "julia"
  }
 },
 "nbformat": 4
}
