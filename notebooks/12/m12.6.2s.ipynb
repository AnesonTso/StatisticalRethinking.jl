{
 "cells": [
  {
   "outputs": [
    {
     "output_type": "execute_result",
     "data": {
      "text/plain": "(10, 5)"
     },
     "metadata": {},
     "execution_count": 1
    }
   ],
   "cell_type": "code",
   "source": [
    "using StatisticalRethinking\n",
    "using CmdStan, StanMCMCChain\n",
    "\n",
    "ProjDir = rel_path(\"..\", \"scripts\", \"12\")\n",
    "\n",
    "d = CSV.read(rel_path( \"..\", \"data\",  \"Kline.csv\"), delim=';');\n",
    "size(d) # Should be 10x5"
   ],
   "metadata": {},
   "execution_count": 1
  },
  {
   "outputs": [],
   "cell_type": "markdown",
   "source": [
    "New col log_pop, set log() for population data"
   ],
   "metadata": {}
  },
  {
   "outputs": [],
   "cell_type": "code",
   "source": [
    "d[:log_pop] = map((x) -> log(x), d[:population]);\n",
    "d[:society] = 1:10;\n",
    "\n",
    "first(d, 5)\n",
    "\n",
    "m12_6 = \"\n",
    "  data {\n",
    "    int N;\n",
    "    int T[N];\n",
    "    int N_societies;\n",
    "    int society[N];\n",
    "    int P[N];\n",
    "  }\n",
    "  parameters {\n",
    "    real alpha;\n",
    "    vector[N_societies] a_society;\n",
    "    real bp;\n",
    "    real<lower=0> sigma_society;\n",
    "  }\n",
    "  model {\n",
    "    vector[N] mu;\n",
    "    target += normal_lpdf(alpha | 0, 10);\n",
    "    target += normal_lpdf(bp | 0, 1);\n",
    "    target += cauchy_lpdf(sigma_society | 0, 1);\n",
    "    target += normal_lpdf(a_society | 0, sigma_society);\n",
    "    for(i in 1:N) mu[i] = alpha + a_society[society[i]] + bp * log(P[i]);\n",
    "    target += poisson_log_lpmf(T | mu);\n",
    "  }\n",
    "  generated quantities {\n",
    "    vector[N] log_lik;\n",
    "    {\n",
    "    vector[N] mu;\n",
    "    for(i in 1:N) {\n",
    "      mu[i] = alpha + a_society[society[i]] + bp * log(P[i]);\n",
    "      log_lik[i] = poisson_log_lpmf(T[i] | mu[i]);\n",
    "    }\n",
    "    }\n",
    "  }\n",
    "\";"
   ],
   "metadata": {},
   "execution_count": 2
  },
  {
   "outputs": [],
   "cell_type": "markdown",
   "source": [
    "Define the Stanmodel and set the output format to :mcmcchain."
   ],
   "metadata": {}
  },
  {
   "outputs": [
    {
     "name": "stdout",
     "output_type": "stream",
     "text": [
      "\n",
      "File /Users/rob/.julia/dev/StatisticalRethinking/notebooks/12/tmp/m12.6.stan will be updated.\n",
      "\n"
     ]
    }
   ],
   "cell_type": "code",
   "source": [
    "stanmodel = Stanmodel(name=\"m12.6\",  model=m12_6, output_format=:mcmcchain);"
   ],
   "metadata": {},
   "execution_count": 3
  },
  {
   "outputs": [],
   "cell_type": "markdown",
   "source": [
    "Input data for cmdstan"
   ],
   "metadata": {}
  },
  {
   "outputs": [],
   "cell_type": "code",
   "source": [
    "m12_6_data = Dict(\"N\" => size(d, 1), \"T\" => d[:total_tools], \"N_societies\" => 10, \"society\" => d[:society], \"P\" => d[:population]);"
   ],
   "metadata": {},
   "execution_count": 4
  },
  {
   "outputs": [],
   "cell_type": "markdown",
   "source": [
    "Sample using cmdstan"
   ],
   "metadata": {}
  },
  {
   "outputs": [
    {
     "name": "stdout",
     "output_type": "stream",
     "text": [
      "Informational Message: The current Metropolis proposal is about to be rejected because of the following issue:\n",
      "Exception: normal_lpdf: Scale parameter is 0, but must be > 0!  (in '/Users/rob/.julia/dev/StatisticalRethinking/notebooks/12/tmp/m12.6.stan' at line 19)\n",
      "\n",
      "If this warning occurs sporadically, such as for highly constrained variable types like covariance matrices, then the sampler is fine,\n",
      "but if this warning occurs often then your model may be either severely ill-conditioned or misspecified.\n",
      "\n"
     ]
    }
   ],
   "cell_type": "code",
   "source": [
    "rc, chn, cnames = stan(stanmodel, m12_6_data, ProjDir, diagnostics=false, summary=false, CmdStanDir=CMDSTAN_HOME);"
   ],
   "metadata": {},
   "execution_count": 5
  },
  {
   "outputs": [],
   "cell_type": "markdown",
   "source": [
    "Describe the draws"
   ],
   "metadata": {}
  },
  {
   "outputs": [
    {
     "name": "stdout",
     "output_type": "stream",
     "text": [
      "Iterations = 1:1000\n",
      "Thinning interval = 1\n",
      "Chains = 1,2,3,4\n",
      "Samples per chain = 1000\n",
      "\n",
      "Empirical Posterior Estimates:\n",
      "                   Mean           SD         Naive SE        MCSE         ESS    \n",
      "         lp__ -39.240903800  3.8779156097 0.061315229503 0.3335415827  135.175112\n",
      "accept_stat__   0.936998380  0.1021632469 0.001615342767 0.0059526983  294.551763\n",
      "   stepsize__   0.052680850  0.0042965123 0.000067933824 0.0006879066   39.009752\n",
      "  treedepth__   5.809750000  0.5492088356 0.008683754158 0.0422818496  168.720198\n",
      " n_leapfrog__  69.266500000 31.5581519895 0.498978195162 1.4489128351  474.393367\n",
      "  divergent__   0.000000000  0.0000000000 0.000000000000 0.0000000000         NaN\n",
      "     energy__  45.730022600  4.5721042604 0.072291315814 0.3333296799  188.141360\n",
      "        alpha   1.153559702  0.7082778814 0.011198856607 0.0238940445  878.674502\n",
      "  a_society.1  -0.209504721  0.2422121942 0.003829711054 0.0074788130 1000.000000\n",
      "  a_society.2   0.034049864  0.2130972863 0.003369363940 0.0055840439 1000.000000\n",
      "  a_society.3  -0.052383428  0.1967396490 0.003110726985 0.0048112430 1000.000000\n",
      "  a_society.4   0.318764567  0.1883897764 0.002978703907 0.0072011606  684.399480\n",
      "  a_society.5   0.041005434  0.1752123659 0.002770350752 0.0036371514 1000.000000\n",
      "  a_society.6  -0.313837096  0.2080202961 0.003289089675 0.0075115720  766.919440\n",
      "  a_society.7   0.148127926  0.1661793514 0.002627526253 0.0048646838 1000.000000\n",
      "  a_society.8  -0.166088122  0.1826692884 0.002888255050 0.0051024280 1000.000000\n",
      "  a_society.9   0.274109044  0.1750142467 0.002767218213 0.0068756418  647.918415\n",
      " a_society.10  -0.078258952  0.2725979463 0.004310151978 0.0092612257  866.379609\n",
      "           bp   0.255252848  0.0764944579 0.001209483577 0.0026194473  852.787096\n",
      "sigma_society   0.304044361  0.1257032021 0.001987542139 0.0066529561  356.996017\n",
      "    log_lik.1  -2.771346965  0.6971425978 0.011022792315 0.0235865586  873.602927\n",
      "    log_lik.2  -2.834710485  0.5191953452 0.008209199206 0.0113566894 1000.000000\n",
      "    log_lik.3  -2.883017877  0.5503576276 0.008701918154 0.0131142713 1000.000000\n",
      "    log_lik.4  -3.595025045  0.9879436003 0.015620759883 0.0437838421  509.139235\n",
      "    log_lik.5  -3.036250290  0.5356938217 0.008470063025 0.0112345194 1000.000000\n",
      "    log_lik.6  -3.207966083  0.9798407042 0.015492641847 0.0498045604  387.055044\n",
      "    log_lik.7  -3.207857807  0.6138478162 0.009705786179 0.0119768061 1000.000000\n",
      "    log_lik.8  -3.071744442  0.6640044822 0.010498832702 0.0160136392 1000.000000\n",
      "    log_lik.9  -3.586842825  0.8690054659 0.013740182856 0.0406420781  457.186297\n",
      "   log_lik.10  -3.543285872  0.6869058065 0.010860934433 0.0136483905 1000.000000\n",
      "\n",
      "Quantiles:\n",
      "                   2.5%         25.0%         50.0%        75.0%         97.5%    \n",
      "         lp__ -46.324162500 -41.331200000 -39.15370000 -37.293675000 -33.533425000\n",
      "accept_stat__   0.673726100   0.916434000   0.97539900   0.995963500   0.999959000\n",
      "   stepsize__   0.045382500   0.051750075   0.05455585   0.055486625   0.056229200\n",
      "  treedepth__   5.000000000   6.000000000   6.00000000   6.000000000   7.000000000\n",
      " n_leapfrog__  31.000000000  63.000000000  63.00000000  63.000000000 127.000000000\n",
      "  divergent__   0.000000000   0.000000000   0.00000000   0.000000000   0.000000000\n",
      "     energy__  37.742072500  43.110725000  45.59045000  48.554950000  54.386625000\n",
      "        alpha  -0.268836325   0.710534000   1.17076000   1.592172500   2.553845500\n",
      "  a_society.1  -0.739463750  -0.351890500  -0.18557950  -0.043519775   0.209320400\n",
      "  a_society.2  -0.393502150  -0.102040750   0.03242380   0.165069750   0.472391850\n",
      "  a_society.3  -0.457671100  -0.176438500  -0.04632220   0.069246550   0.345853550\n",
      "  a_society.4  -0.022833540   0.187639250   0.31556300   0.439787750   0.700149200\n",
      "  a_society.5  -0.310531100  -0.069888050   0.04124805   0.157469250   0.384172550\n",
      "  a_society.6  -0.763555075  -0.445241750  -0.29969500  -0.164626000   0.041549743\n",
      "  a_society.7  -0.159676425   0.033628000   0.14197750   0.256050250   0.489312900\n",
      "  a_society.8  -0.547776825  -0.282624750  -0.15589900  -0.038683025   0.166866275\n",
      "  a_society.9  -0.034698617   0.154960000   0.26834500   0.384286250   0.624070550\n",
      " a_society.10  -0.635848025  -0.240607250  -0.06721790   0.080653925   0.478186625\n",
      "           bp   0.101846875   0.207107000   0.25405700   0.300707000   0.408901675\n",
      "sigma_society   0.092593000   0.222447750   0.28957700   0.369798500   0.598712100\n",
      "    log_lik.1  -4.684818250  -3.009605000  -2.50532000  -2.279840000  -2.208559750\n",
      "    log_lik.2  -4.373306500  -2.957227500  -2.63115000  -2.503957500  -2.468650000\n",
      "    log_lik.3  -4.484486750  -2.993170000  -2.67591500  -2.548285000  -2.511950000\n",
      "    log_lik.4  -6.327438500  -3.939412500  -3.21025000  -2.895782500  -2.802439750\n",
      "    log_lik.5  -4.563920250  -3.144687500  -2.82718000  -2.706302500  -2.670109750\n",
      "    log_lik.6  -5.944408500  -3.565260000  -2.85331500  -2.508060000  -2.396820000\n",
      "    log_lik.7  -4.956709000  -3.347550000  -2.96864000  -2.813282500  -2.766169750\n",
      "    log_lik.8  -4.965679250  -3.246272500  -2.81932000  -2.641077500  -2.588429750\n",
      "    log_lik.9  -6.097553250  -3.845167500  -3.25593500  -2.994875000  -2.924719750\n",
      "   log_lik.10  -5.486406250  -3.710007500  -3.28017000  -3.100942500  -3.051879750\n",
      "\n"
     ]
    }
   ],
   "cell_type": "code",
   "source": [
    "describe(chn)"
   ],
   "metadata": {},
   "execution_count": 6
  },
  {
   "outputs": [],
   "cell_type": "markdown",
   "source": [
    "*This notebook was generated using [Literate.jl](https://github.com/fredrikekre/Literate.jl).*"
   ],
   "metadata": {}
  }
 ],
 "nbformat_minor": 3,
 "metadata": {
  "language_info": {
   "file_extension": ".jl",
   "mimetype": "application/julia",
   "name": "julia",
   "version": "1.2.0-DEV.234"
  },
  "kernelspec": {
   "name": "julia-1.2",
   "display_name": "Julia 1.2.0-DEV.234",
   "language": "julia"
  }
 },
 "nbformat": 4
}
