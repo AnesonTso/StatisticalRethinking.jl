{
 "cells": [
  {
   "outputs": [
    {
     "output_type": "execute_result",
     "data": {
      "text/plain": "(10, 5)"
     },
     "metadata": {},
     "execution_count": 1
    }
   ],
   "cell_type": "code",
   "source": [
    "using StatisticalRethinking\n",
    "using CmdStan, StanMCMCChain\n",
    "\n",
    "ProjDir = rel_path(\"..\", \"scripts\", \"12\")\n",
    "\n",
    "d = CSV.read(rel_path( \"..\", \"data\",  \"Kline.csv\"), delim=';');\n",
    "size(d) # Should be 10x5"
   ],
   "metadata": {},
   "execution_count": 1
  },
  {
   "outputs": [],
   "cell_type": "markdown",
   "source": [
    "New col log_pop, set log() for population data"
   ],
   "metadata": {}
  },
  {
   "outputs": [],
   "cell_type": "code",
   "source": [
    "d[:log_pop] = map((x) -> log(x), d[:population]);\n",
    "d[:society] = 1:10;\n",
    "\n",
    "first(d, 5)\n",
    "\n",
    "m12_6 = \"\n",
    "  data {\n",
    "    int N;\n",
    "    int T[N];\n",
    "    int N_societies;\n",
    "    int society[N];\n",
    "    int P[N];\n",
    "  }\n",
    "  parameters {\n",
    "    real alpha;\n",
    "    vector[N_societies] a_society;\n",
    "    real bp;\n",
    "    real<lower=0> sigma_society;\n",
    "  }\n",
    "  model {\n",
    "    vector[N] mu;\n",
    "    target += normal_lpdf(alpha | 0, 10);\n",
    "    target += normal_lpdf(bp | 0, 1);\n",
    "    target += cauchy_lpdf(sigma_society | 0, 1);\n",
    "    target += normal_lpdf(a_society | 0, sigma_society);\n",
    "    for(i in 1:N) mu[i] = alpha + a_society[society[i]] + bp * log(P[i]);\n",
    "    target += poisson_log_lpmf(T | mu);\n",
    "  }\n",
    "  generated quantities {\n",
    "    vector[N] log_lik;\n",
    "    {\n",
    "    vector[N] mu;\n",
    "    for(i in 1:N) {\n",
    "      mu[i] = alpha + a_society[society[i]] + bp * log(P[i]);\n",
    "      log_lik[i] = poisson_log_lpmf(T[i] | mu[i]);\n",
    "    }\n",
    "    }\n",
    "  }\n",
    "\";"
   ],
   "metadata": {},
   "execution_count": 2
  },
  {
   "outputs": [],
   "cell_type": "markdown",
   "source": [
    "Define the Stanmodel and set the output format to :mcmcchain."
   ],
   "metadata": {}
  },
  {
   "outputs": [],
   "cell_type": "code",
   "source": [
    "stanmodel = Stanmodel(name=\"m12.6\",  model=m12_6, output_format=:mcmcchain);"
   ],
   "metadata": {},
   "execution_count": 3
  },
  {
   "outputs": [],
   "cell_type": "markdown",
   "source": [
    "Input data for cmdstan"
   ],
   "metadata": {}
  },
  {
   "outputs": [],
   "cell_type": "code",
   "source": [
    "m12_6_data = Dict(\"N\" => size(d, 1), \"T\" => d[:total_tools], \"N_societies\" => 10, \"society\" => d[:society], \"P\" => d[:population]);"
   ],
   "metadata": {},
   "execution_count": 4
  },
  {
   "outputs": [],
   "cell_type": "markdown",
   "source": [
    "Sample using cmdstan"
   ],
   "metadata": {}
  },
  {
   "outputs": [],
   "cell_type": "code",
   "source": [
    "rc, chn, cnames = stan(stanmodel, m12_6_data, ProjDir, diagnostics=false, summary=false, CmdStanDir=CMDSTAN_HOME);"
   ],
   "metadata": {},
   "execution_count": 5
  },
  {
   "outputs": [],
   "cell_type": "markdown",
   "source": [
    "Describe the draws"
   ],
   "metadata": {}
  },
  {
   "outputs": [
    {
     "name": "stdout",
     "output_type": "stream",
     "text": [
      "Iterations = 1:1000\n",
      "Thinning interval = 1\n",
      "Chains = 1,2,3,4\n",
      "Samples per chain = 1000\n",
      "\n",
      "Empirical Posterior Estimates:\n",
      "                   Mean          SD         Naive SE       MCSE         ESS    \n",
      "         lp__ -39.388360475  3.271433369 0.05172590330 0.1565005161  436.962945\n",
      "accept_stat__   0.947415335  0.074537773 0.00117854567 0.0012123206 1000.000000\n",
      "   stepsize__   0.046491575  0.004532452 0.00007166436 0.0007256825   39.009752\n",
      "  treedepth__   5.889750000  0.477652568 0.00755235022 0.0225618452  448.203252\n",
      " n_leapfrog__  73.082000000 33.942912461 0.53668456898 1.0251953660 1000.000000\n",
      "  divergent__   0.000000000  0.000000000 0.00000000000 0.0000000000         NaN\n",
      "     energy__  45.901920350  4.203963502 0.06647049933 0.1786827132  553.544828\n",
      "        alpha   1.118162844  0.716208365 0.01132424857 0.0224790355 1000.000000\n",
      "  a_society.1  -0.203898219  0.241319429 0.00381559519 0.0057583366 1000.000000\n",
      "  a_society.2   0.042056350  0.221176150 0.00349710199 0.0059298995 1000.000000\n",
      "  a_society.3  -0.042957427  0.186136676 0.00294307926 0.0037605571 1000.000000\n",
      "  a_society.4   0.325053134  0.189008743 0.00298849062 0.0061555152  942.833425\n",
      "  a_society.5   0.044725440  0.176008991 0.00278294650 0.0034119232 1000.000000\n",
      "  a_society.6  -0.316844800  0.210988454 0.00333602038 0.0058890732 1000.000000\n",
      "  a_society.7   0.144613663  0.170475934 0.00269546119 0.0041063603 1000.000000\n",
      "  a_society.8  -0.167718387  0.183778546 0.00290579395 0.0041404874 1000.000000\n",
      "  a_society.9   0.276172040  0.178217498 0.00281786606 0.0055341697 1000.000000\n",
      " a_society.10  -0.085295723  0.281027445 0.00444343406 0.0080323549 1000.000000\n",
      "           bp   0.258864126  0.077757184 0.00122944902 0.0024120783 1000.000000\n",
      "sigma_society   0.307224149  0.130442957 0.00206248425 0.0052589822  615.230512\n",
      "    log_lik.1  -2.765186105  0.705800125 0.01115967983 0.0204202555 1000.000000\n",
      "    log_lik.2  -2.855361277  0.560160268 0.00885691152 0.0131860379 1000.000000\n",
      "    log_lik.3  -2.851236972  0.485095238 0.00767002917 0.0088200709 1000.000000\n",
      "    log_lik.4  -3.578019245  0.963689905 0.01523727528 0.0288365782 1000.000000\n",
      "    log_lik.5  -3.036674775  0.523254432 0.00827337900 0.0115844191 1000.000000\n",
      "    log_lik.6  -3.187201405  0.945571308 0.01495079512 0.0385310137  602.237373\n",
      "    log_lik.7  -3.211750450  0.590473381 0.00933620390 0.0116945632 1000.000000\n",
      "    log_lik.8  -3.056639375  0.626208309 0.00990122274 0.0143432607 1000.000000\n",
      "    log_lik.9  -3.582344865  0.845370530 0.01336648171 0.0292567847  834.912605\n",
      "   log_lik.10  -3.543381030  0.698427513 0.01104310861 0.0170669048 1000.000000\n",
      "\n",
      "Quantiles:\n",
      "                   2.5%         25.0%         50.0%        75.0%         97.5%    \n",
      "         lp__ -46.182217500 -41.328650000 -39.16535000 -37.292325000 -33.761400000\n",
      "accept_stat__   0.725228375   0.928364250   0.97836500   0.996806250   0.999966000\n",
      "   stepsize__   0.039454000   0.044762875   0.04725210   0.048980800   0.052008100\n",
      "  treedepth__   5.000000000   6.000000000   6.00000000   6.000000000   7.000000000\n",
      " n_leapfrog__  31.000000000  63.000000000  63.00000000  63.000000000 127.000000000\n",
      "  divergent__   0.000000000   0.000000000   0.00000000   0.000000000   0.000000000\n",
      "     energy__  38.138875000  43.119775000  45.70265000  48.494300000  54.853822500\n",
      "        alpha  -0.338175475   0.690693750   1.13268500   1.562347500   2.503011500\n",
      "  a_society.1  -0.720622700  -0.352443250  -0.18767400  -0.040865425   0.232521425\n",
      "  a_society.2  -0.391044025  -0.088709250   0.03780560   0.174336000   0.493447675\n",
      "  a_society.3  -0.416842100  -0.158501750  -0.03565645   0.074772675   0.319437675\n",
      "  a_society.4  -0.015508487   0.196001500   0.31939850   0.444905250   0.720596825\n",
      "  a_society.5  -0.297880825  -0.068724100   0.04090540   0.159034250   0.399464675\n",
      "  a_society.6  -0.769830350  -0.449525500  -0.30137800  -0.169744500   0.044613228\n",
      "  a_society.7  -0.177604050   0.028927125   0.13899850   0.252745750   0.502360650\n",
      "  a_society.8  -0.551609675  -0.286162250  -0.16056050  -0.045169925   0.181592675\n",
      "  a_society.9  -0.048152607   0.155699250   0.27398700   0.387256750   0.648016600\n",
      " a_society.10  -0.645599075  -0.250627000  -0.08371625   0.072563800   0.496873850\n",
      "           bp   0.106671525   0.210408500   0.25716250   0.306736250   0.418472075\n",
      "sigma_society   0.098599033   0.220001500   0.28971100   0.372439000   0.619715825\n",
      "    log_lik.1  -4.764691250  -3.010760000  -2.48971500  -2.272460000  -2.208429750\n",
      "    log_lik.2  -4.478984250  -2.986737500  -2.63438000  -2.503740000  -2.468480000\n",
      "    log_lik.3  -4.253077500  -2.949797500  -2.66804500  -2.549190000  -2.511839750\n",
      "    log_lik.4  -6.263314750  -3.924340000  -3.20011000  -2.892880000  -2.802549500\n",
      "    log_lik.5  -4.503297500  -3.158045000  -2.83225500  -2.704820000  -2.670089750\n",
      "    log_lik.6  -5.760874250  -3.529405000  -2.84475000  -2.499755000  -2.396669750\n",
      "    log_lik.7  -4.864897500  -3.365725000  -2.99022500  -2.817840000  -2.765929750\n",
      "    log_lik.8  -4.817411000  -3.229730000  -2.80957500  -2.642220000  -2.588430000\n",
      "    log_lik.9  -5.977482250  -3.857495000  -3.25017000  -3.000492500  -2.924999250\n",
      "   log_lik.10  -5.617089750  -3.700152500  -3.27866000  -3.101472500  -3.051860000\n",
      "\n"
     ]
    }
   ],
   "cell_type": "code",
   "source": [
    "describe(chn)"
   ],
   "metadata": {},
   "execution_count": 6
  },
  {
   "outputs": [],
   "cell_type": "markdown",
   "source": [
    "*This notebook was generated using [Literate.jl](https://github.com/fredrikekre/Literate.jl).*"
   ],
   "metadata": {}
  }
 ],
 "nbformat_minor": 3,
 "metadata": {
  "language_info": {
   "file_extension": ".jl",
   "mimetype": "application/julia",
   "name": "julia",
   "version": "1.1.0"
  },
  "kernelspec": {
   "name": "julia-1.1",
   "display_name": "Julia 1.1.0",
   "language": "julia"
  }
 },
 "nbformat": 4
}
