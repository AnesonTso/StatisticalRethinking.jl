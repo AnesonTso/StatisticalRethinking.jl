{
 "cells": [
  {
   "outputs": [
    {
     "output_type": "execute_result",
     "data": {
      "text/plain": "(10, 5)"
     },
     "metadata": {},
     "execution_count": 1
    }
   ],
   "cell_type": "code",
   "source": [
    "using StatisticalRethinking\n",
    "using CmdStan, StanMCMCChain\n",
    "\n",
    "ProjDir = rel_path(\"..\", \"scripts\", \"12\")\n",
    "\n",
    "d = CSV.read(rel_path( \"..\", \"data\",  \"Kline.csv\"), delim=';');\n",
    "size(d) # Should be 10x5"
   ],
   "metadata": {},
   "execution_count": 1
  },
  {
   "outputs": [],
   "cell_type": "markdown",
   "source": [
    "New col log_pop, set log() for population data"
   ],
   "metadata": {}
  },
  {
   "outputs": [],
   "cell_type": "code",
   "source": [
    "d[:log_pop] = map((x) -> log(x), d[:population]);\n",
    "d[:society] = 1:10;\n",
    "\n",
    "first(d, 5)\n",
    "\n",
    "m12_6 = \"\n",
    "  data {\n",
    "    int N;\n",
    "    int T[N];\n",
    "    int N_societies;\n",
    "    int society[N];\n",
    "    int P[N];\n",
    "  }\n",
    "  parameters {\n",
    "    real alpha;\n",
    "    vector[N_societies] a_society;\n",
    "    real bp;\n",
    "    real<lower=0> sigma_society;\n",
    "  }\n",
    "  model {\n",
    "    vector[N] mu;\n",
    "    target += normal_lpdf(alpha | 0, 10);\n",
    "    target += normal_lpdf(bp | 0, 1);\n",
    "    target += cauchy_lpdf(sigma_society | 0, 1);\n",
    "    target += normal_lpdf(a_society | 0, sigma_society);\n",
    "    for(i in 1:N) mu[i] = alpha + a_society[society[i]] + bp * log(P[i]);\n",
    "    target += poisson_log_lpmf(T | mu);\n",
    "  }\n",
    "  generated quantities {\n",
    "    vector[N] log_lik;\n",
    "    {\n",
    "    vector[N] mu;\n",
    "    for(i in 1:N) {\n",
    "      mu[i] = alpha + a_society[society[i]] + bp * log(P[i]);\n",
    "      log_lik[i] = poisson_log_lpmf(T[i] | mu[i]);\n",
    "    }\n",
    "    }\n",
    "  }\n",
    "\";"
   ],
   "metadata": {},
   "execution_count": 2
  },
  {
   "outputs": [],
   "cell_type": "markdown",
   "source": [
    "Define the Stanmodel and set the output format to :mcmcchain."
   ],
   "metadata": {}
  },
  {
   "outputs": [
    {
     "name": "stdout",
     "output_type": "stream",
     "text": [
      "\n",
      "File /Users/rob/.julia/dev/StatisticalRethinking/notebooks/12/tmp/m12.6.stan will be updated.\n",
      "\n"
     ]
    }
   ],
   "cell_type": "code",
   "source": [
    "stanmodel = Stanmodel(name=\"m12.6\",  model=m12_6, output_format=:mcmcchain);"
   ],
   "metadata": {},
   "execution_count": 3
  },
  {
   "outputs": [],
   "cell_type": "markdown",
   "source": [
    "Input data for cmdstan"
   ],
   "metadata": {}
  },
  {
   "outputs": [],
   "cell_type": "code",
   "source": [
    "m12_6_data = Dict(\"N\" => size(d, 1), \"T\" => d[:total_tools], \"N_societies\" => 10, \"society\" => d[:society], \"P\" => d[:population]);"
   ],
   "metadata": {},
   "execution_count": 4
  },
  {
   "outputs": [],
   "cell_type": "markdown",
   "source": [
    "Sample using cmdstan"
   ],
   "metadata": {}
  },
  {
   "outputs": [
    {
     "name": "stdout",
     "output_type": "stream",
     "text": [
      "Informational Message: The current Metropolis proposal is about to be rejected because of the following issue:\n",
      "Exception: normal_lpdf: Scale parameter is 0, but must be > 0!  (in '/Users/rob/.julia/dev/StatisticalRethinking/notebooks/12/tmp/m12.6.stan' at line 19)\n",
      "\n",
      "If this warning occurs sporadically, such as for highly constrained variable types like covariance matrices, then the sampler is fine,\n",
      "but if this warning occurs often then your model may be either severely ill-conditioned or misspecified.\n",
      "\n"
     ]
    }
   ],
   "cell_type": "code",
   "source": [
    "rc, chn, cnames = stan(stanmodel, m12_6_data, ProjDir, diagnostics=false, summary=false, CmdStanDir=CMDSTAN_HOME);"
   ],
   "metadata": {},
   "execution_count": 5
  },
  {
   "outputs": [],
   "cell_type": "markdown",
   "source": [
    "Describe the draws"
   ],
   "metadata": {}
  },
  {
   "outputs": [
    {
     "name": "stdout",
     "output_type": "stream",
     "text": [
      "Iterations = 1:1000\n",
      "Thinning interval = 1\n",
      "Chains = 1,2,3,4\n",
      "Samples per chain = 1000\n",
      "\n",
      "Empirical Posterior Estimates:\n",
      "                   Mean           SD         Naive SE         MCSE         ESS    \n",
      "         lp__ -39.442540350  3.1441776177 0.049713813200 0.13025247616  582.696175\n",
      "accept_stat__   0.947379627  0.0748186849 0.001182987279 0.00156860829 1000.000000\n",
      "   stepsize__   0.048285675  0.0040528888 0.000064081799 0.00064890047   39.009752\n",
      "  treedepth__   5.938250000  0.4738069868 0.007491546248 0.02344356973  408.465553\n",
      " n_leapfrog__  75.932000000 36.7488366516 0.581050125903 1.71023237288  461.718148\n",
      "  divergent__   0.000000000  0.0000000000 0.000000000000 0.00000000000         NaN\n",
      "     energy__  45.930366950  4.0473606700 0.063994391147 0.15866713748  650.683570\n",
      "        alpha   1.136873435  0.7099315461 0.011225003343 0.01770955966 1000.000000\n",
      "  a_society.1  -0.204426819  0.2393983900 0.003785220904 0.00601795945 1000.000000\n",
      "  a_society.2   0.036439649  0.2127763302 0.003364289178 0.00411946755 1000.000000\n",
      "  a_society.3  -0.049980278  0.1909654648 0.003019429116 0.00519502363 1000.000000\n",
      "  a_society.4   0.318883402  0.1877633668 0.002968799500 0.00504822041 1000.000000\n",
      "  a_society.5   0.039942902  0.1725821032 0.002728762648 0.00374353394 1000.000000\n",
      "  a_society.6  -0.310329885  0.2123149820 0.003356994622 0.00668187495 1000.000000\n",
      "  a_society.7   0.144212401  0.1718975325 0.002717938634 0.00418610145 1000.000000\n",
      "  a_society.8  -0.171501479  0.1805069108 0.002854064857 0.00456676342 1000.000000\n",
      "  a_society.9   0.271405885  0.1753904225 0.002773166075 0.00544039861 1000.000000\n",
      " a_society.10  -0.083340577  0.2847723237 0.004502645787 0.00781733479 1000.000000\n",
      "           bp   0.257053709  0.0772291627 0.001221100280 0.00193401140 1000.000000\n",
      "sigma_society   0.306231013  0.1263527762 0.001997812808 0.00448199984  794.741521\n",
      "    log_lik.1  -2.769050060  0.6966605123 0.011015169873 0.01322007491 1000.000000\n",
      "    log_lik.2  -2.848882062  0.5464007267 0.008639354058 0.01295238856 1000.000000\n",
      "    log_lik.3  -2.867609542  0.5154091067 0.008149333519 0.01038706144 1000.000000\n",
      "    log_lik.4  -3.583189668  0.9760594336 0.015432854709 0.02114020392 1000.000000\n",
      "    log_lik.5  -3.035712253  0.5209913733 0.008237596904 0.01049239047 1000.000000\n",
      "    log_lik.6  -3.222443453  0.9645300124 0.015250558554 0.02763029614 1000.000000\n",
      "    log_lik.7  -3.225320067  0.6161250159 0.009741791868 0.01043449310 1000.000000\n",
      "    log_lik.8  -3.036729285  0.6069331297 0.009596455387 0.01212418724 1000.000000\n",
      "    log_lik.9  -3.591183095  0.8534044347 0.013493508894 0.01943305648 1000.000000\n",
      "   log_lik.10  -3.516457327  0.6488879187 0.010259818846 0.01203913384 1000.000000\n",
      "\n",
      "Quantiles:\n",
      "                   2.5%         25.0%         50.0%        75.0%         97.5%   \n",
      "         lp__ -46.257625000 -41.327825000 -39.21775000 -37.330250000 -34.00965250\n",
      "accept_stat__   0.728862325   0.928350000   0.97934100   0.996732500   0.99997002\n",
      "   stepsize__   0.041698200   0.046662975   0.04962325   0.051245950   0.05219800\n",
      "  treedepth__   5.000000000   6.000000000   6.00000000   6.000000000   7.00000000\n",
      " n_leapfrog__  31.000000000  63.000000000  63.00000000  63.000000000 127.00000000\n",
      "  divergent__   0.000000000   0.000000000   0.00000000   0.000000000   0.00000000\n",
      "     energy__  38.685455000  43.202525000  45.69660000  48.436675000  54.61740250\n",
      "        alpha  -0.350435050   0.724412750   1.15328000   1.565560000   2.49014875\n",
      "  a_society.1  -0.710786125  -0.349813500  -0.18762550  -0.045729275   0.23827888\n",
      "  a_society.2  -0.381379150  -0.098758050   0.03271870   0.165386000   0.47022538\n",
      "  a_society.3  -0.431061875  -0.166442500  -0.04339945   0.067824300   0.32057163\n",
      "  a_society.4  -0.029241255   0.191233750   0.31090200   0.443112250   0.71056370\n",
      "  a_society.5  -0.304115300  -0.069434725   0.03798930   0.144161750   0.39318738\n",
      "  a_society.6  -0.767206925  -0.444029750  -0.29503850  -0.162288500   0.05807941\n",
      "  a_society.7  -0.185900700   0.029361250   0.13896200   0.254709250   0.49209143\n",
      "  a_society.8  -0.543002575  -0.284544000  -0.16487300  -0.054428075   0.16588023\n",
      "  a_society.9  -0.042774730   0.149998500   0.26370700   0.385751250   0.63205258\n",
      " a_society.10  -0.671706325  -0.236866750  -0.07329560   0.082311050   0.45307935\n",
      "           bp   0.108028925   0.210745750   0.25564150   0.300339250   0.41947375\n",
      "sigma_society   0.109503000   0.218534250   0.29102050   0.373508500   0.59631970\n",
      "    log_lik.1  -4.681757750  -2.993627500  -2.51255000  -2.278625000  -2.20845950\n",
      "    log_lik.2  -4.395252000  -2.964850000  -2.63710500  -2.509140000  -2.46865000\n",
      "    log_lik.3  -4.360261000  -2.974057500  -2.67233500  -2.545997500  -2.51185000\n",
      "    log_lik.4  -6.314254250  -3.913415000  -3.20979500  -2.899505000  -2.80236950\n",
      "    log_lik.5  -4.517834000  -3.147520000  -2.83282000  -2.705525000  -2.67017975\n",
      "    log_lik.6  -5.870384750  -3.601430000  -2.86649000  -2.511822500  -2.39697575\n",
      "    log_lik.7  -4.915759250  -3.402785000  -2.98585000  -2.817825000  -2.76595975\n",
      "    log_lik.8  -4.668363000  -3.206615000  -2.79969500  -2.633167500  -2.58845975\n",
      "    log_lik.9  -5.965416500  -3.861035000  -3.24754000  -3.001415000  -2.92504000\n",
      "   log_lik.10  -5.358902500  -3.666717500  -3.27012000  -3.099752500  -3.05182975\n",
      "\n"
     ]
    }
   ],
   "cell_type": "code",
   "source": [
    "describe(chn)"
   ],
   "metadata": {},
   "execution_count": 6
  },
  {
   "outputs": [],
   "cell_type": "markdown",
   "source": [
    "*This notebook was generated using [Literate.jl](https://github.com/fredrikekre/Literate.jl).*"
   ],
   "metadata": {}
  }
 ],
 "nbformat_minor": 3,
 "metadata": {
  "language_info": {
   "file_extension": ".jl",
   "mimetype": "application/julia",
   "name": "julia",
   "version": "1.2.0-DEV.183"
  },
  "kernelspec": {
   "name": "julia-1.2",
   "display_name": "Julia 1.2.0-DEV.183",
   "language": "julia"
  }
 },
 "nbformat": 4
}
