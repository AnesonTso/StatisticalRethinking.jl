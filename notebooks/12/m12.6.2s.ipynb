{
 "cells": [
  {
   "outputs": [
    {
     "output_type": "execute_result",
     "data": {
      "text/plain": "(10, 5)"
     },
     "metadata": {},
     "execution_count": 1
    }
   ],
   "cell_type": "code",
   "source": [
    "using StatisticalRethinking\n",
    "using CmdStan, StanMCMCChain\n",
    "\n",
    "ProjDir = rel_path(\"..\", \"scripts\", \"12\")\n",
    "\n",
    "d = CSV.read(rel_path( \"..\", \"data\",  \"Kline.csv\"), delim=';');\n",
    "size(d) # Should be 10x5"
   ],
   "metadata": {},
   "execution_count": 1
  },
  {
   "outputs": [],
   "cell_type": "markdown",
   "source": [
    "New col log_pop, set log() for population data"
   ],
   "metadata": {}
  },
  {
   "outputs": [],
   "cell_type": "code",
   "source": [
    "d[:log_pop] = map((x) -> log(x), d[:population]);\n",
    "d[:society] = 1:10;\n",
    "\n",
    "first(d, 5)\n",
    "\n",
    "m12_6 = \"\n",
    "  data {\n",
    "    int N;\n",
    "    int T[N];\n",
    "    int N_societies;\n",
    "    int society[N];\n",
    "    int P[N];\n",
    "  }\n",
    "  parameters {\n",
    "    real alpha;\n",
    "    vector[N_societies] a_society;\n",
    "    real bp;\n",
    "    real<lower=0> sigma_society;\n",
    "  }\n",
    "  model {\n",
    "    vector[N] mu;\n",
    "    target += normal_lpdf(alpha | 0, 10);\n",
    "    target += normal_lpdf(bp | 0, 1);\n",
    "    target += cauchy_lpdf(sigma_society | 0, 1);\n",
    "    target += normal_lpdf(a_society | 0, sigma_society);\n",
    "    for(i in 1:N) mu[i] = alpha + a_society[society[i]] + bp * log(P[i]);\n",
    "    target += poisson_log_lpmf(T | mu);\n",
    "  }\n",
    "  generated quantities {\n",
    "    vector[N] log_lik;\n",
    "    {\n",
    "    vector[N] mu;\n",
    "    for(i in 1:N) {\n",
    "      mu[i] = alpha + a_society[society[i]] + bp * log(P[i]);\n",
    "      log_lik[i] = poisson_log_lpmf(T[i] | mu[i]);\n",
    "    }\n",
    "    }\n",
    "  }\n",
    "\";"
   ],
   "metadata": {},
   "execution_count": 2
  },
  {
   "outputs": [],
   "cell_type": "markdown",
   "source": [
    "Define the Stanmodel and set the output format to :mcmcchain."
   ],
   "metadata": {}
  },
  {
   "outputs": [],
   "cell_type": "code",
   "source": [
    "stanmodel = Stanmodel(name=\"m12.6\",  model=m12_6, output_format=:mcmcchain);"
   ],
   "metadata": {},
   "execution_count": 3
  },
  {
   "outputs": [],
   "cell_type": "markdown",
   "source": [
    "Input data for cmdstan"
   ],
   "metadata": {}
  },
  {
   "outputs": [],
   "cell_type": "code",
   "source": [
    "m12_6_data = Dict(\"N\" => size(d, 1), \"T\" => d[:total_tools], \"N_societies\" => 10, \"society\" => d[:society], \"P\" => d[:population]);"
   ],
   "metadata": {},
   "execution_count": 4
  },
  {
   "outputs": [],
   "cell_type": "markdown",
   "source": [
    "Sample using cmdstan"
   ],
   "metadata": {}
  },
  {
   "outputs": [
    {
     "name": "stdout",
     "output_type": "stream",
     "text": [
      "Informational Message: The current Metropolis proposal is about to be rejected because of the following issue:\n",
      "Exception: normal_lpdf: Scale parameter is 0, but must be > 0!  (in '/Users/rob/.julia/dev/StatisticalRethinking/notebooks/12/tmp/m12.6.stan' at line 19)\n",
      "\n",
      "If this warning occurs sporadically, such as for highly constrained variable types like covariance matrices, then the sampler is fine,\n",
      "but if this warning occurs often then your model may be either severely ill-conditioned or misspecified.\n",
      "\n"
     ]
    }
   ],
   "cell_type": "code",
   "source": [
    "rc, chn, cnames = stan(stanmodel, m12_6_data, ProjDir, diagnostics=false, summary=false, CmdStanDir=CMDSTAN_HOME);"
   ],
   "metadata": {},
   "execution_count": 5
  },
  {
   "outputs": [],
   "cell_type": "markdown",
   "source": [
    "Describe the draws"
   ],
   "metadata": {}
  },
  {
   "outputs": [
    {
     "name": "stdout",
     "output_type": "stream",
     "text": [
      "Iterations = 1:1000\n",
      "Thinning interval = 1\n",
      "Chains = 1,2,3,4\n",
      "Samples per chain = 1000\n",
      "\n",
      "Empirical Posterior Estimates:\n",
      "                   Mean           SD         Naive SE       MCSE         ESS    \n",
      "         lp__ -39.314436625  3.2285973916 0.05104860703 0.1265067491  651.328965\n",
      "accept_stat__   0.940274737  0.0823303720 0.00130175748 0.0012479427 1000.000000\n",
      "   stepsize__   0.051196050  0.0024430277 0.00003862766 0.0003911486   39.009752\n",
      "  treedepth__   5.835500000  0.4722239923 0.00746651691 0.0170743097  764.909031\n",
      " n_leapfrog__  68.776000000 29.6994669748 0.46958980467 0.8246967430 1000.000000\n",
      "  divergent__   0.000000000  0.0000000000 0.00000000000 0.0000000000         NaN\n",
      "     energy__  45.739127525  4.1128082522 0.06502920828 0.1420846579  837.881406\n",
      "        alpha   1.159112606  0.7271180743 0.01149674621 0.0257822076  795.370864\n",
      "  a_society.1  -0.210492387  0.2449803207 0.00387347898 0.0070415367 1000.000000\n",
      "  a_society.2   0.031759125  0.2154469720 0.00340651573 0.0059127804 1000.000000\n",
      "  a_society.3  -0.051655641  0.1921420942 0.00303803326 0.0039428517 1000.000000\n",
      "  a_society.4   0.319459188  0.1862526735 0.00294491334 0.0049314241 1000.000000\n",
      "  a_society.5   0.039878126  0.1714202404 0.00271039198 0.0032814093 1000.000000\n",
      "  a_society.6  -0.313225804  0.2095522315 0.00331331170 0.0050331136 1000.000000\n",
      "  a_society.7   0.144061796  0.1673692451 0.00264634012 0.0034149514 1000.000000\n",
      "  a_society.8  -0.167637733  0.1783043557 0.00281923940 0.0034491658 1000.000000\n",
      "  a_society.9   0.274635967  0.1727703661 0.00273173935 0.0052852504 1000.000000\n",
      " a_society.10  -0.072071609  0.2713993685 0.00429120080 0.0084430121 1000.000000\n",
      "           bp   0.254517616  0.0781667388 0.00123592466 0.0027542065  805.472989\n",
      "sigma_society   0.305011292  0.1273625088 0.00201377808 0.0043875919  842.618039\n",
      "    log_lik.1  -2.773938202  0.7087668308 0.01120658758 0.0141524138 1000.000000\n",
      "    log_lik.2  -2.816781917  0.5081324002 0.00803427869 0.0115567017 1000.000000\n",
      "    log_lik.3  -2.847841840  0.4975678684 0.00786723877 0.0127669192 1000.000000\n",
      "    log_lik.4  -3.581795860  0.9866037049 0.01559957428 0.0265322506 1000.000000\n",
      "    log_lik.5  -3.038758943  0.5284444627 0.00835544060 0.0129050322 1000.000000\n",
      "    log_lik.6  -3.205296068  0.9430927910 0.01491160632 0.0269785316 1000.000000\n",
      "    log_lik.7  -3.228934350  0.6220465436 0.00983541944 0.0123036332 1000.000000\n",
      "    log_lik.8  -3.036924725  0.6137854544 0.00970480015 0.0116123936 1000.000000\n",
      "    log_lik.9  -3.586980653  0.8515020365 0.01346342934 0.0255148300 1000.000000\n",
      "   log_lik.10  -3.523728062  0.6815256025 0.01077586594 0.0142245636 1000.000000\n",
      "\n",
      "Quantiles:\n",
      "                   2.5%         25.0%         50.0%        75.0%         97.5%    \n",
      "         lp__ -46.127835000 -41.266200000 -39.07460000 -37.147900000 -33.904895000\n",
      "accept_stat__   0.701607900   0.918005000   0.97514850   0.996245500   0.999981000\n",
      "   stepsize__   0.048783200   0.049937225   0.05036215   0.051620975   0.055276700\n",
      "  treedepth__   5.000000000   6.000000000   6.00000000   6.000000000   6.000000000\n",
      " n_leapfrog__  31.000000000  63.000000000  63.00000000  63.000000000 127.000000000\n",
      "  divergent__   0.000000000   0.000000000   0.00000000   0.000000000   0.000000000\n",
      "     energy__  38.426507500  42.927775000  45.51415000  48.257650000  54.507045000\n",
      "        alpha  -0.332494525   0.715397750   1.16333000   1.602047500   2.636352500\n",
      "  a_society.1  -0.737187750  -0.350691500  -0.19024050  -0.047847475   0.226680625\n",
      "  a_society.2  -0.404747925  -0.102814250   0.03213250   0.164408750   0.464811750\n",
      "  a_society.3  -0.447346000  -0.173418750  -0.04558480   0.073086950   0.317330200\n",
      "  a_society.4  -0.024261112   0.191244500   0.31345600   0.442610000   0.698092575\n",
      "  a_society.5  -0.288298775  -0.073078225   0.03360755   0.150304250   0.389238550\n",
      "  a_society.6  -0.773097425  -0.441668000  -0.29592250  -0.164606500   0.043903935\n",
      "  a_society.7  -0.181631500   0.031771975   0.14135250   0.256033250   0.483180475\n",
      "  a_society.8  -0.548511050  -0.280079250  -0.16011000  -0.048079800   0.164179350\n",
      "  a_society.9  -0.032686547   0.151705000   0.26858350   0.389913750   0.631836450\n",
      " a_society.10  -0.644014875  -0.232138750  -0.06790635   0.083061500   0.483380625\n",
      "           bp   0.094199213   0.207911250   0.25374500   0.301590250   0.415649475\n",
      "sigma_society   0.100942925   0.219609750   0.28862050   0.370297000   0.607780625\n",
      "    log_lik.1  -4.789438750  -3.005482500  -2.50535500  -2.276610000  -2.208419500\n",
      "    log_lik.2  -4.297482000  -2.922740000  -2.62269500  -2.502092500  -2.468689500\n",
      "    log_lik.3  -4.259231500  -2.946892500  -2.65314000  -2.545202500  -2.511890000\n",
      "    log_lik.4  -6.450367500  -3.886895000  -3.21424500  -2.894670000  -2.802389750\n",
      "    log_lik.5  -4.608618000  -3.142840000  -2.83375500  -2.707865000  -2.669959750\n",
      "    log_lik.6  -5.698481750  -3.595197500  -2.85646500  -2.505777500  -2.396567500\n",
      "    log_lik.7  -4.996880750  -3.395167500  -2.99308500  -2.818235000  -2.766000000\n",
      "    log_lik.8  -4.782403500  -3.183172500  -2.79731500  -2.636947500  -2.588390000\n",
      "    log_lik.9  -5.971162500  -3.843507500  -3.26521500  -2.997657500  -2.924869250\n",
      "   log_lik.10  -5.521062750  -3.671585000  -3.24859000  -3.100832500  -3.052139750\n",
      "\n"
     ]
    }
   ],
   "cell_type": "code",
   "source": [
    "describe(chn)"
   ],
   "metadata": {},
   "execution_count": 6
  },
  {
   "outputs": [],
   "cell_type": "markdown",
   "source": [
    "*This notebook was generated using [Literate.jl](https://github.com/fredrikekre/Literate.jl).*"
   ],
   "metadata": {}
  }
 ],
 "nbformat_minor": 3,
 "metadata": {
  "language_info": {
   "file_extension": ".jl",
   "mimetype": "application/julia",
   "name": "julia",
   "version": "1.2.0-DEV.163"
  },
  "kernelspec": {
   "name": "julia-1.2",
   "display_name": "Julia 1.2.0-DEV.163",
   "language": "julia"
  }
 },
 "nbformat": 4
}
