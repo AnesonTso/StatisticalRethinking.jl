{
 "cells": [
  {
   "outputs": [
    {
     "output_type": "execute_result",
     "data": {
      "text/plain": "(10, 5)"
     },
     "metadata": {},
     "execution_count": 1
    }
   ],
   "cell_type": "code",
   "source": [
    "using StatisticalRethinking\n",
    "using CmdStan, StanMCMCChain\n",
    "\n",
    "ProjDir = rel_path(\"..\", \"scripts\", \"12\")\n",
    "cd(ProjDir)\n",
    "\n",
    "d = CSV.read(rel_path( \"..\", \"data\",  \"Kline.csv\"), delim=';');\n",
    "size(d) # Should be 10x5"
   ],
   "metadata": {},
   "execution_count": 1
  },
  {
   "outputs": [],
   "cell_type": "markdown",
   "source": [
    "New col log_pop, set log() for population data"
   ],
   "metadata": {}
  },
  {
   "outputs": [],
   "cell_type": "code",
   "source": [
    "d[:log_pop] = map((x) -> log(x), d[:population]);\n",
    "d[:society] = 1:10;\n",
    "first(d[[:culture, :population, :log_pop, :society]], 5)\n",
    "\n",
    "m12_6 = \"\n",
    "data {\n",
    "    int N;\n",
    "    int N_societies;\n",
    "    int total_tools[N];\n",
    "    real logpop[N];\n",
    "    int society[N];\n",
    "}\n",
    "parameters{\n",
    "    real a;\n",
    "    real bp;\n",
    "    vector[N_societies] a_society;\n",
    "    real<lower=0> sigma_society;\n",
    "}\n",
    "model{\n",
    "    vector[N_societies] mu;\n",
    "    sigma_society ~ cauchy( 0 , 1 );\n",
    "    a_society ~ normal( 0 , sigma_society );\n",
    "    bp ~ normal( 0 , 1 );\n",
    "    a ~ normal( 0 , 10 );\n",
    "    for ( i in 1:N ) {\n",
    "        mu[i] = a + a_society[society[i]] + bp * logpop[i];\n",
    "        mu[i] = exp(mu[i]);\n",
    "    }\n",
    "    total_tools ~ poisson( mu );\n",
    "}\n",
    "\";"
   ],
   "metadata": {},
   "execution_count": 2
  },
  {
   "outputs": [],
   "cell_type": "markdown",
   "source": [
    "Define the Stanmodel and set the output format to :mcmcchain."
   ],
   "metadata": {}
  },
  {
   "outputs": [],
   "cell_type": "code",
   "source": [
    "stanmodel = Stanmodel(name=\"m12.6\",  model=m12_6, output_format=:mcmcchain);"
   ],
   "metadata": {},
   "execution_count": 3
  },
  {
   "outputs": [],
   "cell_type": "markdown",
   "source": [
    "Input data for cmdstan"
   ],
   "metadata": {}
  },
  {
   "outputs": [],
   "cell_type": "code",
   "source": [
    "m12_6_data = Dict(\"N\" => size(d, 1),\"N_societies\" => 10,\n",
    "\"total_tools\" => d[:total_tools], \"logpop\" => d[:log_pop],\n",
    "\"society\" => d[:society]);"
   ],
   "metadata": {},
   "execution_count": 4
  },
  {
   "outputs": [],
   "cell_type": "markdown",
   "source": [
    "Sample using cmdstan"
   ],
   "metadata": {}
  },
  {
   "outputs": [
    {
     "name": "stdout",
     "output_type": "stream",
     "text": [
      "Informational Message: The current Metropolis proposal is about to be rejected because of the following issue:\n",
      "Exception: normal_lpdf: Scale parameter is 0, but must be > 0!  (in '/Users/rob/.julia/dev/StatisticalRethinking/scripts/12/tmp/m12.6.stan' at line 17)\n",
      "\n",
      "If this warning occurs sporadically, such as for highly constrained variable types like covariance matrices, then the sampler is fine,\n",
      "but if this warning occurs often then your model may be either severely ill-conditioned or misspecified.\n",
      "\n"
     ]
    }
   ],
   "cell_type": "code",
   "source": [
    "rc, chn, cnames = stan(stanmodel, m12_6_data, ProjDir, diagnostics=false, summary=false, CmdStanDir=CMDSTAN_HOME);"
   ],
   "metadata": {},
   "execution_count": 5
  },
  {
   "outputs": [],
   "cell_type": "markdown",
   "source": [
    "Describe the draws"
   ],
   "metadata": {}
  },
  {
   "outputs": [
    {
     "name": "stdout",
     "output_type": "stream",
     "text": [
      "Iterations = 1:1000\n",
      "Thinning interval = 1\n",
      "Chains = 1,2,3,4\n",
      "Samples per chain = 1000\n",
      "\n",
      "Empirical Posterior Estimates:\n",
      "                   Mean           SD         Naive SE        MCSE         ESS    \n",
      "         lp__  927.843931750  3.131010809 0.049505627677 0.1065060463  864.212627\n",
      "accept_stat__    0.936031801  0.086342025 0.001365187289 0.0017614645 1000.000000\n",
      "   stepsize__    0.053839025  0.006320427 0.000099934727 0.0010119518   39.009752\n",
      "  treedepth__    5.801000000  0.486783565 0.007696723971 0.0218174242  497.811428\n",
      " n_leapfrog__   68.334000000 30.240917186 0.478150884206 1.1788264917  658.097352\n",
      "  divergent__    0.000000000  0.000000000 0.000000000000 0.0000000000         NaN\n",
      "     energy__ -921.339582500  4.028494575 0.063696091996 0.1317069550  935.552466\n",
      "            a    1.105386906  0.767573265 0.012136398937 0.0231058873 1000.000000\n",
      "           bp    0.260627280  0.082810742 0.001309352804 0.0024350570 1000.000000\n",
      "  a_society.1   -0.200100687  0.250850004 0.003966286816 0.0070775304 1000.000000\n",
      "  a_society.2    0.043233538  0.220503133 0.003486460653 0.0056459909 1000.000000\n",
      "  a_society.3   -0.042791517  0.201181250 0.003180954869 0.0044941681 1000.000000\n",
      "  a_society.4    0.325882672  0.194773472 0.003079639002 0.0057312434 1000.000000\n",
      "  a_society.5    0.041537508  0.186770866 0.002953106682 0.0040556397 1000.000000\n",
      "  a_society.6   -0.316995535  0.208252316 0.003292758239 0.0053086504 1000.000000\n",
      "  a_society.7    0.147156041  0.178036689 0.002815007220 0.0047693247 1000.000000\n",
      "  a_society.8   -0.172062341  0.185298559 0.002929827469 0.0041374784 1000.000000\n",
      "  a_society.9    0.273056269  0.177926414 0.002813263619 0.0054061950 1000.000000\n",
      " a_society.10   -0.092453976  0.295934449 0.004679134481 0.0076606062 1000.000000\n",
      "sigma_society    0.309918029  0.130004523 0.002055551994 0.0044570492  850.789395\n",
      "\n",
      "Quantiles:\n",
      "                   2.5%           25.0%         50.0%          75.0%          97.5%    \n",
      "         lp__  920.896850000  925.980000000  928.16700000  930.073000000  932.927700000\n",
      "accept_stat__    0.685729675    0.912060250    0.97282650    0.995623750    0.999974050\n",
      "   stepsize__    0.044866600    0.049428250    0.05510165    0.059512425    0.060286200\n",
      "  treedepth__    5.000000000    6.000000000    6.00000000    6.000000000    7.000000000\n",
      " n_leapfrog__   31.000000000   63.000000000   63.00000000   63.000000000  127.000000000\n",
      "  divergent__    0.000000000    0.000000000    0.00000000    0.000000000    0.000000000\n",
      "     energy__ -928.115200000 -924.235250000 -921.66200000 -918.857000000 -912.852725000\n",
      "            a   -0.602448425    0.666331000    1.13028500    1.574237500    2.575324500\n",
      "           bp    0.097855478    0.210979750    0.25834800    0.307647750    0.440692625\n",
      "  a_society.1   -0.742382325   -0.350958250   -0.18257350   -0.038604225    0.260661125\n",
      "  a_society.2   -0.369974625   -0.099036300    0.03033595    0.170757500    0.519149450\n",
      "  a_society.3   -0.427928425   -0.171928250   -0.04394610    0.084306675    0.344896150\n",
      "  a_society.4   -0.026871002    0.193111750    0.31597250    0.443439500    0.747894100\n",
      "  a_society.5   -0.322888100   -0.077212275    0.03892030    0.158805250    0.420062000\n",
      "  a_society.6   -0.788457800   -0.442340000   -0.29887350   -0.170082000    0.038486733\n",
      "  a_society.7   -0.180655175    0.028644700    0.13945100    0.258225750    0.526056500\n",
      "  a_society.8   -0.553896850   -0.287421500   -0.16645100   -0.046519700    0.162369450\n",
      "  a_society.9   -0.054782127    0.157023750    0.26556300    0.380157000    0.656931975\n",
      " a_society.10   -0.712947500   -0.252402750   -0.08702295    0.074630350    0.477151000\n",
      "sigma_society    0.120338875    0.221603250    0.28708550    0.373382000    0.635632200\n",
      "\n"
     ]
    }
   ],
   "cell_type": "code",
   "source": [
    "describe(chn)"
   ],
   "metadata": {},
   "execution_count": 6
  },
  {
   "outputs": [],
   "cell_type": "markdown",
   "source": [
    "*This notebook was generated using [Literate.jl](https://github.com/fredrikekre/Literate.jl).*"
   ],
   "metadata": {}
  }
 ],
 "nbformat_minor": 3,
 "metadata": {
  "language_info": {
   "file_extension": ".jl",
   "mimetype": "application/julia",
   "name": "julia",
   "version": "1.2.0-DEV.270"
  },
  "kernelspec": {
   "name": "julia-1.2",
   "display_name": "Julia 1.2.0-DEV.270",
   "language": "julia"
  }
 },
 "nbformat": 4
}
