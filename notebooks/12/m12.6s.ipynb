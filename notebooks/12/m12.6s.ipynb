{
 "cells": [
  {
   "outputs": [
    {
     "output_type": "execute_result",
     "data": {
      "text/plain": "(10, 5)"
     },
     "metadata": {},
     "execution_count": 1
    }
   ],
   "cell_type": "code",
   "source": [
    "using StatisticalRethinking\n",
    "using CmdStan, StanMCMCChain\n",
    "\n",
    "ProjDir = rel_path(\"..\", \"scripts\", \"12\")\n",
    "\n",
    "d = CSV.read(rel_path( \"..\", \"data\",  \"Kline.csv\"), delim=';');\n",
    "size(d) # Should be 10x5"
   ],
   "metadata": {},
   "execution_count": 1
  },
  {
   "outputs": [],
   "cell_type": "markdown",
   "source": [
    "New col log_pop, set log() for population data"
   ],
   "metadata": {}
  },
  {
   "outputs": [],
   "cell_type": "code",
   "source": [
    "d[:log_pop] = map((x) -> log(x), d[:population]);\n",
    "d[:society] = 1:10;\n",
    "\n",
    "first(d, 5)\n",
    "\n",
    "m12_6 = \"\n",
    "  data {\n",
    "    int N;\n",
    "    int T[N];\n",
    "    int N_societies;\n",
    "    int society[N];\n",
    "    int P[N];\n",
    "  }\n",
    "  parameters {\n",
    "    real alpha;\n",
    "    vector[N_societies] a_society;\n",
    "    real bp;\n",
    "    real<lower=0> sigma_society;\n",
    "  }\n",
    "  model {\n",
    "    vector[N] mu;\n",
    "    target += normal_lpdf(alpha | 0, 10);\n",
    "    target += normal_lpdf(bp | 0, 1);\n",
    "    target += cauchy_lpdf(sigma_society | 0, 1);\n",
    "    target += normal_lpdf(a_society | 0, sigma_society);\n",
    "    for(i in 1:N) mu[i] = alpha + a_society[society[i]] + bp * log(P[i]);\n",
    "    target += poisson_log_lpmf(T | mu);\n",
    "  }\n",
    "  generated quantities {\n",
    "    vector[N] log_lik;\n",
    "    {\n",
    "    vector[N] mu;\n",
    "    for(i in 1:N) {\n",
    "      mu[i] = alpha + a_society[society[i]] + bp * log(P[i]);\n",
    "      log_lik[i] = poisson_log_lpmf(T[i] | mu[i]);\n",
    "    }\n",
    "    }\n",
    "  }\n",
    "\";"
   ],
   "metadata": {},
   "execution_count": 2
  },
  {
   "outputs": [],
   "cell_type": "markdown",
   "source": [
    "Define the Stanmodel and set the output format to :mcmcchain."
   ],
   "metadata": {}
  },
  {
   "outputs": [
    {
     "name": "stdout",
     "output_type": "stream",
     "text": [
      "\n",
      "File /Users/rob/.julia/dev/StatisticalRethinking/notebooks/12/tmp/m12.6.stan will be updated.\n",
      "\n"
     ]
    }
   ],
   "cell_type": "code",
   "source": [
    "stanmodel = Stanmodel(name=\"m12.6\",  model=m12_6, output_format=:mcmcchain);"
   ],
   "metadata": {},
   "execution_count": 3
  },
  {
   "outputs": [],
   "cell_type": "markdown",
   "source": [
    "Input data for cmdstan"
   ],
   "metadata": {}
  },
  {
   "outputs": [],
   "cell_type": "code",
   "source": [
    "m12_6_data = Dict(\"N\" => size(d, 1), \"T\" => d[:total_tools], \"N_societies\" => 10, \"society\" => d[:society], \"P\" => d[:population]);"
   ],
   "metadata": {},
   "execution_count": 4
  },
  {
   "outputs": [],
   "cell_type": "markdown",
   "source": [
    "Sample using cmdstan"
   ],
   "metadata": {}
  },
  {
   "outputs": [
    {
     "name": "stdout",
     "output_type": "stream",
     "text": [
      "Informational Message: The current Metropolis proposal is about to be rejected because of the following issue:\n",
      "Exception: normal_lpdf: Scale parameter is 0, but must be > 0!  (in '/Users/rob/.julia/dev/StatisticalRethinking/notebooks/12/tmp/m12.6.stan' at line 19)\n",
      "\n",
      "If this warning occurs sporadically, such as for highly constrained variable types like covariance matrices, then the sampler is fine,\n",
      "but if this warning occurs often then your model may be either severely ill-conditioned or misspecified.\n",
      "\n"
     ]
    }
   ],
   "cell_type": "code",
   "source": [
    "rc, chn, cnames = stan(stanmodel, m12_6_data, ProjDir, diagnostics=false, summary=false, CmdStanDir=CMDSTAN_HOME);"
   ],
   "metadata": {},
   "execution_count": 5
  },
  {
   "outputs": [],
   "cell_type": "markdown",
   "source": [
    "Describe the draws"
   ],
   "metadata": {}
  },
  {
   "outputs": [
    {
     "name": "stdout",
     "output_type": "stream",
     "text": [
      "Iterations = 1:1000\n",
      "Thinning interval = 1\n",
      "Chains = 1,2,3,4\n",
      "Samples per chain = 1000\n",
      "\n",
      "Empirical Posterior Estimates:\n",
      "                   Mean           SD         Naive SE        MCSE         ESS    \n",
      "         lp__ -39.611565025  3.1081929696 0.04914484596 0.09914849225  982.751508\n",
      "accept_stat__   0.945496491  0.0759015937 0.00120010957 0.00148519641 1000.000000\n",
      "   stepsize__   0.049892900  0.0044860398 0.00007093052 0.00071825147   39.009752\n",
      "  treedepth__   5.917500000  0.4268949635 0.00674980203 0.01348194424 1000.000000\n",
      " n_leapfrog__  74.154000000 34.3403421470 0.54296848407 0.92940957271 1000.000000\n",
      "  divergent__   0.000000000  0.0000000000 0.00000000000 0.00000000000         NaN\n",
      "     energy__  46.178608400  4.0741670473 0.06441823719 0.12473936280 1000.000000\n",
      "        alpha   1.110484883  0.7667660136 0.01212363518 0.02724070120  792.299067\n",
      "  a_society.1  -0.210800789  0.2487188838 0.00393259085 0.00653403777 1000.000000\n",
      "  a_society.2   0.045857789  0.2216466884 0.00350454186 0.00521817375 1000.000000\n",
      "  a_society.3  -0.046589504  0.1920367529 0.00303636767 0.00433008244 1000.000000\n",
      "  a_society.4   0.329431331  0.1831339543 0.00289560206 0.00400983708 1000.000000\n",
      "  a_society.5   0.044241997  0.1765653440 0.00279174321 0.00341557544 1000.000000\n",
      "  a_society.6  -0.317702147  0.2022408386 0.00319770843 0.00449694118 1000.000000\n",
      "  a_society.7   0.147883859  0.1688130454 0.00266916861 0.00372620769 1000.000000\n",
      "  a_society.8  -0.169081463  0.1779938249 0.00281432948 0.00461337364 1000.000000\n",
      "  a_society.9   0.276086675  0.1759460337 0.00278195106 0.00460974622 1000.000000\n",
      " a_society.10  -0.091084186  0.2964069344 0.00468660513 0.01063275191  777.115117\n",
      "           bp   0.259774422  0.0834324172 0.00131918235 0.00302785044  759.277997\n",
      "sigma_society   0.311451821  0.1288079641 0.00203663274 0.00347535330 1000.000000\n",
      "    log_lik.1  -2.773155530  0.7090296103 0.01121074249 0.01366231796 1000.000000\n",
      "    log_lik.2  -2.852054070  0.5503600891 0.00870195707 0.01177439619 1000.000000\n",
      "    log_lik.3  -2.871317858  0.5313782923 0.00840182851 0.01319121533 1000.000000\n",
      "    log_lik.4  -3.524231080  0.9107133511 0.01439964243 0.01668293021 1000.000000\n",
      "    log_lik.5  -3.063028060  0.5575122523 0.00881504270 0.01253289024 1000.000000\n",
      "    log_lik.6  -3.159541467  0.8896722463 0.01406695335 0.01409822494 1000.000000\n",
      "    log_lik.7  -3.226016202  0.6258118393 0.00989495400 0.01032413361 1000.000000\n",
      "    log_lik.8  -3.023377410  0.5678513559 0.00897851828 0.01065384898 1000.000000\n",
      "    log_lik.9  -3.564988473  0.8379138011 0.01324858047 0.01572419888 1000.000000\n",
      "   log_lik.10  -3.559458452  0.7003362060 0.01107328769 0.01116014344 1000.000000\n",
      "\n",
      "Quantiles:\n",
      "                   2.5%         25.0%         50.0%        75.0%         97.5%   \n",
      "         lp__ -46.543955000 -41.478400000 -39.33690000 -37.447325000 -34.34044250\n",
      "accept_stat__   0.726972675   0.923870250   0.97847300   0.996762000   0.99997600\n",
      "   stepsize__   0.045019800   0.046204875   0.04903570   0.052723725   0.05648040\n",
      "  treedepth__   5.000000000   6.000000000   6.00000000   6.000000000   7.00000000\n",
      " n_leapfrog__  31.000000000  63.000000000  63.00000000  63.000000000 127.00000000\n",
      "  divergent__   0.000000000   0.000000000   0.00000000   0.000000000   0.00000000\n",
      "     energy__  39.094495000  43.318725000  45.81925000  48.706600000  54.91437000\n",
      "        alpha  -0.450195900   0.660328750   1.14399500   1.572350000   2.55400025\n",
      "  a_society.1  -0.728341825  -0.365437750  -0.19508050  -0.050939100   0.25295273\n",
      "  a_society.2  -0.387538525  -0.090647325   0.03993365   0.184779750   0.47552598\n",
      "  a_society.3  -0.424891425  -0.165171750  -0.04018570   0.075873300   0.32047943\n",
      "  a_society.4  -0.011178687   0.203532750   0.32451750   0.446726750   0.70307863\n",
      "  a_society.5  -0.291169825  -0.069001550   0.04539660   0.154611250   0.40224225\n",
      "  a_society.6  -0.764932575  -0.440907750  -0.30414450  -0.178924500   0.04168587\n",
      "  a_society.7  -0.174339275   0.034901250   0.14442450   0.257452500   0.48561613\n",
      "  a_society.8  -0.542905225  -0.286548500  -0.16323050  -0.047918800   0.16477928\n",
      "  a_society.9  -0.038296757   0.153365250   0.26647400   0.388942250   0.63826858\n",
      " a_society.10  -0.688118500  -0.257687500  -0.08216425   0.081973575   0.49867855\n",
      "           bp   0.098742953   0.211445500   0.25655700   0.308713000   0.42767058\n",
      "sigma_society   0.121633375   0.225130750   0.28969000   0.374801750   0.62425783\n",
      "    log_lik.1  -4.818766500  -2.997175000  -2.51532000  -2.280855000  -2.20870000\n",
      "    log_lik.2  -4.420761750  -2.966962500  -2.63936500  -2.503960000  -2.46871000\n",
      "    log_lik.3  -4.326938000  -2.980380000  -2.67125000  -2.550392500  -2.51180000\n",
      "    log_lik.4  -6.153528000  -3.822067500  -3.17674000  -2.886285000  -2.80237825\n",
      "    log_lik.5  -4.643395500  -3.193962500  -2.85004500  -2.711147500  -2.67021950\n",
      "    log_lik.6  -5.585445500  -3.514360000  -2.83538000  -2.508277500  -2.39744800\n",
      "    log_lik.7  -5.028135250  -3.391545000  -2.99180000  -2.815045000  -2.76591950\n",
      "    log_lik.8  -4.613055000  -3.179790000  -2.80079500  -2.638082500  -2.58855000\n",
      "    log_lik.9  -5.942496750  -3.831312500  -3.23926000  -2.985010000  -2.92498900\n",
      "   log_lik.10  -5.563405250  -3.729570000  -3.29430500  -3.108152500  -3.05192975\n",
      "\n"
     ]
    }
   ],
   "cell_type": "code",
   "source": [
    "describe(chn)"
   ],
   "metadata": {},
   "execution_count": 6
  },
  {
   "outputs": [],
   "cell_type": "markdown",
   "source": [
    "*This notebook was generated using [Literate.jl](https://github.com/fredrikekre/Literate.jl).*"
   ],
   "metadata": {}
  }
 ],
 "nbformat_minor": 3,
 "metadata": {
  "language_info": {
   "file_extension": ".jl",
   "mimetype": "application/julia",
   "name": "julia",
   "version": "1.2.0-DEV.163"
  },
  "kernelspec": {
   "name": "julia-1.2",
   "display_name": "Julia 1.2.0-DEV.163",
   "language": "julia"
  }
 },
 "nbformat": 4
}
