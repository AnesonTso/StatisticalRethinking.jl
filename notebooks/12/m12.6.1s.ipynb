{
 "cells": [
  {
   "outputs": [
    {
     "output_type": "execute_result",
     "data": {
      "text/plain": "(10, 5)"
     },
     "metadata": {},
     "execution_count": 1
    }
   ],
   "cell_type": "code",
   "source": [
    "using StatisticalRethinking\n",
    "using CmdStan, StanMCMCChain\n",
    "\n",
    "ProjDir = rel_path(\"..\", \"scripts\", \"12\")\n",
    "\n",
    "d = CSV.read(rel_path( \"..\", \"data\",  \"Kline.csv\"), delim=';');\n",
    "size(d) # Should be 10x5"
   ],
   "metadata": {},
   "execution_count": 1
  },
  {
   "outputs": [],
   "cell_type": "markdown",
   "source": [
    "New col logpop, set log() for population data"
   ],
   "metadata": {}
  },
  {
   "outputs": [],
   "cell_type": "code",
   "source": [
    "d[:logpop] = map((x) -> log(x), d[:population]);\n",
    "d[:society] = 1:10;\n",
    "\n",
    "first(d, 5)\n",
    "\n",
    "m12_6_1 = \"\n",
    "data{\n",
    "    int total_tools[10];\n",
    "    real logpop[10];\n",
    "    int society[10];\n",
    "}\n",
    "parameters{\n",
    "    real a;\n",
    "    real bp;\n",
    "    vector[10] a_society;\n",
    "    real<lower=0> sigma_society;\n",
    "}\n",
    "model{\n",
    "    vector[10] mu;\n",
    "    sigma_society ~ cauchy( 0 , 1 );\n",
    "    a_society ~ normal( 0 , sigma_society );\n",
    "    bp ~ normal( 0 , 1 );\n",
    "    a ~ normal( 0 , 10 );\n",
    "    for ( i in 1:10 ) {\n",
    "        mu[i] = a + a_society[society[i]] + bp * logpop[i];\n",
    "        mu[i] = exp(mu[i]);\n",
    "    }\n",
    "    total_tools ~ poisson( mu );\n",
    "}\n",
    "\";"
   ],
   "metadata": {},
   "execution_count": 2
  },
  {
   "outputs": [],
   "cell_type": "markdown",
   "source": [
    "Define the Stanmodel and set the output format to :mcmcchain."
   ],
   "metadata": {}
  },
  {
   "outputs": [
    {
     "name": "stdout",
     "output_type": "stream",
     "text": [
      "=====> /Users/rob/.julia/dev/StatisticalRethinking/notebooks/12\n",
      "\n"
     ]
    }
   ],
   "cell_type": "code",
   "source": [
    "stanmodel = Stanmodel(name=\"m12.6.1\",  model=m12_6_1, num_warmup=2000,\n",
    "num_samples=2000, output_format=:mcmcchain);"
   ],
   "metadata": {},
   "execution_count": 3
  },
  {
   "outputs": [],
   "cell_type": "markdown",
   "source": [
    "Input data for cmdstan"
   ],
   "metadata": {}
  },
  {
   "outputs": [],
   "cell_type": "code",
   "source": [
    "m12_6_1_data = Dict(\"total_tools\" => d[:total_tools], \"logpop\" => d[:logpop], \"society\" => d[:society]);"
   ],
   "metadata": {},
   "execution_count": 4
  },
  {
   "outputs": [],
   "cell_type": "markdown",
   "source": [
    "Sample using cmdstan"
   ],
   "metadata": {}
  },
  {
   "outputs": [
    {
     "name": "stdout",
     "output_type": "stream",
     "text": [
      "\n",
      "make: `/Users/rob/.julia/dev/StatisticalRethinking/notebooks/12/tmp/m12.6.1' is up to date.\n",
      "Informational Message: The current Metropolis proposal is about to be rejected because of the following issue:\n",
      "Exception: normal_lpdf: Scale parameter is 0, but must be > 0!  (in '/Users/rob/.julia/dev/StatisticalRethinking/notebooks/12/tmp/m12.6.1.stan' at line 15)\n",
      "\n",
      "If this warning occurs sporadically, such as for highly constrained variable types like covariance matrices, then the sampler is fine,\n",
      "but if this warning occurs often then your model may be either severely ill-conditioned or misspecified.\n",
      "\n",
      "\n",
      "Calling /Users/rob/Projects/StanSupport/cmdstan/bin/stansummary to infer across chains.\n",
      "\n",
      "Inference for Stan model: m12_6_1_model\n",
      "4 chains: each with iter=(2000,2000,2000,2000); warmup=(0,0,0,0); thin=(1,1,1,1); 8000 iterations saved.\n",
      "\n",
      "Warmup took (0.98, 0.89, 0.96, 0.92) seconds, 3.7 seconds total\n",
      "Sampling took (1.1, 1.1, 1.1, 1.0) seconds, 4.4 seconds total\n",
      "\n",
      "                    Mean     MCSE   StdDev        5%       50%       95%    N_Eff  N_Eff/s    R_hat\n",
      "lp__             9.3e+02  7.0e-02  3.0e+00   9.2e+02   9.3e+02   9.3e+02  1.9e+03  4.3e+02  1.0e+00\n",
      "accept_stat__    9.5e-01  7.7e-04  7.2e-02   7.9e-01   9.8e-01   1.0e+00  8.8e+03  2.0e+03  1.0e+00\n",
      "stepsize__       5.0e-02  2.6e-03  3.7e-03   4.6e-02   4.9e-02   5.6e-02  2.0e+00  4.5e-01  2.0e+13\n",
      "treedepth__      5.9e+00  1.0e-02  4.4e-01   5.0e+00   6.0e+00   7.0e+00  1.9e+03  4.3e+02  1.0e+00\n",
      "n_leapfrog__     7.6e+01  1.6e+00  3.6e+01   3.1e+01   6.3e+01   1.3e+02  5.2e+02  1.2e+02  1.0e+00\n",
      "divergent__      0.0e+00      nan  0.0e+00   0.0e+00   0.0e+00   0.0e+00      nan      nan      nan\n",
      "energy__        -9.2e+02  9.1e-02  4.0e+00  -9.3e+02  -9.2e+02  -9.1e+02  1.9e+03  4.4e+02  1.0e+00\n",
      "a                1.1e+00  1.7e-02  7.5e-01  -2.3e-01   1.1e+00   2.2e+00  2.0e+03  4.5e+02  1.0e+00\n",
      "bp               2.6e-01  1.8e-03  8.2e-02   1.4e-01   2.6e-01   4.0e-01  2.0e+03  4.5e+02  1.0e+00\n",
      "a_society[1]    -2.0e-01  4.0e-03  2.4e-01  -6.2e-01  -1.8e-01   1.6e-01  3.6e+03  8.1e+02  1.0e+00\n",
      "a_society[2]     4.9e-02  3.9e-03  2.2e-01  -3.0e-01   4.4e-02   4.2e-01  3.3e+03  7.5e+02  1.0e+00\n",
      "a_society[3]    -4.0e-02  2.9e-03  2.0e-01  -3.6e-01  -4.4e-02   2.8e-01  4.5e+03  1.0e+03  1.0e+00\n",
      "a_society[4]     3.4e-01  3.4e-03  1.9e-01   3.9e-02   3.3e-01   6.7e-01  3.2e+03  7.1e+02  1.0e+00\n",
      "a_society[5]     4.9e-02  2.6e-03  1.8e-01  -2.3e-01   4.6e-02   3.4e-01  4.6e+03  1.0e+03  1.0e+00\n",
      "a_society[6]    -3.2e-01  3.1e-03  2.0e-01  -6.8e-01  -3.1e-01  -8.0e-03  4.4e+03  1.0e+03  1.0e+00\n",
      "a_society[7]     1.5e-01  2.8e-03  1.7e-01  -1.2e-01   1.4e-01   4.4e-01  3.8e+03  8.6e+02  1.0e+00\n",
      "a_society[8]    -1.7e-01  2.9e-03  1.9e-01  -4.9e-01  -1.6e-01   1.2e-01  4.2e+03  9.6e+02  1.0e+00\n",
      "a_society[9]     2.8e-01  3.0e-03  1.8e-01   9.3e-03   2.8e-01   5.8e-01  3.4e+03  7.7e+02  1.0e+00\n",
      "a_society[10]   -1.0e-01  6.3e-03  2.9e-01  -5.9e-01  -9.0e-02   3.6e-01  2.2e+03  4.9e+02  1.0e+00\n",
      "sigma_society    3.2e-01  2.7e-03  1.3e-01   1.5e-01   3.0e-01   5.5e-01  2.2e+03  5.0e+02  1.0e+00\n",
      "\n",
      "Samples were drawn using hmc with nuts.\n",
      "For each parameter, N_Eff is a crude measure of effective sample size,\n",
      "and R_hat is the potential scale reduction factor on split chains (at \n",
      "convergence, R_hat=1).\n",
      "\n"
     ]
    }
   ],
   "cell_type": "code",
   "source": [
    "rc, chn, cnames = stan(stanmodel, m12_6_1_data, ProjDir, diagnostics=false, CmdStanDir=CMDSTAN_HOME);"
   ],
   "metadata": {},
   "execution_count": 5
  },
  {
   "outputs": [],
   "cell_type": "markdown",
   "source": [
    "Describe the draws"
   ],
   "metadata": {}
  },
  {
   "outputs": [
    {
     "name": "stdout",
     "output_type": "stream",
     "text": [
      "Iterations = 1:2000\n",
      "Thinning interval = 1\n",
      "Chains = 1,2,3,4\n",
      "Samples per chain = 2000\n",
      "\n",
      "Empirical Posterior Estimates:\n",
      "                   Mean            SD         Naive SE       MCSE         ESS   \n",
      "         lp__  927.797842000  3.0401496924 0.03398990687 0.0731388272 1727.80192\n",
      "accept_stat__    0.948024024  0.0721234576 0.00080636477 0.0009050823 2000.00000\n",
      "   stepsize__    0.049720925  0.0036726082 0.00004106101 0.0004131749   79.00988\n",
      "  treedepth__    5.937625000  0.4424464140 0.00494670129 0.0096180930 2000.00000\n",
      " n_leapfrog__   76.472500000 36.0983189336 0.40359147504 0.7617987022 2000.00000\n",
      "  divergent__    0.000000000  0.0000000000 0.00000000000 0.0000000000        NaN\n",
      "     energy__ -921.303251625  3.9900219928 0.04460980204 0.0936280534 1816.09512\n",
      "            a    1.070102013  0.7533674328 0.00842290396 0.0176583025 1820.18605\n",
      "           bp    0.263828642  0.0815373194 0.00091161494 0.0019481822 1751.67571\n",
      "  a_society.1   -0.196855184  0.2414843084 0.00269987665 0.0043127315 2000.00000\n",
      "  a_society.2    0.048763172  0.2237044202 0.00250109145 0.0036143850 2000.00000\n",
      "  a_society.3   -0.039925334  0.1952091666 0.00218250483 0.0026079640 2000.00000\n",
      "  a_society.4    0.337314321  0.1922104183 0.00214897781 0.0031328196 2000.00000\n",
      "  a_society.5    0.049149297  0.1754148837 0.00196119802 0.0025346033 2000.00000\n",
      "  a_society.6   -0.323603557  0.2040958542 0.00228186102 0.0031628014 2000.00000\n",
      "  a_society.7    0.152880925  0.1736680492 0.00194166782 0.0028838717 2000.00000\n",
      "  a_society.8   -0.169085658  0.1870777104 0.00209159239 0.0029461317 2000.00000\n",
      "  a_society.9    0.282604671  0.1756478384 0.00196380253 0.0031686521 2000.00000\n",
      " a_society.10   -0.100460119  0.2935052043 0.00328148794 0.0068305710 1846.36514\n",
      "sigma_society    0.315403964  0.1267099569 0.00141666038 0.0026039092 2000.00000\n",
      "\n",
      "Quantiles:\n",
      "                   2.5%           25.0%         50.0%          75.0%          97.5%    \n",
      "         lp__  921.179000000  926.003250000  928.07800000  929.939250000  932.865275000\n",
      "accept_stat__    0.739846925    0.927387000    0.97916500    0.996647000    0.999965025\n",
      "   stepsize__    0.046272100    0.047152075    0.04841390    0.050982750    0.055783800\n",
      "  treedepth__    5.000000000    6.000000000    6.00000000    6.000000000    7.000000000\n",
      " n_leapfrog__   31.000000000   63.000000000   63.00000000   63.000000000  127.000000000\n",
      "  divergent__    0.000000000    0.000000000    0.00000000    0.000000000    0.000000000\n",
      "     energy__ -928.292075000 -924.132000000 -921.56000000 -918.834500000 -912.690975000\n",
      "            a   -0.526167400    0.630225750    1.09660500    1.541700000    2.505758250\n",
      "           bp    0.108224425    0.213207250    0.26143850    0.311448750    0.434085075\n",
      "  a_society.1   -0.718041350   -0.337695500   -0.18188800   -0.041901475    0.245024925\n",
      "  a_society.2   -0.389978275   -0.092878375    0.04336155    0.184102000    0.512883425\n",
      "  a_society.3   -0.426690275   -0.164873250   -0.04373480    0.083837450    0.359588375\n",
      "  a_society.4   -0.013194577    0.204007500    0.32980400    0.458383000    0.739861075\n",
      "  a_society.5   -0.296553750   -0.066323650    0.04629500    0.159873000    0.403433925\n",
      "  a_society.6   -0.758184625   -0.452135500   -0.31040200   -0.183493000    0.038424022\n",
      "  a_society.7   -0.175685775    0.036217775    0.14403000    0.265035000    0.503445400\n",
      "  a_society.8   -0.568497500   -0.280763750   -0.16324600   -0.044253850    0.179010000\n",
      "  a_society.9   -0.038024197    0.163514750    0.27603500    0.393856000    0.647650300\n",
      " a_society.10   -0.699236725   -0.266676250   -0.09047900    0.067961175    0.472512500\n",
      "sigma_society    0.130336700    0.227948750    0.29515300    0.379334000    0.617259625\n",
      "\n"
     ]
    }
   ],
   "cell_type": "code",
   "source": [
    "describe(chn)"
   ],
   "metadata": {},
   "execution_count": 6
  },
  {
   "outputs": [],
   "cell_type": "markdown",
   "source": [
    "*This notebook was generated using [Literate.jl](https://github.com/fredrikekre/Literate.jl).*"
   ],
   "metadata": {}
  }
 ],
 "nbformat_minor": 3,
 "metadata": {
  "language_info": {
   "file_extension": ".jl",
   "mimetype": "application/julia",
   "name": "julia",
   "version": "1.2.0-DEV.216"
  },
  "kernelspec": {
   "name": "julia-1.2",
   "display_name": "Julia 1.2.0-DEV.216",
   "language": "julia"
  }
 },
 "nbformat": 4
}
