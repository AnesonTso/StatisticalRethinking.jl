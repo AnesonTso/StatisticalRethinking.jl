{
 "cells": [
  {
   "outputs": [
    {
     "output_type": "execute_result",
     "data": {
      "text/plain": "(10, 5)"
     },
     "metadata": {},
     "execution_count": 1
    }
   ],
   "cell_type": "code",
   "source": [
    "using StatisticalRethinking\n",
    "using CmdStan, StanMCMCChain\n",
    "\n",
    "ProjDir = rel_path(\"..\", \"scripts\", \"12\")\n",
    "\n",
    "d = CSV.read(rel_path( \"..\", \"data\",  \"Kline.csv\"), delim=';');\n",
    "size(d) # Should be 10x5"
   ],
   "metadata": {},
   "execution_count": 1
  },
  {
   "outputs": [],
   "cell_type": "markdown",
   "source": [
    "New col logpop, set log() for population data"
   ],
   "metadata": {}
  },
  {
   "outputs": [],
   "cell_type": "code",
   "source": [
    "d[:logpop] = map((x) -> log(x), d[:population]);\n",
    "d[:society] = 1:10;\n",
    "\n",
    "first(d, 5)\n",
    "\n",
    "m12_6_1 = \"\n",
    "data{\n",
    "    int total_tools[10];\n",
    "    real logpop[10];\n",
    "    int society[10];\n",
    "}\n",
    "parameters{\n",
    "    real a;\n",
    "    real bp;\n",
    "    vector[10] a_society;\n",
    "    real<lower=0> sigma_society;\n",
    "}\n",
    "model{\n",
    "    vector[10] mu;\n",
    "    sigma_society ~ cauchy( 0 , 1 );\n",
    "    a_society ~ normal( 0 , sigma_society );\n",
    "    bp ~ normal( 0 , 1 );\n",
    "    a ~ normal( 0 , 10 );\n",
    "    for ( i in 1:10 ) {\n",
    "        mu[i] = a + a_society[society[i]] + bp * logpop[i];\n",
    "        mu[i] = exp(mu[i]);\n",
    "    }\n",
    "    total_tools ~ poisson( mu );\n",
    "}\n",
    "\";"
   ],
   "metadata": {},
   "execution_count": 2
  },
  {
   "outputs": [],
   "cell_type": "markdown",
   "source": [
    "Define the Stanmodel and set the output format to :mcmcchain."
   ],
   "metadata": {}
  },
  {
   "outputs": [],
   "cell_type": "code",
   "source": [
    "stanmodel = Stanmodel(name=\"m12.6.1\",  model=m12_6_1, num_warmup=2000,\n",
    "num_samples=2000, output_format=:mcmcchain);"
   ],
   "metadata": {},
   "execution_count": 3
  },
  {
   "outputs": [],
   "cell_type": "markdown",
   "source": [
    "Input data for cmdstan"
   ],
   "metadata": {}
  },
  {
   "outputs": [],
   "cell_type": "code",
   "source": [
    "m12_6_1_data = Dict(\"total_tools\" => d[:total_tools], \"logpop\" => d[:logpop], \"society\" => d[:society]);"
   ],
   "metadata": {},
   "execution_count": 4
  },
  {
   "outputs": [],
   "cell_type": "markdown",
   "source": [
    "Sample using cmdstan"
   ],
   "metadata": {}
  },
  {
   "outputs": [
    {
     "name": "stdout",
     "output_type": "stream",
     "text": [
      "Informational Message: The current Metropolis proposal is about to be rejected because of the following issue:\n",
      "Exception: normal_lpdf: Scale parameter is 0, but must be > 0!  (in '/Users/rob/.julia/dev/StatisticalRethinking/notebooks/12/tmp/m12.6.1.stan' at line 15)\n",
      "\n",
      "If this warning occurs sporadically, such as for highly constrained variable types like covariance matrices, then the sampler is fine,\n",
      "but if this warning occurs often then your model may be either severely ill-conditioned or misspecified.\n",
      "\n",
      "\n",
      "Inference for Stan model: m12_6_1_model\n",
      "4 chains: each with iter=(2000,2000,2000,2000); warmup=(0,0,0,0); thin=(1,1,1,1); 8000 iterations saved.\n",
      "\n",
      "Warmup took (0.95, 0.91, 0.87, 0.87) seconds, 3.6 seconds total\n",
      "Sampling took (1.1, 1.2, 1.1, 0.97) seconds, 4.3 seconds total\n",
      "\n",
      "                    Mean     MCSE   StdDev        5%       50%       95%    N_Eff  N_Eff/s    R_hat\n",
      "lp__             9.3e+02  7.8e-02  3.1e+00   9.2e+02   9.3e+02   9.3e+02  1.6e+03  3.7e+02  1.0e+00\n",
      "accept_stat__    9.4e-01  9.0e-04  8.2e-02   7.7e-01   9.8e-01   1.0e+00  8.2e+03  1.9e+03  1.0e+00\n",
      "stepsize__       4.7e-02  3.0e-03  4.2e-03   4.1e-02   4.8e-02   5.3e-02  2.0e+00  4.6e-01  2.7e+13\n",
      "treedepth__      5.9e+00  1.4e-02  4.4e-01   5.0e+00   6.0e+00   6.0e+00  1.1e+03  2.5e+02  1.0e+00\n",
      "n_leapfrog__     7.4e+01  1.9e+00  3.4e+01   3.1e+01   6.3e+01   1.3e+02  3.3e+02  7.6e+01  1.0e+00\n",
      "divergent__      0.0e+00      nan  0.0e+00   0.0e+00   0.0e+00   0.0e+00      nan      nan      nan\n",
      "energy__        -9.2e+02  9.5e-02  4.0e+00  -9.3e+02  -9.2e+02  -9.1e+02  1.8e+03  4.2e+02  1.0e+00\n",
      "a                1.1e+00  1.5e-02  7.0e-01  -3.6e-02   1.1e+00   2.2e+00  2.3e+03  5.3e+02  1.0e+00\n",
      "bp               2.6e-01  1.6e-03  7.6e-02   1.4e-01   2.6e-01   3.8e-01  2.3e+03  5.4e+02  1.0e+00\n",
      "a_society[1]    -2.0e-01  3.9e-03  2.4e-01  -6.1e-01  -1.8e-01   1.6e-01  3.7e+03  8.5e+02  1.0e+00\n",
      "a_society[2]     4.0e-02  3.6e-03  2.1e-01  -2.9e-01   3.4e-02   3.9e-01  3.5e+03  8.0e+02  1.0e+00\n",
      "a_society[3]    -4.7e-02  3.0e-03  1.9e-01  -3.6e-01  -4.7e-02   2.6e-01  4.3e+03  1.0e+03  1.0e+00\n",
      "a_society[4]     3.2e-01  3.6e-03  1.9e-01   2.6e-02   3.2e-01   6.4e-01  2.7e+03  6.3e+02  1.0e+00\n",
      "a_society[5]     4.3e-02  2.7e-03  1.7e-01  -2.4e-01   3.7e-02   3.3e-01  4.0e+03  9.2e+02  1.0e+00\n",
      "a_society[6]    -3.2e-01  3.7e-03  2.1e-01  -6.7e-01  -3.0e-01  -3.3e-03  3.2e+03  7.3e+02  1.0e+00\n",
      "a_society[7]     1.5e-01  2.9e-03  1.7e-01  -1.3e-01   1.4e-01   4.4e-01  3.5e+03  8.1e+02  1.0e+00\n",
      "a_society[8]    -1.7e-01  3.0e-03  1.8e-01  -4.9e-01  -1.6e-01   1.0e-01  3.7e+03  8.7e+02  1.0e+00\n",
      "a_society[9]     2.7e-01  3.2e-03  1.7e-01   1.6e-03   2.6e-01   5.7e-01  2.9e+03  6.8e+02  1.0e+00\n",
      "a_society[10]   -9.3e-02  5.6e-03  2.8e-01  -5.5e-01  -8.4e-02   3.5e-01  2.4e+03  5.6e+02  1.0e+00\n",
      "sigma_society    3.0e-01  2.9e-03  1.3e-01   1.4e-01   2.9e-01   5.3e-01  1.9e+03  4.4e+02  1.0e+00\n",
      "\n",
      "Samples were drawn using hmc with nuts.\n",
      "For each parameter, N_Eff is a crude measure of effective sample size,\n",
      "and R_hat is the potential scale reduction factor on split chains (at \n",
      "convergence, R_hat=1).\n",
      "\n"
     ]
    }
   ],
   "cell_type": "code",
   "source": [
    "rc, chn, cnames = stan(stanmodel, m12_6_1_data, ProjDir, diagnostics=false, CmdStanDir=CMDSTAN_HOME);"
   ],
   "metadata": {},
   "execution_count": 5
  },
  {
   "outputs": [],
   "cell_type": "markdown",
   "source": [
    "Describe the draws"
   ],
   "metadata": {}
  },
  {
   "outputs": [
    {
     "name": "stdout",
     "output_type": "stream",
     "text": [
      "Iterations = 1:2000\n",
      "Thinning interval = 1\n",
      "Chains = 1,2,3,4\n",
      "Samples per chain = 2000\n",
      "\n",
      "Empirical Posterior Estimates:\n",
      "                   Mean            SD         Naive SE       MCSE         ESS   \n",
      "         lp__  928.101898750  3.1083354479 0.03475224679 0.0793423249 1534.77925\n",
      "accept_stat__    0.941430719  0.0819585915 0.00091632491 0.0013628982 2000.00000\n",
      "   stepsize__    0.046786400  0.0041829256 0.00004676653 0.0004705865   79.00988\n",
      "  treedepth__    5.913875000  0.4449519436 0.00497471396 0.0115909908 1473.61860\n",
      " n_leapfrog__   74.475000000 33.7208913333 0.37701102642 0.8157237603 1708.88118\n",
      "  divergent__    0.000000000  0.0000000000 0.00000000000 0.0000000000        NaN\n",
      "     energy__ -921.638855000  4.0156429604 0.04489625316 0.0936420591 1838.94302\n",
      "            a    1.112384857  0.6988313916 0.00781317248 0.0127413710 2000.00000\n",
      "           bp    0.259945793  0.0757893428 0.00084735061 0.0013489914 2000.00000\n",
      "  a_society.1   -0.200470175  0.2376460349 0.00265696344 0.0035954955 2000.00000\n",
      "  a_society.2    0.040382722  0.2121761284 0.00237220123 0.0033696955 2000.00000\n",
      "  a_society.3   -0.047376713  0.1944041846 0.00217350486 0.0026469133 2000.00000\n",
      "  a_society.4    0.323530813  0.1893095556 0.00211654518 0.0032040160 2000.00000\n",
      "  a_society.5    0.042544410  0.1730344189 0.00193458362 0.0021216580 2000.00000\n",
      "  a_society.6   -0.315145827  0.2062241387 0.00230565596 0.0032983875 2000.00000\n",
      "  a_society.7    0.145951806  0.1746310190 0.00195243415 0.0025017743 2000.00000\n",
      "  a_society.8   -0.172198569  0.1820774679 0.00203568798 0.0025904525 2000.00000\n",
      "  a_society.9    0.269798213  0.1736738936 0.00194173316 0.0027429758 2000.00000\n",
      " a_society.10   -0.093194563  0.2770766103 0.00309781068 0.0046265438 2000.00000\n",
      "sigma_society    0.304933423  0.1252941154 0.00140083080 0.0028168582 1978.47868\n",
      "\n",
      "Quantiles:\n",
      "                   2.5%           25.0%         50.0%         75.0%         97.5%    \n",
      "         lp__  921.333425000  926.237750000  928.37150000  930.13600000  933.42400000\n",
      "accept_stat__    0.697300150    0.918749750    0.97566100    0.99612100    0.99997200\n",
      "   stepsize__    0.041232500    0.044045150    0.04667440    0.04941565    0.05256430\n",
      "  treedepth__    5.000000000    6.000000000    6.00000000    6.00000000    7.00000000\n",
      " n_leapfrog__   31.000000000   63.000000000   63.00000000   63.00000000  127.00000000\n",
      "  divergent__    0.000000000    0.000000000    0.00000000    0.00000000    0.00000000\n",
      "     energy__ -928.780125000 -924.365000000 -921.89700000 -919.20850000 -912.87877500\n",
      "            a   -0.296788950    0.690488500    1.11890000    1.53897750    2.44951100\n",
      "           bp    0.114081775    0.214200750    0.25937600    0.30554450    0.41663332\n",
      "  a_society.1   -0.709322275   -0.338416500   -0.18200700   -0.04209000    0.22698280\n",
      "  a_society.2   -0.375882600   -0.090022950    0.03407635    0.16922200    0.48326147\n",
      "  a_society.3   -0.431196475   -0.171864750   -0.04680020    0.07857400    0.32698575\n",
      "  a_society.4   -0.018610525    0.192902750    0.31581650    0.44563775    0.72398270\n",
      "  a_society.5   -0.290186925   -0.065049425    0.03706210    0.15127875    0.39483832\n",
      "  a_society.6   -0.752486550   -0.449587500   -0.30105200   -0.16849825    0.04876927\n",
      "  a_society.7   -0.190281575    0.029741525    0.14138150    0.25826175    0.50442030\n",
      "  a_society.8   -0.559387350   -0.284215750   -0.16449150   -0.04842215    0.16375000\n",
      "  a_society.9   -0.047395412    0.151902750    0.26309050    0.37836075    0.62874965\n",
      " a_society.10   -0.684308050   -0.252988750   -0.08420575    0.06765833    0.46380507\n",
      "sigma_society    0.107056925    0.219573750    0.28683650    0.36988125    0.59966020\n",
      "\n"
     ]
    }
   ],
   "cell_type": "code",
   "source": [
    "describe(chn)"
   ],
   "metadata": {},
   "execution_count": 6
  },
  {
   "outputs": [],
   "cell_type": "markdown",
   "source": [
    "*This notebook was generated using [Literate.jl](https://github.com/fredrikekre/Literate.jl).*"
   ],
   "metadata": {}
  }
 ],
 "nbformat_minor": 3,
 "metadata": {
  "language_info": {
   "file_extension": ".jl",
   "mimetype": "application/julia",
   "name": "julia",
   "version": "1.2.0-DEV.226"
  },
  "kernelspec": {
   "name": "julia-1.2",
   "display_name": "Julia 1.2.0-DEV.226",
   "language": "julia"
  }
 },
 "nbformat": 4
}
