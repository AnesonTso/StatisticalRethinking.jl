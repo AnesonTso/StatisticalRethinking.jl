{
 "cells": [
  {
   "outputs": [
    {
     "output_type": "execute_result",
     "data": {
      "text/plain": "(10, 5)"
     },
     "metadata": {},
     "execution_count": 1
    }
   ],
   "cell_type": "code",
   "source": [
    "using StatisticalRethinking\n",
    "using CmdStan, StanMCMCChain\n",
    "\n",
    "ProjDir = rel_path(\"..\", \"scripts\", \"12\")\n",
    "\n",
    "d = CSV.read(rel_path( \"..\", \"data\",  \"Kline.csv\"), delim=';');\n",
    "size(d) # Should be 10x5"
   ],
   "metadata": {},
   "execution_count": 1
  },
  {
   "outputs": [],
   "cell_type": "markdown",
   "source": [
    "New col logpop, set log() for population data"
   ],
   "metadata": {}
  },
  {
   "outputs": [],
   "cell_type": "code",
   "source": [
    "d[:logpop] = map((x) -> log(x), d[:population]);\n",
    "d[:society] = 1:10;\n",
    "\n",
    "first(d, 5)\n",
    "\n",
    "m12_6_1 = \"\n",
    "data{\n",
    "    int total_tools[10];\n",
    "    real logpop[10];\n",
    "    int society[10];\n",
    "}\n",
    "parameters{\n",
    "    real a;\n",
    "    real bp;\n",
    "    vector[10] a_society;\n",
    "    real<lower=0> sigma_society;\n",
    "}\n",
    "model{\n",
    "    vector[10] mu;\n",
    "    sigma_society ~ cauchy( 0 , 1 );\n",
    "    a_society ~ normal( 0 , sigma_society );\n",
    "    bp ~ normal( 0 , 1 );\n",
    "    a ~ normal( 0 , 10 );\n",
    "    for ( i in 1:10 ) {\n",
    "        mu[i] = a + a_society[society[i]] + bp * logpop[i];\n",
    "        mu[i] = exp(mu[i]);\n",
    "    }\n",
    "    total_tools ~ poisson( mu );\n",
    "}\n",
    "\";"
   ],
   "metadata": {},
   "execution_count": 2
  },
  {
   "outputs": [],
   "cell_type": "markdown",
   "source": [
    "Define the Stanmodel and set the output format to :mcmcchain."
   ],
   "metadata": {}
  },
  {
   "outputs": [
    {
     "name": "stdout",
     "output_type": "stream",
     "text": [
      "\n",
      "File /Users/rob/.julia/dev/StatisticalRethinking/notebooks/12/tmp/m12.6.1.stan will be updated.\n",
      "\n"
     ]
    }
   ],
   "cell_type": "code",
   "source": [
    "stanmodel = Stanmodel(name=\"m12.6.1\",  model=m12_6_1, num_warmup=2000,\n",
    "num_samples=2000, output_format=:mcmcchain);"
   ],
   "metadata": {},
   "execution_count": 3
  },
  {
   "outputs": [],
   "cell_type": "markdown",
   "source": [
    "Input data for cmdstan"
   ],
   "metadata": {}
  },
  {
   "outputs": [],
   "cell_type": "code",
   "source": [
    "m12_6_1_data = Dict(\"total_tools\" => d[:total_tools], \"logpop\" => d[:logpop], \"society\" => d[:society]);"
   ],
   "metadata": {},
   "execution_count": 4
  },
  {
   "outputs": [],
   "cell_type": "markdown",
   "source": [
    "Sample using cmdstan"
   ],
   "metadata": {}
  },
  {
   "outputs": [
    {
     "name": "stdout",
     "output_type": "stream",
     "text": [
      "Informational Message: The current Metropolis proposal is about to be rejected because of the following issue:\n",
      "Exception: normal_lpdf: Scale parameter is 0, but must be > 0!  (in '/Users/rob/.julia/dev/StatisticalRethinking/notebooks/12/tmp/m12.6.1.stan' at line 15)\n",
      "\n",
      "If this warning occurs sporadically, such as for highly constrained variable types like covariance matrices, then the sampler is fine,\n",
      "but if this warning occurs often then your model may be either severely ill-conditioned or misspecified.\n",
      "\n",
      "\n",
      "Inference for Stan model: m12_6_1_model\n",
      "4 chains: each with iter=(2000,2000,2000,2000); warmup=(0,0,0,0); thin=(1,1,1,1); 8000 iterations saved.\n",
      "\n",
      "Warmup took (0.98, 0.97, 0.94, 0.98) seconds, 3.9 seconds total\n",
      "Sampling took (1.00, 1.1, 1.0, 1.1) seconds, 4.2 seconds total\n",
      "\n",
      "                    Mean     MCSE   StdDev        5%       50%       95%    N_Eff  N_Eff/s    R_hat\n",
      "lp__             9.3e+02  1.4e-01  3.4e+00   9.2e+02   9.3e+02   9.3e+02  5.6e+02  1.3e+02  1.0e+00\n",
      "accept_stat__    9.4e-01  1.9e-03  8.7e-02   7.6e-01   9.8e-01   1.0e+00  2.1e+03  5.0e+02  1.0e+00\n",
      "stepsize__       4.8e-02  2.6e-03  3.7e-03   4.3e-02   5.1e-02   5.3e-02  2.0e+00  4.7e-01  2.2e+13\n",
      "treedepth__      5.9e+00  2.5e-02  4.7e-01   5.0e+00   6.0e+00   6.0e+00  3.5e+02  8.3e+01  1.0e+00\n",
      "n_leapfrog__     7.3e+01  1.7e+00  3.4e+01   3.1e+01   6.3e+01   1.3e+02  4.1e+02  9.7e+01  1.0e+00\n",
      "divergent__      1.3e-04      nan  1.1e-02   0.0e+00   0.0e+00   0.0e+00      nan      nan  1.0e+00\n",
      "energy__        -9.2e+02  1.6e-01  4.3e+00  -9.3e+02  -9.2e+02  -9.1e+02  7.5e+02  1.8e+02  1.0e+00\n",
      "a                1.1e+00  1.6e-02  7.4e-01  -1.7e-01   1.1e+00   2.3e+00  2.3e+03  5.4e+02  1.0e+00\n",
      "bp               2.6e-01  1.7e-03  8.0e-02   1.3e-01   2.6e-01   4.0e-01  2.3e+03  5.4e+02  1.0e+00\n",
      "a_society[1]    -2.0e-01  4.2e-03  2.4e-01  -6.2e-01  -1.9e-01   1.7e-01  3.4e+03  8.1e+02  1.0e+00\n",
      "a_society[2]     4.9e-02  3.8e-03  2.2e-01  -3.1e-01   4.1e-02   4.3e-01  3.5e+03  8.3e+02  1.0e+00\n",
      "a_society[3]    -4.5e-02  3.2e-03  1.9e-01  -3.6e-01  -4.2e-02   2.7e-01  3.6e+03  8.4e+02  1.0e+00\n",
      "a_society[4]     3.3e-01  4.1e-03  1.9e-01   1.9e-02   3.2e-01   6.6e-01  2.1e+03  5.0e+02  1.0e+00\n",
      "a_society[5]     4.4e-02  2.9e-03  1.8e-01  -2.4e-01   4.2e-02   3.4e-01  3.9e+03  9.3e+02  1.0e+00\n",
      "a_society[6]    -3.2e-01  3.8e-03  2.1e-01  -6.9e-01  -3.0e-01  -6.5e-03  3.0e+03  7.1e+02  1.0e+00\n",
      "a_society[7]     1.5e-01  2.9e-03  1.7e-01  -1.2e-01   1.4e-01   4.4e-01  3.6e+03  8.5e+02  1.0e+00\n",
      "a_society[8]    -1.7e-01  3.0e-03  1.8e-01  -4.8e-01  -1.6e-01   1.1e-01  3.6e+03  8.5e+02  1.0e+00\n",
      "a_society[9]     2.7e-01  3.3e-03  1.8e-01   5.2e-04   2.7e-01   5.7e-01  2.9e+03  6.8e+02  1.0e+00\n",
      "a_society[10]   -9.8e-02  5.7e-03  2.9e-01  -5.7e-01  -9.3e-02   3.6e-01  2.5e+03  5.9e+02  1.0e+00\n",
      "sigma_society    3.1e-01  3.4e-03  1.3e-01   1.4e-01   2.9e-01   5.5e-01  1.4e+03  3.4e+02  1.0e+00\n",
      "\n",
      "Samples were drawn using hmc with nuts.\n",
      "For each parameter, N_Eff is a crude measure of effective sample size,\n",
      "and R_hat is the potential scale reduction factor on split chains (at \n",
      "convergence, R_hat=1).\n",
      "\n"
     ]
    }
   ],
   "cell_type": "code",
   "source": [
    "rc, chn, cnames = stan(stanmodel, m12_6_1_data, ProjDir, diagnostics=false, CmdStanDir=CMDSTAN_HOME);"
   ],
   "metadata": {},
   "execution_count": 5
  },
  {
   "outputs": [],
   "cell_type": "markdown",
   "source": [
    "Describe the draws"
   ],
   "metadata": {}
  },
  {
   "outputs": [
    {
     "name": "stdout",
     "output_type": "stream",
     "text": [
      "Iterations = 1:2000\n",
      "Thinning interval = 1\n",
      "Chains = 1,2,3,4\n",
      "Samples per chain = 2000\n",
      "\n",
      "Empirical Posterior Estimates:\n",
      "                   Mean            SD         Naive SE        MCSE         ESS   \n",
      "         lp__  927.977447875  3.4281564286 0.03832795406 0.12191005562  790.75547\n",
      "accept_stat__    0.939004511  0.0866305771 0.00096855930 0.00191284149 2000.00000\n",
      "   stepsize__    0.048379200  0.0037257265 0.00004165489 0.00041915078   79.00988\n",
      "  treedepth__    5.901000000  0.4711440832 0.00526755099 0.01587689987  880.59471\n",
      " n_leapfrog__   73.373750000 33.6632360687 0.37636642096 0.80696647098 1740.20633\n",
      "  divergent__    0.000125000  0.0111803399 0.00012500000 0.00012500000 2000.00000\n",
      "     energy__ -921.457912625  4.2642237808 0.04767547123 0.13411257382 1010.97631\n",
      "            a    1.087184609  0.7444713801 0.00832344307 0.01422523707 2000.00000\n",
      "           bp    0.262354774  0.0804773193 0.00089976378 0.00152282005 2000.00000\n",
      "  a_society.1   -0.201493528  0.2448623890 0.00273764473 0.00433550062 2000.00000\n",
      "  a_society.2    0.049012040  0.2223239575 0.00248565741 0.00358803666 2000.00000\n",
      "  a_society.3   -0.045447115  0.1931881020 0.00215990864 0.00313102359 2000.00000\n",
      "  a_society.4    0.329592804  0.1912739898 0.00213850822 0.00370851263 2000.00000\n",
      "  a_society.5    0.043851062  0.1793953163 0.00200570061 0.00252529530 2000.00000\n",
      "  a_society.6   -0.317269740  0.2087898146 0.00233434109 0.00370773775 2000.00000\n",
      "  a_society.7    0.145428883  0.1730863399 0.00193516411 0.00275517089 2000.00000\n",
      "  a_society.8   -0.170513522  0.1796953396 0.00200905497 0.00313178381 2000.00000\n",
      "  a_society.9    0.273505789  0.1752179724 0.00195899649 0.00307784520 2000.00000\n",
      " a_society.10   -0.098353451  0.2860820568 0.00319849463 0.00509142243 2000.00000\n",
      "sigma_society    0.311249109  0.1295489127 0.00144840088 0.00317857577 1661.12536\n",
      "\n",
      "Quantiles:\n",
      "                   2.5%           25.0%         50.0%          75.0%         97.5%    \n",
      "         lp__  921.132775000  926.022750000  928.19450000  930.101500000  933.28637500\n",
      "accept_stat__    0.695847600    0.914089750    0.97553050    0.996114000    0.99997200\n",
      "   stepsize__    0.043341600    0.045629175    0.04870675    0.051456775    0.05276170\n",
      "  treedepth__    5.000000000    6.000000000    6.00000000    6.000000000    7.00000000\n",
      " n_leapfrog__   31.000000000   63.000000000   63.00000000   63.000000000  127.00000000\n",
      "  divergent__    0.000000000    0.000000000    0.00000000    0.000000000    0.00000000\n",
      "     energy__ -928.552025000 -924.208750000 -921.69900000 -918.825750000 -912.62865000\n",
      "            a   -0.469606825    0.644382250    1.10784000    1.554730000    2.54487475\n",
      "           bp    0.102921075    0.212195750    0.25980450    0.309658500    0.43259082\n",
      "  a_society.1   -0.724850325   -0.348406250   -0.18633300   -0.041312700    0.24078425\n",
      "  a_society.2   -0.381880450   -0.090751225    0.04127025    0.186409000    0.50945710\n",
      "  a_society.3   -0.434335900   -0.163845000   -0.04220110    0.076861000    0.33294065\n",
      "  a_society.4   -0.017705227    0.198842500    0.32166050    0.450550000    0.72331697\n",
      "  a_society.5   -0.314195075   -0.072259900    0.04187860    0.157674500    0.39711735\n",
      "  a_society.6   -0.767958800   -0.444818500   -0.30285500   -0.166069500    0.03745558\n",
      "  a_society.7   -0.180604050    0.028705675    0.13738750    0.256080500    0.50714257\n",
      "  a_society.8   -0.544463125   -0.285876250   -0.16480350   -0.046584500    0.16721510\n",
      "  a_society.9   -0.047901727    0.153751500    0.26707750    0.385666750    0.63255102\n",
      " a_society.10   -0.697623975   -0.263803500   -0.09313110    0.068470475    0.46946482\n",
      "sigma_society    0.112307800    0.224088000    0.29118850    0.377457500    0.61843992\n",
      "\n"
     ]
    }
   ],
   "cell_type": "code",
   "source": [
    "describe(chn)"
   ],
   "metadata": {},
   "execution_count": 6
  },
  {
   "outputs": [],
   "cell_type": "markdown",
   "source": [
    "*This notebook was generated using [Literate.jl](https://github.com/fredrikekre/Literate.jl).*"
   ],
   "metadata": {}
  }
 ],
 "nbformat_minor": 3,
 "metadata": {
  "language_info": {
   "file_extension": ".jl",
   "mimetype": "application/julia",
   "name": "julia",
   "version": "1.2.0-DEV.234"
  },
  "kernelspec": {
   "name": "julia-1.2",
   "display_name": "Julia 1.2.0-DEV.234",
   "language": "julia"
  }
 },
 "nbformat": 4
}
