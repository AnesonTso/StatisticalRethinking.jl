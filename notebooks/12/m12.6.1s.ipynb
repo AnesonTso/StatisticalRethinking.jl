{
 "cells": [
  {
   "outputs": [
    {
     "output_type": "execute_result",
     "data": {
      "text/plain": "(10, 5)"
     },
     "metadata": {},
     "execution_count": 1
    }
   ],
   "cell_type": "code",
   "source": [
    "using StatisticalRethinking\n",
    "using CmdStan, StanMCMCChain\n",
    "\n",
    "ProjDir = rel_path(\"..\", \"scripts\", \"12\")\n",
    "\n",
    "d = CSV.read(rel_path( \"..\", \"data\",  \"Kline.csv\"), delim=';');\n",
    "size(d) # Should be 10x5"
   ],
   "metadata": {},
   "execution_count": 1
  },
  {
   "outputs": [],
   "cell_type": "markdown",
   "source": [
    "New col logpop, set log() for population data"
   ],
   "metadata": {}
  },
  {
   "outputs": [],
   "cell_type": "code",
   "source": [
    "d[:logpop] = map((x) -> log(x), d[:population]);\n",
    "d[:society] = 1:10;\n",
    "\n",
    "first(d, 5)\n",
    "\n",
    "m12_6_1 = \"\n",
    "data{\n",
    "    int total_tools[10];\n",
    "    real logpop[10];\n",
    "    int society[10];\n",
    "}\n",
    "parameters{\n",
    "    real a;\n",
    "    real bp;\n",
    "    vector[10] a_society;\n",
    "    real<lower=0> sigma_society;\n",
    "}\n",
    "model{\n",
    "    vector[10] mu;\n",
    "    sigma_society ~ cauchy( 0 , 1 );\n",
    "    a_society ~ normal( 0 , sigma_society );\n",
    "    bp ~ normal( 0 , 1 );\n",
    "    a ~ normal( 0 , 10 );\n",
    "    for ( i in 1:10 ) {\n",
    "        mu[i] = a + a_society[society[i]] + bp * logpop[i];\n",
    "        mu[i] = exp(mu[i]);\n",
    "    }\n",
    "    total_tools ~ poisson( mu );\n",
    "}\n",
    "\";"
   ],
   "metadata": {},
   "execution_count": 2
  },
  {
   "outputs": [],
   "cell_type": "markdown",
   "source": [
    "Define the Stanmodel and set the output format to :mcmcchain."
   ],
   "metadata": {}
  },
  {
   "outputs": [
    {
     "name": "stdout",
     "output_type": "stream",
     "text": [
      "=====> /Users/rob/.julia/dev/StatisticalRethinking/notebooks/12\n",
      "\n"
     ]
    }
   ],
   "cell_type": "code",
   "source": [
    "stanmodel = Stanmodel(name=\"m12.6.1\",  model=m12_6_1, num_warmup=2000,\n",
    "num_samples=2000, output_format=:mcmcchain);"
   ],
   "metadata": {},
   "execution_count": 3
  },
  {
   "outputs": [],
   "cell_type": "markdown",
   "source": [
    "Input data for cmdstan"
   ],
   "metadata": {}
  },
  {
   "outputs": [],
   "cell_type": "code",
   "source": [
    "m12_6_1_data = Dict(\"total_tools\" => d[:total_tools], \"logpop\" => d[:logpop], \"society\" => d[:society]);"
   ],
   "metadata": {},
   "execution_count": 4
  },
  {
   "outputs": [],
   "cell_type": "markdown",
   "source": [
    "Sample using cmdstan"
   ],
   "metadata": {}
  },
  {
   "outputs": [
    {
     "name": "stdout",
     "output_type": "stream",
     "text": [
      "\n",
      "make: `/Users/rob/.julia/dev/StatisticalRethinking/notebooks/12/tmp/m12.6.1' is up to date.\n",
      "Informational Message: The current Metropolis proposal is about to be rejected because of the following issue:\n",
      "Exception: normal_lpdf: Scale parameter is 0, but must be > 0!  (in '/Users/rob/.julia/dev/StatisticalRethinking/notebooks/12/tmp/m12.6.1.stan' at line 15)\n",
      "\n",
      "If this warning occurs sporadically, such as for highly constrained variable types like covariance matrices, then the sampler is fine,\n",
      "but if this warning occurs often then your model may be either severely ill-conditioned or misspecified.\n",
      "\n",
      "\n",
      "Calling /Users/rob/Projects/StanSupport/cmdstan/bin/stansummary to infer across chains.\n",
      "\n",
      "Inference for Stan model: m12_6_1_model\n",
      "4 chains: each with iter=(2000,2000,2000,2000); warmup=(0,0,0,0); thin=(1,1,1,1); 8000 iterations saved.\n",
      "\n",
      "Warmup took (0.99, 1.0, 0.95, 1.0) seconds, 4.0 seconds total\n",
      "Sampling took (1.1, 1.1, 1.0, 1.2) seconds, 4.4 seconds total\n",
      "\n",
      "                    Mean     MCSE   StdDev        5%       50%       95%    N_Eff  N_Eff/s    R_hat\n",
      "lp__             9.3e+02  6.6e-02  3.0e+00   9.2e+02   9.3e+02   9.3e+02  2.0e+03  4.6e+02  1.0e+00\n",
      "accept_stat__    9.5e-01  7.7e-04  7.3e-02   7.9e-01   9.8e-01   1.0e+00  8.9e+03  2.0e+03  1.0e+00\n",
      "stepsize__       4.6e-02  6.6e-04  9.3e-04   4.5e-02   4.7e-02   4.7e-02  2.0e+00  4.6e-01  6.3e+12\n",
      "treedepth__      5.9e+00  1.1e-02  4.3e-01   5.0e+00   6.0e+00   7.0e+00  1.4e+03  3.2e+02  1.0e+00\n",
      "n_leapfrog__     7.6e+01  1.4e+00  3.6e+01   3.1e+01   6.3e+01   1.3e+02  6.8e+02  1.6e+02  1.0e+00\n",
      "divergent__      0.0e+00      nan  0.0e+00   0.0e+00   0.0e+00   0.0e+00      nan      nan      nan\n",
      "energy__        -9.2e+02  8.5e-02  3.9e+00  -9.3e+02  -9.2e+02  -9.1e+02  2.1e+03  4.8e+02  1.0e+00\n",
      "a                1.1e+00  1.5e-02  7.2e-01  -1.1e-01   1.1e+00   2.2e+00  2.3e+03  5.2e+02  1.0e+00\n",
      "bp               2.6e-01  1.7e-03  7.8e-02   1.4e-01   2.6e-01   3.9e-01  2.2e+03  5.1e+02  1.0e+00\n",
      "a_society[1]    -2.0e-01  3.8e-03  2.4e-01  -6.1e-01  -1.9e-01   1.7e-01  3.9e+03  9.0e+02  1.0e+00\n",
      "a_society[2]     4.8e-02  3.4e-03  2.1e-01  -3.0e-01   4.3e-02   4.1e-01  4.0e+03  9.1e+02  1.0e+00\n",
      "a_society[3]    -4.3e-02  2.9e-03  1.9e-01  -3.6e-01  -4.3e-02   2.7e-01  4.3e+03  9.9e+02  1.0e+00\n",
      "a_society[4]     3.3e-01  3.4e-03  1.9e-01   4.0e-02   3.2e-01   6.5e-01  3.0e+03  6.9e+02  1.0e+00\n",
      "a_society[5]     4.3e-02  2.6e-03  1.7e-01  -2.3e-01   4.1e-02   3.3e-01  4.2e+03  9.5e+02  1.0e+00\n",
      "a_society[6]    -3.2e-01  3.1e-03  2.0e-01  -6.7e-01  -3.1e-01  -4.0e-03  4.5e+03  1.0e+03  1.0e+00\n",
      "a_society[7]     1.5e-01  2.7e-03  1.7e-01  -1.2e-01   1.4e-01   4.4e-01  4.1e+03  9.3e+02  1.0e+00\n",
      "a_society[8]    -1.7e-01  2.9e-03  1.9e-01  -4.9e-01  -1.7e-01   1.2e-01  4.2e+03  9.6e+02  1.0e+00\n",
      "a_society[9]     2.7e-01  3.2e-03  1.7e-01   9.0e-03   2.7e-01   5.7e-01  3.0e+03  6.9e+02  1.0e+00\n",
      "a_society[10]   -9.9e-02  5.9e-03  2.8e-01  -5.7e-01  -9.2e-02   3.5e-01  2.3e+03  5.3e+02  1.0e+00\n",
      "sigma_society    3.1e-01  2.5e-03  1.2e-01   1.5e-01   2.9e-01   5.4e-01  2.4e+03  5.5e+02  1.0e+00\n",
      "\n",
      "Samples were drawn using hmc with nuts.\n",
      "For each parameter, N_Eff is a crude measure of effective sample size,\n",
      "and R_hat is the potential scale reduction factor on split chains (at \n",
      "convergence, R_hat=1).\n",
      "\n"
     ]
    }
   ],
   "cell_type": "code",
   "source": [
    "rc, chn, cnames = stan(stanmodel, m12_6_1_data, ProjDir, diagnostics=false, CmdStanDir=CMDSTAN_HOME);"
   ],
   "metadata": {},
   "execution_count": 5
  },
  {
   "outputs": [],
   "cell_type": "markdown",
   "source": [
    "Describe the draws"
   ],
   "metadata": {}
  },
  {
   "outputs": [
    {
     "name": "stdout",
     "output_type": "stream",
     "text": [
      "Iterations = 1:2000\n",
      "Thinning interval = 1\n",
      "Chains = 1,2,3,4\n",
      "Samples per chain = 2000\n",
      "\n",
      "Empirical Posterior Estimates:\n",
      "                   Mean            SD         Naive SE         MCSE         ESS   \n",
      "         lp__  927.941804500  2.9891070874 0.033419233197 0.06475468875 2000.00000\n",
      "accept_stat__    0.948571493  0.0730805694 0.000817065605 0.00089282191 2000.00000\n",
      "   stepsize__    0.046459325  0.0009336965 0.000010439044 0.00010504250   79.00988\n",
      "  treedepth__    5.932625000  0.4284956948 0.004790727508 0.00997107169 1846.75485\n",
      " n_leapfrog__   75.522000000 35.8753452394 0.401098553358 0.81170048102 1953.44223\n",
      "  divergent__    0.000000000  0.0000000000 0.000000000000 0.00000000000        NaN\n",
      "     energy__ -921.491471500  3.9119055434 0.043736433583 0.08094800048 2000.00000\n",
      "            a    1.090562843  0.7197391165 0.008046927952 0.01248853286 2000.00000\n",
      "           bp    0.262065123  0.0784325928 0.000876903045 0.00137570016 2000.00000\n",
      "  a_society.1   -0.200181175  0.2379586211 0.002660458263 0.00336429700 2000.00000\n",
      "  a_society.2    0.048042518  0.2146116523 0.002399431217 0.00318737552 2000.00000\n",
      "  a_society.3   -0.042789531  0.1911634566 0.002137272419 0.00289449508 2000.00000\n",
      "  a_society.4    0.329559419  0.1863083592 0.002082990779 0.00306493233 2000.00000\n",
      "  a_society.5    0.043330997  0.1705480721 0.001906785413 0.00278202445 2000.00000\n",
      "  a_society.6   -0.318230668  0.2045025743 0.002286408289 0.00303622725 2000.00000\n",
      "  a_society.7    0.147684905  0.1707163864 0.001908667224 0.00249935285 2000.00000\n",
      "  a_society.8   -0.174580311  0.1852266306 0.002070896686 0.00276233498 2000.00000\n",
      "  a_society.9    0.274715907  0.1734067946 0.001938746903 0.00285272197 2000.00000\n",
      " a_society.10   -0.098665780  0.2838425645 0.003173456346 0.00513994327 2000.00000\n",
      "sigma_society    0.309671219  0.1228079077 0.001373034148 0.00242514674 2000.00000\n",
      "\n",
      "Quantiles:\n",
      "                   2.5%           25.0%         50.0%          75.0%          97.5%    \n",
      "         lp__  921.409875000  926.104000000  928.20850000  930.048000000  932.943050000\n",
      "accept_stat__    0.738259675    0.930436500    0.97976500    0.997081250    0.999974000\n",
      "   stepsize__    0.044879000    0.046226675    0.04686905    0.047101700    0.047220200\n",
      "  treedepth__    5.000000000    6.000000000    6.00000000    6.000000000    7.000000000\n",
      " n_leapfrog__   31.000000000   63.000000000   63.00000000   63.000000000  127.000000000\n",
      "  divergent__    0.000000000    0.000000000    0.00000000    0.000000000    0.000000000\n",
      "     energy__ -928.110025000 -924.248500000 -921.79600000 -919.078500000 -912.968875000\n",
      "            a   -0.410929000    0.662851750    1.10974500    1.530085000    2.481664500\n",
      "           bp    0.107247850    0.214496250    0.26029150    0.306757000    0.425052275\n",
      "  a_society.1   -0.712585375   -0.344839500   -0.18531150   -0.045342150    0.243288475\n",
      "  a_society.2   -0.366310200   -0.086453225    0.04318090    0.179365500    0.488635600\n",
      "  a_society.3   -0.422625625   -0.164911000   -0.04310880    0.080979375    0.336815050\n",
      "  a_society.4   -0.016338657    0.202242750    0.32160300    0.448320500    0.719939400\n",
      "  a_society.5   -0.290312600   -0.065960650    0.04115270    0.150527000    0.389489800\n",
      "  a_society.6   -0.744230225   -0.447261250   -0.30797700   -0.172559500    0.044461982\n",
      "  a_society.7   -0.175738600    0.035417625    0.13987500    0.256056500    0.499471250\n",
      "  a_society.8   -0.565039500   -0.289261750   -0.16697950   -0.050131325    0.172910350\n",
      "  a_society.9   -0.042894957    0.154079500    0.26810050    0.384983000    0.637778550\n",
      " a_society.10   -0.699295550   -0.261153500   -0.09209790    0.067702875    0.471905025\n",
      "sigma_society    0.121530925    0.224914500    0.29049000    0.374024500    0.611504200\n",
      "\n"
     ]
    }
   ],
   "cell_type": "code",
   "source": [
    "describe(chn)"
   ],
   "metadata": {},
   "execution_count": 6
  },
  {
   "outputs": [],
   "cell_type": "markdown",
   "source": [
    "*This notebook was generated using [Literate.jl](https://github.com/fredrikekre/Literate.jl).*"
   ],
   "metadata": {}
  }
 ],
 "nbformat_minor": 3,
 "metadata": {
  "language_info": {
   "file_extension": ".jl",
   "mimetype": "application/julia",
   "name": "julia",
   "version": "1.2.0-DEV.219"
  },
  "kernelspec": {
   "name": "julia-1.2",
   "display_name": "Julia 1.2.0-DEV.219",
   "language": "julia"
  }
 },
 "nbformat": 4
}
