{
 "cells": [
  {
   "outputs": [
    {
     "output_type": "execute_result",
     "data": {
      "text/plain": "(10, 5)"
     },
     "metadata": {},
     "execution_count": 1
    }
   ],
   "cell_type": "code",
   "source": [
    "using StatisticalRethinking\n",
    "using CmdStan, StanMCMCChain\n",
    "\n",
    "ProjDir = rel_path(\"..\", \"scripts\", \"12\")\n",
    "\n",
    "d = CSV.read(rel_path( \"..\", \"data\",  \"Kline.csv\"), delim=';');\n",
    "size(d) # Should be 10x5"
   ],
   "metadata": {},
   "execution_count": 1
  },
  {
   "outputs": [],
   "cell_type": "markdown",
   "source": [
    "New col logpop, set log() for population data"
   ],
   "metadata": {}
  },
  {
   "outputs": [],
   "cell_type": "code",
   "source": [
    "d[:logpop] = map((x) -> log(x), d[:population]);\n",
    "d[:society] = 1:10;\n",
    "\n",
    "first(d, 5)\n",
    "\n",
    "m12_6_1 = \"\n",
    "data{\n",
    "    int total_tools[10];\n",
    "    real logpop[10];\n",
    "    int society[10];\n",
    "}\n",
    "parameters{\n",
    "    real a;\n",
    "    real bp;\n",
    "    vector[10] a_society;\n",
    "    real<lower=0> sigma_society;\n",
    "}\n",
    "model{\n",
    "    vector[10] mu;\n",
    "    sigma_society ~ cauchy( 0 , 1 );\n",
    "    a_society ~ normal( 0 , sigma_society );\n",
    "    bp ~ normal( 0 , 1 );\n",
    "    a ~ normal( 0 , 10 );\n",
    "    for ( i in 1:10 ) {\n",
    "        mu[i] = a + a_society[society[i]] + bp * logpop[i];\n",
    "        mu[i] = exp(mu[i]);\n",
    "    }\n",
    "    total_tools ~ poisson( mu );\n",
    "}\n",
    "\";"
   ],
   "metadata": {},
   "execution_count": 2
  },
  {
   "outputs": [],
   "cell_type": "markdown",
   "source": [
    "Define the Stanmodel and set the output format to :mcmcchain."
   ],
   "metadata": {}
  },
  {
   "outputs": [
    {
     "name": "stdout",
     "output_type": "stream",
     "text": [
      "=====> /Users/rob/.julia/dev/StatisticalRethinking/notebooks/12\n",
      "\n",
      "\n",
      "File /Users/rob/.julia/dev/StatisticalRethinking/notebooks/12/tmp/m12.6.1.stan will be updated.\n",
      "\n"
     ]
    }
   ],
   "cell_type": "code",
   "source": [
    "stanmodel = Stanmodel(name=\"m12.6.1\",  model=m12_6_1, num_warmup=2000,\n",
    "num_samples=2000, output_format=:mcmcchain);"
   ],
   "metadata": {},
   "execution_count": 3
  },
  {
   "outputs": [],
   "cell_type": "markdown",
   "source": [
    "Input data for cmdstan"
   ],
   "metadata": {}
  },
  {
   "outputs": [],
   "cell_type": "code",
   "source": [
    "m12_6_1_data = Dict(\"total_tools\" => d[:total_tools], \"logpop\" => d[:logpop], \"society\" => d[:society]);"
   ],
   "metadata": {},
   "execution_count": 4
  },
  {
   "outputs": [],
   "cell_type": "markdown",
   "source": [
    "Sample using cmdstan"
   ],
   "metadata": {}
  },
  {
   "outputs": [
    {
     "name": "stdout",
     "output_type": "stream",
     "text": [
      "\n",
      "\n",
      "--- Translating Stan model to C++ code ---\n",
      "bin/stanc  --o=/Users/rob/.julia/dev/StatisticalRethinking/notebooks/12/tmp/m12.6.1.hpp /Users/rob/.julia/dev/StatisticalRethinking/notebooks/12/tmp/m12.6.1.stan\n",
      "Model name=m12_6_1_model\n",
      "Input file=/Users/rob/.julia/dev/StatisticalRethinking/notebooks/12/tmp/m12.6.1.stan\n",
      "Output file=/Users/rob/.julia/dev/StatisticalRethinking/notebooks/12/tmp/m12.6.1.hpp\n",
      "clang++ -std=c++1y -Wno-unknown-warning-option -Wno-tautological-compare -Wno-sign-compare      -O3 -I src -I stan/src -I stan/lib/stan_math/ -I stan/lib/stan_math/lib/eigen_3.3.3 -I stan/lib/stan_math/lib/boost_1.66.0 -I stan/lib/stan_math/lib/sundials_3.1.0/include    -DBOOST_RESULT_OF_USE_TR1 -DBOOST_NO_DECLTYPE -DBOOST_DISABLE_ASSERTS -DBOOST_PHOENIX_NO_VARIADIC_EXPRESSION     -c -MT /Users/rob/.julia/dev/StatisticalRethinking/notebooks/12/tmp/m12.6.1.o -MT /Users/rob/.julia/dev/StatisticalRethinking/notebooks/12/tmp/m12.6.1 -include /Users/rob/.julia/dev/StatisticalRethinking/notebooks/12/tmp/m12.6.1.hpp -include src/cmdstan/main.cpp -MM -E -MG -MP -MF /Users/rob/.julia/dev/StatisticalRethinking/notebooks/12/tmp/m12.6.1.d /Users/rob/.julia/dev/StatisticalRethinking/notebooks/12/tmp/m12.6.1.hpp\n",
      "\n",
      "--- Linking C++ model ---\n",
      "clang++ -std=c++1y -Wno-unknown-warning-option -Wno-tautological-compare -Wno-sign-compare      -O3 -I src -I stan/src -I stan/lib/stan_math/ -I stan/lib/stan_math/lib/eigen_3.3.3 -I stan/lib/stan_math/lib/boost_1.66.0 -I stan/lib/stan_math/lib/sundials_3.1.0/include    -DBOOST_RESULT_OF_USE_TR1 -DBOOST_NO_DECLTYPE -DBOOST_DISABLE_ASSERTS -DBOOST_PHOENIX_NO_VARIADIC_EXPRESSION            -include-pch stan/src/stan/model/model_header.hpp.gch -include /Users/rob/.julia/dev/StatisticalRethinking/notebooks/12/tmp/m12.6.1.hpp src/cmdstan/main.cpp        stan/lib/stan_math/lib/sundials_3.1.0/lib/libsundials_nvecserial.a stan/lib/stan_math/lib/sundials_3.1.0/lib/libsundials_cvodes.a stan/lib/stan_math/lib/sundials_3.1.0/lib/libsundials_idas.a  -o /Users/rob/.julia/dev/StatisticalRethinking/notebooks/12/tmp/m12.6.1\n",
      "Informational Message: The current Metropolis proposal is about to be rejected because of the following issue:\n",
      "Exception: normal_lpdf: Scale parameter is 0, but must be > 0!  (in '/Users/rob/.julia/dev/StatisticalRethinking/notebooks/12/tmp/m12.6.1.stan' at line 15)\n",
      "\n",
      "If this warning occurs sporadically, such as for highly constrained variable types like covariance matrices, then the sampler is fine,\n",
      "but if this warning occurs often then your model may be either severely ill-conditioned or misspecified.\n",
      "\n",
      "\n",
      "Calling /Users/rob/Projects/StanSupport/cmdstan/bin/stansummary to infer across chains.\n",
      "\n",
      "Inference for Stan model: m12_6_1_model\n",
      "4 chains: each with iter=(2000,2000,2000,2000); warmup=(0,0,0,0); thin=(1,1,1,1); 8000 iterations saved.\n",
      "\n",
      "Warmup took (1.00, 0.96, 1.0, 0.98) seconds, 4.0 seconds total\n",
      "Sampling took (1.1, 1.2, 1.0, 1.1) seconds, 4.4 seconds total\n",
      "\n",
      "                    Mean     MCSE   StdDev        5%       50%       95%    N_Eff  N_Eff/s    R_hat\n",
      "lp__             9.3e+02  7.6e-02  3.1e+00   9.2e+02   9.3e+02   9.3e+02  1.7e+03  3.9e+02  1.0e+00\n",
      "accept_stat__    9.4e-01  1.0e-03  8.5e-02   7.5e-01   9.7e-01   1.0e+00  6.9e+03  1.6e+03  1.0e+00\n",
      "stepsize__       4.9e-02  3.8e-03  5.4e-03   4.1e-02   5.3e-02   5.4e-02  2.0e+00  4.6e-01  4.1e+13\n",
      "treedepth__      5.9e+00  3.8e-02  4.4e-01   5.0e+00   6.0e+00   7.0e+00  1.4e+02  3.2e+01  1.0e+00\n",
      "n_leapfrog__     7.4e+01  3.4e+00  3.3e+01   3.1e+01   6.3e+01   1.3e+02  9.3e+01  2.1e+01  1.0e+00\n",
      "divergent__      0.0e+00      nan  0.0e+00   0.0e+00   0.0e+00   0.0e+00      nan      nan      nan\n",
      "energy__        -9.2e+02  9.5e-02  4.0e+00  -9.3e+02  -9.2e+02  -9.1e+02  1.8e+03  4.2e+02  1.0e+00\n",
      "a                1.1e+00  1.7e-02  7.5e-01  -1.2e-01   1.1e+00   2.3e+00  1.9e+03  4.4e+02  1.0e+00\n",
      "bp               2.6e-01  1.8e-03  8.1e-02   1.3e-01   2.6e-01   3.9e-01  2.0e+03  4.5e+02  1.0e+00\n",
      "a_society[1]    -2.1e-01  4.9e-03  2.5e-01  -6.6e-01  -1.9e-01   1.6e-01  2.6e+03  5.9e+02  1.0e+00\n",
      "a_society[2]     4.6e-02  4.1e-03  2.2e-01  -3.0e-01   4.2e-02   4.1e-01  2.9e+03  6.6e+02  1.0e+00\n",
      "a_society[3]    -4.8e-02  3.3e-03  2.0e-01  -3.8e-01  -4.4e-02   2.7e-01  3.6e+03  8.2e+02  1.0e+00\n",
      "a_society[4]     3.3e-01  3.5e-03  1.9e-01   3.6e-02   3.2e-01   6.6e-01  3.0e+03  6.7e+02  1.0e+00\n",
      "a_society[5]     4.5e-02  2.9e-03  1.8e-01  -2.5e-01   4.1e-02   3.4e-01  3.9e+03  8.8e+02  1.0e+00\n",
      "a_society[6]    -3.2e-01  3.4e-03  2.1e-01  -6.9e-01  -3.1e-01  -1.2e-02  3.8e+03  8.7e+02  1.0e+00\n",
      "a_society[7]     1.5e-01  2.9e-03  1.8e-01  -1.2e-01   1.4e-01   4.5e-01  3.8e+03  8.6e+02  1.0e+00\n",
      "a_society[8]    -1.7e-01  2.9e-03  1.9e-01  -4.9e-01  -1.6e-01   1.2e-01  4.1e+03  9.4e+02  1.0e+00\n",
      "a_society[9]     2.8e-01  3.0e-03  1.8e-01   1.5e-03   2.7e-01   5.8e-01  3.5e+03  7.9e+02  1.0e+00\n",
      "a_society[10]   -9.6e-02  5.9e-03  2.9e-01  -5.7e-01  -8.9e-02   3.6e-01  2.4e+03  5.4e+02  1.0e+00\n",
      "sigma_society    3.2e-01  3.0e-03  1.3e-01   1.5e-01   3.0e-01   5.5e-01  1.9e+03  4.3e+02  1.0e+00\n",
      "\n",
      "Samples were drawn using hmc with nuts.\n",
      "For each parameter, N_Eff is a crude measure of effective sample size,\n",
      "and R_hat is the potential scale reduction factor on split chains (at \n",
      "convergence, R_hat=1).\n",
      "\n"
     ]
    }
   ],
   "cell_type": "code",
   "source": [
    "rc, chn, cnames = stan(stanmodel, m12_6_1_data, ProjDir, diagnostics=false, CmdStanDir=CMDSTAN_HOME);"
   ],
   "metadata": {},
   "execution_count": 5
  },
  {
   "outputs": [],
   "cell_type": "markdown",
   "source": [
    "Describe the draws"
   ],
   "metadata": {}
  },
  {
   "outputs": [
    {
     "name": "stdout",
     "output_type": "stream",
     "text": [
      "Iterations = 1:2000\n",
      "Thinning interval = 1\n",
      "Chains = 1,2,3,4\n",
      "Samples per chain = 2000\n",
      "\n",
      "Empirical Posterior Estimates:\n",
      "                   Mean            SD         Naive SE        MCSE         ESS   \n",
      "         lp__  927.804683625  3.1446033940 0.03515773476 0.08154059227 1487.25019\n",
      "accept_stat__    0.937985234  0.0852103038 0.00095268016 0.00138045491 2000.00000\n",
      "   stepsize__    0.048896675  0.0054003108 0.00006037731 0.00060754446   79.00988\n",
      "  treedepth__    5.919250000  0.4435696470 0.00495925942 0.01192510250 1383.56446\n",
      " n_leapfrog__   73.980500000 32.9372468116 0.36824961431 0.88458986957 1386.40675\n",
      "  divergent__    0.000000000  0.0000000000 0.00000000000 0.00000000000        NaN\n",
      "     energy__ -921.312971500  4.0367809698 0.04513258329 0.10130212506 1587.93697\n",
      "            a    1.098911914  0.7465518959 0.00834670394 0.01472620103 2000.00000\n",
      "           bp    0.261090511  0.0806247037 0.00090141159 0.00156796152 2000.00000\n",
      "  a_society.1   -0.209696517  0.2507701641 0.00280369567 0.00466610462 2000.00000\n",
      "  a_society.2    0.046133607  0.2221607304 0.00248383248 0.00368925957 2000.00000\n",
      "  a_society.3   -0.047632547  0.1977740833 0.00221118147 0.00349287282 2000.00000\n",
      "  a_society.4    0.330914549  0.1918971269 0.00214547510 0.00336738118 2000.00000\n",
      "  a_society.5    0.044511592  0.1798459365 0.00201073870 0.00295541763 2000.00000\n",
      "  a_society.6   -0.321468259  0.2074482039 0.00231934143 0.00333103290 2000.00000\n",
      "  a_society.7    0.148557698  0.1763955991 0.00197216275 0.00287817817 2000.00000\n",
      "  a_society.8   -0.171884344  0.1883870748 0.00210623153 0.00293423060 2000.00000\n",
      "  a_society.9    0.277202723  0.1788324384 0.00199940744 0.00305315760 2000.00000\n",
      " a_society.10   -0.095546780  0.2876005241 0.00321547161 0.00510588143 2000.00000\n",
      "sigma_society    0.315331287  0.1302446784 0.00145617977 0.00318940795 1667.63050\n",
      "\n",
      "Quantiles:\n",
      "                   2.5%           25.0%         50.0%          75.0%         97.5%    \n",
      "         lp__  920.642000000  925.956000000  928.14100000  930.010000000  932.96115000\n",
      "accept_stat__    0.688856950    0.913964000    0.97432700    0.995751250    0.99996200\n",
      "   stepsize__    0.040713100    0.045709900    0.05038100    0.053567775    0.05411160\n",
      "  treedepth__    5.000000000    6.000000000    6.00000000    6.000000000    7.00000000\n",
      " n_leapfrog__   31.000000000   63.000000000   63.00000000   63.000000000  127.00000000\n",
      "  divergent__    0.000000000    0.000000000    0.00000000    0.000000000    0.00000000\n",
      "     energy__ -928.341275000 -924.132500000 -921.65600000 -918.800750000 -912.55575000\n",
      "            a   -0.402178600    0.665604000    1.11025500    1.548795000    2.56272650\n",
      "           bp    0.100363800    0.213155500    0.25974600    0.308411000    0.42278713\n",
      "  a_society.1   -0.760327900   -0.351421500   -0.19103350   -0.048122025    0.24546132\n",
      "  a_society.2   -0.388785700   -0.091622450    0.04167595    0.182250250    0.49706137\n",
      "  a_society.3   -0.449094125   -0.175045000   -0.04391710    0.075589875    0.34093145\n",
      "  a_society.4   -0.011460062    0.200902250    0.32189250    0.451772000    0.72197810\n",
      "  a_society.5   -0.314213350   -0.071701225    0.04123290    0.158141750    0.40653945\n",
      "  a_society.6   -0.770011925   -0.448416750   -0.30626450   -0.178779500    0.04304112\n",
      "  a_society.7   -0.174960200    0.030205225    0.14180400    0.261411750    0.51456733\n",
      "  a_society.8   -0.566582975   -0.288800000   -0.16163150   -0.047401125    0.17962630\n",
      "  a_society.9   -0.055738322    0.157507000    0.27012250    0.389074500    0.64893402\n",
      " a_society.10   -0.673757650   -0.260506750   -0.08938780    0.069419575    0.49983200\n",
      "sigma_society    0.126865350    0.226421000    0.29511000    0.378348250    0.62437847\n",
      "\n"
     ]
    }
   ],
   "cell_type": "code",
   "source": [
    "describe(chn)"
   ],
   "metadata": {},
   "execution_count": 6
  },
  {
   "outputs": [],
   "cell_type": "markdown",
   "source": [
    "*This notebook was generated using [Literate.jl](https://github.com/fredrikekre/Literate.jl).*"
   ],
   "metadata": {}
  }
 ],
 "nbformat_minor": 3,
 "metadata": {
  "language_info": {
   "file_extension": ".jl",
   "mimetype": "application/julia",
   "name": "julia",
   "version": "1.2.0-DEV.216"
  },
  "kernelspec": {
   "name": "julia-1.2",
   "display_name": "Julia 1.2.0-DEV.216",
   "language": "julia"
  }
 },
 "nbformat": 4
}
