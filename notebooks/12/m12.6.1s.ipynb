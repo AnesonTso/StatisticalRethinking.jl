{
 "cells": [
  {
   "outputs": [
    {
     "output_type": "execute_result",
     "data": {
      "text/plain": "(10, 5)"
     },
     "metadata": {},
     "execution_count": 1
    }
   ],
   "cell_type": "code",
   "source": [
    "using StatisticalRethinking\n",
    "using CmdStan, StanMCMCChain\n",
    "\n",
    "ProjDir = rel_path(\"..\", \"scripts\", \"12\")\n",
    "\n",
    "d = CSV.read(rel_path( \"..\", \"data\",  \"Kline.csv\"), delim=';');\n",
    "size(d) # Should be 10x5"
   ],
   "metadata": {},
   "execution_count": 1
  },
  {
   "outputs": [],
   "cell_type": "markdown",
   "source": [
    "New col logpop, set log() for population data"
   ],
   "metadata": {}
  },
  {
   "outputs": [],
   "cell_type": "code",
   "source": [
    "d[:logpop] = map((x) -> log(x), d[:population]);\n",
    "d[:society] = 1:10;\n",
    "\n",
    "first(d, 5)\n",
    "\n",
    "m12_6_1 = \"\n",
    "data{\n",
    "    int total_tools[10];\n",
    "    real logpop[10];\n",
    "    int society[10];\n",
    "}\n",
    "parameters{\n",
    "    real a;\n",
    "    real bp;\n",
    "    vector[10] a_society;\n",
    "    real<lower=0> sigma_society;\n",
    "}\n",
    "model{\n",
    "    vector[10] mu;\n",
    "    sigma_society ~ cauchy( 0 , 1 );\n",
    "    a_society ~ normal( 0 , sigma_society );\n",
    "    bp ~ normal( 0 , 1 );\n",
    "    a ~ normal( 0 , 10 );\n",
    "    for ( i in 1:10 ) {\n",
    "        mu[i] = a + a_society[society[i]] + bp * logpop[i];\n",
    "        mu[i] = exp(mu[i]);\n",
    "    }\n",
    "    total_tools ~ poisson( mu );\n",
    "}\n",
    "\";"
   ],
   "metadata": {},
   "execution_count": 2
  },
  {
   "outputs": [],
   "cell_type": "markdown",
   "source": [
    "Define the Stanmodel and set the output format to :mcmcchain."
   ],
   "metadata": {}
  },
  {
   "outputs": [],
   "cell_type": "code",
   "source": [
    "stanmodel = Stanmodel(name=\"m12.6.1\",  model=m12_6_1, num_warmup=2000,\n",
    "num_samples=2000, output_format=:mcmcchain);"
   ],
   "metadata": {},
   "execution_count": 3
  },
  {
   "outputs": [],
   "cell_type": "markdown",
   "source": [
    "Input data for cmdstan"
   ],
   "metadata": {}
  },
  {
   "outputs": [],
   "cell_type": "code",
   "source": [
    "m12_6_1_data = Dict(\"total_tools\" => d[:total_tools], \"logpop\" => d[:logpop], \"society\" => d[:society]);"
   ],
   "metadata": {},
   "execution_count": 4
  },
  {
   "outputs": [],
   "cell_type": "markdown",
   "source": [
    "Sample using cmdstan"
   ],
   "metadata": {}
  },
  {
   "outputs": [
    {
     "name": "stdout",
     "output_type": "stream",
     "text": [
      "Informational Message: The current Metropolis proposal is about to be rejected because of the following issue:\n",
      "Exception: normal_lpdf: Scale parameter is 0, but must be > 0!  (in '/Users/rob/.julia/dev/StatisticalRethinking/notebooks/12/tmp/m12.6.1.stan' at line 15)\n",
      "\n",
      "If this warning occurs sporadically, such as for highly constrained variable types like covariance matrices, then the sampler is fine,\n",
      "but if this warning occurs often then your model may be either severely ill-conditioned or misspecified.\n",
      "\n",
      "\n",
      "Inference for Stan model: m12_6_1_model\n",
      "4 chains: each with iter=(2000,2000,2000,2000); warmup=(0,0,0,0); thin=(1,1,1,1); 8000 iterations saved.\n",
      "\n",
      "Warmup took (0.94, 0.89, 0.91, 0.96) seconds, 3.7 seconds total\n",
      "Sampling took (1.1, 1.0, 1.1, 1.2) seconds, 4.5 seconds total\n",
      "\n",
      "                    Mean     MCSE   StdDev        5%       50%       95%    N_Eff  N_Eff/s    R_hat\n",
      "lp__             9.3e+02  8.1e-02  3.2e+00   9.2e+02   9.3e+02   9.3e+02  1.5e+03  3.4e+02  1.0e+00\n",
      "accept_stat__    9.5e-01  3.7e-03  7.4e-02   7.9e-01   9.8e-01   1.0e+00  4.1e+02  9.1e+01  1.0e+00\n",
      "stepsize__       4.6e-02  3.4e-03  4.8e-03   3.9e-02   4.8e-02   5.2e-02  2.0e+00  4.4e-01  6.2e+13\n",
      "treedepth__      6.0e+00  2.2e-02  4.6e-01   5.0e+00   6.0e+00   7.0e+00  4.4e+02  9.7e+01  1.0e+00\n",
      "n_leapfrog__     7.9e+01  3.5e+00  4.0e+01   3.1e+01   6.3e+01   1.3e+02  1.3e+02  2.8e+01  1.0e+00\n",
      "divergent__      0.0e+00      nan  0.0e+00   0.0e+00   0.0e+00   0.0e+00      nan      nan      nan\n",
      "energy__        -9.2e+02  1.0e-01  4.1e+00  -9.3e+02  -9.2e+02  -9.1e+02  1.7e+03  3.7e+02  1.0e+00\n",
      "a                1.1e+00  1.8e-02  7.8e-01  -1.8e-01   1.1e+00   2.3e+00  1.9e+03  4.2e+02  1.0e+00\n",
      "bp               2.6e-01  1.9e-03  8.4e-02   1.3e-01   2.6e-01   4.0e-01  2.0e+03  4.3e+02  1.0e+00\n",
      "a_society[1]    -2.0e-01  4.4e-03  2.5e-01  -6.3e-01  -1.9e-01   1.6e-01  3.1e+03  6.8e+02  1.0e+00\n",
      "a_society[2]     4.3e-02  4.1e-03  2.2e-01  -3.2e-01   3.7e-02   4.2e-01  3.1e+03  6.8e+02  1.0e+00\n",
      "a_society[3]    -4.5e-02  3.3e-03  2.0e-01  -3.8e-01  -4.0e-02   2.7e-01  3.7e+03  8.2e+02  1.0e+00\n",
      "a_society[4]     3.2e-01  3.6e-03  1.9e-01   3.4e-02   3.1e-01   6.5e-01  2.8e+03  6.3e+02  1.0e+00\n",
      "a_society[5]     4.4e-02  2.7e-03  1.8e-01  -2.5e-01   4.1e-02   3.4e-01  4.4e+03  9.6e+02  1.0e+00\n",
      "a_society[6]    -3.2e-01  3.6e-03  2.1e-01  -6.8e-01  -3.0e-01   2.1e-03  3.2e+03  7.2e+02  1.0e+00\n",
      "a_society[7]     1.4e-01  2.9e-03  1.8e-01  -1.3e-01   1.4e-01   4.4e-01  3.6e+03  8.0e+02  1.0e+00\n",
      "a_society[8]    -1.7e-01  3.0e-03  1.9e-01  -4.9e-01  -1.6e-01   1.1e-01  3.7e+03  8.2e+02  1.0e+00\n",
      "a_society[9]     2.7e-01  3.1e-03  1.7e-01   5.4e-03   2.6e-01   5.7e-01  3.2e+03  7.0e+02  1.0e+00\n",
      "a_society[10]   -9.2e-02  6.4e-03  3.0e-01  -6.0e-01  -8.2e-02   3.7e-01  2.2e+03  4.8e+02  1.0e+00\n",
      "sigma_society    3.1e-01  3.0e-03  1.3e-01   1.4e-01   2.9e-01   5.5e-01  1.9e+03  4.3e+02  1.0e+00\n",
      "\n",
      "Samples were drawn using hmc with nuts.\n",
      "For each parameter, N_Eff is a crude measure of effective sample size,\n",
      "and R_hat is the potential scale reduction factor on split chains (at \n",
      "convergence, R_hat=1).\n",
      "\n"
     ]
    }
   ],
   "cell_type": "code",
   "source": [
    "rc, chn, cnames = stan(stanmodel, m12_6_1_data, ProjDir, diagnostics=false, CmdStanDir=CMDSTAN_HOME);"
   ],
   "metadata": {},
   "execution_count": 5
  },
  {
   "outputs": [],
   "cell_type": "markdown",
   "source": [
    "Describe the draws"
   ],
   "metadata": {}
  },
  {
   "outputs": [
    {
     "name": "stdout",
     "output_type": "stream",
     "text": [
      "Iterations = 1:2000\n",
      "Thinning interval = 1\n",
      "Chains = 1,2,3,4\n",
      "Samples per chain = 2000\n",
      "\n",
      "Empirical Posterior Estimates:\n",
      "                   Mean            SD         Naive SE         MCSE         ESS   \n",
      "         lp__  927.812855375  3.1703286917 0.035445352329 0.08199076746 1495.12905\n",
      "accept_stat__    0.948476282  0.0739979129 0.000827321818 0.00150535109 2000.00000\n",
      "   stepsize__    0.046153400  0.0047941735 0.000053600489 0.00053935294   79.00988\n",
      "  treedepth__    5.964625000  0.4595106126 0.005137484831 0.01311939302 1226.77130\n",
      " n_leapfrog__   78.944500000 39.5183265336 0.441828322431 1.11342907301 1259.71406\n",
      "  divergent__    0.000000000  0.0000000000 0.000000000000 0.00000000000        NaN\n",
      "     energy__ -921.254060750  4.0873302303 0.045697741208 0.09953322907 1686.33272\n",
      "            a    1.109204913  0.7784442794 0.008703271627 0.01672073204 2000.00000\n",
      "           bp    0.260064330  0.0840200665 0.000939372901 0.00178576423 2000.00000\n",
      "  a_society.1   -0.203252873  0.2466843932 0.002758015361 0.00425945125 2000.00000\n",
      "  a_society.2    0.042707167  0.2245773312 0.002510850894 0.00403695970 2000.00000\n",
      "  a_society.3   -0.044820434  0.1993324592 0.002228604644 0.00329091974 2000.00000\n",
      "  a_society.4    0.323772277  0.1908283882 0.002133526240 0.00366194604 2000.00000\n",
      "  a_society.5    0.044207908  0.1776548282 0.001986241362 0.00267398322 2000.00000\n",
      "  a_society.6   -0.317783572  0.2071742940 0.002316279022 0.00377163011 2000.00000\n",
      "  a_society.7    0.144165271  0.1753131042 0.001960060092 0.00296191983 2000.00000\n",
      "  a_society.8   -0.173447745  0.1852834814 0.002071532297 0.00306060346 2000.00000\n",
      "  a_society.9    0.274284649  0.1749635750 0.001956152237 0.00330976232 2000.00000\n",
      " a_society.10   -0.091975101  0.2961463177 0.003311016488 0.00582084245 2000.00000\n",
      "sigma_society    0.310734186  0.1306146519 0.001460316203 0.00310557258 1768.88838\n",
      "\n",
      "Quantiles:\n",
      "                   2.5%           25.0%         50.0%          75.0%          97.5%    \n",
      "         lp__  920.905800000  925.842750000  928.06200000  929.998000000  933.293025000\n",
      "accept_stat__    0.729570625    0.929992000    0.98031900    0.996790750    0.999977000\n",
      "   stepsize__    0.038784300    0.044280675    0.04685815    0.048730875    0.052113000\n",
      "  treedepth__    5.000000000    6.000000000    6.00000000    6.000000000    7.000000000\n",
      " n_leapfrog__   31.000000000   63.000000000   63.00000000   63.000000000  191.000000000\n",
      "  divergent__    0.000000000    0.000000000    0.00000000    0.000000000    0.000000000\n",
      "     energy__ -928.525125000 -924.077250000 -921.54400000 -918.713750000 -912.528325000\n",
      "            a   -0.522765800    0.653909500    1.13983500    1.584140000    2.601863750\n",
      "           bp    0.096927323    0.208228000    0.25755300    0.309125000    0.436627500\n",
      "  a_society.1   -0.728879675   -0.349576750   -0.18748300   -0.042291575    0.250631975\n",
      "  a_society.2   -0.397392950   -0.095413100    0.03718360    0.175093750    0.511125300\n",
      "  a_society.3   -0.442895450   -0.169375250   -0.04029965    0.082045875    0.340615075\n",
      "  a_society.4   -0.017255595    0.193568500    0.31195450    0.444706000    0.734429275\n",
      "  a_society.5   -0.306310200   -0.068781025    0.04105810    0.154419750    0.404906175\n",
      "  a_society.6   -0.761496900   -0.446730500   -0.30399300   -0.175121250    0.054753215\n",
      "  a_society.7   -0.196220550    0.029070800    0.13957500    0.255336750    0.499066275\n",
      "  a_society.8   -0.564584200   -0.289336250   -0.16322700   -0.048056800    0.166204750\n",
      "  a_society.9   -0.035742547    0.154185250    0.26438850    0.384827750    0.643518650\n",
      " a_society.10   -0.717617350   -0.259650000   -0.08204815    0.083796825    0.482443850\n",
      "sigma_society    0.110340625    0.221249750    0.29205800    0.375068250    0.624158550\n",
      "\n"
     ]
    }
   ],
   "cell_type": "code",
   "source": [
    "describe(chn)"
   ],
   "metadata": {},
   "execution_count": 6
  },
  {
   "outputs": [],
   "cell_type": "markdown",
   "source": [
    "*This notebook was generated using [Literate.jl](https://github.com/fredrikekre/Literate.jl).*"
   ],
   "metadata": {}
  }
 ],
 "nbformat_minor": 3,
 "metadata": {
  "language_info": {
   "file_extension": ".jl",
   "mimetype": "application/julia",
   "name": "julia",
   "version": "1.2.0-DEV.226"
  },
  "kernelspec": {
   "name": "julia-1.2",
   "display_name": "Julia 1.2.0-DEV.226",
   "language": "julia"
  }
 },
 "nbformat": 4
}
