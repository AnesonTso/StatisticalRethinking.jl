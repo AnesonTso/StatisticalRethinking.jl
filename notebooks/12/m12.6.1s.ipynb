{
 "cells": [
  {
   "outputs": [
    {
     "output_type": "execute_result",
     "data": {
      "text/plain": "(10, 5)"
     },
     "metadata": {},
     "execution_count": 1
    }
   ],
   "cell_type": "code",
   "source": [
    "using StatisticalRethinking\n",
    "using CmdStan, StanMCMCChain\n",
    "\n",
    "ProjDir = rel_path(\"..\", \"scripts\", \"12\")\n",
    "\n",
    "d = CSV.read(rel_path( \"..\", \"data\",  \"Kline.csv\"), delim=';');\n",
    "size(d) # Should be 10x5"
   ],
   "metadata": {},
   "execution_count": 1
  },
  {
   "outputs": [],
   "cell_type": "markdown",
   "source": [
    "New col logpop, set log() for population data"
   ],
   "metadata": {}
  },
  {
   "outputs": [],
   "cell_type": "code",
   "source": [
    "d[:logpop] = map((x) -> log(x), d[:population]);\n",
    "d[:society] = 1:10;\n",
    "\n",
    "first(d, 5)\n",
    "\n",
    "m12_6_1 = \"\n",
    "data{\n",
    "    int total_tools[10];\n",
    "    real logpop[10];\n",
    "    int society[10];\n",
    "}\n",
    "parameters{\n",
    "    real a;\n",
    "    real bp;\n",
    "    vector[10] a_society;\n",
    "    real<lower=0> sigma_society;\n",
    "}\n",
    "model{\n",
    "    vector[10] mu;\n",
    "    sigma_society ~ cauchy( 0 , 1 );\n",
    "    a_society ~ normal( 0 , sigma_society );\n",
    "    bp ~ normal( 0 , 1 );\n",
    "    a ~ normal( 0 , 10 );\n",
    "    for ( i in 1:10 ) {\n",
    "        mu[i] = a + a_society[society[i]] + bp * logpop[i];\n",
    "        mu[i] = exp(mu[i]);\n",
    "    }\n",
    "    total_tools ~ poisson( mu );\n",
    "}\n",
    "\";"
   ],
   "metadata": {},
   "execution_count": 2
  },
  {
   "outputs": [],
   "cell_type": "markdown",
   "source": [
    "Define the Stanmodel and set the output format to :mcmcchain."
   ],
   "metadata": {}
  },
  {
   "outputs": [],
   "cell_type": "code",
   "source": [
    "stanmodel = Stanmodel(name=\"m12.6.1\",  model=m12_6_1, num_warmup=2000,\n",
    "num_samples=2000, output_format=:mcmcchain);"
   ],
   "metadata": {},
   "execution_count": 3
  },
  {
   "outputs": [],
   "cell_type": "markdown",
   "source": [
    "Input data for cmdstan"
   ],
   "metadata": {}
  },
  {
   "outputs": [],
   "cell_type": "code",
   "source": [
    "m12_6_1_data = Dict(\"total_tools\" => d[:total_tools], \"logpop\" => d[:logpop], \"society\" => d[:society]);"
   ],
   "metadata": {},
   "execution_count": 4
  },
  {
   "outputs": [],
   "cell_type": "markdown",
   "source": [
    "Sample using cmdstan"
   ],
   "metadata": {}
  },
  {
   "outputs": [
    {
     "name": "stdout",
     "output_type": "stream",
     "text": [
      "\n",
      "Inference for Stan model: m12_6_1_model\n",
      "4 chains: each with iter=(2000,2000,2000,2000); warmup=(0,0,0,0); thin=(1,1,1,1); 8000 iterations saved.\n",
      "\n",
      "Warmup took (0.93, 1.00, 1.0, 0.86) seconds, 3.8 seconds total\n",
      "Sampling took (1.2, 1.0, 1.1, 1.2) seconds, 4.5 seconds total\n",
      "\n",
      "                    Mean     MCSE   StdDev        5%       50%       95%    N_Eff  N_Eff/s    R_hat\n",
      "lp__             9.3e+02  7.4e-02  3.1e+00   9.2e+02   9.3e+02   9.3e+02  1.7e+03  3.8e+02  1.0e+00\n",
      "accept_stat__    9.5e-01  7.6e-04  7.2e-02   7.9e-01   9.8e-01   1.0e+00  9.1e+03  2.0e+03  1.0e+00\n",
      "stepsize__       5.0e-02  4.3e-03  6.1e-03   4.6e-02   4.8e-02   6.1e-02  2.0e+00  4.5e-01  3.6e+13\n",
      "treedepth__      5.9e+00  5.6e-02  4.6e-01   5.0e+00   6.0e+00   6.0e+00  6.7e+01  1.5e+01  1.0e+00\n",
      "n_leapfrog__     7.5e+01  2.0e+00  3.7e+01   3.1e+01   6.3e+01   1.3e+02  3.3e+02  7.4e+01  1.0e+00\n",
      "divergent__      0.0e+00      nan  0.0e+00   0.0e+00   0.0e+00   0.0e+00      nan      nan      nan\n",
      "energy__        -9.2e+02  8.9e-02  4.0e+00  -9.3e+02  -9.2e+02  -9.1e+02  2.0e+03  4.5e+02  1.0e+00\n",
      "a                1.1e+00  1.7e-02  7.2e-01  -1.4e-01   1.1e+00   2.2e+00  1.8e+03  4.1e+02  1.0e+00\n",
      "bp               2.6e-01  1.8e-03  7.8e-02   1.4e-01   2.6e-01   3.9e-01  1.9e+03  4.2e+02  1.0e+00\n",
      "a_society[1]    -2.0e-01  4.0e-03  2.4e-01  -6.2e-01  -1.8e-01   1.6e-01  3.7e+03  8.3e+02  1.0e+00\n",
      "a_society[2]     4.9e-02  3.8e-03  2.2e-01  -3.0e-01   4.4e-02   4.3e-01  3.4e+03  7.6e+02  1.0e+00\n",
      "a_society[3]    -4.1e-02  3.2e-03  1.9e-01  -3.6e-01  -4.1e-02   2.8e-01  3.7e+03  8.4e+02  1.0e+00\n",
      "a_society[4]     3.3e-01  3.8e-03  1.9e-01   3.8e-02   3.3e-01   6.7e-01  2.5e+03  5.6e+02  1.0e+00\n",
      "a_society[5]     5.0e-02  2.7e-03  1.8e-01  -2.4e-01   4.6e-02   3.4e-01  4.3e+03  9.6e+02  1.0e+00\n",
      "a_society[6]    -3.1e-01  3.2e-03  2.0e-01  -6.7e-01  -3.0e-01  -3.2e-03  4.0e+03  8.9e+02  1.0e+00\n",
      "a_society[7]     1.5e-01  2.9e-03  1.7e-01  -1.3e-01   1.4e-01   4.4e-01  3.7e+03  8.4e+02  1.0e+00\n",
      "a_society[8]    -1.7e-01  2.9e-03  1.8e-01  -4.8e-01  -1.6e-01   1.2e-01  3.9e+03  8.8e+02  1.0e+00\n",
      "a_society[9]     2.8e-01  3.2e-03  1.8e-01   5.0e-03   2.7e-01   5.8e-01  3.0e+03  6.8e+02  1.0e+00\n",
      "a_society[10]   -9.4e-02  5.9e-03  2.8e-01  -5.5e-01  -9.1e-02   3.6e-01  2.2e+03  5.0e+02  1.0e+00\n",
      "sigma_society    3.1e-01  3.0e-03  1.3e-01   1.4e-01   2.9e-01   5.5e-01  1.8e+03  4.0e+02  1.0e+00\n",
      "\n",
      "Samples were drawn using hmc with nuts.\n",
      "For each parameter, N_Eff is a crude measure of effective sample size,\n",
      "and R_hat is the potential scale reduction factor on split chains (at \n",
      "convergence, R_hat=1).\n",
      "\n"
     ]
    }
   ],
   "cell_type": "code",
   "source": [
    "rc, chn, cnames = stan(stanmodel, m12_6_1_data, ProjDir, diagnostics=false, CmdStanDir=CMDSTAN_HOME);"
   ],
   "metadata": {},
   "execution_count": 5
  },
  {
   "outputs": [],
   "cell_type": "markdown",
   "source": [
    "Describe the draws"
   ],
   "metadata": {}
  },
  {
   "outputs": [
    {
     "name": "stdout",
     "output_type": "stream",
     "text": [
      "Iterations = 1:2000\n",
      "Thinning interval = 1\n",
      "Chains = 1,2,3,4\n",
      "Samples per chain = 2000\n",
      "\n",
      "Empirical Posterior Estimates:\n",
      "                   Mean            SD         Naive SE        MCSE         ESS   \n",
      "         lp__  927.898881625  3.0708168483 0.03433277610 0.07336687758 1751.89372\n",
      "accept_stat__    0.948275137  0.0719938305 0.00080491550 0.00078319236 2000.00000\n",
      "   stepsize__    0.050429125  0.0060792345 0.00006796791 0.00068392457   79.00988\n",
      "  treedepth__    5.908000000  0.4577796362 0.00511813193 0.01405391967 1061.00640\n",
      " n_leapfrog__   74.920000000 36.7845992005 0.41126432169 0.86897233063 1791.92637\n",
      "  divergent__    0.000000000  0.0000000000 0.00000000000 0.00000000000        NaN\n",
      "     energy__ -921.389650875  3.9956760543 0.04467301637 0.08701980609 2000.00000\n",
      "            a    1.083071693  0.7245945181 0.00810121299 0.01709971851 1795.61062\n",
      "           bp    0.262501374  0.0782145084 0.00087446479 0.00180773255 1872.00189\n",
      "  a_society.1   -0.196678372  0.2416099641 0.00270128152 0.00431405969 2000.00000\n",
      "  a_society.2    0.049326308  0.2202060596 0.00246197859 0.00412991341 2000.00000\n",
      "  a_society.3   -0.040750288  0.1943399979 0.00217278723 0.00367244917 2000.00000\n",
      "  a_society.4    0.334821630  0.1920859212 0.00214758589 0.00378049132 2000.00000\n",
      "  a_society.5    0.050083527  0.1789645652 0.00200088467 0.00269911999 2000.00000\n",
      "  a_society.6   -0.313970680  0.2028323245 0.00226773433 0.00334731813 2000.00000\n",
      "  a_society.7    0.148767146  0.1749147092 0.00195560590 0.00305071618 2000.00000\n",
      "  a_society.8   -0.167909051  0.1824657454 0.00204002905 0.00317777194 2000.00000\n",
      "  a_society.9    0.277603960  0.1754217869 0.00196127520 0.00312226290 2000.00000\n",
      " a_society.10   -0.094300466  0.2797655934 0.00312787442 0.00590737600 2000.00000\n",
      "sigma_society    0.310693898  0.1295740717 0.00144868216 0.00292899199 1957.04064\n",
      "\n",
      "Quantiles:\n",
      "                   2.5%          25.0%         50.0%          75.0%         97.5%    \n",
      "         lp__  921.236925000  925.98900000  928.16500000  930.082250000  933.08402500\n",
      "accept_stat__    0.743123025    0.92831750    0.97901600    0.996495500    0.99997000\n",
      "   stepsize__    0.045515700    0.04698195    0.04767880    0.051125975    0.06084320\n",
      "  treedepth__    5.000000000    6.00000000    6.00000000    6.000000000    7.00000000\n",
      " n_leapfrog__   31.000000000   63.00000000   63.00000000   63.000000000  127.00000000\n",
      "  divergent__    0.000000000    0.00000000    0.00000000    0.000000000    0.00000000\n",
      "     energy__ -928.301125000 -924.26600000 -921.65050000 -918.892000000 -912.82775000\n",
      "            a   -0.390678500    0.65055700    1.10325500    1.529767500    2.52395775\n",
      "           bp    0.102830575    0.21456100    0.26090200    0.309884000    0.42210080\n",
      "  a_society.1   -0.741852675   -0.33462925   -0.17593300   -0.042121000    0.24330645\n",
      "  a_society.2   -0.375400375   -0.08848680    0.04389310    0.180146500    0.51027173\n",
      "  a_society.3   -0.431795050   -0.16328300   -0.04087485    0.079178625    0.34737630\n",
      "  a_society.4   -0.008193310    0.20045625    0.32596600    0.457684000    0.74198882\n",
      "  a_society.5   -0.303446600   -0.06334918    0.04580730    0.161746000    0.40991655\n",
      "  a_society.6   -0.743296800   -0.43950475   -0.30068200   -0.173627750    0.04918194\n",
      "  a_society.7   -0.174282775    0.03059445    0.14054250    0.261355500    0.50499607\n",
      "  a_society.8   -0.549406025   -0.28265875   -0.15952450   -0.047138950    0.17493212\n",
      "  a_society.9   -0.048742282    0.16057300    0.26833850    0.386319500    0.64777567\n",
      " a_society.10   -0.681363000   -0.25527075   -0.09091365    0.068256225    0.48778825\n",
      "sigma_society    0.122049300    0.22244725    0.29090650    0.374277000    0.61911707\n",
      "\n"
     ]
    }
   ],
   "cell_type": "code",
   "source": [
    "describe(chn)"
   ],
   "metadata": {},
   "execution_count": 6
  },
  {
   "outputs": [],
   "cell_type": "markdown",
   "source": [
    "*This notebook was generated using [Literate.jl](https://github.com/fredrikekre/Literate.jl).*"
   ],
   "metadata": {}
  }
 ],
 "nbformat_minor": 3,
 "metadata": {
  "language_info": {
   "file_extension": ".jl",
   "mimetype": "application/julia",
   "name": "julia",
   "version": "1.1.0"
  },
  "kernelspec": {
   "name": "julia-1.1",
   "display_name": "Julia 1.1.0",
   "language": "julia"
  }
 },
 "nbformat": 4
}
