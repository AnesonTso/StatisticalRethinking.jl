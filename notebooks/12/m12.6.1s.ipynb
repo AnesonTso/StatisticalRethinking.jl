{
 "cells": [
  {
   "outputs": [
    {
     "output_type": "execute_result",
     "data": {
      "text/plain": "(10, 5)"
     },
     "metadata": {},
     "execution_count": 1
    }
   ],
   "cell_type": "code",
   "source": [
    "using StatisticalRethinking\n",
    "using CmdStan, StanMCMCChain\n",
    "\n",
    "ProjDir = rel_path(\"..\", \"scripts\", \"12\")\n",
    "\n",
    "d = CSV.read(rel_path( \"..\", \"data\",  \"Kline.csv\"), delim=';');\n",
    "size(d) # Should be 10x5"
   ],
   "metadata": {},
   "execution_count": 1
  },
  {
   "outputs": [],
   "cell_type": "markdown",
   "source": [
    "New col logpop, set log() for population data"
   ],
   "metadata": {}
  },
  {
   "outputs": [],
   "cell_type": "code",
   "source": [
    "d[:logpop] = map((x) -> log(x), d[:population]);\n",
    "d[:society] = 1:10;\n",
    "\n",
    "first(d, 5)\n",
    "\n",
    "m12_6_1 = \"\n",
    "data{\n",
    "    int total_tools[10];\n",
    "    real logpop[10];\n",
    "    int society[10];\n",
    "}\n",
    "parameters{\n",
    "    real a;\n",
    "    real bp;\n",
    "    vector[10] a_society;\n",
    "    real<lower=0> sigma_society;\n",
    "}\n",
    "model{\n",
    "    vector[10] mu;\n",
    "    sigma_society ~ cauchy( 0 , 1 );\n",
    "    a_society ~ normal( 0 , sigma_society );\n",
    "    bp ~ normal( 0 , 1 );\n",
    "    a ~ normal( 0 , 10 );\n",
    "    for ( i in 1:10 ) {\n",
    "        mu[i] = a + a_society[society[i]] + bp * logpop[i];\n",
    "        mu[i] = exp(mu[i]);\n",
    "    }\n",
    "    total_tools ~ poisson( mu );\n",
    "}\n",
    "\";"
   ],
   "metadata": {},
   "execution_count": 2
  },
  {
   "outputs": [],
   "cell_type": "markdown",
   "source": [
    "Define the Stanmodel and set the output format to :mcmcchain."
   ],
   "metadata": {}
  },
  {
   "outputs": [
    {
     "name": "stdout",
     "output_type": "stream",
     "text": [
      "\n",
      "File /Users/rob/.julia/dev/StatisticalRethinking/notebooks/12/tmp/m12.6.1.stan will be updated.\n",
      "\n"
     ]
    }
   ],
   "cell_type": "code",
   "source": [
    "stanmodel = Stanmodel(name=\"m12.6.1\",  model=m12_6_1, output_format=:mcmcchain);"
   ],
   "metadata": {},
   "execution_count": 3
  },
  {
   "outputs": [],
   "cell_type": "markdown",
   "source": [
    "Input data for cmdstan"
   ],
   "metadata": {}
  },
  {
   "outputs": [],
   "cell_type": "code",
   "source": [
    "m12_6_1_data = Dict(\"total_tools\" => d[:total_tools], \"logpop\" => d[:logpop], \"society\" => d[:society]);"
   ],
   "metadata": {},
   "execution_count": 4
  },
  {
   "outputs": [],
   "cell_type": "markdown",
   "source": [
    "Sample using cmdstan"
   ],
   "metadata": {}
  },
  {
   "outputs": [],
   "cell_type": "code",
   "source": [
    "rc, chn, cnames = stan(stanmodel, m12_6_1_data, ProjDir, diagnostics=false, summary=false, CmdStanDir=CMDSTAN_HOME);"
   ],
   "metadata": {},
   "execution_count": 5
  },
  {
   "outputs": [],
   "cell_type": "markdown",
   "source": [
    "Describe the draws"
   ],
   "metadata": {}
  },
  {
   "outputs": [
    {
     "name": "stdout",
     "output_type": "stream",
     "text": [
      "Iterations = 1:1000\n",
      "Thinning interval = 1\n",
      "Chains = 1,2,3,4\n",
      "Samples per chain = 1000\n",
      "\n",
      "Empirical Posterior Estimates:\n",
      "                   Mean           SD         Naive SE       MCSE         ESS    \n",
      "         lp__  927.972599500  3.141348285 0.04966907752 0.1198816949  686.635780\n",
      "accept_stat__    0.941250451  0.081636553 0.00129078724 0.0013404693 1000.000000\n",
      "   stepsize__    0.052681625  0.004219204 0.00006671147 0.0006755289   39.009752\n",
      "  treedepth__    5.791750000  0.476905438 0.00754053707 0.0159079383  898.745556\n",
      " n_leapfrog__   66.846000000 27.391748045 0.43310156458 0.6600163945 1000.000000\n",
      "  divergent__    0.000000000  0.000000000 0.00000000000 0.0000000000         NaN\n",
      "     energy__ -921.553263250  4.000824593 0.06325859116 0.1523996358  689.177617\n",
      "            a    1.105476258  0.711432509 0.01124873565 0.0231105942  947.643941\n",
      "           bp    0.260995373  0.077158416 0.00121998168 0.0025387492  923.691624\n",
      "  a_society.1   -0.202676598  0.241358584 0.00381621429 0.0054731023 1000.000000\n",
      "  a_society.2    0.039895464  0.216983824 0.00343081550 0.0051657684 1000.000000\n",
      "  a_society.3   -0.047686179  0.195684502 0.00309404365 0.0046903576 1000.000000\n",
      "  a_society.4    0.323069972  0.192283822 0.00304027417 0.0037039128 1000.000000\n",
      "  a_society.5    0.039257714  0.176321146 0.00278788210 0.0032796242 1000.000000\n",
      "  a_society.6   -0.320486176  0.206029590 0.00325761385 0.0048211192 1000.000000\n",
      "  a_society.7    0.139996373  0.175237244 0.00277074411 0.0030892325 1000.000000\n",
      "  a_society.8   -0.173728273  0.186349132 0.00294643848 0.0040169138 1000.000000\n",
      "  a_society.9    0.268984568  0.175795619 0.00277957279 0.0038158298 1000.000000\n",
      " a_society.10   -0.097754731  0.279537103 0.00441986968 0.0084683001 1000.000000\n",
      "sigma_society    0.307695222  0.126935569 0.00200702758 0.0039760581 1000.000000\n",
      "\n",
      "Quantiles:\n",
      "                   2.5%           25.0%         50.0%          75.0%          97.5%    \n",
      "         lp__  921.128375000  926.223250000  928.21200000  930.093000000  933.305300000\n",
      "accept_stat__    0.701223850    0.918336000    0.97557300    0.996560250    0.999974000\n",
      "   stepsize__    0.048122900    0.048667925    0.05260830    0.056622000    0.057387000\n",
      "  treedepth__    5.000000000    6.000000000    6.00000000    6.000000000    6.000000000\n",
      " n_leapfrog__   31.000000000   63.000000000   63.00000000   63.000000000  127.000000000\n",
      "  divergent__    0.000000000    0.000000000    0.00000000    0.000000000    0.000000000\n",
      "     energy__ -928.561025000 -924.307250000 -921.78850000 -919.111250000 -913.092375000\n",
      "            a   -0.300935800    0.658979750    1.11662500    1.561122500    2.491684250\n",
      "           bp    0.109702625    0.211269500    0.26007100    0.310027750    0.409119350\n",
      "  a_society.1   -0.732901000   -0.347901500   -0.18288500   -0.039813250    0.238194350\n",
      "  a_society.2   -0.380608025   -0.096742400    0.03536340    0.176112750    0.473041225\n",
      "  a_society.3   -0.466540150   -0.172765500   -0.04243485    0.080947675    0.316610525\n",
      "  a_society.4   -0.018754087    0.190876750    0.30820650    0.447853000    0.730922025\n",
      "  a_society.5   -0.309619700   -0.072869125    0.03642270    0.151778750    0.395838050\n",
      "  a_society.6   -0.757776400   -0.451116750   -0.30643250   -0.173873250    0.035427845\n",
      "  a_society.7   -0.192998575    0.025564050    0.13192150    0.252089250    0.496650975\n",
      "  a_society.8   -0.555397925   -0.294338750   -0.16799150   -0.045080800    0.176762500\n",
      "  a_society.9   -0.056652318    0.154006000    0.26421300    0.378552750    0.637011975\n",
      " a_society.10   -0.669035225   -0.264606250   -0.09150675    0.067318475    0.475828075\n",
      "sigma_society    0.117567350    0.221487000    0.28578900    0.372422750    0.609088850\n",
      "\n"
     ]
    }
   ],
   "cell_type": "code",
   "source": [
    "describe(chn)"
   ],
   "metadata": {},
   "execution_count": 6
  },
  {
   "outputs": [],
   "cell_type": "markdown",
   "source": [
    "*This notebook was generated using [Literate.jl](https://github.com/fredrikekre/Literate.jl).*"
   ],
   "metadata": {}
  }
 ],
 "nbformat_minor": 3,
 "metadata": {
  "language_info": {
   "file_extension": ".jl",
   "mimetype": "application/julia",
   "name": "julia",
   "version": "1.2.0-DEV.163"
  },
  "kernelspec": {
   "name": "julia-1.2",
   "display_name": "Julia 1.2.0-DEV.163",
   "language": "julia"
  }
 },
 "nbformat": 4
}
