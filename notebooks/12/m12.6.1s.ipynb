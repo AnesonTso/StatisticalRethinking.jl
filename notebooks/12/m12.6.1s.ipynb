{
 "cells": [
  {
   "outputs": [
    {
     "output_type": "execute_result",
     "data": {
      "text/plain": "(10, 5)"
     },
     "metadata": {},
     "execution_count": 1
    }
   ],
   "cell_type": "code",
   "source": [
    "using StatisticalRethinking\n",
    "using CmdStan, StanMCMCChain\n",
    "\n",
    "ProjDir = rel_path(\"..\", \"scripts\", \"12\")\n",
    "\n",
    "d = CSV.read(rel_path( \"..\", \"data\",  \"Kline.csv\"), delim=';');\n",
    "size(d) # Should be 10x5"
   ],
   "metadata": {},
   "execution_count": 1
  },
  {
   "outputs": [],
   "cell_type": "markdown",
   "source": [
    "New col logpop, set log() for population data"
   ],
   "metadata": {}
  },
  {
   "outputs": [],
   "cell_type": "code",
   "source": [
    "d[:logpop] = map((x) -> log(x), d[:population]);\n",
    "d[:society] = 1:10;\n",
    "\n",
    "first(d, 5)\n",
    "\n",
    "m12_6_1 = \"\n",
    "data{\n",
    "    int total_tools[10];\n",
    "    real logpop[10];\n",
    "    int society[10];\n",
    "}\n",
    "parameters{\n",
    "    real a;\n",
    "    real bp;\n",
    "    vector[10] a_society;\n",
    "    real<lower=0> sigma_society;\n",
    "}\n",
    "model{\n",
    "    vector[10] mu;\n",
    "    sigma_society ~ cauchy( 0 , 1 );\n",
    "    a_society ~ normal( 0 , sigma_society );\n",
    "    bp ~ normal( 0 , 1 );\n",
    "    a ~ normal( 0 , 10 );\n",
    "    for ( i in 1:10 ) {\n",
    "        mu[i] = a + a_society[society[i]] + bp * logpop[i];\n",
    "        mu[i] = exp(mu[i]);\n",
    "    }\n",
    "    total_tools ~ poisson( mu );\n",
    "}\n",
    "\";"
   ],
   "metadata": {},
   "execution_count": 2
  },
  {
   "outputs": [],
   "cell_type": "markdown",
   "source": [
    "Define the Stanmodel and set the output format to :mcmcchain."
   ],
   "metadata": {}
  },
  {
   "outputs": [],
   "cell_type": "code",
   "source": [
    "stanmodel = Stanmodel(name=\"m12.6.1\",  model=m12_6_1, output_format=:mcmcchain);"
   ],
   "metadata": {},
   "execution_count": 3
  },
  {
   "outputs": [],
   "cell_type": "markdown",
   "source": [
    "Input data for cmdstan"
   ],
   "metadata": {}
  },
  {
   "outputs": [],
   "cell_type": "code",
   "source": [
    "m12_6_1_data = Dict(\"total_tools\" => d[:total_tools], \"logpop\" => d[:logpop], \"society\" => d[:society]);"
   ],
   "metadata": {},
   "execution_count": 4
  },
  {
   "outputs": [],
   "cell_type": "markdown",
   "source": [
    "Sample using cmdstan"
   ],
   "metadata": {}
  },
  {
   "outputs": [
    {
     "name": "stdout",
     "output_type": "stream",
     "text": [
      "Informational Message: The current Metropolis proposal is about to be rejected because of the following issue:\n",
      "Exception: normal_lpdf: Scale parameter is 0, but must be > 0!  (in '/Users/rob/.julia/dev/StatisticalRethinking/notebooks/12/tmp/m12.6.1.stan' at line 15)\n",
      "Informational Message: The current Metropolis proposal is about to be rejected because of the following issue:\n",
      "If this warning occurs sporadically, such as for highly constrained variable types like covariance matrices, then the sampler is fine,\n",
      "Exception: normal_lpdf: Scale parameter is 0, but must be > 0!  (in '/Users/rob/.julia/dev/StatisticalRethinking/notebooks/12/tmp/m12.6.1.stan' at line 15)\n",
      "\n",
      "\n",
      "If this warning occurs sporadically, such as for highly constrained variable types like covariance matrices, then the sampler is fine,\n",
      "but if this warning occurs often then your model may be either severely ill-conditioned or misspecified.but if this warning occurs often then your model may be either severely ill-conditioned or misspecified.\n",
      "\n",
      "\n",
      "\n",
      "Informational Message: The current Metropolis proposal is about to be rejected because of the following issue:\n",
      "Exception: normal_lpdf: Scale parameter is 0, but must be > 0!  (in '/Users/rob/.julia/dev/StatisticalRethinking/notebooks/12/tmp/m12.6.1.stan' at line 15)\n",
      "\n",
      "If this warning occurs sporadically, such as for highly constrained variable types like covariance matrices, then the sampler is fine,\n",
      "but if this warning occurs often then your model may be either severely ill-conditioned or misspecified.\n",
      "\n"
     ]
    }
   ],
   "cell_type": "code",
   "source": [
    "rc, chn, cnames = stan(stanmodel, m12_6_1_data, ProjDir, diagnostics=false, summary=false, CmdStanDir=CMDSTAN_HOME);"
   ],
   "metadata": {},
   "execution_count": 5
  },
  {
   "outputs": [],
   "cell_type": "markdown",
   "source": [
    "Describe the draws"
   ],
   "metadata": {}
  },
  {
   "outputs": [
    {
     "name": "stdout",
     "output_type": "stream",
     "text": [
      "Iterations = 1:1000\n",
      "Thinning interval = 1\n",
      "Chains = 1,2,3,4\n",
      "Samples per chain = 1000\n",
      "\n",
      "Empirical Posterior Estimates:\n",
      "                   Mean           SD        Naive SE       MCSE         ESS    \n",
      "         lp__  927.695347000  3.223277944 0.0509644992 0.1057341867  929.318654\n",
      "accept_stat__    0.939637481  0.083346872 0.0013178298 0.0024215913 1000.000000\n",
      "   stepsize__    0.048153875  0.008255322 0.0001305281 0.0013217442   39.009752\n",
      "  treedepth__    5.912000000  0.525666321 0.0083115143 0.0345283236  231.776458\n",
      " n_leapfrog__   75.976000000 35.561827637 0.5622818655 2.1007313989  286.567604\n",
      "  divergent__    0.000000000  0.000000000 0.0000000000 0.0000000000         NaN\n",
      "     energy__ -921.098468500  4.118316136 0.0651162956 0.1257675946 1000.000000\n",
      "            a    1.085613483  0.781000826 0.0123487073 0.0228695759 1000.000000\n",
      "           bp    0.262664927  0.084975810 0.0013435855 0.0024119983 1000.000000\n",
      "  a_society.1   -0.204369512  0.250383230 0.0039589065 0.0064867240 1000.000000\n",
      "  a_society.2    0.045441834  0.223203750 0.0035291612 0.0054057558 1000.000000\n",
      "  a_society.3   -0.044333752  0.200566302 0.0031712317 0.0044208172 1000.000000\n",
      "  a_society.4    0.327930072  0.190982356 0.0030196962 0.0046110560 1000.000000\n",
      "  a_society.5    0.043501880  0.179632492 0.0028402391 0.0043546834 1000.000000\n",
      "  a_society.6   -0.327002132  0.213104463 0.0033694774 0.0050878630 1000.000000\n",
      "  a_society.7    0.146163803  0.177578333 0.0028077600 0.0042724595 1000.000000\n",
      "  a_society.8   -0.177159203  0.188200886 0.0029757173 0.0041127464 1000.000000\n",
      "  a_society.9    0.276404259  0.182196052 0.0028807725 0.0039435164 1000.000000\n",
      " a_society.10   -0.100956333  0.309266678 0.0048899355 0.0077878883 1000.000000\n",
      "sigma_society    0.317809395  0.133445872 0.0021099645 0.0040128051 1000.000000\n",
      "\n",
      "Quantiles:\n",
      "                   2.5%           25.0%         50.0%          75.0%         97.5%    \n",
      "         lp__  920.655000000  925.711250000  927.93300000  929.974250000  933.04035000\n",
      "accept_stat__    0.696045450    0.918353500    0.97544700    0.996053000    0.99996902\n",
      "   stepsize__    0.037880500    0.042742375    0.04718320    0.052594700    0.06036860\n",
      "  treedepth__    5.000000000    6.000000000    6.00000000    6.000000000    7.00000000\n",
      " n_leapfrog__   31.000000000   63.000000000   63.00000000   63.000000000  127.00000000\n",
      "  divergent__    0.000000000    0.000000000    0.00000000    0.000000000    0.00000000\n",
      "     energy__ -928.270075000 -924.049250000 -921.36550000 -918.482500000 -912.43117500\n",
      "            a   -0.476267450    0.634694750    1.10402500    1.540967500    2.64397750\n",
      "           bp    0.089945160    0.212614000    0.26123250    0.312520500    0.43648083\n",
      "  a_society.1   -0.757649675   -0.352521750   -0.18407150   -0.037039125    0.23889280\n",
      "  a_society.2   -0.382914850   -0.088497000    0.03810875    0.177475250    0.49449505\n",
      "  a_society.3   -0.471183175   -0.166724250   -0.03833315    0.084310200    0.34104338\n",
      "  a_society.4   -0.019478635    0.198109500    0.32130550    0.451858000    0.72376060\n",
      "  a_society.5   -0.323424975   -0.067842525    0.04141130    0.157890500    0.41609373\n",
      "  a_society.6   -0.788663550   -0.457680250   -0.31555600   -0.176150500    0.03939304\n",
      "  a_society.7   -0.191424075    0.029545925    0.14044350    0.258640250    0.51178385\n",
      "  a_society.8   -0.576555200   -0.295113250   -0.16402300   -0.047667825    0.15995832\n",
      "  a_society.9   -0.052001045    0.152609750    0.27124950    0.388329250    0.65604820\n",
      " a_society.10   -0.755803475   -0.278363500   -0.09011375    0.072461350    0.52521618\n",
      "sigma_society    0.114715875    0.228155750    0.29491700    0.387672250    0.63345755\n",
      "\n"
     ]
    }
   ],
   "cell_type": "code",
   "source": [
    "describe(chn)"
   ],
   "metadata": {},
   "execution_count": 6
  },
  {
   "outputs": [],
   "cell_type": "markdown",
   "source": [
    "*This notebook was generated using [Literate.jl](https://github.com/fredrikekre/Literate.jl).*"
   ],
   "metadata": {}
  }
 ],
 "nbformat_minor": 3,
 "metadata": {
  "language_info": {
   "file_extension": ".jl",
   "mimetype": "application/julia",
   "name": "julia",
   "version": "1.2.0-DEV.166"
  },
  "kernelspec": {
   "name": "julia-1.2",
   "display_name": "Julia 1.2.0-DEV.166",
   "language": "julia"
  }
 },
 "nbformat": 4
}
