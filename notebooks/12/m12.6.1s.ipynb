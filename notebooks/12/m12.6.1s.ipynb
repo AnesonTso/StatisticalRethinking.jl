{
 "cells": [
  {
   "outputs": [
    {
     "output_type": "execute_result",
     "data": {
      "text/plain": "(10, 5)"
     },
     "metadata": {},
     "execution_count": 1
    }
   ],
   "cell_type": "code",
   "source": [
    "using StatisticalRethinking\n",
    "using CmdStan, StanMCMCChain\n",
    "\n",
    "ProjDir = rel_path(\"..\", \"scripts\", \"12\")\n",
    "\n",
    "d = CSV.read(rel_path( \"..\", \"data\",  \"Kline.csv\"), delim=';');\n",
    "size(d) # Should be 10x5"
   ],
   "metadata": {},
   "execution_count": 1
  },
  {
   "outputs": [],
   "cell_type": "markdown",
   "source": [
    "New col logpop, set log() for population data"
   ],
   "metadata": {}
  },
  {
   "outputs": [],
   "cell_type": "code",
   "source": [
    "d[:logpop] = map((x) -> log(x), d[:population]);\n",
    "d[:society] = 1:10;\n",
    "\n",
    "first(d, 5)\n",
    "\n",
    "m12_6_1 = \"\n",
    "data{\n",
    "    int total_tools[10];\n",
    "    real logpop[10];\n",
    "    int society[10];\n",
    "}\n",
    "parameters{\n",
    "    real a;\n",
    "    real bp;\n",
    "    vector[10] a_society;\n",
    "    real<lower=0> sigma_society;\n",
    "}\n",
    "model{\n",
    "    vector[10] mu;\n",
    "    sigma_society ~ cauchy( 0 , 1 );\n",
    "    a_society ~ normal( 0 , sigma_society );\n",
    "    bp ~ normal( 0 , 1 );\n",
    "    a ~ normal( 0 , 10 );\n",
    "    for ( i in 1:10 ) {\n",
    "        mu[i] = a + a_society[society[i]] + bp * logpop[i];\n",
    "        mu[i] = exp(mu[i]);\n",
    "    }\n",
    "    total_tools ~ poisson( mu );\n",
    "}\n",
    "\";"
   ],
   "metadata": {},
   "execution_count": 2
  },
  {
   "outputs": [],
   "cell_type": "markdown",
   "source": [
    "Define the Stanmodel and set the output format to :mcmcchain."
   ],
   "metadata": {}
  },
  {
   "outputs": [
    {
     "name": "stdout",
     "output_type": "stream",
     "text": [
      "\n",
      "File /Users/rob/.julia/dev/StatisticalRethinking/notebooks/12/tmp/m12.6.1.stan will be updated.\n",
      "\n"
     ]
    }
   ],
   "cell_type": "code",
   "source": [
    "stanmodel = Stanmodel(name=\"m12.6.1\",  model=m12_6_1, output_format=:mcmcchain);"
   ],
   "metadata": {},
   "execution_count": 3
  },
  {
   "outputs": [],
   "cell_type": "markdown",
   "source": [
    "Input data for cmdstan"
   ],
   "metadata": {}
  },
  {
   "outputs": [],
   "cell_type": "code",
   "source": [
    "m12_6_1_data = Dict(\"total_tools\" => d[:total_tools], \"logpop\" => d[:logpop], \"society\" => d[:society]);"
   ],
   "metadata": {},
   "execution_count": 4
  },
  {
   "outputs": [],
   "cell_type": "markdown",
   "source": [
    "Sample using cmdstan"
   ],
   "metadata": {}
  },
  {
   "outputs": [
    {
     "name": "stdout",
     "output_type": "stream",
     "text": [
      "Informational Message: The current Metropolis proposal is about to be rejected because of the following issue:\n",
      "Exception: normal_lpdf: Scale parameter is 0, but must be > 0!  (in '/Users/rob/.julia/dev/StatisticalRethinking/notebooks/12/tmp/m12.6.1.stan' at line 15)\n",
      "\n",
      "If this warning occurs sporadically, such as for highly constrained variable types like covariance matrices, then the sampler is fine,\n",
      "but if this warning occurs often then your model may be either severely ill-conditioned or misspecified.\n",
      "\n",
      "Informational Message: The current Metropolis proposal is about to be rejected because of the following issue:\n",
      "Exception: normal_lpdf: Scale parameter is 0, but must be > 0!  (in '/Users/rob/.julia/dev/StatisticalRethinking/notebooks/12/tmp/m12.6.1.stan' at line 15)\n",
      "\n",
      "If this warning occurs sporadically, such as for highly constrained variable types like covariance matrices, then the sampler is fine,\n",
      "but if this warning occurs often then your model may be either severely ill-conditioned or misspecified.\n",
      "\n"
     ]
    }
   ],
   "cell_type": "code",
   "source": [
    "rc, chn, cnames = stan(stanmodel, m12_6_1_data, ProjDir, diagnostics=false, summary=false, CmdStanDir=CMDSTAN_HOME);"
   ],
   "metadata": {},
   "execution_count": 5
  },
  {
   "outputs": [],
   "cell_type": "markdown",
   "source": [
    "Describe the draws"
   ],
   "metadata": {}
  },
  {
   "outputs": [
    {
     "name": "stdout",
     "output_type": "stream",
     "text": [
      "Iterations = 1:1000\n",
      "Thinning interval = 1\n",
      "Chains = 1,2,3,4\n",
      "Samples per chain = 1000\n",
      "\n",
      "Empirical Posterior Estimates:\n",
      "                   Mean           SD         Naive SE        MCSE         ESS    \n",
      "         lp__  927.857644500  3.025980554 0.04784495354 0.10362610888  852.695329\n",
      "accept_stat__    0.934880775  0.087598400 0.00138505232 0.00170492182 1000.000000\n",
      "   stepsize__    0.050741500  0.002884818 0.00004561298 0.00046188285   39.009752\n",
      "  treedepth__    5.905500000  0.427920003 0.00676600933 0.01101834135 1000.000000\n",
      " n_leapfrog__   72.332000000 33.269422743 0.52603576153 0.79727510292 1000.000000\n",
      "  divergent__    0.000000000  0.000000000 0.00000000000 0.00000000000         NaN\n",
      "     energy__ -921.368807250  3.950867744 0.06246870403 0.13466897857  860.696132\n",
      "            a    1.109580272  0.745582754 0.01178869843 0.02159483156 1000.000000\n",
      "           bp    0.259711938  0.080091373 0.00126635580 0.00231493917 1000.000000\n",
      "  a_society.1   -0.203999044  0.254121303 0.00401801060 0.00667123729 1000.000000\n",
      "  a_society.2    0.042582973  0.219982643 0.00347823098 0.00507473037 1000.000000\n",
      "  a_society.3   -0.046232238  0.202072757 0.00319505083 0.00434780228 1000.000000\n",
      "  a_society.4    0.332601677  0.191466651 0.00302735357 0.00509929591 1000.000000\n",
      "  a_society.5    0.046731887  0.181222730 0.00286538295 0.00488173011 1000.000000\n",
      "  a_society.6   -0.320780339  0.207623747 0.00328281969 0.00471652664 1000.000000\n",
      "  a_society.7    0.152542270  0.173276039 0.00273973474 0.00423990284 1000.000000\n",
      "  a_society.8   -0.175408877  0.188864350 0.00298620758 0.00377148525 1000.000000\n",
      "  a_society.9    0.279282444  0.175008377 0.00276712540 0.00480575715 1000.000000\n",
      " a_society.10   -0.090101981  0.284250273 0.00449439144 0.00781651531 1000.000000\n",
      "sigma_society    0.313259484  0.128209755 0.00202717423 0.00421377202  925.763544\n",
      "\n",
      "Quantiles:\n",
      "                    2.5%          25.0%         50.0%          75.0%          97.5%    \n",
      "         lp__  921.1754750000  925.99200000  928.10050000  929.900750000  932.998100000\n",
      "accept_stat__    0.6862609000    0.90840775    0.97283300    0.995551500    0.999965025\n",
      "   stepsize__    0.0468840000    0.04898535    0.05063450    0.052390650    0.054813000\n",
      "  treedepth__    5.0000000000    6.00000000    6.00000000    6.000000000    7.000000000\n",
      " n_leapfrog__   31.0000000000   63.00000000   63.00000000   63.000000000  127.000000000\n",
      "  divergent__    0.0000000000    0.00000000    0.00000000    0.000000000    0.000000000\n",
      "     energy__ -928.2400000000 -924.14225000 -921.62350000 -918.953250000 -912.766425000\n",
      "            a   -0.4146340250    0.66487000    1.11873500    1.581892500    2.576441500\n",
      "           bp    0.1033257750    0.20934950    0.25852750    0.307746250    0.422800900\n",
      "  a_society.1   -0.7437538250   -0.34966350   -0.18411000   -0.038118250    0.240815225\n",
      "  a_society.2   -0.3885682250   -0.09119965    0.03748275    0.180244250    0.488079175\n",
      "  a_society.3   -0.4666831750   -0.16974050   -0.04104910    0.084401700    0.339211000\n",
      "  a_society.4   -0.0070110515    0.20220475    0.32083850    0.453906250    0.741415450\n",
      "  a_society.5   -0.3070127750   -0.07152555    0.04313245    0.162430500    0.419579100\n",
      "  a_society.6   -0.7587099250   -0.45333800   -0.30404300   -0.177664000    0.041097883\n",
      "  a_society.7   -0.1751793500    0.04031335    0.14357200    0.257616250    0.534653775\n",
      "  a_society.8   -0.5587537750   -0.29470600   -0.16605050   -0.049855975    0.189582225\n",
      "  a_society.9   -0.0342523875    0.15792700    0.26993650    0.388057750    0.648455175\n",
      " a_society.10   -0.6580702250   -0.25739300   -0.08608380    0.078010975    0.482316775\n",
      "sigma_society    0.1234746750    0.22661125    0.29190150    0.375307750    0.633766250\n",
      "\n"
     ]
    }
   ],
   "cell_type": "code",
   "source": [
    "describe(chn)"
   ],
   "metadata": {},
   "execution_count": 6
  },
  {
   "outputs": [],
   "cell_type": "markdown",
   "source": [
    "*This notebook was generated using [Literate.jl](https://github.com/fredrikekre/Literate.jl).*"
   ],
   "metadata": {}
  }
 ],
 "nbformat_minor": 3,
 "metadata": {
  "language_info": {
   "file_extension": ".jl",
   "mimetype": "application/julia",
   "name": "julia",
   "version": "1.2.0-DEV.183"
  },
  "kernelspec": {
   "name": "julia-1.2",
   "display_name": "Julia 1.2.0-DEV.183",
   "language": "julia"
  }
 },
 "nbformat": 4
}
