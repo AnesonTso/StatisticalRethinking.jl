{
 "cells": [
  {
   "outputs": [
    {
     "output_type": "execute_result",
     "data": {
      "text/plain": "(10, 5)"
     },
     "metadata": {},
     "execution_count": 1
    }
   ],
   "cell_type": "code",
   "source": [
    "using StatisticalRethinking\n",
    "using CmdStan, StanMCMCChain\n",
    "\n",
    "ProjDir = rel_path(\"..\", \"scripts\", \"12\")\n",
    "\n",
    "d = CSV.read(rel_path( \"..\", \"data\",  \"Kline.csv\"), delim=';');\n",
    "size(d) # Should be 10x5"
   ],
   "metadata": {},
   "execution_count": 1
  },
  {
   "outputs": [],
   "cell_type": "markdown",
   "source": [
    "New col logpop, set log() for population data"
   ],
   "metadata": {}
  },
  {
   "outputs": [],
   "cell_type": "code",
   "source": [
    "d[:logpop] = map((x) -> log(x), d[:population]);\n",
    "d[:society] = 1:10;\n",
    "\n",
    "first(d, 5)\n",
    "\n",
    "m12_6_1 = \"\n",
    "data{\n",
    "    int total_tools[10];\n",
    "    real logpop[10];\n",
    "    int society[10];\n",
    "}\n",
    "parameters{\n",
    "    real a;\n",
    "    real bp;\n",
    "    vector[10] a_society;\n",
    "    real<lower=0> sigma_society;\n",
    "}\n",
    "model{\n",
    "    vector[10] mu;\n",
    "    sigma_society ~ cauchy( 0 , 1 );\n",
    "    a_society ~ normal( 0 , sigma_society );\n",
    "    bp ~ normal( 0 , 1 );\n",
    "    a ~ normal( 0 , 10 );\n",
    "    for ( i in 1:10 ) {\n",
    "        mu[i] = a + a_society[society[i]] + bp * logpop[i];\n",
    "        mu[i] = exp(mu[i]);\n",
    "    }\n",
    "    total_tools ~ poisson( mu );\n",
    "}\n",
    "\";"
   ],
   "metadata": {},
   "execution_count": 2
  },
  {
   "outputs": [],
   "cell_type": "markdown",
   "source": [
    "Define the Stanmodel and set the output format to :mcmcchain."
   ],
   "metadata": {}
  },
  {
   "outputs": [],
   "cell_type": "code",
   "source": [
    "stanmodel = Stanmodel(name=\"m12.6.1\",  model=m12_6_1, output_format=:mcmcchain);"
   ],
   "metadata": {},
   "execution_count": 3
  },
  {
   "outputs": [],
   "cell_type": "markdown",
   "source": [
    "Input data for cmdstan"
   ],
   "metadata": {}
  },
  {
   "outputs": [],
   "cell_type": "code",
   "source": [
    "m12_6_1_data = Dict(\"total_tools\" => d[:total_tools], \"logpop\" => d[:logpop], \"society\" => d[:society]);"
   ],
   "metadata": {},
   "execution_count": 4
  },
  {
   "outputs": [],
   "cell_type": "markdown",
   "source": [
    "Sample using cmdstan"
   ],
   "metadata": {}
  },
  {
   "outputs": [],
   "cell_type": "code",
   "source": [
    "rc, chn, cnames = stan(stanmodel, m12_6_1_data, ProjDir, diagnostics=false, summary=false, CmdStanDir=CMDSTAN_HOME);"
   ],
   "metadata": {},
   "execution_count": 5
  },
  {
   "outputs": [],
   "cell_type": "markdown",
   "source": [
    "Describe the draws"
   ],
   "metadata": {}
  },
  {
   "outputs": [
    {
     "name": "stdout",
     "output_type": "stream",
     "text": [
      "Iterations = 1:1000\n",
      "Thinning interval = 1\n",
      "Chains = 1,2,3,4\n",
      "Samples per chain = 1000\n",
      "\n",
      "Empirical Posterior Estimates:\n",
      "                   Mean            SD         Naive SE       MCSE         ESS    \n",
      "         lp__  927.803010000  3.2472660017 0.05134378367 0.1269381586  654.412133\n",
      "accept_stat__    0.938293051  0.0866155403 0.00136951194 0.0019491625 1000.000000\n",
      "   stepsize__    0.047156325  0.0037622136 0.00005948582 0.0006023610   39.009752\n",
      "  treedepth__    5.952250000  0.4500228524 0.00711548606 0.0190494885  558.087760\n",
      " n_leapfrog__   76.986000000 36.9217091581 0.58378348023 1.7420268478  449.214644\n",
      "  divergent__    0.000000000  0.0000000000 0.00000000000 0.0000000000         NaN\n",
      "     energy__ -921.196012000  4.2274348573 0.06684161405 0.1601593448  696.705568\n",
      "            a    1.074409385  0.7332583058 0.01159383180 0.0217160312 1000.000000\n",
      "           bp    0.263929255  0.0801222553 0.00126684409 0.0024449544 1000.000000\n",
      "  a_society.1   -0.201289298  0.2391208841 0.00378083315 0.0056420323 1000.000000\n",
      "  a_society.2    0.049170070  0.2154435930 0.00340646231 0.0045155820 1000.000000\n",
      "  a_society.3   -0.044660433  0.1931605308 0.00305413616 0.0037398415 1000.000000\n",
      "  a_society.4    0.328431711  0.1876105183 0.00296638275 0.0051984579 1000.000000\n",
      "  a_society.5    0.046117858  0.1790436185 0.00283092818 0.0042053872 1000.000000\n",
      "  a_society.6   -0.314754556  0.2124315206 0.00335883726 0.0063556811 1000.000000\n",
      "  a_society.7    0.143604438  0.1728133086 0.00273241833 0.0041576623 1000.000000\n",
      "  a_society.8   -0.172439276  0.1856899198 0.00293601543 0.0042225838 1000.000000\n",
      "  a_society.9    0.273365498  0.1810674880 0.00286292836 0.0052255725 1000.000000\n",
      " a_society.10   -0.102483815  0.2948680133 0.00466227266 0.0091234295 1000.000000\n",
      "sigma_society    0.308928718  0.1285985320 0.00203332132 0.0049837605  665.821308\n",
      "\n",
      "Quantiles:\n",
      "                    2.5%           25.0%         50.0%         75.0%          97.5%    \n",
      "         lp__  920.7941000000  925.803500000  928.0820000  930.074750000  933.313200000\n",
      "accept_stat__    0.6843559250    0.915927250    0.9759825    0.995973000    0.999963050\n",
      "   stepsize__    0.0415341000    0.045332475    0.0475868    0.049410650    0.051917600\n",
      "  treedepth__    5.0000000000    6.000000000    6.0000000    6.000000000    7.000000000\n",
      " n_leapfrog__   31.0000000000   63.000000000   63.0000000   63.000000000  127.000000000\n",
      "  divergent__    0.0000000000    0.000000000    0.0000000    0.000000000    0.000000000\n",
      "     energy__ -928.6493750000 -924.157250000 -921.5005000 -918.577250000 -912.182525000\n",
      "            a   -0.4292406250    0.635785000    1.0977300    1.531915000    2.492752000\n",
      "           bp    0.1090571250    0.214338750    0.2615930    0.311435250    0.429343850\n",
      "  a_society.1   -0.7199208000   -0.345905000   -0.1820400   -0.042537700    0.241587575\n",
      "  a_society.2   -0.3626210250   -0.087772825    0.0428102    0.179237750    0.498081925\n",
      "  a_society.3   -0.4301025500   -0.167000500   -0.0411082    0.080638250    0.332253175\n",
      "  a_society.4   -0.0146189425    0.197499750    0.3215905    0.453259750    0.717159000\n",
      "  a_society.5   -0.3059014500   -0.067176900    0.0471391    0.160428000    0.405156825\n",
      "  a_society.6   -0.7632792000   -0.442003000   -0.2971720   -0.168230500    0.048466388\n",
      "  a_society.7   -0.1833442500    0.030771325    0.1356095    0.250651750    0.501671650\n",
      "  a_society.8   -0.5681336000   -0.282420500   -0.1608680   -0.048212675    0.171107550\n",
      "  a_society.9   -0.0533218600    0.150239000    0.2632615    0.386617250    0.649631600\n",
      " a_society.10   -0.7294112750   -0.267383250   -0.0909534    0.067108025    0.476607825\n",
      "sigma_society    0.1155539500    0.223648000    0.2884875    0.372333750    0.636212400\n",
      "\n"
     ]
    }
   ],
   "cell_type": "code",
   "source": [
    "describe(chn)"
   ],
   "metadata": {},
   "execution_count": 6
  },
  {
   "outputs": [],
   "cell_type": "markdown",
   "source": [
    "*This notebook was generated using [Literate.jl](https://github.com/fredrikekre/Literate.jl).*"
   ],
   "metadata": {}
  }
 ],
 "nbformat_minor": 3,
 "metadata": {
  "language_info": {
   "file_extension": ".jl",
   "mimetype": "application/julia",
   "name": "julia",
   "version": "1.2.0-DEV.183"
  },
  "kernelspec": {
   "name": "julia-1.2",
   "display_name": "Julia 1.2.0-DEV.183",
   "language": "julia"
  }
 },
 "nbformat": 4
}
