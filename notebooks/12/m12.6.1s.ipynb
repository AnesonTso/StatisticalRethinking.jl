{
 "cells": [
  {
   "outputs": [
    {
     "output_type": "execute_result",
     "data": {
      "text/plain": "(10, 5)"
     },
     "metadata": {},
     "execution_count": 1
    }
   ],
   "cell_type": "code",
   "source": [
    "using StatisticalRethinking\n",
    "using CmdStan, StanMCMCChain\n",
    "\n",
    "ProjDir = rel_path(\"..\", \"scripts\", \"12\")\n",
    "\n",
    "d = CSV.read(rel_path( \"..\", \"data\",  \"Kline.csv\"), delim=';');\n",
    "size(d) # Should be 10x5"
   ],
   "metadata": {},
   "execution_count": 1
  },
  {
   "outputs": [],
   "cell_type": "markdown",
   "source": [
    "New col logpop, set log() for population data"
   ],
   "metadata": {}
  },
  {
   "outputs": [],
   "cell_type": "code",
   "source": [
    "d[:logpop] = map((x) -> log(x), d[:population]);\n",
    "d[:society] = 1:10;\n",
    "\n",
    "first(d, 5)\n",
    "\n",
    "m12_6_1 = \"\n",
    "data{\n",
    "    int total_tools[10];\n",
    "    real logpop[10];\n",
    "    int society[10];\n",
    "}\n",
    "parameters{\n",
    "    real a;\n",
    "    real bp;\n",
    "    vector[10] a_society;\n",
    "    real<lower=0> sigma_society;\n",
    "}\n",
    "model{\n",
    "    vector[10] mu;\n",
    "    sigma_society ~ cauchy( 0 , 1 );\n",
    "    a_society ~ normal( 0 , sigma_society );\n",
    "    bp ~ normal( 0 , 1 );\n",
    "    a ~ normal( 0 , 10 );\n",
    "    for ( i in 1:10 ) {\n",
    "        mu[i] = a + a_society[society[i]] + bp * logpop[i];\n",
    "        mu[i] = exp(mu[i]);\n",
    "    }\n",
    "    total_tools ~ poisson( mu );\n",
    "}\n",
    "\";"
   ],
   "metadata": {},
   "execution_count": 2
  },
  {
   "outputs": [],
   "cell_type": "markdown",
   "source": [
    "Define the Stanmodel and set the output format to :mcmcchain."
   ],
   "metadata": {}
  },
  {
   "outputs": [],
   "cell_type": "code",
   "source": [
    "stanmodel = Stanmodel(name=\"m12.6.1\",  model=m12_6_1, num_warmup=2000,\n",
    "num_samples=2000, output_format=:mcmcchain);"
   ],
   "metadata": {},
   "execution_count": 3
  },
  {
   "outputs": [],
   "cell_type": "markdown",
   "source": [
    "Input data for cmdstan"
   ],
   "metadata": {}
  },
  {
   "outputs": [],
   "cell_type": "code",
   "source": [
    "m12_6_1_data = Dict(\"total_tools\" => d[:total_tools], \"logpop\" => d[:logpop], \"society\" => d[:society]);"
   ],
   "metadata": {},
   "execution_count": 4
  },
  {
   "outputs": [],
   "cell_type": "markdown",
   "source": [
    "Sample using cmdstan"
   ],
   "metadata": {}
  },
  {
   "outputs": [
    {
     "name": "stdout",
     "output_type": "stream",
     "text": [
      "\n",
      "Inference for Stan model: m12_6_1_model\n",
      "4 chains: each with iter=(2000,2000,2000,2000); warmup=(0,0,0,0); thin=(1,1,1,1); 8000 iterations saved.\n",
      "\n",
      "Warmup took (0.95, 1.0, 0.93, 1.00) seconds, 3.9 seconds total\n",
      "Sampling took (1.1, 1.2, 1.1, 1.1) seconds, 4.5 seconds total\n",
      "\n",
      "                    Mean     MCSE   StdDev        5%       50%       95%    N_Eff  N_Eff/s    R_hat\n",
      "lp__             9.3e+02  7.3e-02  3.1e+00   9.2e+02   9.3e+02   9.3e+02  1.8e+03  4.1e+02  1.0e+00\n",
      "accept_stat__    9.5e-01  8.1e-04  7.6e-02   7.9e-01   9.8e-01   1.0e+00  8.8e+03  2.0e+03  1.0e+00\n",
      "stepsize__       4.9e-02  3.1e-03  4.4e-03   4.4e-02   5.3e-02   5.3e-02  2.0e+00  4.5e-01  4.2e+13\n",
      "treedepth__      5.9e+00  2.3e-02  4.7e-01   5.0e+00   6.0e+00   7.0e+00  4.1e+02  9.2e+01  1.0e+00\n",
      "n_leapfrog__     7.7e+01  2.6e+00  3.9e+01   3.1e+01   6.3e+01   1.3e+02  2.3e+02  5.2e+01  1.0e+00\n",
      "divergent__      0.0e+00      nan  0.0e+00   0.0e+00   0.0e+00   0.0e+00      nan      nan      nan\n",
      "energy__        -9.2e+02  9.2e-02  4.0e+00  -9.3e+02  -9.2e+02  -9.1e+02  2.0e+03  4.4e+02  1.0e+00\n",
      "a                1.1e+00  1.8e-02  7.8e-01  -2.0e-01   1.1e+00   2.3e+00  2.0e+03  4.5e+02  1.0e+00\n",
      "bp               2.6e-01  1.9e-03  8.6e-02   1.3e-01   2.6e-01   4.0e-01  2.0e+03  4.5e+02  1.0e+00\n",
      "a_society[1]    -2.0e-01  4.3e-03  2.5e-01  -6.4e-01  -1.9e-01   1.8e-01  3.4e+03  7.7e+02  1.0e+00\n",
      "a_society[2]     4.8e-02  3.8e-03  2.2e-01  -3.1e-01   4.4e-02   4.2e-01  3.3e+03  7.5e+02  1.0e+00\n",
      "a_society[3]    -4.3e-02  3.0e-03  2.0e-01  -3.7e-01  -3.9e-02   2.8e-01  4.2e+03  9.5e+02  1.0e+00\n",
      "a_society[4]     3.4e-01  3.7e-03  1.9e-01   3.6e-02   3.3e-01   6.7e-01  2.8e+03  6.3e+02  1.0e+00\n",
      "a_society[5]     5.1e-02  2.9e-03  1.8e-01  -2.3e-01   4.8e-02   3.5e-01  3.9e+03  8.7e+02  1.0e+00\n",
      "a_society[6]    -3.2e-01  3.3e-03  2.1e-01  -6.8e-01  -3.0e-01  -5.8e-03  4.1e+03  9.1e+02  1.0e+00\n",
      "a_society[7]     1.5e-01  3.1e-03  1.8e-01  -1.2e-01   1.5e-01   4.6e-01  3.4e+03  7.5e+02  1.0e+00\n",
      "a_society[8]    -1.7e-01  2.8e-03  1.9e-01  -4.9e-01  -1.6e-01   1.2e-01  4.4e+03  9.9e+02  1.0e+00\n",
      "a_society[9]     2.8e-01  3.5e-03  1.8e-01   7.5e-03   2.7e-01   5.9e-01  2.7e+03  6.1e+02  1.0e+00\n",
      "a_society[10]   -9.1e-02  6.8e-03  3.1e-01  -6.0e-01  -8.6e-02   4.0e-01  2.1e+03  4.8e+02  1.0e+00\n",
      "sigma_society    3.2e-01  3.0e-03  1.3e-01   1.5e-01   2.9e-01   5.6e-01  1.9e+03  4.3e+02  1.0e+00\n",
      "\n",
      "Samples were drawn using hmc with nuts.\n",
      "For each parameter, N_Eff is a crude measure of effective sample size,\n",
      "and R_hat is the potential scale reduction factor on split chains (at \n",
      "convergence, R_hat=1).\n",
      "\n"
     ]
    }
   ],
   "cell_type": "code",
   "source": [
    "rc, chn, cnames = stan(stanmodel, m12_6_1_data, ProjDir, diagnostics=false, CmdStanDir=CMDSTAN_HOME);"
   ],
   "metadata": {},
   "execution_count": 5
  },
  {
   "outputs": [],
   "cell_type": "markdown",
   "source": [
    "Describe the draws"
   ],
   "metadata": {}
  },
  {
   "outputs": [
    {
     "name": "stdout",
     "output_type": "stream",
     "text": [
      "Iterations = 1:2000\n",
      "Thinning interval = 1\n",
      "Chains = 1,2,3,4\n",
      "Samples per chain = 2000\n",
      "\n",
      "Empirical Posterior Estimates:\n",
      "                   Mean          SD         Naive SE         MCSE         ESS   \n",
      "         lp__  927.81165188  3.093819455 0.034589953058 0.07255072720 1818.47105\n",
      "accept_stat__    0.94564937  0.075504790 0.000844169213 0.00087858389 2000.00000\n",
      "   stepsize__    0.04871415  0.004388071 0.000049060128 0.00049366573   79.00988\n",
      "  treedepth__    5.93887500  0.474780909 0.005308211934 0.01248035640 1447.21322\n",
      " n_leapfrog__   77.17300000 39.270075609 0.439052792719 1.06744241240 1353.42616\n",
      "  divergent__    0.00000000  0.000000000 0.000000000000 0.00000000000        NaN\n",
      "     energy__ -921.32832700  4.049520377 0.045275014196 0.09047214455 2000.00000\n",
      "            a    1.09441127  0.783710896 0.008762154191 0.01866513999 1762.98764\n",
      "           bp    0.26121619  0.085513088 0.000956065385 0.00208400540 1683.71080\n",
      "  a_society.1   -0.20425710  0.249787513 0.002792709299 0.00399606511 2000.00000\n",
      "  a_society.2    0.04844716  0.220996197 0.002470812602 0.00354691257 2000.00000\n",
      "  a_society.3   -0.04276744  0.195007930 0.002180254935 0.00274890958 2000.00000\n",
      "  a_society.4    0.33605223  0.194579403 0.002175463858 0.00381027013 2000.00000\n",
      "  a_society.5    0.05094865  0.179093256 0.002002323473 0.00300582123 2000.00000\n",
      "  a_society.6   -0.31996850  0.209434756 0.002341551753 0.00313029804 2000.00000\n",
      "  a_society.7    0.15374291  0.177091254 0.001979940415 0.00310404620 2000.00000\n",
      "  a_society.8   -0.16940504  0.186628813 0.002086573566 0.00246919801 2000.00000\n",
      "  a_society.9    0.28294504  0.181977727 0.002034572840 0.00367366711 2000.00000\n",
      " a_society.10   -0.09142510  0.311294920 0.003480383005 0.00751228707 1717.11631\n",
      "sigma_society    0.31693430  0.132027117 0.001476108041 0.00322056944 1680.58678\n",
      "\n",
      "Quantiles:\n",
      "                   2.5%           25.0%         50.0%          75.0%          97.5%    \n",
      "         lp__  920.915800000  925.911500000  928.09350000  930.003250000  932.968250000\n",
      "accept_stat__    0.728349875    0.924139000    0.97744450    0.996181750    0.999957000\n",
      "   stepsize__    0.043508600    0.044799050    0.04911685    0.053031950    0.053114300\n",
      "  treedepth__    5.000000000    6.000000000    6.00000000    6.000000000    7.000000000\n",
      " n_leapfrog__   31.000000000   63.000000000   63.00000000   63.000000000  191.000000000\n",
      "  divergent__    0.000000000    0.000000000    0.00000000    0.000000000    0.000000000\n",
      "     energy__ -928.297550000 -924.251000000 -921.63700000 -918.803750000 -912.712900000\n",
      "            a   -0.522647800    0.636815750    1.11024000    1.563840000    2.602542000\n",
      "           bp    0.092172833    0.210954250    0.25959500    0.310801750    0.438941775\n",
      "  a_society.1   -0.734316075   -0.350496500   -0.18655550   -0.042368675    0.257529750\n",
      "  a_society.2   -0.383558800   -0.085662275    0.04372355    0.178549500    0.504441575\n",
      "  a_society.3   -0.440817125   -0.162184250   -0.03894890    0.076777425    0.346321375\n",
      "  a_society.4   -0.008465109    0.200176250    0.32791250    0.460149000    0.747136150\n",
      "  a_society.5   -0.302511850   -0.065921050    0.04789755    0.162717500    0.405448350\n",
      "  a_society.6   -0.766859700   -0.449628250   -0.30411950   -0.174580250    0.046276697\n",
      "  a_society.7   -0.177019725    0.034148125    0.14560800    0.262300250    0.522058775\n",
      "  a_society.8   -0.560325550   -0.286092250   -0.15973150   -0.046660250    0.177987025\n",
      "  a_society.9   -0.044249215    0.162463500    0.27384100    0.392346500    0.665383225\n",
      " a_society.10   -0.724528525   -0.264416000   -0.08561200    0.080728925    0.531898550\n",
      "sigma_society    0.123329625    0.225041500    0.29463650    0.382636000    0.635897550\n",
      "\n"
     ]
    }
   ],
   "cell_type": "code",
   "source": [
    "describe(chn)"
   ],
   "metadata": {},
   "execution_count": 6
  },
  {
   "outputs": [],
   "cell_type": "markdown",
   "source": [
    "*This notebook was generated using [Literate.jl](https://github.com/fredrikekre/Literate.jl).*"
   ],
   "metadata": {}
  }
 ],
 "nbformat_minor": 3,
 "metadata": {
  "language_info": {
   "file_extension": ".jl",
   "mimetype": "application/julia",
   "name": "julia",
   "version": "1.2.0-DEV.224"
  },
  "kernelspec": {
   "name": "julia-1.2",
   "display_name": "Julia 1.2.0-DEV.224",
   "language": "julia"
  }
 },
 "nbformat": 4
}
