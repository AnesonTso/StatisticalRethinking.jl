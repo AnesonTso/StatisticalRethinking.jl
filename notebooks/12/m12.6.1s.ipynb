{
 "cells": [
  {
   "outputs": [
    {
     "output_type": "execute_result",
     "data": {
      "text/plain": "(10, 5)"
     },
     "metadata": {},
     "execution_count": 1
    }
   ],
   "cell_type": "code",
   "source": [
    "using StatisticalRethinking\n",
    "using CmdStan, StanMCMCChain\n",
    "\n",
    "ProjDir = rel_path(\"..\", \"scripts\", \"12\")\n",
    "\n",
    "d = CSV.read(rel_path( \"..\", \"data\",  \"Kline.csv\"), delim=';');\n",
    "size(d) # Should be 10x5"
   ],
   "metadata": {},
   "execution_count": 1
  },
  {
   "outputs": [],
   "cell_type": "markdown",
   "source": [
    "New col logpop, set log() for population data"
   ],
   "metadata": {}
  },
  {
   "outputs": [],
   "cell_type": "code",
   "source": [
    "d[:logpop] = map((x) -> log(x), d[:population]);\n",
    "d[:society] = 1:10;\n",
    "\n",
    "first(d, 5)\n",
    "\n",
    "m12_6_1 = \"\n",
    "data{\n",
    "    int total_tools[10];\n",
    "    real logpop[10];\n",
    "    int society[10];\n",
    "}\n",
    "parameters{\n",
    "    real a;\n",
    "    real bp;\n",
    "    vector[10] a_society;\n",
    "    real<lower=0> sigma_society;\n",
    "}\n",
    "model{\n",
    "    vector[10] mu;\n",
    "    sigma_society ~ cauchy( 0 , 1 );\n",
    "    a_society ~ normal( 0 , sigma_society );\n",
    "    bp ~ normal( 0 , 1 );\n",
    "    a ~ normal( 0 , 10 );\n",
    "    for ( i in 1:10 ) {\n",
    "        mu[i] = a + a_society[society[i]] + bp * logpop[i];\n",
    "        mu[i] = exp(mu[i]);\n",
    "    }\n",
    "    total_tools ~ poisson( mu );\n",
    "}\n",
    "\";"
   ],
   "metadata": {},
   "execution_count": 2
  },
  {
   "outputs": [],
   "cell_type": "markdown",
   "source": [
    "Define the Stanmodel and set the output format to :mcmcchain."
   ],
   "metadata": {}
  },
  {
   "outputs": [],
   "cell_type": "code",
   "source": [
    "stanmodel = Stanmodel(name=\"m12.6.1\",  model=m12_6_1, num_warmup=2000,\n",
    "num_samples=2000, output_format=:mcmcchain);"
   ],
   "metadata": {},
   "execution_count": 3
  },
  {
   "outputs": [],
   "cell_type": "markdown",
   "source": [
    "Input data for cmdstan"
   ],
   "metadata": {}
  },
  {
   "outputs": [],
   "cell_type": "code",
   "source": [
    "m12_6_1_data = Dict(\"total_tools\" => d[:total_tools], \"logpop\" => d[:logpop], \"society\" => d[:society]);"
   ],
   "metadata": {},
   "execution_count": 4
  },
  {
   "outputs": [],
   "cell_type": "markdown",
   "source": [
    "Sample using cmdstan"
   ],
   "metadata": {}
  },
  {
   "outputs": [
    {
     "name": "stdout",
     "output_type": "stream",
     "text": [
      "Informational Message: The current Metropolis proposal is about to be rejected because of the following issue:\n",
      "Exception: normal_lpdf: Scale parameter is 0, but must be > 0!  (in '/Users/rob/.julia/dev/StatisticalRethinking/notebooks/12/tmp/m12.6.1.stan' at line 15)\n",
      "\n",
      "If this warning occurs sporadically, such as for highly constrained variable types like covariance matrices, then the sampler is fine,\n",
      "but if this warning occurs often then your model may be either severely ill-conditioned or misspecified.\n",
      "\n",
      "\n",
      "Inference for Stan model: m12_6_1_model\n",
      "4 chains: each with iter=(2000,2000,2000,2000); warmup=(0,0,0,0); thin=(1,1,1,1); 8000 iterations saved.\n",
      "\n",
      "Warmup took (0.86, 0.91, 1.0, 0.88) seconds, 3.7 seconds total\n",
      "Sampling took (1.1, 0.96, 1.0, 1.0) seconds, 4.1 seconds total\n",
      "\n",
      "                    Mean     MCSE   StdDev        5%       50%       95%    N_Eff  N_Eff/s    R_hat\n",
      "lp__             9.3e+02  7.9e-02  3.1e+00   9.2e+02   9.3e+02   9.3e+02  1.5e+03  3.6e+02  1.0e+00\n",
      "accept_stat__    9.4e-01  9.2e-04  8.5e-02   7.6e-01   9.8e-01   1.0e+00  8.4e+03  2.0e+03  1.0e+00\n",
      "stepsize__       5.4e-02  4.4e-03  6.3e-03   4.7e-02   5.8e-02   6.1e-02  2.0e+00  4.9e-01  3.7e+13\n",
      "treedepth__      5.8e+00  4.7e-02  4.8e-01   5.0e+00   6.0e+00   6.0e+00  1.1e+02  2.6e+01  1.0e+00\n",
      "n_leapfrog__     6.9e+01  1.7e+00  3.1e+01   3.1e+01   6.3e+01   1.3e+02  3.2e+02  7.9e+01  1.0e+00\n",
      "divergent__      0.0e+00      nan  0.0e+00   0.0e+00   0.0e+00   0.0e+00      nan      nan      nan\n",
      "energy__        -9.2e+02  9.3e-02  4.0e+00  -9.3e+02  -9.2e+02  -9.1e+02  1.8e+03  4.5e+02  1.0e+00\n",
      "a                1.1e+00  1.7e-02  7.5e-01  -1.5e-01   1.1e+00   2.3e+00  2.1e+03  5.0e+02  1.0e+00\n",
      "bp               2.6e-01  1.8e-03  8.1e-02   1.3e-01   2.6e-01   4.0e-01  2.1e+03  5.1e+02  1.0e+00\n",
      "a_society[1]    -2.0e-01  4.4e-03  2.4e-01  -6.2e-01  -1.9e-01   1.6e-01  3.0e+03  7.3e+02  1.0e+00\n",
      "a_society[2]     4.3e-02  3.7e-03  2.2e-01  -3.0e-01   3.8e-02   4.1e-01  3.5e+03  8.5e+02  1.0e+00\n",
      "a_society[3]    -4.8e-02  2.8e-03  1.9e-01  -3.6e-01  -4.6e-02   2.6e-01  4.8e+03  1.2e+03  1.0e+00\n",
      "a_society[4]     3.2e-01  3.5e-03  1.9e-01   2.9e-02   3.1e-01   6.5e-01  2.8e+03  6.9e+02  1.0e+00\n",
      "a_society[5]     4.1e-02  2.7e-03  1.7e-01  -2.4e-01   4.0e-02   3.3e-01  4.1e+03  1.0e+03  1.0e+00\n",
      "a_society[6]    -3.2e-01  3.6e-03  2.1e-01  -6.9e-01  -3.1e-01  -5.1e-03  3.4e+03  8.2e+02  1.0e+00\n",
      "a_society[7]     1.4e-01  2.8e-03  1.7e-01  -1.3e-01   1.4e-01   4.4e-01  3.8e+03  9.2e+02  1.0e+00\n",
      "a_society[8]    -1.7e-01  2.9e-03  1.8e-01  -4.9e-01  -1.6e-01   1.1e-01  4.0e+03  9.8e+02  1.0e+00\n",
      "a_society[9]     2.7e-01  3.2e-03  1.7e-01   2.1e-03   2.6e-01   5.7e-01  2.9e+03  7.1e+02  1.0e+00\n",
      "a_society[10]   -9.1e-02  6.0e-03  2.9e-01  -5.7e-01  -8.4e-02   3.7e-01  2.3e+03  5.7e+02  1.0e+00\n",
      "sigma_society    3.1e-01  3.0e-03  1.3e-01   1.4e-01   2.9e-01   5.4e-01  1.7e+03  4.1e+02  1.0e+00\n",
      "\n",
      "Samples were drawn using hmc with nuts.\n",
      "For each parameter, N_Eff is a crude measure of effective sample size,\n",
      "and R_hat is the potential scale reduction factor on split chains (at \n",
      "convergence, R_hat=1).\n",
      "\n"
     ]
    }
   ],
   "cell_type": "code",
   "source": [
    "rc, chn, cnames = stan(stanmodel, m12_6_1_data, ProjDir, diagnostics=false, CmdStanDir=CMDSTAN_HOME);"
   ],
   "metadata": {},
   "execution_count": 5
  },
  {
   "outputs": [],
   "cell_type": "markdown",
   "source": [
    "Describe the draws"
   ],
   "metadata": {}
  },
  {
   "outputs": [
    {
     "name": "stdout",
     "output_type": "stream",
     "text": [
      "Iterations = 1:2000\n",
      "Thinning interval = 1\n",
      "Chains = 1,2,3,4\n",
      "Samples per chain = 2000\n",
      "\n",
      "Empirical Posterior Estimates:\n",
      "                   Mean            SD         Naive SE        MCSE         ESS   \n",
      "         lp__  927.985769000  3.0644731149 0.03426185100 0.07712787633 1578.66102\n",
      "accept_stat__    0.939241435  0.0846281322 0.00094617128 0.00123435771 2000.00000\n",
      "   stepsize__    0.053805050  0.0062577417 0.00006996368 0.00070400694   79.00988\n",
      "  treedepth__    5.817750000  0.4832847329 0.00540328758 0.01555408591  965.42194\n",
      " n_leapfrog__   69.320000000 30.8212969234 0.34459257538 0.74441719622 1714.22974\n",
      "  divergent__    0.000000000  0.0000000000 0.00000000000 0.00000000000        NaN\n",
      "     energy__ -921.478042500  3.9672362974 0.04435505022 0.09405512784 1779.14433\n",
      "            a    1.115864400  0.7503400070 0.00838905631 0.01546567871 2000.00000\n",
      "           bp    0.259562232  0.0811952358 0.00090779033 0.00166221421 2000.00000\n",
      "  a_society.1   -0.204876675  0.2427568297 0.00271410387 0.00417702504 2000.00000\n",
      "  a_society.2    0.042659133  0.2192403976 0.00245118216 0.00348752681 2000.00000\n",
      "  a_society.3   -0.048047770  0.1926267198 0.00215363220 0.00257683793 2000.00000\n",
      "  a_society.4    0.322236417  0.1880897665 0.00210290752 0.00370187980 2000.00000\n",
      "  a_society.5    0.040687718  0.1748750097 0.00195516205 0.00274647031 2000.00000\n",
      "  a_society.6   -0.320092545  0.2077612368 0.00232284124 0.00328134863 2000.00000\n",
      "  a_society.7    0.142567602  0.1714154905 0.00191648345 0.00259852432 2000.00000\n",
      "  a_society.8   -0.171501454  0.1841713701 0.00205909851 0.00283525916 2000.00000\n",
      "  a_society.9    0.272055334  0.1727977173 0.00193193721 0.00310461745 2000.00000\n",
      " a_society.10   -0.091190770  0.2885529295 0.00322611983 0.00558894223 2000.00000\n",
      "sigma_society    0.306891893  0.1252757521 0.00140062549 0.00272274263 2000.00000\n",
      "\n",
      "Quantiles:\n",
      "                   2.5%          25.0%         50.0%          75.0%          97.5%    \n",
      "         lp__  921.300900000  926.15350000  928.25550000  930.094250000  933.235075000\n",
      "accept_stat__    0.695063775    0.91716250    0.97507350    0.995766000    0.999967000\n",
      "   stepsize__    0.047309200    0.04781500    0.05320925    0.059199300    0.061492500\n",
      "  treedepth__    5.000000000    6.00000000    6.00000000    6.000000000    7.000000000\n",
      " n_leapfrog__   31.000000000   63.00000000   63.00000000   63.000000000  127.000000000\n",
      "  divergent__    0.000000000    0.00000000    0.00000000    0.000000000    0.000000000\n",
      "     energy__ -928.568100000 -924.22425000 -921.73050000 -919.030750000 -913.033600000\n",
      "            a   -0.464350900    0.67330725    1.13004500    1.581617500    2.594900500\n",
      "           bp    0.097856423    0.21010275    0.25816900    0.306656000    0.429958225\n",
      "  a_society.1   -0.741436225   -0.34770600   -0.18877550   -0.045793875    0.236256075\n",
      "  a_society.2   -0.373317325   -0.09652008    0.03789825    0.175767500    0.490922725\n",
      "  a_society.3   -0.428888275   -0.17150850   -0.04552345    0.072929425    0.335599150\n",
      "  a_society.4   -0.021269710    0.19301800    0.31253800    0.442441750    0.715978350\n",
      "  a_society.5   -0.298712625   -0.07337440    0.04009880    0.154357750    0.390207925\n",
      "  a_society.6   -0.766507425   -0.45018850   -0.30502700   -0.173876250    0.044838082\n",
      "  a_society.7   -0.184654200    0.02883625    0.13733250    0.250192500    0.500117050\n",
      "  a_society.8   -0.560997400   -0.28501025   -0.16372300   -0.046565175    0.165692400\n",
      "  a_society.9   -0.043726183    0.15528775    0.26375650    0.380660750    0.646643150\n",
      " a_society.10   -0.712636400   -0.25309250   -0.08406150    0.076746575    0.486259750\n",
      "sigma_society    0.110810250    0.22296275    0.28810800    0.370089250    0.611422400\n",
      "\n"
     ]
    }
   ],
   "cell_type": "code",
   "source": [
    "describe(chn)"
   ],
   "metadata": {},
   "execution_count": 6
  },
  {
   "outputs": [],
   "cell_type": "markdown",
   "source": [
    "*This notebook was generated using [Literate.jl](https://github.com/fredrikekre/Literate.jl).*"
   ],
   "metadata": {}
  }
 ],
 "nbformat_minor": 3,
 "metadata": {
  "language_info": {
   "file_extension": ".jl",
   "mimetype": "application/julia",
   "name": "julia",
   "version": "1.1.0"
  },
  "kernelspec": {
   "name": "julia-1.1",
   "display_name": "Julia 1.1.0",
   "language": "julia"
  }
 },
 "nbformat": 4
}
