{
 "cells": [
  {
   "outputs": [],
   "cell_type": "code",
   "source": [
    "using StatisticalRethinking\n",
    "using Turing\n",
    "\n",
    "Turing.setadbackend(:reverse_diff)\n",
    "\n",
    "d = CSV.read(joinpath(dirname(Base.pathof(StatisticalRethinking)), \"..\", \"data\",\n",
    "    \"chimpanzees.csv\"), delim=';')\n",
    "size(d) # Should be 504x8"
   ],
   "metadata": {},
   "execution_count": null
  },
  {
   "outputs": [],
   "cell_type": "markdown",
   "source": [
    "pulled_left, actor, condition, prosoc_left"
   ],
   "metadata": {}
  },
  {
   "outputs": [],
   "cell_type": "code",
   "source": [
    "@model m12_4(pulled_left, actor, condition, prosoc_left) = begin\n",
    "    # Total num of y\n",
    "    N = length(pulled_left)\n",
    "    # Separate σ priors for each actor\n",
    "    σ_actor ~ Truncated(Cauchy(0, 1), 0, Inf)\n",
    "    # Number of unique actors in the data set\n",
    "    N_actor = length(unique(actor)) #7\n",
    "    # Vector of actors (1,..,7) which we'll set priors on\n",
    "    α_actor = Vector{Real}(undef, N_actor)\n",
    "    # For each actor [1,..,7] set a prior N(0,σ_actor)\n",
    "    α_actor ~ [Normal(0, σ_actor)]\n",
    "    # Prior for intercept, prosoc_left, and the interaction\n",
    "    α ~ Normal(0, 10)\n",
    "    βp ~ Normal(0, 10)\n",
    "    βpC ~ Normal(0, 10)\n",
    "\n",
    "    logitp = [α + α_actor[actor[i]] +\n",
    "            (βp + βpC * condition[i]) * prosoc_left[i]\n",
    "            for i = 1:N]\n",
    "    # Thanks to Kai Xu for suggesting ones(Int64, N)\n",
    "    pulled_left ~ VecBinomialLogit(ones(Int64, N), logitp)\n",
    "\n",
    "end\n",
    "\n",
    "posterior = sample(m12_4(\n",
    "    Vector{Int64}(d[:pulled_left]),\n",
    "    Vector{Int64}(d[:actor]),\n",
    "    Vector{Int64}(d[:condition]),\n",
    "    Vector{Int64}(d[:prosoc_left])),\n",
    "    Turing.NUTS(5000, 1000, 0.95))\n",
    "describe(posterior)"
   ],
   "metadata": {},
   "execution_count": null
  },
  {
   "outputs": [],
   "cell_type": "markdown",
   "source": [
    "               Mean          SD         Naive SE        MCSE         ESS\n",
    "α_actor[1]   -1.11011587  0.942479419 0.01332867176 0.04207377399  501.78862\n",
    "α_actor[2]    4.17679954  1.687671921 0.02386728519 0.09014810957  350.47965\n",
    "α_actor[3]   -1.42213619  0.948547865 0.01341449255 0.04185850474  513.51257\n",
    "α_actor[4]   -1.41850807  0.942874352 0.01333425697 0.04212306117  501.03469\n",
    "α_actor[5]   -1.11821892  0.940595165 0.01330202439 0.04111483882  523.36937\n",
    "α_actor[6]   -0.17385116  0.936295050 0.01324121158 0.04118925376  516.72278\n",
    "α_actor[7]    1.36124861  0.960920812 0.01358947244 0.04247177824  511.88725\n",
    "         α    0.40429878  0.919621740 0.01300541537 0.04129444975  495.94680\n",
    "        βp    0.82392934  0.262246234 0.00370872181 0.00320562039 5000.00000\n",
    "       βpC   -0.13718998  0.305215739 0.00431640237 0.00442145848 4765.21771\n",
    "   σ_actor    2.27242953  1.058444473 0.01496866529 0.04201440070  634.65808"
   ],
   "metadata": {}
  },
  {
   "outputs": [],
   "cell_type": "markdown",
   "source": [
    "            Mean StdDev lower 0.89 upper 0.89 n_eff Rhat\n",
    "a_actor[1]  -1.13   0.95      -2.62       0.27  2739    1\n",
    "a_actor[2]   4.17   1.66       1.80       6.39  3958    1\n",
    "a_actor[3]  -1.44   0.95      -2.90      -0.02  2720    1\n",
    "a_actor[4]  -1.44   0.94      -2.92      -0.04  2690    1\n",
    "a_actor[5]  -1.13   0.94      -2.58       0.31  2727    1\n",
    "a_actor[6]  -0.19   0.94      -1.64       1.25  2738    1\n",
    "a_actor[7]   1.34   0.97      -0.09       2.87  2889    1\n",
    "a            0.42   0.93      -1.00       1.81  2622    1\n",
    "bp           0.83   0.26       0.41       1.25  8594    1\n",
    "bpC         -0.13   0.30      -0.62       0.34  8403    1\n",
    "sigma_actor  2.26   0.94       1.07       3.46  4155    1"
   ],
   "metadata": {}
  },
  {
   "outputs": [],
   "cell_type": "markdown",
   "source": [
    "*This notebook was generated using [Literate.jl](https://github.com/fredrikekre/Literate.jl).*"
   ],
   "metadata": {}
  }
 ],
 "nbformat_minor": 3,
 "metadata": {
  "language_info": {
   "file_extension": ".jl",
   "mimetype": "application/julia",
   "name": "julia",
   "version": "1.1.0-DEV.839"
  },
  "kernelspec": {
   "name": "julia-1.1",
   "display_name": "Julia 1.1.0-DEV.839",
   "language": "julia"
  }
 },
 "nbformat": 4
}
