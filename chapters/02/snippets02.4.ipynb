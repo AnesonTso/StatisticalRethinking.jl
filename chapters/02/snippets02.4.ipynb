{
 "cells": [
  {
   "outputs": [],
   "cell_type": "markdown",
   "source": [
    "# Chapter 2 snippets"
   ],
   "metadata": {}
  },
  {
   "outputs": [],
   "cell_type": "markdown",
   "source": [
    "### snippet 2.0"
   ],
   "metadata": {}
  },
  {
   "outputs": [],
   "cell_type": "markdown",
   "source": [
    "Load Julia packages (libraries) needed  for the snippets in chapter 0"
   ],
   "metadata": {}
  },
  {
   "outputs": [],
   "cell_type": "code",
   "source": [
    "using Distributions, RDatasets, DataFrames, Plots"
   ],
   "metadata": {},
   "execution_count": 1
  },
  {
   "outputs": [],
   "cell_type": "markdown",
   "source": [
    "Package `RDatasets` provides access to the often used R datasets.\n",
    "See RData if you have local .rda files."
   ],
   "metadata": {}
  },
  {
   "outputs": [],
   "cell_type": "markdown",
   "source": [
    "Package `DataFrames` supports a Julia implementation DataFrames."
   ],
   "metadata": {}
  },
  {
   "outputs": [],
   "cell_type": "markdown",
   "source": [
    "Package `Plos` is one of the available plotting options in Julia.\n",
    "By default Plots uses GR as the ."
   ],
   "metadata": {}
  },
  {
   "outputs": [],
   "cell_type": "markdown",
   "source": [
    "snippet 2.1"
   ],
   "metadata": {}
  },
  {
   "outputs": [
    {
     "name": "stdout",
     "output_type": "stream",
     "text": [
      "ways = [0, 3, 8, 9, 0] = [0, 3, 8, 9, 0]\n",
      "ways / sum(ways) = [0.0, 0.15, 0.4, 0.45, 0.0]\n"
     ]
    },
    {
     "output_type": "execute_result",
     "data": {
      "text/plain": "5-element Array{Float64,1}:\n 0.0 \n 0.15\n 0.4 \n 0.45\n 0.0 "
     },
     "metadata": {},
     "execution_count": 2
    }
   ],
   "cell_type": "code",
   "source": [
    "@show ways  = [0  , 3 , 8 , 9 , 0 ];\n",
    "@show ways/sum(ways)"
   ],
   "metadata": {},
   "execution_count": 2
  },
  {
   "outputs": [],
   "cell_type": "markdown",
   "source": [
    "snippet 2.2"
   ],
   "metadata": {}
  },
  {
   "outputs": [
    {
     "name": "stdout",
     "output_type": "stream",
     "text": [
      "d = Binomial(9, 0.5) = Binomial{Float64}(n=9, p=0.5)\n",
      "pdf(d, 6) = 0.1640625000000001\n"
     ]
    },
    {
     "output_type": "execute_result",
     "data": {
      "text/plain": "0.1640625000000001"
     },
     "metadata": {},
     "execution_count": 3
    }
   ],
   "cell_type": "code",
   "source": [
    "@show d = Binomial(9, 0.5);\n",
    "@show pdf(d, 6)"
   ],
   "metadata": {},
   "execution_count": 3
  },
  {
   "outputs": [],
   "cell_type": "markdown",
   "source": [
    "snippet 2.3"
   ],
   "metadata": {}
  },
  {
   "outputs": [],
   "cell_type": "markdown",
   "source": [
    "define grid"
   ],
   "metadata": {}
  },
  {
   "outputs": [
    {
     "output_type": "execute_result",
     "data": {
      "text/plain": "0.0:0.05263157894736842:1.0"
     },
     "metadata": {},
     "execution_count": 4
    }
   ],
   "cell_type": "code",
   "source": [
    "p_grid = range( 0 , stop=1 , length=20 )"
   ],
   "metadata": {},
   "execution_count": 4
  },
  {
   "outputs": [],
   "cell_type": "markdown",
   "source": [
    "define prior"
   ],
   "metadata": {}
  },
  {
   "outputs": [
    {
     "output_type": "execute_result",
     "data": {
      "text/plain": "20-element Array{Float64,1}:\n 1.0\n 1.0\n 1.0\n 1.0\n 1.0\n 1.0\n 1.0\n 1.0\n 1.0\n 1.0\n 1.0\n 1.0\n 1.0\n 1.0\n 1.0\n 1.0\n 1.0\n 1.0\n 1.0\n 1.0"
     },
     "metadata": {},
     "execution_count": 5
    }
   ],
   "cell_type": "code",
   "source": [
    "prior = ones( 20 )"
   ],
   "metadata": {},
   "execution_count": 5
  },
  {
   "outputs": [],
   "cell_type": "markdown",
   "source": [
    "compute likelihood at each value in grid"
   ],
   "metadata": {}
  },
  {
   "outputs": [
    {
     "output_type": "execute_result",
     "data": {
      "text/plain": "20-element Array{Float64,1}:\n 0.0                  \n 1.5181489823498353e-6\n 8.185092949558011e-5 \n 0.0007772922789631156\n 0.0035985753655699746\n 0.01116094609366412  \n 0.0266829865137807   \n 0.052921099147992784 \n 0.09082697598243343  \n 0.13834132601662863  \n 0.18976862279372927  \n 0.23611465826683395  \n 0.26661125168434857  \n 0.27140056190174167  \n 0.24500508864811482  \n 0.18976862279372927  \n 0.1179181175789971   \n 0.05026670207647313  \n 0.008853844865064258 \n 0.0                  "
     },
     "metadata": {},
     "execution_count": 6
    }
   ],
   "cell_type": "code",
   "source": [
    "likelihood = [pdf(Binomial(9, p), 6) for p in p_grid]"
   ],
   "metadata": {},
   "execution_count": 6
  },
  {
   "outputs": [],
   "cell_type": "markdown",
   "source": [
    "compute product of likelihood and prior"
   ],
   "metadata": {}
  },
  {
   "outputs": [
    {
     "output_type": "execute_result",
     "data": {
      "text/plain": "20-element Array{Float64,1}:\n 0.0                  \n 1.5181489823498353e-6\n 8.185092949558011e-5 \n 0.0007772922789631156\n 0.0035985753655699746\n 0.01116094609366412  \n 0.0266829865137807   \n 0.052921099147992784 \n 0.09082697598243343  \n 0.13834132601662863  \n 0.18976862279372927  \n 0.23611465826683395  \n 0.26661125168434857  \n 0.27140056190174167  \n 0.24500508864811482  \n 0.18976862279372927  \n 0.1179181175789971   \n 0.05026670207647313  \n 0.008853844865064258 \n 0.0                  "
     },
     "metadata": {},
     "execution_count": 7
    }
   ],
   "cell_type": "code",
   "source": [
    "unstd_posterior = likelihood .* prior"
   ],
   "metadata": {},
   "execution_count": 7
  },
  {
   "outputs": [],
   "cell_type": "markdown",
   "source": [
    "standardize the posterior, so it sums to 1"
   ],
   "metadata": {}
  },
  {
   "outputs": [
    {
     "output_type": "execute_result",
     "data": {
      "text/plain": "20-element Array{Float64,1}:\n 0.0                   \n 7.989837111322336e-7  \n 4.307716842570822e-5  \n 0.00040907966009970354\n 0.0018938873152764026 \n 0.005873872876336504  \n 0.014042937706860135  \n 0.02785174359436921   \n 0.0478011546857793    \n 0.07280739067692472   \n 0.09987296389152912   \n 0.12426432985697713   \n 0.14031432341419828   \n 0.14283488028690608   \n 0.12894325738133897   \n 0.09987296389152912   \n 0.06205889954697725   \n 0.026454766059438056  \n 0.0046596730033231955 \n 0.0                   "
     },
     "metadata": {},
     "execution_count": 8
    }
   ],
   "cell_type": "code",
   "source": [
    "posterior = unstd_posterior  ./ sum(unstd_posterior)"
   ],
   "metadata": {},
   "execution_count": 8
  },
  {
   "outputs": [],
   "cell_type": "markdown",
   "source": [
    "snippet 2.4"
   ],
   "metadata": {}
  },
  {
   "outputs": [],
   "cell_type": "code",
   "source": [
    "p1 = plot( p_grid , posterior ,\n",
    "    xlab=\"probability of water\" , ylab=\"posterior probability\",\n",
    "    lab = \"interpolated\", title=\"20 points\" )\n",
    "p2 = scatter!( p1, p_grid , posterior, lab=\"computed\" )\n",
    "\n",
    "savefig(\"s2_4.pdf\")"
   ],
   "metadata": {},
   "execution_count": 9
  },
  {
   "outputs": [],
   "cell_type": "markdown",
   "source": [
    "snippet 2.5"
   ],
   "metadata": {}
  },
  {
   "outputs": [],
   "cell_type": "code",
   "source": [
    "prior1 = [p < 0.5 ? 0 : 1 for p in p_grid]\n",
    "prior2 = [exp( -5*abs( p - 0.5 ) ) for p in p_grid]\n",
    "\n",
    "p3 = plot(p_grid, prior1,\n",
    "  xlab=\"probability of water\" , ylab=\"posterior probability\",\n",
    "  lab = \"semi_uniform\", title=\"Other priors\" )\n",
    "p4 = plot!(p3, p_grid, prior2,  lab = \"double_exponential\" )\n",
    "\n",
    "savefig(\"s2_5.pdf\")"
   ],
   "metadata": {},
   "execution_count": 10
  },
  {
   "outputs": [],
   "cell_type": "markdown",
   "source": [
    "snippet 2.6"
   ],
   "metadata": {}
  },
  {
   "outputs": [
    {
     "output_type": "execute_result",
     "data": {
      "text/plain": "11-element Array{Float64,1}:\n 0.0                  \n 6.119619676969699e-5 \n 0.0027507228748277547\n 0.020990295492006112 \n 0.07426951762034938  \n 0.16395585982964972  \n 0.25065962196867914  \n 0.2666544945836329   \n 0.17604626398897624  \n 0.04461202744510915  \n 0.0                  "
     },
     "metadata": {},
     "execution_count": 11
    }
   ],
   "cell_type": "code",
   "source": [
    "p_grid = range(0, step=0.1, stop=1)\n",
    "prior = ones(length(p_grid))\n",
    "likelihood = [pdf(Binomial(9, p), 6) for p in p_grid]\n",
    "posterior = likelihood .* prior\n",
    "posterior = posterior / sum(posterior)"
   ],
   "metadata": {},
   "execution_count": 11
  },
  {
   "outputs": [],
   "cell_type": "markdown",
   "source": [
    "snippet 2.7\n",
    "analytical calculation"
   ],
   "metadata": {}
  },
  {
   "outputs": [
    {
     "output_type": "execute_result",
     "data": {
      "text/plain": "Plot{Plots.GRBackend() n=1}",
      "image/png": "[encoded data removed]",
      "text/html": [
       "<?xml version=\"1.0\" encoding=\"utf-8\"?>\n",
       "<svg xmlns=\"http://www.w3.org/2000/svg\" xmlns:xlink=\"http://www.w3.org/1999/xlink\" width=\"600\" height=\"400\" viewBox=\"0 0 2400 1600\">\n",
       "<defs>\n",
       "  <clipPath id=\"clip9100\">\n",
       "    <rect x=\"0\" y=\"0\" width=\"2000\" height=\"2000\"/>\n",
       "  </clipPath>\n",
       "</defs>\n",
       "<defs>\n",
       "  <clipPath id=\"clip9101\">\n",
       "    <rect x=\"0\" y=\"0\" width=\"2400\" height=\"1600\"/>\n",
       "  </clipPath>\n",
       "</defs>\n",
       "<polygon clip-path=\"url(#clip9101)\" points=\"\n",
       "0,1600 2400,1600 2400,0 0,0 \n",
       "  \" fill=\"#ffffff\" fill-opacity=\"1\"/>\n",
       "<defs>\n",
       "  <clipPath id=\"clip9102\">\n",
       "    <rect x=\"480\" y=\"0\" width=\"1681\" height=\"1600\"/>\n",
       "  </clipPath>\n",
       "</defs>\n",
       "<polygon clip-path=\"url(#clip9101)\" points=\"\n",
       "161.394,1503.47 2321.26,1503.47 2321.26,47.2441 161.394,47.2441 \n",
       "  \" fill=\"#ffffff\" fill-opacity=\"1\"/>\n",
       "<defs>\n",
       "  <clipPath id=\"clip9103\">\n",
       "    <rect x=\"161\" y=\"47\" width=\"2161\" height=\"1457\"/>\n",
       "  </clipPath>\n",
       "</defs>\n",
       "<polyline clip-path=\"url(#clip9103)\" style=\"stroke:#000000; stroke-width:2; stroke-opacity:0.1; fill:none\" points=\"\n",
       "  222.522,1503.47 222.522,47.2441 \n",
       "  \"/>\n",
       "<polyline clip-path=\"url(#clip9103)\" style=\"stroke:#000000; stroke-width:2; stroke-opacity:0.1; fill:none\" points=\"\n",
       "  731.925,1503.47 731.925,47.2441 \n",
       "  \"/>\n",
       "<polyline clip-path=\"url(#clip9103)\" style=\"stroke:#000000; stroke-width:2; stroke-opacity:0.1; fill:none\" points=\"\n",
       "  1241.33,1503.47 1241.33,47.2441 \n",
       "  \"/>\n",
       "<polyline clip-path=\"url(#clip9103)\" style=\"stroke:#000000; stroke-width:2; stroke-opacity:0.1; fill:none\" points=\"\n",
       "  1750.73,1503.47 1750.73,47.2441 \n",
       "  \"/>\n",
       "<polyline clip-path=\"url(#clip9103)\" style=\"stroke:#000000; stroke-width:2; stroke-opacity:0.1; fill:none\" points=\"\n",
       "  2260.13,1503.47 2260.13,47.2441 \n",
       "  \"/>\n",
       "<polyline clip-path=\"url(#clip9103)\" style=\"stroke:#000000; stroke-width:2; stroke-opacity:0.1; fill:none\" points=\"\n",
       "  161.394,1462.26 2321.26,1462.26 \n",
       "  \"/>\n",
       "<polyline clip-path=\"url(#clip9103)\" style=\"stroke:#000000; stroke-width:2; stroke-opacity:0.1; fill:none\" points=\"\n",
       "  161.394,1210.71 2321.26,1210.71 \n",
       "  \"/>\n",
       "<polyline clip-path=\"url(#clip9103)\" style=\"stroke:#000000; stroke-width:2; stroke-opacity:0.1; fill:none\" points=\"\n",
       "  161.394,959.161 2321.26,959.161 \n",
       "  \"/>\n",
       "<polyline clip-path=\"url(#clip9103)\" style=\"stroke:#000000; stroke-width:2; stroke-opacity:0.1; fill:none\" points=\"\n",
       "  161.394,707.611 2321.26,707.611 \n",
       "  \"/>\n",
       "<polyline clip-path=\"url(#clip9103)\" style=\"stroke:#000000; stroke-width:2; stroke-opacity:0.1; fill:none\" points=\"\n",
       "  161.394,456.061 2321.26,456.061 \n",
       "  \"/>\n",
       "<polyline clip-path=\"url(#clip9103)\" style=\"stroke:#000000; stroke-width:2; stroke-opacity:0.1; fill:none\" points=\"\n",
       "  161.394,204.51 2321.26,204.51 \n",
       "  \"/>\n",
       "<polyline clip-path=\"url(#clip9101)\" style=\"stroke:#000000; stroke-width:4; stroke-opacity:1; fill:none\" points=\"\n",
       "  161.394,1503.47 2321.26,1503.47 \n",
       "  \"/>\n",
       "<polyline clip-path=\"url(#clip9101)\" style=\"stroke:#000000; stroke-width:4; stroke-opacity:1; fill:none\" points=\"\n",
       "  161.394,1503.47 161.394,47.2441 \n",
       "  \"/>\n",
       "<polyline clip-path=\"url(#clip9101)\" style=\"stroke:#000000; stroke-width:4; stroke-opacity:1; fill:none\" points=\"\n",
       "  222.522,1503.47 222.522,1481.63 \n",
       "  \"/>\n",
       "<polyline clip-path=\"url(#clip9101)\" style=\"stroke:#000000; stroke-width:4; stroke-opacity:1; fill:none\" points=\"\n",
       "  731.925,1503.47 731.925,1481.63 \n",
       "  \"/>\n",
       "<polyline clip-path=\"url(#clip9101)\" style=\"stroke:#000000; stroke-width:4; stroke-opacity:1; fill:none\" points=\"\n",
       "  1241.33,1503.47 1241.33,1481.63 \n",
       "  \"/>\n",
       "<polyline clip-path=\"url(#clip9101)\" style=\"stroke:#000000; stroke-width:4; stroke-opacity:1; fill:none\" points=\"\n",
       "  1750.73,1503.47 1750.73,1481.63 \n",
       "  \"/>\n",
       "<polyline clip-path=\"url(#clip9101)\" style=\"stroke:#000000; stroke-width:4; stroke-opacity:1; fill:none\" points=\"\n",
       "  2260.13,1503.47 2260.13,1481.63 \n",
       "  \"/>\n",
       "<polyline clip-path=\"url(#clip9101)\" style=\"stroke:#000000; stroke-width:4; stroke-opacity:1; fill:none\" points=\"\n",
       "  161.394,1462.26 193.792,1462.26 \n",
       "  \"/>\n",
       "<polyline clip-path=\"url(#clip9101)\" style=\"stroke:#000000; stroke-width:4; stroke-opacity:1; fill:none\" points=\"\n",
       "  161.394,1210.71 193.792,1210.71 \n",
       "  \"/>\n",
       "<polyline clip-path=\"url(#clip9101)\" style=\"stroke:#000000; stroke-width:4; stroke-opacity:1; fill:none\" points=\"\n",
       "  161.394,959.161 193.792,959.161 \n",
       "  \"/>\n",
       "<polyline clip-path=\"url(#clip9101)\" style=\"stroke:#000000; stroke-width:4; stroke-opacity:1; fill:none\" points=\"\n",
       "  161.394,707.611 193.792,707.611 \n",
       "  \"/>\n",
       "<polyline clip-path=\"url(#clip9101)\" style=\"stroke:#000000; stroke-width:4; stroke-opacity:1; fill:none\" points=\"\n",
       "  161.394,456.061 193.792,456.061 \n",
       "  \"/>\n",
       "<polyline clip-path=\"url(#clip9101)\" style=\"stroke:#000000; stroke-width:4; stroke-opacity:1; fill:none\" points=\"\n",
       "  161.394,204.51 193.792,204.51 \n",
       "  \"/>\n",
       "<g clip-path=\"url(#clip9101)\">\n",
       "<text style=\"fill:#000000; fill-opacity:1; font-family:Arial,Helvetica Neue,Helvetica,sans-serif; font-size:48px; text-anchor:middle;\" transform=\"rotate(0, 222.522, 1557.47)\" x=\"222.522\" y=\"1557.47\">0.00</text>\n",
       "</g>\n",
       "<g clip-path=\"url(#clip9101)\">\n",
       "<text style=\"fill:#000000; fill-opacity:1; font-family:Arial,Helvetica Neue,Helvetica,sans-serif; font-size:48px; text-anchor:middle;\" transform=\"rotate(0, 731.925, 1557.47)\" x=\"731.925\" y=\"1557.47\">0.25</text>\n",
       "</g>\n",
       "<g clip-path=\"url(#clip9101)\">\n",
       "<text style=\"fill:#000000; fill-opacity:1; font-family:Arial,Helvetica Neue,Helvetica,sans-serif; font-size:48px; text-anchor:middle;\" transform=\"rotate(0, 1241.33, 1557.47)\" x=\"1241.33\" y=\"1557.47\">0.50</text>\n",
       "</g>\n",
       "<g clip-path=\"url(#clip9101)\">\n",
       "<text style=\"fill:#000000; fill-opacity:1; font-family:Arial,Helvetica Neue,Helvetica,sans-serif; font-size:48px; text-anchor:middle;\" transform=\"rotate(0, 1750.73, 1557.47)\" x=\"1750.73\" y=\"1557.47\">0.75</text>\n",
       "</g>\n",
       "<g clip-path=\"url(#clip9101)\">\n",
       "<text style=\"fill:#000000; fill-opacity:1; font-family:Arial,Helvetica Neue,Helvetica,sans-serif; font-size:48px; text-anchor:middle;\" transform=\"rotate(0, 2260.13, 1557.47)\" x=\"2260.13\" y=\"1557.47\">1.00</text>\n",
       "</g>\n",
       "<g clip-path=\"url(#clip9101)\">\n",
       "<text style=\"fill:#000000; fill-opacity:1; font-family:Arial,Helvetica Neue,Helvetica,sans-serif; font-size:48px; text-anchor:end;\" transform=\"rotate(0, 137.394, 1479.76)\" x=\"137.394\" y=\"1479.76\">0.0</text>\n",
       "</g>\n",
       "<g clip-path=\"url(#clip9101)\">\n",
       "<text style=\"fill:#000000; fill-opacity:1; font-family:Arial,Helvetica Neue,Helvetica,sans-serif; font-size:48px; text-anchor:end;\" transform=\"rotate(0, 137.394, 1228.21)\" x=\"137.394\" y=\"1228.21\">0.5</text>\n",
       "</g>\n",
       "<g clip-path=\"url(#clip9101)\">\n",
       "<text style=\"fill:#000000; fill-opacity:1; font-family:Arial,Helvetica Neue,Helvetica,sans-serif; font-size:48px; text-anchor:end;\" transform=\"rotate(0, 137.394, 976.661)\" x=\"137.394\" y=\"976.661\">1.0</text>\n",
       "</g>\n",
       "<g clip-path=\"url(#clip9101)\">\n",
       "<text style=\"fill:#000000; fill-opacity:1; font-family:Arial,Helvetica Neue,Helvetica,sans-serif; font-size:48px; text-anchor:end;\" transform=\"rotate(0, 137.394, 725.111)\" x=\"137.394\" y=\"725.111\">1.5</text>\n",
       "</g>\n",
       "<g clip-path=\"url(#clip9101)\">\n",
       "<text style=\"fill:#000000; fill-opacity:1; font-family:Arial,Helvetica Neue,Helvetica,sans-serif; font-size:48px; text-anchor:end;\" transform=\"rotate(0, 137.394, 473.561)\" x=\"137.394\" y=\"473.561\">2.0</text>\n",
       "</g>\n",
       "<g clip-path=\"url(#clip9101)\">\n",
       "<text style=\"fill:#000000; fill-opacity:1; font-family:Arial,Helvetica Neue,Helvetica,sans-serif; font-size:48px; text-anchor:end;\" transform=\"rotate(0, 137.394, 222.01)\" x=\"137.394\" y=\"222.01\">2.5</text>\n",
       "</g>\n",
       "<polyline clip-path=\"url(#clip9103)\" style=\"stroke:#009af9; stroke-width:4; stroke-opacity:1; fill:none\" points=\"\n",
       "  222.522,1462.26 242.898,1462.26 263.275,1462.26 283.651,1462.26 304.027,1462.26 324.403,1462.25 344.779,1462.24 365.155,1462.22 385.531,1462.17 405.907,1462.09 \n",
       "  426.283,1461.95 446.659,1461.73 467.035,1461.4 487.412,1460.92 507.788,1460.24 528.164,1459.3 548.54,1458.06 568.916,1456.43 589.292,1454.34 609.668,1451.69 \n",
       "  630.044,1448.41 650.42,1444.39 670.796,1439.52 691.172,1433.7 711.549,1426.81 731.925,1418.73 752.301,1409.36 772.677,1398.57 793.053,1386.25 813.429,1372.29 \n",
       "  833.805,1356.59 854.181,1339.05 874.557,1319.58 894.933,1298.11 915.309,1274.57 935.686,1248.92 956.062,1221.11 976.438,1191.14 996.814,1159 1017.19,1124.73 \n",
       "  1037.57,1088.37 1057.94,1049.98 1078.32,1009.66 1098.69,967.53 1119.07,923.726 1139.45,878.417 1159.82,831.794 1180.2,784.075 1200.57,735.5 1220.95,686.334 \n",
       "  1241.33,636.862 1261.7,587.392 1282.08,538.249 1302.46,489.777 1322.83,442.332 1343.21,396.285 1363.58,352.013 1383.96,309.901 1404.34,270.334 1424.71,233.698 \n",
       "  1445.09,200.372 1465.46,170.725 1485.84,145.113 1506.22,123.872 1526.59,107.318 1546.97,95.7345 1567.34,89.3761 1587.72,88.4582 1608.1,93.1547 1628.47,103.593 \n",
       "  1648.85,119.849 1669.22,141.945 1689.6,169.843 1709.98,203.445 1730.35,242.586 1750.73,287.035 1771.11,336.493 1791.48,390.59 1811.86,448.888 1832.23,510.88 \n",
       "  1852.61,575.996 1872.99,643.599 1893.36,712.998 1913.74,783.449 1934.11,854.169 1954.49,924.337 1974.87,993.114 1995.24,1059.66 2015.62,1123.13 2035.99,1182.72 \n",
       "  2056.37,1237.67 2076.75,1287.31 2097.12,1331.06 2117.5,1368.48 2137.88,1399.29 2158.25,1423.43 2178.63,1441.09 2199,1452.76 2219.38,1459.27 2239.76,1461.86 \n",
       "  2260.13,1462.26 \n",
       "  \"/>\n",
       "<polygon clip-path=\"url(#clip9101)\" points=\"\n",
       "1610.62,251.724 2249.26,251.724 2249.26,130.764 1610.62,130.764 \n",
       "  \" fill=\"#ffffff\" fill-opacity=\"1\"/>\n",
       "<polyline clip-path=\"url(#clip9101)\" style=\"stroke:#000000; stroke-width:4; stroke-opacity:1; fill:none\" points=\"\n",
       "  1610.62,251.724 2249.26,251.724 2249.26,130.764 1610.62,130.764 1610.62,251.724 \n",
       "  \"/>\n",
       "<polyline clip-path=\"url(#clip9101)\" style=\"stroke:#009af9; stroke-width:4; stroke-opacity:1; fill:none\" points=\"\n",
       "  1634.62,191.244 1778.62,191.244 \n",
       "  \"/>\n",
       "<g clip-path=\"url(#clip9101)\">\n",
       "<text style=\"fill:#000000; fill-opacity:1; font-family:Arial,Helvetica Neue,Helvetica,sans-serif; font-size:48px; text-anchor:start;\" transform=\"rotate(0, 1802.62, 208.744)\" x=\"1802.62\" y=\"208.744\">Conjugate solution</text>\n",
       "</g>\n",
       "</svg>\n"
      ],
      "image/svg+xml": [
       "<?xml version=\"1.0\" encoding=\"utf-8\"?>\n",
       "<svg xmlns=\"http://www.w3.org/2000/svg\" xmlns:xlink=\"http://www.w3.org/1999/xlink\" width=\"600\" height=\"400\" viewBox=\"0 0 2400 1600\">\n",
       "<defs>\n",
       "  <clipPath id=\"clip9000\">\n",
       "    <rect x=\"0\" y=\"0\" width=\"2000\" height=\"2000\"/>\n",
       "  </clipPath>\n",
       "</defs>\n",
       "<defs>\n",
       "  <clipPath id=\"clip9001\">\n",
       "    <rect x=\"0\" y=\"0\" width=\"2400\" height=\"1600\"/>\n",
       "  </clipPath>\n",
       "</defs>\n",
       "<polygon clip-path=\"url(#clip9001)\" points=\"\n",
       "0,1600 2400,1600 2400,0 0,0 \n",
       "  \" fill=\"#ffffff\" fill-opacity=\"1\"/>\n",
       "<defs>\n",
       "  <clipPath id=\"clip9002\">\n",
       "    <rect x=\"480\" y=\"0\" width=\"1681\" height=\"1600\"/>\n",
       "  </clipPath>\n",
       "</defs>\n",
       "<polygon clip-path=\"url(#clip9001)\" points=\"\n",
       "161.394,1503.47 2321.26,1503.47 2321.26,47.2441 161.394,47.2441 \n",
       "  \" fill=\"#ffffff\" fill-opacity=\"1\"/>\n",
       "<defs>\n",
       "  <clipPath id=\"clip9003\">\n",
       "    <rect x=\"161\" y=\"47\" width=\"2161\" height=\"1457\"/>\n",
       "  </clipPath>\n",
       "</defs>\n",
       "<polyline clip-path=\"url(#clip9003)\" style=\"stroke:#000000; stroke-width:2; stroke-opacity:0.1; fill:none\" points=\"\n",
       "  222.522,1503.47 222.522,47.2441 \n",
       "  \"/>\n",
       "<polyline clip-path=\"url(#clip9003)\" style=\"stroke:#000000; stroke-width:2; stroke-opacity:0.1; fill:none\" points=\"\n",
       "  731.925,1503.47 731.925,47.2441 \n",
       "  \"/>\n",
       "<polyline clip-path=\"url(#clip9003)\" style=\"stroke:#000000; stroke-width:2; stroke-opacity:0.1; fill:none\" points=\"\n",
       "  1241.33,1503.47 1241.33,47.2441 \n",
       "  \"/>\n",
       "<polyline clip-path=\"url(#clip9003)\" style=\"stroke:#000000; stroke-width:2; stroke-opacity:0.1; fill:none\" points=\"\n",
       "  1750.73,1503.47 1750.73,47.2441 \n",
       "  \"/>\n",
       "<polyline clip-path=\"url(#clip9003)\" style=\"stroke:#000000; stroke-width:2; stroke-opacity:0.1; fill:none\" points=\"\n",
       "  2260.13,1503.47 2260.13,47.2441 \n",
       "  \"/>\n",
       "<polyline clip-path=\"url(#clip9003)\" style=\"stroke:#000000; stroke-width:2; stroke-opacity:0.1; fill:none\" points=\"\n",
       "  161.394,1462.26 2321.26,1462.26 \n",
       "  \"/>\n",
       "<polyline clip-path=\"url(#clip9003)\" style=\"stroke:#000000; stroke-width:2; stroke-opacity:0.1; fill:none\" points=\"\n",
       "  161.394,1210.71 2321.26,1210.71 \n",
       "  \"/>\n",
       "<polyline clip-path=\"url(#clip9003)\" style=\"stroke:#000000; stroke-width:2; stroke-opacity:0.1; fill:none\" points=\"\n",
       "  161.394,959.161 2321.26,959.161 \n",
       "  \"/>\n",
       "<polyline clip-path=\"url(#clip9003)\" style=\"stroke:#000000; stroke-width:2; stroke-opacity:0.1; fill:none\" points=\"\n",
       "  161.394,707.611 2321.26,707.611 \n",
       "  \"/>\n",
       "<polyline clip-path=\"url(#clip9003)\" style=\"stroke:#000000; stroke-width:2; stroke-opacity:0.1; fill:none\" points=\"\n",
       "  161.394,456.061 2321.26,456.061 \n",
       "  \"/>\n",
       "<polyline clip-path=\"url(#clip9003)\" style=\"stroke:#000000; stroke-width:2; stroke-opacity:0.1; fill:none\" points=\"\n",
       "  161.394,204.51 2321.26,204.51 \n",
       "  \"/>\n",
       "<polyline clip-path=\"url(#clip9001)\" style=\"stroke:#000000; stroke-width:4; stroke-opacity:1; fill:none\" points=\"\n",
       "  161.394,1503.47 2321.26,1503.47 \n",
       "  \"/>\n",
       "<polyline clip-path=\"url(#clip9001)\" style=\"stroke:#000000; stroke-width:4; stroke-opacity:1; fill:none\" points=\"\n",
       "  161.394,1503.47 161.394,47.2441 \n",
       "  \"/>\n",
       "<polyline clip-path=\"url(#clip9001)\" style=\"stroke:#000000; stroke-width:4; stroke-opacity:1; fill:none\" points=\"\n",
       "  222.522,1503.47 222.522,1481.63 \n",
       "  \"/>\n",
       "<polyline clip-path=\"url(#clip9001)\" style=\"stroke:#000000; stroke-width:4; stroke-opacity:1; fill:none\" points=\"\n",
       "  731.925,1503.47 731.925,1481.63 \n",
       "  \"/>\n",
       "<polyline clip-path=\"url(#clip9001)\" style=\"stroke:#000000; stroke-width:4; stroke-opacity:1; fill:none\" points=\"\n",
       "  1241.33,1503.47 1241.33,1481.63 \n",
       "  \"/>\n",
       "<polyline clip-path=\"url(#clip9001)\" style=\"stroke:#000000; stroke-width:4; stroke-opacity:1; fill:none\" points=\"\n",
       "  1750.73,1503.47 1750.73,1481.63 \n",
       "  \"/>\n",
       "<polyline clip-path=\"url(#clip9001)\" style=\"stroke:#000000; stroke-width:4; stroke-opacity:1; fill:none\" points=\"\n",
       "  2260.13,1503.47 2260.13,1481.63 \n",
       "  \"/>\n",
       "<polyline clip-path=\"url(#clip9001)\" style=\"stroke:#000000; stroke-width:4; stroke-opacity:1; fill:none\" points=\"\n",
       "  161.394,1462.26 193.792,1462.26 \n",
       "  \"/>\n",
       "<polyline clip-path=\"url(#clip9001)\" style=\"stroke:#000000; stroke-width:4; stroke-opacity:1; fill:none\" points=\"\n",
       "  161.394,1210.71 193.792,1210.71 \n",
       "  \"/>\n",
       "<polyline clip-path=\"url(#clip9001)\" style=\"stroke:#000000; stroke-width:4; stroke-opacity:1; fill:none\" points=\"\n",
       "  161.394,959.161 193.792,959.161 \n",
       "  \"/>\n",
       "<polyline clip-path=\"url(#clip9001)\" style=\"stroke:#000000; stroke-width:4; stroke-opacity:1; fill:none\" points=\"\n",
       "  161.394,707.611 193.792,707.611 \n",
       "  \"/>\n",
       "<polyline clip-path=\"url(#clip9001)\" style=\"stroke:#000000; stroke-width:4; stroke-opacity:1; fill:none\" points=\"\n",
       "  161.394,456.061 193.792,456.061 \n",
       "  \"/>\n",
       "<polyline clip-path=\"url(#clip9001)\" style=\"stroke:#000000; stroke-width:4; stroke-opacity:1; fill:none\" points=\"\n",
       "  161.394,204.51 193.792,204.51 \n",
       "  \"/>\n",
       "<g clip-path=\"url(#clip9001)\">\n",
       "<text style=\"fill:#000000; fill-opacity:1; font-family:Arial,Helvetica Neue,Helvetica,sans-serif; font-size:48px; text-anchor:middle;\" transform=\"rotate(0, 222.522, 1557.47)\" x=\"222.522\" y=\"1557.47\">0.00</text>\n",
       "</g>\n",
       "<g clip-path=\"url(#clip9001)\">\n",
       "<text style=\"fill:#000000; fill-opacity:1; font-family:Arial,Helvetica Neue,Helvetica,sans-serif; font-size:48px; text-anchor:middle;\" transform=\"rotate(0, 731.925, 1557.47)\" x=\"731.925\" y=\"1557.47\">0.25</text>\n",
       "</g>\n",
       "<g clip-path=\"url(#clip9001)\">\n",
       "<text style=\"fill:#000000; fill-opacity:1; font-family:Arial,Helvetica Neue,Helvetica,sans-serif; font-size:48px; text-anchor:middle;\" transform=\"rotate(0, 1241.33, 1557.47)\" x=\"1241.33\" y=\"1557.47\">0.50</text>\n",
       "</g>\n",
       "<g clip-path=\"url(#clip9001)\">\n",
       "<text style=\"fill:#000000; fill-opacity:1; font-family:Arial,Helvetica Neue,Helvetica,sans-serif; font-size:48px; text-anchor:middle;\" transform=\"rotate(0, 1750.73, 1557.47)\" x=\"1750.73\" y=\"1557.47\">0.75</text>\n",
       "</g>\n",
       "<g clip-path=\"url(#clip9001)\">\n",
       "<text style=\"fill:#000000; fill-opacity:1; font-family:Arial,Helvetica Neue,Helvetica,sans-serif; font-size:48px; text-anchor:middle;\" transform=\"rotate(0, 2260.13, 1557.47)\" x=\"2260.13\" y=\"1557.47\">1.00</text>\n",
       "</g>\n",
       "<g clip-path=\"url(#clip9001)\">\n",
       "<text style=\"fill:#000000; fill-opacity:1; font-family:Arial,Helvetica Neue,Helvetica,sans-serif; font-size:48px; text-anchor:end;\" transform=\"rotate(0, 137.394, 1479.76)\" x=\"137.394\" y=\"1479.76\">0.0</text>\n",
       "</g>\n",
       "<g clip-path=\"url(#clip9001)\">\n",
       "<text style=\"fill:#000000; fill-opacity:1; font-family:Arial,Helvetica Neue,Helvetica,sans-serif; font-size:48px; text-anchor:end;\" transform=\"rotate(0, 137.394, 1228.21)\" x=\"137.394\" y=\"1228.21\">0.5</text>\n",
       "</g>\n",
       "<g clip-path=\"url(#clip9001)\">\n",
       "<text style=\"fill:#000000; fill-opacity:1; font-family:Arial,Helvetica Neue,Helvetica,sans-serif; font-size:48px; text-anchor:end;\" transform=\"rotate(0, 137.394, 976.661)\" x=\"137.394\" y=\"976.661\">1.0</text>\n",
       "</g>\n",
       "<g clip-path=\"url(#clip9001)\">\n",
       "<text style=\"fill:#000000; fill-opacity:1; font-family:Arial,Helvetica Neue,Helvetica,sans-serif; font-size:48px; text-anchor:end;\" transform=\"rotate(0, 137.394, 725.111)\" x=\"137.394\" y=\"725.111\">1.5</text>\n",
       "</g>\n",
       "<g clip-path=\"url(#clip9001)\">\n",
       "<text style=\"fill:#000000; fill-opacity:1; font-family:Arial,Helvetica Neue,Helvetica,sans-serif; font-size:48px; text-anchor:end;\" transform=\"rotate(0, 137.394, 473.561)\" x=\"137.394\" y=\"473.561\">2.0</text>\n",
       "</g>\n",
       "<g clip-path=\"url(#clip9001)\">\n",
       "<text style=\"fill:#000000; fill-opacity:1; font-family:Arial,Helvetica Neue,Helvetica,sans-serif; font-size:48px; text-anchor:end;\" transform=\"rotate(0, 137.394, 222.01)\" x=\"137.394\" y=\"222.01\">2.5</text>\n",
       "</g>\n",
       "<polyline clip-path=\"url(#clip9003)\" style=\"stroke:#009af9; stroke-width:4; stroke-opacity:1; fill:none\" points=\"\n",
       "  222.522,1462.26 242.898,1462.26 263.275,1462.26 283.651,1462.26 304.027,1462.26 324.403,1462.25 344.779,1462.24 365.155,1462.22 385.531,1462.17 405.907,1462.09 \n",
       "  426.283,1461.95 446.659,1461.73 467.035,1461.4 487.412,1460.92 507.788,1460.24 528.164,1459.3 548.54,1458.06 568.916,1456.43 589.292,1454.34 609.668,1451.69 \n",
       "  630.044,1448.41 650.42,1444.39 670.796,1439.52 691.172,1433.7 711.549,1426.81 731.925,1418.73 752.301,1409.36 772.677,1398.57 793.053,1386.25 813.429,1372.29 \n",
       "  833.805,1356.59 854.181,1339.05 874.557,1319.58 894.933,1298.11 915.309,1274.57 935.686,1248.92 956.062,1221.11 976.438,1191.14 996.814,1159 1017.19,1124.73 \n",
       "  1037.57,1088.37 1057.94,1049.98 1078.32,1009.66 1098.69,967.53 1119.07,923.726 1139.45,878.417 1159.82,831.794 1180.2,784.075 1200.57,735.5 1220.95,686.334 \n",
       "  1241.33,636.862 1261.7,587.392 1282.08,538.249 1302.46,489.777 1322.83,442.332 1343.21,396.285 1363.58,352.013 1383.96,309.901 1404.34,270.334 1424.71,233.698 \n",
       "  1445.09,200.372 1465.46,170.725 1485.84,145.113 1506.22,123.872 1526.59,107.318 1546.97,95.7345 1567.34,89.3761 1587.72,88.4582 1608.1,93.1547 1628.47,103.593 \n",
       "  1648.85,119.849 1669.22,141.945 1689.6,169.843 1709.98,203.445 1730.35,242.586 1750.73,287.035 1771.11,336.493 1791.48,390.59 1811.86,448.888 1832.23,510.88 \n",
       "  1852.61,575.996 1872.99,643.599 1893.36,712.998 1913.74,783.449 1934.11,854.169 1954.49,924.337 1974.87,993.114 1995.24,1059.66 2015.62,1123.13 2035.99,1182.72 \n",
       "  2056.37,1237.67 2076.75,1287.31 2097.12,1331.06 2117.5,1368.48 2137.88,1399.29 2158.25,1423.43 2178.63,1441.09 2199,1452.76 2219.38,1459.27 2239.76,1461.86 \n",
       "  2260.13,1462.26 \n",
       "  \"/>\n",
       "<polygon clip-path=\"url(#clip9001)\" points=\"\n",
       "1610.62,251.724 2249.26,251.724 2249.26,130.764 1610.62,130.764 \n",
       "  \" fill=\"#ffffff\" fill-opacity=\"1\"/>\n",
       "<polyline clip-path=\"url(#clip9001)\" style=\"stroke:#000000; stroke-width:4; stroke-opacity:1; fill:none\" points=\"\n",
       "  1610.62,251.724 2249.26,251.724 2249.26,130.764 1610.62,130.764 1610.62,251.724 \n",
       "  \"/>\n",
       "<polyline clip-path=\"url(#clip9001)\" style=\"stroke:#009af9; stroke-width:4; stroke-opacity:1; fill:none\" points=\"\n",
       "  1634.62,191.244 1778.62,191.244 \n",
       "  \"/>\n",
       "<g clip-path=\"url(#clip9001)\">\n",
       "<text style=\"fill:#000000; fill-opacity:1; font-family:Arial,Helvetica Neue,Helvetica,sans-serif; font-size:48px; text-anchor:start;\" transform=\"rotate(0, 1802.62, 208.744)\" x=\"1802.62\" y=\"208.744\">Conjugate solution</text>\n",
       "</g>\n",
       "</svg>\n"
      ]
     },
     "metadata": {},
     "execution_count": 12
    }
   ],
   "cell_type": "code",
   "source": [
    "w = 6\n",
    "n = 9\n",
    "x = 0:0.01:1\n",
    "plot( x, pdf.(Beta( w+1 , n-w+1 ) , x ), lab=\"Conjugate solution\")"
   ],
   "metadata": {},
   "execution_count": 12
  },
  {
   "outputs": [],
   "cell_type": "markdown",
   "source": [
    "quadratic approximation"
   ],
   "metadata": {}
  },
  {
   "outputs": [],
   "cell_type": "code",
   "source": [
    "plot!( x, pdf.(Normal( 0.67 , 0.16 ) , x ), lab=\"Normal approximation\")\n",
    "savefig(\"s2_7.pdf\")"
   ],
   "metadata": {},
   "execution_count": 13
  },
  {
   "outputs": [],
   "cell_type": "markdown",
   "source": [
    "snippet 2.8\n",
    "The example is in stan_globe_toss.jl"
   ],
   "metadata": {}
  },
  {
   "outputs": [],
   "cell_type": "markdown",
   "source": [
    "*This notebook was generated using [Literate.jl](https://github.com/fredrikekre/Literate.jl).*"
   ],
   "metadata": {}
  }
 ],
 "nbformat_minor": 3,
 "metadata": {
  "language_info": {
   "file_extension": ".jl",
   "mimetype": "application/julia",
   "name": "julia",
   "version": "1.1.0-DEV.625"
  },
  "kernelspec": {
   "name": "julia-1.1",
   "display_name": "Julia 1.1.0-DEV.625",
   "language": "julia"
  }
 },
 "nbformat": 4
}
