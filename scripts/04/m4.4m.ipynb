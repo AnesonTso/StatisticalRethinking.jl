{
 "cells": [
  {
   "outputs": [],
   "cell_type": "code",
   "source": [
    "using StatisticalRethinking, Mamba\n",
    "\n",
    "# Data\n",
    "line = Dict{Symbol, Any}()\n",
    "\n",
    "howell1 = CSV.read(rel_path(\"..\", \"data\", \"Howell1.csv\"), delim=';')\n",
    "df = convert(DataFrame, howell1);"
   ],
   "metadata": {},
   "execution_count": 1
  },
  {
   "outputs": [],
   "cell_type": "markdown",
   "source": [
    "Use only adults"
   ],
   "metadata": {}
  },
  {
   "outputs": [
    {
     "output_type": "execute_result",
     "data": {
      "text/plain": "352×2 Array{Float64,2}:\n 1.0    2.83512\n 1.0   -8.50468\n 1.0  -13.1256 \n 1.0    8.05143\n 1.0   -3.71361\n 1.0   18.0021 \n 1.0   -6.74701\n 1.0   10.4895 \n 1.0  -10.1206 \n 1.0    9.49725\n ⋮             \n 1.0    2.89182\n 1.0   -5.58468\n 1.0   -3.94041\n 1.0   -4.16721\n 1.0    2.04133\n 1.0  -10.7443 \n 1.0    7.17259\n 1.0    9.07201\n 1.0    7.54114"
     },
     "metadata": {},
     "execution_count": 2
    }
   ],
   "cell_type": "code",
   "source": [
    "df2 = filter(row -> row[:age] >= 18, df);\n",
    "mean_weight = mean(df2[:weight])\n",
    "df2[:weight_c] = convert(Vector{Float64}, df2[:weight]) .- mean_weight ;\n",
    "line[:x] = convert(Array{Float64,1}, df2[:weight_c]);\n",
    "line[:y] = convert(Array{Float64,1}, df2[:height]);\n",
    "line[:xmat] = convert(Array{Float64,2}, [ones(length(line[:x])) line[:x]])"
   ],
   "metadata": {},
   "execution_count": 2
  },
  {
   "outputs": [],
   "cell_type": "markdown",
   "source": [
    "Model Specification"
   ],
   "metadata": {}
  },
  {
   "outputs": [
    {
     "output_type": "execute_result",
     "data": {
      "text/plain": "Object of type \"Model\"\n-------------------------------------------------------------------------------\nbeta:\nA monitored node of type \"0-element ArrayStochastic{1}\"\nFloat64[]\n-------------------------------------------------------------------------------\ny:\nAn unmonitored node of type \"0-element ArrayStochastic{1}\"\nFloat64[]\n-------------------------------------------------------------------------------\ns2:\nA monitored node of type \"ScalarStochastic\"\nNaN\n"
     },
     "metadata": {},
     "execution_count": 3
    }
   ],
   "cell_type": "code",
   "source": [
    "model = Model(\n",
    "  y = Stochastic(1,\n",
    "    (xmat, beta, s2) -> MvNormal(xmat * beta, sqrt(s2)),\n",
    "    false\n",
    "  ),\n",
    "  beta = Stochastic(1, () -> MvNormal([178, 0], [sqrt(10000), sqrt(100)])),\n",
    "  s2 = Stochastic(() -> Uniform(0, 50))\n",
    ")"
   ],
   "metadata": {},
   "execution_count": 3
  },
  {
   "outputs": [],
   "cell_type": "markdown",
   "source": [
    "Initial Values"
   ],
   "metadata": {}
  },
  {
   "outputs": [
    {
     "output_type": "execute_result",
     "data": {
      "text/plain": "3-element Array{Dict{Symbol,Any},1}:\n Dict(:beta=>[266.423, 14.8424],:y=>[151.765, 139.7, 136.525, 156.845, 145.415, 163.83, 149.225, 168.91, 147.955, 165.1  …  156.21, 160.655, 146.05, 156.21, 152.4, 162.56, 142.875, 162.56, 156.21, 158.75],:s2=>23.4891) \n Dict(:beta=>[164.094, -13.5173],:y=>[151.765, 139.7, 136.525, 156.845, 145.415, 163.83, 149.225, 168.91, 147.955, 165.1  …  156.21, 160.655, 146.05, 156.21, 152.4, 162.56, 142.875, 162.56, 156.21, 158.75],:s2=>6.59361)\n Dict(:beta=>[176.718, 9.38891],:y=>[151.765, 139.7, 136.525, 156.845, 145.415, 163.83, 149.225, 168.91, 147.955, 165.1  …  156.21, 160.655, 146.05, 156.21, 152.4, 162.56, 142.875, 162.56, 156.21, 158.75],:s2=>13.6949) "
     },
     "metadata": {},
     "execution_count": 4
    }
   ],
   "cell_type": "code",
   "source": [
    "inits = [\n",
    "  Dict{Symbol, Any}(\n",
    "    :y => line[:y],\n",
    "    :beta => [rand(Normal(178, 100)), rand(Normal(0, 10))],\n",
    "    :s2 => rand(Uniform(0, 50))\n",
    "  )\n",
    "  for i in 1:3\n",
    "]"
   ],
   "metadata": {},
   "execution_count": 4
  },
  {
   "outputs": [],
   "cell_type": "markdown",
   "source": [
    "Tuning Parameters"
   ],
   "metadata": {}
  },
  {
   "outputs": [
    {
     "output_type": "execute_result",
     "data": {
      "text/plain": "0.1"
     },
     "metadata": {},
     "execution_count": 5
    }
   ],
   "cell_type": "code",
   "source": [
    "scale1 = [0.5, 0.25]\n",
    "summary1 = identity\n",
    "eps1 = 0.5\n",
    "\n",
    "scale2 = 0.5\n",
    "summary2 = x -> [mean(x); sqrt(var(x))]\n",
    "eps2 = 0.1"
   ],
   "metadata": {},
   "execution_count": 5
  },
  {
   "outputs": [],
   "cell_type": "markdown",
   "source": [
    "Define sampling scheme"
   ],
   "metadata": {}
  },
  {
   "outputs": [
    {
     "output_type": "execute_result",
     "data": {
      "text/plain": "Object of type \"Model\"\n-------------------------------------------------------------------------------\nbeta:\nA monitored node of type \"0-element ArrayStochastic{1}\"\nFloat64[]\n-------------------------------------------------------------------------------\ny:\nAn unmonitored node of type \"0-element ArrayStochastic{1}\"\nFloat64[]\n-------------------------------------------------------------------------------\ns2:\nA monitored node of type \"ScalarStochastic\"\nNaN\n"
     },
     "metadata": {},
     "execution_count": 6
    }
   ],
   "cell_type": "code",
   "source": [
    "scheme = [\n",
    "  Mamba.NUTS([:beta]),\n",
    "  Mamba.Slice([:s2], 10)\n",
    "]\n",
    "\n",
    "setsamplers!(model, scheme)"
   ],
   "metadata": {},
   "execution_count": 6
  },
  {
   "outputs": [],
   "cell_type": "markdown",
   "source": [
    "MCMC Simulation"
   ],
   "metadata": {}
  },
  {
   "outputs": [
    {
     "name": "stdout",
     "output_type": "stream",
     "text": [
      "MCMC Simulation of 10000 Iterations x 3 Chains...\n",
      "\n",
      "Chain 1:   0% [0:01:02 of 0:01:02 remaining]\n",
      "Chain 1:  10% [0:00:04 of 0:00:04 remaining]\n",
      "Chain 1:  20% [0:00:03 of 0:00:04 remaining]\n",
      "Chain 1:  30% [0:00:02 of 0:00:03 remaining]\n",
      "Chain 1:  40% [0:00:02 of 0:00:03 remaining]\n",
      "Chain 1:  50% [0:00:02 of 0:00:03 remaining]\n",
      "Chain 1:  60% [0:00:01 of 0:00:03 remaining]\n",
      "Chain 1:  70% [0:00:01 of 0:00:03 remaining]\n",
      "Chain 1:  80% [0:00:01 of 0:00:03 remaining]\n",
      "Chain 1:  90% [0:00:00 of 0:00:03 remaining]\n",
      "Chain 1: 100% [0:00:00 of 0:00:03 remaining]\n",
      "\n",
      "Chain 2:   0% [0:00:02 of 0:00:02 remaining]\n",
      "Chain 2:  10% [0:00:03 of 0:00:03 remaining]\n",
      "Chain 2:  20% [0:00:03 of 0:00:03 remaining]\n",
      "Chain 2:  30% [0:00:02 of 0:00:03 remaining]\n",
      "Chain 2:  40% [0:00:02 of 0:00:04 remaining]\n",
      "Chain 2:  50% [0:00:02 of 0:00:04 remaining]\n",
      "Chain 2:  60% [0:00:01 of 0:00:04 remaining]\n",
      "Chain 2:  70% [0:00:01 of 0:00:04 remaining]\n",
      "Chain 2:  80% [0:00:01 of 0:00:04 remaining]\n",
      "Chain 2:  90% [0:00:00 of 0:00:04 remaining]\n",
      "Chain 2: 100% [0:00:00 of 0:00:04 remaining]\n",
      "\n",
      "Chain 3:   0% [0:00:02 of 0:00:02 remaining]\n",
      "Chain 3:  10% [0:00:03 of 0:00:03 remaining]\n",
      "Chain 3:  20% [0:00:03 of 0:00:03 remaining]\n",
      "Chain 3:  30% [0:00:02 of 0:00:03 remaining]\n",
      "Chain 3:  40% [0:00:02 of 0:00:03 remaining]\n",
      "Chain 3:  50% [0:00:02 of 0:00:03 remaining]\n",
      "Chain 3:  60% [0:00:01 of 0:00:03 remaining]\n",
      "Chain 3:  70% [0:00:01 of 0:00:03 remaining]\n",
      "Chain 3:  80% [0:00:01 of 0:00:03 remaining]\n",
      "Chain 3:  90% [0:00:00 of 0:00:03 remaining]\n",
      "Chain 3: 100% [0:00:00 of 0:00:03 remaining]\n",
      "\n"
     ]
    },
    {
     "output_type": "execute_result",
     "data": {
      "text/plain": "Object of type \"ModelChains\"\n\nIterations = 1001:10000\nThinning interval = 1\nChains = 1,2,3\nSamples per chain = 9000\n\n[27.7288 154.484 0.891121; 25.4123 154.488 0.842573; … ; 25.5058 154.994 0.922544; 25.6198 154.994 0.922544]\n\n[26.5773 154.18 0.884331; 27.2567 154.229 0.91424; … ; 29.0799 154.359 0.929681; 29.2478 154.912 0.882634]\n\n[27.1278 154.949 0.91296; 25.8437 154.366 0.870331; … ; 28.4905 154.76 0.899032; 24.272 154.303 0.919632]"
     },
     "metadata": {},
     "execution_count": 7
    }
   ],
   "cell_type": "code",
   "source": [
    "chn = mcmc(model, line, inits, 10000, burnin=1000, chains=3)"
   ],
   "metadata": {},
   "execution_count": 7
  },
  {
   "outputs": [],
   "cell_type": "markdown",
   "source": [
    "Show draws summary"
   ],
   "metadata": {}
  },
  {
   "outputs": [
    {
     "name": "stdout",
     "output_type": "stream",
     "text": [
      "Iterations = 1001:10000\n",
      "Thinning interval = 1\n",
      "Chains = 1,2,3\n",
      "Samples per chain = 9000\n",
      "\n",
      "Empirical Posterior Estimates:\n",
      "            Mean         SD        Naive SE        MCSE        ESS   \n",
      "     s2  26.19598301 2.02100467 0.01229944273 0.02023161300 9000.0000\n",
      "beta[1] 154.59221002 0.26701124 0.00162497864 0.00346794121 5928.1014\n",
      "beta[2]   0.90529554 0.04247836 0.00025851507 0.00034153963 9000.0000\n",
      "\n",
      "Quantiles:\n",
      "           2.5%       25.0%       50.0%        75.0%       97.5%   \n",
      "     s2  22.551505  24.7900347  26.0813239  27.48529167  30.4203287\n",
      "beta[1] 154.065310 154.4087161 154.5905377 154.77176562 155.1191508\n",
      "beta[2]   0.821723   0.8771722   0.9049825   0.93390273   0.9887866\n",
      "\n"
     ]
    }
   ],
   "cell_type": "code",
   "source": [
    "describe(chn)"
   ],
   "metadata": {},
   "execution_count": 8
  },
  {
   "outputs": [],
   "cell_type": "markdown",
   "source": [
    "Save, restore and check"
   ],
   "metadata": {}
  },
  {
   "outputs": [
    {
     "name": "stdout",
     "output_type": "stream",
     "text": [
      "Summary Stats:\n",
      "Mean:           117.552895\n",
      "Minimum:        0.000000\n",
      "1st Quartile:   63.000000\n",
      "Median:         99.000000\n",
      "3rd Quartile:   180.000000\n",
      "Maximum:        255.000000\n",
      "Length:         662305\n",
      "Type:           UInt8\n"
     ]
    }
   ],
   "cell_type": "code",
   "source": [
    "write(\"m4.4m.jls\", chn)\n",
    "chn1 = read(\"m4.4m.jls\")\n",
    "describe(chn1)"
   ],
   "metadata": {},
   "execution_count": 9
  },
  {
   "outputs": [],
   "cell_type": "markdown",
   "source": [
    "End of `m4.1m.jl`"
   ],
   "metadata": {}
  },
  {
   "outputs": [],
   "cell_type": "markdown",
   "source": [
    "*This notebook was generated using [Literate.jl](https://github.com/fredrikekre/Literate.jl).*"
   ],
   "metadata": {}
  }
 ],
 "nbformat_minor": 3,
 "metadata": {
  "language_info": {
   "file_extension": ".jl",
   "mimetype": "application/julia",
   "name": "julia",
   "version": "1.2.0-DEV.146"
  },
  "kernelspec": {
   "name": "julia-1.2",
   "display_name": "Julia 1.2.0-DEV.146",
   "language": "julia"
  }
 },
 "nbformat": 4
}
